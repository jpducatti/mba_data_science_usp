{
  "nbformat": 4,
  "nbformat_minor": 0,
  "metadata": {
    "colab": {
      "provenance": []
    },
    "kernelspec": {
      "name": "python3",
      "display_name": "Python 3"
    },
    "language_info": {
      "name": "python"
    }
  },
  "cells": [
    {
      "cell_type": "code",
      "execution_count": 1,
      "metadata": {
        "id": "wAp9Fp9JDWkk"
      },
      "outputs": [],
      "source": [
        "#instalando o módulo wget\n",
        "%%capture\n",
        "!pip install -q wget\n",
        "#criando pasta para salvar as bases de dados\n",
        "!mkdir data\n"
      ]
    },
    {
      "cell_type": "code",
      "source": [
        "#baixando os dados das tabelas de dimensão\n",
        "import wget\n",
        "\n",
        "url = \"https://raw.githubusercontent.com/GuiMuzziUSP/Data_Mart_BI_Solutions/main/data.csv\"\n",
        "wget.download(url, \"data/data.csv\")\n",
        "\n",
        "url = \"https://raw.githubusercontent.com/GuiMuzziUSP/Data_Mart_BI_Solutions/main/funcionario.csv\"\n",
        "wget.download(url, \"data/funcionario.csv\")\n",
        "\n",
        "url = \"https://raw.githubusercontent.com/GuiMuzziUSP/Data_Mart_BI_Solutions/main/equipe.csv\"\n",
        "wget.download(url, \"data/equipe.csv\")\n",
        "\n",
        "url = \"https://raw.githubusercontent.com/GuiMuzziUSP/Data_Mart_BI_Solutions/main/cargo.csv\"\n",
        "wget.download(url, \"data/cargo.csv\")\n",
        "\n",
        "url = \"https://raw.githubusercontent.com/GuiMuzziUSP/Data_Mart_BI_Solutions/main/cliente.csv\"\n",
        "wget.download(url, \"data/cliente.csv\")"
      ],
      "metadata": {
        "colab": {
          "base_uri": "https://localhost:8080/",
          "height": 36
        },
        "id": "N0VS2cEmDaXt",
        "outputId": "27e99068-bdab-480a-e294-9af23918470a"
      },
      "execution_count": 2,
      "outputs": [
        {
          "output_type": "execute_result",
          "data": {
            "text/plain": [
              "'data/cliente.csv'"
            ],
            "application/vnd.google.colaboratory.intrinsic+json": {
              "type": "string"
            }
          },
          "metadata": {},
          "execution_count": 2
        }
      ]
    },
    {
      "cell_type": "code",
      "source": [
        "#baixando os dados das tabelas de fatos\n",
        "url = \"https://raw.githubusercontent.com/GuiMuzziUSP/Data_Mart_BI_Solutions/main/pagamento.csv\"\n",
        "wget.download(url, \"data/pagamento.csv\")\n",
        "\n",
        "url = \"https://raw.githubusercontent.com/GuiMuzziUSP/Data_Mart_BI_Solutions/main/negociacao.csv\"\n",
        "wget.download(url, \"data/negociacao.csv\")"
      ],
      "metadata": {
        "colab": {
          "base_uri": "https://localhost:8080/",
          "height": 36
        },
        "id": "nnTOnOjwDcYU",
        "outputId": "abf346bd-fc88-4535-fdba-438538c2ca13"
      },
      "execution_count": 3,
      "outputs": [
        {
          "output_type": "execute_result",
          "data": {
            "text/plain": [
              "'data/negociacao.csv'"
            ],
            "application/vnd.google.colaboratory.intrinsic+json": {
              "type": "string"
            }
          },
          "metadata": {},
          "execution_count": 3
        }
      ]
    },
    {
      "cell_type": "code",
      "source": [
        "#instalando Java Runtime Environment (JRE) versão 8\n",
        "%%capture\n",
        "!apt-get remove openjdk*\n",
        "!apt-get update --fix-missing\n",
        "!apt-get install openjdk-8-jdk-headless -qq > /dev/null"
      ],
      "metadata": {
        "id": "oEU_vW2bDeR_"
      },
      "execution_count": 4,
      "outputs": []
    },
    {
      "cell_type": "code",
      "source": [
        "#baixando Apache Spark versão 3.0.0\n",
        "%%capture\n",
        "!wget -q https://archive.apache.org/dist/spark/spark-3.0.0/spark-3.0.0-bin-hadoop2.7.tgz\n",
        "!tar xf spark-3.0.0-bin-hadoop2.7.tgz && rm spark-3.0.0-bin-hadoop2.7.tgz"
      ],
      "metadata": {
        "id": "hZ8hkUXqDgak"
      },
      "execution_count": 5,
      "outputs": []
    },
    {
      "cell_type": "code",
      "source": [
        "import os\n",
        "#configurando a variável de ambiente JAVA_HOME\n",
        "os.environ[\"JAVA_HOME\"] = \"/usr/lib/jvm/java-8-openjdk-amd64\"\n",
        "#configurando a variável de ambiente SPARK_HOME\n",
        "os.environ[\"SPARK_HOME\"] = \"/content/spark-3.0.0-bin-hadoop2.7\""
      ],
      "metadata": {
        "id": "US1a2DOfDh58"
      },
      "execution_count": 6,
      "outputs": []
    },
    {
      "cell_type": "code",
      "source": [
        "%%capture\n",
        "#instalando o pacote findspark\n",
        "!pip install -q findspark==1.4.2\n",
        "#instalando o pacote pyspark\n",
        "!pip install -q pyspark==3.0.0"
      ],
      "metadata": {
        "id": "cEe9FVBCDlqa"
      },
      "execution_count": 7,
      "outputs": []
    },
    {
      "cell_type": "code",
      "source": [
        "#importando o módulo findspark\n",
        "import findspark\n",
        "#carregando a variávels SPARK_HOME na variável dinâmica PYTHONPATH\n",
        "findspark.init()"
      ],
      "metadata": {
        "id": "H8BYAGqTDn2y"
      },
      "execution_count": 8,
      "outputs": []
    },
    {
      "cell_type": "code",
      "source": [
        "from pyspark.sql import SparkSession\n",
        "\n",
        "spark = SparkSession.builder.appName(\"pyspark-notebook\").master(\"local[*]\").getOrCreate()"
      ],
      "metadata": {
        "id": "RVQMwvukDpmZ"
      },
      "execution_count": 13,
      "outputs": []
    },
    {
      "cell_type": "code",
      "source": [
        "#criando e exibindo o DataFrame para a tabela de dimensão cargo\n",
        "cargo = spark.read.csv(path=\"data/cargo.csv\", header=True, sep=\",\")\n",
        "cargo.show(5)\n"
      ],
      "metadata": {
        "colab": {
          "base_uri": "https://localhost:8080/"
        },
        "id": "l_NioBbEDrVA",
        "outputId": "3396c804-747e-47bb-c796-232065961453"
      },
      "execution_count": 14,
      "outputs": [
        {
          "output_type": "stream",
          "name": "stdout",
          "text": [
            "+-------+--------------------+-------------------+--------------------+-----------------------+----------+\n",
            "|cargoPK|           cargoNome|cargoRegimeTrabalho|cargoJornadaTrabalho|cargoEscolaridadeMinima|cargoNivel|\n",
            "+-------+--------------------+-------------------+--------------------+-----------------------+----------+\n",
            "|      1|PROGRAMADOR DE SI...|         TEMPORARIO|                 20H|                  MEDIO|    JUNIOR|\n",
            "|      2|PROGRAMADOR DE SI...|         TEMPORARIO|                 20H|               SUPERIOR|     PLENO|\n",
            "|      3|PROGRAMADOR DE SI...|         TEMPORARIO|                 20H|                    POS|    SENIOR|\n",
            "|      4|PROGRAMADOR DE SI...|         TEMPORARIO|                 40H|                  MEDIO|    JUNIOR|\n",
            "|      5|PROGRAMADOR DE SI...|         TEMPORARIO|                 40H|               SUPERIOR|     PLENO|\n",
            "+-------+--------------------+-------------------+--------------------+-----------------------+----------+\n",
            "only showing top 5 rows\n",
            "\n"
          ]
        }
      ]
    },
    {
      "cell_type": "code",
      "source": [
        "#criando e exibindo o DataFrame para a tabela de dimensão cliente\n",
        "cliente = spark.read.csv(path=\"data/cliente.csv\", header=True, sep=\",\")\n",
        "cliente.show(5)"
      ],
      "metadata": {
        "colab": {
          "base_uri": "https://localhost:8080/"
        },
        "id": "xquQvKGFDtZW",
        "outputId": "52708769-6f0f-43b1-e373-a2583254deb3"
      },
      "execution_count": 15,
      "outputs": [
        {
          "output_type": "stream",
          "name": "stdout",
          "text": [
            "+---------+-------------------+-------------------+-------------+-----------------+------------------+-----------------+------------------+---------------+----------------+\n",
            "|clientePK|clienteNomeFantasia|       clienteSetor|clienteCidade|clienteEstadoNome|clienteEstadoSigla|clienteRegiaoNome|clienteRegiaoSigla|clientePaisNome|clientePaisSigla|\n",
            "+---------+-------------------+-------------------+-------------+-----------------+------------------+-----------------+------------------+---------------+----------------+\n",
            "|        1|           VIA FOOD|BEBIDAS E ALIMENTOS|    SAO PAULO|        SAO PAULO|                SP|          SUDESTE|                SE|         BRASIL|              BR|\n",
            "|        2|          VIA PIZZA|BEBIDAS E ALIMENTOS|    SAO PAULO|        SAO PAULO|                SP|          SUDESTE|                SE|         BRASIL|              BR|\n",
            "|        3|           VIA JAPA|BEBIDAS E ALIMENTOS|    SAO PAULO|        SAO PAULO|                SP|          SUDESTE|                SE|         BRASIL|              BR|\n",
            "|        4|            VIA VEG|BEBIDAS E ALIMENTOS|    SAO PAULO|        SAO PAULO|                SP|          SUDESTE|                SE|         BRASIL|              BR|\n",
            "|        5|          VIA DRINK|BEBIDAS E ALIMENTOS|   SAO CARLOS|        SAO PAULO|                SP|          SUDESTE|                SE|         BRASIL|              BR|\n",
            "+---------+-------------------+-------------------+-------------+-----------------+------------------+-----------------+------------------+---------------+----------------+\n",
            "only showing top 5 rows\n",
            "\n"
          ]
        }
      ]
    },
    {
      "cell_type": "code",
      "source": [
        "#criando e exibindo o DataFrame para a tabela de dimensão data\n",
        "data = spark.read.csv(path=\"data/data.csv\", header=True, sep=\",\") \n",
        "data.show(5)"
      ],
      "metadata": {
        "colab": {
          "base_uri": "https://localhost:8080/"
        },
        "id": "jbu7_eu-DvWr",
        "outputId": "86165f0f-7581-4a85-bf39-a929d22b4f0c"
      },
      "execution_count": 16,
      "outputs": [
        {
          "output_type": "stream",
          "name": "stdout",
          "text": [
            "+------+------------+-------+-------+------------+-------------+------------+-------+\n",
            "|dataPK|dataCompleta|dataDia|dataMes|dataBimestre|dataTrimestre|dataSemestre|dataAno|\n",
            "+------+------------+-------+-------+------------+-------------+------------+-------+\n",
            "|     1|    1/1/2016|      1|      1|           1|            1|           1|   2016|\n",
            "|     2|    2/1/2016|      2|      1|           1|            1|           1|   2016|\n",
            "|     3|    3/1/2016|      3|      1|           1|            1|           1|   2016|\n",
            "|     4|    4/1/2016|      4|      1|           1|            1|           1|   2016|\n",
            "|     5|    5/1/2016|      5|      1|           1|            1|           1|   2016|\n",
            "+------+------------+-------+-------+------------+-------------+------------+-------+\n",
            "only showing top 5 rows\n",
            "\n"
          ]
        }
      ]
    },
    {
      "cell_type": "code",
      "source": [
        "#criando e exibindo o DataFrame para a tabela de dimensão equipe\n",
        "equipe = spark.read.csv(path=\"data/equipe.csv\", header=True, sep=\",\")\n",
        "equipe.show(5)"
      ],
      "metadata": {
        "colab": {
          "base_uri": "https://localhost:8080/"
        },
        "id": "6G-LA8OtDxNT",
        "outputId": "0253240f-da90-420b-8d50-248120996683"
      },
      "execution_count": 17,
      "outputs": [
        {
          "output_type": "stream",
          "name": "stdout",
          "text": [
            "+--------+-------------+--------------------+--------------+------------------+-----------------+----------------+-----------------+--------------+---------------+\n",
            "|equipePK|   equipeNome|          filialNome|  filialCidade|  filialEstadoNome|filialEstadoSigla|filialRegiaoNome|filialRegiaoSigla|filialPaisNome|filialPaisSigla|\n",
            "+--------+-------------+--------------------+--------------+------------------+-----------------+----------------+-----------------+--------------+---------------+\n",
            "|       1|APP - DESKTOP|SAO PAULO - AV. P...|     SAO PAULO|         SAO PAULO|               SP|         SUDESTE|               SE|        BRASIL|             BR|\n",
            "|       2|APP - DESKTOP|RIO DE JANEIRO - ...|RIO DE JANEIRO|    RIO DE JANEIRO|               RJ|         SUDESTE|               SE|        BRASIL|             BR|\n",
            "|       3|          WEB|SAO PAULO - AV. P...|     SAO PAULO|         SAO PAULO|               SP|         SUDESTE|               SE|        BRASIL|             BR|\n",
            "|       4|          WEB|RIO DE JANEIRO - ...|RIO DE JANEIRO|    RIO DE JANEIRO|               RJ|         SUDESTE|               SE|        BRASIL|             BR|\n",
            "|       5|          WEB|CAMPO GRANDE - CE...|  CAMPO GRANDE|MATO GROSSO DO SUL|               MS|    CENTRO-OESTE|               CO|        BRASIL|             BR|\n",
            "+--------+-------------+--------------------+--------------+------------------+-----------------+----------------+-----------------+--------------+---------------+\n",
            "only showing top 5 rows\n",
            "\n"
          ]
        }
      ]
    },
    {
      "cell_type": "code",
      "source": [
        "#criando e exibindo o DataFrame para a tabela de fatos funcionario\n",
        "funcionario = spark.read.csv(path=\"data/funcionario.csv\", header=True, sep=\",\")\n",
        "funcionario.show(5)"
      ],
      "metadata": {
        "colab": {
          "base_uri": "https://localhost:8080/"
        },
        "id": "RBIwSq8tDywZ",
        "outputId": "bcce5e4f-fd7b-48a7-c4bf-4e416c6b2ffd"
      },
      "execution_count": 18,
      "outputs": [
        {
          "output_type": "stream",
          "name": "stdout",
          "text": [
            "+------+-------------+-------------+--------+------------------+-----------------+-----------------+-----------------+-----------+--------------+---------------+--------------+---------------+------------+-------------+\n",
            "|funcPK|funcMatricula|     funcNome|funcSexo|funcDataNascimento|funcDiaNascimento|funcMesNascimento|funcAnoNascimento| funcCidade|funcEstadoNome|funcEstadoSigla|funcRegiaoNome|funcRegiaoSigla|funcPaisNome|funcPaisSigla|\n",
            "+------+-------------+-------------+--------+------------------+-----------------+-----------------+-----------------+-----------+--------------+---------------+--------------+---------------+------------+-------------+\n",
            "|     1|          M-1|ALINE ALMEIDA|       F|          1/1/1990|                1|                1|             1990|  SAO PAULO|     SAO PAULO|             SP|       SUDESTE|             SE|      BRASIL|           BR|\n",
            "|     2|          M-2|   ARAO ALVES|       M|          2/2/1990|                2|                2|             1990|   CAMPINAS|     SAO PAULO|             SP|       SUDESTE|             SE|      BRASIL|           BR|\n",
            "|     3|          M-3| ARON ANDRADE|       M|          3/3/1990|                3|                3|             1990|     SANTOS|     SAO PAULO|             SP|       SUDESTE|             SE|      BRASIL|           BR|\n",
            "|     4|          M-4|  ADA BARBOSA|       F|          4/4/1990|                4|                4|             1990|SANTO ANDRE|     SAO PAULO|             SP|       SUDESTE|             SE|      BRASIL|           BR|\n",
            "|     5|          M-5|ABADE BATISTA|       M|          5/5/1990|                5|                5|             1990| PIRACICABA|     SAO PAULO|             SP|       SUDESTE|             SE|      BRASIL|           BR|\n",
            "+------+-------------+-------------+--------+------------------+-----------------+-----------------+-----------------+-----------+--------------+---------------+--------------+---------------+------------+-------------+\n",
            "only showing top 5 rows\n",
            "\n"
          ]
        }
      ]
    },
    {
      "cell_type": "code",
      "source": [
        "#criando e exibindo o DataFrame para a tabela de fatos negociacao\n",
        "negociacao = spark.read.csv(path=\"data/negociacao.csv\", header=True, sep=\",\")\n",
        "negociacao.show(5)"
      ],
      "metadata": {
        "colab": {
          "base_uri": "https://localhost:8080/"
        },
        "id": "Vpjo9sw4D0T4",
        "outputId": "23262d22-8c48-47f4-d6d8-075c7dad8ec1"
      },
      "execution_count": 19,
      "outputs": [
        {
          "output_type": "stream",
          "name": "stdout",
          "text": [
            "+--------+---------+------+--------+---------------------+\n",
            "|equipePK|clientePK|dataPK| receita|quantidadeNegociacoes|\n",
            "+--------+---------+------+--------+---------------------+\n",
            "|       2|        9|    22|11564.75|                    1|\n",
            "|       2|       24|    11| 17990.5|                    1|\n",
            "|       2|       28|    21| 16335.9|                    1|\n",
            "|       1|       30|    23| 8495.55|                    1|\n",
            "|       2|       43|    30|24748.75|                    1|\n",
            "+--------+---------+------+--------+---------------------+\n",
            "only showing top 5 rows\n",
            "\n"
          ]
        }
      ]
    },
    {
      "cell_type": "code",
      "source": [
        "#criando e exibindo o DataFrame para a tabela de fatos pagamento\n",
        "pagamento = spark.read.csv(path=\"data/pagamento.csv\", header=True, sep=\",\")\n",
        "pagamento.show()"
      ],
      "metadata": {
        "colab": {
          "base_uri": "https://localhost:8080/"
        },
        "id": "ke39iJnTD2xP",
        "outputId": "c51425ca-6864-461b-8392-ee18d9f5ef93"
      },
      "execution_count": 20,
      "outputs": [
        {
          "output_type": "stream",
          "name": "stdout",
          "text": [
            "+------+--------+------+-------+--------+---------------------+\n",
            "|funcPK|equipePK|dataPK|cargoPK| salario|quantidadeLancamentos|\n",
            "+------+--------+------+-------+--------+---------------------+\n",
            "|   147|       2|     5|     64| 1559.94|                    1|\n",
            "|   124|       2|     5|    329| 8102.77|                    1|\n",
            "|   175|       1|     5|    328| 2532.51|                    1|\n",
            "|   171|       1|     5|    245|  7882.7|                    1|\n",
            "|   148|       2|     5|     65| 4404.59|                    1|\n",
            "|     5|       2|     5|    112| 2226.66|                    1|\n",
            "|   128|       1|     5|    341| 6157.04|                    1|\n",
            "|    82|       2|     5|     43| 1585.51|                    1|\n",
            "|    28|       1|     5|    253| 1594.02|                    1|\n",
            "|    46|       1|     5|    390| 9880.16|                    1|\n",
            "|    91|       2|     5|    233|10931.47|                    1|\n",
            "|   176|       2|     5|    241| 2005.49|                    1|\n",
            "|   172|       1|     5|    351|14218.28|                    1|\n",
            "|   155|       1|     5|    121| 2002.57|                    1|\n",
            "|    19|       2|     5|    223| 1778.26|                    1|\n",
            "|    94|       1|     5|    394|  2505.1|                    1|\n",
            "|    26|       2|     5|    350| 9162.46|                    1|\n",
            "|    55|       2|     5|    313| 3215.53|                    1|\n",
            "|    29|       1|     5|     62| 4128.44|                    1|\n",
            "|   181|       1|     5|    249|11082.75|                    1|\n",
            "+------+--------+------+-------+--------+---------------------+\n",
            "only showing top 20 rows\n",
            "\n"
          ]
        }
      ]
    },
    {
      "cell_type": "code",
      "source": [
        "#criando as visões temporárias para as tabelas de dimensão\n",
        "cargo.createOrReplaceTempView(\"cargo\")\n",
        "cliente.createOrReplaceTempView(\"cliente\")\n",
        "data.createOrReplaceTempView(\"data\")\n",
        "equipe.createOrReplaceTempView(\"equipe\")\n",
        "funcionario.createOrReplaceTempView(\"funcionario\")"
      ],
      "metadata": {
        "id": "-Eb28YSVD4sY"
      },
      "execution_count": 21,
      "outputs": []
    },
    {
      "cell_type": "code",
      "source": [
        "#criando a visão temporária para as tabelas de fatos\n",
        "negociacao.createOrReplaceTempView(\"negociacao\")\n",
        "pagamento.createOrReplaceTempView(\"pagamento\")"
      ],
      "metadata": {
        "id": "CQUnrE3ZD6Zv"
      },
      "execution_count": 22,
      "outputs": []
    },
    {
      "cell_type": "code",
      "source": [],
      "metadata": {
        "id": "qWE2x3MWD_Ex"
      },
      "execution_count": null,
      "outputs": []
    },
    {
      "cell_type": "markdown",
      "source": [
        "Exercício 7\n",
        "\n",
        "\n",
        "Compare a quantidade de negociações que cada uma das equipes realizou nos anos de 2018 e 2019. Devem ser exibidas as colunas na ordem e com os nomes especificados a seguir: \"NOME DA EQUIPE\", \"NOME DA FILIAL\", \"NEGOCIACOES 2018\", \"NEGOCIACOES 2019\". Ordene as linhas exibidas pelo nome da equipe em ordem ascendente e depois pelo nome da filial em ordem ascendente. Liste as primeiras 25 linhas da resposta, sem truncamento das strings.\n",
        "\n",
        "Dica: Considere relacionar as equipes por meio da operação drill-across."
      ],
      "metadata": {
        "id": "dABTTOZ9EAZ4"
      }
    },
    {
      "cell_type": "code",
      "source": [
        "query = \"\"\"\n",
        "\n",
        "with df_2018 as (\n",
        "select \n",
        "n.equipePK,\n",
        "sum(quantidadeNegociacoes) as sum_quantidadeNegociacao2018\n",
        "from negociacao as n\n",
        "left join data as d on d. dataPK = n.dataPK\n",
        "where dataAno = 2018 \n",
        "group by 1\n",
        ")\n",
        "\n",
        ",df_2019 as (\n",
        "select \n",
        "n.equipePK,\n",
        "sum(quantidadeNegociacoes) as sum_quantidadeNegociacao2019\n",
        "from negociacao as n\n",
        "left join data as d on d.dataPK = n.dataPK\n",
        "where dataAno = 2019 \n",
        "group by 1\n",
        ")\n",
        "\n",
        "--fazendo drillaccross\n",
        ",df_final as(\n",
        "\n",
        "Select \n",
        "a.*,\n",
        "b.sum_quantidadeNegociacao2019\n",
        "from df_2018 as a\n",
        "left join df_2019 as b on b.equipePK = a.equipePK\n",
        "order by 1 \n",
        "\n",
        "\n",
        ")\n",
        "\n",
        "select \n",
        "a.equipePK as `NOME DA EQUIPE`,\n",
        "filialNome as `NOME DA FILIAL`,\n",
        "sum_quantidadeNegociacao2018 as `NEGOCIACOES 2018`,\n",
        "sum_quantidadeNegociacao2019 as `NEGOCIACOES 2019`\n",
        "from df_final as a \n",
        "left join equipe as b on b.equipePK = a.equipePK \n",
        "order by 1,2\n",
        "\n",
        "\"\"\"\n",
        "spark.sql(query).show()"
      ],
      "metadata": {
        "colab": {
          "base_uri": "https://localhost:8080/"
        },
        "id": "xFNqKs2AzrJW",
        "outputId": "f79fafbd-16f2-4501-db04-f1c2947bc054"
      },
      "execution_count": 54,
      "outputs": [
        {
          "output_type": "stream",
          "name": "stdout",
          "text": [
            "+--------+----------------------------+----------------------------+\n",
            "|equipePK|sum_quantidadeNegociacao2018|sum_quantidadeNegociacao2019|\n",
            "+--------+----------------------------+----------------------------+\n",
            "|       1|                       132.0|                       135.0|\n",
            "|       2|                       149.0|                       135.0|\n",
            "|       3|                        76.0|                        87.0|\n",
            "|       4|                        91.0|                       106.0|\n",
            "|       5|                       100.0|                        95.0|\n",
            "|       6|                       104.0|                       108.0|\n",
            "|       7|                        99.0|                       112.0|\n",
            "|       8|                        98.0|                        88.0|\n",
            "+--------+----------------------------+----------------------------+\n",
            "\n"
          ]
        }
      ]
    },
    {
      "cell_type": "code",
      "source": [
        "query = \"\"\"\n",
        "\n",
        "select \n",
        "  negociacoes2018.equipeNome `NOME DA EQUIPE`,\n",
        "  negociacoes2018.filialNome `NOME DA FILIAL`,\n",
        "  total2018 `NEGOCIACOES 2018`,\n",
        "  total2019 `NEGOCIACOES 2019`\n",
        "from (select negociacao.equipePK, equipeNome, filialNome, sum(CAST(quantidadeNegociacoes as INTEGER))as total2018\n",
        "      from negociacao \n",
        "      join data on data.dataPK = negociacao.dataPK\n",
        "      join equipe on equipe.equipePK = negociacao.equipePK\n",
        "      where data.dataAno = 2018\n",
        "      group by 1,2,3) as negociacoes2018\n",
        " JOIN \n",
        "    (\n",
        "      select negociacao.equipePK, equipeNome, filialNome, sum(CAST(quantidadeNegociacoes as INTEGER))as total2019\n",
        "      from negociacao \n",
        "      join data on data.dataPK = negociacao.dataPK\n",
        "      join equipe on equipe.equipePK = negociacao.equipePK\n",
        "      where data.dataAno = 2019\n",
        "      group by 1,2,3\n",
        "      )   as negociacoes2019 on negociacoes2018.equipePK = negociacoes2019.equipePK\n",
        "\n",
        "      order by negociacoes2018.equipeNome, negociacoes2018.filialNome\n",
        "\n",
        "\n",
        "\n",
        "\"\"\"\n",
        "spark.sql(query).show()"
      ],
      "metadata": {
        "colab": {
          "base_uri": "https://localhost:8080/"
        },
        "id": "I9eBu3ge58vl",
        "outputId": "d88ad678-3fa0-40fb-9a84-61027a37a85c"
      },
      "execution_count": 62,
      "outputs": [
        {
          "output_type": "stream",
          "name": "stdout",
          "text": [
            "+--------------+--------------------+----------------+----------------+\n",
            "|NOME DA EQUIPE|      NOME DA FILIAL|NEGOCIACOES 2018|NEGOCIACOES 2019|\n",
            "+--------------+--------------------+----------------+----------------+\n",
            "| APP - DESKTOP|RIO DE JANEIRO - ...|             149|             135|\n",
            "| APP - DESKTOP|SAO PAULO - AV. P...|             132|             135|\n",
            "|  APP - MOBILE|CAMPO GRANDE - CE...|              98|              88|\n",
            "|  APP - MOBILE|RIO DE JANEIRO - ...|              99|             112|\n",
            "|  APP - MOBILE|SAO PAULO - AV. P...|             104|             108|\n",
            "|           WEB|CAMPO GRANDE - CE...|             100|              95|\n",
            "|           WEB|RIO DE JANEIRO - ...|              91|             106|\n",
            "|           WEB|SAO PAULO - AV. P...|              76|              87|\n",
            "+--------------+--------------------+----------------+----------------+\n",
            "\n"
          ]
        }
      ]
    },
    {
      "cell_type": "markdown",
      "source": [
        "Exercício 8 \n",
        "\n",
        "Liste os setores dos clientes e a soma de suas respectivas receitas para o segundo semestre do ano de 2020. Devem ser exibidas as colunas na ordem e com os nomes especificados a seguir: \"SETOR DO CLIENTE\", \"TOTAL DE RECEITAS\". Ordene as linhas exibidas pelo total de receitas em ordem descendente. Liste as primeiras 25 linhas da resposta, sem truncamento das *strings*."
      ],
      "metadata": {
        "id": "CuSlLPR9EEJY"
      }
    },
    {
      "cell_type": "code",
      "source": [
        "query = \"\"\"\n",
        "\n",
        "select \n",
        "clienteSetor as `SETOR DO CLIENTE`,\n",
        "round(sum(receita),2) as `TOTAL DE RECEITAS`\n",
        "from negociacao as n \n",
        "inner join data as d on d.dataPK= n.dataPK and d.dataAno= 2020 and d.dataSemestre = 2\n",
        "left join cliente as c on c.clientePK = n.clientePK \n",
        "group by 1 \n",
        "\"\"\"\n",
        "spark.sql(query).show()"
      ],
      "metadata": {
        "colab": {
          "base_uri": "https://localhost:8080/"
        },
        "id": "-t38_It9_KiR",
        "outputId": "cc8e6945-6432-4f32-a10a-fa511bfbc528"
      },
      "execution_count": 64,
      "outputs": [
        {
          "output_type": "stream",
          "name": "stdout",
          "text": [
            "+-------------------+-----------------+\n",
            "|   SETOR DO CLIENTE|TOTAL DE RECEITAS|\n",
            "+-------------------+-----------------+\n",
            "|BEBIDAS E ALIMENTOS|        5749704.7|\n",
            "|          VESTUARIO|        2336266.5|\n",
            "|              SAUDE|        3119775.3|\n",
            "|            CREDITO|         998789.6|\n",
            "|         TECNOLOGIA|       2465926.05|\n",
            "+-------------------+-----------------+\n",
            "\n"
          ]
        }
      ]
    },
    {
      "cell_type": "markdown",
      "source": [
        " Exercício 9 \n",
        "\n",
        "Analise a resposta do Exercício 8 para identificar qual o setor do cliente que obteve o maior total de receitas. Mostre o total de receitas por mês para esse setor do cliente, considerando o segundo semestre do ano de 2020. Devem ser exibidas as colunas na ordem e com os nomes especificados a seguir: \"MES\", \"TOTAL DE RECEITAS\". Ordene as linhas exibidas pelo total de receitas em ordem descendente e depois pelo mês em ordem descendente. Liste as primeiras 25 linhas da resposta, sem truncamento das *strings*."
      ],
      "metadata": {
        "id": "LidaKhqaEHdY"
      }
    },
    {
      "cell_type": "code",
      "source": [
        "query = \"\"\"\n",
        "select\n",
        "dataMes as MES,\n",
        "round(sum(receita),2) as `TOTAL DE RECEITAS` \n",
        "from negociacao as n \n",
        "inner join  data as d on d.dataPK = n.dataPK and d.dataAno= 2020 and d.dataSemestre = 2\n",
        "inner join cliente as c on c.clientePK = n.clientePK and c.clienteSetor =  'BEBIDAS E ALIMENTOS'\n",
        "group by 1\n",
        "order by 2 desc\n",
        "\"\"\"\n",
        "spark.sql(query).show()"
      ],
      "metadata": {
        "colab": {
          "base_uri": "https://localhost:8080/"
        },
        "id": "wJ_4QHWNAYrT",
        "outputId": "23c08773-0a0f-4c55-eb62-4dba0ac436f2"
      },
      "execution_count": 67,
      "outputs": [
        {
          "output_type": "stream",
          "name": "stdout",
          "text": [
            "+---+-----------------+\n",
            "|MES|TOTAL DE RECEITAS|\n",
            "+---+-----------------+\n",
            "| 11|        1156403.3|\n",
            "| 10|        1091389.5|\n",
            "| 12|         899122.7|\n",
            "|  9|        877223.55|\n",
            "|  8|         875934.3|\n",
            "|  7|        849631.35|\n",
            "+---+-----------------+\n",
            "\n"
          ]
        }
      ]
    },
    {
      "cell_type": "markdown",
      "source": [
        " Exercício 10 \n",
        "\n",
        "Analise a resposta do Exercício 9 para identificar qual mês gerou o maior total de receitas para o setor de cliente identificado no Exercício 8. Mostre o total de receitas das equipes, considerando o segundo semestre do ano de 2020, o setor de cliente identificado no Exercício 8 e o mês identificado no Exercício 9. Devem ser exibidas as colunas na ordem e com os nomes especificados a seguir: \"NOME DA EQUIPE\", \"NOME DA FILIAL\", \"TOTAL DE RECEITAS\". Ordene as linhas exibidas pelo pelo nome da equipe em ordem ascendente, e depois pelo nome da filial em ordem ascendente. Liste as primeiras 25 linhas da resposta, sem truncamento das *strings*  "
      ],
      "metadata": {
        "id": "TWtZMhpvEKYp"
      }
    },
    {
      "cell_type": "code",
      "source": [
        "query = \"\"\"\n",
        "select \n",
        "e.equipeNome as `NOME DA EQUIPE` ,\n",
        "filialNome `NOME DA FILIAL` ,\n",
        "round(sum(receita),2) as `TOTAL DE RECEITAS`  \n",
        "from negociacao as n \n",
        "inner join  data as d on d.dataPK = n.dataPK and d.dataAno= 2020 and d.dataSemestre = 2 and d.dataMes = 11 \n",
        "inner join cliente as c on c.clientePK = n.clientePK and c.clienteSetor =  'BEBIDAS E ALIMENTOS'\n",
        "left join equipe as e on e.equipePK = n.equipePK\n",
        "group by 1,2\n",
        "\n",
        "order by 1 asc\n",
        "\"\"\"\n",
        "spark.sql(query).show()"
      ],
      "metadata": {
        "colab": {
          "base_uri": "https://localhost:8080/"
        },
        "id": "FYn7_h-2AZbN",
        "outputId": "7a7fdf99-3dd7-4914-ed31-199343480ab3"
      },
      "execution_count": 73,
      "outputs": [
        {
          "output_type": "stream",
          "name": "stdout",
          "text": [
            "+--------------+--------------------+-----------------+\n",
            "|NOME DA EQUIPE|      NOME DA FILIAL|TOTAL DE RECEITAS|\n",
            "+--------------+--------------------+-----------------+\n",
            "| APP - DESKTOP|SAO PAULO - AV. P...|         129409.4|\n",
            "| APP - DESKTOP|RIO DE JANEIRO - ...|         35645.65|\n",
            "|  APP - MOBILE|CAMPO GRANDE - CE...|         48714.45|\n",
            "|  APP - MOBILE|SAO PAULO - AV. P...|         26571.85|\n",
            "|  APP - MOBILE|RIO DE JANEIRO - ...|          62138.7|\n",
            "|BI & ANALYTICS|SAO PAULO - AV. P...|        149490.15|\n",
            "|BI & ANALYTICS|     RECIFE - CENTRO|        527169.75|\n",
            "|           WEB|CAMPO GRANDE - CE...|         20042.75|\n",
            "|           WEB|SAO PAULO - AV. P...|          88624.5|\n",
            "|           WEB|RIO DE JANEIRO - ...|          68596.1|\n",
            "+--------------+--------------------+-----------------+\n",
            "\n"
          ]
        }
      ]
    }
  ]
}