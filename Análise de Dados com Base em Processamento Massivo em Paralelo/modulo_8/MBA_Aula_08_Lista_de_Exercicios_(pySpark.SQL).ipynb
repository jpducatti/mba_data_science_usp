{
  "nbformat": 4,
  "nbformat_minor": 0,
  "metadata": {
    "colab": {
      "provenance": [],
      "collapsed_sections": [
        "WtUGn-uyBJWY",
        "gBaQWmfzkYdF",
        "z8MxhBV6mBmR",
        "WQFYmNbrs6gZ",
        "EM_lc4wAqwjQ",
        "_FYAnVsGf-vm",
        "ezQ3qIR1xTI8",
        "mrch9vLgjl_H",
        "flk6RXGRLhs8",
        "MFvln3nMv3oq",
        "sJhFyXwkvTIH",
        "U4SQpqjiCTw4",
        "1LzjS9SUzymp",
        "H0H1NxQ65H8V",
        "rH96L5MqbVif",
        "B5rg_-r4dA6z",
        "zLTMTwIbecTz",
        "QNAasgklzke5",
        "tl_EBG_25itp",
        "NyM9nbLXD_1F",
        "ovQ_4BY-Gspn",
        "KEK53WNrMGAS",
        "iyA5YJ6YR2UK",
        "X4z-vBThpbPM",
        "2AGzCpCrqNVD",
        "QCj6gzu1qUyy",
        "AOtTCxQnqsgN",
        "2VzVeDEJq3-w",
        "mtvB_NgWakPQ",
        "ehosf7hhvQad",
        "nbw6ke2HpdQ_",
        "mcTetYU1eBIP",
        "W_f4AWN3p2zK",
        "fjFpZzAUrTFO",
        "MABYjSYf7L4g",
        "crCnMYwi7rIm",
        "h1kRDhciLQnj",
        "7D-E4clhKZgE",
        "UtJILugUN2K_",
        "mTjo_CX1G5jy",
        "UPpMbZHLoB8S",
        "y-Qr1v9UoGQa",
        "OcaRLxX_Jd1w",
        "varyr5djDP2s",
        "RAqNkANBOZSI"
      ]
    },
    "kernelspec": {
      "name": "python3",
      "display_name": "Python 3"
    }
  },
  "cells": [
    {
      "cell_type": "markdown",
      "metadata": {
        "id": "flekT6GFDN6m"
      },
      "source": [
        "# <span style=\"color:blue\">MBA em Ciência de Dados</span>\n",
        "# <span style=\"color:blue\">Análise de Dados com Base em Processamento Massivo em Paralelo</span>\n",
        "\n",
        "## <span style=\"color:blue\">Aula 08: Explorando o Módulo pyspark.sql</span>\n",
        "## <span style=\"color:blue\">Lista de Exercícios</span>\n",
        "\n",
        "**Material Produzido por:**<br>\n",
        ">**Profa. Dra. Cristina Dutra de Aguiar**<br>\n",
        "\n",
        "**CEMEAI - ICMC/USP São Carlos**\n",
        "\n",
        "Esta lista contém os exercícios referentes à Aula 08. Por favor, procure por \"Exercício\" para encontrar a especificação dos exercícios e as suas respectivas respostas. Também é possível localizar os exercícios utilizando o menu de navegação. Por completude, o *notebook* possui todas as descrições apresentadas na parte prática da Aula 08. Recomenda-se fortemente que a lista de exercícios seja respondida antes de se consultar as respostas dos exercícios.\n",
        "\n",
        "**IMPORTANTE: O uso do *framework* Spark requer diversas configurações no ambiente de desenvolvimento para executar o *notebook*. Dado que tal complexidade foge do escopo de nossa disciplina, recomenda-se que o *notebook* seja executado na plataforma de desenvolvimento COLAB. O uso do COLAB  proporciona um ambiente de desenvolvimento pré-configurado e remove a complexidade de instalação e configuração de pacotes e *frameworks* que são utilizados na disciplina.**"
      ]
    },
    {
      "cell_type": "markdown",
      "metadata": {
        "id": "3o3dN_WLQcyD"
      },
      "source": [
        "#1 Constelação de Fatos da BI Solutions\n",
        "\n",
        "A aplicação de *data warehousing* da BI Solutions utiliza como base uma contelação de fatos, conforme descrita a seguir.\n",
        "\n",
        "**Tabelas de dimensão**\n",
        "\n",
        "- data (dataPK, dataCompleta, dataDia, dataMes, dataBimestre, dataTrimestre, dataSemestre, dataAno)\n",
        "- funcionario (funcPK, funcMatricula, funcNome, funcSexo, funcDataNascimento, funcDiaNascimento, funcMesNascimento, funcAnoNascimento, funcCidade, funcEstadoNome, funcEstadoSigla, funcRegiaoNome, funcRegiaoSigla, funcPaisNome, funcPaisSigla)\n",
        "- equipe (equipePK, equipeNome, filialNome, filialCidade, filialEstadoNome, filialEstadoSigla, filialRegiaoNome, filialRegiaoSigla, filialPaisNome, filialPaisSigla)\n",
        "- cargo (cargoPK, cargoNome, cargoRegimeTrabalho, cargoEscolaridadeMinima, cargoNivel)\n",
        "- cliente (clientePK, clienteNomeFantasia, clienteSetor, clienteCidade, clienteEstadoNome, clienteEstadoSigla, clienteRegiaoNome, clienteRegiaoSigla, clientePaisNome, clientePaisSigla)\n",
        "\n",
        "**Tabelas de fatos**\n",
        "- pagamento (dataPK, funcPK, equipePK, cargoPK, salario, quantidadeLancamentos)\n",
        "- negociacao (dataPK, equipePK, clientePK, receita, quantidadeNegociacoes)\n"
      ]
    },
    {
      "cell_type": "markdown",
      "metadata": {
        "id": "BGeh8KdXwVCQ"
      },
      "source": [
        "#2 Obtenção dos Dados da BI Solutions\n"
      ]
    },
    {
      "cell_type": "markdown",
      "metadata": {
        "id": "CCCNC64AzBG0"
      },
      "source": [
        "## 2.1 Baixando o Módulo wget\n",
        "\n",
        "Para baixar os dados referentes ao esquema relacional da constelação de fatos da BI Solutions, é utilizado o módulo  **wget**. O comando a seguir realiza a instalação desse módulo. <br>"
      ]
    },
    {
      "cell_type": "code",
      "metadata": {
        "id": "3e0Eao1K0EYG"
      },
      "source": [
        "#instalando o módulo wget\n",
        "%%capture\n",
        "!pip install -q wget\n",
        "!mkdir data"
      ],
      "execution_count": null,
      "outputs": []
    },
    {
      "cell_type": "markdown",
      "metadata": {
        "id": "j56pVJ2hZ2i5"
      },
      "source": [
        "## 2.2 Obtenção dos Dados das Tabelas de Dimensão\n",
        "\n",
        "Os comandos a seguir baixam os dados que povoam as tabelas de dimensão. "
      ]
    },
    {
      "cell_type": "code",
      "metadata": {
        "id": "46QzTpLJwfkW",
        "cellView": "both",
        "colab": {
          "base_uri": "https://localhost:8080/",
          "height": 35
        },
        "outputId": "969170de-653a-45c5-e0d7-30ec2b51d784"
      },
      "source": [
        "#baixando os dados das tabelas de dimensão\n",
        "import wget\n",
        "\n",
        "url = \"https://raw.githubusercontent.com/GuiMuzziUSP/Data_Mart_BI_Solutions/main/data.csv\"\n",
        "wget.download(url, \"data/data.csv\")\n",
        "\n",
        "url = \"https://raw.githubusercontent.com/GuiMuzziUSP/Data_Mart_BI_Solutions/main/funcionario.csv\"\n",
        "wget.download(url, \"data/funcionario.csv\")\n",
        "\n",
        "url = \"https://raw.githubusercontent.com/GuiMuzziUSP/Data_Mart_BI_Solutions/main/equipe.csv\"\n",
        "wget.download(url, \"data/equipe.csv\")\n",
        "\n",
        "url = \"https://raw.githubusercontent.com/GuiMuzziUSP/Data_Mart_BI_Solutions/main/cargo.csv\"\n",
        "wget.download(url, \"data/cargo.csv\")\n",
        "\n",
        "url = \"https://raw.githubusercontent.com/GuiMuzziUSP/Data_Mart_BI_Solutions/main/cliente.csv\"\n",
        "wget.download(url, \"data/cliente.csv\")"
      ],
      "execution_count": null,
      "outputs": [
        {
          "output_type": "execute_result",
          "data": {
            "text/plain": [
              "'data/cliente (1).csv'"
            ],
            "application/vnd.google.colaboratory.intrinsic+json": {
              "type": "string"
            }
          },
          "metadata": {},
          "execution_count": 169
        }
      ]
    },
    {
      "cell_type": "markdown",
      "metadata": {
        "id": "0o-dC7feszRc"
      },
      "source": [
        "## 2.3 Obtenção dos Dados Tabelas de Fatos\n",
        "\n",
        "Os comandos a seguir baixam os dados que povoam as tabelas de fatos. "
      ]
    },
    {
      "cell_type": "code",
      "metadata": {
        "id": "XWM-CUFgBl_8",
        "colab": {
          "base_uri": "https://localhost:8080/",
          "height": 35
        },
        "outputId": "d0a1e8bd-5d28-420d-94ea-bd54886ae67b"
      },
      "source": [
        "#baixando os dados das tabelas de fatos\n",
        "url = \"https://raw.githubusercontent.com/GuiMuzziUSP/Data_Mart_BI_Solutions/main/pagamento.csv\"\n",
        "wget.download(url, \"data/pagamento.csv\")\n",
        "\n",
        "url = \"https://raw.githubusercontent.com/GuiMuzziUSP/Data_Mart_BI_Solutions/main/negociacao.csv\"\n",
        "wget.download(url, \"data/negociacao.csv\")"
      ],
      "execution_count": null,
      "outputs": [
        {
          "output_type": "execute_result",
          "data": {
            "text/plain": [
              "'data/negociacao (1).csv'"
            ],
            "application/vnd.google.colaboratory.intrinsic+json": {
              "type": "string"
            }
          },
          "metadata": {},
          "execution_count": 170
        }
      ]
    },
    {
      "cell_type": "markdown",
      "metadata": {
        "id": "sO16-7-jOioq"
      },
      "source": [
        "# 3 Apache Spark Cluster"
      ]
    },
    {
      "cell_type": "markdown",
      "metadata": {
        "id": "YVEgY9qKflBV"
      },
      "source": [
        "## 3.1 Instalação\n",
        "\n",
        "Neste *notebook* é criado um *cluster* Spark composto apenas por um **nó mestre**. Ou seja, o *cluster* não possui um ou mais **nós de trabalho** e o **gerenciador de cluster**. Nessa configuração, as tarefas (*tasks*) são realizadas no próprio *driver* localizado no **nó mestre**."
      ]
    },
    {
      "cell_type": "markdown",
      "metadata": {
        "id": "KaM-OnIjgLS2"
      },
      "source": [
        "Para que o cluster possa ser criado, primeiramente é instalado o Java Runtime Environment (JRE) versão 8. "
      ]
    },
    {
      "cell_type": "code",
      "metadata": {
        "id": "NXls3bfoglKW"
      },
      "source": [
        "#instalando Java Runtime Environment (JRE) versão 8\n",
        "%%capture\n",
        "!apt-get remove openjdk*\n",
        "!apt-get update --fix-missing\n",
        "!apt-get install openjdk-8-jdk-headless -qq > /dev/null"
      ],
      "execution_count": null,
      "outputs": []
    },
    {
      "cell_type": "markdown",
      "metadata": {
        "id": "7BQzZfDYhb4j"
      },
      "source": [
        "Na sequência, é feito o *download* do Apache Spark versão 3.0.0."
      ]
    },
    {
      "cell_type": "code",
      "metadata": {
        "id": "8a_Yv59zg3gm"
      },
      "source": [
        "#baixando Apache Spark versão 3.0.0\n",
        "%%capture\n",
        "!wget -q https://archive.apache.org/dist/spark/spark-3.0.0/spark-3.0.0-bin-hadoop2.7.tgz\n",
        "!tar xf spark-3.0.0-bin-hadoop2.7.tgz && rm spark-3.0.0-bin-hadoop2.7.tgz"
      ],
      "execution_count": null,
      "outputs": []
    },
    {
      "cell_type": "markdown",
      "metadata": {
        "id": "RETWX6wqhkLf"
      },
      "source": [
        "Na sequência, são configuradas as variáveis de ambiente JAVA_HOME e SPARK_HOME. Isto permite que tanto o Java quanto o Spark possam ser encontrados."
      ]
    },
    {
      "cell_type": "code",
      "metadata": {
        "id": "iZpR7NwOh2EB"
      },
      "source": [
        "import os\n",
        "#configurando a variável de ambiente JAVA_HOME\n",
        "os.environ[\"JAVA_HOME\"] = \"/usr/lib/jvm/java-8-openjdk-amd64\"\n",
        "#configurando a variável de ambiente SPARK_HOME\n",
        "os.environ[\"SPARK_HOME\"] = \"/content/spark-3.0.0-bin-hadoop2.7\""
      ],
      "execution_count": null,
      "outputs": []
    },
    {
      "cell_type": "markdown",
      "metadata": {
        "id": "Ql0z7Ro1iHQb"
      },
      "source": [
        "Por fim, são instalados dois pacotes da linguagem de programação Python, cujas funcionalidades são descritas a seguir.\n",
        "\n",
        "> **Pacote findspark:** Usado para ler a variável de ambiente SPARK_HOME e armazenar seu valor na variável dinâmica de ambiente PYTHONPATH. Como resultado, Python pode encontrar a instalação do Spark. \n",
        "\n",
        "> **Pacote pyspark:** PySpark é a API do Python para Spark. Ela possibilita o uso de Python, considerando que o *framework* Apache Spark encontra-se desenvolvido na linguagem de programação Scala. "
      ]
    },
    {
      "cell_type": "code",
      "metadata": {
        "id": "5oSYOwKljPf5"
      },
      "source": [
        "%%capture\n",
        "#instalando o pacote findspark\n",
        "!pip install -q findspark==1.4.2\n",
        "#instalando o pacote pyspark\n",
        "!pip install -q pyspark==3.0.0"
      ],
      "execution_count": null,
      "outputs": []
    },
    {
      "cell_type": "markdown",
      "metadata": {
        "id": "eAaLyjPzmIwZ"
      },
      "source": [
        "## 3.2 Conexão\n",
        "\n",
        "PySpark não é adicionado ao *sys.path* por padrão. Isso significa que não é possível importá-lo, pois o interpretador da linguagem Python não sabe onde encontrá-lo. \n",
        "\n",
        "Para resolver esse aspecto, é necessário instalar o módulo `findspark`. Esse módulo mostra onde PySpark está localizado. Os comandos a seguir têm essa finalidade.\n"
      ]
    },
    {
      "cell_type": "code",
      "metadata": {
        "id": "-zm1pBTEmjp4"
      },
      "source": [
        "#importando o módulo findspark\n",
        "import findspark\n",
        "#carregando a variávels SPARK_HOME na variável dinâmica PYTHONPATH\n",
        "findspark.init()"
      ],
      "execution_count": null,
      "outputs": []
    },
    {
      "cell_type": "markdown",
      "metadata": {
        "id": "ZDqfefF7YUab"
      },
      "source": [
        "Depois de configurados os pacotes e módulos e inicializadas as variáveis de ambiente, é possível iniciar o uso do Spark na aplicação de `data warehousing`. Para tanto, é necessário importar o comando `SparkSession` do módulo `pyspark.sql`. São utilizados os seguintes conceitos: <br>\n",
        "\n",
        "- `SparkSession`: permite a criação de `DataFrames`. Como resultado, as tabelas relacionais podem ser manipuladas por meio de `DataFrames` e é possível realizar consultas OLAP por meio de comandos SQL. <br>\n",
        "- `builder`: cria uma instância de SparkSession. <br>\n",
        "- `appName`: define um nome para a aplicação, o qual pode ser visto na interface de usuário web do Spark. <br> \n",
        "- `master`: define onde está o nó mestre do *cluster*. Como a aplicação é executada localmente e não em um *cluster*, indica-se isso pela *string* `local` seguida do parâmetro `[*]`. Ou seja, define-se que apenas núcleos locais são utilizados. \n",
        "- `getOrCreate`: cria uma SparkSession. Caso ela já exista, retorna a instância existente. \n",
        "\n",
        "\n",
        "**Observação**: A lista completa de todos os parâmetros que podem ser utilizados na inicialização do *cluster* pode ser encontrada neste [link](https://spark.apache.org/docs/latest/spark-standalone.html#cluster-launch-scripts)."
      ]
    },
    {
      "cell_type": "code",
      "metadata": {
        "id": "9TxljJ_cwBCy"
      },
      "source": [
        "from pyspark.sql import SparkSession\n",
        "\n",
        "spark = SparkSession.builder.appName(\"pyspark-notebook\").master(\"local[*]\").getOrCreate()"
      ],
      "execution_count": null,
      "outputs": []
    },
    {
      "cell_type": "markdown",
      "metadata": {
        "id": "5qL9SiR_pQE2"
      },
      "source": [
        "# 4 Geração dos DataFrames da BI Solutions\n",
        "\n",
        "Um `DataFrame` em Spark é equivalente a uma tabela relacional. Portanto, um `DataFrame` possui um esquema, uma ou mais linhas (ou tuplas) e uma ou mais colunas (ou atributos).\n"
      ]
    },
    {
      "cell_type": "markdown",
      "metadata": {
        "id": "ffWOrkjDp8Al"
      },
      "source": [
        "## 4.1 Métodos para Leitura e Escrita"
      ]
    },
    {
      "cell_type": "markdown",
      "metadata": {
        "id": "WtUGn-uyBJWY"
      },
      "source": [
        "### Método spark.read.csv()\n",
        "\n",
        "``spark.read.csv()``\n",
        "\n",
        "Realiza a leitura dos dados de um arquivo `.csv` e armazena esses dados em um `DataFrame`. Alguns parâmetros do método são: \n",
        "\n",
        "- `path`: indica o endereço do arquivo que é lido.\n",
        "\n",
        "- `header`: indica se o arquivo possui um cabeçalho.\n",
        "\n",
        "- `sep`: especifica o caractere que separa os campos do arquivo.\n",
        "\n",
        "- `inferSchema`: infere o tipo de dados de cada atributo automaticamente a partir dos dados do arquivo `.csv`. Para que isto seja possível, existe a necessidade de se ler os dados mais uma vez. Se esse parâmetro não for especificado, seu valor padrão é `false`. \n",
        "\n",
        "Entretanto, vários parâmetros podem ser especificados. Uma lista completa desses parâmetros pode ser encontrada neste [link](https://docs.databricks.com/data/data-sources/read-csv.html). \n",
        "\n",
        "\n"
      ]
    },
    {
      "cell_type": "markdown",
      "metadata": {
        "id": "gBaQWmfzkYdF"
      },
      "source": [
        "### Método show()\n",
        "\n",
        "`show(number=20, truncate=True, vertical=False)`\n",
        "\n",
        "Mostra o conteúdo do `DataFrame`. Caso o parâmetro `number` seja especificado, é mostrado o número de linhas especificado. Caso contrário, são exibidas as 20 primeiras linhas.  O parâmetro `truncate` indica que  *strings* com tamanho maior do que 20 caracteres são truncadas. O último parâmetro, `vertical`, indica que a saída é composta por um conjunto de linhas divididas em colunas (forma de uma tabela). Caso seja especificado `vertical=True`, cada coluna de cada linha é exibida em uma linha diferente."
      ]
    },
    {
      "cell_type": "markdown",
      "metadata": {
        "id": "z8MxhBV6mBmR"
      },
      "source": [
        "### Método printSchema()\n",
        "\n",
        "`printSchema()`\n",
        "\n",
        "Mostra o esquema do `DataFrame` no formato de uma árvore. São exibidos os nomes das colunas e os tipos de dados dessas colunas. `nullable = true` indica que o valor nulo é usado para indicar valores que não são conhecidos ou que são foram preenchidos quando o arquivo foi lido em um `DataFrame`.  \n",
        "\n"
      ]
    },
    {
      "cell_type": "markdown",
      "metadata": {
        "id": "WQFYmNbrs6gZ"
      },
      "source": [
        "### Método write.csv()\n",
        "\n",
        "`write.csv()`\n",
        "\n",
        "Realiza a escrita dos dados de um `DataFrame` em um arquivo `.csv`. Podem ser definidos vários parâmetros, como `path` para indicar o endereço do arquivo que é escrito, `header` para armazenar os nomes das colunas do `DataFrame` como um cabeçalho do arquivo e `sep` para especificar o caractere que separa os campos do arquivo. Uma lista completa desses parâmetros pode ser encontrada neste [link](https://docs.databricks.com/data/data-sources/read-csv.html). \n"
      ]
    },
    {
      "cell_type": "markdown",
      "metadata": {
        "id": "DRVoz-SGt87W"
      },
      "source": [
        "## 4.2 Criação dos DataFrames"
      ]
    },
    {
      "cell_type": "code",
      "metadata": {
        "cellView": "both",
        "id": "FNR-3dV6oYk4",
        "colab": {
          "base_uri": "https://localhost:8080/"
        },
        "outputId": "deed66e7-f0b6-41fc-e7e4-a9900717b4a7"
      },
      "source": [
        "#criando e exibindo o DataFrame para a tabela de dimensão cargo\n",
        "cargo = spark.read.csv(path=\"data/cargo.csv\", header=True, sep=\",\")\n",
        "cargo.show(5)\n",
        "cargo.printSchema()\n"
      ],
      "execution_count": null,
      "outputs": [
        {
          "output_type": "stream",
          "name": "stdout",
          "text": [
            "+-------+--------------------+-------------------+--------------------+-----------------------+----------+\n",
            "|cargoPK|           cargoNome|cargoRegimeTrabalho|cargoJornadaTrabalho|cargoEscolaridadeMinima|cargoNivel|\n",
            "+-------+--------------------+-------------------+--------------------+-----------------------+----------+\n",
            "|      1|PROGRAMADOR DE SI...|         TEMPORARIO|                 20H|                  MEDIO|    JUNIOR|\n",
            "|      2|PROGRAMADOR DE SI...|         TEMPORARIO|                 20H|               SUPERIOR|     PLENO|\n",
            "|      3|PROGRAMADOR DE SI...|         TEMPORARIO|                 20H|                    POS|    SENIOR|\n",
            "|      4|PROGRAMADOR DE SI...|         TEMPORARIO|                 40H|                  MEDIO|    JUNIOR|\n",
            "|      5|PROGRAMADOR DE SI...|         TEMPORARIO|                 40H|               SUPERIOR|     PLENO|\n",
            "+-------+--------------------+-------------------+--------------------+-----------------------+----------+\n",
            "only showing top 5 rows\n",
            "\n",
            "root\n",
            " |-- cargoPK: string (nullable = true)\n",
            " |-- cargoNome: string (nullable = true)\n",
            " |-- cargoRegimeTrabalho: string (nullable = true)\n",
            " |-- cargoJornadaTrabalho: string (nullable = true)\n",
            " |-- cargoEscolaridadeMinima: string (nullable = true)\n",
            " |-- cargoNivel: string (nullable = true)\n",
            "\n"
          ]
        }
      ]
    },
    {
      "cell_type": "code",
      "metadata": {
        "id": "LPCF-SyBtuPW",
        "colab": {
          "base_uri": "https://localhost:8080/"
        },
        "outputId": "cec84c7d-e05e-435a-a7d6-ea7bd096640b"
      },
      "source": [
        "#criando e exibindo o DataFrame para a tabela de dimensão cliente\n",
        "cliente = spark.read.csv(path=\"data/cliente.csv\", header=True, sep=\",\")\n",
        "cliente.show(5)\n",
        "cliente.printSchema()"
      ],
      "execution_count": null,
      "outputs": [
        {
          "output_type": "stream",
          "name": "stdout",
          "text": [
            "+---------+-------------------+-------------------+-------------+-----------------+------------------+-----------------+------------------+---------------+----------------+\n",
            "|clientePK|clienteNomeFantasia|       clienteSetor|clienteCidade|clienteEstadoNome|clienteEstadoSigla|clienteRegiaoNome|clienteRegiaoSigla|clientePaisNome|clientePaisSigla|\n",
            "+---------+-------------------+-------------------+-------------+-----------------+------------------+-----------------+------------------+---------------+----------------+\n",
            "|        1|           VIA FOOD|BEBIDAS E ALIMENTOS|    SAO PAULO|        SAO PAULO|                SP|          SUDESTE|                SE|         BRASIL|              BR|\n",
            "|        2|          VIA PIZZA|BEBIDAS E ALIMENTOS|    SAO PAULO|        SAO PAULO|                SP|          SUDESTE|                SE|         BRASIL|              BR|\n",
            "|        3|           VIA JAPA|BEBIDAS E ALIMENTOS|    SAO PAULO|        SAO PAULO|                SP|          SUDESTE|                SE|         BRASIL|              BR|\n",
            "|        4|            VIA VEG|BEBIDAS E ALIMENTOS|    SAO PAULO|        SAO PAULO|                SP|          SUDESTE|                SE|         BRASIL|              BR|\n",
            "|        5|          VIA DRINK|BEBIDAS E ALIMENTOS|   SAO CARLOS|        SAO PAULO|                SP|          SUDESTE|                SE|         BRASIL|              BR|\n",
            "+---------+-------------------+-------------------+-------------+-----------------+------------------+-----------------+------------------+---------------+----------------+\n",
            "only showing top 5 rows\n",
            "\n",
            "root\n",
            " |-- clientePK: string (nullable = true)\n",
            " |-- clienteNomeFantasia: string (nullable = true)\n",
            " |-- clienteSetor: string (nullable = true)\n",
            " |-- clienteCidade: string (nullable = true)\n",
            " |-- clienteEstadoNome: string (nullable = true)\n",
            " |-- clienteEstadoSigla: string (nullable = true)\n",
            " |-- clienteRegiaoNome: string (nullable = true)\n",
            " |-- clienteRegiaoSigla: string (nullable = true)\n",
            " |-- clientePaisNome: string (nullable = true)\n",
            " |-- clientePaisSigla: string (nullable = true)\n",
            "\n"
          ]
        }
      ]
    },
    {
      "cell_type": "code",
      "metadata": {
        "id": "w3p9dLUKts73",
        "colab": {
          "base_uri": "https://localhost:8080/"
        },
        "outputId": "8b46e6a9-2bfd-405b-c3e7-6dd70b85c77f"
      },
      "source": [
        "#criando e exibindo o DataFrame para a tabela de dimensão data\n",
        "data = spark.read.csv(path=\"data/data.csv\", header=True, sep=\",\") \n",
        "data.show(5)\n",
        "data.printSchema()"
      ],
      "execution_count": null,
      "outputs": [
        {
          "output_type": "stream",
          "name": "stdout",
          "text": [
            "+------+------------+-------+-------+------------+-------------+------------+-------+\n",
            "|dataPK|dataCompleta|dataDia|dataMes|dataBimestre|dataTrimestre|dataSemestre|dataAno|\n",
            "+------+------------+-------+-------+------------+-------------+------------+-------+\n",
            "|     1|    1/1/2016|      1|      1|           1|            1|           1|   2016|\n",
            "|     2|    2/1/2016|      2|      1|           1|            1|           1|   2016|\n",
            "|     3|    3/1/2016|      3|      1|           1|            1|           1|   2016|\n",
            "|     4|    4/1/2016|      4|      1|           1|            1|           1|   2016|\n",
            "|     5|    5/1/2016|      5|      1|           1|            1|           1|   2016|\n",
            "+------+------------+-------+-------+------------+-------------+------------+-------+\n",
            "only showing top 5 rows\n",
            "\n",
            "root\n",
            " |-- dataPK: string (nullable = true)\n",
            " |-- dataCompleta: string (nullable = true)\n",
            " |-- dataDia: string (nullable = true)\n",
            " |-- dataMes: string (nullable = true)\n",
            " |-- dataBimestre: string (nullable = true)\n",
            " |-- dataTrimestre: string (nullable = true)\n",
            " |-- dataSemestre: string (nullable = true)\n",
            " |-- dataAno: string (nullable = true)\n",
            "\n"
          ]
        }
      ]
    },
    {
      "cell_type": "code",
      "metadata": {
        "id": "Obef8NfyttuJ",
        "colab": {
          "base_uri": "https://localhost:8080/"
        },
        "outputId": "72986a37-8441-43ee-de6c-7b3819511f44"
      },
      "source": [
        "#criando e exibindo o DataFrame para a tabela de dimensão equipe\n",
        "equipe = spark.read.csv(path=\"data/equipe.csv\", header=True, sep=\",\")\n",
        "equipe.show(5)\n",
        "equipe.printSchema()"
      ],
      "execution_count": null,
      "outputs": [
        {
          "output_type": "stream",
          "name": "stdout",
          "text": [
            "+--------+-------------+--------------------+--------------+------------------+-----------------+----------------+-----------------+--------------+---------------+\n",
            "|equipePK|   equipeNome|          filialNome|  filialCidade|  filialEstadoNome|filialEstadoSigla|filialRegiaoNome|filialRegiaoSigla|filialPaisNome|filialPaisSigla|\n",
            "+--------+-------------+--------------------+--------------+------------------+-----------------+----------------+-----------------+--------------+---------------+\n",
            "|       1|APP - DESKTOP|SAO PAULO - AV. P...|     SAO PAULO|         SAO PAULO|               SP|         SUDESTE|               SE|        BRASIL|             BR|\n",
            "|       2|APP - DESKTOP|RIO DE JANEIRO - ...|RIO DE JANEIRO|    RIO DE JANEIRO|               RJ|         SUDESTE|               SE|        BRASIL|             BR|\n",
            "|       3|          WEB|SAO PAULO - AV. P...|     SAO PAULO|         SAO PAULO|               SP|         SUDESTE|               SE|        BRASIL|             BR|\n",
            "|       4|          WEB|RIO DE JANEIRO - ...|RIO DE JANEIRO|    RIO DE JANEIRO|               RJ|         SUDESTE|               SE|        BRASIL|             BR|\n",
            "|       5|          WEB|CAMPO GRANDE - CE...|  CAMPO GRANDE|MATO GROSSO DO SUL|               MS|    CENTRO-OESTE|               CO|        BRASIL|             BR|\n",
            "+--------+-------------+--------------------+--------------+------------------+-----------------+----------------+-----------------+--------------+---------------+\n",
            "only showing top 5 rows\n",
            "\n",
            "root\n",
            " |-- equipePK: string (nullable = true)\n",
            " |-- equipeNome: string (nullable = true)\n",
            " |-- filialNome: string (nullable = true)\n",
            " |-- filialCidade: string (nullable = true)\n",
            " |-- filialEstadoNome: string (nullable = true)\n",
            " |-- filialEstadoSigla: string (nullable = true)\n",
            " |-- filialRegiaoNome: string (nullable = true)\n",
            " |-- filialRegiaoSigla: string (nullable = true)\n",
            " |-- filialPaisNome: string (nullable = true)\n",
            " |-- filialPaisSigla: string (nullable = true)\n",
            "\n"
          ]
        }
      ]
    },
    {
      "cell_type": "code",
      "metadata": {
        "id": "RsF4rcS7Zp4O",
        "colab": {
          "base_uri": "https://localhost:8080/"
        },
        "outputId": "9f4039c0-945c-4d89-c355-d92eb85dc747"
      },
      "source": [
        "#criando e exibindo o DataFrame para a tabela de fatos funcionario\n",
        "funcionario = spark.read.csv(path=\"data/funcionario.csv\", header=True, sep=\",\")\n",
        "funcionario.show(5)\n",
        "funcionario.printSchema()"
      ],
      "execution_count": null,
      "outputs": [
        {
          "output_type": "stream",
          "name": "stdout",
          "text": [
            "+------+-------------+-------------+--------+------------------+-----------------+-----------------+-----------------+-----------+--------------+---------------+--------------+---------------+------------+-------------+\n",
            "|funcPK|funcMatricula|     funcNome|funcSexo|funcDataNascimento|funcDiaNascimento|funcMesNascimento|funcAnoNascimento| funcCidade|funcEstadoNome|funcEstadoSigla|funcRegiaoNome|funcRegiaoSigla|funcPaisNome|funcPaisSigla|\n",
            "+------+-------------+-------------+--------+------------------+-----------------+-----------------+-----------------+-----------+--------------+---------------+--------------+---------------+------------+-------------+\n",
            "|     1|          M-1|ALINE ALMEIDA|       F|          1/1/1990|                1|                1|             1990|  SAO PAULO|     SAO PAULO|             SP|       SUDESTE|             SE|      BRASIL|           BR|\n",
            "|     2|          M-2|   ARAO ALVES|       M|          2/2/1990|                2|                2|             1990|   CAMPINAS|     SAO PAULO|             SP|       SUDESTE|             SE|      BRASIL|           BR|\n",
            "|     3|          M-3| ARON ANDRADE|       M|          3/3/1990|                3|                3|             1990|     SANTOS|     SAO PAULO|             SP|       SUDESTE|             SE|      BRASIL|           BR|\n",
            "|     4|          M-4|  ADA BARBOSA|       F|          4/4/1990|                4|                4|             1990|SANTO ANDRE|     SAO PAULO|             SP|       SUDESTE|             SE|      BRASIL|           BR|\n",
            "|     5|          M-5|ABADE BATISTA|       M|          5/5/1990|                5|                5|             1990| PIRACICABA|     SAO PAULO|             SP|       SUDESTE|             SE|      BRASIL|           BR|\n",
            "+------+-------------+-------------+--------+------------------+-----------------+-----------------+-----------------+-----------+--------------+---------------+--------------+---------------+------------+-------------+\n",
            "only showing top 5 rows\n",
            "\n",
            "root\n",
            " |-- funcPK: string (nullable = true)\n",
            " |-- funcMatricula: string (nullable = true)\n",
            " |-- funcNome: string (nullable = true)\n",
            " |-- funcSexo: string (nullable = true)\n",
            " |-- funcDataNascimento: string (nullable = true)\n",
            " |-- funcDiaNascimento: string (nullable = true)\n",
            " |-- funcMesNascimento: string (nullable = true)\n",
            " |-- funcAnoNascimento: string (nullable = true)\n",
            " |-- funcCidade: string (nullable = true)\n",
            " |-- funcEstadoNome: string (nullable = true)\n",
            " |-- funcEstadoSigla: string (nullable = true)\n",
            " |-- funcRegiaoNome: string (nullable = true)\n",
            " |-- funcRegiaoSigla: string (nullable = true)\n",
            " |-- funcPaisNome: string (nullable = true)\n",
            " |-- funcPaisSigla: string (nullable = true)\n",
            "\n"
          ]
        }
      ]
    },
    {
      "cell_type": "code",
      "metadata": {
        "id": "s4aZ0M6OZvg2",
        "colab": {
          "base_uri": "https://localhost:8080/"
        },
        "outputId": "d4a1bd98-5b71-4f39-8df1-96df0c4246a9"
      },
      "source": [
        "#criando e exibindo o DataFrame para a tabela de fatos negociacao\n",
        "negociacao = spark.read.csv(path=\"data/negociacao.csv\", header=True, sep=\",\")\n",
        "negociacao.show(5)\n",
        "negociacao.printSchema()"
      ],
      "execution_count": null,
      "outputs": [
        {
          "output_type": "stream",
          "name": "stdout",
          "text": [
            "+--------+---------+------+--------+---------------------+\n",
            "|equipePK|clientePK|dataPK| receita|quantidadeNegociacoes|\n",
            "+--------+---------+------+--------+---------------------+\n",
            "|       2|        9|    22|11564.75|                    1|\n",
            "|       2|       24|    11| 17990.5|                    1|\n",
            "|       2|       28|    21| 16335.9|                    1|\n",
            "|       1|       30|    23| 8495.55|                    1|\n",
            "|       2|       43|    30|24748.75|                    1|\n",
            "+--------+---------+------+--------+---------------------+\n",
            "only showing top 5 rows\n",
            "\n",
            "root\n",
            " |-- equipePK: string (nullable = true)\n",
            " |-- clientePK: string (nullable = true)\n",
            " |-- dataPK: string (nullable = true)\n",
            " |-- receita: string (nullable = true)\n",
            " |-- quantidadeNegociacoes: string (nullable = true)\n",
            "\n"
          ]
        }
      ]
    },
    {
      "cell_type": "code",
      "metadata": {
        "id": "DzVUaFptodHJ",
        "colab": {
          "base_uri": "https://localhost:8080/"
        },
        "outputId": "0d8e756a-e750-4498-969a-ddc8c8fbb669"
      },
      "source": [
        "#criando e exibindo o DataFrame para a tabela de fatos pagamento\n",
        "pagamento = spark.read.csv(path=\"data/pagamento.csv\", header=True, sep=\",\")\n",
        "pagamento.show()\n",
        "pagamento.printSchema()"
      ],
      "execution_count": null,
      "outputs": [
        {
          "output_type": "stream",
          "name": "stdout",
          "text": [
            "+------+--------+------+-------+--------+---------------------+\n",
            "|funcPK|equipePK|dataPK|cargoPK| salario|quantidadeLancamentos|\n",
            "+------+--------+------+-------+--------+---------------------+\n",
            "|   147|       2|     5|     64| 1559.94|                    1|\n",
            "|   124|       2|     5|    329| 8102.77|                    1|\n",
            "|   175|       1|     5|    328| 2532.51|                    1|\n",
            "|   171|       1|     5|    245|  7882.7|                    1|\n",
            "|   148|       2|     5|     65| 4404.59|                    1|\n",
            "|     5|       2|     5|    112| 2226.66|                    1|\n",
            "|   128|       1|     5|    341| 6157.04|                    1|\n",
            "|    82|       2|     5|     43| 1585.51|                    1|\n",
            "|    28|       1|     5|    253| 1594.02|                    1|\n",
            "|    46|       1|     5|    390| 9880.16|                    1|\n",
            "|    91|       2|     5|    233|10931.47|                    1|\n",
            "|   176|       2|     5|    241| 2005.49|                    1|\n",
            "|   172|       1|     5|    351|14218.28|                    1|\n",
            "|   155|       1|     5|    121| 2002.57|                    1|\n",
            "|    19|       2|     5|    223| 1778.26|                    1|\n",
            "|    94|       1|     5|    394|  2505.1|                    1|\n",
            "|    26|       2|     5|    350| 9162.46|                    1|\n",
            "|    55|       2|     5|    313| 3215.53|                    1|\n",
            "|    29|       1|     5|     62| 4128.44|                    1|\n",
            "|   181|       1|     5|    249|11082.75|                    1|\n",
            "+------+--------+------+-------+--------+---------------------+\n",
            "only showing top 20 rows\n",
            "\n",
            "root\n",
            " |-- funcPK: string (nullable = true)\n",
            " |-- equipePK: string (nullable = true)\n",
            " |-- dataPK: string (nullable = true)\n",
            " |-- cargoPK: string (nullable = true)\n",
            " |-- salario: string (nullable = true)\n",
            " |-- quantidadeLancamentos: string (nullable = true)\n",
            "\n"
          ]
        }
      ]
    },
    {
      "cell_type": "markdown",
      "metadata": {
        "id": "EM_lc4wAqwjQ"
      },
      "source": [
        "## 4.3 Manipulação da Tipagem dos Dados\n",
        "\n",
        "Como pode ser observado nos comandos relativos ao método `printSchema()` aplicado a cada um dos `DataFrames` gerados, todos os tipos de dados importados são *string*. Entretanto, alguns valores devem ser do tipo de dado *numérico*. Portanto, primeiramente é usado o método `cast()` para a conversão entre os tipos de dados e depois o método `withColumn()` para substituir a colunas existentes por novas colunas contendo os valores convertidos. \n",
        "\n",
        "É importante salientar que, mesmo que o parâmetro `inferSchema` fosse especificado como `true` no método `spark.read.csv()`, ainda existiria a necessidade de se verificar os tipos de dados e realizar a conversão caso necessário.    \n"
      ]
    },
    {
      "cell_type": "markdown",
      "metadata": {
        "id": "_FYAnVsGf-vm"
      },
      "source": [
        "### Método cast()\n",
        "\n",
        "`cast(tipoDeDado)`\n",
        "\n",
        "Converte o atributo para o `tipoDeDado` passado como parâmetro. Podem ser definidos os seguintes valores para `tipoDeDado`: DataType, NullType, StringType, BinaryType, BooleanType, DateType, TimestampType, DecimalType, DoubleType, FloatType, ByteType, IntegerType, LongType, ShortType, ArrayType, MapType, StructField, StructType.\n",
        "\n"
      ]
    },
    {
      "cell_type": "markdown",
      "metadata": {
        "id": "ezQ3qIR1xTI8"
      },
      "source": [
        "### Método withColumn()\n",
        "\n",
        "`withColumn(nomeColuna, exprColuna)`\n",
        "\n",
        "Retorna um novo `DataFrame` adicionando uma coluna de `nomeColuna` ou substituindo uma coluna existente que possui o mesmo nome `nomeColuna`, usando o parâmetro `exprColuna` para o preenchimento dos valores daquela coluna.  \n",
        "\n",
        "Este comando considera o `DataFrame` sobre o qual ele foi aplicado, não permitindo adicionar a esse `DataFrame` colunas de um segundo `DataFrame`."
      ]
    },
    {
      "cell_type": "markdown",
      "metadata": {
        "id": "mrch9vLgjl_H"
      },
      "source": [
        "## 4.4 Atualização dos Tipos de Dados "
      ]
    },
    {
      "cell_type": "markdown",
      "metadata": {
        "id": "9A_ot2pOjsWB"
      },
      "source": [
        "Nos comandos a seguir, primeiro são identificados quais colunas de quais `DataFrames` devem ser do tipo de dado inteiro. Na sequência, ocorre a conversão. Por fim, são exibidos os esquemas dos `DataFrames`, possibilitando visualizar a mudança de tipo de dados das colunas especificadas."
      ]
    },
    {
      "cell_type": "code",
      "metadata": {
        "id": "jmCV6Mur__z6"
      },
      "source": [
        "# identificando quais colunas de quais DataFrames devem ser do tipo de dado inteiro\n",
        "colunas_cargo = [\"cargoPK\"]\n",
        "colunas_cliente = [\"clientePK\"]\n",
        "colunas_data = [\"dataPk\", \"dataDia\", \"dataMes\", \"dataBimestre\", \"dataTrimestre\", \"dataSemestre\", \"dataAno\"]\n",
        "colunas_equipe = [\"equipePK\"]\n",
        "colunas_funcionario = [\"funcPK\", \"funcDiaNascimento\", \"funcMesNascimento\", \"funcAnoNascimento\"]\n",
        "colunas_negociacao = [\"equipePK\", \"clientePK\", \"dataPK\", \"quantidadeNegociacoes\"]\n",
        "colunas_pagamento = [\"funcPK\", \"equipePK\", \"dataPK\", \"cargoPK\", \"quantidadeLancamentos\"]"
      ],
      "execution_count": null,
      "outputs": []
    },
    {
      "cell_type": "code",
      "metadata": {
        "id": "yPNnDJcG9R5H"
      },
      "source": [
        "# importando o tipo de dado desejado\n",
        "from pyspark.sql.types import IntegerType\n",
        "\n",
        "\n",
        "# atualizando o tipo de dado das colunas especificadas \n",
        "# substituindo as colunas já existentes \n",
        "\n",
        "for coluna in colunas_cargo:\n",
        "  cargo = cargo.withColumn(coluna, cargo[coluna].cast(IntegerType()))\n",
        "\n",
        "for coluna in colunas_cliente:\n",
        "  cliente = cliente.withColumn(coluna, cliente[coluna].cast(IntegerType()))\n",
        "\n",
        "for coluna in colunas_data:\n",
        "  data = data.withColumn(coluna, data[coluna].cast(IntegerType()))\n",
        "\n",
        "for coluna in colunas_equipe:\n",
        "  equipe = equipe.withColumn(coluna, equipe[coluna].cast(IntegerType()))\n",
        "\n",
        "for coluna in colunas_funcionario:\n",
        "  funcionario = funcionario.withColumn(coluna, funcionario[coluna].cast(IntegerType()))\n",
        "\n",
        "for coluna in colunas_negociacao:\n",
        "  negociacao = negociacao.withColumn(coluna, negociacao[coluna].cast(IntegerType()))\n",
        "\n",
        "for coluna in colunas_pagamento:\n",
        "  pagamento = pagamento.withColumn(coluna, pagamento[coluna].cast(IntegerType()))"
      ],
      "execution_count": null,
      "outputs": []
    },
    {
      "cell_type": "code",
      "metadata": {
        "id": "DMCTiqh_iUsJ",
        "colab": {
          "base_uri": "https://localhost:8080/"
        },
        "outputId": "f3e675db-2685-40dc-f75b-60a7a407f8bc"
      },
      "source": [
        "# exibindo o esquema dos DataFrames após as alterações realizadas\n",
        "cargo.printSchema()\n",
        "cliente.printSchema()\n",
        "data.printSchema()\n",
        "equipe.printSchema()\n",
        "funcionario.printSchema()\n",
        "pagamento.printSchema()\n",
        "negociacao.printSchema()"
      ],
      "execution_count": null,
      "outputs": [
        {
          "output_type": "stream",
          "name": "stdout",
          "text": [
            "root\n",
            " |-- cargoPK: integer (nullable = true)\n",
            " |-- cargoNome: string (nullable = true)\n",
            " |-- cargoRegimeTrabalho: string (nullable = true)\n",
            " |-- cargoJornadaTrabalho: string (nullable = true)\n",
            " |-- cargoEscolaridadeMinima: string (nullable = true)\n",
            " |-- cargoNivel: string (nullable = true)\n",
            "\n",
            "root\n",
            " |-- clientePK: integer (nullable = true)\n",
            " |-- clienteNomeFantasia: string (nullable = true)\n",
            " |-- clienteSetor: string (nullable = true)\n",
            " |-- clienteCidade: string (nullable = true)\n",
            " |-- clienteEstadoNome: string (nullable = true)\n",
            " |-- clienteEstadoSigla: string (nullable = true)\n",
            " |-- clienteRegiaoNome: string (nullable = true)\n",
            " |-- clienteRegiaoSigla: string (nullable = true)\n",
            " |-- clientePaisNome: string (nullable = true)\n",
            " |-- clientePaisSigla: string (nullable = true)\n",
            "\n",
            "root\n",
            " |-- dataPk: integer (nullable = true)\n",
            " |-- dataCompleta: string (nullable = true)\n",
            " |-- dataDia: integer (nullable = true)\n",
            " |-- dataMes: integer (nullable = true)\n",
            " |-- dataBimestre: integer (nullable = true)\n",
            " |-- dataTrimestre: integer (nullable = true)\n",
            " |-- dataSemestre: integer (nullable = true)\n",
            " |-- dataAno: integer (nullable = true)\n",
            "\n",
            "root\n",
            " |-- equipePK: integer (nullable = true)\n",
            " |-- equipeNome: string (nullable = true)\n",
            " |-- filialNome: string (nullable = true)\n",
            " |-- filialCidade: string (nullable = true)\n",
            " |-- filialEstadoNome: string (nullable = true)\n",
            " |-- filialEstadoSigla: string (nullable = true)\n",
            " |-- filialRegiaoNome: string (nullable = true)\n",
            " |-- filialRegiaoSigla: string (nullable = true)\n",
            " |-- filialPaisNome: string (nullable = true)\n",
            " |-- filialPaisSigla: string (nullable = true)\n",
            "\n",
            "root\n",
            " |-- funcPK: integer (nullable = true)\n",
            " |-- funcMatricula: string (nullable = true)\n",
            " |-- funcNome: string (nullable = true)\n",
            " |-- funcSexo: string (nullable = true)\n",
            " |-- funcDataNascimento: string (nullable = true)\n",
            " |-- funcDiaNascimento: integer (nullable = true)\n",
            " |-- funcMesNascimento: integer (nullable = true)\n",
            " |-- funcAnoNascimento: integer (nullable = true)\n",
            " |-- funcCidade: string (nullable = true)\n",
            " |-- funcEstadoNome: string (nullable = true)\n",
            " |-- funcEstadoSigla: string (nullable = true)\n",
            " |-- funcRegiaoNome: string (nullable = true)\n",
            " |-- funcRegiaoSigla: string (nullable = true)\n",
            " |-- funcPaisNome: string (nullable = true)\n",
            " |-- funcPaisSigla: string (nullable = true)\n",
            "\n",
            "root\n",
            " |-- funcPK: integer (nullable = true)\n",
            " |-- equipePK: integer (nullable = true)\n",
            " |-- dataPK: integer (nullable = true)\n",
            " |-- cargoPK: integer (nullable = true)\n",
            " |-- salario: string (nullable = true)\n",
            " |-- quantidadeLancamentos: integer (nullable = true)\n",
            "\n",
            "root\n",
            " |-- equipePK: integer (nullable = true)\n",
            " |-- clientePK: integer (nullable = true)\n",
            " |-- dataPK: integer (nullable = true)\n",
            " |-- receita: string (nullable = true)\n",
            " |-- quantidadeNegociacoes: integer (nullable = true)\n",
            "\n"
          ]
        }
      ]
    },
    {
      "cell_type": "markdown",
      "metadata": {
        "id": "J0dX_7U_AzIY"
      },
      "source": [
        "Nos comandos a seguir, primeiro são identificados quais colunas de quais `DataFrames` devem ser do tipo de dado número de ponto flutuante. Na sequência, ocorre a conversão. Por fim, são exibidos os esquemas dos `DataFrames`, possibilitando visualizar a mudança de tipo de dados das colunas especificadas."
      ]
    },
    {
      "cell_type": "code",
      "metadata": {
        "id": "RBcQ7Ep7AWqN"
      },
      "source": [
        "# identificando quais colunas de quais DataFrames devem ser do tipo de dado número de ponto flutuante\n",
        "colunas_negociacao = [\"receita\"]\n",
        "colunas_pagamento = [\"salario\"]"
      ],
      "execution_count": null,
      "outputs": []
    },
    {
      "cell_type": "code",
      "metadata": {
        "id": "rcfvkIK1BRSp"
      },
      "source": [
        "# importando o tipo de dado desejado\n",
        "from pyspark.sql.types import FloatType\n",
        "\n",
        "\n",
        "# atualizando o tipo de dado das colunas especificadas \n",
        "# substituindo as colunas já existentes \n",
        "\n",
        "for coluna in colunas_negociacao:\n",
        "  negociacao = negociacao.withColumn(coluna, negociacao[coluna].cast(FloatType()))\n",
        "\n",
        "for coluna in colunas_pagamento:\n",
        "  pagamento = pagamento.withColumn(coluna, pagamento[coluna].cast(FloatType()))"
      ],
      "execution_count": null,
      "outputs": []
    },
    {
      "cell_type": "code",
      "metadata": {
        "id": "F_fDE1gwBoEG",
        "colab": {
          "base_uri": "https://localhost:8080/"
        },
        "outputId": "cad32699-4306-48f3-e3ac-3883f7fcbe05"
      },
      "source": [
        "# exibindo o esquema dos DataFrames após as alterações realizadas\n",
        "pagamento.printSchema()\n",
        "negociacao.printSchema()"
      ],
      "execution_count": null,
      "outputs": [
        {
          "output_type": "stream",
          "name": "stdout",
          "text": [
            "root\n",
            " |-- funcPK: integer (nullable = true)\n",
            " |-- equipePK: integer (nullable = true)\n",
            " |-- dataPK: integer (nullable = true)\n",
            " |-- cargoPK: integer (nullable = true)\n",
            " |-- salario: float (nullable = true)\n",
            " |-- quantidadeLancamentos: integer (nullable = true)\n",
            "\n",
            "root\n",
            " |-- equipePK: integer (nullable = true)\n",
            " |-- clientePK: integer (nullable = true)\n",
            " |-- dataPK: integer (nullable = true)\n",
            " |-- receita: float (nullable = true)\n",
            " |-- quantidadeNegociacoes: integer (nullable = true)\n",
            "\n"
          ]
        }
      ]
    },
    {
      "cell_type": "markdown",
      "metadata": {
        "id": "SohIY0GFj5oP"
      },
      "source": [
        "Note que outras conversões de formato também poderiam ser realizadas, como mudar as colunas referentes às datas para o tipo de dado `DateType`. "
      ]
    },
    {
      "cell_type": "markdown",
      "metadata": {
        "id": "2x0nrB3RukpX"
      },
      "source": [
        "#5 Métodos Similares às Cláusulas SQL"
      ]
    },
    {
      "cell_type": "markdown",
      "metadata": {
        "id": "C0y4a8vNk8es"
      },
      "source": [
        "O módulo `pyspark.sql` oferece diversos métodos com funcionalidades similares às cláusulas da linguagem SQL. Esses métodos são descritos considerando as similaridades com a estrutura básica do comando SELECT, com as funções de agregação e agrupamento e com as operações sobre conjuntos. "
      ]
    },
    {
      "cell_type": "markdown",
      "metadata": {
        "id": "flk6RXGRLhs8"
      },
      "source": [
        "## 5.1 Estrutura Básica do Comando SELECT"
      ]
    },
    {
      "cell_type": "markdown",
      "metadata": {
        "id": "MFvln3nMv3oq"
      },
      "source": [
        "### Método select()\n",
        "\n",
        "`select (coluna_1, ..., coluna_n)`\n",
        "\n",
        "Lista as colunas definidas, gerando um novo `DataFrame`. É possível utilizar o caractere `*` para indicar que todas as colunas do `DataFrame` devem ser exibidas. \n",
        "\n",
        "Este método é equivalente à cláusula `SELECT` da linguagem SQL."
      ]
    },
    {
      "cell_type": "markdown",
      "metadata": {
        "id": "Qm2BqCQ95l3r"
      },
      "source": [
        "Os comandos a seguir selecionam as duas primeiras colunas do `DataFrame funcionario`."
      ]
    },
    {
      "cell_type": "code",
      "metadata": {
        "id": "yZek4vPH5sDx",
        "colab": {
          "base_uri": "https://localhost:8080/"
        },
        "outputId": "42c9072f-89c1-42dc-f19f-da34ccecf6fe"
      },
      "source": [
        "#exemplo que mostra o esquema selecionado\n",
        "funcionario\\\n",
        "   .select('funcPK', 'funcMatricula')\n"
      ],
      "execution_count": null,
      "outputs": [
        {
          "output_type": "execute_result",
          "data": {
            "text/plain": [
              "DataFrame[funcPK: int, funcMatricula: string]"
            ]
          },
          "metadata": {},
          "execution_count": 190
        }
      ]
    },
    {
      "cell_type": "code",
      "metadata": {
        "id": "lYNZUwY-6UaT",
        "colab": {
          "base_uri": "https://localhost:8080/"
        },
        "outputId": "b54f3977-980f-48ed-8ff2-349cf61f098e"
      },
      "source": [
        "#exibindo os dados usando o método .take\n",
        "#exibindo linha a linha\n",
        "funcionario\\\n",
        "   .select('funcPK', 'funcMatricula')\\\n",
        "   .take(5)"
      ],
      "execution_count": null,
      "outputs": [
        {
          "output_type": "execute_result",
          "data": {
            "text/plain": [
              "[Row(funcPK=1, funcMatricula='M-1'),\n",
              " Row(funcPK=2, funcMatricula='M-2'),\n",
              " Row(funcPK=3, funcMatricula='M-3'),\n",
              " Row(funcPK=4, funcMatricula='M-4'),\n",
              " Row(funcPK=5, funcMatricula='M-5')]"
            ]
          },
          "metadata": {},
          "execution_count": 191
        }
      ]
    },
    {
      "cell_type": "code",
      "metadata": {
        "id": "98Un8DFf6V3z",
        "colab": {
          "base_uri": "https://localhost:8080/"
        },
        "outputId": "7ef215b8-494b-4201-ae42-5c8ab6738aa4"
      },
      "source": [
        "#exibindo as linhas na forma de tabela\n",
        "funcionario\\\n",
        "   .select('funcPK', 'funcMatricula')\\\n",
        "   .show(5)"
      ],
      "execution_count": null,
      "outputs": [
        {
          "output_type": "stream",
          "name": "stdout",
          "text": [
            "+------+-------------+\n",
            "|funcPK|funcMatricula|\n",
            "+------+-------------+\n",
            "|     1|          M-1|\n",
            "|     2|          M-2|\n",
            "|     3|          M-3|\n",
            "|     4|          M-4|\n",
            "|     5|          M-5|\n",
            "+------+-------------+\n",
            "only showing top 5 rows\n",
            "\n"
          ]
        }
      ]
    },
    {
      "cell_type": "code",
      "metadata": {
        "id": "6VSXPshz-N8a",
        "colab": {
          "base_uri": "https://localhost:8080/"
        },
        "outputId": "145ae1a4-c250-4ef8-ea93-b509ef17c328"
      },
      "source": [
        "#exibindo as linhas na forma de tabela\n",
        "#forma de representação alternativa\n",
        "funcionario\\\n",
        "   .select(funcionario[\"funcPK\"], funcionario[\"funcMatricula\"])\\\n",
        "   .show(5)"
      ],
      "execution_count": null,
      "outputs": [
        {
          "output_type": "stream",
          "name": "stdout",
          "text": [
            "+------+-------------+\n",
            "|funcPK|funcMatricula|\n",
            "+------+-------------+\n",
            "|     1|          M-1|\n",
            "|     2|          M-2|\n",
            "|     3|          M-3|\n",
            "|     4|          M-4|\n",
            "|     5|          M-5|\n",
            "+------+-------------+\n",
            "only showing top 5 rows\n",
            "\n"
          ]
        }
      ]
    },
    {
      "cell_type": "markdown",
      "metadata": {
        "id": "sJhFyXwkvTIH"
      },
      "source": [
        "### Método selectExpr()\n",
        "\n",
        "`selectExpr (expressao_1, ..., expressao_n)`\n",
        "\n",
        "Lista as expressões definidas, as quais podem ser nomes de colunas, gerando um novo `DataFrame`. \n",
        "\n",
        "Este método é uma variação do método `select()` que permite a especificação de expressões SQL. \n",
        "\n",
        "Este método é equivalente à cláusula `SELECT` da linguagem SQL."
      ]
    },
    {
      "cell_type": "markdown",
      "metadata": {
        "id": "49QKuNkHvxsE"
      },
      "source": [
        "O comando a seguir seleciona as duas primeiras colunas do `DataFrame funcionario`, multiplicando a primeira coluna por 2."
      ]
    },
    {
      "cell_type": "code",
      "metadata": {
        "id": "0Sx6Bkgvv5k4",
        "colab": {
          "base_uri": "https://localhost:8080/"
        },
        "outputId": "97f637de-5d4a-4944-df8a-d7bd965eed90"
      },
      "source": [
        "funcionario\\\n",
        "   .selectExpr(\"funcPK * 2\", \"funcMatricula\")\\\n",
        "   .show(5)"
      ],
      "execution_count": null,
      "outputs": [
        {
          "output_type": "stream",
          "name": "stdout",
          "text": [
            "+------------+-------------+\n",
            "|(funcPK * 2)|funcMatricula|\n",
            "+------------+-------------+\n",
            "|           2|          M-1|\n",
            "|           4|          M-2|\n",
            "|           6|          M-3|\n",
            "|           8|          M-4|\n",
            "|          10|          M-5|\n",
            "+------------+-------------+\n",
            "only showing top 5 rows\n",
            "\n"
          ]
        }
      ]
    },
    {
      "cell_type": "markdown",
      "metadata": {
        "id": "U4SQpqjiCTw4"
      },
      "source": [
        "### Método distinct()\n",
        "\n",
        "`distinct()`\n",
        "\n",
        "Retorna um novo `DataFrame` contendo apenas linhas cujos valores são diferentes entre si. \n",
        "\n",
        "Este método é equivalente à cláusula `DISTINCT` da linguagem SQL."
      ]
    },
    {
      "cell_type": "markdown",
      "metadata": {
        "id": "bMXZtiIRFD86"
      },
      "source": [
        "Nos comandos a seguir, primeiro é listada somente a coluna `funcSexo` de funcionário, mostrando valores repetidos para os sexos. Na sequência, é listada a coluna `funcSexo` de funcionário, porém sem listar valores repetidos."
      ]
    },
    {
      "cell_type": "code",
      "metadata": {
        "id": "euGR31rjCqhT",
        "colab": {
          "base_uri": "https://localhost:8080/"
        },
        "outputId": "5812b9c0-18a1-45fc-d907-e907e472905d"
      },
      "source": [
        "funcionario\\\n",
        "   .select('funcSexo')\\\n",
        "   .show(10)"
      ],
      "execution_count": null,
      "outputs": [
        {
          "output_type": "stream",
          "name": "stdout",
          "text": [
            "+--------+\n",
            "|funcSexo|\n",
            "+--------+\n",
            "|       F|\n",
            "|       M|\n",
            "|       M|\n",
            "|       F|\n",
            "|       M|\n",
            "|       M|\n",
            "|       F|\n",
            "|       M|\n",
            "|       M|\n",
            "|       M|\n",
            "+--------+\n",
            "only showing top 10 rows\n",
            "\n"
          ]
        }
      ]
    },
    {
      "cell_type": "code",
      "metadata": {
        "id": "HYT6tK_ODj_H",
        "colab": {
          "base_uri": "https://localhost:8080/"
        },
        "outputId": "97430956-99ee-499f-e44d-c8795028c4d6"
      },
      "source": [
        "funcionario\\\n",
        "   .select('funcSexo')\\\n",
        "   .distinct()\\\n",
        "   .show()"
      ],
      "execution_count": null,
      "outputs": [
        {
          "output_type": "stream",
          "name": "stdout",
          "text": [
            "+--------+\n",
            "|funcSexo|\n",
            "+--------+\n",
            "|       F|\n",
            "|       M|\n",
            "+--------+\n",
            "\n"
          ]
        }
      ]
    },
    {
      "cell_type": "markdown",
      "metadata": {
        "id": "1LzjS9SUzymp"
      },
      "source": [
        "### Método filter()\n",
        "\n",
        "`filter (condição)`\n",
        "\n",
        "Filtra as linhas do `DataFrame` de acordo com a `condição` especificada, gerando um novo `DataFrame`. Este método é equivalente ao método `where()`. \n",
        "\n",
        "Este método é equivalente à cláusula `WHERE` da linguagem SQL."
      ]
    },
    {
      "cell_type": "markdown",
      "metadata": {
        "id": "aG0vPBirBqio"
      },
      "source": [
        "O comando a seguir seleciona os funcionários do sexo feminino cujo valor de `funcPK` é maior do que 160."
      ]
    },
    {
      "cell_type": "code",
      "metadata": {
        "id": "mMKIeeQx8CIU",
        "colab": {
          "base_uri": "https://localhost:8080/"
        },
        "outputId": "676e818a-17a6-437f-f77a-d9bd5574446e"
      },
      "source": [
        "funcionario\\\n",
        "   .filter(\"funcPK > 160 AND funcSexo = 'F'\")\\\n",
        "   .show()"
      ],
      "execution_count": null,
      "outputs": [
        {
          "output_type": "stream",
          "name": "stdout",
          "text": [
            "+------+-------------+----------------+--------+------------------+-----------------+-----------------+-----------------+--------------+--------------+---------------+--------------+---------------+------------+-------------+\n",
            "|funcPK|funcMatricula|        funcNome|funcSexo|funcDataNascimento|funcDiaNascimento|funcMesNascimento|funcAnoNascimento|    funcCidade|funcEstadoNome|funcEstadoSigla|funcRegiaoNome|funcRegiaoSigla|funcPaisNome|funcPaisSigla|\n",
            "+------+-------------+----------------+--------+------------------+-----------------+-----------------+-----------------+--------------+--------------+---------------+--------------+---------------+------------+-------------+\n",
            "|   161|        M-161|  ABINOA ALMEIDA|       F|          9/5/1990|                9|                5|             1990|        RECIFE|    PERNAMBUCO|             PE|      NORDESTE|             NE|      BRASIL|           BR|\n",
            "|   162|        M-162|   ABINOAN ALVES|       F|         10/6/1990|               10|                6|             1990|        RECIFE|    PERNAMBUCO|             PE|      NORDESTE|             NE|      BRASIL|           BR|\n",
            "|   166|        M-166|ABIQUEILA BARROS|       F|        14/10/1990|               14|               10|             1990|   SANTO ANDRE|     SAO PAULO|             SP|       SUDESTE|             SE|      BRASIL|           BR|\n",
            "|   169|        M-169|ABISAGUE CARDOSO|       F|         17/1/1990|               17|                1|             1990|RIBEIRAO PRETO|     SAO PAULO|             SP|       SUDESTE|             SE|      BRASIL|           BR|\n",
            "|   179|        M-179|   ABKEILA GOMES|       F|        27/11/1957|               27|               11|             1957|BELO HORIZONTE|  MINAS GERAIS|             MG|       SUDESTE|             SE|      BRASIL|           BR|\n",
            "|   180|        M-180|     ADELAR LIMA|       F|        28/12/1958|               28|               12|             1958|      ARAGUARI|  MINAS GERAIS|             MG|       SUDESTE|             SE|      BRASIL|           BR|\n",
            "|   181|        M-181| ADILENE ALMEIDA|       F|         29/1/1959|               29|                1|             1959|    OURO PRETO|  MINAS GERAIS|             MG|       SUDESTE|             SE|      BRASIL|           BR|\n",
            "|   185|        M-185|    ADNA BATISTA|       F|          4/5/1963|                4|                5|             1963|     GUARATUBA|        PARANA|             PR|           SUL|              S|      BRASIL|           BR|\n",
            "|   195|        M-195|  ABNOAN FREITAS|       F|         14/3/1973|               14|                3|             1973|    SAO CARLOS|     SAO PAULO|             SP|       SUDESTE|             SE|      BRASIL|           BR|\n",
            "|   196|        M-196|ABNOAN FERNANDES|       F|         15/4/1974|               15|                4|             1974|RIBEIRAO PRETO|     SAO PAULO|             SP|       SUDESTE|             SE|      BRASIL|           BR|\n",
            "+------+-------------+----------------+--------+------------------+-----------------+-----------------+-----------------+--------------+--------------+---------------+--------------+---------------+------------+-------------+\n",
            "\n"
          ]
        }
      ]
    },
    {
      "cell_type": "markdown",
      "metadata": {
        "id": "H0H1NxQ65H8V"
      },
      "source": [
        "### Método where()\n",
        "\n",
        "`where (condição)`\n",
        "\n",
        "Filtra as linhas do `DataFrame` de acordo com a condição especificada, criando um novo `DataFrame`. Este método é equivalente ao método `filter()`. \n",
        "\n",
        "Este método é equivalente à cláusula `WHERE` da linguagem SQL."
      ]
    },
    {
      "cell_type": "markdown",
      "metadata": {
        "id": "Jx1Tq9VZB3bd"
      },
      "source": [
        "O comando a seguir seleciona os funcionários do sexo feminino cujo valor de `funcPK` é maior do que 160."
      ]
    },
    {
      "cell_type": "code",
      "metadata": {
        "id": "MtDWjjTwB8Ul",
        "colab": {
          "base_uri": "https://localhost:8080/"
        },
        "outputId": "8e6d1813-c50c-48de-cdd4-de4ba943dada"
      },
      "source": [
        "funcionario\\\n",
        "   .where(\"funcPK > 160 AND funcSexo = 'F'\")\\\n",
        "   .show()"
      ],
      "execution_count": null,
      "outputs": [
        {
          "output_type": "stream",
          "name": "stdout",
          "text": [
            "+------+-------------+----------------+--------+------------------+-----------------+-----------------+-----------------+--------------+--------------+---------------+--------------+---------------+------------+-------------+\n",
            "|funcPK|funcMatricula|        funcNome|funcSexo|funcDataNascimento|funcDiaNascimento|funcMesNascimento|funcAnoNascimento|    funcCidade|funcEstadoNome|funcEstadoSigla|funcRegiaoNome|funcRegiaoSigla|funcPaisNome|funcPaisSigla|\n",
            "+------+-------------+----------------+--------+------------------+-----------------+-----------------+-----------------+--------------+--------------+---------------+--------------+---------------+------------+-------------+\n",
            "|   161|        M-161|  ABINOA ALMEIDA|       F|          9/5/1990|                9|                5|             1990|        RECIFE|    PERNAMBUCO|             PE|      NORDESTE|             NE|      BRASIL|           BR|\n",
            "|   162|        M-162|   ABINOAN ALVES|       F|         10/6/1990|               10|                6|             1990|        RECIFE|    PERNAMBUCO|             PE|      NORDESTE|             NE|      BRASIL|           BR|\n",
            "|   166|        M-166|ABIQUEILA BARROS|       F|        14/10/1990|               14|               10|             1990|   SANTO ANDRE|     SAO PAULO|             SP|       SUDESTE|             SE|      BRASIL|           BR|\n",
            "|   169|        M-169|ABISAGUE CARDOSO|       F|         17/1/1990|               17|                1|             1990|RIBEIRAO PRETO|     SAO PAULO|             SP|       SUDESTE|             SE|      BRASIL|           BR|\n",
            "|   179|        M-179|   ABKEILA GOMES|       F|        27/11/1957|               27|               11|             1957|BELO HORIZONTE|  MINAS GERAIS|             MG|       SUDESTE|             SE|      BRASIL|           BR|\n",
            "|   180|        M-180|     ADELAR LIMA|       F|        28/12/1958|               28|               12|             1958|      ARAGUARI|  MINAS GERAIS|             MG|       SUDESTE|             SE|      BRASIL|           BR|\n",
            "|   181|        M-181| ADILENE ALMEIDA|       F|         29/1/1959|               29|                1|             1959|    OURO PRETO|  MINAS GERAIS|             MG|       SUDESTE|             SE|      BRASIL|           BR|\n",
            "|   185|        M-185|    ADNA BATISTA|       F|          4/5/1963|                4|                5|             1963|     GUARATUBA|        PARANA|             PR|           SUL|              S|      BRASIL|           BR|\n",
            "|   195|        M-195|  ABNOAN FREITAS|       F|         14/3/1973|               14|                3|             1973|    SAO CARLOS|     SAO PAULO|             SP|       SUDESTE|             SE|      BRASIL|           BR|\n",
            "|   196|        M-196|ABNOAN FERNANDES|       F|         15/4/1974|               15|                4|             1974|RIBEIRAO PRETO|     SAO PAULO|             SP|       SUDESTE|             SE|      BRASIL|           BR|\n",
            "+------+-------------+----------------+--------+------------------+-----------------+-----------------+-----------------+--------------+--------------+---------------+--------------+---------------+------------+-------------+\n",
            "\n"
          ]
        }
      ]
    },
    {
      "cell_type": "markdown",
      "metadata": {
        "id": "rH96L5MqbVif"
      },
      "source": [
        "### Método between()\n",
        "\n",
        "`between (valorInferior, valorSuperior)`\n",
        "\n",
        "Retorna as linhas cujos valores são maiores ou iguais ao `valorInferior` e menores ou iguais ao `valorSuperior`.\n",
        "\n",
        "Este método é equivalente ao operador de comparação `BETWEEN ... AND` da linguagem SQL.\n"
      ]
    },
    {
      "cell_type": "markdown",
      "metadata": {
        "id": "I5pX68pUmtSZ"
      },
      "source": [
        "O comando a seguir seleciona os funcionários cujo valor de `funcPK` é maior ou igual a 10 e menor ou igual a 15."
      ]
    },
    {
      "cell_type": "code",
      "metadata": {
        "id": "DGInxweLmizE",
        "colab": {
          "base_uri": "https://localhost:8080/"
        },
        "outputId": "c36a8ddc-db7f-4231-c577-f80dd9b60ab7"
      },
      "source": [
        "funcionario\\\n",
        "   .filter(\"funcPK BETWEEN 10 AND 15\")\\\n",
        "   .show()"
      ],
      "execution_count": null,
      "outputs": [
        {
          "output_type": "stream",
          "name": "stdout",
          "text": [
            "+------+-------------+---------------+--------+------------------+-----------------+-----------------+-----------------+--------------+--------------+---------------+--------------+---------------+------------+-------------+\n",
            "|funcPK|funcMatricula|       funcNome|funcSexo|funcDataNascimento|funcDiaNascimento|funcMesNascimento|funcAnoNascimento|    funcCidade|funcEstadoNome|funcEstadoSigla|funcRegiaoNome|funcRegiaoSigla|funcPaisNome|funcPaisSigla|\n",
            "+------+-------------+---------------+--------+------------------+-----------------+-----------------+-----------------+--------------+--------------+---------------+--------------+---------------+------------+-------------+\n",
            "|    10|         M-10| ADETE CARVALHO|       M|        10/10/1990|               10|               10|             1990|        OSASCO|     SAO PAULO|             SP|       SUDESTE|             SE|      BRASIL|           BR|\n",
            "|    11|         M-11|     ABD CASTRO|       M|        11/11/1990|               11|               11|             1990|    ARARAQUARA|     SAO PAULO|             SP|       SUDESTE|             SE|      BRASIL|           BR|\n",
            "|    12|         M-12|     ABDA COSTA|       F|        12/12/1990|               12|               12|             1990|       BARUERI|     SAO PAULO|             SP|       SUDESTE|             SE|      BRASIL|           BR|\n",
            "|    13|         M-13|    ABDIEL DIAS|       M|         13/1/1990|               13|                1|             1990|RIO DE JANEIRO|RIO DE JANEIRO|             RJ|       SUDESTE|             SE|      BRASIL|           BR|\n",
            "|    14|         M-14|  ABDALA DUARTE|       M|         14/2/1990|               14|                2|             1990| VOLTA REDONDA|RIO DE JANEIRO|             RJ|       SUDESTE|             SE|      BRASIL|           BR|\n",
            "|    15|         M-15|ABDALLA FREITAS|       M|         15/3/1990|               15|                3|             1990|ANGRA DOS REIS|RIO DE JANEIRO|             RJ|       SUDESTE|             SE|      BRASIL|           BR|\n",
            "+------+-------------+---------------+--------+------------------+-----------------+-----------------+-----------------+--------------+--------------+---------------+--------------+---------------+------------+-------------+\n",
            "\n"
          ]
        }
      ]
    },
    {
      "cell_type": "markdown",
      "metadata": {
        "id": "B5rg_-r4dA6z"
      },
      "source": [
        "### Métodos isNull() e isNotNull()\n",
        "\n",
        "Os métodos `isNull()` e `isNotNull()` estão relacionados com a verificação de valores nulos, da seguinte forma:\n",
        "\n",
        "- `isNull()`: Retorna verdadeiro se o valor do atributo for nulo. \n",
        "\n",
        "- `isNotNull()`: Retorna verdadeiro se o valor do atributo não for nulo.\n",
        "\n",
        "Estes métodos são equivalentes aos operadores de comparação `IS NULL` e `IS NOT NULL` da linguagem SQL."
      ]
    },
    {
      "cell_type": "markdown",
      "metadata": {
        "id": "IPy2sJeZm-Ka"
      },
      "source": [
        "Nos comandos a seguir, primeiramente solicita-se a listagem de todas as linhas cujo valor do atributo `funcPK` seja nulo. Nenhuma linha é retornada. Na sequência, são retornadas todas as linhas do `DataFrame` `funcionario`, desde que todos os valores do atributo `funcPK` não são nulos. "
      ]
    },
    {
      "cell_type": "code",
      "metadata": {
        "id": "SzbgGpfWd2nJ",
        "colab": {
          "base_uri": "https://localhost:8080/"
        },
        "outputId": "4eb9515a-c911-4870-e5b7-8ab8e9753136"
      },
      "source": [
        "from pyspark.sql import Row\n",
        "\n",
        "funcionario\\\n",
        "   .filter(funcionario.funcPK.isNull())\\\n",
        "   .show(5)"
      ],
      "execution_count": null,
      "outputs": [
        {
          "output_type": "stream",
          "name": "stdout",
          "text": [
            "+------+-------------+--------+--------+------------------+-----------------+-----------------+-----------------+----------+--------------+---------------+--------------+---------------+------------+-------------+\n",
            "|funcPK|funcMatricula|funcNome|funcSexo|funcDataNascimento|funcDiaNascimento|funcMesNascimento|funcAnoNascimento|funcCidade|funcEstadoNome|funcEstadoSigla|funcRegiaoNome|funcRegiaoSigla|funcPaisNome|funcPaisSigla|\n",
            "+------+-------------+--------+--------+------------------+-----------------+-----------------+-----------------+----------+--------------+---------------+--------------+---------------+------------+-------------+\n",
            "+------+-------------+--------+--------+------------------+-----------------+-----------------+-----------------+----------+--------------+---------------+--------------+---------------+------------+-------------+\n",
            "\n"
          ]
        }
      ]
    },
    {
      "cell_type": "code",
      "metadata": {
        "id": "Cy_tY5fmeRB5",
        "colab": {
          "base_uri": "https://localhost:8080/"
        },
        "outputId": "483fd50d-8da2-4c10-d35e-b538d9551103"
      },
      "source": [
        "funcionario\\\n",
        "   .filter(funcionario.funcPK.isNotNull())\\\n",
        "   .show(5)"
      ],
      "execution_count": null,
      "outputs": [
        {
          "output_type": "stream",
          "name": "stdout",
          "text": [
            "+------+-------------+-------------+--------+------------------+-----------------+-----------------+-----------------+-----------+--------------+---------------+--------------+---------------+------------+-------------+\n",
            "|funcPK|funcMatricula|     funcNome|funcSexo|funcDataNascimento|funcDiaNascimento|funcMesNascimento|funcAnoNascimento| funcCidade|funcEstadoNome|funcEstadoSigla|funcRegiaoNome|funcRegiaoSigla|funcPaisNome|funcPaisSigla|\n",
            "+------+-------------+-------------+--------+------------------+-----------------+-----------------+-----------------+-----------+--------------+---------------+--------------+---------------+------------+-------------+\n",
            "|     1|          M-1|ALINE ALMEIDA|       F|          1/1/1990|                1|                1|             1990|  SAO PAULO|     SAO PAULO|             SP|       SUDESTE|             SE|      BRASIL|           BR|\n",
            "|     2|          M-2|   ARAO ALVES|       M|          2/2/1990|                2|                2|             1990|   CAMPINAS|     SAO PAULO|             SP|       SUDESTE|             SE|      BRASIL|           BR|\n",
            "|     3|          M-3| ARON ANDRADE|       M|          3/3/1990|                3|                3|             1990|     SANTOS|     SAO PAULO|             SP|       SUDESTE|             SE|      BRASIL|           BR|\n",
            "|     4|          M-4|  ADA BARBOSA|       F|          4/4/1990|                4|                4|             1990|SANTO ANDRE|     SAO PAULO|             SP|       SUDESTE|             SE|      BRASIL|           BR|\n",
            "|     5|          M-5|ABADE BATISTA|       M|          5/5/1990|                5|                5|             1990| PIRACICABA|     SAO PAULO|             SP|       SUDESTE|             SE|      BRASIL|           BR|\n",
            "+------+-------------+-------------+--------+------------------+-----------------+-----------------+-----------------+-----------+--------------+---------------+--------------+---------------+------------+-------------+\n",
            "only showing top 5 rows\n",
            "\n"
          ]
        }
      ]
    },
    {
      "cell_type": "markdown",
      "metadata": {
        "id": "zLTMTwIbecTz"
      },
      "source": [
        "### Método isin()\n",
        "\n",
        "`isin(listaDeValores)`\n",
        "\n",
        "Retorna verdadeiro se o valor do atributo estiver contido na `listaDeValores` passada como parâmetro.\n",
        "\n",
        "Este método é equivalente ao operador de comparação `IN` da linguagem SQL."
      ]
    },
    {
      "cell_type": "markdown",
      "metadata": {
        "id": "nt12rzSaneSa"
      },
      "source": [
        "No comando a seguir, são listados os dados dos funcionários cujo valor de `funcPK` está contido na lista identificada pelos valores `1, 2, 3, 4, 5`. "
      ]
    },
    {
      "cell_type": "code",
      "metadata": {
        "id": "JGcn-mGye-PO",
        "colab": {
          "base_uri": "https://localhost:8080/"
        },
        "outputId": "4fbd954c-0784-40ee-95f3-9991048981d7"
      },
      "source": [
        "funcionario[funcionario.funcPK.isin([1,2,3,4,5])]\\\n",
        "   .show()"
      ],
      "execution_count": null,
      "outputs": [
        {
          "output_type": "stream",
          "name": "stdout",
          "text": [
            "+------+-------------+-------------+--------+------------------+-----------------+-----------------+-----------------+-----------+--------------+---------------+--------------+---------------+------------+-------------+\n",
            "|funcPK|funcMatricula|     funcNome|funcSexo|funcDataNascimento|funcDiaNascimento|funcMesNascimento|funcAnoNascimento| funcCidade|funcEstadoNome|funcEstadoSigla|funcRegiaoNome|funcRegiaoSigla|funcPaisNome|funcPaisSigla|\n",
            "+------+-------------+-------------+--------+------------------+-----------------+-----------------+-----------------+-----------+--------------+---------------+--------------+---------------+------------+-------------+\n",
            "|     1|          M-1|ALINE ALMEIDA|       F|          1/1/1990|                1|                1|             1990|  SAO PAULO|     SAO PAULO|             SP|       SUDESTE|             SE|      BRASIL|           BR|\n",
            "|     2|          M-2|   ARAO ALVES|       M|          2/2/1990|                2|                2|             1990|   CAMPINAS|     SAO PAULO|             SP|       SUDESTE|             SE|      BRASIL|           BR|\n",
            "|     3|          M-3| ARON ANDRADE|       M|          3/3/1990|                3|                3|             1990|     SANTOS|     SAO PAULO|             SP|       SUDESTE|             SE|      BRASIL|           BR|\n",
            "|     4|          M-4|  ADA BARBOSA|       F|          4/4/1990|                4|                4|             1990|SANTO ANDRE|     SAO PAULO|             SP|       SUDESTE|             SE|      BRASIL|           BR|\n",
            "|     5|          M-5|ABADE BATISTA|       M|          5/5/1990|                5|                5|             1990| PIRACICABA|     SAO PAULO|             SP|       SUDESTE|             SE|      BRASIL|           BR|\n",
            "+------+-------------+-------------+--------+------------------+-----------------+-----------------+-----------------+-----------+--------------+---------------+--------------+---------------+------------+-------------+\n",
            "\n"
          ]
        }
      ]
    },
    {
      "cell_type": "markdown",
      "metadata": {
        "id": "QNAasgklzke5"
      },
      "source": [
        "### Método like()\n",
        "\n",
        "like(expressão)\n",
        "\n",
        "Quando aplicado a uma coluna de um `DataFrame`, retorna as linhas que são similares à `expressão` definida como parâmetro.\n",
        "\n",
        "A comparação é sensível ao caso. Pode ser utilizado % para substituir qualquer *string*. \n",
        "\n",
        "Este método é equivalente ao operador de comparação `LIKE` da linguagem SQL.\n"
      ]
    },
    {
      "cell_type": "code",
      "metadata": {
        "id": "Q9Jelnu_0SR3",
        "colab": {
          "base_uri": "https://localhost:8080/"
        },
        "outputId": "5e7ca924-15ce-48f9-dd05-c38178bc1a89"
      },
      "source": [
        "funcionario\\\n",
        "   .filter(funcionario.funcNome.like('ADA%'))\\\n",
        "   .show()"
      ],
      "execution_count": null,
      "outputs": [
        {
          "output_type": "stream",
          "name": "stdout",
          "text": [
            "+------+-------------+--------------+--------+------------------+-----------------+-----------------+-----------------+-----------+--------------+---------------+--------------+---------------+------------+-------------+\n",
            "|funcPK|funcMatricula|      funcNome|funcSexo|funcDataNascimento|funcDiaNascimento|funcMesNascimento|funcAnoNascimento| funcCidade|funcEstadoNome|funcEstadoSigla|funcRegiaoNome|funcRegiaoSigla|funcPaisNome|funcPaisSigla|\n",
            "+------+-------------+--------------+--------+------------------+-----------------+-----------------+-----------------+-----------+--------------+---------------+--------------+---------------+------------+-------------+\n",
            "|     4|          M-4|   ADA BARBOSA|       F|          4/4/1990|                4|                4|             1990|SANTO ANDRE|     SAO PAULO|             SP|       SUDESTE|             SE|      BRASIL|           BR|\n",
            "|    52|         M-52|ADAILTON COSTA|       M|         21/4/1951|               21|                4|             1951|     RECIFE|    PERNAMBUCO|             PE|      NORDESTE|             NE|      BRASIL|           BR|\n",
            "|   113|        M-113|    ADAIR DIAS|       F|         21/5/1990|               21|                5|             1990| PIRACICABA|     SAO PAULO|             SP|       SUDESTE|             SE|      BRASIL|           BR|\n",
            "+------+-------------+--------------+--------+------------------+-----------------+-----------------+-----------------+-----------+--------------+---------------+--------------+---------------+------------+-------------+\n",
            "\n"
          ]
        }
      ]
    },
    {
      "cell_type": "markdown",
      "metadata": {
        "id": "tl_EBG_25itp"
      },
      "source": [
        "### Método withColumnRenamed()\n",
        "\n",
        "`withColumnRenamed(nomeColunaAtual, novoNomeColuna)`\n",
        "\n",
        "Renomeia o nome de uma coluna já existente, identificado pelo parâmetro `nomeColunaAtual`, para o novo nome identificado pelo parâmetro `novoNomeColuna`. \n",
        "\n",
        "Este método é equivalente à cláusula AS da linguagem SQL quando utilizada para renomear atributos.\n",
        "\n"
      ]
    },
    {
      "cell_type": "code",
      "metadata": {
        "id": "FG0hdHYX6YIM",
        "colab": {
          "base_uri": "https://localhost:8080/"
        },
        "outputId": "b529f6ed-1080-409f-c660-1f911e5d42fc"
      },
      "source": [
        "pagamento\\\n",
        "   .select('*')\\\n",
        "   .show(2)"
      ],
      "execution_count": null,
      "outputs": [
        {
          "output_type": "stream",
          "name": "stdout",
          "text": [
            "+------+--------+------+-------+-------+---------------------+\n",
            "|funcPK|equipePK|dataPK|cargoPK|salario|quantidadeLancamentos|\n",
            "+------+--------+------+-------+-------+---------------------+\n",
            "|   147|       2|     5|     64|1559.94|                    1|\n",
            "|   124|       2|     5|    329|8102.77|                    1|\n",
            "+------+--------+------+-------+-------+---------------------+\n",
            "only showing top 2 rows\n",
            "\n"
          ]
        }
      ]
    },
    {
      "cell_type": "code",
      "metadata": {
        "id": "QKXYQCrn6m1c",
        "colab": {
          "base_uri": "https://localhost:8080/"
        },
        "outputId": "43182850-9013-421d-a046-c1b0e7c5d32f"
      },
      "source": [
        "pagamento\\\n",
        "   .withColumnRenamed(\"salario\", \"Salário do funcionário\")\\\n",
        "   .show(2)"
      ],
      "execution_count": null,
      "outputs": [
        {
          "output_type": "stream",
          "name": "stdout",
          "text": [
            "+------+--------+------+-------+----------------------+---------------------+\n",
            "|funcPK|equipePK|dataPK|cargoPK|Salário do funcionário|quantidadeLancamentos|\n",
            "+------+--------+------+-------+----------------------+---------------------+\n",
            "|   147|       2|     5|     64|               1559.94|                    1|\n",
            "|   124|       2|     5|    329|               8102.77|                    1|\n",
            "+------+--------+------+-------+----------------------+---------------------+\n",
            "only showing top 2 rows\n",
            "\n"
          ]
        }
      ]
    },
    {
      "cell_type": "markdown",
      "metadata": {
        "id": "NyM9nbLXD_1F"
      },
      "source": [
        "### Método crossJoin()\n",
        "\n",
        "`crossJoin(segundoDataFrame)`\n",
        "\n",
        "Retorna o produto cartesiano de dois `DataFrames`, criando um novo `DataFrame`. É passado como parâmetro o segundo `DataFrame`. \n",
        "\n",
        "No produto cartesiano, quaisquer duas linhas são combinadas, independentemente da integridade referencial existente entre elas. Portanto, como resultado, são produzidas todas as combinações de linhas possíveis entre os dois `DataFrames` participantes.\n",
        "\n",
        "Este método é equivalente à cláusula `FROM` da linguagem SQL."
      ]
    },
    {
      "cell_type": "markdown",
      "metadata": {
        "id": "CMFKGyoUGArA"
      },
      "source": [
        "Nos comandos a seguir, é feito o produto cartesiano dos `DataFrames` relacionados a `funcionario` e `pagamento`, mostrando que `funcPK` de `funcionario` pode ser diferente de `funcPK` de `pagamento`."
      ]
    },
    {
      "cell_type": "code",
      "metadata": {
        "id": "eO1QacE0D_Pd",
        "colab": {
          "base_uri": "https://localhost:8080/"
        },
        "outputId": "a9c74a1a-fe13-4057-c0f6-a69abb939a58"
      },
      "source": [
        "funcSelecionado = funcionario.select('funcPK', 'funcMatricula')\n",
        "pagSelecionado = pagamento.select ('funcPK', 'salario')\n",
        "funcSelecionado.crossJoin(pagSelecionado).show(10)"
      ],
      "execution_count": null,
      "outputs": [
        {
          "output_type": "stream",
          "name": "stdout",
          "text": [
            "+------+-------------+------+-------+\n",
            "|funcPK|funcMatricula|funcPK|salario|\n",
            "+------+-------------+------+-------+\n",
            "|     1|          M-1|   147|1559.94|\n",
            "|     2|          M-2|   147|1559.94|\n",
            "|     3|          M-3|   147|1559.94|\n",
            "|     4|          M-4|   147|1559.94|\n",
            "|     5|          M-5|   147|1559.94|\n",
            "|     6|          M-6|   147|1559.94|\n",
            "|     7|          M-7|   147|1559.94|\n",
            "|     8|          M-8|   147|1559.94|\n",
            "|     9|          M-9|   147|1559.94|\n",
            "|    10|         M-10|   147|1559.94|\n",
            "+------+-------------+------+-------+\n",
            "only showing top 10 rows\n",
            "\n"
          ]
        }
      ]
    },
    {
      "cell_type": "markdown",
      "metadata": {
        "id": "ovQ_4BY-Gspn"
      },
      "source": [
        "### Método join()\n",
        "\n",
        "`join(segundoDataFrame, on=None, how=None)`\n",
        "\n",
        "Retorna a junção de dois `DataFrames`, criando um novo `DataFrame`. O primeiro parâmetro indica qual o segundo `DataFrame` a ser considerado na junção. O parâmetro `on` indica a condição de junção. O terceiro parâmetro, `how`, especifica como a junção deve ser feita. O valor padrão é `inner`. Também pode ser: `cross`, `outer`, `full`, `fullouter`, `full_outer`, `left`, `leftouter`, `left_outer`, `right`, `rightouter`, `right_outer`.\n",
        "\n",
        "Na junção,  as linhas são combinadas de acordo com a integridade referencial existente entre elas, a qual deve ser definida no parâmetro `on`.\n",
        "\n",
        "Este método é equivalente à cláusula `JOIN` da linguagem SQL."
      ]
    },
    {
      "cell_type": "markdown",
      "metadata": {
        "id": "nOR7WVG-IZDH"
      },
      "source": [
        "Nos comandos a seguir, é feita a junção interna (`inner join`) dos `DataFrames` relacionados a `funcionario` e `pagamento`, mostrando que `funcPK` de funcionario é igual à `funcPK` de `pagamento`."
      ]
    },
    {
      "cell_type": "code",
      "metadata": {
        "id": "2Z9j3u-AIlDa",
        "colab": {
          "base_uri": "https://localhost:8080/"
        },
        "outputId": "399b180a-8a36-474a-c994-d9765ad84598"
      },
      "source": [
        "# realizando a junção passo a passo\n",
        "funcSelecionado = funcionario.select('funcPK', 'funcMatricula')\n",
        "pagSelecionado = pagamento.select('funcPK', 'salario')\n",
        "funcSelecionado\\\n",
        "   .join(pagSelecionado, funcSelecionado[\"funcPK\"] == pagSelecionado[\"funcPK\"], 'inner')\\\n",
        "   .show(10)"
      ],
      "execution_count": null,
      "outputs": [
        {
          "output_type": "stream",
          "name": "stdout",
          "text": [
            "+------+-------------+------+-------+\n",
            "|funcPK|funcMatricula|funcPK|salario|\n",
            "+------+-------------+------+-------+\n",
            "|   147|        M-147|   147|1559.94|\n",
            "|   124|        M-124|   124|8102.77|\n",
            "|   175|        M-175|   175|2532.51|\n",
            "|   171|        M-171|   171| 7882.7|\n",
            "|   148|        M-148|   148|4404.59|\n",
            "|     5|          M-5|     5|2226.66|\n",
            "|   128|        M-128|   128|6157.04|\n",
            "|    82|         M-82|    82|1585.51|\n",
            "|    28|         M-28|    28|1594.02|\n",
            "|    46|         M-46|    46|9880.16|\n",
            "+------+-------------+------+-------+\n",
            "only showing top 10 rows\n",
            "\n"
          ]
        }
      ]
    },
    {
      "cell_type": "code",
      "metadata": {
        "id": "DarDF8O-JreX",
        "colab": {
          "base_uri": "https://localhost:8080/"
        },
        "outputId": "b8aadb9e-ba20-4963-8313-6cca4939368a"
      },
      "source": [
        "# eliminando a coluna funcPK repetida\n",
        "funcSelecionado\\\n",
        "   .join(pagSelecionado, 'funcPK', 'inner')\\\n",
        "   .show(10)"
      ],
      "execution_count": null,
      "outputs": [
        {
          "output_type": "stream",
          "name": "stdout",
          "text": [
            "+------+-------------+-------+\n",
            "|funcPK|funcMatricula|salario|\n",
            "+------+-------------+-------+\n",
            "|   147|        M-147|1559.94|\n",
            "|   124|        M-124|8102.77|\n",
            "|   175|        M-175|2532.51|\n",
            "|   171|        M-171| 7882.7|\n",
            "|   148|        M-148|4404.59|\n",
            "|     5|          M-5|2226.66|\n",
            "|   128|        M-128|6157.04|\n",
            "|    82|         M-82|1585.51|\n",
            "|    28|         M-28|1594.02|\n",
            "|    46|         M-46|9880.16|\n",
            "+------+-------------+-------+\n",
            "only showing top 10 rows\n",
            "\n"
          ]
        }
      ]
    },
    {
      "cell_type": "markdown",
      "metadata": {
        "id": "KEK53WNrMGAS"
      },
      "source": [
        "### Método orderBy()\n",
        "\n",
        "`orderBy (colunas, ordena)`\n",
        "\n",
        "Ordena as linhas resultantes, gerando um novo `DataFrame`. Deve ser especificada uma lista de colunas ou os nomes de colunas a serem considerados na ordenação. Pode ser especificada também a ordenação ascendente ou descendente. \n",
        "\n",
        "Este método é equivalente à cláusula `ORDER BY` da linguagem SQL."
      ]
    },
    {
      "cell_type": "code",
      "metadata": {
        "id": "j8Xiqs-GNcgf",
        "colab": {
          "base_uri": "https://localhost:8080/"
        },
        "outputId": "de5ac87f-3219-4a2c-96d5-4475b0b16b58"
      },
      "source": [
        "from pyspark.sql.functions import *\n",
        "\n",
        "funcionario.orderBy(desc(\"funcPK\")).show()"
      ],
      "execution_count": null,
      "outputs": [
        {
          "output_type": "stream",
          "name": "stdout",
          "text": [
            "+------+-------------+----------------+--------+------------------+-----------------+-----------------+-----------------+--------------------+--------------+---------------+--------------+---------------+------------+-------------+\n",
            "|funcPK|funcMatricula|        funcNome|funcSexo|funcDataNascimento|funcDiaNascimento|funcMesNascimento|funcAnoNascimento|          funcCidade|funcEstadoNome|funcEstadoSigla|funcRegiaoNome|funcRegiaoSigla|funcPaisNome|funcPaisSigla|\n",
            "+------+-------------+----------------+--------+------------------+-----------------+-----------------+-----------------+--------------------+--------------+---------------+--------------+---------------+------------+-------------+\n",
            "|   200|        M-200|     ABRAAO LIMA|       M|         19/8/1978|               19|                8|             1978|          ARARAQUARA|     SAO PAULO|             SP|       SUDESTE|             SE|      BRASIL|           BR|\n",
            "|   199|        M-199|   ABRAHAM GOMES|       M|         18/7/1977|               18|                7|             1977|              OSASCO|     SAO PAULO|             SP|       SUDESTE|             SE|      BRASIL|           BR|\n",
            "|   198|        M-198|     ADRA GARCIA|       M|         17/6/1976|               17|                6|             1976|SAO JOSE DO RIO P...|     SAO PAULO|             SP|       SUDESTE|             SE|      BRASIL|           BR|\n",
            "|   197|        M-197| ADNAEL FERREIRA|       M|         16/5/1975|               16|                5|             1975|           ILHA BELA|     SAO PAULO|             SP|       SUDESTE|             SE|      BRASIL|           BR|\n",
            "|   196|        M-196|ABNOAN FERNANDES|       F|         15/4/1974|               15|                4|             1974|      RIBEIRAO PRETO|     SAO PAULO|             SP|       SUDESTE|             SE|      BRASIL|           BR|\n",
            "|   195|        M-195|  ABNOAN FREITAS|       F|         14/3/1973|               14|                3|             1973|          SAO CARLOS|     SAO PAULO|             SP|       SUDESTE|             SE|      BRASIL|           BR|\n",
            "|   194|        M-194|    ABNER DUARTE|       M|         13/2/1972|               13|                2|             1972|          PIRACICABA|     SAO PAULO|             SP|       SUDESTE|             SE|      BRASIL|           BR|\n",
            "|   193|        M-193|    ADNALDO DIAS|       M|         12/1/1971|               12|                1|             1971|         SANTO ANDRE|     SAO PAULO|             SP|       SUDESTE|             SE|      BRASIL|           BR|\n",
            "|   192|        M-192|     ADNEI COSTA|       M|        11/12/1970|               11|               12|             1970|              SANTOS|     SAO PAULO|             SP|       SUDESTE|             SE|      BRASIL|           BR|\n",
            "|   191|        M-191|    ABNER CASTRO|       M|        10/11/1969|               10|               11|             1969|            CAMPINAS|     SAO PAULO|             SP|       SUDESTE|             SE|      BRASIL|           BR|\n",
            "|   190|        M-190| ADNAEL CARVALHO|       M|         9/10/1968|                9|               10|             1968|           SAO PAULO|     SAO PAULO|             SP|       SUDESTE|             SE|      BRASIL|           BR|\n",
            "|   189|        M-189|   ABNER CARDOSO|       M|          8/9/1967|                8|                9|             1967|              RECIFE|    PERNAMBUCO|             PE|      NORDESTE|             NE|      BRASIL|           BR|\n",
            "|   188|        M-188|   ADNAEL CAMPOS|       M|          7/8/1966|                7|                8|             1966|              RECIFE|    PERNAMBUCO|             PE|      NORDESTE|             NE|      BRASIL|           BR|\n",
            "|   187|        M-187| ABNADABE BORGES|       M|          6/7/1965|                6|                7|             1965|              RECIFE|    PERNAMBUCO|             PE|      NORDESTE|             NE|      BRASIL|           BR|\n",
            "|   186|        M-186|  ABNADAB BARROS|       M|          5/6/1964|                5|                6|             1964|            MORRETES|        PARANA|             PR|           SUL|              S|      BRASIL|           BR|\n",
            "|   185|        M-185|    ADNA BATISTA|       F|          4/5/1963|                4|                5|             1963|           GUARATUBA|        PARANA|             PR|           SUL|              S|      BRASIL|           BR|\n",
            "|   184|        M-184| ADMARIO BARBOSA|       M|          3/4/1962|                3|                4|             1962|            LONDRINA|        PARANA|             PR|           SUL|              S|      BRASIL|           BR|\n",
            "|   183|        M-183|   ADMAR ANDRADE|       M|          2/3/1961|                2|                3|             1961|            CURITIBA|        PARANA|             PR|           SUL|              S|      BRASIL|           BR|\n",
            "|   182|        M-182|    ABMAEL ALVES|       M|          1/2/1960|                1|                2|             1960|         MONTE VERDE|  MINAS GERAIS|             MG|       SUDESTE|             SE|      BRASIL|           BR|\n",
            "|   181|        M-181| ADILENE ALMEIDA|       F|         29/1/1959|               29|                1|             1959|          OURO PRETO|  MINAS GERAIS|             MG|       SUDESTE|             SE|      BRASIL|           BR|\n",
            "+------+-------------+----------------+--------+------------------+-----------------+-----------------+-----------------+--------------------+--------------+---------------+--------------+---------------+------------+-------------+\n",
            "only showing top 20 rows\n",
            "\n"
          ]
        }
      ]
    },
    {
      "cell_type": "code",
      "metadata": {
        "id": "wBB4oPXUPbVh",
        "colab": {
          "base_uri": "https://localhost:8080/"
        },
        "outputId": "1b4788ff-c0f0-466b-df1e-4810cbd579e9"
      },
      "source": [
        "funcionario.orderBy([\"funcPK\"],ascending=[0]).show()"
      ],
      "execution_count": null,
      "outputs": [
        {
          "output_type": "stream",
          "name": "stdout",
          "text": [
            "+------+-------------+----------------+--------+------------------+-----------------+-----------------+-----------------+--------------------+--------------+---------------+--------------+---------------+------------+-------------+\n",
            "|funcPK|funcMatricula|        funcNome|funcSexo|funcDataNascimento|funcDiaNascimento|funcMesNascimento|funcAnoNascimento|          funcCidade|funcEstadoNome|funcEstadoSigla|funcRegiaoNome|funcRegiaoSigla|funcPaisNome|funcPaisSigla|\n",
            "+------+-------------+----------------+--------+------------------+-----------------+-----------------+-----------------+--------------------+--------------+---------------+--------------+---------------+------------+-------------+\n",
            "|   200|        M-200|     ABRAAO LIMA|       M|         19/8/1978|               19|                8|             1978|          ARARAQUARA|     SAO PAULO|             SP|       SUDESTE|             SE|      BRASIL|           BR|\n",
            "|   199|        M-199|   ABRAHAM GOMES|       M|         18/7/1977|               18|                7|             1977|              OSASCO|     SAO PAULO|             SP|       SUDESTE|             SE|      BRASIL|           BR|\n",
            "|   198|        M-198|     ADRA GARCIA|       M|         17/6/1976|               17|                6|             1976|SAO JOSE DO RIO P...|     SAO PAULO|             SP|       SUDESTE|             SE|      BRASIL|           BR|\n",
            "|   197|        M-197| ADNAEL FERREIRA|       M|         16/5/1975|               16|                5|             1975|           ILHA BELA|     SAO PAULO|             SP|       SUDESTE|             SE|      BRASIL|           BR|\n",
            "|   196|        M-196|ABNOAN FERNANDES|       F|         15/4/1974|               15|                4|             1974|      RIBEIRAO PRETO|     SAO PAULO|             SP|       SUDESTE|             SE|      BRASIL|           BR|\n",
            "|   195|        M-195|  ABNOAN FREITAS|       F|         14/3/1973|               14|                3|             1973|          SAO CARLOS|     SAO PAULO|             SP|       SUDESTE|             SE|      BRASIL|           BR|\n",
            "|   194|        M-194|    ABNER DUARTE|       M|         13/2/1972|               13|                2|             1972|          PIRACICABA|     SAO PAULO|             SP|       SUDESTE|             SE|      BRASIL|           BR|\n",
            "|   193|        M-193|    ADNALDO DIAS|       M|         12/1/1971|               12|                1|             1971|         SANTO ANDRE|     SAO PAULO|             SP|       SUDESTE|             SE|      BRASIL|           BR|\n",
            "|   192|        M-192|     ADNEI COSTA|       M|        11/12/1970|               11|               12|             1970|              SANTOS|     SAO PAULO|             SP|       SUDESTE|             SE|      BRASIL|           BR|\n",
            "|   191|        M-191|    ABNER CASTRO|       M|        10/11/1969|               10|               11|             1969|            CAMPINAS|     SAO PAULO|             SP|       SUDESTE|             SE|      BRASIL|           BR|\n",
            "|   190|        M-190| ADNAEL CARVALHO|       M|         9/10/1968|                9|               10|             1968|           SAO PAULO|     SAO PAULO|             SP|       SUDESTE|             SE|      BRASIL|           BR|\n",
            "|   189|        M-189|   ABNER CARDOSO|       M|          8/9/1967|                8|                9|             1967|              RECIFE|    PERNAMBUCO|             PE|      NORDESTE|             NE|      BRASIL|           BR|\n",
            "|   188|        M-188|   ADNAEL CAMPOS|       M|          7/8/1966|                7|                8|             1966|              RECIFE|    PERNAMBUCO|             PE|      NORDESTE|             NE|      BRASIL|           BR|\n",
            "|   187|        M-187| ABNADABE BORGES|       M|          6/7/1965|                6|                7|             1965|              RECIFE|    PERNAMBUCO|             PE|      NORDESTE|             NE|      BRASIL|           BR|\n",
            "|   186|        M-186|  ABNADAB BARROS|       M|          5/6/1964|                5|                6|             1964|            MORRETES|        PARANA|             PR|           SUL|              S|      BRASIL|           BR|\n",
            "|   185|        M-185|    ADNA BATISTA|       F|          4/5/1963|                4|                5|             1963|           GUARATUBA|        PARANA|             PR|           SUL|              S|      BRASIL|           BR|\n",
            "|   184|        M-184| ADMARIO BARBOSA|       M|          3/4/1962|                3|                4|             1962|            LONDRINA|        PARANA|             PR|           SUL|              S|      BRASIL|           BR|\n",
            "|   183|        M-183|   ADMAR ANDRADE|       M|          2/3/1961|                2|                3|             1961|            CURITIBA|        PARANA|             PR|           SUL|              S|      BRASIL|           BR|\n",
            "|   182|        M-182|    ABMAEL ALVES|       M|          1/2/1960|                1|                2|             1960|         MONTE VERDE|  MINAS GERAIS|             MG|       SUDESTE|             SE|      BRASIL|           BR|\n",
            "|   181|        M-181| ADILENE ALMEIDA|       F|         29/1/1959|               29|                1|             1959|          OURO PRETO|  MINAS GERAIS|             MG|       SUDESTE|             SE|      BRASIL|           BR|\n",
            "+------+-------------+----------------+--------+------------------+-----------------+-----------------+-----------------+--------------------+--------------+---------------+--------------+---------------+------------+-------------+\n",
            "only showing top 20 rows\n",
            "\n"
          ]
        }
      ]
    },
    {
      "cell_type": "markdown",
      "metadata": {
        "id": "iyA5YJ6YR2UK"
      },
      "source": [
        "## 5.2 Agregação e Agrupamento"
      ]
    },
    {
      "cell_type": "markdown",
      "metadata": {
        "id": "dWJaNTkkW74W"
      },
      "source": [
        "As funções de agregação e agrupamento somente podem ser aplicadas a tipos de dados numéricos."
      ]
    },
    {
      "cell_type": "markdown",
      "metadata": {
        "id": "X4z-vBThpbPM"
      },
      "source": [
        "### Método sum()\n",
        "\n",
        "`sum(listaDeColunas)`\n",
        "\n",
        "Calcula a soma dos valores para cada coluna especificada no parâmetro  `listaDeColunas`, considerando cada agrupamento. \n",
        "\n",
        "Este método é equivalente à função `SUM()` do SQL."
      ]
    },
    {
      "cell_type": "code",
      "metadata": {
        "id": "vIqWcieE69X3",
        "colab": {
          "base_uri": "https://localhost:8080/"
        },
        "outputId": "0aeade5e-2072-418b-dbc8-c50916aa8889"
      },
      "source": [
        "# listando a soma dos salários e a soma da quantidade de lancamentos\n",
        "pagamento\\\n",
        "   .select(\"salario\",\"quantidadeLancamentos\")\\\n",
        "   .groupBy()\\\n",
        "   .sum(\"salario\",\"quantidadeLancamentos\")\\\n",
        "   .withColumnRenamed(\"sum(salario)\", \"Soma dos salários\")\\\n",
        "   .withColumnRenamed(\"sum(quantidadeLancamentos)\", \"Quantidade Total de Lançamentos\")\\\n",
        "   .show() "
      ],
      "execution_count": null,
      "outputs": [
        {
          "output_type": "stream",
          "name": "stdout",
          "text": [
            "+-------------------+-------------------------------+\n",
            "|  Soma dos salários|Quantidade Total de Lançamentos|\n",
            "+-------------------+-------------------------------+\n",
            "|6.628875631347656E7|                           8640|\n",
            "+-------------------+-------------------------------+\n",
            "\n"
          ]
        }
      ]
    },
    {
      "cell_type": "markdown",
      "metadata": {
        "id": "2AGzCpCrqNVD"
      },
      "source": [
        "### Método min()\n",
        "\n",
        "`min(listaDeColunas)`\n",
        "\n",
        "Calcula o menor valor para cada coluna especificada no parâmetro  `listaDeColunas`, considerando cada agrupamento. \n",
        "\n",
        "Este método é equivalente à função `MIN()` do SQL."
      ]
    },
    {
      "cell_type": "code",
      "metadata": {
        "id": "X5Shi9U0sDfz",
        "colab": {
          "base_uri": "https://localhost:8080/"
        },
        "outputId": "caf02fb0-fa2f-4343-c30e-d2e03e314cb6"
      },
      "source": [
        "# listando o menor salário \n",
        "pagamento\\\n",
        "   .select(\"salario\")\\\n",
        "   .groupBy()\\\n",
        "   .min(\"salario\")\\\n",
        "   .withColumnRenamed(\"min(salario)\", \"Menor Salário\")\\\n",
        "   .show()\n",
        "   "
      ],
      "execution_count": null,
      "outputs": [
        {
          "output_type": "stream",
          "name": "stdout",
          "text": [
            "+-------------+\n",
            "|Menor Salário|\n",
            "+-------------+\n",
            "|      1501.57|\n",
            "+-------------+\n",
            "\n"
          ]
        }
      ]
    },
    {
      "cell_type": "markdown",
      "metadata": {
        "id": "QCj6gzu1qUyy"
      },
      "source": [
        "### Método max()\n",
        "\n",
        "`max(listaDeColunas)`\n",
        "\n",
        "Calcula o maior valor para cada coluna especificada no parâmetro  `listaDeColunas`, considerando cada agrupamento. \n",
        "\n",
        "Este método é equivalente à função `MAX()` do SQL."
      ]
    },
    {
      "cell_type": "code",
      "metadata": {
        "id": "C7niTNBq8C08",
        "colab": {
          "base_uri": "https://localhost:8080/"
        },
        "outputId": "38895c43-b250-4a92-916d-a655f8fda4d1"
      },
      "source": [
        "# listando o maior salário \n",
        "pagamento\\\n",
        "   .select(\"salario\")\\\n",
        "   .groupBy()\\\n",
        "   .max(\"salario\")\\\n",
        "   .withColumnRenamed(\"max(salario)\", \"Maior Salário\")\\\n",
        "   .show()"
      ],
      "execution_count": null,
      "outputs": [
        {
          "output_type": "stream",
          "name": "stdout",
          "text": [
            "+-------------+\n",
            "|Maior Salário|\n",
            "+-------------+\n",
            "|     47140.17|\n",
            "+-------------+\n",
            "\n"
          ]
        }
      ]
    },
    {
      "cell_type": "markdown",
      "metadata": {
        "id": "AOtTCxQnqsgN"
      },
      "source": [
        "### Método avg()\n",
        "\n",
        "`avg(listaDeColunas)`\n",
        "\n",
        "Calcula o valor médio para cada coluna especificada no parâmetro `listaDeColunas`, considerando cada grupo.  Este método é equivalente ao método `mean()`.\n",
        "\n",
        "Este método é equivalente à função de agregação `AVG()` da linguagem SQL."
      ]
    },
    {
      "cell_type": "code",
      "metadata": {
        "id": "5sdyzIh2bvud",
        "colab": {
          "base_uri": "https://localhost:8080/"
        },
        "outputId": "a755ee0a-e305-40cf-fc6a-45307e13e97d"
      },
      "source": [
        "pagamento\\\n",
        "   .select(\"salario\")\\\n",
        "   .groupBy()\\\n",
        "   .avg(\"salario\")\\\n",
        "   .withColumn(\"avg(salario)\", round(\"avg(salario)\",2))\\\n",
        "   .withColumnRenamed(\"avg(salario)\", \"Média dos Salários\")\\\n",
        "   .show()"
      ],
      "execution_count": null,
      "outputs": [
        {
          "output_type": "stream",
          "name": "stdout",
          "text": [
            "+------------------+\n",
            "|Média dos Salários|\n",
            "+------------------+\n",
            "|           7672.31|\n",
            "+------------------+\n",
            "\n"
          ]
        }
      ]
    },
    {
      "cell_type": "markdown",
      "metadata": {
        "id": "2VzVeDEJq3-w"
      },
      "source": [
        "### Método mean()\n",
        "\n",
        "`mean(listaDeColunas)`\n",
        "\n",
        "Calcula o valor médio para cada coluna especificada no parâmetro `listaDeColunas`, considerando cada grupo.  Este método é equivalente ao método `avg()`.\n",
        "\n",
        "Este método é equivalente à função de agregação `AVG()` da linguagem SQL."
      ]
    },
    {
      "cell_type": "code",
      "metadata": {
        "id": "STK4EoFvssGi",
        "colab": {
          "base_uri": "https://localhost:8080/"
        },
        "outputId": "2394562a-4544-4a80-9879-8d7f0df3c557"
      },
      "source": [
        "# listando a média dos salários \n",
        "pagamento\\\n",
        "   .select(\"salario\")\\\n",
        "   .groupBy()\\\n",
        "   .mean(\"salario\")\\\n",
        "   .withColumn(\"avg(salario)\", round(\"avg(salario)\",2))\\\n",
        "   .withColumnRenamed(\"avg(salario)\", \"Média dos Salários\")\\\n",
        "   .show()"
      ],
      "execution_count": null,
      "outputs": [
        {
          "output_type": "stream",
          "name": "stdout",
          "text": [
            "+------------------+\n",
            "|Média dos Salários|\n",
            "+------------------+\n",
            "|           7672.31|\n",
            "+------------------+\n",
            "\n"
          ]
        }
      ]
    },
    {
      "cell_type": "markdown",
      "metadata": {
        "id": "Vasq_HQarcxx"
      },
      "source": [
        "Método count()\n",
        "\n",
        "`count()`\n",
        "\n",
        "Retorna o número de linhas de um `DataFrame`.\n",
        "\n",
        "Este método é equivalente à função de agregação `COUNT()` da linguagem SQL."
      ]
    },
    {
      "cell_type": "code",
      "metadata": {
        "id": "3DZW44VrswEW",
        "colab": {
          "base_uri": "https://localhost:8080/"
        },
        "outputId": "4aed6a50-86d1-4b86-f0c2-8a9621f14877"
      },
      "source": [
        "# retornando a quantidade de linhas de pagamento\n",
        "pagamento.count()"
      ],
      "execution_count": null,
      "outputs": [
        {
          "output_type": "execute_result",
          "data": {
            "text/plain": [
              "8640"
            ]
          },
          "metadata": {},
          "execution_count": 216
        }
      ]
    },
    {
      "cell_type": "markdown",
      "metadata": {
        "id": "mtvB_NgWakPQ"
      },
      "source": [
        "### Método agg()"
      ]
    },
    {
      "cell_type": "markdown",
      "metadata": {
        "id": "3Ruw68nXtpGH"
      },
      "source": [
        "`agg(listaDeExpressões)`\n",
        "\n",
        "Aplica um método de agregação a todas as linhas do `DataFrame`, sem considerar agrupamentos. O parâmetro listaDeExpressões indica, para cada atributo sendo considerado, qual o método de agregação que deve ser aplicado. O método `agg()` representa uma sintaxe resumida para `groupBy.agg()`.  \n"
      ]
    },
    {
      "cell_type": "code",
      "metadata": {
        "id": "ceLxQs9UuUnY",
        "colab": {
          "base_uri": "https://localhost:8080/"
        },
        "outputId": "52fd5517-47a1-44f6-c4d0-441a582b93da"
      },
      "source": [
        "# listando o maior salário e a soma das quantidades de lançamentos\n",
        "pagamento\\\n",
        "   .agg({\"salario\": \"max\", \"quantidadeLancamentos\": \"sum\"})\\\n",
        "   .withColumnRenamed(\"max(salario)\", \"Maior Salário\")\\\n",
        "   .withColumnRenamed(\"sum(quantidadeLancamentos)\", \"Quantidade Total de Lançamentos\")\\\n",
        "   .show()"
      ],
      "execution_count": null,
      "outputs": [
        {
          "output_type": "stream",
          "name": "stdout",
          "text": [
            "+-------------+-------------------------------+\n",
            "|Maior Salário|Quantidade Total de Lançamentos|\n",
            "+-------------+-------------------------------+\n",
            "|     47140.17|                           8640|\n",
            "+-------------+-------------------------------+\n",
            "\n"
          ]
        }
      ]
    },
    {
      "cell_type": "markdown",
      "metadata": {
        "id": "ehosf7hhvQad"
      },
      "source": [
        "### Método groupBy()\n",
        "\n",
        "`groupBy(listaDeColunas)`\n",
        "\n",
        "Aplica um método de agregação a um grupo de conjunto de linhas, retornando para cada grupo do conjunto de linhas um único valor. \n",
        "\n",
        "Este método é equivalente à cláusula `GROUP BY` da linguagem SQL."
      ]
    },
    {
      "cell_type": "markdown",
      "metadata": {
        "id": "nZfho3lUvxrK"
      },
      "source": [
        "O comando a seguir lista, para cada funcPK, a soma dos salários recebidos. "
      ]
    },
    {
      "cell_type": "code",
      "metadata": {
        "id": "duipRNNBvPXx",
        "colab": {
          "base_uri": "https://localhost:8080/"
        },
        "outputId": "d660d834-f1cd-4d57-8d6f-ad27bb08b2b8"
      },
      "source": [
        "pagamento\\\n",
        "   .select(\"funcPK\", \"salario\")\\\n",
        "   .groupBy(\"funcPK\")\\\n",
        "   .sum(\"salario\")\\\n",
        "   .orderBy(\"funcPK\")\\\n",
        "   .withColumnRenamed(\"sum(salario)\", \"Soma dos Salários\")\\\n",
        "   .show()"
      ],
      "execution_count": null,
      "outputs": [
        {
          "output_type": "stream",
          "name": "stdout",
          "text": [
            "+------+-----------------+\n",
            "|funcPK|Soma dos Salários|\n",
            "+------+-----------------+\n",
            "|     1|   864589.2890625|\n",
            "|     2|    80109.1171875|\n",
            "|     3|   284531.2734375|\n",
            "|     4|    503910.703125|\n",
            "|     5|133599.5947265625|\n",
            "|     6|   248232.9609375|\n",
            "|     7|     347159.53125|\n",
            "|     8| 43802.3994140625|\n",
            "|     9|    628010.859375|\n",
            "|    10|  332712.01171875|\n",
            "|    11|   331538.8828125|\n",
            "|    12|  72875.759765625|\n",
            "|    13|      289336.3125|\n",
            "|    14| 150465.603515625|\n",
            "|    15|    218086.078125|\n",
            "|    16|  41527.201171875|\n",
            "|    17| 309711.005859375|\n",
            "|    18| 45548.3994140625|\n",
            "|    19|106695.6005859375|\n",
            "|    20|  95876.162109375|\n",
            "+------+-----------------+\n",
            "only showing top 20 rows\n",
            "\n"
          ]
        }
      ]
    },
    {
      "cell_type": "markdown",
      "metadata": {
        "id": "nbw6ke2HpdQ_"
      },
      "source": [
        "## 5.3 Métodos sobre Conjuntos\n"
      ]
    },
    {
      "cell_type": "markdown",
      "metadata": {
        "id": "mcTetYU1eBIP"
      },
      "source": [
        "### Métodos union(), unionAll() e unionByName()\n",
        "\n",
        "Os métodos `union()`, `unionAll()` e `unionByName()` têm como objetivo realizar a operação de `união` entre conjuntos considerando dois `DataFrames`. Como resultado, tem-se um novo `DataFrame` que contém todas as linhas pertencentes ao primeiro `DataFrame`, ao segundo `DataFrame` ou a ambos os dois `DataFrames`. \n",
        "\n",
        "Os dois `DataFrames` devem ser compatíveis entre si. Ou seja, eles precisam ter o mesmo número de colunas. \n",
        "\n",
        "A sintaxe de cada um dos métodos é:\n",
        "\n",
        "- `union(segundoDataFrame)`: Realiza a união considerando o posicionamento das colunas dos `DataFrames`, independentemente dos nomes dessas colunas. As linhas repetidas não são eliminadas do resultado final. \n",
        "\n",
        "- `unionAll(segundoDataFrame)`: Realiza a união considerando o posicionamento das colunas dos `DataFrames`, independentemente dos nomes dessas colunas. As linhas repetidas não são eliminadas do resultado final. \n",
        "\n",
        "- `unionByName(segundoDataFrame)`: Realiza a união considerando o nome das colunas dos `DataFrames`, independentemente do posicionamento dessas colunas. As linhas repetidas não são eliminadas do resultado final. \n",
        "\n",
        "Estes métodos são equipalentes à operação `UNION ALL` da linguagem SQL.\n",
        "\n",
        "Caso haja a necessidade de se eliminar as linhas repetidas do resultado final, é necessário utilizar primeiro um dos métodos de união e, na sequência, aplicar o método `distinct()`."
      ]
    },
    {
      "cell_type": "code",
      "metadata": {
        "id": "PQIY0SGcnOXt",
        "colab": {
          "base_uri": "https://localhost:8080/"
        },
        "outputId": "d4ec02ed-657c-4cbb-f3f0-d4b55adff9bf"
      },
      "source": [
        "# exemplo do método union(), sem eliminar linhas repetidas do resultado \n",
        "pagFiltro = pagamento\\\n",
        "               .filter(\"funcPK = 30 AND dataPK BETWEEN 50 AND 100\")\\\n",
        "               .select('dataPK')\n",
        "negFiltro = negociacao\\\n",
        "               .filter(\"equipePK = 2 AND dataPK BETWEEN 90 AND 110\")\\\n",
        "               .select('dataPK')\n",
        "pagFiltro\\\n",
        "   .union(negFiltro)\\\n",
        "   .orderBy('dataPK')\\\n",
        "   .show()"
      ],
      "execution_count": null,
      "outputs": [
        {
          "output_type": "stream",
          "name": "stdout",
          "text": [
            "+------+\n",
            "|dataPK|\n",
            "+------+\n",
            "|    65|\n",
            "|    90|\n",
            "|    96|\n",
            "|    96|\n",
            "|    99|\n",
            "|    99|\n",
            "|   109|\n",
            "+------+\n",
            "\n"
          ]
        }
      ]
    },
    {
      "cell_type": "code",
      "metadata": {
        "id": "gkwOJI6zogTc",
        "colab": {
          "base_uri": "https://localhost:8080/"
        },
        "outputId": "70c6046f-794b-460b-e0b9-9349e36df49d"
      },
      "source": [
        "# exemplo do método union(), eliminando as linhas repetidas do resultado \n",
        "pagFiltro\\\n",
        "   .union(negFiltro)\\\n",
        "   .distinct()\\\n",
        "   .orderBy('dataPK')\\\n",
        "   .show()"
      ],
      "execution_count": null,
      "outputs": [
        {
          "output_type": "stream",
          "name": "stdout",
          "text": [
            "+------+\n",
            "|dataPK|\n",
            "+------+\n",
            "|    65|\n",
            "|    90|\n",
            "|    96|\n",
            "|    99|\n",
            "|   109|\n",
            "+------+\n",
            "\n"
          ]
        }
      ]
    },
    {
      "cell_type": "markdown",
      "metadata": {
        "id": "W_f4AWN3p2zK"
      },
      "source": [
        "### Métodos intersect() e intersectAll() \n",
        "\n",
        "Os métodos `intersect()` e `intersectAll()` têm como objetivo realizar a operação de `intersecção` entre conjuntos considerando dois `DataFrames`. Como resultado, tem-se um novo `DataFrame` que contém todas as linhas presentes simultaneamente no primeiro `DataFrame` e no segundo `DataFrame`. \n",
        "\n",
        "Os dois DataFrames devem ser compatíveis entre si. Ou seja, eles precisam ter o mesmo número de colunas. \n",
        "\n",
        "A sintaxe de cada um dos métodos é:\n",
        "\n",
        "- `intersect(segundoDataFrame)`: Realiza a intersecção considerando o posicionamento das colunas dos `DataFrames`, independentemente dos nomes dessas colunas. Esse método elimina as linhas repetidas do resultado final. \n",
        "\n",
        "- `intersectAll(segundoDataFrame)`: Realiza a intersecção considerando o posicionamento das colunas dos `DataFrames`, independentemente dos nomes dessas colunas. Esse método não elimina as linhas repetidas do resultado final.\n",
        "\n",
        "O método `intersect()` é equivalente à operação `INTERSECT` da linguagem SQL, enquanto o método `intersectAll()` é equivalente à operação `INTERSECT ALL` da linguagem SQL."
      ]
    },
    {
      "cell_type": "code",
      "metadata": {
        "id": "mRxQ5NgkjmpX",
        "colab": {
          "base_uri": "https://localhost:8080/"
        },
        "outputId": "850601f2-e54c-485b-bae5-922080c7ed28"
      },
      "source": [
        "# exemplo do método intersect()\n",
        "pagIntersect = pagamento\\\n",
        "               .filter(\"funcPK = 30 AND dataPK BETWEEN 50 AND 100\")\\\n",
        "               .select('dataPK')\n",
        "pagIntersect.show()"
      ],
      "execution_count": null,
      "outputs": [
        {
          "output_type": "stream",
          "name": "stdout",
          "text": [
            "+------+\n",
            "|dataPK|\n",
            "+------+\n",
            "|    65|\n",
            "|    96|\n",
            "+------+\n",
            "\n"
          ]
        }
      ]
    },
    {
      "cell_type": "code",
      "metadata": {
        "id": "uCdrrpQi37cI",
        "colab": {
          "base_uri": "https://localhost:8080/"
        },
        "outputId": "b423ca96-943f-4529-f135-2600f7e7c316"
      },
      "source": [
        "negIntersect = negociacao\\\n",
        "               .filter(\"equipePK = 2 AND dataPK BETWEEN 90 AND 110\")\\\n",
        "               .select('dataPK')\n",
        "negIntersect.show() "
      ],
      "execution_count": null,
      "outputs": [
        {
          "output_type": "stream",
          "name": "stdout",
          "text": [
            "+------+\n",
            "|dataPK|\n",
            "+------+\n",
            "|    90|\n",
            "|    99|\n",
            "|    96|\n",
            "|   109|\n",
            "|    99|\n",
            "+------+\n",
            "\n"
          ]
        }
      ]
    },
    {
      "cell_type": "code",
      "metadata": {
        "id": "iYF9PZGd3-r_",
        "colab": {
          "base_uri": "https://localhost:8080/"
        },
        "outputId": "18ce85ec-6515-43f5-9a3f-b78ac0562072"
      },
      "source": [
        "pagIntersect\\\n",
        "   .intersect(negIntersect)\\\n",
        "   .orderBy('dataPK')\\\n",
        "   .show()"
      ],
      "execution_count": null,
      "outputs": [
        {
          "output_type": "stream",
          "name": "stdout",
          "text": [
            "+------+\n",
            "|dataPK|\n",
            "+------+\n",
            "|    96|\n",
            "+------+\n",
            "\n"
          ]
        }
      ]
    },
    {
      "cell_type": "markdown",
      "metadata": {
        "id": "fjFpZzAUrTFO"
      },
      "source": [
        "### Métodos subtract() e exceptAll() \n",
        "\n",
        "Os métodos `subtract()` e `exceptAll()` têm como objetivo realizar a operação de `diferença` de conjuntos considerando dois `DataFrames`. Como resultado, tem-se um novo `DataFrame` que contém todas as linhas presentes no primeiro `DataFrame`, mas que não estão no segundo `DataFrame`. \n",
        "\n",
        "Os dois `DataFrames` devem ser compatíveis entre si. Ou seja, eles precisam ter o mesmo número de colunas. \n",
        "\n",
        "A sintaxe de cada um dos métodos é:\n",
        "\n",
        "- `subtract(segundoDataFrame)`: Realiza a diferença entre conjuntos considerando o posicionamento das colunas dos `DataFrames`, independentemente dos nomes dessas colunas. Esse método elimina as linhas repetidas do resultado final.\n",
        "\n",
        "- `exceptAll(segundoDataFrame)`: Realiza a diferença entre conjuntos considerando o posicionamento das colunas dos `DataFrames`, independentemente dos nomes dessas colunas. Esse método não elimina as linhas repetidas do resultado final.\n",
        "\n",
        "O método `subtract(segundoDataFrame)` é equivalente à operação `MINUS` da linguagem SQL, enquanto que o método `exceptAll(segundoDataFrame)` é equivalente à operação `MINUS ALL` da linguagem SQL."
      ]
    },
    {
      "cell_type": "code",
      "metadata": {
        "id": "KpOXPKbvj0TN",
        "colab": {
          "base_uri": "https://localhost:8080/"
        },
        "outputId": "91f46db7-8b75-43f3-f61d-f95233b00164"
      },
      "source": [
        "# exemplo do método exceptAll()\n",
        "pagIntersect\\\n",
        "   .exceptAll(negIntersect)\\\n",
        "   .orderBy('dataPK')\\\n",
        "   .show()"
      ],
      "execution_count": null,
      "outputs": [
        {
          "output_type": "stream",
          "name": "stdout",
          "text": [
            "+------+\n",
            "|dataPK|\n",
            "+------+\n",
            "|    65|\n",
            "+------+\n",
            "\n"
          ]
        }
      ]
    },
    {
      "cell_type": "markdown",
      "metadata": {
        "id": "Ss0pmgplPAL3"
      },
      "source": [
        "# 6 Execução de Consultas com Foco nas Operações OLAP"
      ]
    },
    {
      "cell_type": "markdown",
      "metadata": {
        "id": "MABYjSYf7L4g"
      },
      "source": [
        "## 6.1 Operação Slice and Dice \n",
        "\n",
        "**Definição**: Restringe os dados sendo analisados a um subconjunto desses dados.\n",
        "\n",
        "- Slice: corte para um valor fixo, diminuindo a dimensionalidade do cubo.\n",
        "- Dice: seleção de faixas de valores.\n",
        "\n",
        "**Exemplo de consulta**: Qual a quantidade de pagamentos realizados no mês de setembro de 2020?"
      ]
    },
    {
      "cell_type": "code",
      "metadata": {
        "id": "oXh3bfu148ml",
        "colab": {
          "base_uri": "https://localhost:8080/"
        },
        "outputId": "ea79402b-6481-4631-c5ff-128b14427665"
      },
      "source": [
        "# realizando a operação de slice and dice utilizando o método filter() ou where()\n",
        "# selecionando apenas as colunas necessárias ao processamento da consulta \n",
        "dataSelecionada = \\\n",
        "   data\\\n",
        "   .filter(\"dataAno = 2020 AND dataMes=9\")\\\n",
        "   .select(\"dataPK\")\n",
        "dataSelecionada.show(5)"
      ],
      "execution_count": null,
      "outputs": [
        {
          "output_type": "stream",
          "name": "stdout",
          "text": [
            "+------+\n",
            "|dataPK|\n",
            "+------+\n",
            "|  1706|\n",
            "|  1707|\n",
            "|  1708|\n",
            "|  1709|\n",
            "|  1710|\n",
            "+------+\n",
            "only showing top 5 rows\n",
            "\n"
          ]
        }
      ]
    },
    {
      "cell_type": "code",
      "metadata": {
        "id": "DN1Cwsrn8_gb",
        "colab": {
          "base_uri": "https://localhost:8080/"
        },
        "outputId": "37493915-9dba-47ae-ed94-2b01782ee0f5"
      },
      "source": [
        "# selecionando apenas as colunas necessárias ao processamento da consulta\n",
        "pagamentoSelecionado = \\\n",
        "   pagamento\\\n",
        "   .select(\"dataPK\", \"quantidadeLancamentos\")\n",
        "pagamentoSelecionado.show(5)"
      ],
      "execution_count": null,
      "outputs": [
        {
          "output_type": "stream",
          "name": "stdout",
          "text": [
            "+------+---------------------+\n",
            "|dataPK|quantidadeLancamentos|\n",
            "+------+---------------------+\n",
            "|     5|                    1|\n",
            "|     5|                    1|\n",
            "|     5|                    1|\n",
            "|     5|                    1|\n",
            "|     5|                    1|\n",
            "+------+---------------------+\n",
            "only showing top 5 rows\n",
            "\n"
          ]
        }
      ]
    },
    {
      "cell_type": "code",
      "metadata": {
        "id": "rqWYKUZ79FKg",
        "colab": {
          "base_uri": "https://localhost:8080/"
        },
        "outputId": "87fcdb42-d861-47c8-d412-73b47bb1ac82"
      },
      "source": [
        "# realizando a junção entre os resultados obtidos\n",
        "dataPagamento =\\\n",
        "   dataSelecionada\\\n",
        "   .join(pagamentoSelecionado, on=\"dataPK\")\n",
        "dataPagamento.show(5)"
      ],
      "execution_count": null,
      "outputs": [
        {
          "output_type": "stream",
          "name": "stdout",
          "text": [
            "+------+---------------------+\n",
            "|dataPK|quantidadeLancamentos|\n",
            "+------+---------------------+\n",
            "|  1710|                    1|\n",
            "|  1710|                    1|\n",
            "|  1710|                    1|\n",
            "|  1710|                    1|\n",
            "|  1710|                    1|\n",
            "+------+---------------------+\n",
            "only showing top 5 rows\n",
            "\n"
          ]
        }
      ]
    },
    {
      "cell_type": "code",
      "metadata": {
        "id": "3xDhogu_-tqf",
        "colab": {
          "base_uri": "https://localhost:8080/"
        },
        "outputId": "18771aa8-beb3-4fb2-b3d7-073f7c8b9264"
      },
      "source": [
        "# exibindo o resultado desejado\n",
        "dataPagamento\\\n",
        "   .select(\"quantidadeLancamentos\")\\\n",
        "   .groupBy()\\\n",
        "   .sum(\"quantidadeLancamentos\")\\\n",
        "   .withColumnRenamed(\"sum(quantidadeLancamentos)\", \"Quantidade Total de Lançamentos\")\\\n",
        "   .show()"
      ],
      "execution_count": null,
      "outputs": [
        {
          "output_type": "stream",
          "name": "stdout",
          "text": [
            "+-------------------------------+\n",
            "|Quantidade Total de Lançamentos|\n",
            "+-------------------------------+\n",
            "|                            200|\n",
            "+-------------------------------+\n",
            "\n"
          ]
        }
      ]
    },
    {
      "cell_type": "code",
      "metadata": {
        "id": "vJOlbWZO_OjD",
        "colab": {
          "base_uri": "https://localhost:8080/"
        },
        "outputId": "04655d09-37eb-4286-fbdd-c6113ba1f58f"
      },
      "source": [
        "# exibindo uma forma alternativa, e considerando apenas um único comando \n",
        "data\\\n",
        "   .join(pagamento, on=\"dataPK\")\\\n",
        "   .where(\"dataAno = 2020 AND dataMes=9\")\\\n",
        "   .select(\"quantidadeLancamentos\")\\\n",
        "   .groupBy()\\\n",
        "   .sum(\"quantidadeLancamentos\")\\\n",
        "   .withColumnRenamed(\"sum(quantidadeLancamentos)\", \"Quantidade Total de Lançamentos\")\\\n",
        "   .show()"
      ],
      "execution_count": null,
      "outputs": [
        {
          "output_type": "stream",
          "name": "stdout",
          "text": [
            "+-------------------------------+\n",
            "|Quantidade Total de Lançamentos|\n",
            "+-------------------------------+\n",
            "|                            200|\n",
            "+-------------------------------+\n",
            "\n"
          ]
        }
      ]
    },
    {
      "cell_type": "markdown",
      "metadata": {
        "id": "crCnMYwi7rIm"
      },
      "source": [
        "## 6.2 Operações Drill-Down e Roll-Up\n",
        "\n",
        "**Definição**: Analisam os dados considerando níveis progressivos de agregação.\n",
        "\n",
        "- Drill-down: níveis de agregação progressivamente mais detalhados, ou de menor granularidade.\n",
        "- Roll-up: níveis de agregação progressivamente menos detalhados, ou de maior granularidade."
      ]
    },
    {
      "cell_type": "markdown",
      "metadata": {
        "id": "YC-qVTVIpyX4"
      },
      "source": [
        "Para ilustrar as operações de drill-down e roll-up, considere a consulta base definida a seguir.\n",
        "\n",
        "**Consulta base:** Qual o valor gasto em salários por ano, considerando cada **semestre**?"
      ]
    },
    {
      "cell_type": "code",
      "metadata": {
        "id": "PT-6hG7H-HMO",
        "colab": {
          "base_uri": "https://localhost:8080/"
        },
        "outputId": "f7d9d701-bebf-4f43-97ef-4e4f35e57da3"
      },
      "source": [
        "# exibindo a resposta considerando cada semestre\n",
        "\n",
        "data\\\n",
        "   .join(pagamento, on=\"dataPK\")\\\n",
        "   .select(\"dataAno\", \"dataSemestre\", \"salario\")\\\n",
        "   .groupBy(\"dataAno\", \"dataSemestre\")\\\n",
        "   .sum(\"salario\")\\\n",
        "   .withColumn(\"sum(salario)\", round(\"sum(salario)\",2))\\\n",
        "   .withColumnRenamed(\"sum(salario)\", \"Valor gasto em salários por semestre\")\\\n",
        "   .orderBy(\"dataAno\", \"dataSemestre\")\\\n",
        "   .show()"
      ],
      "execution_count": null,
      "outputs": [
        {
          "output_type": "stream",
          "name": "stdout",
          "text": [
            "+-------+------------+------------------------------------+\n",
            "|dataAno|dataSemestre|Valor gasto em salários por semestre|\n",
            "+-------+------------+------------------------------------+\n",
            "|   2016|           1|                          2221308.55|\n",
            "|   2016|           2|                          2221308.55|\n",
            "|   2017|           1|                          4887639.92|\n",
            "|   2017|           2|                          4887639.92|\n",
            "|   2018|           1|                          7467763.23|\n",
            "|   2018|           2|                          7467763.23|\n",
            "|   2019|           1|                          9283833.23|\n",
            "|   2019|           2|                          9283833.23|\n",
            "|   2020|           1|                          9283833.23|\n",
            "|   2020|           2|                          9283833.23|\n",
            "+-------+------------+------------------------------------+\n",
            "\n"
          ]
        }
      ]
    },
    {
      "cell_type": "markdown",
      "metadata": {
        "id": "1PzzQT1Xz-4-"
      },
      "source": [
        "**Exemplo de consulta drill-down:** Qual o valor gasto em salários por ano, considerando cada **trimestre**?"
      ]
    },
    {
      "cell_type": "code",
      "metadata": {
        "id": "TqYhD7WXDKeu",
        "colab": {
          "base_uri": "https://localhost:8080/"
        },
        "outputId": "bd59aec6-3a00-4318-974b-1b9c5123d97c"
      },
      "source": [
        "# Exibindo a resposta considerando cada trimestre (mais detalhes)\n",
        "\n",
        "data\\\n",
        "  .join(pagamento, on=\"dataPK\")\\\n",
        "  .select(\"dataAno\", \"dataTrimestre\", \"salario\")\\\n",
        "  .groupBy(\"dataAno\", \"dataTrimestre\")\\\n",
        "  .sum(\"salario\")\\\n",
        "  .withColumn(\"sum(salario)\", round(\"sum(salario)\",2))\\\n",
        "  .withColumnRenamed(\"sum(salario)\", \"Valor gasto em salários por trimestre\")\\\n",
        "  .orderBy(\"dataAno\", \"dataTrimestre\")\\\n",
        "  .show()"
      ],
      "execution_count": null,
      "outputs": [
        {
          "output_type": "stream",
          "name": "stdout",
          "text": [
            "+-------+-------------+-------------------------------------+\n",
            "|dataAno|dataTrimestre|Valor gasto em salários por trimestre|\n",
            "+-------+-------------+-------------------------------------+\n",
            "|   2016|            1|                           1110654.28|\n",
            "|   2016|            2|                           1110654.28|\n",
            "|   2016|            3|                           1110654.28|\n",
            "|   2016|            4|                           1110654.28|\n",
            "|   2017|            1|                           2443819.96|\n",
            "|   2017|            2|                           2443819.96|\n",
            "|   2017|            3|                           2443819.96|\n",
            "|   2017|            4|                           2443819.96|\n",
            "|   2018|            1|                           3733881.62|\n",
            "|   2018|            2|                           3733881.62|\n",
            "|   2018|            3|                           3733881.62|\n",
            "|   2018|            4|                           3733881.62|\n",
            "|   2019|            1|                           4641916.61|\n",
            "|   2019|            2|                           4641916.61|\n",
            "|   2019|            3|                           4641916.61|\n",
            "|   2019|            4|                           4641916.61|\n",
            "|   2020|            1|                           4641916.61|\n",
            "|   2020|            2|                           4641916.61|\n",
            "|   2020|            3|                           4641916.61|\n",
            "|   2020|            4|                           4641916.61|\n",
            "+-------+-------------+-------------------------------------+\n",
            "\n"
          ]
        }
      ]
    },
    {
      "cell_type": "markdown",
      "metadata": {
        "id": "7bFWeBr87xpN"
      },
      "source": [
        "**Exemplo de consulta roll-up:** Qual o valor gasto em salários por **ano**?"
      ]
    },
    {
      "cell_type": "code",
      "metadata": {
        "id": "Nf2pbKfWEIdp",
        "colab": {
          "base_uri": "https://localhost:8080/"
        },
        "outputId": "dfe4cb26-8cf0-4831-db1c-ba169e53e858"
      },
      "source": [
        "# Exibindo a resposta considerando cada ano (menos detalhes)\n",
        "\n",
        "data\\\n",
        "  .join(pagamento, on=\"dataPK\")\\\n",
        "  .select(\"dataAno\", \"salario\")\\\n",
        "  .groupBy(\"dataAno\")\\\n",
        "  .sum(\"salario\")\\\n",
        "  .withColumn(\"sum(salario)\", round(\"sum(salario)\",2))\\\n",
        "  .withColumnRenamed(\"sum(salario)\", \"Valor gasto em salários por ano\")\\\n",
        "  .orderBy(\"dataAno\")\\\n",
        "  .show()"
      ],
      "execution_count": null,
      "outputs": [
        {
          "output_type": "stream",
          "name": "stdout",
          "text": [
            "+-------+-------------------------------+\n",
            "|dataAno|Valor gasto em salários por ano|\n",
            "+-------+-------------------------------+\n",
            "|   2016|                      4442617.1|\n",
            "|   2017|                     9775279.84|\n",
            "|   2018|                  1.493552647E7|\n",
            "|   2019|                  1.856766645E7|\n",
            "|   2020|                  1.856766645E7|\n",
            "+-------+-------------------------------+\n",
            "\n"
          ]
        }
      ]
    },
    {
      "cell_type": "markdown",
      "metadata": {
        "id": "h1kRDhciLQnj"
      },
      "source": [
        "## 6.3 Operação Pivot\n",
        "\n",
        "**Definição:** Reorienta a visão multidimensional dos dados, oferecendo diferentes perspectivas dos mesmos dados."
      ]
    },
    {
      "cell_type": "markdown",
      "metadata": {
        "id": "eaXAXkeF1atH"
      },
      "source": [
        "Para ilustrar a operação pivot, considere a consulta base definida a seguir. \n",
        "\n",
        "**Consulta base:**  Qual o valor gasto em salários por ano, considerando cada nível de cargo?"
      ]
    },
    {
      "cell_type": "code",
      "metadata": {
        "id": "n_hWmXflIfDu",
        "colab": {
          "base_uri": "https://localhost:8080/"
        },
        "outputId": "6646e4bc-fe4a-4dfc-c845-976b91caf365"
      },
      "source": [
        "pagamento\\\n",
        "  .join(data, on=\"dataPK\")\\\n",
        "  .join(cargo, on=\"cargoPK\")\\\n",
        "  .select(\"dataAno\",  \"cargoNivel\", \"salario\")\\\n",
        "  .groupBy(\"dataAno\", \"cargoNivel\")\\\n",
        "  .sum(\"salario\")\\\n",
        "  .withColumn(\"sum(salario)\", round(\"sum(salario)\",2))\\\n",
        "  .withColumnRenamed(\"sum(salario)\", \"Gastos em Salários\")\\\n",
        "  .orderBy(\"dataAno\", \"cargoNivel\")\\\n",
        "  .show()"
      ],
      "execution_count": null,
      "outputs": [
        {
          "output_type": "stream",
          "name": "stdout",
          "text": [
            "+-------+----------+------------------+\n",
            "|dataAno|cargoNivel|Gastos em Salários|\n",
            "+-------+----------+------------------+\n",
            "|   2016|    JUNIOR|         489456.84|\n",
            "|   2016|     PLENO|        1454152.44|\n",
            "|   2016|    SENIOR|        2499007.82|\n",
            "|   2017|    JUNIOR|         1030642.8|\n",
            "|   2017|     PLENO|        3791593.94|\n",
            "|   2017|    SENIOR|         4953043.1|\n",
            "|   2018|    JUNIOR|         1393282.2|\n",
            "|   2018|     PLENO|        5357227.46|\n",
            "|   2018|    SENIOR|        8185016.81|\n",
            "|   2019|    JUNIOR|        1755714.36|\n",
            "|   2019|     PLENO|        6132228.26|\n",
            "|   2019|    SENIOR|     1.067972384E7|\n",
            "|   2020|    JUNIOR|        1755714.36|\n",
            "|   2020|     PLENO|        6132228.26|\n",
            "|   2020|    SENIOR|     1.067972384E7|\n",
            "+-------+----------+------------------+\n",
            "\n"
          ]
        }
      ]
    },
    {
      "cell_type": "markdown",
      "metadata": {
        "id": "DPBaswdrLWv6"
      },
      "source": [
        "**Exemplo de consulta pivot:** Qual o valor gasto em salários por nível de cargo, considerando cada ano?"
      ]
    },
    {
      "cell_type": "code",
      "metadata": {
        "id": "S0onSN7SDTyq",
        "colab": {
          "base_uri": "https://localhost:8080/"
        },
        "outputId": "d1d89c63-51b7-4a70-a27b-a24b800ec08d"
      },
      "source": [
        "pagamento\\\n",
        "  .join(data, on=\"dataPK\")\\\n",
        "  .join(cargo, on=\"cargoPK\")\\\n",
        "  .select(\"cargoNivel\", \"dataAno\", \"salario\")\\\n",
        "  .groupBy(\"cargoNivel\", \"dataAno\")\\\n",
        "  .sum(\"salario\")\\\n",
        "  .orderBy(\"cargoNivel\", \"dataAno\")\\\n",
        "  .withColumn(\"sum(salario)\", round(\"sum(salario)\",2))\\\n",
        "  .withColumnRenamed(\"sum(salario)\", \"Gastos em Salários\")\\\n",
        "  .show()"
      ],
      "execution_count": null,
      "outputs": [
        {
          "output_type": "stream",
          "name": "stdout",
          "text": [
            "+----------+-------+------------------+\n",
            "|cargoNivel|dataAno|Gastos em Salários|\n",
            "+----------+-------+------------------+\n",
            "|    JUNIOR|   2016|         489456.84|\n",
            "|    JUNIOR|   2017|         1030642.8|\n",
            "|    JUNIOR|   2018|         1393282.2|\n",
            "|    JUNIOR|   2019|        1755714.36|\n",
            "|    JUNIOR|   2020|        1755714.36|\n",
            "|     PLENO|   2016|        1454152.44|\n",
            "|     PLENO|   2017|        3791593.94|\n",
            "|     PLENO|   2018|        5357227.46|\n",
            "|     PLENO|   2019|        6132228.26|\n",
            "|     PLENO|   2020|        6132228.26|\n",
            "|    SENIOR|   2016|        2499007.82|\n",
            "|    SENIOR|   2017|         4953043.1|\n",
            "|    SENIOR|   2018|        8185016.81|\n",
            "|    SENIOR|   2019|     1.067972384E7|\n",
            "|    SENIOR|   2020|     1.067972384E7|\n",
            "+----------+-------+------------------+\n",
            "\n"
          ]
        }
      ]
    },
    {
      "cell_type": "markdown",
      "metadata": {
        "id": "7D-E4clhKZgE"
      },
      "source": [
        "### Método pivot()\n",
        "\n",
        "`pivot(coluna, valores=None)`\n",
        "\n",
        "Rotaciona uma `coluna` do `DataFrame`, e exibe os valores de acordo com o parâmetro `valores`.\n",
        "\n"
      ]
    },
    {
      "cell_type": "code",
      "metadata": {
        "id": "u-qi2luOKN6a",
        "colab": {
          "base_uri": "https://localhost:8080/"
        },
        "outputId": "dc12eb6c-6d5f-47d5-d1fa-62c6cbf20ae3"
      },
      "source": [
        "#metodo pivot()\n",
        "\n",
        "pagamento\\\n",
        "  .join(data, on=\"dataPK\")\\\n",
        "  .join(cargo, on=\"cargoPK\")\\\n",
        "  .select(\"dataAno\",  \"cargoNivel\", \"salario\")\\\n",
        "  .groupBy(\"dataAno\", \"cargoNivel\")\\\n",
        "  .sum(\"salario\")\\\n",
        "  .orderBy(\"dataAno\", \"cargoNivel\")\\\n",
        "  .groupBy(\"dataAno\", \"sum(salario)\")\\\n",
        "  .pivot(\"cargoNivel\")\\\n",
        "  .sum(\"sum(salario)\")\\\n",
        "  .withColumn(\"sum(salario)\", round(\"sum(salario)\",2))\\\n",
        "  .withColumnRenamed(\"sum(salario)\", \"Gastos em Salários\")\\\n",
        "  .show()"
      ],
      "execution_count": null,
      "outputs": [
        {
          "output_type": "stream",
          "name": "stdout",
          "text": [
            "+-------+------------------+------------------+------------------+------------------+\n",
            "|dataAno|Gastos em Salários|            JUNIOR|             PLENO|            SENIOR|\n",
            "+-------+------------------+------------------+------------------+------------------+\n",
            "|   2017|         4953043.1|              null|              null|   4953043.1015625|\n",
            "|   2018|         1393282.2|1393282.1967773438|              null|              null|\n",
            "|   2020|     1.067972384E7|              null|              null|1.06797238359375E7|\n",
            "|   2018|        5357227.46|              null|5357227.4560546875|              null|\n",
            "|   2016|        1454152.44|              null|  1454152.44140625|              null|\n",
            "|   2019|        6132228.26|              null|6132228.2607421875|              null|\n",
            "|   2016|         489456.84|489456.84228515625|              null|              null|\n",
            "|   2017|        3791593.94|              null|3791593.9423828125|              null|\n",
            "|   2019|     1.067972384E7|              null|              null|1.06797238359375E7|\n",
            "|   2018|        8185016.81|              null|              null|      8185016.8125|\n",
            "|   2020|        1755714.36| 1755714.357421875|              null|              null|\n",
            "|   2020|        6132228.26|              null|6132228.2607421875|              null|\n",
            "|   2016|        2499007.82|              null|              null|  2499007.81640625|\n",
            "|   2017|         1030642.8|1030642.7958984375|              null|              null|\n",
            "|   2019|        1755714.36| 1755714.357421875|              null|              null|\n",
            "+-------+------------------+------------------+------------------+------------------+\n",
            "\n"
          ]
        }
      ]
    },
    {
      "cell_type": "markdown",
      "metadata": {
        "id": "UtJILugUN2K_"
      },
      "source": [
        "## 6.4 Operação Drill-Across\n",
        "\n",
        "**Definição:** Compara medidas numéricas de tabelas de fatos diferentes, utilizando pelo menos uma dimensão em comum. \n",
        "\n",
        "**Exemplo de consulta:** Qual o total gasto com salários e qual o total de receitas recebidas, considerando cada ano?"
      ]
    },
    {
      "cell_type": "code",
      "metadata": {
        "id": "81fI8hkaFrn5",
        "colab": {
          "base_uri": "https://localhost:8080/"
        },
        "outputId": "f3877614-0d04-4899-d416-7b11d96d4a3c"
      },
      "source": [
        "# resolvendo o primeiro bloco da consulta\n",
        "# qual o total de gastos em salários, considerando cada ano? \n",
        "pag = pagamento\\\n",
        "   .join(data, on=\"dataPK\")\\\n",
        "   .select(\"dataAno\", \"salario\")\\\n",
        "   .groupBy(\"dataAno\")\\\n",
        "   .sum(\"salario\")\n",
        "pag.show(5)"
      ],
      "execution_count": null,
      "outputs": [
        {
          "output_type": "stream",
          "name": "stdout",
          "text": [
            "+-------+--------------------+\n",
            "|dataAno|        sum(salario)|\n",
            "+-------+--------------------+\n",
            "|   2018|1.4935526465332031E7|\n",
            "|   2019|1.8567666454101562E7|\n",
            "|   2020|1.8567666454101562E7|\n",
            "|   2016|   4442617.100097656|\n",
            "|   2017|    9775279.83984375|\n",
            "+-------+--------------------+\n",
            "\n"
          ]
        }
      ]
    },
    {
      "cell_type": "code",
      "metadata": {
        "id": "wUo8cBZpF2C1",
        "colab": {
          "base_uri": "https://localhost:8080/"
        },
        "outputId": "b57a5fe7-4b7a-4133-9fed-53b287fe6446"
      },
      "source": [
        "# resolvendo o segundo bloco da consulta\n",
        "neg = negociacao\\\n",
        "   .join(data, on=\"dataPK\")\\\n",
        "   .select(\"dataAno\", \"receita\")\\\n",
        "   .groupBy(\"dataAno\")\\\n",
        "   .sum(\"receita\")\n",
        "neg.show(5)"
      ],
      "execution_count": null,
      "outputs": [
        {
          "output_type": "stream",
          "name": "stdout",
          "text": [
            "+-------+--------------------+\n",
            "|dataAno|        sum(receita)|\n",
            "+-------+--------------------+\n",
            "|   2018|1.1593539659606934E7|\n",
            "|   2019| 3.535331833154297E7|\n",
            "|   2020| 3.022217587109375E7|\n",
            "|   2016|   4614246.968261719|\n",
            "|   2017|  7200423.3539123535|\n",
            "+-------+--------------------+\n",
            "\n"
          ]
        }
      ]
    },
    {
      "cell_type": "code",
      "metadata": {
        "id": "Rv2D1s0eGBJv",
        "colab": {
          "base_uri": "https://localhost:8080/"
        },
        "outputId": "6f274211-9ac7-4f02-a1e5-491d12c5ac4c"
      },
      "source": [
        "# realizando a operação de drill-across\n",
        "# exibindo o resultado final\n",
        "pag\\\n",
        "   .join(neg, on=\"dataAno\")\\\n",
        "   .select(\"dataAno\", \"sum(salario)\", \"sum(receita)\")\\\n",
        "   .orderBy(\"dataAno\")\\\n",
        "   .withColumn(\"sum(salario)\", round(\"sum(salario)\",2))\\\n",
        "   .withColumn(\"sum(receita)\", round(\"sum(receita)\",2))\\\n",
        "   .withColumnRenamed(\"sum(salario)\", \"Total Gasto com Salários\")\\\n",
        "   .withColumnRenamed(\"sum(receita)\", \"Total de Receitas Recebidas\")\\\n",
        "   .show()"
      ],
      "execution_count": null,
      "outputs": [
        {
          "output_type": "stream",
          "name": "stdout",
          "text": [
            "+-------+------------------------+---------------------------+\n",
            "|dataAno|Total Gasto com Salários|Total de Receitas Recebidas|\n",
            "+-------+------------------------+---------------------------+\n",
            "|   2016|               4442617.1|                 4614246.97|\n",
            "|   2017|              9775279.84|                 7200423.35|\n",
            "|   2018|           1.493552647E7|              1.159353966E7|\n",
            "|   2019|           1.856766645E7|              3.535331833E7|\n",
            "|   2020|           1.856766645E7|              3.022217587E7|\n",
            "+-------+------------------------+---------------------------+\n",
            "\n"
          ]
        }
      ]
    },
    {
      "cell_type": "markdown",
      "metadata": {
        "id": "mTjo_CX1G5jy"
      },
      "source": [
        "## 5.5 Extensões ROLLUP e CUBE  \n",
        "\n",
        "**Definição:** Constrém vários níveis de agregação.\n",
        "\n",
        "- ROLLUP: criação de subtotais para as combinações dos atributos da lista de agrupamento de acordo com a ordem desses atributos. São criados n+1 níveis de agregação, sendo n o número de atributos especificados na lista de agrupamento.\n",
        "\n",
        "- CUBE: criação de subtotais para todas as combinações dos atributos da lista de agrupamento. São criados 2ˆn (2 elevado a n) níveis, sendo n o número de atributos especificados na lista de agrupamento.\n"
      ]
    },
    {
      "cell_type": "markdown",
      "metadata": {
        "id": "UPpMbZHLoB8S"
      },
      "source": [
        "### Método rollup()\n"
      ]
    },
    {
      "cell_type": "markdown",
      "metadata": {
        "id": "VjIYDV2xSv5i"
      },
      "source": [
        "`rollup(listaDeColunas)`\n",
        "\n",
        "Cria vários níveis de agregação de acordo com a extensão ROLLUP usando as colunas especificadas no parâmetro `listaDeColunas` e possibilita a definição de um método de agregação sobre essas colunas. "
      ]
    },
    {
      "cell_type": "markdown",
      "metadata": {
        "id": "y-Qr1v9UoGQa"
      },
      "source": [
        "### Método cube()\n",
        "\n",
        "`cube(listaDeColunas)`\n",
        "\n",
        "Cria vários níveis de agregação de acordo com a extensão CUBE usando as colunas especificadas no parâmetro `listaDeColunas` e possibilita a definição de um método de agregação sobre essas colunas. "
      ]
    },
    {
      "cell_type": "markdown",
      "metadata": {
        "id": "5RRlVccmYhV_"
      },
      "source": [
        "\n",
        "**Exemplo de consulta com ROLLUP:** Liste as agregações que podem ser geradas a partir da soma da receita por setor do cliente e por cidade do cliente, para totais de receita superiores a 3.000.000,00. Crie subtotais considerando a ordem dos atributos na lista de agrupamento."
      ]
    },
    {
      "cell_type": "code",
      "metadata": {
        "id": "BwZHLSsCW0zD",
        "colab": {
          "base_uri": "https://localhost:8080/"
        },
        "outputId": "5a7958f6-87bb-45d7-99b9-ac26edbf774c"
      },
      "source": [
        "cliente.join(negociacao, on=\"clientePK\")\\\n",
        "  .select(\"clienteSetor\",  \"clienteCidade\", \"receita\")\\\n",
        "  .rollup(\"clienteSetor\", \"clienteCidade\").sum(\"receita\")\\\n",
        "  .filter(\"sum(receita) > 3000000\")\\\n",
        "  .orderBy(\"clienteSetor\", \"clienteCidade\")\\\n",
        "  .withColumn(\"sum(receita)\", round(\"sum(receita)\",2))\\\n",
        "  .withColumnRenamed(\"sum(receita)\", \"Total de Receitas\")\\\n",
        "  .show()"
      ],
      "execution_count": null,
      "outputs": [
        {
          "output_type": "stream",
          "name": "stdout",
          "text": [
            "+-------------------+--------------+-----------------+\n",
            "|       clienteSetor| clienteCidade|Total de Receitas|\n",
            "+-------------------+--------------+-----------------+\n",
            "|               null|          null|    8.898370418E7|\n",
            "|BEBIDAS E ALIMENTOS|          null|    3.540878588E7|\n",
            "|BEBIDAS E ALIMENTOS|BELO HORIZONTE|        4206811.8|\n",
            "|BEBIDAS E ALIMENTOS|       MARILIA|        4033680.5|\n",
            "|BEBIDAS E ALIMENTOS|        RECIFE|       3899358.31|\n",
            "|BEBIDAS E ALIMENTOS|RIO DE JANEIRO|       7351629.96|\n",
            "|BEBIDAS E ALIMENTOS|     SAO PAULO|       6177945.47|\n",
            "|BEBIDAS E ALIMENTOS|    UBERLANDIA|       3283351.57|\n",
            "|            CREDITO|          null|       6621387.69|\n",
            "|              SAUDE|          null|    1.831261245E7|\n",
            "|              SAUDE|        MANAUS|       3329638.24|\n",
            "|              SAUDE|     SAO PAULO|       3963055.35|\n",
            "|         TECNOLOGIA|          null|    1.656803299E7|\n",
            "|         TECNOLOGIA|     SAO PAULO|       9200352.79|\n",
            "|          VESTUARIO|          null|    1.207288518E7|\n",
            "|          VESTUARIO|RIO DE JANEIRO|       5948448.13|\n",
            "|          VESTUARIO|     SAO PAULO|        4686200.3|\n",
            "+-------------------+--------------+-----------------+\n",
            "\n"
          ]
        }
      ]
    },
    {
      "cell_type": "markdown",
      "metadata": {
        "id": "IjjDB_mtPkzw"
      },
      "source": [
        "**Exemplo de consulta com CUBE:** Liste todas as agregações que podem ser geradas a partir da soma da receita por setor do cliente e por cidade do cliente, para totais de receita superiores a 3.000.000,00."
      ]
    },
    {
      "cell_type": "code",
      "metadata": {
        "id": "v_5lF9EVFZr6",
        "colab": {
          "base_uri": "https://localhost:8080/"
        },
        "outputId": "7fbb9788-8f5c-4c69-8978-fedf07c49065"
      },
      "source": [
        "cliente.join(negociacao, on=\"clientePK\")\\\n",
        "  .select(\"clienteSetor\", \"clienteCidade\", \"receita\")\\\n",
        "  .cube(\"clienteSetor\", \"clienteCidade\").sum(\"receita\")\\\n",
        "  .filter(\"sum(receita) > 3000000\")\\\n",
        "  .orderBy(\"clienteSetor\", \"clienteCidade\")\\\n",
        "  .withColumn(\"sum(receita)\", round(\"sum(receita)\",2))\\\n",
        "  .withColumnRenamed(\"sum(receita)\", \"Total de Receitas\")\\\n",
        "  .show()"
      ],
      "execution_count": null,
      "outputs": [
        {
          "output_type": "stream",
          "name": "stdout",
          "text": [
            "+-------------------+--------------+-----------------+\n",
            "|       clienteSetor| clienteCidade|Total de Receitas|\n",
            "+-------------------+--------------+-----------------+\n",
            "|               null|          null|    8.898370418E7|\n",
            "|               null|BELO HORIZONTE|       4379523.84|\n",
            "|               null|  CAMPO GRANDE|       3422117.04|\n",
            "|               null|      CURITIBA|       3697625.37|\n",
            "|               null|     FORTALEZA|       3391233.25|\n",
            "|               null|        MANAUS|       5234539.23|\n",
            "|               null|       MARILIA|       7289146.09|\n",
            "|               null|  PORTO ALEGRE|       4319625.71|\n",
            "|               null|        RECIFE|       4717719.46|\n",
            "|               null|RIO DE JANEIRO|    1.525596269E7|\n",
            "|               null|    SAO CARLOS|       4192741.95|\n",
            "|               null|     SAO PAULO|    2.464599961E7|\n",
            "|               null|    UBERLANDIA|        4357595.2|\n",
            "|BEBIDAS E ALIMENTOS|          null|    3.540878588E7|\n",
            "|BEBIDAS E ALIMENTOS|BELO HORIZONTE|        4206811.8|\n",
            "|BEBIDAS E ALIMENTOS|       MARILIA|        4033680.5|\n",
            "|BEBIDAS E ALIMENTOS|        RECIFE|       3899358.31|\n",
            "|BEBIDAS E ALIMENTOS|RIO DE JANEIRO|       7351629.96|\n",
            "|BEBIDAS E ALIMENTOS|     SAO PAULO|       6177945.47|\n",
            "|BEBIDAS E ALIMENTOS|    UBERLANDIA|       3283351.57|\n",
            "+-------------------+--------------+-----------------+\n",
            "only showing top 20 rows\n",
            "\n"
          ]
        }
      ]
    },
    {
      "cell_type": "markdown",
      "metadata": {
        "id": "tgV9cze8MBY3"
      },
      "source": [
        "# 7 Execução de Consultas com Foco na Tomada de Decisão\n",
        "As consultas OLAP requisitadas por usuários de sistemas de suporte à decisão usualmente requerem que várias operações OLAP sejam realizadas simultaneamente. A seguir são ilustrados exemplos de consultas OLAP que podem ser requisitadas para a tomada de decisão estratégica."
      ]
    },
    {
      "cell_type": "markdown",
      "metadata": {
        "id": "OcaRLxX_Jd1w"
      },
      "source": [
        "## 7.1 Consulta 1\n",
        "\n",
        "Qual é a média dos salários recebidos por nível do cargo e por sexo no ano de 2019?\n",
        "\n",
        "Para se realizar esta consulta, é necessário obter dados das tabelas de dimensão `cargo`, `funcionario` e `data`, bem como da tabela de fatos `pagamento`. A junção estrela deve ocorrer considerando as seguintes integridades referenciais:\n",
        "- `pagamento.cargoPK = cargo.cargoPK`\n",
        "- `pagamento.funcPK = funcionario.funcPK`\n",
        "- `pagamento.dataPK = data.dataPK` "
      ]
    },
    {
      "cell_type": "code",
      "metadata": {
        "id": "UeKlyc-mMt64",
        "colab": {
          "base_uri": "https://localhost:8080/"
        },
        "outputId": "d90af98d-b8ac-4d79-ee4c-52d26dea3c39"
      },
      "source": [
        "# realizando a operação de slice and dice utilizando o método filter()\n",
        "# selecionando apenas as colunas necessárias ao processamento da consulta \n",
        "dataSelecionada =\\\n",
        "   data\\\n",
        "   .filter(\"dataAno = 2019\")\\\n",
        "   .select(\"dataPK\")\n",
        "dataSelecionada.show(5)\n"
      ],
      "execution_count": null,
      "outputs": [
        {
          "output_type": "stream",
          "name": "stdout",
          "text": [
            "+------+\n",
            "|dataPK|\n",
            "+------+\n",
            "|  1097|\n",
            "|  1098|\n",
            "|  1099|\n",
            "|  1100|\n",
            "|  1101|\n",
            "+------+\n",
            "only showing top 5 rows\n",
            "\n"
          ]
        }
      ]
    },
    {
      "cell_type": "code",
      "metadata": {
        "id": "SguK3UyfVZf7",
        "colab": {
          "base_uri": "https://localhost:8080/"
        },
        "outputId": "2b14bea7-81a0-4aa7-9399-e576c9bfb812"
      },
      "source": [
        "# selecionando apenas as colunas necessárias de funcionario \n",
        "funcionarioSelecionado =\\\n",
        "   funcionario\\\n",
        "   .select(\"funcPK\", \"funcSexo\")\n",
        "funcionarioSelecionado.show(5)"
      ],
      "execution_count": null,
      "outputs": [
        {
          "output_type": "stream",
          "name": "stdout",
          "text": [
            "+------+--------+\n",
            "|funcPK|funcSexo|\n",
            "+------+--------+\n",
            "|     1|       F|\n",
            "|     2|       M|\n",
            "|     3|       M|\n",
            "|     4|       F|\n",
            "|     5|       M|\n",
            "+------+--------+\n",
            "only showing top 5 rows\n",
            "\n"
          ]
        }
      ]
    },
    {
      "cell_type": "code",
      "metadata": {
        "id": "CVLNPuPBV4pq",
        "colab": {
          "base_uri": "https://localhost:8080/"
        },
        "outputId": "79b351b6-9d2e-4e64-eb76-efd22cec685d"
      },
      "source": [
        "# selecionando apenas as colunas necessárias de cargo\n",
        "cargoSelecionado = \\\n",
        "   cargo\\\n",
        "   .select(\"cargoPK\", \"cargoNivel\")\n",
        "cargoSelecionado.show()"
      ],
      "execution_count": null,
      "outputs": [
        {
          "output_type": "stream",
          "name": "stdout",
          "text": [
            "+-------+----------+\n",
            "|cargoPK|cargoNivel|\n",
            "+-------+----------+\n",
            "|      1|    JUNIOR|\n",
            "|      2|     PLENO|\n",
            "|      3|    SENIOR|\n",
            "|      4|    JUNIOR|\n",
            "|      5|     PLENO|\n",
            "|      6|    SENIOR|\n",
            "|      7|    JUNIOR|\n",
            "|      8|     PLENO|\n",
            "|      9|    SENIOR|\n",
            "|     10|    JUNIOR|\n",
            "|     11|     PLENO|\n",
            "|     12|    SENIOR|\n",
            "|     13|    JUNIOR|\n",
            "|     14|     PLENO|\n",
            "|     15|    SENIOR|\n",
            "|     16|    JUNIOR|\n",
            "|     17|     PLENO|\n",
            "|     18|    SENIOR|\n",
            "|     19|    JUNIOR|\n",
            "|     20|     PLENO|\n",
            "+-------+----------+\n",
            "only showing top 20 rows\n",
            "\n"
          ]
        }
      ]
    },
    {
      "cell_type": "code",
      "metadata": {
        "id": "FjedOVW2WMEL",
        "colab": {
          "base_uri": "https://localhost:8080/"
        },
        "outputId": "db77bb62-debf-439f-8110-4b37a63e134e"
      },
      "source": [
        "# selecionando apenas as colunas necessárias de pagamento\n",
        "pagamentoSelecionado = \\\n",
        "   pagamento\\\n",
        "   .select(\"dataPK\", \"funcPK\", \"cargoPK\", \"salario\")\n",
        "pagamentoSelecionado.show()"
      ],
      "execution_count": null,
      "outputs": [
        {
          "output_type": "stream",
          "name": "stdout",
          "text": [
            "+------+------+-------+--------+\n",
            "|dataPK|funcPK|cargoPK| salario|\n",
            "+------+------+-------+--------+\n",
            "|     5|   147|     64| 1559.94|\n",
            "|     5|   124|    329| 8102.77|\n",
            "|     5|   175|    328| 2532.51|\n",
            "|     5|   171|    245|  7882.7|\n",
            "|     5|   148|     65| 4404.59|\n",
            "|     5|     5|    112| 2226.66|\n",
            "|     5|   128|    341| 6157.04|\n",
            "|     5|    82|     43| 1585.51|\n",
            "|     5|    28|    253| 1594.02|\n",
            "|     5|    46|    390| 9880.16|\n",
            "|     5|    91|    233|10931.47|\n",
            "|     5|   176|    241| 2005.49|\n",
            "|     5|   172|    351|14218.28|\n",
            "|     5|   155|    121| 2002.57|\n",
            "|     5|    19|    223| 1778.26|\n",
            "|     5|    94|    394|  2505.1|\n",
            "|     5|    26|    350| 9162.46|\n",
            "|     5|    55|    313| 3215.53|\n",
            "|     5|    29|     62| 4128.44|\n",
            "|     5|   181|    249|11082.75|\n",
            "+------+------+-------+--------+\n",
            "only showing top 20 rows\n",
            "\n"
          ]
        }
      ]
    },
    {
      "cell_type": "code",
      "metadata": {
        "id": "t6t3n4A9Wcsl",
        "colab": {
          "base_uri": "https://localhost:8080/"
        },
        "outputId": "fdb23c20-cc76-4008-f965-2ecc1b1fde61"
      },
      "source": [
        "#realizando as junções par a par\n",
        "pagamentoData = \\\n",
        "   pagamentoSelecionado\\\n",
        "   .join(dataSelecionada, on=\"dataPK\")\n",
        "\n",
        "pagamentoDataFunc = \\\n",
        "   pagamentoData\\\n",
        "   .join(funcionarioSelecionado, on=\"funcPK\")\n",
        "\n",
        "pagamentoDataFuncCargo = \\\n",
        "   pagamentoDataFunc\\\n",
        "   .join(cargoSelecionado, on=\"cargoPK\")\n",
        "   \n",
        "pagamentoDataFuncCargo.show(5)"
      ],
      "execution_count": null,
      "outputs": [
        {
          "output_type": "stream",
          "name": "stdout",
          "text": [
            "+-------+------+------+-------+--------+----------+\n",
            "|cargoPK|funcPK|dataPK|salario|funcSexo|cargoNivel|\n",
            "+-------+------+------+-------+--------+----------+\n",
            "|     64|   147|  1101|1559.94|       F|    JUNIOR|\n",
            "|    329|   124|  1101|8102.77|       M|     PLENO|\n",
            "|    328|   175|  1101|2532.51|       M|    JUNIOR|\n",
            "|    245|   171|  1101| 7882.7|       M|     PLENO|\n",
            "|     65|   148|  1101|4404.59|       M|     PLENO|\n",
            "+-------+------+------+-------+--------+----------+\n",
            "only showing top 5 rows\n",
            "\n"
          ]
        }
      ]
    },
    {
      "cell_type": "code",
      "metadata": {
        "id": "1lX3-P76XuXr",
        "colab": {
          "base_uri": "https://localhost:8080/"
        },
        "outputId": "e8be97f4-3d3f-4a98-ef60-9e6f40107dc8"
      },
      "source": [
        "#exibindo e calculando o resultado final\n",
        "pagamentoDataFuncCargo\\\n",
        "   .select(\"cargoNivel\", \"funcSexo\", \"salario\")\\\n",
        "   .groupBy(\"cargoNivel\", \"funcSexo\")\\\n",
        "   .avg(\"salario\")\\\n",
        "   .orderBy(\"cargoNivel\",\"funcSexo\")\\\n",
        "   .withColumn(\"avg(salario)\", round(\"avg(salario)\",2))\\\n",
        "   .withColumnRenamed(\"avg(salario)\", \"Média dos Salários\")\\\n",
        "   .show()"
      ],
      "execution_count": null,
      "outputs": [
        {
          "output_type": "stream",
          "name": "stdout",
          "text": [
            "+----------+--------+------------------+\n",
            "|cargoNivel|funcSexo|Média dos Salários|\n",
            "+----------+--------+------------------+\n",
            "|    JUNIOR|       F|           2440.23|\n",
            "|    JUNIOR|       M|           2437.86|\n",
            "|     PLENO|       F|           7641.94|\n",
            "|     PLENO|       M|           6259.61|\n",
            "|    SENIOR|       F|          12994.19|\n",
            "|    SENIOR|       M|           14480.5|\n",
            "+----------+--------+------------------+\n",
            "\n"
          ]
        }
      ]
    },
    {
      "cell_type": "code",
      "metadata": {
        "id": "XOTINsSlYW1p",
        "colab": {
          "base_uri": "https://localhost:8080/"
        },
        "outputId": "09d922b8-0983-4140-9ed9-3102557bcb28"
      },
      "source": [
        "# realizando a consulta em um único comando\n",
        "\n",
        "pagamento\\\n",
        "   .join(data, on=\"dataPK\")\\\n",
        "   .join(cargo, on=\"cargoPK\")\\\n",
        "   .join(funcionario, on=\"funcPK\")\\\n",
        "   .where(\"dataAno = 2019\")\\\n",
        "   .select(\"cargoNivel\", \"funcSexo\", \"salario\")\\\n",
        "   .groupBy(\"cargoNivel\", \"funcSexo\").avg(\"salario\")\\\n",
        "   .orderBy(\"cargoNivel\",\"funcSexo\")\\\n",
        "   .withColumn(\"avg(salario)\", round(\"avg(salario)\",2))\\\n",
        "   .withColumnRenamed(\"avg(salario)\", \"Média dos Salários\")\\\n",
        "   .show()"
      ],
      "execution_count": null,
      "outputs": [
        {
          "output_type": "stream",
          "name": "stdout",
          "text": [
            "+----------+--------+------------------+\n",
            "|cargoNivel|funcSexo|Média dos Salários|\n",
            "+----------+--------+------------------+\n",
            "|    JUNIOR|       F|           2440.23|\n",
            "|    JUNIOR|       M|           2437.86|\n",
            "|     PLENO|       F|           7641.94|\n",
            "|     PLENO|       M|           6259.61|\n",
            "|    SENIOR|       F|          12994.19|\n",
            "|    SENIOR|       M|           14480.5|\n",
            "+----------+--------+------------------+\n",
            "\n"
          ]
        }
      ]
    },
    {
      "cell_type": "markdown",
      "metadata": {
        "id": "varyr5djDP2s"
      },
      "source": [
        "## 7.2 Consulta 2\n",
        "\n",
        "Qual o total de gastos em salários considerando os estados nos quais as equipes estão localizadas no trimestre 3 do ano de 2020? \n",
        "\n",
        "Para se realizar esta consulta, é necessário obter dados das tabelas de dimensão `equipe` e `data`, bem como da tabela de fatos `pagamento`. A junção estrela deve ocorrer considerando as seguintes integridades referenciais:\n",
        "- `pagamento.dataPK = data.dataPK`\n",
        "- `pagamento.equipePK = equipe.equipePK`\n"
      ]
    },
    {
      "cell_type": "code",
      "metadata": {
        "id": "KSgE7xtPkGYf",
        "colab": {
          "base_uri": "https://localhost:8080/"
        },
        "outputId": "3452f6bf-4f63-4aa9-fe0a-b7c22646a5d9"
      },
      "source": [
        "pagamento\\\n",
        "   .join(data, on=\"dataPK\")\\\n",
        "   .join(equipe, on=\"equipePK\")\\\n",
        "   .where(\"dataAno = 2019 AND dataTrimestre = 3\")\\\n",
        "   .select(\"filialEstadoNome\", \"salario\")\\\n",
        "   .groupBy(\"filialEstadoNome\")\\\n",
        "   .sum(\"salario\")\\\n",
        "   .orderBy(\"sum(salario)\")\\\n",
        "   .withColumn(\"sum(salario)\", round(\"sum(salario)\",2))\\\n",
        "   .withColumnRenamed(\"sum(salario)\", \"Total\")\\\n",
        "   .show()"
      ],
      "execution_count": null,
      "outputs": [
        {
          "output_type": "stream",
          "name": "stdout",
          "text": [
            "+------------------+----------+\n",
            "|  filialEstadoNome|     Total|\n",
            "+------------------+----------+\n",
            "|        PERNAMBUCO| 438121.26|\n",
            "|MATO GROSSO DO SUL|1013857.75|\n",
            "|    RIO DE JANEIRO|1258479.58|\n",
            "|         SAO PAULO|1931458.02|\n",
            "+------------------+----------+\n",
            "\n"
          ]
        }
      ]
    },
    {
      "cell_type": "markdown",
      "metadata": {
        "id": "RAqNkANBOZSI"
      },
      "source": [
        "## 7.3 Consulta 3\n",
        "\n",
        "Qual o custo/benefício das equipes quando analisado o semestre 1 do ano de 2020?\n",
        "\n",
        "A idea da consulta é relacionar os gastos em salários e os ganhos em receitas considerando cada equipe e o período especificado. Portanto, para se realizar essa consulta, é necessário obter dados das tabelas de dimensão `equipe` e `data`, bem como das tabelas de fatos `pagamento` e `negociacao`. \n",
        "\n",
        " A junção estrela deve ocorrer considerando as seguintes integridades referenciais:\n",
        "- `pagamento.dataPK = data.dataPK`\n",
        "- `pagamento.equipePK = equipe.equipe.PK`\n",
        "- `negociacao.dataPK = data.dataPK`\n",
        "- `negociacao.equipePK = equipe.equipe.PK`\n"
      ]
    },
    {
      "cell_type": "markdown",
      "metadata": {
        "id": "HMyeJDwisUgu"
      },
      "source": [
        "Uma observação muito importante refere-se ao fato que, para evitar dubiedade nas respostas, elas devem ser feitas sempre considerando a chave primária, desde que a chave primária identifica univocamente cada linha. Depois de ser resolvida a consulta em termos da chave primária, então deve ser obtido os demais atributos a serem exibidos."
      ]
    },
    {
      "cell_type": "code",
      "metadata": {
        "id": "MybQ9xten5-x",
        "colab": {
          "base_uri": "https://localhost:8080/"
        },
        "outputId": "9206aa95-3e67-4e21-f9e0-54fb546821b8"
      },
      "source": [
        "# resolvendo o primeiro bloco da consulta\n",
        "# identificando para cada equipePK qual o total em gastos com salários\n",
        "pag = pagamento\\\n",
        "   .join(data, on=\"dataPK\")\\\n",
        "   .where(\"dataSemestre = 1 AND dataAno = 2020\")\\\n",
        "   .select(\"equipePK\", \"salario\")\\\n",
        "   .groupBy(\"equipePK\")\\\n",
        "   .sum(\"salario\")\\\n",
        "   .orderBy(\"equipePK\")\n",
        "pag.show()"
      ],
      "execution_count": null,
      "outputs": [
        {
          "output_type": "stream",
          "name": "stdout",
          "text": [
            "+--------+------------------+\n",
            "|equipePK|      sum(salario)|\n",
            "+--------+------------------+\n",
            "|       1|1160327.4052734375|\n",
            "|       2|1060981.1447753906|\n",
            "|       3|  1177330.32421875|\n",
            "|       4| 579893.9384765625|\n",
            "|       5| 909107.1071777344|\n",
            "|       6| 585430.8479003906|\n",
            "|       7| 876084.0717773438|\n",
            "|       8|1118608.3930664062|\n",
            "|       9| 939827.4675292969|\n",
            "|      10| 876242.5268554688|\n",
            "+--------+------------------+\n",
            "\n"
          ]
        }
      ]
    },
    {
      "cell_type": "code",
      "metadata": {
        "id": "XzA6ABe6ai-B",
        "colab": {
          "base_uri": "https://localhost:8080/"
        },
        "outputId": "c4b818be-36db-406b-acb3-0fa2c5c856c4"
      },
      "source": [
        "# resolvendo o segundo bloco da consulta\n",
        "# identificando para cada equipePK qual o total em ganhos com receitas\n",
        "neg = negociacao\\\n",
        "   .join(data, on=\"dataPK\")\\\n",
        "   .where(\"dataSemestre = 1 AND dataAno = 2020\")\\\n",
        "   .select(\"equipePK\", \"receita\")\\\n",
        "   .groupBy(\"equipePK\")\\\n",
        "   .sum(\"receita\")\\\n",
        "   .orderBy(\"equipePK\")\n",
        "neg.show()  \n"
      ],
      "execution_count": null,
      "outputs": [
        {
          "output_type": "stream",
          "name": "stdout",
          "text": [
            "+--------+------------------+\n",
            "|equipePK|      sum(receita)|\n",
            "+--------+------------------+\n",
            "|       1|1259907.2412109375|\n",
            "|       2|1338994.3959960938|\n",
            "|       3|     340461.296875|\n",
            "|       4|340130.64990234375|\n",
            "|       5| 614747.7039794922|\n",
            "|       6| 736591.3486328125|\n",
            "|       7| 722758.4526367188|\n",
            "|       8| 538659.2993164062|\n",
            "|       9|      4994717.6875|\n",
            "|      10| 4664745.689453125|\n",
            "+--------+------------------+\n",
            "\n"
          ]
        }
      ]
    },
    {
      "cell_type": "code",
      "metadata": {
        "id": "UTcPN-1caq51",
        "colab": {
          "base_uri": "https://localhost:8080/"
        },
        "outputId": "de1370ef-af78-4fee-ca5b-a49d738a9c99"
      },
      "source": [
        "# realizando a operação de drill-across\n",
        "parte = pag.join(neg, on=\"equipePK\")\n",
        "parte.show()"
      ],
      "execution_count": null,
      "outputs": [
        {
          "output_type": "stream",
          "name": "stdout",
          "text": [
            "+--------+------------------+------------------+\n",
            "|equipePK|      sum(salario)|      sum(receita)|\n",
            "+--------+------------------+------------------+\n",
            "|       1|1160327.4052734375|1259907.2412109375|\n",
            "|       6| 585430.8479003906| 736591.3486328125|\n",
            "|       3|  1177330.32421875|     340461.296875|\n",
            "|       5| 909107.1071777344| 614747.7039794922|\n",
            "|       9| 939827.4675292969|      4994717.6875|\n",
            "|       4| 579893.9384765625|340130.64990234375|\n",
            "|       8|1118608.3930664062| 538659.2993164062|\n",
            "|       7| 876084.0717773438| 722758.4526367188|\n",
            "|      10| 876242.5268554688| 4664745.689453125|\n",
            "|       2|1060981.1447753906|1338994.3959960938|\n",
            "+--------+------------------+------------------+\n",
            "\n"
          ]
        }
      ]
    },
    {
      "cell_type": "code",
      "metadata": {
        "id": "D8OZpLRra7xP",
        "colab": {
          "base_uri": "https://localhost:8080/"
        },
        "outputId": "2232e2ba-3bd8-4cdb-b3c7-32e0a6c66f81"
      },
      "source": [
        "# renomeando as colunas \n",
        "parte = parte\\\n",
        "   .withColumnRenamed(\"sum(salario)\", \"TotalSalario\")\\\n",
        "   .withColumnRenamed(\"sum(receita)\", \"TotalReceita\")\n",
        "\n",
        "#criando a coluna Lucro solicitada\n",
        "parte = parte\\\n",
        "   .withColumn(\"Lucro\", parte[\"TotalReceita\"] - parte[\"TotalSalario\"])\n",
        "parte.show()\n"
      ],
      "execution_count": null,
      "outputs": [
        {
          "output_type": "stream",
          "name": "stdout",
          "text": [
            "+--------+------------------+------------------+-------------------+\n",
            "|equipePK|      TotalSalario|      TotalReceita|              Lucro|\n",
            "+--------+------------------+------------------+-------------------+\n",
            "|       1|1160327.4052734375|1259907.2412109375|      99579.8359375|\n",
            "|       6| 585430.8479003906| 736591.3486328125| 151160.50073242188|\n",
            "|       3|  1177330.32421875|     340461.296875|   -836869.02734375|\n",
            "|       5| 909107.1071777344| 614747.7039794922| -294359.4031982422|\n",
            "|       9| 939827.4675292969|      4994717.6875|  4054890.219970703|\n",
            "|       4| 579893.9384765625|340130.64990234375|-239763.28857421875|\n",
            "|       8|1118608.3930664062| 538659.2993164062|      -579949.09375|\n",
            "|       7| 876084.0717773438| 722758.4526367188|  -153325.619140625|\n",
            "|      10| 876242.5268554688| 4664745.689453125| 3788503.1625976562|\n",
            "|       2|1060981.1447753906|1338994.3959960938|  278013.2512207031|\n",
            "+--------+------------------+------------------+-------------------+\n",
            "\n"
          ]
        }
      ]
    },
    {
      "cell_type": "code",
      "metadata": {
        "id": "Gv_Em-JSbt_u",
        "colab": {
          "base_uri": "https://localhost:8080/"
        },
        "outputId": "9e2bc606-0f23-4c5e-ad4e-1b84134d25db"
      },
      "source": [
        "# obtendo de equipe os dados semânticos a serem exibidos no resultado\n",
        "# exibindo somente as colunas solicitadas\n",
        "equipe\\\n",
        "   .join(parte, on=\"equipePK\")\\\n",
        "   .select(\"equipeNome\", \"filialNome\", round(\"Lucro\",2))\\\n",
        "   .orderBy(desc(\"Lucro\"))\\\n",
        "   .show()"
      ],
      "execution_count": null,
      "outputs": [
        {
          "output_type": "stream",
          "name": "stdout",
          "text": [
            "+--------------+--------------------+---------------+\n",
            "|    equipeNome|          filialNome|round(Lucro, 2)|\n",
            "+--------------+--------------------+---------------+\n",
            "|BI & ANALYTICS|SAO PAULO - AV. P...|     4054890.22|\n",
            "|BI & ANALYTICS|     RECIFE - CENTRO|     3788503.16|\n",
            "| APP - DESKTOP|RIO DE JANEIRO - ...|      278013.25|\n",
            "|  APP - MOBILE|SAO PAULO - AV. P...|       151160.5|\n",
            "| APP - DESKTOP|SAO PAULO - AV. P...|       99579.84|\n",
            "|  APP - MOBILE|RIO DE JANEIRO - ...|     -153325.62|\n",
            "|           WEB|RIO DE JANEIRO - ...|     -239763.29|\n",
            "|           WEB|CAMPO GRANDE - CE...|      -294359.4|\n",
            "|  APP - MOBILE|CAMPO GRANDE - CE...|     -579949.09|\n",
            "|           WEB|SAO PAULO - AV. P...|     -836869.03|\n",
            "+--------------+--------------------+---------------+\n",
            "\n"
          ]
        }
      ]
    },
    {
      "cell_type": "markdown",
      "source": [
        "# 8 Exercícios"
      ],
      "metadata": {
        "id": "tLSe7MYckCt_"
      }
    },
    {
      "cell_type": "markdown",
      "source": [
        "## Exercício 1\n",
        "\n",
        "Liste, para cada ano, a quantidade de negociações realizadas pelos clientes residentes no estado de Pernambuco. "
      ],
      "metadata": {
        "id": "5AshA2sBkIz6"
      }
    },
    {
      "cell_type": "code",
      "source": [
        "from itertools import groupby\n",
        "from pyspark.sql.functions import *\n",
        "# Resposta do exercício\n",
        "df_ex1 = negociacao\\\n",
        ".join(cliente, on=\"clientePk\")\\\n",
        ".join (data, \"dataPk\")\\\n",
        ".where(\"clienteEstadoSigla = 'PE'\")\\\n",
        ".select(\"dataAno\", \"quantidadeNegociacoes\")\\\n",
        ".groupBy(\"dataAno\").count()\\\n",
        ".orderBy(desc(\"dataAno\"))"
      ],
      "metadata": {
        "id": "cQGDRGUqkVxI"
      },
      "execution_count": null,
      "outputs": []
    },
    {
      "cell_type": "markdown",
      "source": [
        "## Exercício 2 \n",
        "\n",
        "Mostre o resultado do Exercício 1 usando um gráfico de barra. "
      ],
      "metadata": {
        "id": "DC21-QdOlAxZ"
      }
    },
    {
      "cell_type": "code",
      "source": [
        "df_ex1.show(10)"
      ],
      "metadata": {
        "colab": {
          "base_uri": "https://localhost:8080/"
        },
        "id": "VsXW27VluDol",
        "outputId": "a822aeb5-8f6d-4392-a78f-1e1bf3a668f2"
      },
      "execution_count": null,
      "outputs": [
        {
          "output_type": "stream",
          "name": "stdout",
          "text": [
            "+-------+-----+\n",
            "|dataAno|count|\n",
            "+-------+-----+\n",
            "|   2020|   63|\n",
            "|   2019|   72|\n",
            "|   2018|   46|\n",
            "|   2017|   48|\n",
            "|   2016|   26|\n",
            "+-------+-----+\n",
            "\n"
          ]
        }
      ]
    },
    {
      "cell_type": "code",
      "source": [
        "# Resposta do exercício\n",
        "df_ex1.toPandas().plot.bar(x=\"dataAno\", y=\"count\")"
      ],
      "metadata": {
        "id": "fV4L3BykmXMp",
        "colab": {
          "base_uri": "https://localhost:8080/",
          "height": 312
        },
        "outputId": "bf137165-54d2-469f-edb6-2e9a38127291"
      },
      "execution_count": null,
      "outputs": [
        {
          "output_type": "execute_result",
          "data": {
            "text/plain": [
              "<matplotlib.axes._subplots.AxesSubplot at 0x7fc5950da950>"
            ]
          },
          "metadata": {},
          "execution_count": 256
        },
        {
          "output_type": "display_data",
          "data": {
            "text/plain": [
              "<Figure size 432x288 with 1 Axes>"
            ],
            "image/png": "[encoded data removed]"
          },
          "metadata": {
            "needs_background": "light"
          }
        }
      ]
    },
    {
      "cell_type": "markdown",
      "source": [
        "## Exercício 3 \n",
        "\n",
        "Qual o total de despesas em salários nos anos de 2016 a 2020 em cada região na qual a equipe está localizada, considerando o cargo de nível junior? Arredonde a soma dos salários para até duas casas decimais. Devem ser exibidas as colunas na ordem e com os nomes especificados a seguir: \"ANO\", \"REGIAO\", \"TOTALDESPESA\". Ordene as linhas exibidas primeiro pelo total de despesa em ordem descendente, e depois pelo ano em ordem descendente. Liste as primeiras 25 linhas da resposta, sem truncamento das strings."
      ],
      "metadata": {
        "id": "zxavdfSflIw3"
      }
    },
    {
      "cell_type": "code",
      "source": [
        "df_ex3 = pagamento\\\n",
        ".join(data, \"dataPK\")\\\n",
        ".join(equipe, \"equipePK\")\\\n",
        ".join(cargo, \"cargoPK\")\\\n",
        ".filter(\"dataAno between 2016 and 2020\")\\\n",
        ".filter(\"cargoNivel='JUNIOR'\")\\\n",
        ".select(\"dataAno\", \"filialRegiaoNome\", \"salario\")\\\n",
        ".groupBy(\"dataAno\", \"filialRegiaoNome\").sum(\"salario\")\\\n",
        ".withColumn(\"sum(salario)\", round(\"sum(salario)\", 1))\\\n",
        ".withColumnRenamed(\"dataAno\", \"ANO\")\\\n",
        ".withColumnRenamed(\"filialRegiaoNome\", \"REGIAO\")\\\n",
        ".withColumnRenamed(\"sum(salario)\", \"TOTALDESPESA\")\\\n",
        ".orderBy(desc(\"TOTALDESPESA\"), desc(\"ANO\"))\n",
        "\n",
        "df_ex3.show()"
      ],
      "metadata": {
        "colab": {
          "base_uri": "https://localhost:8080/"
        },
        "id": "RW4hGeOYvNER",
        "outputId": "9b1829c6-7bc1-480c-b805-26a4dca05233"
      },
      "execution_count": 335,
      "outputs": [
        {
          "output_type": "stream",
          "name": "stdout",
          "text": [
            "+----+------------+------------+\n",
            "| ANO|      REGIAO|TOTALDESPESA|\n",
            "+----+------------+------------+\n",
            "|2020|     SUDESTE|   1257808.7|\n",
            "|2019|     SUDESTE|   1257808.7|\n",
            "|2018|     SUDESTE|   1056208.9|\n",
            "|2017|     SUDESTE|    876154.6|\n",
            "|2016|     SUDESTE|    489456.8|\n",
            "|2020|CENTRO-OESTE|    337073.3|\n",
            "|2019|CENTRO-OESTE|    337073.3|\n",
            "|2018|CENTRO-OESTE|    337073.3|\n",
            "|2020|    NORDESTE|    160832.4|\n",
            "|2019|    NORDESTE|    160832.4|\n",
            "|2017|CENTRO-OESTE|    154488.2|\n",
            "+----+------------+------------+\n",
            "\n"
          ]
        }
      ]
    },
    {
      "cell_type": "markdown",
      "source": [
        "## Exercício 4 \n",
        "\n",
        "Mostre o resultado do Exercício 3 usando um diagrama de barras que permite a visualização dos resultados por região."
      ],
      "metadata": {
        "id": "aXIGr8R4lY_j"
      }
    },
    {
      "cell_type": "code",
      "source": [
        "# Resposta do exercício\n",
        "import matplotlib.pyplot as plt\n",
        "\n",
        "axis = df_ex3.toPandas().set_index(['ANO', 'REGIAO']).unstack().plot(kind='bar', figsize=(20,10))\n",
        "axis.legend(['CENTRO-OESTE', 'NORDESTE', 'SUDESTE'])\n",
        "plt.title('Total de despesas por região (2016 - 2020)')"
      ],
      "metadata": {
        "id": "Nn_sdSBTnayc",
        "colab": {
          "base_uri": "https://localhost:8080/",
          "height": 654
        },
        "outputId": "92c133a8-6a7e-4735-e639-a8d3d76fd751"
      },
      "execution_count": 345,
      "outputs": [
        {
          "output_type": "execute_result",
          "data": {
            "text/plain": [
              "Text(0.5, 1.0, 'Total de despesas por região (2016 - 2020)')"
            ]
          },
          "metadata": {},
          "execution_count": 345
        },
        {
          "output_type": "display_data",
          "data": {
            "text/plain": [
              "<Figure size 1440x720 with 1 Axes>"
            ],
            "image/png": "[encoded data removed]"
          },
          "metadata": {
            "needs_background": "light"
          }
        }
      ]
    },
    {
      "cell_type": "markdown",
      "source": [
        "## Exercício 5 \n",
        "\n",
        "Liste o total dos salários e o total de receitas recebidas, considerando os anos de 2017, 2018 e 2019. Arredonde o total dos salários para até duas casas decimais. Devem ser exibidas as colunas na ordem e com os nomes especificados a seguir: \"ANO\", \"TOTAL GASTO EM SALARIOS\", \"TOTAL DE RECEITAS RECEBIDAS\". Ordene as linhas exibidas pelo ano em ordem descendente. Liste as primeiras 25 linhas da resposta, sem truncamento das *strings*."
      ],
      "metadata": {
        "id": "YN5nINZtlcgI"
      }
    },
    {
      "cell_type": "code",
      "source": [
        "df_ex5_salarios = pagamento.join(data, \"dataPk\").filter(\"dataAno in (2017, 2018, 2019)\")\\\n",
        ".select(\"dataAno\", \"salario\")\\\n",
        ".groupBy(\"dataAno\").sum(\"salario\").orderBy(desc(\"dataAno\"))\n",
        "\n",
        "df_ex5_salarios.show()"
      ],
      "metadata": {
        "colab": {
          "base_uri": "https://localhost:8080/"
        },
        "id": "dXDBHV0CyzZY",
        "outputId": "a9af01ef-8461-4d9d-f5a5-c02fdd271988"
      },
      "execution_count": 346,
      "outputs": [
        {
          "output_type": "stream",
          "name": "stdout",
          "text": [
            "+-------+--------------------+\n",
            "|dataAno|        sum(salario)|\n",
            "+-------+--------------------+\n",
            "|   2019|1.8567666454101562E7|\n",
            "|   2018|1.4935526465332031E7|\n",
            "|   2017|    9775279.83984375|\n",
            "+-------+--------------------+\n",
            "\n"
          ]
        }
      ]
    },
    {
      "cell_type": "code",
      "source": [
        "df_ex5_receitas = negociacao.join(data, \"dataPk\").filter(\"dataAno in (2017, 2018, 2019)\")\\\n",
        ".select(\"dataAno\", \"receita\")\\\n",
        ".groupBy(\"dataAno\").sum(\"receita\").orderBy(desc(\"dataAno\"))\n",
        "\n",
        "df_ex5_receitas.show()"
      ],
      "metadata": {
        "colab": {
          "base_uri": "https://localhost:8080/"
        },
        "id": "zPRJR6B80MKb",
        "outputId": "0acf5cb2-0b87-4723-8778-34b6351aa577"
      },
      "execution_count": 347,
      "outputs": [
        {
          "output_type": "stream",
          "name": "stdout",
          "text": [
            "+-------+--------------------+\n",
            "|dataAno|        sum(receita)|\n",
            "+-------+--------------------+\n",
            "|   2019| 3.535331833154297E7|\n",
            "|   2018|1.1593539659606934E7|\n",
            "|   2017|  7200423.3539123535|\n",
            "+-------+--------------------+\n",
            "\n"
          ]
        }
      ]
    },
    {
      "cell_type": "code",
      "source": [
        "# Resposta do exercício\n",
        "# ANO | TOTAL GASTO EM SALARIOS | TOTAL DE RECEITAS RECEBIDAS\n",
        "from pyspark.sql.types import *\n",
        "\n",
        "df_ex5 = df_ex5_salarios.join(df_ex5_receitas, \"dataAno\")\\\n",
        ".withColumn(\"sum(salario)\", df_ex5_salarios[\"sum(salario)\"].cast(DecimalType(18, 2)))\\\n",
        ".withColumn(\"sum(receita)\", df_ex5_receitas[\"sum(receita)\"].cast(DecimalType(18, 2)))\\\n",
        ".withColumnRenamed(\"dataAno\", \"ANO\")\\\n",
        ".withColumnRenamed(\"sum(salario)\", \"TOTAL GASTO EM SALARIOS\")\\\n",
        ".withColumnRenamed(\"sum(receita)\", \"TOTAL DE RECEITAS RECEBIDAS\")\\\n",
        ".orderBy(desc(\"ANO\"))\n",
        "\n",
        "df_ex5.show()"
      ],
      "metadata": {
        "id": "2KLQaXdUqLVM",
        "colab": {
          "base_uri": "https://localhost:8080/"
        },
        "outputId": "0ddf87cb-7e38-41e7-f162-7ce29d437e5e"
      },
      "execution_count": 349,
      "outputs": [
        {
          "output_type": "stream",
          "name": "stdout",
          "text": [
            "+----+-----------------------+---------------------------+\n",
            "| ANO|TOTAL GASTO EM SALARIOS|TOTAL DE RECEITAS RECEBIDAS|\n",
            "+----+-----------------------+---------------------------+\n",
            "|2019|            18567666.45|                35353318.33|\n",
            "|2018|            14935526.47|                11593539.66|\n",
            "|2017|             9775279.84|                 7200423.35|\n",
            "+----+-----------------------+---------------------------+\n",
            "\n"
          ]
        }
      ]
    },
    {
      "cell_type": "code",
      "source": [
        "# Resposta do exercício\n",
        "# cargo.printSchema()\n",
        "# cliente.printSchema()\n",
        "# data.printSchema()\n",
        "# equipe.printSchema()\n",
        "# funcionario.printSchema()\n",
        "pagamento.printSchema()\n",
        "negociacao.printSchema()"
      ],
      "metadata": {
        "colab": {
          "base_uri": "https://localhost:8080/"
        },
        "id": "pXWpdlPXyzxz",
        "outputId": "1481785f-829e-4f45-e10d-5b537e96d219"
      },
      "execution_count": null,
      "outputs": [
        {
          "output_type": "stream",
          "name": "stdout",
          "text": [
            "root\n",
            " |-- funcPK: integer (nullable = true)\n",
            " |-- equipePK: integer (nullable = true)\n",
            " |-- dataPK: integer (nullable = true)\n",
            " |-- cargoPK: integer (nullable = true)\n",
            " |-- salario: float (nullable = true)\n",
            " |-- quantidadeLancamentos: integer (nullable = true)\n",
            "\n",
            "root\n",
            " |-- equipePK: integer (nullable = true)\n",
            " |-- clientePK: integer (nullable = true)\n",
            " |-- dataPK: integer (nullable = true)\n",
            " |-- receita: float (nullable = true)\n",
            " |-- quantidadeNegociacoes: integer (nullable = true)\n",
            "\n"
          ]
        }
      ]
    },
    {
      "cell_type": "markdown",
      "source": [
        "## Exercício 6 \n",
        "\n",
        "Mostre o resultado do Exercício 5 usando um diagrama de barras."
      ],
      "metadata": {
        "id": "7GLtoEVblfcM"
      }
    },
    {
      "cell_type": "code",
      "source": [
        "# Resposta do exercício\n",
        "\n",
        "df_ex5.toPandas().set_index('ANO').astype(float).plot(kind='bar')"
      ],
      "metadata": {
        "id": "bllOr8dprUE9",
        "colab": {
          "base_uri": "https://localhost:8080/",
          "height": 323
        },
        "outputId": "f823fab3-6c4e-41b9-d645-bf2cd8d2f9fb"
      },
      "execution_count": 359,
      "outputs": [
        {
          "output_type": "execute_result",
          "data": {
            "text/plain": [
              "<matplotlib.axes._subplots.AxesSubplot at 0x7fc5948dafd0>"
            ]
          },
          "metadata": {},
          "execution_count": 359
        },
        {
          "output_type": "display_data",
          "data": {
            "text/plain": [
              "<Figure size 432x288 with 1 Axes>"
            ],
            "image/png": "[encoded data removed]"
          },
          "metadata": {
            "needs_background": "light"
          }
        }
      ]
    },
    {
      "cell_type": "markdown",
      "source": [
        "## Exercício 7\n",
        "\n",
        "\n",
        "Compare a quantidade de negociações que cada uma das equipes realizou nos anos de 2018 e 2019. Devem ser exibidas as colunas na ordem e com os nomes especificados a seguir: \"NOME DA EQUIPE\", \"NOME DA FILIAL\", \"NEGOCIACOES 2018\", \"NEGOCIACOES 2019\". Ordene as linhas exibidas pelo nome da equipe em ordem ascendente e depois pelo nome da filial em ordem ascendente. Liste as primeiras 25 linhas da resposta, sem truncamento das strings.\n",
        "\n",
        "Dica: Considere relacionar as equipes por meio da operação drill-across."
      ],
      "metadata": {
        "id": "l8qT5fYzljlz"
      }
    },
    {
      "cell_type": "code",
      "source": [
        "negociacoes_de_2018 = negociacao.\\\n",
        "                      join(data, on='dataPK').\\\n",
        "                      join(equipe, on='equipePK').\\\n",
        "                      filter('dataAno = 2018').\\\n",
        "                      groupBy('equipeNome', 'filialNome').sum('quantidadeNegociacoes').\\\n",
        "                      withColumnRenamed('sum(quantidadeNegociacoes)', 'NEGOCIACOES 2018').\\\n",
        "                      withColumnRenamed('equipeNome', 'NOME DA EQUIPE').\\\n",
        "                      withColumnRenamed('filialNome', 'NOME DA FILIAL')\n",
        "\n",
        "negociacoes_de_2018.show()"
      ],
      "metadata": {
        "colab": {
          "base_uri": "https://localhost:8080/"
        },
        "id": "mAZBASTR9_wl",
        "outputId": "b39c3456-598b-454d-fee2-159dce4df62f"
      },
      "execution_count": 366,
      "outputs": [
        {
          "output_type": "stream",
          "name": "stdout",
          "text": [
            "+--------------+--------------------+----------------+\n",
            "|NOME DA EQUIPE|      NOME DA FILIAL|NEGOCIACOES 2018|\n",
            "+--------------+--------------------+----------------+\n",
            "|           WEB|CAMPO GRANDE - CE...|             100|\n",
            "|  APP - MOBILE|SAO PAULO - AV. P...|             104|\n",
            "| APP - DESKTOP|RIO DE JANEIRO - ...|             149|\n",
            "|  APP - MOBILE|RIO DE JANEIRO - ...|              99|\n",
            "|  APP - MOBILE|CAMPO GRANDE - CE...|              98|\n",
            "|           WEB|RIO DE JANEIRO - ...|              91|\n",
            "| APP - DESKTOP|SAO PAULO - AV. P...|             132|\n",
            "|           WEB|SAO PAULO - AV. P...|              76|\n",
            "+--------------+--------------------+----------------+\n",
            "\n"
          ]
        }
      ]
    },
    {
      "cell_type": "code",
      "source": [
        "negociacoes_de_2019 = negociacao.\\\n",
        "                      join(data, on='dataPK').\\\n",
        "                      join(equipe, on='equipePK').\\\n",
        "                      filter('dataAno = 2019').\\\n",
        "                      groupBy('equipeNome', 'filialNome').sum('quantidadeNegociacoes').\\\n",
        "                      withColumnRenamed('sum(quantidadeNegociacoes)', 'NEGOCIACOES 2019').\\\n",
        "                      withColumnRenamed('equipeNome', 'NOME DA EQUIPE').\\\n",
        "                      withColumnRenamed('filialNome', 'NOME DA FILIAL')\n",
        "\n",
        "negociacoes_de_2019.show()"
      ],
      "metadata": {
        "colab": {
          "base_uri": "https://localhost:8080/"
        },
        "id": "GbJeO-kZAcWH",
        "outputId": "b1fbdeb1-3bef-4bbe-a82d-48bcb6688f12"
      },
      "execution_count": 367,
      "outputs": [
        {
          "output_type": "stream",
          "name": "stdout",
          "text": [
            "+--------------+--------------------+----------------+\n",
            "|NOME DA EQUIPE|      NOME DA FILIAL|NEGOCIACOES 2019|\n",
            "+--------------+--------------------+----------------+\n",
            "|           WEB|CAMPO GRANDE - CE...|              95|\n",
            "|  APP - MOBILE|SAO PAULO - AV. P...|             108|\n",
            "| APP - DESKTOP|RIO DE JANEIRO - ...|             135|\n",
            "|  APP - MOBILE|RIO DE JANEIRO - ...|             112|\n",
            "|  APP - MOBILE|CAMPO GRANDE - CE...|              88|\n",
            "|BI & ANALYTICS|     RECIFE - CENTRO|             175|\n",
            "|           WEB|RIO DE JANEIRO - ...|             106|\n",
            "| APP - DESKTOP|SAO PAULO - AV. P...|             135|\n",
            "|           WEB|SAO PAULO - AV. P...|              87|\n",
            "|BI & ANALYTICS|SAO PAULO - AV. P...|             181|\n",
            "+--------------+--------------------+----------------+\n",
            "\n"
          ]
        }
      ]
    },
    {
      "cell_type": "code",
      "source": [
        "df_ex7 = negociacoes_de_2018.join(negociacoes_de_2019, on = ['NOME DA EQUIPE', 'NOME DA FILIAL']).\\\n",
        "                              orderBy('NOME DA EQUIPE', 'NOME DA FILIAL')\n",
        "\n",
        "df_ex7.show()"
      ],
      "metadata": {
        "colab": {
          "base_uri": "https://localhost:8080/"
        },
        "id": "CfJYm5JBAnjV",
        "outputId": "7f6e0e70-c573-4e8a-972b-fff653afb01f"
      },
      "execution_count": 370,
      "outputs": [
        {
          "output_type": "stream",
          "name": "stdout",
          "text": [
            "+--------------+--------------------+----------------+----------------+\n",
            "|NOME DA EQUIPE|      NOME DA FILIAL|NEGOCIACOES 2018|NEGOCIACOES 2019|\n",
            "+--------------+--------------------+----------------+----------------+\n",
            "| APP - DESKTOP|RIO DE JANEIRO - ...|             149|             135|\n",
            "| APP - DESKTOP|SAO PAULO - AV. P...|             132|             135|\n",
            "|  APP - MOBILE|CAMPO GRANDE - CE...|              98|              88|\n",
            "|  APP - MOBILE|RIO DE JANEIRO - ...|              99|             112|\n",
            "|  APP - MOBILE|SAO PAULO - AV. P...|             104|             108|\n",
            "|           WEB|CAMPO GRANDE - CE...|             100|              95|\n",
            "|           WEB|RIO DE JANEIRO - ...|              91|             106|\n",
            "|           WEB|SAO PAULO - AV. P...|              76|              87|\n",
            "+--------------+--------------------+----------------+----------------+\n",
            "\n"
          ]
        }
      ]
    },
    {
      "cell_type": "code",
      "source": [
        "df_ex7.toPandas().set_index(['NOME DA EQUIPE', 'NOME DA FILIAL']).unstack().plot(kind='bar', figsize=(20,10))"
      ],
      "metadata": {
        "colab": {
          "base_uri": "https://localhost:8080/",
          "height": 687
        },
        "id": "yN1APUQOCGcM",
        "outputId": "b866c8f4-8375-47d3-905a-b82dfe638adf"
      },
      "execution_count": 374,
      "outputs": [
        {
          "output_type": "execute_result",
          "data": {
            "text/plain": [
              "<matplotlib.axes._subplots.AxesSubplot at 0x7fc594f03510>"
            ]
          },
          "metadata": {},
          "execution_count": 374
        },
        {
          "output_type": "display_data",
          "data": {
            "text/plain": [
              "<Figure size 1440x720 with 1 Axes>"
            ],
            "image/png": "[encoded data removed]"
          },
          "metadata": {
            "needs_background": "light"
          }
        }
      ]
    },
    {
      "cell_type": "code",
      "source": [
        "# Resposta do exercício\n",
        "\n",
        "data.printSchema()\n",
        "# funcionario.printSchema()\n",
        "equipe.printSchema()\n",
        "# cargo.printSchema()\n",
        "# cliente.printSchema()\n",
        "# pagamento.printSchema()\n",
        "negociacao.printSchema()"
      ],
      "metadata": {
        "id": "hVIAWtQ6rh4C",
        "colab": {
          "base_uri": "https://localhost:8080/"
        },
        "outputId": "5c84f55d-8f7e-4fd9-8f1b-5cb1f5b8b5c8"
      },
      "execution_count": 360,
      "outputs": [
        {
          "output_type": "stream",
          "name": "stdout",
          "text": [
            "root\n",
            " |-- dataPk: integer (nullable = true)\n",
            " |-- dataCompleta: string (nullable = true)\n",
            " |-- dataDia: integer (nullable = true)\n",
            " |-- dataMes: integer (nullable = true)\n",
            " |-- dataBimestre: integer (nullable = true)\n",
            " |-- dataTrimestre: integer (nullable = true)\n",
            " |-- dataSemestre: integer (nullable = true)\n",
            " |-- dataAno: integer (nullable = true)\n",
            "\n",
            "root\n",
            " |-- equipePK: integer (nullable = true)\n",
            " |-- equipeNome: string (nullable = true)\n",
            " |-- filialNome: string (nullable = true)\n",
            " |-- filialCidade: string (nullable = true)\n",
            " |-- filialEstadoNome: string (nullable = true)\n",
            " |-- filialEstadoSigla: string (nullable = true)\n",
            " |-- filialRegiaoNome: string (nullable = true)\n",
            " |-- filialRegiaoSigla: string (nullable = true)\n",
            " |-- filialPaisNome: string (nullable = true)\n",
            " |-- filialPaisSigla: string (nullable = true)\n",
            "\n",
            "root\n",
            " |-- equipePK: integer (nullable = true)\n",
            " |-- clientePK: integer (nullable = true)\n",
            " |-- dataPK: integer (nullable = true)\n",
            " |-- receita: float (nullable = true)\n",
            " |-- quantidadeNegociacoes: integer (nullable = true)\n",
            "\n"
          ]
        }
      ]
    },
    {
      "cell_type": "markdown",
      "source": [
        "## Exercício 8 \n",
        "\n",
        "Liste os setores dos clientes e a soma de suas respectivas receitas para o segundo semestre do ano de 2020. Devem ser exibidas as colunas na ordem e com os nomes especificados a seguir: \"SETOR DO CLIENTE\", \"TOTAL DE RECEITAS\". Ordene as linhas exibidas pelo total de receitas em ordem descendente. Liste as primeiras 25 linhas da resposta, sem truncamento das *strings*."
      ],
      "metadata": {
        "id": "RS7THfCdlnwU"
      }
    },
    {
      "cell_type": "code",
      "source": [
        "df_ex8 = negociacao.join(cliente, on='clientePK').\\\n",
        "                    join(data, on='dataPK').\\\n",
        "                    filter('dataAno = 2020 AND dataSemestre = 2').\\\n",
        "                    groupBy('clienteSetor').sum('receita').\\\n",
        "                    withColumnRenamed('clienteSetor', \"SETOR DO CLIENTE\").\\\n",
        "                    withColumn('sum(receita)', round('sum(receita)', 2)).\\\n",
        "                    withColumnRenamed('sum(receita)', \"TOTAL DE RECEITAS\").\\\n",
        "                    orderBy(desc(\"TOTAL DE RECEITAS\"))\n",
        "\n",
        "df_ex8.show()         "
      ],
      "metadata": {
        "colab": {
          "base_uri": "https://localhost:8080/"
        },
        "id": "rcGYIsLFDLBq",
        "outputId": "c4ab6f9f-bf72-414e-ec44-3d876fc11318"
      },
      "execution_count": 383,
      "outputs": [
        {
          "output_type": "stream",
          "name": "stdout",
          "text": [
            "+-------------------+-----------------+\n",
            "|   SETOR DO CLIENTE|TOTAL DE RECEITAS|\n",
            "+-------------------+-----------------+\n",
            "|BEBIDAS E ALIMENTOS|       5749704.68|\n",
            "|              SAUDE|        3119775.3|\n",
            "|         TECNOLOGIA|       2465926.05|\n",
            "|          VESTUARIO|       2336266.49|\n",
            "|            CREDITO|         998789.6|\n",
            "+-------------------+-----------------+\n",
            "\n"
          ]
        }
      ]
    },
    {
      "cell_type": "code",
      "source": [
        "df_ex8.toPandas().plot.bar(x='SETOR DO CLIENTE', y='TOTAL DE RECEITAS')"
      ],
      "metadata": {
        "colab": {
          "base_uri": "https://localhost:8080/",
          "height": 411
        },
        "id": "Kw5YunOQEg00",
        "outputId": "e91e7851-146f-4544-de02-d5ae88a8b29d"
      },
      "execution_count": 384,
      "outputs": [
        {
          "output_type": "execute_result",
          "data": {
            "text/plain": [
              "<matplotlib.axes._subplots.AxesSubplot at 0x7fc594adf650>"
            ]
          },
          "metadata": {},
          "execution_count": 384
        },
        {
          "output_type": "display_data",
          "data": {
            "text/plain": [
              "<Figure size 432x288 with 1 Axes>"
            ],
            "image/png": "[encoded data removed]"
          },
          "metadata": {
            "needs_background": "light"
          }
        }
      ]
    },
    {
      "cell_type": "code",
      "source": [
        "# Resposta do exercício\n",
        "\n",
        "data.printSchema()\n",
        "# funcionario.printSchema()\n",
        "# equipe.printSchema()\n",
        "# cargo.printSchema()\n",
        "cliente.printSchema()\n",
        "# pagamento.printSchema()\n",
        "negociacao.printSchema()"
      ],
      "metadata": {
        "id": "aaFNANx3wXvw",
        "colab": {
          "base_uri": "https://localhost:8080/"
        },
        "outputId": "6512bdef-d61b-4ab8-f7f2-c7df7b64c225"
      },
      "execution_count": 376,
      "outputs": [
        {
          "output_type": "stream",
          "name": "stdout",
          "text": [
            "root\n",
            " |-- dataPk: integer (nullable = true)\n",
            " |-- dataCompleta: string (nullable = true)\n",
            " |-- dataDia: integer (nullable = true)\n",
            " |-- dataMes: integer (nullable = true)\n",
            " |-- dataBimestre: integer (nullable = true)\n",
            " |-- dataTrimestre: integer (nullable = true)\n",
            " |-- dataSemestre: integer (nullable = true)\n",
            " |-- dataAno: integer (nullable = true)\n",
            "\n",
            "root\n",
            " |-- clientePK: integer (nullable = true)\n",
            " |-- clienteNomeFantasia: string (nullable = true)\n",
            " |-- clienteSetor: string (nullable = true)\n",
            " |-- clienteCidade: string (nullable = true)\n",
            " |-- clienteEstadoNome: string (nullable = true)\n",
            " |-- clienteEstadoSigla: string (nullable = true)\n",
            " |-- clienteRegiaoNome: string (nullable = true)\n",
            " |-- clienteRegiaoSigla: string (nullable = true)\n",
            " |-- clientePaisNome: string (nullable = true)\n",
            " |-- clientePaisSigla: string (nullable = true)\n",
            "\n",
            "root\n",
            " |-- equipePK: integer (nullable = true)\n",
            " |-- clientePK: integer (nullable = true)\n",
            " |-- dataPK: integer (nullable = true)\n",
            " |-- receita: float (nullable = true)\n",
            " |-- quantidadeNegociacoes: integer (nullable = true)\n",
            "\n"
          ]
        }
      ]
    },
    {
      "cell_type": "markdown",
      "source": [
        "## Exercício 9 \n",
        "\n",
        "Analise a resposta do Exercício 8 para identificar qual o setor do cliente que obteve o maior total de receitas. Mostre o total de receitas por mês para esse setor do cliente, considerando o segundo semestre do ano de 2020. Devem ser exibidas as colunas na ordem e com os nomes especificados a seguir: \"MES\", \"TOTAL DE RECEITAS\". Ordene as linhas exibidas pelo total de receitas em ordem descendente e depois pelo mês em ordem descendente. Liste as primeiras 25 linhas da resposta, sem truncamento das *strings*."
      ],
      "metadata": {
        "id": "uKrq4ow_lsO8"
      }
    },
    {
      "cell_type": "code",
      "source": [
        "df_ex9 = negociacao.join(cliente, on='clientePK').\\\n",
        "                    join(data, on='dataPK').\\\n",
        "                    filter('dataAno = 2020 AND dataSemestre = 2 AND clienteSetor = \"BEBIDAS E ALIMENTOS\"').\\\n",
        "                    groupBy('dataMes').sum('receita').\\\n",
        "                    withColumnRenamed('dataMes', \"MES\").\\\n",
        "                    withColumn('sum(receita)', round('sum(receita)', 2)).\\\n",
        "                    withColumnRenamed('sum(receita)', \"TOTAL DE RECEITAS\").\\\n",
        "                    orderBy(desc(\"TOTAL DE RECEITAS\"), desc(\"MES\"))\n",
        "\n",
        "df_ex9.show()         "
      ],
      "metadata": {
        "colab": {
          "base_uri": "https://localhost:8080/"
        },
        "id": "8FrltQ4AFQCk",
        "outputId": "eed8afd4-471a-48d9-8a0b-4a4b7a225e14"
      },
      "execution_count": 386,
      "outputs": [
        {
          "output_type": "stream",
          "name": "stdout",
          "text": [
            "+---+-----------------+\n",
            "|MES|TOTAL DE RECEITAS|\n",
            "+---+-----------------+\n",
            "| 11|        1156403.3|\n",
            "| 10|       1091389.49|\n",
            "| 12|         899122.7|\n",
            "|  9|        877223.55|\n",
            "|  8|        875934.29|\n",
            "|  7|        849631.35|\n",
            "+---+-----------------+\n",
            "\n"
          ]
        }
      ]
    },
    {
      "cell_type": "code",
      "source": [
        "df_ex9.toPandas().plot.bar(x='MES', y='TOTAL DE RECEITAS')"
      ],
      "metadata": {
        "colab": {
          "base_uri": "https://localhost:8080/",
          "height": 310
        },
        "id": "g6cKbzIeF2sO",
        "outputId": "5f221560-610b-4bd0-99b9-efa9bab2adc5"
      },
      "execution_count": 387,
      "outputs": [
        {
          "output_type": "execute_result",
          "data": {
            "text/plain": [
              "<matplotlib.axes._subplots.AxesSubplot at 0x7fc59455e090>"
            ]
          },
          "metadata": {},
          "execution_count": 387
        },
        {
          "output_type": "display_data",
          "data": {
            "text/plain": [
              "<Figure size 432x288 with 1 Axes>"
            ],
            "image/png": "[encoded data removed]"
          },
          "metadata": {
            "needs_background": "light"
          }
        }
      ]
    },
    {
      "cell_type": "code",
      "source": [
        "# Resposta do exercício\n",
        "\n",
        "# data.printSchema()\n",
        "# funcionario.printSchema()\n",
        "# equipe.printSchema()\n",
        "# cargo.printSchema()\n",
        "# cliente.printSchema()\n",
        "# pagamento.printSchema()\n",
        "# negociacao.printSchema()"
      ],
      "metadata": {
        "id": "0CEf9dgGtf_C"
      },
      "execution_count": null,
      "outputs": []
    },
    {
      "cell_type": "markdown",
      "source": [
        "## Exercício 10 \n",
        "\n",
        "Analise a resposta do Exercício 9 para identificar qual mês gerou o maior total de receitas para o setor de cliente identificado no Exercício 8. Mostre o total de receitas das equipes, considerando o segundo semestre do ano de 2020, o setor de cliente identificado no Exercício 8 e o mês identificado no Exercício 9. Devem ser exibidas as colunas na ordem e com os nomes especificados a seguir: \"NOME DA EQUIPE\", \"NOME DA FILIAL\", \"TOTAL DE RECEITAS\". Ordene as linhas exibidas pelo nome da equipe em ordem ascendente, e depois pelo nome da filial em ordem ascendente. Liste as primeiras 25 linhas da resposta, sem truncamento das *strings*."
      ],
      "metadata": {
        "id": "-rspOuzjltki"
      }
    },
    {
      "cell_type": "code",
      "source": [
        "df_ex10 = negociacao.join(cliente, on='clientePK').\\\n",
        "                      join(data, on='dataPK').\\\n",
        "                      join(equipe, on='equipePK').\\\n",
        "                      filter('dataAno = 2020 AND dataSemestre = 2 AND clienteSetor = \"BEBIDAS E ALIMENTOS\" AND dataMes=11').\\\n",
        "                      groupBy('equipeNome', 'filialNome').sum('receita').\\\n",
        "                      withColumnRenamed('equipeNome', \"NOME DA EQUIPE\").\\\n",
        "                      withColumnRenamed('filialNome', \"NOME DA FILIAL\").\\\n",
        "                      withColumn('sum(receita)', round('sum(receita)', 2)).\\\n",
        "                      withColumnRenamed('sum(receita)', \"TOTAL DE RECEITAS\").\\\n",
        "                      orderBy(\"NOME DA EQUIPE\", \"NOME DA FILIAL\")\n",
        "\n",
        "df_ex10.show()         "
      ],
      "metadata": {
        "colab": {
          "base_uri": "https://localhost:8080/"
        },
        "id": "RdNNK0npGXdY",
        "outputId": "7f0d9af0-ba29-462b-b503-488855ac3f8a"
      },
      "execution_count": 389,
      "outputs": [
        {
          "output_type": "stream",
          "name": "stdout",
          "text": [
            "+--------------+--------------------+-----------------+\n",
            "|NOME DA EQUIPE|      NOME DA FILIAL|TOTAL DE RECEITAS|\n",
            "+--------------+--------------------+-----------------+\n",
            "| APP - DESKTOP|RIO DE JANEIRO - ...|         35645.65|\n",
            "| APP - DESKTOP|SAO PAULO - AV. P...|         129409.4|\n",
            "|  APP - MOBILE|CAMPO GRANDE - CE...|         48714.45|\n",
            "|  APP - MOBILE|RIO DE JANEIRO - ...|          62138.7|\n",
            "|  APP - MOBILE|SAO PAULO - AV. P...|         26571.85|\n",
            "|BI & ANALYTICS|     RECIFE - CENTRO|        527169.75|\n",
            "|BI & ANALYTICS|SAO PAULO - AV. P...|        149490.15|\n",
            "|           WEB|CAMPO GRANDE - CE...|         20042.75|\n",
            "|           WEB|RIO DE JANEIRO - ...|          68596.1|\n",
            "|           WEB|SAO PAULO - AV. P...|          88624.5|\n",
            "+--------------+--------------------+-----------------+\n",
            "\n"
          ]
        }
      ]
    },
    {
      "cell_type": "code",
      "source": [
        "ax = df_ex10.toPandas().set_index([\"NOME DA EQUIPE\", \"NOME DA FILIAL\"]).unstack().plot(kind='bar', figsize=(10,5))\n",
        "ax.legend(['CAMPO GRANDE-CENTRO', 'RECIFE-CENTRO', 'RIO DE JANEIRO - BARRA DA TIJUCA', 'SÃO PAULO-AV. PAULISTA'])"
      ],
      "metadata": {
        "colab": {
          "base_uri": "https://localhost:8080/",
          "height": 418
        },
        "id": "9xnqqgggHOUf",
        "outputId": "13669b5d-b8cc-4209-d200-7120f43367c7"
      },
      "execution_count": 395,
      "outputs": [
        {
          "output_type": "execute_result",
          "data": {
            "text/plain": [
              "<matplotlib.legend.Legend at 0x7fc59418ec90>"
            ]
          },
          "metadata": {},
          "execution_count": 395
        },
        {
          "output_type": "display_data",
          "data": {
            "text/plain": [
              "<Figure size 720x360 with 1 Axes>"
            ],
            "image/png": "[encoded data removed]"
          },
          "metadata": {
            "needs_background": "light"
          }
        }
      ]
    },
    {
      "cell_type": "code",
      "source": [
        "# Resposta do exercício\n",
        "\n",
        "# data.printSchema()\n",
        "# funcionario.printSchema()\n",
        "equipe.printSchema()\n",
        "# cargo.printSchema()\n",
        "# cliente.printSchema()\n",
        "# pagamento.printSchema()\n",
        "# negociacao.printSchema()"
      ],
      "metadata": {
        "id": "xhdN5EOtuKsv",
        "colab": {
          "base_uri": "https://localhost:8080/"
        },
        "outputId": "a5d367f5-d1df-4bac-f84a-354c2e1029c3"
      },
      "execution_count": 388,
      "outputs": [
        {
          "output_type": "stream",
          "name": "stdout",
          "text": [
            "root\n",
            " |-- equipePK: integer (nullable = true)\n",
            " |-- equipeNome: string (nullable = true)\n",
            " |-- filialNome: string (nullable = true)\n",
            " |-- filialCidade: string (nullable = true)\n",
            " |-- filialEstadoNome: string (nullable = true)\n",
            " |-- filialEstadoSigla: string (nullable = true)\n",
            " |-- filialRegiaoNome: string (nullable = true)\n",
            " |-- filialRegiaoSigla: string (nullable = true)\n",
            " |-- filialPaisNome: string (nullable = true)\n",
            " |-- filialPaisSigla: string (nullable = true)\n",
            "\n"
          ]
        }
      ]
    },
    {
      "cell_type": "markdown",
      "source": [
        "## Exercício 11\n",
        "\n",
        "Liste todas as agregações que podem ser geradas a partir da média dos salários por ano por nome do estado da filial, considerando as equipes localizadas na região de nome SUDESTE. Devem ser exibidas as colunas na ordem e com os nomes especificados a seguir: \"ANO\", \"ESTADO DA FILIAL\", \"MEDIA DE SALARIOS\". Ordene as linhas exibidas pelo estado da filial em ordem descendente, e depois pelo ano em ordem descendente. Liste as primeiras 25 linhas da resposta, sem truncamento das *strings*."
      ],
      "metadata": {
        "id": "wGuIWMtqlzoq"
      }
    },
    {
      "cell_type": "code",
      "source": [
        "df_ex11 = pagamento.join(data, on='dataPK').\\\n",
        "                    join(equipe, on='equipePK').\\\n",
        "                    filter('filialRegiaoNome = \"SUDESTE\"').\\\n",
        "                    cube('dataAno', 'filialEstadoNome').\\\n",
        "                    mean('salario').\\\n",
        "                    orderBy(desc('filialEstadoNome'), desc('dataAno')).\\\n",
        "                    withColumnRenamed('dataAno', 'ANO').\\\n",
        "                    withColumnRenamed('filialEstadoNome', \"ESTADO DA FILIAL\").\\\n",
        "                    withColumnRenamed('avg(salario)', \"MEDIA DE SALARIOS\")\n",
        "\n",
        "df_ex11.show()"
      ],
      "metadata": {
        "colab": {
          "base_uri": "https://localhost:8080/"
        },
        "id": "JZTRl1aGICcX",
        "outputId": "52e75d93-7eb0-4d05-a855-f36fdc5482ca"
      },
      "execution_count": 403,
      "outputs": [
        {
          "output_type": "stream",
          "name": "stdout",
          "text": [
            "+----+----------------+------------------+\n",
            "| ANO|ESTADO DA FILIAL| MEDIA DE SALARIOS|\n",
            "+----+----------------+------------------+\n",
            "|2020|       SAO PAULO| 7948.386923707561|\n",
            "|2019|       SAO PAULO| 7948.386923707561|\n",
            "|2018|       SAO PAULO| 7986.580812548028|\n",
            "|2017|       SAO PAULO| 7639.404344745711|\n",
            "|2016|       SAO PAULO|  7735.51603515625|\n",
            "|null|       SAO PAULO|  7885.67770457188|\n",
            "|2020|  RIO DE JANEIRO| 7914.965896318544|\n",
            "|2019|  RIO DE JANEIRO| 7914.965896318544|\n",
            "|2018|  RIO DE JANEIRO| 7914.965896318544|\n",
            "|2017|  RIO DE JANEIRO|7596.6439039442275|\n",
            "|2016|  RIO DE JANEIRO| 7073.207631835938|\n",
            "|null|  RIO DE JANEIRO| 7767.222494784269|\n",
            "|2020|            null| 7935.168159143249|\n",
            "|2019|            null| 7935.168159143249|\n",
            "|2018|            null| 7953.286158511513|\n",
            "|2017|            null| 7621.710369241649|\n",
            "|2016|            null| 7404.361833496094|\n",
            "|null|            null| 7835.465476916245|\n",
            "+----+----------------+------------------+\n",
            "\n"
          ]
        }
      ]
    },
    {
      "cell_type": "code",
      "source": [
        "df_ex11.toPandas().set_index(['ANO', 'ESTADO DA FILIAL']).unstack().plot(kind='bar',figsize=(10,5))"
      ],
      "metadata": {
        "colab": {
          "base_uri": "https://localhost:8080/",
          "height": 376
        },
        "id": "6TfkFApdJ9eV",
        "outputId": "ec90844e-eda7-4254-8dfd-31d23918e36c"
      },
      "execution_count": 404,
      "outputs": [
        {
          "output_type": "execute_result",
          "data": {
            "text/plain": [
              "<matplotlib.axes._subplots.AxesSubplot at 0x7fc59415f550>"
            ]
          },
          "metadata": {},
          "execution_count": 404
        },
        {
          "output_type": "display_data",
          "data": {
            "text/plain": [
              "<Figure size 720x360 with 1 Axes>"
            ],
            "image/png": "[encoded data removed]"
          },
          "metadata": {
            "needs_background": "light"
          }
        }
      ]
    },
    {
      "cell_type": "code",
      "source": [
        "# Resposta do exercício\n",
        "\n",
        "data.printSchema()\n",
        "# funcionario.printSchema()\n",
        "equipe.printSchema()\n",
        "# cargo.printSchema()\n",
        "# cliente.printSchema()\n",
        "pagamento.printSchema()\n",
        "# negociacao.printSchema()"
      ],
      "metadata": {
        "id": "D10bLprRuqRh",
        "colab": {
          "base_uri": "https://localhost:8080/"
        },
        "outputId": "af0550e5-ea3b-4f4f-f7a6-6541f65edb5a"
      },
      "execution_count": 398,
      "outputs": [
        {
          "output_type": "stream",
          "name": "stdout",
          "text": [
            "root\n",
            " |-- dataPk: integer (nullable = true)\n",
            " |-- dataCompleta: string (nullable = true)\n",
            " |-- dataDia: integer (nullable = true)\n",
            " |-- dataMes: integer (nullable = true)\n",
            " |-- dataBimestre: integer (nullable = true)\n",
            " |-- dataTrimestre: integer (nullable = true)\n",
            " |-- dataSemestre: integer (nullable = true)\n",
            " |-- dataAno: integer (nullable = true)\n",
            "\n",
            "root\n",
            " |-- equipePK: integer (nullable = true)\n",
            " |-- equipeNome: string (nullable = true)\n",
            " |-- filialNome: string (nullable = true)\n",
            " |-- filialCidade: string (nullable = true)\n",
            " |-- filialEstadoNome: string (nullable = true)\n",
            " |-- filialEstadoSigla: string (nullable = true)\n",
            " |-- filialRegiaoNome: string (nullable = true)\n",
            " |-- filialRegiaoSigla: string (nullable = true)\n",
            " |-- filialPaisNome: string (nullable = true)\n",
            " |-- filialPaisSigla: string (nullable = true)\n",
            "\n",
            "root\n",
            " |-- funcPK: integer (nullable = true)\n",
            " |-- equipePK: integer (nullable = true)\n",
            " |-- dataPK: integer (nullable = true)\n",
            " |-- cargoPK: integer (nullable = true)\n",
            " |-- salario: float (nullable = true)\n",
            " |-- quantidadeLancamentos: integer (nullable = true)\n",
            "\n"
          ]
        }
      ]
    },
    {
      "cell_type": "markdown",
      "source": [
        "# *Conteúdo extra*\n",
        "## ***PageRank* com pySpark**"
      ],
      "metadata": {
        "id": "ctpXFT6bG02y"
      }
    },
    {
      "cell_type": "markdown",
      "source": [
        "### Fundamentação do PageRank"
      ],
      "metadata": {
        "id": "tyHY3sU-gr1V"
      }
    },
    {
      "cell_type": "markdown",
      "metadata": {
        "id": "2DOwwg-mjCeD"
      },
      "source": [
        "Quando realizamos um busca no Google utilizando um conjunto de palavras, o motor de busca identifica todas as páginas que contém o conteúdo procurado, apresentando as páginas de acordo com uma ordem de prioridade, onde páginas consideradas mais relevantes aparecem no topo da lista.\n",
        "\n",
        "A questão importante é: como o sistema do Google decide quais são as páginas mais relevantes?\n",
        "\n",
        "A resposta para esta pergunta é o mecanismo chamado _Google PageRank_, que explora o vetor de Perron associado a uma matriz estocástica construída de forma apropriada."
      ]
    },
    {
      "cell_type": "markdown",
      "source": [
        "![pr.svg](data:image/svg+xml;base64,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)"
      ],
      "metadata": {
        "id": "Tfthu-08mhYY"
      }
    },
    {
      "cell_type": "markdown",
      "metadata": {
        "id": "F6J6AjgVjCeG"
      },
      "source": [
        "**Matriz de Links entre Páginas**\n",
        "\n",
        "Cada página Web possui links para outras páginas, sendo também \"referenciada\" por outras páginas Web. A idéia básica do PageRank é que páginas que são apontadas por páginas importantes também devem ser importantes.\n",
        "\n",
        "Suponha que $r(p_i)$ seja a importância da página $p_i$ (que pretendem-se descobrir qual é) e $R_i=\\{p_{i_1},\\ldots,p_{ik_i}\\}$ sejam as páginas que fazem referência à página $p_i$. Assim, a importância da página $p_i$, pode ser definida como:\n",
        "\n",
        "$$\n",
        "r(p_i)=\\sum_{j\\in R_i} \\frac{r(p_j)}{l_j}\n",
        "$$\n",
        "\n",
        "onde $l_j$ é o número de páginas para as quais $p_j$ faz referência. A fórmula acima diz o seguinte, a importância da página $p_i$ é data pela importância das páginas que fazem referência a ela, porém, uma página que faz referência a muitas outras páginas impacta menos na importância de $p_i$.\n",
        "\n",
        "A equação acima pode ser escrita na forma matricial, onde as entradas da matriz $\\mathbf{H}$ são dadas por:\n",
        "\n",
        "$$\n",
        "H_{ij}=\\left\\{\\begin{array}{ll}\n",
        "\\frac{1}{l_i} & \\mbox{se } p_i\\in R_j\\\\\n",
        "0 & \\mbox{caso contrario}\n",
        "\\end{array}\\right.\n",
        "$$\n",
        "\n",
        "Note que a importância de cada página $p_i$ é dada pela multiplicação do vetor de importâncias pela $i$-ésima coluna de $\\mathbf{H}$, ou seja,\n",
        "\n",
        "$$\n",
        "\\begin{bmatrix}\n",
        "r(p_1) \\cdots  r(p_i) \\cdots r(p_n)\n",
        "\\end{bmatrix}\\cdot\n",
        "\\begin{matrix}\n",
        "  \\begin{matrix}\n",
        "   & &  i & & & \n",
        "  \\end{matrix}\\\\\n",
        "  \\begin{bmatrix}\n",
        "   & & & \\vdots & & & \\\\\n",
        "    & & & 1/l_{j_1} & & & \\\\\n",
        "    & & & \\vdots & & & \\\\\n",
        "    \\cdots & 1/l_{i} &\\cdots & 0 & \\cdots & 1/l_{i} & \\cdots \\\\\n",
        "    & & & \\vdots & & & \\\\\n",
        "    & & & 1/l_{j_{k_n}} & & & \\\\\n",
        "    & & & \\vdots & & & \n",
        "  \\end{bmatrix}\n",
        "  \\begin{matrix}\n",
        "   \\\\ \\\\  i \\\\ \\\\ \\\\ \n",
        "  \\end{matrix}\n",
        "\\end{matrix}=\n",
        "\\begin{bmatrix}\n",
        "r(p_1) \\\\ \\vdots \\\\ r(p_i) \\\\ \\vdots \\\\ r(p_n)\n",
        "\\end{bmatrix}\\\\ \\\\\n",
        "\\big\\Downarrow \\\\\n",
        "\\mathbf{\\sigma}\\mathbf{H}=\\mathbf{\\sigma}\\\\\n",
        "\\big\\Downarrow \\\\\n",
        "\\mathbf{H}^\\top\\mathbf{\\sigma}^\\top = \\mathbf{\\sigma}^\\top\n",
        "$$\n",
        "\n",
        "ou seja, a solução do problema de encontrar a importância das páginas é encontrar um autovetor associado ao autovalor 1 de $\\mathbf{H}^\\top$. Note que $\\mathbf{H}$ é estocástica, logo a existência do autovalor 1 é garantida (podendo não ser único)."
      ]
    },
    {
      "cell_type": "markdown",
      "source": [
        "**Importante**: Existem problemas relacionados à capacidade física dos recursos computacionais associados com a técnica. Por exemplo, a matriz $\\mathbf{H}$ tende a possuir muitas coordenadas, uma vez que o número de páginas computadas muitas vezes é astronômico. Sendo assim, nem sua elevada esparsidade é capaz de garantir o cômputo dos *rankings* das páginas consideradas. Assim sendo, o uso de técnicas paralelas e iterativas pode amenizar essas adversidades.\n"
      ],
      "metadata": {
        "id": "ePR8YgIKn5IA"
      }
    },
    {
      "cell_type": "markdown",
      "metadata": {
        "id": "Gvxc6BNdjCeN"
      },
      "source": [
        "**Resolução iterativa**\n",
        "\n",
        "Inicia-se o valor dos *rankings* com qualquer pontuação não negativa. Na sequência, atualiza-se cada um desses valores de acordo com a seguinte equação:\n",
        "\n",
        "$$\n",
        "r_{t}(p_i)=\\sum_{j\\in R_i} \\frac{r_{t-1}(p_j)}{r_j}, t \\in \\{1,2,3,...,N\\},\n",
        "$$\n",
        "\n",
        "com $N\\in\\mathbb{N}$ sendo o número máximo de iterações."
      ]
    },
    {
      "cell_type": "markdown",
      "source": [
        "### Uma proposta de implementação com pySpark"
      ],
      "metadata": {
        "id": "HIstDxnBokr2"
      }
    },
    {
      "cell_type": "code",
      "source": [
        "import numpy as np\n",
        "sc = spark.sparkContext"
      ],
      "metadata": {
        "id": "jWxosJOMK0-e"
      },
      "execution_count": null,
      "outputs": []
    },
    {
      "cell_type": "code",
      "source": [
        "def generate_page_links(num_pages = 10, percentage_of_links_per_page = 0.3, randneigh = True):\n",
        "\n",
        "  references = []\n",
        "  for i in range(num_pages):\n",
        "    curr_page = 'page_' + str(i)\n",
        "\n",
        "    J = np.arange(num_pages)\n",
        "    np.random.shuffle(J)\n",
        "    J = [j for j in J if j != i]\n",
        "    if randneigh:\n",
        "      R = np.random.rand(1)[0]\n",
        "    else:\n",
        "      R = percentage_of_links_per_page\n",
        "\n",
        "    M = int(np.max([int(R * num_pages),1]))\n",
        "    J = J[0:M]\n",
        "    \n",
        "    for j in J:\n",
        "      next_page = 'page_' + str(j)\n",
        "      ref = [curr_page, next_page]\n",
        "      references.append(ref)\n",
        "\n",
        "  return references\n"
      ],
      "metadata": {
        "id": "YBrbv104HJkX"
      },
      "execution_count": null,
      "outputs": []
    },
    {
      "cell_type": "code",
      "source": [
        "# Lembrar que uma página pode ter milhões de vizinhos, então pode ser melhor fazer uso de chave-valor aqui também\n",
        "def computeContribs(neighbors, rank):\n",
        "  lst = []\n",
        "  for neighbor in neighbors:\n",
        "        lst.append((neighbor, rank/len(neighbors)))\n",
        "  return lst  "
      ],
      "metadata": {
        "id": "LH42tq31dALf"
      },
      "execution_count": null,
      "outputs": []
    },
    {
      "cell_type": "code",
      "source": [
        "page_refs = generate_page_links()\n",
        "page_refs"
      ],
      "metadata": {
        "id": "9CSqszg_MCpR"
      },
      "execution_count": null,
      "outputs": []
    },
    {
      "cell_type": "code",
      "source": [
        "RDD = sc.parallelize(page_refs)"
      ],
      "metadata": {
        "id": "yqMfmvaRLXQl"
      },
      "execution_count": null,
      "outputs": []
    },
    {
      "cell_type": "code",
      "source": [
        "vizinhanca = RDD.map(lambda x: tuple(x)).map(lambda x: (x[0],[x[1]])).reduceByKey(lambda x,y: x+y)\n",
        "vizinhanca.collect()"
      ],
      "metadata": {
        "colab": {
          "base_uri": "https://localhost:8080/"
        },
        "id": "Blh_jIelMuPV",
        "outputId": "339a189b-7c05-4b47-dae3-fc93d5dd4f2c"
      },
      "execution_count": null,
      "outputs": [
        {
          "output_type": "execute_result",
          "data": {
            "text/plain": [
              "[('page_0', ['page_1', 'page_3', 'page_2']),\n",
              " ('page_1', ['page_7', 'page_3', 'page_2']),\n",
              " ('page_2', ['page_3', 'page_8', 'page_1']),\n",
              " ('page_3', ['page_9', 'page_4', 'page_6', 'page_7', 'page_2', 'page_5']),\n",
              " ('page_7', ['page_3', 'page_4', 'page_0']),\n",
              " ('page_4',\n",
              "  ['page_9',\n",
              "   'page_6',\n",
              "   'page_1',\n",
              "   'page_8',\n",
              "   'page_0',\n",
              "   'page_7',\n",
              "   'page_3',\n",
              "   'page_2',\n",
              "   'page_5']),\n",
              " ('page_5',\n",
              "  ['page_9',\n",
              "   'page_8',\n",
              "   'page_4',\n",
              "   'page_6',\n",
              "   'page_3',\n",
              "   'page_1',\n",
              "   'page_0',\n",
              "   'page_2']),\n",
              " ('page_6', ['page_4']),\n",
              " ('page_8', ['page_7', 'page_4', 'page_2', 'page_5']),\n",
              " ('page_9', ['page_2', 'page_7', 'page_6', 'page_0', 'page_8', 'page_1'])]"
            ]
          },
          "metadata": {},
          "execution_count": 278
        }
      ]
    },
    {
      "cell_type": "code",
      "source": [
        "rankings = vizinhanca.map(lambda x: (x[0], 1))\n",
        "rankings.collect()"
      ],
      "metadata": {
        "colab": {
          "base_uri": "https://localhost:8080/"
        },
        "id": "v3XiNMIlZ_ES",
        "outputId": "698c1604-ab95-412e-b1bc-f2db6185f825"
      },
      "execution_count": null,
      "outputs": [
        {
          "output_type": "execute_result",
          "data": {
            "text/plain": [
              "[('page_0', 1),\n",
              " ('page_1', 1),\n",
              " ('page_2', 1),\n",
              " ('page_3', 1),\n",
              " ('page_7', 1),\n",
              " ('page_4', 1),\n",
              " ('page_5', 1),\n",
              " ('page_6', 1),\n",
              " ('page_8', 1),\n",
              " ('page_9', 1)]"
            ]
          },
          "metadata": {},
          "execution_count": 279
        }
      ]
    },
    {
      "cell_type": "code",
      "source": [
        "result = vizinhanca.join(rankings)\n",
        "result.collect()"
      ],
      "metadata": {
        "colab": {
          "base_uri": "https://localhost:8080/"
        },
        "id": "MtDT7R-maU2P",
        "outputId": "d1753dac-a1b4-4602-fe87-5cb6c6f4e748"
      },
      "execution_count": null,
      "outputs": [
        {
          "output_type": "execute_result",
          "data": {
            "text/plain": [
              "[('page_1', (['page_7', 'page_3', 'page_2'], 1)),\n",
              " ('page_4',\n",
              "  (['page_9',\n",
              "    'page_6',\n",
              "    'page_1',\n",
              "    'page_8',\n",
              "    'page_0',\n",
              "    'page_7',\n",
              "    'page_3',\n",
              "    'page_2',\n",
              "    'page_5'],\n",
              "   1)),\n",
              " ('page_8', (['page_7', 'page_4', 'page_2', 'page_5'], 1)),\n",
              " ('page_9', (['page_2', 'page_7', 'page_6', 'page_0', 'page_8', 'page_1'], 1)),\n",
              " ('page_0', (['page_1', 'page_3', 'page_2'], 1)),\n",
              " ('page_2', (['page_3', 'page_8', 'page_1'], 1)),\n",
              " ('page_3', (['page_9', 'page_4', 'page_6', 'page_7', 'page_2', 'page_5'], 1)),\n",
              " ('page_7', (['page_3', 'page_4', 'page_0'], 1)),\n",
              " ('page_5',\n",
              "  (['page_9',\n",
              "    'page_8',\n",
              "    'page_4',\n",
              "    'page_6',\n",
              "    'page_3',\n",
              "    'page_1',\n",
              "    'page_0',\n",
              "    'page_2'],\n",
              "   1)),\n",
              " ('page_6', (['page_4'], 1))]"
            ]
          },
          "metadata": {},
          "execution_count": 280
        }
      ]
    },
    {
      "cell_type": "code",
      "source": [
        "# Executar várias vezes ou colocar dentro de um loop\n",
        "\n",
        "novos_rankings = result.map(lambda tupla: tupla[1]).flatMap(lambda x: computeContribs(x[0],x[1])).reduceByKey(lambda x,y: x+y)\n",
        "result = vizinhanca.join(novos_rankings)\n",
        "result.collect()"
      ],
      "metadata": {
        "colab": {
          "base_uri": "https://localhost:8080/"
        },
        "id": "fVc7uFFcdJVR",
        "outputId": "cf6d4975-3d0b-4023-f98d-5e3664cfc528"
      },
      "execution_count": null,
      "outputs": [
        {
          "output_type": "execute_result",
          "data": {
            "text/plain": [
              "[('page_1', (['page_7', 'page_3', 'page_2'], 1.037624518756921)),\n",
              " ('page_7', (['page_3', 'page_4', 'page_0'], 1.0818339028742905)),\n",
              " ('page_6', (['page_4'], 0.6153878326199473)),\n",
              " ('page_0', (['page_1', 'page_3', 'page_2'], 0.6995048182865569)),\n",
              " ('page_2', (['page_3', 'page_8', 'page_1'], 1.3961725470377495)),\n",
              " ('page_3',\n",
              "  (['page_9', 'page_4', 'page_6', 'page_7', 'page_2', 'page_5'],\n",
              "   1.6560246006499522)),\n",
              " ('page_4',\n",
              "  (['page_9',\n",
              "    'page_6',\n",
              "    'page_1',\n",
              "    'page_8',\n",
              "    'page_0',\n",
              "    'page_7',\n",
              "    'page_3',\n",
              "    'page_2',\n",
              "    'page_5'],\n",
              "   1.5338849407746518)),\n",
              " ('page_8', (['page_7', 'page_4', 'page_2', 'page_5'], 0.8041764896989787)),\n",
              " ('page_9',\n",
              "  (['page_2', 'page_7', 'page_6', 'page_0', 'page_8', 'page_1'],\n",
              "   0.5274925642635562)),\n",
              " ('page_5',\n",
              "  (['page_9',\n",
              "    'page_8',\n",
              "    'page_4',\n",
              "    'page_6',\n",
              "    'page_3',\n",
              "    'page_1',\n",
              "    'page_0',\n",
              "    'page_2'],\n",
              "   0.6478977850373965))]"
            ]
          },
          "metadata": {},
          "execution_count": 330
        }
      ]
    },
    {
      "cell_type": "code",
      "source": [
        "novos_rankings.sortBy(lambda x:x[1], ascending=False).collect()"
      ],
      "metadata": {
        "colab": {
          "base_uri": "https://localhost:8080/"
        },
        "id": "b0UHKoxfd19I",
        "outputId": "3c188d8c-57e8-442d-fc2a-773c40806625"
      },
      "execution_count": null,
      "outputs": [
        {
          "output_type": "execute_result",
          "data": {
            "text/plain": [
              "[('page_3', 1.6553764500891168),\n",
              " ('page_4', 1.5335975322927855),\n",
              " ('page_2', 1.3973188338411917),\n",
              " ('page_7', 1.082801064810391),\n",
              " ('page_1', 1.0371111530472632),\n",
              " ('page_8', 0.8033164800758816),\n",
              " ('page_0', 0.6988176147722447),\n",
              " ('page_5', 0.648606474505474),\n",
              " ('page_6', 0.6154452138844329),\n",
              " ('page_9', 0.5276091826812193)]"
            ]
          },
          "metadata": {},
          "execution_count": 325
        }
      ]
    },
    {
      "cell_type": "code",
      "source": [
        "novos_rankings.sortBy(lambda x:x[1], ascending=False).collect()"
      ],
      "metadata": {
        "colab": {
          "base_uri": "https://localhost:8080/"
        },
        "id": "JPvRqp-xeM4j",
        "outputId": "b1dcf38d-4b10-4d06-9162-1ea148942d53"
      },
      "execution_count": null,
      "outputs": [
        {
          "output_type": "execute_result",
          "data": {
            "text/plain": [
              "[('page_3', 1.6560246006499522),\n",
              " ('page_4', 1.5338849407746518),\n",
              " ('page_2', 1.3961725470377495),\n",
              " ('page_7', 1.0818339028742905),\n",
              " ('page_1', 1.037624518756921),\n",
              " ('page_8', 0.8041764896989787),\n",
              " ('page_0', 0.6995048182865569),\n",
              " ('page_5', 0.6478977850373965),\n",
              " ('page_6', 0.6153878326199473),\n",
              " ('page_9', 0.5274925642635562)]"
            ]
          },
          "metadata": {},
          "execution_count": 329
        }
      ]
    }
  ]
}