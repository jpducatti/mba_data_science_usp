{
 "cells": [
  {
   "cell_type": "markdown",
   "metadata": {},
   "source": [
    "1 - Seja a variável aleatória com distribuição de probabilidade: P(X=0)=0,1; P(X=1)=0,3; P(X=2)=0,6. Uma amostra com 100 observações é sorteada. Qual é a probabilidade de que a média amostral ser maior do que 1,5?\n",
    "\n"
   ]
  },
  {
   "cell_type": "code",
   "execution_count": 1,
   "metadata": {},
   "outputs": [],
   "source": [
    "import scipy.stats as st\n",
    "import numpy as np"
   ]
  },
  {
   "cell_type": "code",
   "execution_count": 39,
   "metadata": {},
   "outputs": [],
   "source": [
    "X = [0,1,2]\n",
    "P = [0.1, 0.3, 0.6]\n",
    "n = 100\n",
    "media_a = 1.5"
   ]
  },
  {
   "cell_type": "code",
   "execution_count": 52,
   "metadata": {},
   "outputs": [],
   "source": [
    "# V(X) = sigma**2  = E(X**2) - E(X)**2\n",
    "\n",
    "def esperanca(X,P):\n",
    "    E = 0\n",
    "    for i in range(0,len(X)):\n",
    "        E = E + X[i]*P[i]\n",
    "    return E\n",
    "\n",
    "def variancia(X,P):\n",
    "    E = 0; E2 = 0\n",
    "    for i in range(0, len(X)):\n",
    "        E = E + X[i]*P[i]\n",
    "        E2 = E2 + (X[i]**2)*P[i]\n",
    "    V = E2 - E**2\n",
    "    return V\n",
    "\n",
    "def z_value(media_a,mu, dp, n):\n",
    "    Z = round((media_a-mu) / (dp/(n**0.5)),2)\n",
    "    return Z"
   ]
  },
  {
   "cell_type": "code",
   "execution_count": 53,
   "metadata": {},
   "outputs": [
    {
     "name": "stdout",
     "output_type": "stream",
     "text": [
      "ESPERANÇA =  1.5 VARIÂNCIA =  0.45\n",
      "MEDIA POPULACAO =  1.5 DESVIO PADÃO =  0.67\n",
      "---------------\n",
      "Z value =  0.0\n",
      "Probabilidade media ser maior que 1.5 =  0.5\n"
     ]
    }
   ],
   "source": [
    "esperanca = round(esperanca(X,P),2)\n",
    "variancia = round(variancia(X,P),2)\n",
    "\n",
    "mu = esperanca\n",
    "dp = round(variancia**0.5,2)\n",
    "z = z_value(media_a,mi,dp,n)\n",
    "pt = round(1 - st.norm.cdf(z),2)\n",
    "\n",
    "print('ESPERANÇA = ', esperanca, 'VARIÂNCIA = ', variancia)\n",
    "print('MEDIA POPULACAO = ', mi,'DESVIO PADÃO = ', dp)\n",
    "print(5*'---')\n",
    "print('Z value = ', z)\n",
    "print('Probabilidade media ser maior que 1.5 = ', pt)"
   ]
  },
  {
   "cell_type": "markdown",
   "metadata": {},
   "source": [
    "2 - Uma máquina de empacotamento de farinha de trigo gera pacotes com 1 Kg e desvio padrão de 0,1 Kg. Admitindo que os pesos são normalmente distribuídos, determine a porcentagem de pacotes que pesam entre 0,9Kg e 1,0Kg.\n",
    "\n"
   ]
  },
  {
   "cell_type": "code",
   "execution_count": 56,
   "metadata": {},
   "outputs": [],
   "source": [
    "media = 1\n",
    "dp = 0.1\n",
    "\n",
    "media_a_inf = 0.9\n",
    "media_a_sup = 1.0\n",
    "\n",
    "def z_value(media_a,mu, dp):\n",
    "    Z = round((media_a-mu) /dp,2)\n",
    "    return Z"
   ]
  },
  {
   "cell_type": "code",
   "execution_count": 60,
   "metadata": {},
   "outputs": [
    {
     "name": "stdout",
     "output_type": "stream",
     "text": [
      "Probabilidade  Média Menor =  0.16\n",
      "Probabilidade  Média Maior =  0.5\n",
      "---------\n",
      "Probabilidade INtervalo =  0.34\n"
     ]
    }
   ],
   "source": [
    "Z_inf = z_value(media_a_inf, media, dp)\n",
    "pt_inf = round(st.norm.cdf(Z_inf),2)\n",
    "\n",
    "Z_sup = z_value(media_a_sup, media, dp)\n",
    "pt_sup = round(st.norm.cdf(Z_sup),2)\n",
    "\n",
    "prob = round(pt_sup - pt_inf,2)\n",
    "\n",
    "print('Probabilidade  Média Menor = ', pt_inf)\n",
    "print('Probabilidade  Média Maior = ', pt_sup)\n",
    "print(3*'---')\n",
    "print('Probabilidade INtervalo = ', prob)"
   ]
  },
  {
   "cell_type": "markdown",
   "metadata": {},
   "source": [
    "3 - Considerando dados de compra em uma loja online, cientistas de dados verificaram que o valor gasto por cada cliente pode ser modelado como uma distribuição normal com média igual a 100 reais e desvio padrão de 30 reais. Selecionando um cliente de forma aleatória, calcule a probabilidade de que ele/ela gaste mais de 90 reais em uma compra.\n",
    "\n"
   ]
  },
  {
   "cell_type": "code",
   "execution_count": 66,
   "metadata": {},
   "outputs": [
    {
     "name": "stdout",
     "output_type": "stream",
     "text": [
      "Probabilidade =  0.63\n"
     ]
    }
   ],
   "source": [
    "z = z_value(media_a, media, dp)\n",
    "pt = round(1 - st.norm.cdf(z),2)\n",
    "print('Probabilidade = ', pt)"
   ]
  },
  {
   "cell_type": "code",
   "execution_count": 64,
   "metadata": {},
   "outputs": [],
   "source": []
  },
  {
   "cell_type": "code",
   "execution_count": 61,
   "metadata": {},
   "outputs": [],
   "source": [
    "def z_value(media_a,mu, dp):\n",
    "    Z = round((media_a-mu) /dp,2)\n",
    "    return Z\n",
    "\n",
    "media = 100\n",
    "dp = 30\n",
    "media_a = 90"
   ]
  }
 ],
 "metadata": {
  "interpreter": {
   "hash": "eeca995d0f3e54aca6930f56d9ad1fedf70d5951646e03e475052bde35f1b6df"
  },
  "kernelspec": {
   "display_name": "Python 3.9.7 ('base')",
   "language": "python",
   "name": "python3"
  },
  "language_info": {
   "codemirror_mode": {
    "name": "ipython",
    "version": 3
   },
   "file_extension": ".py",
   "mimetype": "text/x-python",
   "name": "python",
   "nbconvert_exporter": "python",
   "pygments_lexer": "ipython3",
   "version": "3.9.7"
  },
  "orig_nbformat": 4
 },
 "nbformat": 4,
 "nbformat_minor": 2
}
