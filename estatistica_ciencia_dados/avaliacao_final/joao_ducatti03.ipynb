{
 "cells": [
  {
   "cell_type": "markdown",
   "metadata": {},
   "source": [
    "Uma empresa de market digital acredita que o tempo médio para um cliente responder a uma propaganda é maior do que 20 horas. Para analisar essa hipótese, são selecionados dados de 20 clientes, onde obtém-se os valores: 22,21,19,18,24,17,20,22,23,19,21,25,20,21,22,18,24,20,21,19. Suponha que o tempo de resposta tem distribuição normal com desvio padrão de 5 horas. Teste a seguinte hipótese ao nível de 5%:\n",
    "\n",
    "H_0: média = 20\n",
    "\n",
    "H_1: média > 20\n",
    "\n",
    "Qual o valor de xc?\n",
    "\n",
    "Resolva esse problema usando simulação, conforme feito na aula. Considere Ns=1000 simulações. Ao final, entregue o notebook com os códigos desenvolvidos. Caso seja identificado plágio, a questão seja zerada."
   ]
  },
  {
   "cell_type": "code",
   "execution_count": 11,
   "metadata": {},
   "outputs": [],
   "source": [
    "# Considerando distribuição normal\n",
    "# xc = ?\n",
    "\n",
    "X = [22,21,19,18,24,17,20,22,23,19,21,25,20,21,22,18,24,20,21,19]\n",
    "mu = 20 #horas\n",
    "sigma = 5 #horas\n",
    "confianca = 95\n",
    "Ns = 1000 #número de simulações\n",
    "n = 20 #tamanho da amostra"
   ]
  },
  {
   "cell_type": "code",
   "execution_count": 5,
   "metadata": {},
   "outputs": [],
   "source": [
    "import numpy as np\n",
    "import matplotlib.pyplot as plt"
   ]
  },
  {
   "cell_type": "code",
   "execution_count": 10,
   "metadata": {},
   "outputs": [],
   "source": [
    "# criando array de médias de amostras para as 1000 simulações\n",
    "Xm = []\n",
    "for i in range(0,Ns):\n",
    "    x = np.random.normal(mu, sigma, n)\n",
    "    Xm.append(np.mean(x))"
   ]
  },
  {
   "cell_type": "code",
   "execution_count": 16,
   "metadata": {},
   "outputs": [
    {
     "name": "stdout",
     "output_type": "stream",
     "text": [
      "A média da amostra dada é 20.80  e Xc = 21.82\n",
      "Aceita-se H0, logo não pode afirmar que a média é >20h\n"
     ]
    }
   ],
   "source": [
    "#avaliação das hipóteses com a amostragem dada\n",
    "x_obs = np.mean(X)\n",
    "\n",
    "xc = np.percentile(Xm, confianca) #selecionando a média que contém 95% das médias da simulação\n",
    "\n",
    "print('A média da amostra dada é %0.2f' % x_obs, ' e Xc = %0.2f' % xc)\n",
    "\n",
    "if (x_obs < xc):\n",
    "    print('Aceita-se H0, logo não pode afirmar que a média é >20h')\n",
    "else:\n",
    "    print('Aceita-se a hipótese que a média é maior que 20h')"
   ]
  },
  {
   "cell_type": "code",
   "execution_count": null,
   "metadata": {},
   "outputs": [],
   "source": []
  }
 ],
 "metadata": {
  "interpreter": {
   "hash": "eeca995d0f3e54aca6930f56d9ad1fedf70d5951646e03e475052bde35f1b6df"
  },
  "kernelspec": {
   "display_name": "Python 3.9.7 ('base')",
   "language": "python",
   "name": "python3"
  },
  "language_info": {
   "codemirror_mode": {
    "name": "ipython",
    "version": 3
   },
   "file_extension": ".py",
   "mimetype": "text/x-python",
   "name": "python",
   "nbconvert_exporter": "python",
   "pygments_lexer": "ipython3",
   "version": "3.9.7"
  },
  "orig_nbformat": 4
 },
 "nbformat": 4,
 "nbformat_minor": 2
}
