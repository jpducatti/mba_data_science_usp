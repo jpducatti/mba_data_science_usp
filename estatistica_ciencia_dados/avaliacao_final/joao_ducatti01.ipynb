{
 "cells": [
  {
   "cell_type": "markdown",
   "metadata": {},
   "source": [
    "1 - Seja a variável aleatória com distribuição de probabilidade: P(X=0)=0,1; P(X=1)=0,3; P(X=2)=0,6. Uma amostra com 100 observações é sorteada. Qual é a probabilidade de que a média amostral ser maior do que 1,5? Simule o problema e verifique se o valor teórico é próximo do simulado. Ao final, entregue o notebook com os códigos desenvolvidos. Caso seja identificado plágio, a questão seja zerada.\n",
    "\n",
    "Dica: Veja os exemplos mostrados na aula 4. Considere 1000 simulações."
   ]
  },
  {
   "cell_type": "code",
   "execution_count": 37,
   "metadata": {},
   "outputs": [],
   "source": [
    "#bibliotecas\n",
    "import random\n",
    "import numpy as np\n",
    "import scipy.stats as st"
   ]
  },
  {
   "cell_type": "code",
   "execution_count": 52,
   "metadata": {},
   "outputs": [],
   "source": [
    "# dados do problema\n",
    "\n",
    "amostra = 100 #observações por experimento\n",
    "n = 1000 #número de simulações do experimento\n",
    "x = 1.5 ##média das amostras\n",
    "\n",
    "## distribuicao de probabilidade da variável aleatória\n",
    "p_x0 = 0.1 \n",
    "p_x1 = 0.3\n",
    "p_x2 = 0.6"
   ]
  },
  {
   "cell_type": "code",
   "execution_count": 36,
   "metadata": {},
   "outputs": [
    {
     "name": "stdout",
     "output_type": "stream",
     "text": [
      "Valor esperado de 1.50 com variância 0.45\n"
     ]
    }
   ],
   "source": [
    "# calculando esperança e variância da população\n",
    "\n",
    "def esperanca(p_x):\n",
    "    j,e_x, e_x2, v_x = 0,0,0,0\n",
    "    for a in p_x:\n",
    "        e_x += a*j\n",
    "        j +=1\n",
    "    return e_x    \n",
    "    \n",
    "def variancia(p_x):\n",
    "    j,e_x, e_x2, v_x = 0,0,0,0\n",
    "    for a in p_x:\n",
    "        e_x += a*j\n",
    "        e_x2 += (j**2)*a\n",
    "        j +=1\n",
    "    v_x = e_x2 - e_x**2\n",
    "    return v_x\n",
    "\n",
    "p_x = [p_x0,p_x1,p_x2]\n",
    "e_x = esperanca(p_x)\n",
    "v_x = variancia(p_x)\n",
    "print('Valor esperado de %0.2f com variância %0.2f' % (e_x,v_x))"
   ]
  },
  {
   "cell_type": "code",
   "execution_count": 55,
   "metadata": {},
   "outputs": [
    {
     "name": "stdout",
     "output_type": "stream",
     "text": [
      "Z-score 0.00\n",
      "Probabilidade Teórica de 0.50\n"
     ]
    }
   ],
   "source": [
    "# Probab. de média amostral > 1.5 - Teórico\n",
    "mu = e_x\n",
    "sigma = np.sqrt(v_x)\n",
    "\n",
    "Z = (x-mu)/(sigma/np.sqrt(amostra))\n",
    "prob_teorico = 1-st.norm.cdf(Z)\n",
    "print('Z-score %0.2f' % Z)\n",
    "print('Probabilidade Teórica de %0.2f' % prob_teorico)\n"
   ]
  },
  {
   "cell_type": "code",
   "execution_count": 51,
   "metadata": {},
   "outputs": [
    {
     "name": "stdout",
     "output_type": "stream",
     "text": [
      "Media das amostras simuladas: 1.50 Media da população: 1.50\n"
     ]
    }
   ],
   "source": [
    "# Probab. de média amostral de 1.5 - Simulação com 1000 Experimentos\n",
    "X = [0, 1, 2]\n",
    "P = [0.1, 0.3, 0.6]\n",
    "\n",
    "x_sim = []\n",
    "for c in range(0,n):\n",
    "    experimento = np.random.choice(X,amostra, p=P)\n",
    "    x_sim.append(np.mean(experimento))\n",
    "\n",
    "\n",
    "\n",
    "print('Media das amostras simuladas: %0.2f' % np.mean(x_sim), 'Media da população: %0.2f' % e_x)"
   ]
  },
  {
   "cell_type": "code",
   "execution_count": 59,
   "metadata": {},
   "outputs": [
    {
     "name": "stdout",
     "output_type": "stream",
     "text": [
      "A probabilidade da média das amostras > 1.50  = 0.51\n",
      "A diferença da prob. simulação vs prob. teórica = 0.01\n",
      "A diferença entre a prob. simulada vs a teórica é pequena (menor ou igual que 5%)\n"
     ]
    }
   ],
   "source": [
    "n_maior = 0\n",
    "for i in range(0,len(x_sim)):\n",
    "    if (x_sim[i] > x):\n",
    "        n_maior +=1\n",
    "\n",
    "prob_simul = n_maior/len(x_sim)\n",
    "\n",
    "print('A probabilidade da média das amostras > %0.2f  = %0.2f' % (x,prob_simul))\n",
    "print('A diferença da prob. simulação vs prob. teórica = %0.2f' % (prob_simul-prob_teorico))\n",
    "\n",
    "if (prob_simul - prob_teorico) <= 0.05:\n",
    "    print('A diferença entre a prob. simulada vs a teórica é pequena (menor ou igual que 5%)')\n",
    "else:\n",
    "    print('A diferença entre a prob. simulada vs a teórica é significativa (maior que 5%)')"
   ]
  }
 ],
 "metadata": {
  "interpreter": {
   "hash": "eeca995d0f3e54aca6930f56d9ad1fedf70d5951646e03e475052bde35f1b6df"
  },
  "kernelspec": {
   "display_name": "Python 3.9.7 ('base')",
   "language": "python",
   "name": "python3"
  },
  "language_info": {
   "codemirror_mode": {
    "name": "ipython",
    "version": 3
   },
   "file_extension": ".py",
   "mimetype": "text/x-python",
   "name": "python",
   "nbconvert_exporter": "python",
   "pygments_lexer": "ipython3",
   "version": "3.9.7"
  },
  "orig_nbformat": 4
 },
 "nbformat": 4,
 "nbformat_minor": 2
}
