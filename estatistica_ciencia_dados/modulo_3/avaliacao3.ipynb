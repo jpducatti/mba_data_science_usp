{
 "cells": [
  {
   "cell_type": "code",
   "execution_count": 1,
   "metadata": {},
   "outputs": [],
   "source": [
    "import random\n",
    "import numpy as np"
   ]
  },
  {
   "cell_type": "code",
   "execution_count": 4,
   "metadata": {},
   "outputs": [],
   "source": [
    "import math\n",
    "def binomial(n,k,p):\n",
    "    C = (math.factorial(n)/(math.factorial(n-k)*math.factorial(k)))\n",
    "    pk = C*(p**k)*(1-p)**(n-k)\n",
    "    return pk"
   ]
  },
  {
   "cell_type": "markdown",
   "metadata": {},
   "source": [
    "1 - Uma moeda justa é lançada 10 vezes. Qual a probabilidade que saiam 5 caras?"
   ]
  },
  {
   "cell_type": "code",
   "execution_count": 5,
   "metadata": {},
   "outputs": [
    {
     "name": "stdout",
     "output_type": "stream",
     "text": [
      "Probabilidade =  0.24609375\n"
     ]
    }
   ],
   "source": [
    "n = 10\n",
    "k = 5\n",
    "p = 0.5\n",
    "\n",
    "print('Probabilidade = ', binomial(n,k,p))"
   ]
  },
  {
   "cell_type": "markdown",
   "metadata": {},
   "source": [
    "2 - Numa criação de pássaros, 60% são machos. Qual a probabilidade de nasceram no máximo 2 pássaros machos (P(X<=2)) num dia em que nasceram 10 pássaros?"
   ]
  },
  {
   "cell_type": "code",
   "execution_count": 15,
   "metadata": {},
   "outputs": [
    {
     "name": "stdout",
     "output_type": "stream",
     "text": [
      "Probabilidade =  0.012294553600000006\n"
     ]
    }
   ],
   "source": [
    "n = 10\n",
    "p = 0.6\n",
    "pk = 0\n",
    "k = 0\n",
    "\n",
    "for k in range(3):\n",
    "    pk = pk + binomial(n,k,p)\n",
    "\n",
    "print('Probabilidade = ', pk)"
   ]
  },
  {
   "cell_type": "markdown",
   "metadata": {},
   "source": [
    "3 - A variável aleatória X tem função densidade de probabilidade dada por:\n",
    "\n",
    "f(x) = x**2/3 se -1 < x < 2\n",
    "f(x) = 0, caso contrário\n",
    "\n",
    "Calcule P(0< X< 1).\n"
   ]
  },
  {
   "cell_type": "code",
   "execution_count": 19,
   "metadata": {},
   "outputs": [],
   "source": [
    "def eq_integrada(x):\n",
    "    eq_integrada = x**3/(3*3)\n",
    "    return eq_integrada"
   ]
  },
  {
   "cell_type": "code",
   "execution_count": 20,
   "metadata": {},
   "outputs": [
    {
     "name": "stdout",
     "output_type": "stream",
     "text": [
      "Probabilidade =  0.1111111111111111\n"
     ]
    }
   ],
   "source": [
    "print('Probabilidade = ', eq_integrada(1)-eq_integrada(0))"
   ]
  },
  {
   "cell_type": "markdown",
   "metadata": {},
   "source": [
    "4 - A variável aleatória X tem função densidade de probabilidade dada por:\n",
    "\n",
    "f(x) = x**2/3 se -1 < x < 2\n",
    "f(x) = 0, caso contrário\n",
    "\n",
    "Calcule o valor esperado de X."
   ]
  },
  {
   "cell_type": "code",
   "execution_count": 32,
   "metadata": {},
   "outputs": [],
   "source": [
    "# o valor esperado é dado por, para variavel continua\n",
    "# E(X) = integral de -inf até +inf de (X*f(x) dx)\n",
    "\n",
    "def eq_integrada(x):\n",
    "    eq_int = x**4/(3*4)\n",
    "    return eq_int"
   ]
  },
  {
   "cell_type": "code",
   "execution_count": 28,
   "metadata": {},
   "outputs": [
    {
     "name": "stdout",
     "output_type": "stream",
     "text": [
      "Probabilidade =  1.25\n"
     ]
    }
   ],
   "source": [
    "print('Probabilidade = ', eq_integrada(2)-eq_integrada(-1))"
   ]
  },
  {
   "cell_type": "markdown",
   "metadata": {},
   "source": [
    "5 - A variável aleatória X tem função densidade de probabilidade dada por:\n",
    "\n",
    "f(x) = x**2/3 se -1 < x < 2\n",
    "f(x) = 0, caso contrário\n",
    "\n",
    "Calcule a variância de X."
   ]
  },
  {
   "cell_type": "code",
   "execution_count": 51,
   "metadata": {},
   "outputs": [],
   "source": [
    "# a variância é dado por, para variavel continua\n",
    "# V(X) = sigma**2  = E(X**2) - E(X)**2\n",
    "\n",
    "\n",
    "def esperanca_quadrado(x):\n",
    "    esp_quadrado = x**5/(3*5)\n",
    "    return esp_quadrado\n",
    "\n",
    "def esperanca_elevado_quadrado(x):\n",
    "    esp_elev_quadrado = x**4/(3*4)\n",
    "    return esp_elev_quadrado"
   ]
  },
  {
   "cell_type": "code",
   "execution_count": 55,
   "metadata": {},
   "outputs": [
    {
     "name": "stdout",
     "output_type": "stream",
     "text": [
      "Probabilidade =  0.6375000000000002\n"
     ]
    }
   ],
   "source": [
    "esp_quadrado = esperanca_quadrado(2) - esperanca_quadrado(-1)\n",
    "esp_elev_quadrado = (esperanca_elevado_quadrado(2) - esperanca_elevado_quadrado(-1))**2\n",
    "\n",
    "\n",
    "print('Probabilidade = ', esp_quadrado - esp_elev_quadrado )"
   ]
  },
  {
   "cell_type": "code",
   "execution_count": null,
   "metadata": {},
   "outputs": [],
   "source": []
  }
 ],
 "metadata": {
  "interpreter": {
   "hash": "eeca995d0f3e54aca6930f56d9ad1fedf70d5951646e03e475052bde35f1b6df"
  },
  "kernelspec": {
   "display_name": "Python 3.9.7 ('base')",
   "language": "python",
   "name": "python3"
  },
  "language_info": {
   "codemirror_mode": {
    "name": "ipython",
    "version": 3
   },
   "file_extension": ".py",
   "mimetype": "text/x-python",
   "name": "python",
   "nbconvert_exporter": "python",
   "pygments_lexer": "ipython3",
   "version": "3.9.7"
  },
  "orig_nbformat": 4
 },
 "nbformat": 4,
 "nbformat_minor": 2
}
