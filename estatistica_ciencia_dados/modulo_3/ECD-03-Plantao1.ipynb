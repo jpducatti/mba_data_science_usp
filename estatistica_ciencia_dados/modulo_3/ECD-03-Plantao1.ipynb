{
 "cells": [
  {
   "cell_type": "markdown",
   "metadata": {},
   "source": [
    "# Aula 3: Modelos Probabilísticos"
   ]
  },
  {
   "cell_type": "markdown",
   "metadata": {},
   "source": [
    "### Valor esperado"
   ]
  },
  {
   "cell_type": "markdown",
   "metadata": {},
   "source": [
    "O valor esperado pode ser aproximado pela média de uma variável aleatória, fato jutificado pela Lei dos Grandes Números, que veremos nas próximas aulas."
   ]
  },
  {
   "cell_type": "markdown",
   "metadata": {},
   "source": [
    "**Exemplo:** Seja a variável aleatória X com distribuição abaixo. Calcule E[X] e V(X).\n",
    "$$\n",
    "P(X=0) = 0.2,\\quad P(X=1) = 0.2, \\quad P(X = 2) = 0.6\n",
    "$$\n",
    "O valor esperado:\n",
    "$$\n",
    "E[X] = 0*0.2 + 1*0.2 + 2*0.6 = 1.4\n",
    "$$\n",
    "$$\n",
    "V(X) = E[X^2]-E[X]^2 = 0.64\n",
    "$$"
   ]
  },
  {
   "cell_type": "code",
   "execution_count": 1,
   "metadata": {},
   "outputs": [
    {
     "name": "stdout",
     "output_type": "stream",
     "text": [
      "Valor esperado de X: 1.39796\n",
      "Variância de X: 0.6420342587425876\n"
     ]
    }
   ],
   "source": [
    "#Abordagem empírica (simulação) \n",
    "import random\n",
    "import numpy as np\n",
    "n = 100000 #numero de experimentos\n",
    "\n",
    "X = [0,0,1,1,2,2,2,2,2,2]\n",
    "x_obs = []\n",
    "for i in range(0,n):\n",
    "    x_obs.append(random.choice(X))\n",
    "    \n",
    "print('Valor esperado de X:', np.mean(x_obs))\n",
    "print('Variância de X:', np.std(x_obs, ddof=1)**2)"
   ]
  },
  {
   "cell_type": "code",
   "execution_count": 2,
   "metadata": {},
   "outputs": [
    {
     "name": "stdout",
     "output_type": "stream",
     "text": [
      "Valor esperado de X: 1.4033\n",
      "Variância de X: 0.6392755027550276\n"
     ]
    }
   ],
   "source": [
    "# Alternativa para simular\n",
    "import random\n",
    "import numpy as np\n",
    "n = 100000 #numero de experimentos\n",
    "prob = [0.2, 0.2, 0.6]\n",
    "X = [0,1,2]\n",
    "x_obs = random.choices(X,  weights = prob, k = n)\n",
    "    \n",
    "print('Valor esperado de X:', np.mean(x_obs))\n",
    "print('Variância de X:', np.std(x_obs, ddof = 1)**2)"
   ]
  },
  {
   "cell_type": "code",
   "execution_count": 3,
   "metadata": {},
   "outputs": [
    {
     "name": "stdout",
     "output_type": "stream",
     "text": [
      "Valor esperado de X: 1.4\n",
      "Variância de X: 0.6400000000000003\n"
     ]
    }
   ],
   "source": [
    "# Resultado teórico\n",
    "import random\n",
    "import numpy as np\n",
    "\n",
    "prob = [0.2, 0.2, 0.6]\n",
    "X = [0,1,2]\n",
    "esperanca, esperanca2 = 0, 0\n",
    "for x, p in zip(X, prob):\n",
    "    esperanca += x * p\n",
    "    esperanca2 += x**2 * p\n",
    "\n",
    "print('Valor esperado de X:', esperanca)\n",
    "print('Variância de X:', esperanca2 - esperanca**2)"
   ]
  },
  {
   "cell_type": "markdown",
   "metadata": {},
   "source": [
    "## Exercícios de fixação"
   ]
  },
  {
   "cell_type": "markdown",
   "metadata": {},
   "source": [
    "1 - Seja a variável aleatória X com distribuição abaixo. Calcule E[X].\n",
    "$$\n",
    "P(X=0) = 0.4,\\quad P(X=1) = 0.4, \\quad P(X = 2) = 0.2\n",
    "$$\n",
    "Calcule o valor esperado e simule o problema como feito anteriormente."
   ]
  },
  {
   "cell_type": "code",
   "execution_count": 4,
   "metadata": {},
   "outputs": [
    {
     "name": "stdout",
     "output_type": "stream",
     "text": [
      "Valor esperado de X: 0.79987\n",
      "Variância de X: 0.5597779831\n"
     ]
    }
   ],
   "source": [
    "# Alternativa para simular\n",
    "import random\n",
    "import numpy as np\n",
    "n = 100000 #numero de experimentos\n",
    "prob = [0.4, 0.4, 0.2]\n",
    "X = [0,1,2]\n",
    "x_obs = random.choices(X,  weights = prob, k = n)\n",
    "    \n",
    "print('Valor esperado de X:', np.mean(x_obs))\n",
    "print('Variância de X:', np.std(x_obs)**2)"
   ]
  },
  {
   "cell_type": "code",
   "execution_count": 5,
   "metadata": {},
   "outputs": [
    {
     "name": "stdout",
     "output_type": "stream",
     "text": [
      "Valor esperado de X: 0.8\n",
      "Variância de X: 0.56\n"
     ]
    }
   ],
   "source": [
    "# Resultado teórico\n",
    "import random\n",
    "import numpy as np\n",
    "\n",
    "prob = [0.4, 0.4, 0.2]\n",
    "X = [0,1,2]\n",
    "esperanca, esperanca2 = 0, 0\n",
    "for x, p in zip(X, prob):\n",
    "    esperanca += x * p\n",
    "    esperanca2 += x**2 * p\n",
    "\n",
    "print('Valor esperado de X:', esperanca)\n",
    "print('Variância de X:', esperanca2 - esperanca**2)"
   ]
  },
  {
   "cell_type": "markdown",
   "metadata": {},
   "source": [
    "2 - Em uma urna há 5 bolas brancas e 9 pretas. Retira-se 5 bolas com reposição. Calcule a probabilidade de que:<br>\n",
    "a) saiam 3 bolas brancas.<br> \n",
    "b) saiam ao menos 2 pretas.<br>"
   ]
  },
  {
   "cell_type": "code",
   "execution_count": 6,
   "metadata": {},
   "outputs": [
    {
     "data": {
      "text/plain": [
       "0.1882586124828939"
      ]
     },
     "execution_count": 6,
     "metadata": {},
     "output_type": "execute_result"
    }
   ],
   "source": [
    "# a)\n",
    "from scipy.stats import binom\n",
    "pB = 5 / 14\n",
    "pP = 9 / 14\n",
    "n = 5\n",
    "\n",
    "binom.pmf(3, n, pB) "
   ]
  },
  {
   "cell_type": "code",
   "execution_count": 7,
   "metadata": {},
   "outputs": [
    {
     "data": {
      "text/plain": [
       "0.9418954899744152"
      ]
     },
     "execution_count": 7,
     "metadata": {},
     "output_type": "execute_result"
    }
   ],
   "source": [
    "x = np.arange(2,5 + 1)\n",
    "binom.pmf(x, n, pP)\n",
    "np.sum(binom.pmf(x, n, pP))"
   ]
  },
  {
   "cell_type": "code",
   "execution_count": 8,
   "metadata": {},
   "outputs": [
    {
     "data": {
      "text/plain": [
       "0.9418954899744154"
      ]
     },
     "execution_count": 8,
     "metadata": {},
     "output_type": "execute_result"
    }
   ],
   "source": [
    "1- binom.cdf(1, n, pP)"
   ]
  },
  {
   "cell_type": "markdown",
   "metadata": {},
   "source": [
    "3 - Gere dados com distribuição de Poisson com $\\lambda = 5$. Verifique se $E[X]=V[X]=\\lambda$ usando simulação. Faça isso para diferentes valores de $\\lambda$."
   ]
  },
  {
   "cell_type": "code",
   "execution_count": 9,
   "metadata": {},
   "outputs": [
    {
     "name": "stdout",
     "output_type": "stream",
     "text": [
      "Valor esperado de X: [0.5   1.001 1.496 1.997 2.498 3.005 3.504 4.001 4.506 4.997 5.499 5.995\n",
      " 6.498 7.001 7.496 8.003 8.503 8.99  9.504 9.99 ]\n",
      "Variância de X: [0.503 1.004 1.503 1.994 2.49  3.013 3.507 3.994 4.515 5.013 5.511 6.025\n",
      " 6.494 6.971 7.545 8.046 8.476 8.945 9.503 9.97 ]\n",
      "A diferença entre Esperança e Variância de X: [ 0.00222242  0.00300338  0.00702477 -0.00334666 -0.00788741  0.00740563\n",
      "  0.00232896 -0.00624055  0.00904957  0.01632466  0.01234077  0.0292785\n",
      " -0.00491993 -0.03013669  0.04938212  0.04292009 -0.02741245 -0.04579686\n",
      " -0.00170247 -0.02093088]\n"
     ]
    }
   ],
   "source": [
    "# Simulação\n",
    "from scipy.stats import poisson\n",
    "n = 200000 #numero de experimentos\n",
    "#lambds = 5\n",
    "esp = []\n",
    "var = []\n",
    "for l in np.arange(0.5, 10.5, 0.5):\n",
    "    x_obs = poisson.rvs(l, size = n)\n",
    "    e = np.mean(x_obs)\n",
    "    v = 0\n",
    "    for i in x_obs: v += (i - e)**2 \n",
    "    esp.append(e)\n",
    "    var.append(v / (n-1))\n",
    "\n",
    "    \n",
    "print('Valor esperado de X:', np.round(esp, 3))\n",
    "print('Variância de X:', np.round(var, 3))\n",
    "print('A diferença entre Esperança e Variância de X:', np.subtract(var, esp))"
   ]
  },
  {
   "cell_type": "markdown",
   "metadata": {},
   "source": [
    "4 - Gere dados com distribuição exponencial com $\\alpha = 2$. Verifique se $E[X] = 1/\\alpha$ e $=V[X]=1/\\alpha^2$ usando simulação."
   ]
  },
  {
   "cell_type": "code",
   "execution_count": 10,
   "metadata": {},
   "outputs": [
    {
     "name": "stdout",
     "output_type": "stream",
     "text": [
      "Valor esperado de X: [ 0.005  -0.0011 -0.0004  0.0007  0.0001  0.      0.0001  0.0003 -0.0003\n",
      " -0.      0.0002  0.0005  0.0006 -0.      0.0001 -0.     -0.0004  0.0003\n",
      "  0.0001 -0.0002]\n",
      "Variância de X: [-0.0115  0.0008  0.0031  0.0013  0.0009  0.0001 -0.0003  0.0003 -0.0002\n",
      " -0.      0.0001 -0.0001  0.0002  0.0001 -0.0001 -0.     -0.0001  0.0001\n",
      "  0.0001  0.    ]\n"
     ]
    }
   ],
   "source": [
    "# Simulação para vários valores do parâmetro a\n",
    "from scipy.stats import expon\n",
    "\n",
    "n = 200000 #numero de experimentos\n",
    "\n",
    "esp = []\n",
    "var = []\n",
    "for a in np.arange(0.5, 10.5, 0.5):\n",
    "    x_obs = expon.rvs(scale = 1/a, size = n)\n",
    "    e = np.mean(x_obs)\n",
    "    v = np.std(x_obs)**2\n",
    "    esp.append(e - 1/a)\n",
    "    var.append(v - 1/a**2)\n",
    "    \n",
    "print('Valor esperado de X:', np.round(esp, 4))\n",
    "print('Variância de X:', np.round(var, 4))"
   ]
  },
  {
   "cell_type": "code",
   "execution_count": 11,
   "metadata": {},
   "outputs": [
    {
     "data": {
      "text/plain": [
       "3.0"
      ]
     },
     "execution_count": 11,
     "metadata": {},
     "output_type": "execute_result"
    }
   ],
   "source": [
    "alfa = 3\n",
    "expon.pdf(0,scale = 1/alfa)"
   ]
  },
  {
   "cell_type": "code",
   "execution_count": 12,
   "metadata": {},
   "outputs": [
    {
     "data": {
      "text/plain": [
       "0.1353352832366127"
      ]
     },
     "execution_count": 12,
     "metadata": {},
     "output_type": "execute_result"
    }
   ],
   "source": [
    "1-expon.cdf(2, scale = 1/ 1)"
   ]
  }
 ],
 "metadata": {
  "kernelspec": {
   "display_name": "Python 3 (ipykernel)",
   "language": "python",
   "name": "python3"
  },
  "language_info": {
   "codemirror_mode": {
    "name": "ipython",
    "version": 3
   },
   "file_extension": ".py",
   "mimetype": "text/x-python",
   "name": "python",
   "nbconvert_exporter": "python",
   "pygments_lexer": "ipython3",
   "version": "3.9.2"
  }
 },
 "nbformat": 4,
 "nbformat_minor": 4
}
