{
 "cells": [
  {
   "cell_type": "markdown",
   "id": "alike-hypothetical",
   "metadata": {},
   "source": [
    "<h1> Hyperparameter Optimization: A Brief Introduction </h1>\n",
    "\n",
    "Edesio Alcobaça (edesio@usp.br)<br>\n",
    "Outras redes: <a href=\"https://github.com/ealcobaca\">GitHub</a> -- <a href=\"https://www.linkedin.com/in/edesio-alcoba%C3%A7a-344491141/\">LinkedIn</a>\n",
    "\n",
    "\n",
    "MBA em Ciência de Dados <br>\n",
    "Universidade de São Paulo, São Carlos, Brasil<br>\n",
    "Copyright (c) 2021"
   ]
  },
  {
   "cell_type": "markdown",
   "id": "hindu-archives",
   "metadata": {},
   "source": [
    "<h2> 1) Intuitive Notion </h2>"
   ]
  },
  {
   "cell_type": "markdown",
   "id": "racial-walker",
   "metadata": {},
   "source": [
    "<img src=\"img/motivacao.png\" width=\"800\">"
   ]
  },
  {
   "cell_type": "markdown",
   "id": "initial-cabinet",
   "metadata": {},
   "source": [
    "<h3> Optimization Problem </h3>\n",
    "\n",
    "Let the vector $\\textbf{x} = (x_1,\\dotsc, x_n)$ be the <i>optimization variable</i> of the problem, let the function $f : \\mathbb{R}^n \\to \\mathbb{R}$ be the <i>objective function </i>, let the functions $g_i : \\mathbb{R}^n \\to \\mathbb{R},~i=1,\\dotsc,m$ be the <i>constraint function<i> (or inequality) and the constants $b_1,\\dotsc, b_m$ be the limits (or bounds) for the constraints. An optimization problem can be defined as follows:\n",
    "<br><br>\n",
    " \n",
    "<center> minimize </center>\n",
    "$$\n",
    "f(\\textbf{x})\n",
    "$$\n",
    "<br>  \n",
    "<center> subject to </center>\n",
    "$$\n",
    "g_i(\\textbf{x}) \\leq b_i, \\qquad i=1,\\dotsc, m.\n",
    "$$\n",
    "    \n",
    "The vector $\\textbf{x}^*$ which obtains the minimum value for $f$ and satisfy the constraints is called optimal. Note that $\\text{minimize}$ $f(\\textbf{x})$ is equivalent to $\\text{maximize}$ $-f(\\textbf{x})$."
   ]
  },
  {
   "cell_type": "markdown",
   "id": "pretty-excerpt",
   "metadata": {},
   "source": [
    "<h3> Hyperparameter Optimization Problem </h3>\n",
    "\n",
    "Let $\\mathcal{D}^\\text{train} \\subset D$ be the training subset of the dataset $\\mathcal{D}$ and $\\alpha \\in A$ be a machine learning algorithm where $\\lambda \\in \\Lambda$ is the hyperparameter configuration belonging to the space of all possible settings $\\Lambda$. The algorithm $\\alpha$ produces an hypothesis function $h \\in \\mathcal{H}$ which approximates the real function $f$. Given a function $\\mathcal{E}$ that computes the error of $h$ when estimating $f$, where $h = \\alpha(\\mathcal{D}^\\text{train}, \\lambda)$, the optimal hyperparameter setting satisfies the following equation:\n",
    "\n",
    "\\begin{equation}\n",
    "\\lambda^{*} = \\text{argmin}_{\\lambda \\in \\Lambda}~ \\mathcal{E}(\\alpha(d_\\text{train}, \\lambda), f)\n",
    "\\end{equation}\n",
    "\n",
    "The $\\lambda^{*}$ is the element in $\\Lambda$ which results in a minimal error. However, it is not possible to calculate $\\lambda^{*}$ because we do not know $f$, which is required to calculate $\\mathcal{E}$. Thus, we should somehow estimate $\\mathcal{E}$ using $\\mathcal{D}^\\text{train}$. An alternative can be by a cross-validation or holdout procedure."
   ]
  },
  {
   "cell_type": "markdown",
   "id": "vulnerable-worst",
   "metadata": {},
   "source": [
    "<h2> 2) Random Search and Grid Search </h2>\n",
    "\n",
    "Grid Search (GS) and Random Search (RS), also known as model-free optimization or exhaustive searching, are simple methods used in AutoML. They consist of sampling a large population from a compact set $\\mathcal{A}$ (hyperspace of possible pipelines), running the objective function $f(\\textbf{x}) \\mid \\textbf{x} \\in \\mathcal{A}$ for each population member, and returning the best configuration found."
   ]
  },
  {
   "cell_type": "markdown",
   "id": "invalid-bottle",
   "metadata": {},
   "source": [
    "<img src=\"img/grid_search.png\" width=\"600\">"
   ]
  },
  {
   "cell_type": "markdown",
   "id": "gross-serum",
   "metadata": {},
   "source": [
    "<img src=\"img/random_search.png\" width=\"600\">"
   ]
  },
  {
   "cell_type": "markdown",
   "id": "exceptional-reaction",
   "metadata": {},
   "source": [
    "<img src=\"img/rs_grid_diff_plot.png\" width=\"800\">"
   ]
  },
  {
   "cell_type": "markdown",
   "id": "chronic-staff",
   "metadata": {},
   "source": [
    "<h3> Pros and Cons </h3>\n",
    "Drawbacks and advantages of GS and RS: \n",
    "\n",
    "Pros:\n",
    "* RS and GS are naturally parallelizable;\n",
    "* It is not necessary to express the objective function mathematically;\n",
    "* RS has performed better than GS when some hyperparameters are much more important than others;\n",
    "* In RS, it is straightforward adding new examples to be optimized;\n",
    "* RS makes no assumptions on the $f$ being optimized, and given enough resources, will, in expectation, achieves performance arbitrarily close to the optimum.\n",
    "\n",
    "Cons:\n",
    "* Both methods need a lot of computational time;\n",
    "* It is not straightforward to add new points in the grid to be optimized. It requires adding other points to complete the grid. We can say that GS suffers from the curse of dimensionality;\n",
    "* The minimum or maximum cannot be found due to the grid resolution of GS."
   ]
  },
  {
   "cell_type": "markdown",
   "id": "subjective-liability",
   "metadata": {},
   "source": [
    "<img src=\"img/rs_grid_diff.png\" width=\"800\">"
   ]
  },
  {
   "cell_type": "markdown",
   "id": "scientific-bryan",
   "metadata": {},
   "source": [
    "<h2> 3) Hands-on </h2>"
   ]
  },
  {
   "cell_type": "markdown",
   "id": "caring-french",
   "metadata": {},
   "source": [
    "Vamos otimizar os parâmetros do Random Forest (RF), Decision Tree (DT) e k-Nearest Neighbor (kNN) para o conjunto de dados de digitos."
   ]
  },
  {
   "cell_type": "markdown",
   "id": "neutral-advertiser",
   "metadata": {},
   "source": [
    "Vamos ler o conjunto de dados:"
   ]
  },
  {
   "cell_type": "code",
   "execution_count": 1,
   "id": "described-square",
   "metadata": {},
   "outputs": [
    {
     "data": {
      "text/plain": [
       "(1797, 64)"
      ]
     },
     "execution_count": 1,
     "metadata": {},
     "output_type": "execute_result"
    }
   ],
   "source": [
    "from sklearn import datasets\n",
    "\n",
    "digits = datasets.load_digits()\n",
    "X = digits['data']\n",
    "y = digits['target']\n",
    "\n",
    "X.shape"
   ]
  },
  {
   "cell_type": "markdown",
   "id": "closing-machinery",
   "metadata": {},
   "source": [
    "O conjunto de dados é uma matriz 8x8 de pixels. Portanto, são 64 atributos onde cada um representam a intensidade cor (escala de cinza):"
   ]
  },
  {
   "cell_type": "code",
   "execution_count": 2,
   "id": "banned-playlist",
   "metadata": {},
   "outputs": [
    {
     "name": "stdout",
     "output_type": "stream",
     "text": [
      "0\n",
      "7\n"
     ]
    },
    {
     "data": {
      "image/png": "[encoded data removed]",
      "text/plain": [
       "<Figure size 432x288 with 1 Axes>"
      ]
     },
     "metadata": {
      "needs_background": "light"
     },
     "output_type": "display_data"
    },
    {
     "data": {
      "image/png": "[encoded data removed]",
      "text/plain": [
       "<Figure size 432x288 with 1 Axes>"
      ]
     },
     "metadata": {
      "needs_background": "light"
     },
     "output_type": "display_data"
    }
   ],
   "source": [
    "import numpy as np\n",
    "import matplotlib.pyplot as plt\n",
    "\n",
    "image0 = np.reshape(X[0, :], (8, 8))\n",
    "image7 = np.reshape(X[300, :], (8, 8))\n",
    "print(y[0])\n",
    "print(y[300])\n",
    "plt.imshow(image0, cmap=plt.cm.gray_r, interpolation='nearest')\n",
    "plt.show()\n",
    "plt.imshow(image7, cmap=plt.cm.gray_r, interpolation='nearest')\n",
    "plt.show()"
   ]
  },
  {
   "cell_type": "markdown",
   "id": "vocal-central",
   "metadata": {},
   "source": [
    "Vamos dividir o conjunto de dados em treino (80%) e teste(20%):"
   ]
  },
  {
   "cell_type": "code",
   "execution_count": 3,
   "id": "final-carnival",
   "metadata": {},
   "outputs": [],
   "source": [
    "from sklearn.model_selection import train_test_split\n",
    "X_train, X_test, y_train, y_test = train_test_split(X, y, test_size=0.2, random_state=42)"
   ]
  },
  {
   "cell_type": "markdown",
   "id": "sunset-stocks",
   "metadata": {},
   "source": [
    "Vamos otimizar a DT:\n",
    "\n",
    "Para aplicarmos o RS, podemos usar a classe <a href=\"https://scikit-learn.org/stable/modules/generated/sklearn.model_selection.RandomizedSearchCV.html\">RandomizedSearchCV</a> do scikit-learn:"
   ]
  },
  {
   "cell_type": "code",
   "execution_count": 4,
   "id": "super-pharmacy",
   "metadata": {},
   "outputs": [
    {
     "name": "stdout",
     "output_type": "stream",
     "text": [
      "{'class_weight': None, 'criterion': 'entropy', 'max_depth': 5, 'min_samples_leaf': 0.0017046211248738132, 'random_state': 42}\n",
      "\n",
      " clasification report:\n",
      "               precision    recall  f1-score   support\n",
      "\n",
      "           0      0.968     0.909     0.937        33\n",
      "           1      0.533     0.857     0.658        28\n",
      "           2      0.889     0.485     0.627        33\n",
      "           3      0.897     0.765     0.825        34\n",
      "           4      0.719     0.891     0.796        46\n",
      "           5      0.917     0.936     0.926        47\n",
      "           6      1.000     0.914     0.955        35\n",
      "           7      0.774     0.706     0.738        34\n",
      "           8      0.649     0.800     0.716        30\n",
      "           9      0.969     0.775     0.861        40\n",
      "\n",
      "    accuracy                          0.811       360\n",
      "   macro avg      0.831     0.804     0.804       360\n",
      "weighted avg      0.840     0.811     0.813       360\n",
      "\n"
     ]
    }
   ],
   "source": [
    "from sklearn.tree import DecisionTreeClassifier\n",
    "from sklearn.model_selection import RandomizedSearchCV\n",
    "from scipy.stats import uniform, randint, genexpon\n",
    "from sklearn.metrics import classification_report\n",
    "\n",
    "\n",
    "dt = DecisionTreeClassifier()\n",
    "\n",
    "# definimos uma distribuição para cada hiperparâmetro\n",
    "distributions = {\n",
    "    \"criterion\": ['gini', 'entropy'],\n",
    "    \"max_depth\" : randint(low=1, high=6),\n",
    "    \"min_samples_leaf\": uniform(loc=0.001, scale=0.005),\n",
    "    \"class_weight\": [\"balanced\", None],\n",
    "    \"random_state\": [42]\n",
    "}\n",
    "\n",
    "# execução do RandomSearch\n",
    "clf = RandomizedSearchCV(\n",
    "    estimator = dt, # algoritmo de AM que queremos ajustar\n",
    "    param_distributions = distributions, # distribuição dos hiperparâmetros\n",
    "    n_iter = 50, # Número de hiperparâmetros selecionados\n",
    "    scoring = \"f1_macro\", # performance utilizada na cross-validação\n",
    "    n_jobs = 4, # número de core em paralelo\n",
    "    cv = 10, # tipo de cross-validação, no nosso caso 10-fold\n",
    "#     verbose = 2,\n",
    "    random_state = 42\n",
    ")\n",
    "\n",
    "search = clf.fit(X_train, y_train) # após o fit, clf é o melhor modelo treinado com todo conjunto de treino\n",
    "result_dt = search.cv_results_ # retorna todos os dados do experimento (performances, hiperparâmetros e etc)\n",
    "search.best_params_ # Retorna o melhor hiperparâmetro encontrado\n",
    "\n",
    "print(search.best_params_)\n",
    "\n",
    "y_pred = clf.predict(X_test)\n",
    "print('\\n clasification report:\\n', classification_report(y_test, y_pred, digits=3))"
   ]
  },
  {
   "cell_type": "code",
   "execution_count": 5,
   "id": "rapid-balloon",
   "metadata": {},
   "outputs": [
    {
     "name": "stdout",
     "output_type": "stream",
     "text": [
      "\n",
      " clasification report:\n",
      "               precision    recall  f1-score   support\n",
      "\n",
      "           0      0.968     0.909     0.937        33\n",
      "           1      0.533     0.857     0.658        28\n",
      "           2      0.889     0.485     0.627        33\n",
      "           3      0.897     0.765     0.825        34\n",
      "           4      0.719     0.891     0.796        46\n",
      "           5      0.917     0.936     0.926        47\n",
      "           6      1.000     0.914     0.955        35\n",
      "           7      0.774     0.706     0.738        34\n",
      "           8      0.649     0.800     0.716        30\n",
      "           9      0.969     0.775     0.861        40\n",
      "\n",
      "    accuracy                          0.811       360\n",
      "   macro avg      0.831     0.804     0.804       360\n",
      "weighted avg      0.840     0.811     0.813       360\n",
      "\n"
     ]
    }
   ],
   "source": [
    "from sklearn.metrics import classification_report\n",
    "\n",
    "# após o fit, clf é o melhor modelo treinado com todo conjunto de treino\n",
    "# contudo, você pode criar um novo modelo assim:\n",
    "dt = DecisionTreeClassifier(**search.best_params_)\n",
    "dt.fit(X_train, y_train)\n",
    "y_pred = dt.predict(X_test)\n",
    "\n",
    "y_pred = clf.predict(X_test)\n",
    "print('\\n clasification report:\\n', classification_report(y_test, y_pred, digits=3))"
   ]
  },
  {
   "cell_type": "markdown",
   "id": "regular-uncle",
   "metadata": {},
   "source": [
    "Vamos otimizar a kNN:\n",
    "\n",
    "Para aplicarmos o RS, podemos usar a classe <a href=\"https://scikit-learn.org/stable/modules/generated/sklearn.model_selection.RandomizedSearchCV.html\">RandomizedSearchCV</a> do scikit-learn:"
   ]
  },
  {
   "cell_type": "code",
   "execution_count": 6,
   "id": "computational-strength",
   "metadata": {},
   "outputs": [
    {
     "data": {
      "text/plain": [
       "{'metric': 'minkowski', 'n_neighbors': 3, 'p': 2.3684660530243136}"
      ]
     },
     "execution_count": 6,
     "metadata": {},
     "output_type": "execute_result"
    }
   ],
   "source": [
    "from sklearn.neighbors import KNeighborsClassifier\n",
    "from sklearn.model_selection import RandomizedSearchCV\n",
    "from scipy.stats import uniform, randint\n",
    "\n",
    "knn = KNeighborsClassifier()\n",
    "distributions = {\n",
    "    \"n_neighbors\": randint(low=2, high=20),\n",
    "    #\"weights\": [\"uniform\", \"distance\"],\n",
    "    \"p\": uniform(loc=1, scale=2),\n",
    "    \"metric\": [\"minkowski\"]\n",
    "}\n",
    "\n",
    "clf = RandomizedSearchCV(\n",
    "    estimator = knn, # algoritmo de AM que queremos ajustar\n",
    "    param_distributions = distributions, # distribuição dos hiperparâmetros\n",
    "    n_iter = 50, # Número de hiperparâmetros selecionados\n",
    "    scoring = \"f1_macro\", # performance utilizada na cross-validação\n",
    "    n_jobs = 4, # número de core em paralelo\n",
    "    cv = 10, # tipo de cross-validação, no nosso caso 10-fold\n",
    "#    verbose = 2,\n",
    "    random_state = 42\n",
    ")\n",
    "\n",
    "search = clf.fit(X_train, y_train)\n",
    "\n",
    "result_knn = search.cv_results_\n",
    "search.best_params_"
   ]
  },
  {
   "cell_type": "code",
   "execution_count": 7,
   "id": "informational-sauce",
   "metadata": {},
   "outputs": [
    {
     "name": "stdout",
     "output_type": "stream",
     "text": [
      "\n",
      " clasification report:\n",
      "               precision    recall  f1-score   support\n",
      "\n",
      "           0      1.000     1.000     1.000        33\n",
      "           1      0.966     1.000     0.982        28\n",
      "           2      1.000     1.000     1.000        33\n",
      "           3      0.971     1.000     0.986        34\n",
      "           4      0.979     1.000     0.989        46\n",
      "           5      0.979     0.979     0.979        47\n",
      "           6      0.972     1.000     0.986        35\n",
      "           7      1.000     0.971     0.985        34\n",
      "           8      1.000     0.967     0.983        30\n",
      "           9      0.974     0.925     0.949        40\n",
      "\n",
      "    accuracy                          0.983       360\n",
      "   macro avg      0.984     0.984     0.984       360\n",
      "weighted avg      0.983     0.983     0.983       360\n",
      "\n"
     ]
    }
   ],
   "source": [
    "from sklearn.metrics import classification_report\n",
    "\n",
    "knn = KNeighborsClassifier(**search.best_params_)\n",
    "knn.fit(X_train, y_train)\n",
    "y_pred = knn.predict(X_test)\n",
    "\n",
    "\n",
    "y_pred = clf.predict(X_test)\n",
    "print('\\n clasification report:\\n', classification_report(y_test, y_pred, digits=3))"
   ]
  },
  {
   "cell_type": "code",
   "execution_count": 8,
   "id": "authentic-fairy",
   "metadata": {},
   "outputs": [
    {
     "data": {
      "text/plain": [
       "{'mean_fit_time': array([0.00089843, 0.00073183, 0.00077221, 0.00075889, 0.00077884,\n",
       "        0.0008131 , 0.00076892, 0.00083556, 0.00094883, 0.00077405,\n",
       "        0.00082834, 0.00086367, 0.00090983, 0.00094686, 0.00076244,\n",
       "        0.0008126 , 0.00126936, 0.00083215, 0.00070226, 0.00069489,\n",
       "        0.00070326, 0.00083988, 0.00074294, 0.00080531, 0.00074601,\n",
       "        0.00243261, 0.00078895, 0.00070312, 0.00110011, 0.00082512,\n",
       "        0.00083241, 0.00087411, 0.00079947, 0.00095732, 0.00092413,\n",
       "        0.00097411, 0.00079877, 0.00076721, 0.00077467, 0.00076876,\n",
       "        0.00079291, 0.00079336, 0.00080812, 0.00088212, 0.00112529,\n",
       "        0.00101807, 0.00084565, 0.00083919, 0.00085239, 0.0008244 ]),\n",
       " 'std_fit_time': array([2.26600374e-04, 8.67309806e-05, 9.76754363e-05, 7.65259018e-05,\n",
       "        6.44560605e-05, 7.59437990e-05, 5.80441721e-05, 1.51528398e-04,\n",
       "        2.84152321e-04, 8.57391929e-05, 1.44035689e-04, 2.08181862e-04,\n",
       "        2.89758770e-04, 3.40695615e-04, 8.31900095e-05, 2.03112594e-04,\n",
       "        1.32418025e-03, 9.35403962e-05, 3.52953322e-05, 2.78599429e-05,\n",
       "        2.68828023e-05, 2.87301136e-04, 1.21020644e-04, 2.49228374e-04,\n",
       "        1.38446900e-04, 4.98472697e-03, 2.70936222e-04, 3.92358249e-05,\n",
       "        8.20941240e-04, 1.24775347e-04, 5.41062272e-05, 5.89330073e-05,\n",
       "        5.08770724e-05, 3.59658185e-04, 8.33693181e-05, 3.01427793e-04,\n",
       "        4.61119099e-05, 4.52189545e-05, 4.78879370e-05, 2.78754451e-05,\n",
       "        4.36929677e-05, 5.03142518e-05, 5.55990133e-05, 2.46895659e-04,\n",
       "        9.28485768e-04, 4.41789774e-04, 7.15788365e-05, 5.83136753e-05,\n",
       "        1.51430404e-04, 6.27828872e-05]),\n",
       " 'mean_score_time': array([0.3005619 , 0.29447541, 0.32962561, 0.30702181, 0.28702316,\n",
       "        0.28873525, 0.2875371 , 0.29335337, 0.30305965, 0.31370316,\n",
       "        0.29614334, 0.29782507, 0.29926891, 0.3131057 , 0.30053868,\n",
       "        0.32369351, 0.37205889, 0.39222131, 0.29243822, 0.28962967,\n",
       "        0.29316595, 0.29861398, 0.29633815, 0.28791864, 0.29283652,\n",
       "        0.30080223, 0.28994324, 0.29303019, 0.29894991, 0.32880452,\n",
       "        0.37019885, 0.36577141, 0.38534672, 0.36322925, 0.42763374,\n",
       "        0.33192747, 0.32592847, 0.31626356, 0.31972277, 0.31806743,\n",
       "        0.32518294, 0.32850235, 0.32929685, 0.37268126, 0.39924114,\n",
       "        0.40415416, 0.32452598, 0.33910048, 0.32096541, 0.3112045 ]),\n",
       " 'std_score_time': array([0.02447638, 0.00813975, 0.07573292, 0.03639334, 0.00147938,\n",
       "        0.00532716, 0.00428435, 0.00715779, 0.01669206, 0.0385165 ,\n",
       "        0.01021074, 0.0130549 , 0.02819926, 0.02216973, 0.01286698,\n",
       "        0.06068813, 0.09696018, 0.07547735, 0.0097248 , 0.00922471,\n",
       "        0.01377278, 0.01504365, 0.01421202, 0.00395694, 0.00943256,\n",
       "        0.02411978, 0.00913614, 0.00917706, 0.01526707, 0.04323122,\n",
       "        0.04299795, 0.03979384, 0.05978607, 0.03009739, 0.06206085,\n",
       "        0.00962202, 0.00647269, 0.00162464, 0.00319111, 0.00197233,\n",
       "        0.01257225, 0.01345315, 0.01112921, 0.05982165, 0.0989674 ,\n",
       "        0.09343507, 0.00472837, 0.02401596, 0.00821735, 0.01120077]),\n",
       " 'param_metric': masked_array(data=['minkowski', 'minkowski', 'minkowski', 'minkowski',\n",
       "                    'minkowski', 'minkowski', 'minkowski', 'minkowski',\n",
       "                    'minkowski', 'minkowski', 'minkowski', 'minkowski',\n",
       "                    'minkowski', 'minkowski', 'minkowski', 'minkowski',\n",
       "                    'minkowski', 'minkowski', 'minkowski', 'minkowski',\n",
       "                    'minkowski', 'minkowski', 'minkowski', 'minkowski',\n",
       "                    'minkowski', 'minkowski', 'minkowski', 'minkowski',\n",
       "                    'minkowski', 'minkowski', 'minkowski', 'minkowski',\n",
       "                    'minkowski', 'minkowski', 'minkowski', 'minkowski',\n",
       "                    'minkowski', 'minkowski', 'minkowski', 'minkowski',\n",
       "                    'minkowski', 'minkowski', 'minkowski', 'minkowski',\n",
       "                    'minkowski', 'minkowski', 'minkowski', 'minkowski',\n",
       "                    'minkowski', 'minkowski'],\n",
       "              mask=[False, False, False, False, False, False, False, False,\n",
       "                    False, False, False, False, False, False, False, False,\n",
       "                    False, False, False, False, False, False, False, False,\n",
       "                    False, False, False, False, False, False, False, False,\n",
       "                    False, False, False, False, False, False, False, False,\n",
       "                    False, False, False, False, False, False, False, False,\n",
       "                    False, False],\n",
       "        fill_value='?',\n",
       "             dtype=object),\n",
       " 'param_n_neighbors': masked_array(data=[8, 16, 8, 12, 5, 4, 3, 7, 2, 13, 11, 17, 16, 13, 4, 8,\n",
       "                    8, 15, 10, 3, 16, 13, 16, 18, 9, 7, 5, 19, 3, 5, 17,\n",
       "                    15, 9, 14, 14, 16, 8, 2, 12, 9, 2, 11, 10, 10, 3, 6, 9,\n",
       "                    4, 6, 4],\n",
       "              mask=[False, False, False, False, False, False, False, False,\n",
       "                    False, False, False, False, False, False, False, False,\n",
       "                    False, False, False, False, False, False, False, False,\n",
       "                    False, False, False, False, False, False, False, False,\n",
       "                    False, False, False, False, False, False, False, False,\n",
       "                    False, False, False, False, False, False, False, False,\n",
       "                    False, False],\n",
       "        fill_value='?',\n",
       "             dtype=object),\n",
       " 'param_p': masked_array(data=[2.5930859737204655, 2.46398788362281,\n",
       "                    1.8916655057071823, 1.9184977839317343,\n",
       "                    1.2857336358438816, 1.041168988591605,\n",
       "                    2.4439975445336497, 1.0015575316820287,\n",
       "                    1.6084844859190754, 1.0461248500828315,\n",
       "                    1.0933313264272309, 1.4655426808606085,\n",
       "                    2.2367720186661746, 2.0284688768272234,\n",
       "                    2.719880813472641, 1.341048247374583,\n",
       "                    1.026529922319733, 2.6167946962329225,\n",
       "                    1.0319325044404284, 2.3684660530243136,\n",
       "                    2.3665270376509167, 1.9903538202225404,\n",
       "                    1.3467293070155442, 1.5175599632000338,\n",
       "                    2.510722820635305, 1.4158833257363777,\n",
       "                    1.369708911051054, 2.550265646722229,\n",
       "                    1.7903004720036289, 2.19579995762217,\n",
       "                    1.6530815376116708, 1.3919657248382904,\n",
       "                    2.689067697356303, 1.5426980635477918,\n",
       "                    1.2818484499495253, 1.330533878126005,\n",
       "                    1.8468029614127393, 1.3974313630683448,\n",
       "                    1.3976848081776103, 2.4580143360819746,\n",
       "                    2.2119199495620228, 1.7169314570885452,\n",
       "                    2.8299193510875615, 2.246596253655116,\n",
       "                    1.1908202329808226, 2.459212356676128,\n",
       "                    1.5494435859801283, 1.9444298503238986,\n",
       "                    2.9434241907782077, 2.521570097233795],\n",
       "              mask=[False, False, False, False, False, False, False, False,\n",
       "                    False, False, False, False, False, False, False, False,\n",
       "                    False, False, False, False, False, False, False, False,\n",
       "                    False, False, False, False, False, False, False, False,\n",
       "                    False, False, False, False, False, False, False, False,\n",
       "                    False, False, False, False, False, False, False, False,\n",
       "                    False, False],\n",
       "        fill_value='?',\n",
       "             dtype=object),\n",
       " 'params': [{'metric': 'minkowski', 'n_neighbors': 8, 'p': 2.5930859737204655},\n",
       "  {'metric': 'minkowski', 'n_neighbors': 16, 'p': 2.46398788362281},\n",
       "  {'metric': 'minkowski', 'n_neighbors': 8, 'p': 1.8916655057071823},\n",
       "  {'metric': 'minkowski', 'n_neighbors': 12, 'p': 1.9184977839317343},\n",
       "  {'metric': 'minkowski', 'n_neighbors': 5, 'p': 1.2857336358438816},\n",
       "  {'metric': 'minkowski', 'n_neighbors': 4, 'p': 1.041168988591605},\n",
       "  {'metric': 'minkowski', 'n_neighbors': 3, 'p': 2.4439975445336497},\n",
       "  {'metric': 'minkowski', 'n_neighbors': 7, 'p': 1.0015575316820287},\n",
       "  {'metric': 'minkowski', 'n_neighbors': 2, 'p': 1.6084844859190754},\n",
       "  {'metric': 'minkowski', 'n_neighbors': 13, 'p': 1.0461248500828315},\n",
       "  {'metric': 'minkowski', 'n_neighbors': 11, 'p': 1.0933313264272309},\n",
       "  {'metric': 'minkowski', 'n_neighbors': 17, 'p': 1.4655426808606085},\n",
       "  {'metric': 'minkowski', 'n_neighbors': 16, 'p': 2.2367720186661746},\n",
       "  {'metric': 'minkowski', 'n_neighbors': 13, 'p': 2.0284688768272234},\n",
       "  {'metric': 'minkowski', 'n_neighbors': 4, 'p': 2.719880813472641},\n",
       "  {'metric': 'minkowski', 'n_neighbors': 8, 'p': 1.341048247374583},\n",
       "  {'metric': 'minkowski', 'n_neighbors': 8, 'p': 1.026529922319733},\n",
       "  {'metric': 'minkowski', 'n_neighbors': 15, 'p': 2.6167946962329225},\n",
       "  {'metric': 'minkowski', 'n_neighbors': 10, 'p': 1.0319325044404284},\n",
       "  {'metric': 'minkowski', 'n_neighbors': 3, 'p': 2.3684660530243136},\n",
       "  {'metric': 'minkowski', 'n_neighbors': 16, 'p': 2.3665270376509167},\n",
       "  {'metric': 'minkowski', 'n_neighbors': 13, 'p': 1.9903538202225404},\n",
       "  {'metric': 'minkowski', 'n_neighbors': 16, 'p': 1.3467293070155442},\n",
       "  {'metric': 'minkowski', 'n_neighbors': 18, 'p': 1.5175599632000338},\n",
       "  {'metric': 'minkowski', 'n_neighbors': 9, 'p': 2.510722820635305},\n",
       "  {'metric': 'minkowski', 'n_neighbors': 7, 'p': 1.4158833257363777},\n",
       "  {'metric': 'minkowski', 'n_neighbors': 5, 'p': 1.369708911051054},\n",
       "  {'metric': 'minkowski', 'n_neighbors': 19, 'p': 2.550265646722229},\n",
       "  {'metric': 'minkowski', 'n_neighbors': 3, 'p': 1.7903004720036289},\n",
       "  {'metric': 'minkowski', 'n_neighbors': 5, 'p': 2.19579995762217},\n",
       "  {'metric': 'minkowski', 'n_neighbors': 17, 'p': 1.6530815376116708},\n",
       "  {'metric': 'minkowski', 'n_neighbors': 15, 'p': 1.3919657248382904},\n",
       "  {'metric': 'minkowski', 'n_neighbors': 9, 'p': 2.689067697356303},\n",
       "  {'metric': 'minkowski', 'n_neighbors': 14, 'p': 1.5426980635477918},\n",
       "  {'metric': 'minkowski', 'n_neighbors': 14, 'p': 1.2818484499495253},\n",
       "  {'metric': 'minkowski', 'n_neighbors': 16, 'p': 1.330533878126005},\n",
       "  {'metric': 'minkowski', 'n_neighbors': 8, 'p': 1.8468029614127393},\n",
       "  {'metric': 'minkowski', 'n_neighbors': 2, 'p': 1.3974313630683448},\n",
       "  {'metric': 'minkowski', 'n_neighbors': 12, 'p': 1.3976848081776103},\n",
       "  {'metric': 'minkowski', 'n_neighbors': 9, 'p': 2.4580143360819746},\n",
       "  {'metric': 'minkowski', 'n_neighbors': 2, 'p': 2.2119199495620228},\n",
       "  {'metric': 'minkowski', 'n_neighbors': 11, 'p': 1.7169314570885452},\n",
       "  {'metric': 'minkowski', 'n_neighbors': 10, 'p': 2.8299193510875615},\n",
       "  {'metric': 'minkowski', 'n_neighbors': 10, 'p': 2.246596253655116},\n",
       "  {'metric': 'minkowski', 'n_neighbors': 3, 'p': 1.1908202329808226},\n",
       "  {'metric': 'minkowski', 'n_neighbors': 6, 'p': 2.459212356676128},\n",
       "  {'metric': 'minkowski', 'n_neighbors': 9, 'p': 1.5494435859801283},\n",
       "  {'metric': 'minkowski', 'n_neighbors': 4, 'p': 1.9444298503238986},\n",
       "  {'metric': 'minkowski', 'n_neighbors': 6, 'p': 2.9434241907782077},\n",
       "  {'metric': 'minkowski', 'n_neighbors': 4, 'p': 2.521570097233795}],\n",
       " 'split0_test_score': array([0.99259259, 0.9785111 , 0.99259259, 0.9785111 , 1.        ,\n",
       "        0.99259259, 1.        , 1.        , 0.98544061, 0.9785111 ,\n",
       "        0.9785111 , 0.9785111 , 0.9785111 , 0.9785111 , 1.        ,\n",
       "        0.99259259, 0.99259259, 0.9785111 , 0.9785111 , 1.        ,\n",
       "        0.9785111 , 0.9785111 , 0.9785111 , 0.9785111 , 0.99259259,\n",
       "        1.        , 1.        , 0.9785111 , 1.        , 1.        ,\n",
       "        0.9785111 , 0.9785111 , 0.99259259, 0.9785111 , 0.9785111 ,\n",
       "        0.9785111 , 0.99259259, 0.98544061, 0.9785111 , 0.99259259,\n",
       "        0.99284802, 0.9785111 , 0.98544061, 0.98544061, 1.        ,\n",
       "        0.99259259, 0.99259259, 1.        , 0.99259259, 1.        ]),\n",
       " 'split1_test_score': array([0.98659191, 0.96609177, 0.98659191, 0.98659191, 0.98659191,\n",
       "        0.98659191, 0.99307049, 0.98659191, 0.99307049, 0.98659191,\n",
       "        0.97993266, 0.97970277, 0.97970277, 0.98659191, 0.99307049,\n",
       "        0.98659191, 0.98659191, 0.97970277, 0.97993266, 0.99307049,\n",
       "        0.97970277, 0.98659191, 0.97970277, 0.97970277, 0.97945818,\n",
       "        0.98659191, 0.99307049, 0.96609177, 0.99307049, 0.98618306,\n",
       "        0.97970277, 0.98659191, 0.97945818, 0.98659191, 0.97970277,\n",
       "        0.97970277, 0.98659191, 0.99307049, 0.98659191, 0.97945818,\n",
       "        0.99307049, 0.97993266, 0.98659191, 0.98659191, 0.99307049,\n",
       "        0.98659191, 0.98659191, 0.98604019, 0.98659191, 0.99307049]),\n",
       " 'split2_test_score': array([0.97927336, 0.98611401, 0.97927336, 0.97927336, 0.97927336,\n",
       "        0.97222222, 0.97927336, 0.97927336, 0.97131363, 0.97227659,\n",
       "        0.97927336, 0.97227659, 0.98611401, 0.98611401, 0.98642534,\n",
       "        0.97227659, 0.96507024, 0.98611401, 0.97227659, 0.97927336,\n",
       "        0.98611401, 0.98611401, 0.9653562 , 0.97227659, 0.97927336,\n",
       "        0.97927336, 0.98642534, 0.97867713, 0.98611401, 0.99326599,\n",
       "        0.97227659, 0.97227659, 0.97927336, 0.97227659, 0.97227659,\n",
       "        0.9653562 , 0.97927336, 0.97131363, 0.97227659, 0.97927336,\n",
       "        0.98642534, 0.98611401, 0.97927336, 0.97927336, 0.98611401,\n",
       "        0.99326599, 0.97227659, 0.98642534, 0.98582911, 0.98642534]),\n",
       " 'split3_test_score': array([0.95817089, 0.95814142, 0.9655783 , 0.9655783 , 0.97231231,\n",
       "        0.96531375, 0.97231231, 0.9655783 , 0.96437881, 0.95814142,\n",
       "        0.9655783 , 0.95814142, 0.9655783 , 0.95814142, 0.97231231,\n",
       "        0.9655783 , 0.958758  , 0.9655783 , 0.9655783 , 0.97231231,\n",
       "        0.95814142, 0.95814142, 0.95814142, 0.94377971, 0.9655783 ,\n",
       "        0.9655783 , 0.97231231, 0.94382259, 0.97231231, 0.96577682,\n",
       "        0.95160593, 0.95814142, 0.9655783 , 0.95814142, 0.95814142,\n",
       "        0.95814142, 0.9655783 , 0.96437881, 0.9655783 , 0.9655783 ,\n",
       "        0.97829776, 0.9655783 , 0.9655783 , 0.9655783 , 0.96516945,\n",
       "        0.9516354 , 0.9655783 , 0.97231231, 0.9516354 , 0.97231231]),\n",
       " 'split4_test_score': array([0.9786927 , 0.9644655 , 0.97147829, 0.95735211, 0.97147829,\n",
       "        0.97147829, 0.96407089, 0.96475952, 0.97129669, 0.95735211,\n",
       "        0.95735211, 0.95002023, 0.9644655 , 0.95735211, 0.97126495,\n",
       "        0.96407089, 0.96407089, 0.95774672, 0.95735211, 0.96407089,\n",
       "        0.9644655 , 0.95735211, 0.95002023, 0.95002023, 0.9786927 ,\n",
       "        0.97147829, 0.97147829, 0.9644655 , 0.96407089, 0.9786927 ,\n",
       "        0.95002023, 0.95002023, 0.9786927 , 0.95002023, 0.95002023,\n",
       "        0.95002023, 0.96407089, 0.97129669, 0.95735211, 0.9786927 ,\n",
       "        0.97129669, 0.95735211, 0.9786927 , 0.96407089, 0.97147829,\n",
       "        0.97147829, 0.97147829, 0.96407089, 0.9786927 , 0.97126495]),\n",
       " 'split5_test_score': array([0.98585608, 0.97015382, 0.98585608, 0.99307049, 0.98585608,\n",
       "        0.98585608, 0.99307049, 0.97091517, 0.97123426, 0.95048352,\n",
       "        0.97844867, 0.95675184, 0.97015382, 0.98537818, 0.99307049,\n",
       "        0.97784468, 0.97784468, 0.97784468, 0.97091517, 0.99307049,\n",
       "        0.97015382, 0.98537818, 0.95675184, 0.95675184, 0.98585608,\n",
       "        0.98585608, 0.98585608, 0.97015382, 0.9784078 , 0.98585608,\n",
       "        0.95675184, 0.96368135, 0.98585608, 0.96368135, 0.95675184,\n",
       "        0.95675184, 0.98585608, 0.98585608, 0.9644427 , 0.98585608,\n",
       "        0.97873357, 0.98537818, 0.98585608, 0.98585608, 0.9784078 ,\n",
       "        0.98585608, 0.99307049, 0.98585608, 0.98585608, 0.99307049]),\n",
       " 'split6_test_score': array([0.98618135, 0.99284802, 0.98617394, 0.98592763, 0.98617394,\n",
       "        0.99307049, 1.        , 0.97925355, 0.99307049, 0.99307049,\n",
       "        0.98617394, 0.97927739, 0.99284802, 0.97927739, 1.        ,\n",
       "        0.98617394, 0.98617394, 0.98618135, 0.97925355, 1.        ,\n",
       "        0.99284802, 0.98592763, 0.98592763, 0.98592763, 0.98618135,\n",
       "        0.98617394, 0.98617394, 0.99284802, 1.        , 0.99310345,\n",
       "        0.99284802, 0.97927739, 0.98618135, 0.98592763, 0.99307049,\n",
       "        0.98592763, 0.98617394, 0.99307049, 0.99307049, 0.98618135,\n",
       "        0.99307049, 0.98617394, 0.98618135, 0.97925355, 1.        ,\n",
       "        0.98618306, 0.97925355, 1.        , 0.98618306, 1.        ]),\n",
       " 'split7_test_score': array([1.        , 0.99284802, 1.        , 0.98592593, 0.99307049,\n",
       "        0.99307049, 1.        , 0.98592593, 0.99307049, 0.98563134,\n",
       "        0.98563134, 0.97849817, 0.99284802, 0.98592593, 0.99307049,\n",
       "        1.        , 0.99307049, 0.99284802, 0.99307049, 1.        ,\n",
       "        0.99284802, 0.98592593, 0.98563134, 0.97849817, 1.        ,\n",
       "        0.98592593, 0.99307049, 0.99284802, 0.99307049, 0.99307049,\n",
       "        0.97849817, 0.98563134, 1.        , 0.99307049, 0.98563134,\n",
       "        0.98563134, 1.        , 0.99307049, 0.99307049, 1.        ,\n",
       "        0.99307049, 0.98570516, 0.99307049, 0.99307049, 0.98563134,\n",
       "        1.        , 0.99284802, 0.99307049, 0.99307049, 0.99307049]),\n",
       " 'split8_test_score': array([0.97254949, 0.96510121, 0.96510121, 0.96508479, 0.97876653,\n",
       "        0.97204776, 0.99332592, 0.95081047, 0.97938134, 0.9513882 ,\n",
       "        0.95819736, 0.9513882 , 0.96510121, 0.96510121, 0.98640382,\n",
       "        0.96508479, 0.94400131, 0.96510121, 0.95827563, 0.99332592,\n",
       "        0.96510121, 0.96510121, 0.95827563, 0.9513882 , 0.97254949,\n",
       "        0.96510121, 0.97876653, 0.95822552, 0.99332592, 0.98587764,\n",
       "        0.94453083, 0.95827563, 0.97254949, 0.96508479, 0.95827563,\n",
       "        0.95827563, 0.96510121, 0.98660714, 0.95827563, 0.97254949,\n",
       "        0.98660714, 0.96508479, 0.96510121, 0.96510121, 0.99332592,\n",
       "        0.97254949, 0.96508479, 0.97945516, 0.96510121, 0.99332592]),\n",
       " 'split9_test_score': array([0.9661111 , 0.96512963, 0.96573362, 0.96573362, 0.9722611 ,\n",
       "        0.97938361, 0.97912818, 0.97252565, 0.97258357, 0.96575916,\n",
       "        0.97967593, 0.97246152, 0.96512963, 0.97246152, 0.97265571,\n",
       "        0.96531866, 0.97253307, 0.96512963, 0.97967593, 0.98585608,\n",
       "        0.96512963, 0.97246152, 0.96512963, 0.96512963, 0.97265571,\n",
       "        0.97252565, 0.9722611 , 0.96512963, 0.98585608, 0.97938361,\n",
       "        0.96512963, 0.96512963, 0.97265571, 0.97246152, 0.95861056,\n",
       "        0.96512963, 0.96573362, 0.97258357, 0.97246152, 0.97265571,\n",
       "        0.9661111 , 0.97967593, 0.95858502, 0.95858502, 0.9722611 ,\n",
       "        0.96573362, 0.97253307, 0.97938361, 0.96573362, 0.97265571]),\n",
       " 'mean_test_score': array([0.98060195, 0.97394045, 0.97983793, 0.97630492, 0.9825784 ,\n",
       "        0.98116272, 0.98742516, 0.97556339, 0.97948404, 0.96992058,\n",
       "        0.97487748, 0.96770292, 0.97604524, 0.97548548, 0.98682736,\n",
       "        0.97755324, 0.97407071, 0.97547578, 0.97348415, 0.98809795,\n",
       "        0.97530155, 0.9761505 , 0.96834478, 0.96619859, 0.98128378,\n",
       "        0.97985047, 0.98394146, 0.97107731, 0.9866228 , 0.98612098,\n",
       "        0.96698751, 0.96975366, 0.98128378, 0.9725767 , 0.9690992 ,\n",
       "        0.96834478, 0.97909719, 0.9816688 , 0.97416308, 0.98128378,\n",
       "        0.98395311, 0.97695062, 0.9784371 , 0.97628214, 0.98454584,\n",
       "        0.98058864, 0.97913076, 0.98466141, 0.97912862, 0.98751957]),\n",
       " 'std_test_score': array([0.01182398, 0.01206303, 0.01175079, 0.01139148, 0.00902153,\n",
       "        0.00988379, 0.01217395, 0.01309009, 0.01032907, 0.01474893,\n",
       "        0.01004468, 0.01159775, 0.01096715, 0.01101514, 0.01057364,\n",
       "        0.01242699, 0.01530876, 0.01090515, 0.01041251, 0.01187917,\n",
       "        0.01186694, 0.0114174 , 0.01239068, 0.01409076, 0.00966726,\n",
       "        0.01053437, 0.00945068, 0.01440046, 0.01125917, 0.00924834,\n",
       "        0.01503566, 0.01193163, 0.00966726, 0.0129708 , 0.01386632,\n",
       "        0.01239068, 0.01246612, 0.01020999, 0.01264128, 0.00966726,\n",
       "        0.00937765, 0.0099483 , 0.0108755 , 0.01132847, 0.01168698,\n",
       "        0.0140829 , 0.01072106, 0.01085876, 0.01305196, 0.01074839]),\n",
       " 'rank_test_score': array([17, 39, 20, 28, 11, 16,  3, 32, 21, 43, 36, 48, 31, 33,  4, 26, 38,\n",
       "        34, 40,  1, 35, 30, 46, 50, 13, 19, 10, 42,  5,  6, 49, 44, 13, 41,\n",
       "        45, 46, 24, 12, 37, 13,  9, 27, 25, 29,  8, 18, 22,  7, 23,  2],\n",
       "       dtype=int32)}"
      ]
     },
     "execution_count": 8,
     "metadata": {},
     "output_type": "execute_result"
    }
   ],
   "source": [
    "result_knn"
   ]
  },
  {
   "cell_type": "markdown",
   "id": "unknown-split",
   "metadata": {},
   "source": [
    "Vamos otimizar a RF:\n",
    "\n",
    "Para aplicarmos o RS, podemos usar a classe <a href=\"https://scikit-learn.org/stable/modules/generated/sklearn.model_selection.RandomizedSearchCV.html\">RandomizedSearchCV</a> do scikit-learn:"
   ]
  },
  {
   "cell_type": "code",
   "execution_count": 9,
   "id": "nonprofit-luther",
   "metadata": {},
   "outputs": [
    {
     "data": {
      "text/plain": [
       "{'criterion': 'gini',\n",
       " 'max_features': 'sqrt',\n",
       " 'n_estimators': 270,\n",
       " 'random_state': 42}"
      ]
     },
     "execution_count": 9,
     "metadata": {},
     "output_type": "execute_result"
    }
   ],
   "source": [
    "from sklearn.ensemble import RandomForestClassifier\n",
    "from sklearn.model_selection import RandomizedSearchCV\n",
    "from scipy.stats import uniform, randint\n",
    "\n",
    "rf = RandomForestClassifier()\n",
    "distributions = {\n",
    "    \"n_estimators\": randint(low=10, high=300),\n",
    "    \"criterion\": ['gini', 'entropy'],\n",
    "    \"max_features\": [\"sqrt\", \"sqrt\", \"log2\"],\n",
    "    #\"class_weight\": [\"balanced\", None],\n",
    "    \"random_state\": [42]\n",
    "}\n",
    "\n",
    "\n",
    "clf = RandomizedSearchCV(\n",
    "    estimator = rf, # algoritmo de AM que queremos ajustar\n",
    "    param_distributions = distributions, # distribuição dos hiperparâmetros\n",
    "    n_iter = 50, # Número de hiperparâmetros selecionados\n",
    "    scoring = \"f1_macro\", # performance utilizada na cross-validação\n",
    "    n_jobs = 4, # número de core em paralelo\n",
    "    cv = 10, # tipo de cross-validação, no nosso caso 10-fold\n",
    "#    verbose = 2,\n",
    "    random_state = 42\n",
    ")\n",
    "\n",
    "search = clf.fit(X_train, y_train)\n",
    "result_rf = search.cv_results_\n",
    "search.best_params_"
   ]
  },
  {
   "cell_type": "code",
   "execution_count": 10,
   "id": "temporal-spirit",
   "metadata": {},
   "outputs": [
    {
     "name": "stdout",
     "output_type": "stream",
     "text": [
      "\n",
      " clasification report:\n",
      "               precision    recall  f1-score   support\n",
      "\n",
      "           0      1.000     0.970     0.985        33\n",
      "           1      0.933     1.000     0.966        28\n",
      "           2      1.000     1.000     1.000        33\n",
      "           3      1.000     0.941     0.970        34\n",
      "           4      0.979     1.000     0.989        46\n",
      "           5      0.939     0.979     0.958        47\n",
      "           6      0.971     0.971     0.971        35\n",
      "           7      0.971     0.971     0.971        34\n",
      "           8      0.966     0.933     0.949        30\n",
      "           9      0.974     0.950     0.962        40\n",
      "\n",
      "    accuracy                          0.972       360\n",
      "   macro avg      0.973     0.971     0.972       360\n",
      "weighted avg      0.973     0.972     0.972       360\n",
      "\n"
     ]
    }
   ],
   "source": [
    "from sklearn.metrics import classification_report\n",
    "\n",
    "rf = RandomForestClassifier(**search.best_params_)\n",
    "rf.fit(X_train, y_train)\n",
    "y_pred = rf.predict(X_test)\n",
    "\n",
    "\n",
    "y_pred = clf.predict(X_test)\n",
    "print('\\n clasification report:\\n', classification_report(y_test, y_pred, digits=3))"
   ]
  },
  {
   "cell_type": "markdown",
   "id": "distinct-letters",
   "metadata": {},
   "source": [
    "Plot da performance dos classificadores:"
   ]
  },
  {
   "cell_type": "code",
   "execution_count": 11,
   "id": "earlier-freeze",
   "metadata": {},
   "outputs": [
    {
     "data": {
      "text/plain": [
       "<AxesSubplot:>"
      ]
     },
     "execution_count": 11,
     "metadata": {},
     "output_type": "execute_result"
    },
    {
     "data": {
      "image/png": "[encoded data removed]",
      "text/plain": [
       "<Figure size 432x288 with 1 Axes>"
      ]
     },
     "metadata": {
      "needs_background": "light"
     },
     "output_type": "display_data"
    }
   ],
   "source": [
    "import pandas as pd\n",
    "import seaborn as sns\n",
    "\n",
    "\n",
    "idx = []\n",
    "perfs = [] \n",
    "alg = []\n",
    "n_iter = 50\n",
    "\n",
    "\n",
    "for alg_name, result in [('knn', result_knn), ('dt', result_dt), ('rf', result_rf)]:\n",
    "    idx += np.arange(0, n_iter).tolist()\n",
    "    perfs += result[\"mean_test_score\"][np.argsort(result[\"rank_test_score\"])[::-1]].tolist()\n",
    "    alg += n_iter*[alg_name]\n",
    "\n",
    "\n",
    "sns.lineplot(x=idx, y=perfs, hue=alg)"
   ]
  },
  {
   "cell_type": "markdown",
   "id": "grave-cinema",
   "metadata": {},
   "source": [
    "Plot da performance dos classificadores (apenas RF e kNN):"
   ]
  },
  {
   "cell_type": "code",
   "execution_count": 12,
   "id": "south-recycling",
   "metadata": {
    "scrolled": false
   },
   "outputs": [
    {
     "data": {
      "text/plain": [
       "<matplotlib.lines.Line2D at 0x7f4d4dec8190>"
      ]
     },
     "execution_count": 12,
     "metadata": {},
     "output_type": "execute_result"
    },
    {
     "data": {
      "image/png": "[encoded data removed]",
      "text/plain": [
       "<Figure size 720x720 with 1 Axes>"
      ]
     },
     "metadata": {
      "needs_background": "light"
     },
     "output_type": "display_data"
    }
   ],
   "source": [
    "import pandas as pd\n",
    "import seaborn as sns\n",
    "from sklearn.metrics import f1_score\n",
    "from sklearn.linear_model import LogisticRegression\n",
    "\n",
    "rf_deafult = RandomForestClassifier(random_state=42)\n",
    "rf_deafult.fit(X_train, y_train)\n",
    "y_pred = rf_deafult.predict(X_test)\n",
    "f1_rf_default = f1_score(y_test, y_pred, average=\"macro\")\n",
    "\n",
    "knn_deafult = KNeighborsClassifier()\n",
    "knn_deafult.fit(X_train, y_train)\n",
    "y_pred = knn_deafult.predict(X_test)\n",
    "f1_knn_default = f1_score(y_test, y_pred, average=\"macro\")\n",
    "\n",
    "idx = []\n",
    "perfs = [] \n",
    "alg = []\n",
    "n_iter = 50\n",
    "\n",
    "for alg_name, result in [('knn', result_knn), ('rf', result_rf)]:\n",
    "    perf_matrix = np.array([result[f\"split{i}_test_score\"] for i in range(10)])\n",
    "    worst_to_best_idx = np.argsort(result[\"rank_test_score\"])[::-1]\n",
    "\n",
    "    for i, j in enumerate(worst_to_best_idx):\n",
    "        idx += 10*[i+1] \n",
    "        perfs += perf_matrix[:, j].tolist()\n",
    "        alg += 10*[alg_name]\n",
    "\n",
    "df = pd.DataFrame({\"runs\": idx, \"f1_macro\": perfs, \"algorithm\": alg})\n",
    "\n",
    "plt.subplots(figsize=(10, 10))\n",
    "g = sns.lineplot(data=df, x=\"runs\", y=\"f1_macro\", hue=\"algorithm\", style=\"algorithm\", markers=True, dashes=False)\n",
    "g.legend(loc=\"upper left\")\n",
    "ax1 = g.axes\n",
    "\n",
    "ax1.axhline(f1_rf_default, ls='--', color='red')\n",
    "ax1.axhline(f1_knn_default, ls='--', color='blue')"
   ]
  },
  {
   "cell_type": "markdown",
   "id": "backed-devon",
   "metadata": {},
   "source": [
    "Visualizando o número 6:"
   ]
  },
  {
   "cell_type": "code",
   "execution_count": 13,
   "id": "ongoing-pricing",
   "metadata": {},
   "outputs": [
    {
     "name": "stdout",
     "output_type": "stream",
     "text": [
      "Digit (pred):  6\n",
      "Digit: (test) 6\n"
     ]
    },
    {
     "data": {
      "image/png": "[encoded data removed]",
      "text/plain": [
       "<Figure size 432x288 with 1 Axes>"
      ]
     },
     "metadata": {
      "needs_background": "light"
     },
     "output_type": "display_data"
    }
   ],
   "source": [
    "y_pred = knn.predict(X_test)\n",
    "print(\"Digit (pred): \", y_pred[0])\n",
    "print(\"Digit: (test)\", y_test[0])\n",
    "\n",
    "image_test = np.reshape(X_test[0, :], (8, 8))\n",
    "plt.imshow(image_test, cmap=plt.cm.gray_r, interpolation='nearest')\n",
    "plt.show()"
   ]
  },
  {
   "cell_type": "markdown",
   "id": "future-butter",
   "metadata": {},
   "source": [
    "<h2> References </h2>"
   ]
  },
  {
   "cell_type": "markdown",
   "id": "behind-possible",
   "metadata": {},
   "source": [
    "* Hutter, Frank, Lars Kotthoff, and Joaquin Vanschoren. Automated machine learning: methods, systems, challenges. Springer Nature, 2019.\n",
    "\n",
    "\n",
    "* Bergstra, James, et al. \"Algorithms for hyper-parameter optimization.\" 25th annual conference on neural information processing systems (NIPS 2011). Vol. 24. Neural Information Processing Systems Foundation, 2011.\n",
    "\n",
    "\n",
    "* Bergstra, James, and Yoshua Bengio. \"Random search for hyper-parameter optimization.\" Journal of machine learning research 13.2 (2012)."
   ]
  }
 ],
 "metadata": {
  "kernelspec": {
   "display_name": "Python 3",
   "language": "python",
   "name": "python3"
  },
  "language_info": {
   "codemirror_mode": {
    "name": "ipython",
    "version": 3
   },
   "file_extension": ".py",
   "mimetype": "text/x-python",
   "name": "python",
   "nbconvert_exporter": "python",
   "pygments_lexer": "ipython3",
   "version": "3.9.1"
  }
 },
 "nbformat": 4,
 "nbformat_minor": 5
}
