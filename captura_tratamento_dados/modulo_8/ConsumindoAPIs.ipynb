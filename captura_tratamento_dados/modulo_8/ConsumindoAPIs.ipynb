{
 "cells": [
  {
   "cell_type": "markdown",
   "id": "4387c507-5c51-4fc8-b88f-8c45b3b0ccec",
   "metadata": {},
   "source": [
    "# Consumindo Web APIs em Python\n",
    "*Material elaborado por: João Pedro Rodrigues Mattos*\n",
    "\n",
    "<br>\n",
    "\n",
    "## O que é uma Web API?\n",
    "\n",
    "Uma Web API é uma interface que um determinado servidor web expôe para a internet que possibilita que outras pessoas ou a outros serviços do proprietário do servidor se comuniquem com a aplicação web! \n",
    "\n",
    "Como exemplos de Web APIs temos a do [Spotify](https://developer.spotify.com/documentation/web-api/), a do [Youtube](https://developers.google.com/youtube/v3) e a dos [Dados Abertos da Câmara dos Deputados](https://dadosabertos.camara.leg.br/swagger/api.html#api). Em geral, uma Web API pública sempre vem acompanhada de uma documentação detalhada de como interagir com ela (chamamos de \"consumir a API\").\n",
    "\n",
    "\n",
    "Uma ilustração simples do conceito de Web API encontra-se abaixo."
   ]
  },
  {
   "cell_type": "markdown",
   "id": "d0d675e9-41d4-4e2b-8aa2-6e70c3f241b3",
   "metadata": {},
   "source": [
    "<center><img src=\"https://i.imgur.com/0byKMiq.png\"></center>"
   ]
  },
  {
   "cell_type": "markdown",
   "id": "44e0186f-0dac-4684-aee0-2464f7860e0c",
   "metadata": {},
   "source": [
    "## Como funciona o processo de consumir uma Web API?"
   ]
  },
  {
   "cell_type": "markdown",
   "id": "b0d76b57-60bf-43fc-b120-7e6598bebbf0",
   "metadata": {},
   "source": [
    "Primeiramente, é importante saber cada Web API é organizada de uma forma, por isso, além de conhecimentos técnicos em Python, geralmente precisamos ter a documentação da Web API em mãos para realizarmos seu consumo. Em geral, para consumir uma Web API realizamos o seguinte processo:\n",
    "\n",
    "- Encontramos o endpoint da api (o endereço para o qual realizaremos a requisição. Ex.: \"https://dadosabertos.camara.leg.br/api/v2/\")\n",
    "- Encontramos a rota para a qual realizaremos a requisição (Ex.: \"/deputados\")\n",
    "- Encontramos qual o método HTTP a ser utilizado para a requisição (Ex.: GET, PUT, POST, etc...)\n",
    "- Encontramos quais parametros a rota necessita para retornar as informações que queremos (Ex.: \"id\", \"nome\", \"data\", etc...)\n",
    "- Escrevemos um código Python que une essas informações obtidas e realiza a requisição (exemplo abaixo)\n",
    "\n",
    "\n",
    "\n",
    "### Detalhes importantes\n",
    "Muitas APIs (como a do Spotify, a do Youtube e a do Twitter, por exemplo) exigem *auth tokens* (chaves de autenticação) obtidas apenas por meio da criação de contas nas próprias plataformas que hospedam essas APIs. Essa informação está **sempre descrita na documentação**, por isso é absolutamente necessário ter uma documentação para facilitar o processo de consumo de APIs!\n",
    "\n",
    "```python\n",
    "# Exemplo das informacoes necessarias para consumir a API do spotify\n",
    "client_id = 'CLIENT_ID' # Your client id\n",
    "client_secret = 'CLIENT_SECRET' # Your secret\n",
    "redirect_uri = 'REDIRECT_URI' # Your redirect uri\n",
    "```"
   ]
  },
  {
   "cell_type": "markdown",
   "id": "8aeb8451-c21e-43a2-b74c-f71f3a2301e1",
   "metadata": {},
   "source": [
    "<center><img src=\"https://i.imgur.com/5yxnYmj.png\">\n",
    "<p >Imagem retirada da API oficial do Spotify, mostrando como fazer o *setup* e autenticação de sua aplicação para ter acesso aos tokens que vão validar suas requisições à API da empresa.</p></center>"
   ]
  },
  {
   "cell_type": "markdown",
   "id": "0435c1f8-c284-44e3-89af-c640706e0705",
   "metadata": {},
   "source": [
    "## Exemplo prático"
   ]
  },
  {
   "cell_type": "markdown",
   "id": "c93d09a4-5cca-4bb9-860f-5e981df67624",
   "metadata": {},
   "source": [
    "Nesse exemplo vamos utilizar a Web API de [Dados Abertos da Câmara dos Deputados](https://dadosabertos.camara.leg.br/swagger/api.html#api), que é aberta e conta com uma boa documentação.\n",
    "\n",
    "Podemos listar todos os deputados com o nome \"Rodrigo\", por exemplo, utilizando a rota \"/deputados\". O próprio site possui um gerador de URLs para requisição. Para utilizarmos esse gerador, basta clicar na rota desejada, clicar em \"Try out\" e inserir os parametros de busca desejados e clicar em \"Execute\". Neste exemplo, vamos substituir apenas o parametro \"nome\" por \"Rodrigo\", então nossa configuração fica assim:\n",
    "\n",
    "<center><img src=\"https://i.imgur.com/VxeLlFf.png\"></center>\n",
    "\n",
    "Mais abaixo na página, após clicar em \"Execute\", temos a URL gerada pela documentação da api. Podemos testar essa URL diretamente em nosso código Python na célula abaixo!\n",
    "\n",
    "<center><img src=\"https://i.imgur.com/pwqThhZ.png\"></center>\n"
   ]
  },
  {
   "cell_type": "code",
   "execution_count": 10,
   "id": "2a088894-930a-4a99-b3f6-2bf3f8d1bd67",
   "metadata": {},
   "outputs": [
    {
     "data": {
      "text/plain": [
       "<Response [200]>"
      ]
     },
     "execution_count": 10,
     "metadata": {},
     "output_type": "execute_result"
    }
   ],
   "source": [
    "import requests as rq # Vamos usar a library requests para realizar a requisicao\n",
    "import json # Vamos usar a library json para realizar o parsing do conteudo da requisicao\n",
    "\n",
    "# Na propria pagina da API esta documentado que essa rota em questao aceita um metodo do tipo GET\n",
    "# por isso vamos usar o .get()\n",
    "deputados_rodrigo = rq.get(\"https://dadosabertos.camara.leg.br/api/v2/deputados?nome=Rodrigo&ordem=ASC&ordenarPor=nome\")\n",
    "deputados_rodrigo"
   ]
  },
  {
   "cell_type": "code",
   "execution_count": 11,
   "id": "0f5ececf-c92f-4a48-9808-fb5b2d9b385e",
   "metadata": {},
   "outputs": [
    {
     "data": {
      "text/plain": [
       "b'{\"dados\":[{\"id\":204530,\"uri\":\"https://dadosabertos.camara.leg.br/api/v2/deputados/204530\",\"nome\":\"Rodrigo Agostinho\",\"siglaPartido\":\"PSB\",\"uriPartido\":\"https://dadosabertos.camara.leg.br/api/v2/partidos/36832\",\"siglaUf\":\"SP\",\"idLegislatura\":56,\"urlFoto\":\"https://www.camara.leg.br/internet/deputado/bandep/204530.jpg\",\"email\":\"dep.rodrigoagostinho@camara.leg.br\"},{\"id\":152865,\"uri\":\"https://dadosabertos.camara.leg.br/api/v2/deputados/152865\",\"nome\":\"RODRIGO BETHLEM\",\"siglaPartido\":\"PMDB\",\"uriPartido\":\"https://dadosabertos.camara.leg.br/api/v2/partidos/36800\",\"siglaUf\":\"RJ\",\"idLegislatura\":54,\"urlFoto\":\"https://www.camara.leg.br/internet/deputado/bandep/152865.jpg\",\"email\":null},{\"id\":204366,\"uri\":\"https://dadosabertos.camara.leg.br/api/v2/deputados/204366\",\"nome\":\"Rodrigo Coelho\",\"siglaPartido\":\"PODE\",\"uriPartido\":\"https://dadosabertos.camara.leg.br/api/v2/partidos/36896\",\"siglaUf\":\"SC\",\"idLegislatura\":56,\"urlFoto\":\"https://www.camara.leg.br/internet/deputado/bandep/204366.jpg\",\"email\":\"dep.rodrigocoelho@camara.leg.br\"},{\"id\":1606,\"uri\":\"https://dadosabertos.camara.leg.br/api/v2/deputados/1606\",\"nome\":\"RODRIGO DE ARA\\xc3\\x9aJO\",\"siglaPartido\":null,\"uriPartido\":null,\"siglaUf\":\"AL\",\"idLegislatura\":22,\"urlFoto\":\"https://www.camara.leg.br/internet/deputado/bandep/1606.jpg\",\"email\":null},{\"id\":141531,\"uri\":\"https://dadosabertos.camara.leg.br/api/v2/deputados/141531\",\"nome\":\"Rodrigo de Castro\",\"siglaPartido\":\"UNI\\xc3\\x83O\",\"uriPartido\":\"https://dadosabertos.camara.leg.br/api/v2/partidos/38009\",\"siglaUf\":\"MG\",\"idLegislatura\":56,\"urlFoto\":\"https://www.camara.leg.br/internet/deputado/bandep/141531.jpg\",\"email\":\"dep.rodrigodecastro@camara.leg.br\"},{\"id\":88950,\"uri\":\"https://dadosabertos.camara.leg.br/api/v2/deputados/88950\",\"nome\":\"RODRIGO GARCIA\",\"siglaPartido\":\"DEM\",\"uriPartido\":\"https://dadosabertos.camara.leg.br/api/v2/partidos/36769\",\"siglaUf\":\"SP\",\"idLegislatura\":55,\"urlFoto\":\"https://www.camara.leg.br/internet/deputado/bandep/88950.jpg\",\"email\":null},{\"id\":130682,\"uri\":\"https://dadosabertos.camara.leg.br/api/v2/deputados/130682\",\"nome\":\"RODRIGO MAGALH\\xc3\\x83ES\",\"siglaPartido\":\"PRP\",\"uriPartido\":\"https://dadosabertos.camara.leg.br/api/v2/partidos/36824\",\"siglaUf\":\"RS\",\"idLegislatura\":40,\"urlFoto\":\"https://www.camara.leg.br/internet/deputado/bandep/130682.jpg\",\"email\":null},{\"id\":74693,\"uri\":\"https://dadosabertos.camara.leg.br/api/v2/deputados/74693\",\"nome\":\"Rodrigo Maia\",\"siglaPartido\":\"S.PART.\",\"uriPartido\":\"https://dadosabertos.camara.leg.br/api/v2/partidos/36852\",\"siglaUf\":\"RJ\",\"idLegislatura\":56,\"urlFoto\":\"https://www.camara.leg.br/internet/deputado/bandep/74693.jpg\",\"email\":null},{\"id\":178926,\"uri\":\"https://dadosabertos.camara.leg.br/api/v2/deputados/178926\",\"nome\":\"RODRIGO MARTINS\",\"siglaPartido\":\"PSB\",\"uriPartido\":\"https://dadosabertos.camara.leg.br/api/v2/partidos/36832\",\"siglaUf\":\"PI\",\"idLegislatura\":55,\"urlFoto\":\"https://www.camara.leg.br/internet/deputado/bandep/178926.jpg\",\"email\":null},{\"id\":344,\"uri\":\"https://dadosabertos.camara.leg.br/api/v2/deputados/344\",\"nome\":\"RODRIGO MONTEIRO\",\"siglaPartido\":null,\"uriPartido\":null,\"siglaUf\":\"SP\",\"idLegislatura\":5,\"urlFoto\":\"https://www.camara.leg.br/internet/deputado/bandep/344.jpg\",\"email\":null},{\"id\":178897,\"uri\":\"https://dadosabertos.camara.leg.br/api/v2/deputados/178897\",\"nome\":\"RODRIGO PACHECO\",\"siglaPartido\":\"DEM\",\"uriPartido\":\"https://dadosabertos.camara.leg.br/api/v2/partidos/36769\",\"siglaUf\":\"MG\",\"idLegislatura\":55,\"urlFoto\":\"https://www.camara.leg.br/internet/deputado/bandep/178897.jpg\",\"email\":null},{\"id\":141533,\"uri\":\"https://dadosabertos.camara.leg.br/api/v2/deputados/141533\",\"nome\":\"RODRIGO ROLLEMBERG\",\"siglaPartido\":\"PSB\",\"uriPartido\":\"https://dadosabertos.camara.leg.br/api/v2/partidos/36832\",\"siglaUf\":\"DF\",\"idLegislatura\":53,\"urlFoto\":\"https://www.camara.leg.br/internet/deputado/bandep/141533.jpg\",\"email\":null},{\"id\":768,\"uri\":\"https://dadosabertos.camara.leg.br/api/v2/deputados/768\",\"nome\":\"RODRIGO SILVA\",\"siglaPartido\":null,\"uriPartido\":null,\"siglaUf\":\"SP\",\"idLegislatura\":20,\"urlFoto\":\"https://www.camara.leg.br/internet/deputado/bandep/768.jpg\",\"email\":null}],\"links\":[{\"rel\":\"self\",\"href\":\"https://dadosabertos.camara.leg.br/api/v2/deputados?nome=Rodrigo&ordem=ASC&ordenarPor=nome\"},{\"rel\":\"first\",\"href\":\"https://dadosabertos.camara.leg.br/api/v2/deputados?nome=Rodrigo&ordem=ASC&ordenarPor=nome&pagina=1&itens=1000\"},{\"rel\":\"last\",\"href\":\"https://dadosabertos.camara.leg.br/api/v2/deputados?nome=Rodrigo&ordem=ASC&ordenarPor=nome&pagina=1&itens=1000\"}]}'"
      ]
     },
     "execution_count": 11,
     "metadata": {},
     "output_type": "execute_result"
    }
   ],
   "source": [
    "deputados_rodrigo.content # O conteudo veio no formato \"bytes\" (indicado pelo b' no inicio da string)"
   ]
  },
  {
   "cell_type": "code",
   "execution_count": 12,
   "id": "862fefa8-95a6-4dcb-83e7-3dafcf101d99",
   "metadata": {},
   "outputs": [
    {
     "data": {
      "text/plain": [
       "{'dados': [{'id': 204530,\n",
       "   'uri': 'https://dadosabertos.camara.leg.br/api/v2/deputados/204530',\n",
       "   'nome': 'Rodrigo Agostinho',\n",
       "   'siglaPartido': 'PSB',\n",
       "   'uriPartido': 'https://dadosabertos.camara.leg.br/api/v2/partidos/36832',\n",
       "   'siglaUf': 'SP',\n",
       "   'idLegislatura': 56,\n",
       "   'urlFoto': 'https://www.camara.leg.br/internet/deputado/bandep/204530.jpg',\n",
       "   'email': 'dep.rodrigoagostinho@camara.leg.br'},\n",
       "  {'id': 152865,\n",
       "   'uri': 'https://dadosabertos.camara.leg.br/api/v2/deputados/152865',\n",
       "   'nome': 'RODRIGO BETHLEM',\n",
       "   'siglaPartido': 'PMDB',\n",
       "   'uriPartido': 'https://dadosabertos.camara.leg.br/api/v2/partidos/36800',\n",
       "   'siglaUf': 'RJ',\n",
       "   'idLegislatura': 54,\n",
       "   'urlFoto': 'https://www.camara.leg.br/internet/deputado/bandep/152865.jpg',\n",
       "   'email': None},\n",
       "  {'id': 204366,\n",
       "   'uri': 'https://dadosabertos.camara.leg.br/api/v2/deputados/204366',\n",
       "   'nome': 'Rodrigo Coelho',\n",
       "   'siglaPartido': 'PODE',\n",
       "   'uriPartido': 'https://dadosabertos.camara.leg.br/api/v2/partidos/36896',\n",
       "   'siglaUf': 'SC',\n",
       "   'idLegislatura': 56,\n",
       "   'urlFoto': 'https://www.camara.leg.br/internet/deputado/bandep/204366.jpg',\n",
       "   'email': 'dep.rodrigocoelho@camara.leg.br'},\n",
       "  {'id': 1606,\n",
       "   'uri': 'https://dadosabertos.camara.leg.br/api/v2/deputados/1606',\n",
       "   'nome': 'RODRIGO DE ARAÚJO',\n",
       "   'siglaPartido': None,\n",
       "   'uriPartido': None,\n",
       "   'siglaUf': 'AL',\n",
       "   'idLegislatura': 22,\n",
       "   'urlFoto': 'https://www.camara.leg.br/internet/deputado/bandep/1606.jpg',\n",
       "   'email': None},\n",
       "  {'id': 141531,\n",
       "   'uri': 'https://dadosabertos.camara.leg.br/api/v2/deputados/141531',\n",
       "   'nome': 'Rodrigo de Castro',\n",
       "   'siglaPartido': 'UNIÃO',\n",
       "   'uriPartido': 'https://dadosabertos.camara.leg.br/api/v2/partidos/38009',\n",
       "   'siglaUf': 'MG',\n",
       "   'idLegislatura': 56,\n",
       "   'urlFoto': 'https://www.camara.leg.br/internet/deputado/bandep/141531.jpg',\n",
       "   'email': 'dep.rodrigodecastro@camara.leg.br'},\n",
       "  {'id': 88950,\n",
       "   'uri': 'https://dadosabertos.camara.leg.br/api/v2/deputados/88950',\n",
       "   'nome': 'RODRIGO GARCIA',\n",
       "   'siglaPartido': 'DEM',\n",
       "   'uriPartido': 'https://dadosabertos.camara.leg.br/api/v2/partidos/36769',\n",
       "   'siglaUf': 'SP',\n",
       "   'idLegislatura': 55,\n",
       "   'urlFoto': 'https://www.camara.leg.br/internet/deputado/bandep/88950.jpg',\n",
       "   'email': None},\n",
       "  {'id': 130682,\n",
       "   'uri': 'https://dadosabertos.camara.leg.br/api/v2/deputados/130682',\n",
       "   'nome': 'RODRIGO MAGALHÃES',\n",
       "   'siglaPartido': 'PRP',\n",
       "   'uriPartido': 'https://dadosabertos.camara.leg.br/api/v2/partidos/36824',\n",
       "   'siglaUf': 'RS',\n",
       "   'idLegislatura': 40,\n",
       "   'urlFoto': 'https://www.camara.leg.br/internet/deputado/bandep/130682.jpg',\n",
       "   'email': None},\n",
       "  {'id': 74693,\n",
       "   'uri': 'https://dadosabertos.camara.leg.br/api/v2/deputados/74693',\n",
       "   'nome': 'Rodrigo Maia',\n",
       "   'siglaPartido': 'S.PART.',\n",
       "   'uriPartido': 'https://dadosabertos.camara.leg.br/api/v2/partidos/36852',\n",
       "   'siglaUf': 'RJ',\n",
       "   'idLegislatura': 56,\n",
       "   'urlFoto': 'https://www.camara.leg.br/internet/deputado/bandep/74693.jpg',\n",
       "   'email': None},\n",
       "  {'id': 178926,\n",
       "   'uri': 'https://dadosabertos.camara.leg.br/api/v2/deputados/178926',\n",
       "   'nome': 'RODRIGO MARTINS',\n",
       "   'siglaPartido': 'PSB',\n",
       "   'uriPartido': 'https://dadosabertos.camara.leg.br/api/v2/partidos/36832',\n",
       "   'siglaUf': 'PI',\n",
       "   'idLegislatura': 55,\n",
       "   'urlFoto': 'https://www.camara.leg.br/internet/deputado/bandep/178926.jpg',\n",
       "   'email': None},\n",
       "  {'id': 344,\n",
       "   'uri': 'https://dadosabertos.camara.leg.br/api/v2/deputados/344',\n",
       "   'nome': 'RODRIGO MONTEIRO',\n",
       "   'siglaPartido': None,\n",
       "   'uriPartido': None,\n",
       "   'siglaUf': 'SP',\n",
       "   'idLegislatura': 5,\n",
       "   'urlFoto': 'https://www.camara.leg.br/internet/deputado/bandep/344.jpg',\n",
       "   'email': None},\n",
       "  {'id': 178897,\n",
       "   'uri': 'https://dadosabertos.camara.leg.br/api/v2/deputados/178897',\n",
       "   'nome': 'RODRIGO PACHECO',\n",
       "   'siglaPartido': 'DEM',\n",
       "   'uriPartido': 'https://dadosabertos.camara.leg.br/api/v2/partidos/36769',\n",
       "   'siglaUf': 'MG',\n",
       "   'idLegislatura': 55,\n",
       "   'urlFoto': 'https://www.camara.leg.br/internet/deputado/bandep/178897.jpg',\n",
       "   'email': None},\n",
       "  {'id': 141533,\n",
       "   'uri': 'https://dadosabertos.camara.leg.br/api/v2/deputados/141533',\n",
       "   'nome': 'RODRIGO ROLLEMBERG',\n",
       "   'siglaPartido': 'PSB',\n",
       "   'uriPartido': 'https://dadosabertos.camara.leg.br/api/v2/partidos/36832',\n",
       "   'siglaUf': 'DF',\n",
       "   'idLegislatura': 53,\n",
       "   'urlFoto': 'https://www.camara.leg.br/internet/deputado/bandep/141533.jpg',\n",
       "   'email': None},\n",
       "  {'id': 768,\n",
       "   'uri': 'https://dadosabertos.camara.leg.br/api/v2/deputados/768',\n",
       "   'nome': 'RODRIGO SILVA',\n",
       "   'siglaPartido': None,\n",
       "   'uriPartido': None,\n",
       "   'siglaUf': 'SP',\n",
       "   'idLegislatura': 20,\n",
       "   'urlFoto': 'https://www.camara.leg.br/internet/deputado/bandep/768.jpg',\n",
       "   'email': None}],\n",
       " 'links': [{'rel': 'self',\n",
       "   'href': 'https://dadosabertos.camara.leg.br/api/v2/deputados?nome=Rodrigo&ordem=ASC&ordenarPor=nome'},\n",
       "  {'rel': 'first',\n",
       "   'href': 'https://dadosabertos.camara.leg.br/api/v2/deputados?nome=Rodrigo&ordem=ASC&ordenarPor=nome&pagina=1&itens=1000'},\n",
       "  {'rel': 'last',\n",
       "   'href': 'https://dadosabertos.camara.leg.br/api/v2/deputados?nome=Rodrigo&ordem=ASC&ordenarPor=nome&pagina=1&itens=1000'}]}"
      ]
     },
     "execution_count": 12,
     "metadata": {},
     "output_type": "execute_result"
    }
   ],
   "source": [
    "# Todo objeto do tipo \"bytes\" possui o metodo \"decode\", que converte seu conteudo para string.\n",
    "# Passamos essa string entao para o metodo loads() do modulo \"json\", que vai converter essa string\n",
    "# para um dicionario padrao do Python!\n",
    "json.loads(deputados_rodrigo.content.decode(\"utf-8\"))"
   ]
  },
  {
   "cell_type": "markdown",
   "id": "3749038f-c842-4bee-ac75-d6a6266e736e",
   "metadata": {},
   "source": [
    "## Exemplo adicional"
   ]
  },
  {
   "cell_type": "code",
   "execution_count": 15,
   "id": "a335501c-840f-4702-9cd0-7ce6bb36872b",
   "metadata": {},
   "outputs": [
    {
     "name": "stdout",
     "output_type": "stream",
     "text": [
      "<Response [200]>\n",
      "--------------------------------------------------\n"
     ]
    },
    {
     "data": {
      "text/plain": [
       "{'dados': [{'id': 204530,\n",
       "   'uri': 'https://dadosabertos.camara.leg.br/api/v2/deputados/204530',\n",
       "   'nome': 'Rodrigo Agostinho',\n",
       "   'siglaPartido': 'PSB',\n",
       "   'uriPartido': 'https://dadosabertos.camara.leg.br/api/v2/partidos/36832',\n",
       "   'siglaUf': 'SP',\n",
       "   'idLegislatura': 56,\n",
       "   'urlFoto': 'https://www.camara.leg.br/internet/deputado/bandep/204530.jpg',\n",
       "   'email': 'dep.rodrigoagostinho@camara.leg.br'},\n",
       "  {'id': 152865,\n",
       "   'uri': 'https://dadosabertos.camara.leg.br/api/v2/deputados/152865',\n",
       "   'nome': 'RODRIGO BETHLEM',\n",
       "   'siglaPartido': 'PMDB',\n",
       "   'uriPartido': 'https://dadosabertos.camara.leg.br/api/v2/partidos/36800',\n",
       "   'siglaUf': 'RJ',\n",
       "   'idLegislatura': 54,\n",
       "   'urlFoto': 'https://www.camara.leg.br/internet/deputado/bandep/152865.jpg',\n",
       "   'email': None},\n",
       "  {'id': 204366,\n",
       "   'uri': 'https://dadosabertos.camara.leg.br/api/v2/deputados/204366',\n",
       "   'nome': 'Rodrigo Coelho',\n",
       "   'siglaPartido': 'PODE',\n",
       "   'uriPartido': 'https://dadosabertos.camara.leg.br/api/v2/partidos/36896',\n",
       "   'siglaUf': 'SC',\n",
       "   'idLegislatura': 56,\n",
       "   'urlFoto': 'https://www.camara.leg.br/internet/deputado/bandep/204366.jpg',\n",
       "   'email': 'dep.rodrigocoelho@camara.leg.br'},\n",
       "  {'id': 1606,\n",
       "   'uri': 'https://dadosabertos.camara.leg.br/api/v2/deputados/1606',\n",
       "   'nome': 'RODRIGO DE ARAÚJO',\n",
       "   'siglaPartido': None,\n",
       "   'uriPartido': None,\n",
       "   'siglaUf': 'AL',\n",
       "   'idLegislatura': 22,\n",
       "   'urlFoto': 'https://www.camara.leg.br/internet/deputado/bandep/1606.jpg',\n",
       "   'email': None},\n",
       "  {'id': 141531,\n",
       "   'uri': 'https://dadosabertos.camara.leg.br/api/v2/deputados/141531',\n",
       "   'nome': 'Rodrigo de Castro',\n",
       "   'siglaPartido': 'UNIÃO',\n",
       "   'uriPartido': 'https://dadosabertos.camara.leg.br/api/v2/partidos/38009',\n",
       "   'siglaUf': 'MG',\n",
       "   'idLegislatura': 56,\n",
       "   'urlFoto': 'https://www.camara.leg.br/internet/deputado/bandep/141531.jpg',\n",
       "   'email': 'dep.rodrigodecastro@camara.leg.br'},\n",
       "  {'id': 88950,\n",
       "   'uri': 'https://dadosabertos.camara.leg.br/api/v2/deputados/88950',\n",
       "   'nome': 'RODRIGO GARCIA',\n",
       "   'siglaPartido': 'DEM',\n",
       "   'uriPartido': 'https://dadosabertos.camara.leg.br/api/v2/partidos/36769',\n",
       "   'siglaUf': 'SP',\n",
       "   'idLegislatura': 55,\n",
       "   'urlFoto': 'https://www.camara.leg.br/internet/deputado/bandep/88950.jpg',\n",
       "   'email': None},\n",
       "  {'id': 130682,\n",
       "   'uri': 'https://dadosabertos.camara.leg.br/api/v2/deputados/130682',\n",
       "   'nome': 'RODRIGO MAGALHÃES',\n",
       "   'siglaPartido': 'PRP',\n",
       "   'uriPartido': 'https://dadosabertos.camara.leg.br/api/v2/partidos/36824',\n",
       "   'siglaUf': 'RS',\n",
       "   'idLegislatura': 40,\n",
       "   'urlFoto': 'https://www.camara.leg.br/internet/deputado/bandep/130682.jpg',\n",
       "   'email': None},\n",
       "  {'id': 74693,\n",
       "   'uri': 'https://dadosabertos.camara.leg.br/api/v2/deputados/74693',\n",
       "   'nome': 'Rodrigo Maia',\n",
       "   'siglaPartido': 'S.PART.',\n",
       "   'uriPartido': 'https://dadosabertos.camara.leg.br/api/v2/partidos/36852',\n",
       "   'siglaUf': 'RJ',\n",
       "   'idLegislatura': 56,\n",
       "   'urlFoto': 'https://www.camara.leg.br/internet/deputado/bandep/74693.jpg',\n",
       "   'email': None},\n",
       "  {'id': 178926,\n",
       "   'uri': 'https://dadosabertos.camara.leg.br/api/v2/deputados/178926',\n",
       "   'nome': 'RODRIGO MARTINS',\n",
       "   'siglaPartido': 'PSB',\n",
       "   'uriPartido': 'https://dadosabertos.camara.leg.br/api/v2/partidos/36832',\n",
       "   'siglaUf': 'PI',\n",
       "   'idLegislatura': 55,\n",
       "   'urlFoto': 'https://www.camara.leg.br/internet/deputado/bandep/178926.jpg',\n",
       "   'email': None},\n",
       "  {'id': 344,\n",
       "   'uri': 'https://dadosabertos.camara.leg.br/api/v2/deputados/344',\n",
       "   'nome': 'RODRIGO MONTEIRO',\n",
       "   'siglaPartido': None,\n",
       "   'uriPartido': None,\n",
       "   'siglaUf': 'SP',\n",
       "   'idLegislatura': 5,\n",
       "   'urlFoto': 'https://www.camara.leg.br/internet/deputado/bandep/344.jpg',\n",
       "   'email': None},\n",
       "  {'id': 178897,\n",
       "   'uri': 'https://dadosabertos.camara.leg.br/api/v2/deputados/178897',\n",
       "   'nome': 'RODRIGO PACHECO',\n",
       "   'siglaPartido': 'DEM',\n",
       "   'uriPartido': 'https://dadosabertos.camara.leg.br/api/v2/partidos/36769',\n",
       "   'siglaUf': 'MG',\n",
       "   'idLegislatura': 55,\n",
       "   'urlFoto': 'https://www.camara.leg.br/internet/deputado/bandep/178897.jpg',\n",
       "   'email': None},\n",
       "  {'id': 141533,\n",
       "   'uri': 'https://dadosabertos.camara.leg.br/api/v2/deputados/141533',\n",
       "   'nome': 'RODRIGO ROLLEMBERG',\n",
       "   'siglaPartido': 'PSB',\n",
       "   'uriPartido': 'https://dadosabertos.camara.leg.br/api/v2/partidos/36832',\n",
       "   'siglaUf': 'DF',\n",
       "   'idLegislatura': 53,\n",
       "   'urlFoto': 'https://www.camara.leg.br/internet/deputado/bandep/141533.jpg',\n",
       "   'email': None},\n",
       "  {'id': 768,\n",
       "   'uri': 'https://dadosabertos.camara.leg.br/api/v2/deputados/768',\n",
       "   'nome': 'RODRIGO SILVA',\n",
       "   'siglaPartido': None,\n",
       "   'uriPartido': None,\n",
       "   'siglaUf': 'SP',\n",
       "   'idLegislatura': 20,\n",
       "   'urlFoto': 'https://www.camara.leg.br/internet/deputado/bandep/768.jpg',\n",
       "   'email': None}],\n",
       " 'links': [{'rel': 'self',\n",
       "   'href': 'https://dadosabertos.camara.leg.br/api/v2/deputados?nome=Rodrigo&ordem=ASC&ordenarPor=nome'},\n",
       "  {'rel': 'first',\n",
       "   'href': 'https://dadosabertos.camara.leg.br/api/v2/deputados?nome=Rodrigo&ordem=ASC&ordenarPor=nome&pagina=1&itens=1000'},\n",
       "  {'rel': 'last',\n",
       "   'href': 'https://dadosabertos.camara.leg.br/api/v2/deputados?nome=Rodrigo&ordem=ASC&ordenarPor=nome&pagina=1&itens=1000'}]}"
      ]
     },
     "execution_count": 15,
     "metadata": {},
     "output_type": "execute_result"
    }
   ],
   "source": [
    "# Como visto em aula, tambem e possivel realizar \n",
    "# requisicoes utilizando o parametro \"params\"\n",
    "# dos metodos da biblioteca requests.\n",
    "\n",
    "# Para demonstrar isso, nessa celula, vamos fazer EXATAMENTE\n",
    "# a mesma requisicao que acabamos de fazer, mas vamos usar a\n",
    "# sintaxe do \"params\"\n",
    "\n",
    "# Na propria pagina da API esta documentado que essa rota em questao aceita um metodo do tipo GET\n",
    "# por isso vamos usar o .get()\n",
    "deputados_rodrigo = rq.get(\"https://dadosabertos.camara.leg.br/api/v2/deputados\", params={\"nome\":\"Rodrigo\", \"ordem\":\"ASC\", \"ordenarPor\":\"nome\"})\n",
    "print(deputados_rodrigo)\n",
    "print(\"-\" * 50)\n",
    "json.loads(deputados_rodrigo.content.decode(\"utf-8\"))"
   ]
  }
 ],
 "metadata": {
  "kernelspec": {
   "display_name": "Python 3 (ipykernel)",
   "language": "python",
   "name": "python3"
  },
  "language_info": {
   "codemirror_mode": {
    "name": "ipython",
    "version": 3
   },
   "file_extension": ".py",
   "mimetype": "text/x-python",
   "name": "python",
   "nbconvert_exporter": "python",
   "pygments_lexer": "ipython3",
   "version": "3.10.4"
  }
 },
 "nbformat": 4,
 "nbformat_minor": 5
}
