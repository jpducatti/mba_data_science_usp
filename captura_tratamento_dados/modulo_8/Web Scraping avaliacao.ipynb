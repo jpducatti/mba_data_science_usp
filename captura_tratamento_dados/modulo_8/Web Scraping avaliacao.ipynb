{
 "cells": [
  {
   "cell_type": "markdown",
   "metadata": {
    "toc": true
   },
   "source": [
    "<h1>Table of Contents<span class=\"tocSkip\"></span></h1>\n",
    "<div class=\"toc\"><ul class=\"toc-item\"><li><span><a href=\"#-MBA-em-Ciência-de-Dados\" data-toc-modified-id=\"-MBA-em-Ciência-de-Dados-1\"><span class=\"toc-item-num\">1&nbsp;&nbsp;</span><font color=\"blue\"> MBA em Ciência de Dados</font></a></span></li><li><span><a href=\"#Técnicas-Avançadas-para-Captura-e-Tratamento-de-Dados\" data-toc-modified-id=\"Técnicas-Avançadas-para-Captura-e-Tratamento-de-Dados-2\"><span class=\"toc-item-num\">2&nbsp;&nbsp;</span><font color=\"blue\">Técnicas Avançadas para Captura e Tratamento de Dados</font></a></span><ul class=\"toc-item\"><li><span><a href=\"#-Web-Scraping-\" data-toc-modified-id=\"-Web-Scraping--2.1\"><span class=\"toc-item-num\">2.1&nbsp;&nbsp;</span><font color=\"blue\"> Web Scraping </font></a></span></li><li><span><a href=\"#Avaliação-Solução-\" data-toc-modified-id=\"Avaliação-Solução--2.2\"><span class=\"toc-item-num\">2.2&nbsp;&nbsp;</span><font color=\"blue\">Avaliação Solução </font></a></span><ul class=\"toc-item\"><li><span><a href=\"#Exercício-1)\" data-toc-modified-id=\"Exercício-1)-2.2.1\"><span class=\"toc-item-num\">2.2.1&nbsp;&nbsp;</span>Exercício 1)</a></span></li><li><span><a href=\"#Exercício-2)\" data-toc-modified-id=\"Exercício-2)-2.2.2\"><span class=\"toc-item-num\">2.2.2&nbsp;&nbsp;</span>Exercício 2)</a></span></li><li><span><a href=\"#Exercício-3)\" data-toc-modified-id=\"Exercício-3)-2.2.3\"><span class=\"toc-item-num\">2.2.3&nbsp;&nbsp;</span>Exercício 3)</a></span></li><li><span><a href=\"#Exercício-4)\" data-toc-modified-id=\"Exercício-4)-2.2.4\"><span class=\"toc-item-num\">2.2.4&nbsp;&nbsp;</span>Exercício 4)</a></span></li><li><span><a href=\"#Exercício-5)\" data-toc-modified-id=\"Exercício-5)-2.2.5\"><span class=\"toc-item-num\">2.2.5&nbsp;&nbsp;</span>Exercício 5)</a></span></li></ul></li></ul></li></ul></div>"
   ]
  },
  {
   "cell_type": "markdown",
   "metadata": {},
   "source": [
    "# <font color=\"blue\"> MBA em Ciência de Dados</font>\n",
    "# <font color=\"blue\">Técnicas Avançadas para Captura e Tratamento de Dados</font>\n",
    "\n",
    "## <font color=\"blue\"> Web Scraping </font>\n",
    "\n",
    "## <font color=\"blue\">Avaliação Solução </font> \n",
    "\n",
    "**Material Produzido por Luis Gustavo Nonato**<br>\n",
    "**Cemeai - ICMC/USP São Carlos**\n",
    "\n",
    "---"
   ]
  },
  {
   "cell_type": "code",
   "execution_count": 2,
   "metadata": {},
   "outputs": [],
   "source": [
    "import requests as rq\n",
    "from bs4 import BeautifulSoup"
   ]
  },
  {
   "cell_type": "markdown",
   "metadata": {},
   "source": [
    "Considere a página do CEMEAI do ICMC: \n",
    "\n",
    "[http://www.cemeai.icmc.usp.br](http://www.cemeai.icmc.usp.br)"
   ]
  },
  {
   "cell_type": "markdown",
   "metadata": {},
   "source": [
    "### Exercício 1)\n",
    "Faça uma requisição à página do CEMEAI a fim de verificar o tipo de conteúdo. O conteúdo é do tipo:\n",
    "\n",
    "a) Tipo de Conteúdo: text/json<br>\n",
    "b) Tipo de Conteúdo: text/html<br>\n",
    "c) Tipo de Conteúdo: text/plain<br>\n",
    "d) Tipo de Conteúdo: text/source"
   ]
  },
  {
   "cell_type": "code",
   "execution_count": null,
   "metadata": {},
   "outputs": [],
   "source": [
    "# RESPOSTA = text/html; charset=utf-8"
   ]
  },
  {
   "cell_type": "code",
   "execution_count": 8,
   "metadata": {},
   "outputs": [
    {
     "name": "stdout",
     "output_type": "stream",
     "text": [
      "Status da requisição -->  200\n",
      "Tipo do objeto retornado -->  text/html; charset=utf-8\n"
     ]
    }
   ],
   "source": [
    "# Solucao\n",
    "url = 'http://www.cemeai.icmc.usp.br/'\n",
    "r = rq.get(url)\n",
    "\n",
    "if r.status_code == 200:\n",
    "    print('Status da requisição --> ', r.status_code)\n",
    "    print('Tipo do objeto retornado --> ', r.headers['Content-Type'])\n",
    "else: \n",
    "    print('Error na requisicação')"
   ]
  },
  {
   "cell_type": "markdown",
   "metadata": {},
   "source": [
    "### Exercício 2)\n",
    "Considerando a página de projetos do CEMEAI [http://www.cemeai.icmc.usp.br/projetos](http://www.cemeai.icmc.usp.br/projetos), \n",
    "faça uma requisição à página de modo a obter uma lista de todas os projetos listados na página. \n",
    "\n",
    "Quantos projetos aparecem listados?\n",
    "\n",
    "a) 70<br>\n",
    "b) 73<br>\n",
    "c) 76<br>\n",
    "d) 79\n",
    "\n",
    "**Dica**: Os projetos estão marcados no HTML por: \n",
    "```html\n",
    "div class=\"bt-inner\"\n",
    "```"
   ]
  },
  {
   "cell_type": "code",
   "execution_count": 16,
   "metadata": {},
   "outputs": [],
   "source": [
    "## RESPOSTA = 76"
   ]
  },
  {
   "cell_type": "code",
   "execution_count": 27,
   "metadata": {},
   "outputs": [
    {
     "name": "stdout",
     "output_type": "stream",
     "text": [
      "Status da requisição -->  200\n",
      "Número de Projetos -->  76\n"
     ]
    }
   ],
   "source": [
    "# Solucao\n",
    "url = 'http://www.cemeai.icmc.usp.br/projetos'\n",
    "r = rq.get(url)\n",
    "parametro_site = 'div'\n",
    "parametro_tipo = 'class'\n",
    "parametro_subtipo = 'bt-inner'\n",
    "\n",
    "if r.status_code == 200:\n",
    "    print('Status da requisição --> ', r.status_code)\n",
    "    portal_soup = BeautifulSoup(r.text, 'html.parser')\n",
    "    projetos = portal_soup.find_all(parametro_site, {parametro_tipo:parametro_subtipo})\n",
    "\n",
    "    lista_projeto = []\n",
    "    for a in projetos:\n",
    "        lista_projeto.append(a.find('a',{'class':'bt-title'}).text)\n",
    "    print('Número de Projetos --> ',len(lista_projeto))\n",
    "else: \n",
    "    print('Error na requisicação')"
   ]
  },
  {
   "cell_type": "markdown",
   "metadata": {},
   "source": [
    "### Exercício 3)\n",
    "Na página de projetos, cada projeto possui uma categoria (indicada antes do título do projeto, veja a página), por exemplo `Ciência de Dados`, `Otimização e Pesquisa Operacional` e `Mecânica dos Fluidos Computacional`. Quantos projetos na categoria `Ciência de Dados` são listados na página?\n",
    "\n",
    "a) 41<br>\n",
    "b) 47<br>\n",
    "c) 49<br>\n",
    "d) 51\n",
    "\n",
    "**Dica**: A categoria está marcada por: \n",
    "```html\n",
    "a class=\"bt-category\"\n",
    "```\n",
    "dentro de cada item de projeto."
   ]
  },
  {
   "cell_type": "code",
   "execution_count": 29,
   "metadata": {},
   "outputs": [],
   "source": [
    "## RESPOSTA = 47"
   ]
  },
  {
   "cell_type": "code",
   "execution_count": 30,
   "metadata": {},
   "outputs": [
    {
     "name": "stdout",
     "output_type": "stream",
     "text": [
      "Status da requisição -->  200\n",
      "Número de Projetos -->  47\n"
     ]
    }
   ],
   "source": [
    "# Solucao\n",
    "url = 'http://www.cemeai.icmc.usp.br/projetos'\n",
    "r = rq.get(url)\n",
    "parametro_site = 'div'\n",
    "parametro_tipo = 'class'\n",
    "parametro_subtipo = 'bt-inner'\n",
    "categoria = 'Ciência de Dados'\n",
    "\n",
    "if r.status_code == 200:\n",
    "    print('Status da requisição --> ', r.status_code)\n",
    "    portal_soup = BeautifulSoup(r.text, 'html.parser')\n",
    "    projetos = portal_soup.find_all(parametro_site, {parametro_tipo:parametro_subtipo})\n",
    "\n",
    "    lista_projeto_cd = []\n",
    "    for a in projetos:\n",
    "        if a.find('a',{'class':'bt-category'}).text.find(categoria) != -1:\n",
    "            lista_projeto_cd.append(a.find('a',{'class':'bt-category'}).text)\n",
    "    print('Número de Projetos --> ',len(lista_projeto_cd))\n",
    "else: \n",
    "    print('Error na requisicação')"
   ]
  },
  {
   "cell_type": "markdown",
   "metadata": {},
   "source": [
    "### Exercício 4) \n",
    "Quantos caracteres tem o título de projeto mais longo?\n",
    "\n",
    "a) 64<br>\n",
    "b) 66<br>\n",
    "c) 68<br>\n",
    "d) 70\n",
    "\n",
    "**Dica**: O título do projeto está marcado por: \n",
    "```html\n",
    "a class=\"bt-title\"\n",
    "```\n",
    "dentro de cada item de projeto."
   ]
  },
  {
   "cell_type": "code",
   "execution_count": 46,
   "metadata": {},
   "outputs": [],
   "source": [
    "#RESPOSTA = 74"
   ]
  },
  {
   "cell_type": "code",
   "execution_count": 3,
   "metadata": {},
   "outputs": [
    {
     "name": "stdout",
     "output_type": "stream",
     "text": [
      "Status da requisição -->  200\n",
      "Número de Projetos --> 76\n",
      "Projeto com Maior nome -->  Análise de dados comparativos sobre o avanço da Covid-19 em São Paulo...   e tem --> 74\n"
     ]
    }
   ],
   "source": [
    "# Solucao\n",
    "url = 'http://www.cemeai.icmc.usp.br/projetos'\n",
    "parametro_site = 'div'\n",
    "parametro_tipo = 'class'\n",
    "parametro_subtipo = 'bt-inner'\n",
    "\n",
    "r = rq.get(url)\n",
    "\n",
    "if r.status_code == 200:\n",
    "    print('Status da requisição --> ', r.status_code)\n",
    "    portal_soup = BeautifulSoup(r.text, 'html.parser')\n",
    "    projetos = portal_soup.find_all(parametro_site, {parametro_tipo:parametro_subtipo})\n",
    "\n",
    "    nome_projetos = {}\n",
    "    for a in projetos:\n",
    "        nome = a.find('a',{'class':'bt-title'}).text\n",
    "        len_nome = len(nome)\n",
    "        nome_projetos[nome] = len_nome\n",
    "\n",
    "    print('Número de Projetos -->',len(nome_projetos))\n",
    "    print('Projeto com Maior nome -->',max(nome_projetos, key = nome_projetos.get),\n",
    "          ' e tem -->',max(nome_projetos.values()))\n",
    "    \n",
    "else: \n",
    "    print('Error na requisicação')"
   ]
  },
  {
   "cell_type": "markdown",
   "metadata": {},
   "source": [
    "### Exercício 5)\n",
    "Cada projeto contém um link para a página individual do projeto. No final da página de cada projeto você irá encontrar a data de quando a página foi criada. Por exemplo, no final da página [http://www.cemeai.icmc.usp.br/projetos/item/1009-planejamento-do-isolamento-intermitente-em-sp](http://www.cemeai.icmc.usp.br/projetos/item/1009-planejamento-do-isolamento-intermitente-em-sp) a mensagem\n",
    "\n",
    "_Última modificação em Segunda, 18 Mai 2020 14:37_\n",
    "\n",
    "indica que a página foi criada no dia 18 de maio de 2020.\n",
    "\n",
    "Construa um código para visitar todas as páginas dos projetos e identifique em que ano se criou o maior número de páginas. O ano em que se criou o **maior** número de páginas é:\n",
    "\n",
    "a) 2020 com 17 páginas<br>\n",
    "b) 2020 com 23 páginas<br>\n",
    "c) 2019 com 37 páginas<br>\n",
    "d) 2019 com 26 páginas\n",
    "\n",
    "**Dica**: Na página listanto todos os projetos busque por\n",
    "```html\n",
    "<a  target=\"_parent\">\n",
    "```\n",
    "para encontrar o link de cada página individual. Na página de cada projeto individual, busque por\n",
    "```html\n",
    "<p class=\"itemDateModified\">\n",
    "```"
   ]
  },
  {
   "cell_type": "code",
   "execution_count": 57,
   "metadata": {},
   "outputs": [],
   "source": [
    "## RESPOTA = 2019 COM 37 PAG"
   ]
  },
  {
   "cell_type": "code",
   "execution_count": 65,
   "metadata": {},
   "outputs": [
    {
     "name": "stdout",
     "output_type": "stream",
     "text": [
      "Status da requisição -->  200\n",
      "Número total de projetos -->  76\n",
      "Ano com maior número de pag de projetos -->  2019  com  37  páginas\n"
     ]
    }
   ],
   "source": [
    "# Solucao\n",
    "url = 'http://www.cemeai.icmc.usp.br/projetos'\n",
    "parametro_site = 'div'\n",
    "parametro_tipo = 'class'\n",
    "parametro_subtipo = 'bt-inner'\n",
    "ano_2020 = '2020'\n",
    "ano_2019 = '2019'\n",
    "\n",
    "r = rq.get(url)\n",
    "\n",
    "if r.status_code == 200:\n",
    "    print('Status da requisição --> ', r.status_code)\n",
    "    portal_soup = BeautifulSoup(r.text, 'html.parser')\n",
    "    projetos = portal_soup.find_all(parametro_site, {parametro_tipo:parametro_subtipo})\n",
    "\n",
    "    repos_projeto = []\n",
    "    for a in projetos:\n",
    "        semi_url = a.find('a',{'class':'bt-title'}).get('href')\n",
    "        url_projetos = 'http://www.cemeai.icmc.usp.br' + semi_url\n",
    "        \n",
    "        r_projeto = rq.get(url_projetos)\n",
    "        if r_projeto.status_code == 200:\n",
    "            repos_projeto.append(BeautifulSoup(r_projeto.text,'html.parser'))\n",
    "        else:\n",
    "            print('Erro na req. de projeto individual')\n",
    "            break\n",
    "\n",
    "    count_ano = {'2019':0, '2020':0}\n",
    "    count_2020 = 0\n",
    "    count_2019 = 0\n",
    "    for b in repos_projeto:\n",
    "        data = b.find('p', {'class':'itemDateModified'}).text\n",
    "        if data.find(ano_2019) != -1:\n",
    "            count_2019 += 1\n",
    "        elif data.find(ano_2020) != -1:\n",
    "            count_2020 += 1\n",
    "    \n",
    "    count_ano['2019'] = count_2019\n",
    "    count_ano['2020'] = count_2020\n",
    "\n",
    "    print('Número total de projetos --> ', len(repos_projeto))\n",
    "    print('Ano com maior número de pag de projetos --> ',max(count_ano, key = count_ano.get),\n",
    "         ' com ', max(count_ano.values()), ' páginas')\n",
    "         \n",
    "else: \n",
    "    print('Error na requisicação do site de projetos geral')"
   ]
  },
  {
   "cell_type": "code",
   "execution_count": null,
   "metadata": {},
   "outputs": [],
   "source": []
  }
 ],
 "metadata": {
  "interpreter": {
   "hash": "eeca995d0f3e54aca6930f56d9ad1fedf70d5951646e03e475052bde35f1b6df"
  },
  "kernelspec": {
   "display_name": "Python 3.9.7 ('base')",
   "language": "python",
   "name": "python3"
  },
  "language_info": {
   "codemirror_mode": {
    "name": "ipython",
    "version": 3
   },
   "file_extension": ".py",
   "mimetype": "text/x-python",
   "name": "python",
   "nbconvert_exporter": "python",
   "pygments_lexer": "ipython3",
   "version": "3.9.7"
  },
  "toc": {
   "base_numbering": 1,
   "nav_menu": {},
   "number_sections": true,
   "sideBar": true,
   "skip_h1_title": false,
   "title_cell": "Table of Contents",
   "title_sidebar": "Contents",
   "toc_cell": true,
   "toc_position": {},
   "toc_section_display": true,
   "toc_window_display": false
  }
 },
 "nbformat": 4,
 "nbformat_minor": 2
}
