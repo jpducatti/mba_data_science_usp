{
 "cells": [
  {
   "cell_type": "markdown",
   "metadata": {},
   "source": [
    "# MBA em Ciência de Dados\n",
    "# Técnicas Avançadas de Captura e Tratamento de Dados\n",
    "\n",
    "### <span style=\"color:darkred\">Módulo I</span>\n",
    "\n",
    "\n",
    "### <span style=\"color:darkred\">Exercícios</span>\n",
    "\n",
    "Moacir Antonelli Ponti\n",
    "\n",
    "CeMEAI - ICMC/USP São Carlos\n",
    "\n",
    "---\n",
    "\n",
    "#### <span style=\"color:red\">Recomenda-se fortemente que os exercícios sejam feitos sem consultar as respostas antecipadamente.</span>\n",
    "\n",
    "---"
   ]
  },
  {
   "cell_type": "code",
   "execution_count": 2,
   "metadata": {},
   "outputs": [],
   "source": [
    "# carregando a biblioteca necessária\n",
    "import pandas as pd\n",
    "import numpy as np\n",
    "import matplotlib.pyplot as plt"
   ]
  },
  {
   "cell_type": "markdown",
   "metadata": {},
   "source": [
    "### Exercício 1)\n",
    "\n",
    "Considere a tabela com os dados a seguir\n",
    "\n",
    " username     | Primeiro Nome  | Sobrenome | Ano de nascimento | Foto\n",
    " :------ |:--------- |:----- | --- | --- \n",
    " joao@provider.com     | João | Oliveira | 1996 | foto1033.jpg\n",
    " bet89@hoster.net    | Elizabete | Costa Silva | 1989 | foto0010.jpg\n",
    " maria@internet.com.br | Maria Cláudia | Nunes de Souza | 1976 | foto2401.jpg\n",
    " \n",
    " De acordo com a definição de dados estruturados e não estruturados, esse conjunto de dados é\n",
    " \n",
    " (a) Estruturado<br>\n",
    " (b) Não-estruturado<br>\n",
    " (c) Estruturado quando não consideramos o atributo *Foto*<br>\n",
    " (d) Estruturado quando não consideramos os atributos *username* e *Foto*<br>\n",
    " \n",
    " Justifique sua escolha."
   ]
  },
  {
   "cell_type": "markdown",
   "metadata": {},
   "source": [
    "---\n",
    "\n",
    "### Exercício 2)\n",
    "\n",
    "São características de dados não-estruturados\n",
    "\n",
    " (a) Facilidade de versionamento, baixo controle de coleta, e inexistência de formato bem definido para armazenamento<br>\n",
    " (b) Alta dimensionalidade, armazenamento em formato binário ou textual, e alta flexibilidade na coleta dos dados<br>\n",
    " (c) Alta redundância, e informações fáceis de recuperar a partir dos dados brutos<br>\n",
    " (d) Inexistência de esquema de armazenamento e recuperação, e alto controle de integridade dos dados<br>\n",
    "\n"
   ]
  },
  {
   "cell_type": "markdown",
   "metadata": {},
   "source": [
    "---\n",
    "\n",
    "### Exercício 3)\n",
    "\n",
    "Considere as informações dadas a seguir:\n",
    "\n",
    "<img src=\"./imagens/foto_tabela2.jpg\" alt=\"tabela\" width=\"760\"/>\n",
    "\n",
    "Poderíamos dizer que os dados disponíveis nesse arquivo exibido são do tipo: \n",
    "\n",
    "(a) não estruturado<br>\n",
    "(b) estruturado\n",
    "\n",
    "Justifique sua resposta.\n"
   ]
  },
  {
   "cell_type": "markdown",
   "metadata": {},
   "source": [
    "---\n",
    "\n",
    "Para os próximos exercícios, vamos analise a base de dados dada pelo arquivo abaixo, que contém 100 linhas. Em particular vamos estudar os atributos \"Religion\", \"Profession\" e \"Year of Birth\", que possuem dados faltantes. Esses dados foram coletados de pessoas nascidas entre 1960 e 1998. Explore os atributos e dados utilizando estatística descritiva com `.describe()`, buscando pelo conjunto de valores únicos com `.unique()`, realizando contagem de frequência com `.value_counts()` (Atenção: o método `value_counts()` não mostra valores nulos/`nan`), agrupando valores com `.groupby()`.  Para além dessas sugestões, você pode explorar a base de dados com outras ferramentas, gráficos e buscas para responder."
   ]
  },
  {
   "cell_type": "code",
   "execution_count": 65,
   "metadata": {},
   "outputs": [],
   "source": [
    "data_m = pd.read_csv(\"./dados/TACTD-01-Missing.csv\")"
   ]
  },
  {
   "cell_type": "markdown",
   "metadata": {},
   "source": [
    "### Exercício 4)\n",
    "\n",
    "Explore o atributo Profession e escolha a opção que melhor descreve os dados incorretos e/ou faltantes:\n",
    "\n",
    "(a) há 2 dados faltantes<br>\n",
    "(b) há 8 dados faltantes, sendo 8 desses dados incorretos<br>\n",
    "(c) há 6 dados faltantes, sendo 2 desses dados incorretos<br>\n",
    "(d) há 8 dados faltantes, sendo 6 desses dados incorretos<br>\n"
   ]
  },
  {
   "cell_type": "code",
   "execution_count": 1,
   "metadata": {},
   "outputs": [],
   "source": [
    "# insira seu código exibindo a estatística descritiva e valores únicos para o atributo Profession\n"
   ]
  },
  {
   "cell_type": "markdown",
   "metadata": {},
   "source": [
    "### Exercício 5)\n",
    "\n",
    "Sobre o atributo Religion, busque por dados incorretos, corrigindo os que forem possível corrigir, e tornando nulos (`null`/`nan`) os que não forem passíveis de correção. Ao final temos, para essa variável em particular:\n",
    "\n",
    "(a) 1 dado incorreto corrigido, e 4 dados faltantes<br>\n",
    "(b) 1 dado incorreto corrigido, e 5 dados faltantes<br>\n",
    "(c) nenhum dado incorreto corrigido, e 6 dados faltantes<br>\n",
    "(d) nenhum dado incorreto corrigido, e 5 dados faltantes<br>\n"
   ]
  },
  {
   "cell_type": "code",
   "execution_count": 2,
   "metadata": {},
   "outputs": [],
   "source": [
    "# insira seu código explorando o atributo Religion\n"
   ]
  },
  {
   "cell_type": "markdown",
   "metadata": {},
   "source": [
    "### Exercício 6)\n",
    "\n",
    "Você recebeu informação do especialista que participou da coleta, que os dados contém profissionais nascidos entre 1960 e 2000. Sobre o atributo Year of Birth, realize uma análise exploratória, buscando por dados incorretos e faltantes. Corrija os que for possível corrigir. Após o tratamento, responda qual(is) tipo(s) de dados faltantes são mais plausíveis com base nos dados.\n",
    "\n",
    "(a) não há dados faltantes após a correção<br>\n",
    "(b) faltantes completamente aleatórios (MCAR) <br>\n",
    "(c) faltantes (condicionalmente) aleatórios (MAR)<br>\n",
    "(d) não aleatório (MNAR)<br>\n",
    "\n",
    "Dica: como o atributo é numérico, pode ser útil utilizar histograma (`df['var'].hist()`) para visualizar a distribuição dos anos de nascimento."
   ]
  },
  {
   "cell_type": "code",
   "execution_count": 3,
   "metadata": {},
   "outputs": [],
   "source": [
    "# insira seu código explorando o atributo Year of Birth\n"
   ]
  },
  {
   "cell_type": "markdown",
   "metadata": {},
   "source": [
    "---\n",
    "Para os próximos exercícios vamos usar outra base de dados conforme carregada abaixo. Para os próximos exercícios, o uso de `boxplot()` e `hist()` pode ser útil, "
   ]
  },
  {
   "cell_type": "code",
   "execution_count": 127,
   "metadata": {
    "scrolled": true
   },
   "outputs": [],
   "source": [
    "data2 = pd.read_csv(\"./dados/TACTD-01-Redundant-Outlier.csv\") "
   ]
  },
  {
   "cell_type": "markdown",
   "metadata": {},
   "source": [
    "### Exercício 7)\n",
    "\n",
    "Sabendo que o salário médio da base dos profissionais da área de saúde (Enfermeiros) é 50 mil, explore essa variável. De acordo com a análise do intervalo interquartil utilizada visualmente pelo gráfico de caixa, quantos valores podem ser considerados outliers?\n",
    "\n",
    "(a) 6<br>\n",
    "(b) 4<br>\n",
    "(c) 3<br>\n",
    "(d) 2<br>\n"
   ]
  },
  {
   "cell_type": "markdown",
   "metadata": {},
   "source": [
    "### Exercício 8)\n",
    "\n",
    "Analise os outliers obtidos na questão anterior, em particular os outliers que estão ACIMA (com valores maiores) do que a maior parte dos salários. Analise esses dados com relação aos atributos: Sex e City. Com base nessa análise, podemos dizer que esses outliers são\n",
    "\n",
    "(a) Globais ou pontuais<br>\n",
    "(b) Contextuais com base no atributo Sex<br>\n",
    "(c) Contextuais com base no atributo City<br>\n",
    "(d) Coletivos com base no atributo Sex<br>\n",
    "\n",
    "Dica: agrupe (`groupby`) estatísticas de salário com base nos atributos Sex e City.\n"
   ]
  },
  {
   "cell_type": "markdown",
   "metadata": {},
   "source": [
    "---\n",
    "## Exercício 9) \n",
    "\n",
    "Analise os atributos categóricos 'Sex' e 'Country of Birth' da base de dados. Assuma que queremos fazer uma análise cuja variável alvo será um desses atributos. Nesse caso podemos dizer que:\n",
    "\n",
    "(a) Country of Birth é desbalanceado<br>\n",
    "(b) Sex é desbalanceado<br>\n",
    "(c) Country of Birth e Sex são desbalanceados<br>\n",
    "(d) Nenhum dos atributos é desbalanceado<br>"
   ]
  },
  {
   "cell_type": "markdown",
   "metadata": {},
   "source": [
    "---\n",
    "## Exercício 10) \n",
    "\n",
    "Verifique se há redundância em termos de: (i) linhas duplicadas, e (ii) atributos constantes e redundantes. Qual o resultado dessa análise?\n",
    "\n",
    "(a) 4 linhas duplicadas; atributo constante: Profession; atributo redundante: Age<br>\n",
    "(b) 4 linhas duplicadas; atributo constante: Age; atributo redundante: Sex<br>\n",
    "(c) 3 linhas duplicadas; atributo constante: Profession; atributo redundante: City<br>\n",
    "(d) 3 linhas duplicadas; atributo constante: Name; atributo redundante: Year of Birth<br>"
   ]
  },
  {
   "cell_type": "code",
   "execution_count": null,
   "metadata": {},
   "outputs": [],
   "source": []
  }
 ],
 "metadata": {
  "kernelspec": {
   "display_name": "Python 3 (ipykernel)",
   "language": "python",
   "name": "python3"
  },
  "language_info": {
   "codemirror_mode": {
    "name": "ipython",
    "version": 3
   },
   "file_extension": ".py",
   "mimetype": "text/x-python",
   "name": "python",
   "nbconvert_exporter": "python",
   "pygments_lexer": "ipython3",
   "version": "3.10.2"
  }
 },
 "nbformat": 4,
 "nbformat_minor": 4
}
