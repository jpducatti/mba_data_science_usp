{
 "cells": [
  {
   "cell_type": "markdown",
   "metadata": {},
   "source": [
    "# MBA em Ciência de Dados\n",
    "# Técnicas Avançadas de Captura e Tratamento de Dados\n",
    "\n",
    "### <span style=\"color:darkred\">Dados estruturados e não estruturados e problemas típicos em bases de dados</span>\n",
    "\n",
    "\n",
    "## <span style=\"color:darkred\">Desbalanceamento e Redundância</span>\n",
    "\n",
    "Material Produzido por Moacir Antonelli Ponti\n",
    "\n",
    "CeMEAI - ICMC/USP São Carlos\n",
    "\n",
    "--- "
   ]
  },
  {
   "cell_type": "markdown",
   "metadata": {},
   "source": [
    "![desbalanceamento](imagens/desbalanceamento.jpg)"
   ]
  },
  {
   "cell_type": "markdown",
   "metadata": {},
   "source": [
    "**Desbalanceamento ocorre quando** temos mais dados representando certos  eventos, e muito menos de outros.\n",
    "\n",
    "Em problemas de **regressão** por exemplo isso significa:\n",
    "- há mais dados em um determinado intervalo de valores do que em outros\n",
    "\n",
    "Em problemas de **classificação**\n",
    "- uma variável categórica possui frequência de valores muito diferentes entre si"
   ]
  },
  {
   "cell_type": "code",
   "execution_count": 1,
   "metadata": {},
   "outputs": [
    {
     "name": "stdout",
     "output_type": "stream",
     "text": [
      "Número de observacoes na base de dados:  76\n"
     ]
    }
   ],
   "source": [
    "import numpy as np\n",
    "import matplotlib.pyplot as plt\n",
    "import pandas as pd\n",
    "\n",
    "data = pd.read_csv(\"./dados/TACTD-01-Desbalanceamento.csv\")\n",
    "\n",
    "print(\"Número de observacoes na base de dados: \", data.shape[0])"
   ]
  },
  {
   "cell_type": "code",
   "execution_count": 2,
   "metadata": {},
   "outputs": [
    {
     "data": {
      "image/png": "[encoded data removed]",
      "text/plain": [
       "<Figure size 432x288 with 1 Axes>"
      ]
     },
     "metadata": {
      "needs_background": "light"
     },
     "output_type": "display_data"
    }
   ],
   "source": [
    "plot = plt.plot(data['Gestational age'], data['Weight'], '.')"
   ]
  },
  {
   "cell_type": "markdown",
   "metadata": {},
   "source": [
    "No intervalo entre 32 e 35 temos menos observações do que de 36 e superior\n",
    "\n"
   ]
  },
  {
   "cell_type": "code",
   "execution_count": 3,
   "metadata": {
    "scrolled": true
   },
   "outputs": [
    {
     "data": {
      "text/plain": [
       "F    58\n",
       "M    18\n",
       "Name: Sex, dtype: int64"
      ]
     },
     "execution_count": 3,
     "metadata": {},
     "output_type": "execute_result"
    }
   ],
   "source": [
    "data['Sex'].value_counts()"
   ]
  },
  {
   "cell_type": "code",
   "execution_count": 5,
   "metadata": {},
   "outputs": [],
   "source": [
    "cont = data['Sex'].value_counts()\n",
    "\n",
    "# relacao entre classe majoritaria e minoritaria\n",
    "ratio = np.round((cont[1]/cont[0])*10,1)\n",
    "\n",
    "# percentual\n",
    "perce = (np.min(cont)/data.shape[0])*100"
   ]
  },
  {
   "cell_type": "code",
   "execution_count": 5,
   "metadata": {},
   "outputs": [
    {
     "name": "stdout",
     "output_type": "stream",
     "text": [
      "Problema com relaçao 1:3.1\n",
      "Classe minoritária com frequência: 23.7%\n"
     ]
    }
   ],
   "source": [
    "print('Problema com relaçao 1:'+str(ratio))\n",
    "print('Classe minoritária com frequência: %.1f%%' % (perce)) "
   ]
  },
  {
   "cell_type": "markdown",
   "metadata": {},
   "source": [
    "O **desbalanceamento** pode representar:\n",
    "* a probabilidade *a priori* dos dados, ou seja, a frequência real dos eventos \n",
    "* um problema de amostragem do conjunto de dados\n",
    "\n",
    "A depender do caso, será preciso coletar mais dados ou recorrer a métodos para compensar esse desbalanceamento!"
   ]
  },
  {
   "cell_type": "markdown",
   "metadata": {},
   "source": [
    "---\n",
    "## Redundância\n",
    "\n",
    "A redundância mais comum ocorre em:\n",
    "* linhas duplicadas\n",
    "* atributos constantes"
   ]
  },
  {
   "cell_type": "code",
   "execution_count": 8,
   "metadata": {},
   "outputs": [
    {
     "data": {
      "text/html": [
       "<div>\n",
       "<style scoped>\n",
       "    .dataframe tbody tr th:only-of-type {\n",
       "        vertical-align: middle;\n",
       "    }\n",
       "\n",
       "    .dataframe tbody tr th {\n",
       "        vertical-align: top;\n",
       "    }\n",
       "\n",
       "    .dataframe thead th {\n",
       "        text-align: right;\n",
       "    }\n",
       "</style>\n",
       "<table border=\"1\" class=\"dataframe\">\n",
       "  <thead>\n",
       "    <tr style=\"text-align: right;\">\n",
       "      <th></th>\n",
       "      <th>Sex</th>\n",
       "      <th>Gestational age</th>\n",
       "      <th>Month</th>\n",
       "      <th>Year</th>\n",
       "      <th>Weight</th>\n",
       "      <th>Hospital</th>\n",
       "    </tr>\n",
       "  </thead>\n",
       "  <tbody>\n",
       "    <tr>\n",
       "      <th>9</th>\n",
       "      <td>F</td>\n",
       "      <td>38</td>\n",
       "      <td>12</td>\n",
       "      <td>2016</td>\n",
       "      <td>3770</td>\n",
       "      <td>St Mary</td>\n",
       "    </tr>\n",
       "    <tr>\n",
       "      <th>23</th>\n",
       "      <td>F</td>\n",
       "      <td>38</td>\n",
       "      <td>12</td>\n",
       "      <td>2016</td>\n",
       "      <td>3770</td>\n",
       "      <td>St Mary</td>\n",
       "    </tr>\n",
       "    <tr>\n",
       "      <th>40</th>\n",
       "      <td>M</td>\n",
       "      <td>38</td>\n",
       "      <td>2</td>\n",
       "      <td>2017</td>\n",
       "      <td>4020</td>\n",
       "      <td>St Mary</td>\n",
       "    </tr>\n",
       "    <tr>\n",
       "      <th>57</th>\n",
       "      <td>F</td>\n",
       "      <td>40</td>\n",
       "      <td>3</td>\n",
       "      <td>2017</td>\n",
       "      <td>4000</td>\n",
       "      <td>St Mary</td>\n",
       "    </tr>\n",
       "    <tr>\n",
       "      <th>62</th>\n",
       "      <td>F</td>\n",
       "      <td>39</td>\n",
       "      <td>4</td>\n",
       "      <td>2017</td>\n",
       "      <td>4010</td>\n",
       "      <td>St Mary</td>\n",
       "    </tr>\n",
       "  </tbody>\n",
       "</table>\n",
       "</div>"
      ],
      "text/plain": [
       "   Sex  Gestational age  Month  Year  Weight Hospital\n",
       "9    F               38     12  2016    3770  St Mary\n",
       "23   F               38     12  2016    3770  St Mary\n",
       "40   M               38      2  2017    4020  St Mary\n",
       "57   F               40      3  2017    4000  St Mary\n",
       "62   F               39      4  2017    4010  St Mary"
      ]
     },
     "execution_count": 8,
     "metadata": {},
     "output_type": "execute_result"
    }
   ],
   "source": [
    "data[data.duplicated()]"
   ]
  },
  {
   "cell_type": "code",
   "execution_count": 6,
   "metadata": {},
   "outputs": [
    {
     "name": "stdout",
     "output_type": "stream",
     "text": [
      "Sex\n",
      "Valores únicos: ['F' 'M'] \n",
      "\n",
      "Gestational age\n",
      "Valores únicos: [38 39 42 36 40 37 41 33 43 32 35] \n",
      "\n",
      "Month\n",
      "Valores únicos: [12  1  2  3  4  5] \n",
      "\n",
      "Year\n",
      "Valores únicos: [2016 2017] \n",
      "\n",
      "Weight\n",
      "Valores únicos: [3740 4130 4250 3990 3760 3360 4020 3770 4150 4040 3630 4200 3710 3510\n",
      " 3910 4110 3860 3970 3840 3480 3950 3410 3870 3660 3570 3590 4120 3640\n",
      " 3530 3540 3650 4240 4000 3560 4370 3700 3820 3850 3290 3890 3550 3490\n",
      " 3620 4510 4050 4010 3830 4320 3980 4030 3780 3580 4070 3670] \n",
      "\n",
      "Hospital\n",
      "Valores únicos: ['St Mary'] \n",
      "\n"
     ]
    }
   ],
   "source": [
    "for var in data:\n",
    "    print(var)\n",
    "    print('Valores únicos:', data[var].unique(), '\\n')"
   ]
  },
  {
   "cell_type": "markdown",
   "metadata": {},
   "source": [
    "Linhas duplicadas e atributos contendo o mesmo valor para todas as linhas são comumente desnecessários e podem ser removidos"
   ]
  },
  {
   "cell_type": "markdown",
   "metadata": {},
   "source": [
    "---\n",
    "## Resumo\n",
    "\n",
    "* Desbalanceamento ocorre naturalmente ou ocasionado por problemas de amostragem\n",
    "    * Pode afetar intervalos de valores ou frequência de determinados valores\n",
    "* Redundância de dados ocorre pela duplicação de instâncias/linhas ou irrelevância de atributos/variáveis com relação a adicionar informação útil para análise do problema"
   ]
  }
 ],
 "metadata": {
  "kernelspec": {
   "display_name": "Python 3 (ipykernel)",
   "language": "python",
   "name": "python3"
  },
  "language_info": {
   "codemirror_mode": {
    "name": "ipython",
    "version": 3
   },
   "file_extension": ".py",
   "mimetype": "text/x-python",
   "name": "python",
   "nbconvert_exporter": "python",
   "pygments_lexer": "ipython3",
   "version": "3.9.7"
  }
 },
 "nbformat": 4,
 "nbformat_minor": 4
}
