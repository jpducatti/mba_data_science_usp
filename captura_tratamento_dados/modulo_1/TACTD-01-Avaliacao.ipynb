{
 "cells": [
  {
   "cell_type": "markdown",
   "metadata": {},
   "source": [
    "# MBA em Ciência de Dados\n",
    "# Técnicas Avançadas de Captura e Tratamento de Dados\n",
    "\n",
    "### <span style=\"color:darkred\">Módulo I - Dados Estruturados, Não Estruturados e problemas típicos em bases de dados</span>\n",
    "\n",
    "\n",
    "## <span style=\"color:darkred\">Avaliação com soluções</span>\n",
    "\n",
    "Moacir Antonelli Ponti\n",
    "\n",
    "CeMEAI - ICMC/USP São Carlos\n",
    "\n",
    "\n",
    "---"
   ]
  },
  {
   "cell_type": "code",
   "execution_count": 1,
   "metadata": {},
   "outputs": [],
   "source": [
    "# carregando a biblioteca necessária\n",
    "import pandas as pd\n",
    "import matplotlib.pyplot as plt\n",
    "import numpy as np"
   ]
  },
  {
   "cell_type": "markdown",
   "metadata": {},
   "source": [
    "\n",
    "Considere a base de dados disponível em `TACTD-01-Base.csv`. Essa base contém dados de profissionais da área da saúde incluindo: nome, sexo, ano de nascimento, religião, país e cidade de residência, número de anos de experiência (reportado pelo profissional), salário e ano do primeiro emprego (esse último é obtido subtraindo o ano de 2022 pelos anos de experiência). A cada questão, recarregue os dados para que ações realizadas numa questão não influencie nas outras."
   ]
  },
  {
   "cell_type": "markdown",
   "metadata": {},
   "source": [
    "### Questão 1)\n",
    "\n",
    "Considere a base de dados disponível em `TACTD-01-Base.csv`. Analise o atributo 'Sex' buscando por dados incorretos, considerando que são corretos apenas 'F' e 'M' (em letras maiúsculas). Corrija os que forem possível corrigir. Após o tratamento, com relação aos dados faltantes no atributo 'Sex', i.e. linhas que não sejam 'F' nem 'M', podemos dizer que:\n",
    " \n",
    " (a) São do tipo completamente aleatório (MCAR)<br>\n",
    " (b) São do tipo (condicionalmente) aleatório (MAR)<br>\n",
    " (c) São do tipo não aleatório<br>\n",
    " (d) Não há dados faltantes<br>"
   ]
  },
  {
   "cell_type": "code",
   "execution_count": 34,
   "metadata": {},
   "outputs": [
    {
     "name": "stdout",
     "output_type": "stream",
     "text": [
      "Nr de observações do Dataframe:  105\n"
     ]
    },
    {
     "data": {
      "text/html": [
       "<div>\n",
       "<style scoped>\n",
       "    .dataframe tbody tr th:only-of-type {\n",
       "        vertical-align: middle;\n",
       "    }\n",
       "\n",
       "    .dataframe tbody tr th {\n",
       "        vertical-align: top;\n",
       "    }\n",
       "\n",
       "    .dataframe thead th {\n",
       "        text-align: right;\n",
       "    }\n",
       "</style>\n",
       "<table border=\"1\" class=\"dataframe\">\n",
       "  <thead>\n",
       "    <tr style=\"text-align: right;\">\n",
       "      <th></th>\n",
       "      <th>Name</th>\n",
       "      <th>Sex</th>\n",
       "      <th>Year of Birth</th>\n",
       "      <th>Country of Residency</th>\n",
       "      <th>Religion</th>\n",
       "      <th>City</th>\n",
       "      <th>Profession</th>\n",
       "      <th>Years of Experience</th>\n",
       "      <th>Salary</th>\n",
       "      <th>Year first employment</th>\n",
       "    </tr>\n",
       "  </thead>\n",
       "  <tbody>\n",
       "    <tr>\n",
       "      <th>0</th>\n",
       "      <td>Albert Keller</td>\n",
       "      <td>M</td>\n",
       "      <td>1979</td>\n",
       "      <td>USA</td>\n",
       "      <td>Buddhist</td>\n",
       "      <td>New Orleans</td>\n",
       "      <td>Nurse</td>\n",
       "      <td>15.0</td>\n",
       "      <td>58905.7</td>\n",
       "      <td>2006.0</td>\n",
       "    </tr>\n",
       "    <tr>\n",
       "      <th>1</th>\n",
       "      <td>Alexandre Ronaldo</td>\n",
       "      <td>NaN</td>\n",
       "      <td>1980</td>\n",
       "      <td>United Arab Emirates</td>\n",
       "      <td>Christian</td>\n",
       "      <td>Dubai</td>\n",
       "      <td>Nurse</td>\n",
       "      <td>13.0</td>\n",
       "      <td>32000.5</td>\n",
       "      <td>2008.0</td>\n",
       "    </tr>\n",
       "    <tr>\n",
       "      <th>2</th>\n",
       "      <td>Alton Thornton</td>\n",
       "      <td>M</td>\n",
       "      <td>1984</td>\n",
       "      <td>Canada</td>\n",
       "      <td>----</td>\n",
       "      <td>Vancouver</td>\n",
       "      <td>Nurse</td>\n",
       "      <td>3.0</td>\n",
       "      <td>50940.0</td>\n",
       "      <td>2018.0</td>\n",
       "    </tr>\n",
       "  </tbody>\n",
       "</table>\n",
       "</div>"
      ],
      "text/plain": [
       "                Name  Sex  Year of Birth  Country of Residency   Religion  \\\n",
       "0      Albert Keller    M           1979                   USA   Buddhist   \n",
       "1  Alexandre Ronaldo  NaN           1980  United Arab Emirates  Christian   \n",
       "2     Alton Thornton    M           1984                Canada       ----   \n",
       "\n",
       "          City Profession  Years of Experience   Salary  Year first employment  \n",
       "0  New Orleans      Nurse                 15.0  58905.7                 2006.0  \n",
       "1        Dubai      Nurse                 13.0  32000.5                 2008.0  \n",
       "2    Vancouver      Nurse                  3.0  50940.0                 2018.0  "
      ]
     },
     "execution_count": 34,
     "metadata": {},
     "output_type": "execute_result"
    }
   ],
   "source": [
    "df = pd.read_csv(\"./dados/TACTD-01-Base.csv\")\n",
    "\n",
    "print('Nr de observações do Dataframe: ', df.shape[0])\n",
    "df.head(3)"
   ]
  },
  {
   "cell_type": "code",
   "execution_count": 35,
   "metadata": {},
   "outputs": [
    {
     "data": {
      "text/plain": [
       "array(['M', nan, 'F', 'm', '---', 'f'], dtype=object)"
      ]
     },
     "execution_count": 35,
     "metadata": {},
     "output_type": "execute_result"
    }
   ],
   "source": [
    "# identificando os tipos de observações no atributo Sex\n",
    "df['Sex'].unique()"
   ]
  },
  {
   "cell_type": "code",
   "execution_count": 36,
   "metadata": {},
   "outputs": [
    {
     "data": {
      "text/plain": [
       "array(['M', nan, 'F', '---'], dtype=object)"
      ]
     },
     "execution_count": 36,
     "metadata": {},
     "output_type": "execute_result"
    }
   ],
   "source": [
    "#corrigindo os valores m e f para M e F, respectivamente\n",
    "df.loc[df['Sex'] == 'm', 'Sex'] = 'M'\n",
    "df.loc[df['Sex'] == 'f', 'Sex'] = 'F'\n",
    "\n",
    "df['Sex'].unique()"
   ]
  },
  {
   "cell_type": "code",
   "execution_count": 37,
   "metadata": {},
   "outputs": [
    {
     "name": "stdout",
     "output_type": "stream",
     "text": [
      "Numero de observações faltante:  6\n"
     ]
    },
    {
     "data": {
      "text/html": [
       "<div>\n",
       "<style scoped>\n",
       "    .dataframe tbody tr th:only-of-type {\n",
       "        vertical-align: middle;\n",
       "    }\n",
       "\n",
       "    .dataframe tbody tr th {\n",
       "        vertical-align: top;\n",
       "    }\n",
       "\n",
       "    .dataframe thead th {\n",
       "        text-align: right;\n",
       "    }\n",
       "</style>\n",
       "<table border=\"1\" class=\"dataframe\">\n",
       "  <thead>\n",
       "    <tr style=\"text-align: right;\">\n",
       "      <th></th>\n",
       "      <th>Name</th>\n",
       "      <th>Sex</th>\n",
       "      <th>Year of Birth</th>\n",
       "      <th>Country of Residency</th>\n",
       "      <th>Religion</th>\n",
       "      <th>City</th>\n",
       "      <th>Profession</th>\n",
       "      <th>Years of Experience</th>\n",
       "      <th>Salary</th>\n",
       "      <th>Year first employment</th>\n",
       "    </tr>\n",
       "  </thead>\n",
       "  <tbody>\n",
       "    <tr>\n",
       "      <th>1</th>\n",
       "      <td>Alexandre Ronaldo</td>\n",
       "      <td>NaN</td>\n",
       "      <td>1980</td>\n",
       "      <td>United Arab Emirates</td>\n",
       "      <td>Christian</td>\n",
       "      <td>Dubai</td>\n",
       "      <td>Nurse</td>\n",
       "      <td>13.0</td>\n",
       "      <td>32000.5</td>\n",
       "      <td>2008.0</td>\n",
       "    </tr>\n",
       "    <tr>\n",
       "      <th>10</th>\n",
       "      <td>Ariel Almada</td>\n",
       "      <td>NaN</td>\n",
       "      <td>1950</td>\n",
       "      <td>Portugal</td>\n",
       "      <td>Christian</td>\n",
       "      <td>Lisbon</td>\n",
       "      <td>Nurse</td>\n",
       "      <td>45.0</td>\n",
       "      <td>47150.7</td>\n",
       "      <td>1976.0</td>\n",
       "    </tr>\n",
       "    <tr>\n",
       "      <th>25</th>\n",
       "      <td>Elias Elmo</td>\n",
       "      <td>NaN</td>\n",
       "      <td>1970</td>\n",
       "      <td>Portugal</td>\n",
       "      <td>Christian</td>\n",
       "      <td>Lisbon</td>\n",
       "      <td>Nurse</td>\n",
       "      <td>20.0</td>\n",
       "      <td>48244.9</td>\n",
       "      <td>2001.0</td>\n",
       "    </tr>\n",
       "    <tr>\n",
       "      <th>26</th>\n",
       "      <td>Elisa Cain</td>\n",
       "      <td>NaN</td>\n",
       "      <td>1984</td>\n",
       "      <td>Portugal</td>\n",
       "      <td>Christian</td>\n",
       "      <td>Lisbon</td>\n",
       "      <td>Nurse</td>\n",
       "      <td>5.0</td>\n",
       "      <td>48708.4</td>\n",
       "      <td>2016.0</td>\n",
       "    </tr>\n",
       "    <tr>\n",
       "      <th>71</th>\n",
       "      <td>Miriam Riley</td>\n",
       "      <td>NaN</td>\n",
       "      <td>1970</td>\n",
       "      <td>Portugal</td>\n",
       "      <td>Christian</td>\n",
       "      <td>Lisbon</td>\n",
       "      <td>Nurse</td>\n",
       "      <td>16.0</td>\n",
       "      <td>53965.6</td>\n",
       "      <td>2005.0</td>\n",
       "    </tr>\n",
       "    <tr>\n",
       "      <th>80</th>\n",
       "      <td>Ramon West</td>\n",
       "      <td>NaN</td>\n",
       "      <td>1984</td>\n",
       "      <td>Portugal</td>\n",
       "      <td>Christian</td>\n",
       "      <td>Lisbon</td>\n",
       "      <td>Nurse</td>\n",
       "      <td>NaN</td>\n",
       "      <td>47240.7</td>\n",
       "      <td>NaN</td>\n",
       "    </tr>\n",
       "  </tbody>\n",
       "</table>\n",
       "</div>"
      ],
      "text/plain": [
       "                 Name  Sex  Year of Birth  Country of Residency   Religion  \\\n",
       "1   Alexandre Ronaldo  NaN           1980  United Arab Emirates  Christian   \n",
       "10       Ariel Almada  NaN           1950              Portugal  Christian   \n",
       "25         Elias Elmo  NaN           1970              Portugal  Christian   \n",
       "26         Elisa Cain  NaN           1984              Portugal  Christian   \n",
       "71       Miriam Riley  NaN           1970              Portugal  Christian   \n",
       "80         Ramon West  NaN           1984              Portugal  Christian   \n",
       "\n",
       "      City Profession  Years of Experience   Salary  Year first employment  \n",
       "1    Dubai      Nurse                 13.0  32000.5                 2008.0  \n",
       "10  Lisbon      Nurse                 45.0  47150.7                 1976.0  \n",
       "25  Lisbon      Nurse                 20.0  48244.9                 2001.0  \n",
       "26  Lisbon      Nurse                  5.0  48708.4                 2016.0  \n",
       "71  Lisbon      Nurse                 16.0  53965.6                 2005.0  \n",
       "80  Lisbon      Nurse                  NaN  47240.7                    NaN  "
      ]
     },
     "execution_count": 37,
     "metadata": {},
     "output_type": "execute_result"
    }
   ],
   "source": [
    "# Nr de dados faltantes, após correção de m e f em Sex\n",
    "count_number = df['Sex'].describe()[0]\n",
    "count_nan = (count_number - df.shape[0]) *-1\n",
    "\n",
    "print('Numero de observações faltante: ',count_nan)\n",
    "df[df['Sex'].isnull()]\n"
   ]
  },
  {
   "cell_type": "code",
   "execution_count": 41,
   "metadata": {},
   "outputs": [
    {
     "data": {
      "text/plain": [
       "F      52\n",
       "M      46\n",
       "---     1\n",
       "Name: Sex, dtype: int64"
      ]
     },
     "execution_count": 41,
     "metadata": {},
     "output_type": "execute_result"
    }
   ],
   "source": [
    "#observações em Sex que não são F ou M\n",
    "df['Sex'].value_counts()"
   ]
  },
  {
   "cell_type": "code",
   "execution_count": 43,
   "metadata": {},
   "outputs": [
    {
     "data": {
      "text/html": [
       "<div>\n",
       "<style scoped>\n",
       "    .dataframe tbody tr th:only-of-type {\n",
       "        vertical-align: middle;\n",
       "    }\n",
       "\n",
       "    .dataframe tbody tr th {\n",
       "        vertical-align: top;\n",
       "    }\n",
       "\n",
       "    .dataframe thead th {\n",
       "        text-align: right;\n",
       "    }\n",
       "</style>\n",
       "<table border=\"1\" class=\"dataframe\">\n",
       "  <thead>\n",
       "    <tr style=\"text-align: right;\">\n",
       "      <th></th>\n",
       "      <th>Name</th>\n",
       "      <th>Sex</th>\n",
       "      <th>Year of Birth</th>\n",
       "      <th>Country of Residency</th>\n",
       "      <th>Religion</th>\n",
       "      <th>City</th>\n",
       "      <th>Profession</th>\n",
       "      <th>Years of Experience</th>\n",
       "      <th>Salary</th>\n",
       "      <th>Year first employment</th>\n",
       "    </tr>\n",
       "  </thead>\n",
       "  <tbody>\n",
       "    <tr>\n",
       "      <th>34</th>\n",
       "      <td>Gabriel Paiva</td>\n",
       "      <td>---</td>\n",
       "      <td>1981</td>\n",
       "      <td>Portugal</td>\n",
       "      <td>Christian</td>\n",
       "      <td>Lisbon</td>\n",
       "      <td>Nurse</td>\n",
       "      <td>3.0</td>\n",
       "      <td>47973.3</td>\n",
       "      <td>2018.0</td>\n",
       "    </tr>\n",
       "  </tbody>\n",
       "</table>\n",
       "</div>"
      ],
      "text/plain": [
       "             Name  Sex  Year of Birth Country of Residency   Religion    City  \\\n",
       "34  Gabriel Paiva  ---           1981             Portugal  Christian  Lisbon   \n",
       "\n",
       "   Profession  Years of Experience   Salary  Year first employment  \n",
       "34      Nurse                  3.0  47973.3                 2018.0  "
      ]
     },
     "execution_count": 43,
     "metadata": {},
     "output_type": "execute_result"
    }
   ],
   "source": [
    "df[df['Sex'] == '---']"
   ]
  },
  {
   "cell_type": "code",
   "execution_count": 42,
   "metadata": {},
   "outputs": [
    {
     "name": "stdout",
     "output_type": "stream",
     "text": [
      "Nr de dados faltantes + erro:  7\n"
     ]
    }
   ],
   "source": [
    "#nr de dados faltantes + dados errados\n",
    "count_faltante = count_nan + df['Sex'].value_counts()[2]\n",
    "\n",
    "print('Nr de dados faltantes + erro: ',count_faltante)"
   ]
  },
  {
   "cell_type": "code",
   "execution_count": 51,
   "metadata": {},
   "outputs": [
    {
     "name": "stdout",
     "output_type": "stream",
     "text": [
      "RESPOSTA = Com base na análise visual fica claro que é um caso de MAR, com relação a variável de geolocalização\n"
     ]
    }
   ],
   "source": [
    "print('RESPOSTA = Com base na análise visual fica claro que é um caso de MAR, com relação a variável de geolocalização')"
   ]
  },
  {
   "cell_type": "markdown",
   "metadata": {},
   "source": [
    "---\n",
    "\n",
    "### Questão 2)\n",
    "\n",
    "Considere a base de dados disponível em `TACTD-01-Base.csv`, e analise os dados no atributo 'Religion' por dados incorretos. Marque como nulos/nans os incorretos não passíveis de correção. Esse atributo possui os seguintes problemas:\n",
    "\n",
    " (a) 9 dados faltantes, sendo desses 5 inicialmente errôneos, nenhum corrigido<br>\n",
    " (b) 4 dados faltantes, sendo desses 4 inicialmente errôneos, 5 dados corrigidos<br>\n",
    " (c) 4 dados faltantes, sendo desses 2 inicialmente errôneos, 2 dados corrigidos<br>\n",
    " (d) 9 dados faltantes, sendo desses 4 inicialmente errôneos, 5 dados corrigidos<br>\n"
   ]
  },
  {
   "cell_type": "code",
   "execution_count": 52,
   "metadata": {},
   "outputs": [
    {
     "data": {
      "text/html": [
       "<div>\n",
       "<style scoped>\n",
       "    .dataframe tbody tr th:only-of-type {\n",
       "        vertical-align: middle;\n",
       "    }\n",
       "\n",
       "    .dataframe tbody tr th {\n",
       "        vertical-align: top;\n",
       "    }\n",
       "\n",
       "    .dataframe thead th {\n",
       "        text-align: right;\n",
       "    }\n",
       "</style>\n",
       "<table border=\"1\" class=\"dataframe\">\n",
       "  <thead>\n",
       "    <tr style=\"text-align: right;\">\n",
       "      <th></th>\n",
       "      <th>Name</th>\n",
       "      <th>Sex</th>\n",
       "      <th>Year of Birth</th>\n",
       "      <th>Country of Residency</th>\n",
       "      <th>Religion</th>\n",
       "      <th>City</th>\n",
       "      <th>Profession</th>\n",
       "      <th>Years of Experience</th>\n",
       "      <th>Salary</th>\n",
       "      <th>Year first employment</th>\n",
       "    </tr>\n",
       "  </thead>\n",
       "  <tbody>\n",
       "    <tr>\n",
       "      <th>0</th>\n",
       "      <td>Albert Keller</td>\n",
       "      <td>M</td>\n",
       "      <td>1979</td>\n",
       "      <td>USA</td>\n",
       "      <td>Buddhist</td>\n",
       "      <td>New Orleans</td>\n",
       "      <td>Nurse</td>\n",
       "      <td>15.0</td>\n",
       "      <td>58905.7</td>\n",
       "      <td>2006.0</td>\n",
       "    </tr>\n",
       "    <tr>\n",
       "      <th>1</th>\n",
       "      <td>Alexandre Ronaldo</td>\n",
       "      <td>NaN</td>\n",
       "      <td>1980</td>\n",
       "      <td>United Arab Emirates</td>\n",
       "      <td>Christian</td>\n",
       "      <td>Dubai</td>\n",
       "      <td>Nurse</td>\n",
       "      <td>13.0</td>\n",
       "      <td>32000.5</td>\n",
       "      <td>2008.0</td>\n",
       "    </tr>\n",
       "    <tr>\n",
       "      <th>2</th>\n",
       "      <td>Alton Thornton</td>\n",
       "      <td>M</td>\n",
       "      <td>1984</td>\n",
       "      <td>Canada</td>\n",
       "      <td>----</td>\n",
       "      <td>Vancouver</td>\n",
       "      <td>Nurse</td>\n",
       "      <td>3.0</td>\n",
       "      <td>50940.0</td>\n",
       "      <td>2018.0</td>\n",
       "    </tr>\n",
       "  </tbody>\n",
       "</table>\n",
       "</div>"
      ],
      "text/plain": [
       "                Name  Sex  Year of Birth  Country of Residency   Religion  \\\n",
       "0      Albert Keller    M           1979                   USA   Buddhist   \n",
       "1  Alexandre Ronaldo  NaN           1980  United Arab Emirates  Christian   \n",
       "2     Alton Thornton    M           1984                Canada       ----   \n",
       "\n",
       "          City Profession  Years of Experience   Salary  Year first employment  \n",
       "0  New Orleans      Nurse                 15.0  58905.7                 2006.0  \n",
       "1        Dubai      Nurse                 13.0  32000.5                 2008.0  \n",
       "2    Vancouver      Nurse                  3.0  50940.0                 2018.0  "
      ]
     },
     "execution_count": 52,
     "metadata": {},
     "output_type": "execute_result"
    }
   ],
   "source": [
    "df = pd.read_csv(\"./dados/TACTD-01-Base.csv\")\n",
    "df.head(3)"
   ]
  },
  {
   "cell_type": "code",
   "execution_count": 54,
   "metadata": {},
   "outputs": [
    {
     "data": {
      "text/plain": [
       "array(['Buddhist', 'Christian', '----', nan, 'Jew', 'd', '[', '1', 'Ac%#'],\n",
       "      dtype=object)"
      ]
     },
     "execution_count": 54,
     "metadata": {},
     "output_type": "execute_result"
    }
   ],
   "source": [
    "## valores no atributo religion\n",
    "df['Religion'].unique()"
   ]
  },
  {
   "cell_type": "code",
   "execution_count": 61,
   "metadata": {},
   "outputs": [
    {
     "data": {
      "text/plain": [
       "Christian    87\n",
       "Buddhist      5\n",
       "Jew           4\n",
       "----          1\n",
       "d             1\n",
       "[             1\n",
       "1             1\n",
       "Ac%#          1\n",
       "Name: Religion, dtype: int64"
      ]
     },
     "execution_count": 61,
     "metadata": {},
     "output_type": "execute_result"
    }
   ],
   "source": [
    "## contagem dos valores\n",
    "df['Religion'].value_counts()"
   ]
  },
  {
   "cell_type": "code",
   "execution_count": 68,
   "metadata": {},
   "outputs": [
    {
     "name": "stdout",
     "output_type": "stream",
     "text": [
      "Numero de dados Null/Nan em Religion:  4\n"
     ]
    }
   ],
   "source": [
    "# nr de dados faltantes null / nan\n",
    "print('Numero de dados Null/Nan em Religion: ',df[df['Religion'].isnull()].count()[0])\n",
    "\n"
   ]
  },
  {
   "cell_type": "code",
   "execution_count": 56,
   "metadata": {},
   "outputs": [
    {
     "data": {
      "text/html": [
       "<div>\n",
       "<style scoped>\n",
       "    .dataframe tbody tr th:only-of-type {\n",
       "        vertical-align: middle;\n",
       "    }\n",
       "\n",
       "    .dataframe tbody tr th {\n",
       "        vertical-align: top;\n",
       "    }\n",
       "\n",
       "    .dataframe thead th {\n",
       "        text-align: right;\n",
       "    }\n",
       "</style>\n",
       "<table border=\"1\" class=\"dataframe\">\n",
       "  <thead>\n",
       "    <tr style=\"text-align: right;\">\n",
       "      <th></th>\n",
       "      <th>Name</th>\n",
       "      <th>Sex</th>\n",
       "      <th>Year of Birth</th>\n",
       "      <th>Country of Residency</th>\n",
       "      <th>Religion</th>\n",
       "      <th>City</th>\n",
       "      <th>Profession</th>\n",
       "      <th>Years of Experience</th>\n",
       "      <th>Salary</th>\n",
       "      <th>Year first employment</th>\n",
       "    </tr>\n",
       "  </thead>\n",
       "  <tbody>\n",
       "    <tr>\n",
       "      <th>2</th>\n",
       "      <td>Alton Thornton</td>\n",
       "      <td>M</td>\n",
       "      <td>1984</td>\n",
       "      <td>Canada</td>\n",
       "      <td>----</td>\n",
       "      <td>Vancouver</td>\n",
       "      <td>Nurse</td>\n",
       "      <td>3.0</td>\n",
       "      <td>50940.0</td>\n",
       "      <td>2018.0</td>\n",
       "    </tr>\n",
       "  </tbody>\n",
       "</table>\n",
       "</div>"
      ],
      "text/plain": [
       "             Name Sex  Year of Birth Country of Residency Religion       City  \\\n",
       "2  Alton Thornton   M           1984               Canada     ----  Vancouver   \n",
       "\n",
       "  Profession  Years of Experience   Salary  Year first employment  \n",
       "2      Nurse                  3.0  50940.0                 2018.0  "
      ]
     },
     "execution_count": 56,
     "metadata": {},
     "output_type": "execute_result"
    }
   ],
   "source": [
    "df[df['Religion'] == '----']"
   ]
  },
  {
   "cell_type": "code",
   "execution_count": 57,
   "metadata": {},
   "outputs": [
    {
     "data": {
      "text/html": [
       "<div>\n",
       "<style scoped>\n",
       "    .dataframe tbody tr th:only-of-type {\n",
       "        vertical-align: middle;\n",
       "    }\n",
       "\n",
       "    .dataframe tbody tr th {\n",
       "        vertical-align: top;\n",
       "    }\n",
       "\n",
       "    .dataframe thead th {\n",
       "        text-align: right;\n",
       "    }\n",
       "</style>\n",
       "<table border=\"1\" class=\"dataframe\">\n",
       "  <thead>\n",
       "    <tr style=\"text-align: right;\">\n",
       "      <th></th>\n",
       "      <th>Name</th>\n",
       "      <th>Sex</th>\n",
       "      <th>Year of Birth</th>\n",
       "      <th>Country of Residency</th>\n",
       "      <th>Religion</th>\n",
       "      <th>City</th>\n",
       "      <th>Profession</th>\n",
       "      <th>Years of Experience</th>\n",
       "      <th>Salary</th>\n",
       "      <th>Year first employment</th>\n",
       "    </tr>\n",
       "  </thead>\n",
       "  <tbody>\n",
       "    <tr>\n",
       "      <th>53</th>\n",
       "      <td>Leanne Lowy</td>\n",
       "      <td>F</td>\n",
       "      <td>1969</td>\n",
       "      <td>England</td>\n",
       "      <td>d</td>\n",
       "      <td>Birmingham</td>\n",
       "      <td>Nurse</td>\n",
       "      <td>22.0</td>\n",
       "      <td>52494.9</td>\n",
       "      <td>1999.0</td>\n",
       "    </tr>\n",
       "  </tbody>\n",
       "</table>\n",
       "</div>"
      ],
      "text/plain": [
       "           Name Sex  Year of Birth Country of Residency Religion        City  \\\n",
       "53  Leanne Lowy   F           1969              England        d  Birmingham   \n",
       "\n",
       "   Profession  Years of Experience   Salary  Year first employment  \n",
       "53      Nurse                 22.0  52494.9                 1999.0  "
      ]
     },
     "execution_count": 57,
     "metadata": {},
     "output_type": "execute_result"
    }
   ],
   "source": [
    "df[df['Religion'] == 'd']"
   ]
  },
  {
   "cell_type": "code",
   "execution_count": 58,
   "metadata": {},
   "outputs": [
    {
     "data": {
      "text/html": [
       "<div>\n",
       "<style scoped>\n",
       "    .dataframe tbody tr th:only-of-type {\n",
       "        vertical-align: middle;\n",
       "    }\n",
       "\n",
       "    .dataframe tbody tr th {\n",
       "        vertical-align: top;\n",
       "    }\n",
       "\n",
       "    .dataframe thead th {\n",
       "        text-align: right;\n",
       "    }\n",
       "</style>\n",
       "<table border=\"1\" class=\"dataframe\">\n",
       "  <thead>\n",
       "    <tr style=\"text-align: right;\">\n",
       "      <th></th>\n",
       "      <th>Name</th>\n",
       "      <th>Sex</th>\n",
       "      <th>Year of Birth</th>\n",
       "      <th>Country of Residency</th>\n",
       "      <th>Religion</th>\n",
       "      <th>City</th>\n",
       "      <th>Profession</th>\n",
       "      <th>Years of Experience</th>\n",
       "      <th>Salary</th>\n",
       "      <th>Year first employment</th>\n",
       "    </tr>\n",
       "  </thead>\n",
       "  <tbody>\n",
       "    <tr>\n",
       "      <th>66</th>\n",
       "      <td>Marlon Moore</td>\n",
       "      <td>M</td>\n",
       "      <td>1984</td>\n",
       "      <td>Australia</td>\n",
       "      <td>[</td>\n",
       "      <td>Brisbane</td>\n",
       "      <td>Nurse</td>\n",
       "      <td>4.0</td>\n",
       "      <td>59091.8</td>\n",
       "      <td>2017.0</td>\n",
       "    </tr>\n",
       "  </tbody>\n",
       "</table>\n",
       "</div>"
      ],
      "text/plain": [
       "            Name Sex  Year of Birth Country of Residency Religion      City  \\\n",
       "66  Marlon Moore   M           1984            Australia        [  Brisbane   \n",
       "\n",
       "   Profession  Years of Experience   Salary  Year first employment  \n",
       "66      Nurse                  4.0  59091.8                 2017.0  "
      ]
     },
     "execution_count": 58,
     "metadata": {},
     "output_type": "execute_result"
    }
   ],
   "source": [
    "df[df['Religion'] == '[']"
   ]
  },
  {
   "cell_type": "code",
   "execution_count": 59,
   "metadata": {},
   "outputs": [
    {
     "data": {
      "text/html": [
       "<div>\n",
       "<style scoped>\n",
       "    .dataframe tbody tr th:only-of-type {\n",
       "        vertical-align: middle;\n",
       "    }\n",
       "\n",
       "    .dataframe tbody tr th {\n",
       "        vertical-align: top;\n",
       "    }\n",
       "\n",
       "    .dataframe thead th {\n",
       "        text-align: right;\n",
       "    }\n",
       "</style>\n",
       "<table border=\"1\" class=\"dataframe\">\n",
       "  <thead>\n",
       "    <tr style=\"text-align: right;\">\n",
       "      <th></th>\n",
       "      <th>Name</th>\n",
       "      <th>Sex</th>\n",
       "      <th>Year of Birth</th>\n",
       "      <th>Country of Residency</th>\n",
       "      <th>Religion</th>\n",
       "      <th>City</th>\n",
       "      <th>Profession</th>\n",
       "      <th>Years of Experience</th>\n",
       "      <th>Salary</th>\n",
       "      <th>Year first employment</th>\n",
       "    </tr>\n",
       "  </thead>\n",
       "  <tbody>\n",
       "    <tr>\n",
       "      <th>67</th>\n",
       "      <td>Marshall Vargas</td>\n",
       "      <td>M</td>\n",
       "      <td>1990</td>\n",
       "      <td>Scotland</td>\n",
       "      <td>1</td>\n",
       "      <td>Edinburgh</td>\n",
       "      <td>Nurse</td>\n",
       "      <td>NaN</td>\n",
       "      <td>53696.1</td>\n",
       "      <td>NaN</td>\n",
       "    </tr>\n",
       "  </tbody>\n",
       "</table>\n",
       "</div>"
      ],
      "text/plain": [
       "               Name Sex  Year of Birth Country of Residency Religion  \\\n",
       "67  Marshall Vargas   M           1990             Scotland        1   \n",
       "\n",
       "         City Profession  Years of Experience   Salary  Year first employment  \n",
       "67  Edinburgh      Nurse                  NaN  53696.1                    NaN  "
      ]
     },
     "execution_count": 59,
     "metadata": {},
     "output_type": "execute_result"
    }
   ],
   "source": [
    "df[df['Religion'] == '1']"
   ]
  },
  {
   "cell_type": "code",
   "execution_count": 60,
   "metadata": {},
   "outputs": [
    {
     "data": {
      "text/html": [
       "<div>\n",
       "<style scoped>\n",
       "    .dataframe tbody tr th:only-of-type {\n",
       "        vertical-align: middle;\n",
       "    }\n",
       "\n",
       "    .dataframe tbody tr th {\n",
       "        vertical-align: top;\n",
       "    }\n",
       "\n",
       "    .dataframe thead th {\n",
       "        text-align: right;\n",
       "    }\n",
       "</style>\n",
       "<table border=\"1\" class=\"dataframe\">\n",
       "  <thead>\n",
       "    <tr style=\"text-align: right;\">\n",
       "      <th></th>\n",
       "      <th>Name</th>\n",
       "      <th>Sex</th>\n",
       "      <th>Year of Birth</th>\n",
       "      <th>Country of Residency</th>\n",
       "      <th>Religion</th>\n",
       "      <th>City</th>\n",
       "      <th>Profession</th>\n",
       "      <th>Years of Experience</th>\n",
       "      <th>Salary</th>\n",
       "      <th>Year first employment</th>\n",
       "    </tr>\n",
       "  </thead>\n",
       "  <tbody>\n",
       "    <tr>\n",
       "      <th>100</th>\n",
       "      <td>Zachary Yates</td>\n",
       "      <td>M</td>\n",
       "      <td>2010</td>\n",
       "      <td>England</td>\n",
       "      <td>Ac%#</td>\n",
       "      <td>_Dh</td>\n",
       "      <td>Nurse</td>\n",
       "      <td>3.0</td>\n",
       "      <td>47817.8</td>\n",
       "      <td>2018.0</td>\n",
       "    </tr>\n",
       "  </tbody>\n",
       "</table>\n",
       "</div>"
      ],
      "text/plain": [
       "              Name Sex  Year of Birth Country of Residency Religion City  \\\n",
       "100  Zachary Yates   M           2010              England     Ac%#  _Dh   \n",
       "\n",
       "    Profession  Years of Experience   Salary  Year first employment  \n",
       "100      Nurse                  3.0  47817.8                 2018.0  "
      ]
     },
     "execution_count": 60,
     "metadata": {},
     "output_type": "execute_result"
    }
   ],
   "source": [
    "df[df['Religion'] == 'Ac%#']"
   ]
  },
  {
   "cell_type": "code",
   "execution_count": 70,
   "metadata": {},
   "outputs": [
    {
     "name": "stdout",
     "output_type": "stream",
     "text": [
      "RESPOSTA = 9 dados faltantes, sendo 5 errôneos e nenhum corrigido no atributo Religion\n"
     ]
    }
   ],
   "source": [
    "print('RESPOSTA = 9 dados faltantes, sendo 5 errôneos e nenhum corrigido no atributo Religion')"
   ]
  },
  {
   "cell_type": "markdown",
   "metadata": {},
   "source": [
    "---\n",
    "### Questão 3)\n",
    "\n",
    "Dados estruturados, quando comparados aos não-estruturados, são caracterizados por:\n",
    "\n",
    "(a) permitir executar validação dos dados, mas não possibilitar acesso direto<br>\n",
    "(b) possibilitar maior liberdade/flexibilidade na coleta dos dados, sendo ideais para coleta com baixo controle<br>\n",
    "(c) armazenado em arquivos de formato texto livre, permitindo controle de versões<br>\n",
    "(d) possuir campos e atributos que permitam endereçar diretamente os dados <br>"
   ]
  },
  {
   "cell_type": "markdown",
   "metadata": {},
   "source": [
    "---\n",
    "\n",
    "### Questão 4)\n",
    "\n",
    "Considere a base de dados disponível em `TACTD-01-Base.csv`, e analise os dados no atributo Salary por meio do gráfico de caixa e depois visualizando as linhas contendo outliers mostrados no gráfico de caixa. \n",
    "\n",
    "O atributo possui:\n",
    "\n",
    "(a) 2 outliers globais<br>\n",
    "(b) 4 outliers globais<br>\n",
    "(c) 5 outliers globais<br>\n",
    "(d) 6 outliers globais<br>"
   ]
  },
  {
   "cell_type": "code",
   "execution_count": 72,
   "metadata": {},
   "outputs": [
    {
     "data": {
      "text/html": [
       "<div>\n",
       "<style scoped>\n",
       "    .dataframe tbody tr th:only-of-type {\n",
       "        vertical-align: middle;\n",
       "    }\n",
       "\n",
       "    .dataframe tbody tr th {\n",
       "        vertical-align: top;\n",
       "    }\n",
       "\n",
       "    .dataframe thead th {\n",
       "        text-align: right;\n",
       "    }\n",
       "</style>\n",
       "<table border=\"1\" class=\"dataframe\">\n",
       "  <thead>\n",
       "    <tr style=\"text-align: right;\">\n",
       "      <th></th>\n",
       "      <th>Name</th>\n",
       "      <th>Sex</th>\n",
       "      <th>Year of Birth</th>\n",
       "      <th>Country of Residency</th>\n",
       "      <th>Religion</th>\n",
       "      <th>City</th>\n",
       "      <th>Profession</th>\n",
       "      <th>Years of Experience</th>\n",
       "      <th>Salary</th>\n",
       "      <th>Year first employment</th>\n",
       "    </tr>\n",
       "  </thead>\n",
       "  <tbody>\n",
       "    <tr>\n",
       "      <th>0</th>\n",
       "      <td>Albert Keller</td>\n",
       "      <td>M</td>\n",
       "      <td>1979</td>\n",
       "      <td>USA</td>\n",
       "      <td>Buddhist</td>\n",
       "      <td>New Orleans</td>\n",
       "      <td>Nurse</td>\n",
       "      <td>15.0</td>\n",
       "      <td>58905.7</td>\n",
       "      <td>2006.0</td>\n",
       "    </tr>\n",
       "    <tr>\n",
       "      <th>1</th>\n",
       "      <td>Alexandre Ronaldo</td>\n",
       "      <td>NaN</td>\n",
       "      <td>1980</td>\n",
       "      <td>United Arab Emirates</td>\n",
       "      <td>Christian</td>\n",
       "      <td>Dubai</td>\n",
       "      <td>Nurse</td>\n",
       "      <td>13.0</td>\n",
       "      <td>32000.5</td>\n",
       "      <td>2008.0</td>\n",
       "    </tr>\n",
       "    <tr>\n",
       "      <th>2</th>\n",
       "      <td>Alton Thornton</td>\n",
       "      <td>M</td>\n",
       "      <td>1984</td>\n",
       "      <td>Canada</td>\n",
       "      <td>----</td>\n",
       "      <td>Vancouver</td>\n",
       "      <td>Nurse</td>\n",
       "      <td>3.0</td>\n",
       "      <td>50940.0</td>\n",
       "      <td>2018.0</td>\n",
       "    </tr>\n",
       "  </tbody>\n",
       "</table>\n",
       "</div>"
      ],
      "text/plain": [
       "                Name  Sex  Year of Birth  Country of Residency   Religion  \\\n",
       "0      Albert Keller    M           1979                   USA   Buddhist   \n",
       "1  Alexandre Ronaldo  NaN           1980  United Arab Emirates  Christian   \n",
       "2     Alton Thornton    M           1984                Canada       ----   \n",
       "\n",
       "          City Profession  Years of Experience   Salary  Year first employment  \n",
       "0  New Orleans      Nurse                 15.0  58905.7                 2006.0  \n",
       "1        Dubai      Nurse                 13.0  32000.5                 2008.0  \n",
       "2    Vancouver      Nurse                  3.0  50940.0                 2018.0  "
      ]
     },
     "execution_count": 72,
     "metadata": {},
     "output_type": "execute_result"
    }
   ],
   "source": [
    "df = pd.read_csv(\"./dados/TACTD-01-Base.csv\")\n",
    "\n",
    "df.head(3)"
   ]
  },
  {
   "cell_type": "code",
   "execution_count": 73,
   "metadata": {},
   "outputs": [
    {
     "data": {
      "text/plain": [
       "<AxesSubplot:>"
      ]
     },
     "execution_count": 73,
     "metadata": {},
     "output_type": "execute_result"
    },
    {
     "data": {
      "image/png": "[encoded data removed]",
      "text/plain": [
       "<Figure size 432x288 with 1 Axes>"
      ]
     },
     "metadata": {
      "needs_background": "light"
     },
     "output_type": "display_data"
    }
   ],
   "source": [
    "df.boxplot(column=['Salary'])"
   ]
  },
  {
   "cell_type": "code",
   "execution_count": 78,
   "metadata": {},
   "outputs": [
    {
     "data": {
      "text/plain": [
       "count      105.000000\n",
       "mean     51778.169524\n",
       "std       7313.101178\n",
       "min      32000.500000\n",
       "25%      47699.400000\n",
       "50%      50703.700000\n",
       "75%      55002.700000\n",
       "max      79000.000000\n",
       "Name: Salary, dtype: float64"
      ]
     },
     "execution_count": 78,
     "metadata": {},
     "output_type": "execute_result"
    }
   ],
   "source": [
    "df['Salary'].describe()"
   ]
  },
  {
   "cell_type": "code",
   "execution_count": 93,
   "metadata": {},
   "outputs": [
    {
     "name": "stdout",
     "output_type": "stream",
     "text": [
      "Quartil 25% q1 =  47699.4 | Quartil 75% q3 =  55002.7\n",
      "IQR é =  7303.0\n",
      "Outlier Inferior =  36744.0 | Outlier Superior =  65958.0\n"
     ]
    }
   ],
   "source": [
    "q1 = df['Salary'].describe()[4]\n",
    "q3 = df['Salary'].describe()[6]\n",
    "\n",
    "iqr = round(q3-q1,0)\n",
    "\n",
    "out_inferior = round(q1 - 1.5*IQR,0)\n",
    "out_superior = round(q3 + 1.5*IQR,0)\n",
    "\n",
    "print('Quartil 25% q1 = ', q1, '| Quartil 75% q3 = ', q3)\n",
    "print('IQR é = ', iqr)\n",
    "print('Outlier Inferior = ', out_inferior, '| Outlier Superior = ', out_superior)"
   ]
  },
  {
   "cell_type": "code",
   "execution_count": 95,
   "metadata": {},
   "outputs": [
    {
     "name": "stdout",
     "output_type": "stream",
     "text": [
      "Nr de outliers globais =  6\n"
     ]
    },
    {
     "data": {
      "text/html": [
       "<div>\n",
       "<style scoped>\n",
       "    .dataframe tbody tr th:only-of-type {\n",
       "        vertical-align: middle;\n",
       "    }\n",
       "\n",
       "    .dataframe tbody tr th {\n",
       "        vertical-align: top;\n",
       "    }\n",
       "\n",
       "    .dataframe thead th {\n",
       "        text-align: right;\n",
       "    }\n",
       "</style>\n",
       "<table border=\"1\" class=\"dataframe\">\n",
       "  <thead>\n",
       "    <tr style=\"text-align: right;\">\n",
       "      <th></th>\n",
       "      <th>Name</th>\n",
       "      <th>Sex</th>\n",
       "      <th>Year of Birth</th>\n",
       "      <th>Country of Residency</th>\n",
       "      <th>Religion</th>\n",
       "      <th>City</th>\n",
       "      <th>Profession</th>\n",
       "      <th>Years of Experience</th>\n",
       "      <th>Salary</th>\n",
       "      <th>Year first employment</th>\n",
       "    </tr>\n",
       "  </thead>\n",
       "  <tbody>\n",
       "    <tr>\n",
       "      <th>1</th>\n",
       "      <td>Alexandre Ronaldo</td>\n",
       "      <td>NaN</td>\n",
       "      <td>1980</td>\n",
       "      <td>United Arab Emirates</td>\n",
       "      <td>Christian</td>\n",
       "      <td>Dubai</td>\n",
       "      <td>Nurse</td>\n",
       "      <td>13.0</td>\n",
       "      <td>32000.5</td>\n",
       "      <td>2008.0</td>\n",
       "    </tr>\n",
       "    <tr>\n",
       "      <th>7</th>\n",
       "      <td>Apolonia Abler</td>\n",
       "      <td>F</td>\n",
       "      <td>1967</td>\n",
       "      <td>Canada</td>\n",
       "      <td>Christian</td>\n",
       "      <td>Vancouver</td>\n",
       "      <td>Nurse</td>\n",
       "      <td>18.0</td>\n",
       "      <td>34100.0</td>\n",
       "      <td>2003.0</td>\n",
       "    </tr>\n",
       "    <tr>\n",
       "      <th>101</th>\n",
       "      <td>Virgil Freeman</td>\n",
       "      <td>M</td>\n",
       "      <td>1984</td>\n",
       "      <td>United Arab Emirates</td>\n",
       "      <td>Christian</td>\n",
       "      <td>Dubai</td>\n",
       "      <td>Nurse</td>\n",
       "      <td>25.0</td>\n",
       "      <td>78000.0</td>\n",
       "      <td>1996.0</td>\n",
       "    </tr>\n",
       "    <tr>\n",
       "      <th>102</th>\n",
       "      <td>Michele London</td>\n",
       "      <td>F</td>\n",
       "      <td>1980</td>\n",
       "      <td>United Arab Emirates</td>\n",
       "      <td>Buddhist</td>\n",
       "      <td>Dubai</td>\n",
       "      <td>Nurse</td>\n",
       "      <td>18.0</td>\n",
       "      <td>76000.0</td>\n",
       "      <td>2003.0</td>\n",
       "    </tr>\n",
       "    <tr>\n",
       "      <th>103</th>\n",
       "      <td>Ricardo Alvarez</td>\n",
       "      <td>M</td>\n",
       "      <td>1990</td>\n",
       "      <td>United Arab Emirates</td>\n",
       "      <td>Christian</td>\n",
       "      <td>Dubai</td>\n",
       "      <td>Nurse</td>\n",
       "      <td>8.0</td>\n",
       "      <td>75000.0</td>\n",
       "      <td>2013.0</td>\n",
       "    </tr>\n",
       "    <tr>\n",
       "      <th>104</th>\n",
       "      <td>Raelynn Murphy</td>\n",
       "      <td>F</td>\n",
       "      <td>1979</td>\n",
       "      <td>United Arab Emirates</td>\n",
       "      <td>Jew</td>\n",
       "      <td>Dubai</td>\n",
       "      <td>Nurse</td>\n",
       "      <td>32.0</td>\n",
       "      <td>79000.0</td>\n",
       "      <td>1989.0</td>\n",
       "    </tr>\n",
       "  </tbody>\n",
       "</table>\n",
       "</div>"
      ],
      "text/plain": [
       "                  Name  Sex  Year of Birth  Country of Residency   Religion  \\\n",
       "1    Alexandre Ronaldo  NaN           1980  United Arab Emirates  Christian   \n",
       "7       Apolonia Abler    F           1967                Canada  Christian   \n",
       "101     Virgil Freeman    M           1984  United Arab Emirates  Christian   \n",
       "102     Michele London    F           1980  United Arab Emirates   Buddhist   \n",
       "103    Ricardo Alvarez    M           1990  United Arab Emirates  Christian   \n",
       "104     Raelynn Murphy    F           1979  United Arab Emirates        Jew   \n",
       "\n",
       "          City Profession  Years of Experience   Salary  Year first employment  \n",
       "1        Dubai      Nurse                 13.0  32000.5                 2008.0  \n",
       "7    Vancouver      Nurse                 18.0  34100.0                 2003.0  \n",
       "101      Dubai      Nurse                 25.0  78000.0                 1996.0  \n",
       "102      Dubai      Nurse                 18.0  76000.0                 2003.0  \n",
       "103      Dubai      Nurse                  8.0  75000.0                 2013.0  \n",
       "104      Dubai      Nurse                 32.0  79000.0                 1989.0  "
      ]
     },
     "execution_count": 95,
     "metadata": {},
     "output_type": "execute_result"
    }
   ],
   "source": [
    "print('Nr de outliers globais = ', df[(df['Salary'] < out_inferior) | (df['Salary'] > out_superior)].count()[0])\n",
    "df[(df['Salary'] < out_inferior) | (df['Salary'] > out_superior)]"
   ]
  },
  {
   "cell_type": "markdown",
   "metadata": {},
   "source": [
    "## Questão 5)\n",
    "\n",
    "Considere a base de dados disponível em `TACTD-01-Base.csv`, e busque por linhas duplicadas e atributos não informativos (redundantes/constantes). Quantas linhas duplicadas foram encontradas, e qual(is) atributo(s) pode(m) ser considerado(s) não informativo(s)?\n",
    "\n",
    "(a) 1 linha duplicada; atributos não informativos: Profession<br>\n",
    "(b) 1 linha duplicada; atributos não informativos: Profession e Year first employment<br>\n",
    "(c) 1 linha duplicada; atributos não informativos: Year first employment<br>\n",
    "(d) 2 linhas duplicadas; atributos não informativos: Profession e Year first employment<br>"
   ]
  },
  {
   "cell_type": "code",
   "execution_count": 97,
   "metadata": {},
   "outputs": [],
   "source": [
    "df = pd.read_csv(\"./dados/TACTD-01-Base.csv\")"
   ]
  },
  {
   "cell_type": "code",
   "execution_count": 115,
   "metadata": {},
   "outputs": [
    {
     "data": {
      "text/plain": [
       "(105, 10)"
      ]
     },
     "execution_count": 115,
     "metadata": {},
     "output_type": "execute_result"
    }
   ],
   "source": [
    "df.shape"
   ]
  },
  {
   "cell_type": "code",
   "execution_count": 100,
   "metadata": {},
   "outputs": [
    {
     "data": {
      "text/html": [
       "<div>\n",
       "<style scoped>\n",
       "    .dataframe tbody tr th:only-of-type {\n",
       "        vertical-align: middle;\n",
       "    }\n",
       "\n",
       "    .dataframe tbody tr th {\n",
       "        vertical-align: top;\n",
       "    }\n",
       "\n",
       "    .dataframe thead th {\n",
       "        text-align: right;\n",
       "    }\n",
       "</style>\n",
       "<table border=\"1\" class=\"dataframe\">\n",
       "  <thead>\n",
       "    <tr style=\"text-align: right;\">\n",
       "      <th></th>\n",
       "      <th>Name</th>\n",
       "      <th>Sex</th>\n",
       "      <th>Year of Birth</th>\n",
       "      <th>Country of Residency</th>\n",
       "      <th>Religion</th>\n",
       "      <th>City</th>\n",
       "      <th>Profession</th>\n",
       "      <th>Years of Experience</th>\n",
       "      <th>Salary</th>\n",
       "      <th>Year first employment</th>\n",
       "    </tr>\n",
       "  </thead>\n",
       "  <tbody>\n",
       "    <tr>\n",
       "      <th>84</th>\n",
       "      <td>Ruby Singleton</td>\n",
       "      <td>F</td>\n",
       "      <td>1982</td>\n",
       "      <td>USA</td>\n",
       "      <td>Christian</td>\n",
       "      <td>New Orleans</td>\n",
       "      <td>Nurse</td>\n",
       "      <td>7.0</td>\n",
       "      <td>41000.0</td>\n",
       "      <td>2014.0</td>\n",
       "    </tr>\n",
       "  </tbody>\n",
       "</table>\n",
       "</div>"
      ],
      "text/plain": [
       "              Name Sex  Year of Birth Country of Residency   Religion  \\\n",
       "84  Ruby Singleton   F           1982                  USA  Christian   \n",
       "\n",
       "           City Profession  Years of Experience   Salary  \\\n",
       "84  New Orleans      Nurse                  7.0  41000.0   \n",
       "\n",
       "    Year first employment  \n",
       "84                 2014.0  "
      ]
     },
     "execution_count": 100,
     "metadata": {},
     "output_type": "execute_result"
    }
   ],
   "source": [
    "# Encontrando redundância, ou seja, observações duplicadas\n",
    "\n",
    "df[df.duplicated()]"
   ]
  },
  {
   "cell_type": "code",
   "execution_count": 101,
   "metadata": {},
   "outputs": [
    {
     "name": "stdout",
     "output_type": "stream",
     "text": [
      "RESPOSTA = Apresentamos 1 linha duplicada conforme mostrado acima\n"
     ]
    }
   ],
   "source": [
    "print('RESPOSTA = Apresentamos 1 linha duplicada conforme mostrado acima')"
   ]
  },
  {
   "cell_type": "code",
   "execution_count": 104,
   "metadata": {},
   "outputs": [
    {
     "name": "stdout",
     "output_type": "stream",
     "text": [
      "Valores únicos =  ['M' nan 'F' 'm' '---' 'f'] \n",
      "\n"
     ]
    },
    {
     "data": {
      "text/plain": [
       "F      51\n",
       "M      44\n",
       "m       2\n",
       "---     1\n",
       "f       1\n",
       "Name: Sex, dtype: int64"
      ]
     },
     "execution_count": 104,
     "metadata": {},
     "output_type": "execute_result"
    }
   ],
   "source": [
    "# encontrando atributos não informativos\n",
    "\n",
    "print('Valores únicos = ', df['Sex'].unique(), '\\n')\n",
    "df['Sex'].value_counts()"
   ]
  },
  {
   "cell_type": "code",
   "execution_count": 105,
   "metadata": {},
   "outputs": [
    {
     "name": "stdout",
     "output_type": "stream",
     "text": [
      "Valores únicos =  [1979 1980 1984 1977 1981 1967 1976 1950 1968 1989 1985 1983 1987 1958\n",
      " 1962 1965 1970 1978 1969 1988 1974 1971 1972 1973 1986 1982 1957 1990\n",
      " 1961 1963 1966 1940 1960 2010] \n",
      "\n"
     ]
    },
    {
     "data": {
      "text/plain": [
       "1984    10\n",
       "1981     7\n",
       "1987     6\n",
       "1976     5\n",
       "1985     5\n",
       "1983     5\n",
       "1962     5\n",
       "1980     4\n",
       "1977     4\n",
       "1967     4\n",
       "1982     4\n",
       "1974     4\n",
       "1979     3\n",
       "1966     3\n",
       "1973     3\n",
       "1969     3\n",
       "1978     3\n",
       "1970     3\n",
       "1965     3\n",
       "1989     2\n",
       "1990     2\n",
       "1986     2\n",
       "1968     2\n",
       "1972     2\n",
       "1988     2\n",
       "1971     1\n",
       "1958     1\n",
       "1957     1\n",
       "1961     1\n",
       "1963     1\n",
       "1950     1\n",
       "1940     1\n",
       "1960     1\n",
       "2010     1\n",
       "Name: Year of Birth, dtype: int64"
      ]
     },
     "execution_count": 105,
     "metadata": {},
     "output_type": "execute_result"
    }
   ],
   "source": [
    "print('Valores únicos = ', df['Year of Birth'].unique(), '\\n')\n",
    "df['Year of Birth'].value_counts()"
   ]
  },
  {
   "cell_type": "code",
   "execution_count": 107,
   "metadata": {},
   "outputs": [
    {
     "name": "stdout",
     "output_type": "stream",
     "text": [
      "Valores únicos =  ['USA' 'United Arab Emirates' 'Canada' 'Scotland' 'Australia' 'Wales'\n",
      " 'Portugal' 'Spain' 'Brazil' 'Peru' 'Mexico' 'England'] \n",
      "\n"
     ]
    },
    {
     "data": {
      "text/plain": [
       "USA                     24\n",
       "Brazil                  14\n",
       "Spain                   11\n",
       "Canada                   8\n",
       "Scotland                 8\n",
       "Australia                7\n",
       "Peru                     7\n",
       "Mexico                   7\n",
       "England                  7\n",
       "Portugal                 6\n",
       "United Arab Emirates     5\n",
       "Wales                    1\n",
       "Name: Country of Residency, dtype: int64"
      ]
     },
     "execution_count": 107,
     "metadata": {},
     "output_type": "execute_result"
    }
   ],
   "source": [
    "print('Valores únicos = ', df['Country of Residency'].unique(), '\\n')\n",
    "df['Country of Residency'].value_counts()"
   ]
  },
  {
   "cell_type": "code",
   "execution_count": 108,
   "metadata": {},
   "outputs": [
    {
     "name": "stdout",
     "output_type": "stream",
     "text": [
      "Valores únicos =  ['Buddhist' 'Christian' '----' nan 'Jew' 'd' '[' '1' 'Ac%#'] \n",
      "\n"
     ]
    },
    {
     "data": {
      "text/plain": [
       "Christian    87\n",
       "Buddhist      5\n",
       "Jew           4\n",
       "----          1\n",
       "d             1\n",
       "[             1\n",
       "1             1\n",
       "Ac%#          1\n",
       "Name: Religion, dtype: int64"
      ]
     },
     "execution_count": 108,
     "metadata": {},
     "output_type": "execute_result"
    }
   ],
   "source": [
    "print('Valores únicos = ', df['Religion'].unique(), '\\n')\n",
    "df['Religion'].value_counts()"
   ]
  },
  {
   "cell_type": "code",
   "execution_count": 109,
   "metadata": {},
   "outputs": [
    {
     "name": "stdout",
     "output_type": "stream",
     "text": [
      "Valores únicos =  ['New Orleans' 'Dubai' 'Vancouver' 'Edinburgh' 'Brisbane' 'Lisbon'\n",
      " 'Valencia' 'São Paulo' 'Arequipa' 'Santo André' 'New York' 'Acapulco'\n",
      " 'Birmingham' 'Rivendell' '_Dh'] \n",
      "\n"
     ]
    },
    {
     "data": {
      "text/plain": [
       "New Orleans    19\n",
       "São Paulo      13\n",
       "Valencia       11\n",
       "Edinburgh       9\n",
       "Vancouver       7\n",
       "Brisbane        7\n",
       "Arequipa        7\n",
       "Acapulco        7\n",
       "Lisbon          6\n",
       "Birmingham      6\n",
       "Dubai           5\n",
       "New York        5\n",
       "Santo André     1\n",
       "Rivendell       1\n",
       "_Dh             1\n",
       "Name: City, dtype: int64"
      ]
     },
     "execution_count": 109,
     "metadata": {},
     "output_type": "execute_result"
    }
   ],
   "source": [
    "print('Valores únicos = ', df['City'].unique(), '\\n')\n",
    "df['City'].value_counts()"
   ]
  },
  {
   "cell_type": "code",
   "execution_count": 110,
   "metadata": {},
   "outputs": [
    {
     "name": "stdout",
     "output_type": "stream",
     "text": [
      "Valores únicos =  ['Nurse'] \n",
      "\n"
     ]
    },
    {
     "data": {
      "text/plain": [
       "Nurse    105\n",
       "Name: Profession, dtype: int64"
      ]
     },
     "execution_count": 110,
     "metadata": {},
     "output_type": "execute_result"
    }
   ],
   "source": [
    "\n",
    "print('Valores únicos = ', df['Profession'].unique(), '\\n')\n",
    "df['Profession'].value_counts()"
   ]
  },
  {
   "cell_type": "code",
   "execution_count": 111,
   "metadata": {},
   "outputs": [
    {
     "name": "stdout",
     "output_type": "stream",
     "text": [
      "Valores únicos =  [15. 13.  3. 10.  9. 20. 28. 18. 19. 45. 22.  2. 11.  5.  4.  1. 34. 23.\n",
      " 32.  8. 17. 21. 25. nan  0. 16. 12. 29. 46. 31. 26.  7. 27. 35.] \n",
      "\n"
     ]
    },
    {
     "data": {
      "text/plain": [
       "3.0     8\n",
       "20.0    7\n",
       "5.0     6\n",
       "8.0     6\n",
       "18.0    6\n",
       "9.0     5\n",
       "21.0    4\n",
       "4.0     4\n",
       "11.0    4\n",
       "19.0    4\n",
       "16.0    4\n",
       "28.0    4\n",
       "10.0    3\n",
       "13.0    3\n",
       "26.0    2\n",
       "23.0    2\n",
       "32.0    2\n",
       "2.0     2\n",
       "7.0     2\n",
       "29.0    2\n",
       "31.0    2\n",
       "22.0    2\n",
       "25.0    2\n",
       "15.0    1\n",
       "27.0    1\n",
       "46.0    1\n",
       "34.0    1\n",
       "12.0    1\n",
       "0.0     1\n",
       "17.0    1\n",
       "1.0     1\n",
       "45.0    1\n",
       "35.0    1\n",
       "Name: Years of Experience, dtype: int64"
      ]
     },
     "execution_count": 111,
     "metadata": {},
     "output_type": "execute_result"
    }
   ],
   "source": [
    "print('Valores únicos = ', df['Years of Experience'].unique(), '\\n')\n",
    "df['Years of Experience'].value_counts()"
   ]
  },
  {
   "cell_type": "code",
   "execution_count": 112,
   "metadata": {},
   "outputs": [
    {
     "name": "stdout",
     "output_type": "stream",
     "text": [
      "Valores únicos =  [58905.7 32000.5 50940.  50602.8 47447.6 48000.  47469.2 34100.  45478.6\n",
      " 47150.7 53188.2 53984.6 65000.  47711.  51314.7 51412.8 52518.4 53566.\n",
      " 56111.3 48766.7 45600.  59629.4 55004.4 48244.9 48708.4 51019.8 53144.2\n",
      " 56254.8 48587.6 48906.7 48778.1 52532.1 47973.3 51516.3 54388.5 54021.7\n",
      " 50473.7 49562.1 56975.2 46206.1 47699.4 55911.4 50003.6 50469.8 47422.9\n",
      " 52511.1 58558.  55661.5 48131.1 48451.2 50837.7 52494.9 55002.7 47363.4\n",
      " 59632.9 47350.  58376.4 50703.7 58063.4 49341.5 56335.9 45496.4 48111.3\n",
      " 49680.3 59091.8 53696.1 46957.2 55917.4 46308.4 53965.6 45656.6 47425.1\n",
      " 52950.  56590.7 46632.7 54925.6 54392.2 55239.5 47240.7 39000.  41000.\n",
      " 49492.3 58911.8 51110.6 45696.1 50534.9 59637.5 50418.9 58982.7 55715.3\n",
      " 46569.3 53626.3 45038.6 48790.6 54785.  49000.  47817.8 78000.  76000.\n",
      " 75000.  79000. ] \n",
      "\n"
     ]
    },
    {
     "data": {
      "text/plain": [
       "51314.7    2\n",
       "39000.0    2\n",
       "41000.0    2\n",
       "47469.2    2\n",
       "58905.7    1\n",
       "          ..\n",
       "47973.3    1\n",
       "52532.1    1\n",
       "48778.1    1\n",
       "48906.7    1\n",
       "79000.0    1\n",
       "Name: Salary, Length: 101, dtype: int64"
      ]
     },
     "execution_count": 112,
     "metadata": {},
     "output_type": "execute_result"
    }
   ],
   "source": [
    "print('Valores únicos = ', df['Salary'].unique(), '\\n')\n",
    "df['Salary'].value_counts()"
   ]
  },
  {
   "cell_type": "code",
   "execution_count": 113,
   "metadata": {},
   "outputs": [
    {
     "name": "stdout",
     "output_type": "stream",
     "text": [
      "Valores únicos =  [2006. 2008. 2018. 2011. 2012. 2001. 1993. 2003. 2002. 1976. 1999. 2019.\n",
      " 2010. 2016. 2017. 2020. 1987. 1998. 1989. 2013. 2004. 2000. 1996.   nan\n",
      " 2005. 2009. 1992. 1975. 1990. 1995. 2014. 1994. 1986.] \n",
      "\n"
     ]
    },
    {
     "data": {
      "text/plain": [
       "2018.0    8\n",
       "2001.0    7\n",
       "2016.0    6\n",
       "2003.0    6\n",
       "2013.0    6\n",
       "2012.0    5\n",
       "1993.0    4\n",
       "2002.0    4\n",
       "2005.0    4\n",
       "2010.0    4\n",
       "2000.0    4\n",
       "2017.0    4\n",
       "2011.0    3\n",
       "2008.0    3\n",
       "1989.0    2\n",
       "1996.0    2\n",
       "1995.0    2\n",
       "1990.0    2\n",
       "1992.0    2\n",
       "1998.0    2\n",
       "2014.0    2\n",
       "2019.0    2\n",
       "1999.0    2\n",
       "1975.0    1\n",
       "1994.0    1\n",
       "2006.0    1\n",
       "1987.0    1\n",
       "2009.0    1\n",
       "2004.0    1\n",
       "2020.0    1\n",
       "1976.0    1\n",
       "1986.0    1\n",
       "Name: Year first employment, dtype: int64"
      ]
     },
     "execution_count": 113,
     "metadata": {},
     "output_type": "execute_result"
    }
   ],
   "source": [
    "print('Valores únicos = ', df['Year first employment'].unique(), '\\n')\n",
    "df['Year first employment'].value_counts()\n"
   ]
  },
  {
   "cell_type": "code",
   "execution_count": 116,
   "metadata": {},
   "outputs": [
    {
     "name": "stdout",
     "output_type": "stream",
     "text": [
      "RESPOSTA = apresentamos apenas 1 atributo constante, que é Profession e pode ser removido do df\n"
     ]
    }
   ],
   "source": [
    "print('RESPOSTA = apresentamos apenas 1 atributo constante, que é Profession e pode ser removido do df')"
   ]
  },
  {
   "cell_type": "code",
   "execution_count": null,
   "metadata": {},
   "outputs": [],
   "source": []
  }
 ],
 "metadata": {
  "kernelspec": {
   "display_name": "Python 3 (ipykernel)",
   "language": "python",
   "name": "python3"
  },
  "language_info": {
   "codemirror_mode": {
    "name": "ipython",
    "version": 3
   },
   "file_extension": ".py",
   "mimetype": "text/x-python",
   "name": "python",
   "nbconvert_exporter": "python",
   "pygments_lexer": "ipython3",
   "version": "3.9.7"
  }
 },
 "nbformat": 4,
 "nbformat_minor": 4
}
