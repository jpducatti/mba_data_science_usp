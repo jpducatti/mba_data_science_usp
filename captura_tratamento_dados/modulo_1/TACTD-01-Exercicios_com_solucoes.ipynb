{
 "cells": [
  {
   "cell_type": "markdown",
   "metadata": {},
   "source": [
    "# MBA em Ciência de Dados\n",
    "# Técnicas Avançadas de Captura e Tratamento de Dados\n",
    "\n",
    "### <span style=\"color:darkred\">Módulo I</span>\n",
    "\n",
    "\n",
    "### <span style=\"color:darkred\">Exercícios com soluções</span>\n",
    "\n",
    "Moacir Antonelli Ponti\n",
    "\n",
    "CeMEAI - ICMC/USP São Carlos\n",
    "\n",
    "---\n",
    "\n",
    "#### <span style=\"color:red\">Recomenda-se fortemente que os exercícios sejam feitos sem consultar as respostas antecipadamente.</span>\n",
    "\n",
    "---"
   ]
  },
  {
   "cell_type": "code",
   "execution_count": 2,
   "metadata": {},
   "outputs": [],
   "source": [
    "# carregando a biblioteca necessária\n",
    "import pandas as pd\n",
    "import numpy as np\n",
    "import matplotlib.pyplot as plt"
   ]
  },
  {
   "cell_type": "markdown",
   "metadata": {},
   "source": [
    "### Exercício 1)\n",
    "\n",
    "Considere a tabela com os dados a seguir\n",
    "\n",
    " username     | Primeiro Nome  | Sobrenome | Ano de nascimento | Foto\n",
    " :------ |:--------- |:----- | --- | --- \n",
    " joao@provider.com     | João | Oliveira | 1996 | foto1033.jpg\n",
    " bet89@hoster.net    | Elizabete | Costa Silva | 1989 | foto0010.jpg\n",
    " maria@internet.com.br | Maria Cláudia | Nunes de Souza | 1976 | foto2401.jpg\n",
    " \n",
    " De acordo com a definição de dados estruturados e não estruturados, esse conjunto de dados é\n",
    " \n",
    " <font color='red'>(a) Estruturado</font><br>\n",
    " (b) Não-estruturado<br>\n",
    " (c) Estruturado quando não consideramos o atributo *Foto*<br>\n",
    " (d) Estruturado quando não consideramos os atributos *username* e *Foto*<br>\n",
    " \n",
    " Justifique sua escolha."
   ]
  },
  {
   "cell_type": "markdown",
   "metadata": {},
   "source": [
    "<font color='red'>Resposta</font>: *todos os campos e registros são endereçáveis e passíveis de armazenamento e recuperação. O atributo Foto se refere ao arquivo da imagem que contém a foto, mas não à informações visuais contidas nessas imagens. Ainda que as imagens sejam não-estruturadas, o dado relativo ao nome do arquivo é estruturado. Assim, a tabela contém dados estruturados*"
   ]
  },
  {
   "cell_type": "markdown",
   "metadata": {},
   "source": [
    "---\n",
    "\n",
    "### Exercício 2)\n",
    "\n",
    "São características de dados não-estruturados\n",
    "\n",
    " (a) Facilidade de versionamento, baixo controle de coleta, e inexistência de formato bem definido para armazenamento<br>\n",
    " <font color='red'>(b) Alta dimensionalidade, armazenamento em formato binário ou textual, e alta flexibilidade na coleta dos dados</font><br>\n",
    " (c) Alta redundância, e informações fáceis de recuperar a partir dos dados brutos<br>\n",
    " (d) Inexistência de esquema de armazenamento e recuperação, e alto controle de integridade dos dados<br>\n",
    "\n"
   ]
  },
  {
   "cell_type": "markdown",
   "metadata": {},
   "source": [
    "---\n",
    "\n",
    "### Exercício 3)\n",
    "\n",
    "Considere as informações dadas a seguir:\n",
    "\n",
    "<img src=\"./imagens/foto_tabela2.jpg\" alt=\"tabela\" width=\"760\"/>\n",
    "\n",
    "Poderíamos dizer que os dados disponíveis nesse arquivo exibido são do tipo: \n",
    "\n",
    "<font color='red'>(a) não estruturado<br></font>\n",
    "(b) estruturado\n",
    "\n",
    "Justifique sua resposta.\n",
    "\n",
    "<font color='red'>Resposta</font>: *apesar de visualizarmos uma tabela com dados numéricos, trata-se de uma foto tirada de uma tabela com dados projetados. Assim, os dados originais são estruturados, mas no formato em que se encontra, as informações não são endereçáveis e com estrutura tal que possam ser recuperadas facilmente, sendo assim são dados não estruturados*"
   ]
  },
  {
   "cell_type": "markdown",
   "metadata": {},
   "source": [
    "---\n",
    "\n",
    "Para os próximos exercícios, vamos analise a base de dados dada pelo arquivo abaixo, que contém 100 linhas. Em particular vamos estudar os atributos \"Religion\", \"Profession\" e \"Year of Birth\", que possuem dados faltantes. Esses dados foram coletados de pessoas nascidas entre 1960 e 1998. Explore os atributos e dados utilizando estatística descritiva com `.describe()`, buscando pelo conjunto de valores únicos com `.unique()` e realizando contagem de frequência com `.value_counts()` (Atenção: o método `value_counts()` não mostra valores nulos/`nan`).  Para além dessas sugestões, você pode explorar a base de dados com outras ferramentas, gráficos e buscas para responder."
   ]
  },
  {
   "cell_type": "code",
   "execution_count": 65,
   "metadata": {},
   "outputs": [],
   "source": [
    "data_m = pd.read_csv(\"./dados/TACTD-01-Missing.csv\")"
   ]
  },
  {
   "cell_type": "markdown",
   "metadata": {},
   "source": [
    "### Exercício 4)\n",
    "\n",
    "Explore o atributo Profession e escolha a opção que melhor descreve os dados incorretos e/ou faltantes:\n",
    "\n",
    "(a) há 2 dados faltantes<br>\n",
    "(b) há 8 dados faltantes, sendo 8 desses dados incorretos<br>\n",
    "(c) há 6 dados faltantes, sendo 2 desses dados incorretos<br>\n",
    "<font color='red'>(d) há 8 dados faltantes, sendo 6 desses dados incorretos</font><br>\n",
    "\n",
    "<font color='red'>Resposta</font>: *Os 6 valores 'X' pode ter sido usado como forma de não preencher os dados, sendo um valor diferente de nulo/nan e portanto incorreto. Portanto, junto com os 2 NaNs, temos 8 dados faltantes.*"
   ]
  },
  {
   "cell_type": "code",
   "execution_count": 66,
   "metadata": {},
   "outputs": [
    {
     "name": "stdout",
     "output_type": "stream",
     "text": [
      "  Profession  size\n",
      "0      Nurse    92\n",
      "1          X     6\n",
      "2        NaN     2\n"
     ]
    }
   ],
   "source": [
    "# insira seu código exibindo a estatística descritiva e valores únicos para o atributo Profession\n",
    "\n",
    "# listando valores com groupby\n",
    "print(data_m.groupby(['Profession'], dropna=False, as_index=False).size())"
   ]
  },
  {
   "cell_type": "markdown",
   "metadata": {},
   "source": [
    "### Exercício 5)\n",
    "\n",
    "Sobre o atributo Religion, busque por dados incorretos, corrigindo os que forem possível corrigir, e tornando nulos (`null`/`nan`) os que não forem passíveis de correção. Ao final temos, para essa variável em particular:\n",
    "\n",
    "(a) 1 dado incorreto corrigido, e 4 dados faltantes<br>\n",
    "<font color='red'>(b) 1 dado incorreto corrigido, e 5 dados faltantes</font><br>\n",
    "(c) nenhum dado incorreto corrigido, e 6 dados faltantes<br>\n",
    "(d) nenhum dado incorreto corrigido, e 5 dados faltantes<br>\n",
    "\n",
    "*apesar de não constar como NaN, valores como `x`e `---` são também considerados faltantes após o tratamento de dados incorretos.*\n"
   ]
  },
  {
   "cell_type": "code",
   "execution_count": 67,
   "metadata": {},
   "outputs": [
    {
     "name": "stdout",
     "output_type": "stream",
     "text": [
      "    Religion  size\n",
      "0        ---     1\n",
      "1  Christian    94\n",
      "2  Cjristian     1\n",
      "3          x     1\n",
      "4        NaN     3\n"
     ]
    }
   ],
   "source": [
    "# insira seu código explorando o atributo Religion\n",
    "print(data_m.groupby(['Religion'], dropna=False, as_index=False).size())"
   ]
  },
  {
   "cell_type": "code",
   "execution_count": 68,
   "metadata": {},
   "outputs": [
    {
     "name": "stdout",
     "output_type": "stream",
     "text": [
      "Após correção\n",
      "    Religion  size\n",
      "0  Christian    95\n",
      "1        NaN     5\n"
     ]
    }
   ],
   "source": [
    "# corrigindo\n",
    "data_m.loc[data_m['Religion']=='Cjristian', 'Religion'] = 'Christian'\n",
    "data_m.loc[data_m['Religion']!='Christian', 'Religion'] = np.nan\n",
    "\n",
    "# listando os valores únicos e sua quantidade apos correcao\n",
    "print(\"Após correção\")\n",
    "# insira seu código explorando o atributo Religion\n",
    "print(data_m.groupby(['Religion'], dropna=False, as_index=False).size())"
   ]
  },
  {
   "cell_type": "markdown",
   "metadata": {},
   "source": [
    "### Exercício 6)\n",
    "\n",
    "Você recebeu informação do especialista que participou da coleta, que os dados contém profissionais nascidos entre 1960 e 2000. Sobre o atributo Year of Birth, realize uma análise exploratória, buscando por dados incorretos e faltantes. Corrija os que for possível corrigir. Após o tratamento, responda qual(is) tipo(s) de dados faltantes são mais plausíveis com base nos dados.\n",
    "\n",
    "(a) não há dados faltantes após a correção<br>\n",
    "(b) faltantes completamente aleatórios (MCAR) <br>\n",
    "(c) faltantes (condicionalmente) aleatórios (MAR)<br>\n",
    "<font color='red'>(d) não aleatório (MNAR)<br></font>\n",
    "\n",
    "Dica: como o atributo é numérico, pode ser útil utilizar histograma (`df['var'].hist()`) para visualizar a distribuição dos anos de nascimento.\n",
    "\n",
    "<font color='red'>Resposta</font>: *A distribuição do ano de nascimento mostra que há uma lacuna apenas nos anos 1965-1969. Assim, há uma grande chance de que a perda de dados de nascimento esteja relacionado ao próprio valor da variável, de forma que o tipo mais plausível é o MNAR.*\n"
   ]
  },
  {
   "cell_type": "code",
   "execution_count": 69,
   "metadata": {},
   "outputs": [
    {
     "name": "stdout",
     "output_type": "stream",
     "text": [
      "Total de faltantes:  14\n",
      "    Year of Birth  size\n",
      "0          1960.0     2\n",
      "1          1961.0     2\n",
      "2          1962.0     4\n",
      "3          1963.0     2\n",
      "4          1964.0     3\n",
      "5          1970.0     3\n",
      "6          1971.0     1\n",
      "7          1972.0     2\n",
      "8          1973.0     3\n",
      "9          1974.0     4\n",
      "10         1975.0     1\n",
      "11         1976.0     5\n",
      "12         1977.0     4\n",
      "13         1978.0     3\n",
      "14         1979.0     2\n",
      "15         1980.0     2\n",
      "16         1981.0     2\n",
      "17         1982.0     2\n",
      "18         1983.0     4\n",
      "19         1984.0     4\n",
      "20         1985.0     3\n",
      "21         1986.0     3\n",
      "22         1987.0     4\n",
      "23         1988.0     1\n",
      "24         1989.0     1\n",
      "25         1990.0     2\n",
      "26         1991.0     3\n",
      "27         1992.0     2\n",
      "28         1993.0     2\n",
      "29         1994.0     1\n",
      "30         1995.0     2\n",
      "31         1996.0     2\n",
      "32         1997.0     1\n",
      "33         1998.0     2\n",
      "34         1999.0     2\n",
      "35            NaN    14\n"
     ]
    }
   ],
   "source": [
    "# insira seu código explorando o atributo Year of Birth\n",
    "print('Total de faltantes: ', np.sum(data_m['Year of Birth'].isna()))\n",
    "\n",
    "print(data_m.groupby(['Year of Birth'], dropna=False, as_index=False).size())"
   ]
  },
  {
   "cell_type": "code",
   "execution_count": 70,
   "metadata": {},
   "outputs": [
    {
     "data": {
      "text/plain": [
       "<AxesSubplot:>"
      ]
     },
     "execution_count": 70,
     "metadata": {},
     "output_type": "execute_result"
    },
    {
     "data": {
      "image/png": "[encoded data removed]",
      "text/plain": [
       "<Figure size 432x288 with 1 Axes>"
      ]
     },
     "metadata": {
      "needs_background": "light"
     },
     "output_type": "display_data"
    }
   ],
   "source": [
    "# investigando como os anos estão distribuídos usando histograma\n",
    "min_year = data_m['Year of Birth'].describe()['min']\n",
    "max_year = data_m['Year of Birth'].describe()['max']\n",
    "\n",
    "data_m['Year of Birth'].hist(bins=range(int(min_year), int(max_year)+2))"
   ]
  },
  {
   "cell_type": "markdown",
   "metadata": {},
   "source": [
    "---\n",
    "Para os próximos exercícios vamos usar outra base de dados conforme carregada abaixo. Para os próximos exercícios, o uso de `boxplot()` e `hist()` pode ser útil, "
   ]
  },
  {
   "cell_type": "code",
   "execution_count": 127,
   "metadata": {
    "scrolled": true
   },
   "outputs": [],
   "source": [
    "data2 = pd.read_csv(\"./dados/TACTD-01-Redundant-Outlier.csv\") "
   ]
  },
  {
   "cell_type": "markdown",
   "metadata": {},
   "source": [
    "### Exercício 7)\n",
    "\n",
    "Sabendo que o salário médio da base dos profissionais da área de saúde (Enfermeiros) é 50 mil, explore essa variável. De acordo com a análise do intervalo interquartil utilizada visualmente pelo gráfico de caixa, quantos valores podem ser considerados outliers?\n",
    "\n",
    "(a) 6<br>\n",
    "(b) 4<br>\n",
    "<font color='red'>(c) 3<br></font>\n",
    "(d) 2<br>\n"
   ]
  },
  {
   "cell_type": "code",
   "execution_count": 128,
   "metadata": {},
   "outputs": [
    {
     "data": {
      "text/plain": [
       "Index(['Name', 'Sex', 'Year of Birth', 'Country of Birth', 'City',\n",
       "       'Profession', 'Age', 'Salary'],\n",
       "      dtype='object')"
      ]
     },
     "execution_count": 128,
     "metadata": {},
     "output_type": "execute_result"
    }
   ],
   "source": [
    "data2.columns"
   ]
  },
  {
   "cell_type": "code",
   "execution_count": 129,
   "metadata": {},
   "outputs": [
    {
     "data": {
      "text/html": [
       "<div>\n",
       "<style scoped>\n",
       "    .dataframe tbody tr th:only-of-type {\n",
       "        vertical-align: middle;\n",
       "    }\n",
       "\n",
       "    .dataframe tbody tr th {\n",
       "        vertical-align: top;\n",
       "    }\n",
       "\n",
       "    .dataframe thead th {\n",
       "        text-align: right;\n",
       "    }\n",
       "</style>\n",
       "<table border=\"1\" class=\"dataframe\">\n",
       "  <thead>\n",
       "    <tr style=\"text-align: right;\">\n",
       "      <th></th>\n",
       "      <th>Year of Birth</th>\n",
       "      <th>Age</th>\n",
       "      <th>Salary</th>\n",
       "    </tr>\n",
       "  </thead>\n",
       "  <tbody>\n",
       "    <tr>\n",
       "      <th>count</th>\n",
       "      <td>101.000000</td>\n",
       "      <td>101.000000</td>\n",
       "      <td>101.000000</td>\n",
       "    </tr>\n",
       "    <tr>\n",
       "      <th>mean</th>\n",
       "      <td>1976.534653</td>\n",
       "      <td>45.465347</td>\n",
       "      <td>51764.080198</td>\n",
       "    </tr>\n",
       "    <tr>\n",
       "      <th>std</th>\n",
       "      <td>9.309742</td>\n",
       "      <td>9.309742</td>\n",
       "      <td>5068.726214</td>\n",
       "    </tr>\n",
       "    <tr>\n",
       "      <th>min</th>\n",
       "      <td>1957.000000</td>\n",
       "      <td>13.000000</td>\n",
       "      <td>32000.500000</td>\n",
       "    </tr>\n",
       "    <tr>\n",
       "      <th>25%</th>\n",
       "      <td>1969.000000</td>\n",
       "      <td>38.000000</td>\n",
       "      <td>48111.300000</td>\n",
       "    </tr>\n",
       "    <tr>\n",
       "      <th>50%</th>\n",
       "      <td>1978.000000</td>\n",
       "      <td>44.000000</td>\n",
       "      <td>50940.000000</td>\n",
       "    </tr>\n",
       "    <tr>\n",
       "      <th>75%</th>\n",
       "      <td>1984.000000</td>\n",
       "      <td>53.000000</td>\n",
       "      <td>54925.600000</td>\n",
       "    </tr>\n",
       "    <tr>\n",
       "      <th>max</th>\n",
       "      <td>2009.000000</td>\n",
       "      <td>65.000000</td>\n",
       "      <td>69500.000000</td>\n",
       "    </tr>\n",
       "  </tbody>\n",
       "</table>\n",
       "</div>"
      ],
      "text/plain": [
       "       Year of Birth         Age        Salary\n",
       "count     101.000000  101.000000    101.000000\n",
       "mean     1976.534653   45.465347  51764.080198\n",
       "std         9.309742    9.309742   5068.726214\n",
       "min      1957.000000   13.000000  32000.500000\n",
       "25%      1969.000000   38.000000  48111.300000\n",
       "50%      1978.000000   44.000000  50940.000000\n",
       "75%      1984.000000   53.000000  54925.600000\n",
       "max      2009.000000   65.000000  69500.000000"
      ]
     },
     "execution_count": 129,
     "metadata": {},
     "output_type": "execute_result"
    }
   ],
   "source": [
    "data2.describe()"
   ]
  },
  {
   "cell_type": "code",
   "execution_count": 130,
   "metadata": {
    "scrolled": true
   },
   "outputs": [
    {
     "data": {
      "text/plain": [
       "<AxesSubplot:>"
      ]
     },
     "execution_count": 130,
     "metadata": {},
     "output_type": "execute_result"
    },
    {
     "data": {
      "image/png": "[encoded data removed]",
      "text/plain": [
       "<Figure size 864x288 with 2 Axes>"
      ]
     },
     "metadata": {
      "needs_background": "light"
     },
     "output_type": "display_data"
    }
   ],
   "source": [
    "plt.figure(figsize=(12,4))\n",
    "plt.subplot(121); data2.boxplot('Salary')\n",
    "plt.subplot(122); data2['Salary'].hist()"
   ]
  },
  {
   "cell_type": "code",
   "execution_count": 131,
   "metadata": {},
   "outputs": [
    {
     "name": "stdout",
     "output_type": "stream",
     "text": [
      "Número de outliers:  3\n"
     ]
    }
   ],
   "source": [
    "print('Número de outliers: ', np.sum((data2['Salary']>61000) | (data2['Salary']<40000)))"
   ]
  },
  {
   "cell_type": "markdown",
   "metadata": {},
   "source": [
    "### Exercício 8)\n",
    "\n",
    "Analise os outliers obtidos na questão anterior, em particular os outliers que estão ACIMA (com valores maiores) do que a maior parte dos salários. Analise esses dados com relação aos atributos: Sex e City. Com base nessa análise, podemos dizer que esses outliers são\n",
    "\n",
    "<font color='red'>(a) Globais ou pontuais<br></font>\n",
    "(b) Contextuais com base no atributo Sex<br>\n",
    "(c) Contextuais com base no atributo City<br>\n",
    "(d) Coletivos com base no atributo Sex<br>\n",
    "\n",
    "Dica: agrupe (`groupby`) estatísticas de salário com base nos atributos Sex e City.\n",
    "\n",
    "*Resposta: com base na análise abaixo, vemos que a média de salários entre os sexos não difere de forma significativa, nem com relação à cidade. Assim, com base nos dados não há motivos para dizer que os outliers não sejam globais/pontuais.*"
   ]
  },
  {
   "cell_type": "code",
   "execution_count": 132,
   "metadata": {},
   "outputs": [
    {
     "data": {
      "text/html": [
       "<div>\n",
       "<style scoped>\n",
       "    .dataframe tbody tr th:only-of-type {\n",
       "        vertical-align: middle;\n",
       "    }\n",
       "\n",
       "    .dataframe tbody tr th {\n",
       "        vertical-align: top;\n",
       "    }\n",
       "\n",
       "    .dataframe thead th {\n",
       "        text-align: right;\n",
       "    }\n",
       "</style>\n",
       "<table border=\"1\" class=\"dataframe\">\n",
       "  <thead>\n",
       "    <tr style=\"text-align: right;\">\n",
       "      <th></th>\n",
       "      <th>Name</th>\n",
       "      <th>Sex</th>\n",
       "      <th>Year of Birth</th>\n",
       "      <th>Country of Birth</th>\n",
       "      <th>City</th>\n",
       "      <th>Profession</th>\n",
       "      <th>Age</th>\n",
       "      <th>Salary</th>\n",
       "    </tr>\n",
       "  </thead>\n",
       "  <tbody>\n",
       "    <tr>\n",
       "      <th>19</th>\n",
       "      <td>Desiree Dardar</td>\n",
       "      <td>F</td>\n",
       "      <td>1985</td>\n",
       "      <td>USA</td>\n",
       "      <td>New York</td>\n",
       "      <td>Nurse</td>\n",
       "      <td>37</td>\n",
       "      <td>69500.0</td>\n",
       "    </tr>\n",
       "    <tr>\n",
       "      <th>22</th>\n",
       "      <td>Douglas Damario</td>\n",
       "      <td>M</td>\n",
       "      <td>1965</td>\n",
       "      <td>USA</td>\n",
       "      <td>New Orleans</td>\n",
       "      <td>Nurse</td>\n",
       "      <td>57</td>\n",
       "      <td>68200.0</td>\n",
       "    </tr>\n",
       "  </tbody>\n",
       "</table>\n",
       "</div>"
      ],
      "text/plain": [
       "               Name Sex  Year of Birth Country of Birth         City  \\\n",
       "19   Desiree Dardar   F           1985              USA     New York   \n",
       "22  Douglas Damario   M           1965              USA  New Orleans   \n",
       "\n",
       "   Profession  Age   Salary  \n",
       "19      Nurse   37  69500.0  \n",
       "22      Nurse   57  68200.0  "
      ]
     },
     "execution_count": 132,
     "metadata": {},
     "output_type": "execute_result"
    }
   ],
   "source": [
    "data2[data2['Salary']>61000]"
   ]
  },
  {
   "cell_type": "code",
   "execution_count": 133,
   "metadata": {
    "scrolled": true
   },
   "outputs": [
    {
     "name": "stdout",
     "output_type": "stream",
     "text": [
      "  Sex        Salary\n",
      "0   F  51614.990566\n",
      "1   M  51928.700000\n"
     ]
    }
   ],
   "source": [
    "print(data2.groupby(['Sex'], dropna=False, as_index=False).mean()[['Sex','Salary']])"
   ]
  },
  {
   "cell_type": "code",
   "execution_count": 134,
   "metadata": {
    "scrolled": true
   },
   "outputs": [
    {
     "name": "stdout",
     "output_type": "stream",
     "text": [
      "           City        Salary\n",
      "0      Acapulco  52420.327273\n",
      "1      Arequipa  54320.600000\n",
      "2        Austin  49409.816667\n",
      "3     Edinburgh  49687.500000\n",
      "4          Lima  51372.000000\n",
      "5        Lisbon  49273.975000\n",
      "6   New Orleans  52144.938095\n",
      "7      New York  58617.766667\n",
      "8     São Paulo  53478.520000\n",
      "9       Toronto  49170.571429\n",
      "10    Vancouver  49902.687500\n",
      "11         Wick  53038.750000\n"
     ]
    }
   ],
   "source": [
    "print(data2.groupby(['City'], dropna=False, as_index=False).mean()[['City','Salary']])"
   ]
  },
  {
   "cell_type": "markdown",
   "metadata": {},
   "source": [
    "---\n",
    "## Exercício 9) \n",
    "\n",
    "Analise os atributos categóricos 'Sex' e 'Country of Birth' da base de dados. Assuma que queremos fazer uma análise cuja variável alvo será um desses atributos. Nesse caso podemos dizer que:\n",
    "\n",
    "<font color='red'>(a) Country of Birth é desbalanceado<br></font>\n",
    "(b) Sex é desbalanceado<br>\n",
    "(c) Country of Birth e Sex são desbalanceados<br>\n",
    "(d) Nenhum dos atributos é desbalanceado<br>"
   ]
  },
  {
   "cell_type": "code",
   "execution_count": 135,
   "metadata": {},
   "outputs": [
    {
     "data": {
      "text/plain": [
       "F    53\n",
       "M    48\n",
       "Name: Sex, dtype: int64"
      ]
     },
     "execution_count": 135,
     "metadata": {},
     "output_type": "execute_result"
    }
   ],
   "source": [
    "data2['Sex'].value_counts()"
   ]
  },
  {
   "cell_type": "code",
   "execution_count": 136,
   "metadata": {},
   "outputs": [
    {
     "data": {
      "text/plain": [
       "USA         30\n",
       "Brazil      20\n",
       "Scotland    16\n",
       "Canada      15\n",
       "Mexico       9\n",
       "Peru         5\n",
       "Portugal     4\n",
       "Mexico       2\n",
       "Name: Country of Birth, dtype: int64"
      ]
     },
     "execution_count": 136,
     "metadata": {},
     "output_type": "execute_result"
    }
   ],
   "source": [
    "data2['Country of Birth'].value_counts()"
   ]
  },
  {
   "cell_type": "markdown",
   "metadata": {},
   "source": [
    "---\n",
    "## Exercício 10) \n",
    "\n",
    "Verifique se há redundância em termos de: (i) linhas duplicadas, e (ii) atributos constantes e redundantes. Qual o resultado dessa análise?\n",
    "\n",
    "<font color='red'>(a) 4 linhas duplicadas; atributo constante: Profession; atributo redundante: Age<br></font>\n",
    "(b) 4 linhas duplicadas; atributo constante: Age; atributo redundante: Sex<br>\n",
    "(c) 3 linhas duplicadas; atributo constante: Profession; atributo redundante: City<br>\n",
    "(d) 3 linhas duplicadas; atributo constante: Name; atributo redundante: Year of Birth<br>"
   ]
  },
  {
   "cell_type": "code",
   "execution_count": 137,
   "metadata": {
    "scrolled": true
   },
   "outputs": [
    {
     "data": {
      "text/html": [
       "<div>\n",
       "<style scoped>\n",
       "    .dataframe tbody tr th:only-of-type {\n",
       "        vertical-align: middle;\n",
       "    }\n",
       "\n",
       "    .dataframe tbody tr th {\n",
       "        vertical-align: top;\n",
       "    }\n",
       "\n",
       "    .dataframe thead th {\n",
       "        text-align: right;\n",
       "    }\n",
       "</style>\n",
       "<table border=\"1\" class=\"dataframe\">\n",
       "  <thead>\n",
       "    <tr style=\"text-align: right;\">\n",
       "      <th></th>\n",
       "      <th>Name</th>\n",
       "      <th>Sex</th>\n",
       "      <th>Year of Birth</th>\n",
       "      <th>Country of Birth</th>\n",
       "      <th>City</th>\n",
       "      <th>Profession</th>\n",
       "      <th>Age</th>\n",
       "      <th>Salary</th>\n",
       "    </tr>\n",
       "  </thead>\n",
       "  <tbody>\n",
       "    <tr>\n",
       "      <th>7</th>\n",
       "      <td>Apolonia Abler</td>\n",
       "      <td>F</td>\n",
       "      <td>1967</td>\n",
       "      <td>Canada</td>\n",
       "      <td>Vancouver</td>\n",
       "      <td>Nurse</td>\n",
       "      <td>55</td>\n",
       "      <td>47469.2</td>\n",
       "    </tr>\n",
       "    <tr>\n",
       "      <th>8</th>\n",
       "      <td>Apolonia Abler</td>\n",
       "      <td>F</td>\n",
       "      <td>1967</td>\n",
       "      <td>Canada</td>\n",
       "      <td>Vancouver</td>\n",
       "      <td>Nurse</td>\n",
       "      <td>55</td>\n",
       "      <td>47469.2</td>\n",
       "    </tr>\n",
       "    <tr>\n",
       "      <th>16</th>\n",
       "      <td>Carlos Cobre</td>\n",
       "      <td>M</td>\n",
       "      <td>1983</td>\n",
       "      <td>Brazil</td>\n",
       "      <td>São Paulo</td>\n",
       "      <td>Nurse</td>\n",
       "      <td>39</td>\n",
       "      <td>51314.7</td>\n",
       "    </tr>\n",
       "    <tr>\n",
       "      <th>100</th>\n",
       "      <td>Savannah Ball</td>\n",
       "      <td>F</td>\n",
       "      <td>1974</td>\n",
       "      <td>USA</td>\n",
       "      <td>New Orleans</td>\n",
       "      <td>Nurse</td>\n",
       "      <td>48</td>\n",
       "      <td>58911.8</td>\n",
       "    </tr>\n",
       "  </tbody>\n",
       "</table>\n",
       "</div>"
      ],
      "text/plain": [
       "               Name Sex  Year of Birth Country of Birth         City  \\\n",
       "7    Apolonia Abler   F           1967           Canada    Vancouver   \n",
       "8    Apolonia Abler   F           1967           Canada    Vancouver   \n",
       "16     Carlos Cobre   M           1983           Brazil    São Paulo   \n",
       "100   Savannah Ball   F           1974              USA  New Orleans   \n",
       "\n",
       "    Profession  Age   Salary  \n",
       "7        Nurse   55  47469.2  \n",
       "8        Nurse   55  47469.2  \n",
       "16       Nurse   39  51314.7  \n",
       "100      Nurse   48  58911.8  "
      ]
     },
     "execution_count": 137,
     "metadata": {},
     "output_type": "execute_result"
    }
   ],
   "source": [
    "data2[data2.duplicated()]"
   ]
  },
  {
   "cell_type": "code",
   "execution_count": 138,
   "metadata": {},
   "outputs": [
    {
     "name": "stdout",
     "output_type": "stream",
     "text": [
      "Name\n",
      "Valores únicos: ['Albert Keller' 'Alexandre Ronaldo' 'Alton Thornton' 'Amelia Caldwell'\n",
      " 'Andre Logan' 'Apolonia Abler' 'Archie Hogan' 'Ariel Almada'\n",
      " 'Bennie Reeves' 'Bernard Summers' 'Billie Duncan' 'Brad Ferguson'\n",
      " 'Carlos Cobre' 'Casey Barnes' 'David Pittman' 'Desiree Dardar'\n",
      " 'Diego Colque' 'Donnie Adkins' 'Douglas Damario' 'Drew Wade'\n",
      " 'Eleanore Espitia' 'Elias Elmo' 'Elisa Cain' 'Elmer Walters'\n",
      " 'Eloi Fuentes' 'Erica Hudson' 'Esther Morgan' 'Eugenio Ewell'\n",
      " 'Ezequiel Anthony' 'Finley Rocha' 'Gabriel Paiva' 'Hailee Ochoa'\n",
      " 'Herta Hatley' 'Hubert Chapman' 'Ivo Izidro' 'Izaiah Duarte' 'Jada Judon'\n",
      " 'Jameson Mendoza' 'Jane Fernandez' 'Janet Hunter' 'Jeannette Lowe'\n",
      " 'Jim Foster' 'Joelle Jaffee' 'John Bradley' 'Karina Belarmino'\n",
      " 'Kathey Kleiman' 'Kathy Kerrigan' 'Kayden Todd' 'Kraig Kriner'\n",
      " 'Leanne Lowy' 'Lillian Labree' 'Lindsey Lever' 'Lora Lemoine'\n",
      " 'Lorraine Richards' 'Magali Mattos' 'Maia Banks' 'Maique Santos'\n",
      " 'Marcel Olsen' 'Marcos Magro' 'Margaret Keith' 'Mariann Mulero'\n",
      " 'Marla Olson' 'Marlon Moore' 'Marshall Vargas' 'Mayra Mcnish'\n",
      " 'Merle Clark' 'Michele Fletcher' 'Miriam Riley' 'Monica Rice'\n",
      " 'Norah Carey' 'Oleta Ouk' 'Pablo Alvarez' 'Paityn Hale' 'Payten Buck'\n",
      " 'Petra Cruz' 'Raelynn Murphy' 'Ramon West' 'Ricardo Rima'\n",
      " 'Ruby Singleton' 'Rupert Rollison' 'Savannah Ball' 'Shelley Mendoza'\n",
      " 'Sienna Contreras' 'Signe Seymore' 'Stuart Mathis' 'Susie Hodges'\n",
      " 'Terri Wilson' 'Valeri Vanegas' 'Vera Reid' 'Vinicius Vitorio'\n",
      " 'Virgil Griffin' 'Vivian Arnold' 'Wendell Freeman' 'Willene Wolfgram'\n",
      " 'Zachary Yates'] \n",
      "\n",
      "Sex\n",
      "Valores únicos: ['M' 'F'] \n",
      "\n",
      "Year of Birth\n",
      "Valores únicos: [1979 1980 1984 1977 1981 1967 1976 1965 1968 1989 1985 1983 1987 1958\n",
      " 1962 1970 1978 1969 1988 1974 1971 1972 1973 1986 1982 1957 2009 1961\n",
      " 1963 1966 1959 1960 1975] \n",
      "\n",
      "Country of Birth\n",
      "Valores únicos: ['USA' 'Portugal' 'Canada' 'Scotland' 'Brazil' 'Peru' 'Mexico ' 'Mexico'] \n",
      "\n",
      "City\n",
      "Valores únicos: ['New York' 'Lisbon' 'Vancouver' 'Edinburgh' 'Toronto' 'Austin'\n",
      " 'New Orleans' 'São Paulo' 'Lima' 'Acapulco' 'Wick' 'Arequipa'] \n",
      "\n",
      "Profession\n",
      "Valores únicos: ['Nurse'] \n",
      "\n",
      "Age\n",
      "Valores únicos: [43 42 38 45 41 55 46 57 54 33 37 39 35 64 60 52 44 53 34 48 51 50 49 36\n",
      " 40 65 13 61 59 56 63 62 47] \n",
      "\n",
      "Salary\n",
      "Valores únicos: [58905.7 53727.  50940.  50602.8 47447.6 32000.5 47469.2 45478.6 47150.7\n",
      " 53188.2 53984.6 50581.2 47711.  51314.7 51412.8 52518.4 69500.  56111.3\n",
      " 48766.7 68200.  59629.4 55004.4 48244.9 48708.4 51019.8 53144.2 56254.8\n",
      " 48587.6 48906.7 48778.1 52532.1 47973.3 51516.3 54388.5 54021.7 50473.7\n",
      " 49562.1 56975.2 46206.1 47699.4 55911.4 50003.6 50469.8 47422.9 52511.1\n",
      " 58558.  55661.5 48131.1 48451.2 50837.7 52494.9 55002.7 47363.4 59632.9\n",
      " 47350.  58376.4 50703.7 58063.4 49341.5 56335.9 45496.4 48111.3 49680.3\n",
      " 59091.8 53696.1 46957.2 55917.4 46308.4 53965.6 45656.6 47425.1 52950.\n",
      " 56590.7 46632.7 54925.6 54392.2 55239.5 47240.7 52762.2 53644.  50934.9\n",
      " 49492.3 58911.8 51110.6 45696.1 50534.9 59637.5 50418.9 58982.7 55715.3\n",
      " 46569.3 53626.3 45038.6 48790.6 54785.  49000.  47817.8] \n",
      "\n"
     ]
    }
   ],
   "source": [
    "for var in data2:\n",
    "    print(var)\n",
    "    print('Valores únicos:', data2[var].unique(), '\\n')"
   ]
  },
  {
   "cell_type": "code",
   "execution_count": null,
   "metadata": {},
   "outputs": [],
   "source": []
  }
 ],
 "metadata": {
  "kernelspec": {
   "display_name": "Python 3 (ipykernel)",
   "language": "python",
   "name": "python3"
  },
  "language_info": {
   "codemirror_mode": {
    "name": "ipython",
    "version": 3
   },
   "file_extension": ".py",
   "mimetype": "text/x-python",
   "name": "python",
   "nbconvert_exporter": "python",
   "pygments_lexer": "ipython3",
   "version": "3.10.2"
  }
 },
 "nbformat": 4,
 "nbformat_minor": 4
}
