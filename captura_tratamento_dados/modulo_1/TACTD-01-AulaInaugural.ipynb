{
 "cells": [
  {
   "cell_type": "markdown",
   "id": "29752a3b",
   "metadata": {},
   "source": [
    "# MBA em Ciência de Dados\n",
    "# Técnicas Avançadas de Captura e Tratamento de Dados\n",
    "\n",
    "Moacir Antonelli Ponti\n",
    "\n",
    "Luis Gustavo Nonato\n",
    "\n",
    "CeMEAI - ICMC/USP São Carlos\n",
    "\n",
    "---"
   ]
  },
  {
   "cell_type": "markdown",
   "id": "b6cd4df1",
   "metadata": {},
   "source": [
    "1. Dados estruturados e Nao Estruturados e problemas típicos em bases de dados (Moacir)\n",
    "\n",
    "2. Tratamento e limpeza de bases de dados (Moacir)\n",
    "\n",
    "3. Coleta e Preparação de atributos (Moacir)\n",
    "\n",
    "4. Mudança de representação de dados: (Gustavo)\n",
    "\n",
    "5. Dados não estruturados: Extraindo Textos (Gustavo)\n",
    "\n",
    "6. \"Estruturando Textos\": (Gustavo)\n",
    "\n",
    "7. Extração de características de sinais e imagens (Moacir)\n",
    "\n",
    "8. Web Scraping (Gustavo)\n",
    "\n"
   ]
  },
  {
   "cell_type": "markdown",
   "id": "c296efdd",
   "metadata": {},
   "source": [
    "\n",
    "<img src=\"./imagens/pipeline_tactd.png\" width=500>\n"
   ]
  },
  {
   "cell_type": "code",
   "execution_count": 1,
   "id": "51e42f91",
   "metadata": {},
   "outputs": [],
   "source": [
    "estado_civil = ['solteiro', 'casado', 'divorciado', 'viuvo']"
   ]
  },
  {
   "cell_type": "code",
   "execution_count": 2,
   "id": "e99a595c",
   "metadata": {},
   "outputs": [
    {
     "data": {
      "text/plain": [
       "'solteiro'"
      ]
     },
     "execution_count": 2,
     "metadata": {},
     "output_type": "execute_result"
    }
   ],
   "source": [
    "estado_civil[0]"
   ]
  },
  {
   "cell_type": "code",
   "execution_count": 3,
   "id": "a7735849",
   "metadata": {},
   "outputs": [
    {
     "data": {
      "text/plain": [
       "'casado'"
      ]
     },
     "execution_count": 3,
     "metadata": {},
     "output_type": "execute_result"
    }
   ],
   "source": [
    "estado_civil[1]"
   ]
  },
  {
   "cell_type": "code",
   "execution_count": 5,
   "id": "94b4fafa",
   "metadata": {},
   "outputs": [],
   "source": [
    "mapa_ec = {'solteiro':0, 'casado':1, 'divorciado':2, 'viuvo':3}"
   ]
  },
  {
   "cell_type": "code",
   "execution_count": 6,
   "id": "5581450f",
   "metadata": {},
   "outputs": [],
   "source": [
    "estado_civil = ['solteiro', 'casado', 'divorciado', 'viuvo', 'viuvo', 'solteiro']"
   ]
  },
  {
   "cell_type": "code",
   "execution_count": 7,
   "id": "aba8a533",
   "metadata": {},
   "outputs": [
    {
     "name": "stdout",
     "output_type": "stream",
     "text": [
      "['solteiro', 'casado', 'divorciado', 'viuvo', 'viuvo', 'solteiro']\n"
     ]
    }
   ],
   "source": [
    "print(estado_civil)"
   ]
  },
  {
   "cell_type": "code",
   "execution_count": 8,
   "id": "87af225c",
   "metadata": {},
   "outputs": [],
   "source": [
    "estado_civil_num = [mapa_ec[i] for i in estado_civil]"
   ]
  },
  {
   "cell_type": "code",
   "execution_count": 9,
   "id": "97260841",
   "metadata": {},
   "outputs": [
    {
     "data": {
      "text/plain": [
       "[0, 1, 2, 3, 3, 0]"
      ]
     },
     "execution_count": 9,
     "metadata": {},
     "output_type": "execute_result"
    }
   ],
   "source": [
    "estado_civil_num"
   ]
  },
  {
   "cell_type": "code",
   "execution_count": 10,
   "id": "b6385a66",
   "metadata": {},
   "outputs": [
    {
     "data": {
      "text/plain": [
       "-1"
      ]
     },
     "execution_count": 10,
     "metadata": {},
     "output_type": "execute_result"
    }
   ],
   "source": [
    "estado_civil_num[0] - estado_civil_num[1]"
   ]
  },
  {
   "cell_type": "code",
   "execution_count": 11,
   "id": "5c983939",
   "metadata": {},
   "outputs": [],
   "source": [
    "import numpy as np\n",
    "import pandas as pd"
   ]
  },
  {
   "cell_type": "code",
   "execution_count": 12,
   "id": "fe86da37",
   "metadata": {},
   "outputs": [],
   "source": [
    "df = pd.read_csv('dados/TACTD-01-DadosAula1.csv')"
   ]
  },
  {
   "cell_type": "code",
   "execution_count": 14,
   "id": "ccfab8de",
   "metadata": {},
   "outputs": [
    {
     "data": {
      "text/html": [
       "<div>\n",
       "<style scoped>\n",
       "    .dataframe tbody tr th:only-of-type {\n",
       "        vertical-align: middle;\n",
       "    }\n",
       "\n",
       "    .dataframe tbody tr th {\n",
       "        vertical-align: top;\n",
       "    }\n",
       "\n",
       "    .dataframe thead th {\n",
       "        text-align: right;\n",
       "    }\n",
       "</style>\n",
       "<table border=\"1\" class=\"dataframe\">\n",
       "  <thead>\n",
       "    <tr style=\"text-align: right;\">\n",
       "      <th></th>\n",
       "      <th>Sex</th>\n",
       "      <th>Weight</th>\n",
       "      <th>Gestational age</th>\n",
       "      <th>Month</th>\n",
       "      <th>Year</th>\n",
       "      <th>City</th>\n",
       "    </tr>\n",
       "  </thead>\n",
       "  <tbody>\n",
       "    <tr>\n",
       "      <th>0</th>\n",
       "      <td>F</td>\n",
       "      <td>3490.0</td>\n",
       "      <td>38</td>\n",
       "      <td>12</td>\n",
       "      <td>2016.0</td>\n",
       "      <td>São Carlos</td>\n",
       "    </tr>\n",
       "    <tr>\n",
       "      <th>1</th>\n",
       "      <td>M</td>\n",
       "      <td>3650.0</td>\n",
       "      <td>39</td>\n",
       "      <td>12</td>\n",
       "      <td>2016.0</td>\n",
       "      <td>São Carlos</td>\n",
       "    </tr>\n",
       "    <tr>\n",
       "      <th>2</th>\n",
       "      <td>M</td>\n",
       "      <td>2740.0</td>\n",
       "      <td>34</td>\n",
       "      <td>12</td>\n",
       "      <td>2016.0</td>\n",
       "      <td>São Carlos</td>\n",
       "    </tr>\n",
       "  </tbody>\n",
       "</table>\n",
       "</div>"
      ],
      "text/plain": [
       "  Sex  Weight  Gestational age  Month    Year        City\n",
       "0   F  3490.0               38     12  2016.0  São Carlos\n",
       "1   M  3650.0               39     12  2016.0  São Carlos\n",
       "2   M  2740.0               34     12  2016.0  São Carlos"
      ]
     },
     "execution_count": 14,
     "metadata": {},
     "output_type": "execute_result"
    }
   ],
   "source": [
    "df.head(3)"
   ]
  },
  {
   "cell_type": "code",
   "execution_count": 19,
   "id": "90ca6322",
   "metadata": {},
   "outputs": [
    {
     "name": "stdout",
     "output_type": "stream",
     "text": [
      "Sex\n",
      "Dados faltantes:  1\n",
      "Weight\n",
      "Dados faltantes:  1\n",
      "Gestational age\n",
      "Dados faltantes:  0\n",
      "Month\n",
      "Dados faltantes:  0\n",
      "Year\n",
      "Dados faltantes:  1\n",
      "City\n",
      "Dados faltantes:  0\n"
     ]
    }
   ],
   "source": [
    "for var in df.columns:\n",
    "    print(var)\n",
    "    print('Dados faltantes: ', np.sum(df[var].isna()))"
   ]
  },
  {
   "cell_type": "code",
   "execution_count": 22,
   "id": "82d260ff",
   "metadata": {},
   "outputs": [
    {
     "name": "stdout",
     "output_type": "stream",
     "text": [
      "Sex\n",
      "F    52\n",
      "M    18\n",
      "P     1\n",
      "Name: Sex, dtype: int64\n",
      "Weight\n",
      "3460.0    4\n",
      "3380.0    3\n",
      "3490.0    2\n",
      "3720.0    2\n",
      "3230.0    2\n",
      "3580.0    2\n",
      "3120.0    2\n",
      "3540.0    2\n",
      "4000.0    2\n",
      "3730.0    2\n",
      "3600.0    2\n",
      "3050.0    2\n",
      "2800.0    2\n",
      "3100.0    2\n",
      "3470.0    2\n",
      "3220.0    1\n",
      "3900.0    1\n",
      "4300.0    1\n",
      "4100.0    1\n",
      "4900.0    1\n",
      "2940.0    1\n",
      "3280.0    1\n",
      "4150.0    1\n",
      "3800.0    1\n",
      "3640.0    1\n",
      "3700.0    1\n",
      "2880.0    1\n",
      "3750.0    1\n",
      "2920.0    1\n",
      "3880.0    1\n",
      "3480.0    1\n",
      "3690.0    1\n",
      "2500.0    1\n",
      "3610.0    1\n",
      "2740.0    1\n",
      "3820.0    1\n",
      "2790.0    1\n",
      "1850.0    1\n",
      "3270.0    1\n",
      "3200.0    1\n",
      "3550.0    1\n",
      "2780.0    1\n",
      "2200.0    1\n",
      "3790.0    1\n",
      "3680.0    1\n",
      "3570.0    1\n",
      "3980.0    1\n",
      "3300.0    1\n",
      "3860.0    1\n",
      "3130.0    1\n",
      "3650.0    1\n",
      "2950.0    1\n",
      "3450.0    1\n",
      "Name: Weight, dtype: int64\n",
      "Gestational age\n",
      "38    15\n",
      "37    12\n",
      "40    11\n",
      "36     9\n",
      "39     7\n",
      "35     5\n",
      "41     3\n",
      "33     3\n",
      "42     3\n",
      "34     2\n",
      "43     1\n",
      "32     1\n",
      "Name: Gestational age, dtype: int64\n",
      "Month\n",
      "1     15\n",
      "12    12\n",
      "2     12\n",
      "5     12\n",
      "3     11\n",
      "4     10\n",
      "Name: Month, dtype: int64\n",
      "Year\n",
      "2017.0     58\n",
      "2016.0     12\n",
      "22017.0     1\n",
      "Name: Year, dtype: int64\n",
      "City\n",
      "São Carlos    72\n",
      "Name: City, dtype: int64\n"
     ]
    }
   ],
   "source": [
    "for var in df.columns:\n",
    "    print(var)\n",
    "    print(df[var].value_counts())"
   ]
  },
  {
   "cell_type": "code",
   "execution_count": 23,
   "id": "728aa99d",
   "metadata": {},
   "outputs": [
    {
     "data": {
      "text/plain": [
       "(72, 6)"
      ]
     },
     "execution_count": 23,
     "metadata": {},
     "output_type": "execute_result"
    }
   ],
   "source": [
    "df.shape"
   ]
  },
  {
   "cell_type": "markdown",
   "id": "a82452a4",
   "metadata": {},
   "source": [
    "EAST - OpenCV\n",
    "\n",
    "OCR - Optical Character Recognition\n",
    "\n",
    "ETL - Extract, Transform, Load"
   ]
  },
  {
   "cell_type": "code",
   "execution_count": null,
   "id": "10510bf9",
   "metadata": {},
   "outputs": [],
   "source": []
  }
 ],
 "metadata": {
  "kernelspec": {
   "display_name": "Python 3 (ipykernel)",
   "language": "python",
   "name": "python3"
  },
  "language_info": {
   "codemirror_mode": {
    "name": "ipython",
    "version": 3
   },
   "file_extension": ".py",
   "mimetype": "text/x-python",
   "name": "python",
   "nbconvert_exporter": "python",
   "pygments_lexer": "ipython3",
   "version": "3.10.2"
  }
 },
 "nbformat": 4,
 "nbformat_minor": 5
}
