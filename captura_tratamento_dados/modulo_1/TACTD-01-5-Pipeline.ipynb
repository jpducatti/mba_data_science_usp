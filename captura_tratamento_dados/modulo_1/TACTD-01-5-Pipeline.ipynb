{
 "cells": [
  {
   "cell_type": "markdown",
   "metadata": {},
   "source": [
    "# MBA em Ciência de Dados\n",
    "# Técnicas Avançadas de Captura e Tratamento de Dados\n",
    "\n",
    "### <span style=\"color:darkred\">Dados estruturados e não estruturados e problemas típicos em bases de dados</span>\n",
    "\n",
    "## <span style=\"color:darkred\">Pipeline geral de coleta e tratamento de dados</span>\n",
    "\n",
    "Moacir Antonelli Ponti\n",
    "\n",
    "CeMEAI - ICMC/USP São Carlos\n",
    "\n",
    "---"
   ]
  },
  {
   "cell_type": "markdown",
   "metadata": {},
   "source": [
    "## Pipeline geral\n",
    "\n",
    "<img src=\"./imagens/pipeline_tactd.png\" width=450>\n",
    "\n",
    "O fluxo de análise de dados inclui a **coleta**, **pré-processamento** e modelagem.\n",
    "\n",
    "Coleta + Pré-processamento são referentes à ETL (Extract, transform, load)\n",
    "\n",
    "Caso os dados tenham origem não estruturada, é preciso antes realizar o próprio pré-processamento e extração de características, estruturando os dados."
   ]
  },
  {
   "cell_type": "markdown",
   "metadata": {},
   "source": [
    "## Pipeline geral de pré-processamento\n",
    "\n",
    "Ainda que não seja possível estabelecer uma regra, de forma geral temos o seguinte fluxo de operações de pré-processamento de dados\n",
    "\n",
    "<img src=\"./imagens/pipeline_tactd_preproc.png\" width=500>\n"
   ]
  },
  {
   "cell_type": "markdown",
   "metadata": {},
   "source": [
    "1. Começamos por analisar e tratar a **corretude** dos atributos, incluindo seu tipo e valores, analisando a distribuição dos dados observados\n",
    "\n",
    "\n",
    "2. A seguir, analisamos **redundância** removendo atributos constantes e linhas duplicadas\n",
    "\n",
    "\n",
    "3. Valores **errôneos** que possam ser corrigidos, devem ser tratados. Os que não puderem ser corrigidos são removidos\n",
    "\n",
    "\n",
    "4. Análise de dados **faltantes** (deve ser feita em paralelo com outliers): verificando a ocorrência dos dados, em quais atributos aparecem, e se há algum mecanismo de correlação com outras variáveis que nos indique que possa ser realizado preechimento\n",
    "    * deve-se evitar preencher dados sensíveis,\n",
    "    * o preenchimento com base em dados completos tanto da *própria* variavel quanto utilizando valores de *outras* variáveis, depende também de analisar outliers,\n",
    "    * ao preencher dados faltantes, é preciso retornar ao início do pipeline para verificar novamente redundância e outros problemas.\n",
    "    \n",
    "    \n",
    "5. Análise e tratamento de **outliers**: possibilita entender quais pontos recaem fora do comumente observado nas variáveis\n",
    "    * uma análise inicial poderia apenas listar a ocorrência desses outliers,\n",
    "    * técnicas de detecção de outliers podem terminar por identificar valores incorretos, os quais podem ser por exemplo erros na coleta ou ruído,\n",
    "    * ao identificar outliers (possivelmente removendo parte deles) é preciso retornar para o início do pipeline, pois isso influencia na análise de dados errôneos e faltantes."
   ]
  }
 ],
 "metadata": {
  "kernelspec": {
   "display_name": "Python 3 (ipykernel)",
   "language": "python",
   "name": "python3"
  },
  "language_info": {
   "codemirror_mode": {
    "name": "ipython",
    "version": 3
   },
   "file_extension": ".py",
   "mimetype": "text/x-python",
   "name": "python",
   "nbconvert_exporter": "python",
   "pygments_lexer": "ipython3",
   "version": "3.10.2"
  }
 },
 "nbformat": 4,
 "nbformat_minor": 4
}
