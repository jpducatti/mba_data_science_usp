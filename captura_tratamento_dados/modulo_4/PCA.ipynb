{
 "cells": [
  {
   "cell_type": "markdown",
   "metadata": {
    "colab_type": "text",
    "id": "9kdygJxF-KGC"
   },
   "source": [
    "# <font color='blue'> MBA em Ciência de Dados</font>\n",
    "# <font color='blue'>Técnicas Avançadas para Captura e Tratamento de Dados</font>\n",
    "\n",
    "## <font color='blue'>Análise de Componentes Principais - PCA</font>\n",
    "**Material Produzido por Luis Gustavo Nonato**<br>\n",
    "**Cemeai - ICMC/USP São Carlos**\n",
    "---"
   ]
  },
  {
   "cell_type": "markdown",
   "metadata": {
    "colab_type": "text",
    "id": "VUTnR8cS-KGG"
   },
   "source": [
    "## Conteúdo\n",
    "- Conceitos Fundamentais \n",
    "  - Covariância\n",
    "  - Matriz de Covariância\n",
    "- Componentes Principais\n",
    "  - Propriedades\n",
    "- Cálculo das Componentes Principais\n",
    "\n",
    "----\n",
    "\n",
    "Bibliograpia:\n",
    "- [A Tutorial on Principal Components Analysis,  Jonathon Shlens](https://arxiv.org/pdf/1404.1100.pdf)\n",
    "- [Principal Component Analysis,\n",
    "H. Abdi, L.J. Williams](https://wwwpub.utdallas.edu/~herve/abdi-wireCS-PCA2010-inpress.pdf)"
   ]
  },
  {
   "cell_type": "markdown",
   "metadata": {},
   "source": [
    "## Conceitos Básicos\n",
    "A compreenção do método de Análise de Componentes Principais envolve quatro conceitos matemáticos:\n",
    "1. Matriz de Covariância e suas Propriedades\n",
    "2. Mudança de Base\n",
    "3. Teorema Espectral\n",
    "4. Quociente de Rayleigh"
   ]
  },
  {
   "cell_type": "markdown",
   "metadata": {
    "colab_type": "text",
    "id": "vhW3jQ46-KGc"
   },
   "source": [
    "### <font color='blue'>Matriz de Covariância</font>\n",
    "Considere duas sequências de valores $\\mathbf{x}=\\{x_1,x_2,\\ldots,x_k\\}$ e $\\mathbf{y}=\\{y_1,y_2,\\ldots,y_k\\}$. \n",
    "\n",
    "A covariância entre $\\mathbf{x}$ e $\\mathbf{y}$ é definida como:\n",
    "$$\n",
    "cov(\\mathbf{x},\\mathbf{y}) = \\frac{1}{n}\\sum_i (x_i-\\mu_x)(y_i-\\mu_y)\n",
    "$$\n",
    "onde $\\mu_x$ e $\\mu_y$ são a média dos valores de $\\mathbf{x}$ e $\\mathbf{y}$, respectivamente."
   ]
  },
  {
   "cell_type": "markdown",
   "metadata": {
    "colab_type": "text",
    "id": "9e8nqY1s-KGe"
   },
   "source": [
    "Considere $\\mathbf{X}=\\{\\mathbf{x}_1,\\ldots,\\mathbf{x}_n\\} $ um conjunto de pontos em  $\\mathbb{R}^d$. \n",
    "\n",
    "Pode-se organizar os pontos como colunas de uma matriz $\\mathbf{X}$ (matriz de dados) com dimensões $d\\times n$:\n",
    "\n",
    "$$\n",
    "   \\mathbf{X}=\n",
    "    \\begin{bmatrix}\n",
    "      |&|&&|\\\\\n",
    "      \\mathbf{x}_1&\\mathbf{x}_2&\\dots&\\mathbf{x}_n\\\\\n",
    "      |&|&&|\n",
    "    \\end{bmatrix}=\n",
    "    \\begin{bmatrix}\n",
    "      x_{11}                & {x_{12}} &\\dots  & x_{1n}\\\\\n",
    "      {x_{21}} & x_{22}               &\\dots  & {x_{2n}}\\\\\n",
    "      \\vdots               &\\vdots               &\\ddots &\\vdots\\\\\n",
    "      x_{d1}                & {x_{d2}}&\\dots  & x_{dn}\n",
    "    \\end{bmatrix}\n",
    "$$\n",
    "\n",
    "Denotando as linhas da matriz $\\mathbf{X}$ por ${x}_{1:},\\ldots,{x}_{d:}$, \n",
    "a matriz de covariância de $\\mathbf{X}$ é:\n",
    "\n",
    "$$\n",
    "cov(\\mathbf{X})=\n",
    "\\begin{bmatrix}\n",
    "      {cov(x_{1:},x_{1:})} & cov(x_{1:},x_{2:})          & \\dots  &cov(x_{1:},x_{d:})\\\\\n",
    "      cov(x_{2:},x_{1:})          & {cov(x_{2:},x_{2:})} & \\dots  &cov(x_{2:},x_{d:})\\\\\n",
    "      \\vdots                      &      \\vdots                 &\\ddots  &\\vdots\\\\\n",
    "      cov(x_{d:},x_{1:})          &cov(x_{d:},x_{2:})           &\\dots   &{cov(x_{d:},x_{d:})}\n",
    "\\end{bmatrix}\n",
    "$$\n",
    "\n",
    "**Importante**: \n",
    "- Cada entrada da matrix $cov(\\mathbf{X})$ corresponde a correlação entre duas coordenadas do conjunto de pontos  $\\mathbf{X}$.\n",
    "- Os elementos na diagonal da matriz correspondem à variância de cada coordenada."
   ]
  },
  {
   "cell_type": "code",
   "execution_count": 14,
   "metadata": {
    "colab": {
     "base_uri": "https://localhost:8080/",
     "height": 335
    },
    "colab_type": "code",
    "id": "XhM9Mmro7P-B",
    "outputId": "c4c0d263-071b-415f-cd68-f0480447fe94"
   },
   "outputs": [
    {
     "data": {
      "image/png": "[encoded data removed]",
      "text/plain": [
       "<Figure size 864x432 with 2 Axes>"
      ]
     },
     "metadata": {
      "needs_background": "light"
     },
     "output_type": "display_data"
    }
   ],
   "source": [
    "import matplotlib.pyplot as plt\n",
    "import numpy as np\n",
    "\n",
    "n=100\n",
    "X = np.zeros((2,n))\n",
    "X[0,:] = np.random.uniform(-1,1,size=(1,n))\n",
    "X[1,:] = 4*X[0,:]+np.random.uniform(-0.15,0.15,size=(1,n))\n",
    "f, (ax1, ax2)  = plt.subplots(1,2,figsize=(12,6))\n",
    "\n",
    "ax1.set_aspect('equal')\n",
    "ax1.axis('off')\n",
    "ax1.scatter(X[0,:],X[1,:],marker='o',color='red',edgecolor='black', linewidth=1);\n",
    "ax1.plot([0,0],[-5,5],color='black');\n",
    "ax1.plot([-5,5],[0,0],color='black');\n",
    "ax1.plot([0,0],[-4,4],color='blue',linewidth=5);\n",
    "ax1.plot([0,1],[4,4],':k');\n",
    "ax1.plot([0,-1],[-4,-4],':k');\n",
    "ax1.annotate('variancia da coordenada y', xy=(-0.05, 3), xytext=(-6, 3),\n",
    "             arrowprops=dict(facecolor='black', shrink=0.05),\n",
    "             );\n",
    "\n",
    "ax2.set_aspect('equal')\n",
    "ax2.axis('off')\n",
    "ax2.scatter(X[0,:],X[1,:],marker='o',color='red',edgecolor='black', linewidth=1);\n",
    "ax2.plot([0,0],[-5,5],color='black');\n",
    "ax2.plot([-5,5],[0,0],color='black');\n",
    "ax2.plot([-1,1],[0,0],color='blue',linewidth=5);\n",
    "ax2.plot([1,1],[4,0],':k');\n",
    "ax2.plot([-1,-1],[-4,0],':k');\n",
    "ax2.annotate('variancia da coordenada x', xy=(-0.5, 0), xytext=(-6, 2),\n",
    "             arrowprops=dict(facecolor='black', shrink=0.05),\n",
    "             );"
   ]
  },
  {
   "cell_type": "code",
   "execution_count": 17,
   "metadata": {
    "colab": {
     "base_uri": "https://localhost:8080/",
     "height": 373
    },
    "colab_type": "code",
    "id": "G1r6w8o-Gxh7",
    "outputId": "3be26e47-74f2-4e38-bf1c-a593c8e37a5e"
   },
   "outputs": [
    {
     "data": {
      "image/png": "[encoded data removed]",
      "text/plain": [
       "<Figure size 864x432 with 2 Axes>"
      ]
     },
     "metadata": {
      "needs_background": "light"
     },
     "output_type": "display_data"
    }
   ],
   "source": [
    "import matplotlib.pyplot as plt\n",
    "import numpy as np\n",
    "\n",
    "\n",
    "f, (ax1, ax2)  = plt.subplots(1,2,figsize=(12,6))\n",
    "\n",
    "n = 100\n",
    "\n",
    "#### figura da esquerda\n",
    "Xc = np.zeros((2,n))\n",
    "Xc[0,:] = np.random.uniform(-1,1,size=(1,n))\n",
    "Xc[1,:] = Xc[0,:]+np.random.uniform(-0.15,0.15,size=(1,n))\n",
    "Xc[0,0] = 0.95\n",
    "Xc[1,0] = 0.8\n",
    "Xc[0,1] = -0.1\n",
    "Xc[1,1] = 0.1\n",
    "\n",
    "ax1.axis('off')\n",
    "ax1.scatter(Xc[0,:],Xc[1,:],marker='o',color='red',edgecolor='black', linewidth=1);\n",
    "ax1.plot([0,0],[-1,1],color='black');\n",
    "ax1.plot([-1,1],[0,0],color='black');\n",
    "ax1.set_title(r'$cov(x,y)\\approx 1$');\n",
    "ax1.text(Xc[0,0]+0.1, Xc[1,0], r'$(x\\uparrow,y\\uparrow)$');\n",
    "ax1.plot([Xc[0,0],Xc[0,0],0],[0,Xc[1,0],Xc[1,0]],'--k');\n",
    "ax1.text(Xc[0,1]-0.4, Xc[1,1], r'$(x\\downarrow,y\\downarrow)$');\n",
    "ax1.plot([Xc[0,1],Xc[0,1],0],[0,Xc[1,1],Xc[1,1]],'--k');\n",
    "\n",
    "#### figura da direita\n",
    "Xnc = np.zeros((2,n))\n",
    "Xnc[0,:] = np.random.uniform(-1,1,size=(1,n))\n",
    "Xnc[1,:] = np.random.uniform(-1,1,size=(1,n))\n",
    "Xnc[0,0] = 0.95\n",
    "Xnc[1,0] = 0.1\n",
    "\n",
    "ax2.axis('off')\n",
    "ax2.scatter(Xnc[0,:],Xnc[1,:],marker='o',color='red',edgecolor='black', linewidth=1);\n",
    "ax2.plot([0,0],[-1,1],color='black');\n",
    "ax2.plot([-1,1],[0,0],color='black');\n",
    "ax2.set_title(r'$cov(x,y)\\approx 0$');\n",
    "ax2.text(Xnc[0,0]+0.1, Xnc[1,0], r'$(x\\uparrow,y\\downarrow)$');\n",
    "ax2.plot([Xnc[0,0],Xnc[0,0],0],[0,Xnc[1,0],Xnc[1,0]],'--k');"
   ]
  },
  {
   "cell_type": "markdown",
   "metadata": {
    "colab_type": "text",
    "id": "_HoZ4TpvQUE1"
   },
   "source": [
    "**Propriedades**:\n",
    "\n",
    "2. $cov(\\mathbf{X})$ é uma matriz simétrica\n",
    "3. $cov(\\mathbf{X})$ é semi definida positiva \n",
    "\n",
    "---\n",
    "**Prova da propriedade 3**: $cov(\\mathbf{X})$ é semi definida positiva\n",
    "\n",
    "O segredo da prova é enxergar que:\n",
    "$$\n",
    "cov(\\mathbf{X})=\\frac{1}{n}\\sum_i (\\mathbf{x}_{i}-\\mu)(\\mathbf{x}_{i}-\\mu)^\\top\n",
    "$$\n",
    "onde $\\mu=\\frac{1}{n}\\sum_i \\mathbf{x}_{i}$\n",
    "\n",
    "Assim,\n",
    "$$\n",
    "\\mathbf{u}^\\top cov(\\mathbf{X})\\mathbf{u}\\\\\n",
    "=\\mathbf{u}^\\top\\left( \\frac{1}{n}\\sum_i (\\mathbf{x}_{i}-\\mu)(\\mathbf{x}_{i}-\\mu)^\\top \\right)\\mathbf{u}\\\\\n",
    "=  \\frac{1}{n}\\sum_i \\mathbf{u}^\\top(\\mathbf{x}_{i}-\\mu)(\\mathbf{x}_{i}-\\mu)^\\top \\mathbf{u}\\\\\n",
    "=\\frac{1}{n}\\sum_i \\left((\\mathbf{x}_{i}-\\mu)^\\top \\mathbf{u}\\right)^2\\geq 0\n",
    "$$\n",
    "\n",
    "---"
   ]
  },
  {
   "cell_type": "markdown",
   "metadata": {
    "colab_type": "text",
    "id": "QXF9HW-HG0Y9"
   },
   "source": [
    "Assumindo que os dados estão centralizados, isto é, $\\mu=0$, a matriz de covariância pode ser calculada como:\n",
    "\n",
    "$$\n",
    "cov(\\mathbf{X})=\\frac{1}{n}\\mathbf{X}\\mathbf{X}^\\top\n",
    "$$"
   ]
  },
  {
   "cell_type": "markdown",
   "metadata": {
    "colab_type": "text",
    "id": "t28kzLJZ-KGi"
   },
   "source": [
    "## Análise de Componentes Principais \n",
    "(Principal Component Analysis - PCA)\n",
    "\n",
    "A idéia do método de _Análise de Componentes Principais_ é encontrar uma nova base para representar os dados de modo que a covariância entre coordenadas distintas nesta nova base seja zero.\n"
   ]
  },
  {
   "cell_type": "code",
   "execution_count": 19,
   "metadata": {
    "colab": {
     "base_uri": "https://localhost:8080/",
     "height": 373
    },
    "colab_type": "code",
    "id": "4D2GkVMdJZf7",
    "outputId": "2f25b9bb-9b2f-47d4-b515-8f6d25613157"
   },
   "outputs": [
    {
     "data": {
      "image/png": "[encoded data removed]",
      "text/plain": [
       "<Figure size 864x432 with 2 Axes>"
      ]
     },
     "metadata": {
      "needs_background": "light"
     },
     "output_type": "display_data"
    }
   ],
   "source": [
    "import matplotlib.pyplot as plt\n",
    "import numpy as np\n",
    "\n",
    "\n",
    "f, (ax1, ax2)  = plt.subplots(1,2,figsize=(12,6))\n",
    "\n",
    "n = 100\n",
    "\n",
    "#### figura da esquerda\n",
    "Xc = np.zeros((2,n))\n",
    "Xc[0,:] = np.random.uniform(-1,1,size=(1,n))\n",
    "Xc[1,:] = Xc[0,:]+np.random.uniform(-0.15,0.15,size=(1,n))\n",
    "\n",
    "ax1.axis('off')\n",
    "ax1.scatter(Xc[0,:],Xc[1,:],marker='o',color='red',edgecolor='black', linewidth=1);\n",
    "ax1.plot([0,0],[-1,1],color='black');\n",
    "ax1.plot([-1,1],[0,0],color='black');\n",
    "\n",
    "#### figura da direita\n",
    "ax2.axis('off')\n",
    "ax2.set_aspect('equal')\n",
    "ax2.set_title('Novo sistema de coordenadas');\n",
    "ax2.scatter(Xc[0,:],Xc[1,:],marker='o',color='red',edgecolor='black', linewidth=1);\n",
    "ax2.plot([-1,1],[-1,1],color='black');\n",
    "ax2.plot([-0.5,0.5],[0.5,-0.5],color='black');"
   ]
  },
  {
   "cell_type": "markdown",
   "metadata": {},
   "source": [
    "---\n",
    "### <font color='blue'>Matriz de mudança de base\n",
    "</font>\n",
    "\n",
    "Seja $\\mathbf{x}=\\{x_1,\\ldots,x_d\\}$ um ponto representado na base Cartesiana, ou seja:\n",
    "\n",
    "$$\n",
    "\\mathbf{x}=x_1(1,0,0,\\ldots,0)+x_2(0,1,0,\\ldots,0)+\\cdots+x_d(0,0,0,\\ldots,1)\n",
    "$$\n",
    "\n",
    "Seja $\\mathbf{U}$ a matriz cujas colunas $\\mathbf{u}_1,\\mathbf{u}_2,\\cdots,\\mathbf{u}_d$ formam uma base ortogonal para o espaço $\\mathbb{R}^d$. As coordendas do ponto $\\mathbf{x}$ na base formada pelos vetores $\\mathbf{u}_i$ são dadas por:\n",
    "\n",
    "$$\n",
    "\\mathbf{y} = \\mathbf{U}^\\top\\mathbf{x}\n",
    "$$\n",
    "\n",
    "---"
   ]
  },
  {
   "cell_type": "code",
   "execution_count": 24,
   "metadata": {},
   "outputs": [
    {
     "data": {
      "image/png": "[encoded data removed]",
      "text/plain": [
       "<Figure size 864x432 with 2 Axes>"
      ]
     },
     "metadata": {
      "needs_background": "light"
     },
     "output_type": "display_data"
    }
   ],
   "source": [
    "import matplotlib.pyplot as plt\n",
    "import numpy as np\n",
    "\n",
    "\n",
    "\n",
    "#### Gerando 6 pontos representados no sistema cartesiano\n",
    "#### cuja base é e1=[1,0] e e2=[0,1]\n",
    "Xc = np.array([[-0.1, -0.15, -0.2, 0.1, 0.13, 0.23],[0.4, 0.45, 0.3, 0.5, 0.53, 0.38]])\n",
    "\n",
    "#### Considere uma nova base dada pelos vetores u1=[1,1] e u2[-1,1]\n",
    "U = np.asarray([[1,-1],[1,1]])  # matriz de mudança de base\n",
    "Yc = np.dot(U.T,Xc)             # coordenadas na nova base\n",
    "\n",
    "f, (ax1, ax2)  = plt.subplots(1,2,figsize=(12,6))\n",
    "\n",
    "ax1.axis('off')\n",
    "ax1.set_aspect('equal')\n",
    "ax1.set_title('Sistema Cartesiano');\n",
    "ax1.scatter(Xc[0,:],Xc[1,:],marker='o',color='red',edgecolor='black', linewidth=1);\n",
    "ax1.arrow(0,0,1,0,color='black');\n",
    "ax1.arrow(0,0,0,1,color='black');\n",
    "ax1.set_xlim(-1, 1)\n",
    "ax1.set_ylim(-1, 1)\n",
    "ax1.arrow(0,0,1,1,color='blue');\n",
    "ax1.arrow(0,0,-1,1,color='blue');\n",
    "ax1.annotate('nova base', xy=(0.3, 0.3), xytext=(0.5, 0.3),\n",
    "             arrowprops=dict(facecolor='blue', shrink=0.05, width=1),\n",
    "             );\n",
    "\n",
    "#### figura da direita\n",
    "ax2.axis('off')\n",
    "ax2.set_aspect('equal')\n",
    "ax2.set_xlim(-1, 1)\n",
    "ax2.set_ylim(-1, 1)\n",
    "ax2.set_title('Novo sistema de coordenadas');\n",
    "ax2.scatter(Yc[0,:],Yc[1,:],marker='o',color='red',edgecolor='black', linewidth=1);\n",
    "ax2.arrow(0,0,1,0,color='blue');\n",
    "ax2.arrow(0,0,0,1,color='blue');"
   ]
  },
  {
   "cell_type": "markdown",
   "metadata": {
    "colab_type": "text",
    "id": "i05Xq6k9-KGk"
   },
   "source": [
    "No contexto de PCA, buscamos uma matriz de mudança de base $\\mathbf{P}$ tal que\n",
    "\n",
    "$$\n",
    "\\mathbf{Y}=\\mathbf{P}\\mathbf{X} \\Longrightarrow \\mathbf{Y}\\mathbf{Y}^\\top = \\mathbf{D}\n",
    "$$\n",
    "\n",
    "onde $\\mathbf{D}$ é uma matriz diagonal onde os elementos da diagonal correspondem a variância de cada uma das coordenadas.\n",
    "\n",
    "Uma vez que $\\mathbf{P}$ tenha sido calculada:\n",
    "\n",
    "- as coordenadas dos pontos na nova base serão descorrelacionadas\n",
    "- algumas das coordenadas terão variância próximo de zero (coordenadas relacionada com ruído nos dados)\n",
    "- a dimensão dos dados poderá ser reduzida sem grandes perdas de informação"
   ]
  },
  {
   "cell_type": "markdown",
   "metadata": {
    "colab_type": "text",
    "id": "D1qAHz12-KGl"
   },
   "source": [
    "**Calculando a mudança de base**\n",
    "\n",
    "$$\n",
    "\\mathbf{Y}=\\mathbf{P}\\mathbf{X} \n",
    "$$\n",
    "\n",
    "$$\n",
    "\\mathbf{Y}\\mathbf{Y}^\\top=(\\mathbf{PX})(\\mathbf{PX})^\\top=\\mathbf{P}\\mathbf{X}\\mathbf{X}^\\top\\mathbf{P}^\\top\n",
    "$$\n",
    "\n",
    "---\n",
    "### <font color='blue'> Teorema Espectral</font>\n",
    "\n",
    "Se $\\mathbf{A}$ é matriz simétrica, então:\n",
    "$$\n",
    "\\mathbf{A}=\\mathbf{UDU}^\\top \\rightarrow \\mathbf{U}^\\top\\mathbf{AU}=\\mathbf{D}\n",
    "$$\n",
    "onde $\\mathbf{U}$ é matriz ortogonal contendo os autovetores de $\\mathbf{A}$ e $\\mathbf{D}$ é matriz diagonal contendo os autovalores reais de $\\mathbf{A}$\n",
    "\n",
    "---\n",
    "\n",
    "$\\mathbf{XX}^\\top$ é uma matriz simétrica semi-definida positiva. Logo, os autovalores $\\lambda _i$ são reais e não negativos. Armazenando os autovetores de $\\mathbf{XX}^\\top$ em uma matriz  $\\mathbf{U}$ e fazendo:\n",
    "\n",
    "$$\\mathbf{P}=\\mathbf{U}^\\top$$\n",
    "\n",
    "$$\\mathbf{YY}^\\top=\\mathbf{U}^\\top\\mathbf{X}\\mathbf{X}^\\top\\mathbf{U} = \\mathbf{D}$$\n",
    "\n",
    "$$\n",
    "\\mathbf{D}=\n",
    "\\begin{bmatrix}\n",
    "cov(y_{1:},y_{1:}) & 0 & \\ldots & 0 \\\\\n",
    "0 & cov(y_{2:},y_{2:}) & \\ldots & 0 \\\\\n",
    "  &            & \\vdots & \\\\\n",
    "0 & 0 & \\ldots & cov(y_{d:},y_{d:}) \\\\\n",
    "\\end{bmatrix}\n",
    "$$\n",
    "\n",
    "**Importante**: $cov(y_{i:},y_{i:}) = \\lambda_i$, ou seja, os autovalores de $\\mathbf{XX}^\\top$ correspondem as variâncias das coordenadas na nova base. Os autovetores de $\\mathbf{XX}^\\top$ são os elementos da nova base, sendo que coordenadas distintas dos dados nesta nova base são \"descorrelacionadas\"."
   ]
  },
  {
   "cell_type": "code",
   "execution_count": 33,
   "metadata": {
    "colab": {
     "base_uri": "https://localhost:8080/",
     "height": 335
    },
    "colab_type": "code",
    "id": "I1Rrski92b2c",
    "outputId": "9de13213-13f0-4ffa-97bc-32cbc8c16135"
   },
   "outputs": [
    {
     "data": {
      "image/png": "[encoded data removed]",
      "text/plain": [
       "<Figure size 864x432 with 2 Axes>"
      ]
     },
     "metadata": {
      "tags": []
     },
     "output_type": "display_data"
    }
   ],
   "source": [
    "import matplotlib.pyplot as plt\n",
    "import numpy as np\n",
    "\n",
    "\n",
    "plt.rcParams['figure.figsize'] = [12, 6]\n",
    "f, (ax1, ax2)  = plt.subplots(1,2)\n",
    "\n",
    "n = 100\n",
    "\n",
    "#### figura da esquerda\n",
    "Xc = np.zeros((2,n))\n",
    "Xc[0,:] = np.random.uniform(-1,1,size=(1,n))\n",
    "Xc[1,:] = Xc[0,:]+np.random.uniform(-0.2,0.2,size=(1,n))\n",
    "\n",
    "#### figura da direita\n",
    "ax1.axis('off')\n",
    "ax1.set_aspect('equal')\n",
    "ax1.scatter(Xc[0,:],Xc[1,:],marker='o',color='red',edgecolor='black', linewidth='1');\n",
    "ax1.plot([-1.3,1.3],[-1.3,1.3],color='black');\n",
    "ax1.plot([-0.65,0.65],[0.65,-0.65],color='black');\n",
    "ax1.plot([-1,1],[-1,1],color='blue',linewidth=5);\n",
    "ax1.annotate(r'$cov(y_1,y_1)=\\lambda_1$', xy=(0.2, 0.2), xytext=(0.4, -0.1),\n",
    "              arrowprops=dict(facecolor='black', shrink=0.00,width=1),\n",
    "              );\n",
    "\n",
    "#### figura da direita\n",
    "ax2.axis('off')\n",
    "ax2.set_aspect('equal')\n",
    "ax2.scatter(Xc[0,:],Xc[1,:],marker='o',color='red',edgecolor='black', linewidth='1');\n",
    "ax2.plot([-1.3,1.3],[-1.3,1.3],color='black');\n",
    "ax2.plot([-0.65,0.65],[0.65,-0.65],color='black');\n",
    "ax2.plot([-0.17,0.17],[0.17,-0.17],color='blue',linewidth=5);\n",
    "ax2.annotate(r'$cov(y_2,y_2)=\\lambda_2$', xy=(0.15, -0.15), xytext=(0.5, 0),\n",
    "             arrowprops=dict(facecolor='black', shrink=0.05, width=1),\n",
    "             );"
   ]
  },
  {
   "cell_type": "markdown",
   "metadata": {
    "colab_type": "text",
    "id": "i8VoyOOH7n8X"
   },
   "source": [
    "As coordenadas dos pontos no novo sistema de coordenadas são dados por:\n",
    "$$\n",
    "\\mathbf{y_i}=\\mathbf{U}^\\top\\mathbf{x_i}\n",
    "$$"
   ]
  },
  {
   "cell_type": "markdown",
   "metadata": {},
   "source": [
    "---\n",
    "### <font color='blue'>Quociente de Rayleigh</font>\n",
    "    \n",
    "Assumindo que os autovalores estão ordenados $\\lambda_1\\geq\\cdots\\geq\\lambda_d$, o _Quociente de Rayleigh_ assegura:\n",
    "\n",
    "$$\n",
    "\\mathbf{u}_1^\\top\\mathbf{XX}^\\top\\mathbf{u}_1=\\lambda_1 \\rightarrow \\mathbf{u}_1 \\mbox{ (direção de maior variância)}\\\\\n",
    "\\mathbf{u}_d^\\top\\mathbf{XX}^\\top\\mathbf{u}_d=\\lambda_d \\rightarrow \\mathbf{u}_d \\mbox{ (direção de menor variância)}\n",
    "$$\n",
    "\n",
    "\n",
    "---"
   ]
  },
  {
   "cell_type": "markdown",
   "metadata": {
    "colab_type": "text",
    "id": "h-5Wpq4_-xg7"
   },
   "source": [
    "Desta forma, pode-se desprezar as direções (coordenadas) de menor variância, uma vez que estas tipicamente correspondem a ruído nos dados\n",
    "\n",
    "$$\n",
    "\\hat{\\mathbf{Y}}=\n",
    "\\begin{bmatrix}\n",
    "y_{11} & y_{21} & \\cdots & y_{n1} \\\\\n",
    "       &        & \\vdots & \\\\\n",
    "y_{1k} & y_{2k} & \\cdots & y_{n} \\\\\n",
    "0 & 0 & \\cdots & 0 \\\\\n",
    "       &        & \\vdots & \\\\\n",
    "0 & 0 & \\cdots & 0 \\\\\n",
    "\\end{bmatrix}\n",
    "$$\n",
    "\n",
    "pode-se reconstuir os dados \"sem ruído\" na base original fazendo:\n",
    "\n",
    "$$\n",
    "\\hat{\\mathbf{X}}=\\mathbf{U}\\hat{\\mathbf{Y}}\n",
    "$$"
   ]
  },
  {
   "cell_type": "markdown",
   "metadata": {},
   "source": [
    "### <font color='blue'>Quantidade de Informação Capturada em Cada Direção Principal</font>\n",
    "\n",
    "Como visto acima, as direções com variância próximas de zero podem ser desconsideradas, uma vez que correspondem ao ruído inerente dos dados. \n",
    "\n",
    "Podemos medir a \"quantidade de informação\" capturada por cada direção através da chamada _proporção de variância explicada_, que matemáticamente é dada por:\n",
    "\n",
    "$$\n",
    "\\frac{\\lambda_i}{\\lambda_1+\\cdots+\\lambda_d}\n",
    "$$\n",
    "\n",
    "Para cada $i$, o valor acima mede a proporção da variância capturada por cada direção principal. Desta forma, se quisermos encontrar quantas direções são necessárias para\n",
    "capturar 90% da variância, basta encontrarmos o menor $k$ tal que:\n",
    "\n",
    "$$\n",
    "\\frac{1}{\\lambda_1+\\cdots+\\lambda_d}\\sum_{i=1}^k \\lambda_i \\geq 0.9\n",
    "$$"
   ]
  },
  {
   "cell_type": "markdown",
   "metadata": {
    "colab_type": "text",
    "id": "Y5Lkr0CA-KGo"
   },
   "source": [
    "______\n",
    "\n",
    "# Calculando PCA em Python "
   ]
  },
  {
   "cell_type": "code",
   "execution_count": 14,
   "metadata": {
    "colab": {},
    "colab_type": "code",
    "id": "n-E6AYqP-KGq"
   },
   "outputs": [],
   "source": [
    "###########\n",
    "# importing the packages\n",
    "###########\n",
    "import pandas as pd\n",
    "import numpy as np\n",
    "\n",
    "import matplotlib.pyplot as plt\n",
    "%matplotlib inline"
   ]
  },
  {
   "cell_type": "code",
   "execution_count": 15,
   "metadata": {
    "colab": {
     "base_uri": "https://localhost:8080/",
     "height": 35
    },
    "colab_type": "code",
    "id": "xUMI42Mv-KGw",
    "outputId": "bb841cf9-d396-4b49-e54a-1d4952e6fb0f",
    "scrolled": true
   },
   "outputs": [
    {
     "name": "stdout",
     "output_type": "stream",
     "text": [
      "(6238, 618)\n"
     ]
    }
   ],
   "source": [
    "###########\n",
    "# reading data_frame\n",
    "###########\n",
    "\n",
    "file_name = 'isolet1234.csv'\n",
    "\n",
    "df = pd.read_csv(file_name)\n",
    "print(df.shape)"
   ]
  },
  {
   "cell_type": "code",
   "execution_count": 16,
   "metadata": {
    "colab": {
     "base_uri": "https://localhost:8080/",
     "height": 157
    },
    "colab_type": "code",
    "id": "7qCv64Sm-KG3",
    "outputId": "e481194d-595e-4baa-da07-81bb61ae0a82"
   },
   "outputs": [
    {
     "name": "stdout",
     "output_type": "stream",
     "text": [
      "       c0      c1      c2      c3      c4      c5      c6      c7\n",
      "0 -0.4394 -0.0930  0.1718  0.4620  0.6226  0.4704  0.3578  0.0478\n",
      "1 -0.4348 -0.1198  0.2474  0.4036  0.5026  0.6328  0.4948  0.0338\n",
      "2 -0.2330  0.2124  0.5014  0.5222 -0.3422 -0.5840 -0.7168 -0.6342\n",
      "3 -0.3808 -0.0096  0.2602  0.2554 -0.4290 -0.6746 -0.6868 -0.6650\n",
      "4 -0.3412  0.0946  0.6082  0.6216 -0.1622 -0.3784 -0.4324 -0.4358\n",
      "5 -0.4634  0.0306  0.3546  0.4448 -0.1022 -0.4184 -0.6388 -0.4370\n",
      "6 -0.3364 -0.0102  0.2132  0.2018 -0.6146 -0.8380 -0.8130 -0.7240\n",
      "7 -0.4798 -0.1580  0.1764  0.1820 -0.6378 -0.8400 -0.7280 -0.6654\n",
      "8 -0.3928  0.0424  0.2166  0.2124 -0.4564 -0.6200 -0.7112 -0.6602\n",
      "9 -0.5494 -0.0940  0.2868  0.2964 -0.5326 -0.7204 -0.7518 -0.7398\n"
     ]
    }
   ],
   "source": [
    "###########\n",
    "# printing the 10 rows and 8 columns of the DataFrame\n",
    "###########\n",
    "\n",
    "print(df.iloc[:10,:8])"
   ]
  },
  {
   "cell_type": "code",
   "execution_count": 17,
   "metadata": {
    "colab": {
     "base_uri": "https://localhost:8080/",
     "height": 35
    },
    "colab_type": "code",
    "id": "ChQbrGJU-KHC",
    "outputId": "eae104e4-1187-46de-d5b2-c8dc782eda6f"
   },
   "outputs": [
    {
     "name": "stdout",
     "output_type": "stream",
     "text": [
      "<class 'numpy.ndarray'>\n"
     ]
    }
   ],
   "source": [
    "###########\n",
    "# converting data columns to numpy array\n",
    "###########\n",
    "\n",
    "data = df.values\n",
    "print(type(data))"
   ]
  },
  {
   "cell_type": "code",
   "execution_count": 9,
   "metadata": {
    "colab": {
     "base_uri": "https://localhost:8080/",
     "height": 392
    },
    "colab_type": "code",
    "id": "-nvQ4iJD-KHJ",
    "outputId": "e7856f19-4951-4d11-b508-ae6e9f6807ae"
   },
   "outputs": [
    {
     "data": {
      "text/plain": [
       "[<matplotlib.lines.Line2D at 0x7f8a3939d670>]"
      ]
     },
     "execution_count": 9,
     "metadata": {},
     "output_type": "execute_result"
    },
    {
     "data": {
      "image/png": "[encoded data removed]",
      "text/plain": [
       "<Figure size 864x432 with 2 Axes>"
      ]
     },
     "metadata": {
      "needs_background": "light"
     },
     "output_type": "display_data"
    }
   ],
   "source": [
    "from sklearn.decomposition import PCA\n",
    "\n",
    "data_pca=PCA(svd_solver='full') #pedindo para calcular todas as componentes principais\n",
    "data_transformed = data_pca.fit(data) #retorna objeto com a transformação dos dados\n",
    "\n",
    "# print(data_transformed.explained_variance_)\n",
    "# print('\\n ',data_transformed.explained_variance_ratio_)\n",
    "\n",
    "###########\n",
    "# 1 - as variâncias que mostra quanto cada dado está variando em relação a cada\n",
    "#   uma das direções principais (explained_variance)\n",
    "# 2 - a explained_variance_ratio oferece a importância de cada uma das direções principais\n",
    "#   ao somar todas as variâncias e dividir pelo número de variâncias \n",
    "###########\n",
    "\n",
    "plt.rcParams['figure.figsize'] = [12, 6]\n",
    "f, (ax1, ax2)  = plt.subplots(1,2)\n",
    "\n",
    "ax1.plot(data_pca.explained_variance_ratio_, '*') \n",
    "ax2.plot(data_pca.explained_variance_ratio_[:20], '*') \n",
    "\n",
    "# como ler o gráfico: X  = um atributo (coluna) - Y = importância em explicar a variância\n",
    "#   dos dados (o espalahamento dos dados).\n",
    "# Lendo a figura abaixo, por ter muitas colunas (direções) que apenas capturam ruídos nos\n",
    "#   dados (ou seja, pode jogar elas fora)"
   ]
  },
  {
   "cell_type": "code",
   "execution_count": 11,
   "metadata": {
    "colab": {
     "base_uri": "https://localhost:8080/",
     "height": 283
    },
    "colab_type": "code",
    "id": "DTc0UZa1-KHU",
    "outputId": "ed684981-c2d3-4e35-8f6b-492c263a4ae0"
   },
   "outputs": [
    {
     "name": "stdout",
     "output_type": "stream",
     "text": [
      "(6238, 2)\n"
     ]
    },
    {
     "data": {
      "text/plain": [
       "<matplotlib.collections.PathCollection at 0x7f8a0bf14850>"
      ]
     },
     "execution_count": 11,
     "metadata": {},
     "output_type": "execute_result"
    },
    {
     "data": {
      "image/png": "[encoded data removed]",
      "text/plain": [
       "<Figure size 864x432 with 1 Axes>"
      ]
     },
     "metadata": {
      "needs_background": "light"
     },
     "output_type": "display_data"
    }
   ],
   "source": [
    "###########\n",
    "# projecting data in 2D\n",
    "###########\n",
    "\n",
    "pca_proj=PCA(n_components=2)\n",
    "data_2d=pca_proj.fit_transform(data) #fit = não projeta os dados originais em cima das direções\n",
    "                                     #fit_transform = projeta os dados originais em cima das 2 componentes\n",
    "                                     #fit_transform output = novo conjunto de dados com n_componentes de dados\n",
    "print(data_2d.shape)\n",
    "\n",
    "plt.scatter(data_2d[:,0],data_2d[:,1])\n",
    "\n",
    "###########\n",
    "# da para ver nos dados clusters\n",
    "# os cluster aqui no caso são conjunto de pessoas que estão falando a mesma letra\n",
    "#   do alfabeto\n",
    "# cluster grudados podemos entender que são letras que apresentam pronúncia similar\n",
    "###########"
   ]
  },
  {
   "cell_type": "code",
   "execution_count": null,
   "metadata": {},
   "outputs": [],
   "source": []
  }
 ],
 "metadata": {
  "colab": {
   "collapsed_sections": [],
   "name": "PCA.ipynb",
   "provenance": []
  },
  "kernelspec": {
   "display_name": "Python 3",
   "language": "python",
   "name": "python3"
  },
  "language_info": {
   "codemirror_mode": {
    "name": "ipython",
    "version": 3
   },
   "file_extension": ".py",
   "mimetype": "text/x-python",
   "name": "python",
   "nbconvert_exporter": "python",
   "pygments_lexer": "ipython3",
   "version": "3.9.7"
  }
 },
 "nbformat": 4,
 "nbformat_minor": 1
}
