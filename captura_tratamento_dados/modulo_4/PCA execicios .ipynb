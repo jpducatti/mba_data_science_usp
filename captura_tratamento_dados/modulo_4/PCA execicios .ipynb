{
 "cells": [
  {
   "cell_type": "markdown",
   "metadata": {},
   "source": [
    "# <span style=\"color:blue\"> MBA em Ciência de Dados</span>\n",
    "# <span style=\"color:blue\">Técnicas Avançadas para Captura e Tratamento de Dados</span>\n",
    "\n",
    "## <span style=\"color:blue\">Análise de Componentes Principais<br> Exercícios</span>\n",
    "**Material Produzido por Luis Gustavo Nonato**<br>\n",
    "**Cemeai - ICMC/USP São Carlos**\n",
    "---"
   ]
  },
  {
   "cell_type": "markdown",
   "metadata": {},
   "source": [
    "<font color='red'> Recomendamos fortemente resolver os exercícios sem consultar as soluções antecipadamente </font>"
   ]
  },
  {
   "cell_type": "markdown",
   "metadata": {},
   "source": [
    "Os exercícios abaixo farão uso do conjunto de dados <font style=\"font-family: monaco\">blobs.csv</font> disponível no _moodle_."
   ]
  },
  {
   "cell_type": "code",
   "execution_count": 7,
   "metadata": {},
   "outputs": [],
   "source": [
    "import numpy as np\n",
    "import pandas as pd\n",
    "import matplotlib.pyplot as plt\n",
    "from sklearn.decomposition import PCA\n"
   ]
  },
  {
   "cell_type": "markdown",
   "metadata": {},
   "source": [
    "### Exercício 1)\n",
    "Calcule as direções principais do conjunto de dados armazenado na variável X definida no código abaixo. Imprima as 3 direções principais com maior variância."
   ]
  },
  {
   "cell_type": "code",
   "execution_count": 113,
   "metadata": {},
   "outputs": [
    {
     "name": "stdout",
     "output_type": "stream",
     "text": [
      "(500, 25)\n"
     ]
    },
    {
     "data": {
      "text/plain": [
       "array([[  3.5026708 ,  -5.63831164,   7.60230719, ...,  -9.89075569,\n",
       "         -4.34843495,  -2.61391916],\n",
       "       [  4.39088303,  -2.60805681,   3.63916569, ...,   9.06250443,\n",
       "          2.2620999 ,  -1.30843859],\n",
       "       [ -8.55636771,  -4.42000769,  -9.04887885, ..., -10.26211956,\n",
       "          5.43162455,  -8.79717075],\n",
       "       ...,\n",
       "       [  1.65935139,   0.32048765,  11.14855586, ...,   8.67603827,\n",
       "          3.24300446,   4.43383576],\n",
       "       [  2.20814697,   0.31312644,  11.67622952, ...,  12.11266488,\n",
       "          3.81058997,   4.29179988],\n",
       "       [  0.742847  ,   5.16353264,   2.42154806, ...,  -1.07651259,\n",
       "          6.51252434,  -6.80213272]])"
      ]
     },
     "execution_count": 113,
     "metadata": {},
     "output_type": "execute_result"
    }
   ],
   "source": [
    "X = pd.read_csv('blobs.csv').values\n",
    "print(X.shape)\n",
    "X\n"
   ]
  },
  {
   "cell_type": "code",
   "execution_count": 126,
   "metadata": {},
   "outputs": [
    {
     "name": "stdout",
     "output_type": "stream",
     "text": [
      "\n",
      "Tres direcoes com maior variancia\n",
      "\n",
      "[[ 1.92197646e-02 -2.06435693e-02  2.03149133e-02  2.85215074e-02\n",
      "  -9.90931578e-03  6.80511220e-04  1.11433172e-02 -6.95451279e-03\n",
      "  -9.92677418e-01  3.67757946e-02 -1.85597158e-02  1.95100212e-02\n",
      "   1.83684280e-02 -4.39279974e-02  2.90013592e-02  1.70472900e-02\n",
      "   5.19817429e-02 -1.05752911e-02  1.55291901e-02 -7.74234160e-03\n",
      "   3.98920576e-03 -1.37186521e-02  5.08262800e-02 -8.95014464e-03\n",
      "   2.89781030e-02]\n",
      " [ 1.79461688e-01  1.01948228e-01  1.16622674e-01  1.94845330e-01\n",
      "   1.55385732e-01  1.62598385e-01  9.51584471e-03  3.46145642e-01\n",
      "  -4.89428134e-02 -8.16320250e-02  3.00809995e-01  1.32208382e-01\n",
      "   1.42191888e-01  3.14145675e-01 -1.88654700e-01 -9.56956086e-02\n",
      "  -3.32721341e-01  3.93560366e-01 -1.26123633e-01  3.48592275e-01\n",
      "   1.98752815e-01  4.19471732e-02 -4.46140845e-02 -5.39292086e-02\n",
      "  -7.40742427e-02]\n",
      " [-2.39084918e-01 -7.29413297e-02 -3.58568151e-01  2.96299394e-02\n",
      "  -1.51125110e-02  3.43591444e-02 -8.80850946e-02 -8.82816898e-02\n",
      "  -6.31773624e-02  2.99191495e-02  6.88384400e-02  1.51308823e-01\n",
      "  -2.52784725e-01  2.71706976e-01  2.92705370e-01 -2.99007166e-02\n",
      "  -1.23772461e-01  3.05377227e-02 -1.43574207e-01  8.39087526e-02\n",
      "  -3.49095506e-01  2.60544574e-02 -5.07069038e-01  5.65323246e-02\n",
      "  -3.27909434e-01]]\n"
     ]
    }
   ],
   "source": [
    "data_pca=PCA(svd_solver='full')\n",
    "data_transf=data_pca.fit(X)\n",
    "\n",
    "print('\\nTres direcoes com maior variancia\\n')\n",
    "print(data_transf.components_[0:3])"
   ]
  },
  {
   "cell_type": "markdown",
   "metadata": {},
   "source": [
    "### Exercício 2)\n",
    "Faça um gráfico mostrando o decaimento no valor das variâncias. Faça um segundo gráfico mostrando o decaimento no valor da proporção de variância explicada por cada direção principal.\n",
    "\n",
    "**Dica**: Utilize os atributos \"explained_variance_\" e \"explained_variance_ratio_\". Veja [documentação](https://scikit-learn.org/stable/modules/generated/sklearn.decomposition.PCA.html) para entender claramente a diferença entre tais atributos."
   ]
  },
  {
   "cell_type": "code",
   "execution_count": 52,
   "metadata": {},
   "outputs": [
    {
     "data": {
      "text/plain": [
       "[<matplotlib.lines.Line2D at 0x7fc0610db1f0>]"
      ]
     },
     "execution_count": 52,
     "metadata": {},
     "output_type": "execute_result"
    },
    {
     "data": {
      "image/png": "[encoded data removed]",
      "text/plain": [
       "<Figure size 864x432 with 2 Axes>"
      ]
     },
     "metadata": {
      "needs_background": "light"
     },
     "output_type": "display_data"
    }
   ],
   "source": [
    "plt.rcParams['figure.figsize'] = [12, 6]\n",
    "f, (ax1, ax2)  = plt.subplots(1,2)\n",
    "\n",
    "ax1.plot(data_transf.explained_variance_, '*')\n",
    "ax2.plot(data_transf.explained_variance_ratio_, '*') "
   ]
  },
  {
   "cell_type": "markdown",
   "metadata": {},
   "source": [
    "### Exercício 3)\n",
    "Calcule quantas direções principais são necessárias para representar $80\\%$ da variância contida nos dados."
   ]
  },
  {
   "cell_type": "code",
   "execution_count": 155,
   "metadata": {},
   "outputs": [
    {
     "name": "stdout",
     "output_type": "stream",
     "text": [
      "Número de Componentes : 3\n",
      "Porcentagem da Informação : 83.07000000000001 %\n"
     ]
    }
   ],
   "source": [
    "# O atributo \"explained_variance_ratio_\" contém a porcentagem de\n",
    "# informação representada em cada direção (ordenado da maior para a menor)\n",
    "# Para encontrar o número de direções necessárias para representar\n",
    "# 80% da informação basta somar os valores de \"explained_variance_ratio_\"\n",
    "# até que se obtenha 80%\n",
    "\n",
    "percentage_info = data_transf.explained_variance_ratio_\n",
    "\n",
    "sum_var = 0\n",
    "for i in range(percentage_info.shape[0]):\n",
    "    sum_var += round(percentage_info[i]*100,2)\n",
    "    if sum_var >= 80:\n",
    "        n_comp = i+1\n",
    "        break\n",
    "\n",
    "print('Número de Componentes :', n_comp)\n",
    "print('Porcentagem da Informação :', sum_var, '%')"
   ]
  },
  {
   "cell_type": "markdown",
   "metadata": {},
   "source": [
    "### Exercício 4)\n",
    "Utilizando apenas as duas componentes com maior variância, projete os dados originais nestas duas componentes e faça um \"scatter plot\" dos dados em duas dimensões."
   ]
  },
  {
   "cell_type": "code",
   "execution_count": 156,
   "metadata": {},
   "outputs": [
    {
     "name": "stdout",
     "output_type": "stream",
     "text": [
      "(500, 2)\n"
     ]
    },
    {
     "data": {
      "text/plain": [
       "<matplotlib.collections.PathCollection at 0x7fc01038da30>"
      ]
     },
     "execution_count": 156,
     "metadata": {},
     "output_type": "execute_result"
    },
    {
     "data": {
      "image/png": "[encoded data removed]",
      "text/plain": [
       "<Figure size 864x432 with 1 Axes>"
      ]
     },
     "metadata": {
      "needs_background": "light"
     },
     "output_type": "display_data"
    }
   ],
   "source": [
    "data_pca = PCA(n_components=2)\n",
    "data_2 = data_pca.fit_transform(X)\n",
    "\n",
    "print(data_2.shape)\n",
    "\n",
    "plt.scatter(data_2[:,0],data_2[:,1])\n"
   ]
  },
  {
   "cell_type": "markdown",
   "metadata": {},
   "source": [
    "### Exercício 5)\n",
    "Analisando o \"scatter plot\" do exercício anterior você deve ter notado que existem _outliers_ nos dados originais (pontos muito distantes dos demais). Encontre os _outliers_ e remova-os dos dados originais."
   ]
  },
  {
   "cell_type": "code",
   "execution_count": 157,
   "metadata": {},
   "outputs": [],
   "source": [
    "def remove_outliers_IQR(df, attributes, factor=1.5):\n",
    "    \"\"\"Funcao para remover outliers com base no IQR\n",
    "    Parametros:\n",
    "        - df : dataframe\n",
    "        - attributes: atributos a considerar na remoção\n",
    "        - factor: fator do IQR a considerar\n",
    "    Retorno:\n",
    "        dataframe com os outliers removidos\n",
    "    \"\"\"\n",
    "    dfn = df.copy()\n",
    "    \n",
    "    for var in attributes:\n",
    "        # verifica se variável é numerica\n",
    "        if np.issubdtype(df[var].dtype, np.number):\n",
    "            Q1 = dfn[var].quantile(0.25)\n",
    "            #Q2 = dfn[var].quantile(0.50)\n",
    "            Q3 = dfn[var].quantile(0.75)\n",
    "            IQR = Q3 - Q1\n",
    "            \n",
    "            # apenas inliers segundo IQR\n",
    "            dfn = dfn.loc[(df[var] >= Q1-(IQR*factor)) & (df[var] <= Q3+(IQR*factor)),:]\n",
    "\n",
    "    return dfn"
   ]
  },
  {
   "cell_type": "code",
   "execution_count": 158,
   "metadata": {},
   "outputs": [
    {
     "name": "stdout",
     "output_type": "stream",
     "text": [
      "Shape dos dados originais : (500, 25)\n",
      "Shape dos dados sem outliers : (399, 25)\n"
     ]
    }
   ],
   "source": [
    "df = pd.DataFrame(data=X)\n",
    "\n",
    "print('Shape dos dados originais :', df.shape)\n",
    "\n",
    "df = remove_outliers_IQR(df, df.columns, factor = 1.5)\n",
    "\n",
    "print('Shape dos dados sem outliers :', df.shape)\n"
   ]
  },
  {
   "cell_type": "markdown",
   "metadata": {},
   "source": [
    "### Exercício 6)\n",
    "Um dos problemas de PCA é sua sensibilidade à outliers, isto é, outliers interferem muito no cálculo das direções principais. Recalcule as direções principais dos dados cujos outliers foram removidos e verifique o quanto a direção principal de maior variância mudou.\n",
    "\n",
    "**DICA**: utilize o ângulo entre as direções principais com e sem outliers para medir a mudança nas direções."
   ]
  },
  {
   "cell_type": "code",
   "execution_count": 160,
   "metadata": {},
   "outputs": [
    {
     "name": "stdout",
     "output_type": "stream",
     "text": [
      "1.2431867627010416\n",
      "angulo de  71.23145544682077  graus entre direcoes principais\n"
     ]
    }
   ],
   "source": [
    "pca_obj2=PCA(svd_solver='full')\n",
    "df_transformed = pca_obj2.fit(df)\n",
    "\n",
    "# Calculando o ângulo entre as direções principais com e \n",
    "# sem outliers: cos(angulo) = np.dot(v1,v2)/(np.norm(v1)*np.norm(v2))\n",
    "# angulo = arccos(np.dot(v1,v2)/(np.linalg.norm(v1)*np.linalg.norm(v2)))\n",
    "\n",
    "v1 = data_transf.components_[0] # direcao principal de maior variancia com outliers\n",
    "v2 = df_transformed.components_[0] # direcao principal de maior variancia sem outliers\n",
    "\n",
    "cos_comp = np.dot(v1,v2)/(np.linalg.norm(v1)*np.linalg.norm(v2))               \n",
    "ang = np.arccos(cos_comp)\n",
    "print(ang)\n",
    "print('angulo de ',ang*180/3.1415,' graus entre direcoes principais')"
   ]
  },
  {
   "cell_type": "markdown",
   "metadata": {},
   "source": [
    "### Exercício 7)\n",
    "Compare visualmente o decaimento da proporção de variância explicada com e sem outliers (valores do atributo \"explained_variance_ratio_\"). "
   ]
  },
  {
   "cell_type": "code",
   "execution_count": null,
   "metadata": {},
   "outputs": [],
   "source": []
  },
  {
   "cell_type": "markdown",
   "metadata": {},
   "source": [
    "### Exercício 8)\n",
    "Qual a proporção de variância explicada pelas 4 primeiras componentes principais após a remoção dos outliers?"
   ]
  },
  {
   "cell_type": "code",
   "execution_count": null,
   "metadata": {},
   "outputs": [],
   "source": []
  },
  {
   "cell_type": "markdown",
   "metadata": {},
   "source": [
    "### Exercício 9)\n",
    "Repita o exercício 4), utilizando os dados sem outliers, ou seja, projete os dados sem outliers nas duas primeiras direções principais e faça um scatter plot.\n",
    "\n",
    "Os clusters contidos nos dados devem ser claramente visíveis após a remoção dos outliers."
   ]
  },
  {
   "cell_type": "code",
   "execution_count": null,
   "metadata": {},
   "outputs": [],
   "source": []
  }
 ],
 "metadata": {
  "kernelspec": {
   "display_name": "Python 3",
   "language": "python",
   "name": "python3"
  },
  "language_info": {
   "codemirror_mode": {
    "name": "ipython",
    "version": 3
   },
   "file_extension": ".py",
   "mimetype": "text/x-python",
   "name": "python",
   "nbconvert_exporter": "python",
   "pygments_lexer": "ipython3",
   "version": "3.9.7"
  }
 },
 "nbformat": 4,
 "nbformat_minor": 2
}
