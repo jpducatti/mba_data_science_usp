{
  "cells": [
    {
      "cell_type": "markdown",
      "metadata": {
        "id": "tcA3KLlzi2I7"
      },
      "source": [
        "# <span style=\"color:blue\"> MBA em Ciência de Dados</span>\n",
        "# <span style=\"color:blue\">Técnicas Avançadas para Captura e Tratamento de Dados</span>\n",
        "\n",
        "## <span style=\"color:blue\">Análise de Componentes Principais -  Avaliação</span>\n",
        "**Material Produzido por Luis Gustavo Nonato**<br>\n",
        "**Cemeai - ICMC/USP São Carlos**\n",
        "---"
      ]
    },
    {
      "cell_type": "markdown",
      "metadata": {
        "id": "FJnHHIzEi2I-"
      },
      "source": [
        "Os exercícios abaixo farão uso do conjunto de dados <font style=\"font-family: monaco\">blobs2.csv</font> disponível no _moodle_. Na instanciação do PCA utilize o parâmetro: svd_solver='full'"
      ]
    },
    {
      "cell_type": "code",
      "execution_count": null,
      "metadata": {
        "id": "wNyU0e7Di2I_"
      },
      "outputs": [],
      "source": [
        "import numpy as np\n",
        "import pandas as pd\n",
        "import matplotlib.pyplot as plt"
      ]
    },
    {
      "cell_type": "markdown",
      "metadata": {
        "id": "SLW49NGNi2JA"
      },
      "source": [
        "### Exercício 1)\n",
        "Calcule as direções principais dos dados contidos no arquivo <font style=\"font-family: monaco\">blobs2.csv</font>. Qual a quantidade (porcentagem) de variância explicada pela direção principal de maior variância?\n",
        "\n",
        "a) 17%<br>\n",
        "b) 22%<br>\n",
        "c) 35% <br>\n",
        "d) 42%\n"
      ]
    },
    {
      "cell_type": "code",
      "execution_count": null,
      "metadata": {
        "id": "FDk1TCpXi2JB"
      },
      "outputs": [],
      "source": [
        "# Solucao"
      ]
    },
    {
      "cell_type": "markdown",
      "metadata": {
        "id": "5qg3jgG-i2JC"
      },
      "source": [
        "### Exercício 2)\n",
        "Qual o número mínimo de direções principais necessárias para representar $75\\%$ da variância contida nos dados?\n",
        "\n",
        "a) 4<br>\n",
        "b) 5<br>\n",
        "c) 6<br>\n",
        "d) 7"
      ]
    },
    {
      "cell_type": "code",
      "execution_count": null,
      "metadata": {
        "id": "GJOeQPmyi2JD"
      },
      "outputs": [],
      "source": [
        "# Solucao"
      ]
    },
    {
      "cell_type": "markdown",
      "metadata": {
        "id": "c8SRRTuci2JE"
      },
      "source": [
        "### Exercício 3)\n",
        "Existem _outliers_ nos dados originais. Utilize z-score com um threshold de 2.8 para identificar os outliers e removê-los dos dados. Quantos outliers foram identificados?\n",
        "\n",
        "a) 3<br>\n",
        "b) 4<br>\n",
        "c) 5<br>\n",
        "d) 6"
      ]
    },
    {
      "cell_type": "code",
      "execution_count": null,
      "metadata": {
        "id": "7aeeAdj4i2JF"
      },
      "outputs": [],
      "source": [
        "# Solucao"
      ]
    },
    {
      "cell_type": "markdown",
      "metadata": {
        "id": "LmmJOmuzi2JF"
      },
      "source": [
        "### Exercício 4)\n",
        "Qual a variância representada pelas três primeiras componentes principais após a remoção dos outliers?\n",
        "\n",
        "a) aproximadamente 90% <br>\n",
        "b) aproximadamente 97% <br>\n",
        "c) aproximadamente 80% <br>\n",
        "d) aproximadamente 75% "
      ]
    },
    {
      "cell_type": "code",
      "execution_count": null,
      "metadata": {
        "id": "S4Yz1jYfi2JG"
      },
      "outputs": [],
      "source": [
        "# Solução"
      ]
    },
    {
      "cell_type": "markdown",
      "metadata": {
        "id": "Hd2sYsjti2JG"
      },
      "source": [
        "### Exercício 5)\n",
        "Projete os dados com e sem outliers nas duas primeiras direções principais. Quantos clusters você consegue visualizar na projeção dos dados com e sem outliers, respectivamente?\n",
        "\n",
        "a) 1 e 4<br>\n",
        "b) 6 e 5<br>\n",
        "c) 4 e 4<br>\n",
        "d) 3 e 4.\n"
      ]
    },
    {
      "cell_type": "code",
      "execution_count": null,
      "metadata": {
        "id": "Q2v2lZtFi2JH"
      },
      "outputs": [],
      "source": [
        "# Solucao"
      ]
    }
  ],
  "metadata": {
    "kernelspec": {
      "display_name": "Python 3",
      "language": "python",
      "name": "python3"
    },
    "language_info": {
      "codemirror_mode": {
        "name": "ipython",
        "version": 3
      },
      "file_extension": ".py",
      "mimetype": "text/x-python",
      "name": "python",
      "nbconvert_exporter": "python",
      "pygments_lexer": "ipython3",
      "version": "3.8.8"
    },
    "colab": {
      "name": "PCA avaliacao.ipynb",
      "provenance": []
    }
  },
  "nbformat": 4,
  "nbformat_minor": 0
}