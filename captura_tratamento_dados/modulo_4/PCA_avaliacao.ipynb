{
  "cells": [
    {
      "cell_type": "markdown",
      "metadata": {
        "id": "tcA3KLlzi2I7"
      },
      "source": [
        "# <span style=\"color:blue\"> MBA em Ciência de Dados</span>\n",
        "# <span style=\"color:blue\">Técnicas Avançadas para Captura e Tratamento de Dados</span>\n",
        "\n",
        "## <span style=\"color:blue\">Análise de Componentes Principais -  Avaliação</span>\n",
        "**Material Produzido por Luis Gustavo Nonato**<br>\n",
        "**Cemeai - ICMC/USP São Carlos**\n",
        "---"
      ]
    },
    {
      "cell_type": "markdown",
      "metadata": {
        "id": "FJnHHIzEi2I-"
      },
      "source": [
        "Os exercícios abaixo farão uso do conjunto de dados <font style=\"font-family: monaco\">blobs2.csv</font> disponível no _moodle_. Na instanciação do PCA utilize o parâmetro: svd_solver='full'"
      ]
    },
    {
      "cell_type": "code",
      "execution_count": 2,
      "metadata": {
        "id": "wNyU0e7Di2I_"
      },
      "outputs": [],
      "source": [
        "import numpy as np\n",
        "import pandas as pd\n",
        "import matplotlib.pyplot as plt"
      ]
    },
    {
      "cell_type": "markdown",
      "metadata": {
        "id": "SLW49NGNi2JA"
      },
      "source": [
        "### Exercício 1)\n",
        "Calcule as direções principais dos dados contidos no arquivo <font style=\"font-family: monaco\">blobs2.csv</font>. Qual a quantidade (porcentagem) de variância explicada pela direção principal de maior variância?\n",
        "\n",
        "a) 17%<br>\n",
        "b) 22%<br>\n",
        "c) 35% <br>\n",
        "d) 42%\n"
      ]
    },
    {
      "cell_type": "code",
      "execution_count": 13,
      "metadata": {},
      "outputs": [],
      "source": [
        "# RESPOSTA = B"
      ]
    },
    {
      "cell_type": "code",
      "execution_count": 44,
      "metadata": {
        "id": "FDk1TCpXi2JB"
      },
      "outputs": [
        {
          "name": "stdout",
          "output_type": "stream",
          "text": [
            "(600, 25)\n",
            "22.17 %\n",
            "18.94 %\n",
            "18.27 %\n"
          ]
        }
      ],
      "source": [
        "# Solucao\n",
        "from sklearn.decomposition import PCA\n",
        "\n",
        "X = pd.read_csv('blobs2.csv').values\n",
        "print(X.shape)\n",
        "\n",
        "pca_obj=PCA(svd_solver='full')\n",
        "X_transformed = pca_obj.fit(X)\n",
        "\n",
        "nr_componentes = 3\n",
        "for i in range(X_transformed.explained_variance_ratio_.shape[0]):\n",
        "    if i > nr_componentes-1:\n",
        "        break\n",
        "    else:\n",
        "        perc_exp = X_transformed.explained_variance_ratio_[i]\n",
        "        print(round(perc_exp*100,2),'%')\n"
      ]
    },
    {
      "cell_type": "code",
      "execution_count": 15,
      "metadata": {},
      "outputs": [
        {
          "data": {
            "text/plain": [
              "[<matplotlib.lines.Line2D at 0x7fcd12c65be0>]"
            ]
          },
          "execution_count": 15,
          "metadata": {},
          "output_type": "execute_result"
        },
        {
          "data": {
            "image/png": "[encoded data removed]",
            "text/plain": [
              "<Figure size 864x432 with 1 Axes>"
            ]
          },
          "metadata": {
            "needs_background": "light"
          },
          "output_type": "display_data"
        }
      ],
      "source": [
        "plt.rcParams['figure.figsize'] = [12, 6]\n",
        "f, (ax1)  = plt.subplots(1)\n",
        "\n",
        "ax1.plot(X_transformed.explained_variance_ratio_, 'o')"
      ]
    },
    {
      "cell_type": "markdown",
      "metadata": {
        "id": "5qg3jgG-i2JC"
      },
      "source": [
        "### Exercício 2)\n",
        "Qual o número mínimo de direções principais necessárias para representar $75\\%$ da variância contida nos dados?\n",
        "\n",
        "a) 4<br>\n",
        "b) 5<br>\n",
        "c) 6<br>\n",
        "d) 7"
      ]
    },
    {
      "cell_type": "code",
      "execution_count": 31,
      "metadata": {},
      "outputs": [],
      "source": [
        "# RESPOSTA = A"
      ]
    },
    {
      "cell_type": "code",
      "execution_count": 36,
      "metadata": {
        "id": "GJOeQPmyi2JD"
      },
      "outputs": [
        {
          "name": "stdout",
          "output_type": "stream",
          "text": [
            "Número de componentes necessários : 4.0\n"
          ]
        }
      ],
      "source": [
        "# Solucao\n",
        "percentage_info = 0\n",
        "n_componentes_75 = 0\n",
        "for i in range(X_transformed.explained_variance_ratio_.shape[0]):\n",
        "    percentage_info += X_transformed.explained_variance_ratio_[i]\n",
        "    if percentage_info > 0.75:\n",
        "        n_componentes_75 = i+1\n",
        "        break\n",
        "\n",
        "print('Número de componentes necessários :', '%.1f' % n_componentes_75)"
      ]
    },
    {
      "cell_type": "markdown",
      "metadata": {
        "id": "c8SRRTuci2JE"
      },
      "source": [
        "### Exercício 3)\n",
        "Existem _outliers_ nos dados originais. Utilize z-score com um threshold de 2.8 para identificar os outliers e removê-los dos dados. Quantos outliers foram identificados?\n",
        "\n",
        "a) 3<br>\n",
        "b) 4<br>\n",
        "c) 5<br>\n",
        "d) 6"
      ]
    },
    {
      "cell_type": "code",
      "execution_count": 38,
      "metadata": {},
      "outputs": [],
      "source": [
        "# RESPOSTA = C"
      ]
    },
    {
      "cell_type": "code",
      "execution_count": 76,
      "metadata": {
        "id": "7aeeAdj4i2JF"
      },
      "outputs": [
        {
          "name": "stdout",
          "output_type": "stream",
          "text": [
            "indice das linhas dos elementos \"outliers\":\n",
            " [116 240 286 298 398]\n",
            "Número de elementos \"outliers\":\n",
            " 5\n",
            "(600, 25)\n",
            "(595, 25)\n"
          ]
        }
      ],
      "source": [
        "# Solucao\n",
        "from scipy.stats import zscore\n",
        "\n",
        "# calculando z-scores\n",
        "Xzscore = zscore(X,axis=0)\n",
        "\n",
        "# encontrando outliers\n",
        "outliers = np.abs(Xzscore) > 2.8 # 2.8 é o threshold utilizado para \n",
        "                                 # identificar um valor como outlier\n",
        "                                \n",
        "outliers_id = np.argwhere(outliers == True)\n",
        "print('indice das linhas dos elementos \"outliers\":\\n',outliers_id[:,0])\n",
        "print('Número de elementos \"outliers\":\\n',len(outliers_id[:,0]))\n",
        "\n",
        "# removendo outliers\n",
        "df = pd.DataFrame(data=X)\n",
        "print(df.shape)\n",
        "df = df.drop(outliers_id[:,0],axis=0)\n",
        "print(df.shape)\n",
        "\n",
        "X_no_outliers = df.values\n"
      ]
    },
    {
      "cell_type": "markdown",
      "metadata": {
        "id": "LmmJOmuzi2JF"
      },
      "source": [
        "### Exercício 4)\n",
        "Qual a variância representada pelas três primeiras componentes principais após a remoção dos outliers?\n",
        "\n",
        "a) aproximadamente 90% <br>\n",
        "b) aproximadamente 97% <br>\n",
        "c) aproximadamente 80% <br>\n",
        "d) aproximadamente 75% "
      ]
    },
    {
      "cell_type": "code",
      "execution_count": 51,
      "metadata": {},
      "outputs": [],
      "source": [
        "# RESPOSTA = B"
      ]
    },
    {
      "cell_type": "code",
      "execution_count": 77,
      "metadata": {
        "id": "S4Yz1jYfi2JG"
      },
      "outputs": [
        {
          "name": "stdout",
          "output_type": "stream",
          "text": [
            "40.8 %\n",
            "34.47 %\n",
            "21.68 %\n",
            "Soma da informação com 3 componentes : 96.95\n"
          ]
        }
      ],
      "source": [
        "# Solução\n",
        "pca_obj=PCA(svd_solver='full')\n",
        "X_no_outliers_transformed = pca_obj.fit(X_no_outliers)\n",
        "\n",
        "nr_componentes = 3\n",
        "percentage_info = 0\n",
        "for i in range(X_no_outliers_transformed.explained_variance_ratio_.shape[0]):\n",
        "    if i > nr_componentes-1:\n",
        "        break\n",
        "    else:\n",
        "        perc_exp = X_no_outliers_transformed.explained_variance_ratio_[i]\n",
        "        percentage_info += perc_exp\n",
        "        print(round(perc_exp*100,2),'%')\n",
        "\n",
        "print('Soma da informação com 3 componentes :', '%.2f' % round(percentage_info*100,2))"
      ]
    },
    {
      "cell_type": "markdown",
      "metadata": {
        "id": "Hd2sYsjti2JG"
      },
      "source": [
        "### Exercício 5)\n",
        "Projete os dados com e sem outliers nas duas primeiras direções principais. Quantos clusters você consegue visualizar na projeção dos dados com e sem outliers, respectivamente?\n",
        "\n",
        "a) 1 e 4<br>\n",
        "b) 6 e 5<br>\n",
        "c) 4 e 4<br>\n",
        "d) 3 e 4.\n"
      ]
    },
    {
      "cell_type": "code",
      "execution_count": 60,
      "metadata": {},
      "outputs": [],
      "source": [
        "# RESPOSTA = C"
      ]
    },
    {
      "cell_type": "code",
      "execution_count": 78,
      "metadata": {},
      "outputs": [
        {
          "data": {
            "text/plain": [
              "Text(0.5, 1.0, 'Sem Outliers')"
            ]
          },
          "execution_count": 78,
          "metadata": {},
          "output_type": "execute_result"
        },
        {
          "data": {
            "image/png": "[encoded data removed]",
            "text/plain": [
              "<Figure size 864x432 with 2 Axes>"
            ]
          },
          "metadata": {
            "needs_background": "light"
          },
          "output_type": "display_data"
        }
      ],
      "source": [
        "# Solucao\n",
        "x2d_outlier = np.dot(X,X_transformed.components_[0:2].T)\n",
        "x2d_no_outliers = np.dot(X_no_outliers,X_no_outliers_transformed.components_[0:2].T)\n",
        "\n",
        "plt.rcParams['figure.figsize'] = [12, 6]\n",
        "f, (ax1, ax2)  = plt.subplots(1,2)\n",
        "\n",
        "ax1.scatter(x2d_outlier[:,0],x2d_outlier[:,1])\n",
        "ax1.set_title('Com Outliers')\n",
        "ax2.scatter(x2d_no_outliers[:,0],x2d_no_outliers[:,1])\n",
        "ax2.set_title('Sem Outliers')"
      ]
    },
    {
      "cell_type": "code",
      "execution_count": null,
      "metadata": {},
      "outputs": [],
      "source": []
    }
  ],
  "metadata": {
    "colab": {
      "name": "PCA avaliacao.ipynb",
      "provenance": []
    },
    "kernelspec": {
      "display_name": "Python 3",
      "language": "python",
      "name": "python3"
    },
    "language_info": {
      "codemirror_mode": {
        "name": "ipython",
        "version": 3
      },
      "file_extension": ".py",
      "mimetype": "text/x-python",
      "name": "python",
      "nbconvert_exporter": "python",
      "pygments_lexer": "ipython3",
      "version": "3.9.7"
    }
  },
  "nbformat": 4,
  "nbformat_minor": 0
}
