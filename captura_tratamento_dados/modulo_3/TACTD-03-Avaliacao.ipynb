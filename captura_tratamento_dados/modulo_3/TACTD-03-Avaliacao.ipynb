{
 "cells": [
  {
   "cell_type": "markdown",
   "metadata": {},
   "source": [
    "# MBA em Ciência de Dados\n",
    "## Técnicas Avançadas de Captura e Tratamento de Dados\n",
    "\n",
    "\n",
    "### <span style=\"color:darkred\">Coleta de dados e preparação de atributos</span>\n",
    "\n",
    "\n",
    "## <span style=\"color:darkred\">Avaliação</span>\n",
    "\n",
    "Moacir Antonelli Ponti\n",
    "\n",
    "CeMEAI - ICMC/USP São Carlos\n",
    "\n",
    "---\n",
    "#### <font color='red'> As respostas devem ser fornecidas no Moodle. O notebook é apenas para a implementação dos códigos que fornecerão as respostas</font>\n",
    "\n",
    "---"
   ]
  },
  {
   "cell_type": "markdown",
   "metadata": {},
   "source": [
    "Antes de iniciar, acesse o portal : https://dados.educacao.sp.gov.br/dataset/fluxo-escolar-por-escola\n",
    "\n",
    "Procure pelo arquivo CSV relativo a \"Fluxo Escolar 2019 - por escola\", arquivo `FLUXO_ESCOLAR_ESCOLA.csv`\n",
    "\n",
    "O fluxo escolar é medido pela taxa média de aprovação em cada etapa da escolarização, sendo elas as séries iniciais e séries finais do Ensino Fundamental e Ensino Médio, coletadas pelo Censo Escolar.\n",
    "\n",
    "Para saber mais sobre o funcionamento do Fluxo Escolar, visite a página https://dados.educacao.sp.gov.br/story/fluxo\n",
    "\n",
    "As colunas possuem significado de acordo com o \"dicionário de dados\" disponível ao visualizar o arquivo no referido site. As colunas são rotuladas da seguinte forma:\n",
    "- Ano: para o qual foi realizado o cálculo do fluxo\n",
    "- CD_DIRETORIA: Código da diretoria de ensino\n",
    "- NM_DIRETORIA: Nome da diretoria de ensino\n",
    "- NM_MUNICIPIO: Nome do Município\n",
    "- CD_REDE_ENSINO: Código da Rede de Ensino (1:Estadual)\n",
    "- CD_ESCOLA: Código da Escola\n",
    "- NM_COMPLETO_ESCOLA: Nome Completo da Escola\n",
    "- CD_TP_IDENTIFICADOR: Código do Tipo de Escola\n",
    "- APR_1: Porcentagem de Alunos Aprovados no Ensino Fundamental - Anos Iniciais no ensino fundamental de 9 anos\n",
    "- REP_1: Porcentagem de Alunos Reprovados no Ensino Fundamental - Anos Iniciais no ensino fundamental de 9 anos\n",
    "- ABA_1: Porcentagem de Alunos com Abandono no Ensino Fundamental - Anos Iniciais no ensino fundamental de 9 anos\n",
    "- REP_2: Porcentagem de Alunos Reprovados no Ensino Fundamental - Anos Finais no ensino fundamental de 9 anos\n",
    "- ABA_2: Porcentagem de Alunos com Abando no Ensino Fundamental - Anos Finais no ensino fundamental de 9 anos\n",
    "- APR_3: Porcentagem de Alunos Aprovados no Ensino Médio\n",
    "- REP_3: Porcentagem de Alunos Reprovados no Ensino Médio\n",
    "- ABA_3: Porcentagem de Alunos com Abandono no Ensino Médio\n",
    "\n",
    "A cada questão, recarregue a base de dados para que não haja dependência entre questões."
   ]
  },
  {
   "cell_type": "code",
   "execution_count": 3,
   "metadata": {},
   "outputs": [
    {
     "name": "stdout",
     "output_type": "stream",
     "text": [
      "atributos:  16\n",
      "linhas:  5220\n"
     ]
    }
   ],
   "source": [
    "# carregando as bibliotecas necessárias\n",
    "import numpy as np\n",
    "import matplotlib.pyplot as plt\n",
    "import pandas as pd\n",
    "# carregando dados\n",
    "dc = pd.read_csv(\"./dados/FLUXO_ESCOLAR_ESCOLA.csv\", sep=',')\n",
    "ncols = dc.shape[1]\n",
    "ncols = dc.shape[1]\n",
    "print(\"atributos: \", ncols)\n",
    "print(\"linhas: \", dc.shape[0])"
   ]
  },
  {
   "cell_type": "markdown",
   "metadata": {},
   "source": [
    "### Questão 1)\n",
    " \n",
    "Considere os seguintes problemas e a natureza dos seus respectivos dados:\n",
    "\n",
    "I - Uma base de dados contendo uma amostra aleatória de 25% dos produtos cadastrados no sistema de uma determinada empresa, com a qual se pretende realizar uma análise relativa aos atributos dos produtos e seu preço<br>\n",
    "II - O histórico contendo quantidades de moderações realizadas em avaliações de produtos por categoria, coletadas diariamente durante um ano numa plataforma de e-commerce<br>\n",
    "III - Uma base de dados pública já coletada com informações demográficas de todas as capitais brasileiras, com a qual se intenciona obter um modelo para realizar inferência em qualquer outra cidade do Brasil.<br>\n",
    "\n",
    "Podemos utilizar métodos que assumam dados do tipo i.i.d. (independente e identicamente distribuídos) e garantir que esses métodos irão obter resultados e conclusões válidas em quais dos casos?\n",
    "\n",
    "(a) I<br>\n",
    "(b) I e II<br>\n",
    "(c) II <br>\n",
    "(d) II e III<br>"
   ]
  },
  {
   "cell_type": "markdown",
   "metadata": {},
   "source": [
    "### Questão 2)\n",
    " \n",
    "Compute a média das variáveis ABA_1, ABA_2 e ABA_3 e adicione essa média como um novo atributo ABA_MED à base de dados. Substitua por nulo (`nan`) os valores onde 'ABA_MED' seja igual a 0. Realize a **discretização** da variável 'ABA_MED' utilizando:\n",
    "1. o método dos quantis, utilizando 4 intervalos alvo\n",
    "2. o método dos intervalos, utilizando os seguintes intervalos alvo: (0, 5] (5, 10] (10, 50] (50, max(ABA_MED)],\n",
    "em que max(ABA_MED) é o maior valor desse atributo\n",
    "\n",
    "Use o método qcut() para o item 1 e cut() para o item 2\n",
    "\n",
    "Adicione essas novas variáveis discretizadas no dataframe com os nomes 'ABA_Q' (quantis) e 'ABA_I' (intervalos)\n",
    "\n",
    "Qual é a quantidade de dados (frequências dos valores discretizados) na base após a discretização, relativos ao primeiro intervalo (com os menores valores) e ao último intervalo (com os maiores valores) para, respectivamente, ABA_Q e ABA_I?\n",
    "\n",
    "(a) ABA_Q: primeiro -0.004, ultimo 53.717. ABA_I: primeiro 0.0, último 53.717<br>\n",
    "(b) ABA_Q: primeiro 0.236, ultimo 53.717. ABA_I: primeiro 0.0, último 50.0<br>\n",
    "(c) ABA_Q: primeiro 748, ultimo 742. ABA_I: primeiro 2838, último 1<br>\n",
    "(d) ABA_Q: primeiro 737, ultimo 748. ABA_I: primeiro 2838, último 1<br>"
   ]
  },
  {
   "cell_type": "code",
   "execution_count": 5,
   "metadata": {},
   "outputs": [],
   "source": [
    "dc = pd.read_csv(\"./dados/FLUXO_ESCOLAR_ESCOLA.csv\", sep=',')"
   ]
  },
  {
   "cell_type": "code",
   "execution_count": 1,
   "metadata": {},
   "outputs": [],
   "source": [
    "# sua solucao aqui"
   ]
  },
  {
   "cell_type": "markdown",
   "metadata": {},
   "source": [
    "### Questão 3)\n",
    "\n",
    "Normalize a variável APR_3 utilizando dois métodos:\n",
    "1. normalização robusta\n",
    "2. normalização min-max para o intervalo 0-100\n",
    "\n",
    "Para isso, codifique funções que recebam uma coluna por parâmetro e retornem um atributo já normalizado\n",
    "\n",
    "Aplique as funções criando novas variáveis com os atributos normalizados: APR_3_r e ABA_3_mm\n",
    "\n",
    "Após a normalização, quais os valores de média, desvio padrão, mínimo e máximo dessas novas variáveis, arredondando para 1 casa decimal?\n",
    "\n",
    "(a) APR_3_r: 0.0, 1.0, -0.2, 0.9; APR_3_mm: 66.4, 41.4, 0.0, 100.0<br>\n",
    "(b) APR_3_r: -0.2, 0.4, -0.9, 0.1; APR_3_mm: 66.4, 41.4, 0.0, 100.0<br>\n",
    "(c) APR_3_r: -0.2, 0.4, -0.9, 0.1; APR_3_mm: 0.0, 50.0, 0.0, 100.0<br>\n",
    "(d) APR_3_r: 0.0, 1.0, -0.2, 0.9; APR_3_mm: 0.0, 50.0, 0.0, 100.0<br>"
   ]
  },
  {
   "cell_type": "code",
   "execution_count": 19,
   "metadata": {},
   "outputs": [],
   "source": [
    "dc = pd.read_csv(\"./dados/FLUXO_ESCOLAR_ESCOLA.csv\", sep=',')"
   ]
  },
  {
   "cell_type": "code",
   "execution_count": 2,
   "metadata": {},
   "outputs": [],
   "source": [
    "# sua solucao aqui"
   ]
  },
  {
   "cell_type": "markdown",
   "metadata": {},
   "source": [
    "### Questão 4)\n",
    " \n",
    "Transforme os atributos 'ABA_2' e 'APR_3' por meio da função da raiz quadrada. Para isso:\n",
    "1. Remova todas as linhas cujos atributos possuem valor 0 em 'ABA_2' e que possuam valores nulos (`nan`) em 'ABA_MED' ou 'ABA_2';\n",
    "2. Considerando os atributos 'ABA_2' e 'ABA_MED' transforme-os esses utilizando a operação da raiz quadrada no seguinte formato: seja $x$ o atributo original, obtemos a sua versão transformada,\n",
    "$$x' = \\sqrt{x+1}$$\n",
    "e os adicione à base de dados com novos nomes, ex. 'ABA_2_S' e  'APR_3_S',\n",
    "3. Calcule a correlação entre os atributos após a transformação do passo 2 (utilize o método `.corr()`)\n",
    "\n",
    "Qual o valor obtido da correlação entre as variáveis ABA_2_S e APR_3_S, e entre as variáveis ABA_2 e APR_3, respectivamente?\n",
    "\n",
    "(a) -0.02, -0.08<br>\n",
    "(b) 0.00, 1.00<br>\n",
    "(c) 0.96, 0.99<br>\n",
    "(d) -0.02, -0.03<br>"
   ]
  },
  {
   "cell_type": "code",
   "execution_count": 28,
   "metadata": {},
   "outputs": [],
   "source": [
    "dc = pd.read_csv(\"./dados/FLUXO_ESCOLAR_ESCOLA.csv\", sep=',')"
   ]
  },
  {
   "cell_type": "code",
   "execution_count": 3,
   "metadata": {},
   "outputs": [],
   "source": [
    "# sua solucao aqui"
   ]
  },
  {
   "cell_type": "markdown",
   "metadata": {},
   "source": [
    "### Questão 5)\n",
    " \n",
    "Codifique a variável categórica 'NM_DIRETORIA':\n",
    "* use números inteiros sequenciais, iniciados por 0 para codificar a variável em ordem alfabética, e gere um novo atributo NM_DIRETORIA_cod, por meio do uso de `cat.codes` da biblioteca `pandas`.\n",
    "\n",
    "Observação: a intenção é que o atributo codificação tenha relação com a ordem alfabética do município. Se a intenção fosse a de posteriormente aplicar métodos que realizam comparação por distância independente da ordem alfabética, a codificação ideal seria one-hot-encoding/dummy variables.\n",
    "\n",
    "Use a função `value_counts()` para mostrar a frequência dos códigos de NM_DIRETORIA_cod. Responda abaixo quais são os dois **valores discretos** (após codificação realizada) com a maior frequência (maior contagem):\n",
    "\n",
    "(a) códigos 66 e 82<br>\n",
    "(b) códigos 62 e 59<br>\n",
    "(c) códigos 105 e 109<br>\n",
    "(d) códigos 82 e 109<br>"
   ]
  },
  {
   "cell_type": "code",
   "execution_count": 33,
   "metadata": {},
   "outputs": [],
   "source": [
    "dc = pd.read_csv(\"./dados/FLUXO_ESCOLAR_ESCOLA.csv\", sep=',')"
   ]
  },
  {
   "cell_type": "code",
   "execution_count": 4,
   "metadata": {},
   "outputs": [],
   "source": [
    "# sua solucao aqui"
   ]
  }
 ],
 "metadata": {
  "kernelspec": {
   "display_name": "Python 3 (ipykernel)",
   "language": "python",
   "name": "python3"
  },
  "language_info": {
   "codemirror_mode": {
    "name": "ipython",
    "version": 3
   },
   "file_extension": ".py",
   "mimetype": "text/x-python",
   "name": "python",
   "nbconvert_exporter": "python",
   "pygments_lexer": "ipython3",
   "version": "3.10.2"
  }
 },
 "nbformat": 4,
 "nbformat_minor": 4
}
