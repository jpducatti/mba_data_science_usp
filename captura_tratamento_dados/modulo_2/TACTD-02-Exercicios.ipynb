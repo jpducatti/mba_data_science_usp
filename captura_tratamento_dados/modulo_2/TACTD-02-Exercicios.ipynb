{
 "cells": [
  {
   "cell_type": "markdown",
   "metadata": {},
   "source": [
    "# MBA em Ciência de Dados\n",
    "# Técnicas Avançadas de Captura e Tratamento de Dados\n",
    "\n",
    "### <span style=\"color:darkred\">Módulo II - Tratamento e limpeza de dados</span>\n",
    "\n",
    "\n",
    "### <span style=\"color:darkred\">Exercícios</span>\n",
    "\n",
    "Moacir Antonelli Ponti\n",
    "\n",
    "CeMEAI - ICMC/USP São Carlos\n",
    "\n",
    "---\n",
    "\n",
    "#### <span style=\"color:red\">Recomenda-se fortemente que os exercícios sejam feitos sem consultar as respostas antecipadamente.</span>\n",
    "\n",
    "---"
   ]
  },
  {
   "cell_type": "code",
   "execution_count": 1,
   "metadata": {},
   "outputs": [],
   "source": [
    "# carregando as bibliotecas necessárias\n",
    "import numpy as np\n",
    "import matplotlib.pyplot as plt\n",
    "import pandas as pd\n",
    "\n",
    "from sklearn.svm import SVC\n",
    "from sklearn.linear_model import Ridge\n",
    "from sklearn import metrics\n",
    "\n",
    "# carregando dados\n",
    "data = pd.read_csv(\"./dados/houses_to_rent_mba4.csv\")"
   ]
  },
  {
   "cell_type": "markdown",
   "metadata": {},
   "source": [
    "A base de dados a ser utilizada durante todos os exercícios é `houses_to_rent_mba4.csv`.\n",
    "\n",
    "As alterações feitas em um exercício devem ser mantidas para o próximo exercício, a não ser que expressamente indicado"
   ]
  },
  {
   "cell_type": "markdown",
   "metadata": {},
   "source": [
    "---\n",
    "\n",
    "### Exercício 1)\n",
    "\n",
    "Inspecione o tipo dos atributos e seus valores, em particular, `city` e `country`. A seguir padronize valores dos atributos do tipo `object` que apareçam como distintos mas que deveriam ser os mesmos. Considere para a correção o valor mais frequente nesse atributo. Por exemplo: se tivermos escrito a seguinte sigla em 3 formas diferentes: `ICMC` (11 ocorrencias), `Icmc` (3 ocorrências), `I.C.M.C.` (2 ocorrências), todas devem ser convertidas para `ICMC`\n",
    "\n",
    "Quantas linhas relativas a valores da coluna `city` e `country`, respectivamente estavam fora do padrão e foram corrigidas?\n",
    "\n",
    "(a) 49 e 2<br>\n",
    "(b) 48 e 4<br>\n",
    "(c) 50 e 9<br>\n",
    "(d) 48 e 54<br>\n"
   ]
  },
  {
   "cell_type": "markdown",
   "metadata": {},
   "source": [
    "---\n",
    "\n",
    "### Exercício 2)\n",
    "\n",
    "Inspecione os valores dos atributos `floor` e `tax`, realizando a conversão dos mesmos para o tipo adequado. Para evitar gerar dados faltantes desnecessariamente, verifique primeiro o padrão dos dados errôneos e faltantes, e se possível preencha corretamente alguns desses valores (conforme feito em aula para o atributo `floor`).\n",
    "\n",
    "OBS: uma forma de inspecionar valores de uma coluna do tipo `object` que podem ser convertidos para dígitos numéricos é executar `dataframe[atributo].astype(str).str.isnumeric()`\n",
    "\n",
    "Após esse processo, quandos valores faltantes restaram em `floor` e `tax`, respectivamente?\n",
    "\n",
    "(a) 13 e 6<br>\n",
    "(b) 78 e 9<br>\n",
    "(c) 5 e 6<br>\n",
    "(d) 9 e 13<br>"
   ]
  },
  {
   "cell_type": "markdown",
   "metadata": {},
   "source": [
    "---\n",
    "### Exercício 3)\n",
    "\n",
    "Vamos analisar possíveis atributos redundantes na base de dados. Inspecione as colunas imprimindo quantos valores únicos cada uma possui. Considerando o tamanho da base de dados e esses resultados, quais atributos são redundantes e podem ser removidos sem perda de informação?\n",
    "\n",
    "(a) parking spaces, country<br>\n",
    "(b) country, Unnamed:0<br>\n",
    "(c) country<br>\n",
    "(d) Unnamed:0<br>"
   ]
  },
  {
   "cell_type": "markdown",
   "metadata": {},
   "source": [
    "---\n",
    "\n",
    "### Exercício 4)\n",
    "\n",
    "Vamos procurar por outliers na base de dados utilizando um método baseado na dispersão pelo *desvio padrão*. \n",
    "\n",
    "Codifique uma função em Python no formato abaixo, que receba por parâmetro um dataframe, uma lista de atributos/variáveis e um fator multiplicador `t` para o desvio padrão.\n",
    "`def remove_outliers_std(df, attributes, t):`\n",
    "\n",
    "Essa função deve retornar um dataframe sem os outliers segundo o método do desvio padrão, ou seja, removendo aqueles cujo valor esteja: abaixo da média menos `t` desvios padrões, ou acima da média mais `t` desvios padrões. Formalmente, são outliers valores $x$ tal que $x < \\mu - t\\sigma$ ou $x > \\mu + t\\sigma$. A funcao deve processar apenas variáveis numéricas e imprimir na tela a quantidade de outliers encontrados.\n",
    "\n",
    "Utilize a funcao implementada para remover outliers. Antes faça uma cópia do dataframe, criando um dataframe `data_out` do qual serão removidos outliers dos seguintes atributos:\n",
    "1. 'insurance' com $t=3.5$\n",
    "2. considerando a base obtida no passo (1) anterior, para 'total' com $t=2$.\n",
    "3. considerando a base obtida no passo (2) anterior, para 'rent' com $t=5$\n",
    "\n",
    "Quantos outliers foram encontrados respectivamente para 'insurance', 'total' e  'rent', nessa ordem?\n",
    "\n",
    "(a) 19, 6 e 0<br>\n",
    "(b) 0, 6 e 2<br>\n",
    "(c) 19, 6 e 2<br>\n",
    "(d) 19, 0 e 6<br>"
   ]
  },
  {
   "cell_type": "markdown",
   "metadata": {},
   "source": [
    "---\n",
    "\n",
    "### Exercício 5)\n",
    "\n",
    "Ainda analisando outliers, considerando a base de dados original (antes da remoção no exercício anterior)\n",
    "\n",
    "Carregue o método $k$-Means utilizando: `from sklearn.cluster import KMeans`\n",
    "\n",
    "1. Realize análise de agrupamento utilizando os atributos 'rent' e 'days available' e $k=100$ grupos. Utilize o parâmetro `random_state=0` ao criar o modelo\n",
    "2. Identifique os grupos (clusters) que possuem 5 ou menos pontos\n",
    "3. Considere todos os pontos pertencentes à esses grupos como candidatos a outliers\n",
    "    \n",
    "OBS: ver detalhes do KMeans em [https://scikit-learn.org/stable/modules/generated/sklearn.cluster.KMeans.html]\n",
    "\n",
    "Quantos outliers foram encontrados?\n",
    "\n",
    "(a) 1<br>\n",
    "(b) 3<br>\n",
    "(c) 7<br>\n",
    "(d) 20<br>"
   ]
  },
  {
   "cell_type": "markdown",
   "metadata": {},
   "source": [
    "---\n",
    "\n",
    "### Exercício 6)\n",
    "\n",
    "Considerando o preenchimento de dados faltantes, utilize a base de dados após remover outliers segundo indicado no Exercício 4 `data_out`\n",
    "\n",
    "Codifique uma funcão que preencha valores faltantes de variáveis numéricas utilizando a média condicionada (ou agrupada) a uma outra variável categórica (não numérica)  C da base. Essa funcao deverá:\n",
    "1. calcular a média da variável alvo A (a ser preenchida) relativa a cada valor distinto da variável categórica selecionada C, para linhas com valores existentes de A\n",
    "2. atribuir a média calculada de forma agrupada a todas as linhas cuja variável alvo é faltante e que possua o valor da variável categórica correspondente\n",
    "3. o valor atribuido deve seguir o mesmo tipo da variável alvo, ou seja, int, float, etc. Quando int, realize o arredondamento utlizando `np.round(,0)`, quando float64 utilize `np.round(,1)`\n",
    "\n",
    "    Exemplo: podemos preencher a média do imposto (tax) condicionado ao tipo (type) calculando a média do imposto agrupado por cada valor de tipo ('house' e 'flat'), e depois atribuir essas médias aos valores faltantes condicionado ao tipo, ou seja, a média do imposto de todas linhas contendo 'house' é atribuída a todas as propriedades 'house' com 'tax' faltante\n",
    "    Similarmente, uma propriedade que é do tipo 'flat' e que possui 'tax' faltante, recebe a média de 'tax' entre todas os imóveis marcados com 'flat' para os quais há valor de 'tax'.\n",
    "    \n",
    "Use sua funcao para preencher a 'area' condicionado a 'type'. Armazene esse preenchimento num dataframe novo, não afetando os anteriores. Após o preenchimento, qual é a nova média para todas as linhas do atributo 'area', e arredondando para duas casas decimais?\n",
    "\n",
    "(a) 145.36<br>\n",
    "(b) 125.45<br>\n",
    "(d) 131.00<br>\n",
    "(d) 145.29<br>"
   ]
  },
  {
   "cell_type": "markdown",
   "metadata": {},
   "source": [
    "---\n",
    "\n",
    "### Exercício 7)\n",
    "\n",
    "Utilizando a base de dados **antes** da remoção de outliers, elimine todas as linhas duplicadas. Quantas linhas foram removidas?\n",
    "\n",
    "(a) 0 <br>\n",
    "(b) 1270<br>\n",
    "(c) 2018<br>\n",
    "(d) 1260<br>\n"
   ]
  },
  {
   "cell_type": "markdown",
   "metadata": {},
   "source": [
    "---\n",
    "\n",
    "### Exercício 8)\n",
    "\n",
    "Utilizando a base de dados **após** da remoção de outliers (`data_out`), elimine todas as linhas duplicadas.\n",
    "\n",
    "(a) 1272<br>\n",
    "(b) 1<br>\n",
    "(c) 0<br>\n",
    "(d) 1262<br>"
   ]
  },
  {
   "cell_type": "markdown",
   "metadata": {},
   "source": [
    "---\n",
    "\n",
    "### Exercício 9)\n",
    "\n",
    "Considere o atributo 'type' e analise a distribuicao dos seus valores.\n",
    "\n",
    "Qual dos procedimentos abaixo é o mais adequado caso desejamos utilizar a variável \"type\" como variável alvo (de saída) para um modelo de aprendizado?\n",
    "\n",
    "(a) não é possível utilizar essa variável como saída<br>\n",
    "(b) considerar o uso de técnicas de subamostragem aleatória para 'house'<br>\n",
    "(c) considerar o uso de técnicas de sobreamostragem para 'house'<br>\n",
    "(d) considerar o uso de técnicas de sobreamostragem para 'flat' <br>"
   ]
  },
  {
   "cell_type": "markdown",
   "metadata": {},
   "source": [
    "---\n",
    "\n",
    "### Exercício 10)\n",
    "\n",
    "Considere o atributo 'city' e a distribuicao dos seus valores, desconsiderando a cidade de São Paulo.\n",
    "Calcule a porcentagem de exemplos da categoria com a *menor* quantidade de dados encontrada com relacao ao total.\n",
    "\n",
    "Qual dos procedimentos abaixo é o mais adequado caso desejamos utilizar a variável \"city\" (desconsiderando São Paulo) como variável alvo (de saída) para um modelo de aprendizado?\n",
    "\n",
    "(a) não considerar a cidade \"Brotas\" na análise, e rebalancear as demais com sobreamostragem<br>\n",
    "(b) utilizar a base de dados original, sem tratamento, visto ser uma proporção possível considerando o tamanho das cidades<br>\n",
    "(c) utilizar o método SMOTE para a classe minoritária apenas<br>\n",
    "(d) utilizar técnicas de subamostragem para as categorias majoritárias<br>"
   ]
  }
 ],
 "metadata": {
  "kernelspec": {
   "display_name": "Python 3",
   "language": "python",
   "name": "python3"
  },
  "language_info": {
   "codemirror_mode": {
    "name": "ipython",
    "version": 3
   },
   "file_extension": ".py",
   "mimetype": "text/x-python",
   "name": "python",
   "nbconvert_exporter": "python",
   "pygments_lexer": "ipython3",
   "version": "3.9.2"
  }
 },
 "nbformat": 4,
 "nbformat_minor": 4
}
