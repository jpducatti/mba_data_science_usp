{
 "cells": [
  {
   "cell_type": "markdown",
   "metadata": {},
   "source": [
    "# MBA em Ciência de Dados\n",
    "# Técnicas Avançadas de Captura e Tratamento de Dados\n",
    "\n",
    "\n",
    "### <span style=\"color:darkred\">Tratamento e limpeza de bases de dados</span>\n",
    "\n",
    "\n",
    "### <span style=\"color:darkred\">Informações faltantes</span>\n",
    "\n",
    "Material Produzido por Moacir Antonelli Ponti\n",
    "\n",
    "CeMEAI - ICMC/USP São Carlos\n",
    "\n",
    "---"
   ]
  },
  {
   "cell_type": "markdown",
   "metadata": {},
   "source": [
    "## Informações faltantes\n",
    "\n",
    "Problemas com dados do tipo: faltantes (e errôneos, os quais também ocasionam perdas) podem levar a impactos nos modelos estatísticos e de aprendizado.\n",
    "\n",
    "A primeira etapa é **detectar corretamente** as informações faltantes, estudar os atributos onde ocorrem, separando em:\n",
    "* Dados faltantes: no Python `NaN`, sendo indefinidos ou não encontrados\n",
    "* Dados errôneos: valores que devem ser removidos para não prejudicar a análise. Comumente não são *outliers* mas dados corrompidos no armazenamento, transmissão ou inputação.\n",
    "\n",
    "A seguir, temos como opções\n",
    "1. Remover as linhas/instâncias contendo valores faltantes\n",
    "2. Preencher valores faltantes utilizando algum método"
   ]
  },
  {
   "cell_type": "code",
   "execution_count": 1,
   "metadata": {},
   "outputs": [
    {
     "data": {
      "text/html": [
       "<div>\n",
       "<style scoped>\n",
       "    .dataframe tbody tr th:only-of-type {\n",
       "        vertical-align: middle;\n",
       "    }\n",
       "\n",
       "    .dataframe tbody tr th {\n",
       "        vertical-align: top;\n",
       "    }\n",
       "\n",
       "    .dataframe thead th {\n",
       "        text-align: right;\n",
       "    }\n",
       "</style>\n",
       "<table border=\"1\" class=\"dataframe\">\n",
       "  <thead>\n",
       "    <tr style=\"text-align: right;\">\n",
       "      <th></th>\n",
       "      <th>city</th>\n",
       "      <th>area</th>\n",
       "      <th>rooms</th>\n",
       "      <th>bathroom</th>\n",
       "      <th>parking spaces</th>\n",
       "      <th>floor</th>\n",
       "      <th>hoa</th>\n",
       "      <th>rent</th>\n",
       "      <th>tax</th>\n",
       "      <th>insurance</th>\n",
       "      <th>total</th>\n",
       "      <th>page hits</th>\n",
       "      <th>days available</th>\n",
       "      <th>interactions</th>\n",
       "      <th>weeks available</th>\n",
       "      <th>type</th>\n",
       "    </tr>\n",
       "  </thead>\n",
       "  <tbody>\n",
       "    <tr>\n",
       "      <th>0</th>\n",
       "      <td>São Paulo</td>\n",
       "      <td>70.0</td>\n",
       "      <td>2.0</td>\n",
       "      <td>1</td>\n",
       "      <td>1.0</td>\n",
       "      <td>7</td>\n",
       "      <td>2065</td>\n",
       "      <td>3300</td>\n",
       "      <td>211</td>\n",
       "      <td>42</td>\n",
       "      <td>5618.0</td>\n",
       "      <td>324</td>\n",
       "      <td>23</td>\n",
       "      <td>108</td>\n",
       "      <td>3</td>\n",
       "      <td>flat</td>\n",
       "    </tr>\n",
       "    <tr>\n",
       "      <th>1</th>\n",
       "      <td>São Paulo</td>\n",
       "      <td>320.0</td>\n",
       "      <td>4.0</td>\n",
       "      <td>4</td>\n",
       "      <td>2.0</td>\n",
       "      <td>20</td>\n",
       "      <td>1200</td>\n",
       "      <td>4960</td>\n",
       "      <td>1750</td>\n",
       "      <td>63</td>\n",
       "      <td>7973.0</td>\n",
       "      <td>720</td>\n",
       "      <td>78</td>\n",
       "      <td>240</td>\n",
       "      <td>11</td>\n",
       "      <td>flat</td>\n",
       "    </tr>\n",
       "    <tr>\n",
       "      <th>2</th>\n",
       "      <td>Porto Alegre</td>\n",
       "      <td>80.0</td>\n",
       "      <td>1.0</td>\n",
       "      <td>1</td>\n",
       "      <td>1.0</td>\n",
       "      <td>6</td>\n",
       "      <td>1000</td>\n",
       "      <td>2800</td>\n",
       "      <td>nr</td>\n",
       "      <td>41</td>\n",
       "      <td>3841.0</td>\n",
       "      <td>64</td>\n",
       "      <td>269</td>\n",
       "      <td>128</td>\n",
       "      <td>38</td>\n",
       "      <td>flat</td>\n",
       "    </tr>\n",
       "    <tr>\n",
       "      <th>3</th>\n",
       "      <td>Porto Alegre</td>\n",
       "      <td>51.0</td>\n",
       "      <td>1.0</td>\n",
       "      <td>1</td>\n",
       "      <td>NaN</td>\n",
       "      <td>2</td>\n",
       "      <td>270</td>\n",
       "      <td>1112</td>\n",
       "      <td>22</td>\n",
       "      <td>17</td>\n",
       "      <td>1421.0</td>\n",
       "      <td>46</td>\n",
       "      <td>73</td>\n",
       "      <td>92</td>\n",
       "      <td>10</td>\n",
       "      <td>flat</td>\n",
       "    </tr>\n",
       "    <tr>\n",
       "      <th>4</th>\n",
       "      <td>São Paulo</td>\n",
       "      <td>25.0</td>\n",
       "      <td>1.0</td>\n",
       "      <td>1</td>\n",
       "      <td>NaN</td>\n",
       "      <td>1</td>\n",
       "      <td>0</td>\n",
       "      <td>800</td>\n",
       "      <td>25</td>\n",
       "      <td>11</td>\n",
       "      <td>836.0</td>\n",
       "      <td>1548</td>\n",
       "      <td>78</td>\n",
       "      <td>516</td>\n",
       "      <td>11</td>\n",
       "      <td>flat</td>\n",
       "    </tr>\n",
       "    <tr>\n",
       "      <th>...</th>\n",
       "      <td>...</td>\n",
       "      <td>...</td>\n",
       "      <td>...</td>\n",
       "      <td>...</td>\n",
       "      <td>...</td>\n",
       "      <td>...</td>\n",
       "      <td>...</td>\n",
       "      <td>...</td>\n",
       "      <td>...</td>\n",
       "      <td>...</td>\n",
       "      <td>...</td>\n",
       "      <td>...</td>\n",
       "      <td>...</td>\n",
       "      <td>...</td>\n",
       "      <td>...</td>\n",
       "      <td>...</td>\n",
       "    </tr>\n",
       "    <tr>\n",
       "      <th>11760</th>\n",
       "      <td>São Paulo</td>\n",
       "      <td>150.0</td>\n",
       "      <td>3.0</td>\n",
       "      <td>3</td>\n",
       "      <td>2.0</td>\n",
       "      <td>8</td>\n",
       "      <td>0</td>\n",
       "      <td>13500</td>\n",
       "      <td>0</td>\n",
       "      <td>172</td>\n",
       "      <td>13672.0</td>\n",
       "      <td>2124</td>\n",
       "      <td>114</td>\n",
       "      <td>708</td>\n",
       "      <td>16</td>\n",
       "      <td>flat</td>\n",
       "    </tr>\n",
       "    <tr>\n",
       "      <th>11761</th>\n",
       "      <td>Porto Alegre</td>\n",
       "      <td>63.0</td>\n",
       "      <td>2.0</td>\n",
       "      <td>1</td>\n",
       "      <td>1.0</td>\n",
       "      <td>5</td>\n",
       "      <td>402</td>\n",
       "      <td>1478</td>\n",
       "      <td>24</td>\n",
       "      <td>22</td>\n",
       "      <td>1926.0</td>\n",
       "      <td>58</td>\n",
       "      <td>86</td>\n",
       "      <td>116</td>\n",
       "      <td>12</td>\n",
       "      <td>flat</td>\n",
       "    </tr>\n",
       "    <tr>\n",
       "      <th>11762</th>\n",
       "      <td>São Paulo</td>\n",
       "      <td>285.0</td>\n",
       "      <td>4.0</td>\n",
       "      <td>4</td>\n",
       "      <td>4.0</td>\n",
       "      <td>17</td>\n",
       "      <td>3100</td>\n",
       "      <td>15000</td>\n",
       "      <td>973</td>\n",
       "      <td>191</td>\n",
       "      <td>19264.0</td>\n",
       "      <td>612</td>\n",
       "      <td>99</td>\n",
       "      <td>204</td>\n",
       "      <td>14</td>\n",
       "      <td>flat</td>\n",
       "    </tr>\n",
       "    <tr>\n",
       "      <th>11763</th>\n",
       "      <td>Brotas</td>\n",
       "      <td>100.0</td>\n",
       "      <td>1.0</td>\n",
       "      <td>2</td>\n",
       "      <td>1.0</td>\n",
       "      <td>-</td>\n",
       "      <td>0</td>\n",
       "      <td>800</td>\n",
       "      <td>116</td>\n",
       "      <td>39</td>\n",
       "      <td>955.0</td>\n",
       "      <td>148</td>\n",
       "      <td>127</td>\n",
       "      <td>148</td>\n",
       "      <td>18</td>\n",
       "      <td>house</td>\n",
       "    </tr>\n",
       "    <tr>\n",
       "      <th>11764</th>\n",
       "      <td>Brotas</td>\n",
       "      <td>200.0</td>\n",
       "      <td>4.0</td>\n",
       "      <td>2</td>\n",
       "      <td>1.0</td>\n",
       "      <td>-</td>\n",
       "      <td>0</td>\n",
       "      <td>1450</td>\n",
       "      <td>226</td>\n",
       "      <td>75</td>\n",
       "      <td>1751.0</td>\n",
       "      <td>104</td>\n",
       "      <td>85</td>\n",
       "      <td>104</td>\n",
       "      <td>12</td>\n",
       "      <td>house</td>\n",
       "    </tr>\n",
       "  </tbody>\n",
       "</table>\n",
       "<p>11765 rows × 16 columns</p>\n",
       "</div>"
      ],
      "text/plain": [
       "               city   area  rooms  bathroom  parking spaces floor   hoa  \\\n",
       "0         São Paulo   70.0    2.0         1             1.0     7  2065   \n",
       "1         São Paulo  320.0    4.0         4             2.0    20  1200   \n",
       "2      Porto Alegre   80.0    1.0         1             1.0     6  1000   \n",
       "3      Porto Alegre   51.0    1.0         1             NaN     2   270   \n",
       "4         São Paulo   25.0    1.0         1             NaN     1     0   \n",
       "...             ...    ...    ...       ...             ...   ...   ...   \n",
       "11760     São Paulo  150.0    3.0         3             2.0     8     0   \n",
       "11761  Porto Alegre   63.0    2.0         1             1.0     5   402   \n",
       "11762     São Paulo  285.0    4.0         4             4.0    17  3100   \n",
       "11763        Brotas  100.0    1.0         2             1.0     -     0   \n",
       "11764        Brotas  200.0    4.0         2             1.0     -     0   \n",
       "\n",
       "        rent   tax  insurance    total  page hits  days available  \\\n",
       "0       3300   211         42   5618.0        324              23   \n",
       "1       4960  1750         63   7973.0        720              78   \n",
       "2       2800    nr         41   3841.0         64             269   \n",
       "3       1112    22         17   1421.0         46              73   \n",
       "4        800    25         11    836.0       1548              78   \n",
       "...      ...   ...        ...      ...        ...             ...   \n",
       "11760  13500     0        172  13672.0       2124             114   \n",
       "11761   1478    24         22   1926.0         58              86   \n",
       "11762  15000   973        191  19264.0        612              99   \n",
       "11763    800   116         39    955.0        148             127   \n",
       "11764   1450   226         75   1751.0        104              85   \n",
       "\n",
       "       interactions  weeks available   type  \n",
       "0               108                3   flat  \n",
       "1               240               11   flat  \n",
       "2               128               38   flat  \n",
       "3                92               10   flat  \n",
       "4               516               11   flat  \n",
       "...             ...              ...    ...  \n",
       "11760           708               16   flat  \n",
       "11761           116               12   flat  \n",
       "11762           204               14   flat  \n",
       "11763           148               18  house  \n",
       "11764           104               12  house  \n",
       "\n",
       "[11765 rows x 16 columns]"
      ]
     },
     "execution_count": 1,
     "metadata": {},
     "output_type": "execute_result"
    }
   ],
   "source": [
    "import numpy as np\n",
    "import matplotlib.pyplot as plt\n",
    "import pandas as pd\n",
    "from sklearn.svm import SVC\n",
    "from sklearn.linear_model import LinearRegression\n",
    "from sklearn.ensemble import RandomForestClassifier\n",
    "from sklearn import metrics\n",
    "\n",
    "# https://www.kaggle.com/rubenssjr/brasilian-houses-to-rent\n",
    "data = pd.read_csv(\"./dados/houses_to_rent_mba2.csv\")\n",
    "data"
   ]
  },
  {
   "cell_type": "markdown",
   "metadata": {},
   "source": [
    "\n",
    "### Experimento com tratamento de dados\n",
    "\n",
    "Vamos utilizar essa base de dados como meio de estudo, com duas tarefas:\n",
    "1. classificador para predizer a **cidade** com base nos atributos: imposto, valor total e valor do seguro\n",
    "2. regressor para predizer o **total** do aluguel com base nos atributos: área, número de quartos, andar, tipo, número de vagas na garagem e número de banheiros.\n",
    "\n",
    "Repassaremos conceitos como **remoção de duplicatas e de outliers**\n",
    "\n",
    "\n",
    "1. Separar essa base de dados em conjuntos de treinamento (X) e teste (Z)"
   ]
  },
  {
   "cell_type": "code",
   "execution_count": 2,
   "metadata": {},
   "outputs": [
    {
     "name": "stdout",
     "output_type": "stream",
     "text": [
      "11765\n"
     ]
    }
   ],
   "source": [
    "# obtem amostra dos dados para treinamento\n",
    "frac_trein = 0.3\n",
    "dtrain = data.sample(frac=frac_trein, random_state=1) # amostra trein.\n",
    "dtest = data.drop(dtrain.index) # amostra teste\n",
    "\n",
    "print(len(dtrain) + len(dtest))"
   ]
  },
  {
   "cell_type": "markdown",
   "metadata": {},
   "source": [
    "Vamos tentar obter um **classificador** sem realizar nenhum tratamento na base de dados"
   ]
  },
  {
   "cell_type": "code",
   "execution_count": 3,
   "metadata": {},
   "outputs": [
    {
     "ename": "ValueError",
     "evalue": "could not convert string to float: '-'",
     "output_type": "error",
     "traceback": [
      "\u001b[0;31m---------------------------------------------------------------------------\u001b[0m",
      "\u001b[0;31mValueError\u001b[0m                                Traceback (most recent call last)",
      "Input \u001b[0;32mIn [3]\u001b[0m, in \u001b[0;36m<module>\u001b[0;34m\u001b[0m\n\u001b[1;32m      9\u001b[0m \u001b[38;5;66;03m# classificador\u001b[39;00m\n\u001b[1;32m     10\u001b[0m clfb \u001b[38;5;241m=\u001b[39m RandomForestClassifier(n_estimators\u001b[38;5;241m=\u001b[39m\u001b[38;5;241m50\u001b[39m, random_state\u001b[38;5;241m=\u001b[39m\u001b[38;5;241m1\u001b[39m)\n\u001b[0;32m---> 11\u001b[0m \u001b[43mclfb\u001b[49m\u001b[38;5;241;43m.\u001b[39;49m\u001b[43mfit\u001b[49m\u001b[43m(\u001b[49m\u001b[43mXcla\u001b[49m\u001b[43m,\u001b[49m\u001b[43mYcla\u001b[49m\u001b[43m)\u001b[49m\n\u001b[1;32m     12\u001b[0m ZYcla_ \u001b[38;5;241m=\u001b[39m clfb\u001b[38;5;241m.\u001b[39mpredict(ZXcla)\n",
      "File \u001b[0;32m~/.virtualenvs/rn22/lib/python3.10/site-packages/sklearn/ensemble/_forest.py:327\u001b[0m, in \u001b[0;36mBaseForest.fit\u001b[0;34m(self, X, y, sample_weight)\u001b[0m\n\u001b[1;32m    325\u001b[0m \u001b[38;5;28;01mif\u001b[39;00m issparse(y):\n\u001b[1;32m    326\u001b[0m     \u001b[38;5;28;01mraise\u001b[39;00m \u001b[38;5;167;01mValueError\u001b[39;00m(\u001b[38;5;124m\"\u001b[39m\u001b[38;5;124msparse multilabel-indicator for y is not supported.\u001b[39m\u001b[38;5;124m\"\u001b[39m)\n\u001b[0;32m--> 327\u001b[0m X, y \u001b[38;5;241m=\u001b[39m \u001b[38;5;28;43mself\u001b[39;49m\u001b[38;5;241;43m.\u001b[39;49m\u001b[43m_validate_data\u001b[49m\u001b[43m(\u001b[49m\n\u001b[1;32m    328\u001b[0m \u001b[43m    \u001b[49m\u001b[43mX\u001b[49m\u001b[43m,\u001b[49m\u001b[43m \u001b[49m\u001b[43my\u001b[49m\u001b[43m,\u001b[49m\u001b[43m \u001b[49m\u001b[43mmulti_output\u001b[49m\u001b[38;5;241;43m=\u001b[39;49m\u001b[38;5;28;43;01mTrue\u001b[39;49;00m\u001b[43m,\u001b[49m\u001b[43m \u001b[49m\u001b[43maccept_sparse\u001b[49m\u001b[38;5;241;43m=\u001b[39;49m\u001b[38;5;124;43m\"\u001b[39;49m\u001b[38;5;124;43mcsc\u001b[39;49m\u001b[38;5;124;43m\"\u001b[39;49m\u001b[43m,\u001b[49m\u001b[43m \u001b[49m\u001b[43mdtype\u001b[49m\u001b[38;5;241;43m=\u001b[39;49m\u001b[43mDTYPE\u001b[49m\n\u001b[1;32m    329\u001b[0m \u001b[43m\u001b[49m\u001b[43m)\u001b[49m\n\u001b[1;32m    330\u001b[0m \u001b[38;5;28;01mif\u001b[39;00m sample_weight \u001b[38;5;129;01mis\u001b[39;00m \u001b[38;5;129;01mnot\u001b[39;00m \u001b[38;5;28;01mNone\u001b[39;00m:\n\u001b[1;32m    331\u001b[0m     sample_weight \u001b[38;5;241m=\u001b[39m _check_sample_weight(sample_weight, X)\n",
      "File \u001b[0;32m~/.virtualenvs/rn22/lib/python3.10/site-packages/sklearn/base.py:581\u001b[0m, in \u001b[0;36mBaseEstimator._validate_data\u001b[0;34m(self, X, y, reset, validate_separately, **check_params)\u001b[0m\n\u001b[1;32m    579\u001b[0m         y \u001b[38;5;241m=\u001b[39m check_array(y, \u001b[38;5;241m*\u001b[39m\u001b[38;5;241m*\u001b[39mcheck_y_params)\n\u001b[1;32m    580\u001b[0m     \u001b[38;5;28;01melse\u001b[39;00m:\n\u001b[0;32m--> 581\u001b[0m         X, y \u001b[38;5;241m=\u001b[39m \u001b[43mcheck_X_y\u001b[49m\u001b[43m(\u001b[49m\u001b[43mX\u001b[49m\u001b[43m,\u001b[49m\u001b[43m \u001b[49m\u001b[43my\u001b[49m\u001b[43m,\u001b[49m\u001b[43m \u001b[49m\u001b[38;5;241;43m*\u001b[39;49m\u001b[38;5;241;43m*\u001b[39;49m\u001b[43mcheck_params\u001b[49m\u001b[43m)\u001b[49m\n\u001b[1;32m    582\u001b[0m     out \u001b[38;5;241m=\u001b[39m X, y\n\u001b[1;32m    584\u001b[0m \u001b[38;5;28;01mif\u001b[39;00m \u001b[38;5;129;01mnot\u001b[39;00m no_val_X \u001b[38;5;129;01mand\u001b[39;00m check_params\u001b[38;5;241m.\u001b[39mget(\u001b[38;5;124m\"\u001b[39m\u001b[38;5;124mensure_2d\u001b[39m\u001b[38;5;124m\"\u001b[39m, \u001b[38;5;28;01mTrue\u001b[39;00m):\n",
      "File \u001b[0;32m~/.virtualenvs/rn22/lib/python3.10/site-packages/sklearn/utils/validation.py:964\u001b[0m, in \u001b[0;36mcheck_X_y\u001b[0;34m(X, y, accept_sparse, accept_large_sparse, dtype, order, copy, force_all_finite, ensure_2d, allow_nd, multi_output, ensure_min_samples, ensure_min_features, y_numeric, estimator)\u001b[0m\n\u001b[1;32m    961\u001b[0m \u001b[38;5;28;01mif\u001b[39;00m y \u001b[38;5;129;01mis\u001b[39;00m \u001b[38;5;28;01mNone\u001b[39;00m:\n\u001b[1;32m    962\u001b[0m     \u001b[38;5;28;01mraise\u001b[39;00m \u001b[38;5;167;01mValueError\u001b[39;00m(\u001b[38;5;124m\"\u001b[39m\u001b[38;5;124my cannot be None\u001b[39m\u001b[38;5;124m\"\u001b[39m)\n\u001b[0;32m--> 964\u001b[0m X \u001b[38;5;241m=\u001b[39m \u001b[43mcheck_array\u001b[49m\u001b[43m(\u001b[49m\n\u001b[1;32m    965\u001b[0m \u001b[43m    \u001b[49m\u001b[43mX\u001b[49m\u001b[43m,\u001b[49m\n\u001b[1;32m    966\u001b[0m \u001b[43m    \u001b[49m\u001b[43maccept_sparse\u001b[49m\u001b[38;5;241;43m=\u001b[39;49m\u001b[43maccept_sparse\u001b[49m\u001b[43m,\u001b[49m\n\u001b[1;32m    967\u001b[0m \u001b[43m    \u001b[49m\u001b[43maccept_large_sparse\u001b[49m\u001b[38;5;241;43m=\u001b[39;49m\u001b[43maccept_large_sparse\u001b[49m\u001b[43m,\u001b[49m\n\u001b[1;32m    968\u001b[0m \u001b[43m    \u001b[49m\u001b[43mdtype\u001b[49m\u001b[38;5;241;43m=\u001b[39;49m\u001b[43mdtype\u001b[49m\u001b[43m,\u001b[49m\n\u001b[1;32m    969\u001b[0m \u001b[43m    \u001b[49m\u001b[43morder\u001b[49m\u001b[38;5;241;43m=\u001b[39;49m\u001b[43morder\u001b[49m\u001b[43m,\u001b[49m\n\u001b[1;32m    970\u001b[0m \u001b[43m    \u001b[49m\u001b[43mcopy\u001b[49m\u001b[38;5;241;43m=\u001b[39;49m\u001b[43mcopy\u001b[49m\u001b[43m,\u001b[49m\n\u001b[1;32m    971\u001b[0m \u001b[43m    \u001b[49m\u001b[43mforce_all_finite\u001b[49m\u001b[38;5;241;43m=\u001b[39;49m\u001b[43mforce_all_finite\u001b[49m\u001b[43m,\u001b[49m\n\u001b[1;32m    972\u001b[0m \u001b[43m    \u001b[49m\u001b[43mensure_2d\u001b[49m\u001b[38;5;241;43m=\u001b[39;49m\u001b[43mensure_2d\u001b[49m\u001b[43m,\u001b[49m\n\u001b[1;32m    973\u001b[0m \u001b[43m    \u001b[49m\u001b[43mallow_nd\u001b[49m\u001b[38;5;241;43m=\u001b[39;49m\u001b[43mallow_nd\u001b[49m\u001b[43m,\u001b[49m\n\u001b[1;32m    974\u001b[0m \u001b[43m    \u001b[49m\u001b[43mensure_min_samples\u001b[49m\u001b[38;5;241;43m=\u001b[39;49m\u001b[43mensure_min_samples\u001b[49m\u001b[43m,\u001b[49m\n\u001b[1;32m    975\u001b[0m \u001b[43m    \u001b[49m\u001b[43mensure_min_features\u001b[49m\u001b[38;5;241;43m=\u001b[39;49m\u001b[43mensure_min_features\u001b[49m\u001b[43m,\u001b[49m\n\u001b[1;32m    976\u001b[0m \u001b[43m    \u001b[49m\u001b[43mestimator\u001b[49m\u001b[38;5;241;43m=\u001b[39;49m\u001b[43mestimator\u001b[49m\u001b[43m,\u001b[49m\n\u001b[1;32m    977\u001b[0m \u001b[43m\u001b[49m\u001b[43m)\u001b[49m\n\u001b[1;32m    979\u001b[0m y \u001b[38;5;241m=\u001b[39m _check_y(y, multi_output\u001b[38;5;241m=\u001b[39mmulti_output, y_numeric\u001b[38;5;241m=\u001b[39my_numeric)\n\u001b[1;32m    981\u001b[0m check_consistent_length(X, y)\n",
      "File \u001b[0;32m~/.virtualenvs/rn22/lib/python3.10/site-packages/sklearn/utils/validation.py:746\u001b[0m, in \u001b[0;36mcheck_array\u001b[0;34m(array, accept_sparse, accept_large_sparse, dtype, order, copy, force_all_finite, ensure_2d, allow_nd, ensure_min_samples, ensure_min_features, estimator)\u001b[0m\n\u001b[1;32m    744\u001b[0m         array \u001b[38;5;241m=\u001b[39m array\u001b[38;5;241m.\u001b[39mastype(dtype, casting\u001b[38;5;241m=\u001b[39m\u001b[38;5;124m\"\u001b[39m\u001b[38;5;124munsafe\u001b[39m\u001b[38;5;124m\"\u001b[39m, copy\u001b[38;5;241m=\u001b[39m\u001b[38;5;28;01mFalse\u001b[39;00m)\n\u001b[1;32m    745\u001b[0m     \u001b[38;5;28;01melse\u001b[39;00m:\n\u001b[0;32m--> 746\u001b[0m         array \u001b[38;5;241m=\u001b[39m \u001b[43mnp\u001b[49m\u001b[38;5;241;43m.\u001b[39;49m\u001b[43masarray\u001b[49m\u001b[43m(\u001b[49m\u001b[43marray\u001b[49m\u001b[43m,\u001b[49m\u001b[43m \u001b[49m\u001b[43morder\u001b[49m\u001b[38;5;241;43m=\u001b[39;49m\u001b[43morder\u001b[49m\u001b[43m,\u001b[49m\u001b[43m \u001b[49m\u001b[43mdtype\u001b[49m\u001b[38;5;241;43m=\u001b[39;49m\u001b[43mdtype\u001b[49m\u001b[43m)\u001b[49m\n\u001b[1;32m    747\u001b[0m \u001b[38;5;28;01mexcept\u001b[39;00m ComplexWarning \u001b[38;5;28;01mas\u001b[39;00m complex_warning:\n\u001b[1;32m    748\u001b[0m     \u001b[38;5;28;01mraise\u001b[39;00m \u001b[38;5;167;01mValueError\u001b[39;00m(\n\u001b[1;32m    749\u001b[0m         \u001b[38;5;124m\"\u001b[39m\u001b[38;5;124mComplex data not supported\u001b[39m\u001b[38;5;130;01m\\n\u001b[39;00m\u001b[38;5;132;01m{}\u001b[39;00m\u001b[38;5;130;01m\\n\u001b[39;00m\u001b[38;5;124m\"\u001b[39m\u001b[38;5;241m.\u001b[39mformat(array)\n\u001b[1;32m    750\u001b[0m     ) \u001b[38;5;28;01mfrom\u001b[39;00m \u001b[38;5;21;01mcomplex_warning\u001b[39;00m\n",
      "File \u001b[0;32m~/.virtualenvs/rn22/lib/python3.10/site-packages/pandas/core/generic.py:2072\u001b[0m, in \u001b[0;36mNDFrame.__array__\u001b[0;34m(self, dtype)\u001b[0m\n\u001b[1;32m   2071\u001b[0m \u001b[38;5;28;01mdef\u001b[39;00m \u001b[38;5;21m__array__\u001b[39m(\u001b[38;5;28mself\u001b[39m, dtype: npt\u001b[38;5;241m.\u001b[39mDTypeLike \u001b[38;5;241m|\u001b[39m \u001b[38;5;28;01mNone\u001b[39;00m \u001b[38;5;241m=\u001b[39m \u001b[38;5;28;01mNone\u001b[39;00m) \u001b[38;5;241m-\u001b[39m\u001b[38;5;241m>\u001b[39m np\u001b[38;5;241m.\u001b[39mndarray:\n\u001b[0;32m-> 2072\u001b[0m     \u001b[38;5;28;01mreturn\u001b[39;00m \u001b[43mnp\u001b[49m\u001b[38;5;241;43m.\u001b[39;49m\u001b[43masarray\u001b[49m\u001b[43m(\u001b[49m\u001b[38;5;28;43mself\u001b[39;49m\u001b[38;5;241;43m.\u001b[39;49m\u001b[43m_values\u001b[49m\u001b[43m,\u001b[49m\u001b[43m \u001b[49m\u001b[43mdtype\u001b[49m\u001b[38;5;241;43m=\u001b[39;49m\u001b[43mdtype\u001b[49m\u001b[43m)\u001b[49m\n",
      "\u001b[0;31mValueError\u001b[0m: could not convert string to float: '-'"
     ]
    }
   ],
   "source": [
    "# preparando os atributos\n",
    "Xcla = dtrain[['tax','total','insurance']]\n",
    "Ycla = dtrain['city']\n",
    "\n",
    "# dados de teste\n",
    "ZXcla = dtest[['tax','total','insurance']]\n",
    "ZYcla = dtest['city']\n",
    "\n",
    "# classificador\n",
    "clfb = RandomForestClassifier(n_estimators=50, random_state=1)\n",
    "clfb.fit(Xcla,Ycla)\n",
    "ZYcla_ = clfb.predict(ZXcla)"
   ]
  },
  {
   "cell_type": "markdown",
   "metadata": {},
   "source": [
    "**Encontramos o primeiro erro! Vamos olhar para os atributos antes de treinar...**\n",
    "Note que o erro é de conversão de string para float. Vamos imprimir os tipos dos atributos e seus valores únicos:"
   ]
  },
  {
   "cell_type": "code",
   "execution_count": 4,
   "metadata": {},
   "outputs": [
    {
     "data": {
      "text/plain": [
       "city                object\n",
       "area               float64\n",
       "rooms              float64\n",
       "bathroom             int64\n",
       "parking spaces     float64\n",
       "floor               object\n",
       "hoa                  int64\n",
       "rent                 int64\n",
       "tax                 object\n",
       "insurance            int64\n",
       "total              float64\n",
       "page hits            int64\n",
       "days available       int64\n",
       "interactions         int64\n",
       "weeks available      int64\n",
       "type                object\n",
       "dtype: object"
      ]
     },
     "execution_count": 4,
     "metadata": {},
     "output_type": "execute_result"
    }
   ],
   "source": [
    "data.dtypes"
   ]
  },
  {
   "cell_type": "code",
   "execution_count": 5,
   "metadata": {},
   "outputs": [
    {
     "name": "stdout",
     "output_type": "stream",
     "text": [
      "----------------------------------------\n",
      "city : object\n",
      "             city  size\n",
      "0  Belo Horizonte   368\n",
      "1          Brotas     3\n",
      "2        Campinas   244\n",
      "3    Porto Alegre   332\n",
      "4  Rio de Janeiro   440\n",
      "5       São Paulo  2143\n",
      "----------------------------------------\n",
      "area : float64\n",
      "count     3509.000000\n",
      "mean       146.410373\n",
      "std        433.867590\n",
      "min         12.000000\n",
      "25%         56.000000\n",
      "50%         91.000000\n",
      "75%        181.000000\n",
      "max      24606.000000\n",
      "Name: area, dtype: float64\n",
      "Total de faltantes:  21\n",
      "----------------------------------------\n",
      "rooms : float64\n",
      "count    3503.000000\n",
      "mean        2.477591\n",
      "std         1.150322\n",
      "min         1.000000\n",
      "25%         2.000000\n",
      "50%         2.000000\n",
      "75%         3.000000\n",
      "max        10.000000\n",
      "Name: rooms, dtype: float64\n",
      "Total de faltantes:  27\n",
      "----------------------------------------\n",
      "bathroom : int64\n",
      "count    3530.000000\n",
      "mean        2.274504\n",
      "std         1.444447\n",
      "min         1.000000\n",
      "25%         1.000000\n",
      "50%         2.000000\n",
      "75%         3.000000\n",
      "max        20.000000\n",
      "Name: bathroom, dtype: float64\n",
      "Total de faltantes:  0\n",
      "----------------------------------------\n",
      "parking spaces : float64\n",
      "count    2669.000000\n",
      "mean        2.137505\n",
      "std         1.482347\n",
      "min         1.000000\n",
      "25%         1.000000\n",
      "50%         2.000000\n",
      "75%         3.000000\n",
      "max         8.000000\n",
      "Name: parking spaces, dtype: float64\n",
      "Total de faltantes:  861\n",
      "----------------------------------------\n",
      "floor : object\n",
      "   floor  size\n",
      "0      -   767\n",
      "1      1   358\n",
      "2     10   119\n",
      "3     11   108\n",
      "4    110     1\n",
      "5     12    79\n",
      "6     13    77\n",
      "7     14    68\n",
      "8     15    47\n",
      "9     16    27\n",
      "10    17    28\n",
      "11    18    24\n",
      "12    19    18\n",
      "13     2   327\n",
      "14    20    18\n",
      "15    21    22\n",
      "16    22     6\n",
      "17    23     9\n",
      "18    24     7\n",
      "19    25    10\n",
      "20    26    12\n",
      "21    27     2\n",
      "22    28     1\n",
      "23     3   316\n",
      "24     4   234\n",
      "25     5   207\n",
      "26     6   176\n",
      "27     7   171\n",
      "28     8   163\n",
      "29     9   128\n",
      "----------------------------------------\n",
      "hoa : int64\n",
      "count     3530.000000\n",
      "mean       956.393484\n",
      "std       1750.021079\n",
      "min          0.000000\n",
      "25%        185.750000\n",
      "50%        578.500000\n",
      "75%       1313.500000\n",
      "max      81150.000000\n",
      "Name: hoa, dtype: float64\n",
      "Total de faltantes:  0\n",
      "----------------------------------------\n",
      "rent : int64\n",
      "count     3530.000000\n",
      "mean      3963.537960\n",
      "std       3331.642415\n",
      "min        450.000000\n",
      "25%       1612.000000\n",
      "50%       2800.000000\n",
      "75%       5010.000000\n",
      "max      30000.000000\n",
      "Name: rent, dtype: float64\n",
      "Total de faltantes:  0\n",
      "----------------------------------------\n",
      "tax : object\n",
      "      tax  size\n",
      "0       -     2\n",
      "1     ---     1\n",
      "2       0   535\n",
      "3       1     7\n",
      "4      10     4\n",
      "..    ...   ...\n",
      "719   990     1\n",
      "720  9900     1\n",
      "721   996     1\n",
      "722   997     1\n",
      "723   nsa     1\n",
      "\n",
      "[724 rows x 2 columns]\n",
      "----------------------------------------\n",
      "insurance : int64\n",
      "count    3530.000000\n",
      "mean       53.907932\n",
      "std        46.370137\n",
      "min         5.000000\n",
      "25%        22.000000\n",
      "50%        37.000000\n",
      "75%        70.000000\n",
      "max       451.000000\n",
      "Name: insurance, dtype: float64\n",
      "Total de faltantes:  0\n",
      "----------------------------------------\n",
      "total : float64\n",
      "count     3530.000000\n",
      "mean      5324.564023\n",
      "std       4668.449630\n",
      "min        499.000000\n",
      "25%       2177.000000\n",
      "50%       3773.500000\n",
      "75%       6885.500000\n",
      "max      95608.000000\n",
      "Name: total, dtype: float64\n",
      "Total de faltantes:  0\n",
      "----------------------------------------\n",
      "page hits : int64\n",
      "count    3530.000000\n",
      "mean      594.931445\n",
      "std       562.364827\n",
      "min         0.000000\n",
      "25%       144.000000\n",
      "50%       432.000000\n",
      "75%       900.000000\n",
      "max      6156.000000\n",
      "Name: page hits, dtype: float64\n",
      "Total de faltantes:  0\n",
      "----------------------------------------\n",
      "days available : int64\n",
      "count    3530.000000\n",
      "mean       73.780453\n",
      "std        35.859787\n",
      "min         0.000000\n",
      "25%        51.000000\n",
      "50%        72.000000\n",
      "75%        93.000000\n",
      "max       358.000000\n",
      "Name: days available, dtype: float64\n",
      "Total de faltantes:  0\n",
      "----------------------------------------\n",
      "interactions : int64\n",
      "count    3530.000000\n",
      "mean      228.125779\n",
      "std       174.531705\n",
      "min         0.000000\n",
      "25%        96.000000\n",
      "50%       180.000000\n",
      "75%       312.000000\n",
      "max      2052.000000\n",
      "Name: interactions, dtype: float64\n",
      "Total de faltantes:  0\n",
      "----------------------------------------\n",
      "weeks available : int64\n",
      "count    3530.000000\n",
      "mean       10.324929\n",
      "std         5.118995\n",
      "min         0.000000\n",
      "25%         7.000000\n",
      "50%        10.000000\n",
      "75%        13.000000\n",
      "max        51.000000\n",
      "Name: weeks available, dtype: float64\n",
      "Total de faltantes:  0\n",
      "----------------------------------------\n",
      "type : object\n",
      "    type  size\n",
      "0   flat  2763\n",
      "1  house   767\n"
     ]
    }
   ],
   "source": [
    "for var in dtrain:\n",
    "    print(40*'-')\n",
    "    print(var,':', dtrain[var].dtype.name)\n",
    "    if dtrain[var].dtype.name == 'object':\n",
    "        print(dtrain.groupby(var, dropna=False, as_index=False).size())\n",
    "    else:\n",
    "        print(dtrain[var].describe())\n",
    "        print('Total de faltantes: ', np.sum(dtrain[var].isna()))"
   ]
  },
  {
   "cell_type": "markdown",
   "metadata": {},
   "source": [
    "Note que:\n",
    "* `city` e `type` são do tipo object contendo strings (palavras), \n",
    "* `floor` e `tax` aparecem como object mas contendo números!\n",
    "\n",
    "Precisamos procurar por problemas e remover os valores não numéricos como `-`. \n",
    "\n",
    "Uma forma fácil é simplesmente forçar a **conversão para numérico** e atribuir `NaN` aos elementos não convertidos.\n",
    "\n",
    "1. `floor` possui um único valor não numérico `-`:"
   ]
  },
  {
   "cell_type": "code",
   "execution_count": 6,
   "metadata": {},
   "outputs": [
    {
     "name": "stdout",
     "output_type": "stream",
     "text": [
      "['7' '5' '3' '11' '-' '2' '15' '6' '1' '20' '4' '17' '21' '8' '13' '9'\n",
      " '18' '12' '10' '19' '14' '23' '22' '26' '25' '16' '27' '110' '24' '28']\n"
     ]
    },
    {
     "data": {
      "image/png": "[encoded data removed]",
      "text/plain": [
       "<Figure size 432x432 with 1 Axes>"
      ]
     },
     "metadata": {
      "needs_background": "light"
     },
     "output_type": "display_data"
    }
   ],
   "source": [
    "plt.figure(figsize=(6,6))\n",
    "h = plt.hist(dtrain.loc[:,'floor'])\n",
    "h = plt.xticks(rotation=90)\n",
    "print(dtrain.loc[:,'floor'].unique())"
   ]
  },
  {
   "cell_type": "markdown",
   "metadata": {},
   "source": [
    "Esse valor parece estar relacionado ao `0` (térreo)"
   ]
  },
  {
   "cell_type": "code",
   "execution_count": 7,
   "metadata": {},
   "outputs": [],
   "source": [
    "dtrain_orig = dtrain.copy()\n",
    "\n",
    "# substituir `-` por `0`\n",
    "dtrain.loc[dtrain['floor']=='-','floor'] = '0'\n",
    "\n",
    "# coerce obriga a conversão, jogando para NaN o que não foi convertido\n",
    "dtrain.loc[:,'floor'] = pd.to_numeric(dtrain.loc[:,'floor'], \n",
    "                                      downcast='integer', errors='coerce')\n",
    "\n",
    "# tax será convertido diretamente, sem substituicao de valores\n",
    "dtrain.loc[:,'tax'] = pd.to_numeric(dtrain.loc[:,'tax'], \n",
    "                                    downcast='float', errors='coerce')"
   ]
  },
  {
   "cell_type": "code",
   "execution_count": 8,
   "metadata": {},
   "outputs": [],
   "source": [
    "# vamos fazer o mesmo com o teste\n",
    "dtest.loc[dtest['floor']=='-','floor'] = '0'\n",
    "dtest.loc[:,'floor'] = pd.to_numeric(dtest.loc[:,'floor'], downcast='integer', errors='coerce')\n",
    "dtest.loc[:,'tax'] = pd.to_numeric(dtest.loc[:,'tax'], downcast='float', errors='coerce')"
   ]
  },
  {
   "cell_type": "markdown",
   "metadata": {},
   "source": [
    "Após tratar os casos de conversão, podemos **remover os faltantes**"
   ]
  },
  {
   "cell_type": "code",
   "execution_count": 9,
   "metadata": {},
   "outputs": [
    {
     "name": "stdout",
     "output_type": "stream",
     "text": [
      "Treinamento antes: 3530\n",
      "Teste antes: 8235\n"
     ]
    }
   ],
   "source": [
    "print(\"Treinamento antes: %d\" % (dtrain.shape[0]))\n",
    "print(\"Teste antes: %d\" % (dtest.shape[0]))"
   ]
  },
  {
   "cell_type": "code",
   "execution_count": 10,
   "metadata": {},
   "outputs": [],
   "source": [
    "dtrain = dtrain.dropna()\n",
    "dtest = dtest.dropna()"
   ]
  },
  {
   "cell_type": "code",
   "execution_count": 11,
   "metadata": {},
   "outputs": [
    {
     "name": "stdout",
     "output_type": "stream",
     "text": [
      "Treinamento após remoção faltantes: 2626\n",
      "Teste após remoção faltantes: 6035\n"
     ]
    }
   ],
   "source": [
    "print(\"Treinamento após remoção faltantes: %d\" % (dtrain.shape[0]))\n",
    "print(\"Teste após remoção faltantes: %d\" % (dtest.shape[0]))"
   ]
  },
  {
   "cell_type": "code",
   "execution_count": 12,
   "metadata": {},
   "outputs": [
    {
     "name": "stdout",
     "output_type": "stream",
     "text": [
      "city : object\n",
      "\t 6 distintos: ['Rio de Janeiro' 'São Paulo' 'Belo Horizonte' 'Porto Alegre' 'Campinas'\n",
      " 'Brotas']\n",
      "area : float64, intervalo: 20.0 , 24606.0\n",
      "rooms : float64, intervalo: 1.0 , 10.0\n",
      "bathroom : int64, intervalo: 1 , 20\n",
      "parking spaces : float64, intervalo: 1.0 , 8.0\n",
      "floor : int8, intervalo: 0 , 110\n",
      "hoa : int64, intervalo: 0 , 14000\n",
      "rent : int64, intervalo: 500 , 30000\n",
      "tax : float32, intervalo: 0.0 , 28120.0\n",
      "insurance : int64, intervalo: 5 , 451\n",
      "total : float64, intervalo: 559.0 , 32183.0\n",
      "page hits : int64, intervalo: 0 , 6156\n",
      "days available : int64, intervalo: 0 , 358\n",
      "interactions : int64, intervalo: 0 , 2052\n",
      "weeks available : int64, intervalo: 0 , 51\n",
      "type : object\n",
      "\t 2 distintos: ['flat' 'house']\n",
      "Antes: 3530, Depois: 2626\n"
     ]
    }
   ],
   "source": [
    "for var in dtrain:\n",
    "    # imprime variavel e seu tipo\n",
    "    print(var,\":\", dtrain[var].dtype.name, end=\"\")\n",
    "    # se nao numérico\n",
    "    if not np.issubdtype(dtrain[var].dtype, np.number):\n",
    "        print(\"\\n\\t\",dtrain[var].nunique(), \"distintos: \", end=\"\")\n",
    "        print(dtrain[var].unique())\n",
    "    else:\n",
    "        print(\", intervalo: \",end=\"\")\n",
    "        print(dtrain[var].min(), \",\", dtrain[var].max())\n",
    "        \n",
    "print(\"Antes: %d, Depois: %d\" % (dtrain_orig.shape[0], dtrain.shape[0]))"
   ]
  },
  {
   "cell_type": "markdown",
   "metadata": {},
   "source": [
    "###  Tratando duplicatas"
   ]
  },
  {
   "cell_type": "code",
   "execution_count": 13,
   "metadata": {},
   "outputs": [
    {
     "name": "stdout",
     "output_type": "stream",
     "text": [
      "Antes: 2626, Depois: 2454\n"
     ]
    }
   ],
   "source": [
    "dtrain_nd = dtrain.drop_duplicates(keep='first')\n",
    "print(\"Antes: %d, Depois: %d\" % (dtrain.shape[0], dtrain_nd.shape[0]))"
   ]
  },
  {
   "cell_type": "code",
   "execution_count": 14,
   "metadata": {},
   "outputs": [
    {
     "name": "stdout",
     "output_type": "stream",
     "text": [
      "Original: 2626, Tratado: 2454\n"
     ]
    }
   ],
   "source": [
    "# preparando os atributos\n",
    "attrsclass = ['tax','total','insurance','rooms', 'bathroom', 'area']\n",
    "Xcla = dtrain[attrsclass]\n",
    "Ycla = dtrain['city']\n",
    "\n",
    "# dados de teste\n",
    "ZXcla = dtest[attrsclass]\n",
    "ZYcla = dtest['city']\n",
    "\n",
    "# classificador\n",
    "clfb = RandomForestClassifier(n_estimators=50, random_state=1)\n",
    "clfb.fit(Xcla,Ycla)\n",
    "ZYcla_ = clfb.predict(ZXcla)\n",
    "\n",
    "# dados sem duplicatas\n",
    "Xcla_nd = dtrain_nd[attrsclass]\n",
    "Ycla_nd = dtrain_nd['city']\n",
    "\n",
    "# classificador dados não duplicados\n",
    "clfnd = RandomForestClassifier(n_estimators=50, random_state=1)\n",
    "clfnd.fit(Xcla_nd,Ycla_nd)\n",
    "ZYcland_ = clfnd.predict(ZXcla)\n",
    "\n",
    "print(\"Original: %d, Tratado: %d\" % (Xcla.shape[0], Xcla_nd.shape[0]))"
   ]
  },
  {
   "cell_type": "markdown",
   "metadata": {},
   "source": [
    "É importante verificar como é a **distribuição das classes** nessa base de dados para utilizar a medida adequada de avaliação"
   ]
  },
  {
   "cell_type": "code",
   "execution_count": 15,
   "metadata": {},
   "outputs": [
    {
     "data": {
      "text/plain": [
       "São Paulo         1652\n",
       "Belo Horizonte     318\n",
       "Rio de Janeiro     245\n",
       "Porto Alegre       216\n",
       "Campinas           192\n",
       "Brotas               3\n",
       "Name: city, dtype: int64"
      ]
     },
     "execution_count": 15,
     "metadata": {},
     "output_type": "execute_result"
    }
   ],
   "source": [
    "dtrain['city'].value_counts()"
   ]
  },
  {
   "cell_type": "markdown",
   "metadata": {},
   "source": [
    "Como nesse caso as classes não são igualmente distribuídas, vamos computar, além da acurácia simples, também a *acurácia balanceada*"
   ]
  },
  {
   "cell_type": "code",
   "execution_count": 16,
   "metadata": {},
   "outputs": [
    {
     "name": "stdout",
     "output_type": "stream",
     "text": [
      "Acurácia base: 70.14\n",
      "- sem duplicatas e com dados faltantes removidos: 69.66\n",
      "\n",
      "Acurácia balanceada base: 40.65\n",
      "- sem duplicatas e com dados faltantes removidos: 40.63\n"
     ]
    }
   ],
   "source": [
    "acc_base = metrics.accuracy_score(ZYcla, ZYcla_)\n",
    "acc_nd = metrics.accuracy_score(ZYcla, ZYcland_)\n",
    "print(\"Acurácia base: %0.2f\" % (acc_base*100))\n",
    "print(\"- sem duplicatas e com dados faltantes removidos: %0.2f\" % (acc_nd*100))\n",
    "\n",
    "ab_base = metrics.balanced_accuracy_score(ZYcla, ZYcla_)\n",
    "ab_nd = metrics.balanced_accuracy_score(ZYcla, ZYcland_)\n",
    "print(\"\\nAcurácia balanceada base: %0.2f\" % (ab_base*100))\n",
    "print(\"- sem duplicatas e com dados faltantes removidos: %0.2f\" % (ab_nd*100))"
   ]
  },
  {
   "cell_type": "code",
   "execution_count": 17,
   "metadata": {},
   "outputs": [],
   "source": [
    "# Treinando regressor\n",
    "## preparando atributos de entrada\n",
    "attrsreg = ['area','rooms','bathroom', 'floor'];\n",
    "Xreg = dtrain[attrsreg]\n",
    "## variável resposta/saída\n",
    "Yreg = dtrain['total']\n",
    "\n",
    "## preparando teste\n",
    "ZXreg = dtest[attrsreg]\n",
    "ZYreg = dtest['total']\n",
    "\n",
    "## dados sem duplicatas\n",
    "Xreg_nd = dtrain_nd[attrsreg]\n",
    "Yreg_nd = dtrain_nd['total']"
   ]
  },
  {
   "cell_type": "code",
   "execution_count": 18,
   "metadata": {},
   "outputs": [
    {
     "name": "stdout",
     "output_type": "stream",
     "text": [
      "Erro médio absoluto: 2638.399\n",
      "Erro médio absoluto após limpeza: 2635.644\n"
     ]
    }
   ],
   "source": [
    "regb = LinearRegression()\n",
    "regb.fit(Xreg, Yreg)\n",
    "ZYreg_ = regb.predict(ZXreg)\n",
    "\n",
    "reg_nd = LinearRegression()\n",
    "reg_nd.fit(Xreg_nd, Yreg_nd)\n",
    "ZYreg_nd_ = reg_nd.predict(ZXreg)\n",
    "\n",
    "mae_base = metrics.mean_absolute_error(ZYreg, ZYreg_)\n",
    "mae_nd = metrics.mean_absolute_error(ZYreg, ZYreg_nd_)\n",
    "print(\"Erro médio absoluto: %0.3f\" % (mae_base))\n",
    "print(\"Erro médio absoluto após limpeza: %0.3f\" % (mae_nd))"
   ]
  },
  {
   "cell_type": "markdown",
   "metadata": {},
   "source": [
    "Percorrendo atributos de interesse para remover outliers"
   ]
  },
  {
   "cell_type": "code",
   "execution_count": 19,
   "metadata": {},
   "outputs": [
    {
     "name": "stdout",
     "output_type": "stream",
     "text": [
      "Antes: 2454, Depois: 2167\n"
     ]
    }
   ],
   "source": [
    "def remove_outliers_IQR(df, attributes, factor=2):\n",
    "    \n",
    "    dfn = df.copy()\n",
    "    \n",
    "    for var in attributes:\n",
    "        # verifica se variável é numerica\n",
    "        if np.issubdtype(df[var].dtype, np.number):\n",
    "            Q1 = dfn[var].quantile(0.25)\n",
    "            Q2 = dfn[var].quantile(0.50)\n",
    "            Q3 = dfn[var].quantile(0.75)\n",
    "            IQR = Q3 - Q1\n",
    "            \n",
    "            # apenas inliers segundo IQR\n",
    "            dfn = dfn.loc[(df[var] >= Q1-(IQR*factor)) & (df[var] <= Q3+(IQR*factor)),:]\n",
    "\n",
    "    return dfn\n",
    "\n",
    "attributes = ['tax','total','insurance', 'area', 'rooms', 'bathroom']\n",
    "dtrain_out = remove_outliers_IQR(dtrain_nd, attributes)\n",
    "dtest_out = remove_outliers_IQR(dtest, attributes)\n",
    "\n",
    "print(\"Antes: %d, Depois: %d\" % (dtrain_nd.shape[0], dtrain_out.shape[0]))"
   ]
  },
  {
   "cell_type": "code",
   "execution_count": 20,
   "metadata": {},
   "outputs": [
    {
     "data": {
      "text/plain": [
       "<AxesSubplot:>"
      ]
     },
     "execution_count": 20,
     "metadata": {},
     "output_type": "execute_result"
    },
    {
     "data": {
      "image/png": "[encoded data removed]",
      "text/plain": [
       "<Figure size 864x360 with 1 Axes>"
      ]
     },
     "metadata": {
      "needs_background": "light"
     },
     "output_type": "display_data"
    }
   ],
   "source": [
    "plt.figure(figsize=(12,5))\n",
    "dtrain.boxplot(attributes)"
   ]
  },
  {
   "cell_type": "code",
   "execution_count": 21,
   "metadata": {},
   "outputs": [
    {
     "data": {
      "text/plain": [
       "<AxesSubplot:>"
      ]
     },
     "execution_count": 21,
     "metadata": {},
     "output_type": "execute_result"
    },
    {
     "data": {
      "image/png": "[encoded data removed]",
      "text/plain": [
       "<Figure size 864x360 with 1 Axes>"
      ]
     },
     "metadata": {
      "needs_background": "light"
     },
     "output_type": "display_data"
    }
   ],
   "source": [
    "plt.figure(figsize=(12,5))\n",
    "dtrain_out.boxplot(attributes)"
   ]
  },
  {
   "cell_type": "code",
   "execution_count": 22,
   "metadata": {},
   "outputs": [],
   "source": [
    "# Treinando classificador com dados após remoção de outliers\n",
    "Xclao = dtrain_out[attrsclass]\n",
    "Yclao = dtrain_out['city']\n",
    "ZXclao = dtest_out[attrsclass]\n",
    "ZYclao = dtest_out['city']\n",
    "\n",
    "clfo = RandomForestClassifier(n_estimators=50, random_state=1)\n",
    "clfo.fit(Xclao,Yclao)\n",
    "ZYcla_o_ = clfo.predict(ZXcla)"
   ]
  },
  {
   "cell_type": "code",
   "execution_count": 23,
   "metadata": {},
   "outputs": [
    {
     "name": "stdout",
     "output_type": "stream",
     "text": [
      "\n",
      "Acurácia balanceada base: 40.65\n",
      "- sem duplicatas e com dados faltantes removidos: 40.63\n",
      "- tratando outliers: 40.41\n"
     ]
    }
   ],
   "source": [
    "ab_o = metrics.balanced_accuracy_score(ZYcla, ZYcla_o_)\n",
    "print(\"\\nAcurácia balanceada base: %0.2f\" % (ab_base*100))\n",
    "print(\"- sem duplicatas e com dados faltantes removidos: %0.2f\" % (ab_nd*100))\n",
    "print(\"- tratando outliers: %0.2f\" % (ab_o*100))"
   ]
  },
  {
   "cell_type": "code",
   "execution_count": 24,
   "metadata": {},
   "outputs": [
    {
     "name": "stdout",
     "output_type": "stream",
     "text": [
      "Erro médio absoluto: 2638.40\n",
      "Erro médio absoluto limpeza: 2635.64\n",
      "Erro médio absoluto tratando outliers: 2378.14\n"
     ]
    }
   ],
   "source": [
    "# avaliando regressor\n",
    "Xreg_o = dtrain_out[attrsreg]\n",
    "Yreg_o = dtrain_out['total']\n",
    "\n",
    "reg_o = LinearRegression()\n",
    "reg_o.fit(Xreg_o, Yreg_o)\n",
    "ZYreg_o_ = reg_o.predict(ZXreg)\n",
    "\n",
    "mae_o = metrics.mean_absolute_error(ZYreg, ZYreg_o_)\n",
    "print(\"Erro médio absoluto: %0.2f\" % (mae_base))\n",
    "print(\"Erro médio absoluto limpeza: %0.2f\" % (mae_nd))\n",
    "print(\"Erro médio absoluto tratando outliers: %0.2f\" % (mae_o))"
   ]
  },
  {
   "cell_type": "markdown",
   "metadata": {},
   "source": [
    "#  Preenchendo dados faltantes\n",
    "\n",
    "No experimento anterior lidamos com dados faltantes **removendo linhas**, \n",
    "\n",
    "Agora vamos carregar novamente os dados e para **preencher os dados**, mantendo o tratamento de remoção de duplicatas, dos atributos string e de remoção de outliers\n",
    "\n",
    "Há várias formas de se preencher dados faltantes\n",
    "1. **com zeros ou valor constante**: \n",
    "    para manter a instância e permitir o uso dos outros atributos\n",
    "<br>    \n",
    "\n",
    "2. **pela média**: similar ao anterior, mas aqui preenchemos com a média do atributo para os valores observados\n",
    "<br>    \n",
    "\n",
    "3. **por vizinhos mais próximos**: refinamento do método da média, no qual, para cada valor faltante, primeiro encontramos as $k$ instâncias mais próximas àquela contendo o valor faltante e obtemos a média do atributo a partir dos $k$ vizinhos mais próximos\n",
    "<br>    \n",
    "\n",
    "4. **por regressão**: para cada atributo faltante, aprendemos um regressor capaz de predizer o atributo faltante com base em um ou mais atributos auxiliares"
   ]
  },
  {
   "cell_type": "code",
   "execution_count": 25,
   "metadata": {},
   "outputs": [
    {
     "name": "stdout",
     "output_type": "stream",
     "text": [
      "Dados originais: 3530, após remocao duplicatas: 3285\n",
      "Após remocao outliers: 2892\n"
     ]
    }
   ],
   "source": [
    "data = pd.read_csv(\"./dados/houses_to_rent_mba2.csv\")\n",
    "\n",
    "# obtem amostra dos dados para treinamento\n",
    "dtrain = data.sample(frac=frac_trein, random_state=1)\n",
    "dtest = data.drop(dtrain.index)\n",
    "\n",
    "dtrain_orig = dtrain.copy()\n",
    "\n",
    "# substituir - por 0\n",
    "dtrain.loc[dtrain['floor']=='-','floor'] = '0'\n",
    "# coerce obriga a conversão, jogando para Nan que não foi convertido\n",
    "dtrain.loc[:,'floor'] = pd.to_numeric(dtrain.loc[:,'floor'], downcast='integer', errors='coerce')\n",
    "dtrain.loc[:,'tax'] = pd.to_numeric(dtrain.loc[:,'tax'], downcast='float', errors='coerce')\n",
    "\n",
    "dtest.loc[dtest['floor']=='-','floor'] = '0'\n",
    "dtest.loc[:,'floor'] = pd.to_numeric(dtest.loc[:,'floor'], downcast='integer', errors='coerce')\n",
    "dtest.loc[:,'tax'] = pd.to_numeric(dtest.loc[:,'tax'], downcast='float', errors='coerce')\n",
    "\n",
    "# remove duplicatas\n",
    "dtrain_nd = dtrain.drop_duplicates(keep='first')\n",
    "print(\"Dados originais: %d, após remocao duplicatas: %d\" % (dtrain.shape[0], dtrain_nd.shape[0]))\n",
    "\n",
    "# remove outliers\n",
    "attributes = ['tax','total','insurance', 'bathroom']\n",
    "dtrain_out = remove_outliers_IQR(dtrain_nd, attributes)\n",
    "dtest_out = remove_outliers_IQR(dtest, attributes)\n",
    "\n",
    "print(\"Após remocao outliers: %d\" % (dtrain_out.shape[0]))"
   ]
  },
  {
   "cell_type": "code",
   "execution_count": 26,
   "metadata": {},
   "outputs": [],
   "source": [
    "def check_missing_att(df):\n",
    "    # verificando atributos faltantes\n",
    "    for var in df:\n",
    "        # somamos o número de variáveis nulas (NaN)\n",
    "        nullatt = np.sum(df[var].isnull())\n",
    "        if nullatt > 0:\n",
    "            print(var,\"- faltantes: \", end='')\n",
    "            print(nullatt)"
   ]
  },
  {
   "cell_type": "code",
   "execution_count": 27,
   "metadata": {
    "scrolled": false
   },
   "outputs": [
    {
     "name": "stdout",
     "output_type": "stream",
     "text": [
      "area - faltantes: 18\n",
      "rooms - faltantes: 22\n",
      "parking spaces - faltantes: 761\n"
     ]
    }
   ],
   "source": [
    "check_missing_att(dtrain_out)"
   ]
  },
  {
   "cell_type": "markdown",
   "metadata": {},
   "source": [
    "### Preenchimento com valor constante"
   ]
  },
  {
   "cell_type": "code",
   "execution_count": 28,
   "metadata": {},
   "outputs": [],
   "source": [
    "dtrain_out_fill0 = dtrain_out.fillna(0)"
   ]
  },
  {
   "cell_type": "code",
   "execution_count": 29,
   "metadata": {},
   "outputs": [],
   "source": [
    "check_missing_att(dtrain_out_fill0)"
   ]
  },
  {
   "cell_type": "markdown",
   "metadata": {},
   "source": [
    "### Preenchimento pela média"
   ]
  },
  {
   "cell_type": "code",
   "execution_count": 30,
   "metadata": {},
   "outputs": [],
   "source": [
    "def fill_missing_average(df):\n",
    "        \n",
    "    dfn = df.copy()\n",
    "    for i in dfn:\n",
    "        nullatt = np.sum(dfn[i].isnull())\n",
    "        if nullatt == 0: continue\n",
    "        print(i, nullatt, 'faltantes')\n",
    "        \n",
    "        # obtem a media para os dados completos no atributo\n",
    "        # dfn[i].notnull() -> elementos completos no atributo i\n",
    "        # dfn.loc[dfn[i].notnull(),i] -> filtra os valores completos do atributo i\n",
    "        avg_compl = dfn.loc[dfn[i].notnull(),i].mean().astype(dfn[i].dtype)\n",
    "        print('\\tmédia =', avg_compl)\n",
    "        dfn.loc[dfn[i].isnull(),i] = avg_compl\n",
    "        \n",
    "    return dfn"
   ]
  },
  {
   "cell_type": "code",
   "execution_count": 31,
   "metadata": {},
   "outputs": [
    {
     "name": "stdout",
     "output_type": "stream",
     "text": [
      "area 18 faltantes\n",
      "\tmédia = 112.30967292971468\n",
      "rooms 22 faltantes\n",
      "\tmédia = 2.3142857142857145\n",
      "parking spaces 761 faltantes\n",
      "\tmédia = 1.8259033317691225\n"
     ]
    },
    {
     "data": {
      "text/html": [
       "<div>\n",
       "<style scoped>\n",
       "    .dataframe tbody tr th:only-of-type {\n",
       "        vertical-align: middle;\n",
       "    }\n",
       "\n",
       "    .dataframe tbody tr th {\n",
       "        vertical-align: top;\n",
       "    }\n",
       "\n",
       "    .dataframe thead th {\n",
       "        text-align: right;\n",
       "    }\n",
       "</style>\n",
       "<table border=\"1\" class=\"dataframe\">\n",
       "  <thead>\n",
       "    <tr style=\"text-align: right;\">\n",
       "      <th></th>\n",
       "      <th>city</th>\n",
       "      <th>area</th>\n",
       "      <th>rooms</th>\n",
       "      <th>bathroom</th>\n",
       "      <th>parking spaces</th>\n",
       "      <th>floor</th>\n",
       "      <th>hoa</th>\n",
       "      <th>rent</th>\n",
       "      <th>tax</th>\n",
       "      <th>insurance</th>\n",
       "      <th>total</th>\n",
       "      <th>page hits</th>\n",
       "      <th>days available</th>\n",
       "      <th>interactions</th>\n",
       "      <th>weeks available</th>\n",
       "      <th>type</th>\n",
       "    </tr>\n",
       "  </thead>\n",
       "  <tbody>\n",
       "    <tr>\n",
       "      <th>9572</th>\n",
       "      <td>São Paulo</td>\n",
       "      <td>80.0</td>\n",
       "      <td>3.0</td>\n",
       "      <td>1</td>\n",
       "      <td>1.825903</td>\n",
       "      <td>0</td>\n",
       "      <td>0</td>\n",
       "      <td>2837</td>\n",
       "      <td>342.0</td>\n",
       "      <td>36</td>\n",
       "      <td>3215.0</td>\n",
       "      <td>540</td>\n",
       "      <td>91</td>\n",
       "      <td>180</td>\n",
       "      <td>13</td>\n",
       "      <td>house</td>\n",
       "    </tr>\n",
       "    <tr>\n",
       "      <th>925</th>\n",
       "      <td>São Paulo</td>\n",
       "      <td>90.0</td>\n",
       "      <td>3.0</td>\n",
       "      <td>2</td>\n",
       "      <td>2.000000</td>\n",
       "      <td>5</td>\n",
       "      <td>1478</td>\n",
       "      <td>2500</td>\n",
       "      <td>355.0</td>\n",
       "      <td>32</td>\n",
       "      <td>4365.0</td>\n",
       "      <td>612</td>\n",
       "      <td>49</td>\n",
       "      <td>204</td>\n",
       "      <td>7</td>\n",
       "      <td>flat</td>\n",
       "    </tr>\n",
       "    <tr>\n",
       "      <th>4476</th>\n",
       "      <td>Belo Horizonte</td>\n",
       "      <td>80.0</td>\n",
       "      <td>1.0</td>\n",
       "      <td>2</td>\n",
       "      <td>1.825903</td>\n",
       "      <td>2</td>\n",
       "      <td>150</td>\n",
       "      <td>1100</td>\n",
       "      <td>68.0</td>\n",
       "      <td>15</td>\n",
       "      <td>1333.0</td>\n",
       "      <td>54</td>\n",
       "      <td>70</td>\n",
       "      <td>54</td>\n",
       "      <td>10</td>\n",
       "      <td>flat</td>\n",
       "    </tr>\n",
       "    <tr>\n",
       "      <th>3592</th>\n",
       "      <td>São Paulo</td>\n",
       "      <td>180.0</td>\n",
       "      <td>3.0</td>\n",
       "      <td>4</td>\n",
       "      <td>3.000000</td>\n",
       "      <td>3</td>\n",
       "      <td>1600</td>\n",
       "      <td>3500</td>\n",
       "      <td>65.0</td>\n",
       "      <td>45</td>\n",
       "      <td>5210.0</td>\n",
       "      <td>396</td>\n",
       "      <td>36</td>\n",
       "      <td>132</td>\n",
       "      <td>5</td>\n",
       "      <td>flat</td>\n",
       "    </tr>\n",
       "    <tr>\n",
       "      <th>10548</th>\n",
       "      <td>Belo Horizonte</td>\n",
       "      <td>26.0</td>\n",
       "      <td>1.0</td>\n",
       "      <td>1</td>\n",
       "      <td>1.000000</td>\n",
       "      <td>1</td>\n",
       "      <td>60</td>\n",
       "      <td>750</td>\n",
       "      <td>67.0</td>\n",
       "      <td>10</td>\n",
       "      <td>887.0</td>\n",
       "      <td>108</td>\n",
       "      <td>45</td>\n",
       "      <td>108</td>\n",
       "      <td>6</td>\n",
       "      <td>flat</td>\n",
       "    </tr>\n",
       "  </tbody>\n",
       "</table>\n",
       "</div>"
      ],
      "text/plain": [
       "                 city   area  rooms  bathroom  parking spaces  floor   hoa  \\\n",
       "9572        São Paulo   80.0    3.0         1        1.825903      0     0   \n",
       "925         São Paulo   90.0    3.0         2        2.000000      5  1478   \n",
       "4476   Belo Horizonte   80.0    1.0         2        1.825903      2   150   \n",
       "3592        São Paulo  180.0    3.0         4        3.000000      3  1600   \n",
       "10548  Belo Horizonte   26.0    1.0         1        1.000000      1    60   \n",
       "\n",
       "       rent    tax  insurance   total  page hits  days available  \\\n",
       "9572   2837  342.0         36  3215.0        540              91   \n",
       "925    2500  355.0         32  4365.0        612              49   \n",
       "4476   1100   68.0         15  1333.0         54              70   \n",
       "3592   3500   65.0         45  5210.0        396              36   \n",
       "10548   750   67.0         10   887.0        108              45   \n",
       "\n",
       "       interactions  weeks available   type  \n",
       "9572            180               13  house  \n",
       "925             204                7   flat  \n",
       "4476             54               10   flat  \n",
       "3592            132                5   flat  \n",
       "10548           108                6   flat  "
      ]
     },
     "execution_count": 31,
     "metadata": {},
     "output_type": "execute_result"
    }
   ],
   "source": [
    "dtrain_mism = fill_missing_average(dtrain_out)\n",
    "\n",
    "check_missing_att(dtrain_mism)\n",
    "dtrain_mism.tail()"
   ]
  },
  {
   "cell_type": "code",
   "execution_count": 32,
   "metadata": {},
   "outputs": [],
   "source": [
    "def fill_missing_regression(df, attributes, attributes_reg):\n",
    "    \"\"\" Funcao para preencher dados faltantes por regressao\n",
    "        parametros:\n",
    "            df - dataframe\n",
    "            attributes - lista de atributos a preencher (alvo/saida)\n",
    "            attributes_reg - lista dos respectivos atributos a serem usados na regressao\n",
    "                             como variaveis de entrada\n",
    "    \"\"\"\n",
    "    \n",
    "    dfn = df.copy()\n",
    "    print(len(attributes), ' attributos: ')\n",
    "    for i in range(len(attributes)):\n",
    "        print('-', i, ': preencher ', attributes[i], ' usando ', attributes_reg[i], end=' -- ')\n",
    "        nullatt = np.sum(dfn[attributes[i]].isnull())\n",
    "        print(nullatt, ' faltantes')\n",
    "        if nullatt == 0: continue\n",
    "        \n",
    "        # atributo de entrada para dados completos\n",
    "        Xa = np.array(dfn.loc[dfn[attributes[i]].notnull() & dfn[attributes_reg[i]].notnull(), \n",
    "                              attributes_reg[i]])\n",
    "        # atributo de saida para dados completos\n",
    "        Ya = np.array(dfn.loc[dfn[attributes[i]].notnull() & dfn[attributes_reg[i]].notnull(), \n",
    "                              attributes[i]])\n",
    "        \n",
    "        reg = LinearRegression()\n",
    "        reg.fit(Xa.reshape(-1, 1), Ya.reshape(-1, 1))\n",
    "        \n",
    "        # seleciona as variáveis de entrada \n",
    "        # relativa aos valores faltantes para fazer a regressao\n",
    "        Zr = dfn.loc[ dfn[attributes[i]].isnull(), attributes_reg[i]]\n",
    "        \n",
    "        # prediz as variaveis faltantes\n",
    "        Za = reg.predict( (np.array(Zr)).reshape(-1, 1) )\n",
    "\n",
    "        # monta array para substituir a variavel agora preenchida\n",
    "        att_fill = np.array(dfn.loc[:, attributes[i]])\n",
    "        att_fill[np.where(np.isnan(att_fill))] = np.array(Za.flatten()).astype(int)\n",
    "        dfn.loc[:,attributes[i]] = att_fill.astype(np.int32)\n",
    "        #print(dfn.loc[df[attributes[i]].isnull(), attributes[i]])\n",
    "        \n",
    "    return dfn"
   ]
  },
  {
   "cell_type": "code",
   "execution_count": 33,
   "metadata": {
    "scrolled": true
   },
   "outputs": [
    {
     "name": "stdout",
     "output_type": "stream",
     "text": [
      "4  attributos: \n",
      "- 0 : preencher  rooms  usando  area -- 22  faltantes\n",
      "- 1 : preencher  parking spaces  usando  rent -- 761  faltantes\n",
      "- 2 : preencher  area  usando  tax -- 18  faltantes\n",
      "- 3 : preencher  tax  usando  hoa -- 0  faltantes\n"
     ]
    }
   ],
   "source": [
    "attributes     = ['rooms', 'parking spaces', 'area', 'tax']\n",
    "attributes_reg = ['area', 'rent', 'tax', 'hoa']\n",
    "\n",
    "dtrain_misr = fill_missing_regression(dtrain_out, attributes, attributes_reg)\n",
    "\n",
    "check_missing_att(dtrain_misr)"
   ]
  },
  {
   "cell_type": "code",
   "execution_count": 35,
   "metadata": {},
   "outputs": [
    {
     "data": {
      "text/html": [
       "<div>\n",
       "<style scoped>\n",
       "    .dataframe tbody tr th:only-of-type {\n",
       "        vertical-align: middle;\n",
       "    }\n",
       "\n",
       "    .dataframe tbody tr th {\n",
       "        vertical-align: top;\n",
       "    }\n",
       "\n",
       "    .dataframe thead th {\n",
       "        text-align: right;\n",
       "    }\n",
       "</style>\n",
       "<table border=\"1\" class=\"dataframe\">\n",
       "  <thead>\n",
       "    <tr style=\"text-align: right;\">\n",
       "      <th></th>\n",
       "      <th>city</th>\n",
       "      <th>area</th>\n",
       "      <th>rooms</th>\n",
       "      <th>bathroom</th>\n",
       "      <th>parking spaces</th>\n",
       "      <th>floor</th>\n",
       "      <th>hoa</th>\n",
       "      <th>rent</th>\n",
       "      <th>tax</th>\n",
       "      <th>insurance</th>\n",
       "      <th>total</th>\n",
       "      <th>page hits</th>\n",
       "      <th>days available</th>\n",
       "      <th>interactions</th>\n",
       "      <th>weeks available</th>\n",
       "      <th>type</th>\n",
       "    </tr>\n",
       "  </thead>\n",
       "  <tbody>\n",
       "    <tr>\n",
       "      <th>9572</th>\n",
       "      <td>São Paulo</td>\n",
       "      <td>80.0</td>\n",
       "      <td>3.0</td>\n",
       "      <td>1</td>\n",
       "      <td>NaN</td>\n",
       "      <td>0</td>\n",
       "      <td>0</td>\n",
       "      <td>2837</td>\n",
       "      <td>342.0</td>\n",
       "      <td>36</td>\n",
       "      <td>3215.0</td>\n",
       "      <td>540</td>\n",
       "      <td>91</td>\n",
       "      <td>180</td>\n",
       "      <td>13</td>\n",
       "      <td>house</td>\n",
       "    </tr>\n",
       "    <tr>\n",
       "      <th>925</th>\n",
       "      <td>São Paulo</td>\n",
       "      <td>90.0</td>\n",
       "      <td>3.0</td>\n",
       "      <td>2</td>\n",
       "      <td>2.0</td>\n",
       "      <td>5</td>\n",
       "      <td>1478</td>\n",
       "      <td>2500</td>\n",
       "      <td>355.0</td>\n",
       "      <td>32</td>\n",
       "      <td>4365.0</td>\n",
       "      <td>612</td>\n",
       "      <td>49</td>\n",
       "      <td>204</td>\n",
       "      <td>7</td>\n",
       "      <td>flat</td>\n",
       "    </tr>\n",
       "    <tr>\n",
       "      <th>4476</th>\n",
       "      <td>Belo Horizonte</td>\n",
       "      <td>80.0</td>\n",
       "      <td>1.0</td>\n",
       "      <td>2</td>\n",
       "      <td>NaN</td>\n",
       "      <td>2</td>\n",
       "      <td>150</td>\n",
       "      <td>1100</td>\n",
       "      <td>68.0</td>\n",
       "      <td>15</td>\n",
       "      <td>1333.0</td>\n",
       "      <td>54</td>\n",
       "      <td>70</td>\n",
       "      <td>54</td>\n",
       "      <td>10</td>\n",
       "      <td>flat</td>\n",
       "    </tr>\n",
       "    <tr>\n",
       "      <th>3592</th>\n",
       "      <td>São Paulo</td>\n",
       "      <td>180.0</td>\n",
       "      <td>3.0</td>\n",
       "      <td>4</td>\n",
       "      <td>3.0</td>\n",
       "      <td>3</td>\n",
       "      <td>1600</td>\n",
       "      <td>3500</td>\n",
       "      <td>65.0</td>\n",
       "      <td>45</td>\n",
       "      <td>5210.0</td>\n",
       "      <td>396</td>\n",
       "      <td>36</td>\n",
       "      <td>132</td>\n",
       "      <td>5</td>\n",
       "      <td>flat</td>\n",
       "    </tr>\n",
       "    <tr>\n",
       "      <th>10548</th>\n",
       "      <td>Belo Horizonte</td>\n",
       "      <td>26.0</td>\n",
       "      <td>1.0</td>\n",
       "      <td>1</td>\n",
       "      <td>1.0</td>\n",
       "      <td>1</td>\n",
       "      <td>60</td>\n",
       "      <td>750</td>\n",
       "      <td>67.0</td>\n",
       "      <td>10</td>\n",
       "      <td>887.0</td>\n",
       "      <td>108</td>\n",
       "      <td>45</td>\n",
       "      <td>108</td>\n",
       "      <td>6</td>\n",
       "      <td>flat</td>\n",
       "    </tr>\n",
       "  </tbody>\n",
       "</table>\n",
       "</div>"
      ],
      "text/plain": [
       "                 city   area  rooms  bathroom  parking spaces  floor   hoa  \\\n",
       "9572        São Paulo   80.0    3.0         1             NaN      0     0   \n",
       "925         São Paulo   90.0    3.0         2             2.0      5  1478   \n",
       "4476   Belo Horizonte   80.0    1.0         2             NaN      2   150   \n",
       "3592        São Paulo  180.0    3.0         4             3.0      3  1600   \n",
       "10548  Belo Horizonte   26.0    1.0         1             1.0      1    60   \n",
       "\n",
       "       rent    tax  insurance   total  page hits  days available  \\\n",
       "9572   2837  342.0         36  3215.0        540              91   \n",
       "925    2500  355.0         32  4365.0        612              49   \n",
       "4476   1100   68.0         15  1333.0         54              70   \n",
       "3592   3500   65.0         45  5210.0        396              36   \n",
       "10548   750   67.0         10   887.0        108              45   \n",
       "\n",
       "       interactions  weeks available   type  \n",
       "9572            180               13  house  \n",
       "925             204                7   flat  \n",
       "4476             54               10   flat  \n",
       "3592            132                5   flat  \n",
       "10548           108                6   flat  "
      ]
     },
     "execution_count": 35,
     "metadata": {},
     "output_type": "execute_result"
    }
   ],
   "source": [
    "dtrain_out.tail()"
   ]
  },
  {
   "cell_type": "code",
   "execution_count": 34,
   "metadata": {},
   "outputs": [
    {
     "data": {
      "text/html": [
       "<div>\n",
       "<style scoped>\n",
       "    .dataframe tbody tr th:only-of-type {\n",
       "        vertical-align: middle;\n",
       "    }\n",
       "\n",
       "    .dataframe tbody tr th {\n",
       "        vertical-align: top;\n",
       "    }\n",
       "\n",
       "    .dataframe thead th {\n",
       "        text-align: right;\n",
       "    }\n",
       "</style>\n",
       "<table border=\"1\" class=\"dataframe\">\n",
       "  <thead>\n",
       "    <tr style=\"text-align: right;\">\n",
       "      <th></th>\n",
       "      <th>city</th>\n",
       "      <th>area</th>\n",
       "      <th>rooms</th>\n",
       "      <th>bathroom</th>\n",
       "      <th>parking spaces</th>\n",
       "      <th>floor</th>\n",
       "      <th>hoa</th>\n",
       "      <th>rent</th>\n",
       "      <th>tax</th>\n",
       "      <th>insurance</th>\n",
       "      <th>total</th>\n",
       "      <th>page hits</th>\n",
       "      <th>days available</th>\n",
       "      <th>interactions</th>\n",
       "      <th>weeks available</th>\n",
       "      <th>type</th>\n",
       "    </tr>\n",
       "  </thead>\n",
       "  <tbody>\n",
       "    <tr>\n",
       "      <th>9572</th>\n",
       "      <td>São Paulo</td>\n",
       "      <td>80</td>\n",
       "      <td>3</td>\n",
       "      <td>1</td>\n",
       "      <td>1</td>\n",
       "      <td>0</td>\n",
       "      <td>0</td>\n",
       "      <td>2837</td>\n",
       "      <td>342.0</td>\n",
       "      <td>36</td>\n",
       "      <td>3215.0</td>\n",
       "      <td>540</td>\n",
       "      <td>91</td>\n",
       "      <td>180</td>\n",
       "      <td>13</td>\n",
       "      <td>house</td>\n",
       "    </tr>\n",
       "    <tr>\n",
       "      <th>925</th>\n",
       "      <td>São Paulo</td>\n",
       "      <td>90</td>\n",
       "      <td>3</td>\n",
       "      <td>2</td>\n",
       "      <td>2</td>\n",
       "      <td>5</td>\n",
       "      <td>1478</td>\n",
       "      <td>2500</td>\n",
       "      <td>355.0</td>\n",
       "      <td>32</td>\n",
       "      <td>4365.0</td>\n",
       "      <td>612</td>\n",
       "      <td>49</td>\n",
       "      <td>204</td>\n",
       "      <td>7</td>\n",
       "      <td>flat</td>\n",
       "    </tr>\n",
       "    <tr>\n",
       "      <th>4476</th>\n",
       "      <td>Belo Horizonte</td>\n",
       "      <td>80</td>\n",
       "      <td>1</td>\n",
       "      <td>2</td>\n",
       "      <td>1</td>\n",
       "      <td>2</td>\n",
       "      <td>150</td>\n",
       "      <td>1100</td>\n",
       "      <td>68.0</td>\n",
       "      <td>15</td>\n",
       "      <td>1333.0</td>\n",
       "      <td>54</td>\n",
       "      <td>70</td>\n",
       "      <td>54</td>\n",
       "      <td>10</td>\n",
       "      <td>flat</td>\n",
       "    </tr>\n",
       "    <tr>\n",
       "      <th>3592</th>\n",
       "      <td>São Paulo</td>\n",
       "      <td>180</td>\n",
       "      <td>3</td>\n",
       "      <td>4</td>\n",
       "      <td>3</td>\n",
       "      <td>3</td>\n",
       "      <td>1600</td>\n",
       "      <td>3500</td>\n",
       "      <td>65.0</td>\n",
       "      <td>45</td>\n",
       "      <td>5210.0</td>\n",
       "      <td>396</td>\n",
       "      <td>36</td>\n",
       "      <td>132</td>\n",
       "      <td>5</td>\n",
       "      <td>flat</td>\n",
       "    </tr>\n",
       "    <tr>\n",
       "      <th>10548</th>\n",
       "      <td>Belo Horizonte</td>\n",
       "      <td>26</td>\n",
       "      <td>1</td>\n",
       "      <td>1</td>\n",
       "      <td>1</td>\n",
       "      <td>1</td>\n",
       "      <td>60</td>\n",
       "      <td>750</td>\n",
       "      <td>67.0</td>\n",
       "      <td>10</td>\n",
       "      <td>887.0</td>\n",
       "      <td>108</td>\n",
       "      <td>45</td>\n",
       "      <td>108</td>\n",
       "      <td>6</td>\n",
       "      <td>flat</td>\n",
       "    </tr>\n",
       "  </tbody>\n",
       "</table>\n",
       "</div>"
      ],
      "text/plain": [
       "                 city  area  rooms  bathroom  parking spaces  floor   hoa  \\\n",
       "9572        São Paulo    80      3         1               1      0     0   \n",
       "925         São Paulo    90      3         2               2      5  1478   \n",
       "4476   Belo Horizonte    80      1         2               1      2   150   \n",
       "3592        São Paulo   180      3         4               3      3  1600   \n",
       "10548  Belo Horizonte    26      1         1               1      1    60   \n",
       "\n",
       "       rent    tax  insurance   total  page hits  days available  \\\n",
       "9572   2837  342.0         36  3215.0        540              91   \n",
       "925    2500  355.0         32  4365.0        612              49   \n",
       "4476   1100   68.0         15  1333.0         54              70   \n",
       "3592   3500   65.0         45  5210.0        396              36   \n",
       "10548   750   67.0         10   887.0        108              45   \n",
       "\n",
       "       interactions  weeks available   type  \n",
       "9572            180               13  house  \n",
       "925             204                7   flat  \n",
       "4476             54               10   flat  \n",
       "3592            132                5   flat  \n",
       "10548           108                6   flat  "
      ]
     },
     "execution_count": 34,
     "metadata": {},
     "output_type": "execute_result"
    }
   ],
   "source": [
    "dtrain_misr.tail()"
   ]
  },
  {
   "cell_type": "code",
   "execution_count": 36,
   "metadata": {},
   "outputs": [],
   "source": [
    "# Treinando classificador preenchimento media\n",
    "Xclamism = dtrain_mism[attrsclass]\n",
    "Yclamism = dtrain_mism['city']\n",
    "\n",
    "clfmm =  RandomForestClassifier(n_estimators=50, random_state=1)\n",
    "clfmm.fit(Xclamism,Yclamism)\n",
    "ZYcla_mm_ = clfmm.predict(ZXcla)\n",
    "\n",
    "# Treinando classificador prenchimento pelo regressor\n",
    "Xclamisr = dtrain_misr[attrsclass]\n",
    "Yclamisr = dtrain_misr['city']\n",
    "\n",
    "clfmr =  RandomForestClassifier(n_estimators=50, random_state=1)\n",
    "clfmr.fit(Xclamisr,Yclamisr)\n",
    "ZYcla_mr_ = clfmr.predict(ZXcla)"
   ]
  },
  {
   "cell_type": "code",
   "execution_count": 37,
   "metadata": {},
   "outputs": [
    {
     "name": "stdout",
     "output_type": "stream",
     "text": [
      "\n",
      "Acurácia balanceada base: 40.65\n",
      "- sem duplicatas e com dados faltantes removidos: 40.63\n",
      "- tratando outliers: 40.41\n",
      "- preenchendo faltantes média: 40.15\n",
      "- preenchendo faltantes regressão: 43.94\n"
     ]
    }
   ],
   "source": [
    "ab_mm = metrics.balanced_accuracy_score(ZYcla, ZYcla_mm_)\n",
    "ab_mr = metrics.balanced_accuracy_score(ZYcla, ZYcla_mr_)\n",
    "print(\"\\nAcurácia balanceada base: %0.2f\" % (ab_base*100))\n",
    "print(\"- sem duplicatas e com dados faltantes removidos: %0.2f\" % (ab_nd*100))\n",
    "print(\"- tratando outliers: %0.2f\" % (ab_o*100))\n",
    "print(\"- preenchendo faltantes média: %0.2f\" % (ab_mm*100))\n",
    "print(\"- preenchendo faltantes regressão: %0.2f\" % (ab_mr*100))"
   ]
  },
  {
   "cell_type": "code",
   "execution_count": 38,
   "metadata": {},
   "outputs": [],
   "source": [
    "# Treinando regressor\n",
    "Xreg_mism = dtrain_mism[attrsreg]\n",
    "Xreg_misr = dtrain_misr[attrsreg]\n",
    "Yreg_mis = dtrain_misr['total']\n",
    "\n",
    "regmm = LinearRegression()\n",
    "regmm.fit(Xreg_mism, Yreg_mis)\n",
    "ZYreg_mism_ = regmm.predict(ZXreg)\n",
    "\n",
    "regmr = LinearRegression()\n",
    "regmr.fit(Xreg_misr, Yreg_mis)\n",
    "ZYreg_misr_ = regmr.predict(ZXreg)"
   ]
  },
  {
   "cell_type": "code",
   "execution_count": 39,
   "metadata": {},
   "outputs": [
    {
     "name": "stdout",
     "output_type": "stream",
     "text": [
      "Erro médio absoluto: 2638.399\n",
      "- limpeza: 2635.644\n",
      "- tratando outliers: 2378.140\n",
      "- preenchendo faltantes média: 2506.438\n",
      "- preenchendo faltantes regressão: 2504.711\n"
     ]
    }
   ],
   "source": [
    "mae_mism = metrics.mean_absolute_error(ZYreg, ZYreg_mism_)\n",
    "mae_misr = metrics.mean_absolute_error(ZYreg, ZYreg_misr_)\n",
    "print(\"Erro médio absoluto: %0.3f\" % (mae_base))\n",
    "print(\"- limpeza: %0.3f\" % (mae_nd))\n",
    "print(\"- tratando outliers: %0.3f\" % (mae_o))\n",
    "print(\"- preenchendo faltantes média: %0.3f\" % (mae_mism))\n",
    "print(\"- preenchendo faltantes regressão: %0.3f\" % (mae_misr))"
   ]
  },
  {
   "cell_type": "code",
   "execution_count": null,
   "metadata": {},
   "outputs": [],
   "source": []
  }
 ],
 "metadata": {
  "kernelspec": {
   "display_name": "Python 3 (ipykernel)",
   "language": "python",
   "name": "python3"
  },
  "language_info": {
   "codemirror_mode": {
    "name": "ipython",
    "version": 3
   },
   "file_extension": ".py",
   "mimetype": "text/x-python",
   "name": "python",
   "nbconvert_exporter": "python",
   "pygments_lexer": "ipython3",
   "version": "3.10.2"
  }
 },
 "nbformat": 4,
 "nbformat_minor": 4
}
