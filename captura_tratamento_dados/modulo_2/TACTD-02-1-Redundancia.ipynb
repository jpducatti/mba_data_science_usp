{
 "cells": [
  {
   "cell_type": "markdown",
   "metadata": {},
   "source": [
    "# MBA em Ciência de Dados\n",
    "# Técnicas Avançadas de Captura e Tratamento de Dados\n",
    "\n",
    "### <span style=\"color:darkred\">Tratamento e limpeza de bases de dados</span>\n",
    "\n",
    "### <span style=\"color:darkred\">Redundância: dados não informativos ou irrelevantes</span>\n",
    "\n",
    "Material Produzido por Moacir Antonelli Ponti\n",
    "\n",
    "CeMEAI - ICMC/USP São Carlos\n",
    "\n",
    "---"
   ]
  },
  {
   "cell_type": "markdown",
   "metadata": {},
   "source": [
    "## Redundância em dados\n",
    "\n",
    "**Redundância em dados não-estruturados**\n",
    "\n",
    "Muito comum pois dados binários e textuais possuem elementos que não auxiliam na análise. Exemplos incluem:\n",
    "\n",
    "- o fundo de imagens e documentos\n",
    "\n",
    "- timbre em documentos e cartas\n",
    "\n",
    "- tipos de palavras em textos: artigos, conjunções, etc.\n",
    "\n",
    "\n",
    "**Redundância em dados estruturados**\n",
    "\n",
    "Diretamente relacionada a:\n",
    "1. linhas/instâncias com valores repetidos (duplicados) \n",
    "2. colunas/atributos com valores constantes (iguais para todas as instâncias)\n",
    "3. colunas/atributos com alta correlação\n",
    "\n",
    "Nesse notebook trataremos apenas de *dados estruturados*"
   ]
  },
  {
   "cell_type": "markdown",
   "metadata": {},
   "source": [
    "## Dados duplicados ou constantes\n",
    "\n",
    "Bases de dados que contém informações repetidas ou atributos irrelevantes para obter as respostas que se espera da análise.\n",
    "\n",
    "A redundância pode atrapalhar no projeto de modelos de aprendizado e estatísticos pois a quantidade de exemplos pode influenciar no viés do modelo.\n",
    "\n",
    "**Redundância em bases de dados estruturadas**:\n",
    "\n",
    "* Registros duplicados\n",
    "\n",
    "* Atributos com valores iguais em todas as observações\n",
    "\n",
    "\n",
    "Vamos carregar uma base de dados para mostrar exemplos"
   ]
  },
  {
   "cell_type": "code",
   "execution_count": 1,
   "metadata": {
    "scrolled": false
   },
   "outputs": [
    {
     "data": {
      "text/plain": [
       "Name                object\n",
       "Sex                 object\n",
       "Year of Birth        int64\n",
       "Country of Birth    object\n",
       "Religion            object\n",
       "City                object\n",
       "Profession          object\n",
       "Age                  int64\n",
       "Experience           int64\n",
       "Salary               int64\n",
       "XP_great_10         object\n",
       "XP_lesseq_10        object\n",
       "dtype: object"
      ]
     },
     "execution_count": 1,
     "metadata": {},
     "output_type": "execute_result"
    }
   ],
   "source": [
    "import numpy as np\n",
    "import matplotlib.pyplot as plt\n",
    "import pandas as pd\n",
    "\n",
    "data = pd.read_csv(\"./dados/people_prof_relig.csv\")\n",
    "data.dtypes"
   ]
  },
  {
   "cell_type": "code",
   "execution_count": 2,
   "metadata": {
    "scrolled": true
   },
   "outputs": [
    {
     "data": {
      "text/html": [
       "<div>\n",
       "<style scoped>\n",
       "    .dataframe tbody tr th:only-of-type {\n",
       "        vertical-align: middle;\n",
       "    }\n",
       "\n",
       "    .dataframe tbody tr th {\n",
       "        vertical-align: top;\n",
       "    }\n",
       "\n",
       "    .dataframe thead th {\n",
       "        text-align: right;\n",
       "    }\n",
       "</style>\n",
       "<table border=\"1\" class=\"dataframe\">\n",
       "  <thead>\n",
       "    <tr style=\"text-align: right;\">\n",
       "      <th></th>\n",
       "      <th>Name</th>\n",
       "      <th>Sex</th>\n",
       "      <th>Year of Birth</th>\n",
       "      <th>Country of Birth</th>\n",
       "      <th>Religion</th>\n",
       "      <th>City</th>\n",
       "      <th>Profession</th>\n",
       "      <th>Age</th>\n",
       "      <th>Experience</th>\n",
       "      <th>Salary</th>\n",
       "      <th>XP_great_10</th>\n",
       "      <th>XP_lesseq_10</th>\n",
       "    </tr>\n",
       "  </thead>\n",
       "  <tbody>\n",
       "    <tr>\n",
       "      <th>0</th>\n",
       "      <td>Desiree Dardar</td>\n",
       "      <td>F</td>\n",
       "      <td>1995</td>\n",
       "      <td>USA</td>\n",
       "      <td>Christian</td>\n",
       "      <td>New Orleans</td>\n",
       "      <td>Nurse</td>\n",
       "      <td>26</td>\n",
       "      <td>1</td>\n",
       "      <td>2580</td>\n",
       "      <td>N</td>\n",
       "      <td>Y</td>\n",
       "    </tr>\n",
       "    <tr>\n",
       "      <th>1</th>\n",
       "      <td>Lora Lemoine</td>\n",
       "      <td>F</td>\n",
       "      <td>1989</td>\n",
       "      <td>England</td>\n",
       "      <td>Christian</td>\n",
       "      <td>Birmingham</td>\n",
       "      <td>Nurse</td>\n",
       "      <td>32</td>\n",
       "      <td>1</td>\n",
       "      <td>2308</td>\n",
       "      <td>N</td>\n",
       "      <td>Y</td>\n",
       "    </tr>\n",
       "    <tr>\n",
       "      <th>2</th>\n",
       "      <td>Willene Wolfgram</td>\n",
       "      <td>F</td>\n",
       "      <td>1997</td>\n",
       "      <td>USA</td>\n",
       "      <td>Christian</td>\n",
       "      <td>New Orleans</td>\n",
       "      <td>Nurse</td>\n",
       "      <td>24</td>\n",
       "      <td>1</td>\n",
       "      <td>5196</td>\n",
       "      <td>N</td>\n",
       "      <td>Y</td>\n",
       "    </tr>\n",
       "    <tr>\n",
       "      <th>3</th>\n",
       "      <td>Herta Hatley</td>\n",
       "      <td>F</td>\n",
       "      <td>1988</td>\n",
       "      <td>USA</td>\n",
       "      <td>Christian</td>\n",
       "      <td>New Orleans</td>\n",
       "      <td>Nurse</td>\n",
       "      <td>33</td>\n",
       "      <td>1</td>\n",
       "      <td>4337</td>\n",
       "      <td>N</td>\n",
       "      <td>Y</td>\n",
       "    </tr>\n",
       "    <tr>\n",
       "      <th>4</th>\n",
       "      <td>Oleta Ouk</td>\n",
       "      <td>F</td>\n",
       "      <td>1991</td>\n",
       "      <td>Spain</td>\n",
       "      <td>Christian</td>\n",
       "      <td>Valencia</td>\n",
       "      <td>Nurse</td>\n",
       "      <td>30</td>\n",
       "      <td>1</td>\n",
       "      <td>4197</td>\n",
       "      <td>N</td>\n",
       "      <td>Y</td>\n",
       "    </tr>\n",
       "  </tbody>\n",
       "</table>\n",
       "</div>"
      ],
      "text/plain": [
       "               Name Sex  Year of Birth Country of Birth   Religion  \\\n",
       "0    Desiree Dardar   F           1995              USA  Christian   \n",
       "1      Lora Lemoine   F           1989          England  Christian   \n",
       "2  Willene Wolfgram   F           1997              USA  Christian   \n",
       "3      Herta Hatley   F           1988              USA  Christian   \n",
       "4         Oleta Ouk   F           1991            Spain  Christian   \n",
       "\n",
       "          City Profession  Age  Experience  Salary XP_great_10 XP_lesseq_10  \n",
       "0  New Orleans      Nurse   26           1    2580           N            Y  \n",
       "1   Birmingham      Nurse   32           1    2308           N            Y  \n",
       "2  New Orleans      Nurse   24           1    5196           N            Y  \n",
       "3  New Orleans      Nurse   33           1    4337           N            Y  \n",
       "4     Valencia      Nurse   30           1    4197           N            Y  "
      ]
     },
     "execution_count": 2,
     "metadata": {},
     "output_type": "execute_result"
    }
   ],
   "source": [
    "data.head()"
   ]
  },
  {
   "cell_type": "code",
   "execution_count": 3,
   "metadata": {},
   "outputs": [
    {
     "data": {
      "text/plain": [
       "(100, 12)"
      ]
     },
     "execution_count": 3,
     "metadata": {},
     "output_type": "execute_result"
    }
   ],
   "source": [
    "data.shape"
   ]
  },
  {
   "cell_type": "markdown",
   "metadata": {},
   "source": [
    "**Linhas/registros duplicados**\n",
    "\n",
    "O tipo mais comum de dados redundantes são as linhas ou registros duplicados, ou seja, aquelas que possuem todos os valores de atributos iguais."
   ]
  },
  {
   "cell_type": "code",
   "execution_count": 4,
   "metadata": {
    "scrolled": true
   },
   "outputs": [
    {
     "data": {
      "text/plain": [
       "0     False\n",
       "1     False\n",
       "2     False\n",
       "3     False\n",
       "4     False\n",
       "      ...  \n",
       "95    False\n",
       "96    False\n",
       "97    False\n",
       "98    False\n",
       "99    False\n",
       "Length: 100, dtype: bool"
      ]
     },
     "execution_count": 4,
     "metadata": {},
     "output_type": "execute_result"
    }
   ],
   "source": [
    "data.duplicated()"
   ]
  },
  {
   "cell_type": "code",
   "execution_count": 5,
   "metadata": {},
   "outputs": [
    {
     "data": {
      "text/html": [
       "<div>\n",
       "<style scoped>\n",
       "    .dataframe tbody tr th:only-of-type {\n",
       "        vertical-align: middle;\n",
       "    }\n",
       "\n",
       "    .dataframe tbody tr th {\n",
       "        vertical-align: top;\n",
       "    }\n",
       "\n",
       "    .dataframe thead th {\n",
       "        text-align: right;\n",
       "    }\n",
       "</style>\n",
       "<table border=\"1\" class=\"dataframe\">\n",
       "  <thead>\n",
       "    <tr style=\"text-align: right;\">\n",
       "      <th></th>\n",
       "      <th>Name</th>\n",
       "      <th>Sex</th>\n",
       "      <th>Year of Birth</th>\n",
       "      <th>Country of Birth</th>\n",
       "      <th>Religion</th>\n",
       "      <th>City</th>\n",
       "      <th>Profession</th>\n",
       "      <th>Age</th>\n",
       "      <th>Experience</th>\n",
       "      <th>Salary</th>\n",
       "      <th>XP_great_10</th>\n",
       "      <th>XP_lesseq_10</th>\n",
       "    </tr>\n",
       "  </thead>\n",
       "  <tbody>\n",
       "    <tr>\n",
       "      <th>46</th>\n",
       "      <td>Carlos Cobre</td>\n",
       "      <td>M</td>\n",
       "      <td>1983</td>\n",
       "      <td>Brazil</td>\n",
       "      <td>Christian</td>\n",
       "      <td>São Paulo</td>\n",
       "      <td>Nurse</td>\n",
       "      <td>38</td>\n",
       "      <td>15</td>\n",
       "      <td>6300</td>\n",
       "      <td>Y</td>\n",
       "      <td>N</td>\n",
       "    </tr>\n",
       "    <tr>\n",
       "      <th>50</th>\n",
       "      <td>Ricardo Rima</td>\n",
       "      <td>M</td>\n",
       "      <td>1977</td>\n",
       "      <td>Peru</td>\n",
       "      <td>Christian</td>\n",
       "      <td>Arequipa</td>\n",
       "      <td>Nurse</td>\n",
       "      <td>44</td>\n",
       "      <td>16</td>\n",
       "      <td>6677</td>\n",
       "      <td>Y</td>\n",
       "      <td>N</td>\n",
       "    </tr>\n",
       "    <tr>\n",
       "      <th>93</th>\n",
       "      <td>Apolonia Abler</td>\n",
       "      <td>F</td>\n",
       "      <td>1967</td>\n",
       "      <td>Canada</td>\n",
       "      <td>Christian</td>\n",
       "      <td>Vancouver</td>\n",
       "      <td>Nurse</td>\n",
       "      <td>54</td>\n",
       "      <td>35</td>\n",
       "      <td>7141</td>\n",
       "      <td>Y</td>\n",
       "      <td>N</td>\n",
       "    </tr>\n",
       "    <tr>\n",
       "      <th>94</th>\n",
       "      <td>Apolonia Abler</td>\n",
       "      <td>F</td>\n",
       "      <td>1967</td>\n",
       "      <td>Canada</td>\n",
       "      <td>Christian</td>\n",
       "      <td>Vancouver</td>\n",
       "      <td>Nurse</td>\n",
       "      <td>54</td>\n",
       "      <td>35</td>\n",
       "      <td>7141</td>\n",
       "      <td>Y</td>\n",
       "      <td>N</td>\n",
       "    </tr>\n",
       "  </tbody>\n",
       "</table>\n",
       "</div>"
      ],
      "text/plain": [
       "              Name Sex  Year of Birth Country of Birth   Religion       City  \\\n",
       "46    Carlos Cobre   M           1983           Brazil  Christian  São Paulo   \n",
       "50    Ricardo Rima   M           1977             Peru  Christian   Arequipa   \n",
       "93  Apolonia Abler   F           1967           Canada  Christian  Vancouver   \n",
       "94  Apolonia Abler   F           1967           Canada  Christian  Vancouver   \n",
       "\n",
       "   Profession  Age  Experience  Salary XP_great_10 XP_lesseq_10  \n",
       "46      Nurse   38          15    6300           Y            N  \n",
       "50      Nurse   44          16    6677           Y            N  \n",
       "93      Nurse   54          35    7141           Y            N  \n",
       "94      Nurse   54          35    7141           Y            N  "
      ]
     },
     "execution_count": 5,
     "metadata": {},
     "output_type": "execute_result"
    }
   ],
   "source": [
    "data[data.duplicated()]"
   ]
  },
  {
   "cell_type": "markdown",
   "metadata": {},
   "source": [
    "A consulta acima mostra apenas as linhas \"extra\", ou seja, as duplicadas encontradas após a ocorrência da primeira linha original.\n",
    "\n",
    "Assim, ao consultar por um dos nomes que temos acima duplicados, veremos que há duas linhas para ele, sendo a duplicada considerada a linha 51."
   ]
  },
  {
   "cell_type": "code",
   "execution_count": 6,
   "metadata": {},
   "outputs": [
    {
     "data": {
      "text/html": [
       "<div>\n",
       "<style scoped>\n",
       "    .dataframe tbody tr th:only-of-type {\n",
       "        vertical-align: middle;\n",
       "    }\n",
       "\n",
       "    .dataframe tbody tr th {\n",
       "        vertical-align: top;\n",
       "    }\n",
       "\n",
       "    .dataframe thead th {\n",
       "        text-align: right;\n",
       "    }\n",
       "</style>\n",
       "<table border=\"1\" class=\"dataframe\">\n",
       "  <thead>\n",
       "    <tr style=\"text-align: right;\">\n",
       "      <th></th>\n",
       "      <th>Name</th>\n",
       "      <th>Sex</th>\n",
       "      <th>Year of Birth</th>\n",
       "      <th>Country of Birth</th>\n",
       "      <th>Religion</th>\n",
       "      <th>City</th>\n",
       "      <th>Profession</th>\n",
       "      <th>Age</th>\n",
       "      <th>Experience</th>\n",
       "      <th>Salary</th>\n",
       "      <th>XP_great_10</th>\n",
       "      <th>XP_lesseq_10</th>\n",
       "    </tr>\n",
       "  </thead>\n",
       "  <tbody>\n",
       "    <tr>\n",
       "      <th>45</th>\n",
       "      <td>Carlos Cobre</td>\n",
       "      <td>M</td>\n",
       "      <td>1983</td>\n",
       "      <td>Brazil</td>\n",
       "      <td>Christian</td>\n",
       "      <td>São Paulo</td>\n",
       "      <td>Nurse</td>\n",
       "      <td>38</td>\n",
       "      <td>15</td>\n",
       "      <td>6300</td>\n",
       "      <td>Y</td>\n",
       "      <td>N</td>\n",
       "    </tr>\n",
       "    <tr>\n",
       "      <th>46</th>\n",
       "      <td>Carlos Cobre</td>\n",
       "      <td>M</td>\n",
       "      <td>1983</td>\n",
       "      <td>Brazil</td>\n",
       "      <td>Christian</td>\n",
       "      <td>São Paulo</td>\n",
       "      <td>Nurse</td>\n",
       "      <td>38</td>\n",
       "      <td>15</td>\n",
       "      <td>6300</td>\n",
       "      <td>Y</td>\n",
       "      <td>N</td>\n",
       "    </tr>\n",
       "  </tbody>\n",
       "</table>\n",
       "</div>"
      ],
      "text/plain": [
       "            Name Sex  Year of Birth Country of Birth   Religion       City  \\\n",
       "45  Carlos Cobre   M           1983           Brazil  Christian  São Paulo   \n",
       "46  Carlos Cobre   M           1983           Brazil  Christian  São Paulo   \n",
       "\n",
       "   Profession  Age  Experience  Salary XP_great_10 XP_lesseq_10  \n",
       "45      Nurse   38          15    6300           Y            N  \n",
       "46      Nurse   38          15    6300           Y            N  "
      ]
     },
     "execution_count": 6,
     "metadata": {},
     "output_type": "execute_result"
    }
   ],
   "source": [
    "data[data['Name']=='Carlos Cobre']"
   ]
  },
  {
   "cell_type": "markdown",
   "metadata": {},
   "source": [
    "Podemos usar a opção `keep` para manter todas as duplicatas, mostrando seus valores"
   ]
  },
  {
   "cell_type": "code",
   "execution_count": 11,
   "metadata": {},
   "outputs": [
    {
     "data": {
      "text/html": [
       "<div>\n",
       "<style scoped>\n",
       "    .dataframe tbody tr th:only-of-type {\n",
       "        vertical-align: middle;\n",
       "    }\n",
       "\n",
       "    .dataframe tbody tr th {\n",
       "        vertical-align: top;\n",
       "    }\n",
       "\n",
       "    .dataframe thead th {\n",
       "        text-align: right;\n",
       "    }\n",
       "</style>\n",
       "<table border=\"1\" class=\"dataframe\">\n",
       "  <thead>\n",
       "    <tr style=\"text-align: right;\">\n",
       "      <th></th>\n",
       "      <th>Name</th>\n",
       "      <th>Sex</th>\n",
       "      <th>Year of Birth</th>\n",
       "      <th>Country of Birth</th>\n",
       "      <th>Religion</th>\n",
       "      <th>City</th>\n",
       "      <th>Profession</th>\n",
       "      <th>Age</th>\n",
       "      <th>Experience</th>\n",
       "      <th>Salary</th>\n",
       "      <th>XP_great_10</th>\n",
       "      <th>XP_lesseq_10</th>\n",
       "    </tr>\n",
       "  </thead>\n",
       "  <tbody>\n",
       "    <tr>\n",
       "      <th>45</th>\n",
       "      <td>Carlos Cobre</td>\n",
       "      <td>M</td>\n",
       "      <td>1983</td>\n",
       "      <td>Brazil</td>\n",
       "      <td>Christian</td>\n",
       "      <td>São Paulo</td>\n",
       "      <td>Nurse</td>\n",
       "      <td>38</td>\n",
       "      <td>15</td>\n",
       "      <td>6300</td>\n",
       "      <td>Y</td>\n",
       "      <td>N</td>\n",
       "    </tr>\n",
       "    <tr>\n",
       "      <th>46</th>\n",
       "      <td>Carlos Cobre</td>\n",
       "      <td>M</td>\n",
       "      <td>1983</td>\n",
       "      <td>Brazil</td>\n",
       "      <td>Christian</td>\n",
       "      <td>São Paulo</td>\n",
       "      <td>Nurse</td>\n",
       "      <td>38</td>\n",
       "      <td>15</td>\n",
       "      <td>6300</td>\n",
       "      <td>Y</td>\n",
       "      <td>N</td>\n",
       "    </tr>\n",
       "    <tr>\n",
       "      <th>48</th>\n",
       "      <td>Ricardo Rima</td>\n",
       "      <td>M</td>\n",
       "      <td>1977</td>\n",
       "      <td>Peru</td>\n",
       "      <td>Christian</td>\n",
       "      <td>Arequipa</td>\n",
       "      <td>Nurse</td>\n",
       "      <td>44</td>\n",
       "      <td>16</td>\n",
       "      <td>6677</td>\n",
       "      <td>Y</td>\n",
       "      <td>N</td>\n",
       "    </tr>\n",
       "    <tr>\n",
       "      <th>50</th>\n",
       "      <td>Ricardo Rima</td>\n",
       "      <td>M</td>\n",
       "      <td>1977</td>\n",
       "      <td>Peru</td>\n",
       "      <td>Christian</td>\n",
       "      <td>Arequipa</td>\n",
       "      <td>Nurse</td>\n",
       "      <td>44</td>\n",
       "      <td>16</td>\n",
       "      <td>6677</td>\n",
       "      <td>Y</td>\n",
       "      <td>N</td>\n",
       "    </tr>\n",
       "    <tr>\n",
       "      <th>92</th>\n",
       "      <td>Apolonia Abler</td>\n",
       "      <td>F</td>\n",
       "      <td>1967</td>\n",
       "      <td>Canada</td>\n",
       "      <td>Christian</td>\n",
       "      <td>Vancouver</td>\n",
       "      <td>Nurse</td>\n",
       "      <td>54</td>\n",
       "      <td>35</td>\n",
       "      <td>7141</td>\n",
       "      <td>Y</td>\n",
       "      <td>N</td>\n",
       "    </tr>\n",
       "    <tr>\n",
       "      <th>93</th>\n",
       "      <td>Apolonia Abler</td>\n",
       "      <td>F</td>\n",
       "      <td>1967</td>\n",
       "      <td>Canada</td>\n",
       "      <td>Christian</td>\n",
       "      <td>Vancouver</td>\n",
       "      <td>Nurse</td>\n",
       "      <td>54</td>\n",
       "      <td>35</td>\n",
       "      <td>7141</td>\n",
       "      <td>Y</td>\n",
       "      <td>N</td>\n",
       "    </tr>\n",
       "    <tr>\n",
       "      <th>94</th>\n",
       "      <td>Apolonia Abler</td>\n",
       "      <td>F</td>\n",
       "      <td>1967</td>\n",
       "      <td>Canada</td>\n",
       "      <td>Christian</td>\n",
       "      <td>Vancouver</td>\n",
       "      <td>Nurse</td>\n",
       "      <td>54</td>\n",
       "      <td>35</td>\n",
       "      <td>7141</td>\n",
       "      <td>Y</td>\n",
       "      <td>N</td>\n",
       "    </tr>\n",
       "  </tbody>\n",
       "</table>\n",
       "</div>"
      ],
      "text/plain": [
       "              Name Sex  Year of Birth Country of Birth   Religion       City  \\\n",
       "45    Carlos Cobre   M           1983           Brazil  Christian  São Paulo   \n",
       "46    Carlos Cobre   M           1983           Brazil  Christian  São Paulo   \n",
       "48    Ricardo Rima   M           1977             Peru  Christian   Arequipa   \n",
       "50    Ricardo Rima   M           1977             Peru  Christian   Arequipa   \n",
       "92  Apolonia Abler   F           1967           Canada  Christian  Vancouver   \n",
       "93  Apolonia Abler   F           1967           Canada  Christian  Vancouver   \n",
       "94  Apolonia Abler   F           1967           Canada  Christian  Vancouver   \n",
       "\n",
       "   Profession  Age  Experience  Salary XP_great_10 XP_lesseq_10  \n",
       "45      Nurse   38          15    6300           Y            N  \n",
       "46      Nurse   38          15    6300           Y            N  \n",
       "48      Nurse   44          16    6677           Y            N  \n",
       "50      Nurse   44          16    6677           Y            N  \n",
       "92      Nurse   54          35    7141           Y            N  \n",
       "93      Nurse   54          35    7141           Y            N  \n",
       "94      Nurse   54          35    7141           Y            N  "
      ]
     },
     "execution_count": 11,
     "metadata": {},
     "output_type": "execute_result"
    }
   ],
   "source": [
    "data[data.duplicated(keep=False)]"
   ]
  },
  {
   "cell_type": "markdown",
   "metadata": {},
   "source": [
    "Felizmente, temos uma funcão pronta para remover duplicatas de dataframes, `drop_duplicates()`, na qual podemos manter a primeira ocorrência da linha duplicada: `first`, a última: `last`, ou remover todas as que aparecem duplicadas: `False`."
   ]
  },
  {
   "cell_type": "code",
   "execution_count": 12,
   "metadata": {},
   "outputs": [
    {
     "data": {
      "text/html": [
       "<div>\n",
       "<style scoped>\n",
       "    .dataframe tbody tr th:only-of-type {\n",
       "        vertical-align: middle;\n",
       "    }\n",
       "\n",
       "    .dataframe tbody tr th {\n",
       "        vertical-align: top;\n",
       "    }\n",
       "\n",
       "    .dataframe thead th {\n",
       "        text-align: right;\n",
       "    }\n",
       "</style>\n",
       "<table border=\"1\" class=\"dataframe\">\n",
       "  <thead>\n",
       "    <tr style=\"text-align: right;\">\n",
       "      <th></th>\n",
       "      <th>Name</th>\n",
       "      <th>Sex</th>\n",
       "      <th>Year of Birth</th>\n",
       "      <th>Country of Birth</th>\n",
       "      <th>Religion</th>\n",
       "      <th>City</th>\n",
       "      <th>Profession</th>\n",
       "      <th>Age</th>\n",
       "      <th>Experience</th>\n",
       "      <th>Salary</th>\n",
       "      <th>XP_great_10</th>\n",
       "      <th>XP_lesseq_10</th>\n",
       "    </tr>\n",
       "  </thead>\n",
       "  <tbody>\n",
       "    <tr>\n",
       "      <th>45</th>\n",
       "      <td>Carlos Cobre</td>\n",
       "      <td>M</td>\n",
       "      <td>1983</td>\n",
       "      <td>Brazil</td>\n",
       "      <td>Christian</td>\n",
       "      <td>São Paulo</td>\n",
       "      <td>Nurse</td>\n",
       "      <td>38</td>\n",
       "      <td>15</td>\n",
       "      <td>6300</td>\n",
       "      <td>Y</td>\n",
       "      <td>N</td>\n",
       "    </tr>\n",
       "  </tbody>\n",
       "</table>\n",
       "</div>"
      ],
      "text/plain": [
       "            Name Sex  Year of Birth Country of Birth   Religion       City  \\\n",
       "45  Carlos Cobre   M           1983           Brazil  Christian  São Paulo   \n",
       "\n",
       "   Profession  Age  Experience  Salary XP_great_10 XP_lesseq_10  \n",
       "45      Nurse   38          15    6300           Y            N  "
      ]
     },
     "execution_count": 12,
     "metadata": {},
     "output_type": "execute_result"
    }
   ],
   "source": [
    "d_ndup = data.drop_duplicates(keep='first')\n",
    "d_ndup[d_ndup['Name']=='Carlos Cobre']"
   ]
  },
  {
   "cell_type": "code",
   "execution_count": 13,
   "metadata": {},
   "outputs": [
    {
     "data": {
      "text/html": [
       "<div>\n",
       "<style scoped>\n",
       "    .dataframe tbody tr th:only-of-type {\n",
       "        vertical-align: middle;\n",
       "    }\n",
       "\n",
       "    .dataframe tbody tr th {\n",
       "        vertical-align: top;\n",
       "    }\n",
       "\n",
       "    .dataframe thead th {\n",
       "        text-align: right;\n",
       "    }\n",
       "</style>\n",
       "<table border=\"1\" class=\"dataframe\">\n",
       "  <thead>\n",
       "    <tr style=\"text-align: right;\">\n",
       "      <th></th>\n",
       "      <th>Name</th>\n",
       "      <th>Sex</th>\n",
       "      <th>Year of Birth</th>\n",
       "      <th>Country of Birth</th>\n",
       "      <th>Religion</th>\n",
       "      <th>City</th>\n",
       "      <th>Profession</th>\n",
       "      <th>Age</th>\n",
       "      <th>Experience</th>\n",
       "      <th>Salary</th>\n",
       "      <th>XP_great_10</th>\n",
       "      <th>XP_lesseq_10</th>\n",
       "    </tr>\n",
       "  </thead>\n",
       "  <tbody>\n",
       "  </tbody>\n",
       "</table>\n",
       "</div>"
      ],
      "text/plain": [
       "Empty DataFrame\n",
       "Columns: [Name, Sex, Year of Birth, Country of Birth, Religion, City, Profession, Age, Experience, Salary, XP_great_10, XP_lesseq_10]\n",
       "Index: []"
      ]
     },
     "execution_count": 13,
     "metadata": {},
     "output_type": "execute_result"
    }
   ],
   "source": [
    "d_ndup[d_ndup.duplicated(keep=False)]"
   ]
  },
  {
   "cell_type": "markdown",
   "metadata": {},
   "source": [
    "---\n",
    "\n",
    "**Duplicidade em atributos**\n",
    "\n",
    "A duplicidade pode gerar problemas quando aparece isolada em determinado atributo. \n",
    "\n",
    "Nessa base de dados um atributo que pode ser sensível a isso é o nome"
   ]
  },
  {
   "cell_type": "code",
   "execution_count": 14,
   "metadata": {},
   "outputs": [
    {
     "data": {
      "text/plain": [
       "0     False\n",
       "1     False\n",
       "2     False\n",
       "3     False\n",
       "4     False\n",
       "      ...  \n",
       "95    False\n",
       "96    False\n",
       "97    False\n",
       "98    False\n",
       "99    False\n",
       "Length: 96, dtype: bool"
      ]
     },
     "execution_count": 14,
     "metadata": {},
     "output_type": "execute_result"
    }
   ],
   "source": [
    "d_ndup.duplicated(['Name'])"
   ]
  },
  {
   "cell_type": "code",
   "execution_count": 15,
   "metadata": {},
   "outputs": [
    {
     "data": {
      "text/html": [
       "<div>\n",
       "<style scoped>\n",
       "    .dataframe tbody tr th:only-of-type {\n",
       "        vertical-align: middle;\n",
       "    }\n",
       "\n",
       "    .dataframe tbody tr th {\n",
       "        vertical-align: top;\n",
       "    }\n",
       "\n",
       "    .dataframe thead th {\n",
       "        text-align: right;\n",
       "    }\n",
       "</style>\n",
       "<table border=\"1\" class=\"dataframe\">\n",
       "  <thead>\n",
       "    <tr style=\"text-align: right;\">\n",
       "      <th></th>\n",
       "      <th>Name</th>\n",
       "      <th>Sex</th>\n",
       "      <th>Year of Birth</th>\n",
       "      <th>Country of Birth</th>\n",
       "      <th>Religion</th>\n",
       "      <th>City</th>\n",
       "      <th>Profession</th>\n",
       "      <th>Age</th>\n",
       "      <th>Experience</th>\n",
       "      <th>Salary</th>\n",
       "      <th>XP_great_10</th>\n",
       "      <th>XP_lesseq_10</th>\n",
       "    </tr>\n",
       "  </thead>\n",
       "  <tbody>\n",
       "    <tr>\n",
       "      <th>73</th>\n",
       "      <td>Apolonia Abler</td>\n",
       "      <td>F</td>\n",
       "      <td>1967</td>\n",
       "      <td>Australia</td>\n",
       "      <td>Christian</td>\n",
       "      <td>Brisbane</td>\n",
       "      <td>Nurse</td>\n",
       "      <td>54</td>\n",
       "      <td>23</td>\n",
       "      <td>5496</td>\n",
       "      <td>Y</td>\n",
       "      <td>N</td>\n",
       "    </tr>\n",
       "    <tr>\n",
       "      <th>92</th>\n",
       "      <td>Apolonia Abler</td>\n",
       "      <td>F</td>\n",
       "      <td>1967</td>\n",
       "      <td>Canada</td>\n",
       "      <td>Christian</td>\n",
       "      <td>Vancouver</td>\n",
       "      <td>Nurse</td>\n",
       "      <td>54</td>\n",
       "      <td>35</td>\n",
       "      <td>7141</td>\n",
       "      <td>Y</td>\n",
       "      <td>N</td>\n",
       "    </tr>\n",
       "  </tbody>\n",
       "</table>\n",
       "</div>"
      ],
      "text/plain": [
       "              Name Sex  Year of Birth Country of Birth   Religion       City  \\\n",
       "73  Apolonia Abler   F           1967        Australia  Christian   Brisbane   \n",
       "92  Apolonia Abler   F           1967           Canada  Christian  Vancouver   \n",
       "\n",
       "   Profession  Age  Experience  Salary XP_great_10 XP_lesseq_10  \n",
       "73      Nurse   54          23    5496           Y            N  \n",
       "92      Nurse   54          35    7141           Y            N  "
      ]
     },
     "execution_count": 15,
     "metadata": {},
     "output_type": "execute_result"
    }
   ],
   "source": [
    "d_ndup[d_ndup.duplicated(['Name'], keep=False)]"
   ]
  },
  {
   "cell_type": "markdown",
   "metadata": {},
   "source": [
    "Notamos que, apesar de ter o mesmo nome, sexo e ano de nascimento, as duas pessoas nasceram em países diferentes e portanto seria preciso consultar algum especialista do domínio para tomar decisões como a de excluir ou desconsiderar uma dessas linhas"
   ]
  },
  {
   "cell_type": "markdown",
   "metadata": {},
   "source": [
    "---\n",
    "**Atributos constantes**\n",
    "\n",
    "Investigando os atributos Profession e Religion, mostrando suas frequencias, notamos que todas as linhas tem o mesmo valor para esses atributos.\n",
    "\n",
    "Apesar do valor informativo, ao construir modelos computacionais, por exemplo classificadores, esses atributos representam um aumento na dimensionalidade sem contribuir para a tarefa principal, classificação.\n",
    "\n",
    "Podemos usar o método `nunique()` para obter a contagem de valores distintos"
   ]
  },
  {
   "cell_type": "code",
   "execution_count": 19,
   "metadata": {},
   "outputs": [
    {
     "name": "stdout",
     "output_type": "stream",
     "text": [
      "Nurse    96\n",
      "Name: Profession, dtype: int64\n",
      "Christian    96\n",
      "Name: Religion, dtype: int64\n"
     ]
    }
   ],
   "source": [
    "print(d_ndup['Profession'].value_counts())\n",
    "print(d_ndup['Religion'].value_counts())"
   ]
  },
  {
   "cell_type": "code",
   "execution_count": 21,
   "metadata": {},
   "outputs": [
    {
     "name": "stdout",
     "output_type": "stream",
     "text": [
      "['Religion' 'Profession']\n"
     ]
    }
   ],
   "source": [
    "# busca os nomes das colunas cujo número de valores únicos é <= 1\n",
    "att_const = np.array(d_ndup.columns[d_ndup.nunique() <= 1])\n",
    "print(att_const)"
   ]
  },
  {
   "cell_type": "code",
   "execution_count": 22,
   "metadata": {},
   "outputs": [
    {
     "data": {
      "image/png": "[encoded data removed]",
      "text/plain": [
       "<Figure size 432x288 with 1 Axes>"
      ]
     },
     "metadata": {
      "needs_background": "light"
     },
     "output_type": "display_data"
    }
   ],
   "source": [
    "for att in att_const:\n",
    "    d_ndup[att].hist(xrot=45)"
   ]
  },
  {
   "cell_type": "code",
   "execution_count": 23,
   "metadata": {},
   "outputs": [
    {
     "data": {
      "text/html": [
       "<div>\n",
       "<style scoped>\n",
       "    .dataframe tbody tr th:only-of-type {\n",
       "        vertical-align: middle;\n",
       "    }\n",
       "\n",
       "    .dataframe tbody tr th {\n",
       "        vertical-align: top;\n",
       "    }\n",
       "\n",
       "    .dataframe thead th {\n",
       "        text-align: right;\n",
       "    }\n",
       "</style>\n",
       "<table border=\"1\" class=\"dataframe\">\n",
       "  <thead>\n",
       "    <tr style=\"text-align: right;\">\n",
       "      <th></th>\n",
       "      <th>Religion</th>\n",
       "      <th>Profession</th>\n",
       "    </tr>\n",
       "  </thead>\n",
       "  <tbody>\n",
       "    <tr>\n",
       "      <th>0</th>\n",
       "      <td>Christian</td>\n",
       "      <td>Nurse</td>\n",
       "    </tr>\n",
       "    <tr>\n",
       "      <th>1</th>\n",
       "      <td>Christian</td>\n",
       "      <td>Nurse</td>\n",
       "    </tr>\n",
       "    <tr>\n",
       "      <th>2</th>\n",
       "      <td>Christian</td>\n",
       "      <td>Nurse</td>\n",
       "    </tr>\n",
       "    <tr>\n",
       "      <th>3</th>\n",
       "      <td>Christian</td>\n",
       "      <td>Nurse</td>\n",
       "    </tr>\n",
       "    <tr>\n",
       "      <th>4</th>\n",
       "      <td>Christian</td>\n",
       "      <td>Nurse</td>\n",
       "    </tr>\n",
       "    <tr>\n",
       "      <th>...</th>\n",
       "      <td>...</td>\n",
       "      <td>...</td>\n",
       "    </tr>\n",
       "    <tr>\n",
       "      <th>95</th>\n",
       "      <td>Christian</td>\n",
       "      <td>Nurse</td>\n",
       "    </tr>\n",
       "    <tr>\n",
       "      <th>96</th>\n",
       "      <td>Christian</td>\n",
       "      <td>Nurse</td>\n",
       "    </tr>\n",
       "    <tr>\n",
       "      <th>97</th>\n",
       "      <td>Christian</td>\n",
       "      <td>Nurse</td>\n",
       "    </tr>\n",
       "    <tr>\n",
       "      <th>98</th>\n",
       "      <td>Christian</td>\n",
       "      <td>Nurse</td>\n",
       "    </tr>\n",
       "    <tr>\n",
       "      <th>99</th>\n",
       "      <td>Christian</td>\n",
       "      <td>Nurse</td>\n",
       "    </tr>\n",
       "  </tbody>\n",
       "</table>\n",
       "<p>96 rows × 2 columns</p>\n",
       "</div>"
      ],
      "text/plain": [
       "     Religion Profession\n",
       "0   Christian      Nurse\n",
       "1   Christian      Nurse\n",
       "2   Christian      Nurse\n",
       "3   Christian      Nurse\n",
       "4   Christian      Nurse\n",
       "..        ...        ...\n",
       "95  Christian      Nurse\n",
       "96  Christian      Nurse\n",
       "97  Christian      Nurse\n",
       "98  Christian      Nurse\n",
       "99  Christian      Nurse\n",
       "\n",
       "[96 rows x 2 columns]"
      ]
     },
     "execution_count": 23,
     "metadata": {},
     "output_type": "execute_result"
    }
   ],
   "source": [
    "d_ndup[att_const]"
   ]
  },
  {
   "cell_type": "code",
   "execution_count": 24,
   "metadata": {},
   "outputs": [],
   "source": [
    "data_nred = d_ndup.drop(att_const, axis=1)"
   ]
  },
  {
   "cell_type": "code",
   "execution_count": 25,
   "metadata": {},
   "outputs": [
    {
     "data": {
      "text/html": [
       "<div>\n",
       "<style scoped>\n",
       "    .dataframe tbody tr th:only-of-type {\n",
       "        vertical-align: middle;\n",
       "    }\n",
       "\n",
       "    .dataframe tbody tr th {\n",
       "        vertical-align: top;\n",
       "    }\n",
       "\n",
       "    .dataframe thead th {\n",
       "        text-align: right;\n",
       "    }\n",
       "</style>\n",
       "<table border=\"1\" class=\"dataframe\">\n",
       "  <thead>\n",
       "    <tr style=\"text-align: right;\">\n",
       "      <th></th>\n",
       "      <th>Name</th>\n",
       "      <th>Sex</th>\n",
       "      <th>Year of Birth</th>\n",
       "      <th>Country of Birth</th>\n",
       "      <th>City</th>\n",
       "      <th>Age</th>\n",
       "      <th>Experience</th>\n",
       "      <th>Salary</th>\n",
       "      <th>XP_great_10</th>\n",
       "      <th>XP_lesseq_10</th>\n",
       "    </tr>\n",
       "  </thead>\n",
       "  <tbody>\n",
       "    <tr>\n",
       "      <th>64</th>\n",
       "      <td>Kathey Kleiman</td>\n",
       "      <td>F</td>\n",
       "      <td>1973</td>\n",
       "      <td>USA</td>\n",
       "      <td>New Orleans</td>\n",
       "      <td>48</td>\n",
       "      <td>20</td>\n",
       "      <td>6905</td>\n",
       "      <td>Y</td>\n",
       "      <td>N</td>\n",
       "    </tr>\n",
       "    <tr>\n",
       "      <th>32</th>\n",
       "      <td>Marcel Olsen</td>\n",
       "      <td>M</td>\n",
       "      <td>1984</td>\n",
       "      <td>Canada</td>\n",
       "      <td>Vancouver</td>\n",
       "      <td>37</td>\n",
       "      <td>8</td>\n",
       "      <td>6490</td>\n",
       "      <td>N</td>\n",
       "      <td>Y</td>\n",
       "    </tr>\n",
       "    <tr>\n",
       "      <th>73</th>\n",
       "      <td>Apolonia Abler</td>\n",
       "      <td>F</td>\n",
       "      <td>1967</td>\n",
       "      <td>Australia</td>\n",
       "      <td>Brisbane</td>\n",
       "      <td>54</td>\n",
       "      <td>23</td>\n",
       "      <td>5496</td>\n",
       "      <td>Y</td>\n",
       "      <td>N</td>\n",
       "    </tr>\n",
       "    <tr>\n",
       "      <th>10</th>\n",
       "      <td>Marla Olson</td>\n",
       "      <td>F</td>\n",
       "      <td>1994</td>\n",
       "      <td>Peru</td>\n",
       "      <td>Arequipa</td>\n",
       "      <td>27</td>\n",
       "      <td>1</td>\n",
       "      <td>3766</td>\n",
       "      <td>N</td>\n",
       "      <td>Y</td>\n",
       "    </tr>\n",
       "    <tr>\n",
       "      <th>1</th>\n",
       "      <td>Lora Lemoine</td>\n",
       "      <td>F</td>\n",
       "      <td>1989</td>\n",
       "      <td>England</td>\n",
       "      <td>Birmingham</td>\n",
       "      <td>32</td>\n",
       "      <td>1</td>\n",
       "      <td>2308</td>\n",
       "      <td>N</td>\n",
       "      <td>Y</td>\n",
       "    </tr>\n",
       "  </tbody>\n",
       "</table>\n",
       "</div>"
      ],
      "text/plain": [
       "              Name Sex  Year of Birth Country of Birth         City  Age  \\\n",
       "64  Kathey Kleiman   F           1973              USA  New Orleans   48   \n",
       "32    Marcel Olsen   M           1984           Canada    Vancouver   37   \n",
       "73  Apolonia Abler   F           1967        Australia     Brisbane   54   \n",
       "10     Marla Olson   F           1994             Peru     Arequipa   27   \n",
       "1     Lora Lemoine   F           1989          England   Birmingham   32   \n",
       "\n",
       "    Experience  Salary XP_great_10 XP_lesseq_10  \n",
       "64          20    6905           Y            N  \n",
       "32           8    6490           N            Y  \n",
       "73          23    5496           Y            N  \n",
       "10           1    3766           N            Y  \n",
       "1            1    2308           N            Y  "
      ]
     },
     "execution_count": 25,
     "metadata": {},
     "output_type": "execute_result"
    }
   ],
   "source": [
    "data_nred.sample(5)"
   ]
  },
  {
   "cell_type": "markdown",
   "metadata": {},
   "source": [
    "## Atributos simétricos e correlacionados\n",
    "\n",
    "Alguns atributos podem estar altamente correlacionados com outros. Esses atributos oferecem pouca contribuição no sentido de melhorar o que sabemos sobre o conjunto de dados. \n",
    "\n",
    "#### Simétricos\n",
    "\n",
    "Atributos cujo valor pode ser obtido pela inversão de outro.\n",
    "\n",
    "#### Correlacionados\n",
    "\n",
    "Atributos cujo valor pode ser explicado (ainda que parcialmente) pelo valor de outra variável\n"
   ]
  },
  {
   "cell_type": "markdown",
   "metadata": {},
   "source": [
    "---\n",
    "#### Atributos irrelevantes e aprendizado de máquina:\n",
    "\n",
    "> Ao treinar modelos com atributos irrelevantes, correlacionados ou simétricos podemos incorrer em maior custo computacional ou problemas de convergência.\n"
   ]
  },
  {
   "cell_type": "markdown",
   "metadata": {},
   "source": [
    "Os atributos XP_great_10 e XP_lesseq_10 são simétricos!"
   ]
  },
  {
   "cell_type": "code",
   "execution_count": 26,
   "metadata": {},
   "outputs": [
    {
     "data": {
      "text/html": [
       "<div>\n",
       "<style scoped>\n",
       "    .dataframe tbody tr th:only-of-type {\n",
       "        vertical-align: middle;\n",
       "    }\n",
       "\n",
       "    .dataframe tbody tr th {\n",
       "        vertical-align: top;\n",
       "    }\n",
       "\n",
       "    .dataframe thead th {\n",
       "        text-align: right;\n",
       "    }\n",
       "</style>\n",
       "<table border=\"1\" class=\"dataframe\">\n",
       "  <thead>\n",
       "    <tr style=\"text-align: right;\">\n",
       "      <th></th>\n",
       "      <th>Name</th>\n",
       "      <th>Sex</th>\n",
       "      <th>Year of Birth</th>\n",
       "      <th>Country of Birth</th>\n",
       "      <th>City</th>\n",
       "      <th>Age</th>\n",
       "      <th>Experience</th>\n",
       "      <th>Salary</th>\n",
       "      <th>XP_great_10</th>\n",
       "      <th>XP_lesseq_10</th>\n",
       "    </tr>\n",
       "  </thead>\n",
       "  <tbody>\n",
       "    <tr>\n",
       "      <th>0</th>\n",
       "      <td>Desiree Dardar</td>\n",
       "      <td>F</td>\n",
       "      <td>1995</td>\n",
       "      <td>USA</td>\n",
       "      <td>New Orleans</td>\n",
       "      <td>26</td>\n",
       "      <td>1</td>\n",
       "      <td>2580</td>\n",
       "      <td>N</td>\n",
       "      <td>Y</td>\n",
       "    </tr>\n",
       "    <tr>\n",
       "      <th>1</th>\n",
       "      <td>Lora Lemoine</td>\n",
       "      <td>F</td>\n",
       "      <td>1989</td>\n",
       "      <td>England</td>\n",
       "      <td>Birmingham</td>\n",
       "      <td>32</td>\n",
       "      <td>1</td>\n",
       "      <td>2308</td>\n",
       "      <td>N</td>\n",
       "      <td>Y</td>\n",
       "    </tr>\n",
       "    <tr>\n",
       "      <th>2</th>\n",
       "      <td>Willene Wolfgram</td>\n",
       "      <td>F</td>\n",
       "      <td>1997</td>\n",
       "      <td>USA</td>\n",
       "      <td>New Orleans</td>\n",
       "      <td>24</td>\n",
       "      <td>1</td>\n",
       "      <td>5196</td>\n",
       "      <td>N</td>\n",
       "      <td>Y</td>\n",
       "    </tr>\n",
       "    <tr>\n",
       "      <th>3</th>\n",
       "      <td>Herta Hatley</td>\n",
       "      <td>F</td>\n",
       "      <td>1988</td>\n",
       "      <td>USA</td>\n",
       "      <td>New Orleans</td>\n",
       "      <td>33</td>\n",
       "      <td>1</td>\n",
       "      <td>4337</td>\n",
       "      <td>N</td>\n",
       "      <td>Y</td>\n",
       "    </tr>\n",
       "    <tr>\n",
       "      <th>4</th>\n",
       "      <td>Oleta Ouk</td>\n",
       "      <td>F</td>\n",
       "      <td>1991</td>\n",
       "      <td>Spain</td>\n",
       "      <td>Valencia</td>\n",
       "      <td>30</td>\n",
       "      <td>1</td>\n",
       "      <td>4197</td>\n",
       "      <td>N</td>\n",
       "      <td>Y</td>\n",
       "    </tr>\n",
       "    <tr>\n",
       "      <th>5</th>\n",
       "      <td>Esther Morgan</td>\n",
       "      <td>F</td>\n",
       "      <td>1991</td>\n",
       "      <td>Australia</td>\n",
       "      <td>Brisbane</td>\n",
       "      <td>30</td>\n",
       "      <td>1</td>\n",
       "      <td>1543</td>\n",
       "      <td>N</td>\n",
       "      <td>Y</td>\n",
       "    </tr>\n",
       "    <tr>\n",
       "      <th>6</th>\n",
       "      <td>Gabriel Paiva</td>\n",
       "      <td>M</td>\n",
       "      <td>1991</td>\n",
       "      <td>Portugal</td>\n",
       "      <td>Lisbon</td>\n",
       "      <td>30</td>\n",
       "      <td>1</td>\n",
       "      <td>2303</td>\n",
       "      <td>N</td>\n",
       "      <td>Y</td>\n",
       "    </tr>\n",
       "  </tbody>\n",
       "</table>\n",
       "</div>"
      ],
      "text/plain": [
       "               Name Sex  Year of Birth Country of Birth         City  Age  \\\n",
       "0    Desiree Dardar   F           1995              USA  New Orleans   26   \n",
       "1      Lora Lemoine   F           1989          England   Birmingham   32   \n",
       "2  Willene Wolfgram   F           1997              USA  New Orleans   24   \n",
       "3      Herta Hatley   F           1988              USA  New Orleans   33   \n",
       "4         Oleta Ouk   F           1991            Spain     Valencia   30   \n",
       "5     Esther Morgan   F           1991        Australia     Brisbane   30   \n",
       "6     Gabriel Paiva   M           1991         Portugal       Lisbon   30   \n",
       "\n",
       "   Experience  Salary XP_great_10 XP_lesseq_10  \n",
       "0           1    2580           N            Y  \n",
       "1           1    2308           N            Y  \n",
       "2           1    5196           N            Y  \n",
       "3           1    4337           N            Y  \n",
       "4           1    4197           N            Y  \n",
       "5           1    1543           N            Y  \n",
       "6           1    2303           N            Y  "
      ]
     },
     "execution_count": 26,
     "metadata": {},
     "output_type": "execute_result"
    }
   ],
   "source": [
    "data_nred.head(7)"
   ]
  },
  {
   "cell_type": "markdown",
   "metadata": {},
   "source": [
    "Removendo um deles:"
   ]
  },
  {
   "cell_type": "code",
   "execution_count": 27,
   "metadata": {},
   "outputs": [],
   "source": [
    "data_nsim = data_nred.drop(['XP_lesseq_10'], axis=1)"
   ]
  },
  {
   "cell_type": "code",
   "execution_count": 28,
   "metadata": {},
   "outputs": [
    {
     "data": {
      "text/html": [
       "<div>\n",
       "<style scoped>\n",
       "    .dataframe tbody tr th:only-of-type {\n",
       "        vertical-align: middle;\n",
       "    }\n",
       "\n",
       "    .dataframe tbody tr th {\n",
       "        vertical-align: top;\n",
       "    }\n",
       "\n",
       "    .dataframe thead th {\n",
       "        text-align: right;\n",
       "    }\n",
       "</style>\n",
       "<table border=\"1\" class=\"dataframe\">\n",
       "  <thead>\n",
       "    <tr style=\"text-align: right;\">\n",
       "      <th></th>\n",
       "      <th>Name</th>\n",
       "      <th>Sex</th>\n",
       "      <th>Year of Birth</th>\n",
       "      <th>Country of Birth</th>\n",
       "      <th>City</th>\n",
       "      <th>Age</th>\n",
       "      <th>Experience</th>\n",
       "      <th>Salary</th>\n",
       "      <th>XP_great_10</th>\n",
       "    </tr>\n",
       "  </thead>\n",
       "  <tbody>\n",
       "    <tr>\n",
       "      <th>74</th>\n",
       "      <td>Kathy Kerrigan</td>\n",
       "      <td>F</td>\n",
       "      <td>1973</td>\n",
       "      <td>USA</td>\n",
       "      <td>New Orleans</td>\n",
       "      <td>48</td>\n",
       "      <td>24</td>\n",
       "      <td>4445</td>\n",
       "      <td>Y</td>\n",
       "    </tr>\n",
       "    <tr>\n",
       "      <th>98</th>\n",
       "      <td>Vinicius Vitorio</td>\n",
       "      <td>M</td>\n",
       "      <td>1959</td>\n",
       "      <td>Brazil</td>\n",
       "      <td>São Paulo</td>\n",
       "      <td>62</td>\n",
       "      <td>39</td>\n",
       "      <td>6830</td>\n",
       "      <td>Y</td>\n",
       "    </tr>\n",
       "  </tbody>\n",
       "</table>\n",
       "</div>"
      ],
      "text/plain": [
       "                Name Sex  Year of Birth Country of Birth         City  Age  \\\n",
       "74    Kathy Kerrigan   F           1973              USA  New Orleans   48   \n",
       "98  Vinicius Vitorio   M           1959           Brazil    São Paulo   62   \n",
       "\n",
       "    Experience  Salary XP_great_10  \n",
       "74          24    4445           Y  \n",
       "98          39    6830           Y  "
      ]
     },
     "execution_count": 28,
     "metadata": {},
     "output_type": "execute_result"
    }
   ],
   "source": [
    "data_nsim.sample(2)"
   ]
  },
  {
   "cell_type": "markdown",
   "metadata": {},
   "source": [
    "\n",
    "### Coeficiente de correlação\n",
    "Uma ferramenta interessante para entender *dependências lineares* entre atributos é a **correlação** medida, por exemplo pelo método de Pearson.\n",
    "\n",
    "No entanto, a correlação só é computada com valores numéricos.\n",
    "\n",
    "> Por exemplo se houver atributos **categóricos** ***simétricos*** ou ***correlacionados***, a correlação não será suficiente para encontrar, sendo necessário recodificá-los caso haja suspeitas de que os atributos sejam redundantes\n"
   ]
  },
  {
   "cell_type": "code",
   "execution_count": 29,
   "metadata": {},
   "outputs": [
    {
     "data": {
      "text/html": [
       "<div>\n",
       "<style scoped>\n",
       "    .dataframe tbody tr th:only-of-type {\n",
       "        vertical-align: middle;\n",
       "    }\n",
       "\n",
       "    .dataframe tbody tr th {\n",
       "        vertical-align: top;\n",
       "    }\n",
       "\n",
       "    .dataframe thead th {\n",
       "        text-align: right;\n",
       "    }\n",
       "</style>\n",
       "<table border=\"1\" class=\"dataframe\">\n",
       "  <thead>\n",
       "    <tr style=\"text-align: right;\">\n",
       "      <th></th>\n",
       "      <th>Year of Birth</th>\n",
       "      <th>Age</th>\n",
       "      <th>Experience</th>\n",
       "      <th>Salary</th>\n",
       "    </tr>\n",
       "  </thead>\n",
       "  <tbody>\n",
       "    <tr>\n",
       "      <th>Year of Birth</th>\n",
       "      <td>1.000000</td>\n",
       "      <td>-1.000000</td>\n",
       "      <td>-0.908208</td>\n",
       "      <td>-0.362197</td>\n",
       "    </tr>\n",
       "    <tr>\n",
       "      <th>Age</th>\n",
       "      <td>-1.000000</td>\n",
       "      <td>1.000000</td>\n",
       "      <td>0.908208</td>\n",
       "      <td>0.362197</td>\n",
       "    </tr>\n",
       "    <tr>\n",
       "      <th>Experience</th>\n",
       "      <td>-0.908208</td>\n",
       "      <td>0.908208</td>\n",
       "      <td>1.000000</td>\n",
       "      <td>0.432904</td>\n",
       "    </tr>\n",
       "    <tr>\n",
       "      <th>Salary</th>\n",
       "      <td>-0.362197</td>\n",
       "      <td>0.362197</td>\n",
       "      <td>0.432904</td>\n",
       "      <td>1.000000</td>\n",
       "    </tr>\n",
       "  </tbody>\n",
       "</table>\n",
       "</div>"
      ],
      "text/plain": [
       "               Year of Birth       Age  Experience    Salary\n",
       "Year of Birth       1.000000 -1.000000   -0.908208 -0.362197\n",
       "Age                -1.000000  1.000000    0.908208  0.362197\n",
       "Experience         -0.908208  0.908208    1.000000  0.432904\n",
       "Salary             -0.362197  0.362197    0.432904  1.000000"
      ]
     },
     "execution_count": 29,
     "metadata": {},
     "output_type": "execute_result"
    }
   ],
   "source": [
    "mat_corr = data_nsim.corr(method = 'pearson')\n",
    "mat_corr"
   ]
  },
  {
   "cell_type": "markdown",
   "metadata": {},
   "source": [
    "Características da matriz de correlação:\n",
    "- valores negativos indicam correlação inversa\n",
    "- tem diagonal igual a 1 (auto-correlação)\n",
    "- é simétrica\n",
    "\n",
    "Vamos considerar como alta correlação atributos com valores iguais ou superiores a 0.95\n",
    "\n",
    "Para facilitar:\n",
    "- pegamos o valor absoluto da correlação, \n",
    "- consideramos apenas a matriz triangular superior - devido a simetria, e\n",
    "- não incluimos a diagonal principal (para a qual todos os valores são 1)"
   ]
  },
  {
   "cell_type": "code",
   "execution_count": 30,
   "metadata": {},
   "outputs": [
    {
     "data": {
      "text/html": [
       "<div>\n",
       "<style scoped>\n",
       "    .dataframe tbody tr th:only-of-type {\n",
       "        vertical-align: middle;\n",
       "    }\n",
       "\n",
       "    .dataframe tbody tr th {\n",
       "        vertical-align: top;\n",
       "    }\n",
       "\n",
       "    .dataframe thead th {\n",
       "        text-align: right;\n",
       "    }\n",
       "</style>\n",
       "<table border=\"1\" class=\"dataframe\">\n",
       "  <thead>\n",
       "    <tr style=\"text-align: right;\">\n",
       "      <th></th>\n",
       "      <th>Year of Birth</th>\n",
       "      <th>Age</th>\n",
       "      <th>Experience</th>\n",
       "      <th>Salary</th>\n",
       "    </tr>\n",
       "  </thead>\n",
       "  <tbody>\n",
       "    <tr>\n",
       "      <th>Year of Birth</th>\n",
       "      <td>1.000000</td>\n",
       "      <td>1.000000</td>\n",
       "      <td>0.908208</td>\n",
       "      <td>0.362197</td>\n",
       "    </tr>\n",
       "    <tr>\n",
       "      <th>Age</th>\n",
       "      <td>1.000000</td>\n",
       "      <td>1.000000</td>\n",
       "      <td>0.908208</td>\n",
       "      <td>0.362197</td>\n",
       "    </tr>\n",
       "    <tr>\n",
       "      <th>Experience</th>\n",
       "      <td>0.908208</td>\n",
       "      <td>0.908208</td>\n",
       "      <td>1.000000</td>\n",
       "      <td>0.432904</td>\n",
       "    </tr>\n",
       "    <tr>\n",
       "      <th>Salary</th>\n",
       "      <td>0.362197</td>\n",
       "      <td>0.362197</td>\n",
       "      <td>0.432904</td>\n",
       "      <td>1.000000</td>\n",
       "    </tr>\n",
       "  </tbody>\n",
       "</table>\n",
       "</div>"
      ],
      "text/plain": [
       "               Year of Birth       Age  Experience    Salary\n",
       "Year of Birth       1.000000  1.000000    0.908208  0.362197\n",
       "Age                 1.000000  1.000000    0.908208  0.362197\n",
       "Experience          0.908208  0.908208    1.000000  0.432904\n",
       "Salary              0.362197  0.362197    0.432904  1.000000"
      ]
     },
     "execution_count": 30,
     "metadata": {},
     "output_type": "execute_result"
    }
   ],
   "source": [
    "mat_corr = np.abs(mat_corr)\n",
    "mat_corr"
   ]
  },
  {
   "cell_type": "code",
   "execution_count": 31,
   "metadata": {},
   "outputs": [
    {
     "name": "stdout",
     "output_type": "stream",
     "text": [
      "[[False  True  True  True]\n",
      " [False False  True  True]\n",
      " [False False False  True]\n",
      " [False False False False]]\n"
     ]
    }
   ],
   "source": [
    "# o parametro k indica para nao incluir a diagonal principal\n",
    "mask_tri = np.triu(np.ones(mat_corr.shape),k=1).astype(bool)\n",
    "print(mask_tri)"
   ]
  },
  {
   "cell_type": "code",
   "execution_count": 32,
   "metadata": {
    "scrolled": false
   },
   "outputs": [
    {
     "name": "stdout",
     "output_type": "stream",
     "text": [
      "               Year of Birth  Age  Experience    Salary\n",
      "Year of Birth            NaN  1.0    0.908208  0.362197\n",
      "Age                      NaN  NaN    0.908208  0.362197\n",
      "Experience               NaN  NaN         NaN  0.432904\n",
      "Salary                   NaN  NaN         NaN       NaN\n"
     ]
    }
   ],
   "source": [
    "tri_sup = mat_corr.where(mask_tri)\n",
    "print(tri_sup)"
   ]
  },
  {
   "cell_type": "markdown",
   "metadata": {},
   "source": [
    "Para cada coluna das colunas da matriz triangular nas quais qualquer valor seja maior ou igual a 0.95"
   ]
  },
  {
   "cell_type": "code",
   "execution_count": 33,
   "metadata": {},
   "outputs": [],
   "source": [
    "atrib_altacor = [col for col in tri_sup.columns if any(tri_sup[col] >= 0.95)]"
   ]
  },
  {
   "cell_type": "code",
   "execution_count": 34,
   "metadata": {},
   "outputs": [
    {
     "data": {
      "text/plain": [
       "['Age']"
      ]
     },
     "execution_count": 34,
     "metadata": {},
     "output_type": "execute_result"
    }
   ],
   "source": [
    "atrib_altacor"
   ]
  },
  {
   "cell_type": "code",
   "execution_count": null,
   "metadata": {},
   "outputs": [],
   "source": [
    "data_nsim"
   ]
  },
  {
   "cell_type": "code",
   "execution_count": 35,
   "metadata": {},
   "outputs": [],
   "source": [
    "data_clean = data_nsim.drop(data_nsim[atrib_altacor], axis=1)"
   ]
  },
  {
   "cell_type": "code",
   "execution_count": 36,
   "metadata": {},
   "outputs": [
    {
     "data": {
      "text/html": [
       "<div>\n",
       "<style scoped>\n",
       "    .dataframe tbody tr th:only-of-type {\n",
       "        vertical-align: middle;\n",
       "    }\n",
       "\n",
       "    .dataframe tbody tr th {\n",
       "        vertical-align: top;\n",
       "    }\n",
       "\n",
       "    .dataframe thead th {\n",
       "        text-align: right;\n",
       "    }\n",
       "</style>\n",
       "<table border=\"1\" class=\"dataframe\">\n",
       "  <thead>\n",
       "    <tr style=\"text-align: right;\">\n",
       "      <th></th>\n",
       "      <th>Name</th>\n",
       "      <th>Sex</th>\n",
       "      <th>Year of Birth</th>\n",
       "      <th>Country of Birth</th>\n",
       "      <th>City</th>\n",
       "      <th>Experience</th>\n",
       "      <th>Salary</th>\n",
       "      <th>XP_great_10</th>\n",
       "    </tr>\n",
       "  </thead>\n",
       "  <tbody>\n",
       "    <tr>\n",
       "      <th>83</th>\n",
       "      <td>Savannah Ball</td>\n",
       "      <td>F</td>\n",
       "      <td>1974</td>\n",
       "      <td>USA</td>\n",
       "      <td>New Orleans</td>\n",
       "      <td>26</td>\n",
       "      <td>7952</td>\n",
       "      <td>Y</td>\n",
       "    </tr>\n",
       "    <tr>\n",
       "      <th>7</th>\n",
       "      <td>Pablo Alvarez</td>\n",
       "      <td>M</td>\n",
       "      <td>1991</td>\n",
       "      <td>Mexico</td>\n",
       "      <td>Acapulco</td>\n",
       "      <td>1</td>\n",
       "      <td>2086</td>\n",
       "      <td>N</td>\n",
       "    </tr>\n",
       "    <tr>\n",
       "      <th>25</th>\n",
       "      <td>Shelley Mendoza</td>\n",
       "      <td>F</td>\n",
       "      <td>1978</td>\n",
       "      <td>Scotland</td>\n",
       "      <td>Edinburgh</td>\n",
       "      <td>7</td>\n",
       "      <td>5564</td>\n",
       "      <td>N</td>\n",
       "    </tr>\n",
       "    <tr>\n",
       "      <th>68</th>\n",
       "      <td>Elias Elmo</td>\n",
       "      <td>M</td>\n",
       "      <td>1970</td>\n",
       "      <td>Portugal</td>\n",
       "      <td>Lisbon</td>\n",
       "      <td>21</td>\n",
       "      <td>6709</td>\n",
       "      <td>Y</td>\n",
       "    </tr>\n",
       "    <tr>\n",
       "      <th>0</th>\n",
       "      <td>Desiree Dardar</td>\n",
       "      <td>F</td>\n",
       "      <td>1995</td>\n",
       "      <td>USA</td>\n",
       "      <td>New Orleans</td>\n",
       "      <td>1</td>\n",
       "      <td>2580</td>\n",
       "      <td>N</td>\n",
       "    </tr>\n",
       "    <tr>\n",
       "      <th>86</th>\n",
       "      <td>Terri Wilson</td>\n",
       "      <td>F</td>\n",
       "      <td>1962</td>\n",
       "      <td>Canada</td>\n",
       "      <td>Vancouver</td>\n",
       "      <td>28</td>\n",
       "      <td>4811</td>\n",
       "      <td>Y</td>\n",
       "    </tr>\n",
       "    <tr>\n",
       "      <th>89</th>\n",
       "      <td>Vivian Arnold</td>\n",
       "      <td>F</td>\n",
       "      <td>1960</td>\n",
       "      <td>Brazil</td>\n",
       "      <td>São Paulo</td>\n",
       "      <td>33</td>\n",
       "      <td>5525</td>\n",
       "      <td>Y</td>\n",
       "    </tr>\n",
       "    <tr>\n",
       "      <th>33</th>\n",
       "      <td>Billie Duncan</td>\n",
       "      <td>F</td>\n",
       "      <td>1976</td>\n",
       "      <td>Scotland</td>\n",
       "      <td>Edinburgh</td>\n",
       "      <td>9</td>\n",
       "      <td>2391</td>\n",
       "      <td>N</td>\n",
       "    </tr>\n",
       "    <tr>\n",
       "      <th>70</th>\n",
       "      <td>Douglas Damario</td>\n",
       "      <td>M</td>\n",
       "      <td>1965</td>\n",
       "      <td>USA</td>\n",
       "      <td>New Orleans</td>\n",
       "      <td>22</td>\n",
       "      <td>3283</td>\n",
       "      <td>Y</td>\n",
       "    </tr>\n",
       "    <tr>\n",
       "      <th>95</th>\n",
       "      <td>Ariel Almada</td>\n",
       "      <td>F</td>\n",
       "      <td>1965</td>\n",
       "      <td>Portugal</td>\n",
       "      <td>Lisbon</td>\n",
       "      <td>36</td>\n",
       "      <td>9722</td>\n",
       "      <td>Y</td>\n",
       "    </tr>\n",
       "  </tbody>\n",
       "</table>\n",
       "</div>"
      ],
      "text/plain": [
       "               Name Sex  Year of Birth Country of Birth         City  \\\n",
       "83    Savannah Ball   F           1974              USA  New Orleans   \n",
       "7     Pablo Alvarez   M           1991           Mexico     Acapulco   \n",
       "25  Shelley Mendoza   F           1978         Scotland    Edinburgh   \n",
       "68       Elias Elmo   M           1970         Portugal       Lisbon   \n",
       "0    Desiree Dardar   F           1995              USA  New Orleans   \n",
       "86     Terri Wilson   F           1962           Canada    Vancouver   \n",
       "89    Vivian Arnold   F           1960           Brazil    São Paulo   \n",
       "33    Billie Duncan   F           1976         Scotland    Edinburgh   \n",
       "70  Douglas Damario   M           1965              USA  New Orleans   \n",
       "95     Ariel Almada   F           1965         Portugal       Lisbon   \n",
       "\n",
       "    Experience  Salary XP_great_10  \n",
       "83          26    7952           Y  \n",
       "7            1    2086           N  \n",
       "25           7    5564           N  \n",
       "68          21    6709           Y  \n",
       "0            1    2580           N  \n",
       "86          28    4811           Y  \n",
       "89          33    5525           Y  \n",
       "33           9    2391           N  \n",
       "70          22    3283           Y  \n",
       "95          36    9722           Y  "
      ]
     },
     "execution_count": 36,
     "metadata": {},
     "output_type": "execute_result"
    }
   ],
   "source": [
    "data_clean.sample(10)"
   ]
  },
  {
   "cell_type": "markdown",
   "metadata": {},
   "source": [
    "#### Remover atributos redundantes e tamanho de datasets\n",
    "\n",
    "A limpeza de dados redundantes permite reduzir a base de dados sem perder informação:\n",
    "* reduzindo seu tamanho total\n",
    "* minimizando problemas com modelagem, como a \"maldição da dimensionalidade\""
   ]
  },
  {
   "cell_type": "code",
   "execution_count": 37,
   "metadata": {},
   "outputs": [
    {
     "name": "stdout",
     "output_type": "stream",
     "text": [
      "<class 'pandas.core.frame.DataFrame'>\n",
      "RangeIndex: 100 entries, 0 to 99\n",
      "Data columns (total 12 columns):\n",
      " #   Column            Non-Null Count  Dtype \n",
      "---  ------            --------------  ----- \n",
      " 0   Name              100 non-null    object\n",
      " 1   Sex               100 non-null    object\n",
      " 2   Year of Birth     100 non-null    int64 \n",
      " 3   Country of Birth  100 non-null    object\n",
      " 4   Religion          100 non-null    object\n",
      " 5   City              100 non-null    object\n",
      " 6   Profession        100 non-null    object\n",
      " 7   Age               100 non-null    int64 \n",
      " 8   Experience        100 non-null    int64 \n",
      " 9   Salary            100 non-null    int64 \n",
      " 10  XP_great_10       100 non-null    object\n",
      " 11  XP_lesseq_10      100 non-null    object\n",
      "dtypes: int64(4), object(8)\n",
      "memory usage: 9.5+ KB\n"
     ]
    }
   ],
   "source": [
    "data.info()"
   ]
  },
  {
   "cell_type": "code",
   "execution_count": 38,
   "metadata": {},
   "outputs": [
    {
     "name": "stdout",
     "output_type": "stream",
     "text": [
      "<class 'pandas.core.frame.DataFrame'>\n",
      "Int64Index: 96 entries, 0 to 99\n",
      "Data columns (total 8 columns):\n",
      " #   Column            Non-Null Count  Dtype \n",
      "---  ------            --------------  ----- \n",
      " 0   Name              96 non-null     object\n",
      " 1   Sex               96 non-null     object\n",
      " 2   Year of Birth     96 non-null     int64 \n",
      " 3   Country of Birth  96 non-null     object\n",
      " 4   City              96 non-null     object\n",
      " 5   Experience        96 non-null     int64 \n",
      " 6   Salary            96 non-null     int64 \n",
      " 7   XP_great_10       96 non-null     object\n",
      "dtypes: int64(3), object(5)\n",
      "memory usage: 6.8+ KB\n"
     ]
    }
   ],
   "source": [
    "data_clean.info()"
   ]
  },
  {
   "cell_type": "code",
   "execution_count": 39,
   "metadata": {},
   "outputs": [
    {
     "data": {
      "text/plain": [
       "0.7157894736842105"
      ]
     },
     "execution_count": 39,
     "metadata": {},
     "output_type": "execute_result"
    }
   ],
   "source": [
    "6.8/9.5"
   ]
  },
  {
   "cell_type": "code",
   "execution_count": null,
   "metadata": {},
   "outputs": [],
   "source": []
  }
 ],
 "metadata": {
  "kernelspec": {
   "display_name": "Python 3 (ipykernel)",
   "language": "python",
   "name": "python3"
  },
  "language_info": {
   "codemirror_mode": {
    "name": "ipython",
    "version": 3
   },
   "file_extension": ".py",
   "mimetype": "text/x-python",
   "name": "python",
   "nbconvert_exporter": "python",
   "pygments_lexer": "ipython3",
   "version": "3.10.2"
  }
 },
 "nbformat": 4,
 "nbformat_minor": 4
}
