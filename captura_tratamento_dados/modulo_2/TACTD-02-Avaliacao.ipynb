{
 "cells": [
  {
   "cell_type": "markdown",
   "metadata": {},
   "source": [
    "# MBA em Ciência de Dados\n",
    "# Técnicas Avançadas de Captura e Tratamento de Dados\n",
    "\n",
    "### <span style=\"color:darkred\">Tratamento e limpeza de Dados</span>\n",
    "\n",
    "\n",
    "### <span style=\"color:darkred\">Avaliação</span>\n",
    "\n",
    "Moacir Antonelli Ponti\n",
    "\n",
    "CeMEAI - ICMC/USP São Carlos\n",
    "\n",
    "---"
   ]
  },
  {
   "cell_type": "code",
   "execution_count": 1,
   "metadata": {},
   "outputs": [
    {
     "data": {
      "text/html": [
       "<div>\n",
       "<style scoped>\n",
       "    .dataframe tbody tr th:only-of-type {\n",
       "        vertical-align: middle;\n",
       "    }\n",
       "\n",
       "    .dataframe tbody tr th {\n",
       "        vertical-align: top;\n",
       "    }\n",
       "\n",
       "    .dataframe thead th {\n",
       "        text-align: right;\n",
       "    }\n",
       "</style>\n",
       "<table border=\"1\" class=\"dataframe\">\n",
       "  <thead>\n",
       "    <tr style=\"text-align: right;\">\n",
       "      <th></th>\n",
       "      <th>id</th>\n",
       "      <th>gid</th>\n",
       "      <th>UF</th>\n",
       "      <th>nome</th>\n",
       "      <th>Censo</th>\n",
       "      <th>PIB</th>\n",
       "      <th>Pop_est_2009</th>\n",
       "      <th>PIB_percapita</th>\n",
       "      <th>Descrição</th>\n",
       "      <th>classe</th>\n",
       "      <th>desemprego</th>\n",
       "    </tr>\n",
       "  </thead>\n",
       "  <tbody>\n",
       "    <tr>\n",
       "      <th>0</th>\n",
       "      <td>1406</td>\n",
       "      <td>1</td>\n",
       "      <td>RIO GRANDE DO SUL</td>\n",
       "      <td>Igrejinha</td>\n",
       "      <td>2010.0</td>\n",
       "      <td>6.907114e+05</td>\n",
       "      <td>33551</td>\n",
       "      <td>20586.910156</td>\n",
       "      <td>Produto Interno Bruto per capita</td>\n",
       "      <td>2</td>\n",
       "      <td>5.1</td>\n",
       "    </tr>\n",
       "    <tr>\n",
       "      <th>1</th>\n",
       "      <td>4252</td>\n",
       "      <td>2</td>\n",
       "      <td>RIO GRANDE DO SUL</td>\n",
       "      <td>Três Coroas</td>\n",
       "      <td>2010.0</td>\n",
       "      <td>4.102403e+05</td>\n",
       "      <td>24786</td>\n",
       "      <td>16551.289062</td>\n",
       "      <td>Produto Interno Bruto per capita</td>\n",
       "      <td>2</td>\n",
       "      <td>4.8</td>\n",
       "    </tr>\n",
       "    <tr>\n",
       "      <th>2</th>\n",
       "      <td>998</td>\n",
       "      <td>3</td>\n",
       "      <td>RIO GRANDE DO SUL</td>\n",
       "      <td>Canoas</td>\n",
       "      <td>2010.0</td>\n",
       "      <td>1.644448e+07</td>\n",
       "      <td>332056</td>\n",
       "      <td>49523.199219</td>\n",
       "      <td>Produto Interno Bruto per capita</td>\n",
       "      <td>3</td>\n",
       "      <td>4.6</td>\n",
       "    </tr>\n",
       "    <tr>\n",
       "      <th>3</th>\n",
       "      <td>4292</td>\n",
       "      <td>4</td>\n",
       "      <td>RIO GRANDE DO SUL</td>\n",
       "      <td>Sapucaia do Sul</td>\n",
       "      <td>2010.0</td>\n",
       "      <td>1.767158e+06</td>\n",
       "      <td>126316</td>\n",
       "      <td>13989.980469</td>\n",
       "      <td>Produto Interno Bruto per capita</td>\n",
       "      <td>2</td>\n",
       "      <td>4.5</td>\n",
       "    </tr>\n",
       "    <tr>\n",
       "      <th>4</th>\n",
       "      <td>991</td>\n",
       "      <td>5</td>\n",
       "      <td>RIO GRANDE DO SUL</td>\n",
       "      <td>São Leopoldo</td>\n",
       "      <td>2010.0</td>\n",
       "      <td>3.302153e+06</td>\n",
       "      <td>211663</td>\n",
       "      <td>15600.990234</td>\n",
       "      <td>Produto Interno Bruto per capita</td>\n",
       "      <td>2</td>\n",
       "      <td>4.9</td>\n",
       "    </tr>\n",
       "    <tr>\n",
       "      <th>...</th>\n",
       "      <td>...</td>\n",
       "      <td>...</td>\n",
       "      <td>...</td>\n",
       "      <td>...</td>\n",
       "      <td>...</td>\n",
       "      <td>...</td>\n",
       "      <td>...</td>\n",
       "      <td>...</td>\n",
       "      <td>...</td>\n",
       "      <td>...</td>\n",
       "      <td>...</td>\n",
       "    </tr>\n",
       "    <tr>\n",
       "      <th>5563</th>\n",
       "      <td>150</td>\n",
       "      <td>5564</td>\n",
       "      <td>PIAUÍ</td>\n",
       "      <td>Alagoinha do Piauí</td>\n",
       "      <td>2010.0</td>\n",
       "      <td>2.727773e+04</td>\n",
       "      <td>7736</td>\n",
       "      <td>3526.080078</td>\n",
       "      <td>Produto Interno Bruto per capita</td>\n",
       "      <td>1</td>\n",
       "      <td>4.6</td>\n",
       "    </tr>\n",
       "    <tr>\n",
       "      <th>5564</th>\n",
       "      <td>4216</td>\n",
       "      <td>5565</td>\n",
       "      <td>PIAUÍ</td>\n",
       "      <td>Olho D'Água do Piauí</td>\n",
       "      <td>2010.0</td>\n",
       "      <td>1.029336e+04</td>\n",
       "      <td>2755</td>\n",
       "      <td>3736.250000</td>\n",
       "      <td>Produto Interno Bruto per capita</td>\n",
       "      <td>1</td>\n",
       "      <td>6.6</td>\n",
       "    </tr>\n",
       "    <tr>\n",
       "      <th>5565</th>\n",
       "      <td>137</td>\n",
       "      <td>5566</td>\n",
       "      <td>PIAUÍ</td>\n",
       "      <td>Passagem Franca do Piauí</td>\n",
       "      <td>2010.0</td>\n",
       "      <td>1.441198e+04</td>\n",
       "      <td>4246</td>\n",
       "      <td>3394.250000</td>\n",
       "      <td>Produto Interno Bruto per capita</td>\n",
       "      <td>1</td>\n",
       "      <td>5.1</td>\n",
       "    </tr>\n",
       "    <tr>\n",
       "      <th>5566</th>\n",
       "      <td>3861</td>\n",
       "      <td>5567</td>\n",
       "      <td>PIAUÍ</td>\n",
       "      <td>Barro Duro</td>\n",
       "      <td>2010.0</td>\n",
       "      <td>2.505022e+04</td>\n",
       "      <td>6853</td>\n",
       "      <td>3655.370117</td>\n",
       "      <td>Produto Interno Bruto per capita</td>\n",
       "      <td>1</td>\n",
       "      <td>4.7</td>\n",
       "    </tr>\n",
       "    <tr>\n",
       "      <th>5567</th>\n",
       "      <td>2975</td>\n",
       "      <td>5568</td>\n",
       "      <td>SERGIPE</td>\n",
       "      <td>Monte Alegre de Sergipe</td>\n",
       "      <td>2010.0</td>\n",
       "      <td>6.975481e+04</td>\n",
       "      <td>13817</td>\n",
       "      <td>5048.479980</td>\n",
       "      <td>Produto Interno Bruto per capita</td>\n",
       "      <td>1</td>\n",
       "      <td>9.5</td>\n",
       "    </tr>\n",
       "  </tbody>\n",
       "</table>\n",
       "<p>5568 rows × 11 columns</p>\n",
       "</div>"
      ],
      "text/plain": [
       "        id   gid                 UF                      nome   Censo  \\\n",
       "0     1406     1  RIO GRANDE DO SUL                 Igrejinha  2010.0   \n",
       "1     4252     2  RIO GRANDE DO SUL               Três Coroas  2010.0   \n",
       "2      998     3  RIO GRANDE DO SUL                    Canoas  2010.0   \n",
       "3     4292     4  RIO GRANDE DO SUL           Sapucaia do Sul  2010.0   \n",
       "4      991     5  RIO GRANDE DO SUL              São Leopoldo  2010.0   \n",
       "...    ...   ...                ...                       ...     ...   \n",
       "5563   150  5564              PIAUÍ        Alagoinha do Piauí  2010.0   \n",
       "5564  4216  5565              PIAUÍ      Olho D'Água do Piauí  2010.0   \n",
       "5565   137  5566              PIAUÍ  Passagem Franca do Piauí  2010.0   \n",
       "5566  3861  5567              PIAUÍ                Barro Duro  2010.0   \n",
       "5567  2975  5568            SERGIPE   Monte Alegre de Sergipe  2010.0   \n",
       "\n",
       "               PIB Pop_est_2009  PIB_percapita  \\\n",
       "0     6.907114e+05        33551   20586.910156   \n",
       "1     4.102403e+05        24786   16551.289062   \n",
       "2     1.644448e+07       332056   49523.199219   \n",
       "3     1.767158e+06       126316   13989.980469   \n",
       "4     3.302153e+06       211663   15600.990234   \n",
       "...            ...          ...            ...   \n",
       "5563  2.727773e+04         7736    3526.080078   \n",
       "5564  1.029336e+04         2755    3736.250000   \n",
       "5565  1.441198e+04         4246    3394.250000   \n",
       "5566  2.505022e+04         6853    3655.370117   \n",
       "5567  6.975481e+04        13817    5048.479980   \n",
       "\n",
       "                             Descrição  classe  desemprego  \n",
       "0     Produto Interno Bruto per capita       2         5.1  \n",
       "1     Produto Interno Bruto per capita       2         4.8  \n",
       "2     Produto Interno Bruto per capita       3         4.6  \n",
       "3     Produto Interno Bruto per capita       2         4.5  \n",
       "4     Produto Interno Bruto per capita       2         4.9  \n",
       "...                                ...     ...         ...  \n",
       "5563  Produto Interno Bruto per capita       1         4.6  \n",
       "5564  Produto Interno Bruto per capita       1         6.6  \n",
       "5565  Produto Interno Bruto per capita       1         5.1  \n",
       "5566  Produto Interno Bruto per capita       1         4.7  \n",
       "5567  Produto Interno Bruto per capita       1         9.5  \n",
       "\n",
       "[5568 rows x 11 columns]"
      ]
     },
     "execution_count": 1,
     "metadata": {},
     "output_type": "execute_result"
    }
   ],
   "source": [
    "# carregando as bibliotecas necessárias\n",
    "import numpy as np\n",
    "import matplotlib.pyplot as plt\n",
    "import pandas as pd\n",
    "\n",
    "from sklearn.svm import SVC\n",
    "from sklearn.linear_model import Ridge\n",
    "from sklearn import metrics\n",
    "\n",
    "# carregando dados\n",
    "data = pd.read_csv(\"./dados/pib_mba_avaliacao2022.csv\")\n",
    "data"
   ]
  },
  {
   "cell_type": "markdown",
   "metadata": {},
   "source": [
    "Vamos utilizar uma base de dados baixada do IBGE com o PIB per capita para cada município brasileiro, essa base foi modificada para o propósito dos exercícios abaixo e possui as seguintes colunas:\n",
    "* gid - identificador geográfico do município\n",
    "* UF - unidade federativa\n",
    "* nome - nome do município\n",
    "* Censo - ano do censo relativo aos dados. Notar que houve censo agropecuário em 2007 e censo em 2010\n",
    "* PIB - total do PIB\n",
    "* Pop_est_2009 - populacao estimada\t\n",
    "* PIB_percapita - PIB per capita segundo os dados\n",
    "* Descrição - Descrição do dados\n",
    "* classe - classe do município\n",
    "* desemprego - índice de desemprego na cidade no ano do Censo\n",
    "\n",
    "Serão usadas duas versões dessa base de dados. Cada questão sempre carrega a base de dados antes do início para não haver dependência entre as questões."
   ]
  },
  {
   "cell_type": "markdown",
   "metadata": {},
   "source": [
    "### Questão 1)\n",
    "\n",
    "\n",
    "Verifique a distribuição dos valores e tipos dos atributos e realize um tratamento de dados considerando:\n",
    "\n",
    "1. Correção dos dados que for possível inferir o valor verdadeiro, ajustando e padronizando-os. Anote em quais variáveis isso ocorreu. Valores outliers não devem ser removidos/alterados, apenas dados não padronizados ou passíveis de correção.\n",
    "2. Conversão dos atributos cujos valores foram corrigidos no item anterior, e que deveriam ser numéricos, para numérico - inspecione os valores para garantir que a conversão não vá gerar dados faltantes de forma desnecessária, substituindo por numeros os que forem possíveis como por exemplo o atributo \"floor\" como visto na aula em que substituímos dados por 0. Anote as variáveis em que isso ocorreu.\n",
    "    \n",
    "Quais variáveis possuiam valores que precisaram ser padronizados ou corrigidos, e quantos valores em cada uma delas foi possível corrigir?\n",
    "\n",
    "(a) UF (12) <br>\n",
    "(b) UF (12) e PopEst2009 (3)<br>\n",
    "(c) UF (12) e Censo (4)<br>\n",
    "(d) UF (9), Desemprego (10), PopEst2009 (3)<br>\n",
    "\n",
    "---"
   ]
  },
  {
   "cell_type": "code",
   "execution_count": 82,
   "metadata": {},
   "outputs": [],
   "source": [
    "# RESPOTA = UF = 12 E PoPEst2009 = 3"
   ]
  },
  {
   "cell_type": "code",
   "execution_count": 132,
   "metadata": {},
   "outputs": [
    {
     "data": {
      "text/plain": [
       "(5568, 11)"
      ]
     },
     "execution_count": 132,
     "metadata": {},
     "output_type": "execute_result"
    }
   ],
   "source": [
    "data = pd.read_csv(\"./dados/pib_mba_avaliacao2022.csv\")\n",
    "data.shape"
   ]
  },
  {
   "cell_type": "code",
   "execution_count": 133,
   "metadata": {},
   "outputs": [
    {
     "name": "stdout",
     "output_type": "stream",
     "text": [
      "id : int64, intervalo: 0 , 5569\n",
      "gid : int64, intervalo: 1 , 5568\n",
      "UF : object\n",
      "\t 39 distintos: ['RIO GRANDE DO SUL' 'SÃO PAULO' 'BAHIA' 'rio grande do sul '\n",
      " 'R.G. DO SUL' 'bahia' 'TOCANTINS' 'RORAIMA' 'SERGIPE' 'PERNAMBUCO'\n",
      " 'SANTA CATARINA' 'AMAZONAS' 'ESPIRITO SANTO' 'PIAUÍ' 'ALAGOAS' 'GOIÁS'\n",
      " 'ACRE' 'PIAU' 'DISTRITO FEDERAL' 'MATO GROSSO' 'piauí' 'amazonas '\n",
      " 'sergipe ' 'AMAPÁ' 'MATO GROSSO DO SUL' 'CEARÁ' 'RIO GRANDE DO NORTE'\n",
      " 'MARANHÃO' 'RIO DE JANEIRO' 'PARÁ' 'MINAS GERAIS' 'PARAÍBA' 'PARANÁ'\n",
      " 'MINAS G.' 'PARANA ' 'RONDÔNIA' 'PARANA' 'são paulo' 'SP']\n",
      "nome : object\n",
      "\t 5292 distintos: ['Igrejinha' 'Três Coroas' 'Canoas' ... 'Passagem Franca do Piauí'\n",
      " 'Barro Duro' 'Monte Alegre de Sergipe']\n",
      "Censo : float64, intervalo: 2007.0 , 2028.0\n",
      "PIB : float64, intervalo: 5770.28222656 , 1167951456.0\n",
      "Pop_est_2009 : object\n",
      "\t 5078 distintos: ['33551' '24786' '332056' ... '7736' '2755' '13817']\n",
      "PIB_percapita : float64, intervalo: 1929.9699707 , 360815.84375\n",
      "Descrição : object\n",
      "\t 1 distintos: ['Produto Interno Bruto per capita']\n",
      "classe : int64, intervalo: 1 , 5\n",
      "desemprego : float64, intervalo: 0.1 , 407.0\n"
     ]
    }
   ],
   "source": [
    "# verificar atributos/colunas\n",
    "# corrigir e padronizar valores nas colunas conforme possível\n",
    "\n",
    "def verifica_atributos(df):\n",
    "    for var in df:\n",
    "        # imprime variavel e seu tipo\n",
    "        print(var,\":\", df[var].dtype.name, end=\"\")\n",
    "        # se nao numérico\n",
    "        if not np.issubdtype(df[var].dtype, np.number):\n",
    "            print(\"\\n\\t\",df[var].nunique(), \"distintos: \", end=\"\")\n",
    "            print(df[var].unique())\n",
    "        else:\n",
    "            print(\", intervalo: \",end=\"\")\n",
    "            print(df[var].min(), \",\", df[var].max())\n",
    "\n",
    "verifica_atributos(data)"
   ]
  },
  {
   "cell_type": "code",
   "execution_count": 134,
   "metadata": {},
   "outputs": [
    {
     "data": {
      "text/plain": [
       "MINAS GERAIS           852\n",
       "SÃO PAULO              644\n",
       "RIO GRANDE DO SUL      494\n",
       "BAHIA                  415\n",
       "PARANÁ                 395\n",
       "SANTA CATARINA         293\n",
       "GOIÁS                  247\n",
       "PARAÍBA                223\n",
       "PIAUÍ                  222\n",
       "MARANHÃO               217\n",
       "PERNAMBUCO             186\n",
       "CEARÁ                  184\n",
       "RIO GRANDE DO NORTE    167\n",
       "PARÁ                   143\n",
       "MATO GROSSO            141\n",
       "TOCANTINS              139\n",
       "ALAGOAS                102\n",
       "RIO DE JANEIRO          92\n",
       "ESPIRITO SANTO          78\n",
       "MATO GROSSO DO SUL      78\n",
       "SERGIPE                 74\n",
       "AMAZONAS                61\n",
       "RONDÔNIA                52\n",
       "ACRE                    22\n",
       "AMAPÁ                   16\n",
       "RORAIMA                 15\n",
       "PARANA                   3\n",
       "bahia                    2\n",
       "sergipe                  1\n",
       "amazonas                 1\n",
       "piauí                    1\n",
       "DISTRITO FEDERAL         1\n",
       "R.G. DO SUL              1\n",
       "rio grande do sul        1\n",
       "MINAS G.                 1\n",
       "PARANA                   1\n",
       "PIAU                     1\n",
       "são paulo                1\n",
       "SP                       1\n",
       "Name: UF, dtype: int64"
      ]
     },
     "execution_count": 134,
     "metadata": {},
     "output_type": "execute_result"
    }
   ],
   "source": [
    "data[\"UF\"].value_counts()"
   ]
  },
  {
   "cell_type": "code",
   "execution_count": 143,
   "metadata": {},
   "outputs": [],
   "source": [
    "# padronizando\n",
    "data.loc[data['UF']=='PARANA','UF'] = 'PARANÁ'\n",
    "data.loc[data['UF']=='bahia','UF'] = 'BAHIA'\n",
    "data.loc[data['UF']=='sergipe ','UF'] = 'SERGIPE'\n",
    "data.loc[data['UF']=='amazonas ','UF'] = 'AMAZONAS'\n",
    "data.loc[data['UF']=='piauí','UF'] = 'PIAUÍ'\n",
    "data.loc[data['UF']=='R.G. DO SUL','UF'] = 'RIO GRANDE DO SUL'\n",
    "data.loc[data['UF']=='rio grande do sul ','UF'] = 'RIO GRANDE DO SUL'\n",
    "data.loc[data['UF']=='MINAS G.','UF'] = 'MINAS GERAIS'\n",
    "data.loc[data['UF']=='PIAU','UF'] = 'PIAUÍ'\n",
    "data.loc[data['UF']=='são paulo','UF'] = 'SÃO PAULO'\n",
    "data.loc[data['UF']=='SP','UF'] = 'SÃO PAULO'\n"
   ]
  },
  {
   "cell_type": "code",
   "execution_count": 144,
   "metadata": {},
   "outputs": [
    {
     "data": {
      "text/plain": [
       "2010.0    5557\n",
       "2007.0       6\n",
       "2028.0       1\n",
       "Name: Censo, dtype: int64"
      ]
     },
     "execution_count": 144,
     "metadata": {},
     "output_type": "execute_result"
    }
   ],
   "source": [
    "data['Censo'].value_counts()"
   ]
  },
  {
   "cell_type": "code",
   "execution_count": 145,
   "metadata": {},
   "outputs": [
    {
     "data": {
      "text/html": [
       "<div>\n",
       "<style scoped>\n",
       "    .dataframe tbody tr th:only-of-type {\n",
       "        vertical-align: middle;\n",
       "    }\n",
       "\n",
       "    .dataframe tbody tr th {\n",
       "        vertical-align: top;\n",
       "    }\n",
       "\n",
       "    .dataframe thead th {\n",
       "        text-align: right;\n",
       "    }\n",
       "</style>\n",
       "<table border=\"1\" class=\"dataframe\">\n",
       "  <thead>\n",
       "    <tr style=\"text-align: right;\">\n",
       "      <th></th>\n",
       "      <th>id</th>\n",
       "      <th>gid</th>\n",
       "      <th>UF</th>\n",
       "      <th>nome</th>\n",
       "      <th>Censo</th>\n",
       "      <th>PIB</th>\n",
       "      <th>Pop_est_2009</th>\n",
       "      <th>PIB_percapita</th>\n",
       "      <th>Descrição</th>\n",
       "      <th>classe</th>\n",
       "      <th>desemprego</th>\n",
       "    </tr>\n",
       "  </thead>\n",
       "  <tbody>\n",
       "    <tr>\n",
       "      <th>1586</th>\n",
       "      <td>376</td>\n",
       "      <td>1588</td>\n",
       "      <td>MARANHÃO</td>\n",
       "      <td>Carutapera</td>\n",
       "      <td>2010.0</td>\n",
       "      <td>67091.46875</td>\n",
       "      <td>21121</td>\n",
       "      <td>3176.530029</td>\n",
       "      <td>Produto Interno Bruto per capita</td>\n",
       "      <td>1</td>\n",
       "      <td>407.0</td>\n",
       "    </tr>\n",
       "  </tbody>\n",
       "</table>\n",
       "</div>"
      ],
      "text/plain": [
       "       id   gid        UF        nome   Censo          PIB Pop_est_2009  \\\n",
       "1586  376  1588  MARANHÃO  Carutapera  2010.0  67091.46875        21121   \n",
       "\n",
       "      PIB_percapita                         Descrição  classe  desemprego  \n",
       "1586    3176.530029  Produto Interno Bruto per capita       1       407.0  "
      ]
     },
     "execution_count": 145,
     "metadata": {},
     "output_type": "execute_result"
    }
   ],
   "source": [
    "data.loc[data['desemprego'] > 100]"
   ]
  },
  {
   "cell_type": "code",
   "execution_count": 146,
   "metadata": {},
   "outputs": [
    {
     "data": {
      "text/html": [
       "<div>\n",
       "<style scoped>\n",
       "    .dataframe tbody tr th:only-of-type {\n",
       "        vertical-align: middle;\n",
       "    }\n",
       "\n",
       "    .dataframe tbody tr th {\n",
       "        vertical-align: top;\n",
       "    }\n",
       "\n",
       "    .dataframe thead th {\n",
       "        text-align: right;\n",
       "    }\n",
       "</style>\n",
       "<table border=\"1\" class=\"dataframe\">\n",
       "  <thead>\n",
       "    <tr style=\"text-align: right;\">\n",
       "      <th></th>\n",
       "      <th>id</th>\n",
       "      <th>gid</th>\n",
       "      <th>UF</th>\n",
       "      <th>nome</th>\n",
       "      <th>Censo</th>\n",
       "      <th>PIB</th>\n",
       "      <th>Pop_est_2009</th>\n",
       "      <th>PIB_percapita</th>\n",
       "      <th>Descrição</th>\n",
       "      <th>classe</th>\n",
       "      <th>desemprego</th>\n",
       "    </tr>\n",
       "  </thead>\n",
       "  <tbody>\n",
       "    <tr>\n",
       "      <th>1752</th>\n",
       "      <td>3361</td>\n",
       "      <td>1754</td>\n",
       "      <td>SÃO PAULO</td>\n",
       "      <td>São Pedro</td>\n",
       "      <td>2028.0</td>\n",
       "      <td>348302.53125</td>\n",
       "      <td>31575</td>\n",
       "      <td>11030.959961</td>\n",
       "      <td>Produto Interno Bruto per capita</td>\n",
       "      <td>2</td>\n",
       "      <td>5.7</td>\n",
       "    </tr>\n",
       "  </tbody>\n",
       "</table>\n",
       "</div>"
      ],
      "text/plain": [
       "        id   gid         UF       nome   Censo           PIB Pop_est_2009  \\\n",
       "1752  3361  1754  SÃO PAULO  São Pedro  2028.0  348302.53125        31575   \n",
       "\n",
       "      PIB_percapita                         Descrição  classe  desemprego  \n",
       "1752   11030.959961  Produto Interno Bruto per capita       2         5.7  "
      ]
     },
     "execution_count": 146,
     "metadata": {},
     "output_type": "execute_result"
    }
   ],
   "source": [
    "data.loc[data['Censo'] == 2028]"
   ]
  },
  {
   "cell_type": "code",
   "execution_count": 147,
   "metadata": {},
   "outputs": [
    {
     "name": "stdout",
     "output_type": "stream",
     "text": [
      "['3392”' '5948”' '18135”']\n"
     ]
    }
   ],
   "source": [
    "# inspecionando valores de Pop_est_2009\n",
    "print(data.loc[~data['Pop_est_2009'].astype(str).str.isnumeric(), 'Pop_est_2009'].unique())"
   ]
  },
  {
   "cell_type": "code",
   "execution_count": 148,
   "metadata": {},
   "outputs": [
    {
     "data": {
      "text/html": [
       "<div>\n",
       "<style scoped>\n",
       "    .dataframe tbody tr th:only-of-type {\n",
       "        vertical-align: middle;\n",
       "    }\n",
       "\n",
       "    .dataframe tbody tr th {\n",
       "        vertical-align: top;\n",
       "    }\n",
       "\n",
       "    .dataframe thead th {\n",
       "        text-align: right;\n",
       "    }\n",
       "</style>\n",
       "<table border=\"1\" class=\"dataframe\">\n",
       "  <thead>\n",
       "    <tr style=\"text-align: right;\">\n",
       "      <th></th>\n",
       "      <th>id</th>\n",
       "      <th>gid</th>\n",
       "      <th>UF</th>\n",
       "      <th>nome</th>\n",
       "      <th>Censo</th>\n",
       "      <th>PIB</th>\n",
       "      <th>Pop_est_2009</th>\n",
       "      <th>PIB_percapita</th>\n",
       "      <th>Descrição</th>\n",
       "      <th>classe</th>\n",
       "      <th>desemprego</th>\n",
       "    </tr>\n",
       "  </thead>\n",
       "  <tbody>\n",
       "  </tbody>\n",
       "</table>\n",
       "</div>"
      ],
      "text/plain": [
       "Empty DataFrame\n",
       "Columns: [id, gid, UF, nome, Censo, PIB, Pop_est_2009, PIB_percapita, Descrição, classe, desemprego]\n",
       "Index: []"
      ]
     },
     "execution_count": 148,
     "metadata": {},
     "output_type": "execute_result"
    }
   ],
   "source": [
    "data.loc[data['Pop_est_2009'].apply(lambda x: x in ['“18135”','“5948”','“3392”'])]"
   ]
  },
  {
   "cell_type": "code",
   "execution_count": 149,
   "metadata": {},
   "outputs": [
    {
     "data": {
      "text/html": [
       "<div>\n",
       "<style scoped>\n",
       "    .dataframe tbody tr th:only-of-type {\n",
       "        vertical-align: middle;\n",
       "    }\n",
       "\n",
       "    .dataframe tbody tr th {\n",
       "        vertical-align: top;\n",
       "    }\n",
       "\n",
       "    .dataframe thead th {\n",
       "        text-align: right;\n",
       "    }\n",
       "</style>\n",
       "<table border=\"1\" class=\"dataframe\">\n",
       "  <thead>\n",
       "    <tr style=\"text-align: right;\">\n",
       "      <th></th>\n",
       "      <th>id</th>\n",
       "      <th>gid</th>\n",
       "      <th>UF</th>\n",
       "      <th>nome</th>\n",
       "      <th>Censo</th>\n",
       "      <th>PIB</th>\n",
       "      <th>Pop_est_2009</th>\n",
       "      <th>PIB_percapita</th>\n",
       "      <th>Descrição</th>\n",
       "      <th>classe</th>\n",
       "      <th>desemprego</th>\n",
       "    </tr>\n",
       "  </thead>\n",
       "  <tbody>\n",
       "  </tbody>\n",
       "</table>\n",
       "</div>"
      ],
      "text/plain": [
       "Empty DataFrame\n",
       "Columns: [id, gid, UF, nome, Censo, PIB, Pop_est_2009, PIB_percapita, Descrição, classe, desemprego]\n",
       "Index: []"
      ]
     },
     "execution_count": 149,
     "metadata": {},
     "output_type": "execute_result"
    }
   ],
   "source": [
    "data.loc[:,'Pop_est_2009'] = data.loc[:,'Pop_est_2009'].str.replace('“', '')\n",
    "data.loc[data['Pop_est_2009'].apply(lambda x: x in ['“18135”','“5948”','“3392”'])]"
   ]
  },
  {
   "cell_type": "code",
   "execution_count": 150,
   "metadata": {},
   "outputs": [
    {
     "name": "stdout",
     "output_type": "stream",
     "text": [
      "id : int64, intervalo: 0 , 5569\n",
      "gid : int64, intervalo: 1 , 5568\n",
      "UF : object\n",
      "\t 27 distintos: ['RIO GRANDE DO SUL' 'SÃO PAULO' 'BAHIA' 'TOCANTINS' 'RORAIMA' 'SERGIPE'\n",
      " 'PERNAMBUCO' 'SANTA CATARINA' 'AMAZONAS' 'ESPIRITO SANTO' 'PIAUÍ'\n",
      " 'ALAGOAS' 'GOIÁS' 'ACRE' 'DISTRITO FEDERAL' 'MATO GROSSO' 'AMAPÁ'\n",
      " 'MATO GROSSO DO SUL' 'CEARÁ' 'RIO GRANDE DO NORTE' 'MARANHÃO'\n",
      " 'RIO DE JANEIRO' 'PARÁ' 'MINAS GERAIS' 'PARAÍBA' 'PARANÁ' 'RONDÔNIA']\n",
      "nome : object\n",
      "\t 5292 distintos: ['Igrejinha' 'Três Coroas' 'Canoas' ... 'Passagem Franca do Piauí'\n",
      " 'Barro Duro' 'Monte Alegre de Sergipe']\n",
      "Censo : float64, intervalo: 2007.0 , 2028.0\n",
      "PIB : float64, intervalo: 5770.28222656 , 1167951456.0\n",
      "Pop_est_2009 : object\n",
      "\t 5078 distintos: ['33551' '24786' '332056' ... '7736' '2755' '13817']\n",
      "PIB_percapita : float64, intervalo: 1929.9699707 , 360815.84375\n",
      "Descrição : object\n",
      "\t 1 distintos: ['Produto Interno Bruto per capita']\n",
      "classe : int64, intervalo: 1 , 5\n",
      "desemprego : float64, intervalo: 0.1 , 407.0\n"
     ]
    }
   ],
   "source": [
    "# verificar atributos/colunas\n",
    "# corrigir e padronizar valores nas colunas conforme possível\n",
    "\n",
    "def verifica_atributos(df):\n",
    "    for var in df:\n",
    "        # imprime variavel e seu tipo\n",
    "        print(var,\":\", df[var].dtype.name, end=\"\")\n",
    "        # se nao numérico\n",
    "        if not np.issubdtype(df[var].dtype, np.number):\n",
    "            print(\"\\n\\t\",df[var].nunique(), \"distintos: \", end=\"\")\n",
    "            print(df[var].unique())\n",
    "        else:\n",
    "            print(\", intervalo: \",end=\"\")\n",
    "            print(df[var].min(), \",\", df[var].max())\n",
    "\n",
    "verifica_atributos(data)"
   ]
  },
  {
   "cell_type": "markdown",
   "metadata": {},
   "source": [
    "### Questão 2)\n",
    "\n",
    "1. Remova colunas que possuam valores constantes ou redundantes (cujo valor possa ser computado por meio do uso de outras colunas)\n",
    "2. Exiba, e posteriormente remova muninícipios duplicados (considere apenas as colunas nome e UF para esse fim), mantendo a primeira ocorrência.\n",
    "\n",
    "Quantas colunas e linhas foram removidas?\n",
    "\n",
    "(a) 2 colunas, 3 linhas<br>\n",
    "(b) 2 colunas, 5 linhas<br>\n",
    "(c) 3 colunas, 3 linhas<br>\n",
    "(d) 3 colunas, 5 linhas<br>\n",
    "\n",
    "---"
   ]
  },
  {
   "cell_type": "code",
   "execution_count": null,
   "metadata": {},
   "outputs": [],
   "source": [
    "# Resposta: 3 COLUNA (gid = index+1; descricao; um dos dados de pop) e 3 LINHAS"
   ]
  },
  {
   "cell_type": "code",
   "execution_count": 153,
   "metadata": {},
   "outputs": [
    {
     "data": {
      "text/plain": [
       "(5568, 11)"
      ]
     },
     "execution_count": 153,
     "metadata": {},
     "output_type": "execute_result"
    }
   ],
   "source": [
    "# recarregar base de dados\n",
    "data = pd.read_csv(\"./dados/pib_mba_avaliacao2022.csv\")\n",
    "data.shape\n"
   ]
  },
  {
   "cell_type": "code",
   "execution_count": 154,
   "metadata": {},
   "outputs": [
    {
     "data": {
      "text/html": [
       "<div>\n",
       "<style scoped>\n",
       "    .dataframe tbody tr th:only-of-type {\n",
       "        vertical-align: middle;\n",
       "    }\n",
       "\n",
       "    .dataframe tbody tr th {\n",
       "        vertical-align: top;\n",
       "    }\n",
       "\n",
       "    .dataframe thead th {\n",
       "        text-align: right;\n",
       "    }\n",
       "</style>\n",
       "<table border=\"1\" class=\"dataframe\">\n",
       "  <thead>\n",
       "    <tr style=\"text-align: right;\">\n",
       "      <th></th>\n",
       "      <th>id</th>\n",
       "      <th>gid</th>\n",
       "      <th>UF</th>\n",
       "      <th>nome</th>\n",
       "      <th>Censo</th>\n",
       "      <th>PIB</th>\n",
       "      <th>Pop_est_2009</th>\n",
       "      <th>PIB_percapita</th>\n",
       "      <th>Descrição</th>\n",
       "      <th>classe</th>\n",
       "      <th>desemprego</th>\n",
       "    </tr>\n",
       "  </thead>\n",
       "  <tbody>\n",
       "    <tr>\n",
       "      <th>0</th>\n",
       "      <td>1406</td>\n",
       "      <td>1</td>\n",
       "      <td>RIO GRANDE DO SUL</td>\n",
       "      <td>Igrejinha</td>\n",
       "      <td>2010.0</td>\n",
       "      <td>6.907114e+05</td>\n",
       "      <td>33551</td>\n",
       "      <td>20586.910156</td>\n",
       "      <td>Produto Interno Bruto per capita</td>\n",
       "      <td>2</td>\n",
       "      <td>5.1</td>\n",
       "    </tr>\n",
       "    <tr>\n",
       "      <th>1</th>\n",
       "      <td>4252</td>\n",
       "      <td>2</td>\n",
       "      <td>RIO GRANDE DO SUL</td>\n",
       "      <td>Três Coroas</td>\n",
       "      <td>2010.0</td>\n",
       "      <td>4.102403e+05</td>\n",
       "      <td>24786</td>\n",
       "      <td>16551.289062</td>\n",
       "      <td>Produto Interno Bruto per capita</td>\n",
       "      <td>2</td>\n",
       "      <td>4.8</td>\n",
       "    </tr>\n",
       "    <tr>\n",
       "      <th>2</th>\n",
       "      <td>998</td>\n",
       "      <td>3</td>\n",
       "      <td>RIO GRANDE DO SUL</td>\n",
       "      <td>Canoas</td>\n",
       "      <td>2010.0</td>\n",
       "      <td>1.644448e+07</td>\n",
       "      <td>332056</td>\n",
       "      <td>49523.199219</td>\n",
       "      <td>Produto Interno Bruto per capita</td>\n",
       "      <td>3</td>\n",
       "      <td>4.6</td>\n",
       "    </tr>\n",
       "    <tr>\n",
       "      <th>3</th>\n",
       "      <td>4292</td>\n",
       "      <td>4</td>\n",
       "      <td>RIO GRANDE DO SUL</td>\n",
       "      <td>Sapucaia do Sul</td>\n",
       "      <td>2010.0</td>\n",
       "      <td>1.767158e+06</td>\n",
       "      <td>126316</td>\n",
       "      <td>13989.980469</td>\n",
       "      <td>Produto Interno Bruto per capita</td>\n",
       "      <td>2</td>\n",
       "      <td>4.5</td>\n",
       "    </tr>\n",
       "    <tr>\n",
       "      <th>4</th>\n",
       "      <td>991</td>\n",
       "      <td>5</td>\n",
       "      <td>RIO GRANDE DO SUL</td>\n",
       "      <td>São Leopoldo</td>\n",
       "      <td>2010.0</td>\n",
       "      <td>3.302153e+06</td>\n",
       "      <td>211663</td>\n",
       "      <td>15600.990234</td>\n",
       "      <td>Produto Interno Bruto per capita</td>\n",
       "      <td>2</td>\n",
       "      <td>4.9</td>\n",
       "    </tr>\n",
       "  </tbody>\n",
       "</table>\n",
       "</div>"
      ],
      "text/plain": [
       "     id  gid                 UF             nome   Censo           PIB  \\\n",
       "0  1406    1  RIO GRANDE DO SUL        Igrejinha  2010.0  6.907114e+05   \n",
       "1  4252    2  RIO GRANDE DO SUL      Três Coroas  2010.0  4.102403e+05   \n",
       "2   998    3  RIO GRANDE DO SUL           Canoas  2010.0  1.644448e+07   \n",
       "3  4292    4  RIO GRANDE DO SUL  Sapucaia do Sul  2010.0  1.767158e+06   \n",
       "4   991    5  RIO GRANDE DO SUL     São Leopoldo  2010.0  3.302153e+06   \n",
       "\n",
       "  Pop_est_2009  PIB_percapita                         Descrição  classe  \\\n",
       "0        33551   20586.910156  Produto Interno Bruto per capita       2   \n",
       "1        24786   16551.289062  Produto Interno Bruto per capita       2   \n",
       "2       332056   49523.199219  Produto Interno Bruto per capita       3   \n",
       "3       126316   13989.980469  Produto Interno Bruto per capita       2   \n",
       "4       211663   15600.990234  Produto Interno Bruto per capita       2   \n",
       "\n",
       "   desemprego  \n",
       "0         5.1  \n",
       "1         4.8  \n",
       "2         4.6  \n",
       "3         4.5  \n",
       "4         4.9  "
      ]
     },
     "execution_count": 154,
     "metadata": {},
     "output_type": "execute_result"
    }
   ],
   "source": [
    "data.head(5)"
   ]
  },
  {
   "cell_type": "code",
   "execution_count": 155,
   "metadata": {},
   "outputs": [
    {
     "name": "stdout",
     "output_type": "stream",
     "text": [
      "id  / únicos :  5567\n",
      "gid  / únicos :  5565\n",
      "UF  / únicos :  39\n",
      "nome  / únicos :  5293\n",
      "Censo  / únicos :  4\n",
      "PIB  / únicos :  5563\n",
      "Pop_est_2009  / únicos :  5078\n",
      "PIB_percapita  / únicos :  5551\n",
      "Descrição  / únicos :  1\n",
      "classe  / únicos :  5\n",
      "desemprego  / únicos :  107\n"
     ]
    }
   ],
   "source": [
    "for var in data:\n",
    "    print(var, ' / únicos : ', data[var].unique().shape[0])"
   ]
  },
  {
   "cell_type": "code",
   "execution_count": 156,
   "metadata": {},
   "outputs": [
    {
     "name": "stdout",
     "output_type": "stream",
     "text": [
      "['Descrição']\n"
     ]
    }
   ],
   "source": [
    "# remover colunas encontradas\n",
    "# busca os nomes das colunas cujo número de valores únicos é <= 1\n",
    "att_const = np.array(data.columns[data.nunique() <= 1])\n",
    "print(att_const)"
   ]
  },
  {
   "cell_type": "code",
   "execution_count": 157,
   "metadata": {},
   "outputs": [
    {
     "data": {
      "text/plain": [
       "(5568, 10)"
      ]
     },
     "execution_count": 157,
     "metadata": {},
     "output_type": "execute_result"
    }
   ],
   "source": [
    "data_nred = data.drop(att_const, axis=1)\n",
    "data_nred.shape"
   ]
  },
  {
   "cell_type": "code",
   "execution_count": 158,
   "metadata": {},
   "outputs": [
    {
     "name": "stdout",
     "output_type": "stream",
     "text": [
      "['“3392”' '“5948”' '“18135”']\n"
     ]
    }
   ],
   "source": [
    "print(data_nred.loc[~data_nred['Pop_est_2009'].astype(str).str.isnumeric(), 'Pop_est_2009'].unique())"
   ]
  },
  {
   "cell_type": "code",
   "execution_count": 159,
   "metadata": {},
   "outputs": [
    {
     "data": {
      "text/html": [
       "<div>\n",
       "<style scoped>\n",
       "    .dataframe tbody tr th:only-of-type {\n",
       "        vertical-align: middle;\n",
       "    }\n",
       "\n",
       "    .dataframe tbody tr th {\n",
       "        vertical-align: top;\n",
       "    }\n",
       "\n",
       "    .dataframe thead th {\n",
       "        text-align: right;\n",
       "    }\n",
       "</style>\n",
       "<table border=\"1\" class=\"dataframe\">\n",
       "  <thead>\n",
       "    <tr style=\"text-align: right;\">\n",
       "      <th></th>\n",
       "      <th>id</th>\n",
       "      <th>gid</th>\n",
       "      <th>UF</th>\n",
       "      <th>nome</th>\n",
       "      <th>Censo</th>\n",
       "      <th>PIB</th>\n",
       "      <th>Pop_est_2009</th>\n",
       "      <th>PIB_percapita</th>\n",
       "      <th>classe</th>\n",
       "      <th>desemprego</th>\n",
       "    </tr>\n",
       "  </thead>\n",
       "  <tbody>\n",
       "  </tbody>\n",
       "</table>\n",
       "</div>"
      ],
      "text/plain": [
       "Empty DataFrame\n",
       "Columns: [id, gid, UF, nome, Censo, PIB, Pop_est_2009, PIB_percapita, classe, desemprego]\n",
       "Index: []"
      ]
     },
     "execution_count": 159,
     "metadata": {},
     "output_type": "execute_result"
    }
   ],
   "source": [
    "data_nred.loc[:,'Pop_est_2009'] = data_nred.loc[:,'Pop_est_2009'].str.replace('“', '')\n",
    "data_nred.loc[data_nred['Pop_est_2009'].apply(lambda x: x in ['“18135”','“5948”','“3392”'])]"
   ]
  },
  {
   "cell_type": "code",
   "execution_count": 160,
   "metadata": {},
   "outputs": [
    {
     "name": "stdout",
     "output_type": "stream",
     "text": [
      "[ 33551.  24786. 332056. ...   7736.   2755.  13817.]\n"
     ]
    }
   ],
   "source": [
    "data_nred.loc[:,'Pop_est_2009'] = pd.to_numeric(data_nred.loc[:,'Pop_est_2009'], downcast='integer', errors='coerce')\n",
    "print(data_nred['Pop_est_2009'].unique())\n"
   ]
  },
  {
   "cell_type": "code",
   "execution_count": 161,
   "metadata": {},
   "outputs": [
    {
     "name": "stdout",
     "output_type": "stream",
     "text": [
      "[ 33551.  24786. 332056. ...   7736.   2755.  13817.]\n"
     ]
    }
   ],
   "source": [
    "print(data_nred.loc[~data_nred['Pop_est_2009'].astype(str).str.isnumeric(), 'Pop_est_2009'].unique())"
   ]
  },
  {
   "cell_type": "code",
   "execution_count": 162,
   "metadata": {},
   "outputs": [
    {
     "name": "stdout",
     "output_type": "stream",
     "text": [
      "id : int64, intervalo: 0 , 5569\n",
      "gid : int64, intervalo: 1 , 5568\n",
      "UF : object\n",
      "\t 39 distintos: ['RIO GRANDE DO SUL' 'SÃO PAULO' 'BAHIA' 'rio grande do sul '\n",
      " 'R.G. DO SUL' 'bahia' 'TOCANTINS' 'RORAIMA' 'SERGIPE' 'PERNAMBUCO'\n",
      " 'SANTA CATARINA' 'AMAZONAS' 'ESPIRITO SANTO' 'PIAUÍ' 'ALAGOAS' 'GOIÁS'\n",
      " 'ACRE' 'PIAU' 'DISTRITO FEDERAL' 'MATO GROSSO' 'piauí' 'amazonas '\n",
      " 'sergipe ' 'AMAPÁ' 'MATO GROSSO DO SUL' 'CEARÁ' 'RIO GRANDE DO NORTE'\n",
      " 'MARANHÃO' 'RIO DE JANEIRO' 'PARÁ' 'MINAS GERAIS' 'PARAÍBA' 'PARANÁ'\n",
      " 'MINAS G.' 'PARANA ' 'RONDÔNIA' 'PARANA' 'são paulo' 'SP']\n",
      "nome : object\n",
      "\t 5292 distintos: ['Igrejinha' 'Três Coroas' 'Canoas' ... 'Passagem Franca do Piauí'\n",
      " 'Barro Duro' 'Monte Alegre de Sergipe']\n",
      "Censo : float64, intervalo: 2007.0 , 2028.0\n",
      "PIB : float64, intervalo: 5770.28222656 , 1167951456.0\n",
      "Pop_est_2009 : float64, intervalo: 837.0 , 11037593.0\n",
      "PIB_percapita : float64, intervalo: 1929.9699707 , 360815.84375\n",
      "classe : int64, intervalo: 1 , 5\n",
      "desemprego : float64, intervalo: 0.1 , 407.0\n"
     ]
    }
   ],
   "source": [
    "# verificar atributos/colunas\n",
    "# corrigir e padronizar valores nas colunas conforme possível\n",
    "\n",
    "def verifica_atributos(df):\n",
    "    for var in df:\n",
    "        # imprime variavel e seu tipo\n",
    "        print(var,\":\", df[var].dtype.name, end=\"\")\n",
    "        # se nao numérico\n",
    "        if not np.issubdtype(df[var].dtype, np.number):\n",
    "            print(\"\\n\\t\",df[var].nunique(), \"distintos: \", end=\"\")\n",
    "            print(df[var].unique())\n",
    "        else:\n",
    "            print(\", intervalo: \",end=\"\")\n",
    "            print(df[var].min(), \",\", df[var].max())\n",
    "\n",
    "verifica_atributos(data_nred)"
   ]
  },
  {
   "cell_type": "code",
   "execution_count": 163,
   "metadata": {},
   "outputs": [
    {
     "data": {
      "text/html": [
       "<div>\n",
       "<style scoped>\n",
       "    .dataframe tbody tr th:only-of-type {\n",
       "        vertical-align: middle;\n",
       "    }\n",
       "\n",
       "    .dataframe tbody tr th {\n",
       "        vertical-align: top;\n",
       "    }\n",
       "\n",
       "    .dataframe thead th {\n",
       "        text-align: right;\n",
       "    }\n",
       "</style>\n",
       "<table border=\"1\" class=\"dataframe\">\n",
       "  <thead>\n",
       "    <tr style=\"text-align: right;\">\n",
       "      <th></th>\n",
       "      <th>id</th>\n",
       "      <th>gid</th>\n",
       "      <th>Censo</th>\n",
       "      <th>PIB</th>\n",
       "      <th>Pop_est_2009</th>\n",
       "      <th>PIB_percapita</th>\n",
       "      <th>classe</th>\n",
       "      <th>desemprego</th>\n",
       "    </tr>\n",
       "  </thead>\n",
       "  <tbody>\n",
       "    <tr>\n",
       "      <th>id</th>\n",
       "      <td>1.000000</td>\n",
       "      <td>-0.003864</td>\n",
       "      <td>0.007373</td>\n",
       "      <td>-0.022820</td>\n",
       "      <td>0.006516</td>\n",
       "      <td>0.006504</td>\n",
       "      <td>0.016915</td>\n",
       "      <td>-0.022705</td>\n",
       "    </tr>\n",
       "    <tr>\n",
       "      <th>gid</th>\n",
       "      <td>-0.003864</td>\n",
       "      <td>1.000000</td>\n",
       "      <td>0.001478</td>\n",
       "      <td>0.005075</td>\n",
       "      <td>0.006607</td>\n",
       "      <td>0.055814</td>\n",
       "      <td>0.083581</td>\n",
       "      <td>0.020137</td>\n",
       "    </tr>\n",
       "    <tr>\n",
       "      <th>Censo</th>\n",
       "      <td>0.007373</td>\n",
       "      <td>0.001478</td>\n",
       "      <td>1.000000</td>\n",
       "      <td>0.000148</td>\n",
       "      <td>0.001179</td>\n",
       "      <td>0.000571</td>\n",
       "      <td>0.006162</td>\n",
       "      <td>-0.000219</td>\n",
       "    </tr>\n",
       "    <tr>\n",
       "      <th>PIB</th>\n",
       "      <td>-0.022820</td>\n",
       "      <td>0.005075</td>\n",
       "      <td>0.000148</td>\n",
       "      <td>1.000000</td>\n",
       "      <td>0.339456</td>\n",
       "      <td>0.048044</td>\n",
       "      <td>0.054191</td>\n",
       "      <td>-0.000912</td>\n",
       "    </tr>\n",
       "    <tr>\n",
       "      <th>Pop_est_2009</th>\n",
       "      <td>0.006516</td>\n",
       "      <td>0.006607</td>\n",
       "      <td>0.001179</td>\n",
       "      <td>0.339456</td>\n",
       "      <td>1.000000</td>\n",
       "      <td>0.084113</td>\n",
       "      <td>0.110909</td>\n",
       "      <td>0.008612</td>\n",
       "    </tr>\n",
       "    <tr>\n",
       "      <th>PIB_percapita</th>\n",
       "      <td>0.006504</td>\n",
       "      <td>0.055814</td>\n",
       "      <td>0.000571</td>\n",
       "      <td>0.048044</td>\n",
       "      <td>0.084113</td>\n",
       "      <td>1.000000</td>\n",
       "      <td>0.771292</td>\n",
       "      <td>-0.053388</td>\n",
       "    </tr>\n",
       "    <tr>\n",
       "      <th>classe</th>\n",
       "      <td>0.016915</td>\n",
       "      <td>0.083581</td>\n",
       "      <td>0.006162</td>\n",
       "      <td>0.054191</td>\n",
       "      <td>0.110909</td>\n",
       "      <td>0.771292</td>\n",
       "      <td>1.000000</td>\n",
       "      <td>-0.087766</td>\n",
       "    </tr>\n",
       "    <tr>\n",
       "      <th>desemprego</th>\n",
       "      <td>-0.022705</td>\n",
       "      <td>0.020137</td>\n",
       "      <td>-0.000219</td>\n",
       "      <td>-0.000912</td>\n",
       "      <td>0.008612</td>\n",
       "      <td>-0.053388</td>\n",
       "      <td>-0.087766</td>\n",
       "      <td>1.000000</td>\n",
       "    </tr>\n",
       "  </tbody>\n",
       "</table>\n",
       "</div>"
      ],
      "text/plain": [
       "                     id       gid     Censo       PIB  Pop_est_2009  \\\n",
       "id             1.000000 -0.003864  0.007373 -0.022820      0.006516   \n",
       "gid           -0.003864  1.000000  0.001478  0.005075      0.006607   \n",
       "Censo          0.007373  0.001478  1.000000  0.000148      0.001179   \n",
       "PIB           -0.022820  0.005075  0.000148  1.000000      0.339456   \n",
       "Pop_est_2009   0.006516  0.006607  0.001179  0.339456      1.000000   \n",
       "PIB_percapita  0.006504  0.055814  0.000571  0.048044      0.084113   \n",
       "classe         0.016915  0.083581  0.006162  0.054191      0.110909   \n",
       "desemprego    -0.022705  0.020137 -0.000219 -0.000912      0.008612   \n",
       "\n",
       "               PIB_percapita    classe  desemprego  \n",
       "id                  0.006504  0.016915   -0.022705  \n",
       "gid                 0.055814  0.083581    0.020137  \n",
       "Censo               0.000571  0.006162   -0.000219  \n",
       "PIB                 0.048044  0.054191   -0.000912  \n",
       "Pop_est_2009        0.084113  0.110909    0.008612  \n",
       "PIB_percapita       1.000000  0.771292   -0.053388  \n",
       "classe              0.771292  1.000000   -0.087766  \n",
       "desemprego         -0.053388 -0.087766    1.000000  "
      ]
     },
     "execution_count": 163,
     "metadata": {},
     "output_type": "execute_result"
    }
   ],
   "source": [
    "mat_corr = data_nred.corr(method = 'pearson')\n",
    "mat_corr"
   ]
  },
  {
   "cell_type": "code",
   "execution_count": 164,
   "metadata": {},
   "outputs": [
    {
     "data": {
      "text/html": [
       "<div>\n",
       "<style scoped>\n",
       "    .dataframe tbody tr th:only-of-type {\n",
       "        vertical-align: middle;\n",
       "    }\n",
       "\n",
       "    .dataframe tbody tr th {\n",
       "        vertical-align: top;\n",
       "    }\n",
       "\n",
       "    .dataframe thead th {\n",
       "        text-align: right;\n",
       "    }\n",
       "</style>\n",
       "<table border=\"1\" class=\"dataframe\">\n",
       "  <thead>\n",
       "    <tr style=\"text-align: right;\">\n",
       "      <th></th>\n",
       "      <th>id</th>\n",
       "      <th>gid</th>\n",
       "      <th>Censo</th>\n",
       "      <th>PIB</th>\n",
       "      <th>Pop_est_2009</th>\n",
       "      <th>PIB_percapita</th>\n",
       "      <th>classe</th>\n",
       "      <th>desemprego</th>\n",
       "    </tr>\n",
       "  </thead>\n",
       "  <tbody>\n",
       "    <tr>\n",
       "      <th>id</th>\n",
       "      <td>1.000000</td>\n",
       "      <td>0.003864</td>\n",
       "      <td>0.007373</td>\n",
       "      <td>0.022820</td>\n",
       "      <td>0.006516</td>\n",
       "      <td>0.006504</td>\n",
       "      <td>0.016915</td>\n",
       "      <td>0.022705</td>\n",
       "    </tr>\n",
       "    <tr>\n",
       "      <th>gid</th>\n",
       "      <td>0.003864</td>\n",
       "      <td>1.000000</td>\n",
       "      <td>0.001478</td>\n",
       "      <td>0.005075</td>\n",
       "      <td>0.006607</td>\n",
       "      <td>0.055814</td>\n",
       "      <td>0.083581</td>\n",
       "      <td>0.020137</td>\n",
       "    </tr>\n",
       "    <tr>\n",
       "      <th>Censo</th>\n",
       "      <td>0.007373</td>\n",
       "      <td>0.001478</td>\n",
       "      <td>1.000000</td>\n",
       "      <td>0.000148</td>\n",
       "      <td>0.001179</td>\n",
       "      <td>0.000571</td>\n",
       "      <td>0.006162</td>\n",
       "      <td>0.000219</td>\n",
       "    </tr>\n",
       "    <tr>\n",
       "      <th>PIB</th>\n",
       "      <td>0.022820</td>\n",
       "      <td>0.005075</td>\n",
       "      <td>0.000148</td>\n",
       "      <td>1.000000</td>\n",
       "      <td>0.339456</td>\n",
       "      <td>0.048044</td>\n",
       "      <td>0.054191</td>\n",
       "      <td>0.000912</td>\n",
       "    </tr>\n",
       "    <tr>\n",
       "      <th>Pop_est_2009</th>\n",
       "      <td>0.006516</td>\n",
       "      <td>0.006607</td>\n",
       "      <td>0.001179</td>\n",
       "      <td>0.339456</td>\n",
       "      <td>1.000000</td>\n",
       "      <td>0.084113</td>\n",
       "      <td>0.110909</td>\n",
       "      <td>0.008612</td>\n",
       "    </tr>\n",
       "    <tr>\n",
       "      <th>PIB_percapita</th>\n",
       "      <td>0.006504</td>\n",
       "      <td>0.055814</td>\n",
       "      <td>0.000571</td>\n",
       "      <td>0.048044</td>\n",
       "      <td>0.084113</td>\n",
       "      <td>1.000000</td>\n",
       "      <td>0.771292</td>\n",
       "      <td>0.053388</td>\n",
       "    </tr>\n",
       "    <tr>\n",
       "      <th>classe</th>\n",
       "      <td>0.016915</td>\n",
       "      <td>0.083581</td>\n",
       "      <td>0.006162</td>\n",
       "      <td>0.054191</td>\n",
       "      <td>0.110909</td>\n",
       "      <td>0.771292</td>\n",
       "      <td>1.000000</td>\n",
       "      <td>0.087766</td>\n",
       "    </tr>\n",
       "    <tr>\n",
       "      <th>desemprego</th>\n",
       "      <td>0.022705</td>\n",
       "      <td>0.020137</td>\n",
       "      <td>0.000219</td>\n",
       "      <td>0.000912</td>\n",
       "      <td>0.008612</td>\n",
       "      <td>0.053388</td>\n",
       "      <td>0.087766</td>\n",
       "      <td>1.000000</td>\n",
       "    </tr>\n",
       "  </tbody>\n",
       "</table>\n",
       "</div>"
      ],
      "text/plain": [
       "                     id       gid     Censo       PIB  Pop_est_2009  \\\n",
       "id             1.000000  0.003864  0.007373  0.022820      0.006516   \n",
       "gid            0.003864  1.000000  0.001478  0.005075      0.006607   \n",
       "Censo          0.007373  0.001478  1.000000  0.000148      0.001179   \n",
       "PIB            0.022820  0.005075  0.000148  1.000000      0.339456   \n",
       "Pop_est_2009   0.006516  0.006607  0.001179  0.339456      1.000000   \n",
       "PIB_percapita  0.006504  0.055814  0.000571  0.048044      0.084113   \n",
       "classe         0.016915  0.083581  0.006162  0.054191      0.110909   \n",
       "desemprego     0.022705  0.020137  0.000219  0.000912      0.008612   \n",
       "\n",
       "               PIB_percapita    classe  desemprego  \n",
       "id                  0.006504  0.016915    0.022705  \n",
       "gid                 0.055814  0.083581    0.020137  \n",
       "Censo               0.000571  0.006162    0.000219  \n",
       "PIB                 0.048044  0.054191    0.000912  \n",
       "Pop_est_2009        0.084113  0.110909    0.008612  \n",
       "PIB_percapita       1.000000  0.771292    0.053388  \n",
       "classe              0.771292  1.000000    0.087766  \n",
       "desemprego          0.053388  0.087766    1.000000  "
      ]
     },
     "execution_count": 164,
     "metadata": {},
     "output_type": "execute_result"
    }
   ],
   "source": [
    "mat_corr = np.abs(mat_corr)\n",
    "mat_corr"
   ]
  },
  {
   "cell_type": "code",
   "execution_count": 165,
   "metadata": {},
   "outputs": [
    {
     "name": "stdout",
     "output_type": "stream",
     "text": [
      "[[False  True  True  True  True  True  True  True]\n",
      " [False False  True  True  True  True  True  True]\n",
      " [False False False  True  True  True  True  True]\n",
      " [False False False False  True  True  True  True]\n",
      " [False False False False False  True  True  True]\n",
      " [False False False False False False  True  True]\n",
      " [False False False False False False False  True]\n",
      " [False False False False False False False False]]\n"
     ]
    }
   ],
   "source": [
    "# o parametro k indica para nao incluir a diagonal principal\n",
    "mask_tri = np.triu(np.ones(mat_corr.shape),k=1).astype(bool)\n",
    "print(mask_tri)"
   ]
  },
  {
   "cell_type": "code",
   "execution_count": 166,
   "metadata": {},
   "outputs": [
    {
     "name": "stdout",
     "output_type": "stream",
     "text": [
      "               id       gid     Censo       PIB  Pop_est_2009  PIB_percapita  \\\n",
      "id            NaN  0.003864  0.007373  0.022820      0.006516       0.006504   \n",
      "gid           NaN       NaN  0.001478  0.005075      0.006607       0.055814   \n",
      "Censo         NaN       NaN       NaN  0.000148      0.001179       0.000571   \n",
      "PIB           NaN       NaN       NaN       NaN      0.339456       0.048044   \n",
      "Pop_est_2009  NaN       NaN       NaN       NaN           NaN       0.084113   \n",
      "PIB_percapita NaN       NaN       NaN       NaN           NaN            NaN   \n",
      "classe        NaN       NaN       NaN       NaN           NaN            NaN   \n",
      "desemprego    NaN       NaN       NaN       NaN           NaN            NaN   \n",
      "\n",
      "                 classe  desemprego  \n",
      "id             0.016915    0.022705  \n",
      "gid            0.083581    0.020137  \n",
      "Censo          0.006162    0.000219  \n",
      "PIB            0.054191    0.000912  \n",
      "Pop_est_2009   0.110909    0.008612  \n",
      "PIB_percapita  0.771292    0.053388  \n",
      "classe              NaN    0.087766  \n",
      "desemprego          NaN         NaN  \n"
     ]
    }
   ],
   "source": [
    "tri_sup = mat_corr.where(mask_tri)\n",
    "print(tri_sup)"
   ]
  },
  {
   "cell_type": "code",
   "execution_count": 167,
   "metadata": {},
   "outputs": [],
   "source": [
    "atrib_altacor = [col for col in tri_sup.columns if any(tri_sup[col] >= 0.95)]"
   ]
  },
  {
   "cell_type": "code",
   "execution_count": 168,
   "metadata": {},
   "outputs": [
    {
     "data": {
      "text/plain": [
       "[]"
      ]
     },
     "execution_count": 168,
     "metadata": {},
     "output_type": "execute_result"
    }
   ],
   "source": [
    "atrib_altacor"
   ]
  },
  {
   "cell_type": "code",
   "execution_count": 169,
   "metadata": {},
   "outputs": [
    {
     "data": {
      "text/html": [
       "<div>\n",
       "<style scoped>\n",
       "    .dataframe tbody tr th:only-of-type {\n",
       "        vertical-align: middle;\n",
       "    }\n",
       "\n",
       "    .dataframe tbody tr th {\n",
       "        vertical-align: top;\n",
       "    }\n",
       "\n",
       "    .dataframe thead th {\n",
       "        text-align: right;\n",
       "    }\n",
       "</style>\n",
       "<table border=\"1\" class=\"dataframe\">\n",
       "  <thead>\n",
       "    <tr style=\"text-align: right;\">\n",
       "      <th></th>\n",
       "      <th>id</th>\n",
       "      <th>gid</th>\n",
       "      <th>UF</th>\n",
       "      <th>nome</th>\n",
       "      <th>Censo</th>\n",
       "      <th>PIB</th>\n",
       "      <th>Pop_est_2009</th>\n",
       "      <th>PIB_percapita</th>\n",
       "      <th>classe</th>\n",
       "      <th>desemprego</th>\n",
       "    </tr>\n",
       "  </thead>\n",
       "  <tbody>\n",
       "    <tr>\n",
       "      <th>1113</th>\n",
       "      <td>5569</td>\n",
       "      <td>1115</td>\n",
       "      <td>GOIÁS</td>\n",
       "      <td>Pirenópolis</td>\n",
       "      <td>2010.0</td>\n",
       "      <td>182077.437500</td>\n",
       "      <td>20945.0</td>\n",
       "      <td>8693.120117</td>\n",
       "      <td>1</td>\n",
       "      <td>4.2</td>\n",
       "    </tr>\n",
       "    <tr>\n",
       "      <th>3474</th>\n",
       "      <td>1737</td>\n",
       "      <td>3475</td>\n",
       "      <td>PERNAMBUCO</td>\n",
       "      <td>Pesqueira</td>\n",
       "      <td>NaN</td>\n",
       "      <td>290683.656250</td>\n",
       "      <td>64454.0</td>\n",
       "      <td>4509.939941</td>\n",
       "      <td>1</td>\n",
       "      <td>7.6</td>\n",
       "    </tr>\n",
       "    <tr>\n",
       "      <th>3766</th>\n",
       "      <td>3112</td>\n",
       "      <td>3766</td>\n",
       "      <td>SÃO PAULO</td>\n",
       "      <td>Gavião Peixoto</td>\n",
       "      <td>2010.0</td>\n",
       "      <td>165148.078125</td>\n",
       "      <td>4244.0</td>\n",
       "      <td>38913.308594</td>\n",
       "      <td>3</td>\n",
       "      <td>6.5</td>\n",
       "    </tr>\n",
       "  </tbody>\n",
       "</table>\n",
       "</div>"
      ],
      "text/plain": [
       "        id   gid          UF            nome   Censo            PIB  \\\n",
       "1113  5569  1115       GOIÁS     Pirenópolis  2010.0  182077.437500   \n",
       "3474  1737  3475  PERNAMBUCO       Pesqueira     NaN  290683.656250   \n",
       "3766  3112  3766   SÃO PAULO  Gavião Peixoto  2010.0  165148.078125   \n",
       "\n",
       "      Pop_est_2009  PIB_percapita  classe  desemprego  \n",
       "1113       20945.0    8693.120117       1         4.2  \n",
       "3474       64454.0    4509.939941       1         7.6  \n",
       "3766        4244.0   38913.308594       3         6.5  "
      ]
     },
     "execution_count": 169,
     "metadata": {},
     "output_type": "execute_result"
    }
   ],
   "source": [
    "# inspecionar colunas por valores constantes e redundantes\n",
    "\n",
    "data_nred[data_nred.duplicated(['nome','UF'], keep='first')]"
   ]
  },
  {
   "cell_type": "code",
   "execution_count": 170,
   "metadata": {},
   "outputs": [],
   "source": [
    "d_ndup = data_nred.drop_duplicates(['nome','UF'], keep='first')"
   ]
  },
  {
   "cell_type": "code",
   "execution_count": 171,
   "metadata": {},
   "outputs": [
    {
     "data": {
      "text/plain": [
       "(5565, 10)"
      ]
     },
     "execution_count": 171,
     "metadata": {},
     "output_type": "execute_result"
    }
   ],
   "source": [
    "d_ndup.shape"
   ]
  },
  {
   "cell_type": "markdown",
   "metadata": {},
   "source": [
    "---\n",
    "### Questão 3)\n",
    "\n",
    "Vamos analisar possíveis outliers nas colunas numéricas. Utilize o método da análise da dispersão pelo *desvio padrão* e inspecione as colunas 'gid', 'PIB', 'Pop_est_2009', 'desemprego', procurando por outliers globais para além de 2.5 desvios padrões com relação à média, i.e. $2.5\\sigma$. Não remova outliers da base de dados, apenas identifique-os.\n",
    "\n",
    "Quantos outliers foram encontrados, respectivamente, para 'gid', 'PIB', 'Pop_est_2009' e 'desemprego'?\n",
    "\n",
    "(a) 0, 6, 35, 2<br>\n",
    "(b) 0, 6, 27, 1<br>\n",
    "(c) 0, 5, 27, 1<br>\n",
    "(d) 1, 5, 35, 2<br>\n"
   ]
  },
  {
   "cell_type": "code",
   "execution_count": 172,
   "metadata": {},
   "outputs": [],
   "source": [
    "data = pd.read_csv(\"./dados/pib_mba_avaliacao2022_B.csv\")"
   ]
  },
  {
   "cell_type": "code",
   "execution_count": 173,
   "metadata": {
    "scrolled": true
   },
   "outputs": [],
   "source": [
    "# encontrar outliers\n",
    "def remove_outliers_std(df, attributes, t):\n",
    "    \n",
    "    dfn = df.copy()\n",
    "    \n",
    "    for var in attributes:\n",
    "        # verifica se variável é numerica\n",
    "        if np.issubdtype(df[var].dtype, np.number):\n",
    "            crit_std = df[var].std() * t\n",
    "            mu = df[var].mean()\n",
    "            \n",
    "            tot_out = np.sum((df[var] < mu-crit_std) | (df[var] > mu+crit_std))\n",
    "            \n",
    "            # apenas inliers segundo std\n",
    "            dfn = dfn.loc[(df[var] >= mu-crit_std) & (df[var] <= mu+crit_std),:]\n",
    "            print('%s, mu = %.2f, std = %.2f, outliers = %d' % (var, mu, crit_std/t, tot_out))\n",
    "            \n",
    "    return dfn"
   ]
  },
  {
   "cell_type": "code",
   "execution_count": 174,
   "metadata": {},
   "outputs": [
    {
     "name": "stdout",
     "output_type": "stream",
     "text": [
      "gid, mu = 2784.90, std = 1606.83, outliers = 0\n",
      "PIB, mu = 861698.21, std = 17668286.53, outliers = 6\n",
      "Pop_est_2009, mu = 30545.93, std = 101843.87, outliers = 81\n",
      "desemprego, mu = 6.64, std = 5.74, outliers = 1\n"
     ]
    }
   ],
   "source": [
    "data_out = remove_outliers_std(data,['gid'], 2.5)\n",
    "data_out = remove_outliers_std(data_out,['PIB'], 2.5)\n",
    "data_out = remove_outliers_std(data_out,['Pop_est_2009'], 2.5)\n",
    "data_out = remove_outliers_std(data_out,['desemprego'], 2.5)"
   ]
  },
  {
   "cell_type": "markdown",
   "metadata": {},
   "source": [
    "---\n",
    "\n",
    "### Questão 4)\n",
    "\n",
    "Imprima o total de valores faltantes na variável 'desemprego'. Em contato com a equipe especialista, fomos informados que uma boa forma de preencher esses valores seria o preenchimento pela média do desemprego no estado referente ao dado faltante. Assim, iremos preencher os valores `nan` de 'desemprego' com as médias agrupadas por 'UF'.\n",
    "\n",
    "Para isso codifique uma função que deverá:\n",
    "1. calcular a média de uma variável alvo A (a ser preenchida) relativa a (ou agrupada por) cada valor distinto de uma variável categórica B que se deseja usar para agrupar; no nosso caso A='desemprego' e B='UF';\n",
    "2. atribuir a média calculada de forma agrupada a todas as linhas cuja variável alvo é faltante e que possua o valor da variável categórica correspondente;\n",
    "3. garantir que o valor atribuido tenha o mesmo tipo da variável alvo, ou seja, int, float, etc. Quando int, realize o arredondamento utlizando `np.round(,0)`, quando float64 utilize `np.round(,1)`\n",
    "\n",
    "Realize o preenchimento dos dados faltantes utilizando o método da média agrupada por UF.\n",
    "\n",
    "Quantos dados faltantes existiam em \"desemprego\" antes da operação, e qual a média e o desvio padrão dessa variável após o preenchimento?\n",
    "\n",
    "(a) 53 faltantes, média 6.641, desvio padrão 5.672<br>\n",
    "(b) 55 faltantes, média 6.641, desvio padrão 5.672<br>\n",
    "(c) 53 faltantes, média 6.636, desvio padrão 5.697<br>\n",
    "(d) 55 faltantes, média 6.636, desvio padrão 5.697<br>"
   ]
  },
  {
   "cell_type": "code",
   "execution_count": 175,
   "metadata": {},
   "outputs": [],
   "source": [
    "# recarregar base de dados\n",
    "data = pd.read_csv(\"./dados/pib_mba_avaliacao2022_B.csv\")"
   ]
  },
  {
   "cell_type": "code",
   "execution_count": 176,
   "metadata": {},
   "outputs": [],
   "source": [
    "# verificar atributos faltantes\n",
    "# preencher faltantes\n",
    "# computar media e desvio padrao\n",
    "\n",
    "def missing_condmean(df, att, att_cat):\n",
    "        \n",
    "    dfn = df.copy()\n",
    "    print('- preencher ', att, ' condicionado a ', att_cat, end=' : ')\n",
    "    nullatt = dfn[att].isnull()\n",
    "    print(np.sum(nullatt), 'faltantes')\n",
    "\n",
    "    for j in df[att_cat].unique():\n",
    "        mu_cat = np.round(np.mean(df.loc[df[att_cat]==j, att]),1)\n",
    "        std_cat = np.round(np.std(df.loc[df[att_cat]==j, att]),1)\n",
    "\n",
    "        if (df[att_cat].dtypes == np.int64):\n",
    "            mu_cat = np.round(mu_cat,0)\n",
    "            std_cat = np.round(std_cat,0)\n",
    "            \n",
    "        print('\\t %s media = %.1f' % (j, mu_cat))\n",
    "        print('\\t %s std deviation = %.1f' % (j, std_cat))\n",
    "        dfn.loc[(df[att].isnull()) & (df[att_cat]==j), att] = mu_cat\n",
    "        \n",
    "        \n",
    "    return dfn"
   ]
  },
  {
   "cell_type": "code",
   "execution_count": 177,
   "metadata": {},
   "outputs": [
    {
     "name": "stdout",
     "output_type": "stream",
     "text": [
      "- preencher  desemprego  condicionado a  UF : 53 faltantes\n",
      "\t RIO GRANDE DO SUL media = 4.5\n",
      "\t RIO GRANDE DO SUL std deviation = 0.8\n",
      "\t SÃO PAULO media = 6.9\n",
      "\t SÃO PAULO std deviation = 0.9\n",
      "\t BAHIA media = 9.1\n",
      "\t BAHIA std deviation = 0.7\n",
      "\t TOCANTINS media = 5.9\n",
      "\t TOCANTINS std deviation = 0.7\n",
      "\t RORAIMA media = 7.6\n",
      "\t RORAIMA std deviation = 0.7\n",
      "\t SERGIPE media = 8.4\n",
      "\t SERGIPE std deviation = 0.7\n",
      "\t PERNAMBUCO media = 8.6\n",
      "\t PERNAMBUCO std deviation = 0.7\n",
      "\t SANTA CATARINA media = 6.8\n",
      "\t SANTA CATARINA std deviation = 0.7\n",
      "\t AMAZONAS media = 8.1\n",
      "\t AMAZONAS std deviation = 0.8\n",
      "\t ESPIRITO SANTO media = 7.6\n",
      "\t ESPIRITO SANTO std deviation = 0.7\n",
      "\t PIAUÍ media = 5.8\n",
      "\t PIAUÍ std deviation = 0.8\n",
      "\t ALAGOAS media = 9.4\n",
      "\t ALAGOAS std deviation = 0.7\n",
      "\t GOIÁS media = 4.7\n",
      "\t GOIÁS std deviation = 0.8\n",
      "\t ACRE media = 4.1\n",
      "\t ACRE std deviation = 0.8\n",
      "\t DISTRITO FEDERAL media = 8.1\n",
      "\t DISTRITO FEDERAL std deviation = 0.0\n",
      "\t MATO GROSSO media = 7.2\n",
      "\t MATO GROSSO std deviation = 0.8\n",
      "\t AMAPÁ media = 12.7\n",
      "\t AMAPÁ std deviation = 0.7\n",
      "\t MATO GROSSO DO SUL media = 4.5\n",
      "\t MATO GROSSO DO SUL std deviation = 0.7\n",
      "\t CEARÁ media = 5.3\n",
      "\t CEARÁ std deviation = 0.7\n",
      "\t RIO GRANDE DO NORTE media = 9.6\n",
      "\t RIO GRANDE DO NORTE std deviation = 0.9\n",
      "\t MARANHÃO media = 8.3\n",
      "\t MARANHÃO std deviation = 27.1\n",
      "\t RIO DE JANEIRO media = 8.2\n",
      "\t RIO DE JANEIRO std deviation = 0.7\n",
      "\t PARÁ media = 7.2\n",
      "\t PARÁ std deviation = 0.7\n",
      "\t MINAS GERAIS media = 5.9\n",
      "\t MINAS GERAIS std deviation = 0.8\n",
      "\t PARAÍBA media = 9.0\n",
      "\t PARAÍBA std deviation = 0.7\n",
      "\t PARANÁ media = 4.5\n",
      "\t PARANÁ std deviation = 0.8\n",
      "\t RONDÔNIA media = 3.2\n",
      "\t RONDÔNIA std deviation = 0.8\n",
      "Média do atributo antes do preenchimento:  6.64\n",
      "Depois do preenchimento:  6.64\n",
      "Depois do preenchimento, Std Deviation:  5.67\n"
     ]
    }
   ],
   "source": [
    "data_fill = missing_condmean(data, 'desemprego', 'UF')\n",
    "data_fill[data['desemprego'].isnull()].head()\n",
    "\n",
    "print('Média do atributo antes do preenchimento: ', np.round(np.mean(data.loc[:, 'desemprego']),2))\n",
    "print('Depois do preenchimento: ', np.round(np.mean(data_fill.loc[:, 'desemprego']),2))\n",
    "print('Depois do preenchimento, Std Deviation: ', np.round(np.std(data_fill.loc[:, 'desemprego']),2))"
   ]
  },
  {
   "cell_type": "markdown",
   "metadata": {},
   "source": [
    "---\n",
    "\n",
    "### Questão 5)\n",
    "\n",
    "Desejamos projetar um algoritmo para, por meio dos atributos de entrada 'PIB', 'Pop_est_2009', 'desemprego', classificar se um município pertence à classes 1 ou 2, ou pertence à classes 3, 4 ou 5. Realize os seguintes passos:\n",
    "\n",
    "1. gere um rótulo/label binário, que é `0` para municípios cujo atributo classe seja 1 ou 2, e `1` para municípios de classe 3, 4 ou 5;\n",
    "2. preencha todos os atributos faltantes da base de dados com o valor `0`;\n",
    "3. prepare a base de dados de treinamento `X` contendo apenas as colunas 'PIB', 'Pop_est_2009', 'desemprego', e os rótulos `y` binários conforme passo 1, de forma a ser aceito como entrada nas bibliotecas `sklearn` e `imblearn`;\n",
    "4. gere uma nova base de dados rebalanceada `Xs` e `ys` por meio do método `over_sampling.SMOTE(random_state=0)`; \n",
    "5. treine o classificador 1 do tipo `DecisionTreeClassifier(max_depth=3, random_state=0)` nos dados originais `X`, `y`, e verifique a acurácia balanceada na predição do conjunto de treinamento `X`, i.e. gerando `y_pred = classif1.predict(X)` e computando `balanced_accuracy_score(y, y_pred)`; \n",
    "6. treine um novo classificador 2 do tipo `DecisionTreeClassifier(max_depth=3, random_state=0)` nos dados balanceados por SMOTE: `Xs`, `ys`, e verifique a acurácia balanceada na predição no conjunto de treinamento `X`, i.e. gerando `y_pred_s = classif2.predict(X)` e computando `balanced_accuracy_score(y, y_pred_s)`. \n",
    "\n",
    "OBS: as duas acurácias são computadas no mesmo conjunto `X` relativo ao conjunto de treinamento original.\n",
    "\n",
    "Quais foram as acurácias balanceadas de treinamento resultantes do classificador 1 (treinado com dados originais) e do classificador 2 (treinado com dados relabanceados)? \n",
    "\n",
    "(a) Classificador 1: 51%,  Classificador 2: 67% <br>\n",
    "(b) Classificador 1: 67%,  Classificador 2: 70% <br>\n",
    "(c) Classificador 1: 67%,  Classificador 2: 89% <br>\n",
    "(d) Classificador 1: 84%,  Classificador 2: 89% <br>"
   ]
  },
  {
   "cell_type": "code",
   "execution_count": 178,
   "metadata": {},
   "outputs": [],
   "source": [
    "# bibliotecas necessarias\n",
    "from imblearn import over_sampling\n",
    "from sklearn.tree import DecisionTreeClassifier\n",
    "from sklearn import metrics\n",
    "\n",
    "# carregar base de dados\n",
    "data = pd.read_csv(\"./dados/pib_mba_avaliacao2022_B.csv\")"
   ]
  },
  {
   "cell_type": "code",
   "execution_count": 179,
   "metadata": {},
   "outputs": [
    {
     "data": {
      "text/html": [
       "<div>\n",
       "<style scoped>\n",
       "    .dataframe tbody tr th:only-of-type {\n",
       "        vertical-align: middle;\n",
       "    }\n",
       "\n",
       "    .dataframe tbody tr th {\n",
       "        vertical-align: top;\n",
       "    }\n",
       "\n",
       "    .dataframe thead th {\n",
       "        text-align: right;\n",
       "    }\n",
       "</style>\n",
       "<table border=\"1\" class=\"dataframe\">\n",
       "  <thead>\n",
       "    <tr style=\"text-align: right;\">\n",
       "      <th></th>\n",
       "      <th>id</th>\n",
       "      <th>gid</th>\n",
       "      <th>UF</th>\n",
       "      <th>nome</th>\n",
       "      <th>Censo</th>\n",
       "      <th>PIB</th>\n",
       "      <th>Pop_est_2009</th>\n",
       "      <th>PIB_percapita</th>\n",
       "      <th>Descrição</th>\n",
       "      <th>classe</th>\n",
       "      <th>desemprego</th>\n",
       "      <th>rotulo</th>\n",
       "    </tr>\n",
       "  </thead>\n",
       "  <tbody>\n",
       "    <tr>\n",
       "      <th>0</th>\n",
       "      <td>1406</td>\n",
       "      <td>1</td>\n",
       "      <td>RIO GRANDE DO SUL</td>\n",
       "      <td>Igrejinha</td>\n",
       "      <td>2010.0</td>\n",
       "      <td>6.907114e+05</td>\n",
       "      <td>33551</td>\n",
       "      <td>20586.910156</td>\n",
       "      <td>Produto Interno Bruto per capita</td>\n",
       "      <td>2</td>\n",
       "      <td>5.1</td>\n",
       "      <td>0</td>\n",
       "    </tr>\n",
       "    <tr>\n",
       "      <th>1</th>\n",
       "      <td>4252</td>\n",
       "      <td>2</td>\n",
       "      <td>RIO GRANDE DO SUL</td>\n",
       "      <td>Três Coroas</td>\n",
       "      <td>2010.0</td>\n",
       "      <td>4.102403e+05</td>\n",
       "      <td>24786</td>\n",
       "      <td>16551.289062</td>\n",
       "      <td>Produto Interno Bruto per capita</td>\n",
       "      <td>2</td>\n",
       "      <td>4.8</td>\n",
       "      <td>0</td>\n",
       "    </tr>\n",
       "    <tr>\n",
       "      <th>2</th>\n",
       "      <td>998</td>\n",
       "      <td>3</td>\n",
       "      <td>RIO GRANDE DO SUL</td>\n",
       "      <td>Canoas</td>\n",
       "      <td>2010.0</td>\n",
       "      <td>1.644448e+07</td>\n",
       "      <td>332056</td>\n",
       "      <td>49523.199219</td>\n",
       "      <td>Produto Interno Bruto per capita</td>\n",
       "      <td>3</td>\n",
       "      <td>0.0</td>\n",
       "      <td>1</td>\n",
       "    </tr>\n",
       "    <tr>\n",
       "      <th>3</th>\n",
       "      <td>4292</td>\n",
       "      <td>4</td>\n",
       "      <td>RIO GRANDE DO SUL</td>\n",
       "      <td>Sapucaia do Sul</td>\n",
       "      <td>2010.0</td>\n",
       "      <td>1.767158e+06</td>\n",
       "      <td>126316</td>\n",
       "      <td>13989.980469</td>\n",
       "      <td>Produto Interno Bruto per capita</td>\n",
       "      <td>2</td>\n",
       "      <td>4.5</td>\n",
       "      <td>0</td>\n",
       "    </tr>\n",
       "    <tr>\n",
       "      <th>4</th>\n",
       "      <td>991</td>\n",
       "      <td>5</td>\n",
       "      <td>RIO GRANDE DO SUL</td>\n",
       "      <td>São Leopoldo</td>\n",
       "      <td>2010.0</td>\n",
       "      <td>3.302153e+06</td>\n",
       "      <td>211663</td>\n",
       "      <td>15600.990234</td>\n",
       "      <td>Produto Interno Bruto per capita</td>\n",
       "      <td>2</td>\n",
       "      <td>4.9</td>\n",
       "      <td>0</td>\n",
       "    </tr>\n",
       "    <tr>\n",
       "      <th>...</th>\n",
       "      <td>...</td>\n",
       "      <td>...</td>\n",
       "      <td>...</td>\n",
       "      <td>...</td>\n",
       "      <td>...</td>\n",
       "      <td>...</td>\n",
       "      <td>...</td>\n",
       "      <td>...</td>\n",
       "      <td>...</td>\n",
       "      <td>...</td>\n",
       "      <td>...</td>\n",
       "      <td>...</td>\n",
       "    </tr>\n",
       "    <tr>\n",
       "      <th>5563</th>\n",
       "      <td>150</td>\n",
       "      <td>5564</td>\n",
       "      <td>PIAUÍ</td>\n",
       "      <td>Alagoinha do Piauí</td>\n",
       "      <td>2010.0</td>\n",
       "      <td>2.727773e+04</td>\n",
       "      <td>7736</td>\n",
       "      <td>3526.080078</td>\n",
       "      <td>Produto Interno Bruto per capita</td>\n",
       "      <td>1</td>\n",
       "      <td>4.6</td>\n",
       "      <td>0</td>\n",
       "    </tr>\n",
       "    <tr>\n",
       "      <th>5564</th>\n",
       "      <td>4216</td>\n",
       "      <td>5565</td>\n",
       "      <td>PIAUÍ</td>\n",
       "      <td>Olho D'Água do Piauí</td>\n",
       "      <td>2010.0</td>\n",
       "      <td>1.029336e+04</td>\n",
       "      <td>2755</td>\n",
       "      <td>3736.250000</td>\n",
       "      <td>Produto Interno Bruto per capita</td>\n",
       "      <td>1</td>\n",
       "      <td>6.6</td>\n",
       "      <td>0</td>\n",
       "    </tr>\n",
       "    <tr>\n",
       "      <th>5565</th>\n",
       "      <td>137</td>\n",
       "      <td>5566</td>\n",
       "      <td>PIAUÍ</td>\n",
       "      <td>Passagem Franca do Piauí</td>\n",
       "      <td>2010.0</td>\n",
       "      <td>1.441198e+04</td>\n",
       "      <td>4246</td>\n",
       "      <td>3394.250000</td>\n",
       "      <td>Produto Interno Bruto per capita</td>\n",
       "      <td>1</td>\n",
       "      <td>5.1</td>\n",
       "      <td>0</td>\n",
       "    </tr>\n",
       "    <tr>\n",
       "      <th>5566</th>\n",
       "      <td>3861</td>\n",
       "      <td>5567</td>\n",
       "      <td>PIAUÍ</td>\n",
       "      <td>Barro Duro</td>\n",
       "      <td>2010.0</td>\n",
       "      <td>2.505022e+04</td>\n",
       "      <td>6853</td>\n",
       "      <td>3655.370117</td>\n",
       "      <td>Produto Interno Bruto per capita</td>\n",
       "      <td>1</td>\n",
       "      <td>4.7</td>\n",
       "      <td>0</td>\n",
       "    </tr>\n",
       "    <tr>\n",
       "      <th>5567</th>\n",
       "      <td>2975</td>\n",
       "      <td>5568</td>\n",
       "      <td>SERGIPE</td>\n",
       "      <td>Monte Alegre de Sergipe</td>\n",
       "      <td>2010.0</td>\n",
       "      <td>6.975481e+04</td>\n",
       "      <td>13817</td>\n",
       "      <td>5048.479980</td>\n",
       "      <td>Produto Interno Bruto per capita</td>\n",
       "      <td>1</td>\n",
       "      <td>9.5</td>\n",
       "      <td>0</td>\n",
       "    </tr>\n",
       "  </tbody>\n",
       "</table>\n",
       "<p>5568 rows × 12 columns</p>\n",
       "</div>"
      ],
      "text/plain": [
       "        id   gid                 UF                      nome   Censo  \\\n",
       "0     1406     1  RIO GRANDE DO SUL                 Igrejinha  2010.0   \n",
       "1     4252     2  RIO GRANDE DO SUL               Três Coroas  2010.0   \n",
       "2      998     3  RIO GRANDE DO SUL                    Canoas  2010.0   \n",
       "3     4292     4  RIO GRANDE DO SUL           Sapucaia do Sul  2010.0   \n",
       "4      991     5  RIO GRANDE DO SUL              São Leopoldo  2010.0   \n",
       "...    ...   ...                ...                       ...     ...   \n",
       "5563   150  5564              PIAUÍ        Alagoinha do Piauí  2010.0   \n",
       "5564  4216  5565              PIAUÍ      Olho D'Água do Piauí  2010.0   \n",
       "5565   137  5566              PIAUÍ  Passagem Franca do Piauí  2010.0   \n",
       "5566  3861  5567              PIAUÍ                Barro Duro  2010.0   \n",
       "5567  2975  5568            SERGIPE   Monte Alegre de Sergipe  2010.0   \n",
       "\n",
       "               PIB  Pop_est_2009  PIB_percapita  \\\n",
       "0     6.907114e+05         33551   20586.910156   \n",
       "1     4.102403e+05         24786   16551.289062   \n",
       "2     1.644448e+07        332056   49523.199219   \n",
       "3     1.767158e+06        126316   13989.980469   \n",
       "4     3.302153e+06        211663   15600.990234   \n",
       "...            ...           ...            ...   \n",
       "5563  2.727773e+04          7736    3526.080078   \n",
       "5564  1.029336e+04          2755    3736.250000   \n",
       "5565  1.441198e+04          4246    3394.250000   \n",
       "5566  2.505022e+04          6853    3655.370117   \n",
       "5567  6.975481e+04         13817    5048.479980   \n",
       "\n",
       "                             Descrição  classe  desemprego rotulo  \n",
       "0     Produto Interno Bruto per capita       2         5.1      0  \n",
       "1     Produto Interno Bruto per capita       2         4.8      0  \n",
       "2     Produto Interno Bruto per capita       3         0.0      1  \n",
       "3     Produto Interno Bruto per capita       2         4.5      0  \n",
       "4     Produto Interno Bruto per capita       2         4.9      0  \n",
       "...                                ...     ...         ...    ...  \n",
       "5563  Produto Interno Bruto per capita       1         4.6      0  \n",
       "5564  Produto Interno Bruto per capita       1         6.6      0  \n",
       "5565  Produto Interno Bruto per capita       1         5.1      0  \n",
       "5566  Produto Interno Bruto per capita       1         4.7      0  \n",
       "5567  Produto Interno Bruto per capita       1         9.5      0  \n",
       "\n",
       "[5568 rows x 12 columns]"
      ]
     },
     "execution_count": 179,
     "metadata": {},
     "output_type": "execute_result"
    }
   ],
   "source": [
    "# 1 - gerar rotulos binários\n",
    "data['rotulo'] = data['classe'].map({1: '0', 2: '0', 3:'1', 4:'1', 5:'1'})\n",
    "\n",
    "data\n"
   ]
  },
  {
   "cell_type": "code",
   "execution_count": 180,
   "metadata": {},
   "outputs": [],
   "source": [
    "# 2 - preencher faltantes\n",
    "def check_missing_att(df):\n",
    "    # verificando atributos faltantes\n",
    "    for var in df:\n",
    "        # somamos o número de variáveis nulas (NaN)\n",
    "        nullatt = np.sum(df[var].isnull())\n",
    "        if nullatt > 0:\n",
    "            print(var,\"- faltantes: \", end='')\n",
    "            print(nullatt)"
   ]
  },
  {
   "cell_type": "code",
   "execution_count": 181,
   "metadata": {},
   "outputs": [
    {
     "name": "stdout",
     "output_type": "stream",
     "text": [
      "nome - faltantes: 2\n",
      "Censo - faltantes: 4\n",
      "PIB - faltantes: 1\n",
      "PIB_percapita - faltantes: 4\n",
      "desemprego - faltantes: 53\n"
     ]
    }
   ],
   "source": [
    "check_missing_att(data)"
   ]
  },
  {
   "cell_type": "code",
   "execution_count": 182,
   "metadata": {},
   "outputs": [],
   "source": [
    "data_fill0 = data.fillna(0)"
   ]
  },
  {
   "cell_type": "code",
   "execution_count": 183,
   "metadata": {},
   "outputs": [],
   "source": [
    "check_missing_att(data_fill0)"
   ]
  },
  {
   "cell_type": "code",
   "execution_count": 184,
   "metadata": {},
   "outputs": [],
   "source": [
    "# 3 - preparar base de dados (nesse caso nao terá base de teste por peculiaridade do exercicio)\n",
    "X = data_fill0[['PIB','Pop_est_2009', 'desemprego']]\n",
    "Y = data_fill0['rotulo']"
   ]
  },
  {
   "cell_type": "code",
   "execution_count": 185,
   "metadata": {},
   "outputs": [
    {
     "data": {
      "image/png": "[encoded data removed]",
      "text/plain": [
       "<Figure size 432x288 with 1 Axes>"
      ]
     },
     "metadata": {
      "needs_background": "light"
     },
     "output_type": "display_data"
    }
   ],
   "source": [
    "h = plt.hist(Y)"
   ]
  },
  {
   "cell_type": "code",
   "execution_count": 186,
   "metadata": {
    "scrolled": true
   },
   "outputs": [
    {
     "data": {
      "image/png": "[encoded data removed]",
      "text/plain": [
       "<Figure size 432x288 with 1 Axes>"
      ]
     },
     "metadata": {
      "needs_background": "light"
     },
     "output_type": "display_data"
    }
   ],
   "source": [
    "# 4 - realizar oversampling\n",
    "oversamp = over_sampling.SMOTE(random_state=0) # sampling_strategy pode ser usado para casos binários\n",
    "Xs, Ys = oversamp.fit_resample(X, Y)\n",
    "h = plt.hist(Ys)"
   ]
  },
  {
   "cell_type": "code",
   "execution_count": 187,
   "metadata": {},
   "outputs": [],
   "source": [
    "# 5 - treinar/avaliar classificador 1\n",
    "clf = DecisionTreeClassifier(max_depth=3, random_state=0)\n",
    "clf.fit(X,Y)\n",
    "ZY_ = clf.predict(X)"
   ]
  },
  {
   "cell_type": "code",
   "execution_count": 188,
   "metadata": {},
   "outputs": [
    {
     "name": "stdout",
     "output_type": "stream",
     "text": [
      "Acurácia balanceada: 67.46\n"
     ]
    }
   ],
   "source": [
    "accb_base = metrics.balanced_accuracy_score(Y, ZY_)\n",
    "print(\"Acurácia balanceada: %0.2f\" % (accb_base*100))"
   ]
  },
  {
   "cell_type": "code",
   "execution_count": 189,
   "metadata": {},
   "outputs": [],
   "source": [
    "# 6 - treinar/avaliar classificador 2\n",
    "clf_2 = DecisionTreeClassifier(max_depth=3, random_state=0)\n",
    "clf_2.fit(Xs,Ys)\n",
    "ZYs_ = clf_2.predict(X)"
   ]
  },
  {
   "cell_type": "code",
   "execution_count": 190,
   "metadata": {},
   "outputs": [
    {
     "name": "stdout",
     "output_type": "stream",
     "text": [
      "Acurácia balanceada: 89.36\n"
     ]
    }
   ],
   "source": [
    "accb_base = metrics.balanced_accuracy_score(Y, ZYs_)\n",
    "print(\"Acurácia balanceada: %0.2f\" % (accb_base*100))"
   ]
  },
  {
   "cell_type": "code",
   "execution_count": null,
   "metadata": {},
   "outputs": [],
   "source": []
  }
 ],
 "metadata": {
  "interpreter": {
   "hash": "eeca995d0f3e54aca6930f56d9ad1fedf70d5951646e03e475052bde35f1b6df"
  },
  "kernelspec": {
   "display_name": "Python 3.9.7 ('base')",
   "language": "python",
   "name": "python3"
  },
  "language_info": {
   "codemirror_mode": {
    "name": "ipython",
    "version": 3
   },
   "file_extension": ".py",
   "mimetype": "text/x-python",
   "name": "python",
   "nbconvert_exporter": "python",
   "pygments_lexer": "ipython3",
   "version": "3.9.7"
  }
 },
 "nbformat": 4,
 "nbformat_minor": 4
}
