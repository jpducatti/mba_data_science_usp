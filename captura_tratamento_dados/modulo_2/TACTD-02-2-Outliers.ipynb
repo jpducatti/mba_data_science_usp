{
 "cells": [
  {
   "cell_type": "markdown",
   "metadata": {},
   "source": [
    "# MBA em Ciência de Dados\n",
    "# Técnicas Avançadas de Captura e Tratamento de Dados\n",
    "\n",
    "\n",
    "### <span style=\"color:darkred\">Tratamento e limpeza de bases de dados</span>\n",
    "\n",
    "\n",
    "### <span style=\"color:darkred\">Detecção e remoção de outliers</span>\n",
    "\n",
    "Material Produzido por Moacir Antonelli Ponti\n",
    "\n",
    "CeMEAI - ICMC/USP São Carlos\n",
    "\n",
    "---"
   ]
  },
  {
   "cell_type": "markdown",
   "metadata": {},
   "source": [
    "__Referência complementar:__\n",
    "- CHANDOLA, Varun; BANERJEE, Arindam; KUMAR, Vipin. Outlier detection: a survey. ACM Computing Surveys, v. 14, p. 15, 2007.\n",
    "\n",
    "***"
   ]
  },
  {
   "cell_type": "markdown",
   "metadata": {},
   "source": [
    "## Detectando outliers\n",
    "\n",
    "**Relembrando - outliers, pontos \"fora-da-curva\" ou pontos aberrantes** : exemplos ou instâncias que, dentre do espaço de possíveis valores, recaem num intervalo *fora* daquele relativo a maior parte dos exemplos de uma base de dados.\n",
    "\n",
    "Detectar outliers por meio de análise exploratória é útil para entender o comportamento da base de dados.\n",
    "\n",
    "Existem também métodos **estatísticos** e de **aprendizado de máquina** que auxiliam nesse processo e que podem facilitar essa análise, detectando *outliers* de forma automática.\n",
    "\n",
    "1. Dispersão: desvio padrão e intervalo interquartil\n",
    "2. Distribuição: Normal univaridada\n",
    "3. Agrupamento"
   ]
  },
  {
   "cell_type": "code",
   "execution_count": 21,
   "metadata": {},
   "outputs": [
    {
     "data": {
      "text/html": [
       "<div>\n",
       "<style scoped>\n",
       "    .dataframe tbody tr th:only-of-type {\n",
       "        vertical-align: middle;\n",
       "    }\n",
       "\n",
       "    .dataframe tbody tr th {\n",
       "        vertical-align: top;\n",
       "    }\n",
       "\n",
       "    .dataframe thead th {\n",
       "        text-align: right;\n",
       "    }\n",
       "</style>\n",
       "<table border=\"1\" class=\"dataframe\">\n",
       "  <thead>\n",
       "    <tr style=\"text-align: right;\">\n",
       "      <th></th>\n",
       "      <th>city</th>\n",
       "      <th>area</th>\n",
       "      <th>rooms</th>\n",
       "      <th>bathroom</th>\n",
       "      <th>parking spaces</th>\n",
       "      <th>floor</th>\n",
       "      <th>hoa</th>\n",
       "      <th>rent</th>\n",
       "      <th>tax</th>\n",
       "      <th>insurance</th>\n",
       "      <th>total</th>\n",
       "      <th>page hits</th>\n",
       "      <th>days available</th>\n",
       "      <th>interactions</th>\n",
       "      <th>weeks available</th>\n",
       "      <th>type</th>\n",
       "    </tr>\n",
       "  </thead>\n",
       "  <tbody>\n",
       "    <tr>\n",
       "      <th>0</th>\n",
       "      <td>São Paulo</td>\n",
       "      <td>70.0</td>\n",
       "      <td>2.0</td>\n",
       "      <td>1</td>\n",
       "      <td>1.0</td>\n",
       "      <td>7</td>\n",
       "      <td>2065</td>\n",
       "      <td>3300</td>\n",
       "      <td>211</td>\n",
       "      <td>42</td>\n",
       "      <td>5618.0</td>\n",
       "      <td>324</td>\n",
       "      <td>23</td>\n",
       "      <td>108</td>\n",
       "      <td>3</td>\n",
       "      <td>flat</td>\n",
       "    </tr>\n",
       "    <tr>\n",
       "      <th>1</th>\n",
       "      <td>São Paulo</td>\n",
       "      <td>320.0</td>\n",
       "      <td>4.0</td>\n",
       "      <td>4</td>\n",
       "      <td>2.0</td>\n",
       "      <td>20</td>\n",
       "      <td>1200</td>\n",
       "      <td>4960</td>\n",
       "      <td>1750</td>\n",
       "      <td>63</td>\n",
       "      <td>7973.0</td>\n",
       "      <td>720</td>\n",
       "      <td>78</td>\n",
       "      <td>240</td>\n",
       "      <td>11</td>\n",
       "      <td>flat</td>\n",
       "    </tr>\n",
       "    <tr>\n",
       "      <th>2</th>\n",
       "      <td>Porto Alegre</td>\n",
       "      <td>80.0</td>\n",
       "      <td>1.0</td>\n",
       "      <td>1</td>\n",
       "      <td>1.0</td>\n",
       "      <td>6</td>\n",
       "      <td>1000</td>\n",
       "      <td>2800</td>\n",
       "      <td>nr</td>\n",
       "      <td>41</td>\n",
       "      <td>3841.0</td>\n",
       "      <td>64</td>\n",
       "      <td>269</td>\n",
       "      <td>128</td>\n",
       "      <td>38</td>\n",
       "      <td>flat</td>\n",
       "    </tr>\n",
       "    <tr>\n",
       "      <th>3</th>\n",
       "      <td>Porto Alegre</td>\n",
       "      <td>51.0</td>\n",
       "      <td>1.0</td>\n",
       "      <td>1</td>\n",
       "      <td>NaN</td>\n",
       "      <td>2</td>\n",
       "      <td>270</td>\n",
       "      <td>1112</td>\n",
       "      <td>22</td>\n",
       "      <td>17</td>\n",
       "      <td>1421.0</td>\n",
       "      <td>46</td>\n",
       "      <td>73</td>\n",
       "      <td>92</td>\n",
       "      <td>10</td>\n",
       "      <td>flat</td>\n",
       "    </tr>\n",
       "    <tr>\n",
       "      <th>4</th>\n",
       "      <td>São Paulo</td>\n",
       "      <td>25.0</td>\n",
       "      <td>1.0</td>\n",
       "      <td>1</td>\n",
       "      <td>NaN</td>\n",
       "      <td>1</td>\n",
       "      <td>0</td>\n",
       "      <td>800</td>\n",
       "      <td>25</td>\n",
       "      <td>11</td>\n",
       "      <td>836.0</td>\n",
       "      <td>1548</td>\n",
       "      <td>78</td>\n",
       "      <td>516</td>\n",
       "      <td>11</td>\n",
       "      <td>flat</td>\n",
       "    </tr>\n",
       "  </tbody>\n",
       "</table>\n",
       "</div>"
      ],
      "text/plain": [
       "           city   area  rooms  bathroom  parking spaces floor   hoa  rent  \\\n",
       "0     São Paulo   70.0    2.0         1             1.0     7  2065  3300   \n",
       "1     São Paulo  320.0    4.0         4             2.0    20  1200  4960   \n",
       "2  Porto Alegre   80.0    1.0         1             1.0     6  1000  2800   \n",
       "3  Porto Alegre   51.0    1.0         1             NaN     2   270  1112   \n",
       "4     São Paulo   25.0    1.0         1             NaN     1     0   800   \n",
       "\n",
       "    tax  insurance   total  page hits  days available  interactions  \\\n",
       "0   211         42  5618.0        324              23           108   \n",
       "1  1750         63  7973.0        720              78           240   \n",
       "2    nr         41  3841.0         64             269           128   \n",
       "3    22         17  1421.0         46              73            92   \n",
       "4    25         11   836.0       1548              78           516   \n",
       "\n",
       "   weeks available  type  \n",
       "0                3  flat  \n",
       "1               11  flat  \n",
       "2               38  flat  \n",
       "3               10  flat  \n",
       "4               11  flat  "
      ]
     },
     "execution_count": 21,
     "metadata": {},
     "output_type": "execute_result"
    }
   ],
   "source": [
    "import numpy as np\n",
    "import matplotlib.pyplot as plt\n",
    "import pandas as pd\n",
    "\n",
    "# https://www.kaggle.com/rubenssjr/brasilian-houses-to-rent\n",
    "data = pd.read_csv(\"./dados/houses_to_rent_mba2.csv\")\n",
    "data.head()"
   ]
  },
  {
   "cell_type": "code",
   "execution_count": 22,
   "metadata": {},
   "outputs": [
    {
     "data": {
      "text/plain": [
       "city                object\n",
       "area               float64\n",
       "rooms              float64\n",
       "bathroom             int64\n",
       "parking spaces     float64\n",
       "floor               object\n",
       "hoa                  int64\n",
       "rent                 int64\n",
       "tax                 object\n",
       "insurance            int64\n",
       "total              float64\n",
       "page hits            int64\n",
       "days available       int64\n",
       "interactions         int64\n",
       "weeks available      int64\n",
       "type                object\n",
       "dtype: object"
      ]
     },
     "execution_count": 22,
     "metadata": {},
     "output_type": "execute_result"
    }
   ],
   "source": [
    "data.dtypes"
   ]
  },
  {
   "cell_type": "markdown",
   "metadata": {},
   "source": [
    "Vamos visualizar dois atributos para estudar a distribuição dos dados"
   ]
  },
  {
   "cell_type": "code",
   "execution_count": 23,
   "metadata": {},
   "outputs": [
    {
     "data": {
      "text/plain": [
       "<AxesSubplot:>"
      ]
     },
     "execution_count": 23,
     "metadata": {},
     "output_type": "execute_result"
    },
    {
     "data": {
      "image/png": "[encoded data removed]",
      "text/plain": [
       "<Figure size 576x288 with 2 Axes>"
      ]
     },
     "metadata": {
      "needs_background": "light"
     },
     "output_type": "display_data"
    }
   ],
   "source": [
    "plt.figure(figsize=(8,4))\n",
    "plt.subplot(121); data.boxplot(['total'])\n",
    "plt.subplot(122); data.boxplot(['area'])"
   ]
  },
  {
   "cell_type": "markdown",
   "metadata": {},
   "source": [
    "### 1. Desvio padrão e amplitude inter-quartil (por dispersão)\n",
    "\n",
    "Para cada atributo, podemos estudar como os valores estão relacionados com a dispersão dos dados.\n",
    "\n",
    "Entre as medidas de dispersão temos:\n",
    "* desvio padrão amostral (*standard deviation*)\n",
    "* amplitude - ou intervalo - interquartil (IQR, *interquartile range*)\n",
    "    Sejam:\n",
    "    - $Q_{1}$ o valor relativo aos primeiros 25% dados,\n",
    "    - $Q_{2}$ o valor relativo aos primeiros 50% dados (mediana),\n",
    "    - $Q_{3}$ o valor relativo aos primeiros 75% dos dados,\n",
    "    \n",
    "    $$IQR = Q_{3} - Q_{1}$$\n",
    "\n",
    "Considerando que os dados são bem ajustados por uma distribuição normal (ou Gaussiana), podemos comparar o uso dessas medidas de dispersão como critério para detectar outliers.\n",
    "\n",
    "<img src=\"./imagens/IQR.png\" width=380>"
   ]
  },
  {
   "cell_type": "code",
   "execution_count": 24,
   "metadata": {},
   "outputs": [
    {
     "data": {
      "text/html": [
       "<div>\n",
       "<style scoped>\n",
       "    .dataframe tbody tr th:only-of-type {\n",
       "        vertical-align: middle;\n",
       "    }\n",
       "\n",
       "    .dataframe tbody tr th {\n",
       "        vertical-align: top;\n",
       "    }\n",
       "\n",
       "    .dataframe thead th {\n",
       "        text-align: right;\n",
       "    }\n",
       "</style>\n",
       "<table border=\"1\" class=\"dataframe\">\n",
       "  <thead>\n",
       "    <tr style=\"text-align: right;\">\n",
       "      <th></th>\n",
       "      <th>area</th>\n",
       "      <th>rooms</th>\n",
       "      <th>bathroom</th>\n",
       "      <th>parking spaces</th>\n",
       "      <th>hoa</th>\n",
       "      <th>rent</th>\n",
       "      <th>insurance</th>\n",
       "      <th>total</th>\n",
       "      <th>page hits</th>\n",
       "      <th>days available</th>\n",
       "      <th>interactions</th>\n",
       "      <th>weeks available</th>\n",
       "    </tr>\n",
       "  </thead>\n",
       "  <tbody>\n",
       "    <tr>\n",
       "      <th>count</th>\n",
       "      <td>11687.000000</td>\n",
       "      <td>11686.000000</td>\n",
       "      <td>11765.000000</td>\n",
       "      <td>8800.000000</td>\n",
       "      <td>1.176500e+04</td>\n",
       "      <td>11765.000000</td>\n",
       "      <td>11765.000000</td>\n",
       "      <td>1.176500e+04</td>\n",
       "      <td>11765.000000</td>\n",
       "      <td>11765.000000</td>\n",
       "      <td>11765.000000</td>\n",
       "      <td>11765.000000</td>\n",
       "    </tr>\n",
       "    <tr>\n",
       "      <th>mean</th>\n",
       "      <td>145.652691</td>\n",
       "      <td>2.496406</td>\n",
       "      <td>2.280408</td>\n",
       "      <td>2.181705</td>\n",
       "      <td>1.162632e+03</td>\n",
       "      <td>4033.429154</td>\n",
       "      <td>56.525032</td>\n",
       "      <td>5.622370e+03</td>\n",
       "      <td>593.139992</td>\n",
       "      <td>73.644454</td>\n",
       "      <td>228.023969</td>\n",
       "      <td>10.307012</td>\n",
       "    </tr>\n",
       "    <tr>\n",
       "      <th>std</th>\n",
       "      <td>288.676311</td>\n",
       "      <td>1.165594</td>\n",
       "      <td>1.445071</td>\n",
       "      <td>1.519448</td>\n",
       "      <td>1.486720e+04</td>\n",
       "      <td>3564.190560</td>\n",
       "      <td>97.487374</td>\n",
       "      <td>1.579576e+04</td>\n",
       "      <td>559.727661</td>\n",
       "      <td>35.725794</td>\n",
       "      <td>174.183959</td>\n",
       "      <td>5.101312</td>\n",
       "    </tr>\n",
       "    <tr>\n",
       "      <th>min</th>\n",
       "      <td>1.000000</td>\n",
       "      <td>1.000000</td>\n",
       "      <td>1.000000</td>\n",
       "      <td>1.000000</td>\n",
       "      <td>0.000000e+00</td>\n",
       "      <td>200.000000</td>\n",
       "      <td>3.000000</td>\n",
       "      <td>2.635000e+02</td>\n",
       "      <td>0.000000</td>\n",
       "      <td>0.000000</td>\n",
       "      <td>0.000000</td>\n",
       "      <td>0.000000</td>\n",
       "    </tr>\n",
       "    <tr>\n",
       "      <th>25%</th>\n",
       "      <td>56.000000</td>\n",
       "      <td>2.000000</td>\n",
       "      <td>1.000000</td>\n",
       "      <td>1.000000</td>\n",
       "      <td>1.600000e+02</td>\n",
       "      <td>1600.000000</td>\n",
       "      <td>22.000000</td>\n",
       "      <td>2.176000e+03</td>\n",
       "      <td>144.000000</td>\n",
       "      <td>51.000000</td>\n",
       "      <td>100.000000</td>\n",
       "      <td>7.000000</td>\n",
       "    </tr>\n",
       "    <tr>\n",
       "      <th>50%</th>\n",
       "      <td>91.000000</td>\n",
       "      <td>2.000000</td>\n",
       "      <td>2.000000</td>\n",
       "      <td>2.000000</td>\n",
       "      <td>5.610000e+02</td>\n",
       "      <td>2790.000000</td>\n",
       "      <td>37.000000</td>\n",
       "      <td>3.762000e+03</td>\n",
       "      <td>432.000000</td>\n",
       "      <td>72.000000</td>\n",
       "      <td>180.000000</td>\n",
       "      <td>10.000000</td>\n",
       "    </tr>\n",
       "    <tr>\n",
       "      <th>75%</th>\n",
       "      <td>190.000000</td>\n",
       "      <td>3.000000</td>\n",
       "      <td>3.000000</td>\n",
       "      <td>3.000000</td>\n",
       "      <td>1.300000e+03</td>\n",
       "      <td>5100.000000</td>\n",
       "      <td>70.000000</td>\n",
       "      <td>6.990000e+03</td>\n",
       "      <td>900.000000</td>\n",
       "      <td>93.000000</td>\n",
       "      <td>312.000000</td>\n",
       "      <td>13.000000</td>\n",
       "    </tr>\n",
       "    <tr>\n",
       "      <th>max</th>\n",
       "      <td>24606.000000</td>\n",
       "      <td>10.000000</td>\n",
       "      <td>25.000000</td>\n",
       "      <td>12.000000</td>\n",
       "      <td>1.117000e+06</td>\n",
       "      <td>45000.000000</td>\n",
       "      <td>6000.000000</td>\n",
       "      <td>1.119892e+06</td>\n",
       "      <td>6444.000000</td>\n",
       "      <td>358.000000</td>\n",
       "      <td>2148.000000</td>\n",
       "      <td>51.000000</td>\n",
       "    </tr>\n",
       "  </tbody>\n",
       "</table>\n",
       "</div>"
      ],
      "text/plain": [
       "               area         rooms      bathroom  parking spaces           hoa  \\\n",
       "count  11687.000000  11686.000000  11765.000000     8800.000000  1.176500e+04   \n",
       "mean     145.652691      2.496406      2.280408        2.181705  1.162632e+03   \n",
       "std      288.676311      1.165594      1.445071        1.519448  1.486720e+04   \n",
       "min        1.000000      1.000000      1.000000        1.000000  0.000000e+00   \n",
       "25%       56.000000      2.000000      1.000000        1.000000  1.600000e+02   \n",
       "50%       91.000000      2.000000      2.000000        2.000000  5.610000e+02   \n",
       "75%      190.000000      3.000000      3.000000        3.000000  1.300000e+03   \n",
       "max    24606.000000     10.000000     25.000000       12.000000  1.117000e+06   \n",
       "\n",
       "               rent     insurance         total     page hits  days available  \\\n",
       "count  11765.000000  11765.000000  1.176500e+04  11765.000000    11765.000000   \n",
       "mean    4033.429154     56.525032  5.622370e+03    593.139992       73.644454   \n",
       "std     3564.190560     97.487374  1.579576e+04    559.727661       35.725794   \n",
       "min      200.000000      3.000000  2.635000e+02      0.000000        0.000000   \n",
       "25%     1600.000000     22.000000  2.176000e+03    144.000000       51.000000   \n",
       "50%     2790.000000     37.000000  3.762000e+03    432.000000       72.000000   \n",
       "75%     5100.000000     70.000000  6.990000e+03    900.000000       93.000000   \n",
       "max    45000.000000   6000.000000  1.119892e+06   6444.000000      358.000000   \n",
       "\n",
       "       interactions  weeks available  \n",
       "count  11765.000000     11765.000000  \n",
       "mean     228.023969        10.307012  \n",
       "std      174.183959         5.101312  \n",
       "min        0.000000         0.000000  \n",
       "25%      100.000000         7.000000  \n",
       "50%      180.000000        10.000000  \n",
       "75%      312.000000        13.000000  \n",
       "max     2148.000000        51.000000  "
      ]
     },
     "execution_count": 24,
     "metadata": {},
     "output_type": "execute_result"
    }
   ],
   "source": [
    "# esses valores estão disponíveis via describe()\n",
    "data.describe()"
   ]
  },
  {
   "cell_type": "markdown",
   "metadata": {},
   "source": [
    "Pelo método do desvio padrão e IQR temos:\n",
    "\n",
    "#### variável total"
   ]
  },
  {
   "cell_type": "code",
   "execution_count": 25,
   "metadata": {},
   "outputs": [
    {
     "name": "stdout",
     "output_type": "stream",
     "text": [
      "mediana = 3762.00, IQR = 4814.00\n",
      "media   = 5622.37, desvio padrao = 15795.76\n"
     ]
    }
   ],
   "source": [
    "# selecionando segundo o total\n",
    "Q1 = data['total'].quantile(0.25)\n",
    "Q3 = data['total'].quantile(0.75)\n",
    "IQR = Q3 - Q1\n",
    "\n",
    "desvp = data['total'].std()\n",
    "media = data['total'].mean()\n",
    "mediana = data['total'].median()\n",
    "\n",
    "print(\"mediana = %.2f, IQR = %.2f\" % (mediana, IQR))\n",
    "print(\"media   = %.2f, desvio padrao = %.2f\" % (media, desvp))"
   ]
  },
  {
   "cell_type": "markdown",
   "metadata": {},
   "source": [
    "Detectando outliers segundo o **desvio padrão**"
   ]
  },
  {
   "cell_type": "code",
   "execution_count": 26,
   "metadata": {},
   "outputs": [],
   "source": [
    "# apenas outliers segundo std\n",
    "dataout_std = data[  (data['total'] < media-(desvp*2)) \n",
    "                   | (data['total'] > media+(desvp*2))]\n",
    "\n",
    "# apenas inliers segundo std\n",
    "dc_std = data[(data['total'] >= media-(desvp*2)) \n",
    "            & (data['total'] <= media+(desvp*2))]"
   ]
  },
  {
   "cell_type": "code",
   "execution_count": 27,
   "metadata": {},
   "outputs": [
    {
     "data": {
      "text/plain": [
       "<AxesSubplot:>"
      ]
     },
     "execution_count": 27,
     "metadata": {},
     "output_type": "execute_result"
    },
    {
     "data": {
      "image/png": "[encoded data removed]",
      "text/plain": [
       "<Figure size 576x288 with 2 Axes>"
      ]
     },
     "metadata": {
      "needs_background": "light"
     },
     "output_type": "display_data"
    }
   ],
   "source": [
    "plt.figure(figsize=(8,4))\n",
    "plt.subplot(121); dc_std.boxplot(['total'])\n",
    "plt.subplot(122); dc_std.boxplot(['area'])"
   ]
  },
  {
   "cell_type": "code",
   "execution_count": 28,
   "metadata": {},
   "outputs": [],
   "source": [
    "# apenas outliers segundo IQR\n",
    "dataout_iqr = data[   (data['total'] < Q1-(IQR*1.5)) \n",
    "                    | (data['total'] > Q3+(IQR*1.5))]\n",
    "\n",
    "# apenas inliers segundo IQR\n",
    "dc_iqr = data[(data['total'] >= Q1-(IQR*1.5)) \n",
    "            & (data['total'] <= Q3+(IQR*1.5))]"
   ]
  },
  {
   "cell_type": "code",
   "execution_count": 29,
   "metadata": {},
   "outputs": [
    {
     "name": "stdout",
     "output_type": "stream",
     "text": [
      "\tDesvio Padrao\tIQR\n",
      "              total         total\n",
      "count  11758.000000  11068.000000\n",
      "mean    5356.795348   4557.751599\n",
      "std     4566.356503   3233.790034\n",
      "min      263.500000    263.500000\n",
      "25%     2173.250000   2092.000000\n",
      "50%     3760.000000   3544.500000\n",
      "75%     6990.000000   6230.000000\n",
      "max    32751.000000  14199.000000\n"
     ]
    }
   ],
   "source": [
    "print('\\tDesvio Padrao\\tIQR')\n",
    "print(pd.concat([dc_std['total'].describe(), dc_iqr['total'].describe()],axis=1))"
   ]
  },
  {
   "cell_type": "code",
   "execution_count": 30,
   "metadata": {},
   "outputs": [
    {
     "data": {
      "text/plain": [
       "<AxesSubplot:>"
      ]
     },
     "execution_count": 30,
     "metadata": {},
     "output_type": "execute_result"
    },
    {
     "data": {
      "image/png": "[encoded data removed]",
      "text/plain": [
       "<Figure size 576x288 with 2 Axes>"
      ]
     },
     "metadata": {
      "needs_background": "light"
     },
     "output_type": "display_data"
    }
   ],
   "source": [
    "plt.figure(figsize=(8,4))\n",
    "plt.subplot(121); dc_iqr.boxplot(['total'])\n",
    "plt.subplot(122); dc_iqr.boxplot(['area'])"
   ]
  },
  {
   "cell_type": "markdown",
   "metadata": {},
   "source": [
    "### Escrevendo uma função para remoção de outliers segundo o IQR"
   ]
  },
  {
   "cell_type": "code",
   "execution_count": 31,
   "metadata": {},
   "outputs": [],
   "source": [
    "def remove_outliers_IQR(df, attributes, factor=1.5):\n",
    "    \"\"\"Funcao para remover outliers com base no IQR\n",
    "    Parametros:\n",
    "        - df : dataframe\n",
    "        - attributes: atributos a considerar na remoção\n",
    "        - factor: fator do IQR a considerar\n",
    "    Retorno:\n",
    "        dataframe com os outliers removidos\n",
    "    \"\"\"\n",
    "    dfn = df.copy()\n",
    "    \n",
    "    for var in attributes:\n",
    "        # verifica se variável é numerica\n",
    "        if np.issubdtype(df[var].dtype, np.number):\n",
    "            Q1 = dfn[var].quantile(0.25)\n",
    "            #Q2 = dfn[var].quantile(0.50)\n",
    "            Q3 = dfn[var].quantile(0.75)\n",
    "            IQR = Q3 - Q1\n",
    "            \n",
    "            # apenas inliers segundo IQR\n",
    "            dfn = dfn.loc[(df[var] >= Q1-(IQR*factor)) & (df[var] <= Q3+(IQR*factor)),:]\n",
    "\n",
    "    return dfn"
   ]
  },
  {
   "cell_type": "code",
   "execution_count": 40,
   "metadata": {},
   "outputs": [],
   "source": [
    "dc = remove_outliers_IQR(data, data.columns, factor=3.0)"
   ]
  },
  {
   "cell_type": "markdown",
   "metadata": {},
   "source": [
    "**Nota:** <font color=\"blue\">Reparamos que, além de \"city\", também \"floor\", \"tax\" e \"type\" não são considerados numéricos. Há algo a ser investigado se esses atributos forem ser utilizados!</font>"
   ]
  },
  {
   "cell_type": "code",
   "execution_count": 41,
   "metadata": {
    "scrolled": true
   },
   "outputs": [
    {
     "data": {
      "text/plain": [
       "Text(0.5, 1.0, 'Apos remocao de outliers')"
      ]
     },
     "execution_count": 41,
     "metadata": {},
     "output_type": "execute_result"
    },
    {
     "data": {
      "image/png": "[encoded data removed]",
      "text/plain": [
       "<Figure size 648x288 with 2 Axes>"
      ]
     },
     "metadata": {
      "needs_background": "light"
     },
     "output_type": "display_data"
    }
   ],
   "source": [
    "plt.figure(figsize=(9,4))\n",
    "plt.subplot(121); data.boxplot(['total'])\n",
    "plt.title('Original')\n",
    "\n",
    "plt.subplot(122); dc.boxplot(['total']); \n",
    "plt.title('Apos remocao de outliers')"
   ]
  },
  {
   "cell_type": "code",
   "execution_count": 42,
   "metadata": {},
   "outputs": [
    {
     "data": {
      "text/plain": [
       "Text(0.5, 1.0, 'Apos remocao de outliers')"
      ]
     },
     "execution_count": 42,
     "metadata": {},
     "output_type": "execute_result"
    },
    {
     "data": {
      "image/png": "[encoded data removed]",
      "text/plain": [
       "<Figure size 648x288 with 2 Axes>"
      ]
     },
     "metadata": {
      "needs_background": "light"
     },
     "output_type": "display_data"
    }
   ],
   "source": [
    "plt.figure(figsize=(9,4))\n",
    "plt.subplot(121); data.boxplot(['area'])\n",
    "plt.title('Original')\n",
    "\n",
    "plt.subplot(122); dc.boxplot(['area']); \n",
    "plt.title('Apos remocao de outliers')"
   ]
  },
  {
   "cell_type": "code",
   "execution_count": 43,
   "metadata": {},
   "outputs": [
    {
     "name": "stdout",
     "output_type": "stream",
     "text": [
      "Dados originais:  11765\n",
      "Após remoção de outliers:  8242\n"
     ]
    }
   ],
   "source": [
    "print(\"Dados originais: \", data.shape[0])\n",
    "print(\"Após remoção de outliers: \", dc.shape[0])"
   ]
  },
  {
   "cell_type": "markdown",
   "metadata": {},
   "source": [
    "### 2. Distribuição dos dados (distribuição Normal)\n",
    "\n",
    "Podemos assumir que os dados possuem uma distribuição de probabilidade conhecida.\n",
    "\n",
    "Assim temos um algoritmo que:\n",
    "1. Estima os parâmetros da distribuição\n",
    "2. Para cada ponto, computa a probabilidade $p$ de pertencer à distribuição\n",
    "    1. se $p < \\varepsilon$, considerar o ponto como outlier\n",
    "    2. senão, o ponto é inlier\n",
    "    \n",
    "$\\varepsilon$ é um limiar (threshold) pré-definido, exemplo: 0.01 (1%)\n",
    "\n",
    "Vamos utilizar a distribuição Normal ou Gaussiana, mas outras podem ser também utilizadas.\n",
    "\n",
    "#### Normal univariada\n",
    "\n",
    "A distribuição Normal (ou Gaussiana) univariada (para uma única variável) é parametrizada por: média (centralidade) e variância (dispersão).\n",
    "* isso significa que os dados podem ser completamente descritos por esses dois valores.\n",
    "\n",
    "Escrevemos que um conjunto de dados é bem modelado por uma Gaussiana:\n",
    "    $$X \\sim \\mathcal{N}(\\mu, \\sigma^2)$$\n",
    " \n",
    "A equação que define a distribuição Gaussiana é dada por uma exponencial negativa conforme se afasta de um ponto médio $\\mu$:\n",
    "\n",
    "$$e^{-\\frac{(x-\\mu)^2}{2\\sigma^2}}$$"
   ]
  },
  {
   "cell_type": "code",
   "execution_count": 44,
   "metadata": {},
   "outputs": [
    {
     "name": "stdout",
     "output_type": "stream",
     "text": [
      "(100,)\n",
      "[0.  0.1 0.2 0.3 0.4 0.5 0.6 0.7 0.8 0.9 1.  1.1 1.2 1.3 1.4]\n"
     ]
    }
   ],
   "source": [
    "mu = 5 # média = 5\n",
    "s2 = 1 # variancia = 1\n",
    "x = np.arange(0, 10.00, 0.1)\n",
    "print(x.shape)\n",
    "print(x[:15])"
   ]
  },
  {
   "cell_type": "code",
   "execution_count": 45,
   "metadata": {},
   "outputs": [
    {
     "data": {
      "text/plain": [
       "[<matplotlib.lines.Line2D at 0x7fc0c1252650>]"
      ]
     },
     "execution_count": 45,
     "metadata": {},
     "output_type": "execute_result"
    },
    {
     "data": {
      "image/png": "[encoded data removed]",
      "text/plain": [
       "<Figure size 432x288 with 1 Axes>"
      ]
     },
     "metadata": {
      "needs_background": "light"
     },
     "output_type": "display_data"
    }
   ],
   "source": [
    "termo_gauss = np.exp(-((x-mu)**2/(2*s2)))\n",
    "plt.plot(x,termo_gauss)"
   ]
  },
  {
   "cell_type": "markdown",
   "metadata": {},
   "source": [
    "\n",
    "A probabilidade de um determinado ponto $x$ pertencer à $X$ é dada por:\n",
    "\n",
    "$$p(x; \\mu, \\sigma^2) = \\frac{1}{\\sqrt{2\\pi} \\sigma} e^{-\\frac{(x-\\mu)^2}{2\\sigma^2}}$$\n",
    "\n",
    "Esse termo que multiplica a exponencial é para *normalizar* os valores de forma a somar 1, pois isso é **requerido para que consideremos uma distribuição de probabilidade**.\n",
    "* a soma de todas as probabilidades tem que ser 1 (100%)"
   ]
  },
  {
   "cell_type": "code",
   "execution_count": 46,
   "metadata": {},
   "outputs": [
    {
     "data": {
      "text/plain": [
       "[<matplotlib.lines.Line2D at 0x7fc0c12ad840>]"
      ]
     },
     "execution_count": 46,
     "metadata": {},
     "output_type": "execute_result"
    },
    {
     "data": {
      "image/png": "[encoded data removed]",
      "text/plain": [
       "<Figure size 432x288 with 1 Axes>"
      ]
     },
     "metadata": {
      "needs_background": "light"
     },
     "output_type": "display_data"
    }
   ],
   "source": [
    "dist_gauss = np.exp(-(((x-mu)**2)/(2*s2)))/(np.sqrt(2*np.pi*s2))\n",
    "plt.plot(x,dist_gauss)"
   ]
  },
  {
   "cell_type": "markdown",
   "metadata": {},
   "source": [
    "Vamos analisar um dos atributos, \"weeks available\" (semanas disponível), primeiro visualizando quantos valores distintos existem e o histograma"
   ]
  },
  {
   "cell_type": "code",
   "execution_count": 47,
   "metadata": {},
   "outputs": [
    {
     "data": {
      "text/plain": [
       "50"
      ]
     },
     "execution_count": 47,
     "metadata": {},
     "output_type": "execute_result"
    }
   ],
   "source": [
    "data['weeks available'].nunique()"
   ]
  },
  {
   "cell_type": "code",
   "execution_count": 48,
   "metadata": {},
   "outputs": [
    {
     "data": {
      "image/png": "[encoded data removed]",
      "text/plain": [
       "<Figure size 432x288 with 1 Axes>"
      ]
     },
     "metadata": {
      "needs_background": "light"
     },
     "output_type": "display_data"
    }
   ],
   "source": [
    "hw = plt.hist(data['weeks available'], bins=50)"
   ]
  },
  {
   "cell_type": "markdown",
   "metadata": {},
   "source": [
    "Notamos que o atributo parece ter o formato de uma Gaussiana, então vamos aplicar o algoritmo.\n",
    "\n",
    "Vamos projetar uma função, mas agora que retorne os índices dos prováveis outliers"
   ]
  },
  {
   "cell_type": "code",
   "execution_count": 49,
   "metadata": {},
   "outputs": [],
   "source": [
    "def detect_outlier_Normal(attribute, epsilon=0.001, plotdist=False):\n",
    "    \"\"\"Funcao para detectar outliers com base na distribuicao Gaussiana univariada\n",
    "    Parametros:\n",
    "        - attribute: vetor de atributos/features\n",
    "        - epsilon: limiar para rejeitar pontos como pertencendo a distribuicao (default:0.001)\n",
    "        - plotdist: opcao que permite grafar a distribuicao com os parametros estimados\n",
    "    Retorno:\n",
    "        vetor com os índices dos outliers detectados\n",
    "    \"\"\"\n",
    "    mean = np.mean(attribute)\n",
    "    stdv  = np.std(attribute)\n",
    "        \n",
    "    # array vazio\n",
    "    outliers = []\n",
    "    # para cada atributo\n",
    "    for x,i in zip(attribute, range(0,len(attribute))):\n",
    "        # computa probabilidade\n",
    "        p_x = np.exp(-(((x-mean)**2)/(2*stdv**2))) / (np.sqrt(2*np.pi)*stdv)\n",
    "        # limiar para considerar outlier\n",
    "        if (p_x < epsilon):\n",
    "            outliers.append(i)\n",
    "            \n",
    "    outliers = np.array(outliers)\n",
    "    \n",
    "    # opcao para plotar a distribuicao marcando outliers\n",
    "    if plotdist:\n",
    "        x = np.arange(int(mean-4*stdv),int(mean+4*stdv),stdv/100.0)\n",
    "        dist_gauss = np.exp(-(((x-mean)**2)/(2*(stdv**2)))) / (np.sqrt(2*np.pi)*stdv)\n",
    "        plt.figure()\n",
    "        plt.plot(x, dist_gauss)\n",
    "        plt.plot(attribute[outliers], np.zeros(outliers.shape[0]), 'xr')\n",
    "    \n",
    "    return outliers"
   ]
  },
  {
   "cell_type": "code",
   "execution_count": 52,
   "metadata": {},
   "outputs": [
    {
     "data": {
      "image/png": "[encoded data removed]",
      "text/plain": [
       "<Figure size 432x288 with 1 Axes>"
      ]
     },
     "metadata": {
      "needs_background": "light"
     },
     "output_type": "display_data"
    }
   ],
   "source": [
    "outl = detect_outlier_Normal(data['weeks available'], epsilon=0.0001, plotdist=True)"
   ]
  },
  {
   "cell_type": "code",
   "execution_count": 53,
   "metadata": {},
   "outputs": [
    {
     "name": "stdout",
     "output_type": "stream",
     "text": [
      "2        38\n",
      "15       42\n",
      "68       30\n",
      "69       32\n",
      "100      47\n",
      "         ..\n",
      "10964    36\n",
      "11373    47\n",
      "11575    41\n",
      "11706    47\n",
      "11727    33\n",
      "Name: weeks available, Length: 98, dtype: int64\n"
     ]
    }
   ],
   "source": [
    "print(data.loc[outl,'weeks available'])"
   ]
  },
  {
   "cell_type": "code",
   "execution_count": 54,
   "metadata": {},
   "outputs": [],
   "source": [
    "weeks_remout = np.delete(data['weeks available'].values, outl, axis=0)"
   ]
  },
  {
   "cell_type": "markdown",
   "metadata": {},
   "source": [
    "Após a remoção a distribuição dos dados é:"
   ]
  },
  {
   "cell_type": "code",
   "execution_count": 55,
   "metadata": {},
   "outputs": [
    {
     "data": {
      "image/png": "[encoded data removed]",
      "text/plain": [
       "<Figure size 432x288 with 1 Axes>"
      ]
     },
     "metadata": {
      "needs_background": "light"
     },
     "output_type": "display_data"
    }
   ],
   "source": [
    "hw2 = plt.hist(weeks_remout, bins=28)"
   ]
  },
  {
   "cell_type": "code",
   "execution_count": 56,
   "metadata": {},
   "outputs": [
    {
     "data": {
      "image/png": "[encoded data removed]",
      "text/plain": [
       "<Figure size 432x288 with 1 Axes>"
      ]
     },
     "metadata": {
      "needs_background": "light"
     },
     "output_type": "display_data"
    }
   ],
   "source": [
    "hw = plt.hist(data['weeks available'], bins=50)"
   ]
  },
  {
   "cell_type": "markdown",
   "metadata": {},
   "source": [
    "### 3. Agrupamento\n",
    "\n",
    "Outra técnica consiste em utilizar aprendizado não-supervisionado, inferindo agrupamentos e verificando se há pontos isolados em certos grupos.\n",
    "\n",
    "Vamos considerar um par de atributos para considerar ao *mesmo tempo*: `rent` e `hoa`\n",
    "\n",
    "O método utilizado será o DBSCAN - *Density-Based Spatial Clustering of Applications with Noise*, mas outros também podem ser empregados na mesma lógica:\n",
    "* agrupamentos (clusters) isolados com poucos pontos tendem a indicar outliers"
   ]
  },
  {
   "cell_type": "code",
   "execution_count": 57,
   "metadata": {},
   "outputs": [
    {
     "name": "stdout",
     "output_type": "stream",
     "text": [
      "Número de grupos estimado: 62\n",
      "Número de outliers estimados: 121\n"
     ]
    },
    {
     "data": {
      "image/png": "[encoded data removed]",
      "text/plain": [
       "<Figure size 432x288 with 1 Axes>"
      ]
     },
     "metadata": {
      "needs_background": "light"
     },
     "output_type": "display_data"
    }
   ],
   "source": [
    "from sklearn.cluster import DBSCAN\n",
    "\n",
    "X1 = np.array(dc['rent'])\n",
    "X2 = np.array(dc['hoa'])\n",
    "X = np.vstack((X1,X2)).T\n",
    "\n",
    "# aprende o agrupamento com DBSCAN\n",
    "# argumentos: \n",
    "#    eps = distancia máxima para dois pontos serem considerados vizinhos\n",
    "#        (depende bastante da amplitude dos atributos)\n",
    "#    min_samples = minimo de exemplos numa vizinhanca para considerar um \n",
    "#               agrupamento\n",
    "db = DBSCAN(eps = 200, min_samples=3).fit(X)\n",
    "clusters = db.labels_\n",
    "\n",
    "# número de rótulos -1 sao considerados ruidosos\n",
    "# vamos considerá-los como outliers\n",
    "n_outl_ = list(clusters).count(-1)\n",
    "# fora os outliers, quantos clusters foram encontrados:\n",
    "n_clusters_ = len(set(clusters)) - (1 if -1 in clusters else 0)\n",
    "# índices dos outliers\n",
    "outl_ind = np.where(clusters==-1)\n",
    "\n",
    "print('Número de grupos estimado: %d' % n_clusters_)\n",
    "print('Número de outliers estimados: %d' % n_outl_)\n",
    "\n",
    "plt.plot(X1, X2,'.')\n",
    "plt.plot(X1[outl_ind], X2[outl_ind],'xr')\n",
    "plt.show()"
   ]
  },
  {
   "cell_type": "markdown",
   "metadata": {},
   "source": [
    "### Resumo e considerações finais\n",
    "\n",
    "* É possível projetar métodos automáticos para detectar anomalias em bases de dados maiores e mais complexas.\n",
    "\n",
    "\n",
    "* Nessa aula vimos métodos estatísticos e baseados em aprendizado não-supervisionado.\n",
    "\n",
    "\n",
    "* Há ainda métodos projetados exclusivamente para detectar anomalias, que também podem ser utilizados. \n",
    "    * Esses métodos consideram diferentes embasamentos teóricos, \n",
    "    * a maior parte considera que será feito um treinamento com dados não contaminados.\n",
    "    * podem ser utilizadas para realizar o que é chamado de *detecção de novidades*: reconhecer se um novo ponto é um outlier dado um conjunto de treinamento sem outliers\n",
    "    \n",
    "\n",
    "* Para tratar bases de dados, combinar métodos automáticos com análise exploratória é importante\n",
    "    * produzir um relatório inicial com os problemas levantados e então buscar conhecimento do domínio para entender os dados em mãos\n",
    "    \n",
    "    \n",
    "* Estratégia para melhor controle da remoção dos outliers\n",
    "    * Ao checar a base de dados, passando por todos os atributos para verificação de outliers, uma opção interessante é criar uma coluna de marcação, em que cada linha é marcada com `True` ou `1` se for encontrado outlier em alguma coluna. Ao final, depois que todas as colunas tiverem sido verificadas, realizar a remoção das linhas indesejadas."
   ]
  }
 ],
 "metadata": {
  "kernelspec": {
   "display_name": "Python 3 (ipykernel)",
   "language": "python",
   "name": "python3"
  },
  "language_info": {
   "codemirror_mode": {
    "name": "ipython",
    "version": 3
   },
   "file_extension": ".py",
   "mimetype": "text/x-python",
   "name": "python",
   "nbconvert_exporter": "python",
   "pygments_lexer": "ipython3",
   "version": "3.10.2"
  }
 },
 "nbformat": 4,
 "nbformat_minor": 4
}
