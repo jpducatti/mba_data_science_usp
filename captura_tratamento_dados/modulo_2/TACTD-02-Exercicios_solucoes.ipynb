{
 "cells": [
  {
   "cell_type": "markdown",
   "metadata": {},
   "source": [
    "# MBA em Ciência de Dados\n",
    "# Técnicas Avançadas de Captura e Tratamento de Dados\n",
    "\n",
    "### <span style=\"color:darkred\">Módulo II - Tratamento e limpeza de dados</span>\n",
    "\n",
    "\n",
    "### <span style=\"color:darkred\">Exercícios - com soluções</span>\n",
    "\n",
    "Moacir Antonelli Ponti\n",
    "\n",
    "CeMEAI - ICMC/USP São Carlos\n",
    "\n",
    "---\n",
    "\n",
    "#### <span style=\"color:red\">Recomenda-se fortemente que os exercícios sejam feitos sem consultar as respostas antecipadamente.</span>\n",
    "\n",
    "---"
   ]
  },
  {
   "cell_type": "code",
   "execution_count": 18,
   "metadata": {},
   "outputs": [],
   "source": [
    "# carregando as bibliotecas necessárias\n",
    "import numpy as np\n",
    "import matplotlib.pyplot as plt\n",
    "import pandas as pd\n",
    "\n",
    "from sklearn.svm import SVC\n",
    "from sklearn.linear_model import Ridge\n",
    "from sklearn import metrics\n",
    "\n",
    "# carregando dados\n",
    "data = pd.read_csv(\"./dados/houses_to_rent_mba4.csv\")"
   ]
  },
  {
   "cell_type": "markdown",
   "metadata": {},
   "source": [
    "A base de dados a ser utilizada durante todos os exercícios é `houses_to_rent_mba4.csv`.\n",
    "\n",
    "As alterações feitas em um exercício devem ser mantidas para o próximo exercício, a não ser que expressamente indicado"
   ]
  },
  {
   "cell_type": "markdown",
   "metadata": {},
   "source": [
    "---\n",
    "\n",
    "### Exercício 1)\n",
    "\n",
    "Inspecione o tipo dos atributos e seus valores, em particular, `city` e `country`. A seguir padronize valores dos atributos do tipo `object` que apareçam como distintos mas que deveriam ser os mesmos. Considere para a correção o valor mais frequente nesse atributo. Por exemplo: se tivermos escrito a seguinte sigla em 3 formas diferentes: `ICMC` (11 ocorrencias), `Icmc` (3 ocorrências), `I.C.M.C.` (2 ocorrências), todas devem ser convertidas para `ICMC`\n",
    "\n",
    "Quantas linhas relativas a valores da coluna `city` e `country`, respectivamente, estavam fora do padrão e foram corrigidas?\n",
    "\n",
    "(a) 49 e 2<br>\n",
    "<font color='red'>(b) 48 e 4<br></font>\n",
    "(c) 50 e 9<br>\n",
    "(d) 48 e 54<br>\n"
   ]
  },
  {
   "cell_type": "code",
   "execution_count": 19,
   "metadata": {},
   "outputs": [
    {
     "name": "stdout",
     "output_type": "stream",
     "text": [
      "Unnamed: 0 : int64, intervalo: 0 , 11767\n",
      "city : object\n",
      "\t 7 distintos: ['São Paulo' 'Porto Alegre' 'Rio de Janeiro' 'Campinas' 'Belo Horizonte'\n",
      " 'Brotas' 'Sao Paulo']\n",
      "area : float64, intervalo: 1.0 , 24606.0\n",
      "rooms : float64, intervalo: 1.0 , 10.0\n",
      "bathroom : int64, intervalo: 1 , 25\n",
      "parking spaces : float64, intervalo: 1.0 , 12.0\n",
      "floor : object\n",
      "\t 38 distintos: ['7' '20' '6' '2' '1' '-' '4' '3' '10' '11' '24' '0' '9' '8' '--' '17'\n",
      " '18' '5' '13' '15' nan '16' '14' '26' '21' '12' '19' '22' '27' '23' '35'\n",
      " '110' '25' '46' '28' '32' '29' '301' '51']\n",
      "hoa : int64, intervalo: 0 , 1117000\n",
      "rent : int64, intervalo: 200 , 45000\n",
      "tax : object\n",
      "\t 1230 distintos: ['211' '1750' 'nr' ... '1737' '858' '2110']\n",
      "insurance : int64, intervalo: 3 , 6000\n",
      "total : float64, intervalo: 263.5 , 1119892.0\n",
      "page hits : object\n",
      "\t 290 distintos: ['324' '720' '64' '46' '1548' '396' '240' '756' '2412' '828' '184' '360'\n",
      " '540' '1044' '88' '96' '112' '180' '1476' '186' '648' '416' '432' '60'\n",
      " '40' '900' '1440' '528' '20' '1116' '90' '684' '14' '792' '102' '42'\n",
      " '1152' '24' '140' '56' '176' '144' '1260' '1080' '216' '92' '576' '936'\n",
      " '896' '1296' '32' '228' '816' '52' '104' '148' '204' '320' '48' '108'\n",
      " '352' '504' '8' '36' '1764' '468' '972' '34' '54' '864' '62' '4968' 'x'\n",
      " '1008' '1800' '1512' '612' '1332' '1584' '76' '44' '26' '272' '116' '78'\n",
      " '384' '136' '132' '672' '252' '1224' '336' '912' '512' '152' '1692' '16'\n",
      " '1944' '84' '1404' '2520' '50' '3348' '66' '150' '192' '288' '256' '2808'\n",
      " '72' '1980' '208' '224' '282' '18' '172' '126' '3060' '1264' '366' '304'\n",
      " '156' '128' '1620' '134' '4' '114' '354' '448' '68' '544' '1188' '1908'\n",
      " '2088' '58' '496' '162' '100' '124' '86' '258' '2484' '1656' '348' '6'\n",
      " '1836' '1872' '138' '38' '2592' '70' '196' '372' '624' '120' '28' '22'\n",
      " '264' '174' '12' '688' '2376' '80' '1368' '118' '94' '270' '2268' '294'\n",
      " '480' '198' '330' '2772' '464' '306' '1728' '832' '2016' '2448' '98'\n",
      " '160' '164' '82' '2160' '752' '2736' '2556' '276' '368' '210' '30' '246'\n",
      " '704' '2196' '848' '168' '122' '1024' '800' '2340' '3708' '1088' '2124'\n",
      " '608' '784' '300' '312' '6444' '944' '74' '1040' '2304' '2988' '10' '390'\n",
      " '1072' '200' '400' '656' '2916' '2052' '2' '976' '248' '318' '1184' '768'\n",
      " '640' '928' '110' '220' '592' '560' '146' '2232' '280' '234' '222' '736'\n",
      " '2700' '408' '244' '492' '4644' '106' '660' '3420' '378' '4464' '1056'\n",
      " '130' '4068' '880' '260' '6156' '992' '142' '236' '2844' '556' '510'\n",
      " '342' '1280' '438' '3096' '402' '960' '1104' '1744' '170' '450' '5040'\n",
      " '2064' '3492' '3204' '3168' '284' '1168' '420' '2628' '4932' '582' '1200'\n",
      " '188' '486' '232' '2880' '268' '414' '3456']\n",
      "days available : int64, intervalo: 0 , 400\n",
      "interactions : int64, intervalo: 0 , 2148\n",
      "weeks available : int64, intervalo: 0 , 58\n",
      "type : object\n",
      "\t 2 distintos: ['flat' 'house']\n",
      "country : object\n",
      "\t 3 distintos: ['Brazil' 'Brasil' 'BR']\n"
     ]
    }
   ],
   "source": [
    "def verifica_atributos(df):\n",
    "    for var in df:\n",
    "        # imprime variavel e seu tipo\n",
    "        print(var,\":\", df[var].dtype.name, end=\"\")\n",
    "        # se nao numérico\n",
    "        if not np.issubdtype(df[var].dtype, np.number):\n",
    "            print(\"\\n\\t\",df[var].nunique(), \"distintos: \", end=\"\")\n",
    "            print(df[var].unique())\n",
    "        else:\n",
    "            print(\", intervalo: \",end=\"\")\n",
    "            print(df[var].min(), \",\", df[var].max())\n",
    "\n",
    "verifica_atributos(data)"
   ]
  },
  {
   "cell_type": "markdown",
   "metadata": {},
   "source": [
    "Os atributos cidade e país possuem dados não padronizados. Veremos os mais frequentes para substituir."
   ]
  },
  {
   "cell_type": "code",
   "execution_count": 20,
   "metadata": {},
   "outputs": [
    {
     "data": {
      "text/plain": [
       "São Paulo         7098\n",
       "Rio de Janeiro    1452\n",
       "Belo Horizonte    1199\n",
       "Porto Alegre      1148\n",
       "Campinas           816\n",
       "Sao Paulo           48\n",
       "Brotas               7\n",
       "Name: city, dtype: int64"
      ]
     },
     "execution_count": 20,
     "metadata": {},
     "output_type": "execute_result"
    }
   ],
   "source": [
    "data[\"city\"].value_counts()"
   ]
  },
  {
   "cell_type": "code",
   "execution_count": 21,
   "metadata": {},
   "outputs": [
    {
     "data": {
      "text/plain": [
       "Brazil    11764\n",
       "Brasil        2\n",
       "BR            2\n",
       "Name: country, dtype: int64"
      ]
     },
     "execution_count": 21,
     "metadata": {},
     "output_type": "execute_result"
    }
   ],
   "source": [
    "data[\"country\"].value_counts()"
   ]
  },
  {
   "cell_type": "code",
   "execution_count": 22,
   "metadata": {},
   "outputs": [],
   "source": [
    "# padronizando\n",
    "data.loc[data['city']=='Sao Paulo','city'] = 'São Paulo'\n",
    "data.loc[data['country']!='Brazil','country'] = 'Brazil'"
   ]
  },
  {
   "cell_type": "code",
   "execution_count": 23,
   "metadata": {},
   "outputs": [
    {
     "data": {
      "text/plain": [
       "São Paulo         7146\n",
       "Rio de Janeiro    1452\n",
       "Belo Horizonte    1199\n",
       "Porto Alegre      1148\n",
       "Campinas           816\n",
       "Brotas               7\n",
       "Name: city, dtype: int64"
      ]
     },
     "execution_count": 23,
     "metadata": {},
     "output_type": "execute_result"
    }
   ],
   "source": [
    "data[\"city\"].value_counts()"
   ]
  },
  {
   "cell_type": "code",
   "execution_count": 24,
   "metadata": {
    "scrolled": true
   },
   "outputs": [
    {
     "data": {
      "text/plain": [
       "Brazil    11768\n",
       "Name: country, dtype: int64"
      ]
     },
     "execution_count": 24,
     "metadata": {},
     "output_type": "execute_result"
    }
   ],
   "source": [
    "data[\"country\"].value_counts()"
   ]
  },
  {
   "cell_type": "markdown",
   "metadata": {},
   "source": [
    "---\n",
    "\n",
    "### Exercício 2)\n",
    "\n",
    "Inspecione os valores dos atributos `floor` e `tax`, realizando a conversão dos mesmos para o tipo adequado. Para evitar gerar dados faltantes desnecessariamente, verifique primeiro o padrão dos dados errôneos e faltantes, e se possível preencha corretamente alguns desses valores (conforme feito em aula para o atributo `floor`).\n",
    "\n",
    "OBS: uma forma de inspecionar valores de uma coluna do tipo `object` que podem ser convertidos para dígitos numéricos é executar `dataframe[atributo].astype(str).str.isnumeric()`\n",
    "\n",
    "Após esse processo, quandos valores faltantes restaram em `floor` e `tax`, respectivamente?\n",
    "\n",
    "<font color='red'>(a) 13 e 6<br></font>\n",
    "(b) 78 e 9<br>\n",
    "(c) 5 e 6<br>\n",
    "(d) 9 e 13<br>"
   ]
  },
  {
   "cell_type": "code",
   "execution_count": 25,
   "metadata": {},
   "outputs": [
    {
     "name": "stdout",
     "output_type": "stream",
     "text": [
      "['-' '--' nan]\n"
     ]
    }
   ],
   "source": [
    "# inspecionando valores de floor\n",
    "print(data.loc[~data['floor'].astype(str).str.isnumeric(), 'floor'].unique())"
   ]
  },
  {
   "cell_type": "code",
   "execution_count": 26,
   "metadata": {},
   "outputs": [
    {
     "data": {
      "text/html": [
       "<div>\n",
       "<style scoped>\n",
       "    .dataframe tbody tr th:only-of-type {\n",
       "        vertical-align: middle;\n",
       "    }\n",
       "\n",
       "    .dataframe tbody tr th {\n",
       "        vertical-align: top;\n",
       "    }\n",
       "\n",
       "    .dataframe thead th {\n",
       "        text-align: right;\n",
       "    }\n",
       "</style>\n",
       "<table border=\"1\" class=\"dataframe\">\n",
       "  <thead>\n",
       "    <tr style=\"text-align: right;\">\n",
       "      <th></th>\n",
       "      <th>floor</th>\n",
       "      <th>type</th>\n",
       "    </tr>\n",
       "  </thead>\n",
       "  <tbody>\n",
       "    <tr>\n",
       "      <th>5</th>\n",
       "      <td>-</td>\n",
       "      <td>house</td>\n",
       "    </tr>\n",
       "    <tr>\n",
       "      <th>15</th>\n",
       "      <td>0</td>\n",
       "      <td>house</td>\n",
       "    </tr>\n",
       "    <tr>\n",
       "      <th>19</th>\n",
       "      <td>-</td>\n",
       "      <td>house</td>\n",
       "    </tr>\n",
       "    <tr>\n",
       "      <th>20</th>\n",
       "      <td>--</td>\n",
       "      <td>house</td>\n",
       "    </tr>\n",
       "    <tr>\n",
       "      <th>23</th>\n",
       "      <td>-</td>\n",
       "      <td>house</td>\n",
       "    </tr>\n",
       "    <tr>\n",
       "      <th>...</th>\n",
       "      <td>...</td>\n",
       "      <td>...</td>\n",
       "    </tr>\n",
       "    <tr>\n",
       "      <th>11763</th>\n",
       "      <td>-</td>\n",
       "      <td>house</td>\n",
       "    </tr>\n",
       "    <tr>\n",
       "      <th>11764</th>\n",
       "      <td>-</td>\n",
       "      <td>house</td>\n",
       "    </tr>\n",
       "    <tr>\n",
       "      <th>11765</th>\n",
       "      <td>0</td>\n",
       "      <td>house</td>\n",
       "    </tr>\n",
       "    <tr>\n",
       "      <th>11766</th>\n",
       "      <td>0</td>\n",
       "      <td>house</td>\n",
       "    </tr>\n",
       "    <tr>\n",
       "      <th>11767</th>\n",
       "      <td>0</td>\n",
       "      <td>house</td>\n",
       "    </tr>\n",
       "  </tbody>\n",
       "</table>\n",
       "<p>2664 rows × 2 columns</p>\n",
       "</div>"
      ],
      "text/plain": [
       "      floor   type\n",
       "5         -  house\n",
       "15        0  house\n",
       "19        -  house\n",
       "20       --  house\n",
       "23        -  house\n",
       "...     ...    ...\n",
       "11763     -  house\n",
       "11764     -  house\n",
       "11765     0  house\n",
       "11766     0  house\n",
       "11767     0  house\n",
       "\n",
       "[2664 rows x 2 columns]"
      ]
     },
     "execution_count": 26,
     "metadata": {},
     "output_type": "execute_result"
    }
   ],
   "source": [
    "data.loc[data['type'] == 'house', ['floor','type']]"
   ]
  },
  {
   "cell_type": "code",
   "execution_count": 27,
   "metadata": {},
   "outputs": [
    {
     "name": "stdout",
     "output_type": "stream",
     "text": [
      "[  7.  20.   6.   2.   1.   0.   4.   3.  10.  11.  24.   9.   8.  17.\n",
      "  18.   5.  13.  15.  nan  16.  14.  26.  21.  12.  19.  22.  27.  23.\n",
      "  35. 110.  25.  46.  28.  32.  29. 301.  51.]\n"
     ]
    }
   ],
   "source": [
    "# notamos que os valores não numéricos são casas, assim\n",
    "# substituiremos todos os valores não convertíveis para digitos por '0'\n",
    "# note que os nulos (NaNs) não serão alterados para 0\n",
    "data.loc[~data['floor'].astype(str).str.isnumeric() & data['floor'].notnull(), 'floor'] = '0'\n",
    "data.loc[:,'floor'] = pd.to_numeric(data.loc[:,'floor'], downcast='integer', errors='coerce')\n",
    "print(data['floor'].unique())"
   ]
  },
  {
   "cell_type": "code",
   "execution_count": 28,
   "metadata": {},
   "outputs": [
    {
     "name": "stdout",
     "output_type": "stream",
     "text": [
      "['nr' '47. 5' '750.9' '140. 5' 'nsa' '107 .12 ' '-' '---' 'nd']\n"
     ]
    }
   ],
   "source": [
    "# inspecionando valores de tax não convertíveis para digitos\n",
    "print(data.loc[~data['tax'].astype(str).str.isnumeric(), 'tax'].unique())"
   ]
  },
  {
   "cell_type": "code",
   "execution_count": 29,
   "metadata": {
    "scrolled": true
   },
   "outputs": [
    {
     "data": {
      "text/html": [
       "<div>\n",
       "<style scoped>\n",
       "    .dataframe tbody tr th:only-of-type {\n",
       "        vertical-align: middle;\n",
       "    }\n",
       "\n",
       "    .dataframe tbody tr th {\n",
       "        vertical-align: top;\n",
       "    }\n",
       "\n",
       "    .dataframe thead th {\n",
       "        text-align: right;\n",
       "    }\n",
       "</style>\n",
       "<table border=\"1\" class=\"dataframe\">\n",
       "  <thead>\n",
       "    <tr style=\"text-align: right;\">\n",
       "      <th></th>\n",
       "      <th>Unnamed: 0</th>\n",
       "      <th>city</th>\n",
       "      <th>area</th>\n",
       "      <th>rooms</th>\n",
       "      <th>bathroom</th>\n",
       "      <th>parking spaces</th>\n",
       "      <th>floor</th>\n",
       "      <th>hoa</th>\n",
       "      <th>rent</th>\n",
       "      <th>tax</th>\n",
       "      <th>insurance</th>\n",
       "      <th>total</th>\n",
       "      <th>page hits</th>\n",
       "      <th>days available</th>\n",
       "      <th>interactions</th>\n",
       "      <th>weeks available</th>\n",
       "      <th>type</th>\n",
       "      <th>country</th>\n",
       "    </tr>\n",
       "  </thead>\n",
       "  <tbody>\n",
       "    <tr>\n",
       "      <th>71</th>\n",
       "      <td>71</td>\n",
       "      <td>Rio de Janeiro</td>\n",
       "      <td>35.0</td>\n",
       "      <td>4.0</td>\n",
       "      <td>3</td>\n",
       "      <td>1.0</td>\n",
       "      <td>0.0</td>\n",
       "      <td>0</td>\n",
       "      <td>200</td>\n",
       "      <td>47. 5</td>\n",
       "      <td>16</td>\n",
       "      <td>263.5</td>\n",
       "      <td>24</td>\n",
       "      <td>16</td>\n",
       "      <td>24</td>\n",
       "      <td>2</td>\n",
       "      <td>house</td>\n",
       "      <td>Brazil</td>\n",
       "    </tr>\n",
       "  </tbody>\n",
       "</table>\n",
       "</div>"
      ],
      "text/plain": [
       "    Unnamed: 0            city  area  rooms  bathroom  parking spaces  floor  \\\n",
       "71          71  Rio de Janeiro  35.0    4.0         3             1.0    0.0   \n",
       "\n",
       "    hoa  rent    tax  insurance  total page hits  days available  \\\n",
       "71    0   200  47. 5         16  263.5        24              16   \n",
       "\n",
       "    interactions  weeks available   type country  \n",
       "71            24                2  house  Brazil  "
      ]
     },
     "execution_count": 29,
     "metadata": {},
     "output_type": "execute_result"
    }
   ],
   "source": [
    "# notar que o isnumeric não identificou números com casas decimais como convertíveis, mas esses serão convertidos pelo to_numeric.\n",
    "# note ainda valores com possíveis erros de digitação contendo espaços\n",
    "# Exemplo:\n",
    "data.loc[data['tax'] =='47. 5',:]"
   ]
  },
  {
   "cell_type": "code",
   "execution_count": 30,
   "metadata": {
    "scrolled": true
   },
   "outputs": [
    {
     "data": {
      "text/html": [
       "<div>\n",
       "<style scoped>\n",
       "    .dataframe tbody tr th:only-of-type {\n",
       "        vertical-align: middle;\n",
       "    }\n",
       "\n",
       "    .dataframe tbody tr th {\n",
       "        vertical-align: top;\n",
       "    }\n",
       "\n",
       "    .dataframe thead th {\n",
       "        text-align: right;\n",
       "    }\n",
       "</style>\n",
       "<table border=\"1\" class=\"dataframe\">\n",
       "  <thead>\n",
       "    <tr style=\"text-align: right;\">\n",
       "      <th></th>\n",
       "      <th>Unnamed: 0</th>\n",
       "      <th>city</th>\n",
       "      <th>area</th>\n",
       "      <th>rooms</th>\n",
       "      <th>bathroom</th>\n",
       "      <th>parking spaces</th>\n",
       "      <th>floor</th>\n",
       "      <th>hoa</th>\n",
       "      <th>rent</th>\n",
       "      <th>tax</th>\n",
       "      <th>insurance</th>\n",
       "      <th>total</th>\n",
       "      <th>page hits</th>\n",
       "      <th>days available</th>\n",
       "      <th>interactions</th>\n",
       "      <th>weeks available</th>\n",
       "      <th>type</th>\n",
       "      <th>country</th>\n",
       "    </tr>\n",
       "  </thead>\n",
       "  <tbody>\n",
       "  </tbody>\n",
       "</table>\n",
       "</div>"
      ],
      "text/plain": [
       "Empty DataFrame\n",
       "Columns: [Unnamed: 0, city, area, rooms, bathroom, parking spaces, floor, hoa, rent, tax, insurance, total, page hits, days available, interactions, weeks available, type, country]\n",
       "Index: []"
      ]
     },
     "execution_count": 30,
     "metadata": {},
     "output_type": "execute_result"
    }
   ],
   "source": [
    "# corrigindo o valor e convertendo para númerico, atribuindo nan para os demais\n",
    "data.loc[:,'tax'] = data.loc[:,'tax'].str.replace(' ', '')\n",
    "data.loc[data['tax'] =='47. 5',:]"
   ]
  },
  {
   "cell_type": "code",
   "execution_count": 31,
   "metadata": {},
   "outputs": [
    {
     "name": "stdout",
     "output_type": "stream",
     "text": [
      "[  7.  20.   6.   2.   1.   0.   4.   3.  10.  11.  24.   9.   8.  17.\n",
      "  18.   5.  13.  15.  nan  16.  14.  26.  21.  12.  19.  22.  27.  23.\n",
      "  35. 110.  25.  46.  28.  32.  29. 301.  51.]\n"
     ]
    }
   ],
   "source": [
    "print(data['floor'].unique())\n",
    "data['tax'] = pd.to_numeric(data.loc[:,'tax'], downcast=\"float\", errors='coerce')"
   ]
  },
  {
   "cell_type": "code",
   "execution_count": 32,
   "metadata": {},
   "outputs": [
    {
     "data": {
      "text/plain": [
       "Unnamed: 0                     71\n",
       "city               Rio de Janeiro\n",
       "area                         35.0\n",
       "rooms                         4.0\n",
       "bathroom                        3\n",
       "parking spaces                1.0\n",
       "floor                         0.0\n",
       "hoa                             0\n",
       "rent                          200\n",
       "tax                          47.5\n",
       "insurance                      16\n",
       "total                       263.5\n",
       "page hits                      24\n",
       "days available                 16\n",
       "interactions                   24\n",
       "weeks available                 2\n",
       "type                        house\n",
       "country                    Brazil\n",
       "Name: 71, dtype: object"
      ]
     },
     "execution_count": 32,
     "metadata": {},
     "output_type": "execute_result"
    }
   ],
   "source": [
    "data.loc[71,:]"
   ]
  },
  {
   "cell_type": "code",
   "execution_count": 33,
   "metadata": {},
   "outputs": [
    {
     "data": {
      "text/plain": [
       "Unnamed: 0            0\n",
       "city                  0\n",
       "area                 78\n",
       "rooms                79\n",
       "bathroom              0\n",
       "parking spaces     2965\n",
       "floor                13\n",
       "hoa                   0\n",
       "rent                  0\n",
       "tax                   6\n",
       "insurance             0\n",
       "total                 0\n",
       "page hits             0\n",
       "days available        0\n",
       "interactions          0\n",
       "weeks available       0\n",
       "type                  0\n",
       "country               0\n",
       "dtype: int64"
      ]
     },
     "execution_count": 33,
     "metadata": {},
     "output_type": "execute_result"
    }
   ],
   "source": [
    "data.isna().sum()"
   ]
  },
  {
   "cell_type": "markdown",
   "metadata": {},
   "source": [
    "---\n",
    "### Exercício 3)\n",
    "\n",
    "Vamos analisar possíveis atributos redundantes na base de dados. Inspecione as colunas imprimindo quantos valores únicos cada uma possui. Considerando o tamanho da base de dados e esses resultados, quais atributos são redundantes e podem ser removidos sem perda de informação?\n",
    "\n",
    "(a) parking spaces, country<br>\n",
    "<font color='red'>(b) country, Unnamed:0</font><br>\n",
    "(c) country<br>\n",
    "(d) Unnamed:0<br>\n",
    "\n",
    "<font color='red'>Resposta</font>: *country possui todos os valores iguais, após padronização, já Unnamed:0 contem a repetição dos índices do dataframe: ambos podem ser removidos sem prejuízo para a análise*"
   ]
  },
  {
   "cell_type": "code",
   "execution_count": 16,
   "metadata": {},
   "outputs": [
    {
     "name": "stdout",
     "output_type": "stream",
     "text": [
      "Unnamed: 0  / únicos :  11768\n",
      "city  / únicos :  6\n",
      "area  / únicos :  509\n",
      "rooms  / únicos :  11\n",
      "bathroom  / únicos :  12\n",
      "parking spaces  / únicos :  10\n",
      "floor  / únicos :  37\n",
      "hoa  / únicos :  1620\n",
      "rent  / únicos :  1172\n",
      "tax  / únicos :  1223\n",
      "insurance  / únicos :  218\n",
      "total  / únicos :  6132\n",
      "page hits  / únicos :  290\n",
      "days available  / únicos :  157\n",
      "interactions  / únicos :  217\n",
      "weeks available  / únicos :  51\n",
      "type  / únicos :  2\n",
      "country  / únicos :  1\n"
     ]
    }
   ],
   "source": [
    "# inspecionando atributos nao numéricos\n",
    "for var in data:\n",
    "    print(var, ' / únicos : ', data[var].unique().shape[0])"
   ]
  },
  {
   "cell_type": "code",
   "execution_count": 17,
   "metadata": {},
   "outputs": [],
   "source": [
    "del data['Unnamed: 0']\n",
    "del data['country']"
   ]
  },
  {
   "cell_type": "markdown",
   "metadata": {},
   "source": [
    "---\n",
    "\n",
    "### Exercício 4)\n",
    "\n",
    "Vamos procurar por outliers na base de dados utilizando um método baseado na dispersão pelo *desvio padrão*. \n",
    "\n",
    "Codifique uma função em Python no formato abaixo, que receba por parâmetro um dataframe, uma lista de atributos/variáveis e um fator multiplicador `t` para o desvio padrão.\n",
    "`def remove_outliers_std(df, attributes, t):`\n",
    "\n",
    "Essa função deve retornar um dataframe sem os outliers segundo o método do desvio padrão, ou seja, removendo aqueles cujo valor esteja: abaixo da média menos `t` desvios padrões, ou acima da média mais `t` desvios padrões. Formalmente, são outliers valores $x$ tal que $x < \\mu - t\\sigma$ ou $x > \\mu + t\\sigma$. A funcao deve processar apenas variáveis numéricas e imprimir na tela a quantidade de outliers encontrados.\n",
    "\n",
    "Utilize a funcao implementada para remover outliers. Antes faça uma cópia do dataframe, criando um dataframe `data_out` do qual serão removidos outliers dos seguintes atributos:\n",
    "1. 'insurance' com $t=3.5$\n",
    "2. considerando a base obtida no passo (1) anterior, para 'total' com $t=2$.\n",
    "3. considerando a base obtida no passo (2) anterior, para 'rent' com $t=5$\n",
    "\n",
    "Quantos outliers foram encontrados respectivamente para 'insurance', 'total' e  'rent', nessa ordem?\n",
    "\n",
    "(a) 19, 6 e 0<br>\n",
    "(b) 0, 6 e 2<br>\n",
    "<font color='red'>(c) 19, 6 e 2</font><br>\n",
    "(d) 19, 0 e 6<br>"
   ]
  },
  {
   "cell_type": "code",
   "execution_count": 18,
   "metadata": {},
   "outputs": [],
   "source": [
    "def remove_outliers_std(df, attributes, t):\n",
    "    \n",
    "    dfn = df.copy()\n",
    "    \n",
    "    for var in attributes:\n",
    "        # verifica se variável é numerica\n",
    "        if np.issubdtype(df[var].dtype, np.number):\n",
    "            crit_std = df[var].std() * t\n",
    "            mu = df[var].mean()\n",
    "            \n",
    "            tot_out = np.sum((df[var] < mu-crit_std) | (df[var] > mu+crit_std))\n",
    "            \n",
    "            # apenas inliers segundo std\n",
    "            dfn = dfn.loc[(df[var] >= mu-crit_std) & (df[var] <= mu+crit_std),:]\n",
    "            print('%s, mu = %.2f, std = %.2f, outliers = %d' % (var, mu, crit_std/t, tot_out))\n",
    "            \n",
    "    return dfn"
   ]
  },
  {
   "cell_type": "code",
   "execution_count": 19,
   "metadata": {},
   "outputs": [
    {
     "name": "stdout",
     "output_type": "stream",
     "text": [
      "insurance, mu = 56.54, std = 97.48, outliers = 19\n",
      "total, mu = 5585.31, std = 15774.00, outliers = 6\n",
      "rent, mu = 3997.23, std = 3427.39, outliers = 2\n"
     ]
    }
   ],
   "source": [
    "data_out = remove_outliers_std(data,['insurance'], 3.5)\n",
    "data_out = remove_outliers_std(data_out,['total'], 2)\n",
    "data_out = remove_outliers_std(data_out,['rent'], 5)"
   ]
  },
  {
   "cell_type": "code",
   "execution_count": 20,
   "metadata": {},
   "outputs": [
    {
     "data": {
      "text/html": [
       "<div>\n",
       "<style scoped>\n",
       "    .dataframe tbody tr th:only-of-type {\n",
       "        vertical-align: middle;\n",
       "    }\n",
       "\n",
       "    .dataframe tbody tr th {\n",
       "        vertical-align: top;\n",
       "    }\n",
       "\n",
       "    .dataframe thead th {\n",
       "        text-align: right;\n",
       "    }\n",
       "</style>\n",
       "<table border=\"1\" class=\"dataframe\">\n",
       "  <thead>\n",
       "    <tr style=\"text-align: right;\">\n",
       "      <th></th>\n",
       "      <th>city</th>\n",
       "      <th>area</th>\n",
       "      <th>rooms</th>\n",
       "      <th>bathroom</th>\n",
       "      <th>parking spaces</th>\n",
       "      <th>floor</th>\n",
       "      <th>hoa</th>\n",
       "      <th>rent</th>\n",
       "      <th>tax</th>\n",
       "      <th>insurance</th>\n",
       "      <th>total</th>\n",
       "      <th>page hits</th>\n",
       "      <th>days available</th>\n",
       "      <th>interactions</th>\n",
       "      <th>weeks available</th>\n",
       "      <th>type</th>\n",
       "    </tr>\n",
       "  </thead>\n",
       "  <tbody>\n",
       "    <tr>\n",
       "      <th>0</th>\n",
       "      <td>São Paulo</td>\n",
       "      <td>70.0</td>\n",
       "      <td>2.0</td>\n",
       "      <td>1</td>\n",
       "      <td>1.0</td>\n",
       "      <td>7.0</td>\n",
       "      <td>2065</td>\n",
       "      <td>3300</td>\n",
       "      <td>211.0</td>\n",
       "      <td>42</td>\n",
       "      <td>5618.0</td>\n",
       "      <td>324</td>\n",
       "      <td>23</td>\n",
       "      <td>108</td>\n",
       "      <td>3</td>\n",
       "      <td>flat</td>\n",
       "    </tr>\n",
       "    <tr>\n",
       "      <th>1</th>\n",
       "      <td>São Paulo</td>\n",
       "      <td>320.0</td>\n",
       "      <td>4.0</td>\n",
       "      <td>4</td>\n",
       "      <td>2.0</td>\n",
       "      <td>20.0</td>\n",
       "      <td>1200</td>\n",
       "      <td>4960</td>\n",
       "      <td>1750.0</td>\n",
       "      <td>63</td>\n",
       "      <td>7973.0</td>\n",
       "      <td>720</td>\n",
       "      <td>78</td>\n",
       "      <td>240</td>\n",
       "      <td>11</td>\n",
       "      <td>flat</td>\n",
       "    </tr>\n",
       "    <tr>\n",
       "      <th>2</th>\n",
       "      <td>Porto Alegre</td>\n",
       "      <td>80.0</td>\n",
       "      <td>1.0</td>\n",
       "      <td>1</td>\n",
       "      <td>1.0</td>\n",
       "      <td>6.0</td>\n",
       "      <td>1000</td>\n",
       "      <td>2800</td>\n",
       "      <td>NaN</td>\n",
       "      <td>41</td>\n",
       "      <td>3841.0</td>\n",
       "      <td>64</td>\n",
       "      <td>269</td>\n",
       "      <td>128</td>\n",
       "      <td>38</td>\n",
       "      <td>flat</td>\n",
       "    </tr>\n",
       "    <tr>\n",
       "      <th>3</th>\n",
       "      <td>Porto Alegre</td>\n",
       "      <td>51.0</td>\n",
       "      <td>1.0</td>\n",
       "      <td>1</td>\n",
       "      <td>NaN</td>\n",
       "      <td>2.0</td>\n",
       "      <td>270</td>\n",
       "      <td>1112</td>\n",
       "      <td>22.0</td>\n",
       "      <td>17</td>\n",
       "      <td>1421.0</td>\n",
       "      <td>46</td>\n",
       "      <td>73</td>\n",
       "      <td>92</td>\n",
       "      <td>10</td>\n",
       "      <td>flat</td>\n",
       "    </tr>\n",
       "    <tr>\n",
       "      <th>4</th>\n",
       "      <td>São Paulo</td>\n",
       "      <td>25.0</td>\n",
       "      <td>1.0</td>\n",
       "      <td>1</td>\n",
       "      <td>NaN</td>\n",
       "      <td>1.0</td>\n",
       "      <td>0</td>\n",
       "      <td>800</td>\n",
       "      <td>25.0</td>\n",
       "      <td>11</td>\n",
       "      <td>836.0</td>\n",
       "      <td>1548</td>\n",
       "      <td>78</td>\n",
       "      <td>516</td>\n",
       "      <td>11</td>\n",
       "      <td>flat</td>\n",
       "    </tr>\n",
       "    <tr>\n",
       "      <th>...</th>\n",
       "      <td>...</td>\n",
       "      <td>...</td>\n",
       "      <td>...</td>\n",
       "      <td>...</td>\n",
       "      <td>...</td>\n",
       "      <td>...</td>\n",
       "      <td>...</td>\n",
       "      <td>...</td>\n",
       "      <td>...</td>\n",
       "      <td>...</td>\n",
       "      <td>...</td>\n",
       "      <td>...</td>\n",
       "      <td>...</td>\n",
       "      <td>...</td>\n",
       "      <td>...</td>\n",
       "      <td>...</td>\n",
       "    </tr>\n",
       "    <tr>\n",
       "      <th>11763</th>\n",
       "      <td>Brotas</td>\n",
       "      <td>100.0</td>\n",
       "      <td>1.0</td>\n",
       "      <td>2</td>\n",
       "      <td>1.0</td>\n",
       "      <td>0.0</td>\n",
       "      <td>0</td>\n",
       "      <td>800</td>\n",
       "      <td>116.0</td>\n",
       "      <td>39</td>\n",
       "      <td>955.0</td>\n",
       "      <td>148</td>\n",
       "      <td>127</td>\n",
       "      <td>148</td>\n",
       "      <td>18</td>\n",
       "      <td>house</td>\n",
       "    </tr>\n",
       "    <tr>\n",
       "      <th>11764</th>\n",
       "      <td>Brotas</td>\n",
       "      <td>200.0</td>\n",
       "      <td>4.0</td>\n",
       "      <td>2</td>\n",
       "      <td>1.0</td>\n",
       "      <td>0.0</td>\n",
       "      <td>0</td>\n",
       "      <td>1450</td>\n",
       "      <td>226.0</td>\n",
       "      <td>75</td>\n",
       "      <td>1751.0</td>\n",
       "      <td>104</td>\n",
       "      <td>85</td>\n",
       "      <td>104</td>\n",
       "      <td>12</td>\n",
       "      <td>house</td>\n",
       "    </tr>\n",
       "    <tr>\n",
       "      <th>11765</th>\n",
       "      <td>São Paulo</td>\n",
       "      <td>600.0</td>\n",
       "      <td>4.0</td>\n",
       "      <td>5</td>\n",
       "      <td>6.0</td>\n",
       "      <td>0.0</td>\n",
       "      <td>0</td>\n",
       "      <td>12000</td>\n",
       "      <td>9500.0</td>\n",
       "      <td>181</td>\n",
       "      <td>21681.0</td>\n",
       "      <td>180</td>\n",
       "      <td>42</td>\n",
       "      <td>60</td>\n",
       "      <td>6</td>\n",
       "      <td>house</td>\n",
       "    </tr>\n",
       "    <tr>\n",
       "      <th>11766</th>\n",
       "      <td>São Paulo</td>\n",
       "      <td>650.0</td>\n",
       "      <td>3.0</td>\n",
       "      <td>3</td>\n",
       "      <td>7.0</td>\n",
       "      <td>0.0</td>\n",
       "      <td>0</td>\n",
       "      <td>8000</td>\n",
       "      <td>834.0</td>\n",
       "      <td>121</td>\n",
       "      <td>8955.0</td>\n",
       "      <td>396</td>\n",
       "      <td>66</td>\n",
       "      <td>132</td>\n",
       "      <td>9</td>\n",
       "      <td>house</td>\n",
       "    </tr>\n",
       "    <tr>\n",
       "      <th>11767</th>\n",
       "      <td>São Paulo</td>\n",
       "      <td>180.0</td>\n",
       "      <td>3.0</td>\n",
       "      <td>2</td>\n",
       "      <td>1.0</td>\n",
       "      <td>0.0</td>\n",
       "      <td>0</td>\n",
       "      <td>3000</td>\n",
       "      <td>163.0</td>\n",
       "      <td>46</td>\n",
       "      <td>3209.0</td>\n",
       "      <td>1152</td>\n",
       "      <td>87</td>\n",
       "      <td>384</td>\n",
       "      <td>12</td>\n",
       "      <td>house</td>\n",
       "    </tr>\n",
       "  </tbody>\n",
       "</table>\n",
       "<p>11741 rows × 16 columns</p>\n",
       "</div>"
      ],
      "text/plain": [
       "               city   area  rooms  bathroom  parking spaces  floor   hoa  \\\n",
       "0         São Paulo   70.0    2.0         1             1.0    7.0  2065   \n",
       "1         São Paulo  320.0    4.0         4             2.0   20.0  1200   \n",
       "2      Porto Alegre   80.0    1.0         1             1.0    6.0  1000   \n",
       "3      Porto Alegre   51.0    1.0         1             NaN    2.0   270   \n",
       "4         São Paulo   25.0    1.0         1             NaN    1.0     0   \n",
       "...             ...    ...    ...       ...             ...    ...   ...   \n",
       "11763        Brotas  100.0    1.0         2             1.0    0.0     0   \n",
       "11764        Brotas  200.0    4.0         2             1.0    0.0     0   \n",
       "11765     São Paulo  600.0    4.0         5             6.0    0.0     0   \n",
       "11766     São Paulo  650.0    3.0         3             7.0    0.0     0   \n",
       "11767     São Paulo  180.0    3.0         2             1.0    0.0     0   \n",
       "\n",
       "        rent     tax  insurance    total page hits  days available  \\\n",
       "0       3300   211.0         42   5618.0       324              23   \n",
       "1       4960  1750.0         63   7973.0       720              78   \n",
       "2       2800     NaN         41   3841.0        64             269   \n",
       "3       1112    22.0         17   1421.0        46              73   \n",
       "4        800    25.0         11    836.0      1548              78   \n",
       "...      ...     ...        ...      ...       ...             ...   \n",
       "11763    800   116.0         39    955.0       148             127   \n",
       "11764   1450   226.0         75   1751.0       104              85   \n",
       "11765  12000  9500.0        181  21681.0       180              42   \n",
       "11766   8000   834.0        121   8955.0       396              66   \n",
       "11767   3000   163.0         46   3209.0      1152              87   \n",
       "\n",
       "       interactions  weeks available   type  \n",
       "0               108                3   flat  \n",
       "1               240               11   flat  \n",
       "2               128               38   flat  \n",
       "3                92               10   flat  \n",
       "4               516               11   flat  \n",
       "...             ...              ...    ...  \n",
       "11763           148               18  house  \n",
       "11764           104               12  house  \n",
       "11765            60                6  house  \n",
       "11766           132                9  house  \n",
       "11767           384               12  house  \n",
       "\n",
       "[11741 rows x 16 columns]"
      ]
     },
     "execution_count": 20,
     "metadata": {},
     "output_type": "execute_result"
    }
   ],
   "source": [
    "data_out"
   ]
  },
  {
   "cell_type": "markdown",
   "metadata": {},
   "source": [
    "---\n",
    "\n",
    "### Exercício 5)\n",
    "\n",
    "Ainda analisando outliers, considerando a base de dados original (antes da remoção no exercício anterior)\n",
    "\n",
    "Carregue o método $k$-Means utilizando: `from sklearn.cluster import KMeans`\n",
    "\n",
    "1. Realize análise de agrupamento utilizando os atributos 'rent' e 'days available' e $k=100$ grupos. Utilize o parâmetro `random_state=0` ao criar o modelo\n",
    "2. Identifique os grupos (clusters) que possuem 5 ou menos pontos\n",
    "3. Considere todos os pontos pertencentes à esses grupos como candidatos a outliers\n",
    "    \n",
    "OBS: ver detalhes do KMeans em [https://scikit-learn.org/stable/modules/generated/sklearn.cluster.KMeans.html]\n",
    "\n",
    "Quantos outliers foram encontrados?\n",
    "\n",
    "(a) 1<br>\n",
    "(b) 3<br>\n",
    "<font color='red'>(c) 7</font><br>\n",
    "(d) 20<br>"
   ]
  },
  {
   "cell_type": "code",
   "execution_count": 21,
   "metadata": {},
   "outputs": [
    {
     "name": "stdout",
     "output_type": "stream",
     "text": [
      "Número de outliers estimados: 7\n"
     ]
    },
    {
     "data": {
      "image/png": "[encoded data removed]",
      "text/plain": [
       "<Figure size 432x288 with 1 Axes>"
      ]
     },
     "metadata": {
      "needs_background": "light"
     },
     "output_type": "display_data"
    }
   ],
   "source": [
    "from sklearn.cluster import KMeans\n",
    "from sklearn import metrics\n",
    "\n",
    "X1 = np.array(data['rent'])\n",
    "X2 = np.array(data['days available'])\n",
    "X = np.vstack((X1,X2)).T\n",
    "\n",
    "k = 100\n",
    "kmeans = KMeans(n_clusters=k, random_state=0).fit(X)\n",
    "outputs = kmeans.labels_\n",
    "\n",
    "small_clusters = []\n",
    "outliers = np.array([ ])\n",
    "for i in range(k):\n",
    "    if (np.sum(outputs == i) <= 5 ):\n",
    "        small_clusters.append(i)\n",
    "        points = np.where(outputs == i)[0]\n",
    "        outliers = np.concatenate((outliers, points)).astype(int)\n",
    "\n",
    "n_outl_ = outliers.shape[0]\n",
    "\n",
    "print('Número de outliers estimados: %d' % n_outl_)\n",
    "\n",
    "plt.plot(X1, X2,'.')\n",
    "plt.plot(X1[outliers], X2[outliers],'xr')\n",
    "plt.show()"
   ]
  },
  {
   "cell_type": "markdown",
   "metadata": {},
   "source": [
    "---\n",
    "\n",
    "### Exercício 6)\n",
    "\n",
    "Considerando o preenchimento de dados faltantes, utilize a base de dados após remover outliers segundo indicado no Exercício 4 `data_out`\n",
    "\n",
    "Codifique uma funcão que preencha valores faltantes de variáveis numéricas utilizando a média condicionada (ou agrupada) a uma outra variável categórica (não numérica)  C da base. Essa funcao deverá:\n",
    "1. calcular a média da variável alvo A (a ser preenchida) relativa a cada valor distinto da variável categórica selecionada C, para linhas com valores existentes de A\n",
    "2. atribuir a média calculada de forma agrupada a todas as linhas cuja variável alvo é faltante e que possua o valor da variável categórica correspondente\n",
    "3. o valor atribuido deve seguir o mesmo tipo da variável alvo, ou seja, int, float, etc. Quando int, realize o arredondamento utlizando `np.round(,0)`, quando float64 utilize `np.round(,1)`\n",
    "\n",
    "    Exemplo: podemos preencher a média do imposto (tax) condicionado ao tipo (type) calculando a média do imposto agrupado por cada valor de tipo ('house' e 'flat'), e depois atribuir essas médias aos valores faltantes condicionado ao tipo, ou seja, a média do imposto de todas linhas 'house' é atribuída a todas as propriedades 'house' com 'tax' faltante\n",
    "    Similarmente, uma propriedade que é do tipo 'flat' e que possui 'tax' faltante, recebe a média de 'tax' entre todas os imóveis marcados com 'flat' para os quais há valor de 'tax'.\n",
    "    \n",
    "Use sua funcao para preencher a 'area' condicionado a 'type'. Armazene esse preenchimento num dataframe novo, não afetando os anteriores. Após o preenchimento, qual é a nova média para todas as linhas do atributo 'area', e arredondando para duas casas decimais?\n",
    "\n",
    "<font color='red'>(a) 145.36</font><br>\n",
    "(b) 125.45<br>\n",
    "(d) 131.00<br>\n",
    "(d) 145.29<br>"
   ]
  },
  {
   "cell_type": "code",
   "execution_count": 22,
   "metadata": {},
   "outputs": [],
   "source": [
    "def missing_condmean(df, att, att_cat):\n",
    "        \n",
    "    dfn = df.copy()\n",
    "    print('- preencher ', att, ' condicionado a ', att_cat, end=' : ')\n",
    "    nullatt = dfn[att].isnull()\n",
    "    print(np.sum(nullatt), 'faltantes')\n",
    "\n",
    "    for j in df[att_cat].unique():\n",
    "        mu_cat = np.round(np.mean(df.loc[df[att_cat]==j, att]),1)\n",
    "        \n",
    "        if (df[att_cat].dtypes == np.int64):\n",
    "            mu_cat = np.round(mu_cat,0)\n",
    "            \n",
    "        print('\\t %s media = %.1f' % (j, mu_cat))\n",
    "        dfn.loc[(df[att].isnull()) & (df[att_cat]==j), att] = mu_cat\n",
    "        \n",
    "    return dfn"
   ]
  },
  {
   "cell_type": "code",
   "execution_count": 23,
   "metadata": {},
   "outputs": [
    {
     "name": "stdout",
     "output_type": "stream",
     "text": [
      "- preencher  area  condicionado a  type : 78 faltantes\n",
      "\t flat media = 119.9\n",
      "\t house media = 232.9\n",
      "Média do atributo antes do preenchimento:  145.3\n",
      "Depois do preenchimento:  145.36\n"
     ]
    }
   ],
   "source": [
    "data_fill = missing_condmean(data_out, 'area', 'type')\n",
    "data_fill[data_out['area'].isnull()].head()\n",
    "\n",
    "print('Média do atributo antes do preenchimento: ', np.round(np.mean(data_out.loc[:, 'area']),2))\n",
    "print('Depois do preenchimento: ', np.round(np.mean(data_fill.loc[:, 'area']),2))"
   ]
  },
  {
   "cell_type": "markdown",
   "metadata": {},
   "source": [
    "---\n",
    "\n",
    "### Exercício 7)\n",
    "\n",
    "Utilizando a base de dados **antes** da remoção de outliers, elimine todas as linhas duplicadas. Quantas linhas foram removidas?\n",
    "\n",
    "(a) 0 <br>\n",
    "<font color='red'>(b) 1270</font><br>\n",
    "(c) 2018<br>\n",
    "(d) 1260<br>\n"
   ]
  },
  {
   "cell_type": "code",
   "execution_count": 24,
   "metadata": {
    "scrolled": true
   },
   "outputs": [
    {
     "name": "stdout",
     "output_type": "stream",
     "text": [
      "Linhas removidas: 1270\n"
     ]
    }
   ],
   "source": [
    "n_antes = data.shape[0]\n",
    "\n",
    "# removendo duplicatas\n",
    "data_r = data.drop_duplicates(keep='first')\n",
    "removidas = n_antes-data_r.shape[0]\n",
    "print(\"Linhas removidas: %d\" % (removidas))"
   ]
  },
  {
   "cell_type": "markdown",
   "metadata": {},
   "source": [
    "---\n",
    "\n",
    "### Exercício 8)\n",
    "\n",
    "Utilizando a base de dados **após** da remoção de outliers (`data_out`), elimine todas as linhas duplicadas.\n",
    "\n",
    "(a) 1272<br>\n",
    "(b) 1<br>\n",
    "(c) 0<br>\n",
    "<font color='red'>(d) 1262</font><br>\n"
   ]
  },
  {
   "cell_type": "code",
   "execution_count": 25,
   "metadata": {},
   "outputs": [
    {
     "name": "stdout",
     "output_type": "stream",
     "text": [
      "Linhas removidas: 1262\n"
     ]
    }
   ],
   "source": [
    "n_antes = data_out.shape[0]\n",
    "\n",
    "# removendo duplicatas\n",
    "data_outr = data_out.drop_duplicates(keep='first')\n",
    "removidas = n_antes-data_outr.shape[0]\n",
    "print(\"Linhas removidas: %d\" % (removidas))"
   ]
  },
  {
   "cell_type": "markdown",
   "metadata": {},
   "source": [
    "---\n",
    "\n",
    "### Exercício 9)\n",
    "\n",
    "Considere o atributo 'type' e analise a distribuicao dos seus valores.\n",
    "\n",
    "Qual dos procedimentos abaixo é o mais adequado caso desejamos utilizar a variável \"type\" como variável alvo (de saída) para um modelo de aprendizado?\n",
    "\n",
    "(a) não é possível utilizar essa variável como saída<br>\n",
    "(b) considerar o uso de técnicas de subamostragem aleatória para 'house'<br>\n",
    "<font color='red'>(c) considerar o uso de técnicas de sobreamostragem para 'house'</font><br>\n",
    "(d) considerar o uso de técnicas de sobreamostragem para 'flat' <br>\n",
    "\n",
    "<font color='red'>Resposta:</font> *ainda que não fazer nenhum tratamento seja possível, considerar a sobreamostragem de 'house' pode ser importante nesse cenário em que 'house' corresponde a 22% dos dados\n",
    "    \n",
    "    "
   ]
  },
  {
   "cell_type": "code",
   "execution_count": 26,
   "metadata": {},
   "outputs": [
    {
     "name": "stdout",
     "output_type": "stream",
     "text": [
      "porcentagem frente ao total: 22.5364%\n"
     ]
    },
    {
     "data": {
      "image/png": "[encoded data removed]",
      "text/plain": [
       "<Figure size 432x288 with 1 Axes>"
      ]
     },
     "metadata": {
      "needs_background": "light"
     },
     "output_type": "display_data"
    }
   ],
   "source": [
    "plt.hist(data_fill['type'])\n",
    "data_fill['type'].describe()\n",
    "\n",
    "tot_house = np.sum(data_fill['type']=='house')\n",
    "\n",
    "print(\"porcentagem frente ao total: %.4f%%\" % ((tot_house/data_fill.shape[0])*100))"
   ]
  },
  {
   "cell_type": "markdown",
   "metadata": {},
   "source": [
    "---\n",
    "\n",
    "### Exercício 10)\n",
    "\n",
    "Considere o atributo 'city' e a distribuicao dos seus valores, desconsiderando a cidade de São Paulo.\n",
    "Calcule a porcentagem de exemplos da categoria com a *menor* quantidade de dados encontrada com relacao ao total.\n",
    "\n",
    "Qual dos procedimentos abaixo é o mais adequado caso desejamos utilizar a variável \"city\" (desconsiderando São Paulo) como variável alvo (de saída) para um modelo de aprendizado?\n",
    "\n",
    "<font color='red'>(a) não considerar a cidade \"Brotas\" na análise, e rebalancear as demais com sobreamostragem</font><br>\n",
    "(b) utilizar a base de dados original, sem tratamento, visto ser uma proporção possível considerando o tamanho das cidades<br>\n",
    "(c) utilizar o método SMOTE para a classe minoritária apenas<br>\n",
    "(d) utilizar técnicas de subamostragem para as categorias majoritárias<br>\n",
    "\n",
    "<font color='red'>Resposta:</font> *ainda que considerar métodos para tratar o desbalanceamento seja possível, Brotas possui 0.6% do total de dados, inviabilizando seu uso frente às demais cidades, sendo recomendado descartá-la. Mesmo o uso de métodos de aumentação/sobreamostragem podem ser inviáveis, ao realizar a combinação de apenas 7 instâncias frente a segunda classe com menor número de instâncias reais, Campinas com mais de 800 exemplos.*"
   ]
  },
  {
   "cell_type": "code",
   "execution_count": 31,
   "metadata": {},
   "outputs": [
    {
     "data": {
      "text/plain": [
       "Rio de Janeiro    1449\n",
       "Belo Horizonte    1197\n",
       "Porto Alegre      1147\n",
       "Campinas           816\n",
       "Brotas               7\n",
       "Name: city, dtype: int64"
      ]
     },
     "execution_count": 31,
     "metadata": {},
     "output_type": "execute_result"
    }
   ],
   "source": [
    "data_fill.loc[data_fill['city']!='São Paulo', 'city'].value_counts()"
   ]
  },
  {
   "cell_type": "code",
   "execution_count": 33,
   "metadata": {},
   "outputs": [
    {
     "name": "stdout",
     "output_type": "stream",
     "text": [
      "porcentagem frente ao total dos dados: 0.0596%\n"
     ]
    },
    {
     "data": {
      "image/png": "[encoded data removed]",
      "text/plain": [
       "<Figure size 432x288 with 1 Axes>"
      ]
     },
     "metadata": {
      "needs_background": "light"
     },
     "output_type": "display_data"
    }
   ],
   "source": [
    "plt.hist(data_fill.loc[data_fill['city']!='São Paulo', 'city'])\n",
    "print(\"porcentagem frente ao total dos dados: %.4f%%\" % ((tot_brotas/data_fill.shape[0])*100))"
   ]
  },
  {
   "cell_type": "code",
   "execution_count": null,
   "metadata": {},
   "outputs": [],
   "source": []
  }
 ],
 "metadata": {
  "kernelspec": {
   "display_name": "Python 3",
   "language": "python",
   "name": "python3"
  },
  "language_info": {
   "codemirror_mode": {
    "name": "ipython",
    "version": 3
   },
   "file_extension": ".py",
   "mimetype": "text/x-python",
   "name": "python",
   "nbconvert_exporter": "python",
   "pygments_lexer": "ipython3",
   "version": "3.9.2"
  }
 },
 "nbformat": 4,
 "nbformat_minor": 4
}
