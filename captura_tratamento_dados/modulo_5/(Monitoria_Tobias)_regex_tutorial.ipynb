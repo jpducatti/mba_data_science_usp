{
 "cells": [
  {
   "cell_type": "code",
   "execution_count": 1,
   "id": "ffed2fda",
   "metadata": {},
   "outputs": [],
   "source": [
    "import re"
   ]
  },
  {
   "cell_type": "code",
   "execution_count": 2,
   "id": "ff2b91f4",
   "metadata": {},
   "outputs": [],
   "source": [
    "\"\"\"\n",
    "Three main functions:\n",
    "- match - tests if the a string matches a pattern\n",
    "- search - test if a string contains a pattern, by finding the first occurence\n",
    "- findall - find all occurences of the pattern in a string\n",
    "\"\"\";"
   ]
  },
  {
   "cell_type": "markdown",
   "id": "291684a9",
   "metadata": {},
   "source": [
    "<hr>"
   ]
  },
  {
   "cell_type": "markdown",
   "id": "263938ec",
   "metadata": {},
   "source": [
    "## When to use `match`?"
   ]
  },
  {
   "cell_type": "code",
   "execution_count": 3,
   "id": "a8c015bb",
   "metadata": {},
   "outputs": [],
   "source": [
    "pattern_cpf = re.compile(r\"\\d{3}\\.\\d{3}\\.\\d{3}-\\d{2}\")"
   ]
  },
  {
   "cell_type": "code",
   "execution_count": 4,
   "id": "ffd79ac4",
   "metadata": {},
   "outputs": [
    {
     "data": {
      "text/plain": [
       "<re.Match object; span=(0, 14), match='111.111.111-11'>"
      ]
     },
     "execution_count": 4,
     "metadata": {},
     "output_type": "execute_result"
    }
   ],
   "source": [
    "# trivial case (exactly the pattern)\n",
    "pattern_cpf.match(\"111.111.111-11\")"
   ]
  },
  {
   "cell_type": "code",
   "execution_count": 5,
   "id": "a85fe5d8",
   "metadata": {},
   "outputs": [],
   "source": [
    "# text before pattern\n",
    "pattern_cpf.match(\"text_text_text111.111.111-11\")"
   ]
  },
  {
   "cell_type": "code",
   "execution_count": 6,
   "id": "9e82693b",
   "metadata": {},
   "outputs": [
    {
     "data": {
      "text/plain": [
       "<re.Match object; span=(0, 14), match='111.111.111-11'>"
      ]
     },
     "execution_count": 6,
     "metadata": {},
     "output_type": "execute_result"
    }
   ],
   "source": [
    "# text after pattern\n",
    "pattern_cpf.match(\"111.111.111-11text_text_text\")"
   ]
  },
  {
   "cell_type": "code",
   "execution_count": 7,
   "id": "13f33d3d",
   "metadata": {},
   "outputs": [],
   "source": [
    "pattern_cpf_2 = re.compile(r\"\\d{3}\\.\\d{3}\\.\\d{3}-\\d{2}$\") # or fullmatch"
   ]
  },
  {
   "cell_type": "code",
   "execution_count": 8,
   "id": "6b98e0ea",
   "metadata": {},
   "outputs": [
    {
     "data": {
      "text/plain": [
       "<re.Match object; span=(0, 14), match='111.111.111-11'>"
      ]
     },
     "execution_count": 8,
     "metadata": {},
     "output_type": "execute_result"
    }
   ],
   "source": [
    "pattern_cpf_2.match(\"111.111.111-11\")"
   ]
  },
  {
   "cell_type": "code",
   "execution_count": 9,
   "id": "f4b04dc0",
   "metadata": {},
   "outputs": [],
   "source": [
    "pattern_cpf_2.match(\"111.111.111-11text_text_text\")"
   ]
  },
  {
   "cell_type": "markdown",
   "id": "2d68e4c6",
   "metadata": {},
   "source": [
    "## Quick regex overview\n",
    "```\n",
    "- abc…      Letters\n",
    "- 123…      Digits\n",
    "- \\d        %Any Digit\n",
    "- \\D        Any Non-digit character\n",
    "- .         Any Character\n",
    "- \\.        Period\n",
    "- [abc]     Only a, b, or c\n",
    "- [^abc]    Not a, b, nor c\n",
    "- [a-z]     Characters a to z\n",
    "- [0-9]     Numbers 0 to 9\n",
    "- \\w        Any Alphanumeric character\n",
    "- \\W        Any Non-alphanumeric character\n",
    "- {m}       m Repetitions\n",
    "- {m,n}     m to n Repetitions\n",
    "- *         Zero or more repetitions\n",
    "- +         One or more repetitions\n",
    "- ?         Optional character\n",
    "- \\s        Any Whitespace\n",
    "- \\S        Any Non-whitespace character\n",
    "- ^…$       Starts and ends\n",
    "```"
   ]
  },
  {
   "cell_type": "markdown",
   "id": "7915be66",
   "metadata": {},
   "source": [
    "## Simple exercises"
   ]
  },
  {
   "cell_type": "code",
   "execution_count": 10,
   "id": "bb6b3dec",
   "metadata": {},
   "outputs": [],
   "source": [
    "text = \"\"\"METALNOX INDÚSTRIA METALÚRGICA LTDA\n",
    "RUA JOSÉ THEODORO RIBEIRO - 3571, ILHA DA FIGUEIRA\n",
    "CEP: 89.258-001 JARAGUÁ DO SUL, SC\n",
    "\n",
    "CNPJ; 78.810.975/0001-72\n",
    "TE: XXX XKXXXX\n",
    "\n",
    "20/06/2015 11:55:23 CCF: 012249 COD: 020990\n",
    "CNPJICPF consumidor: 754.523,157-05\n",
    "NOME: JOÃO DOS SANTOS\n",
    "END: RUA GETÚLIO VARGAS, 449 - SÃO PAULO\n",
    "CUPOM FISCAL\n",
    "\n",
    "ITEM CÓDIGO DESCRIÇÃO QTD UN VLUNIT(RS) ST VL ITEMIRS)\n",
    "\n",
    "001 1955 PONTEIRAPARAPER 204250 TI700% 50,00\n",
    "001 1875  RODIZIOSFAZMM 204280  T1700% 56,00\n",
    "TOTAL R$ 106,00\n",
    "Dinheiro 150,00\n",
    "TROCO 44,00\n",
    "Vendedor: 000008 000213946-01 - CX 1 -SIP-\n",
    "Valor trib. aprox. [Fed= 0,44] [Est= 0,50)\n",
    "\n",
    "Fonte: IBPIFECOMERCIO SP 9013aC\n",
    "BR\n",
    "\"\"\""
   ]
  },
  {
   "cell_type": "code",
   "execution_count": 11,
   "id": "79a0b558",
   "metadata": {},
   "outputs": [],
   "source": [
    "# 1) find words that are uppercased XXXX..."
   ]
  },
  {
   "cell_type": "code",
   "execution_count": 12,
   "id": "23b13ce1",
   "metadata": {
    "scrolled": true
   },
   "outputs": [
    {
     "data": {
      "text/plain": [
       "['METALNOX',\n",
       " 'IND',\n",
       " 'STRIA',\n",
       " 'METAL',\n",
       " 'RGICA',\n",
       " 'LTDA',\n",
       " 'RUA',\n",
       " 'JOS',\n",
       " 'THEODORO',\n",
       " 'RIBEIRO',\n",
       " 'ILHA',\n",
       " 'DA',\n",
       " 'FIGUEIRA',\n",
       " 'CEP',\n",
       " 'JARAGU',\n",
       " 'DO',\n",
       " 'SUL',\n",
       " 'SC',\n",
       " 'CNPJ',\n",
       " 'TE',\n",
       " 'XXX',\n",
       " 'XKXXXX',\n",
       " 'CCF',\n",
       " 'COD',\n",
       " 'CNPJICPF',\n",
       " 'NOME',\n",
       " 'JO',\n",
       " 'O',\n",
       " 'DOS',\n",
       " 'SANTOS',\n",
       " 'END',\n",
       " 'RUA',\n",
       " 'GET',\n",
       " 'LIO',\n",
       " 'VARGAS',\n",
       " 'S',\n",
       " 'O',\n",
       " 'PAULO',\n",
       " 'CUPOM',\n",
       " 'FISCAL',\n",
       " 'ITEM',\n",
       " 'C',\n",
       " 'DIGO',\n",
       " 'DESCRI',\n",
       " 'O',\n",
       " 'QTD',\n",
       " 'UN',\n",
       " 'VLUNIT',\n",
       " 'RS',\n",
       " 'ST',\n",
       " 'VL',\n",
       " 'ITEMIRS',\n",
       " 'PONTEIRAPARAPER',\n",
       " 'TI',\n",
       " 'RODIZIOSFAZMM',\n",
       " 'T',\n",
       " 'TOTAL',\n",
       " 'R',\n",
       " 'D',\n",
       " 'TROCO',\n",
       " 'V',\n",
       " 'CX',\n",
       " 'SIP',\n",
       " 'V',\n",
       " 'F',\n",
       " 'E',\n",
       " 'F',\n",
       " 'IBPIFECOMERCIO',\n",
       " 'SP',\n",
       " 'C',\n",
       " 'BR']"
      ]
     },
     "execution_count": 12,
     "metadata": {},
     "output_type": "execute_result"
    }
   ],
   "source": [
    "re.findall(r\"[A-Z]+\", text)"
   ]
  },
  {
   "cell_type": "code",
   "execution_count": null,
   "id": "a929a36a",
   "metadata": {},
   "outputs": [],
   "source": [
    "# 2) find words that are uppercased and are two caracters long XX"
   ]
  },
  {
   "cell_type": "code",
   "execution_count": 15,
   "id": "84b8a464",
   "metadata": {},
   "outputs": [
    {
     "data": {
      "text/plain": [
       "['DA', 'DO', 'SC', 'TE', 'UN', 'RS', 'ST', 'VL', 'CX', 'SP', 'BR']"
      ]
     },
     "execution_count": 15,
     "metadata": {},
     "output_type": "execute_result"
    }
   ],
   "source": [
    "re.findall(r\"\\b[A-Z]{2}\\b\", text)"
   ]
  },
  {
   "cell_type": "code",
   "execution_count": null,
   "id": "bfe16058",
   "metadata": {},
   "outputs": [],
   "source": [
    "# 3) find words that are uppercased and are three characters long or more XXX... "
   ]
  },
  {
   "cell_type": "code",
   "execution_count": 16,
   "id": "bf9be3c1",
   "metadata": {},
   "outputs": [
    {
     "data": {
      "text/plain": [
       "['METALNOX',\n",
       " 'LTDA',\n",
       " 'RUA',\n",
       " 'THEODORO',\n",
       " 'RIBEIRO',\n",
       " 'ILHA',\n",
       " 'FIGUEIRA',\n",
       " 'CEP',\n",
       " 'SUL',\n",
       " 'CNPJ',\n",
       " 'XXX',\n",
       " 'XKXXXX',\n",
       " 'CCF',\n",
       " 'COD',\n",
       " 'CNPJICPF',\n",
       " 'NOME',\n",
       " 'DOS',\n",
       " 'SANTOS',\n",
       " 'END',\n",
       " 'RUA',\n",
       " 'VARGAS',\n",
       " 'PAULO',\n",
       " 'CUPOM',\n",
       " 'FISCAL',\n",
       " 'ITEM',\n",
       " 'QTD',\n",
       " 'VLUNIT',\n",
       " 'ITEMIRS',\n",
       " 'PONTEIRAPARAPER',\n",
       " 'RODIZIOSFAZMM',\n",
       " 'TOTAL',\n",
       " 'TROCO',\n",
       " 'SIP',\n",
       " 'IBPIFECOMERCIO']"
      ]
     },
     "execution_count": 16,
     "metadata": {},
     "output_type": "execute_result"
    }
   ],
   "source": [
    "re.findall(r\"\\b[A-Z]{3,}\\b\", text)"
   ]
  },
  {
   "cell_type": "code",
   "execution_count": null,
   "id": "c69803f5",
   "metadata": {},
   "outputs": [],
   "source": [
    "# 4) find capitalized words Xxxxx"
   ]
  },
  {
   "cell_type": "code",
   "execution_count": 19,
   "id": "16fc1b6f",
   "metadata": {},
   "outputs": [
    {
     "data": {
      "text/plain": [
       "['R', 'Dinheiro', 'Vendedor', 'Valor', 'Fed', 'Est', 'Fonte']"
      ]
     },
     "execution_count": 19,
     "metadata": {},
     "output_type": "execute_result"
    }
   ],
   "source": [
    "re.findall(r\"\\b[A-Z][a-z]*\\b\", text)"
   ]
  },
  {
   "cell_type": "code",
   "execution_count": null,
   "id": "390fdf3a",
   "metadata": {},
   "outputs": [],
   "source": [
    "# 5) find all tokens (sequence of characters separated by space) with numbers (tips: \\d, \\S, +, *)"
   ]
  },
  {
   "cell_type": "code",
   "execution_count": 20,
   "id": "73c9d664",
   "metadata": {},
   "outputs": [
    {
     "data": {
      "text/plain": [
       "['3571,',\n",
       " '89.258-001',\n",
       " '78.810.975/0001-72',\n",
       " '20/06/2015',\n",
       " '11:55:23',\n",
       " '012249',\n",
       " '020990',\n",
       " '754.523,157-05',\n",
       " '449',\n",
       " '001',\n",
       " '1955',\n",
       " '204250',\n",
       " 'TI700%',\n",
       " '50,00',\n",
       " '001',\n",
       " '1875',\n",
       " '204280',\n",
       " 'T1700%',\n",
       " '56,00',\n",
       " '106,00',\n",
       " '150,00',\n",
       " '44,00',\n",
       " '000008',\n",
       " '000213946-01',\n",
       " '1',\n",
       " '0,44]',\n",
       " '0,50)',\n",
       " '9013aC']"
      ]
     },
     "execution_count": 20,
     "metadata": {},
     "output_type": "execute_result"
    }
   ],
   "source": [
    "re.findall(r\"\\S*\\d+\\S*\", text)"
   ]
  },
  {
   "cell_type": "markdown",
   "id": "ea5b4dcd",
   "metadata": {},
   "source": [
    "## Further regex overview\n",
    "```\n",
    "- (...)     Matches ..., consumes it and catches it to a group\n",
    "- (?:...)   Matches ..., consumes it and doesn't catch it\n",
    "- (?=...)   Matches ..., doesn't consume and doesn't catch it\n",
    "- (?!...)   Matches if not ..., doesn't consume it and doesn't catch it\n",
    "\n",
    "- \\n n=1,2...  Matches the n-th catching group    \n",
    "\n",
    "```"
   ]
  },
  {
   "cell_type": "code",
   "execution_count": null,
   "id": "7bdfa981",
   "metadata": {},
   "outputs": [],
   "source": [
    "# 6) find all unique consonants (tips: (?!...), python set)"
   ]
  },
  {
   "cell_type": "code",
   "execution_count": 23,
   "id": "6b99abf0",
   "metadata": {
    "scrolled": true
   },
   "outputs": [
    {
     "data": {
      "text/plain": [
       "{'B',\n",
       " 'C',\n",
       " 'D',\n",
       " 'F',\n",
       " 'G',\n",
       " 'H',\n",
       " 'J',\n",
       " 'K',\n",
       " 'L',\n",
       " 'M',\n",
       " 'N',\n",
       " 'P',\n",
       " 'Q',\n",
       " 'R',\n",
       " 'S',\n",
       " 'T',\n",
       " 'V',\n",
       " 'X',\n",
       " 'Z',\n",
       " 'b',\n",
       " 'c',\n",
       " 'd',\n",
       " 'h',\n",
       " 'l',\n",
       " 'm',\n",
       " 'n',\n",
       " 'p',\n",
       " 'r',\n",
       " 's',\n",
       " 't',\n",
       " 'x'}"
      ]
     },
     "execution_count": 23,
     "metadata": {},
     "output_type": "execute_result"
    }
   ],
   "source": [
    "set(re.findall(r\"(?=[^aeiouAEIOU])[a-zA-Z]\", text))"
   ]
  },
  {
   "cell_type": "code",
   "execution_count": null,
   "id": "22d9e3e9",
   "metadata": {},
   "outputs": [],
   "source": [
    "# 7) find all words with the patter xyx, where x is a vowel and y is a consonant"
   ]
  },
  {
   "cell_type": "code",
   "execution_count": 26,
   "id": "15eab138",
   "metadata": {},
   "outputs": [
    {
     "data": {
      "text/plain": [
       "<re.Match object; span=(45, 53), match='THEODORO'>"
      ]
     },
     "execution_count": 26,
     "metadata": {},
     "output_type": "execute_result"
    }
   ],
   "source": [
    "re.search(r\"[a-zA-Z]*([aeiouAEIOU])(?=[^aeiouAEIOU])[a-zA-Z]\\1[a-zA-Z]*\", text)"
   ]
  },
  {
   "cell_type": "code",
   "execution_count": 35,
   "id": "088018b7",
   "metadata": {},
   "outputs": [
    {
     "data": {
      "text/plain": [
       "[('THEODORO', 'O'),\n",
       " ('JARAGU', 'A'),\n",
       " ('PONTEIRAPARAPER', 'A'),\n",
       " ('RODIZIOSFAZMM', 'I'),\n",
       " ('TROCO', 'O')]"
      ]
     },
     "execution_count": 35,
     "metadata": {},
     "output_type": "execute_result"
    }
   ],
   "source": [
    "re.findall(r\"([a-zA-Z]*([aeiouAEIOU])(?=[^aeiouAEIOU])[a-zA-Z]\\2[a-zA-Z]*)\", text)"
   ]
  },
  {
   "cell_type": "markdown",
   "id": "f25ff62b",
   "metadata": {},
   "source": [
    "<hr>"
   ]
  },
  {
   "cell_type": "markdown",
   "id": "d670fa59",
   "metadata": {},
   "source": [
    "<hr>"
   ]
  },
  {
   "cell_type": "markdown",
   "id": "d36cb670",
   "metadata": {},
   "source": [
    "## More exercises"
   ]
  },
  {
   "cell_type": "markdown",
   "id": "78caf557",
   "metadata": {},
   "source": [
    "### 1) Find the domains\n",
    "```\n",
    "Example\n",
    "http://www.aaaaa.com/bbbb/cccc?ddd=ee -> aaaaa.com\n",
    "```"
   ]
  },
  {
   "cell_type": "code",
   "execution_count": 36,
   "id": "023eb7b3",
   "metadata": {},
   "outputs": [],
   "source": [
    "# https://www.hackerrank.com/challenges/detect-the-domain-name/problem?isFullScreen=true\n",
    "text = \"\"\"\n",
    "<div class=\"reflist\" style=\"list-style-type: decimal;\">\n",
    "<ol class=\"references\">\n",
    "<li id=\"cite_note-1\"><span class=\"mw-cite-backlink\"><b>^ [\"Train (noun)\"](http://www.askoxford.com/concise_oed/train?view=uk). <i>(definition – Compact OED)</i>. Oxford University Press<span class=\"reference-accessdate\">. Retrieved 2008-03-18</span>.</span><span title=\"ctx_ver=Z39.88-2004&rfr_id=info%3Asid%2Fen.wikipedia.org%3ATrain&rft.atitle=Train+%28noun%29&rft.genre=article&rft_id=http%3A%2F%2Fwww.askoxford.com%2Fconcise_oed%2Ftrain%3Fview%3Duk&rft.jtitle=%28definition+%E2%80%93+Compact+OED%29&rft.pub=Oxford+University+Press&rft_val_fmt=info%3Aofi%2Ffmt%3Akev%3Amtx%3Ajournal\" class=\"Z3988\"><span style=\"display:none;\"> </span></span></span></li>\n",
    "<li id=\"cite_note-2\"><span class=\"mw-cite-backlink\"><b>^</b></span> <span class=\"reference-text\"><span class=\"citation book\">Atchison, Topeka and Santa Fe Railway (1948). <i>Rules: Operating Department</i>. p. 7.</span><span title=\"ctx_ver=Z39.88-2004&rfr_id=info%3Asid%2Fen.wikipedia.org%3ATrain&rft.au=Atchison%2C+Topeka+and+Santa+Fe+Railway&rft.aulast=Atchison%2C+Topeka+and+Santa+Fe+Railway&rft.btitle=Rules%3A+Operating+Department&rft.date=1948&rft.genre=book&rft.pages=7&rft_val_fmt=info%3Aofi%2Ffmt%3Akev%3Amtx%3Abook\" class=\"Z3988\"><span style=\"display:none;\"> </span></span></span></li>\n",
    "<li id=\"cite_note-3\"><span class=\"mw-cite-backlink\"><b>^ [Hydrogen trains](http://www.hydrogencarsnow.com/blog2/index.php/hydrogen-vehicles/i-hear-the-hydrogen-train-a-comin-its-rolling-round-the-bend/)</span></li>\n",
    "<li id=\"cite_note-4\"><span class=\"mw-cite-backlink\"><b>^ [Vehicle Projects Inc. Fuel cell locomotive](http://www.bnsf.com/media/news/articles/2008/01/2008-01-09a.html)</span></li>\n",
    "<li id=\"cite_note-5\"><span class=\"mw-cite-backlink\"><b>^</b></span> <span class=\"reference-text\"><span class=\"citation book\">Central Japan Railway (2006). <i>Central Japan Railway Data Book 2006</i>. p. 16.</span><span title=\"ctx_ver=Z39.88-2004&rfr_id=info%3Asid%2Fen.wikipedia.org%3ATrain&rft.au=Central+Japan+Railway&rft.aulast=Central+Japan+Railway&rft.btitle=Central+Japan+Railway+Data+Book+2006&rft.date=2006&rft.genre=book&rft.pages=16&rft_val_fmt=info%3Aofi%2Ffmt%3Akev%3Amtx%3Abook\" class=\"Z3988\"><span style=\"display:none;\"> </span></span></span></li>\n",
    "<li id=\"cite_note-6\"><span class=\"mw-cite-backlink\"><b>^ [\"Overview Of the existing Mumbai Suburban Railway\"](http://web.archive.org/web/20080620033027/http://www.mrvc.indianrail.gov.in/overview.htm). _Official webpage of Mumbai Railway Vikas Corporation_. Archived from [the original](http://www.mrvc.indianrail.gov.in/overview.htm) on 2008-06-20<span class=\"reference-accessdate\">. Retrieved 2008-12-11</span>.</span><span title=\"ctx_ver=Z39.88-2004&rfr_id=info%3Asid%2Fen.wikipedia.org%3ATrain&rft.atitle=Overview+Of+the+existing+Mumbai+Suburban+Railway&rft.genre=article&rft_id=http%3A%2F%2Fwww.mrvc.indianrail.gov.in%2Foverview.htm&rft.jtitle=Official+webpage+of+Mumbai+Railway+Vikas+Corporation&rft_val_fmt=info%3Aofi%2Ffmt%3Akev%3Amtx%3Ajournal\" class=\"Z3988\"><span style=\"display:none;\"> </span></span></span></li>\n",
    "</ol>\n",
    "</div>\n",
    "\"\"\""
   ]
  },
  {
   "cell_type": "code",
   "execution_count": 40,
   "id": "6f011950",
   "metadata": {},
   "outputs": [
    {
     "data": {
      "text/plain": [
       "{'askoxford.com',\n",
       " 'bnsf.com',\n",
       " 'hydrogencarsnow.com',\n",
       " 'mrvc.indianrail.gov.in',\n",
       " 'web.archive.org'}"
      ]
     },
     "execution_count": 40,
     "metadata": {},
     "output_type": "execute_result"
    }
   ],
   "source": [
    "set(sorted(re.findall(r\"http://(?:www\\.|ww2/|)([^/]*)\", text)))"
   ]
  },
  {
   "cell_type": "code",
   "execution_count": null,
   "id": "c068e949",
   "metadata": {},
   "outputs": [],
   "source": [
    "# answer\n",
    "\"\"\"\n",
    "askoxford.com;\n",
    "bnsf.com;\n",
    "hydrogencarsnow.com;\n",
    "mrvc.indianrail.gov.in;\n",
    "web.archive.org\n",
    "\"\"\""
   ]
  },
  {
   "cell_type": "markdown",
   "id": "4cc8fef8",
   "metadata": {},
   "source": [
    "### 2) Find the emails"
   ]
  },
  {
   "cell_type": "code",
   "execution_count": 41,
   "id": "5e2e7ad5",
   "metadata": {},
   "outputs": [],
   "source": [
    "# https://www.hackerrank.com/challenges/detect-the-email-addresses/problem?isFullScreen=true\n",
    "text = \"\"\"\n",
    "HackerRank is more than just a company\n",
    "    We are a tight group of hackers, bootstrappers, entrepreneurial thinkers and innovators. We are building an engaged community of problem solvers. Imagine the intelligence and value that a room would hold if it contained hackers/problem solvers from around the world? We're building this online.\n",
    "Hypothesis: Every hacker loves a particular type of challenge presented in a certain set of difficulty. If we build a large collection of real world challenges in different domains with an engaging interface, it is going to be incredible! Join us to create history.\n",
    "Available Positions\n",
    "Product Hacker product@hackerrank.com\n",
    "Challenge Curator\n",
    "Product Evangelist\n",
    "Product Designer\n",
    "Content Creator\n",
    "ACM World Finals Hacker\n",
    "Backend C++ Hacker\n",
    "Mail us at hackers@hackerrank.com to chat more. Or you can write to us at interviewstreet@hackerrank.com!\n",
    "HACKERRANK PERKS\n",
    "Working for a startup is hard work, but there are plenty of benefits of working for a small, fun, growing team.\n",
    "[Image] Perk: Get tools for the jobAll the Right ToolsWe know that everyone's perfect workspace is unique to them. We will get you set up with whatever equipment you need to start hacking - a new 15” Macbook Pro or iMac, or a computer of your choice plus a display if you need it. Additionally, if you require any software or other tools, we've got it covered.[Image] Perk: Flexible HoursFlexible HoursBecause we work so hard, we encourage our employees to keep flexible hours and don't require them to track their time. A morning scrum and open communication ensures that the job gets done on time, and we rely on the honor system so that you can work on your own pace.[Image] Perk: HealthcareWellness SupportTo work hard, you have to be healthy. We will cover your health, dental, and visual insurance with no wait period. That means instant benefits from the day you're hired.[Image] Perk: Choice of LocationLocation, Location, LocationWe are the first Indian company to be backed by Y-Combinator, and as a result we have a thriving office in Bangalore and a growing office in Mountain View, CA. Depending on your residency or visa status, we will get you situated in one of our two offices, both of which are located in the heart of their country's tech industry.[Image] Perk: Choice of LocationCreative SupportIf you have a cool side project that you want to launch, we will pay for EC2/heroku servers to get it off the ground. Side projects fuel creativity and learning, which are crucial to the HackerRank culture.\n",
    "CULTURE\n",
    "The culture of a startup is reflective of the founders’ DNA. Larry Page & Sergey Brin were PhD’s from Stanford and that’s why Google is filled with high scoring graders from top schools and is very hard to get in if you’re not a CS major. Similarly, the hacker culture at Facebook is inspired by Zuckerberg, a hacker, the design culture by Steve Jobs and so on.\n",
    "The adjective to describe the environment/founders here is relentless hardworkers. It might be a general trait of a startup but I’m pretty sure it’s a notch higher here and defines the culture. This is what has taken us this far. It’s not working in weekends or allnighters that count, but the effort that goes into building something intellectually engaging for hackers and making it fun is high.\n",
    "You’ll have to embrace randomness and chaos. There’s some level of discipline (eg: daily scrums) but only so much. We push boundaries everyday, stretch our limits but no one complains because there’s a feeling of doing something great at the end of the day, every single day.\n",
    "\n",
    "\"\"\""
   ]
  },
  {
   "cell_type": "code",
   "execution_count": 43,
   "id": "65118897",
   "metadata": {},
   "outputs": [
    {
     "data": {
      "text/plain": [
       "['product@hackerrank.com',\n",
       " 'hackers@hackerrank.com',\n",
       " 'interviewstreet@hackerrank.com']"
      ]
     },
     "execution_count": 43,
     "metadata": {},
     "output_type": "execute_result"
    }
   ],
   "source": [
    "re.findall(r\"[a-zA-Z0-9_]+@[a-zA-Z0-9_\\.]+\", text)"
   ]
  },
  {
   "cell_type": "code",
   "execution_count": null,
   "id": "252a5634",
   "metadata": {},
   "outputs": [],
   "source": [
    "# answer\n",
    "\"\"\"\n",
    "hackers@hackerrank.com;\n",
    "interviewstreet@hackerrank.com;\n",
    "product@hackerrank.com\n",
    "\"\"\""
   ]
  },
  {
   "cell_type": "markdown",
   "id": "eca23496",
   "metadata": {},
   "source": [
    "### 3) Find C code comments"
   ]
  },
  {
   "cell_type": "code",
   "execution_count": 45,
   "id": "2392699c",
   "metadata": {},
   "outputs": [],
   "source": [
    "# (modified) https://www.hackerrank.com/challenges/ide-identifying-comments/problem?isFullScreen=true\n",
    "text = \"\"\"\n",
    " /*This is a program to calculate area of a * circle  * after getting the radius as input from the user*/\n",
    "#include<stdio.h>\n",
    "int main()\n",
    "{\n",
    "   double radius,area;//variables for storing radius and area\n",
    "   printf(\"Enter the radius of the circle whose area is to be calculated\\n\");\n",
    "   scanf(\"%lf\",&radius);//entering the value for radius of the circle as float data type\n",
    "   area=(22.0/7.0)*pow(radius,2);//Mathematical function pow is used to calculate square of radius\n",
    "   printf(\"The area of the circle is %lf\",area);//displaying the results\n",
    "   getch();\n",
    "}\n",
    "/*A test run for the program was carried out and following output was observed\n",
    "If 50 is the radius of the circle whose area is to be calculated\n",
    "The area of the circle is 7857.1429*/\n",
    "/** final comments**/\n",
    "\"\"\""
   ]
  },
  {
   "cell_type": "code",
   "execution_count": 47,
   "id": "f8708a62",
   "metadata": {},
   "outputs": [
    {
     "data": {
      "text/plain": [
       "['This is a program to calculate area of a * circle  * after getting the radius as input from the user',\n",
       " 'A test run for the program was carried out and following output was observed\\nIf 50 is the radius of the circle whose area is to be calculated\\nThe area of the circle is 7857.1429',\n",
       " '* final comments*']"
      ]
     },
     "execution_count": 47,
     "metadata": {},
     "output_type": "execute_result"
    }
   ],
   "source": [
    "re.findall(r\"/\\*(.*?)\\*/\", text, flags=re.DOTALL)"
   ]
  },
  {
   "cell_type": "code",
   "execution_count": 48,
   "id": "b90754ba",
   "metadata": {},
   "outputs": [
    {
     "data": {
      "text/plain": [
       "[' final comments']"
      ]
     },
     "execution_count": 48,
     "metadata": {},
     "output_type": "execute_result"
    }
   ],
   "source": [
    "re.findall(r\"/\\*\\*(.*?)\\*\\*/\", text, flags=re.DOTALL)"
   ]
  },
  {
   "cell_type": "code",
   "execution_count": 50,
   "id": "0e6c7392",
   "metadata": {},
   "outputs": [
    {
     "data": {
      "text/plain": [
       "['variables for storing radius and area',\n",
       " 'entering the value for radius of the circle as float data type',\n",
       " 'Mathematical function pow is used to calculate square of radius',\n",
       " 'displaying the results']"
      ]
     },
     "execution_count": 50,
     "metadata": {},
     "output_type": "execute_result"
    }
   ],
   "source": [
    "re.findall(r\"//([^\\n]*)\", text)"
   ]
  }
 ],
 "metadata": {
  "kernelspec": {
   "display_name": "Python 3 (ipykernel)",
   "language": "python",
   "name": "python3"
  },
  "language_info": {
   "codemirror_mode": {
    "name": "ipython",
    "version": 3
   },
   "file_extension": ".py",
   "mimetype": "text/x-python",
   "name": "python",
   "nbconvert_exporter": "python",
   "pygments_lexer": "ipython3",
   "version": "3.8.13"
  }
 },
 "nbformat": 4,
 "nbformat_minor": 5
}
