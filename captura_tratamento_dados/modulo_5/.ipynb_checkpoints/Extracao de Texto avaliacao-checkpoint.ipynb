{
 "cells": [
  {
   "cell_type": "markdown",
   "metadata": {},
   "source": [
    "# <span style=\"color:blue\"> MBA em Ciência de Dados</span>\n",
    "# <span style=\"color:blue\">Técnicas Avançadas para Captura e Tratamento de Dados</span>\n",
    "\n",
    "## <span style=\"color:blue\">Identificação e Extração de Texto</span>\n",
    "    \n",
    "## <span style=\"color:blue\">Avaliação</span>\n",
    "\n",
    "**Material Produzido por Luis Gustavo Nonato**<br>\n",
    "**Cemeai - ICMC/USP São Carlos**\n",
    "---"
   ]
  },
  {
   "cell_type": "markdown",
   "metadata": {},
   "source": [
    "Os exercícios a seguir farão uso do aquivo <font style=\"font-family: monaco\"> nfe-avaliacao.pdf</font>, disponíveis para download no Moodle."
   ]
  },
  {
   "cell_type": "markdown",
   "metadata": {},
   "source": [
    "### Exercício 1)\n",
    "Considere a nota fiscal eletrônica representada no arquivo <font style=\"font-family: monaco\"> nfe-avaliacao.pdf</font>. Converta o arquivo PDF em uma imagem no formato PNG. Utilize o pacote <font color='blue'>PIL</font> para carregar a imagem gerada. Qual a resolução da imagem gerada?\n",
    "\n",
    "a) 1653 X 2339 <br>\n",
    "b) 1024 X 640 <br>\n",
    "c) 640 X 2339<br>\n",
    "d) 1001 X 2020\n",
    "\n",
    "\n",
    "**Dica**: Utilize o atribute `size` do objeto PIL para obter as dimensões da imagem e empregue os parâmetros default do método <font color='blue'>convert_from_path</font> para gerar a imagem.\n"
   ]
  },
  {
   "cell_type": "code",
   "execution_count": 1,
   "metadata": {
    "scrolled": true
   },
   "outputs": [],
   "source": [
    "from pdf2image import convert_from_path \n",
    "from PIL import Image"
   ]
  },
  {
   "cell_type": "code",
   "execution_count": 3,
   "metadata": {},
   "outputs": [],
   "source": [
    "imagem_paginas = convert_from_path('/Users/jp.ducatti/Documents/mba_data_science_usp/captura_tratamento_dados/modulo_5/apoio/nfe-avaliacao.pdf') \n"
   ]
  },
  {
   "cell_type": "code",
   "execution_count": null,
   "metadata": {},
   "outputs": [],
   "source": []
  },
  {
   "cell_type": "markdown",
   "metadata": {},
   "source": [
    "### Exercício 2)\n",
    "Aplique OCR para extrair o texto contido na imagem gerada no exercício 1). Quantas linhas o texto resultante possui?\n",
    "\n",
    "a) Menos de 100 linhas<br>\n",
    "b) Entre 101 e 150 linhas<br>\n",
    "c) Entre 151 e 200 linhas<br>\n",
    "d) Mais de 201 linhas<br>\n",
    "\n",
    "**Dica**: Para contar as linhas, procure pelo número de ocorrências do símbolo '\\n' no texto extraído."
   ]
  },
  {
   "cell_type": "code",
   "execution_count": 16,
   "metadata": {},
   "outputs": [],
   "source": [
    "import pytesseract as ocr"
   ]
  },
  {
   "cell_type": "markdown",
   "metadata": {},
   "source": [
    "### Exercício 3)\n",
    "Escreva uma expressão regular para encontrar todos os valores financeiros descritos na nota. Ou seja, todos as ocorrências de uma sequência de dígitos que precedem uma vírgula, a qual é seguida de exatamente outros dois dígitos (por exemplo: 7545,43). Quantas ocorrências de valores financeiros existem na NEF?\n",
    "\n",
    "\n",
    "a) Menos de 20 <br>\n",
    "b) Entre 21 e 29<br>\n",
    "c) Entre 30 e 40<br>\n",
    "d) Mais de 41"
   ]
  },
  {
   "cell_type": "code",
   "execution_count": 15,
   "metadata": {},
   "outputs": [],
   "source": [
    "import re"
   ]
  },
  {
   "cell_type": "markdown",
   "metadata": {},
   "source": [
    "### Exercício 4)\n",
    "Dos valores financeiros obtidos no exercício anterior, os de valor maior que R$ 100,00 somam:\n",
    "\n",
    "a) Menos de 10000,00<br>\n",
    "b) Entre 10000,01 e 20000,00<br>\n",
    "c) Entre 20000,01 e 30000,00<br>\n",
    "d) Mais de 30000,01\n",
    "\n",
    "**Dica**: Converta as strings para float."
   ]
  },
  {
   "cell_type": "code",
   "execution_count": null,
   "metadata": {},
   "outputs": [],
   "source": []
  },
  {
   "cell_type": "markdown",
   "metadata": {},
   "source": [
    "### Exercício 5)\n",
    "Encontre todas as ocorrências da palavra \"VALOR\" onde o OCR reconheceu o caractere \"V\" de forma errada. Por exemplo, existem ocorrências onde o caractere \"V\" foi trocado pelo símbolo \" ' \". Quantas ocorrências foram encontrada?\n",
    "\n",
    "a) Menos de 10 <br>\n",
    "b) Entre 11 e 20<br>\n",
    "c) Entre 21 e 30<br>\n",
    "d) Mais de 31\n",
    "\n",
    "**Dica**: utilize o símbolo '^' combinado com '[ ]'. Veja documentação [aqui](https://docs.python.org/3/library/re.html)."
   ]
  },
  {
   "cell_type": "code",
   "execution_count": null,
   "metadata": {},
   "outputs": [],
   "source": []
  }
 ],
 "metadata": {
  "kernelspec": {
   "display_name": "Python 3 (ipykernel)",
   "language": "python",
   "name": "python3"
  },
  "language_info": {
   "codemirror_mode": {
    "name": "ipython",
    "version": 3
   },
   "file_extension": ".py",
   "mimetype": "text/x-python",
   "name": "python",
   "nbconvert_exporter": "python",
   "pygments_lexer": "ipython3",
   "version": "3.9.7"
  }
 },
 "nbformat": 4,
 "nbformat_minor": 2
}
