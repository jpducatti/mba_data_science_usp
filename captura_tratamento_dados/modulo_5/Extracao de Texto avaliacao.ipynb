{
 "cells": [
  {
   "cell_type": "markdown",
   "metadata": {},
   "source": [
    "# <span style=\"color:blue\"> MBA em Ciência de Dados</span>\n",
    "# <span style=\"color:blue\">Técnicas Avançadas para Captura e Tratamento de Dados</span>\n",
    "\n",
    "## <span style=\"color:blue\">Identificação e Extração de Texto</span>\n",
    "    \n",
    "## <span style=\"color:blue\">Avaliação</span>\n",
    "\n",
    "**Material Produzido por Luis Gustavo Nonato**<br>\n",
    "**Cemeai - ICMC/USP São Carlos**\n",
    "---"
   ]
  },
  {
   "cell_type": "markdown",
   "metadata": {},
   "source": [
    "Os exercícios a seguir farão uso do aquivo <font style=\"font-family: monaco\"> nfe-avaliacao.pdf</font>, disponíveis para download no Moodle."
   ]
  },
  {
   "cell_type": "markdown",
   "metadata": {},
   "source": [
    "### Exercício 1)\n",
    "Considere a nota fiscal eletrônica representada no arquivo <font style=\"font-family: monaco\"> nfe-avaliacao.pdf</font>. Converta o arquivo PDF em uma imagem no formato PNG. Utilize o pacote <font color='blue'>PIL</font> para carregar a imagem gerada. Qual a resolução da imagem gerada?\n",
    "\n",
    "a) 1653 X 2339 <br>\n",
    "b) 1024 X 640 <br>\n",
    "c) 640 X 2339<br>\n",
    "d) 1001 X 2020\n",
    "\n",
    "\n",
    "**Dica**: Utilize o atribute `size` do objeto PIL para obter as dimensões da imagem e empregue os parâmetros default do método <font color='blue'>convert_from_path</font> para gerar a imagem.\n"
   ]
  },
  {
   "cell_type": "code",
   "execution_count": 1,
   "metadata": {
    "scrolled": true
   },
   "outputs": [],
   "source": [
    "from pdf2image import convert_from_path \n",
    "from PIL import Image"
   ]
  },
  {
   "cell_type": "code",
   "execution_count": 4,
   "metadata": {},
   "outputs": [],
   "source": [
    "imagem_paginas = convert_from_path('/Users/jp.ducatti/Documents/mba_data_science_usp/captura_tratamento_dados/modulo_5/apoio/nfe-avaliacao.pdf') \n"
   ]
  },
  {
   "cell_type": "code",
   "execution_count": 5,
   "metadata": {},
   "outputs": [
    {
     "name": "stdout",
     "output_type": "stream",
     "text": [
      "Gravando pagina:  paginas/pagina_0.png\n"
     ]
    }
   ],
   "source": [
    "# Salvando cada imagem das páginas em um arquivo\n",
    "# Voce precisa criar um diretorio chamado \"paginas\"\n",
    "# na mesma pasta onde este notebook esta armazenado \n",
    "for i,pagina in enumerate(imagem_paginas): \n",
    "    # PDF pagina 1 -> pagina_1.png  \n",
    "    # PDF pagina 2 -> pagina_2.png  \n",
    "    # .... \n",
    "    filename = \"paginas/pagina_\"+str(i)+\".png\"\n",
    "      \n",
    "    # Salavando a imagen da página em um arquivo\n",
    "    print('Gravando pagina: ',filename)\n",
    "    pagina.save(filename, 'PNG') "
   ]
  },
  {
   "cell_type": "code",
   "execution_count": 6,
   "metadata": {},
   "outputs": [
    {
     "data": {
      "text/plain": [
       "(1653, 2339)"
      ]
     },
     "execution_count": 6,
     "metadata": {},
     "output_type": "execute_result"
    }
   ],
   "source": [
    "img = Image.open(\"/Users/jp.ducatti/Documents/mba_data_science_usp/captura_tratamento_dados/modulo_5/paginas/pagina_0.png\")\n",
    "\n",
    "img.size"
   ]
  },
  {
   "cell_type": "markdown",
   "metadata": {},
   "source": [
    "### Exercício 2)\n",
    "Aplique OCR para extrair o texto contido na imagem gerada no exercício 1). Quantas linhas o texto resultante possui?\n",
    "\n",
    "a) Menos de 100 linhas<br>\n",
    "b) Entre 101 e 150 linhas<br>\n",
    "c) Entre 151 e 200 linhas<br>\n",
    "d) Mais de 201 linhas<br>\n",
    "\n",
    "**Dica**: Para contar as linhas, procure pelo número de ocorrências do símbolo '\\n' no texto extraído."
   ]
  },
  {
   "cell_type": "code",
   "execution_count": 12,
   "metadata": {},
   "outputs": [],
   "source": [
    "import pytesseract as ocr\n",
    "import glob\n",
    "import re"
   ]
  },
  {
   "cell_type": "code",
   "execution_count": 14,
   "metadata": {},
   "outputs": [],
   "source": []
  },
  {
   "cell_type": "code",
   "execution_count": 33,
   "metadata": {},
   "outputs": [
    {
     "name": "stdout",
     "output_type": "stream",
     "text": [
      "[\"DATA DE RECEBIMENTO\\n\\nIDENTIFICAÇÃO E ASSINATURA DO RECEBEDOR\\n\\nIDENTIFICAÇÃO DO EMITENTE\\n\\nDA\\n\\n0 -\\n\\nNº\\n\\nDOCUMENTO AUXILIAR\\n\\nELETRÔNICA\\n\\nENTRADA 1\\n1 - SAÍDA\\n\\nSérie 1\\nFolha 1/1\\n\\nNOTA FISCAL\\n\\nCHAVE DE ACESSO\\n\\n173550010000012101043403614\\n\\nAutorizadora.\\n\\nConsulta de autenticidade no portal nacional da NF-e\\nwww.nfe.fazenda.gov.br/portal ou no site da Sefaz\\n\\nNATUREZA DE OPERAÇÃO\\nSs -\\n\\nREMESSA DE FATURAMENTO ANTECIPADO\\n\\nPROTOCOLO DE AUTORIZAÇÃO DE USO\\n\\n2019 15:04:31\\n\\nINSCRIÇÃO ESTADUAL INSCRIÇÃO ESTADUAL DO SUBST. TRIBUT. ENPI\\nDESTINATÁRIO / REMETENTE\\nNOME / RAZÃO SOCIAL CNPJ 7 CPF PATA DE EMISSÃO\\n\\n26/11/2019\\nENDEREÇO BAIRRO / DISTRITO EP DATA DA ENTRADA/SAÍDA\\nLOTE 227 PARQUE TECNOLOGICO 17500-200 28/11/2019\\nMUNICÍPIO FONE / FAX Us [INSCRIÇÃO ESTADUAL HORA DA SAÍDA\\nSAO CARLOS SP 08:00\\n\\nFATURA / DUPLICATA\\n\\nCÁLCULO DO IMPOSTO\\n\\nBASE DE CALCULO DO ICMS 'ALOR DO ICMS BASE DE CALCULO DO ICMS S.T. VALOR DO ICMS SUBSTITUIÇÃO 'ALOR TOTAL DOS PRODUTOS\\n0,00 0,00 0,00 0,00 5687,62\\nVALOR DO FRETE 'ALOR DO SEGURO [DESCONTO UTRAS DESP. ACESSÓRIAS |VALOR TOTAL DO IPI [3ALOR APROXIMADO DOS TRIBUTOS 'ALOR TOTAL DA NOTA\\n250,00 0,00 337,62 0,00 0,00 1425,19 5600,00\\nTRANSPORTADOR / VOLUMES TRANSPORTADOS\\nNOME / RAZÃO SOCIAL FRETE POR CONTA CÓDIGO ANTT PLACA DO VEÍCULO F NPJ / CPF\\nD-EMET. 2oTERC.\\n[I-DEST. 9-s/FRETE 1\\nENDEREÇO JUNICÍPIO F INSCRIÇÃO ESTADUAL\\nQUANTIDADE [ESPÉCIE [MARCA UMERAÇÃO [PESO BRUTO PESO LÍQUIDO\\n56, JOLUMES 1358,617 1345,008\\nDADOS DOS PRODUTOS / SERVIÇOS\\ncóp. rropuro DESCRIÇÃO DOS PRODUTOS / SeRvIÇOS nem/sa | EST Jcror| UN | QUANT. | VALOR UNIT. | VALOR TOTAL |D. CÁLC. TONS |gALOR TCHS| VALOR IPI | ALTO. | ALTO.\\n81143 [690721000500 [5117 N2 | 8,58 67,90 582,58 0,00 0,00 0,00 0 [0,00\\n84867 [69072100/0500 [5117 N2 | 16,66 134,90 2247,43 0,00 0,00 0,00 0 [0,00\\n88737 [69072300] 0500 [5117 M2 | 51,12 55,90 2857,61 0,00 0,00 0,00 0 [0,00\\n\\nCÁLCULO DO ISSQN\\n\\nINSCRIÇÃO MUNICIPAL\\n\\n'ALOR TOTAL DOS SERVIÇOS\\n0,00\\n\\nBASE DE CÁLCULO DO ISSQN\\n0,00\\n\\nBLOR DO ISSON\\n0,00\\n\\nDADOS ADICIONAIS\\n\\nINFORMAÇÕES COMPLEMENTARES\\n\\nRESERVADO AO FISCO\\n\\n\"] \n",
      " <class 'list'> \n",
      "\n",
      "********** Texto da pagina  0 ********** \n",
      "\n",
      "DATA DE RECEBIMENTO\n",
      "\n",
      "IDENTIFICAÇÃO E ASSINATURA DO RECEBEDOR\n",
      "\n",
      "IDENTIFICAÇÃO DO EMITENTE\n",
      "\n",
      "DA\n",
      "\n",
      "0 -\n",
      "\n",
      "Nº\n",
      "\n",
      "DOCUMENTO AUXILIAR\n",
      "\n",
      "ELETRÔNICA\n",
      "\n",
      "ENTRADA 1\n",
      "1 - SAÍDA\n",
      "\n",
      "Série 1\n",
      "Folha 1/1\n",
      "\n",
      "NOTA FISCAL\n",
      "\n",
      "CHAVE DE ACESSO\n",
      "\n",
      "173550010000012101043403614\n",
      "\n",
      "Autorizadora.\n",
      "\n",
      "Consulta de autenticidade no portal nacional da NF-e\n",
      "www.nfe.fazenda.gov.br/portal ou no site da Sefaz\n",
      "\n",
      "NATUREZA DE OPERAÇÃO\n",
      "Ss -\n",
      "\n",
      "REMESSA DE FATURAMENTO ANTECIPADO\n",
      "\n",
      "PROTOCOLO DE AUTORIZAÇÃO DE USO\n",
      "\n",
      "2019 15:04:31\n",
      "\n",
      "INSCRIÇÃO ESTADUAL INSCRIÇÃO ESTADUAL DO SUBST. TRIBUT. ENPI\n",
      "DESTINATÁRIO / REMETENTE\n",
      "NOME / RAZÃO SOCIAL CNPJ 7 CPF PATA DE EMISSÃO\n",
      "\n",
      "26/11/2019\n",
      "ENDEREÇO BAIRRO / DISTRITO EP DATA DA ENTRADA/SAÍDA\n",
      "LOTE 227 PARQUE TECNOLOGICO 17500-200 28/11/2019\n",
      "MUNICÍPIO FONE / FAX Us [INSCRIÇÃO ESTADUAL HORA DA SAÍDA\n",
      "SAO CARLOS SP 08:00\n",
      "\n",
      "FATURA / DUPLICATA\n",
      "\n",
      "CÁLCULO DO IMPOSTO\n",
      "\n",
      "BASE DE CALCULO DO ICMS 'ALOR DO ICMS BASE DE CALCULO DO ICMS S.T. VALOR DO ICMS SUBSTITUIÇÃO 'ALOR TOTAL DOS PRODUTOS\n",
      "0,00 0,00 0,00 0,00 5687,62\n",
      "VALOR DO FRETE 'ALOR DO SEGURO [DESCONTO UTRAS DESP. ACESSÓRIAS |VALOR TOTAL DO IPI [3ALOR APROXIMADO DOS TRIBUTOS 'ALOR TOTAL DA NOTA\n",
      "250,00 0,00 337,62 0,00 0,00 1425,19 5600,00\n",
      "TRANSPORTADOR / VOLUMES TRANSPORTADOS\n",
      "NOME / RAZÃO SOCIAL FRETE POR CONTA CÓDIGO ANTT PLACA DO VEÍCULO F NPJ / CPF\n",
      "D-EMET. 2oTERC.\n",
      "[I-DEST. 9-s/FRETE 1\n",
      "ENDEREÇO JUNICÍPIO F INSCRIÇÃO ESTADUAL\n",
      "QUANTIDADE [ESPÉCIE [MARCA UMERAÇÃO [PESO BRUTO PESO LÍQUIDO\n",
      "56, JOLUMES 1358,617 1345,008\n",
      "DADOS DOS PRODUTOS / SERVIÇOS\n",
      "cóp. rropuro DESCRIÇÃO DOS PRODUTOS / SeRvIÇOS nem/sa | EST Jcror| UN | QUANT. | VALOR UNIT. | VALOR TOTAL |D. CÁLC. TONS |gALOR TCHS| VALOR IPI | ALTO. | ALTO.\n",
      "81143 [690721000500 [5117 N2 | 8,58 67,90 582,58 0,00 0,00 0,00 0 [0,00\n",
      "84867 [69072100/0500 [5117 N2 | 16,66 134,90 2247,43 0,00 0,00 0,00 0 [0,00\n",
      "88737 [69072300] 0500 [5117 M2 | 51,12 55,90 2857,61 0,00 0,00 0,00 0 [0,00\n",
      "\n",
      "CÁLCULO DO ISSQN\n",
      "\n",
      "INSCRIÇÃO MUNICIPAL\n",
      "\n",
      "'ALOR TOTAL DOS SERVIÇOS\n",
      "0,00\n",
      "\n",
      "BASE DE CÁLCULO DO ISSQN\n",
      "0,00\n",
      "\n",
      "BLOR DO ISSON\n",
      "0,00\n",
      "\n",
      "DADOS ADICIONAIS\n",
      "\n",
      "INFORMAÇÕES COMPLEMENTARES\n",
      "\n",
      "RESERVADO AO FISCO\n",
      "\n",
      "\n"
     ]
    }
   ],
   "source": [
    "files = glob.glob(\"paginas/*\")\n",
    "\n",
    "texto = []\n",
    "for filename in files:\n",
    "    t = ocr.image_to_string(Image.open(filename), lang='por')\n",
    "    texto.append(t)\n",
    "\n",
    "print(texto, '\\n', type(texto), '\\n')\n",
    "for i,t in enumerate(texto):\n",
    "    print(5*'**','Texto da pagina ',i,5*'**','\\n')\n",
    "    print(texto[i])"
   ]
  },
  {
   "cell_type": "code",
   "execution_count": 36,
   "metadata": {},
   "outputs": [
    {
     "name": "stdout",
     "output_type": "stream",
     "text": [
      "Numero de linhas é: 92\n"
     ]
    }
   ],
   "source": [
    "print('Numero de linhas é:',len(re.findall(\"\\n\",texto[0])))"
   ]
  },
  {
   "cell_type": "markdown",
   "metadata": {},
   "source": [
    "### Exercício 3)\n",
    "Escreva uma expressão regular para encontrar todos os valores financeiros descritos na nota. Ou seja, todos as ocorrências de uma sequência de dígitos que precedem uma vírgula, a qual é seguida de exatamente outros dois dígitos (por exemplo: 7545,43). Quantas ocorrências de valores financeiros existem na NEF?\n",
    "\n",
    "\n",
    "a) Menos de 20 <br>\n",
    "b) Entre 21 e 29<br>\n",
    "c) Entre 30 e 40<br>\n",
    "d) Mais de 41"
   ]
  },
  {
   "cell_type": "code",
   "execution_count": 15,
   "metadata": {},
   "outputs": [],
   "source": [
    "import re"
   ]
  },
  {
   "cell_type": "code",
   "execution_count": 50,
   "metadata": {},
   "outputs": [
    {
     "name": "stdout",
     "output_type": "stream",
     "text": [
      "Número de valores na nota:  36\n"
     ]
    }
   ],
   "source": [
    "lista_valor = re.findall('([\\d]+,\\d\\d)(?:$|\\s+)', texto[0])\n",
    "print('Número de valores na nota: ', len(lista_valor))"
   ]
  },
  {
   "cell_type": "markdown",
   "metadata": {},
   "source": [
    "### Exercício 4)\n",
    "Dos valores financeiros obtidos no exercício anterior, os de valor maior que R$ 100,00 somam:\n",
    "\n",
    "a) Menos de 10000,00<br>\n",
    "b) Entre 10000,01 e 20000,00<br>\n",
    "c) Entre 20000,01 e 30000,00<br>\n",
    "d) Mais de 30000,01\n",
    "\n",
    "**Dica**: Converta as strings para float."
   ]
  },
  {
   "cell_type": "code",
   "execution_count": 63,
   "metadata": {},
   "outputs": [
    {
     "name": "stdout",
     "output_type": "stream",
     "text": [
      "\n",
      "Removendo '.' e substituindo ',' por '.' \n",
      "\n",
      "Convertendo para float\n",
      "[0.0, 0.0, 0.0, 0.0, 5687.62, 250.0, 0.0, 337.62, 0.0, 0.0, 1425.19, 5600.0, 8.58, 67.9, 582.58, 0.0, 0.0, 0.0, 0.0, 16.66, 134.9, 2247.43, 0.0, 0.0, 0.0, 0.0, 51.12, 55.9, 2857.61, 0.0, 0.0, 0.0, 0.0, 0.0, 0.0, 0.0]\n",
      "\n",
      "Soma total:  19323.11\n"
     ]
    }
   ],
   "source": [
    "# removendo '.' e substituindo ',' por '.' \n",
    "print(\"\\nRemovendo '.' e substituindo ',' por '.' \")\n",
    "float_list = [s.replace('.','').replace(',','.') for s in lista_valor] \n",
    "\n",
    "# convertendo para float e somando\n",
    "print(\"\\nConvertendo para float\")\n",
    "float_list = list(map(float, float_list))\n",
    "print(float_list)\n",
    "print('\\nSoma total: ', sum(float_list))"
   ]
  },
  {
   "cell_type": "markdown",
   "metadata": {},
   "source": [
    "### Exercício 5)\n",
    "Encontre todas as ocorrências da palavra \"VALOR\" onde o OCR reconheceu o caractere \"V\" de forma errada. Por exemplo, existem ocorrências onde o caractere \"V\" foi trocado pelo símbolo \" ' \". Quantas ocorrências foram encontrada?\n",
    "\n",
    "a) Menos de 10 <br>\n",
    "b) Entre 11 e 20<br>\n",
    "c) Entre 21 e 30<br>\n",
    "d) Mais de 31\n",
    "\n",
    "**Dica**: utilize o símbolo '^' combinado com '[ ]'. Veja documentação [aqui](https://docs.python.org/3/library/re.html)."
   ]
  },
  {
   "cell_type": "code",
   "execution_count": 102,
   "metadata": {},
   "outputs": [
    {
     "name": "stdout",
     "output_type": "stream",
     "text": [
      "String VALOR na nota:  [\"'ALOR\", \"'ALOR\", \"'ALOR\", '3ALOR', \"'ALOR\", 'gALOR', \"'ALOR\"]\n",
      "Contagem da String VALOR na nota:  7\n",
      "DATA DE RECEBIMENTO\n",
      "\n",
      "IDENTIFICAÇÃO E ASSINATURA DO RECEBEDOR\n",
      "\n",
      "IDENTIFICAÇÃO DO EMITENTE\n",
      "\n",
      "DA\n",
      "\n",
      "0 -\n",
      "\n",
      "Nº\n",
      "\n",
      "DOCUMENTO AUXILIAR\n",
      "\n",
      "ELETRÔNICA\n",
      "\n",
      "ENTRADA 1\n",
      "1 - SAÍDA\n",
      "\n",
      "Série 1\n",
      "Folha 1/1\n",
      "\n",
      "NOTA FISCAL\n",
      "\n",
      "CHAVE DE ACESSO\n",
      "\n",
      "173550010000012101043403614\n",
      "\n",
      "Autorizadora.\n",
      "\n",
      "Consulta de autenticidade no portal nacional da NF-e\n",
      "www.nfe.fazenda.gov.br/portal ou no site da Sefaz\n",
      "\n",
      "NATUREZA DE OPERAÇÃO\n",
      "Ss -\n",
      "\n",
      "REMESSA DE FATURAMENTO ANTECIPADO\n",
      "\n",
      "PROTOCOLO DE AUTORIZAÇÃO DE USO\n",
      "\n",
      "2019 15:04:31\n",
      "\n",
      "INSCRIÇÃO ESTADUAL INSCRIÇÃO ESTADUAL DO SUBST. TRIBUT. ENPI\n",
      "DESTINATÁRIO / REMETENTE\n",
      "NOME / RAZÃO SOCIAL CNPJ 7 CPF PATA DE EMISSÃO\n",
      "\n",
      "26/11/2019\n",
      "ENDEREÇO BAIRRO / DISTRITO EP DATA DA ENTRADA/SAÍDA\n",
      "LOTE 227 PARQUE TECNOLOGICO 17500-200 28/11/2019\n",
      "MUNICÍPIO FONE / FAX Us [INSCRIÇÃO ESTADUAL HORA DA SAÍDA\n",
      "SAO CARLOS SP 08:00\n",
      "\n",
      "FATURA / DUPLICATA\n",
      "\n",
      "CÁLCULO DO IMPOSTO\n",
      "\n",
      "BASE DE CALCULO DO ICMS 'ALOR DO ICMS BASE DE CALCULO DO ICMS S.T. VALOR DO ICMS SUBSTITUIÇÃO 'ALOR TOTAL DOS PRODUTOS\n",
      "0,00 0,00 0,00 0,00 5687,62\n",
      "VALOR DO FRETE 'ALOR DO SEGURO [DESCONTO UTRAS DESP. ACESSÓRIAS |VALOR TOTAL DO IPI [3ALOR APROXIMADO DOS TRIBUTOS 'ALOR TOTAL DA NOTA\n",
      "250,00 0,00 337,62 0,00 0,00 1425,19 5600,00\n",
      "TRANSPORTADOR / VOLUMES TRANSPORTADOS\n",
      "NOME / RAZÃO SOCIAL FRETE POR CONTA CÓDIGO ANTT PLACA DO VEÍCULO F NPJ / CPF\n",
      "D-EMET. 2oTERC.\n",
      "[I-DEST. 9-s/FRETE 1\n",
      "ENDEREÇO JUNICÍPIO F INSCRIÇÃO ESTADUAL\n",
      "QUANTIDADE [ESPÉCIE [MARCA UMERAÇÃO [PESO BRUTO PESO LÍQUIDO\n",
      "56, JOLUMES 1358,617 1345,008\n",
      "DADOS DOS PRODUTOS / SERVIÇOS\n",
      "cóp. rropuro DESCRIÇÃO DOS PRODUTOS / SeRvIÇOS nem/sa | EST Jcror| UN | QUANT. | VALOR UNIT. | VALOR TOTAL |D. CÁLC. TONS |gALOR TCHS| VALOR IPI | ALTO. | ALTO.\n",
      "81143 [690721000500 [5117 N2 | 8,58 67,90 582,58 0,00 0,00 0,00 0 [0,00\n",
      "84867 [69072100/0500 [5117 N2 | 16,66 134,90 2247,43 0,00 0,00 0,00 0 [0,00\n",
      "88737 [69072300] 0500 [5117 M2 | 51,12 55,90 2857,61 0,00 0,00 0,00 0 [0,00\n",
      "\n",
      "CÁLCULO DO ISSQN\n",
      "\n",
      "INSCRIÇÃO MUNICIPAL\n",
      "\n",
      "'ALOR TOTAL DOS SERVIÇOS\n",
      "0,00\n",
      "\n",
      "BASE DE CÁLCULO DO ISSQN\n",
      "0,00\n",
      "\n",
      "BLOR DO ISSON\n",
      "0,00\n",
      "\n",
      "DADOS ADICIONAIS\n",
      "\n",
      "INFORMAÇÕES COMPLEMENTARES\n",
      "\n",
      "RESERVADO AO FISCO\n",
      "\n",
      "\n"
     ]
    }
   ],
   "source": [
    "lista_string_valor = re.findall('[^V]ALOR',texto[0])   \n",
    "\n",
    "print('String VALOR na nota: ', (lista_string_valor))\n",
    "print('Contagem da String VALOR na nota: ', len(lista_string_valor))\n",
    "print(texto[0])"
   ]
  },
  {
   "cell_type": "code",
   "execution_count": null,
   "metadata": {},
   "outputs": [],
   "source": []
  }
 ],
 "metadata": {
  "kernelspec": {
   "display_name": "Python 3 (ipykernel)",
   "language": "python",
   "name": "python3"
  },
  "language_info": {
   "codemirror_mode": {
    "name": "ipython",
    "version": 3
   },
   "file_extension": ".py",
   "mimetype": "text/x-python",
   "name": "python",
   "nbconvert_exporter": "python",
   "pygments_lexer": "ipython3",
   "version": "3.9.7"
  }
 },
 "nbformat": 4,
 "nbformat_minor": 2
}
