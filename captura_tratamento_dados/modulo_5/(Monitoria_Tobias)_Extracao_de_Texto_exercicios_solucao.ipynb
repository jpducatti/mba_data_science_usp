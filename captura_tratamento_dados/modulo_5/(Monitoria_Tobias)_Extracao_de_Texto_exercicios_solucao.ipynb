{
 "cells": [
  {
   "cell_type": "markdown",
   "metadata": {
    "id": "BlyCJP1t5zLb"
   },
   "source": [
    "# <font color=\"blue\"> MBA em Ciência de Dados</font>\n",
    "# <font color=\"blue\">Técnicas Avançadas para Captura e Tratamento de Dados</font>\n",
    "\n",
    "## <font color=\"blue\">Identificação e Extração de Texto</font>\n",
    "    \n",
    "## <font color=\"blue\">Solução dos Exercícios</font>\n",
    "\n",
    "**Material Produzido por Luis Gustavo Nonato**<br>\n",
    "**Cemeai - ICMC/USP São Carlos**\n",
    "---"
   ]
  },
  {
   "cell_type": "markdown",
   "metadata": {
    "id": "iFLhwbmW5zLe"
   },
   "source": [
    "<font color='red'> Recomendamos fortemente resolver os exercícios sem consultar as soluções antecipadamente </font>"
   ]
  },
  {
   "cell_type": "markdown",
   "metadata": {
    "id": "S7Szu4AR5zLf"
   },
   "source": [
    "Os exercícios a seguir farão uso dos seguintes aquivos, disponíveis para download no Moodle:\n",
    "\n",
    "-<font style=\"font-family: monaco\"> pdf_exercicios.pdf</font><br>\n",
    "-<font style=\"font-family: monaco\"> cupom_fiscal1.png </font><br>\n",
    "-<font style=\"font-family: monaco\"> cupom_fiscal2.png </font><br>\n",
    "-<font style=\"font-family: monaco\"> nfe-example.pdf</font>"
   ]
  },
  {
   "cell_type": "code",
   "execution_count": null,
   "metadata": {
    "id": "mdM4vcEXEzJP"
   },
   "outputs": [],
   "source": [
    "!apt install tesseract-ocr  tesseract-ocr-por  libtesseract-dev poppler-utils"
   ]
  },
  {
   "cell_type": "code",
   "execution_count": null,
   "metadata": {
    "id": "-oq4sRGFFOOy"
   },
   "outputs": [],
   "source": [
    "!pip install pytesseract pdf2image"
   ]
  },
  {
   "cell_type": "code",
   "execution_count": 6,
   "metadata": {
    "id": "ZH9wqfZVFmtI"
   },
   "outputs": [],
   "source": [
    "from pdf2image import convert_from_path \n",
    "import pytesseract as ocr"
   ]
  },
  {
   "cell_type": "markdown",
   "metadata": {
    "id": "dQKsUw4A5zLf"
   },
   "source": [
    "### Exercício 1)\n",
    "Arquivos PDF tipicamente possuem diversas páginas. O processo de extração do conteúdo textual de cada página consiste de duas etapas principais:\n",
    "1. Conversão das páginas pdf em imagens\n",
    "2. Extração do texto a partir das imagens das páginas.\n",
    "\n",
    "A fim de faciliar a etapa 2, recomenda-se salvar as imagens das páginas em um diretório que contenha apenas as imagens geradas a partir das páginas. Escreva uma função em Python que receba como atributo o nome de um arquivo PDF e crie um diretório com o mesmo nome do arquivo seguido pela palavra \"\\_imagens\". Por exemplo, se o arquivo PDF for chamado `meu_arquivo.pdf`, o diretório criado deverá ser `meu_arquivo_imagens`.\n",
    "\n",
    "A função deve verificar se o diretório já existe. Se não existir, deve criá-lo. Se o diretório já existe, então todos os arquivos contidos no \n",
    "diretório devem ser removidos para que o diretório se torne vazio.\n",
    "\n",
    "**Dica**: Utilize os métodos <font color='blue'>os.path.exists</font>, <font color='blue'>os.makedirs</font> e <font color='blue'>os.remove</font> do pacote <font color='blue'>os</font> combinados com o método <font color='blue'>glob.glob</font> do pacote <font color='blue'>glob</font>."
   ]
  },
  {
   "cell_type": "code",
   "execution_count": 7,
   "metadata": {
    "id": "N6OUYUuZFk0o"
   },
   "outputs": [],
   "source": [
    "import os\n",
    "import glob"
   ]
  },
  {
   "cell_type": "code",
   "execution_count": 11,
   "metadata": {
    "id": "ocJUm0bDKSvq"
   },
   "outputs": [],
   "source": [
    "open(\"test_dir/test_file.tst\", \"a\").close()"
   ]
  },
  {
   "cell_type": "code",
   "execution_count": 12,
   "metadata": {
    "colab": {
     "base_uri": "https://localhost:8080/"
    },
    "id": "2E-VqS8_KGeV",
    "outputId": "891be004-f101-4193-f1e9-a0854e611d21"
   },
   "outputs": [
    {
     "data": {
      "text/plain": [
       "['.config',\n",
       " 'imagem_test2.png',\n",
       " 'imagem_test1.png',\n",
       " 'pdf_exercicios.pdf',\n",
       " 'test_dir',\n",
       " 'imagem_test6.png',\n",
       " 'imagem_test5.png',\n",
       " 'cupom-fiscal1.png',\n",
       " 'nfe-avaliacao.pdf',\n",
       " 'imagem_test4.png',\n",
       " 'pdf_test.pdf',\n",
       " 'nfe-example.pdf',\n",
       " 'cupom-fiscal2.png',\n",
       " 'imagem_test3.png',\n",
       " 'sample_data']"
      ]
     },
     "execution_count": 12,
     "metadata": {},
     "output_type": "execute_result"
    }
   ],
   "source": [
    "os.listdir()"
   ]
  },
  {
   "cell_type": "code",
   "execution_count": 13,
   "metadata": {
    "id": "lVYb1stE5zLg"
   },
   "outputs": [],
   "source": [
    "import os\n",
    "import glob\n",
    "import shutil\n",
    "\n",
    "def create_image_dir(filename):\n",
    "    name = filename.split('.')[0]\n",
    "    dir_name = name+'_imagens'\n",
    "    if not os.path.exists(dir_name):  # verificando se o diretório existe\n",
    "        os.makedirs(dir_name)      \n",
    "    else:\n",
    "        files = glob.glob(dir_name+'/*') # removendo arquivos do\n",
    "        for f in files:                  # diretório caso ele já exista\n",
    "            os.remove(f)\n",
    "            \n",
    "    return(dir_name)\n",
    "\n",
    "def create_dir_name(filename):\n",
    "    name = filename.split('.')[0]\n",
    "    dir_name = name+'_imagens'\n",
    "    return dir_name\n",
    "\n",
    "def create_dir(dir_name):\n",
    "    if os.path.exists(dir_name):  # verificando se o diretório existe\n",
    "        shutil.rmtree(dir_name)\n",
    "    os.makedirs(dir_name)\n",
    "    \n",
    "    \n",
    "dir_name = create_dir_name('testando arquivo.pdf')\n",
    "create_dir(dir_name)"
   ]
  },
  {
   "cell_type": "code",
   "execution_count": 14,
   "metadata": {
    "colab": {
     "base_uri": "https://localhost:8080/",
     "height": 35
    },
    "id": "RApL2KsgLY-D",
    "outputId": "0537579f-c1ae-45ee-d00c-9ea414a938c7"
   },
   "outputs": [
    {
     "data": {
      "application/vnd.google.colaboratory.intrinsic+json": {
       "type": "string"
      },
      "text/plain": [
       "'testando arquivo_imagens'"
      ]
     },
     "execution_count": 14,
     "metadata": {},
     "output_type": "execute_result"
    }
   ],
   "source": [
    "dir_name"
   ]
  },
  {
   "cell_type": "code",
   "execution_count": 15,
   "metadata": {
    "colab": {
     "base_uri": "https://localhost:8080/"
    },
    "id": "HhBP9Au-LahR",
    "outputId": "fe2a6186-d47c-47cf-9797-8ba8622470ca"
   },
   "outputs": [
    {
     "data": {
      "text/plain": [
       "['.config',\n",
       " 'imagem_test2.png',\n",
       " 'testando arquivo_imagens',\n",
       " 'imagem_test1.png',\n",
       " 'pdf_exercicios.pdf',\n",
       " 'test_dir',\n",
       " 'imagem_test6.png',\n",
       " 'imagem_test5.png',\n",
       " 'cupom-fiscal1.png',\n",
       " 'nfe-avaliacao.pdf',\n",
       " 'imagem_test4.png',\n",
       " 'pdf_test.pdf',\n",
       " 'nfe-example.pdf',\n",
       " 'cupom-fiscal2.png',\n",
       " 'imagem_test3.png',\n",
       " 'sample_data']"
      ]
     },
     "execution_count": 15,
     "metadata": {},
     "output_type": "execute_result"
    }
   ],
   "source": [
    "os.listdir()"
   ]
  },
  {
   "cell_type": "markdown",
   "metadata": {
    "id": "MtBPREN95zLh"
   },
   "source": [
    "### Exercício 2)\n",
    "Converta cada página do arquivo <font style=\"font-family: monaco\"> pdf_exercicios.pdf</font> em uma imagem, utilizando a função criada no exercício 1) para criar um diretório e armazenar as imagens geradas no diretório criado."
   ]
  },
  {
   "cell_type": "code",
   "execution_count": 16,
   "metadata": {
    "colab": {
     "base_uri": "https://localhost:8080/"
    },
    "id": "QvPSQSvU5zLi",
    "outputId": "47edf1ef-f9b0-4b0e-cf92-1334b50821fc"
   },
   "outputs": [
    {
     "name": "stdout",
     "output_type": "stream",
     "text": [
      "Gravando pagina:  pdf_exercicios_imagens/pagina_0.png\n",
      "Gravando pagina:  pdf_exercicios_imagens/pagina_1.png\n",
      "Gravando pagina:  pdf_exercicios_imagens/pagina_2.png\n"
     ]
    }
   ],
   "source": [
    "from pdf2image import convert_from_path \n",
    "\n",
    "filename = 'pdf_exercicios.pdf'\n",
    "diretorio = create_dir_name(filename)\n",
    "create_dir(diretorio)\n",
    "\n",
    "imagem_paginas = convert_from_path(filename)\n",
    "\n",
    "for i, pagina in enumerate(imagem_paginas): \n",
    "    image_name = diretorio + \"/pagina_\"+str(i)+\".png\"  # nome do arquivo da imagem\n",
    "      \n",
    "    # Salavando a imagen da página em um arquivo\n",
    "    print('Gravando pagina: ',image_name)\n",
    "    pagina.save(image_name, 'PNG') "
   ]
  },
  {
   "cell_type": "code",
   "execution_count": 19,
   "metadata": {
    "id": "o5ccTFLQXy71"
   },
   "outputs": [],
   "source": [
    "from PIL import Image"
   ]
  },
  {
   "cell_type": "code",
   "execution_count": 2,
   "metadata": {
    "id": "ePk5LPc7YERo"
   },
   "outputs": [
    {
     "ename": "NameError",
     "evalue": "name 'Image' is not defined",
     "output_type": "error",
     "traceback": [
      "\u001b[0;31m---------------------------------------------------------------------------\u001b[0m",
      "\u001b[0;31mNameError\u001b[0m                                 Traceback (most recent call last)",
      "\u001b[0;32m/var/folders/21/308cczgn1kl8f8btms113c8w0000gq/T/ipykernel_39977/335676734.py\u001b[0m in \u001b[0;36m<module>\u001b[0;34m\u001b[0m\n\u001b[0;32m----> 1\u001b[0;31m \u001b[0mimg\u001b[0m \u001b[0;34m=\u001b[0m \u001b[0mImage\u001b[0m\u001b[0;34m.\u001b[0m\u001b[0mopen\u001b[0m\u001b[0;34m(\u001b[0m\u001b[0;34m\"pdf_exercicios_imagens/pagina_0.png\"\u001b[0m\u001b[0;34m)\u001b[0m\u001b[0;34m\u001b[0m\u001b[0;34m\u001b[0m\u001b[0m\n\u001b[0m",
      "\u001b[0;31mNameError\u001b[0m: name 'Image' is not defined"
     ]
    }
   ],
   "source": [
    "img = Image.open(\"pdf_exercicios_imagens/pagina_0.png\")"
   ]
  },
  {
   "cell_type": "code",
   "execution_count": 3,
   "metadata": {
    "colab": {
     "base_uri": "https://localhost:8080/"
    },
    "id": "WqH91rZqYG8H",
    "outputId": "59810d30-8831-4332-dd90-69421fead674"
   },
   "outputs": [
    {
     "ename": "NameError",
     "evalue": "name 'img' is not defined",
     "output_type": "error",
     "traceback": [
      "\u001b[0;31m---------------------------------------------------------------------------\u001b[0m",
      "\u001b[0;31mNameError\u001b[0m                                 Traceback (most recent call last)",
      "\u001b[0;32m/var/folders/21/308cczgn1kl8f8btms113c8w0000gq/T/ipykernel_39977/2024103113.py\u001b[0m in \u001b[0;36m<module>\u001b[0;34m\u001b[0m\n\u001b[0;32m----> 1\u001b[0;31m \u001b[0mimg\u001b[0m\u001b[0;34m.\u001b[0m\u001b[0msize\u001b[0m\u001b[0;34m\u001b[0m\u001b[0;34m\u001b[0m\u001b[0m\n\u001b[0m",
      "\u001b[0;31mNameError\u001b[0m: name 'img' is not defined"
     ]
    }
   ],
   "source": [
    "img.size"
   ]
  },
  {
   "cell_type": "markdown",
   "metadata": {
    "id": "Nj8Wi-og5zLj"
   },
   "source": [
    "### Exercício 3)\n",
    "Utilize o pacote <font color='blue'>PIL</font> combinado com <font color='blue'>matplotlib</font> para exibir todas as imagens criadas."
   ]
  },
  {
   "cell_type": "code",
   "execution_count": 23,
   "metadata": {
    "colab": {
     "base_uri": "https://localhost:8080/",
     "height": 309
    },
    "id": "Ie0jS_6u5zLj",
    "outputId": "fdbf4cc1-96ca-43b0-aa92-b3b3c3bf9bf9"
   },
   "outputs": [
    {
     "data": {
      "image/png": "[encoded data removed]",
      "text/plain": [
       "<Figure size 864x432 with 3 Axes>"
      ]
     },
     "metadata": {
      "needs_background": "light"
     },
     "output_type": "display_data"
    }
   ],
   "source": [
    "from PIL import Image\n",
    "import matplotlib.pyplot as plt\n",
    "%matplotlib inline\n",
    "\n",
    "files = glob.glob(diretorio+'/*') # obtendo os nomes das imagens\n",
    "n = len(files)                    # quantidade de imagens\n",
    "\n",
    "fig,ax = plt.subplots(1,n)    # montando um subplot para cada imagem\n",
    "fig.set_size_inches(12, 6)\n",
    "for i,f in enumerate(files):\n",
    "    image = Image.open(f)\n",
    "    ax[i].axis('off')\n",
    "    ax[i].imshow(image) "
   ]
  },
  {
   "cell_type": "markdown",
   "metadata": {
    "id": "A9Z_fE8O5zLk"
   },
   "source": [
    "### Exercício 4)\n",
    "Aplique o OCR em cada imagem das páginas do arquivo <font style=\"font-family: monaco\"> pdf_exercicios.pdf</font>. Armazene o texto de cada página em um dicionário onde a chave é o número da página e o valor a string extraída da página.  "
   ]
  },
  {
   "cell_type": "code",
   "execution_count": 24,
   "metadata": {
    "colab": {
     "base_uri": "https://localhost:8080/"
    },
    "id": "obOtt5HC5zLk",
    "outputId": "9668a20d-9d40-4ba1-9d79-ec26bee63e97"
   },
   "outputs": [
    {
     "name": "stdout",
     "output_type": "stream",
     "text": [
      "dict_keys([2, 0, 1])\n"
     ]
    }
   ],
   "source": [
    "import pytesseract as ocr\n",
    "from PIL import Image\n",
    "import glob \n",
    "\n",
    "files = glob.glob(diretorio+'/*')\n",
    "\n",
    "dpaginas = {}\n",
    "for f in files:\n",
    "     # como o glob nao retorna os arquivos \n",
    "     # ordenados de acordo com as pagina\n",
    "     # precisamos pegar o número da pagina\n",
    "     # a partir do nome do arquivo\n",
    "    page_number = int(f.split('.')[0][-1]) # número da página\n",
    "    dpaginas[page_number] = ocr.image_to_string(Image.open(f), lang='por')\n",
    "\n",
    "print(dpaginas.keys())"
   ]
  },
  {
   "cell_type": "markdown",
   "metadata": {
    "id": "Dc7Bl1yB5zLl"
   },
   "source": [
    "### Exercício 5)\n",
    "Cada página do arquivo <font style=\"font-family: monaco\"> pdf_exercicios.pdf</font> corresponde a um poema cujo nome do autor aparece logo abaixo do texto do poema. Encontre o nome dos autores de cada um dos peomas e armazene-os em uma lista."
   ]
  },
  {
   "cell_type": "code",
   "execution_count": 26,
   "metadata": {
    "colab": {
     "base_uri": "https://localhost:8080/"
    },
    "id": "V7qUO3Gb5zLl",
    "outputId": "64fab01c-0581-4c93-be9f-3406dff4bbbb"
   },
   "outputs": [
    {
     "name": "stdout",
     "output_type": "stream",
     "text": [
      "['Manoel de Barros', 'Carlos Drummond de Andrade', 'Cora Coralina']\n"
     ]
    }
   ],
   "source": [
    "# Para encontrar o nome do autor temos que fazer algumas suposições \n",
    "# Neste caso iremos supor que o nome do autor corresponde a última sequência de\n",
    "# carateres alfa-numéricos da string detectada pelo OCR que é precedida por uma\n",
    "# quebra de linha ('\\n'). \n",
    "# Desta forma, percorremos cada string em sentido reverso até encontrar\n",
    "# o primeiro caractere alfa-numérico e então extraímos os caracteres até que \n",
    "# uma quebra de linha seja encontrada.\n",
    "\n",
    "autores = []\n",
    "for k,v in dpaginas.items():\n",
    "    i = -1\n",
    "    while(not v[i].isalpha()):   # encontra o primeiro caracter alfa-numérico no sentido reverso\n",
    "        i = i - 1                # da string. A variável i indica onde este caracter está\n",
    "    autor = ''\n",
    "    while(v[i]!='\\n'):           # extrai todos os caracteres até que uma quebra de linha \n",
    "        autor += v[i]            # seja encontrada\n",
    "        i = i - 1\n",
    "    autores.append(autor[::-1])  # armazena o nome do autor em uma lista\n",
    "    \n",
    "print(autores)"
   ]
  },
  {
   "cell_type": "code",
   "execution_count": 29,
   "metadata": {
    "colab": {
     "base_uri": "https://localhost:8080/"
    },
    "id": "8w8kQJwC5zLm",
    "outputId": "20622a2b-0b0f-4da2-c718-f57d5adf1e92"
   },
   "outputs": [
    {
     "name": "stdout",
     "output_type": "stream",
     "text": [
      "['Manoel de Barros', 'Carlos Drummond de Andrade', 'Cora Coralina']\n"
     ]
    }
   ],
   "source": [
    "# Solução usando Regex\n",
    "import re\n",
    "author_pattern = r\"[a-zA-Z][^\\n]*\"\n",
    "\n",
    "autores = []\n",
    "for k, v in dpaginas.items():\n",
    "    v = v[::-1]     # reverte a ordem da string (só para faciliar)\n",
    "    match = re.search(author_pattern, v)\n",
    "    author_name = match.group(0)[::-1]\n",
    "    autores.append(author_name)\n",
    "    \n",
    "    \n",
    "print(autores)"
   ]
  },
  {
   "cell_type": "markdown",
   "metadata": {
    "id": "pczeeWhR5zLm"
   },
   "source": [
    "### Exercício 6)\n",
    "Encontre qual a página que corresponde ao poema de Cora Coralina e imprima o texto todo."
   ]
  },
  {
   "cell_type": "code",
   "execution_count": null,
   "metadata": {
    "colab": {
     "base_uri": "https://localhost:8080/"
    },
    "id": "5TigxxYXXZ9g",
    "outputId": "e8a3cd6a-a14e-4700-d1f6-139b327b2834"
   },
   "outputs": [
    {
     "data": {
      "text/plain": [
       "True"
      ]
     },
     "execution_count": 66,
     "metadata": {},
     "output_type": "execute_result"
    }
   ],
   "source": [
    "\"po\" in \"poema\""
   ]
  },
  {
   "cell_type": "code",
   "execution_count": 35,
   "metadata": {
    "colab": {
     "base_uri": "https://localhost:8080/"
    },
    "id": "HxlquWoz5zLm",
    "outputId": "5b59abb3-75e2-425c-9cbc-8e10445aa3ad"
   },
   "outputs": [
    {
     "name": "stdout",
     "output_type": "stream",
     "text": [
      "1\n",
      " \n",
      "\n",
      "Considerações de Aninha\n",
      "Considerações de Aninha\n",
      "Melhor do que a criatura,\n",
      "fez o criador a criação.\n",
      "A criatura é limitada.\n",
      "O tempo, o espaço,\n",
      "normas e costumes.\n",
      "Erros e acertos.\n",
      "A criação é ilimitada.\n",
      "Excede o tempo e o meio.\n",
      "\n",
      "Projeta-se no Cosmos.\n",
      "\n",
      "Cora Coralina\n",
      "\f",
      "\n"
     ]
    }
   ],
   "source": [
    "for k, v in dpaginas.items():\n",
    "    match = re.search(\"Cora Coralina\", v)\n",
    "    if match is None:\n",
    "        continue\n",
    "    else: # found Cora Coraline\n",
    "        print(k)\n",
    "        print(v)"
   ]
  },
  {
   "cell_type": "markdown",
   "metadata": {
    "id": "Lk6c3MT65zLn"
   },
   "source": [
    "### Exercício 7)\n",
    "Os arquivos <font style=\"font-family: monaco\"> cupom-fiscal1.png </font>  e <font style=\"font-family: monaco\"> cupom-fiscal2.png </font> correspondem a imagens de cupons fiscais. Aplicando OCR, extraia o texto contido nas imagens e armazene em variáveis do tipo string."
   ]
  },
  {
   "cell_type": "code",
   "execution_count": 36,
   "metadata": {
    "colab": {
     "base_uri": "https://localhost:8080/"
    },
    "id": "5u_N0Hvy5zLn",
    "outputId": "b4606b1e-9e9c-46fc-e521-57ddf3d4e1e8"
   },
   "outputs": [
    {
     "name": "stdout",
     "output_type": "stream",
     "text": [
      "22/05/2013 15:11:33 CCF:000012 oo: 000022\n",
      "\n",
      "CUPOM FISCAL\n",
      "\n",
      "ITEM CópIGO DESCRIÇÃO\n",
      "QTD. UM VL UNI Ré st vwL ITEM RS\n",
      "1 E CAMISA BRASIL 15UN X 10,00 I1 150,00\n",
      "TOTAL R$ 150,00\n",
      "Dinheizo 150,00\n",
      "\n",
      "LojaFacil v5.0\n",
      "Val. Aprox. dos Tributos: R$48,14 (32,098) (IBPT)\n",
      "\n",
      "ACE1Z4  2CDAE4  SSEISB  ISDSAS  SCECZA  21C521\n",
      "EPSON TM-TEI EBII\n",
      "ECE-IF VERSÃO:01.03.00 ECF:001 LJsLJ01\n",
      "cecececececoanrace 22/05/2013 15:11:40\n",
      "FAB: EPMMO40OOOO000000001\n",
      "\n",
      "   \n",
      "\f",
      "\n",
      "----------\n",
      "METALNOX INDÚSTRIA METALÚRGICA LTDA\n",
      "RUA JOSÉ THEODORO RIBEIRO - 3571, ILHA DA FIGUEIRA\n",
      "CEP: 89.258-001 JARAGUÁ DO SUL, SC\n",
      "\n",
      "CNPJ; 78.810.975/0001-72\n",
      "TE: XXX XKXXXX\n",
      "\n",
      "20/06/2015 11:55:23 CCF: 012249 COD: 020990\n",
      "CNPJICPF consumidor: 754.523,157-05\n",
      "NOME: JOÃO DOS SANTOS\n",
      "END: RUA GETÚLIO VARGAS, 449 - SÃO PAULO\n",
      "CUPOM FISCAL\n",
      "\n",
      "ITEM CÓDIGO DESCRIÇÃO QTD UN VLUNIT(RS) ST VL ITEMIRS)\n",
      "\n",
      "001 1955 PONTEIRAPARAPER 204250 TI700% 50,00\n",
      "001 1875  RODIZIOSFAZMM 204280  T1700% 56,00\n",
      "TOTAL R$ 106,00\n",
      "Dinheiro 150,00\n",
      "TROCO 44,00\n",
      "Vendedor: 000008 000213946-01 - CX 1 -SIP-\n",
      "Valor trib. aprox. [Fed= 0,44] [Est= 0,50)\n",
      "\n",
      "Fonte: IBPIFECOMERCIO SP 9013aC\n",
      "BR\n",
      "\f",
      "\n"
     ]
    }
   ],
   "source": [
    "import pytesseract as ocr\n",
    "from PIL import Image\n",
    "\n",
    "text_cupom1 = ocr.image_to_string(Image.open('cupom-fiscal1.png'), lang='por')\n",
    "text_cupom2 = ocr.image_to_string(Image.open('cupom-fiscal2.png'), lang='por')\n",
    "print(text_cupom1)\n",
    "print(5*'--')\n",
    "print(text_cupom2)"
   ]
  },
  {
   "cell_type": "code",
   "execution_count": 46,
   "metadata": {
    "colab": {
     "base_uri": "https://localhost:8080/"
    },
    "id": "O6ntTJMyajfU",
    "outputId": "9107e2e2-579a-4840-e884-c7e8b90e4ffe"
   },
   "outputs": [
    {
     "data": {
      "text/plain": [
       "21"
      ]
     },
     "execution_count": 46,
     "metadata": {},
     "output_type": "execute_result"
    }
   ],
   "source": [
    "text_cupom1.count(\"\\n\") + 1"
   ]
  },
  {
   "cell_type": "markdown",
   "metadata": {
    "id": "fkqsnKWW5zLn"
   },
   "source": [
    "### Exercício 8)\n",
    "Utilize o pacote <font color='blue'> re </font> para identificar nas strings extraídas dos cupons ficais do exercício 7), todos os valores que possam estar relacionados com preços, ou seja, sequências de dígitos numéricos que precedam uma virgula, seguido de **exatamente dois** dígitos depois da vírgula. Por exemplo, quando aplicado à string, \n",
    "```python\n",
    "'754.523,157-05 1050,00 FAZMM 204280 (32,098) R$48,14'\n",
    "```\n",
    "o processo deve resultar em:\n",
    "```python\n",
    "['1050,00 ', '48,14']\n",
    "```\n"
   ]
  },
  {
   "cell_type": "code",
   "execution_count": 55,
   "metadata": {
    "colab": {
     "base_uri": "https://localhost:8080/"
    },
    "id": "jTs3E4wo5zLn",
    "outputId": "79603ed1-2d14-489f-f77e-278d5d04f2d5"
   },
   "outputs": [
    {
     "name": "stdout",
     "output_type": "stream",
     "text": [
      "['523,15', '1050,00', '32,09', '48,14']\n"
     ]
    }
   ],
   "source": [
    "import re\n",
    "\n",
    "texto = '754.523,157-05 1050,00 FAZMM 204280 (32,098) R$48,14'\n",
    "\n",
    "print(re.findall('(\\d+,\\d\\d)(?:$|\\s+)',texto))\n",
    "# a busca demanda duas opcoes [\\d]+,[\\d]{2}\\s+ ou [\\d]+,[\\d]{2}$\n",
    "# o simbolo '|' corresponde ao 'ou' \n",
    "# o simbolo {2} força apenas dois digitos depois da vírgula \n",
    "# o simbolo \\s garante que depois dos dois digitos não existem caracteres,\n",
    "# apenas espaço em branco, tabular ou quebra de linha\n",
    "# o simbolo $ admite final da string"
   ]
  },
  {
   "cell_type": "code",
   "execution_count": null,
   "metadata": {
    "id": "2Pi_wWEg5zLo",
    "outputId": "c3b6b1ab-28b4-4f5b-8c10-7c01bec6e278"
   },
   "outputs": [
    {
     "name": "stdout",
     "output_type": "stream",
     "text": [
      "22/05/2013 15:11:33 CCF:000012 oo: 000022\n",
      "\n",
      "CUPOM FISCAL\n",
      "\n",
      "ITEM CópIGO DESCRIÇÃO\n",
      "QTD. UM VL UNI Ré st vwL ITEM RS\n",
      "1 E CAMISA BRASIL 15UN X 10,00 I1 150,00\n",
      "TOTAL R$ 150,00\n",
      "Dinheizo 150,00\n",
      "\n",
      "LojaFacil v5.0\n",
      "Val. Aprox. dos Tributos: R$48,14 (32,098) (IBPT)\n",
      "\n",
      "ACE1Z4  2CDAE4  SSEISB  ISDSAS  SCECZA  21C521\n",
      "EPSON TM-TEI EBII\n",
      "ECE-IF VERSÃO:01.03.00 ECF:001 LJsLJ01\n",
      "cecececececoanrace 22/05/2013 15:11:40\n",
      "FAB: EPMMO40OOOO000000001\n",
      "\n",
      "   \n",
      "\f",
      "\n",
      "\n",
      "----------Valores Identificados----------\n",
      "['10,00 ', '150,00\\n', '150,00\\n', '150,00\\n\\n', '48,14 ']\n"
     ]
    }
   ],
   "source": [
    "print(text_cupom1)\n",
    "print('\\n'+5*'--'+'Valores Identificados'+5*'--')\n",
    "print(re.findall('[\\d]+,[\\d]{2}\\s+|[\\d]+,[\\d]{2}$',text_cupom1))"
   ]
  },
  {
   "cell_type": "code",
   "execution_count": null,
   "metadata": {
    "id": "tK9Aoy0u5zLo",
    "outputId": "b16f62d7-5741-4f4f-e181-9c34ad4c35a1"
   },
   "outputs": [
    {
     "name": "stdout",
     "output_type": "stream",
     "text": [
      "METALNOX INDÚSTRIA METALÚRGICA LTDA\n",
      "RUA JOSÉ THEODORO RIBEIRO - 3571, ILHA DA FIGUEIRA\n",
      "CEP: 89.258-001 JARAGUÁ DO SUL, SC\n",
      "\n",
      "CNPJ; 78.810.975/0001-72\n",
      "TE: XXX XKXXXX\n",
      "\n",
      "20/06/2015 11:55:23 CCF: 012249 COD: 020990\n",
      "CNPJICPF consumidor: 754.523,157-05\n",
      "NOME: JOÃO DOS SANTOS\n",
      "END: RUA GETÚLIO VARGAS, 449 - SÃO PAULO\n",
      "CUPOM FISCAL\n",
      "\n",
      "ITEM CÓDIGO DESCRIÇÃO QTD UN VLUNIT(RS) ST VL ITEMIRS)\n",
      "\n",
      "001 1955 PONTEIRAPARAPER 204250 TI700% 50,00\n",
      "001 1875  RODIZIOSFAZMM 204280  T1700% 56,00\n",
      "TOTAL R$ 106,00\n",
      "Dinheiro 150,00\n",
      "TROCO 44,00\n",
      "Vendedor: 000008 000213946-01 - CX 1 -SIP-\n",
      "Valor trib. aprox. [Fed= 0,44] [Est= 0,50)\n",
      "\n",
      "Fonte: IBPIFECOMERCIO SP 9013aC\n",
      "BR\n",
      "\f",
      "\n",
      "\n",
      "----------Valores Identificados----------\n",
      "['50,00\\n', '56,00\\n', '106,00\\n', '150,00\\n', '44,00\\n']\n"
     ]
    }
   ],
   "source": [
    "print(text_cupom2)\n",
    "print('\\n'+5*'--'+'Valores Identificados'+5*'--')\n",
    "print(re.findall('[\\d]+,[\\d]{2}\\s+|[\\d]+,[\\d]{2}$',text_cupom2))"
   ]
  },
  {
   "cell_type": "markdown",
   "metadata": {
    "id": "3lBJFI_e5zLo"
   },
   "source": [
    "### Exercício 9)\n",
    "Extraia o texto contido no arquivo <font style=\"font-family: monaco\"> nfe-example.pdf</font>. Você deve extrair primeiro a imagem da página (o PDF contém apenas uma página), armazenando a imagem em um arquivo. "
   ]
  },
  {
   "cell_type": "code",
   "execution_count": 56,
   "metadata": {
    "id": "QWTZNSia5zLp"
   },
   "outputs": [],
   "source": [
    "from pdf2image import convert_from_path \n",
    "import pytesseract as ocr\n",
    "from PIL import Image\n",
    "\n",
    "filename = 'nfe-example.pdf'\n",
    "\n",
    "nfe_imagem = convert_from_path(filename)\n",
    "\n",
    "for i,pagina in enumerate(nfe_imagem): \n",
    "    # Salavando a imagen da página em um arquivo\n",
    "    pagina.save('nfe-example.png', 'PNG') \n",
    "\n",
    "text_nfe = ocr.image_to_string(Image.open('nfe-example.png'), lang='por')"
   ]
  },
  {
   "cell_type": "code",
   "execution_count": 57,
   "metadata": {
    "colab": {
     "base_uri": "https://localhost:8080/"
    },
    "id": "ZMdonsEH5zLp",
    "outputId": "52f199df-8027-47e7-a5d8-fb4090be4bdf"
   },
   "outputs": [
    {
     "name": "stdout",
     "output_type": "stream",
     "text": [
      " \n",
      "\n",
      " \n",
      "\n",
      "SERVIÇOS CONSTANTES DA NOTA FISCAL INDICADO AO LADO\n",
      "\n",
      " \n",
      "\n",
      "DATA DE RECEBIMENTO\n",
      "\n",
      " \n",
      "\n",
      "IDENTIFICAÇÃO E ASSINATURA DO RECEBEDOR\n",
      "\n",
      " \n",
      "\n",
      "NF-e\n",
      "\n",
      "Nº 00000\n",
      "SÉRIE 001\n",
      "\n",
      " \n",
      "\n",
      " \n",
      "\n",
      " \n",
      "\n",
      "IDENTIFICAÇÃO DO EMITENTE\n",
      "\n",
      "DANFE\n",
      "\n",
      "DOCUMENTO AUXILIAR DA\n",
      "NOTA FISCAL ELETRÔNICA\n",
      "\n",
      " \n",
      "\n",
      "0 - ENTRADA 1\n",
      "1- SAÍDA\n",
      "\n",
      " \n",
      "\n",
      " \n",
      "\n",
      " \n",
      "\n",
      "CHAVE DE ACESSO\n",
      "\n",
      " \n",
      "\n",
      " \n",
      "\n",
      "SÉRIE 001\n",
      "\n",
      "Nº 000006334 FL. 1 /1\n",
      "\n",
      "Consulta de autenticidade no portal nacional da NF-e\n",
      "www nfe fazenda gov br/portal\n",
      "\n",
      "ou no site da Sefaz Autorizadora\n",
      "\n",
      " \n",
      "\n",
      "NATUREZA DE OPERAÇÃO\n",
      "Simples remessa de transporte\n",
      "\n",
      " \n",
      "\n",
      "PROTOCOLO DE AUTORIZAÇÃO DE USO\n",
      "\n",
      " \n",
      "\n",
      " \n",
      "\n",
      " \n",
      "\n",
      " \n",
      "\n",
      " \n",
      "\n",
      " \n",
      "\n",
      " \n",
      "\n",
      " \n",
      "\n",
      " \n",
      "\n",
      " \n",
      "\n",
      " \n",
      "\n",
      "TNSCRIÇÃO ESTADUAL INSCRIÇÃO ESTADUAL DO SUBST. TRIB. CNPITCPE\n",
      "\n",
      "DESTINATÁRIO / REMETENTE\n",
      "\n",
      "NOME | RAZÃO SOCIAL CNPJ/CPF DATA DA EMISSÃO\n",
      "\n",
      "14/02/2020\n",
      "\n",
      "ENDEREÇO BAIRRO / DISTRITO TER DATA SAIDA [ENTRADA\n",
      "PARQUE ARNOLD SCHIMIDT 17256111 | 14/02/2020\n",
      "\n",
      "MUNICÍPIO FONE / FAX UF INSCRIÇÃO ESTADUAL HORA DA SAÍDA\n",
      "\n",
      "SAO CARLOS -(16) 5533-5353 SP 08:21:36\n",
      "\n",
      " \n",
      "\n",
      "INFORMAÇÕES DO LOCAL DE RETIRADA\n",
      "\n",
      " \n",
      "\n",
      "NOME / RAZÃO SOCIAL,\n",
      "\n",
      " \n",
      "\n",
      " \n",
      "\n",
      " \n",
      "\n",
      " \n",
      "\n",
      " \n",
      "\n",
      " \n",
      "\n",
      " \n",
      "\n",
      " \n",
      "\n",
      " \n",
      "\n",
      " \n",
      "\n",
      " \n",
      "\n",
      " \n",
      "\n",
      " \n",
      "\n",
      "CNPJ/CPF INSCRIÇÃO ESTADUAL\n",
      "TODO TETO\n",
      "ENDEREÇO BAIRRO DISTRITO CEP\n",
      "JD SUMARE 14156-000)\n",
      "MUNICÍPIO Ur TELEFONE) FAX\n",
      "RIBEIRAO PRETO sP (16) 3333-5454\n",
      "FATURA\n",
      "PAGAMENTO NUMERO, VALOR ORIGINAL VALOR DESCONTO: VALOR LIQUIDO\n",
      "LDADOSDAFATURA —\n",
      "DUPLICATAS\n",
      "Nº DUPLICATA VENC. VALOR | NDUPLICATA VENC VALOR | | NDUPLICATA VENC VALOR | | NDUPLICATA VENC. VALOR\n",
      "001 14/02/2020 44349\n",
      "\n",
      " \n",
      "\n",
      "CÁLCULO DO IMPOSTO\n",
      "\n",
      " \n",
      "\n",
      " \n",
      "\n",
      " \n",
      "\n",
      " \n",
      "\n",
      " \n",
      "\n",
      " \n",
      "\n",
      " \n",
      "\n",
      " \n",
      "\n",
      " \n",
      "\n",
      " \n",
      "\n",
      " \n",
      "\n",
      " \n",
      "\n",
      " \n",
      "\n",
      " \n",
      "\n",
      " \n",
      "\n",
      " \n",
      "\n",
      " \n",
      "\n",
      " \n",
      "\n",
      " \n",
      "\n",
      " \n",
      "\n",
      " \n",
      "\n",
      " \n",
      "\n",
      " \n",
      "\n",
      " \n",
      "\n",
      " \n",
      "\n",
      " \n",
      "\n",
      " \n",
      "\n",
      " \n",
      "\n",
      " \n",
      "\n",
      " \n",
      "\n",
      " \n",
      "\n",
      " \n",
      "\n",
      " \n",
      "\n",
      " \n",
      "\n",
      " \n",
      "\n",
      " \n",
      "\n",
      "BASE DE CALCULO DO ICMS VALOR DO ICMS BASE CALC ICMS SUBST VALOR DO ICMS SUEST VALOR TOTAL DOS PRODUTOS\n",
      "0,00 0,00 0,00 0,00 4.373,49\n",
      "VALOR DO FRETE VALOR DO SEGURO DESCONTO OUTRAS DESP. ACESS. VALOR DO TP VALOR TOTALDA NOTA\n",
      "100,00 0,00 0,00 0,00 4.473 49\n",
      "TRANSPORTADOR / VOLUMES TRANSPORTADOS,\n",
      "RAZÃO SOCIAL FRETE POR CONTA CÓDIGO ANTT TLACADO VEICULO [UF CNPJ/CPF\n",
      "VW SAVEIRO 1.6 BRANCA 1 - DESTINATARIO\n",
      "ENDEREÇO MUNICÍPIO Ur INSCRIÇÃO ESTADUAL\n",
      "SERTAOZINHO SP\n",
      "QUANTIDADE ESPECTE MARCA NUMERAÇÃO PESO BRUTO PESO LIQUIDO\n",
      "3 1\n",
      "DADOS DO PRODUTO / SERVIÇOS\n",
      "CÓDIGO DO nina SERVICO! | e pe E VALOR VALOR PERC (5% BASE VALOR VALOR | ALÍQUOTAS\n",
      "PROD. SERV. EEE noso oc NCM/SH | CST |CFOP | UNID. | QUANT. | unrTÁRIO TOTAL | DESCONTO | cátCicus | 1CMS IPI [ICMS] IPI\n",
      "[789469303920)CUBA 7324100] 060 [5117 [UN 1,00) 1.377,69 1.377,69 0,00 0,00 0,00 0,00] 0,00] 0,00\n",
      "94006,\n",
      "[78946937 5588ÍCUBA 7324100] 060 [5117 [PC 1,00] 1.826,92 1.826,92 0,00 0,00 0,00 0,00] 0,00] 0,00\n",
      "[TRAM\n",
      "[789469304091 CUBA 7324100] 060 [5117 [UN 1,00] 1.168,88 1.168,88 0,00 0,00 0,00 0,00] 0,00] 0,00\n",
      "[TRAM\n",
      "\n",
      " \n",
      "\n",
      " \n",
      "\n",
      " \n",
      "\n",
      "DADOS ADICIONAIS\n",
      "\n",
      " \n",
      "\n",
      "INFORMAÇÕES COMPLEMENTARES\n",
      "\n",
      " \n",
      "\n",
      "RESERVADO AO FISCO\n",
      "\n",
      " \n",
      "\n",
      " \n",
      "\n",
      " \n",
      "\f",
      "\n"
     ]
    }
   ],
   "source": [
    "print(text_nfe)"
   ]
  },
  {
   "cell_type": "markdown",
   "metadata": {
    "id": "Qx_UyAES5zLp"
   },
   "source": [
    "### Exercício 10)\n",
    "Escreva uma expressão regular para encontrar todos os valores monetários do texto extraido (por exemplo: xx.xxx,xx ou xxx,xx). Converta os valores encontrados de _string_ para _float_ e some todos os valores."
   ]
  },
  {
   "cell_type": "code",
   "execution_count": 58,
   "metadata": {
    "colab": {
     "base_uri": "https://localhost:8080/"
    },
    "id": "0CcbRhRy5zLp",
    "outputId": "9fafec68-75f4-4e11-b7bd-acb138bee351"
   },
   "outputs": [
    {
     "name": "stdout",
     "output_type": "stream",
     "text": [
      "['0,00', '0,00', '0,00', '0,00', '4.373,49', '100,00', '0,00', '0,00', '0,00', '1,00', '1.377,69', '1.377,69', '0,00', '0,00', '0,00', '0,00', '0,00', '0,00', '1,00', '1.826,92', '1.826,92', '0,00', '0,00', '0,00', '0,00', '0,00', '0,00', '1,00', '1.168,88', '1.168,88', '0,00', '0,00', '0,00', '0,00', '0,00', '0,00']\n"
     ]
    }
   ],
   "source": [
    "import re\n",
    "\n",
    "expreg = '\\d+\\.\\d{3},\\d{2}|\\d+,\\d{2}'\n",
    "\n",
    "valores = re.findall(expreg,text_nfe)\n",
    "print(valores)"
   ]
  },
  {
   "cell_type": "code",
   "execution_count": 63,
   "metadata": {
    "colab": {
     "base_uri": "https://localhost:8080/"
    },
    "id": "8NJD4rXi5zLp",
    "outputId": "abfb5795-02f0-47f6-c3d9-6337f0402678"
   },
   "outputs": [
    {
     "name": "stdout",
     "output_type": "stream",
     "text": [
      "\n",
      "Removendo '.' e substituindo ',' por '.' \n",
      "['0.00', '0.00', '0.00', '0.00', '4373.49', '100.00', '0.00', '0.00', '0.00', '1.00', '1377.69', '1377.69', '0.00', '0.00', '0.00', '0.00', '0.00', '0.00', '1.00', '1826.92', '1826.92', '0.00', '0.00', '0.00', '0.00', '0.00', '0.00', '1.00', '1168.88', '1168.88', '0.00', '0.00', '0.00', '0.00', '0.00', '0.00']\n",
      "\n",
      "Convertendo para float\n",
      "[0.0, 0.0, 0.0, 0.0, 4373.49, 100.0, 0.0, 0.0, 0.0, 1.0, 1377.69, 1377.69, 0.0, 0.0, 0.0, 0.0, 0.0, 0.0, 1.0, 1826.92, 1826.92, 0.0, 0.0, 0.0, 0.0, 0.0, 0.0, 1.0, 1168.88, 1168.88, 0.0, 0.0, 0.0, 0.0, 0.0, 0.0]\n",
      "\n",
      "Soma total:  13223.470000000001\n"
     ]
    }
   ],
   "source": [
    "# convertendo para float\n",
    "\n",
    "# removendo '.' e substituindo ',' por '.' \n",
    "print(\"\\nRemovendo '.' e substituindo ',' por '.' \")\n",
    "float_list = [s.replace('.','').replace(',','.') for s in valores] \n",
    "print(float_list)\n",
    "\n",
    "# convertendo para float e somando\n",
    "print(\"\\nConvertendo para float\")\n",
    "float_list = list(map(float, float_list))\n",
    "print(float_list)\n",
    "print('\\nSoma total: ', sum(float_list))"
   ]
  },
  {
   "cell_type": "code",
   "execution_count": null,
   "metadata": {
    "id": "MfRLZZOd5zLp"
   },
   "outputs": [],
   "source": []
  }
 ],
 "metadata": {
  "colab": {
   "collapsed_sections": [],
   "name": "Extracao de Texto exercicios solucao.ipynb",
   "provenance": []
  },
  "kernelspec": {
   "display_name": "Python 3 (ipykernel)",
   "language": "python",
   "name": "python3"
  },
  "language_info": {
   "codemirror_mode": {
    "name": "ipython",
    "version": 3
   },
   "file_extension": ".py",
   "mimetype": "text/x-python",
   "name": "python",
   "nbconvert_exporter": "python",
   "pygments_lexer": "ipython3",
   "version": "3.9.7"
  }
 },
 "nbformat": 4,
 "nbformat_minor": 1
}
