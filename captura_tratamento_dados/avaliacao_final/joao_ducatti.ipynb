{
 "cells": [
  {
   "cell_type": "markdown",
   "id": "4c042a91",
   "metadata": {
    "toc": true
   },
   "source": [
    "<h1>Table of Contents<span class=\"tocSkip\"></span></h1>\n",
    "<div class=\"toc\"><ul class=\"toc-item\"><li><span><a href=\"#-MBA-em-Ciência-de-Dados\" data-toc-modified-id=\"-MBA-em-Ciência-de-Dados-1\"><span class=\"toc-item-num\">1&nbsp;&nbsp;</span><font color=\"blue\"> MBA em Ciência de Dados</font></a></span></li><li><span><a href=\"#Técnicas-Avançadas-para-Captura-e-Tratamento-de-Dados\" data-toc-modified-id=\"Técnicas-Avançadas-para-Captura-e-Tratamento-de-Dados-2\"><span class=\"toc-item-num\">2&nbsp;&nbsp;</span><font color=\"blue\">Técnicas Avançadas para Captura e Tratamento de Dados</font></a></span><ul class=\"toc-item\"><li><span><a href=\"#Avaliação-Final-\" data-toc-modified-id=\"Avaliação-Final--2.1\"><span class=\"toc-item-num\">2.1&nbsp;&nbsp;</span><font color=\"blue\">Avaliação Final </font></a></span><ul class=\"toc-item\"><li><span><a href=\"#Questão-1-(2.5-pontos)\" data-toc-modified-id=\"Questão-1-(2.5-pontos)-2.1.1\"><span class=\"toc-item-num\">2.1.1&nbsp;&nbsp;</span>Questão 1 (2.5 pontos)</a></span></li><li><span><a href=\"#Questão-2-(2.5-pontos)\" data-toc-modified-id=\"Questão-2-(2.5-pontos)-2.1.2\"><span class=\"toc-item-num\">2.1.2&nbsp;&nbsp;</span>Questão 2 (2.5 pontos)</a></span></li><li><span><a href=\"#Questão-3-(2.5-pontos)\" data-toc-modified-id=\"Questão-3-(2.5-pontos)-2.1.3\"><span class=\"toc-item-num\">2.1.3&nbsp;&nbsp;</span>Questão 3 (2.5 pontos)</a></span><ul class=\"toc-item\"><li><span><a href=\"#a)-(1.0-ponto)\" data-toc-modified-id=\"a)-(1.0-ponto)-2.1.3.1\"><span class=\"toc-item-num\">2.1.3.1&nbsp;&nbsp;</span>a) (1.0 ponto)</a></span></li><li><span><a href=\"#c)-(1.5-ponto)\" data-toc-modified-id=\"c)-(1.5-ponto)-2.1.3.2\"><span class=\"toc-item-num\">2.1.3.2&nbsp;&nbsp;</span>c) (1.5 ponto)</a></span></li></ul></li><li><span><a href=\"#Questão-4-(2.5-pontos)\" data-toc-modified-id=\"Questão-4-(2.5-pontos)-2.1.4\"><span class=\"toc-item-num\">2.1.4&nbsp;&nbsp;</span>Questão 4 (2.5 pontos)</a></span></li></ul></li></ul></li></ul></div>"
   ]
  },
  {
   "cell_type": "markdown",
   "id": "97ca9aaf",
   "metadata": {},
   "source": [
    "# <font color=\"blue\"> MBA em Ciência de Dados</font>\n",
    "# <font color=\"blue\">Técnicas Avançadas para Captura e Tratamento de Dados</font>\n",
    "\n",
    "## <font color=\"blue\">Avaliação Final </font> \n",
    "\n",
    "**Produzido por Luis Gustavo Nonato e Moacir Ponti**<br>\n",
    "**Cemeai - ICMC/USP - São Carlos**\n",
    "\n",
    "---"
   ]
  },
  {
   "cell_type": "markdown",
   "id": "a3e2d921",
   "metadata": {},
   "source": [
    "### Questão 1 (2.5 pontos)\n",
    "O site:\n",
    "\n",
    "[https://lite.cnn.com/en/article/h_f2d6a641391976d67a183f746a57d736]('https://lite.cnn.com/en/article/h_f2d6a641391976d67a183f746a57d736')\n",
    "\n",
    "corresponde a um arquivo html cuja maior parte do conteúdo é uma notícia sobre dinossouros. Faça uma requisição ao site e armazene o conteúdo (arquivo html) em uma string. Imprima quantos caracteres a string possui.\n",
    "\n",
    "OBS. Você não deve fazer um parser no html, armazene todo o conteúdo com uma string."
   ]
  },
  {
   "cell_type": "code",
   "execution_count": 1,
   "id": "a8c2d6e4",
   "metadata": {},
   "outputs": [],
   "source": [
    "import requests as rq"
   ]
  },
  {
   "cell_type": "code",
   "execution_count": 17,
   "id": "f7d4b449",
   "metadata": {},
   "outputs": [
    {
     "name": "stdout",
     "output_type": "stream",
     "text": [
      "200  Sucesso na requisição!\n",
      "Tipo da variável que armazenou a requisição =  <class 'str'>\n",
      "A string retornada do url tem 8112 caracteres\n"
     ]
    }
   ],
   "source": [
    "url = 'https://lite.cnn.com/en/article/h_f2d6a641391976d67a183f746a57d736'\n",
    "\n",
    "req = rq.get(url)\n",
    "\n",
    "if(req.status_code == 200):\n",
    "    print(req.status_code, ' Sucesso na requisição!')\n",
    "    conteudo = req.text\n",
    "    print('Tipo da variável que armazenou a requisição = ', type(conteudo))\n",
    "    print('A string retornada do url tem %0.0f caracteres' % len(conteudo))\n",
    "elif(req.status_code == 404): \n",
    "    print(req.status_code, ' Não encontrado')\n",
    "else:\n",
    "    print(req.status_code, ' Outro erro')\n"
   ]
  },
  {
   "cell_type": "markdown",
   "id": "fe8a227a",
   "metadata": {},
   "source": [
    "### Questão 2 (2.5 pontos)\n",
    "\n",
    "Construa, a partir da string armazenada na questão 1), uma lista de palavras que aparecem no documento html. As palavras da lista devem ser constituídas apenas por letras do alfabeto, possuírem mais que 1 caracter e não serem 'stop words'. Qual a palavra que mais aparece na lista de palavras obtida?\n",
    "\n",
    "**Dica:** Utilize a biblioteca <font color='blue'>nltk</font> para construir a lista de palavras como descrito acima."
   ]
  },
  {
   "cell_type": "code",
   "execution_count": null,
   "id": "8279978a",
   "metadata": {},
   "outputs": [],
   "source": []
  },
  {
   "cell_type": "markdown",
   "id": "a36fad1b",
   "metadata": {},
   "source": [
    "### Questão 3 (2.5 pontos)\n",
    "\n",
    "Antes de começar, carregue o arquivo `artists_mba22.csv` e armazene em um pandas DataFrame."
   ]
  },
  {
   "cell_type": "code",
   "execution_count": null,
   "id": "3c53509e",
   "metadata": {},
   "outputs": [],
   "source": []
  },
  {
   "cell_type": "markdown",
   "id": "131a80dc",
   "metadata": {},
   "source": [
    "#### a) (1.0 ponto)\n",
    "\n",
    "Crie dois novos atributos do tipo inteiro no dataframe, chamados `birth` and `death`, com base na coluna `years`\n",
    "\n",
    "Posteriormente exiba as colunas `name`, `birth`, `death` e `years` das 6 primeiras linhas usando a função `head()`"
   ]
  },
  {
   "cell_type": "code",
   "execution_count": null,
   "id": "f84e10e1",
   "metadata": {},
   "outputs": [],
   "source": []
  },
  {
   "cell_type": "markdown",
   "id": "58d41c2f",
   "metadata": {},
   "source": [
    "#### c) (1.5 ponto)\n",
    "\n",
    "Exiba o número de valores faltantes por coluna. Depois trate os valores faltantes da seguinte forma:\n",
    "1. Preencha com o valor 0 os valores faltantes relativos às colunas do tipo numérico\n",
    "1. Remova as linhas ainda existentes apos o passo anterior, isso é, com valores faltantes não numéricos\n",
    "\n",
    "Exiba o total de linhas após o tratamento."
   ]
  },
  {
   "cell_type": "code",
   "execution_count": null,
   "id": "51eab6d0",
   "metadata": {},
   "outputs": [],
   "source": []
  },
  {
   "cell_type": "markdown",
   "id": "fef6a99a",
   "metadata": {},
   "source": [
    "### Questão 4 (2.5 pontos)\n",
    "\n",
    "Dada uma imagem `query.jpg`  (presente no diretório paintings22) de uma pintura da qual não sabemos o artista, gostaríamos de fazer uma busca numa base de dados e recuperar obras similares. Para isso utilizaremos uma composição de características:\n",
    "1. Cor: converta a imagem para um único canal de cor utilizando a fórmula: $I = R\\cdot 0.299 + G\\cdot0.587 + B\\cdot 0.114$, ou seja, para cada pixel RGB vamos obter um único pixel $I$. Depois compute um histograma da imagem resultante com 18 bins, normalizando por meio da divisão pela soma dos valores.\n",
    "2. Textura: LBP utilizando raio 1.45 e 16 pontos (total 18 características).\n",
    "\n",
    "Concatene esses dois vetores de características e use-o como descritor de cor e textura da imagem. Faça uma busca no diretório `paintings22`, retornando as 5 imagens mais similares de acordo com esse descritor e a distância L1. Exiba a imagem de consulta e também as 5 imagens retornadas, com seus nomes e valor da distância obtido."
   ]
  },
  {
   "cell_type": "code",
   "execution_count": null,
   "id": "c85a4458",
   "metadata": {},
   "outputs": [],
   "source": [
    "# inclua os pacotes necessários e as funções necessárias"
   ]
  },
  {
   "cell_type": "code",
   "execution_count": null,
   "id": "059a9e7a",
   "metadata": {},
   "outputs": [],
   "source": [
    "# inclua o código para carregar as imagens, gerar os vetores de características e obter as distâncias"
   ]
  },
  {
   "cell_type": "code",
   "execution_count": null,
   "id": "d911c28d",
   "metadata": {},
   "outputs": [],
   "source": [
    "# inclua o código para obter as 5 imagens mais próximas com base nas distâncias computadas e exibi-las"
   ]
  }
 ],
 "metadata": {
  "interpreter": {
   "hash": "eeca995d0f3e54aca6930f56d9ad1fedf70d5951646e03e475052bde35f1b6df"
  },
  "kernelspec": {
   "display_name": "Python 3.9.7 ('base')",
   "language": "python",
   "name": "python3"
  },
  "language_info": {
   "codemirror_mode": {
    "name": "ipython",
    "version": 3
   },
   "file_extension": ".py",
   "mimetype": "text/x-python",
   "name": "python",
   "nbconvert_exporter": "python",
   "pygments_lexer": "ipython3",
   "version": "3.9.7"
  },
  "toc": {
   "base_numbering": 1,
   "nav_menu": {},
   "number_sections": true,
   "sideBar": true,
   "skip_h1_title": false,
   "title_cell": "Table of Contents",
   "title_sidebar": "Contents",
   "toc_cell": true,
   "toc_position": {},
   "toc_section_display": true,
   "toc_window_display": false
  }
 },
 "nbformat": 4,
 "nbformat_minor": 5
}
