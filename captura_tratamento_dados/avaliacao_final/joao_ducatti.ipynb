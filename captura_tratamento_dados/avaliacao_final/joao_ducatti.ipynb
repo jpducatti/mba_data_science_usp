{
 "cells": [
  {
   "cell_type": "markdown",
   "id": "4c042a91",
   "metadata": {
    "toc": true
   },
   "source": [
    "<h1>Table of Contents<span class=\"tocSkip\"></span></h1>\n",
    "<div class=\"toc\"><ul class=\"toc-item\"><li><span><a href=\"#-MBA-em-Ciência-de-Dados\" data-toc-modified-id=\"-MBA-em-Ciência-de-Dados-1\"><span class=\"toc-item-num\">1&nbsp;&nbsp;</span><font color=\"blue\"> MBA em Ciência de Dados</font></a></span></li><li><span><a href=\"#Técnicas-Avançadas-para-Captura-e-Tratamento-de-Dados\" data-toc-modified-id=\"Técnicas-Avançadas-para-Captura-e-Tratamento-de-Dados-2\"><span class=\"toc-item-num\">2&nbsp;&nbsp;</span><font color=\"blue\">Técnicas Avançadas para Captura e Tratamento de Dados</font></a></span><ul class=\"toc-item\"><li><span><a href=\"#Avaliação-Final-\" data-toc-modified-id=\"Avaliação-Final--2.1\"><span class=\"toc-item-num\">2.1&nbsp;&nbsp;</span><font color=\"blue\">Avaliação Final </font></a></span><ul class=\"toc-item\"><li><span><a href=\"#Questão-1-(2.5-pontos)\" data-toc-modified-id=\"Questão-1-(2.5-pontos)-2.1.1\"><span class=\"toc-item-num\">2.1.1&nbsp;&nbsp;</span>Questão 1 (2.5 pontos)</a></span></li><li><span><a href=\"#Questão-2-(2.5-pontos)\" data-toc-modified-id=\"Questão-2-(2.5-pontos)-2.1.2\"><span class=\"toc-item-num\">2.1.2&nbsp;&nbsp;</span>Questão 2 (2.5 pontos)</a></span></li><li><span><a href=\"#Questão-3-(2.5-pontos)\" data-toc-modified-id=\"Questão-3-(2.5-pontos)-2.1.3\"><span class=\"toc-item-num\">2.1.3&nbsp;&nbsp;</span>Questão 3 (2.5 pontos)</a></span><ul class=\"toc-item\"><li><span><a href=\"#a)-(1.0-ponto)\" data-toc-modified-id=\"a)-(1.0-ponto)-2.1.3.1\"><span class=\"toc-item-num\">2.1.3.1&nbsp;&nbsp;</span>a) (1.0 ponto)</a></span></li><li><span><a href=\"#c)-(1.5-ponto)\" data-toc-modified-id=\"c)-(1.5-ponto)-2.1.3.2\"><span class=\"toc-item-num\">2.1.3.2&nbsp;&nbsp;</span>c) (1.5 ponto)</a></span></li></ul></li><li><span><a href=\"#Questão-4-(2.5-pontos)\" data-toc-modified-id=\"Questão-4-(2.5-pontos)-2.1.4\"><span class=\"toc-item-num\">2.1.4&nbsp;&nbsp;</span>Questão 4 (2.5 pontos)</a></span></li></ul></li></ul></li></ul></div>"
   ]
  },
  {
   "cell_type": "markdown",
   "id": "97ca9aaf",
   "metadata": {},
   "source": [
    "# <font color=\"blue\"> MBA em Ciência de Dados</font>\n",
    "# <font color=\"blue\">Técnicas Avançadas para Captura e Tratamento de Dados</font>\n",
    "\n",
    "## <font color=\"blue\">Avaliação Final </font> \n",
    "\n",
    "**Produzido por Luis Gustavo Nonato e Moacir Ponti**<br>\n",
    "**Cemeai - ICMC/USP - São Carlos**\n",
    "\n",
    "---"
   ]
  },
  {
   "cell_type": "markdown",
   "id": "a3e2d921",
   "metadata": {},
   "source": [
    "### Questão 1 (2.5 pontos)\n",
    "O site:\n",
    "\n",
    "[https://lite.cnn.com/en/article/h_f2d6a641391976d67a183f746a57d736]('https://lite.cnn.com/en/article/h_f2d6a641391976d67a183f746a57d736')\n",
    "\n",
    "corresponde a um arquivo html cuja maior parte do conteúdo é uma notícia sobre dinossouros. Faça uma requisição ao site e armazene o conteúdo (arquivo html) em uma string. Imprima quantos caracteres a string possui.\n",
    "\n",
    "OBS. Você não deve fazer um parser no html, armazene todo o conteúdo com uma string."
   ]
  },
  {
   "cell_type": "code",
   "execution_count": 1,
   "id": "a8c2d6e4",
   "metadata": {},
   "outputs": [],
   "source": [
    "import requests as rq"
   ]
  },
  {
   "cell_type": "code",
   "execution_count": 2,
   "id": "f7d4b449",
   "metadata": {},
   "outputs": [
    {
     "name": "stdout",
     "output_type": "stream",
     "text": [
      "200  Sucesso na requisição!\n",
      "Tipo da variável que armazenou a requisição =  <class 'str'>\n",
      "A string retornada do url tem 8112 caracteres\n"
     ]
    }
   ],
   "source": [
    "url = 'https://lite.cnn.com/en/article/h_f2d6a641391976d67a183f746a57d736'\n",
    "\n",
    "req = rq.get(url)\n",
    "\n",
    "if(req.status_code == 200):\n",
    "    print(req.status_code, ' Sucesso na requisição!')\n",
    "    conteudo = req.text\n",
    "    print('Tipo da variável que armazenou a requisição = ', type(conteudo))\n",
    "    print('A string retornada do url tem %0.0f caracteres' % len(conteudo))\n",
    "elif(req.status_code == 404): \n",
    "    print(req.status_code, ' Não encontrado')\n",
    "else:\n",
    "    print(req.status_code, ' Outro erro')\n"
   ]
  },
  {
   "cell_type": "markdown",
   "id": "fe8a227a",
   "metadata": {},
   "source": [
    "### Questão 2 (2.5 pontos)\n",
    "\n",
    "Construa, a partir da string armazenada na questão 1), uma lista de palavras que aparecem no documento html. As palavras da lista devem ser constituídas apenas por letras do alfabeto, possuírem mais que 1 caracter e não serem 'stop words'. Qual a palavra que mais aparece na lista de palavras obtida?\n",
    "\n",
    "**Dica:** Utilize a biblioteca <font color='blue'>nltk</font> para construir a lista de palavras como descrito acima."
   ]
  },
  {
   "cell_type": "code",
   "execution_count": 3,
   "id": "8279978a",
   "metadata": {},
   "outputs": [],
   "source": [
    "import nltk\n",
    "import string\n",
    "from nltk.corpus import stopwords\n",
    "from nltk.collocations import *\n",
    "from nltk.stem import PorterStemmer\n"
   ]
  },
  {
   "cell_type": "code",
   "execution_count": 4,
   "id": "ed9c0079",
   "metadata": {},
   "outputs": [
    {
     "name": "stdout",
     "output_type": "stream",
     "text": [
      "['<', '!', 'DOCTYPE', 'HTML', 'PUBLIC'] 1769\n"
     ]
    }
   ],
   "source": [
    "word =  nltk.word_tokenize(conteudo)\n",
    "print(word[:5],len(word)) #cada elemento da string é um elemento de uma lista"
   ]
  },
  {
   "cell_type": "code",
   "execution_count": 5,
   "id": "3c310eaa",
   "metadata": {},
   "outputs": [
    {
     "name": "stdout",
     "output_type": "stream",
     "text": [
      "['doctype', 'html', 'public', 'html', 'html', 'head', 'meta', 'meta', 'viewport', 'link'] 888\n"
     ]
    }
   ],
   "source": [
    "# removendo símbolos e quaisquer elementos que não sejam apresentam elementos do alfabeto\n",
    "# e removendo elementos com 1 caracter\n",
    "word = [w.lower() for w in word if w.isalpha() and w not in string.ascii_letters and len(w) != 1]\n",
    "print(word[:10],len(word))"
   ]
  },
  {
   "cell_type": "code",
   "execution_count": 6,
   "id": "7ef78fea",
   "metadata": {},
   "outputs": [
    {
     "name": "stdout",
     "output_type": "stream",
     "text": [
      "['doctype', 'html', 'public', 'html', 'html'] 562\n"
     ]
    }
   ],
   "source": [
    "# removendo stop-words\n",
    "stop_words = stopwords.words('english')\n",
    "word = [w for w in word if w not in stop_words]\n",
    "print(word[:5], len(word))"
   ]
  },
  {
   "cell_type": "code",
   "execution_count": 7,
   "id": "62ab4626",
   "metadata": {},
   "outputs": [
    {
     "name": "stdout",
     "output_type": "stream",
     "text": [
      "['high metabolic', 'latest news', 'low metabolic', 'metabolic rate', 'question whether'] 582\n"
     ]
    }
   ],
   "source": [
    "# encontrando bigramas e trigramas\n",
    "bigram_measures = nltk.collocations.BigramAssocMeasures() \n",
    "finder = BigramCollocationFinder.from_words(word)\n",
    "\n",
    "for i in finder.nbest(bigram_measures.raw_freq,20):\n",
    "    word.append(i[0].lower()+' '+i[1].lower())\n",
    "    \n",
    "print(word[-5:], len(word))\n"
   ]
  },
  {
   "cell_type": "code",
   "execution_count": 8,
   "id": "423991e5",
   "metadata": {},
   "outputs": [
    {
     "name": "stdout",
     "output_type": "stream",
     "text": [
      "Número de palavras total =  582 \n",
      "\n",
      "Palavra mais repetida sem normalização léxica é  dinosaurs com 19 aparições\n"
     ]
    }
   ],
   "source": [
    "# encontrando a palavra que mais aparece, sem realizar normalização léxica\n",
    "dict_count = {}\n",
    "for i in word:\n",
    "    x = word.count(i)\n",
    "    dict_count[i] = x\n",
    "\n",
    "print('Número de palavras total = ', len(word), '\\n')\n",
    "print('Palavra mais repetida sem normalização léxica é ',max(dict_count, key=dict_count.get),\n",
    "    'com %0.0f aparições' %(max(dict_count.values())))"
   ]
  },
  {
   "cell_type": "code",
   "execution_count": 9,
   "id": "c205ab5a",
   "metadata": {},
   "outputs": [
    {
     "name": "stdout",
     "output_type": "stream",
     "text": [
      "Número de palavras total =  582 \n",
      "\n",
      "Palavra mais repetida sem normalização léxica é  dinosaur com 20 aparições\n"
     ]
    }
   ],
   "source": [
    "# avaliando o resultado com normalização léxica\n",
    "word_norm = [PorterStemmer().stem(w) for w in word]\n",
    "\n",
    "\n",
    "dict_norm = {}\n",
    "i,x = 0,0\n",
    "for i in word_norm:\n",
    "    x = word_norm.count(i)\n",
    "    dict_norm[i] = x\n",
    "\n",
    "print('Número de palavras total = ', len(word_norm), '\\n')\n",
    "print('Palavra mais repetida sem normalização léxica é ',max(dict_norm, key=dict_norm.get),\n",
    "    'com %0.0f aparições' %(max(dict_norm.values())))"
   ]
  },
  {
   "cell_type": "markdown",
   "id": "a36fad1b",
   "metadata": {},
   "source": [
    "### Questão 3 (2.5 pontos)\n",
    "\n",
    "Antes de começar, carregue o arquivo `artists_mba22.csv` e armazene em um pandas DataFrame."
   ]
  },
  {
   "cell_type": "code",
   "execution_count": 32,
   "id": "3c53509e",
   "metadata": {},
   "outputs": [],
   "source": [
    "import pandas as pd"
   ]
  },
  {
   "cell_type": "code",
   "execution_count": 33,
   "id": "ae3955b0",
   "metadata": {},
   "outputs": [
    {
     "name": "stdout",
     "output_type": "stream",
     "text": [
      "name            object\n",
      "years           object\n",
      "genre           object\n",
      "nationality     object\n",
      "bio             object\n",
      "wikipedia       object\n",
      "paintings      float64\n",
      "dtype: object\n"
     ]
    },
    {
     "data": {
      "text/html": [
       "<div>\n",
       "<style scoped>\n",
       "    .dataframe tbody tr th:only-of-type {\n",
       "        vertical-align: middle;\n",
       "    }\n",
       "\n",
       "    .dataframe tbody tr th {\n",
       "        vertical-align: top;\n",
       "    }\n",
       "\n",
       "    .dataframe thead th {\n",
       "        text-align: right;\n",
       "    }\n",
       "</style>\n",
       "<table border=\"1\" class=\"dataframe\">\n",
       "  <thead>\n",
       "    <tr style=\"text-align: right;\">\n",
       "      <th></th>\n",
       "      <th>name</th>\n",
       "      <th>years</th>\n",
       "      <th>genre</th>\n",
       "      <th>nationality</th>\n",
       "      <th>bio</th>\n",
       "      <th>wikipedia</th>\n",
       "      <th>paintings</th>\n",
       "    </tr>\n",
       "  </thead>\n",
       "  <tbody>\n",
       "    <tr>\n",
       "      <th>50</th>\n",
       "      <td>Master of Pedret</td>\n",
       "      <td>1100 – 1130</td>\n",
       "      <td>Romanesque</td>\n",
       "      <td>Spanish</td>\n",
       "      <td>Master of Pedret is the name given by historia...</td>\n",
       "      <td>https://en.wikipedia.org/wiki/Master_of_Pedret</td>\n",
       "      <td>3.0</td>\n",
       "    </tr>\n",
       "    <tr>\n",
       "      <th>51</th>\n",
       "      <td>Candido Portinari</td>\n",
       "      <td>1903 – 1962</td>\n",
       "      <td>Neorealism</td>\n",
       "      <td>Brazilian</td>\n",
       "      <td>Candido Portinari (December 29, 1903 – Februar...</td>\n",
       "      <td>https://en.wikipedia.org/wiki/Candido_Portinari</td>\n",
       "      <td>25.0</td>\n",
       "    </tr>\n",
       "    <tr>\n",
       "      <th>52</th>\n",
       "      <td>Mestre Ataíde</td>\n",
       "      <td>1762 – 1830</td>\n",
       "      <td>Baroque</td>\n",
       "      <td>Brazilian</td>\n",
       "      <td>Manuel da Costa Ataíde, better known as Mestre...</td>\n",
       "      <td>https://en.wikipedia.org/wiki/Manoel_da_Costa_...</td>\n",
       "      <td>29.0</td>\n",
       "    </tr>\n",
       "  </tbody>\n",
       "</table>\n",
       "</div>"
      ],
      "text/plain": [
       "                 name        years       genre nationality  \\\n",
       "50   Master of Pedret  1100 – 1130  Romanesque     Spanish   \n",
       "51  Candido Portinari  1903 – 1962  Neorealism   Brazilian   \n",
       "52      Mestre Ataíde  1762 – 1830     Baroque   Brazilian   \n",
       "\n",
       "                                                  bio  \\\n",
       "50  Master of Pedret is the name given by historia...   \n",
       "51  Candido Portinari (December 29, 1903 – Februar...   \n",
       "52  Manuel da Costa Ataíde, better known as Mestre...   \n",
       "\n",
       "                                            wikipedia  paintings  \n",
       "50     https://en.wikipedia.org/wiki/Master_of_Pedret        3.0  \n",
       "51    https://en.wikipedia.org/wiki/Candido_Portinari       25.0  \n",
       "52  https://en.wikipedia.org/wiki/Manoel_da_Costa_...       29.0  "
      ]
     },
     "execution_count": 33,
     "metadata": {},
     "output_type": "execute_result"
    }
   ],
   "source": [
    "df = pd.read_csv('/Users/jp.ducatti/Documents/mba_data_science_usp/captura_tratamento_dados/avaliacao_final/artists_mba22.csv')\n",
    "print(df.dtypes)\n",
    "df.tail(3)"
   ]
  },
  {
   "cell_type": "markdown",
   "id": "131a80dc",
   "metadata": {},
   "source": [
    "#### a) (1.0 ponto)\n",
    "\n",
    "Crie dois novos atributos do tipo inteiro no dataframe, chamados `birth` and `death`, com base na coluna `years`\n",
    "\n",
    "Posteriormente exiba as colunas `name`, `birth`, `death` e `years` das 6 primeiras linhas usando a função `head()`"
   ]
  },
  {
   "cell_type": "code",
   "execution_count": 35,
   "id": "f84e10e1",
   "metadata": {},
   "outputs": [],
   "source": [
    "n_row = df.shape[0] #contando número de linhas para percorrer no for loop\n",
    "\n",
    "# loop for para gerar listas de birth e death a serem incluidas no dataframe\n",
    "i = 0\n",
    "birth = []\n",
    "death = []\n",
    "for i in range(0,n_row):\n",
    "    birth_death = str(df['years'][i])\n",
    "    birth.append(birth_death[:4])\n",
    "    death.append(birth_death[-4:])"
   ]
  },
  {
   "cell_type": "code",
   "execution_count": 36,
   "id": "9d3022d1",
   "metadata": {},
   "outputs": [
    {
     "name": "stdout",
     "output_type": "stream",
     "text": [
      "name            object\n",
      "years           object\n",
      "birth           object\n",
      "death           object\n",
      "genre           object\n",
      "nationality     object\n",
      "bio             object\n",
      "wikipedia       object\n",
      "paintings      float64\n",
      "dtype: object\n"
     ]
    },
    {
     "data": {
      "text/html": [
       "<div>\n",
       "<style scoped>\n",
       "    .dataframe tbody tr th:only-of-type {\n",
       "        vertical-align: middle;\n",
       "    }\n",
       "\n",
       "    .dataframe tbody tr th {\n",
       "        vertical-align: top;\n",
       "    }\n",
       "\n",
       "    .dataframe thead th {\n",
       "        text-align: right;\n",
       "    }\n",
       "</style>\n",
       "<table border=\"1\" class=\"dataframe\">\n",
       "  <thead>\n",
       "    <tr style=\"text-align: right;\">\n",
       "      <th></th>\n",
       "      <th>name</th>\n",
       "      <th>years</th>\n",
       "      <th>birth</th>\n",
       "      <th>death</th>\n",
       "      <th>genre</th>\n",
       "      <th>nationality</th>\n",
       "      <th>bio</th>\n",
       "      <th>wikipedia</th>\n",
       "      <th>paintings</th>\n",
       "    </tr>\n",
       "  </thead>\n",
       "  <tbody>\n",
       "    <tr>\n",
       "      <th>0</th>\n",
       "      <td>Amedeo Modigliani</td>\n",
       "      <td>1884:1920</td>\n",
       "      <td>1884</td>\n",
       "      <td>1920</td>\n",
       "      <td>Expressionism</td>\n",
       "      <td>Italian</td>\n",
       "      <td>Amedeo Clemente Modigliani (Italian pronunciat...</td>\n",
       "      <td>http://en.wikipedia.org/wiki/Amedeo_Modigliani</td>\n",
       "      <td>193.0</td>\n",
       "    </tr>\n",
       "    <tr>\n",
       "      <th>1</th>\n",
       "      <td>Vasiliy Kandinskiy</td>\n",
       "      <td>1866 to 1944</td>\n",
       "      <td>1866</td>\n",
       "      <td>1944</td>\n",
       "      <td>Expressionism,Abstractionism</td>\n",
       "      <td>Russian</td>\n",
       "      <td>Wassily Wassilyevich Kandinsky (Russian: Васи́...</td>\n",
       "      <td>http://en.wikipedia.org/wiki/Wassily_Kandinsky</td>\n",
       "      <td>88.0</td>\n",
       "    </tr>\n",
       "    <tr>\n",
       "      <th>2</th>\n",
       "      <td>Diego Rivera</td>\n",
       "      <td>1886 - 1957</td>\n",
       "      <td>1886</td>\n",
       "      <td>1957</td>\n",
       "      <td>Social Realism,Muralism</td>\n",
       "      <td>Mexican</td>\n",
       "      <td>Diego María de la Concepción Juan Nepomuceno E...</td>\n",
       "      <td>http://en.wikipedia.org/wiki/Diego_Rivera</td>\n",
       "      <td>70.0</td>\n",
       "    </tr>\n",
       "  </tbody>\n",
       "</table>\n",
       "</div>"
      ],
      "text/plain": [
       "                 name         years birth death                         genre  \\\n",
       "0   Amedeo Modigliani     1884:1920  1884  1920                 Expressionism   \n",
       "1  Vasiliy Kandinskiy  1866 to 1944  1866  1944  Expressionism,Abstractionism   \n",
       "2        Diego Rivera   1886 - 1957  1886  1957       Social Realism,Muralism   \n",
       "\n",
       "  nationality                                                bio  \\\n",
       "0     Italian  Amedeo Clemente Modigliani (Italian pronunciat...   \n",
       "1     Russian  Wassily Wassilyevich Kandinsky (Russian: Васи́...   \n",
       "2     Mexican  Diego María de la Concepción Juan Nepomuceno E...   \n",
       "\n",
       "                                        wikipedia  paintings  \n",
       "0  http://en.wikipedia.org/wiki/Amedeo_Modigliani      193.0  \n",
       "1  http://en.wikipedia.org/wiki/Wassily_Kandinsky       88.0  \n",
       "2       http://en.wikipedia.org/wiki/Diego_Rivera       70.0  "
      ]
     },
     "execution_count": 36,
     "metadata": {},
     "output_type": "execute_result"
    }
   ],
   "source": [
    "# inserindo birth e death no dataframe ao lado da coluna years\n",
    "df.insert(loc = 2, column='birth', value = birth)\n",
    "df.insert(loc = 3, column='death', value = death)\n",
    "\n",
    "print(df.dtypes)\n",
    "df.head(3)"
   ]
  },
  {
   "cell_type": "code",
   "execution_count": 38,
   "id": "a592527b",
   "metadata": {},
   "outputs": [
    {
     "name": "stdout",
     "output_type": "stream",
     "text": [
      "name            object\n",
      "years           object\n",
      "birth            Int64\n",
      "death            Int64\n",
      "genre           object\n",
      "nationality     object\n",
      "bio             object\n",
      "wikipedia       object\n",
      "paintings      float64\n",
      "dtype: object\n"
     ]
    },
    {
     "data": {
      "text/html": [
       "<div>\n",
       "<style scoped>\n",
       "    .dataframe tbody tr th:only-of-type {\n",
       "        vertical-align: middle;\n",
       "    }\n",
       "\n",
       "    .dataframe tbody tr th {\n",
       "        vertical-align: top;\n",
       "    }\n",
       "\n",
       "    .dataframe thead th {\n",
       "        text-align: right;\n",
       "    }\n",
       "</style>\n",
       "<table border=\"1\" class=\"dataframe\">\n",
       "  <thead>\n",
       "    <tr style=\"text-align: right;\">\n",
       "      <th></th>\n",
       "      <th>name</th>\n",
       "      <th>birth</th>\n",
       "      <th>death</th>\n",
       "      <th>years</th>\n",
       "    </tr>\n",
       "  </thead>\n",
       "  <tbody>\n",
       "    <tr>\n",
       "      <th>0</th>\n",
       "      <td>Amedeo Modigliani</td>\n",
       "      <td>1884</td>\n",
       "      <td>1920</td>\n",
       "      <td>1884:1920</td>\n",
       "    </tr>\n",
       "    <tr>\n",
       "      <th>1</th>\n",
       "      <td>Vasiliy Kandinskiy</td>\n",
       "      <td>1866</td>\n",
       "      <td>1944</td>\n",
       "      <td>1866 to 1944</td>\n",
       "    </tr>\n",
       "    <tr>\n",
       "      <th>2</th>\n",
       "      <td>Diego Rivera</td>\n",
       "      <td>1886</td>\n",
       "      <td>1957</td>\n",
       "      <td>1886 - 1957</td>\n",
       "    </tr>\n",
       "    <tr>\n",
       "      <th>3</th>\n",
       "      <td>Claude Monet</td>\n",
       "      <td>1840</td>\n",
       "      <td>1926</td>\n",
       "      <td>1840 to 1926</td>\n",
       "    </tr>\n",
       "    <tr>\n",
       "      <th>4</th>\n",
       "      <td>Rene Magritte</td>\n",
       "      <td>1898</td>\n",
       "      <td>1967</td>\n",
       "      <td>1898 -   1967</td>\n",
       "    </tr>\n",
       "    <tr>\n",
       "      <th>5</th>\n",
       "      <td>Salvador Dali</td>\n",
       "      <td>1904</td>\n",
       "      <td>1989</td>\n",
       "      <td>1904 - 1989</td>\n",
       "    </tr>\n",
       "  </tbody>\n",
       "</table>\n",
       "</div>"
      ],
      "text/plain": [
       "                 name  birth  death          years\n",
       "0   Amedeo Modigliani   1884   1920      1884:1920\n",
       "1  Vasiliy Kandinskiy   1866   1944   1866 to 1944\n",
       "2        Diego Rivera   1886   1957    1886 - 1957\n",
       "3        Claude Monet   1840   1926   1840 to 1926\n",
       "4       Rene Magritte   1898   1967  1898 -   1967\n",
       "5       Salvador Dali   1904   1989    1904 - 1989"
      ]
     },
     "execution_count": 38,
     "metadata": {},
     "output_type": "execute_result"
    }
   ],
   "source": [
    "# convertendo formato das colunas birth e death de object para INT 64\n",
    "# foi utilizado INT64 por causa da presenca da linha indice 29 onde há null value para coluna years\n",
    "df[['birth','death']] = df[['birth','death']].astype(float).astype('Int64')\n",
    "print(df.dtypes)\n",
    "df[['name','birth','death','years']].head(6)"
   ]
  },
  {
   "cell_type": "markdown",
   "id": "58d41c2f",
   "metadata": {},
   "source": [
    "#### c) (1.5 ponto)\n",
    "\n",
    "Exiba o número de valores faltantes por coluna. Depois trate os valores faltantes da seguinte forma:\n",
    "1. Preencha com o valor 0 os valores faltantes relativos às colunas do tipo numérico\n",
    "1. Remova as linhas ainda existentes apos o passo anterior, isso é, com valores faltantes não numéricos\n",
    "\n",
    "Exiba o total de linhas após o tratamento."
   ]
  },
  {
   "cell_type": "code",
   "execution_count": null,
   "id": "51eab6d0",
   "metadata": {},
   "outputs": [],
   "source": []
  },
  {
   "cell_type": "markdown",
   "id": "fef6a99a",
   "metadata": {},
   "source": [
    "### Questão 4 (2.5 pontos)\n",
    "\n",
    "Dada uma imagem `query.jpg`  (presente no diretório paintings22) de uma pintura da qual não sabemos o artista, gostaríamos de fazer uma busca numa base de dados e recuperar obras similares. Para isso utilizaremos uma composição de características:\n",
    "1. Cor: converta a imagem para um único canal de cor utilizando a fórmula: $I = R\\cdot 0.299 + G\\cdot0.587 + B\\cdot 0.114$, ou seja, para cada pixel RGB vamos obter um único pixel $I$. Depois compute um histograma da imagem resultante com 18 bins, normalizando por meio da divisão pela soma dos valores.\n",
    "2. Textura: LBP utilizando raio 1.45 e 16 pontos (total 18 características).\n",
    "\n",
    "Concatene esses dois vetores de características e use-o como descritor de cor e textura da imagem. Faça uma busca no diretório `paintings22`, retornando as 5 imagens mais similares de acordo com esse descritor e a distância L1. Exiba a imagem de consulta e também as 5 imagens retornadas, com seus nomes e valor da distância obtido."
   ]
  },
  {
   "cell_type": "code",
   "execution_count": null,
   "id": "c85a4458",
   "metadata": {},
   "outputs": [],
   "source": [
    "# inclua os pacotes necessários e as funções necessárias"
   ]
  },
  {
   "cell_type": "code",
   "execution_count": null,
   "id": "059a9e7a",
   "metadata": {},
   "outputs": [],
   "source": [
    "# inclua o código para carregar as imagens, gerar os vetores de características e obter as distâncias"
   ]
  },
  {
   "cell_type": "code",
   "execution_count": null,
   "id": "d911c28d",
   "metadata": {},
   "outputs": [],
   "source": [
    "# inclua o código para obter as 5 imagens mais próximas com base nas distâncias computadas e exibi-las"
   ]
  }
 ],
 "metadata": {
  "interpreter": {
   "hash": "eeca995d0f3e54aca6930f56d9ad1fedf70d5951646e03e475052bde35f1b6df"
  },
  "kernelspec": {
   "display_name": "Python 3.9.7 ('base')",
   "language": "python",
   "name": "python3"
  },
  "language_info": {
   "codemirror_mode": {
    "name": "ipython",
    "version": 3
   },
   "file_extension": ".py",
   "mimetype": "text/x-python",
   "name": "python",
   "nbconvert_exporter": "python",
   "pygments_lexer": "ipython3",
   "version": "3.9.7"
  },
  "toc": {
   "base_numbering": 1,
   "nav_menu": {},
   "number_sections": true,
   "sideBar": true,
   "skip_h1_title": false,
   "title_cell": "Table of Contents",
   "title_sidebar": "Contents",
   "toc_cell": true,
   "toc_position": {},
   "toc_section_display": true,
   "toc_window_display": false
  }
 },
 "nbformat": 4,
 "nbformat_minor": 5
}
