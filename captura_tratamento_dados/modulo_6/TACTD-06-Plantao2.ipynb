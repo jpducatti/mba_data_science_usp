{
 "cells": [
  {
   "cell_type": "markdown",
   "metadata": {},
   "source": [
    "# <font color=\"blue\"> MBA em Ciência de Dados</font>\n",
    "# <font color=\"blue\">Técnicas Avançadas para Captura e Tratamento de Dados</font>\n",
    "\n",
    "## <font color=\"blue\"> Matriz Documento $\\times$ Palavras - Bag of Words</font>\n",
    "    \n",
    "## <font color=\"blue\">Solução dos Exercícios</font>\n",
    "\n",
    "**Material Produzido por Luis Gustavo Nonato**<br>\n",
    "**Cemeai - ICMC/USP São Carlos**\n",
    "---"
   ]
  },
  {
   "cell_type": "markdown",
   "metadata": {},
   "source": [
    "<font color='red'> Recomendamos fortemente resolver os exercícios sem consultar as soluções antecipadamente </font>"
   ]
  },
  {
   "cell_type": "markdown",
   "metadata": {},
   "source": [
    "Os exercícios abaixo fazem uso da coleção de documentos presente no diretório `DocCol2` contido no arquivo <font style=\"font-family: monaco\"> DocCol.zip</font>, o qual pode ser baixado do Moodle."
   ]
  },
  {
   "cell_type": "markdown",
   "metadata": {},
   "source": [
    "### Exercício 1)\n",
    "Armazene os documentos disponíveis no diretório `DocCol2` em um dicionário onde a chave é o nome do arquivo e o valor é a string contida no arquivo."
   ]
  },
  {
   "cell_type": "code",
   "execution_count": 1,
   "metadata": {},
   "outputs": [
    {
     "name": "stdout",
     "output_type": "stream",
     "text": [
      "dict_keys(['ch9', 'ch38', 'ch31', 'ch7', 'ch36', 'ch37', 'ch1', 'ch30', 'ch6', 'ch39', 'ch8', 'au8', 'au1', 'au6', 'au7', 'au9', 'au15', 'au12', 'gr10', 'gr17', 'gr21', 'gr4', 'gr19', 'gr3', 'gr26', 'au13', 'au14', 'gr18', 'gr2', 'gr20', 'gr5', 'gr16', 'gr11', 'ch23', 'ch24', 'ch12', 'ch15', 'ch41', 'ch46', 'ch48', 'ch14', 'ch13', 'ch25', 'ch22', 'ch49', 'ch47', 'ch40', 'ch35', 'ch3', 'ch32', 'ch4', 'ch50', 'ch33', 'ch5', 'ch34', 'ch2', 'au5', 'au2', 'au3', 'au4', 'gr14', 'gr9', 'gr13', 'gr25', 'gr22', 'gr7', 'au11', 'gr23', 'gr6', 'gr1', 'gr24', 'gr8', 'gr12', 'gr15', 'au10', 'ch45', 'ch42', 'ch18', 'ch27', 'ch20', 'ch29', 'ch16', 'ch11', 'ch43', 'ch44', 'ch10', 'ch28', 'ch17', 'ch21', 'ch19', 'ch26'])\n"
     ]
    }
   ],
   "source": [
    "# Lendo o documento como uma string\n",
    "import glob  # glob é um pacote que permite varrer arquivos e \n",
    "             # diretorios utilizando sintaxe linux\n",
    "\n",
    "files = glob.glob(\"DocCol2/*\")\n",
    "\n",
    "docs = {}\n",
    "for fname in files:\n",
    "    with open(fname,'r') as f:\n",
    "        key = fname.split('/')[-1]\n",
    "        docs[key] = f.read() \n",
    "        \n",
    "print(docs.keys())"
   ]
  },
  {
   "cell_type": "markdown",
   "metadata": {},
   "source": [
    "### Exercício 2)\n",
    "Percorra as strings armazenadas como valores no dicionário criado no exercício 1), concatenando-as em uma única string. Quebre a string gerada em uma lista de palavras.\n",
    "\n",
    "**DICA**: Utilize <font color='blue'>word_tokenize</font> do pacote <font color='blue'>nltk</font>"
   ]
  },
  {
   "cell_type": "code",
   "execution_count": 2,
   "metadata": {},
   "outputs": [
    {
     "name": "stdout",
     "output_type": "stream",
     "text": [
      "['From', ':', 'kempmp', '@', 'phoenix.oulu.fi', '(', 'Petri', 'Pihko', ')', 'Subject']\n"
     ]
    }
   ],
   "source": [
    "import nltk\n",
    "\n",
    "words = ''\n",
    "for k,s in docs.items():   # concatenando as strings\n",
    "    words = words+s\n",
    "    \n",
    "words = nltk.word_tokenize(words)  # lista de palavras\n",
    "print(words[:10])"
   ]
  },
  {
   "cell_type": "markdown",
   "metadata": {},
   "source": [
    "### Exercício 3)\n",
    "Remova todas os \"tokens\" da lista criada no exercício 2) que sejam de comprimento 1 ou que contenham caractéres que não são letras do alfabeto. Faça com que todas as palavras estajam em letras minúsculas na lista resultante."
   ]
  },
  {
   "cell_type": "code",
   "execution_count": 3,
   "metadata": {},
   "outputs": [
    {
     "name": "stdout",
     "output_type": "stream",
     "text": [
      "['from', 'kempmp', 'petri', 'pihko', 'subject', 're', 'atheist', 'views', 'on', 'christianity', 'was', 're', 'accepting', 'jeesus', 'in', 'your', 'heart', 'first', 'thank', 'collectively']\n"
     ]
    }
   ],
   "source": [
    "words = [w.lower() for w in words if w.isalpha() and len(w) != 1]\n",
    "print(words[:20])"
   ]
  },
  {
   "cell_type": "markdown",
   "metadata": {},
   "source": [
    "### Exercício 4)\n",
    "Remova da lista de palavras resultante do exercício 3) todas as \"stop_words\". Lembre-se que as palavras são da língua inglesa."
   ]
  },
  {
   "cell_type": "code",
   "execution_count": 4,
   "metadata": {},
   "outputs": [
    {
     "name": "stdout",
     "output_type": "stream",
     "text": [
      "['kempmp', 'petri', 'pihko', 'subject', 'atheist', 'views', 'christianity', 'accepting', 'jeesus', 'heart', 'first', 'thank', 'collectively', 'people', 'given', 'good', 'answers', 'questions', 'jason', 'smith']\n"
     ]
    }
   ],
   "source": [
    "from nltk.corpus import stopwords\n",
    "\n",
    "# lista das stop words\n",
    "stop_words = stopwords.words('english')\n",
    "\n",
    "words = [w for w in words if w not in stop_words]\n",
    "print(words[:20])"
   ]
  },
  {
   "cell_type": "markdown",
   "metadata": {},
   "source": [
    "### Exercício 5) \n",
    "Faça a normalização léxica (stemming) das palavras da lista resultante do exercício 4) e remova palavras repetidas após a normalização. Quantas palavras foram removidas após a normalização léxica?\n",
    "\n",
    "**Dica**: Utilize o método <font color='blue'>PorterStemmer</font> do pacote <font color='blue'>nltk.stem</font>"
   ]
  },
  {
   "cell_type": "code",
   "execution_count": 5,
   "metadata": {},
   "outputs": [
    {
     "name": "stdout",
     "output_type": "stream",
     "text": [
      "47075\n",
      "Foram removidas  40313  palavras\n"
     ]
    }
   ],
   "source": [
    "from nltk.stem import PorterStemmer\n",
    "\n",
    "n_antes = len(words)\n",
    "print(n_antes)\n",
    "words = [PorterStemmer().stem(w) for w in words]\n",
    "words = list(set(words))\n",
    "n_depois = len(words)\n",
    "print('Foram removidas ',n_antes-n_depois,' palavras')\n",
    "\n",
    "#print(len(words),words[:20])"
   ]
  },
  {
   "cell_type": "markdown",
   "metadata": {},
   "source": [
    "### Exercício 6) \n",
    "Gere uma lista de palavras para cada documento armazenado como valores no dicionário do exercício 1) aplicando os passos dos exercícios de 2 a 5 para cada documento.\n",
    "Porém, no passo 5 não remova palavras repetidas após a normalização léxica. Armazene o resultado em um novo dicionário onde as chaves são os nomes dos documentos, como no dicionário do exercício 1), e os valores são as listas de palavras geradas para cada documento."
   ]
  },
  {
   "cell_type": "code",
   "execution_count": 6,
   "metadata": {},
   "outputs": [],
   "source": [
    "import nltk\n",
    "from nltk.corpus import stopwords\n",
    "from nltk.stem import PorterStemmer\n",
    "import pandas as pd\n",
    "import numpy as np\n",
    "from collections import Counter"
   ]
  },
  {
   "cell_type": "code",
   "execution_count": 7,
   "metadata": {},
   "outputs": [],
   "source": [
    "# stop_words = stopwords.words('english')\n",
    "# docsXwords = {}\n",
    "# for key, value in docs.items():\n",
    "#     words = nltk.word_tokenize(value)\n",
    "#     words = [w.lower() for w in words if w.isalpha() and len(w) != 1]\n",
    "#     words = [w for w in words if w not in stop_words]\n",
    "#     words = [PorterStemmer().stem(w) for w in words]\n",
    "#     docsXwords[key] = words"
   ]
  },
  {
   "cell_type": "code",
   "execution_count": null,
   "metadata": {},
   "outputs": [],
   "source": [
    "stop_words = stopwords.words('english')\n",
    "all_words = []\n",
    "doc_names = []\n",
    "for key, value in docs.items():\n",
    "    words = nltk.word_tokenize(value)\n",
    "    words = [w.lower() for w in words if w.isalpha() and len(w) != 1]\n",
    "    words = [w for w in words if w not in stop_words]\n",
    "    words = [PorterStemmer().stem(w) for w in words]\n",
    "    string = \" \".join(words)\n",
    "    \n",
    "    all_words.append(string)\n",
    "    doc_names.append(key)"
   ]
  },
  {
   "cell_type": "markdown",
   "metadata": {
    "tags": []
   },
   "source": [
    "### Exercício 7)\n",
    "Utilize o dicionário contruído no exercício anterior para construir\n",
    "uma matriz Documentos $\\times$ Palavras para a coleção de documentos contidos no diretório `DocCol2`."
   ]
  },
  {
   "cell_type": "code",
   "execution_count": 8,
   "metadata": {},
   "outputs": [],
   "source": [
    "# # unificando todas as palavras em uma única lista\n",
    "# corpus = [palavras for sublista in list(docsXwords.values()) for palavras in sublista]\n",
    "\n",
    "# # removendo repeticoes\n",
    "# corpus = list(set(corpus))\n",
    "\n",
    "# df_dXp = pd.DataFrame(data=np.zeros((len(list(docs.keys())),len(corpus))),\n",
    "#                       index = list(docs.keys()), columns = corpus)\n",
    "\n",
    "# for key,value in docsXwords.items():\n",
    "#     dtemp = dict(Counter(value))\n",
    "#     df_dXp.loc[key,list(dtemp.keys())] = list(dtemp.values())\n",
    "    \n",
    "# print(df_dXp.head())"
   ]
  },
  {
   "cell_type": "code",
   "execution_count": 132,
   "metadata": {},
   "outputs": [],
   "source": [
    "from sklearn.feature_extraction.text import CountVectorizer, TfidfVectorizer\n",
    "\n",
    "# Criando lista com strings dos documentos e lista com nomes dos doc (se usar versao antiga do loop de limpeza)\n",
    "# docsXwords_list = list(docsXwords.items())\n",
    "# all_words = [\" \".join(words) for doc, words in docsXwords_list]\n",
    "# doc_names = [doc for doc, words in docsXwords_list]\n",
    "\n",
    "# Criando bag-of-words\n",
    "cv = CountVectorizer() # ou TfidfVectorizer()\n",
    "bow = cv.fit_transform(all_words)\n",
    "bow = bow.todense()\n",
    "df_dXp = pd.DataFrame(bow, columns=cv.get_feature_names_out(), index=doc_names)"
   ]
  },
  {
   "cell_type": "code",
   "execution_count": 133,
   "metadata": {},
   "outputs": [
    {
     "data": {
      "text/html": [
       "<div>\n",
       "<style scoped>\n",
       "    .dataframe tbody tr th:only-of-type {\n",
       "        vertical-align: middle;\n",
       "    }\n",
       "\n",
       "    .dataframe tbody tr th {\n",
       "        vertical-align: top;\n",
       "    }\n",
       "\n",
       "    .dataframe thead th {\n",
       "        text-align: right;\n",
       "    }\n",
       "</style>\n",
       "<table border=\"1\" class=\"dataframe\">\n",
       "  <thead>\n",
       "    <tr style=\"text-align: right;\">\n",
       "      <th></th>\n",
       "      <th>aaai</th>\n",
       "      <th>aacc</th>\n",
       "      <th>aaron</th>\n",
       "      <th>aaronc</th>\n",
       "      <th>ab</th>\n",
       "      <th>abandon</th>\n",
       "      <th>abbot</th>\n",
       "      <th>abbrevi</th>\n",
       "      <th>abc</th>\n",
       "      <th>abel</th>\n",
       "      <th>...</th>\n",
       "      <th>zf</th>\n",
       "      <th>zhao</th>\n",
       "      <th>zilch</th>\n",
       "      <th>zone</th>\n",
       "      <th>zoom</th>\n",
       "      <th>zopfi</th>\n",
       "      <th>zorg</th>\n",
       "      <th>zorn</th>\n",
       "      <th>zur</th>\n",
       "      <th>zwingli</th>\n",
       "    </tr>\n",
       "  </thead>\n",
       "  <tbody>\n",
       "    <tr>\n",
       "      <th>ch9</th>\n",
       "      <td>0</td>\n",
       "      <td>0</td>\n",
       "      <td>0</td>\n",
       "      <td>0</td>\n",
       "      <td>0</td>\n",
       "      <td>0</td>\n",
       "      <td>0</td>\n",
       "      <td>0</td>\n",
       "      <td>0</td>\n",
       "      <td>0</td>\n",
       "      <td>...</td>\n",
       "      <td>0</td>\n",
       "      <td>0</td>\n",
       "      <td>0</td>\n",
       "      <td>0</td>\n",
       "      <td>0</td>\n",
       "      <td>0</td>\n",
       "      <td>0</td>\n",
       "      <td>0</td>\n",
       "      <td>0</td>\n",
       "      <td>0</td>\n",
       "    </tr>\n",
       "    <tr>\n",
       "      <th>ch38</th>\n",
       "      <td>0</td>\n",
       "      <td>0</td>\n",
       "      <td>0</td>\n",
       "      <td>0</td>\n",
       "      <td>0</td>\n",
       "      <td>0</td>\n",
       "      <td>0</td>\n",
       "      <td>0</td>\n",
       "      <td>0</td>\n",
       "      <td>0</td>\n",
       "      <td>...</td>\n",
       "      <td>0</td>\n",
       "      <td>0</td>\n",
       "      <td>0</td>\n",
       "      <td>0</td>\n",
       "      <td>0</td>\n",
       "      <td>0</td>\n",
       "      <td>0</td>\n",
       "      <td>0</td>\n",
       "      <td>0</td>\n",
       "      <td>0</td>\n",
       "    </tr>\n",
       "    <tr>\n",
       "      <th>ch31</th>\n",
       "      <td>0</td>\n",
       "      <td>0</td>\n",
       "      <td>0</td>\n",
       "      <td>0</td>\n",
       "      <td>0</td>\n",
       "      <td>0</td>\n",
       "      <td>0</td>\n",
       "      <td>0</td>\n",
       "      <td>0</td>\n",
       "      <td>0</td>\n",
       "      <td>...</td>\n",
       "      <td>0</td>\n",
       "      <td>0</td>\n",
       "      <td>0</td>\n",
       "      <td>0</td>\n",
       "      <td>0</td>\n",
       "      <td>0</td>\n",
       "      <td>0</td>\n",
       "      <td>0</td>\n",
       "      <td>0</td>\n",
       "      <td>0</td>\n",
       "    </tr>\n",
       "    <tr>\n",
       "      <th>ch7</th>\n",
       "      <td>0</td>\n",
       "      <td>0</td>\n",
       "      <td>0</td>\n",
       "      <td>0</td>\n",
       "      <td>0</td>\n",
       "      <td>0</td>\n",
       "      <td>0</td>\n",
       "      <td>0</td>\n",
       "      <td>0</td>\n",
       "      <td>0</td>\n",
       "      <td>...</td>\n",
       "      <td>0</td>\n",
       "      <td>0</td>\n",
       "      <td>0</td>\n",
       "      <td>0</td>\n",
       "      <td>0</td>\n",
       "      <td>0</td>\n",
       "      <td>0</td>\n",
       "      <td>0</td>\n",
       "      <td>0</td>\n",
       "      <td>0</td>\n",
       "    </tr>\n",
       "    <tr>\n",
       "      <th>ch36</th>\n",
       "      <td>0</td>\n",
       "      <td>0</td>\n",
       "      <td>4</td>\n",
       "      <td>2</td>\n",
       "      <td>0</td>\n",
       "      <td>0</td>\n",
       "      <td>0</td>\n",
       "      <td>0</td>\n",
       "      <td>0</td>\n",
       "      <td>0</td>\n",
       "      <td>...</td>\n",
       "      <td>0</td>\n",
       "      <td>0</td>\n",
       "      <td>0</td>\n",
       "      <td>1</td>\n",
       "      <td>0</td>\n",
       "      <td>0</td>\n",
       "      <td>0</td>\n",
       "      <td>0</td>\n",
       "      <td>0</td>\n",
       "      <td>0</td>\n",
       "    </tr>\n",
       "  </tbody>\n",
       "</table>\n",
       "<p>5 rows × 6762 columns</p>\n",
       "</div>"
      ],
      "text/plain": [
       "      aaai  aacc  aaron  aaronc  ab  abandon  abbot  abbrevi  abc  abel  ...  \\\n",
       "ch9      0     0      0       0   0        0      0        0    0     0  ...   \n",
       "ch38     0     0      0       0   0        0      0        0    0     0  ...   \n",
       "ch31     0     0      0       0   0        0      0        0    0     0  ...   \n",
       "ch7      0     0      0       0   0        0      0        0    0     0  ...   \n",
       "ch36     0     0      4       2   0        0      0        0    0     0  ...   \n",
       "\n",
       "      zf  zhao  zilch  zone  zoom  zopfi  zorg  zorn  zur  zwingli  \n",
       "ch9    0     0      0     0     0      0     0     0    0        0  \n",
       "ch38   0     0      0     0     0      0     0     0    0        0  \n",
       "ch31   0     0      0     0     0      0     0     0    0        0  \n",
       "ch7    0     0      0     0     0      0     0     0    0        0  \n",
       "ch36   0     0      0     1     0      0     0     0    0        0  \n",
       "\n",
       "[5 rows x 6762 columns]"
      ]
     },
     "execution_count": 133,
     "metadata": {},
     "output_type": "execute_result"
    }
   ],
   "source": [
    "df_dXp.head()"
   ]
  },
  {
   "cell_type": "markdown",
   "metadata": {
    "tags": []
   },
   "source": [
    "### Exercício 8)\n",
    "Utilizando PCA, projete a coleção de documentos no espaço gerado pelas duas direções principais da matriz Documentos $\\times$ Palavras."
   ]
  },
  {
   "cell_type": "code",
   "execution_count": 117,
   "metadata": {},
   "outputs": [
    {
     "data": {
      "text/html": [
       "<div>\n",
       "<style scoped>\n",
       "    .dataframe tbody tr th:only-of-type {\n",
       "        vertical-align: middle;\n",
       "    }\n",
       "\n",
       "    .dataframe tbody tr th {\n",
       "        vertical-align: top;\n",
       "    }\n",
       "\n",
       "    .dataframe thead th {\n",
       "        text-align: right;\n",
       "    }\n",
       "</style>\n",
       "<table border=\"1\" class=\"dataframe\">\n",
       "  <thead>\n",
       "    <tr style=\"text-align: right;\">\n",
       "      <th></th>\n",
       "      <th>aaai</th>\n",
       "      <th>aacc</th>\n",
       "      <th>aaron</th>\n",
       "      <th>aaronc</th>\n",
       "      <th>ab</th>\n",
       "      <th>abandon</th>\n",
       "      <th>abbot</th>\n",
       "      <th>abbrevi</th>\n",
       "      <th>abc</th>\n",
       "      <th>abel</th>\n",
       "      <th>...</th>\n",
       "      <th>zf</th>\n",
       "      <th>zhao</th>\n",
       "      <th>zilch</th>\n",
       "      <th>zone</th>\n",
       "      <th>zoom</th>\n",
       "      <th>zopfi</th>\n",
       "      <th>zorg</th>\n",
       "      <th>zorn</th>\n",
       "      <th>zur</th>\n",
       "      <th>zwingli</th>\n",
       "    </tr>\n",
       "  </thead>\n",
       "  <tbody>\n",
       "    <tr>\n",
       "      <th>ch9</th>\n",
       "      <td>0</td>\n",
       "      <td>0</td>\n",
       "      <td>0</td>\n",
       "      <td>0</td>\n",
       "      <td>0</td>\n",
       "      <td>0</td>\n",
       "      <td>0</td>\n",
       "      <td>0</td>\n",
       "      <td>0</td>\n",
       "      <td>0</td>\n",
       "      <td>...</td>\n",
       "      <td>0</td>\n",
       "      <td>0</td>\n",
       "      <td>0</td>\n",
       "      <td>0</td>\n",
       "      <td>0</td>\n",
       "      <td>0</td>\n",
       "      <td>0</td>\n",
       "      <td>0</td>\n",
       "      <td>0</td>\n",
       "      <td>0</td>\n",
       "    </tr>\n",
       "    <tr>\n",
       "      <th>ch38</th>\n",
       "      <td>0</td>\n",
       "      <td>0</td>\n",
       "      <td>0</td>\n",
       "      <td>0</td>\n",
       "      <td>0</td>\n",
       "      <td>0</td>\n",
       "      <td>0</td>\n",
       "      <td>0</td>\n",
       "      <td>0</td>\n",
       "      <td>0</td>\n",
       "      <td>...</td>\n",
       "      <td>0</td>\n",
       "      <td>0</td>\n",
       "      <td>0</td>\n",
       "      <td>0</td>\n",
       "      <td>0</td>\n",
       "      <td>0</td>\n",
       "      <td>0</td>\n",
       "      <td>0</td>\n",
       "      <td>0</td>\n",
       "      <td>0</td>\n",
       "    </tr>\n",
       "    <tr>\n",
       "      <th>ch31</th>\n",
       "      <td>0</td>\n",
       "      <td>0</td>\n",
       "      <td>0</td>\n",
       "      <td>0</td>\n",
       "      <td>0</td>\n",
       "      <td>0</td>\n",
       "      <td>0</td>\n",
       "      <td>0</td>\n",
       "      <td>0</td>\n",
       "      <td>0</td>\n",
       "      <td>...</td>\n",
       "      <td>0</td>\n",
       "      <td>0</td>\n",
       "      <td>0</td>\n",
       "      <td>0</td>\n",
       "      <td>0</td>\n",
       "      <td>0</td>\n",
       "      <td>0</td>\n",
       "      <td>0</td>\n",
       "      <td>0</td>\n",
       "      <td>0</td>\n",
       "    </tr>\n",
       "    <tr>\n",
       "      <th>ch7</th>\n",
       "      <td>0</td>\n",
       "      <td>0</td>\n",
       "      <td>0</td>\n",
       "      <td>0</td>\n",
       "      <td>0</td>\n",
       "      <td>0</td>\n",
       "      <td>0</td>\n",
       "      <td>0</td>\n",
       "      <td>0</td>\n",
       "      <td>0</td>\n",
       "      <td>...</td>\n",
       "      <td>0</td>\n",
       "      <td>0</td>\n",
       "      <td>0</td>\n",
       "      <td>0</td>\n",
       "      <td>0</td>\n",
       "      <td>0</td>\n",
       "      <td>0</td>\n",
       "      <td>0</td>\n",
       "      <td>0</td>\n",
       "      <td>0</td>\n",
       "    </tr>\n",
       "    <tr>\n",
       "      <th>ch36</th>\n",
       "      <td>0</td>\n",
       "      <td>0</td>\n",
       "      <td>4</td>\n",
       "      <td>2</td>\n",
       "      <td>0</td>\n",
       "      <td>0</td>\n",
       "      <td>0</td>\n",
       "      <td>0</td>\n",
       "      <td>0</td>\n",
       "      <td>0</td>\n",
       "      <td>...</td>\n",
       "      <td>0</td>\n",
       "      <td>0</td>\n",
       "      <td>0</td>\n",
       "      <td>1</td>\n",
       "      <td>0</td>\n",
       "      <td>0</td>\n",
       "      <td>0</td>\n",
       "      <td>0</td>\n",
       "      <td>0</td>\n",
       "      <td>0</td>\n",
       "    </tr>\n",
       "    <tr>\n",
       "      <th>...</th>\n",
       "      <td>...</td>\n",
       "      <td>...</td>\n",
       "      <td>...</td>\n",
       "      <td>...</td>\n",
       "      <td>...</td>\n",
       "      <td>...</td>\n",
       "      <td>...</td>\n",
       "      <td>...</td>\n",
       "      <td>...</td>\n",
       "      <td>...</td>\n",
       "      <td>...</td>\n",
       "      <td>...</td>\n",
       "      <td>...</td>\n",
       "      <td>...</td>\n",
       "      <td>...</td>\n",
       "      <td>...</td>\n",
       "      <td>...</td>\n",
       "      <td>...</td>\n",
       "      <td>...</td>\n",
       "      <td>...</td>\n",
       "      <td>...</td>\n",
       "    </tr>\n",
       "    <tr>\n",
       "      <th>ch28</th>\n",
       "      <td>0</td>\n",
       "      <td>0</td>\n",
       "      <td>0</td>\n",
       "      <td>0</td>\n",
       "      <td>0</td>\n",
       "      <td>0</td>\n",
       "      <td>0</td>\n",
       "      <td>0</td>\n",
       "      <td>0</td>\n",
       "      <td>0</td>\n",
       "      <td>...</td>\n",
       "      <td>0</td>\n",
       "      <td>0</td>\n",
       "      <td>0</td>\n",
       "      <td>0</td>\n",
       "      <td>0</td>\n",
       "      <td>0</td>\n",
       "      <td>0</td>\n",
       "      <td>0</td>\n",
       "      <td>0</td>\n",
       "      <td>0</td>\n",
       "    </tr>\n",
       "    <tr>\n",
       "      <th>ch17</th>\n",
       "      <td>0</td>\n",
       "      <td>0</td>\n",
       "      <td>0</td>\n",
       "      <td>0</td>\n",
       "      <td>0</td>\n",
       "      <td>0</td>\n",
       "      <td>0</td>\n",
       "      <td>0</td>\n",
       "      <td>0</td>\n",
       "      <td>0</td>\n",
       "      <td>...</td>\n",
       "      <td>0</td>\n",
       "      <td>0</td>\n",
       "      <td>0</td>\n",
       "      <td>0</td>\n",
       "      <td>0</td>\n",
       "      <td>0</td>\n",
       "      <td>0</td>\n",
       "      <td>0</td>\n",
       "      <td>0</td>\n",
       "      <td>0</td>\n",
       "    </tr>\n",
       "    <tr>\n",
       "      <th>ch21</th>\n",
       "      <td>0</td>\n",
       "      <td>0</td>\n",
       "      <td>0</td>\n",
       "      <td>0</td>\n",
       "      <td>0</td>\n",
       "      <td>0</td>\n",
       "      <td>0</td>\n",
       "      <td>0</td>\n",
       "      <td>0</td>\n",
       "      <td>0</td>\n",
       "      <td>...</td>\n",
       "      <td>0</td>\n",
       "      <td>0</td>\n",
       "      <td>0</td>\n",
       "      <td>0</td>\n",
       "      <td>0</td>\n",
       "      <td>0</td>\n",
       "      <td>0</td>\n",
       "      <td>0</td>\n",
       "      <td>0</td>\n",
       "      <td>0</td>\n",
       "    </tr>\n",
       "    <tr>\n",
       "      <th>ch19</th>\n",
       "      <td>0</td>\n",
       "      <td>0</td>\n",
       "      <td>0</td>\n",
       "      <td>0</td>\n",
       "      <td>0</td>\n",
       "      <td>0</td>\n",
       "      <td>0</td>\n",
       "      <td>0</td>\n",
       "      <td>0</td>\n",
       "      <td>0</td>\n",
       "      <td>...</td>\n",
       "      <td>0</td>\n",
       "      <td>0</td>\n",
       "      <td>0</td>\n",
       "      <td>0</td>\n",
       "      <td>0</td>\n",
       "      <td>0</td>\n",
       "      <td>0</td>\n",
       "      <td>0</td>\n",
       "      <td>0</td>\n",
       "      <td>0</td>\n",
       "    </tr>\n",
       "    <tr>\n",
       "      <th>ch26</th>\n",
       "      <td>0</td>\n",
       "      <td>0</td>\n",
       "      <td>0</td>\n",
       "      <td>0</td>\n",
       "      <td>0</td>\n",
       "      <td>0</td>\n",
       "      <td>0</td>\n",
       "      <td>0</td>\n",
       "      <td>0</td>\n",
       "      <td>0</td>\n",
       "      <td>...</td>\n",
       "      <td>0</td>\n",
       "      <td>0</td>\n",
       "      <td>0</td>\n",
       "      <td>0</td>\n",
       "      <td>0</td>\n",
       "      <td>0</td>\n",
       "      <td>0</td>\n",
       "      <td>0</td>\n",
       "      <td>0</td>\n",
       "      <td>0</td>\n",
       "    </tr>\n",
       "  </tbody>\n",
       "</table>\n",
       "<p>91 rows × 6762 columns</p>\n",
       "</div>"
      ],
      "text/plain": [
       "      aaai  aacc  aaron  aaronc  ab  abandon  abbot  abbrevi  abc  abel  ...  \\\n",
       "ch9      0     0      0       0   0        0      0        0    0     0  ...   \n",
       "ch38     0     0      0       0   0        0      0        0    0     0  ...   \n",
       "ch31     0     0      0       0   0        0      0        0    0     0  ...   \n",
       "ch7      0     0      0       0   0        0      0        0    0     0  ...   \n",
       "ch36     0     0      4       2   0        0      0        0    0     0  ...   \n",
       "...    ...   ...    ...     ...  ..      ...    ...      ...  ...   ...  ...   \n",
       "ch28     0     0      0       0   0        0      0        0    0     0  ...   \n",
       "ch17     0     0      0       0   0        0      0        0    0     0  ...   \n",
       "ch21     0     0      0       0   0        0      0        0    0     0  ...   \n",
       "ch19     0     0      0       0   0        0      0        0    0     0  ...   \n",
       "ch26     0     0      0       0   0        0      0        0    0     0  ...   \n",
       "\n",
       "      zf  zhao  zilch  zone  zoom  zopfi  zorg  zorn  zur  zwingli  \n",
       "ch9    0     0      0     0     0      0     0     0    0        0  \n",
       "ch38   0     0      0     0     0      0     0     0    0        0  \n",
       "ch31   0     0      0     0     0      0     0     0    0        0  \n",
       "ch7    0     0      0     0     0      0     0     0    0        0  \n",
       "ch36   0     0      0     1     0      0     0     0    0        0  \n",
       "...   ..   ...    ...   ...   ...    ...   ...   ...  ...      ...  \n",
       "ch28   0     0      0     0     0      0     0     0    0        0  \n",
       "ch17   0     0      0     0     0      0     0     0    0        0  \n",
       "ch21   0     0      0     0     0      0     0     0    0        0  \n",
       "ch19   0     0      0     0     0      0     0     0    0        0  \n",
       "ch26   0     0      0     0     0      0     0     0    0        0  \n",
       "\n",
       "[91 rows x 6762 columns]"
      ]
     },
     "execution_count": 117,
     "metadata": {},
     "output_type": "execute_result"
    }
   ],
   "source": [
    "df_dXp"
   ]
  },
  {
   "cell_type": "code",
   "execution_count": 118,
   "metadata": {},
   "outputs": [],
   "source": [
    "from sklearn.decomposition import PCA\n",
    "from sklearn.preprocessing import StandardScaler"
   ]
  },
  {
   "cell_type": "code",
   "execution_count": 119,
   "metadata": {},
   "outputs": [],
   "source": [
    "scaler = StandardScaler()\n",
    "\n",
    "X_scaled = scaler.fit_transform(df_dXp)\n",
    "df_dXp_scaled = pd.DataFrame(X_scaled, columns=df_dXp.columns, index=df_dXp.index)\n",
    "\n",
    "pca = PCA(n_components=2)\n",
    "X_pca = pca.fit_transform(df_dXp_scaled)"
   ]
  },
  {
   "cell_type": "code",
   "execution_count": 120,
   "metadata": {},
   "outputs": [
    {
     "data": {
      "text/plain": [
       "(91, 2)"
      ]
     },
     "execution_count": 120,
     "metadata": {},
     "output_type": "execute_result"
    }
   ],
   "source": [
    "X_pca.shape"
   ]
  },
  {
   "cell_type": "markdown",
   "metadata": {},
   "source": [
    "### Exercício 9)\n",
    "Visualize a projeção da coleção de documentos no espaço bidimensional gerado no exercício anterior e se necessário faça um zoom para melhor visualizar a distribuição dos documentos."
   ]
  },
  {
   "cell_type": "code",
   "execution_count": 121,
   "metadata": {},
   "outputs": [
    {
     "data": {
      "text/plain": [
       "<matplotlib.collections.PathCollection at 0x191ab3ac0>"
      ]
     },
     "execution_count": 121,
     "metadata": {},
     "output_type": "execute_result"
    },
    {
     "data": {
      "image/png": "[encoded data removed]",
      "text/plain": [
       "<Figure size 432x288 with 1 Axes>"
      ]
     },
     "metadata": {
      "needs_background": "light"
     },
     "output_type": "display_data"
    }
   ],
   "source": [
    "import matplotlib.pyplot as plt\n",
    "%matplotlib inline\n",
    "\n",
    "plt.scatter(X_pca[:, 0],X_pca[:, 1],c=doc_class)"
   ]
  },
  {
   "cell_type": "code",
   "execution_count": 122,
   "metadata": {},
   "outputs": [
    {
     "data": {
      "text/plain": [
       "<matplotlib.collections.PathCollection at 0x191f1feb0>"
      ]
     },
     "execution_count": 122,
     "metadata": {},
     "output_type": "execute_result"
    },
    {
     "data": {
      "image/png": "[encoded data removed]",
      "text/plain": [
       "<Figure size 432x288 with 1 Axes>"
      ]
     },
     "metadata": {
      "needs_background": "light"
     },
     "output_type": "display_data"
    }
   ],
   "source": [
    "fig, ax = plt.subplots()\n",
    "ax.set_xlim(-5, 2)\n",
    "ax.set_ylim(-10, 5)\n",
    "\n",
    "plt.scatter(Xpca[:,0],Xpca[:,1],c=doc_class)"
   ]
  },
  {
   "cell_type": "markdown",
   "metadata": {},
   "source": [
    "### Exercício 10)\n",
    "Dado o documento `au8` (linha de rótulo `au8` no DataFrame Documentos $\\times$ Palavras) e utilizando a distância \"cosseno\"  (cosseno entre dois vetores correspondendo a vetorização dos documentos), encontre qual o documento mais parecido com `au8`. Calcule o cosseno entre a linha representada por `au8` na matriz Documentos $\\times$ Palavras e todas as outras linhas, tomando o maior valor como correspondendo ao documento mais parecido.\n",
    "Repita a projeção realizada no exercício 8), ressaltando o documento `au8` e o documento mais parecido com ele. "
   ]
  },
  {
   "cell_type": "code",
   "execution_count": 123,
   "metadata": {},
   "outputs": [
    {
     "data": {
      "text/html": [
       "<div>\n",
       "<style scoped>\n",
       "    .dataframe tbody tr th:only-of-type {\n",
       "        vertical-align: middle;\n",
       "    }\n",
       "\n",
       "    .dataframe tbody tr th {\n",
       "        vertical-align: top;\n",
       "    }\n",
       "\n",
       "    .dataframe thead th {\n",
       "        text-align: right;\n",
       "    }\n",
       "</style>\n",
       "<table border=\"1\" class=\"dataframe\">\n",
       "  <thead>\n",
       "    <tr style=\"text-align: right;\">\n",
       "      <th></th>\n",
       "      <th>aaai</th>\n",
       "      <th>aacc</th>\n",
       "      <th>aaron</th>\n",
       "      <th>aaronc</th>\n",
       "      <th>ab</th>\n",
       "      <th>abandon</th>\n",
       "      <th>abbot</th>\n",
       "      <th>abbrevi</th>\n",
       "      <th>abc</th>\n",
       "      <th>abel</th>\n",
       "      <th>...</th>\n",
       "      <th>zf</th>\n",
       "      <th>zhao</th>\n",
       "      <th>zilch</th>\n",
       "      <th>zone</th>\n",
       "      <th>zoom</th>\n",
       "      <th>zopfi</th>\n",
       "      <th>zorg</th>\n",
       "      <th>zorn</th>\n",
       "      <th>zur</th>\n",
       "      <th>zwingli</th>\n",
       "    </tr>\n",
       "  </thead>\n",
       "  <tbody>\n",
       "    <tr>\n",
       "      <th>ch9</th>\n",
       "      <td>-0.105409</td>\n",
       "      <td>-0.105409</td>\n",
       "      <td>-0.120743</td>\n",
       "      <td>-0.202953</td>\n",
       "      <td>-0.177443</td>\n",
       "      <td>-0.173749</td>\n",
       "      <td>-0.105409</td>\n",
       "      <td>-0.142054</td>\n",
       "      <td>-0.105409</td>\n",
       "      <td>-0.105409</td>\n",
       "      <td>...</td>\n",
       "      <td>-0.105409</td>\n",
       "      <td>-0.105409</td>\n",
       "      <td>-0.105409</td>\n",
       "      <td>-0.105409</td>\n",
       "      <td>-0.149906</td>\n",
       "      <td>-0.105409</td>\n",
       "      <td>-0.105409</td>\n",
       "      <td>-0.105409</td>\n",
       "      <td>-0.105409</td>\n",
       "      <td>-0.105409</td>\n",
       "    </tr>\n",
       "    <tr>\n",
       "      <th>ch38</th>\n",
       "      <td>-0.105409</td>\n",
       "      <td>-0.105409</td>\n",
       "      <td>-0.120743</td>\n",
       "      <td>-0.202953</td>\n",
       "      <td>-0.177443</td>\n",
       "      <td>-0.173749</td>\n",
       "      <td>-0.105409</td>\n",
       "      <td>-0.142054</td>\n",
       "      <td>-0.105409</td>\n",
       "      <td>-0.105409</td>\n",
       "      <td>...</td>\n",
       "      <td>-0.105409</td>\n",
       "      <td>-0.105409</td>\n",
       "      <td>-0.105409</td>\n",
       "      <td>-0.105409</td>\n",
       "      <td>-0.149906</td>\n",
       "      <td>-0.105409</td>\n",
       "      <td>-0.105409</td>\n",
       "      <td>-0.105409</td>\n",
       "      <td>-0.105409</td>\n",
       "      <td>-0.105409</td>\n",
       "    </tr>\n",
       "    <tr>\n",
       "      <th>ch31</th>\n",
       "      <td>-0.105409</td>\n",
       "      <td>-0.105409</td>\n",
       "      <td>-0.120743</td>\n",
       "      <td>-0.202953</td>\n",
       "      <td>-0.177443</td>\n",
       "      <td>-0.173749</td>\n",
       "      <td>-0.105409</td>\n",
       "      <td>-0.142054</td>\n",
       "      <td>-0.105409</td>\n",
       "      <td>-0.105409</td>\n",
       "      <td>...</td>\n",
       "      <td>-0.105409</td>\n",
       "      <td>-0.105409</td>\n",
       "      <td>-0.105409</td>\n",
       "      <td>-0.105409</td>\n",
       "      <td>-0.149906</td>\n",
       "      <td>-0.105409</td>\n",
       "      <td>-0.105409</td>\n",
       "      <td>-0.105409</td>\n",
       "      <td>-0.105409</td>\n",
       "      <td>-0.105409</td>\n",
       "    </tr>\n",
       "    <tr>\n",
       "      <th>ch7</th>\n",
       "      <td>-0.105409</td>\n",
       "      <td>-0.105409</td>\n",
       "      <td>-0.120743</td>\n",
       "      <td>-0.202953</td>\n",
       "      <td>-0.177443</td>\n",
       "      <td>-0.173749</td>\n",
       "      <td>-0.105409</td>\n",
       "      <td>-0.142054</td>\n",
       "      <td>-0.105409</td>\n",
       "      <td>-0.105409</td>\n",
       "      <td>...</td>\n",
       "      <td>-0.105409</td>\n",
       "      <td>-0.105409</td>\n",
       "      <td>-0.105409</td>\n",
       "      <td>-0.105409</td>\n",
       "      <td>-0.149906</td>\n",
       "      <td>-0.105409</td>\n",
       "      <td>-0.105409</td>\n",
       "      <td>-0.105409</td>\n",
       "      <td>-0.105409</td>\n",
       "      <td>-0.105409</td>\n",
       "    </tr>\n",
       "    <tr>\n",
       "      <th>ch36</th>\n",
       "      <td>-0.105409</td>\n",
       "      <td>-0.105409</td>\n",
       "      <td>0.693157</td>\n",
       "      <td>5.953289</td>\n",
       "      <td>-0.177443</td>\n",
       "      <td>-0.173749</td>\n",
       "      <td>-0.105409</td>\n",
       "      <td>-0.142054</td>\n",
       "      <td>-0.105409</td>\n",
       "      <td>-0.105409</td>\n",
       "      <td>...</td>\n",
       "      <td>-0.105409</td>\n",
       "      <td>-0.105409</td>\n",
       "      <td>-0.105409</td>\n",
       "      <td>9.486833</td>\n",
       "      <td>-0.149906</td>\n",
       "      <td>-0.105409</td>\n",
       "      <td>-0.105409</td>\n",
       "      <td>-0.105409</td>\n",
       "      <td>-0.105409</td>\n",
       "      <td>-0.105409</td>\n",
       "    </tr>\n",
       "  </tbody>\n",
       "</table>\n",
       "<p>5 rows × 6762 columns</p>\n",
       "</div>"
      ],
      "text/plain": [
       "          aaai      aacc     aaron    aaronc        ab   abandon     abbot  \\\n",
       "ch9  -0.105409 -0.105409 -0.120743 -0.202953 -0.177443 -0.173749 -0.105409   \n",
       "ch38 -0.105409 -0.105409 -0.120743 -0.202953 -0.177443 -0.173749 -0.105409   \n",
       "ch31 -0.105409 -0.105409 -0.120743 -0.202953 -0.177443 -0.173749 -0.105409   \n",
       "ch7  -0.105409 -0.105409 -0.120743 -0.202953 -0.177443 -0.173749 -0.105409   \n",
       "ch36 -0.105409 -0.105409  0.693157  5.953289 -0.177443 -0.173749 -0.105409   \n",
       "\n",
       "       abbrevi       abc      abel  ...        zf      zhao     zilch  \\\n",
       "ch9  -0.142054 -0.105409 -0.105409  ... -0.105409 -0.105409 -0.105409   \n",
       "ch38 -0.142054 -0.105409 -0.105409  ... -0.105409 -0.105409 -0.105409   \n",
       "ch31 -0.142054 -0.105409 -0.105409  ... -0.105409 -0.105409 -0.105409   \n",
       "ch7  -0.142054 -0.105409 -0.105409  ... -0.105409 -0.105409 -0.105409   \n",
       "ch36 -0.142054 -0.105409 -0.105409  ... -0.105409 -0.105409 -0.105409   \n",
       "\n",
       "          zone      zoom     zopfi      zorg      zorn       zur   zwingli  \n",
       "ch9  -0.105409 -0.149906 -0.105409 -0.105409 -0.105409 -0.105409 -0.105409  \n",
       "ch38 -0.105409 -0.149906 -0.105409 -0.105409 -0.105409 -0.105409 -0.105409  \n",
       "ch31 -0.105409 -0.149906 -0.105409 -0.105409 -0.105409 -0.105409 -0.105409  \n",
       "ch7  -0.105409 -0.149906 -0.105409 -0.105409 -0.105409 -0.105409 -0.105409  \n",
       "ch36  9.486833 -0.149906 -0.105409 -0.105409 -0.105409 -0.105409 -0.105409  \n",
       "\n",
       "[5 rows x 6762 columns]"
      ]
     },
     "execution_count": 123,
     "metadata": {},
     "output_type": "execute_result"
    }
   ],
   "source": [
    "df_dXp_scaled.head()"
   ]
  },
  {
   "cell_type": "code",
   "execution_count": 124,
   "metadata": {},
   "outputs": [
    {
     "data": {
      "text/plain": [
       "au8     1.000000\n",
       "au7     0.479730\n",
       "au12    0.131970\n",
       "au15    0.117471\n",
       "au14    0.031992\n",
       "          ...   \n",
       "ch11   -0.034483\n",
       "ch32   -0.034983\n",
       "ch26   -0.035756\n",
       "ch24   -0.038440\n",
       "ch40   -0.039275\n",
       "Length: 91, dtype: float64"
      ]
     },
     "execution_count": 124,
     "metadata": {},
     "output_type": "execute_result"
    }
   ],
   "source": [
    "def cosine_similarity(a, b):\n",
    "    a, b = a.values, b.values    \n",
    "    return np.dot(a, b)/(np.linalg.norm(a) * np.linalg.norm(b))\n",
    "\n",
    "query = df_dXp_scaled.loc['au8']\n",
    "cos_sims = df_dXp_scaled.apply(lambda x: cosine_distance(x, query), axis=1)\n",
    "\n",
    "cos_sims.sort_values(ascending=False)"
   ]
  },
  {
   "cell_type": "code",
   "execution_count": 125,
   "metadata": {},
   "outputs": [
    {
     "name": "stdout",
     "output_type": "stream",
     "text": [
      "11 14\n"
     ]
    }
   ],
   "source": [
    "idx_query = np.where(df_dXp_scaled.index == 'au8')[0][0]\n",
    "idx_prox = np.where(df_dXp_scaled.index == 'au7')[0][0]\n",
    "\n",
    "print(idx_query, idx_prox)"
   ]
  },
  {
   "cell_type": "code",
   "execution_count": 126,
   "metadata": {},
   "outputs": [
    {
     "data": {
      "text/plain": [
       "(-10.0, 5.0)"
      ]
     },
     "execution_count": 126,
     "metadata": {},
     "output_type": "execute_result"
    },
    {
     "data": {
      "image/png": "[encoded data removed]",
      "text/plain": [
       "<Figure size 432x288 with 1 Axes>"
      ]
     },
     "metadata": {
      "needs_background": "light"
     },
     "output_type": "display_data"
    }
   ],
   "source": [
    "plt.scatter(Xpca[:,0],Xpca[:,1],c=doc_class)\n",
    "plt.scatter(Xpca[[idx_query, idx_prox],0],Xpca[[idx_query, idx_prox],1], marker='x', color='red')\n",
    "plt.xlim(-5, 2)\n",
    "plt.ylim(-10, 5)"
   ]
  },
  {
   "cell_type": "code",
   "execution_count": null,
   "metadata": {},
   "outputs": [],
   "source": []
  }
 ],
 "metadata": {
  "kernelspec": {
   "display_name": "Python 3 (ipykernel)",
   "language": "python",
   "name": "python3"
  },
  "language_info": {
   "codemirror_mode": {
    "name": "ipython",
    "version": 3
   },
   "file_extension": ".py",
   "mimetype": "text/x-python",
   "name": "python",
   "nbconvert_exporter": "python",
   "pygments_lexer": "ipython3",
   "version": "3.9.10"
  }
 },
 "nbformat": 4,
 "nbformat_minor": 4
}
