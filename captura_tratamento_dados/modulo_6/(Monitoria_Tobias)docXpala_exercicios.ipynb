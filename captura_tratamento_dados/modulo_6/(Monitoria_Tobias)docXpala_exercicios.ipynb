{
  "cells": [
    {
      "cell_type": "markdown",
      "metadata": {
        "id": "-O5QpofDnnmH"
      },
      "source": [
        "# <font color=\"blue\"> MBA em Ciência de Dados</font>\n",
        "# <font color=\"blue\">Técnicas Avançadas para Captura e Tratamento de Dados</font>\n",
        "\n",
        "## <font color=\"blue\"> Matriz Documento $\\times$ Palavras - Bag of Words</font>\n",
        "    \n",
        "## <font color=\"blue\">Exercícios</font>\n",
        "\n",
        "**Material Produzido por Luis Gustavo Nonato**<br>\n",
        "**Cemeai - ICMC/USP São Carlos**\n",
        "---"
      ]
    },
    {
      "cell_type": "markdown",
      "metadata": {
        "id": "eGdgdaxEnnmN"
      },
      "source": [
        "<font color='red'> Recomendamos fortemente resolver os exercícios sem consultar as soluções antecipadamente </font>"
      ]
    },
    {
      "cell_type": "markdown",
      "metadata": {
        "id": "-p-VSbOUnnmN"
      },
      "source": [
        "Os exercícios abaixo fazem uso da coleção de documentos presente no diretório `DocCol2` contido no arquivo <font style=\"font-family: monaco\"> DocCol.zip</font>, o qual pode ser baixado do Moodle."
      ]
    },
    {
      "cell_type": "code",
      "source": [
        "import nltk\n",
        "nltk.download('punkt')\n",
        "nltk.download('stopwords')"
      ],
      "metadata": {
        "colab": {
          "base_uri": "https://localhost:8080/"
        },
        "id": "iyuCO3Cd3Iik",
        "outputId": "1bc7fa2b-5bf1-48e4-be78-350943ca036e"
      },
      "execution_count": 1,
      "outputs": [
        {
          "output_type": "stream",
          "name": "stdout",
          "text": [
            "[nltk_data] Downloading package punkt to /root/nltk_data...\n",
            "[nltk_data]   Unzipping tokenizers/punkt.zip.\n",
            "[nltk_data] Downloading package stopwords to /root/nltk_data...\n",
            "[nltk_data]   Unzipping corpora/stopwords.zip.\n"
          ]
        },
        {
          "output_type": "execute_result",
          "data": {
            "text/plain": [
              "True"
            ]
          },
          "metadata": {},
          "execution_count": 1
        }
      ]
    },
    {
      "cell_type": "markdown",
      "metadata": {
        "id": "E_L34cfznnmN"
      },
      "source": [
        "### Exercício 1)\n",
        "Armazene os documentos disponíveis no diretório `DocCol2` em um dicionário onde a chave é o nome do arquivo e o valor é a string contida no arquivo."
      ]
    },
    {
      "cell_type": "code",
      "execution_count": 2,
      "metadata": {
        "id": "jPMEKT1ennmO"
      },
      "outputs": [],
      "source": [
        "import glob "
      ]
    },
    {
      "cell_type": "code",
      "source": [
        "doc2text = dict()\n",
        "\n",
        "for filepath in glob.glob(\"DocCol2/*\"):\n",
        "    filename = filepath.split(\"/\")[-1] # \n",
        "    with open(filepath) as f:\n",
        "        doc2text[filename] = f.read()\n",
        "\n",
        "doc2text[filename][:100]"
      ],
      "metadata": {
        "colab": {
          "base_uri": "https://localhost:8080/",
          "height": 35
        },
        "id": "37qbvG0NH-zW",
        "outputId": "15f50c2a-335c-434a-b2e3-1cf557076184"
      },
      "execution_count": 5,
      "outputs": [
        {
          "output_type": "execute_result",
          "data": {
            "text/plain": [
              "'From: muirm@argon.gas.organpipe.uug.arizona.edu (maxwell c muir)\\nSubject: Re: Why do people become a'"
            ],
            "application/vnd.google.colaboratory.intrinsic+json": {
              "type": "string"
            }
          },
          "metadata": {},
          "execution_count": 5
        }
      ]
    },
    {
      "cell_type": "markdown",
      "metadata": {
        "id": "V7w_17H_nnmO"
      },
      "source": [
        "### Exercício 2)\n",
        "Percorra as strings armazenadas como valores no dicionário criado no exercício 1), concatenando-as em uma única string. Quebre a string gerada em uma lista de palavras.\n",
        "\n",
        "**DICA**: Utilize <font color='blue'>word_tokenize</font> do pacote <font color='blue'>nltk</font>"
      ]
    },
    {
      "cell_type": "code",
      "execution_count": 6,
      "metadata": {
        "id": "dLI128dknnmP"
      },
      "outputs": [],
      "source": [
        "import nltk\n"
      ]
    },
    {
      "cell_type": "code",
      "source": [
        "fulltext = \"\".join(doc2text.values())"
      ],
      "metadata": {
        "id": "A80z782gJvuR"
      },
      "execution_count": 8,
      "outputs": []
    },
    {
      "cell_type": "code",
      "source": [
        "words = nltk.word_tokenize(fulltext)"
      ],
      "metadata": {
        "id": "8x2_Msp5J-je"
      },
      "execution_count": 10,
      "outputs": []
    },
    {
      "cell_type": "code",
      "source": [
        "import string"
      ],
      "metadata": {
        "id": "lt6630MlMFlk"
      },
      "execution_count": 12,
      "outputs": []
    },
    {
      "cell_type": "markdown",
      "metadata": {
        "id": "MDdiCyv5nnmP"
      },
      "source": [
        "### Exercício 3)\n",
        "Remova todas os \"tokens\" da lista criada no exercício 2) que sejam de comprimento 1 ou que contenham caractéres que não são letras do alfabeto. Faça com que todas as palavras estajam em letras minúsculas na lista resultante."
      ]
    },
    {
      "cell_type": "code",
      "execution_count": 23,
      "metadata": {
        "colab": {
          "base_uri": "https://localhost:8080/"
        },
        "id": "h2N5tKW3nnmP",
        "outputId": "5494e979-fff8-44d3-bc0d-c59664e0a516"
      },
      "outputs": [
        {
          "output_type": "execute_result",
          "data": {
            "text/plain": [
              "['from', 'nathanp', 'nathan', 'subject', 're']"
            ]
          },
          "metadata": {},
          "execution_count": 23
        }
      ],
      "source": [
        "tokens = list()\n",
        "for word in words:\n",
        "    if len(word) == 1:\n",
        "        continue\n",
        "    if any(not c.isalpha() for c in word):\n",
        "        continue\n",
        "    tokens.append(word.lower())\n",
        "tokens[:5]"
      ]
    },
    {
      "cell_type": "code",
      "source": [
        "len(tokens)"
      ],
      "metadata": {
        "colab": {
          "base_uri": "https://localhost:8080/"
        },
        "id": "qUC8ILfSNZwI",
        "outputId": "74308fe0-04a5-47f1-bf24-931d4ecddb96"
      },
      "execution_count": 24,
      "outputs": [
        {
          "output_type": "execute_result",
          "data": {
            "text/plain": [
              "89050"
            ]
          },
          "metadata": {},
          "execution_count": 24
        }
      ]
    },
    {
      "cell_type": "markdown",
      "metadata": {
        "id": "sfYkaSn-nnmP"
      },
      "source": [
        "### Exercício 4)\n",
        "Remova da lista de palavras resultante do exercício 3) todas as \"stop_words\". Lembre-se que as palavras são da língua inglesa."
      ]
    },
    {
      "cell_type": "code",
      "execution_count": 25,
      "metadata": {
        "id": "BSlYyfcinnmQ"
      },
      "outputs": [],
      "source": [
        "from nltk.corpus import stopwords\n"
      ]
    },
    {
      "cell_type": "code",
      "source": [
        "stopwords_en = set(stopwords.words(\"english\"))\n",
        "len(stopwords_en)"
      ],
      "metadata": {
        "colab": {
          "base_uri": "https://localhost:8080/"
        },
        "id": "D_2WAHbqMZvN",
        "outputId": "16c57a57-6e46-413e-b961-1f358701f04d"
      },
      "execution_count": 26,
      "outputs": [
        {
          "output_type": "execute_result",
          "data": {
            "text/plain": [
              "179"
            ]
          },
          "metadata": {},
          "execution_count": 26
        }
      ]
    },
    {
      "cell_type": "code",
      "source": [
        "tokens = [token for token in tokens if token not in stopwords_en]"
      ],
      "metadata": {
        "id": "M3quQdudNI6a"
      },
      "execution_count": 27,
      "outputs": []
    },
    {
      "cell_type": "code",
      "source": [
        "len(tokens)"
      ],
      "metadata": {
        "colab": {
          "base_uri": "https://localhost:8080/"
        },
        "id": "107VrxLINXN0",
        "outputId": "186d4b89-560e-4c84-e4e2-9f67b9b7661b"
      },
      "execution_count": 28,
      "outputs": [
        {
          "output_type": "execute_result",
          "data": {
            "text/plain": [
              "47075"
            ]
          },
          "metadata": {},
          "execution_count": 28
        }
      ]
    },
    {
      "cell_type": "markdown",
      "metadata": {
        "id": "H1ev3U_UnnmQ"
      },
      "source": [
        "### Exercício 5) \n",
        "Faça a normalização léxica (stemming) das palavras da lista resultante do exercício 4) e remova palavras repetidas após a normalização. Quantas palavras foram removidas após a normalização léxica?\n",
        "\n",
        "**Dica**: Utilize o método <font color='blue'>PorterStemmer</font> do pacote <font color='blue'>nltk.stem</font>"
      ]
    },
    {
      "cell_type": "code",
      "execution_count": 29,
      "metadata": {
        "id": "t5-2Dl10nnmQ"
      },
      "outputs": [],
      "source": [
        "from nltk.stem import PorterStemmer\n"
      ]
    },
    {
      "cell_type": "code",
      "source": [
        "stemmer = PorterStemmer()"
      ],
      "metadata": {
        "id": "wofGcYrcNplx"
      },
      "execution_count": 30,
      "outputs": []
    },
    {
      "cell_type": "code",
      "source": [
        "tokens = [stemmer.stem(token) for token in tokens]"
      ],
      "metadata": {
        "id": "JiMPjWIiNsSc"
      },
      "execution_count": 31,
      "outputs": []
    },
    {
      "cell_type": "code",
      "source": [
        "len(tokens)"
      ],
      "metadata": {
        "colab": {
          "base_uri": "https://localhost:8080/"
        },
        "id": "-bsWr7CdOcPr",
        "outputId": "bdda2926-10ca-4f44-90d4-b65735c1fcc3"
      },
      "execution_count": 34,
      "outputs": [
        {
          "output_type": "execute_result",
          "data": {
            "text/plain": [
              "47075"
            ]
          },
          "metadata": {},
          "execution_count": 34
        }
      ]
    },
    {
      "cell_type": "code",
      "source": [
        "tokens = set(tokens)"
      ],
      "metadata": {
        "id": "l5ojxsgmOedp"
      },
      "execution_count": 35,
      "outputs": []
    },
    {
      "cell_type": "code",
      "source": [
        "len(tokens)"
      ],
      "metadata": {
        "colab": {
          "base_uri": "https://localhost:8080/"
        },
        "id": "YdfFGRymOmSA",
        "outputId": "aba5e997-5315-4466-ac5a-b8d38c719629"
      },
      "execution_count": 37,
      "outputs": [
        {
          "output_type": "execute_result",
          "data": {
            "text/plain": [
              "6762"
            ]
          },
          "metadata": {},
          "execution_count": 37
        }
      ]
    },
    {
      "cell_type": "markdown",
      "metadata": {
        "id": "b_5mSgpsnnmQ"
      },
      "source": [
        "### Exercício 6) \n",
        "Gere uma lista de palavras para cada documento armazenado como valores no dicionário do exercício 1) aplicando os passos dos exercícios de 2 a 5 para cada documento.\n",
        "Porém, no passo 5 não remova palavras repetidas após a normalização léxica. Armazene o resultado em um novo dicionário onde as chaves são os nomes dos documentos, como no dicionário do exercício 1), e os valores são as listas de palavras geradas para cada documento."
      ]
    },
    {
      "cell_type": "code",
      "execution_count": 38,
      "metadata": {
        "id": "HUrawVBcnnmQ"
      },
      "outputs": [],
      "source": [
        "import nltk\n",
        "from nltk.corpus import stopwords\n",
        "from nltk.stem import PorterStemmer\n",
        "import pandas as pd\n",
        "import numpy as np\n",
        "from collections import Counter"
      ]
    },
    {
      "cell_type": "code",
      "source": [
        "stopwords_en = set(stopwords.words(\"english\"))\n",
        "stemmer = PorterStemmer()"
      ],
      "metadata": {
        "id": "Yp_L5UhRPmuS"
      },
      "execution_count": 40,
      "outputs": []
    },
    {
      "cell_type": "code",
      "execution_count": 41,
      "metadata": {
        "id": "UNda9ZbvnnmR"
      },
      "outputs": [],
      "source": [
        "doc2tokens = dict()\n",
        "\n",
        "for doc, text in doc2text.items():\n",
        "    words = nltk.word_tokenize(text)\n",
        "    tokens = list()\n",
        "    for word in words:\n",
        "        if len(word) == 1:\n",
        "            continue\n",
        "        if any(not c.isalpha() for c in word):\n",
        "            continue\n",
        "        tokens.append(word.lower())\n",
        "    tokens = [token for token in tokens if token not in stopwords_en]\n",
        "    tokens = [stemmer.stem(token) for token in tokens]\n",
        "    doc2tokens[doc] = tokens"
      ]
    },
    {
      "cell_type": "markdown",
      "metadata": {
        "id": "v_mZBic3nnmR"
      },
      "source": [
        "### Exercício 7)\n",
        "Utilize o dicionário contruído no exercício anterior para construir\n",
        "uma matriz Documentos $\\times$ Palavras para a coleção de documentos contidos no diretório `DocCol2`."
      ]
    },
    {
      "cell_type": "code",
      "source": [
        "words = set()\n",
        "for tokens in doc2tokens.values():\n",
        "     for token in tokens:\n",
        "        words.add(token)\n",
        "words = list(words)"
      ],
      "metadata": {
        "id": "R3LbSj1iQlMb"
      },
      "execution_count": null,
      "outputs": []
    },
    {
      "cell_type": "code",
      "source": [
        "my_set = {\"a\", \"b\", \"a\"}\n",
        "my_set"
      ],
      "metadata": {
        "colab": {
          "base_uri": "https://localhost:8080/"
        },
        "id": "dFjCKxojQ4IS",
        "outputId": "b6f1448e-6cf9-4f0d-b247-3570971bb392"
      },
      "execution_count": 50,
      "outputs": [
        {
          "output_type": "execute_result",
          "data": {
            "text/plain": [
              "{'a', 'b'}"
            ]
          },
          "metadata": {},
          "execution_count": 50
        }
      ]
    },
    {
      "cell_type": "code",
      "execution_count": 51,
      "metadata": {
        "id": "wNrYKMQknnmR"
      },
      "outputs": [],
      "source": [
        "documents = list(doc2tokens.keys())\n",
        "words = list(set(token for tokens in doc2tokens.values() for token in tokens))"
      ]
    },
    {
      "cell_type": "code",
      "source": [
        "data_ini = np.zeros((len(documents), len(words)), dtype=int)"
      ],
      "metadata": {
        "id": "f10jUE4iSSg5"
      },
      "execution_count": 57,
      "outputs": []
    },
    {
      "cell_type": "code",
      "source": [
        "df_bow = pd.DataFrame(data=data_ini, index=documents, columns=words)"
      ],
      "metadata": {
        "id": "aNEYaVDGR8vX"
      },
      "execution_count": 59,
      "outputs": []
    },
    {
      "cell_type": "code",
      "source": [
        "for doc, tokens in doc2tokens.items():\n",
        "    token2count = dict(Counter(tokens))\n",
        "    doc_tokens = list(token2count.keys())\n",
        "    doc_counts = [token2count[token] for token in doc_tokens]\n",
        "    df_bow.loc[doc, doc_tokens] = doc_counts"
      ],
      "metadata": {
        "id": "3o51QwYTSpQu"
      },
      "execution_count": 72,
      "outputs": []
    },
    {
      "cell_type": "markdown",
      "metadata": {
        "id": "vwW8qbKFnnmR"
      },
      "source": [
        "### Exercício 8)\n",
        "Utilizando PCA, projete a coleção de documentos no espaço gerado pelas duas direções principais da matriz Documentos $\\times$ Palavras."
      ]
    },
    {
      "cell_type": "code",
      "execution_count": 99,
      "metadata": {
        "id": "U-hQa4ARnnmR"
      },
      "outputs": [],
      "source": [
        "from sklearn.decomposition import PCA\n",
        "from sklearn.preprocessing import (\n",
        "    StandardScaler,\n",
        "    LabelEncoder,\n",
        ")\n"
      ]
    },
    {
      "cell_type": "code",
      "source": [
        "X = df_bow.values"
      ],
      "metadata": {
        "id": "D3VTn7NqWhwS"
      },
      "execution_count": 79,
      "outputs": []
    },
    {
      "cell_type": "code",
      "source": [
        "scaler = StandardScaler()"
      ],
      "metadata": {
        "id": "kfamNWVDWywv"
      },
      "execution_count": 80,
      "outputs": []
    },
    {
      "cell_type": "code",
      "source": [
        "scaler = scaler.fit(X)"
      ],
      "metadata": {
        "id": "s1tpPkaGXBWT"
      },
      "execution_count": 82,
      "outputs": []
    },
    {
      "cell_type": "code",
      "source": [
        "X_scaled = scaler.transform(X)"
      ],
      "metadata": {
        "id": "5xisL3TIXMoj"
      },
      "execution_count": 83,
      "outputs": []
    },
    {
      "cell_type": "code",
      "source": [
        "pca = PCA(n_components=2)"
      ],
      "metadata": {
        "id": "X4F-ZY7HXQ7X"
      },
      "execution_count": 85,
      "outputs": []
    },
    {
      "cell_type": "code",
      "source": [
        "pca = pca.fit(X_scaled)"
      ],
      "metadata": {
        "id": "pvpiUYk6Xdgy"
      },
      "execution_count": 87,
      "outputs": []
    },
    {
      "cell_type": "code",
      "source": [
        "X_pca = pca.transform(X_scaled)"
      ],
      "metadata": {
        "id": "MAbwPQgSXf39"
      },
      "execution_count": 88,
      "outputs": []
    },
    {
      "cell_type": "code",
      "source": [
        "X_pca.shape"
      ],
      "metadata": {
        "colab": {
          "base_uri": "https://localhost:8080/"
        },
        "id": "7LXrtS-fXpQI",
        "outputId": "31cc8f2b-3ffd-4173-c025-d08ef2bf4fc4"
      },
      "execution_count": 92,
      "outputs": [
        {
          "output_type": "execute_result",
          "data": {
            "text/plain": [
              "(91, 2)"
            ]
          },
          "metadata": {},
          "execution_count": 92
        }
      ]
    },
    {
      "cell_type": "markdown",
      "metadata": {
        "id": "UPzswr7LnnmS"
      },
      "source": [
        "### Exercício 9)\n",
        "Visualize a projeção da coleção de documentos no espaço bidimensional gerado no exercício anterior e se necessário faça um zoom para melhor visualizar a distribuição dos documentos."
      ]
    },
    {
      "cell_type": "code",
      "execution_count": 93,
      "metadata": {
        "id": "SLPpLCrpnnmS"
      },
      "outputs": [],
      "source": [
        "import matplotlib.pyplot as plt\n",
        "%matplotlib inline\n"
      ]
    },
    {
      "cell_type": "code",
      "source": [
        "labels_str = df_bow.index.str[:2]\n",
        "le = LabelEncoder()\n",
        "le.fit(labels_str)\n",
        "labels = le.transform(labels_str)\n",
        "labels"
      ],
      "metadata": {
        "colab": {
          "base_uri": "https://localhost:8080/"
        },
        "id": "DdfJpyf6ZRx9",
        "outputId": "d1825b80-0aab-4c18-d8eb-c77d9649b1d7"
      },
      "execution_count": 101,
      "outputs": [
        {
          "output_type": "execute_result",
          "data": {
            "text/plain": [
              "array([0, 2, 1, 1, 0, 1, 1, 1, 1, 1, 2, 1, 2, 1, 2, 1, 1, 2, 1, 1, 1, 2,\n",
              "       0, 1, 1, 0, 0, 1, 0, 2, 2, 2, 1, 1, 0, 1, 2, 2, 2, 1, 0, 2, 1, 1,\n",
              "       1, 2, 1, 0, 2, 2, 0, 1, 0, 1, 1, 1, 0, 0, 2, 1, 1, 2, 2, 2, 2, 1,\n",
              "       1, 2, 2, 1, 1, 1, 1, 1, 1, 0, 1, 1, 1, 1, 2, 1, 2, 0, 1, 1, 1, 1,\n",
              "       1, 2, 1])"
            ]
          },
          "metadata": {},
          "execution_count": 101
        }
      ]
    },
    {
      "cell_type": "code",
      "source": [
        "plt.scatter(X_pca[:, 0], X_pca[:, 1], c=labels)\n",
        "plt.show()"
      ],
      "metadata": {
        "colab": {
          "base_uri": "https://localhost:8080/",
          "height": 265
        },
        "id": "FuNEHnpNYXol",
        "outputId": "b9cfc5e0-198a-4151-e74c-3bddea6d8c3f"
      },
      "execution_count": 103,
      "outputs": [
        {
          "output_type": "display_data",
          "data": {
            "text/plain": [
              "<Figure size 432x288 with 1 Axes>"
            ],
            "image/png": "[encoded data removed]"
          },
          "metadata": {
            "needs_background": "light"
          }
        }
      ]
    },
    {
      "cell_type": "code",
      "source": [
        "plt.scatter(X_pca[:, 0], X_pca[:, 1], c=labels)\n",
        "plt.xlim((-15, 15))\n",
        "plt.ylim((-15, 15))\n",
        "plt.show()"
      ],
      "metadata": {
        "colab": {
          "base_uri": "https://localhost:8080/",
          "height": 269
        },
        "id": "TwB7KG04ZvpD",
        "outputId": "d4785ace-7cad-4776-c81f-af62fd4d20e4"
      },
      "execution_count": 104,
      "outputs": [
        {
          "output_type": "display_data",
          "data": {
            "text/plain": [
              "<Figure size 432x288 with 1 Axes>"
            ],
            "image/png": "[encoded data removed]"
          },
          "metadata": {
            "needs_background": "light"
          }
        }
      ]
    },
    {
      "cell_type": "markdown",
      "metadata": {
        "id": "XpwVOtVVnnmS"
      },
      "source": [
        "### Exercício 10)\n",
        "Dado o documento `au8` (linha de rótulo `au8` no DataFrame Documentos $\\times$ Palavras) e utilizando a distância \"cosseno\"  (cosseno entre dois vetores correspondendo a vetorização dos documentos), encontre qual o documento mais parecido com `au8`. Calcule o cosseno entre a linha representada por `au8` na matriz Documentos $\\times$ Palavras e todas as outras linhas, tomando o maior valor como correspondendo ao documento mais parecido.\n",
        "Repita a projeção realizada no exercício 8), ressaltando o documento `au8` e o documento mais parecido com ele. "
      ]
    },
    {
      "cell_type": "code",
      "execution_count": 108,
      "metadata": {
        "colab": {
          "base_uri": "https://localhost:8080/"
        },
        "id": "4G0Kp0YUnnmS",
        "outputId": "f1cb267a-8678-4d1e-a30c-9cdd2504fc08"
      },
      "outputs": [
        {
          "output_type": "execute_result",
          "data": {
            "text/plain": [
              "0"
            ]
          },
          "metadata": {},
          "execution_count": 108
        }
      ],
      "source": [
        "ix_t = df_bow.index.get_loc(\"au8\")\n",
        "ix_t"
      ]
    },
    {
      "cell_type": "code",
      "source": [
        "def vec_cos(vec_a, vec_b):\n",
        "    norm_a = np.linalg.norm(vec_a)\n",
        "    norm_b = np.linalg.norm(vec_b)\n",
        "    return vec_a @ vec_b / (norm_a * norm_b)"
      ],
      "metadata": {
        "id": "WNF0PJPHalAW"
      },
      "execution_count": 110,
      "outputs": []
    },
    {
      "cell_type": "code",
      "source": [
        "vec_t = X[ix_t]\n",
        "\n",
        "max_cos = -np.inf\n",
        "ix_best = -1\n",
        "for i in range(X.shape[0]):\n",
        "    if i == ix_t:\n",
        "        continue\n",
        "    vec_i = X[i]\n",
        "    cos_i = vec_cos(vec_t, vec_i)\n",
        "    if cos_i > max_cos:\n",
        "        max_cos = cos_i\n",
        "        ix_best = i"
      ],
      "metadata": {
        "id": "hShZub1Iagra"
      },
      "execution_count": 113,
      "outputs": []
    },
    {
      "cell_type": "code",
      "source": [
        "ix_best, df_bow.index[ix_best]"
      ],
      "metadata": {
        "colab": {
          "base_uri": "https://localhost:8080/"
        },
        "id": "mWdC2Z5GbgXP",
        "outputId": "07da63b9-dfd3-4903-8f53-97967b898dc3"
      },
      "execution_count": 115,
      "outputs": [
        {
          "output_type": "execute_result",
          "data": {
            "text/plain": [
              "(40, 'au7')"
            ]
          },
          "metadata": {},
          "execution_count": 115
        }
      ]
    },
    {
      "cell_type": "code",
      "source": [
        "a = list(df_bow.index)"
      ],
      "metadata": {
        "id": "fFpyu_LbcTOz"
      },
      "execution_count": 118,
      "outputs": []
    },
    {
      "cell_type": "code",
      "source": [
        "for i, doc in enumerate(a):\n",
        "    print(i, doc)"
      ],
      "metadata": {
        "colab": {
          "base_uri": "https://localhost:8080/"
        },
        "id": "CYehDnm3cXdH",
        "outputId": "3f32518d-0374-4314-e531-978620cceded"
      },
      "execution_count": 119,
      "outputs": [
        {
          "output_type": "stream",
          "name": "stdout",
          "text": [
            "0 au8\n",
            "1 gr10\n",
            "2 ch4\n",
            "3 ch36\n",
            "4 au6\n",
            "5 ch44\n",
            "6 ch27\n",
            "7 ch1\n",
            "8 ch22\n",
            "9 ch40\n",
            "10 gr6\n",
            "11 ch13\n",
            "12 gr3\n",
            "13 ch46\n",
            "14 gr5\n",
            "15 ch19\n",
            "16 ch43\n",
            "17 gr11\n",
            "18 ch3\n",
            "19 ch2\n",
            "20 ch5\n",
            "21 gr1\n",
            "22 au11\n",
            "23 ch7\n",
            "24 ch48\n",
            "25 au12\n",
            "26 au9\n",
            "27 ch26\n",
            "28 au14\n",
            "29 gr9\n",
            "30 gr22\n",
            "31 gr23\n",
            "32 ch23\n",
            "33 ch8\n",
            "34 au2\n",
            "35 ch9\n",
            "36 gr16\n",
            "37 gr17\n",
            "38 gr12\n",
            "39 ch15\n",
            "40 au7\n",
            "41 gr13\n",
            "42 ch31\n",
            "43 ch25\n",
            "44 ch24\n",
            "45 gr21\n",
            "46 ch33\n",
            "47 au1\n",
            "48 gr2\n",
            "49 gr26\n",
            "50 au15\n",
            "51 ch16\n",
            "52 au13\n",
            "53 ch41\n",
            "54 ch28\n",
            "55 ch12\n",
            "56 au10\n",
            "57 au3\n",
            "58 gr19\n",
            "59 ch18\n",
            "60 ch50\n",
            "61 gr24\n",
            "62 gr15\n",
            "63 gr7\n",
            "64 gr25\n",
            "65 ch20\n",
            "66 ch17\n",
            "67 gr18\n",
            "68 gr8\n",
            "69 ch30\n",
            "70 ch37\n",
            "71 ch6\n",
            "72 ch47\n",
            "73 ch45\n",
            "74 ch42\n",
            "75 au4\n",
            "76 ch32\n",
            "77 ch21\n",
            "78 ch49\n",
            "79 ch29\n",
            "80 gr4\n",
            "81 ch38\n",
            "82 gr20\n",
            "83 au5\n",
            "84 ch34\n",
            "85 ch10\n",
            "86 ch11\n",
            "87 ch14\n",
            "88 ch35\n",
            "89 gr14\n",
            "90 ch39\n"
          ]
        }
      ]
    }
  ],
  "metadata": {
    "kernelspec": {
      "display_name": "Python 3 (ipykernel)",
      "language": "python",
      "name": "python3"
    },
    "language_info": {
      "codemirror_mode": {
        "name": "ipython",
        "version": 3
      },
      "file_extension": ".py",
      "mimetype": "text/x-python",
      "name": "python",
      "nbconvert_exporter": "python",
      "pygments_lexer": "ipython3",
      "version": "3.8.13"
    },
    "colab": {
      "name": "docXpala_exercicios_PRACTICE.ipynb",
      "provenance": []
    }
  },
  "nbformat": 4,
  "nbformat_minor": 0
}