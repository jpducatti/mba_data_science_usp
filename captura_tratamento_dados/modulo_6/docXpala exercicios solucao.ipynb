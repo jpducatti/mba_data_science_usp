{
 "cells": [
  {
   "cell_type": "markdown",
   "metadata": {},
   "source": [
    "# <font color=\"blue\"> MBA em Ciência de Dados</font>\n",
    "# <font color=\"blue\">Técnicas Avançadas para Captura e Tratamento de Dados</font>\n",
    "\n",
    "## <font color=\"blue\"> Matriz Documento $\\times$ Palavras - Bag of Words</font>\n",
    "    \n",
    "## <font color=\"blue\">Solução dos Exercícios</font>\n",
    "\n",
    "**Material Produzido por Luis Gustavo Nonato**<br>\n",
    "**Cemeai - ICMC/USP São Carlos**\n",
    "---"
   ]
  },
  {
   "cell_type": "markdown",
   "metadata": {},
   "source": [
    "<font color='red'> Recomendamos fortemente resolver os exercícios sem consultar as soluções antecipadamente </font>"
   ]
  },
  {
   "cell_type": "markdown",
   "metadata": {},
   "source": [
    "Os exercícios abaixo fazem uso da coleção de documentos presente no diretório `DocCol2` contido no arquivo <font style=\"font-family: monaco\"> DocCol.zip</font>, o qual pode ser baixado do Moodle."
   ]
  },
  {
   "cell_type": "markdown",
   "metadata": {},
   "source": [
    "### Exercício 1)\n",
    "Armazene os documentos disponíveis no diretório `DocCol2` em um dicionário onde a chave é o nome do arquivo e o valor é a string contida no arquivo."
   ]
  },
  {
   "cell_type": "code",
   "execution_count": 1,
   "metadata": {},
   "outputs": [
    {
     "name": "stdout",
     "output_type": "stream",
     "text": [
      "dict_keys(['ch9', 'ch38', 'ch31', 'ch7', 'ch36', 'ch37', 'ch1', 'ch30', 'ch6', 'ch39', 'ch8', 'au8', 'au1', 'au6', 'au7', 'au9', 'au15', 'au12', 'gr10', 'gr17', 'gr21', 'gr4', 'gr19', 'gr3', 'gr26', 'au13', 'au14', 'gr18', 'gr2', 'gr20', 'gr5', 'gr16', 'gr11', 'ch23', 'ch24', 'ch12', 'ch15', 'ch41', 'ch46', 'ch48', 'ch14', 'ch13', 'ch25', 'ch22', 'ch49', 'ch47', 'ch40', 'ch35', 'ch3', 'ch32', 'ch4', 'ch50', 'ch33', 'ch5', 'ch34', 'ch2', 'au5', 'au2', 'au3', 'au4', 'gr14', 'gr9', 'gr13', 'gr25', 'gr22', 'gr7', 'au11', 'gr23', 'gr6', 'gr1', 'gr24', 'gr8', 'gr12', 'gr15', 'au10', 'ch45', 'ch42', 'ch18', 'ch27', 'ch20', 'ch29', 'ch16', 'ch11', 'ch43', 'ch44', 'ch10', 'ch28', 'ch17', 'ch21', 'ch19', 'ch26'])\n"
     ]
    }
   ],
   "source": [
    "# Lendo o documento como uma string\n",
    "import glob  # glob é um pacote que permite varrer arquivos e \n",
    "             # diretorios utilizando sintaxe linux\n",
    "\n",
    "files = glob.glob(\"DocCol2/*\")\n",
    "\n",
    "docs = {}\n",
    "for fname in files:\n",
    "    with open(fname,'r') as f:\n",
    "        key = fname.split('/')[-1]\n",
    "        docs[key] = f.read() \n",
    "        \n",
    "print(docs.keys())"
   ]
  },
  {
   "cell_type": "markdown",
   "metadata": {},
   "source": [
    "### Exercício 2)\n",
    "Percorra as strings armazenadas como valores no dicionário criado no exercício 1), concatenando-as em uma única string. Quebre a string gerada em uma lista de palavras.\n",
    "\n",
    "**DICA**: Utilize <font color='blue'>word_tokenize</font> do pacote <font color='blue'>nltk</font>"
   ]
  },
  {
   "cell_type": "code",
   "execution_count": 6,
   "metadata": {},
   "outputs": [
    {
     "name": "stdout",
     "output_type": "stream",
     "text": [
      "['From', ':', 'kempmp', '@', 'phoenix.oulu.fi', '(', 'Petri', 'Pihko', ')', 'Subject']\n"
     ]
    }
   ],
   "source": [
    "import nltk\n",
    "\n",
    "words = ''\n",
    "for k,s in docs.items():   # concatenando as strings\n",
    "    words = words+s\n",
    "    \n",
    "words = nltk.word_tokenize(words)  # lista de palavras\n",
    "print(words[:10])"
   ]
  },
  {
   "cell_type": "markdown",
   "metadata": {},
   "source": [
    "### Exercício 3)\n",
    "Remova todas os \"tokens\" da lista criada no exercício 2) que sejam de comprimento 1 ou que contenham caractéres que não são letras do alfabeto. Faça com que todas as palavras estajam em letras minúsculas na lista resultante."
   ]
  },
  {
   "cell_type": "code",
   "execution_count": 7,
   "metadata": {},
   "outputs": [
    {
     "name": "stdout",
     "output_type": "stream",
     "text": [
      "['from', 'kempmp', 'petri', 'pihko', 'subject', 're', 'atheist', 'views', 'on', 'christianity', 'was', 're', 'accepting', 'jeesus', 'in', 'your', 'heart', 'first', 'thank', 'collectively']\n"
     ]
    }
   ],
   "source": [
    "words = [w.lower() for w in words if w.isalpha() and len(w) != 1]\n",
    "print(words[:20])"
   ]
  },
  {
   "cell_type": "markdown",
   "metadata": {},
   "source": [
    "### Exercício 4)\n",
    "Remova da lista de palavras resultante do exercício 3) todas as \"stop_words\". Lembre-se que as palavras são da língua inglesa."
   ]
  },
  {
   "cell_type": "code",
   "execution_count": 8,
   "metadata": {},
   "outputs": [
    {
     "name": "stdout",
     "output_type": "stream",
     "text": [
      "['kempmp', 'petri', 'pihko', 'subject', 'atheist', 'views', 'christianity', 'accepting', 'jeesus', 'heart', 'first', 'thank', 'collectively', 'people', 'given', 'good', 'answers', 'questions', 'jason', 'smith']\n"
     ]
    }
   ],
   "source": [
    "from nltk.corpus import stopwords\n",
    "\n",
    "# lista das stop words\n",
    "stop_words = stopwords.words('english')\n",
    "\n",
    "words = [w for w in words if w not in stop_words]\n",
    "print(words[:20])"
   ]
  },
  {
   "cell_type": "markdown",
   "metadata": {},
   "source": [
    "### Exercício 5) \n",
    "Faça a normalização léxica (stemming) das palavras da lista resultante do exercício 4) e remova palavras repetidas após a normalização. Quantas palavras foram removidas após a normalização léxica?\n",
    "\n",
    "**Dica**: Utilize o método <font color='blue'>PorterStemmer</font> do pacote <font color='blue'>nltk.stem</font>"
   ]
  },
  {
   "cell_type": "code",
   "execution_count": 9,
   "metadata": {},
   "outputs": [
    {
     "name": "stdout",
     "output_type": "stream",
     "text": [
      "47253\n",
      "Foram removidas  40472  palavras\n"
     ]
    }
   ],
   "source": [
    "from nltk.stem import PorterStemmer\n",
    "\n",
    "n_antes = len(words)\n",
    "print(n_antes)\n",
    "words = [PorterStemmer().stem(w) for w in words]\n",
    "words = list(set(words))\n",
    "n_depois = len(words)\n",
    "print('Foram removidas ',n_antes-n_depois,' palavras')\n",
    "\n",
    "#print(len(words),words[:20])"
   ]
  },
  {
   "cell_type": "markdown",
   "metadata": {},
   "source": [
    "### Exercício 6) \n",
    "Gere uma lista de palavras para cada documento armazenado como valores no dicionário do exercício 1) aplicando os passos dos exercícios de 2 a 5 para cada documento.\n",
    "Porém, no passo 5 não remova palavras repetidas após a normalização léxica. Armazene o resultado em um novo dicionário onde as chaves são os nomes dos documentos, como no dicionário do exercício 1), e os valores são as listas de palavras geradas para cada documento."
   ]
  },
  {
   "cell_type": "code",
   "execution_count": 10,
   "metadata": {},
   "outputs": [],
   "source": [
    "import nltk\n",
    "from nltk.corpus import stopwords\n",
    "from nltk.stem import PorterStemmer\n",
    "import pandas as pd\n",
    "import numpy as np\n",
    "from collections import Counter"
   ]
  },
  {
   "cell_type": "code",
   "execution_count": 11,
   "metadata": {},
   "outputs": [],
   "source": [
    "stop_words = stopwords.words('english')\n",
    "docsXwords = {}\n",
    "for key, value in docs.items():\n",
    "    words = nltk.word_tokenize(value)\n",
    "    words = [w.lower() for w in words if w.isalpha() and len(w) != 1]\n",
    "    words = [w for w in words if w not in stop_words]\n",
    "    words = [PorterStemmer().stem(w) for w in words]\n",
    "    docsXwords[key] = words"
   ]
  },
  {
   "cell_type": "markdown",
   "metadata": {},
   "source": [
    "### Exercício 7)\n",
    "Utilize o dicionário contruído no exercício anterior para construir\n",
    "uma matriz Documentos $\\times$ Palavras para a coleção de documentos contidos no diretório `DocCol2`."
   ]
  },
  {
   "cell_type": "code",
   "execution_count": 12,
   "metadata": {},
   "outputs": [
    {
     "name": "stdout",
     "output_type": "stream",
     "text": [
      "      hill  hierarch  excis  assuredli  languag  accept  pabon  scroll  annal  \\\n",
      "ch9    0.0       0.0    0.0        0.0      0.0     1.0    0.0     0.0    0.0   \n",
      "ch38   0.0       0.0    0.0        0.0      0.0     1.0    0.0     0.0    0.0   \n",
      "ch31   0.0       0.0    0.0        0.0      0.0     0.0    0.0     0.0    0.0   \n",
      "ch7    0.0       0.0    0.0        0.0      0.0     0.0    0.0     0.0    0.0   \n",
      "ch36   0.0       0.0    0.0        0.0     11.0     0.0    0.0     0.0    0.0   \n",
      "\n",
      "      motorist  ...  bachelor  izer  male  routin  checkup  fuer  choir  \\\n",
      "ch9        0.0  ...       0.0   0.0   0.0     0.0      0.0   0.0    0.0   \n",
      "ch38       0.0  ...       0.0   0.0   0.0     0.0      0.0   0.0    0.0   \n",
      "ch31       0.0  ...       0.0   0.0   0.0     0.0      0.0   0.0    0.0   \n",
      "ch7        0.0  ...       0.0   0.0   0.0     0.0      0.0   0.0    0.0   \n",
      "ch36       0.0  ...       0.0   0.0   0.0     0.0      0.0   0.0    0.0   \n",
      "\n",
      "      tesel  giggl  critic  \n",
      "ch9     0.0    0.0     0.0  \n",
      "ch38    0.0    0.0     0.0  \n",
      "ch31    0.0    0.0     1.0  \n",
      "ch7     0.0    0.0     1.0  \n",
      "ch36    0.0    0.0     0.0  \n",
      "\n",
      "[5 rows x 6781 columns]\n"
     ]
    }
   ],
   "source": [
    "# unificando todas as palavras em uma única lista\n",
    "corpus = [palavras for sublista in list(docsXwords.values()) for palavras in sublista]\n",
    "\n",
    "# removendo repeticoes\n",
    "corpus = list(set(corpus))\n",
    "\n",
    "df_dXp = pd.DataFrame(data=np.zeros((len(list(docs.keys())),len(corpus))),\n",
    "                      index = list(docs.keys()), columns = corpus)\n",
    "\n",
    "for key,value in docsXwords.items():\n",
    "    dtemp = dict(Counter(value))\n",
    "    df_dXp.loc[key,list(dtemp.keys())] = list(dtemp.values())\n",
    "    \n",
    "print(df_dXp.head())"
   ]
  },
  {
   "cell_type": "markdown",
   "metadata": {},
   "source": [
    "### Exercício 8)\n",
    "Utilizando PCA, projete a coleção de documentos no espaço gerado pelas duas direções principais da matriz Documentos $\\times$ Palavras."
   ]
  },
  {
   "cell_type": "code",
   "execution_count": 13,
   "metadata": {},
   "outputs": [
    {
     "name": "stdout",
     "output_type": "stream",
     "text": [
      "{'ch': 0, 'au': 11, 'gr': 18}\n"
     ]
    }
   ],
   "source": [
    "from sklearn.decomposition import PCA\n",
    "from sklearn.preprocessing import StandardScaler\n",
    "\n",
    "# encontrando as classes dos documentos a partir das iniciais dos\n",
    "# nomes dos documentos\n",
    "docid = {}\n",
    "for i,c in enumerate(df_dXp.index.values):\n",
    "   if c[0:2] not in docid:\n",
    "      docid[c[0:2]] = i\n",
    "        \n",
    "print(docid)\n",
    "        \n",
    "doc_class = [docid[c[0:2]] for c in df_dXp.index.values]\n",
    "\n",
    "X = df_dXp.values\n",
    "X = StandardScaler().fit_transform(X)\n",
    "\n",
    "pca_obj = PCA(n_components=2)\n",
    "Xpca = pca_obj.fit_transform(X)"
   ]
  },
  {
   "cell_type": "markdown",
   "metadata": {},
   "source": [
    "### Exercício 9)\n",
    "Visualize a projeção da coleção de documentos no espaço bidimensional gerado no exercício anterior e se necessário faça um zoom para melhor visualizar a distribuição dos documentos."
   ]
  },
  {
   "cell_type": "code",
   "execution_count": 14,
   "metadata": {},
   "outputs": [
    {
     "data": {
      "text/plain": [
       "<matplotlib.collections.PathCollection at 0x11fdc5d90>"
      ]
     },
     "execution_count": 14,
     "metadata": {},
     "output_type": "execute_result"
    },
    {
     "data": {
      "image/png": "[encoded data removed]",
      "text/plain": [
       "<Figure size 432x288 with 1 Axes>"
      ]
     },
     "metadata": {
      "needs_background": "light"
     },
     "output_type": "display_data"
    }
   ],
   "source": [
    "import matplotlib.pyplot as plt\n",
    "%matplotlib inline\n",
    "\n",
    "plt.scatter(Xpca[:,0],Xpca[:,1],c=doc_class)"
   ]
  },
  {
   "cell_type": "code",
   "execution_count": 15,
   "metadata": {},
   "outputs": [
    {
     "data": {
      "text/plain": [
       "<matplotlib.collections.PathCollection at 0x11feebd00>"
      ]
     },
     "execution_count": 15,
     "metadata": {},
     "output_type": "execute_result"
    },
    {
     "data": {
      "image/png": "[encoded data removed]",
      "text/plain": [
       "<Figure size 432x288 with 1 Axes>"
      ]
     },
     "metadata": {
      "needs_background": "light"
     },
     "output_type": "display_data"
    }
   ],
   "source": [
    "fig, ax = plt.subplots()\n",
    "ax.set_xlim(-5, 2)\n",
    "ax.set_ylim(-10, 5)\n",
    "\n",
    "plt.scatter(Xpca[:,0],Xpca[:,1],c=doc_class)"
   ]
  },
  {
   "cell_type": "markdown",
   "metadata": {},
   "source": [
    "### Exercício 10)\n",
    "Dado o documento `au8` (linha de rótulo `au8` no DataFrame Documentos $\\times$ Palavras) e utilizando a distância \"cosseno\"  (cosseno entre dois vetores correspondendo a vetorização dos documentos), encontre qual o documento mais parecido com `au8`. Calcule o cosseno entre a linha representada por `au8` na matriz Documentos $\\times$ Palavras e todas as outras linhas, tomando o maior valor como correspondendo ao documento mais parecido.\n",
    "Repita a projeção realizada no exercício 8), ressaltando o documento `au8` e o documento mais parecido com ele. "
   ]
  },
  {
   "cell_type": "code",
   "execution_count": 16,
   "metadata": {},
   "outputs": [
    {
     "name": "stdout",
     "output_type": "stream",
     "text": [
      "Documento mais parecido com au8:  au7\n"
     ]
    },
    {
     "data": {
      "text/plain": [
       "<matplotlib.collections.PathCollection at 0x11ff323a0>"
      ]
     },
     "execution_count": 16,
     "metadata": {},
     "output_type": "execute_result"
    },
    {
     "data": {
      "image/png": "[encoded data removed]",
      "text/plain": [
       "<Figure size 432x288 with 1 Axes>"
      ]
     },
     "metadata": {
      "needs_background": "light"
     },
     "output_type": "display_data"
    }
   ],
   "source": [
    "# encontrando o indice da linha de 'au8' no DataFrame\n",
    "au8_id = np.argwhere(df_dXp.index.values=='au8')[0][0]\n",
    "\n",
    "X = df_dXp.values\n",
    "X = StandardScaler().fit_transform(X)\n",
    "\n",
    "# calculando o cosseno utilizando a formula\n",
    "# cos(x,y) = np.dot(x,y)/(np.linalg.norm(x)*np.linalg.norm(y))\n",
    "cosau8 = np.apply_along_axis(lambda x: \n",
    "             np.dot(X[au8_id],x)/(np.linalg.norm(au8_id)*np.linalg.norm(x)),1,X)\n",
    "\n",
    "# ordenando e pegando o maior valor (note que o elemento [-1] é o \n",
    "# próprio documento au8)\n",
    "sim_au8_id = np.argsort(cosau8)[-2]\n",
    "print('Documento mais parecido com au8: ',df_dXp.index.values[sim_au8_id])\n",
    "\n",
    "fig, ax = plt.subplots()\n",
    "ax.set_xlim(-5, 2)\n",
    "ax.set_ylim(-10, 5)\n",
    "\n",
    "# au8 e o documento mais parecido estão marcos com um X vermelho\n",
    "plt.scatter(Xpca[:,0],Xpca[:,1],c=doc_class)\n",
    "plt.scatter(Xpca[[au8_id,sim_au8_id],0],Xpca[[au8_id,sim_au8_id],1],marker='x',color='r')"
   ]
  }
 ],
 "metadata": {
  "kernelspec": {
   "display_name": "Python 3",
   "language": "python",
   "name": "python3"
  },
  "language_info": {
   "codemirror_mode": {
    "name": "ipython",
    "version": 3
   },
   "file_extension": ".py",
   "mimetype": "text/x-python",
   "name": "python",
   "nbconvert_exporter": "python",
   "pygments_lexer": "ipython3",
   "version": "3.8.5"
  }
 },
 "nbformat": 4,
 "nbformat_minor": 2
}
