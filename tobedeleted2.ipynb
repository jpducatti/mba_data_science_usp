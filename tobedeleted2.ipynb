{
 "cells": [
  {
   "cell_type": "code",
   "execution_count": 1,
   "metadata": {},
   "outputs": [],
   "source": [
    "import pandas as pd\n",
    "import matplotlib.pyplot as plt\n",
    "import seaborn as sns\n",
    "import numpy as np\n",
    "from sklearn.linear_model import LinearRegression\n",
    "import statsmodels.formula.api as smf\n"
   ]
  },
  {
   "cell_type": "code",
   "execution_count": 2,
   "metadata": {},
   "outputs": [
    {
     "name": "stdout",
     "output_type": "stream",
     "text": [
      "Codigo igual, gera output igual\n"
     ]
    }
   ],
   "source": [
    "print('Codigo igual, gera output igual')"
   ]
  },
  {
   "cell_type": "code",
   "execution_count": 22,
   "metadata": {},
   "outputs": [
    {
     "data": {
      "text/html": [
       "<div>\n",
       "<style scoped>\n",
       "    .dataframe tbody tr th:only-of-type {\n",
       "        vertical-align: middle;\n",
       "    }\n",
       "\n",
       "    .dataframe tbody tr th {\n",
       "        vertical-align: top;\n",
       "    }\n",
       "\n",
       "    .dataframe thead th {\n",
       "        text-align: right;\n",
       "    }\n",
       "</style>\n",
       "<table border=\"1\" class=\"dataframe\">\n",
       "  <thead>\n",
       "    <tr style=\"text-align: right;\">\n",
       "      <th></th>\n",
       "      <th>date</th>\n",
       "      <th>sales_cost</th>\n",
       "      <th>month</th>\n",
       "      <th>week</th>\n",
       "      <th>year</th>\n",
       "      <th>dias_lead_to_1st_visit</th>\n",
       "      <th>dias_lead_to_1st_ccv</th>\n",
       "    </tr>\n",
       "  </thead>\n",
       "  <tbody>\n",
       "    <tr>\n",
       "      <th>0</th>\n",
       "      <td>2020-01-03</td>\n",
       "      <td>11263.88</td>\n",
       "      <td>1</td>\n",
       "      <td>1</td>\n",
       "      <td>2020</td>\n",
       "      <td>0.0</td>\n",
       "      <td>13.0</td>\n",
       "    </tr>\n",
       "    <tr>\n",
       "      <th>1</th>\n",
       "      <td>2020-01-06</td>\n",
       "      <td>26853.84</td>\n",
       "      <td>1</td>\n",
       "      <td>2</td>\n",
       "      <td>2020</td>\n",
       "      <td>172.0</td>\n",
       "      <td>179.0</td>\n",
       "    </tr>\n",
       "    <tr>\n",
       "      <th>2</th>\n",
       "      <td>2020-01-07</td>\n",
       "      <td>35261.12</td>\n",
       "      <td>1</td>\n",
       "      <td>2</td>\n",
       "      <td>2020</td>\n",
       "      <td>0.0</td>\n",
       "      <td>6.0</td>\n",
       "    </tr>\n",
       "  </tbody>\n",
       "</table>\n",
       "</div>"
      ],
      "text/plain": [
       "         date  sales_cost  month  week  year  dias_lead_to_1st_visit  \\\n",
       "0  2020-01-03    11263.88      1     1  2020                     0.0   \n",
       "1  2020-01-06    26853.84      1     2  2020                   172.0   \n",
       "2  2020-01-07    35261.12      1     2  2020                     0.0   \n",
       "\n",
       "   dias_lead_to_1st_ccv  \n",
       "0                  13.0  \n",
       "1                 179.0  \n",
       "2                   6.0  "
      ]
     },
     "execution_count": 22,
     "metadata": {},
     "output_type": "execute_result"
    }
   ],
   "source": [
    "\n",
    "df = pd.read_csv('/Users/jp.ducatti/Downloads/df_lead_2.csv')\n",
    "df.head(3)"
   ]
  },
  {
   "cell_type": "code",
   "execution_count": 23,
   "metadata": {},
   "outputs": [
    {
     "data": {
      "text/html": [
       "<div>\n",
       "<style scoped>\n",
       "    .dataframe tbody tr th:only-of-type {\n",
       "        vertical-align: middle;\n",
       "    }\n",
       "\n",
       "    .dataframe tbody tr th {\n",
       "        vertical-align: top;\n",
       "    }\n",
       "\n",
       "    .dataframe thead th {\n",
       "        text-align: right;\n",
       "    }\n",
       "</style>\n",
       "<table border=\"1\" class=\"dataframe\">\n",
       "  <thead>\n",
       "    <tr style=\"text-align: right;\">\n",
       "      <th></th>\n",
       "      <th>date</th>\n",
       "      <th>sales_cost</th>\n",
       "      <th>month</th>\n",
       "      <th>week</th>\n",
       "      <th>year</th>\n",
       "      <th>dias_lead_to_1st_visit</th>\n",
       "      <th>dias_lead_to_1st_ccv</th>\n",
       "    </tr>\n",
       "  </thead>\n",
       "  <tbody>\n",
       "    <tr>\n",
       "      <th>0</th>\n",
       "      <td>2020-01-03</td>\n",
       "      <td>11263.88</td>\n",
       "      <td>1</td>\n",
       "      <td>1</td>\n",
       "      <td>2020</td>\n",
       "      <td>0.0</td>\n",
       "      <td>13.0</td>\n",
       "    </tr>\n",
       "    <tr>\n",
       "      <th>1</th>\n",
       "      <td>2020-01-06</td>\n",
       "      <td>26853.84</td>\n",
       "      <td>1</td>\n",
       "      <td>2</td>\n",
       "      <td>2020</td>\n",
       "      <td>172.0</td>\n",
       "      <td>179.0</td>\n",
       "    </tr>\n",
       "    <tr>\n",
       "      <th>2</th>\n",
       "      <td>2020-01-07</td>\n",
       "      <td>35261.12</td>\n",
       "      <td>1</td>\n",
       "      <td>2</td>\n",
       "      <td>2020</td>\n",
       "      <td>0.0</td>\n",
       "      <td>6.0</td>\n",
       "    </tr>\n",
       "  </tbody>\n",
       "</table>\n",
       "</div>"
      ],
      "text/plain": [
       "        date  sales_cost  month  week  year  dias_lead_to_1st_visit  \\\n",
       "0 2020-01-03    11263.88      1     1  2020                     0.0   \n",
       "1 2020-01-06    26853.84      1     2  2020                   172.0   \n",
       "2 2020-01-07    35261.12      1     2  2020                     0.0   \n",
       "\n",
       "   dias_lead_to_1st_ccv  \n",
       "0                  13.0  \n",
       "1                 179.0  \n",
       "2                   6.0  "
      ]
     },
     "execution_count": 23,
     "metadata": {},
     "output_type": "execute_result"
    }
   ],
   "source": [
    "df['date'] = pd.to_datetime(df['date'])\n",
    "\n",
    "df = df.replace(r'^\\s*$', np.nan, regex=True)\n",
    "df = df.fillna(0)\n",
    "df = df[list(df.columns[~df.columns.duplicated()])]\n",
    "df.head(3)"
   ]
  },
  {
   "cell_type": "code",
   "execution_count": 24,
   "metadata": {},
   "outputs": [
    {
     "data": {
      "text/html": [
       "<div>\n",
       "<style scoped>\n",
       "    .dataframe tbody tr th:only-of-type {\n",
       "        vertical-align: middle;\n",
       "    }\n",
       "\n",
       "    .dataframe tbody tr th {\n",
       "        vertical-align: top;\n",
       "    }\n",
       "\n",
       "    .dataframe thead th {\n",
       "        text-align: right;\n",
       "    }\n",
       "</style>\n",
       "<table border=\"1\" class=\"dataframe\">\n",
       "  <thead>\n",
       "    <tr style=\"text-align: right;\">\n",
       "      <th></th>\n",
       "      <th>sales_cost</th>\n",
       "      <th>month</th>\n",
       "      <th>week</th>\n",
       "      <th>year</th>\n",
       "      <th>dias_lead_to_1st_visit</th>\n",
       "      <th>dias_lead_to_1st_ccv</th>\n",
       "    </tr>\n",
       "  </thead>\n",
       "  <tbody>\n",
       "    <tr>\n",
       "      <th>count</th>\n",
       "      <td>8.030000e+02</td>\n",
       "      <td>803.000000</td>\n",
       "      <td>803.000000</td>\n",
       "      <td>803.000000</td>\n",
       "      <td>803.000000</td>\n",
       "      <td>803.000000</td>\n",
       "    </tr>\n",
       "    <tr>\n",
       "      <th>mean</th>\n",
       "      <td>2.302043e+05</td>\n",
       "      <td>6.214197</td>\n",
       "      <td>25.332503</td>\n",
       "      <td>2020.961395</td>\n",
       "      <td>9.500612</td>\n",
       "      <td>58.692490</td>\n",
       "    </tr>\n",
       "    <tr>\n",
       "      <th>std</th>\n",
       "      <td>1.696470e+05</td>\n",
       "      <td>3.395971</td>\n",
       "      <td>14.961639</td>\n",
       "      <td>0.742211</td>\n",
       "      <td>51.834510</td>\n",
       "      <td>84.478457</td>\n",
       "    </tr>\n",
       "    <tr>\n",
       "      <th>min</th>\n",
       "      <td>1.096190e+04</td>\n",
       "      <td>1.000000</td>\n",
       "      <td>1.000000</td>\n",
       "      <td>2020.000000</td>\n",
       "      <td>-34.100000</td>\n",
       "      <td>1.000000</td>\n",
       "    </tr>\n",
       "    <tr>\n",
       "      <th>25%</th>\n",
       "      <td>9.445522e+04</td>\n",
       "      <td>3.000000</td>\n",
       "      <td>12.500000</td>\n",
       "      <td>2020.000000</td>\n",
       "      <td>0.000000</td>\n",
       "      <td>22.250000</td>\n",
       "    </tr>\n",
       "    <tr>\n",
       "      <th>50%</th>\n",
       "      <td>2.025563e+05</td>\n",
       "      <td>6.000000</td>\n",
       "      <td>25.000000</td>\n",
       "      <td>2021.000000</td>\n",
       "      <td>0.166667</td>\n",
       "      <td>36.833333</td>\n",
       "    </tr>\n",
       "    <tr>\n",
       "      <th>75%</th>\n",
       "      <td>3.337759e+05</td>\n",
       "      <td>9.000000</td>\n",
       "      <td>38.000000</td>\n",
       "      <td>2022.000000</td>\n",
       "      <td>2.000000</td>\n",
       "      <td>61.181818</td>\n",
       "    </tr>\n",
       "    <tr>\n",
       "      <th>max</th>\n",
       "      <td>1.224386e+06</td>\n",
       "      <td>12.000000</td>\n",
       "      <td>53.000000</td>\n",
       "      <td>2022.000000</td>\n",
       "      <td>750.000000</td>\n",
       "      <td>780.000000</td>\n",
       "    </tr>\n",
       "  </tbody>\n",
       "</table>\n",
       "</div>"
      ],
      "text/plain": [
       "         sales_cost       month        week         year  \\\n",
       "count  8.030000e+02  803.000000  803.000000   803.000000   \n",
       "mean   2.302043e+05    6.214197   25.332503  2020.961395   \n",
       "std    1.696470e+05    3.395971   14.961639     0.742211   \n",
       "min    1.096190e+04    1.000000    1.000000  2020.000000   \n",
       "25%    9.445522e+04    3.000000   12.500000  2020.000000   \n",
       "50%    2.025563e+05    6.000000   25.000000  2021.000000   \n",
       "75%    3.337759e+05    9.000000   38.000000  2022.000000   \n",
       "max    1.224386e+06   12.000000   53.000000  2022.000000   \n",
       "\n",
       "       dias_lead_to_1st_visit  dias_lead_to_1st_ccv  \n",
       "count              803.000000            803.000000  \n",
       "mean                 9.500612             58.692490  \n",
       "std                 51.834510             84.478457  \n",
       "min                -34.100000              1.000000  \n",
       "25%                  0.000000             22.250000  \n",
       "50%                  0.166667             36.833333  \n",
       "75%                  2.000000             61.181818  \n",
       "max                750.000000            780.000000  "
      ]
     },
     "execution_count": 24,
     "metadata": {},
     "output_type": "execute_result"
    }
   ],
   "source": [
    "df.describe()"
   ]
  },
  {
   "cell_type": "code",
   "execution_count": 35,
   "metadata": {},
   "outputs": [
    {
     "data": {
      "text/html": [
       "<div>\n",
       "<style scoped>\n",
       "    .dataframe tbody tr th:only-of-type {\n",
       "        vertical-align: middle;\n",
       "    }\n",
       "\n",
       "    .dataframe tbody tr th {\n",
       "        vertical-align: top;\n",
       "    }\n",
       "\n",
       "    .dataframe thead tr th {\n",
       "        text-align: left;\n",
       "    }\n",
       "\n",
       "    .dataframe thead tr:last-of-type th {\n",
       "        text-align: right;\n",
       "    }\n",
       "</style>\n",
       "<table border=\"1\" class=\"dataframe\">\n",
       "  <thead>\n",
       "    <tr>\n",
       "      <th></th>\n",
       "      <th colspan=\"2\" halign=\"left\">dias_lead_to_1st_visit</th>\n",
       "      <th colspan=\"2\" halign=\"left\">dias_lead_to_1st_ccv</th>\n",
       "    </tr>\n",
       "    <tr>\n",
       "      <th></th>\n",
       "      <th>mean</th>\n",
       "      <th>std</th>\n",
       "      <th>mean</th>\n",
       "      <th>std</th>\n",
       "    </tr>\n",
       "    <tr>\n",
       "      <th>month</th>\n",
       "      <th></th>\n",
       "      <th></th>\n",
       "      <th></th>\n",
       "      <th></th>\n",
       "    </tr>\n",
       "  </thead>\n",
       "  <tbody>\n",
       "    <tr>\n",
       "      <th>1</th>\n",
       "      <td>0.853484</td>\n",
       "      <td>7.644884</td>\n",
       "      <td>42.460337</td>\n",
       "      <td>11.984883</td>\n",
       "    </tr>\n",
       "    <tr>\n",
       "      <th>2</th>\n",
       "      <td>1.404405</td>\n",
       "      <td>2.810671</td>\n",
       "      <td>42.193879</td>\n",
       "      <td>11.550815</td>\n",
       "    </tr>\n",
       "    <tr>\n",
       "      <th>3</th>\n",
       "      <td>2.005897</td>\n",
       "      <td>3.625124</td>\n",
       "      <td>31.824392</td>\n",
       "      <td>10.203617</td>\n",
       "    </tr>\n",
       "    <tr>\n",
       "      <th>4</th>\n",
       "      <td>2.665785</td>\n",
       "      <td>3.888352</td>\n",
       "      <td>28.590413</td>\n",
       "      <td>8.245180</td>\n",
       "    </tr>\n",
       "    <tr>\n",
       "      <th>5</th>\n",
       "      <td>0.718177</td>\n",
       "      <td>1.042671</td>\n",
       "      <td>24.108183</td>\n",
       "      <td>6.514106</td>\n",
       "    </tr>\n",
       "    <tr>\n",
       "      <th>6</th>\n",
       "      <td>0.638819</td>\n",
       "      <td>1.659618</td>\n",
       "      <td>20.312303</td>\n",
       "      <td>8.034533</td>\n",
       "    </tr>\n",
       "    <tr>\n",
       "      <th>7</th>\n",
       "      <td>0.494872</td>\n",
       "      <td>0.968513</td>\n",
       "      <td>12.115934</td>\n",
       "      <td>5.589696</td>\n",
       "    </tr>\n",
       "  </tbody>\n",
       "</table>\n",
       "</div>"
      ],
      "text/plain": [
       "      dias_lead_to_1st_visit           dias_lead_to_1st_ccv           \n",
       "                        mean       std                 mean        std\n",
       "month                                                                 \n",
       "1                   0.853484  7.644884            42.460337  11.984883\n",
       "2                   1.404405  2.810671            42.193879  11.550815\n",
       "3                   2.005897  3.625124            31.824392  10.203617\n",
       "4                   2.665785  3.888352            28.590413   8.245180\n",
       "5                   0.718177  1.042671            24.108183   6.514106\n",
       "6                   0.638819  1.659618            20.312303   8.034533\n",
       "7                   0.494872  0.968513            12.115934   5.589696"
      ]
     },
     "execution_count": 35,
     "metadata": {},
     "output_type": "execute_result"
    }
   ],
   "source": [
    "df.loc[df['year'] == 2022].groupby(['month']).agg({\n",
    "  'dias_lead_to_1st_visit': ['mean', 'std'],\n",
    "  'dias_lead_to_1st_ccv': ['mean', 'std']\n",
    "})"
   ]
  },
  {
   "cell_type": "code",
   "execution_count": 25,
   "metadata": {},
   "outputs": [
    {
     "data": {
      "text/plain": [
       "date                      datetime64[ns]\n",
       "sales_cost                       float64\n",
       "month                              int64\n",
       "week                               int64\n",
       "year                               int64\n",
       "dias_lead_to_1st_visit           float64\n",
       "dias_lead_to_1st_ccv             float64\n",
       "dtype: object"
      ]
     },
     "execution_count": 25,
     "metadata": {},
     "output_type": "execute_result"
    }
   ],
   "source": [
    "df.dtypes"
   ]
  },
  {
   "cell_type": "code",
   "execution_count": 26,
   "metadata": {},
   "outputs": [
    {
     "data": {
      "text/plain": [
       "<AxesSubplot:xlabel='month', ylabel='dias_lead_to_1st_ccv'>"
      ]
     },
     "execution_count": 26,
     "metadata": {},
     "output_type": "execute_result"
    },
    {
     "data": {
      "image/png": "[encoded data removed]",
      "text/plain": [
       "<Figure size 432x288 with 1 Axes>"
      ]
     },
     "metadata": {
      "needs_background": "light"
     },
     "output_type": "display_data"
    }
   ],
   "source": [
    "df_20_21 = df.loc[df['year'] >= 2021];\n",
    "\n",
    "sns.boxplot(x=\"month\", y=\"dias_lead_to_1st_ccv\",hue=\"year\" , data=df_20_21)\n"
   ]
  },
  {
   "cell_type": "code",
   "execution_count": 27,
   "metadata": {},
   "outputs": [
    {
     "data": {
      "text/plain": [
       "<AxesSubplot:xlabel='month', ylabel='dias_lead_to_1st_visit'>"
      ]
     },
     "execution_count": 27,
     "metadata": {},
     "output_type": "execute_result"
    },
    {
     "data": {
      "image/png": "[encoded data removed]",
      "text/plain": [
       "<Figure size 432x288 with 1 Axes>"
      ]
     },
     "metadata": {
      "needs_background": "light"
     },
     "output_type": "display_data"
    }
   ],
   "source": [
    "sns.boxplot(x=\"month\", y=\"dias_lead_to_1st_visit\",hue=\"year\" , data=df_20_21)"
   ]
  },
  {
   "cell_type": "code",
   "execution_count": 37,
   "metadata": {},
   "outputs": [
    {
     "data": {
      "text/plain": [
       "<seaborn.axisgrid.FacetGrid at 0x7fe008766430>"
      ]
     },
     "execution_count": 37,
     "metadata": {},
     "output_type": "execute_result"
    },
    {
     "data": {
      "image/png": "[encoded data removed]",
      "text/plain": [
       "<Figure size 421.5x360 with 1 Axes>"
      ]
     },
     "metadata": {
      "needs_background": "light"
     },
     "output_type": "display_data"
    }
   ],
   "source": [
    "    sns.lmplot(x = \"sales_cost\", y = \"dias_lead_to_1st_visit\" , hue = \"year\", data=df_20_21, fit_reg=True)"
   ]
  },
  {
   "cell_type": "code",
   "execution_count": 38,
   "metadata": {},
   "outputs": [
    {
     "data": {
      "text/plain": [
       "<seaborn.axisgrid.FacetGrid at 0x7fe0088b8460>"
      ]
     },
     "execution_count": 38,
     "metadata": {},
     "output_type": "execute_result"
    },
    {
     "data": {
      "image/png": "[encoded data removed]",
      "text/plain": [
       "<Figure size 421.5x360 with 1 Axes>"
      ]
     },
     "metadata": {
      "needs_background": "light"
     },
     "output_type": "display_data"
    }
   ],
   "source": [
    "    sns.lmplot(x = \"sales_cost\", y = \"dias_lead_to_1st_ccv\" , hue = \"year\", data=df_20_21, fit_reg=True)"
   ]
  },
  {
   "cell_type": "code",
   "execution_count": 40,
   "metadata": {},
   "outputs": [
    {
     "name": "stdout",
     "output_type": "stream",
     "text": [
      "                             OLS Regression Results                             \n",
      "================================================================================\n",
      "Dep. Variable:     dias_lead_to_1st_ccv   R-squared:                       0.020\n",
      "Model:                              OLS   Adj. R-squared:                  0.018\n",
      "Method:                   Least Squares   F-statistic:                     11.22\n",
      "Date:                  Thu, 04 Aug 2022   Prob (F-statistic):           0.000862\n",
      "Time:                          01:33:21   Log-Likelihood:                -2751.4\n",
      "No. Observations:                   566   AIC:                             5507.\n",
      "Df Residuals:                       564   BIC:                             5515.\n",
      "Df Model:                             1                                         \n",
      "Covariance Type:              nonrobust                                         \n",
      "==============================================================================\n",
      "                 coef    std err          t      P>|t|      [0.025      0.975]\n",
      "------------------------------------------------------------------------------\n",
      "Intercept     37.8468      2.867     13.201      0.000      32.216      43.478\n",
      "sales_cost   2.85e-05   8.51e-06      3.350      0.001    1.18e-05    4.52e-05\n",
      "==============================================================================\n",
      "Omnibus:                      260.840   Durbin-Watson:                   1.632\n",
      "Prob(Omnibus):                  0.000   Jarque-Bera (JB):             1344.341\n",
      "Skew:                           2.035   Prob(JB):                    1.20e-292\n",
      "Kurtosis:                       9.360   Cond. No.                     7.34e+05\n",
      "==============================================================================\n",
      "\n",
      "Notes:\n",
      "[1] Standard Errors assume that the covariance matrix of the errors is correctly specified.\n",
      "[2] The condition number is large, 7.34e+05. This might indicate that there are\n",
      "strong multicollinearity or other numerical problems.\n"
     ]
    }
   ],
   "source": [
    "model1 = smf.ols(formula='dias_lead_to_1st_ccv ~ sales_cost', data=df_20_21).fit() \n",
    "print(model1.summary())\n"
   ]
  },
  {
   "cell_type": "code",
   "execution_count": null,
   "metadata": {},
   "outputs": [],
   "source": []
  }
 ],
 "metadata": {
  "kernelspec": {
   "display_name": "Python 3.9.7 ('base')",
   "language": "python",
   "name": "python3"
  },
  "language_info": {
   "codemirror_mode": {
    "name": "ipython",
    "version": 3
   },
   "file_extension": ".py",
   "mimetype": "text/x-python",
   "name": "python",
   "nbconvert_exporter": "python",
   "pygments_lexer": "ipython3",
   "version": "3.9.7"
  },
  "orig_nbformat": 4,
  "vscode": {
   "interpreter": {
    "hash": "eeca995d0f3e54aca6930f56d9ad1fedf70d5951646e03e475052bde35f1b6df"
   }
  }
 },
 "nbformat": 4,
 "nbformat_minor": 2
}
