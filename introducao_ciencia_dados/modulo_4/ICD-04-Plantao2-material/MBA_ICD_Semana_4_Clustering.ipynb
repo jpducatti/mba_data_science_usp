{
  "nbformat": 4,
  "nbformat_minor": 0,
  "metadata": {
    "colab": {
      "name": "MBA - ICD - Semana 4 - Clustering",
      "provenance": [],
      "collapsed_sections": []
    },
    "kernelspec": {
      "name": "python3",
      "display_name": "Python 3"
    },
    "language_info": {
      "name": "python"
    }
  },
  "cells": [
    {
      "cell_type": "markdown",
      "source": [
        "# Agrupamentos / *Clustering*\n",
        "**Plantão 2:** [Jadson Oliveira](https://www.linkedin.com/in/jadsonjjmo/)  \n",
        "Quinta-feira (17/02/2022)"
      ],
      "metadata": {
        "id": "Vc_IkSn2A3nA"
      }
    },
    {
      "cell_type": "markdown",
      "source": [
        "## O que é?\n",
        "É uma técnica dentro da Ciência de Dados que envolve o processo de agrupar objetos em diversos grupos. Em teoria, normalmente os objetos pertencentes a um mesmo grupo devem possuir características similares.\n",
        "\n",
        "\n",
        "É uma técnica de **aprendizado não-supervisionado**.\n",
        "\n",
        "### Alguns exemplos:\n",
        "- Dado um conjunto de imagens diversas, gostariamos de criar grupos de imagens com características similares de cores;\n",
        "- Dado um conjunto de séries temporais que representam o clima de todas as cidades do Brasil ao longo do ano, criar grupos de cidades que apresentam um clima similar;\n",
        "- Dado um conjunto de documentos de um repositório, criar grupos de documentos que representam o mesmo assunto;\n",
        "- Dado um conjunto de clientes de uma loja, distinguir grupos de clientes baseado em suas características de compra, com o objetivo de pensar em estratégias de negócios personalizadas aos grupos encontrados.\n"
      ],
      "metadata": {
        "id": "YGdMLkkoBVuS"
      }
    },
    {
      "cell_type": "markdown",
      "source": [
        "## Etapas comuns para o processo de aprendizagem não supervisionada utilizando agrupamento de dados\n",
        "\n",
        "1. Seleção de atributos\n",
        "    - devem representar a maior quantidade de informação do objeto, levando em consideração o problema a ser resolvido.\n",
        "    - devem ter redundância mínima entre os atributos\n",
        "2. Definição de uma medida de proximidade\n",
        "    - A medida deve informar o quão **similar** ou **dissimilar** são dois objetos;\n",
        "    - Todos os atributos devem contribuir de maneira igual para a medida de similaridade escolhida,  \n",
        "    normalmente requer normalização dos dados\n",
        "3. Definição de um critério para clusterização\n",
        "    - Uma função custo ou algum tipo de regra que defina um cluster\n",
        "4. Escolha de um algoritmo de agrupamento\n",
        "    - Tipo particional\n",
        "    - Tipo hierárquico\n",
        "5. Verificação dos resultados\n",
        "6. Avaliação e interpretação dos resultados"
      ],
      "metadata": {
        "id": "m_TEwSgdBm6P"
      }
    },
    {
      "cell_type": "markdown",
      "source": [
        "![Algoritmos de agrupamento na biblioteca scikit-learn](https://scikit-learn.org/stable/_images/sphx_glr_plot_cluster_comparison_001.png)\n",
        "\n",
        "Imagem extraída do site oficial da biblioteca open-source Scikit-Learn: https://scikit-learn.org/stable/modules/clustering.html"
      ],
      "metadata": {
        "id": "Odb_dPU5BzjP"
      }
    },
    {
      "cell_type": "markdown",
      "source": [
        "## Métricas comumente utilizadas para avaliação de agrupamentos"
      ],
      "metadata": {
        "id": "lGPCe6uSCj2k"
      }
    },
    {
      "cell_type": "markdown",
      "source": [
        "<table class=\"tg\">\n",
        "<thead>\n",
        "  <tr>\n",
        "    <th>Métrica</th>\n",
        "    <th>Intervalo</th>\n",
        "    <th>Observação</th>\n",
        "    <th>Tipo de Índice</th>\n",
        "  </tr>\n",
        "</thead>\n",
        "<tbody>\n",
        "  <tr>\n",
        "    <td>Within Cluster Sum of Squares</td>\n",
        "    <td>[0, inf]</td>\n",
        "    <td>Menor melhor</td>\n",
        "    <td>Indice Relativo</td>\n",
        "  </tr>\n",
        "  <tr>\n",
        "    <td>Adjusted Rand Score</td>\n",
        "    <td>[0,   1]</td>\n",
        "    <td>Maior melhor</td>\n",
        "    <td>Indice Externo</td>\n",
        "  </tr>\n",
        "  <tr>\n",
        "    <td>Adjusted Mutual Information Score</td>\n",
        "    <td>[0,   1]</td>\n",
        "    <td>Maior melhor</td>\n",
        "    <td>Indice Externo</td>\n",
        "  </tr>\n",
        "  <tr>\n",
        "    <td>Silhuete Score</td>\n",
        "    <td>[-1,  1]</td>\n",
        "    <td> Maior melhor</td>\n",
        "    <td>Indice Interno</td>\n",
        "  </tr>\n",
        "</tbody>\n",
        "</table>"
      ],
      "metadata": {
        "id": "qdT7s-buCwUV"
      }
    },
    {
      "cell_type": "markdown",
      "source": [
        "Mais métricas podem ser encontradas em: https://scikit-learn.org/stable/modules/classes.html#module-sklearn.metrics"
      ],
      "metadata": {
        "id": "efbRXuqqfvf5"
      }
    },
    {
      "cell_type": "markdown",
      "source": [
        "# Caso de estudo para o plantão"
      ],
      "metadata": {
        "id": "HH7DKN56DU6L"
      }
    },
    {
      "cell_type": "markdown",
      "source": [
        "## Problema:\n",
        "### Dado um conjunto de imagens de **touros** e **ursos** (referência ao mercado financeiro 😀), como agrupar essas imagens de forma automática, separando as imagens de **urso** para uma pasta específica e as imagens de **touro** para outra pasta específica?\n",
        "\n",
        "![Imagem de um touro frente a um urso](https://static-wp-eqi15-prd.euqueroinvestir.com/wp-content/uploads/2020/04/bullbear-559x336.jpg)\n",
        "\n",
        "Imagem extraída do site `euqueroinvestir.com`\n",
        "\n",
        "---\n",
        "\n"
      ],
      "metadata": {
        "id": "2eafpTryDf2h"
      }
    },
    {
      "cell_type": "markdown",
      "source": [
        "### Importando as bibliotecas necessárias"
      ],
      "metadata": {
        "id": "9rTlRvzVErP9"
      }
    },
    {
      "cell_type": "code",
      "execution_count": 31,
      "metadata": {
        "id": "MSz58jxrA4Ut"
      },
      "outputs": [],
      "source": [
        "from tensorflow.keras.applications.inception_v3 import InceptionV3\n",
        "from tensorflow.keras.applications.inception_v3 import preprocess_input\n",
        "from tensorflow.keras.preprocessing import image\n",
        "from tensorflow.keras.preprocessing.image import img_to_array\n",
        "from sklearn.cluster import KMeans\n",
        "from sklearn.decomposition import PCA\n",
        "from sklearn.preprocessing import StandardScaler\n",
        "from sklearn.metrics import silhouette_score\n",
        "from sklearn.metrics.cluster import adjusted_rand_score, adjusted_mutual_info_score, normalized_mutual_info_score\n",
        "from scipy.cluster.hierarchy import dendrogram, linkage\n",
        "import matplotlib.pyplot as plt\n",
        "import seaborn as sns\n",
        "import pandas as pd\n",
        "import numpy as np\n",
        "from tqdm import tqdm\n",
        "import os\n",
        "import shutil"
      ]
    },
    {
      "cell_type": "markdown",
      "source": [
        "#### Criando funções para auxiliar a extração de características das imagens (features)"
      ],
      "metadata": {
        "id": "s0QDkbyuE6rR"
      }
    },
    {
      "cell_type": "code",
      "source": [
        "directory_path = 'dados_cluster'\n",
        "\n",
        "\n",
        "\n",
        "# Função para extrair features das imagens, utilizando o modelo pré-treinado InceptionV3\n",
        "# com pesos baseados no conjunto \"imagenet\" (Transfer-learning)\n",
        "def extract_features(directory):\n",
        "\n",
        "    # Instancia o modelo InceptionV3 baseado no conjunto imagenet\n",
        "    model = InceptionV3(weights='imagenet', include_top=False)\n",
        "\n",
        "    features_set = [];\n",
        "    img_name_set = [];\n",
        "\n",
        "    # Faz um loop passando por todas as imagens do diretório\n",
        "    for image_name in tqdm(directory):\n",
        "\n",
        "        # Obtém o path das imagens\n",
        "        file_path = f'{directory_path}/{image_name}'\n",
        "\n",
        "        # Carrega a imagem em memória\n",
        "        img_loaded = image.load_img(file_path, target_size=(225,225))\n",
        "\n",
        "        # Tranforma a imagem em um array de valores correspondentes aos\n",
        "        # seus valores de RGB.\n",
        "        x = img_to_array(img_loaded)\n",
        "\n",
        "        # Expande o formato de um array\n",
        "        x = np.expand_dims(x,axis=0)\n",
        "\n",
        "        # Realiza um pre-processamento dos valores de RGB extraídos da imagem\n",
        "        # gerando uma saída onde os valores se encontram no intervalo -1 a 1.\n",
        "        x = preprocess_input(x)\n",
        "\n",
        "        # Extrai um conjunto de features utilizando um modelo pré-treinado\n",
        "        features = model.predict(x)\n",
        "\n",
        "        # Faz um achatamento na matriz de features retornando um array com\n",
        "        # uma dimensão\n",
        "        features = features.flatten()\n",
        "\n",
        "        # Adiciona as features extraídas da imagem atual na lista contendo todas\n",
        "        # as features de todas as imagens.\n",
        "        features_set.append(features)\n",
        "        img_name_set.append(image_name)\n",
        "\n",
        "    return features_set, img_name_set"
      ],
      "metadata": {
        "id": "IeB_QRIlA47k"
      },
      "execution_count": 36,
      "outputs": []
    },
    {
      "cell_type": "code",
      "source": [
        "images_path_list = os.listdir(directory_path)"
      ],
      "metadata": {
        "id": "1hLJnLy8A67-"
      },
      "execution_count": 37,
      "outputs": []
    },
    {
      "cell_type": "code",
      "source": [
        "img_features_set, img_name_set = extract_features(images_path_list)"
      ],
      "metadata": {
        "colab": {
          "base_uri": "https://localhost:8080/"
        },
        "id": "VkY534IsA9m2",
        "outputId": "594e58be-c50b-4995-ea12-ed575fe2d8c0"
      },
      "execution_count": 38,
      "outputs": [
        {
          "output_type": "stream",
          "name": "stderr",
          "text": [
            "100%|██████████| 100/100 [00:19<00:00,  5.16it/s]\n"
          ]
        }
      ]
    },
    {
      "cell_type": "code",
      "source": [
        "images_cluster = pd.DataFrame(img_name_set, columns=['image'])"
      ],
      "metadata": {
        "id": "aToWqv8ZA_ao"
      },
      "execution_count": 39,
      "outputs": []
    },
    {
      "cell_type": "code",
      "source": [
        "print(f'Quantidade de imagens utilizadas: {images_cluster.shape[0]}')\n",
        "images_cluster.sample(5)"
      ],
      "metadata": {
        "colab": {
          "base_uri": "https://localhost:8080/",
          "height": 223
        },
        "id": "fZaqPIo1eh_a",
        "outputId": "54c3d5ea-9292-4da9-aceb-9f3a5d195703"
      },
      "execution_count": 40,
      "outputs": [
        {
          "output_type": "stream",
          "name": "stdout",
          "text": [
            "Quantidade de imagens utilizadas: 100\n"
          ]
        },
        {
          "output_type": "execute_result",
          "data": {
            "text/html": [
              "\n",
              "  <div id=\"df-2101c19f-b091-478e-a0b7-a9b11e148051\">\n",
              "    <div class=\"colab-df-container\">\n",
              "      <div>\n",
              "<style scoped>\n",
              "    .dataframe tbody tr th:only-of-type {\n",
              "        vertical-align: middle;\n",
              "    }\n",
              "\n",
              "    .dataframe tbody tr th {\n",
              "        vertical-align: top;\n",
              "    }\n",
              "\n",
              "    .dataframe thead th {\n",
              "        text-align: right;\n",
              "    }\n",
              "</style>\n",
              "<table border=\"1\" class=\"dataframe\">\n",
              "  <thead>\n",
              "    <tr style=\"text-align: right;\">\n",
              "      <th></th>\n",
              "      <th>image</th>\n",
              "    </tr>\n",
              "  </thead>\n",
              "  <tbody>\n",
              "    <tr>\n",
              "      <th>33</th>\n",
              "      <td>touro (40).jfif</td>\n",
              "    </tr>\n",
              "    <tr>\n",
              "      <th>62</th>\n",
              "      <td>touro (3).jfif</td>\n",
              "    </tr>\n",
              "    <tr>\n",
              "      <th>36</th>\n",
              "      <td>urso (14).jfif</td>\n",
              "    </tr>\n",
              "    <tr>\n",
              "      <th>75</th>\n",
              "      <td>touro (1).jfif</td>\n",
              "    </tr>\n",
              "    <tr>\n",
              "      <th>57</th>\n",
              "      <td>touro (37).jfif</td>\n",
              "    </tr>\n",
              "  </tbody>\n",
              "</table>\n",
              "</div>\n",
              "      <button class=\"colab-df-convert\" onclick=\"convertToInteractive('df-2101c19f-b091-478e-a0b7-a9b11e148051')\"\n",
              "              title=\"Convert this dataframe to an interactive table.\"\n",
              "              style=\"display:none;\">\n",
              "        \n",
              "  <svg xmlns=\"http://www.w3.org/2000/svg\" height=\"24px\"viewBox=\"0 0 24 24\"\n",
              "       width=\"24px\">\n",
              "    <path d=\"M0 0h24v24H0V0z\" fill=\"none\"/>\n",
              "    <path d=\"M18.56 5.44l.94 2.06.94-2.06 2.06-.94-2.06-.94-.94-2.06-.94 2.06-2.06.94zm-11 1L8.5 8.5l.94-2.06 2.06-.94-2.06-.94L8.5 2.5l-.94 2.06-2.06.94zm10 10l.94 2.06.94-2.06 2.06-.94-2.06-.94-.94-2.06-.94 2.06-2.06.94z\"/><path d=\"M17.41 7.96l-1.37-1.37c-.4-.4-.92-.59-1.43-.59-.52 0-1.04.2-1.43.59L10.3 9.45l-7.72 7.72c-.78.78-.78 2.05 0 2.83L4 21.41c.39.39.9.59 1.41.59.51 0 1.02-.2 1.41-.59l7.78-7.78 2.81-2.81c.8-.78.8-2.07 0-2.86zM5.41 20L4 18.59l7.72-7.72 1.47 1.35L5.41 20z\"/>\n",
              "  </svg>\n",
              "      </button>\n",
              "      \n",
              "  <style>\n",
              "    .colab-df-container {\n",
              "      display:flex;\n",
              "      flex-wrap:wrap;\n",
              "      gap: 12px;\n",
              "    }\n",
              "\n",
              "    .colab-df-convert {\n",
              "      background-color: #E8F0FE;\n",
              "      border: none;\n",
              "      border-radius: 50%;\n",
              "      cursor: pointer;\n",
              "      display: none;\n",
              "      fill: #1967D2;\n",
              "      height: 32px;\n",
              "      padding: 0 0 0 0;\n",
              "      width: 32px;\n",
              "    }\n",
              "\n",
              "    .colab-df-convert:hover {\n",
              "      background-color: #E2EBFA;\n",
              "      box-shadow: 0px 1px 2px rgba(60, 64, 67, 0.3), 0px 1px 3px 1px rgba(60, 64, 67, 0.15);\n",
              "      fill: #174EA6;\n",
              "    }\n",
              "\n",
              "    [theme=dark] .colab-df-convert {\n",
              "      background-color: #3B4455;\n",
              "      fill: #D2E3FC;\n",
              "    }\n",
              "\n",
              "    [theme=dark] .colab-df-convert:hover {\n",
              "      background-color: #434B5C;\n",
              "      box-shadow: 0px 1px 3px 1px rgba(0, 0, 0, 0.15);\n",
              "      filter: drop-shadow(0px 1px 2px rgba(0, 0, 0, 0.3));\n",
              "      fill: #FFFFFF;\n",
              "    }\n",
              "  </style>\n",
              "\n",
              "      <script>\n",
              "        const buttonEl =\n",
              "          document.querySelector('#df-2101c19f-b091-478e-a0b7-a9b11e148051 button.colab-df-convert');\n",
              "        buttonEl.style.display =\n",
              "          google.colab.kernel.accessAllowed ? 'block' : 'none';\n",
              "\n",
              "        async function convertToInteractive(key) {\n",
              "          const element = document.querySelector('#df-2101c19f-b091-478e-a0b7-a9b11e148051');\n",
              "          const dataTable =\n",
              "            await google.colab.kernel.invokeFunction('convertToInteractive',\n",
              "                                                     [key], {});\n",
              "          if (!dataTable) return;\n",
              "\n",
              "          const docLinkHtml = 'Like what you see? Visit the ' +\n",
              "            '<a target=\"_blank\" href=https://colab.research.google.com/notebooks/data_table.ipynb>data table notebook</a>'\n",
              "            + ' to learn more about interactive tables.';\n",
              "          element.innerHTML = '';\n",
              "          dataTable['output_type'] = 'display_data';\n",
              "          await google.colab.output.renderOutput(dataTable, element);\n",
              "          const docLink = document.createElement('div');\n",
              "          docLink.innerHTML = docLinkHtml;\n",
              "          element.appendChild(docLink);\n",
              "        }\n",
              "      </script>\n",
              "    </div>\n",
              "  </div>\n",
              "  "
            ],
            "text/plain": [
              "              image\n",
              "33  touro (40).jfif\n",
              "62   touro (3).jfif\n",
              "36   urso (14).jfif\n",
              "75   touro (1).jfif\n",
              "57  touro (37).jfif"
            ]
          },
          "metadata": {},
          "execution_count": 40
        }
      ]
    },
    {
      "cell_type": "code",
      "source": [
        "print(f'Quantidade de features extraídas ela rede: {len(img_features_set[0])}')"
      ],
      "metadata": {
        "colab": {
          "base_uri": "https://localhost:8080/"
        },
        "id": "mQG27vCiflAN",
        "outputId": "2321f9fe-ad31-4a46-f8c5-379304eb2f4d"
      },
      "execution_count": 41,
      "outputs": [
        {
          "output_type": "stream",
          "name": "stdout",
          "text": [
            "Quantidade de features extraídas ela rede: 51200\n"
          ]
        }
      ]
    },
    {
      "cell_type": "code",
      "source": [
        "# Criando um modelo utilizando a técnica de agrupamento K-means\n",
        "\n",
        "# Definindo o valor de k\n",
        "k = 2\n",
        "\n",
        "# Instanciando o modelo\n",
        "clusters = KMeans(k, random_state = 40)\n",
        "\n",
        "# Treinando o modelo\n",
        "clusters.fit(img_features_set)"
      ],
      "metadata": {
        "colab": {
          "base_uri": "https://localhost:8080/"
        },
        "id": "7Lpm28ElejTj",
        "outputId": "cfe8712f-2154-443e-c7dc-0327c2628e77"
      },
      "execution_count": 42,
      "outputs": [
        {
          "output_type": "execute_result",
          "data": {
            "text/plain": [
              "KMeans(n_clusters=2, random_state=40)"
            ]
          },
          "metadata": {},
          "execution_count": 42
        }
      ]
    },
    {
      "cell_type": "code",
      "source": [
        "# Criando coluna correspondente aos clusters encontrados\n",
        "images_cluster[\"clusterid\"] = clusters.labels_"
      ],
      "metadata": {
        "id": "abPi9mGKelV0"
      },
      "execution_count": 43,
      "outputs": []
    },
    {
      "cell_type": "code",
      "source": [
        "# 0 equivale a urso e 1 equivale a touro\n",
        "images_cluster.sample(10)"
      ],
      "metadata": {
        "colab": {
          "base_uri": "https://localhost:8080/",
          "height": 363
        },
        "id": "eAp455Oven5o",
        "outputId": "3424b2ba-30af-4c40-85fc-60f2a04f2770"
      },
      "execution_count": 44,
      "outputs": [
        {
          "output_type": "execute_result",
          "data": {
            "text/html": [
              "\n",
              "  <div id=\"df-b8924890-643f-452f-8235-4efa3d7b66e6\">\n",
              "    <div class=\"colab-df-container\">\n",
              "      <div>\n",
              "<style scoped>\n",
              "    .dataframe tbody tr th:only-of-type {\n",
              "        vertical-align: middle;\n",
              "    }\n",
              "\n",
              "    .dataframe tbody tr th {\n",
              "        vertical-align: top;\n",
              "    }\n",
              "\n",
              "    .dataframe thead th {\n",
              "        text-align: right;\n",
              "    }\n",
              "</style>\n",
              "<table border=\"1\" class=\"dataframe\">\n",
              "  <thead>\n",
              "    <tr style=\"text-align: right;\">\n",
              "      <th></th>\n",
              "      <th>image</th>\n",
              "      <th>clusterid</th>\n",
              "    </tr>\n",
              "  </thead>\n",
              "  <tbody>\n",
              "    <tr>\n",
              "      <th>82</th>\n",
              "      <td>urso (8).jfif</td>\n",
              "      <td>0</td>\n",
              "    </tr>\n",
              "    <tr>\n",
              "      <th>24</th>\n",
              "      <td>touro (12).jfif</td>\n",
              "      <td>1</td>\n",
              "    </tr>\n",
              "    <tr>\n",
              "      <th>91</th>\n",
              "      <td>urso (4).jfif</td>\n",
              "      <td>0</td>\n",
              "    </tr>\n",
              "    <tr>\n",
              "      <th>22</th>\n",
              "      <td>urso (42).jfif</td>\n",
              "      <td>0</td>\n",
              "    </tr>\n",
              "    <tr>\n",
              "      <th>48</th>\n",
              "      <td>urso (27).jfif</td>\n",
              "      <td>0</td>\n",
              "    </tr>\n",
              "    <tr>\n",
              "      <th>90</th>\n",
              "      <td>urso (26).jfif</td>\n",
              "      <td>0</td>\n",
              "    </tr>\n",
              "    <tr>\n",
              "      <th>61</th>\n",
              "      <td>urso (46).jfif</td>\n",
              "      <td>0</td>\n",
              "    </tr>\n",
              "    <tr>\n",
              "      <th>23</th>\n",
              "      <td>urso (49).jfif</td>\n",
              "      <td>0</td>\n",
              "    </tr>\n",
              "    <tr>\n",
              "      <th>65</th>\n",
              "      <td>touro (2).jfif</td>\n",
              "      <td>1</td>\n",
              "    </tr>\n",
              "    <tr>\n",
              "      <th>15</th>\n",
              "      <td>touro (34).jfif</td>\n",
              "      <td>1</td>\n",
              "    </tr>\n",
              "  </tbody>\n",
              "</table>\n",
              "</div>\n",
              "      <button class=\"colab-df-convert\" onclick=\"convertToInteractive('df-b8924890-643f-452f-8235-4efa3d7b66e6')\"\n",
              "              title=\"Convert this dataframe to an interactive table.\"\n",
              "              style=\"display:none;\">\n",
              "        \n",
              "  <svg xmlns=\"http://www.w3.org/2000/svg\" height=\"24px\"viewBox=\"0 0 24 24\"\n",
              "       width=\"24px\">\n",
              "    <path d=\"M0 0h24v24H0V0z\" fill=\"none\"/>\n",
              "    <path d=\"M18.56 5.44l.94 2.06.94-2.06 2.06-.94-2.06-.94-.94-2.06-.94 2.06-2.06.94zm-11 1L8.5 8.5l.94-2.06 2.06-.94-2.06-.94L8.5 2.5l-.94 2.06-2.06.94zm10 10l.94 2.06.94-2.06 2.06-.94-2.06-.94-.94-2.06-.94 2.06-2.06.94z\"/><path d=\"M17.41 7.96l-1.37-1.37c-.4-.4-.92-.59-1.43-.59-.52 0-1.04.2-1.43.59L10.3 9.45l-7.72 7.72c-.78.78-.78 2.05 0 2.83L4 21.41c.39.39.9.59 1.41.59.51 0 1.02-.2 1.41-.59l7.78-7.78 2.81-2.81c.8-.78.8-2.07 0-2.86zM5.41 20L4 18.59l7.72-7.72 1.47 1.35L5.41 20z\"/>\n",
              "  </svg>\n",
              "      </button>\n",
              "      \n",
              "  <style>\n",
              "    .colab-df-container {\n",
              "      display:flex;\n",
              "      flex-wrap:wrap;\n",
              "      gap: 12px;\n",
              "    }\n",
              "\n",
              "    .colab-df-convert {\n",
              "      background-color: #E8F0FE;\n",
              "      border: none;\n",
              "      border-radius: 50%;\n",
              "      cursor: pointer;\n",
              "      display: none;\n",
              "      fill: #1967D2;\n",
              "      height: 32px;\n",
              "      padding: 0 0 0 0;\n",
              "      width: 32px;\n",
              "    }\n",
              "\n",
              "    .colab-df-convert:hover {\n",
              "      background-color: #E2EBFA;\n",
              "      box-shadow: 0px 1px 2px rgba(60, 64, 67, 0.3), 0px 1px 3px 1px rgba(60, 64, 67, 0.15);\n",
              "      fill: #174EA6;\n",
              "    }\n",
              "\n",
              "    [theme=dark] .colab-df-convert {\n",
              "      background-color: #3B4455;\n",
              "      fill: #D2E3FC;\n",
              "    }\n",
              "\n",
              "    [theme=dark] .colab-df-convert:hover {\n",
              "      background-color: #434B5C;\n",
              "      box-shadow: 0px 1px 3px 1px rgba(0, 0, 0, 0.15);\n",
              "      filter: drop-shadow(0px 1px 2px rgba(0, 0, 0, 0.3));\n",
              "      fill: #FFFFFF;\n",
              "    }\n",
              "  </style>\n",
              "\n",
              "      <script>\n",
              "        const buttonEl =\n",
              "          document.querySelector('#df-b8924890-643f-452f-8235-4efa3d7b66e6 button.colab-df-convert');\n",
              "        buttonEl.style.display =\n",
              "          google.colab.kernel.accessAllowed ? 'block' : 'none';\n",
              "\n",
              "        async function convertToInteractive(key) {\n",
              "          const element = document.querySelector('#df-b8924890-643f-452f-8235-4efa3d7b66e6');\n",
              "          const dataTable =\n",
              "            await google.colab.kernel.invokeFunction('convertToInteractive',\n",
              "                                                     [key], {});\n",
              "          if (!dataTable) return;\n",
              "\n",
              "          const docLinkHtml = 'Like what you see? Visit the ' +\n",
              "            '<a target=\"_blank\" href=https://colab.research.google.com/notebooks/data_table.ipynb>data table notebook</a>'\n",
              "            + ' to learn more about interactive tables.';\n",
              "          element.innerHTML = '';\n",
              "          dataTable['output_type'] = 'display_data';\n",
              "          await google.colab.output.renderOutput(dataTable, element);\n",
              "          const docLink = document.createElement('div');\n",
              "          docLink.innerHTML = docLinkHtml;\n",
              "          element.appendChild(docLink);\n",
              "        }\n",
              "      </script>\n",
              "    </div>\n",
              "  </div>\n",
              "  "
            ],
            "text/plain": [
              "              image  clusterid\n",
              "82    urso (8).jfif          0\n",
              "24  touro (12).jfif          1\n",
              "91    urso (4).jfif          0\n",
              "22   urso (42).jfif          0\n",
              "48   urso (27).jfif          0\n",
              "90   urso (26).jfif          0\n",
              "61   urso (46).jfif          0\n",
              "23   urso (49).jfif          0\n",
              "65   touro (2).jfif          1\n",
              "15  touro (34).jfif          1"
            ]
          },
          "metadata": {},
          "execution_count": 44
        }
      ]
    },
    {
      "cell_type": "code",
      "source": [
        "quantity_of_objects_0 = images_cluster[images_cluster.clusterid == 0].shape[0]\n",
        "quantity_of_objects_1 = images_cluster[images_cluster.clusterid == 1].shape[0]\n",
        "\n",
        "print(f'Quantidade de ursos encontrados: {quantity_of_objects_0}')\n",
        "print(f'Quantidade de touros encontrados: {quantity_of_objects_1}')"
      ],
      "metadata": {
        "colab": {
          "base_uri": "https://localhost:8080/"
        },
        "id": "BVj4mY_WepkT",
        "outputId": "1b0166f2-f596-45ea-9994-c6ad409f0bb5"
      },
      "execution_count": 45,
      "outputs": [
        {
          "output_type": "stream",
          "name": "stdout",
          "text": [
            "Quantidade de ursos encontrados: 49\n",
            "Quantidade de touros encontrados: 51\n"
          ]
        }
      ]
    },
    {
      "cell_type": "code",
      "source": [
        "# Criando dois diretórios: urso - para colocarmos as imagens de urso;\n",
        "# touro - para colocarmos as imagens de tour\n",
        "os.mkdir('touro')\n",
        "os.mkdir('urso')"
      ],
      "metadata": {
        "id": "FVNMukAeer6I"
      },
      "execution_count": 46,
      "outputs": []
    },
    {
      "cell_type": "code",
      "source": [
        "# Separando as imagens de acordo com o grupo em que o Kmeans determinou que ela\n",
        "# faz parte.\n",
        "for image_ in range(len(images_cluster)):\n",
        "    if images_cluster['clusterid'][image_] == 0:\n",
        "        shutil.copy(os.path.join(directory_path, images_cluster['image'][image_]), 'urso')\n",
        "    else:\n",
        "        shutil.copy(os.path.join(directory_path, images_cluster['image'][image_]), 'touro')"
      ],
      "metadata": {
        "id": "1-EnEy4Ee6IF"
      },
      "execution_count": 47,
      "outputs": []
    },
    {
      "cell_type": "markdown",
      "source": [
        "# Testando um dendograma"
      ],
      "metadata": {
        "id": "GQBEaG_ARuLr"
      }
    },
    {
      "cell_type": "code",
      "source": [
        "# Definição de método para criação do gráfico de dendograma\n",
        "def plot_dendogram(X, method):\n",
        "    plt.figure(figsize=(14,5))\n",
        "    dendrogram(linkage(X, method))\n",
        "    plt.show(True)"
      ],
      "metadata": {
        "id": "naBof0LiRts2"
      },
      "execution_count": 48,
      "outputs": []
    },
    {
      "cell_type": "code",
      "source": [
        "plot_dendogram(img_features_set, 'ward')"
      ],
      "metadata": {
        "colab": {
          "base_uri": "https://localhost:8080/",
          "height": 296
        },
        "id": "3c4hodYiSD2e",
        "outputId": "7b7e9db7-6c40-4a44-e226-cb130f526f03"
      },
      "execution_count": 49,
      "outputs": [
        {
          "output_type": "display_data",
          "data": {
            "image/png": "[encoded data removed]",
            "text/plain": [
              "<Figure size 1008x360 with 1 Axes>"
            ]
          },
          "metadata": {
            "needs_background": "light"
          }
        }
      ]
    },
    {
      "cell_type": "code",
      "source": [
        "df_feature_set = pd.DataFrame(img_features_set)"
      ],
      "metadata": {
        "id": "y-9neiivomhT"
      },
      "execution_count": 50,
      "outputs": []
    },
    {
      "cell_type": "code",
      "source": [
        "df_feature_set.sample(5)"
      ],
      "metadata": {
        "colab": {
          "base_uri": "https://localhost:8080/",
          "height": 299
        },
        "id": "8fYA-NtdovFJ",
        "outputId": "d240a5b6-ab13-471a-c897-05452728f86a"
      },
      "execution_count": 51,
      "outputs": [
        {
          "output_type": "execute_result",
          "data": {
            "text/html": [
              "\n",
              "  <div id=\"df-a9351991-b444-41e9-afd1-0dffe2905f5b\">\n",
              "    <div class=\"colab-df-container\">\n",
              "      <div>\n",
              "<style scoped>\n",
              "    .dataframe tbody tr th:only-of-type {\n",
              "        vertical-align: middle;\n",
              "    }\n",
              "\n",
              "    .dataframe tbody tr th {\n",
              "        vertical-align: top;\n",
              "    }\n",
              "\n",
              "    .dataframe thead th {\n",
              "        text-align: right;\n",
              "    }\n",
              "</style>\n",
              "<table border=\"1\" class=\"dataframe\">\n",
              "  <thead>\n",
              "    <tr style=\"text-align: right;\">\n",
              "      <th></th>\n",
              "      <th>0</th>\n",
              "      <th>1</th>\n",
              "      <th>2</th>\n",
              "      <th>3</th>\n",
              "      <th>4</th>\n",
              "      <th>5</th>\n",
              "      <th>6</th>\n",
              "      <th>7</th>\n",
              "      <th>8</th>\n",
              "      <th>9</th>\n",
              "      <th>10</th>\n",
              "      <th>11</th>\n",
              "      <th>12</th>\n",
              "      <th>13</th>\n",
              "      <th>14</th>\n",
              "      <th>15</th>\n",
              "      <th>16</th>\n",
              "      <th>17</th>\n",
              "      <th>18</th>\n",
              "      <th>19</th>\n",
              "      <th>20</th>\n",
              "      <th>21</th>\n",
              "      <th>22</th>\n",
              "      <th>23</th>\n",
              "      <th>24</th>\n",
              "      <th>25</th>\n",
              "      <th>26</th>\n",
              "      <th>27</th>\n",
              "      <th>28</th>\n",
              "      <th>29</th>\n",
              "      <th>30</th>\n",
              "      <th>31</th>\n",
              "      <th>32</th>\n",
              "      <th>33</th>\n",
              "      <th>34</th>\n",
              "      <th>35</th>\n",
              "      <th>36</th>\n",
              "      <th>37</th>\n",
              "      <th>38</th>\n",
              "      <th>39</th>\n",
              "      <th>...</th>\n",
              "      <th>51160</th>\n",
              "      <th>51161</th>\n",
              "      <th>51162</th>\n",
              "      <th>51163</th>\n",
              "      <th>51164</th>\n",
              "      <th>51165</th>\n",
              "      <th>51166</th>\n",
              "      <th>51167</th>\n",
              "      <th>51168</th>\n",
              "      <th>51169</th>\n",
              "      <th>51170</th>\n",
              "      <th>51171</th>\n",
              "      <th>51172</th>\n",
              "      <th>51173</th>\n",
              "      <th>51174</th>\n",
              "      <th>51175</th>\n",
              "      <th>51176</th>\n",
              "      <th>51177</th>\n",
              "      <th>51178</th>\n",
              "      <th>51179</th>\n",
              "      <th>51180</th>\n",
              "      <th>51181</th>\n",
              "      <th>51182</th>\n",
              "      <th>51183</th>\n",
              "      <th>51184</th>\n",
              "      <th>51185</th>\n",
              "      <th>51186</th>\n",
              "      <th>51187</th>\n",
              "      <th>51188</th>\n",
              "      <th>51189</th>\n",
              "      <th>51190</th>\n",
              "      <th>51191</th>\n",
              "      <th>51192</th>\n",
              "      <th>51193</th>\n",
              "      <th>51194</th>\n",
              "      <th>51195</th>\n",
              "      <th>51196</th>\n",
              "      <th>51197</th>\n",
              "      <th>51198</th>\n",
              "      <th>51199</th>\n",
              "    </tr>\n",
              "  </thead>\n",
              "  <tbody>\n",
              "    <tr>\n",
              "      <th>70</th>\n",
              "      <td>0.000000</td>\n",
              "      <td>0.000000</td>\n",
              "      <td>0.000000</td>\n",
              "      <td>0.000000</td>\n",
              "      <td>0.000000</td>\n",
              "      <td>0.000000</td>\n",
              "      <td>0.00000</td>\n",
              "      <td>0.225271</td>\n",
              "      <td>0.000000</td>\n",
              "      <td>0.000000</td>\n",
              "      <td>0.000000</td>\n",
              "      <td>0.0</td>\n",
              "      <td>0.222226</td>\n",
              "      <td>0.376862</td>\n",
              "      <td>0.000000</td>\n",
              "      <td>0.000000</td>\n",
              "      <td>0.367567</td>\n",
              "      <td>0.000000</td>\n",
              "      <td>0.000000</td>\n",
              "      <td>0.0</td>\n",
              "      <td>0.000000</td>\n",
              "      <td>0.323278</td>\n",
              "      <td>0.737406</td>\n",
              "      <td>0.131177</td>\n",
              "      <td>0.000000</td>\n",
              "      <td>0.0</td>\n",
              "      <td>0.000000</td>\n",
              "      <td>0.915974</td>\n",
              "      <td>0.000000</td>\n",
              "      <td>0.379444</td>\n",
              "      <td>0.0</td>\n",
              "      <td>1.149959</td>\n",
              "      <td>0.000000</td>\n",
              "      <td>0.000000</td>\n",
              "      <td>0.0</td>\n",
              "      <td>0.0</td>\n",
              "      <td>0.412645</td>\n",
              "      <td>0.0</td>\n",
              "      <td>0.00000</td>\n",
              "      <td>0.000000</td>\n",
              "      <td>...</td>\n",
              "      <td>0.148301</td>\n",
              "      <td>0.454005</td>\n",
              "      <td>0.000000</td>\n",
              "      <td>0.000000</td>\n",
              "      <td>1.332398</td>\n",
              "      <td>2.460375</td>\n",
              "      <td>0.000000</td>\n",
              "      <td>0.000000</td>\n",
              "      <td>1.998797</td>\n",
              "      <td>0.420175</td>\n",
              "      <td>0.969968</td>\n",
              "      <td>0.959769</td>\n",
              "      <td>0.044250</td>\n",
              "      <td>0.060513</td>\n",
              "      <td>0.000000</td>\n",
              "      <td>0.000000</td>\n",
              "      <td>0.000000</td>\n",
              "      <td>0.836351</td>\n",
              "      <td>0.000000</td>\n",
              "      <td>0.000000</td>\n",
              "      <td>0.000000</td>\n",
              "      <td>1.105841</td>\n",
              "      <td>0.676618</td>\n",
              "      <td>0.076120</td>\n",
              "      <td>0.000000</td>\n",
              "      <td>0.886070</td>\n",
              "      <td>0.000000</td>\n",
              "      <td>0.483319</td>\n",
              "      <td>1.391692</td>\n",
              "      <td>0.000000</td>\n",
              "      <td>0.000000</td>\n",
              "      <td>0.000000</td>\n",
              "      <td>1.262421</td>\n",
              "      <td>0.000000</td>\n",
              "      <td>0.000000</td>\n",
              "      <td>0.701335</td>\n",
              "      <td>1.653837</td>\n",
              "      <td>0.222679</td>\n",
              "      <td>0.000000</td>\n",
              "      <td>0.000000</td>\n",
              "    </tr>\n",
              "    <tr>\n",
              "      <th>8</th>\n",
              "      <td>0.140456</td>\n",
              "      <td>0.000000</td>\n",
              "      <td>0.000000</td>\n",
              "      <td>0.000000</td>\n",
              "      <td>0.626387</td>\n",
              "      <td>0.000000</td>\n",
              "      <td>1.51549</td>\n",
              "      <td>0.000000</td>\n",
              "      <td>0.000000</td>\n",
              "      <td>0.000000</td>\n",
              "      <td>0.000000</td>\n",
              "      <td>0.0</td>\n",
              "      <td>0.546796</td>\n",
              "      <td>0.000000</td>\n",
              "      <td>0.928932</td>\n",
              "      <td>0.000000</td>\n",
              "      <td>0.000000</td>\n",
              "      <td>0.867008</td>\n",
              "      <td>0.000000</td>\n",
              "      <td>0.0</td>\n",
              "      <td>0.000000</td>\n",
              "      <td>0.057639</td>\n",
              "      <td>0.000000</td>\n",
              "      <td>0.000000</td>\n",
              "      <td>0.000000</td>\n",
              "      <td>0.0</td>\n",
              "      <td>0.000000</td>\n",
              "      <td>0.000000</td>\n",
              "      <td>0.000000</td>\n",
              "      <td>0.099485</td>\n",
              "      <td>0.0</td>\n",
              "      <td>0.000000</td>\n",
              "      <td>0.000000</td>\n",
              "      <td>0.710929</td>\n",
              "      <td>0.0</td>\n",
              "      <td>0.0</td>\n",
              "      <td>0.000000</td>\n",
              "      <td>0.0</td>\n",
              "      <td>1.69152</td>\n",
              "      <td>0.254885</td>\n",
              "      <td>...</td>\n",
              "      <td>0.000000</td>\n",
              "      <td>0.489187</td>\n",
              "      <td>0.493741</td>\n",
              "      <td>0.000000</td>\n",
              "      <td>0.000000</td>\n",
              "      <td>2.224527</td>\n",
              "      <td>0.209367</td>\n",
              "      <td>0.284624</td>\n",
              "      <td>0.542109</td>\n",
              "      <td>0.000000</td>\n",
              "      <td>1.075760</td>\n",
              "      <td>0.483322</td>\n",
              "      <td>0.000000</td>\n",
              "      <td>0.000000</td>\n",
              "      <td>0.000000</td>\n",
              "      <td>0.947290</td>\n",
              "      <td>0.440848</td>\n",
              "      <td>0.023291</td>\n",
              "      <td>0.155812</td>\n",
              "      <td>0.000000</td>\n",
              "      <td>0.000000</td>\n",
              "      <td>0.623099</td>\n",
              "      <td>0.000000</td>\n",
              "      <td>1.355516</td>\n",
              "      <td>0.729891</td>\n",
              "      <td>1.246077</td>\n",
              "      <td>0.720197</td>\n",
              "      <td>0.000000</td>\n",
              "      <td>0.000000</td>\n",
              "      <td>2.654029</td>\n",
              "      <td>0.000000</td>\n",
              "      <td>0.224442</td>\n",
              "      <td>0.000000</td>\n",
              "      <td>0.441988</td>\n",
              "      <td>0.000000</td>\n",
              "      <td>0.000000</td>\n",
              "      <td>0.000000</td>\n",
              "      <td>0.649652</td>\n",
              "      <td>0.918303</td>\n",
              "      <td>0.671140</td>\n",
              "    </tr>\n",
              "    <tr>\n",
              "      <th>74</th>\n",
              "      <td>0.000000</td>\n",
              "      <td>0.000000</td>\n",
              "      <td>0.000000</td>\n",
              "      <td>0.000000</td>\n",
              "      <td>0.000000</td>\n",
              "      <td>1.513588</td>\n",
              "      <td>0.00000</td>\n",
              "      <td>0.000000</td>\n",
              "      <td>0.943864</td>\n",
              "      <td>0.000000</td>\n",
              "      <td>0.000000</td>\n",
              "      <td>0.0</td>\n",
              "      <td>0.000000</td>\n",
              "      <td>0.000000</td>\n",
              "      <td>0.000000</td>\n",
              "      <td>0.000000</td>\n",
              "      <td>1.642321</td>\n",
              "      <td>0.000000</td>\n",
              "      <td>0.000000</td>\n",
              "      <td>0.0</td>\n",
              "      <td>0.000000</td>\n",
              "      <td>0.000000</td>\n",
              "      <td>0.000000</td>\n",
              "      <td>0.000000</td>\n",
              "      <td>0.618478</td>\n",
              "      <td>0.0</td>\n",
              "      <td>1.135541</td>\n",
              "      <td>0.405821</td>\n",
              "      <td>0.000000</td>\n",
              "      <td>0.000000</td>\n",
              "      <td>0.0</td>\n",
              "      <td>0.000000</td>\n",
              "      <td>0.665797</td>\n",
              "      <td>0.000000</td>\n",
              "      <td>0.0</td>\n",
              "      <td>0.0</td>\n",
              "      <td>0.299382</td>\n",
              "      <td>0.0</td>\n",
              "      <td>0.00000</td>\n",
              "      <td>0.000000</td>\n",
              "      <td>...</td>\n",
              "      <td>3.292939</td>\n",
              "      <td>0.000000</td>\n",
              "      <td>0.061374</td>\n",
              "      <td>0.134734</td>\n",
              "      <td>1.111890</td>\n",
              "      <td>0.000000</td>\n",
              "      <td>0.000000</td>\n",
              "      <td>0.814747</td>\n",
              "      <td>0.000000</td>\n",
              "      <td>1.230983</td>\n",
              "      <td>0.000000</td>\n",
              "      <td>0.537227</td>\n",
              "      <td>0.277494</td>\n",
              "      <td>0.618411</td>\n",
              "      <td>0.941505</td>\n",
              "      <td>0.253467</td>\n",
              "      <td>0.000000</td>\n",
              "      <td>0.000000</td>\n",
              "      <td>0.000000</td>\n",
              "      <td>3.758152</td>\n",
              "      <td>0.000000</td>\n",
              "      <td>0.039760</td>\n",
              "      <td>4.149159</td>\n",
              "      <td>0.566917</td>\n",
              "      <td>0.000000</td>\n",
              "      <td>0.000000</td>\n",
              "      <td>1.270630</td>\n",
              "      <td>0.000000</td>\n",
              "      <td>0.000000</td>\n",
              "      <td>0.000000</td>\n",
              "      <td>0.384028</td>\n",
              "      <td>0.000000</td>\n",
              "      <td>3.468291</td>\n",
              "      <td>0.833147</td>\n",
              "      <td>0.120591</td>\n",
              "      <td>1.095182</td>\n",
              "      <td>0.000000</td>\n",
              "      <td>0.000000</td>\n",
              "      <td>1.501164</td>\n",
              "      <td>0.995596</td>\n",
              "    </tr>\n",
              "    <tr>\n",
              "      <th>27</th>\n",
              "      <td>0.000000</td>\n",
              "      <td>0.381697</td>\n",
              "      <td>0.146933</td>\n",
              "      <td>0.000000</td>\n",
              "      <td>0.000000</td>\n",
              "      <td>0.145311</td>\n",
              "      <td>0.00000</td>\n",
              "      <td>0.000000</td>\n",
              "      <td>0.010580</td>\n",
              "      <td>0.000000</td>\n",
              "      <td>0.548814</td>\n",
              "      <td>0.0</td>\n",
              "      <td>0.000000</td>\n",
              "      <td>0.000000</td>\n",
              "      <td>0.000000</td>\n",
              "      <td>0.251183</td>\n",
              "      <td>0.000000</td>\n",
              "      <td>0.055659</td>\n",
              "      <td>0.000000</td>\n",
              "      <td>0.0</td>\n",
              "      <td>0.023625</td>\n",
              "      <td>0.000000</td>\n",
              "      <td>0.026709</td>\n",
              "      <td>0.000000</td>\n",
              "      <td>0.000000</td>\n",
              "      <td>0.0</td>\n",
              "      <td>0.000000</td>\n",
              "      <td>0.000000</td>\n",
              "      <td>0.179541</td>\n",
              "      <td>0.000000</td>\n",
              "      <td>0.0</td>\n",
              "      <td>0.000000</td>\n",
              "      <td>0.223147</td>\n",
              "      <td>0.044473</td>\n",
              "      <td>0.0</td>\n",
              "      <td>0.0</td>\n",
              "      <td>0.649419</td>\n",
              "      <td>0.0</td>\n",
              "      <td>0.00000</td>\n",
              "      <td>0.000000</td>\n",
              "      <td>...</td>\n",
              "      <td>0.000000</td>\n",
              "      <td>1.427956</td>\n",
              "      <td>0.499900</td>\n",
              "      <td>0.055564</td>\n",
              "      <td>0.000000</td>\n",
              "      <td>0.638232</td>\n",
              "      <td>0.478668</td>\n",
              "      <td>0.000000</td>\n",
              "      <td>0.000000</td>\n",
              "      <td>0.000000</td>\n",
              "      <td>1.551102</td>\n",
              "      <td>0.298356</td>\n",
              "      <td>0.205486</td>\n",
              "      <td>0.000000</td>\n",
              "      <td>0.867397</td>\n",
              "      <td>0.000000</td>\n",
              "      <td>0.075664</td>\n",
              "      <td>0.000000</td>\n",
              "      <td>0.000000</td>\n",
              "      <td>0.048066</td>\n",
              "      <td>0.383822</td>\n",
              "      <td>0.152987</td>\n",
              "      <td>0.248073</td>\n",
              "      <td>0.165568</td>\n",
              "      <td>0.000000</td>\n",
              "      <td>0.747248</td>\n",
              "      <td>0.000000</td>\n",
              "      <td>0.000000</td>\n",
              "      <td>0.003380</td>\n",
              "      <td>0.971678</td>\n",
              "      <td>0.000000</td>\n",
              "      <td>0.000000</td>\n",
              "      <td>0.000000</td>\n",
              "      <td>0.000000</td>\n",
              "      <td>0.000000</td>\n",
              "      <td>0.000000</td>\n",
              "      <td>0.000000</td>\n",
              "      <td>0.580380</td>\n",
              "      <td>0.019916</td>\n",
              "      <td>0.200726</td>\n",
              "    </tr>\n",
              "    <tr>\n",
              "      <th>12</th>\n",
              "      <td>0.000000</td>\n",
              "      <td>0.000000</td>\n",
              "      <td>0.000000</td>\n",
              "      <td>0.143428</td>\n",
              "      <td>0.440616</td>\n",
              "      <td>0.893238</td>\n",
              "      <td>0.00000</td>\n",
              "      <td>0.000000</td>\n",
              "      <td>0.000000</td>\n",
              "      <td>0.576469</td>\n",
              "      <td>0.312323</td>\n",
              "      <td>0.0</td>\n",
              "      <td>0.000000</td>\n",
              "      <td>0.474461</td>\n",
              "      <td>0.000000</td>\n",
              "      <td>0.055566</td>\n",
              "      <td>0.327459</td>\n",
              "      <td>0.003799</td>\n",
              "      <td>0.626972</td>\n",
              "      <td>0.0</td>\n",
              "      <td>0.000000</td>\n",
              "      <td>1.331030</td>\n",
              "      <td>0.150072</td>\n",
              "      <td>0.348522</td>\n",
              "      <td>0.596560</td>\n",
              "      <td>0.0</td>\n",
              "      <td>0.424643</td>\n",
              "      <td>0.843048</td>\n",
              "      <td>0.000000</td>\n",
              "      <td>0.000000</td>\n",
              "      <td>0.0</td>\n",
              "      <td>1.413152</td>\n",
              "      <td>0.000000</td>\n",
              "      <td>0.255369</td>\n",
              "      <td>0.0</td>\n",
              "      <td>0.0</td>\n",
              "      <td>0.056503</td>\n",
              "      <td>0.0</td>\n",
              "      <td>0.00000</td>\n",
              "      <td>0.000000</td>\n",
              "      <td>...</td>\n",
              "      <td>0.269225</td>\n",
              "      <td>1.403347</td>\n",
              "      <td>0.883016</td>\n",
              "      <td>0.000000</td>\n",
              "      <td>0.000000</td>\n",
              "      <td>0.000000</td>\n",
              "      <td>2.201662</td>\n",
              "      <td>0.081098</td>\n",
              "      <td>0.000000</td>\n",
              "      <td>1.211789</td>\n",
              "      <td>0.968987</td>\n",
              "      <td>1.239333</td>\n",
              "      <td>0.378512</td>\n",
              "      <td>0.000000</td>\n",
              "      <td>0.000000</td>\n",
              "      <td>0.000000</td>\n",
              "      <td>0.000000</td>\n",
              "      <td>0.263854</td>\n",
              "      <td>1.353266</td>\n",
              "      <td>0.052198</td>\n",
              "      <td>0.000000</td>\n",
              "      <td>0.000000</td>\n",
              "      <td>0.588477</td>\n",
              "      <td>0.000000</td>\n",
              "      <td>0.328916</td>\n",
              "      <td>1.457618</td>\n",
              "      <td>0.000000</td>\n",
              "      <td>0.000000</td>\n",
              "      <td>2.315670</td>\n",
              "      <td>0.000000</td>\n",
              "      <td>1.308478</td>\n",
              "      <td>0.784351</td>\n",
              "      <td>0.000000</td>\n",
              "      <td>0.000000</td>\n",
              "      <td>0.172526</td>\n",
              "      <td>0.403737</td>\n",
              "      <td>0.000000</td>\n",
              "      <td>0.000000</td>\n",
              "      <td>1.626977</td>\n",
              "      <td>0.964966</td>\n",
              "    </tr>\n",
              "  </tbody>\n",
              "</table>\n",
              "<p>5 rows × 51200 columns</p>\n",
              "</div>\n",
              "      <button class=\"colab-df-convert\" onclick=\"convertToInteractive('df-a9351991-b444-41e9-afd1-0dffe2905f5b')\"\n",
              "              title=\"Convert this dataframe to an interactive table.\"\n",
              "              style=\"display:none;\">\n",
              "        \n",
              "  <svg xmlns=\"http://www.w3.org/2000/svg\" height=\"24px\"viewBox=\"0 0 24 24\"\n",
              "       width=\"24px\">\n",
              "    <path d=\"M0 0h24v24H0V0z\" fill=\"none\"/>\n",
              "    <path d=\"M18.56 5.44l.94 2.06.94-2.06 2.06-.94-2.06-.94-.94-2.06-.94 2.06-2.06.94zm-11 1L8.5 8.5l.94-2.06 2.06-.94-2.06-.94L8.5 2.5l-.94 2.06-2.06.94zm10 10l.94 2.06.94-2.06 2.06-.94-2.06-.94-.94-2.06-.94 2.06-2.06.94z\"/><path d=\"M17.41 7.96l-1.37-1.37c-.4-.4-.92-.59-1.43-.59-.52 0-1.04.2-1.43.59L10.3 9.45l-7.72 7.72c-.78.78-.78 2.05 0 2.83L4 21.41c.39.39.9.59 1.41.59.51 0 1.02-.2 1.41-.59l7.78-7.78 2.81-2.81c.8-.78.8-2.07 0-2.86zM5.41 20L4 18.59l7.72-7.72 1.47 1.35L5.41 20z\"/>\n",
              "  </svg>\n",
              "      </button>\n",
              "      \n",
              "  <style>\n",
              "    .colab-df-container {\n",
              "      display:flex;\n",
              "      flex-wrap:wrap;\n",
              "      gap: 12px;\n",
              "    }\n",
              "\n",
              "    .colab-df-convert {\n",
              "      background-color: #E8F0FE;\n",
              "      border: none;\n",
              "      border-radius: 50%;\n",
              "      cursor: pointer;\n",
              "      display: none;\n",
              "      fill: #1967D2;\n",
              "      height: 32px;\n",
              "      padding: 0 0 0 0;\n",
              "      width: 32px;\n",
              "    }\n",
              "\n",
              "    .colab-df-convert:hover {\n",
              "      background-color: #E2EBFA;\n",
              "      box-shadow: 0px 1px 2px rgba(60, 64, 67, 0.3), 0px 1px 3px 1px rgba(60, 64, 67, 0.15);\n",
              "      fill: #174EA6;\n",
              "    }\n",
              "\n",
              "    [theme=dark] .colab-df-convert {\n",
              "      background-color: #3B4455;\n",
              "      fill: #D2E3FC;\n",
              "    }\n",
              "\n",
              "    [theme=dark] .colab-df-convert:hover {\n",
              "      background-color: #434B5C;\n",
              "      box-shadow: 0px 1px 3px 1px rgba(0, 0, 0, 0.15);\n",
              "      filter: drop-shadow(0px 1px 2px rgba(0, 0, 0, 0.3));\n",
              "      fill: #FFFFFF;\n",
              "    }\n",
              "  </style>\n",
              "\n",
              "      <script>\n",
              "        const buttonEl =\n",
              "          document.querySelector('#df-a9351991-b444-41e9-afd1-0dffe2905f5b button.colab-df-convert');\n",
              "        buttonEl.style.display =\n",
              "          google.colab.kernel.accessAllowed ? 'block' : 'none';\n",
              "\n",
              "        async function convertToInteractive(key) {\n",
              "          const element = document.querySelector('#df-a9351991-b444-41e9-afd1-0dffe2905f5b');\n",
              "          const dataTable =\n",
              "            await google.colab.kernel.invokeFunction('convertToInteractive',\n",
              "                                                     [key], {});\n",
              "          if (!dataTable) return;\n",
              "\n",
              "          const docLinkHtml = 'Like what you see? Visit the ' +\n",
              "            '<a target=\"_blank\" href=https://colab.research.google.com/notebooks/data_table.ipynb>data table notebook</a>'\n",
              "            + ' to learn more about interactive tables.';\n",
              "          element.innerHTML = '';\n",
              "          dataTable['output_type'] = 'display_data';\n",
              "          await google.colab.output.renderOutput(dataTable, element);\n",
              "          const docLink = document.createElement('div');\n",
              "          docLink.innerHTML = docLinkHtml;\n",
              "          element.appendChild(docLink);\n",
              "        }\n",
              "      </script>\n",
              "    </div>\n",
              "  </div>\n",
              "  "
            ],
            "text/plain": [
              "       0         1         2      ...     51197     51198     51199\n",
              "70  0.000000  0.000000  0.000000  ...  0.222679  0.000000  0.000000\n",
              "8   0.140456  0.000000  0.000000  ...  0.649652  0.918303  0.671140\n",
              "74  0.000000  0.000000  0.000000  ...  0.000000  1.501164  0.995596\n",
              "27  0.000000  0.381697  0.146933  ...  0.580380  0.019916  0.200726\n",
              "12  0.000000  0.000000  0.000000  ...  0.000000  1.626977  0.964966\n",
              "\n",
              "[5 rows x 51200 columns]"
            ]
          },
          "metadata": {},
          "execution_count": 51
        }
      ]
    },
    {
      "cell_type": "markdown",
      "source": [
        "# Analisando dados com uso do PCA\n"
      ],
      "metadata": {
        "id": "D6Ofii3YoMUR"
      }
    },
    {
      "cell_type": "code",
      "source": [
        "n_components_values =  np.arange(1, min(df_feature_set.shape[0] + 1, len(df_feature_set.columns) + 1))\n",
        "\n",
        "# Vamos padronizar os dados, de modo a evitar o efeito da escala dos atributos.\n",
        "scaler = StandardScaler().fit(df_feature_set)\n",
        "df_features_transformed = scaler.transform(df_feature_set)\n",
        "\n",
        "# instanciamos o PCA sem especificar o numero de componentes que desejamos\n",
        "# em seguida ajustamos ao nosso conjunto de dados\n",
        "pca = PCA().fit(df_features_transformed)\n",
        "\n",
        "# mostra a variância acumulada para todos os possiveis numeros de componentes\n",
        "# Notamos que com apenas duas variaveis conseguimos explicar 95% da variancia dos dados\n",
        "\n",
        "plt.figure(figsize=(8, 5))\n",
        "plt.plot(n_components_values, np.cumsum(pca.explained_variance_ratio_), 'ro-')\n",
        "plt.xlabel('number of components', fontsize=20)\n",
        "plt.ylabel('cumulative explained variance', fontsize=20);\n",
        "plt.xticks(color='k', size=16)\n",
        "plt.yticks(color='k', size=16)\n",
        "plt.grid(True)\n",
        "plt.show(True)"
      ],
      "metadata": {
        "colab": {
          "base_uri": "https://localhost:8080/",
          "height": 366
        },
        "id": "RxZBSIAhoP8p",
        "outputId": "4ca56a7e-eb9f-429c-db53-6dc1d38206de"
      },
      "execution_count": 52,
      "outputs": [
        {
          "output_type": "display_data",
          "data": {
            "image/png": "[encoded data removed]",
            "text/plain": [
              "<Figure size 576x360 with 1 Axes>"
            ]
          },
          "metadata": {
            "needs_background": "light"
          }
        }
      ]
    },
    {
      "cell_type": "markdown",
      "source": [
        "## Utilizando somente as 80 primeiras componentes do PCA no K-means"
      ],
      "metadata": {
        "id": "ssU4BHTnrIv6"
      }
    },
    {
      "cell_type": "code",
      "source": [
        "# Vamos padronizar os dados, de modo a evitar o efeito da escala dos atributos.\n",
        "scaler = StandardScaler().fit(df_feature_set)\n",
        "df_features_transformed = scaler.transform(df_feature_set)\n",
        "\n",
        "# instanciamos o PCA sem especificar o numero de componentes que desejamos\n",
        "# em seguida ajustamos ao nosso conjunto de dados\n",
        "pca = PCA(n_components=80).fit(df_features_transformed)"
      ],
      "metadata": {
        "id": "sjkk5kKZrIWs"
      },
      "execution_count": 53,
      "outputs": []
    },
    {
      "cell_type": "code",
      "source": [
        "features_set_transformed = pca.transform(df_feature_set)"
      ],
      "metadata": {
        "id": "dhC3XETzr6Hh"
      },
      "execution_count": 54,
      "outputs": []
    },
    {
      "cell_type": "markdown",
      "source": [
        "# Aplicando o novo conjunto transformado no K-means"
      ],
      "metadata": {
        "id": "33BBxTAEsP0b"
      }
    },
    {
      "cell_type": "code",
      "source": [
        "# Criando um modelo utilizando a técnica de agrupamento K-means\n",
        "\n",
        "# Definindo o valor de k\n",
        "k = 2\n",
        "\n",
        "# Instanciando o modelo\n",
        "clusters = KMeans(k, random_state = 40)\n",
        "\n",
        "# Treinando o modelo\n",
        "clusters.fit(features_set_transformed)"
      ],
      "metadata": {
        "colab": {
          "base_uri": "https://localhost:8080/"
        },
        "id": "aB7AlPEXsLIx",
        "outputId": "40a0560a-c1c2-422a-e9d6-12a774e82c78"
      },
      "execution_count": 55,
      "outputs": [
        {
          "output_type": "execute_result",
          "data": {
            "text/plain": [
              "KMeans(n_clusters=2, random_state=40)"
            ]
          },
          "metadata": {},
          "execution_count": 55
        }
      ]
    },
    {
      "cell_type": "code",
      "source": [
        "# Atualizando a coluna correspondente aos clusters encontrados\n",
        "images_cluster[\"clusterid\"] = clusters.labels_"
      ],
      "metadata": {
        "id": "KhR_SApZsmmv"
      },
      "execution_count": 56,
      "outputs": []
    },
    {
      "cell_type": "code",
      "source": [
        "# 0 equivale a urso e 1 equivale a touro\n",
        "images_cluster.sample(10)"
      ],
      "metadata": {
        "colab": {
          "base_uri": "https://localhost:8080/",
          "height": 363
        },
        "id": "u0uAs4XkstBZ",
        "outputId": "6b200792-9ca0-4343-8c9f-503e3f023bbc"
      },
      "execution_count": 57,
      "outputs": [
        {
          "output_type": "execute_result",
          "data": {
            "text/html": [
              "\n",
              "  <div id=\"df-48b58c6d-020f-48e3-a603-0d902cde84b6\">\n",
              "    <div class=\"colab-df-container\">\n",
              "      <div>\n",
              "<style scoped>\n",
              "    .dataframe tbody tr th:only-of-type {\n",
              "        vertical-align: middle;\n",
              "    }\n",
              "\n",
              "    .dataframe tbody tr th {\n",
              "        vertical-align: top;\n",
              "    }\n",
              "\n",
              "    .dataframe thead th {\n",
              "        text-align: right;\n",
              "    }\n",
              "</style>\n",
              "<table border=\"1\" class=\"dataframe\">\n",
              "  <thead>\n",
              "    <tr style=\"text-align: right;\">\n",
              "      <th></th>\n",
              "      <th>image</th>\n",
              "      <th>clusterid</th>\n",
              "    </tr>\n",
              "  </thead>\n",
              "  <tbody>\n",
              "    <tr>\n",
              "      <th>45</th>\n",
              "      <td>urso (47).jfif</td>\n",
              "      <td>0</td>\n",
              "    </tr>\n",
              "    <tr>\n",
              "      <th>29</th>\n",
              "      <td>touro (47).jfif</td>\n",
              "      <td>1</td>\n",
              "    </tr>\n",
              "    <tr>\n",
              "      <th>71</th>\n",
              "      <td>touro (28).jfif</td>\n",
              "      <td>1</td>\n",
              "    </tr>\n",
              "    <tr>\n",
              "      <th>95</th>\n",
              "      <td>urso (36).jfif</td>\n",
              "      <td>0</td>\n",
              "    </tr>\n",
              "    <tr>\n",
              "      <th>0</th>\n",
              "      <td>touro (20).jfif</td>\n",
              "      <td>1</td>\n",
              "    </tr>\n",
              "    <tr>\n",
              "      <th>38</th>\n",
              "      <td>urso (39).jfif</td>\n",
              "      <td>0</td>\n",
              "    </tr>\n",
              "    <tr>\n",
              "      <th>69</th>\n",
              "      <td>touro (31).jfif</td>\n",
              "      <td>1</td>\n",
              "    </tr>\n",
              "    <tr>\n",
              "      <th>44</th>\n",
              "      <td>touro (45).jfif</td>\n",
              "      <td>1</td>\n",
              "    </tr>\n",
              "    <tr>\n",
              "      <th>11</th>\n",
              "      <td>urso (1).jfif</td>\n",
              "      <td>0</td>\n",
              "    </tr>\n",
              "    <tr>\n",
              "      <th>36</th>\n",
              "      <td>urso (14).jfif</td>\n",
              "      <td>0</td>\n",
              "    </tr>\n",
              "  </tbody>\n",
              "</table>\n",
              "</div>\n",
              "      <button class=\"colab-df-convert\" onclick=\"convertToInteractive('df-48b58c6d-020f-48e3-a603-0d902cde84b6')\"\n",
              "              title=\"Convert this dataframe to an interactive table.\"\n",
              "              style=\"display:none;\">\n",
              "        \n",
              "  <svg xmlns=\"http://www.w3.org/2000/svg\" height=\"24px\"viewBox=\"0 0 24 24\"\n",
              "       width=\"24px\">\n",
              "    <path d=\"M0 0h24v24H0V0z\" fill=\"none\"/>\n",
              "    <path d=\"M18.56 5.44l.94 2.06.94-2.06 2.06-.94-2.06-.94-.94-2.06-.94 2.06-2.06.94zm-11 1L8.5 8.5l.94-2.06 2.06-.94-2.06-.94L8.5 2.5l-.94 2.06-2.06.94zm10 10l.94 2.06.94-2.06 2.06-.94-2.06-.94-.94-2.06-.94 2.06-2.06.94z\"/><path d=\"M17.41 7.96l-1.37-1.37c-.4-.4-.92-.59-1.43-.59-.52 0-1.04.2-1.43.59L10.3 9.45l-7.72 7.72c-.78.78-.78 2.05 0 2.83L4 21.41c.39.39.9.59 1.41.59.51 0 1.02-.2 1.41-.59l7.78-7.78 2.81-2.81c.8-.78.8-2.07 0-2.86zM5.41 20L4 18.59l7.72-7.72 1.47 1.35L5.41 20z\"/>\n",
              "  </svg>\n",
              "      </button>\n",
              "      \n",
              "  <style>\n",
              "    .colab-df-container {\n",
              "      display:flex;\n",
              "      flex-wrap:wrap;\n",
              "      gap: 12px;\n",
              "    }\n",
              "\n",
              "    .colab-df-convert {\n",
              "      background-color: #E8F0FE;\n",
              "      border: none;\n",
              "      border-radius: 50%;\n",
              "      cursor: pointer;\n",
              "      display: none;\n",
              "      fill: #1967D2;\n",
              "      height: 32px;\n",
              "      padding: 0 0 0 0;\n",
              "      width: 32px;\n",
              "    }\n",
              "\n",
              "    .colab-df-convert:hover {\n",
              "      background-color: #E2EBFA;\n",
              "      box-shadow: 0px 1px 2px rgba(60, 64, 67, 0.3), 0px 1px 3px 1px rgba(60, 64, 67, 0.15);\n",
              "      fill: #174EA6;\n",
              "    }\n",
              "\n",
              "    [theme=dark] .colab-df-convert {\n",
              "      background-color: #3B4455;\n",
              "      fill: #D2E3FC;\n",
              "    }\n",
              "\n",
              "    [theme=dark] .colab-df-convert:hover {\n",
              "      background-color: #434B5C;\n",
              "      box-shadow: 0px 1px 3px 1px rgba(0, 0, 0, 0.15);\n",
              "      filter: drop-shadow(0px 1px 2px rgba(0, 0, 0, 0.3));\n",
              "      fill: #FFFFFF;\n",
              "    }\n",
              "  </style>\n",
              "\n",
              "      <script>\n",
              "        const buttonEl =\n",
              "          document.querySelector('#df-48b58c6d-020f-48e3-a603-0d902cde84b6 button.colab-df-convert');\n",
              "        buttonEl.style.display =\n",
              "          google.colab.kernel.accessAllowed ? 'block' : 'none';\n",
              "\n",
              "        async function convertToInteractive(key) {\n",
              "          const element = document.querySelector('#df-48b58c6d-020f-48e3-a603-0d902cde84b6');\n",
              "          const dataTable =\n",
              "            await google.colab.kernel.invokeFunction('convertToInteractive',\n",
              "                                                     [key], {});\n",
              "          if (!dataTable) return;\n",
              "\n",
              "          const docLinkHtml = 'Like what you see? Visit the ' +\n",
              "            '<a target=\"_blank\" href=https://colab.research.google.com/notebooks/data_table.ipynb>data table notebook</a>'\n",
              "            + ' to learn more about interactive tables.';\n",
              "          element.innerHTML = '';\n",
              "          dataTable['output_type'] = 'display_data';\n",
              "          await google.colab.output.renderOutput(dataTable, element);\n",
              "          const docLink = document.createElement('div');\n",
              "          docLink.innerHTML = docLinkHtml;\n",
              "          element.appendChild(docLink);\n",
              "        }\n",
              "      </script>\n",
              "    </div>\n",
              "  </div>\n",
              "  "
            ],
            "text/plain": [
              "              image  clusterid\n",
              "45   urso (47).jfif          0\n",
              "29  touro (47).jfif          1\n",
              "71  touro (28).jfif          1\n",
              "95   urso (36).jfif          0\n",
              "0   touro (20).jfif          1\n",
              "38   urso (39).jfif          0\n",
              "69  touro (31).jfif          1\n",
              "44  touro (45).jfif          1\n",
              "11    urso (1).jfif          0\n",
              "36   urso (14).jfif          0"
            ]
          },
          "metadata": {},
          "execution_count": 57
        }
      ]
    },
    {
      "cell_type": "code",
      "source": [
        "quantity_of_objects_0 = images_cluster[images_cluster.clusterid == 0].shape[0]\n",
        "quantity_of_objects_1 = images_cluster[images_cluster.clusterid == 1].shape[0]\n",
        "\n",
        "print(f'Quantidade de ursos encontrados: {quantity_of_objects_0}')\n",
        "print(f'Quantidade de touros encontrados: {quantity_of_objects_1}')"
      ],
      "metadata": {
        "colab": {
          "base_uri": "https://localhost:8080/"
        },
        "id": "9MTdFWzZsyr6",
        "outputId": "0905a9e2-e878-4b82-8a02-a48abd3f6284"
      },
      "execution_count": 58,
      "outputs": [
        {
          "output_type": "stream",
          "name": "stdout",
          "text": [
            "Quantidade de ursos encontrados: 49\n",
            "Quantidade de touros encontrados: 51\n"
          ]
        }
      ]
    },
    {
      "cell_type": "code",
      "source": [
        "# Criando dois diretórios: urso_2 - para colocarmos as imagens de urso;\n",
        "# touro_2 - para colocarmos as imagens de tour\n",
        "os.mkdir('touro_2')\n",
        "os.mkdir('urso_2')\n",
        "\n",
        "# Separando as imagens de acordo com o grupo em que o Kmeans determinou que ela\n",
        "# faz parte.\n",
        "for image_ in range(len(images_cluster)):\n",
        "    if images_cluster['clusterid'][image_] == 0:\n",
        "        shutil.copy(os.path.join(directory_path, images_cluster['image'][image_]), 'urso_2')\n",
        "    else:\n",
        "        shutil.copy(os.path.join(directory_path, images_cluster['image'][image_]), 'touro_2')"
      ],
      "metadata": {
        "id": "odFM1pkJs69J"
      },
      "execution_count": 59,
      "outputs": []
    },
    {
      "cell_type": "code",
      "source": [
        "plot_dendogram(features_set_transformed, 'ward')"
      ],
      "metadata": {
        "colab": {
          "base_uri": "https://localhost:8080/",
          "height": 296
        },
        "id": "wtPNlysPribA",
        "outputId": "066b20f0-5ad8-4dbb-81ca-05362eb971e8"
      },
      "execution_count": 60,
      "outputs": [
        {
          "output_type": "display_data",
          "data": {
            "image/png": "[encoded data removed]",
            "text/plain": [
              "<Figure size 1008x360 with 1 Axes>"
            ]
          },
          "metadata": {
            "needs_background": "light"
          }
        }
      ]
    },
    {
      "cell_type": "markdown",
      "source": [
        "# Métodos extras"
      ],
      "metadata": {
        "id": "UXtlGYa4b4k3"
      }
    },
    {
      "cell_type": "code",
      "source": [
        "# Cria o plot do cotovelo. \n",
        "# Aqui a implementação considera somente o KMeans, mas o método indepente de modelo.\n",
        "# Para tornar essa função genérica é necessário criar uma função para calcular o WCSS.\n",
        "def plot_elbow_curve(X, k_list):\n",
        "    wcss = []\n",
        "    \n",
        "    for k in k_list: \n",
        "        kmeans = KMeans(n_clusters=k)\n",
        "        labels_pred = kmeans.fit_predict(X)\n",
        "        wcss.append(kmeans.inertia_)\n",
        "\n",
        "    plt.figure(figsize=(8,6))\n",
        "    plt.plot(k_list, wcss, '-bo')\n",
        "    plt.xlabel('k')\n",
        "    plt.ylabel('WCSS')\n",
        "    plt.title('Elbow Curve')\n",
        "    plt.show(True)\n",
        "\n",
        "\n",
        "# Cria o plot de normalized mutual information\n",
        "def plot_nmi_curve(model, k_list, X, labels, plot_fmt, plot_label, average_method='arithmetic'):\n",
        "    nmi = []\n",
        "    for k in k_list:\n",
        "        model.set_params(n_clusters=k)\n",
        "        labels_pred = model.fit_predict(X)\n",
        "        nmi.append(normalized_mutual_info_score(labels_pred, labels, average_method=average_method))\n",
        "\n",
        "    plt.plot(k_list, nmi, plot_fmt, label=plot_label)\n",
        "    plt.xlabel('k', fontsize = 15)\n",
        "    plt.ylabel('Normalized Mutual information', fontsize = 15)\n",
        "    plt.grid(True)\n",
        "    plt.legend()"
      ],
      "metadata": {
        "id": "c9QXsgVpb-I6"
      },
      "execution_count": 27,
      "outputs": []
    },
    {
      "cell_type": "markdown",
      "source": [
        "##### Comandos extras para unix"
      ],
      "metadata": {
        "id": "cpM_5e39ojZo"
      }
    },
    {
      "cell_type": "code",
      "source": [
        "# Zipping directory\n",
        "#!zip dados_cluster.zip dados_cluster\n",
        "#!zip -r urso.zip urso\n",
        "#!zip -r touro.zip touro"
      ],
      "metadata": {
        "id": "SOnxs0xNe7C3"
      },
      "execution_count": 28,
      "outputs": []
    },
    {
      "cell_type": "code",
      "source": [
        "# Unzipping directory\n",
        "#!unzip dados_cluster.zip"
      ],
      "metadata": {
        "id": "6glX9d1afKYw"
      },
      "execution_count": 29,
      "outputs": []
    },
    {
      "cell_type": "code",
      "source": [
        "# Removendo pastas\n",
        "#shutil.rmtree('touro_2')"
      ],
      "metadata": {
        "id": "t19CSqgWgUF-"
      },
      "execution_count": 35,
      "outputs": []
    },
    {
      "cell_type": "markdown",
      "source": [
        "## Material base - utilizado como referência\n",
        "* [InceptionV3](https://keras.io/api/applications/inceptionv3/)\n",
        "* [ImageNet](https://www.image-net.org/)\n",
        "* [Image Clustering Using k-Means](https://towardsdatascience.com/image-clustering-using-k-means-4a78478d2b83)\n",
        "* [Scikit Learn](https://scikit-learn.org/stable/index.html)\n",
        "* Todas as imagens foram extraídas do Google Images, utilizando as buscas \"touro\" e \"urso\""
      ],
      "metadata": {
        "id": "8YEssM3PV5VW"
      }
    },
    {
      "cell_type": "code",
      "source": [
        ""
      ],
      "metadata": {
        "id": "h5D2xF-btTNn"
      },
      "execution_count": 30,
      "outputs": []
    }
  ]
}