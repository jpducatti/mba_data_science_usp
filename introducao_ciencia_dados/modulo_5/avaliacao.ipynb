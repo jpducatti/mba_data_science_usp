import matplotlib.pyplot as plt
import numpy as np
from statistics import variance
import math

 