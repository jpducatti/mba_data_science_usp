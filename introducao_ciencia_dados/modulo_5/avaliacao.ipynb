{
 "cells": [
  {
   "cell_type": "code",
   "execution_count": 1,
   "metadata": {},
   "outputs": [],
   "source": [
    "import matplotlib.pyplot as plt\n",
    "import numpy as np\n",
    "from statistics import variance\n",
    "import math"
   ]
  },
  {
   "cell_type": "code",
   "execution_count": 2,
   "metadata": {},
   "outputs": [
    {
     "data": {
      "image/png": "[encoded data removed]",
      "text/plain": [
       "<Figure size 432x288 with 1 Axes>"
      ]
     },
     "metadata": {
      "needs_background": "light"
     },
     "output_type": "display_data"
    }
   ],
   "source": [
    "\n",
    "x = np.array([0, 1, 2, 3, 4, 5, 6, 7, 8, 9, 10, 11, 12, 13, 14, 15])\n",
    "y = np.array([0, 3,4,5,10,8,12,15,15,19,22,21,26,28,27,29])\n",
    "\n",
    "plt.plot(x, y, 'bo')\n",
    "plt.xlabel(\"x\", fontsize = 15)\n",
    "plt.ylabel(\"y\", fontsize = 15)\n",
    "plt.show(True) "
   ]
  },
  {
   "cell_type": "code",
   "execution_count": 3,
   "metadata": {},
   "outputs": [],
   "source": [
    "from statistics import variance \n",
    "import math \n",
    "\n",
    "def linear_regression(x, y): \n",
    "    # número de observações/pontos\n",
    "    n = np.size(x) \n",
    "  \n",
    "    # médias de x e y\n",
    "    m_x, m_y = np.mean(x), np.mean(y) \n",
    "    SS_xy = 0\n",
    "    SS_xx = 0\n",
    "    for i in range(0,len(x)):\n",
    "        SS_xy = SS_xy + (x[i]-m_x)*(y[i]-m_y)\n",
    "        SS_xx = SS_xx + (x[i]-m_x)**2\n",
    "  \n",
    "    # calcula os coeficientes de regressão\n",
    "    b_1 = SS_xy / SS_xx \n",
    "    b_0 = m_y - b_1*m_x \n",
    "  \n",
    "    return (b_0, b_1) \n",
    "\n",
    "# função para mostrar os dados e o ajuste linear\n",
    "def plot_regression_line(x, y, b): \n",
    "    # mostra os dados\n",
    "    plt.scatter(x, y, color = \"b\", marker = \"o\", s = 50) \n",
    "  \n",
    "    # prediz os valores\n",
    "    y_pred = b[0] + b[1]*x \n",
    "  \n",
    "    # mostra a reta de regressão\n",
    "    plt.plot(x, y_pred, color = \"r\") \n",
    "  \n",
    "    plt.xlabel('x', fontsize = 15) \n",
    "    plt.ylabel('y', fontsize = 15) \n",
    "    plt.show(True) "
   ]
  },
  {
   "cell_type": "code",
   "execution_count": 4,
   "metadata": {},
   "outputs": [
    {
     "name": "stdout",
     "output_type": "stream",
     "text": [
      "Estimated coefficients:\n",
      "b_0 = 0.16176470588235325  \n",
      "b_1 = 2.011764705882353\n"
     ]
    },
    {
     "data": {
      "image/png": "[encoded data removed]",
      "text/plain": [
       "<Figure size 432x288 with 1 Axes>"
      ]
     },
     "metadata": {
      "needs_background": "light"
     },
     "output_type": "display_data"
    }
   ],
   "source": [
    "import numpy as np\n",
    "\n",
    "# estima os coeficientes\n",
    "b = linear_regression(x, y) \n",
    "print(\"Estimated coefficients:\\nb_0 = {}  \\nb_1 = {}\".format(b[0], b[1])) \n",
    "  \n",
    "# mostra o ajuste linear\n",
    "plot_regression_line(x, y, b) "
   ]
  },
  {
   "cell_type": "code",
   "execution_count": 5,
   "metadata": {},
   "outputs": [
    {
     "name": "stdout",
     "output_type": "stream",
     "text": [
      "R2: 0.9807890654479896\n"
     ]
    }
   ],
   "source": [
    "def R2(x,y,b):\n",
    "    n = len(y)\n",
    "    c1 = 0\n",
    "    c2 = 0\n",
    "    ym = np.mean(y)\n",
    "    for i in range(0,n):\n",
    "        y_pred = b[0]+ x[i]*b[1] # valor predito\n",
    "        c1 = c1 + (y[i]-y_pred)**2\n",
    "        c2 = c2 + (y[i]-ym)**2\n",
    "    R2 = 1 - c1/c2\n",
    "    return R2\n",
    "\n",
    "print('R2:', R2(x,y,b))"
   ]
  },
  {
   "cell_type": "code",
   "execution_count": null,
   "metadata": {},
   "outputs": [],
   "source": []
  }
 ],
 "metadata": {
  "interpreter": {
   "hash": "eeca995d0f3e54aca6930f56d9ad1fedf70d5951646e03e475052bde35f1b6df"
  },
  "kernelspec": {
   "display_name": "Python 3.9.7 ('base')",
   "language": "python",
   "name": "python3"
  },
  "language_info": {
   "codemirror_mode": {
    "name": "ipython",
    "version": 3
   },
   "file_extension": ".py",
   "mimetype": "text/x-python",
   "name": "python",
   "nbconvert_exporter": "python",
   "pygments_lexer": "ipython3",
   "version": "3.9.7"
  },
  "orig_nbformat": 4
 },
 "nbformat": 4,
 "nbformat_minor": 2
}
