{
 "cells": [
  {
   "cell_type": "markdown",
   "metadata": {
    "id": "9Nr5evy7kdZr"
   },
   "source": [
    "# Resolução de dois exercícios de fixação da monitoria de ICD 25/01/2022"
   ]
  },
  {
   "cell_type": "markdown",
   "metadata": {
    "id": "cj4G6g2-kdaV"
   },
   "source": [
    "## Exercícios de fixação"
   ]
  },
  {
   "cell_type": "markdown",
   "metadata": {
    "id": "mXp1S-eQkdaW"
   },
   "source": [
    "Não é necessário entregar os exercícios abaixo, mas é importante resolvê-los para fixar os conteúdos estudados."
   ]
  },
  {
   "cell_type": "markdown",
   "metadata": {
    "id": "ayO8bh9HkdaW"
   },
   "source": [
    "1 -  Considere uma moeda cuja probabilidade de sair cara é $p$. Monte um gráfico da entropia em função do valor de $p$."
   ]
  },
  {
   "cell_type": "markdown",
   "metadata": {
    "id": "GVvNrZNgzswE"
   },
   "source": [
    "Este problema pode modelado considerando uma variável aleatória $X \\sim Bernoulli(p)$ em que $X=1$ representa o evento 'sair cara' com probabilidade $p$ e $X=0$ representa o evento 'sair coroa' com probabilidade $1-p$. Assim, vetor\n",
    "$$Px = [p_X(X=0), p_X(X=1)] =[1-p, p]$$\n",
    "representa as probabilidades exatas de sair coroa e sair cara respectivamente.\n",
    "\n",
    "Para $p=0,\\!5$, temos \n",
    "\n",
    "$$Px = [1-0,\\!5; 0,\\!5] = [0,\\!5; 0,\\!5]$$.\n",
    "\n",
    "Por outro lado, temos que a entropia é calculada pela expressão\n",
    "\n",
    "$$S = -\\sum(p_k * \\log_2(p_k))$$\n",
    "\n",
    "quando definimos a base do logaritmo iguaal a 2.\\\\\n",
    "\n",
    "Note que o cálculo da entropia não depende dos valores da variável aleatória $X$. Depende apenas das probabilidades associadas a cada valor que $X$ pode assumir. Assim,\n",
    "\n",
    "$$S = -\\sum(p_k * \\log_b(p_k)) = -p_0 * \\log_b(p_0) - p_1 * \\log_b(p_1)= -2 * 0,\\!5 * \\log(0,\\!5) = 1$$.\\\\\n",
    "\n",
    "Para montar o gráfico da entropia em função do valor $p$, precisamos repetir este cálculo para diversos valores de $p \\in [0,1]$."
   ]
  },
  {
   "cell_type": "code",
   "execution_count": 1,
   "metadata": {
    "colab": {
     "base_uri": "https://localhost:8080/",
     "height": 282
    },
    "id": "jYjOGKVzgmDq",
    "outputId": "8e157609-4e14-466a-d7ce-d6f8d46acfd1"
   },
   "outputs": [
    {
     "data": {
      "text/plain": [
       "[<matplotlib.lines.Line2D at 0x7faeb93758e0>]"
      ]
     },
     "execution_count": 1,
     "metadata": {},
     "output_type": "execute_result"
    },
    {
     "data": {
      "image/png": "[encoded data removed]",
      "text/plain": [
       "<Figure size 432x288 with 1 Axes>"
      ]
     },
     "metadata": {
      "needs_background": "light"
     },
     "output_type": "display_data"
    }
   ],
   "source": [
    "from scipy.stats import entropy\n",
    "import numpy as np\n",
    "import matplotlib.pyplot as plt\n",
    "\n",
    "E = []\n",
    "Pb = np.linspace(0, 1, 1000)\n",
    "\n",
    "for p in Pb:\n",
    "    H = entropy([1-p, p], base = 2)\n",
    "    E.append(H)\n",
    "\n",
    "plt.plot(Pb, E)"
   ]
  },
  {
   "cell_type": "markdown",
   "metadata": {
    "id": "kqvIYn_dgwJs"
   },
   "source": [
    "Uma abordagem alternativa é fazer uso da distribuição empírica ao invés da distribuição teórica que usamos acima. A distribuição empírica é obtida gerando valores de uma amostra de tamanho $N$ (quanto maior o $N$, melhor) e calculando a frequência relativa de cada valor. Um exemplo para $p =0,\\!8$:"
   ]
  },
  {
   "cell_type": "code",
   "execution_count": 2,
   "metadata": {
    "colab": {
     "base_uri": "https://localhost:8080/"
    },
    "id": "l4UJ4n1Yrdax",
    "outputId": "4808b750-2c11-4b19-f6f5-079113552e45"
   },
   "outputs": [
    {
     "data": {
      "text/plain": [
       "array([1, 1, 1, 1, 1, 0, 1, 0, 1, 1, 1, 1, 1, 1, 0, 1, 1, 1, 0, 1, 1, 1,\n",
       "       0, 0, 1, 1, 1, 1, 1, 1, 1, 1, 1, 1, 1, 1, 1, 1, 1, 1, 1, 1, 0, 1,\n",
       "       1, 1, 1, 1, 1, 1, 1, 1, 1, 0, 0, 1, 1, 1, 0, 1, 1, 1, 1, 1, 1, 1,\n",
       "       1, 0, 0, 0, 0, 1, 1, 1, 1, 1, 1, 1, 0, 1, 1, 1, 1, 1, 0, 1, 1, 1,\n",
       "       1, 0, 1, 1, 1, 1, 1, 1, 0, 1, 1, 1])"
      ]
     },
     "execution_count": 2,
     "metadata": {},
     "output_type": "execute_result"
    }
   ],
   "source": [
    "from scipy.stats import bernoulli\n",
    "p = 0.8\n",
    "N = 100\n",
    "amostra = bernoulli.rvs(p, size=N)\n",
    "amostra"
   ]
  },
  {
   "cell_type": "markdown",
   "metadata": {
    "id": "kbYdsLEgivaJ"
   },
   "source": [
    "Vamos tranformar a função que o Prof. Franscisco criou para contar frequência em uma função que fornece um vetor de frequência relativa, ou seja, que contém as probabilidade de cada valor calculadas de forma empírica."
   ]
  },
  {
   "cell_type": "code",
   "execution_count": 3,
   "metadata": {
    "id": "Zrz-3x17iNCJ"
   },
   "outputs": [],
   "source": [
    "def freq_rel(amostra):\n",
    "    N = len(amostra)\n",
    "    values = np.sort(np.unique(amostra)) #usamos a funções sort e unique do Numpy para encontrar os valores possíveis.\n",
    "    # vamos calcular a frequência de cada valor presente na lista\n",
    "    freq = np.zeros(len(values)) # armazena as frequencias\n",
    "    ind = 0 # indice do vetor de frequências\n",
    "    for i in values: # para os valores diferentes\n",
    "        counter = 0 # conta as ocorrências\n",
    "        for j in range(0,len(amostra)):\n",
    "            if(amostra[j] == i):\n",
    "                counter = counter + 1\n",
    "        freq[ind] = counter / N\n",
    "        ind = ind + 1\n",
    "    return freq"
   ]
  },
  {
   "cell_type": "code",
   "execution_count": 4,
   "metadata": {
    "colab": {
     "base_uri": "https://localhost:8080/"
    },
    "id": "_-9Zt4p7lnhd",
    "outputId": "68b68670-fed4-4a3f-f9d3-28db186c410f"
   },
   "outputs": [
    {
     "data": {
      "text/plain": [
       "array([0.18, 0.82])"
      ]
     },
     "execution_count": 4,
     "metadata": {},
     "output_type": "execute_result"
    }
   ],
   "source": [
    "# Testando a função freq_rel\n",
    "freq_rel(amostra)"
   ]
  },
  {
   "cell_type": "markdown",
   "metadata": {
    "id": "belh3Dc2mMw2"
   },
   "source": [
    "Calculemos o gráfico pedido para uma amostra de tamanho pequeno (N = 100) neste caso. "
   ]
  },
  {
   "cell_type": "code",
   "execution_count": 5,
   "metadata": {
    "colab": {
     "base_uri": "https://localhost:8080/",
     "height": 282
    },
    "id": "gr05zF1Gmu5K",
    "outputId": "c45c8358-35d2-4f58-cfd6-71075f3e9529"
   },
   "outputs": [
    {
     "data": {
      "text/plain": [
       "[<matplotlib.lines.Line2D at 0x7faea86dca90>]"
      ]
     },
     "execution_count": 5,
     "metadata": {},
     "output_type": "execute_result"
    },
    {
     "data": {
      "image/png": "[encoded data removed]",
      "text/plain": [
       "<Figure size 432x288 with 1 Axes>"
      ]
     },
     "metadata": {
      "needs_background": "light"
     },
     "output_type": "display_data"
    }
   ],
   "source": [
    "N = 100 # Tamanho da amostra\n",
    "E = []\n",
    "Pb = np.linspace(0, 1, 1000)\n",
    "for p in Pb:\n",
    "    amostra = bernoulli.rvs(p, size = N)\n",
    "    H = entropy(freq_rel(amostra), base = 2)\n",
    "    E.append(H)\n",
    "\n",
    "plt.plot(Pb, E)"
   ]
  },
  {
   "cell_type": "markdown",
   "metadata": {
    "id": "GjFbpF9DnvsB"
   },
   "source": [
    "Veja que para amostras de tamanho $N = 100$ observamos muito ruído no gráfico. Isso se deve às flutuações amostrais de cada sorteio. À medida em que o tamanho da amostra aumenta, ganhamos um gráfico com menos ruído. Para $N=1000$, temos"
   ]
  },
  {
   "cell_type": "code",
   "execution_count": 6,
   "metadata": {
    "colab": {
     "base_uri": "https://localhost:8080/",
     "height": 282
    },
    "id": "AN7wBW6iodq9",
    "outputId": "def47b1e-f49c-4976-cd2b-02ac288d6c54"
   },
   "outputs": [
    {
     "data": {
      "text/plain": [
       "[<matplotlib.lines.Line2D at 0x7faeb946d790>]"
      ]
     },
     "execution_count": 6,
     "metadata": {},
     "output_type": "execute_result"
    },
    {
     "data": {
      "image/png": "[encoded data removed]",
      "text/plain": [
       "<Figure size 432x288 with 1 Axes>"
      ]
     },
     "metadata": {
      "needs_background": "light"
     },
     "output_type": "display_data"
    }
   ],
   "source": [
    "N = 1000 # Tamanho da amostra\n",
    "E = []\n",
    "Pb = np.linspace(0, 1, 1000)\n",
    "for p in Pb:\n",
    "    amostra = bernoulli.rvs(p, size = N)\n",
    "    H = entropy(freq_rel(amostra), base = 2)\n",
    "    E.append(H)\n",
    "\n",
    "plt.plot(Pb, E)"
   ]
  },
  {
   "cell_type": "markdown",
   "metadata": {
    "id": "edEeDJmuolUo"
   },
   "source": [
    "Por fim, para $N = 10^5$, temos "
   ]
  },
  {
   "cell_type": "code",
   "execution_count": 7,
   "metadata": {
    "colab": {
     "base_uri": "https://localhost:8080/",
     "height": 282
    },
    "id": "O4FPuckmo2nV",
    "outputId": "f455b31f-a002-49e4-cf86-e9386da7e623"
   },
   "outputs": [],
   "source": [
    "# Obs.: Demora menos de 1 minuto para rodar\n",
    "\n",
    "N = 10**5 # Tamanho da amostra\n",
    "E = []\n",
    "Pb = np.linspace(0, 1, 1000)\n",
    "for p in Pb:\n",
    "    amostra = bernoulli.rvs(p, size = N)\n",
    "    H = entropy(freq_rel(amostra), base = 2)\n",
    "    E.append(H)\n",
    "\n",
    "plt.plot(Pb, E)"
   ]
  },
  {
   "cell_type": "markdown",
   "metadata": {
    "id": "WkD7ady1pegx"
   },
   "source": [
    "Assim, terminamos o exercício mostrando duas formas de fazê-lo para o caso de variáveis aleatórias discretas."
   ]
  },
  {
   "cell_type": "markdown",
   "metadata": {
    "id": "Fa9d60RYkdaW"
   },
   "source": [
    "2 - Gere dados a partir de uma distribuição de Poisson. Calcula a média e variância e compare seus valores."
   ]
  },
  {
   "cell_type": "code",
   "execution_count": null,
   "metadata": {
    "id": "0f-Ol0s9kdaX"
   },
   "outputs": [],
   "source": [
    "from  scipy.stats import poisson\n",
    "N = 10000\n",
    "mu = 2\n",
    "r = poisson.rvs(mu, size=N)"
   ]
  },
  {
   "cell_type": "code",
   "execution_count": null,
   "metadata": {
    "colab": {
     "base_uri": "https://localhost:8080/"
    },
    "id": "gnutoV5iopgH",
    "outputId": "237ec6d1-0efc-424b-a59f-e94d629e62ac"
   },
   "outputs": [
    {
     "data": {
      "text/plain": [
       "1.9963"
      ]
     },
     "execution_count": 20,
     "metadata": {},
     "output_type": "execute_result"
    }
   ],
   "source": [
    "np.mean(r)"
   ]
  },
  {
   "cell_type": "code",
   "execution_count": null,
   "metadata": {
    "id": "Ck1RRbF3qjXD"
   },
   "outputs": [],
   "source": [
    "def variancia(X):\n",
    "    m = np.mean(X)\n",
    "    N = len(X)\n",
    "    s = 0\n",
    "    for i in np.arange(0, len(X)):\n",
    "        s = s + (X[i]-m)**2\n",
    "    s = s/(N-1)\n",
    "    return s"
   ]
  },
  {
   "cell_type": "code",
   "execution_count": null,
   "metadata": {
    "colab": {
     "base_uri": "https://localhost:8080/"
    },
    "id": "n1JKqN8brjBj",
    "outputId": "994fe750-c13d-4336-ec72-d8f2ae683e8e"
   },
   "outputs": [
    {
     "data": {
      "text/plain": [
       "2.0002863386338636"
      ]
     },
     "execution_count": 22,
     "metadata": {},
     "output_type": "execute_result"
    }
   ],
   "source": [
    "np.var(r, ddof=1) # Versão amostral  com N menos um graus de liberdade"
   ]
  },
  {
   "cell_type": "code",
   "execution_count": null,
   "metadata": {
    "colab": {
     "base_uri": "https://localhost:8080/"
    },
    "id": "_sAgp-9YqanV",
    "outputId": "350122e9-a920-438d-9a23-9b9eac8bd060"
   },
   "outputs": [
    {
     "data": {
      "text/plain": [
       "2.0000863100000004"
      ]
     },
     "execution_count": 23,
     "metadata": {},
     "output_type": "execute_result"
    }
   ],
   "source": [
    "np.var(r, ddof=0) # Versão populacional com N graus de liberdade"
   ]
  },
  {
   "cell_type": "code",
   "execution_count": null,
   "metadata": {
    "colab": {
     "base_uri": "https://localhost:8080/"
    },
    "id": "jzu1iljeqQI1",
    "outputId": "05aecbf7-f23f-40ea-b0a3-2daeef1cc760"
   },
   "outputs": [
    {
     "data": {
      "text/plain": [
       "2.000286338633917"
      ]
     },
     "execution_count": 24,
     "metadata": {},
     "output_type": "execute_result"
    }
   ],
   "source": [
    "variancia(r)"
   ]
  },
  {
   "cell_type": "markdown",
   "metadata": {
    "id": "IkSotxf5sdrP"
   },
   "source": [
    "Podemos notar que, de fato, o valor da variância se encontra próximo ao da média no caso da distribuição Poisson. Caso aumentemos o valor de $N$, por exemplo, $N=10^6$, temos"
   ]
  },
  {
   "cell_type": "code",
   "execution_count": null,
   "metadata": {
    "id": "ehhO9k5ssPCY"
   },
   "outputs": [],
   "source": [
    "N = 10**6\n",
    "mu = 2\n",
    "r = poisson.rvs(mu, size=N)"
   ]
  },
  {
   "cell_type": "code",
   "execution_count": null,
   "metadata": {
    "colab": {
     "base_uri": "https://localhost:8080/"
    },
    "id": "c62k-6ptsw_6",
    "outputId": "d8c2ae2f-6ba1-4e17-ceb0-44043f555e5d"
   },
   "outputs": [
    {
     "data": {
      "text/plain": [
       "[2.001904, 2.000880375664375]"
      ]
     },
     "execution_count": 26,
     "metadata": {},
     "output_type": "execute_result"
    }
   ],
   "source": [
    "media, varian  = np.mean(r) , np.var(r, ddof=1)\n",
    "[media, varian]"
   ]
  }
 ],
 "metadata": {
  "colab": {
   "collapsed_sections": [],
   "name": "Resolução de dois exercícios de fixação da monitoria de ICD 25012022.ipynb",
   "provenance": []
  },
  "kernelspec": {
   "display_name": "Python 3 (ipykernel)",
   "language": "python",
   "name": "python3"
  },
  "language_info": {
   "codemirror_mode": {
    "name": "ipython",
    "version": 3
   },
   "file_extension": ".py",
   "mimetype": "text/x-python",
   "name": "python",
   "nbconvert_exporter": "python",
   "pygments_lexer": "ipython3",
   "version": "3.9.7"
  }
 },
 "nbformat": 4,
 "nbformat_minor": 1
}
