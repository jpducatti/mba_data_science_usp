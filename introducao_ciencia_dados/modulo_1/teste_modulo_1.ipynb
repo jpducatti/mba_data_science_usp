{
 "cells": [
  {
   "cell_type": "markdown",
   "metadata": {},
   "source": [
    "# Teste Semanal do Módulo 1\n",
    "\n",
    "TL;DR: ------> Nota = 10"
   ]
  },
  {
   "cell_type": "markdown",
   "metadata": {},
   "source": [
    "1 - Determine a moda do conjunto:\n",
    "\n",
    "Z = [0,0,2,3,1,2,4,5,6,8,0,0,7,0,1,2,1,1, 5,3,1,0,7,3,2,3,4,5,6,7,8,9,1,1,2,2,3]"
   ]
  },
  {
   "cell_type": "code",
   "execution_count": 2,
   "metadata": {},
   "outputs": [],
   "source": [
    "Z = [0,0,2,3,1,2,4,5,6,8,0,0,7,0,1,2,1,1, 5,3,1,0,7,3,2,3,4,5,6,7,8,9,1,1,2,2,3]"
   ]
  },
  {
   "cell_type": "code",
   "execution_count": 3,
   "metadata": {},
   "outputs": [
    {
     "name": "stdout",
     "output_type": "stream",
     "text": [
      "A moda de Z: 1\n"
     ]
    }
   ],
   "source": [
    "from statistics import mode\n",
    "m = mode(Z)\n",
    "print('A moda de Z:', m)"
   ]
  },
  {
   "cell_type": "markdown",
   "metadata": {},
   "source": [
    "2 - Determine a mediana e média do \n",
    "\n",
    "*   List item\n",
    "*   List item\n",
    "\n",
    "conjunto de dados:\n",
    "\n",
    "Z = [0,0,2,3,1,2,4,5,6,8,0,0,7,0,1,2,1,1, 5,3,1,0,7,3,2,3,4,5,6,7,8,9,1,1,2,2,3]"
   ]
  },
  {
   "cell_type": "code",
   "execution_count": 4,
   "metadata": {},
   "outputs": [],
   "source": [
    "Z = [0,0,2,3,1,2,4,5,6,8,0,0,7,0,1,2,1,1, 5,3,1,0,7,3,2,3,4,5,6,7,8,9,1,1,2,2,3]"
   ]
  },
  {
   "cell_type": "code",
   "execution_count": 5,
   "metadata": {},
   "outputs": [
    {
     "name": "stdout",
     "output_type": "stream",
     "text": [
      "Média de Z =  3.108108108108108\n",
      "Mediana de Z =  2.0\n"
     ]
    }
   ],
   "source": [
    "import numpy as np\n",
    "\n",
    "mx = np.mean(Z)\n",
    "md = np.median(Z)\n",
    "\n",
    "print('Média de Z = ', mx)\n",
    "print('Mediana de Z = ', md)"
   ]
  },
  {
   "cell_type": "markdown",
   "metadata": {},
   "source": [
    "3 - Calcule a variância, desvio padrão e distância interquantil do conjunto de dados. Considere desvio padrão de amostragem, com N-1 graus de liberdade\n",
    "\n",
    "Z = [0,0,2,3,1,2,4,5,6,8,7,5,3,1,0,7,3,2,3,4,5,6,7,8,9,1,1,2,2,3]"
   ]
  },
  {
   "cell_type": "code",
   "execution_count": 6,
   "metadata": {},
   "outputs": [],
   "source": [
    "Z = [0,0,2,3,1,2,4,5,6,8,7,5,3,1,0,7,3,2,3,4,5,6,7,8,9,1,1,2,2,3]"
   ]
  },
  {
   "cell_type": "code",
   "execution_count": 7,
   "metadata": {},
   "outputs": [
    {
     "name": "stdout",
     "output_type": "stream",
     "text": [
      "Variância =  6.919540229885058\n",
      "Desvio Padrão =  2.630501896955229\n",
      "IQR =  4\n"
     ]
    }
   ],
   "source": [
    "import numpy as np\n",
    "\n",
    "var = np.var(Z, ddof = 1)\n",
    "dp = var**(0.5)\n",
    "\n",
    "z_ord = np.sort(Z) #ordena a lista de Z para encontrar os quartis\n",
    "posicao = int(np.round(0.25*(len(Z)+1)-1)) #posicao dos quartis. Q1 = 0,25*(N-1) e Q3 = 0,75*(N-1).\n",
    "\n",
    "q1 = z_ord[posicao] \n",
    "q3 = z_ord[-posicao] #pegando de trás para frente a posição do q3\n",
    "iqr = q3 - q1\n",
    "\n",
    "print('Variância = ',var)\n",
    "print('Desvio Padrão = ',dp)\n",
    "print('IQR = ',iqr)\n"
   ]
  },
  {
   "cell_type": "code",
   "execution_count": 8,
   "metadata": {},
   "outputs": [
    {
     "name": "stdout",
     "output_type": "stream",
     "text": [
      "Variância =  6.919540229885057\n"
     ]
    }
   ],
   "source": [
    "#outra forma de calcular a variância\n",
    "\n",
    "mx = np.mean(Z)\n",
    "s=0\n",
    "\n",
    "for i in range(0,len(Z)):\n",
    "    s = s + (Z[i]-mx)**2\n",
    "s = s / (len(Z)-1)\n",
    "\n",
    "print('Variância = ',s)"
   ]
  },
  {
   "cell_type": "markdown",
   "metadata": {},
   "source": [
    "4 - Para a função tangente no \n",
    "\n",
    "1.   List item\n",
    "2.   List item\n",
    "\n",
    "intervalo [-1,5,1,5], calcule os coeficientes de Pearson e Spearman."
   ]
  },
  {
   "cell_type": "code",
   "execution_count": 9,
   "metadata": {},
   "outputs": [],
   "source": [
    "from scipy import stats"
   ]
  },
  {
   "cell_type": "code",
   "execution_count": 10,
   "metadata": {},
   "outputs": [],
   "source": [
    "intervalo = [-1.5, 1.5]\n",
    "n = 10000\n",
    "amostra = np.linspace(intervalo[0],intervalo[1],n) #cria uma lista que varia de -1.5 a 1.5 linearmente com n dados\n",
    "tangente = np.tan(amostra) #calcula tangente para cada valor da amostra\n",
    "#print(tangente)"
   ]
  },
  {
   "cell_type": "code",
   "execution_count": 11,
   "metadata": {},
   "outputs": [
    {
     "name": "stdout",
     "output_type": "stream",
     "text": [
      "Coef. Pearson =  0.83\n",
      "Coef. Spearman =  1.0\n"
     ]
    }
   ],
   "source": [
    "corr, p_value = stats.pearsonr(amostra, tangente)\n",
    "corrs, p_values = stats.spearmanr(amostra, tangente)\n",
    "corr = int(corr*100)/100 #transforma em duas casas decimais\n",
    "corrs = int(corrs*100)/100 #transforma em duas casas decimais\n",
    "\n",
    "print('Coef. Pearson = ', corr)\n",
    "print('Coef. Spearman = ', corrs)"
   ]
  },
  {
   "cell_type": "code",
   "execution_count": 12,
   "metadata": {},
   "outputs": [
    {
     "name": "stdout",
     "output_type": "stream",
     "text": [
      "Coef. Pearson =  0.83\n",
      "Coef. Spearman =  1.0\n"
     ]
    }
   ],
   "source": [
    "#segundo jeito de calcular os coeficientes\n",
    "corr_p, _ = stats.pearsonr(amostra,tangente)\n",
    "corr_s, _ = stats.spearmanr(amostra,tangente)\n",
    "\n",
    "print('Coef. Pearson = ', round(corr_p, 2))\n",
    "print('Coef. Spearman = ', round(corr_s, 2))"
   ]
  },
  {
   "cell_type": "markdown",
   "metadata": {},
   "source": [
    "5 - Calcule a distância de Kullback-Leibler entre as variáveis X e Y, com distribuição:\n",
    "\n",
    "P = [0.15,0.25,0.2] e Q = [0.3, 0.6, 0.1]"
   ]
  },
  {
   "cell_type": "code",
   "execution_count": 13,
   "metadata": {},
   "outputs": [],
   "source": [
    "P = [0.15,0.25,0.2]\n",
    "Q = [0.3, 0.6, 0.1]"
   ]
  },
  {
   "cell_type": "code",
   "execution_count": 14,
   "metadata": {},
   "outputs": [
    {
     "name": "stdout",
     "output_type": "stream",
     "text": [
      "KL(P,Q) =  0.2\n",
      "KL(Q,P) =  0.15\n"
     ]
    }
   ],
   "source": [
    "e = np.exp(1)\n",
    "\n",
    "kl_pq = round(stats.entropy(P, Q, base = e), 2)\n",
    "kl_qp = round(stats.entropy(Q, P, base = e), 2)\n",
    "\n",
    "print('KL(P,Q) = ', kl_pq)\n",
    "print('KL(Q,P) = ', kl_qp)"
   ]
  }
 ],
 "metadata": {
  "interpreter": {
   "hash": "eeca995d0f3e54aca6930f56d9ad1fedf70d5951646e03e475052bde35f1b6df"
  },
  "kernelspec": {
   "display_name": "Python 3.9.7 64-bit ('base': conda)",
   "language": "python",
   "name": "python3"
  },
  "language_info": {
   "codemirror_mode": {
    "name": "ipython",
    "version": 3
   },
   "file_extension": ".py",
   "mimetype": "text/x-python",
   "name": "python",
   "nbconvert_exporter": "python",
   "pygments_lexer": "ipython3",
   "version": "3.9.7"
  },
  "orig_nbformat": 4
 },
 "nbformat": 4,
 "nbformat_minor": 2
}
