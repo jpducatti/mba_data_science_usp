{
 "cells": [
  {
   "cell_type": "markdown",
   "metadata": {},
   "source": [
    "# <span style=\"color:blue\"> MBA em Ciência de Dados</span>\n",
    "# <span style=\"color:blue\">Programação para Ciência de Dados</span>\n",
    "\n",
    "## <span style=\"color:blue\">Numpy Parte II e Matplotlib - Exercícios</span>\n",
    "**Material Produzido por Luis Gustavo Nonato**<br>\n",
    "**Cemeai - ICMC/USP São Carlos**\n",
    "---"
   ]
  },
  {
   "cell_type": "markdown",
   "metadata": {},
   "source": [
    "#### <span style=\"color:red\">Recomenda-se fortemente que os exercícios sejam feitos sem consultar as respostas antecipadamente.</span>"
   ]
  },
  {
   "cell_type": "code",
   "execution_count": 2,
   "metadata": {},
   "outputs": [],
   "source": [
    "import numpy as np"
   ]
  },
  {
   "cell_type": "markdown",
   "metadata": {},
   "source": [
    "### Exercício 1)\n",
    "Crie uma matriz com <font color='blue'>numpy</font> denominada `A` com 6 linhas e 3 colunas  broadcasting o array [1 2 3 4 5 6].\n",
    "\n",
    "__Dica:__ Construa primeiro uma matriz com dimensões 6x3 e depois emprege broadcasting"
   ]
  },
  {
   "cell_type": "code",
   "execution_count": 2,
   "metadata": {},
   "outputs": [
    {
     "name": "stdout",
     "output_type": "stream",
     "text": [
      "[[1. 1. 1.]\n",
      " [2. 2. 2.]\n",
      " [3. 3. 3.]\n",
      " [4. 4. 4.]\n",
      " [5. 5. 5.]\n",
      " [6. 6. 6.]]\n"
     ]
    }
   ],
   "source": [
    "A = np.zeros((6,3))\n",
    "A[:] = np.array([1, 2, 3, 4, 5, 6]).reshape(6,1)\n",
    "\n",
    "print(A)"
   ]
  },
  {
   "cell_type": "markdown",
   "metadata": {},
   "source": [
    "### Exercício 2)\n",
    "Construa uma matriz \n",
    "```python\n",
    "[[0 1 2 3 4 5]\n",
    " [1 2 3 4 5 6]\n",
    " [2 3 4 5 6 7]\n",
    " [3 4 5 6 7 8]\n",
    " [4 5 6 7 8 9]]\n",
    "```\n",
    "partir dos arrays [0 1 2 3 4] e [0 1 2 3 4 5] utilizando broadcasting."
   ]
  },
  {
   "cell_type": "code",
   "execution_count": 3,
   "metadata": {},
   "outputs": [
    {
     "name": "stdout",
     "output_type": "stream",
     "text": [
      "[[0 1 2 3 4 5]\n",
      " [1 2 3 4 5 6]\n",
      " [2 3 4 5 6 7]\n",
      " [3 4 5 6 7 8]\n",
      " [4 5 6 7 8 9]]\n"
     ]
    }
   ],
   "source": [
    "a = np.arange(5).reshape(5,1)\n",
    "b = np.arange(6) \n",
    "\n",
    "B = a+b\n",
    "print(B)"
   ]
  },
  {
   "cell_type": "markdown",
   "metadata": {},
   "source": [
    "### Exercício 3)\n",
    "Construa uma matriz 10x10 com números randômicos gerados no intervalo entre 0 e 1. Some os valores de cada coluna e encontre a coluna com o maior soma de seus elementos. "
   ]
  },
  {
   "cell_type": "code",
   "execution_count": 4,
   "metadata": {},
   "outputs": [
    {
     "name": "stdout",
     "output_type": "stream",
     "text": [
      "Matriz randomica:\n",
      " [[0.56577791 0.81774757 0.51997336 0.92819246 0.61029945 0.459744\n",
      "  0.17182045 0.18982933 0.7916982  0.8009952 ]\n",
      " [0.06519205 0.06238056 0.125172   0.90497751 0.68470446 0.35879556\n",
      "  0.65709472 0.0980597  0.82718424 0.89715767]\n",
      " [0.34920986 0.67418184 0.59758804 0.85291579 0.59225505 0.88103947\n",
      "  0.01603808 0.92009587 0.92275775 0.72753812]\n",
      " [0.64979694 0.60802558 0.08575065 0.40335967 0.72890025 0.09881584\n",
      "  0.09700425 0.58550212 0.5217851  0.70588206]\n",
      " [0.04709531 0.71557671 0.0121341  0.13366943 0.05851495 0.69944478\n",
      "  0.54910673 0.98477268 0.30909829 0.36769688]\n",
      " [0.91372497 0.15572628 0.44223004 0.97427923 0.76889352 0.28960848\n",
      "  0.12916955 0.61862726 0.02319477 0.89735905]\n",
      " [0.47984079 0.59021664 0.55686539 0.88952029 0.94707342 0.20663085\n",
      "  0.94229906 0.60407722 0.3790114  0.08087637]\n",
      " [0.40090819 0.31106587 0.39397227 0.61555603 0.78115802 0.22961032\n",
      "  0.39171507 0.11447389 0.87598587 0.22207331]\n",
      " [0.60612536 0.9544148  0.82527399 0.9206596  0.61074652 0.89855465\n",
      "  0.80669086 0.22960573 0.71556731 0.83413013]\n",
      " [0.5779319  0.43378834 0.50528334 0.33082044 0.93855678 0.48998847\n",
      "  0.86378754 0.51735742 0.44566454 0.84398909]]\n",
      "\n",
      " \n",
      " As somas das colunas é:\n",
      " [4.65560328 5.32312417 4.06424317 6.95395045 6.72110242 4.61223243\n",
      " 4.62472632 4.86240122 5.81194749 6.37769789]\n",
      "A coluna com maior some é a  3\n"
     ]
    }
   ],
   "source": [
    "X = np.random.uniform(0,1,100).reshape(10,10)\n",
    "print('Matriz randomica:\\n',X)\n",
    "\n",
    "soma_colunas = np.sum(X,axis=0)\n",
    "print('\\n \\n As somas das colunas é:\\n',soma_colunas)\n",
    "\n",
    "print('A coluna com maior some é a ',np.argmax(soma_colunas))"
   ]
  },
  {
   "cell_type": "markdown",
   "metadata": {},
   "source": [
    "### Exercício 4)\n",
    "Considere uma matriz `A` $n\\times n,\\, n\\geq 2$ . Por exemplo, para $n=4$:\n",
    "$$\n",
    "A=\\left(\\begin{array}[cccc]\\\\\n",
    "1 & 3 & 2 & 6 \\\\\n",
    "3 & 5 & 1 & {7} \\\\\n",
    "{0} & 4 & {2} & {6} \\\\\n",
    "6 & 1 & 3 & {1} \n",
    "\\end{array}\\right)\n",
    "$$\n",
    "Crie uma matriz `B`  2$\\times$2 onde a primeira linha corresponde aos valores mínimo e máximo da soma das linhas da matriz `A` e a segunda linha de `B` corresponde aos valores mínimo e máximo da soma das colunas. Considerando a matriz `A` acima, a matriz `B` resultante seria:\n",
    "\n",
    "$$\n",
    "B=\\left(\\begin{array}[cc]\\\\\n",
    "11 & 16\\\\\n",
    "8 & 20\n",
    "\\end{array}\\right)\n",
    "$$\n",
    "\n",
    "A sua solução deve funcionar para qualquer matriz $n\\times n,\\, n\\geq 2$.<br>"
   ]
  },
  {
   "cell_type": "code",
   "execution_count": 17,
   "metadata": {},
   "outputs": [
    {
     "name": "stdout",
     "output_type": "stream",
     "text": [
      "[[34.60927816 63.89729896]\n",
      " [38.26760295 66.85802324]]\n"
     ]
    }
   ],
   "source": [
    "# A = np.array([[1,3,2,6],[3,5,1,7],[0,4,2,6],[6,1,3,1]])\n",
    "A = np.random.uniform(0,10,100).reshape(10,10)\n",
    "\n",
    "soma_linhas = np.sum(A,axis=1)\n",
    "soma_colunas = np.sum(A,axis=0)\n",
    "B = np.array([[np.min(soma_linhas), np.max(soma_linhas)],\n",
    "             [np.min(soma_colunas), np.max(soma_colunas)]])\n",
    "print(B)"
   ]
  },
  {
   "cell_type": "markdown",
   "metadata": {},
   "source": [
    "### Exercício 5)\n",
    "Construa uma função chamada `ordena_linhas` que recebe uma matriz como parâmetro e troque as linhas de posição para que fiquem ordenadas de acordo com a primeira coluna. Por exemplo:\n",
    "```python\n",
    "A = np.array([[20, 26, 12], \n",
    "              [8, 3, 26], \n",
    "              [3, 10, 4]])\n",
    "print(ordena_linhas(A))\n",
    "```\n",
    "deve resultar em\n",
    "```python\n",
    "[[ 3 10  4]\n",
    " [ 8  3 26]\n",
    " [20 26 12]]\n",
    "```"
   ]
  },
  {
   "cell_type": "code",
   "execution_count": 39,
   "metadata": {},
   "outputs": [
    {
     "name": "stdout",
     "output_type": "stream",
     "text": [
      "[[20, 26, 12], [8, 3, 26], [3, 10, 4]]\n",
      "[[ 3 10  4]\n",
      " [ 8  3 26]\n",
      " [20 26 12]]\n"
     ]
    }
   ],
   "source": [
    "def ordena_linhas(A):\n",
    "    indices_coluna0 = np.argsort(A,axis=0)[:,0]\n",
    "    A = A[indices_coluna0]\n",
    "    return(A)\n",
    "    \n",
    "X = np.random.randint(0,30,9).reshape(3,3)\n",
    "print(ordena_linhas(X))"
   ]
  },
  {
   "cell_type": "markdown",
   "metadata": {},
   "source": [
    "### Exercício 6)\n",
    "O método <font color='blue'>bar</font> do <font color='blue'>matplotlib.pyplot</font> gera um gráfico de barras a partir de um array com as coordenadas horizontais das barras e um array com as alturas das barras, ambos enviados como parâmetros (veja documentação [aqui](https://matplotlib.org/3.1.1/gallery/statistics/barchart_demo.html#sphx-glr-gallery-statistics-barchart-demo-py)). Gere um array de números randômicos no intervalo entre 0 e 1 e utilize o método <font color='blue'>bar</font> para visualizar os valores do array."
   ]
  },
  {
   "cell_type": "code",
   "execution_count": 41,
   "metadata": {},
   "outputs": [
    {
     "data": {
      "text/plain": [
       "<BarContainer object of 9 artists>"
      ]
     },
     "execution_count": 41,
     "metadata": {},
     "output_type": "execute_result"
    },
    {
     "data": {
      "image/png": "[encoded data removed]",
      "text/plain": [
       "<Figure size 432x288 with 1 Axes>"
      ]
     },
     "metadata": {
      "needs_background": "light"
     },
     "output_type": "display_data"
    }
   ],
   "source": [
    "import matplotlib.pyplot as plt\n",
    "%matplotlib inline\n",
    "\n",
    "X = np.random.uniform(0,30,9)\n",
    "plt.bar(np.arange(X.shape[0]),X)"
   ]
  },
  {
   "cell_type": "markdown",
   "metadata": {},
   "source": [
    "### Exercício 7)\n",
    "Melhore o gráfico de barras gerado no exercício anterior adicionando um asterisco vermelho no topo da barra mais alta.\n",
    "\n",
    "__Dica:__ Utilize o método <font color='blue'>scatter</font> do <font color='blue'>matplotlib.pyplot</font> para mostrar o asterisco."
   ]
  },
  {
   "cell_type": "code",
   "execution_count": 44,
   "metadata": {},
   "outputs": [
    {
     "data": {
      "text/plain": [
       "<matplotlib.collections.PathCollection at 0x11a1e0cf8>"
      ]
     },
     "execution_count": 44,
     "metadata": {},
     "output_type": "execute_result"
    },
    {
     "data": {
      "image/png": "[encoded data removed]",
      "text/plain": [
       "<Figure size 432x288 with 1 Axes>"
      ]
     },
     "metadata": {
      "needs_background": "light"
     },
     "output_type": "display_data"
    }
   ],
   "source": [
    "X = np.random.uniform(0,30,9)\n",
    "\n",
    "mais_alta = np.argmax(X)\n",
    "plt.bar(np.arange(X.shape[0]),X)\n",
    "plt.scatter(mais_alta,X[mais_alta]+1, marker='*',color='red')"
   ]
  },
  {
   "cell_type": "markdown",
   "metadata": {},
   "source": [
    "### Exercício 8)\n",
    "Dado um conjunto de pontos $(x_0,y_0),(x_1,y_1),\\ldots,(x_n,y_n)$, podemos ajustar uma reta $y=\\alpha_0+\\alpha_1 x$ a esses pontos resolvendo o sistema linear:\n",
    "\n",
    "$$\n",
    "\\left(A^\\top A\\right)\\alpha = A^\\top b\n",
    "$$\n",
    "\n",
    "onde a matriz de $A$ e o vetor $b$ são definidos como:\n",
    "\n",
    "$$\n",
    "A=\\left(\\begin{array}{cc}\n",
    "1 & x_0 \\\\\n",
    "1 & x_1 \\\\\n",
    "\\vdots & \\vdots \\\\\n",
    "1 & x_n \n",
    "\\end{array}\\right),\n",
    "\\qquad\n",
    "\\alpha = \\left(\\begin{array}{c}\n",
    "\\alpha_0 \\\\\n",
    "\\alpha_1 \n",
    "\\end{array}\\right),\n",
    "\\qquad\n",
    "b = \\left(\\begin{array}{c}\n",
    "y_0 \\\\\n",
    "y_1 \\\\\n",
    "\\vdots \\\\\n",
    "y_n\n",
    "\\end{array}\\right)\n",
    "$$\n",
    "sendo $A^\\top$ a transposta da matriz de $A$.\n",
    "\n",
    "Suponha que os pontos $(x_i,y_i)$ são gerados pelo código:\n",
    "\n",
    "```python\n",
    "x = np.random.uniform(0,1,100)\n",
    "y = 1.0-x+np.random.uniform(-0.3,0.3,100)\n",
    "```\n",
    "\n",
    "a) Construa uma função que receba o array `x` como parâmtros e retorna a matriz `A` como definida acima.\n",
    "\n",
    "b)  Resolva o sistema linear $\\left(A^\\top A\\right)\\alpha = A^\\top b$ utilizando o métodos \"numpy.linalg.solve\" e imprima o resultado obtido (valores de $\\alpha_0$ e $\\alpha_1$ da reta)."
   ]
  },
  {
   "cell_type": "code",
   "execution_count": 7,
   "metadata": {},
   "outputs": [
    {
     "name": "stdout",
     "output_type": "stream",
     "text": [
      "[ 0.96037059 -0.95626385]\n"
     ]
    }
   ],
   "source": [
    "def gera_A(x):\n",
    "    n = x.shape[0]\n",
    "    A = np.ones((n,2))\n",
    "    A[:,1] = x\n",
    "    return(A)\n",
    "\n",
    "x = np.random.uniform(0,1,100)\n",
    "y = 1.0-x+np.random.uniform(-0.3,0.3,100)\n",
    "\n",
    "A = gera_A(x)\n",
    "AtA = np.dot(A.T,A)  # calcula o produto A transposta vezes A\n",
    "Atb = np.dot(A.T,y)  # calcula o produto A transposta vezes b \n",
    "alphas = np.linalg.solve(AtA,Atb)\n",
    "print(alphas)"
   ]
  },
  {
   "cell_type": "markdown",
   "metadata": {},
   "source": [
    "### Exercício 9)\n",
    "Utilizando os valores $\\alpha_0$ e $\\alpha_1$ calculados na questão anterior, faça um gráfico os pontos $(x_i,y_i)$ e da reta encontrada. O seu código deve produzir um gráfico semelhante ao apresentado abaixo: \n",
    "\n",
    "![IMAGEM](linefit.png)\n",
    "\n",
    "__Obs.__ A imagem \"linefit.png\" deve estar no mesmo diretório desse notebook.\n",
    "\n",
    "__Dica:__ Utilize o método <font color='blue'>scatter</font> do <font color='blue'>pyplot</font>"
   ]
  },
  {
   "cell_type": "code",
   "execution_count": 11,
   "metadata": {},
   "outputs": [
    {
     "data": {
      "text/plain": [
       "[<matplotlib.lines.Line2D at 0x7f99f0c637f0>]"
      ]
     },
     "execution_count": 11,
     "metadata": {},
     "output_type": "execute_result"
    },
    {
     "data": {
      "image/png": "[encoded data removed]",
      "text/plain": [
       "<Figure size 432x288 with 1 Axes>"
      ]
     },
     "metadata": {
      "needs_background": "light"
     },
     "output_type": "display_data"
    }
   ],
   "source": [
    "import matplotlib.pyplot as plt\n",
    "%matplotlib inline\n",
    "\n",
    "plt.scatter(x,y,marker='*')\n",
    "linex = np.array([0,1])\n",
    "liney = alphas[0]+alphas[1]*linex\n",
    "plt.plot(linex,liney,color='orange')"
   ]
  },
  {
   "cell_type": "markdown",
   "metadata": {},
   "source": [
    "### Exercício 10)\n",
    "Melhore o gráfico gerado no exercício anterior incorporando uma legenda e uma anotação na indicando a linha ajustada."
   ]
  },
  {
   "cell_type": "code",
   "execution_count": 33,
   "metadata": {},
   "outputs": [
    {
     "data": {
      "text/plain": [
       "Text(0.2, 0.2, 'Reta Ajustada')"
      ]
     },
     "execution_count": 33,
     "metadata": {},
     "output_type": "execute_result"
    },
    {
     "data": {
      "image/png": "[encoded data removed]",
      "text/plain": [
       "<Figure size 432x288 with 1 Axes>"
      ]
     },
     "metadata": {
      "needs_background": "light"
     },
     "output_type": "display_data"
    }
   ],
   "source": [
    "plt.scatter(x,y,marker='*',label=\"Pontos\")\n",
    "linex = np.array([0,1])\n",
    "liney = alphas[0]+alphas[1]*linex\n",
    "plt.plot(linex,liney,color='orange', label=\"Reta ajustada\")\n",
    "plt.legend()\n",
    "\n",
    "plt.annotate('Reta Ajustada', xy=(0.45,0.55), xytext=(0.2,0.2), # gera uma anotação\n",
    "             arrowprops=dict(facecolor='black'))"
   ]
  },
  {
   "cell_type": "code",
   "execution_count": 21,
   "metadata": {},
   "outputs": [
    {
     "name": "stdout",
     "output_type": "stream",
     "text": [
      "[[0. 0. 0. 0.]\n",
      " [0. 0. 0. 0.]]\n",
      "[0 1]\n"
     ]
    }
   ],
   "source": [
    "A = np.zeros((2,4))\n",
    "\n",
    "print(A)\n",
    "\n",
    "x = np.arange(A.shape[0])\n",
    "\n",
    "print(x)"
   ]
  }
 ],
 "metadata": {
  "kernelspec": {
   "display_name": "Python 3",
   "language": "python",
   "name": "python3"
  },
  "language_info": {
   "codemirror_mode": {
    "name": "ipython",
    "version": 3
   },
   "file_extension": ".py",
   "mimetype": "text/x-python",
   "name": "python",
   "nbconvert_exporter": "python",
   "pygments_lexer": "ipython3",
   "version": "3.9.7"
  },
  "toc": {
   "base_numbering": 1,
   "nav_menu": {},
   "number_sections": true,
   "sideBar": true,
   "skip_h1_title": false,
   "title_cell": "Table of Contents",
   "title_sidebar": "Contents",
   "toc_cell": false,
   "toc_position": {},
   "toc_section_display": true,
   "toc_window_display": false
  }
 },
 "nbformat": 4,
 "nbformat_minor": 2
}
