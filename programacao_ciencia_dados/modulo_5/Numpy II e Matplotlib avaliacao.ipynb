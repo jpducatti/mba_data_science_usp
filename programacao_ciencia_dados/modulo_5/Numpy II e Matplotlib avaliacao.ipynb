{
 "cells": [
  {
   "cell_type": "markdown",
   "metadata": {},
   "source": [
    "# <font color=\"blue\"> MBA em Ciência de Dados</font>\n",
    "# <font color=\"blue\">Programação para Ciência de Dados</font>\n",
    "\n",
    "## <font color=\"blue\">Numpy Parte II e Matplotlib - Avaliação</font>\n",
    "**Material Produzido por Luis Gustavo Nonato**<br>\n",
    "**Cemeai - ICMC/USP São Carlos**\n",
    "---"
   ]
  },
  {
   "cell_type": "code",
   "execution_count": 1,
   "metadata": {},
   "outputs": [],
   "source": [
    "import numpy as np\n",
    "import matplotlib.pyplot as plt"
   ]
  },
  {
   "cell_type": "markdown",
   "metadata": {},
   "source": [
    "### Exercício 1)\n",
    "Qual dos códigos abaixo utiliza corretamente broadcasting para somar o vetor `v` em cada **coluna** da matriz `A`, sendo que `v` e `A` são definidos como:\n",
    "```python\n",
    "A = np.zeros((4,4))\n",
    "v = np.arange(4)\n",
    "```\n",
    "\n",
    "a) A[,:] + v<br>\n",
    "b) A + v<br>\n",
    "c) A + v.T<br>\n",
    "d) A + v.reshape(4,1)"
   ]
  },
  {
   "cell_type": "code",
   "execution_count": 20,
   "metadata": {},
   "outputs": [
    {
     "name": "stdout",
     "output_type": "stream",
     "text": [
      "[0 1 2 3]\n",
      "(4, 4) (4,) (4,) (4, 1)\n",
      "\n",
      " [[0. 0. 0. 0.]\n",
      " [1. 1. 1. 1.]\n",
      " [2. 2. 2. 2.]\n",
      " [3. 3. 3. 3.]]\n"
     ]
    }
   ],
   "source": [
    "A = np.zeros((4,4))\n",
    "v = np.arange(4)\n",
    "\n",
    "B = A + v.reshape(4,1)\n",
    "\n",
    "print(v)\n",
    "print(A.shape, v.shape, v.T.shape, v.reshape(4,1).shape)\n",
    "print('\\n',B)"
   ]
  },
  {
   "cell_type": "markdown",
   "metadata": {},
   "source": [
    "### Exercício 2)\n",
    "Qual das alternativas explica corretamente como o array `W` está sendo calculado no código abaixo?\n",
    "```python\n",
    "u = np.random.randint(0,30,7)\n",
    "v = np.random.randint(0,30,10).reshape(10,1)\n",
    "\n",
    "W = v + u\n",
    "```\n",
    "\n",
    "a) O array `W` possui 10 elementos como resultado da soma dos arrays `u` e `v`, onde `u` é complementado com zeros durante o broadcasting.<br>\n",
    "b) O array `W` possui 7 elementos como resultado da soma dos arrays `u` e `v`, onde os três útlimos elementos de `v` são descartados no broadcasting.<br>\n",
    "c) O array `W` é uma matriz com 7 linhas e 10 colunas gerado a partir da soma das matriz obtidas do broadcasting do array `v` em 7 linhas e o array `u` em 10 linhas.<br>\n",
    "d) O array `W` é uma matriz com 10 linhas e 7 colunas gerado a partir da soma das matriz obtidas do broadcasting do array `v` em 7 colunas e do array `u` em 10 linhas.<br>"
   ]
  },
  {
   "cell_type": "code",
   "execution_count": 57,
   "metadata": {},
   "outputs": [
    {
     "name": "stdout",
     "output_type": "stream",
     "text": [
      "(10, 7) (10, 1) (7,)\n",
      "[ 9 29 12 12  3 17 22]\n",
      "70\n",
      "\n",
      " [[21 41 24 24 15 29 34]\n",
      " [32 52 35 35 26 40 45]\n",
      " [21 41 24 24 15 29 34]\n",
      " [34 54 37 37 28 42 47]\n",
      " [32 52 35 35 26 40 45]\n",
      " [24 44 27 27 18 32 37]\n",
      " [37 57 40 40 31 45 50]\n",
      " [33 53 36 36 27 41 46]\n",
      " [22 42 25 25 16 30 35]\n",
      " [26 46 29 29 20 34 39]]\n"
     ]
    }
   ],
   "source": [
    "u = np.random.randint(0,30,7)\n",
    "v = np.random.randint(0,30,10).reshape(10,1)\n",
    "\n",
    "W = v + u\n",
    "\n",
    "print(W.shape, v.shape, u.shape)\n",
    "print(u)\n",
    "print(W.size)\n",
    "print('\\n',W)\n"
   ]
  },
  {
   "cell_type": "markdown",
   "metadata": {},
   "source": [
    "### Exercício 3)\n",
    "Considere a matriz abaixo. Utilizando redução por média, encontre o **índice da linha** que possui a maior média dos elementos.\n",
    "```python\n",
    "A = np.array([[5, 2, 3, 6, 1, 5, 7, 7, 8, 9], [8, 8, 3, 5, 0, 1, 4, 8, 3, 7], \n",
    "              [8, 0, 0, 4, 2, 0, 2, 6, 0, 3], [5, 0, 0, 4, 4, 3, 5, 8, 0, 0], \n",
    "              [2, 4, 2, 5, 3, 4, 9, 8, 0, 0], [6, 7, 4, 8, 5, 1, 3, 5, 4, 1], \n",
    "              [6, 8, 0, 5, 2, 9, 3, 6, 1, 6], [5, 5, 2, 9, 0, 5, 5, 8, 2, 4], \n",
    "              [8, 8, 1, 8, 4, 1, 8, 9, 7, 6], [5, 6, 0, 9, 0, 4, 9, 0, 2, 0]])\n",
    "```\n",
    "a) linha de índice 8<br>\n",
    "b) linha de índice 0<br>\n",
    "c) linha de índice 5<br>\n",
    "d) linha de índice 9"
   ]
  },
  {
   "cell_type": "code",
   "execution_count": 44,
   "metadata": {},
   "outputs": [
    {
     "name": "stdout",
     "output_type": "stream",
     "text": [
      "[[5 2 3 6 1 5 7 7 8 9]\n",
      " [8 8 3 5 0 1 4 8 3 7]\n",
      " [8 0 0 4 2 0 2 6 0 3]\n",
      " [5 0 0 4 4 3 5 8 0 0]\n",
      " [2 4 2 5 3 4 9 8 0 0]\n",
      " [6 7 4 8 5 1 3 5 4 1]\n",
      " [6 8 0 5 2 9 3 6 1 6]\n",
      " [5 5 2 9 0 5 5 8 2 4]\n",
      " [8 8 1 8 4 1 8 9 7 6]\n",
      " [5 6 0 9 0 4 9 0 2 0]]\n",
      "\n",
      " A media de cada linha é:  [5.3 4.7 2.5 2.9 3.7 4.4 4.6 4.5 6.  3.5]\n",
      "A linha com maior media esta na posição:  8\n"
     ]
    }
   ],
   "source": [
    "A = np.array([[5, 2, 3, 6, 1, 5, 7, 7, 8, 9], [8, 8, 3, 5, 0, 1, 4, 8, 3, 7], \n",
    "              [8, 0, 0, 4, 2, 0, 2, 6, 0, 3], [5, 0, 0, 4, 4, 3, 5, 8, 0, 0], \n",
    "              [2, 4, 2, 5, 3, 4, 9, 8, 0, 0], [6, 7, 4, 8, 5, 1, 3, 5, 4, 1], \n",
    "              [6, 8, 0, 5, 2, 9, 3, 6, 1, 6], [5, 5, 2, 9, 0, 5, 5, 8, 2, 4], \n",
    "              [8, 8, 1, 8, 4, 1, 8, 9, 7, 6], [5, 6, 0, 9, 0, 4, 9, 0, 2, 0]])\n",
    "\n",
    "media = np.mean(A, axis = 1)\n",
    "indice_media = np.argmax(media)\n",
    "\n",
    "print(A)\n",
    "print('\\n A media de cada linha é: ',media)\n",
    "print('A linha com maior media esta na posição: ',indice_media)"
   ]
  },
  {
   "cell_type": "markdown",
   "metadata": {},
   "source": [
    "### Exercício 4) \n",
    "Considerando a matriz `A` do exercício anterior, qual o **índice da coluna** que possui a menor soma de valores?\n",
    "\n",
    "a) linha 8<br>\n",
    "b) linha 0<br>\n",
    "c) linha 2<br>\n",
    "d) linha 9"
   ]
  },
  {
   "cell_type": "code",
   "execution_count": 52,
   "metadata": {},
   "outputs": [
    {
     "name": "stdout",
     "output_type": "stream",
     "text": [
      "[[5 2 3 6 1 5 7 7 8 9]\n",
      " [8 8 3 5 0 1 4 8 3 7]\n",
      " [8 0 0 4 2 0 2 6 0 3]\n",
      " [5 0 0 4 4 3 5 8 0 0]\n",
      " [2 4 2 5 3 4 9 8 0 0]\n",
      " [6 7 4 8 5 1 3 5 4 1]\n",
      " [6 8 0 5 2 9 3 6 1 6]\n",
      " [5 5 2 9 0 5 5 8 2 4]\n",
      " [8 8 1 8 4 1 8 9 7 6]\n",
      " [5 6 0 9 0 4 9 0 2 0]]\n",
      "\n",
      " A soma de cada coluna é:  [58 48 15 63 21 33 55 65 27 36]\n",
      "A coluna com menor soma esta na posição:  2\n",
      "(10, 10)\n"
     ]
    }
   ],
   "source": [
    "# Solucao\n",
    "\n",
    "A = np.array([[5, 2, 3, 6, 1, 5, 7, 7, 8, 9], [8, 8, 3, 5, 0, 1, 4, 8, 3, 7], \n",
    "              [8, 0, 0, 4, 2, 0, 2, 6, 0, 3], [5, 0, 0, 4, 4, 3, 5, 8, 0, 0], \n",
    "              [2, 4, 2, 5, 3, 4, 9, 8, 0, 0], [6, 7, 4, 8, 5, 1, 3, 5, 4, 1], \n",
    "              [6, 8, 0, 5, 2, 9, 3, 6, 1, 6], [5, 5, 2, 9, 0, 5, 5, 8, 2, 4], \n",
    "              [8, 8, 1, 8, 4, 1, 8, 9, 7, 6], [5, 6, 0, 9, 0, 4, 9, 0, 2, 0]])\n",
    "\n",
    "sum_col = np.sum(A, axis = 0)\n",
    "indice_sum = np.argmin(sum_col)\n",
    "\n",
    "print(A)\n",
    "print('\\n A soma de cada coluna é: ',sum_col)\n",
    "print('A coluna com menor soma esta na posição: ',indice_sum)\n"
   ]
  },
  {
   "cell_type": "markdown",
   "metadata": {},
   "source": [
    "### Exercício 5)\n",
    "Suponha que a variável `A` no código abaixo é uma matriz com $n$ linhas e $m$ colunas. O que o código está realizando?\n",
    "```python\n",
    "Aargs = np.argsort(A)\n",
    "A[np.arange(A.shape[0]),Aargs[:,0]] = -1\n",
    "```\n",
    "a) Substituindo o maior valor de cada coluna por -1<br>\n",
    "b) Substituindo o maior valor de cada linha por -1<br>\n",
    "c) Substituindo o menor valor de cada linha por -1<br>\n",
    "d) Substituindo o menor valor de cada coluna por -1"
   ]
  },
  {
   "cell_type": "code",
   "execution_count": null,
   "metadata": {},
   "outputs": [],
   "source": [
    "# Solucao\n"
   ]
  }
 ],
 "metadata": {
  "kernelspec": {
   "display_name": "Python 3",
   "language": "python",
   "name": "python3"
  },
  "language_info": {
   "codemirror_mode": {
    "name": "ipython",
    "version": 3
   },
   "file_extension": ".py",
   "mimetype": "text/x-python",
   "name": "python",
   "nbconvert_exporter": "python",
   "pygments_lexer": "ipython3",
   "version": "3.8.8"
  }
 },
 "nbformat": 4,
 "nbformat_minor": 2
}
