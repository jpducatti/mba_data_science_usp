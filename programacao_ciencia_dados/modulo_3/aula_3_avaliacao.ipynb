{
 "cells": [
  {
   "cell_type": "markdown",
   "metadata": {
    "id": "ot40VXRWWN4u"
   },
   "source": [
    "# <span style=\"color:blue\"> MBA em Ciência de Dados</span>\n",
    "# <span style=\"color:blue\">Programação para Ciência de Dados</span>\n",
    "\n",
    "## <span style=\"color:blue\">Avaliação Python Parte III</span>\n",
    "**Material Produzido por Luis Gustavo Nonato**<br>\n",
    "**Cemeai - ICMC/USP São Carlos**"
   ]
  },
  {
   "cell_type": "markdown",
   "metadata": {
    "id": "OLGsvr9HWN41"
   },
   "source": [
    "### Exercício 1)\n",
    "Considere a lista `numeros` abaixo. Utilize o comando <font color='white'>map</font> para gerar uma nova lista `par_impar` contendo valores <font color='white'>True</font> ou <font color='white'>False</font> dependendo se o elemento da lista `numeros` é par (<font color='white'>True</font>) ou ímpar (<font color='white'>False</font>), respectivamente. Por exemplo:\n",
    "```python\n",
    "numeros = [7, 3, 2, 13,...]\n",
    "par_impar = [False, False, True, False,...]\n",
    "```\n",
    "\n",
    "Qual das opções abaixo gera a lista `par_impar` corretamente:<br>\n",
    "a) map(lambda x: x%2==0,list(numeros))<br>\n",
    "b) map(lambda x: x%2==0,numeros)<br>\n",
    "c) list(map(lambda x: x%2==0,numeros))<br> \n",
    "d) list(lambda x: x%2==0,map(numeros))"
   ]
  },
  {
   "cell_type": "code",
   "execution_count": 2,
   "metadata": {
    "colab": {
     "base_uri": "https://localhost:8080/"
    },
    "executionInfo": {
     "elapsed": 960,
     "status": "ok",
     "timestamp": 1613313342878,
     "user": {
      "displayName": "Edesio Alcobaça",
      "photoUrl": "https://lh3.googleusercontent.com/a-/AOh14GhybDI1qzP3W03EYKTP89NWEXxwNg5z5OM5L6kdTg=s64",
      "userId": "10422480453975814446"
     },
     "user_tz": 180
    },
    "id": "aBPuHjUvWN42",
    "outputId": "1f095fe0-aa53-4ac8-b611-9abf145e4804"
   },
   "outputs": [
    {
     "name": "stdout",
     "output_type": "stream",
     "text": [
      "[False, False, True, False, True, False, True, False, True, True, True, False, False, False, False, True, True, True, False, False, True, False, False, False, False, False, True, True, True, False, False, True, False, True, False, True, True, False, False, True, False, False, True, True, True, False, False, True, True, True]\n"
     ]
    }
   ],
   "source": [
    "numeros = [7, 3, 2, 13, 44, 3, 30, 47, 28, 10, 4, 17, 7, 37, 21, 32, 44, 2, 33, 9, 26, \n",
    "           9, 29, 9, 49, 11, 8, 42, 26, 23, 17, 16, 37, 26, 19, 26, 8, 27, 15, 10, 31, \n",
    "           41, 42, 10, 4, 9, 7, 18, 44, 12]\n",
    "\n",
    "# Solucao\n",
    "par_impar = list(map(lambda x: x%2==0, numeros))\n",
    "print(par_impar)"
   ]
  },
  {
   "cell_type": "markdown",
   "metadata": {
    "id": "0X5CJb0WWN43"
   },
   "source": [
    "### Exercício 2)\n",
    "Considere a lista `numeros` abaixo. Utilize o comando <font color='white'>filter</font> para gerar uma nova lista chamada `menores12` contendo somente os elementos de `numeros` que são menores ou iguais a 12. Os 5 primeiros elementos da lista serão:<br>\n",
    "a) [7, 3, 2, 3, 4, ...]<br>\n",
    "b) [7, 3, 8, 12, 6, ...]<br>\n",
    "c) [7, 3, 12, 6, 8, ...]<br>\n",
    "d) [7, 3, 8, 6, 8, ...]<br>"
   ]
  },
  {
   "cell_type": "code",
   "execution_count": 5,
   "metadata": {
    "colab": {
     "base_uri": "https://localhost:8080/"
    },
    "executionInfo": {
     "elapsed": 1244,
     "status": "ok",
     "timestamp": 1613067184377,
     "user": {
      "displayName": "Andre Marcos Perez",
      "photoUrl": "https://lh3.googleusercontent.com/a-/AOh14GhHuUOFQZqm5dBQn9kV-xXfsDp5LVNUwCjGLlBU=s64",
      "userId": "10601481038862842422"
     },
     "user_tz": 180
    },
    "id": "99XJEoJdWN44",
    "outputId": "39b40424-1382-4ce0-da05-363fb0327b8a"
   },
   "outputs": [
    {
     "name": "stdout",
     "output_type": "stream",
     "text": [
      "[7, 3, 8, 12, 6, 11, 8, 6, 8, 10, 10, 4, 9, 2, 12]\n"
     ]
    }
   ],
   "source": [
    "numeros = [7, 3, 13, 44, 13, 30, 47, 8, 15, 14, 22, 17, 32, 21, 32, 44, 21, 36, 19, 26, \n",
    "           12, 6, 29, 36, 49, 11, 8, 42, 26, 20, 6, 16, 38, 26, 19, 26, 8, 22, 14, 10, 30, \n",
    "           41, 42, 10, 4, 9, 2, 18, 44, 12]\n",
    "\n",
    "# Solucao\n",
    "menores12 = list(filter(lambda x: x<=12,numeros))\n",
    "print(menores12)"
   ]
  },
  {
   "cell_type": "markdown",
   "metadata": {
    "id": "QedRh0OTWN45"
   },
   "source": [
    "### Exercício 3)\n",
    "Considere a lista `numeros` abaixo. Utilize uma combinação dos comandos \n",
    "<font color='white'>reduce</font> e <font color='white'>filter</font> para somar todos os elementos da lista que são menores que 10. O código que gera a soma corretamente será:<br>\n",
    "a) list(reduce(lambda x,y: x+y,list(filter(lambda x: x<10,numeros))))<br>\n",
    "b) reduce(lambda x,y: x+y,list(filter(lambda x: x%2==0,numeros)))<br>\n",
    "c) reduce(lambda x,y: x+y,filter(lambda x: x>10,numeros))<br>\n",
    "d) reduce(lambda x,y: x+y,list(filter(lambda x: x<10,numeros)))\n",
    "    "
   ]
  },
  {
   "cell_type": "code",
   "execution_count": 6,
   "metadata": {
    "colab": {
     "base_uri": "https://localhost:8080/"
    },
    "executionInfo": {
     "elapsed": 1240,
     "status": "ok",
     "timestamp": 1613067184378,
     "user": {
      "displayName": "Andre Marcos Perez",
      "photoUrl": "https://lh3.googleusercontent.com/a-/AOh14GhHuUOFQZqm5dBQn9kV-xXfsDp5LVNUwCjGLlBU=s64",
      "userId": "10601481038862842422"
     },
     "user_tz": 180
    },
    "id": "gdLTUMHnWN45",
    "outputId": "f4b6fd0b-d47c-4b84-89cb-196387a647bb"
   },
   "outputs": [
    {
     "name": "stdout",
     "output_type": "stream",
     "text": [
      "91\n"
     ]
    }
   ],
   "source": [
    "from functools import reduce\n",
    "\n",
    "numeros = [7, 3, 2, 13, 44, 3, 30, 47, 28, 10, 4, 17, 7, 37, 21, 32, 44, 2, 33, 9, 26, \n",
    "           9, 29, 9, 49, 11, 8, 42, 26, 23, 17, 16, 37, 26, 19, 26, 8, 27, 15, 10, 31, \n",
    "           41, 42, 10, 4, 9, 7, 18, 44, 12]\n",
    "\n",
    "# Solucao\n",
    "valor = reduce(lambda x,y: x+y, list(filter(lambda x: x<10, numeros)))\n",
    "print(valor)"
   ]
  },
  {
   "cell_type": "markdown",
   "metadata": {
    "id": "12JHpGqVWN45"
   },
   "source": [
    "### Exercício 4)\n",
    "Assinale a alternativa que melhor explica o que significa `x` e `i` na declaração `x(i)` que está dentro do comando <font color='white'>map</font> no código abaixo:<br>\n",
    "\n",
    "a) `x` corresponde a um dos elementos da lista `func` e `i` é um número da lista [0,1,2,3,4].<br>\n",
    "b) `x` corresponde a lista `func` e `i` é um dos elementos desta lista.<br>\n",
    "c) `x` corresponde a lista de números [0,1,2,3,4] e `i` é um dos elementos da lista.<br>\n",
    "d)  `x` corresponde a `func` e `i` é um dos elementos de `func`.<br>"
   ]
  },
  {
   "cell_type": "code",
   "execution_count": 7,
   "metadata": {
    "colab": {
     "base_uri": "https://localhost:8080/"
    },
    "executionInfo": {
     "elapsed": 1235,
     "status": "ok",
     "timestamp": 1613067184378,
     "user": {
      "displayName": "Andre Marcos Perez",
      "photoUrl": "https://lh3.googleusercontent.com/a-/AOh14GhHuUOFQZqm5dBQn9kV-xXfsDp5LVNUwCjGLlBU=s64",
      "userId": "10601481038862842422"
     },
     "user_tz": 180
    },
    "id": "a7yWWRVEWN46",
    "outputId": "e9988cde-466c-45bf-dfeb-8615555c4cf6"
   },
   "outputs": [
    {
     "name": "stdout",
     "output_type": "stream",
     "text": [
      "[0, 0]\n",
      "[1, 1]\n",
      "[4, 8]\n",
      "[9, 27]\n",
      "[16, 64]\n"
     ]
    }
   ],
   "source": [
    "def quadrado(x):\n",
    "    return(x**2)\n",
    "\n",
    "def cubo(x):\n",
    "    return(x**3)\n",
    "\n",
    "funcs = [quadrado, cubo]\n",
    "for i in range(5):\n",
    "    res = map(lambda x: x(i),funcs)\n",
    "    print(list(res))"
   ]
  },
  {
   "cell_type": "markdown",
   "metadata": {
    "id": "EM5UBhWBt1u1"
   },
   "source": [
    "### Exercício 5)\n",
    "No arquivo <font color='blue'>`roda-viva.txt`</font>, temos o refrão incompleto da música Roda Viva de Chico Buarque. O código abaixo deveria adicionar o verso <font color='blue'>`Nas voltas do meu coracao`</font> no final do arquivo para completar o refrão, mas está sobreescrevendo todo o texto. Qual o valor que a variável <font color='blue'>`mode`</font> deve assumir para que o código cumpra o objetivo descrito:\n",
    "\n",
    "a) `r+`<br>\n",
    "b) `a`<br>\n",
    "c) `wb`<br>\n",
    "d) `w+`<br>"
   ]
  },
  {
   "cell_type": "code",
   "execution_count": 15,
   "metadata": {
    "colab": {
     "base_uri": "https://localhost:8080/"
    },
    "executionInfo": {
     "elapsed": 1231,
     "status": "ok",
     "timestamp": 1613067184379,
     "user": {
      "displayName": "Andre Marcos Perez",
      "photoUrl": "https://lh3.googleusercontent.com/a-/AOh14GhHuUOFQZqm5dBQn9kV-xXfsDp5LVNUwCjGLlBU=s64",
      "userId": "10601481038862842422"
     },
     "user_tz": 180
    },
    "id": "1HAPHihnuKXq",
    "outputId": "32142f34-eec8-4aee-f0a5-2ca143dc6cbf"
   },
   "outputs": [
    {
     "name": "stdout",
     "output_type": "stream",
     "text": [
      "Overwriting roda-viva.txt\n"
     ]
    }
   ],
   "source": [
    "%%writefile roda-viva.txt \n",
    "Roda mundo, roda-gigante\n",
    "Roda moinho, roda piao\n",
    "O tempo rodou num instante"
   ]
  },
  {
   "cell_type": "code",
   "execution_count": 16,
   "metadata": {
    "id": "iAPlVRedt6za"
   },
   "outputs": [],
   "source": [
    "mode = 'a'# Solucao\n",
    "with open(file='roda-viva.txt', mode=mode) as fp:\n",
    "  verso = 'Nas voltas do meu coracao'\n",
    "  fp.write(verso)"
   ]
  },
  {
   "cell_type": "code",
   "execution_count": null,
   "metadata": {},
   "outputs": [],
   "source": []
  }
 ],
 "metadata": {
  "colab": {
   "collapsed_sections": [],
   "name": "Python III avaliacao - solucoes.ipynb",
   "provenance": [],
   "toc_visible": true
  },
  "kernelspec": {
   "display_name": "Python 3",
   "language": "python",
   "name": "python3"
  },
  "language_info": {
   "codemirror_mode": {
    "name": "ipython",
    "version": 3
   },
   "file_extension": ".py",
   "mimetype": "text/x-python",
   "name": "python",
   "nbconvert_exporter": "python",
   "pygments_lexer": "ipython3",
   "version": "3.9.7"
  }
 },
 "nbformat": 4,
 "nbformat_minor": 1
}
