{
 "cells": [
  {
   "cell_type": "markdown",
   "metadata": {},
   "source": [
    "# <font color=\"blue\"> MBA em Ciência de Dados</font>\n",
    "# <font color=\"blue\">Programação para Ciência de Dados</font>\n",
    "\n",
    "## <font color=\"blue\">Pandas Parte II</font>\n",
    "**Material Produzido por Luis Gustavo Nonato**<br>\n",
    "**Cemeai - ICMC/USP São Carlos**\n",
    "---"
   ]
  },
  {
   "cell_type": "markdown",
   "metadata": {},
   "source": [
    "__Conteúdo:__\n",
    "\n",
    "- Dados faltantes\n",
    "- Processando dados\n",
    "- Combinando e transformando\n",
    "- Estatísticas\n",
    "\n",
    "__Referências__ <br>\n",
    "- [Pandas: powerful Python data analysis toolkit: Wes McKinney & PyData Devel. Team](https://pandas.pydata.org/pandas-docs/stable/pandas.pdf)\n",
    "- [http://pandas.pydata.org/pandas-docs/stable/index.html](http://pandas.pydata.org/pandas-docs/stable/index.html)"
   ]
  },
  {
   "cell_type": "markdown",
   "metadata": {},
   "source": [
    "## Relembrando\n",
    "Pandas permite estruturar dados como:\n",
    "\n",
    "__Series__\n",
    "- Objeto similar a um array unidimensional, contendo dados e rótulos (indice de linhas)\n",
    "\n",
    "__DataFrame__\n",
    "- Similar a uma planilha, contendo dados com rótulos para linhas e colunas"
   ]
  },
  {
   "cell_type": "markdown",
   "metadata": {},
   "source": [
    "## Dados faltantes\n",
    "Dados faltantes são muito comuns em aplicações reais, ou seja, valores dos elementos não são fornecidos para algumas entradas de uma Série ou DataFrame. Dados faltantes são representados pelo <font color='blue'>pandas</font> com o símbolo 'NaN'.\n",
    "\n",
    "Pandas fornece diversas funcionalidades para lidar com dados faltantes, por exemplo:\n",
    "- detectar dados faltantes com os métodos <font color='blue'>isnull</font> e <font color='blue'>notnull</font>\n",
    "- remover linhas que contenham dados faltantes utilizando o método <font color='blue'>dropna</font>\n",
    "   - linhas faltando qualquer elemento \n",
    "   - linhas faltando todos os dados\n",
    "   - linhas faltando um número específico de dados\n",
    "- Substituir os valores faltantes (NaN) por um valor específico utilizando o método  <font color='blue'>fillna</font>\n",
    "- Especificar valores para substituir dados faltantes por meio de operações aritmétricas"
   ]
  },
  {
   "cell_type": "markdown",
   "metadata": {},
   "source": [
    "A célula abaixo gera um arquivo chamado <font style=\"font-family: monaco\">missing.csv</font> com vários dados faltantes."
   ]
  },
  {
   "cell_type": "code",
   "execution_count": 1,
   "metadata": {},
   "outputs": [],
   "source": [
    "import pandas as pd"
   ]
  },
  {
   "cell_type": "code",
   "execution_count": 2,
   "metadata": {},
   "outputs": [
    {
     "name": "stdout",
     "output_type": "stream",
     "text": [
      "Overwriting missing.csv\n"
     ]
    }
   ],
   "source": [
    "%%writefile missing.csv\n",
    "Colorado,,,,\n",
    "Ohio,3,5,6,9\n",
    "Oregon,,,,\n",
    "Texas,9,12,,\n",
    "Utah,,,,"
   ]
  },
  {
   "cell_type": "code",
   "execution_count": 3,
   "metadata": {},
   "outputs": [
    {
     "name": "stdout",
     "output_type": "stream",
     "text": [
      "          0    1     2    3    4\n",
      "0  Colorado  NaN   NaN  NaN  NaN\n",
      "1      Ohio  3.0   5.0  6.0  9.0\n",
      "2    Oregon  NaN   NaN  NaN  NaN\n",
      "3     Texas  9.0  12.0  NaN  NaN\n",
      "4      Utah  NaN   NaN  NaN  NaN\n"
     ]
    }
   ],
   "source": [
    "df = pd.read_csv('missing.csv',header=None) # carregando o arquivo 'missing.csv'\n",
    "                                            # como o arquivo não possui rótulos para as\n",
    "                                            # colunas, o comando 'header=None' cria os \n",
    "                                            # rótulos automaticamente com valores de 0 até n-1\n",
    "                                            # onde n é o número de colunas\n",
    "print(df)"
   ]
  },
  {
   "cell_type": "markdown",
   "metadata": {},
   "source": [
    "### <font color='blue'>isnull</font>\n",
    "O método <font color='blue'>isnull</font> cria uma máscara booleana onde os valores `True` correspondem às entradas com dados faltantes"
   ]
  },
  {
   "cell_type": "code",
   "execution_count": 4,
   "metadata": {},
   "outputs": [
    {
     "name": "stdout",
     "output_type": "stream",
     "text": [
      "       0      1      2      3      4\n",
      "0  False   True   True   True   True\n",
      "1  False  False  False  False  False\n",
      "2  False   True   True   True   True\n",
      "3  False  False  False   True   True\n",
      "4  False   True   True   True   True\n"
     ]
    }
   ],
   "source": [
    "# o método 'isnull' cria uma máscara booleana onde os valores True \n",
    "# correspondem às entradas com dados faltantes\n",
    "\n",
    "print(df.isnull())"
   ]
  },
  {
   "cell_type": "markdown",
   "metadata": {},
   "source": [
    "### <font color='blue'>dropna</font>\n",
    "O método <font color='blue'>dropna</font> remove todas as linhas onde dados faltantes aparecem."
   ]
  },
  {
   "cell_type": "code",
   "execution_count": 5,
   "metadata": {},
   "outputs": [
    {
     "name": "stdout",
     "output_type": "stream",
     "text": [
      "      0    1    2    3    4\n",
      "1  Ohio  3.0  5.0  6.0  9.0\n"
     ]
    }
   ],
   "source": [
    "# o método 'dropna' remove todas as linhas onde existem dados faltantes;\n",
    "# como apenas a linha de índice 1 não possui dados faltantes, o resultado é\n",
    "# um DataFrame com apenas uma linha\n",
    "\n",
    "print(df.dropna())"
   ]
  },
  {
   "cell_type": "markdown",
   "metadata": {},
   "source": [
    "O parâmetro `how` do método <font color='blue'>dropna</font> permite especificar se apenas as linhas com todos os dados faltantes devem ser removidas (how='all') ou se linhas que contenham algum dado faltante deve ser removida (how='any')"
   ]
  },
  {
   "cell_type": "code",
   "execution_count": 9,
   "metadata": {},
   "outputs": [
    {
     "name": "stdout",
     "output_type": "stream",
     "text": [
      "          0    1     2    3    4\n",
      "0  Colorado  NaN   NaN  NaN  NaN\n",
      "1      Ohio  3.0   5.0  6.0  9.0\n",
      "2    Oregon  NaN   NaN  NaN  NaN\n",
      "3     Texas  9.0  12.0  NaN  NaN\n",
      "4      Utah  NaN   NaN  NaN  NaN\n",
      "          0\n",
      "0  Colorado\n",
      "1      Ohio\n",
      "2    Oregon\n",
      "3     Texas\n",
      "4      Utah\n"
     ]
    }
   ],
   "source": [
    "print(df.dropna(how='all'))  # remove linhas onde todos os dados estejam faltando\n",
    "\n",
    "# o parâmetro 'axis' pode ser especificado para que, ao invés de linhas, colunas \n",
    "# com dados faltantes sejam removidas\n",
    "\n",
    "print(df.dropna(how='any',axis=1)) # remove colunas que contenham algum dado faltante,\n",
    "                                   # neste exemplo, apenas a coluna de índice 0\n",
    "                                   # não contém dados faltantes"
   ]
  },
  {
   "cell_type": "markdown",
   "metadata": {},
   "source": [
    "O parâmetro `thresh` mantém linhas com pelo menos $k$ entradas que NÃO são dados faltantes. Em outras palavras, \n",
    "para que uma linha não seja removida, ela precisa ter no pelo menos $k$ dados válidos. É possível combinar o `thresh` com `axis` para remover colunas onde não existem pelo menos $k$ dados válidos."
   ]
  },
  {
   "cell_type": "code",
   "execution_count": 10,
   "metadata": {},
   "outputs": [
    {
     "name": "stdout",
     "output_type": "stream",
     "text": [
      "       0    1     2    3    4\n",
      "1   Ohio  3.0   5.0  6.0  9.0\n",
      "3  Texas  9.0  12.0  NaN  NaN\n",
      "          0    1     2\n",
      "0  Colorado  NaN   NaN\n",
      "1      Ohio  3.0   5.0\n",
      "2    Oregon  NaN   NaN\n",
      "3     Texas  9.0  12.0\n",
      "4      Utah  NaN   NaN\n"
     ]
    }
   ],
   "source": [
    "print(df.dropna(thresh=2)) # remove linhas que não contenham pelo menos 2 dados válidos\n",
    "\n",
    "print(df.dropna(thresh=2, axis=1)) # remove colunas que não contenham pelo menos 2 dados válidos"
   ]
  },
  {
   "cell_type": "markdown",
   "metadata": {},
   "source": [
    "### <font color='blue'>fillna</font>\n",
    "O método <font color='blue'>fillna</font> permite substituir dados faltantes por algum valor especificado."
   ]
  },
  {
   "cell_type": "code",
   "execution_count": 4,
   "metadata": {},
   "outputs": [
    {
     "name": "stdout",
     "output_type": "stream",
     "text": [
      "\n",
      "DataFrame original\n",
      "          0    1     2    3    4\n",
      "0  Colorado  NaN   NaN  NaN  NaN\n",
      "1      Ohio  3.0   5.0  6.0  9.0\n",
      "2    Oregon  NaN   NaN  NaN  NaN\n",
      "3     Texas  9.0  12.0  NaN  NaN\n",
      "4      Utah  NaN   NaN  NaN  NaN\n",
      "DataFrame com valores faltantes substituidos por 0\n",
      "          0    1     2    3    4\n",
      "0  Colorado  0.0   0.0  0.0  0.0\n",
      "1      Ohio  3.0   5.0  6.0  9.0\n",
      "2    Oregon  0.0   0.0  0.0  0.0\n",
      "3     Texas  9.0  12.0  0.0  0.0\n",
      "4      Utah  0.0   0.0  0.0  0.0\n"
     ]
    }
   ],
   "source": [
    "print('\\nDataFrame original')\n",
    "print(df)\n",
    "\n",
    "df1 = df.fillna(0) # Substitui valores faltantes por zero e guarda em um novo DataFrame \n",
    "                   # O DataFrame original não é afetado\n",
    "print('DataFrame com valores faltantes substituidos por 0')\n",
    "print(df1)\n"
   ]
  },
  {
   "cell_type": "markdown",
   "metadata": {},
   "source": [
    "Pode-se utilizar um dicionário para empregar um valor diferente para cada coluna.\n",
    "A chave do dicionário deve ser o rótulo da coluna e o valor correspondente é\n",
    "o valor que substituirá o dado faltante na coluna."
   ]
  },
  {
   "cell_type": "code",
   "execution_count": 12,
   "metadata": {},
   "outputs": [
    {
     "name": "stdout",
     "output_type": "stream",
     "text": [
      "          0    1     2    3    4\n",
      "0  Colorado -1.0   NaN  0.0  1.0\n",
      "1      Ohio  3.0   5.0  6.0  9.0\n",
      "2    Oregon -1.0   NaN  0.0  1.0\n",
      "3     Texas  9.0  12.0  0.0  1.0\n",
      "4      Utah -1.0   NaN  0.0  1.0\n"
     ]
    }
   ],
   "source": [
    "print(df.fillna({1:-1,3:0,4:1})) # substitui o valor faltante da coluna 1 por -1\n",
    "                                 # da coluna 3 por 0 e da coluna 4 por 1"
   ]
  },
  {
   "cell_type": "markdown",
   "metadata": {},
   "source": [
    "## Processando os dados\n",
    "<font color='blue'>Pandas</font> fornece diversos mecanismos para manipular um DataFrame (ou Série). Exemplos de métodos são:\n",
    "\n",
    "- <font color='blue'>duplicated</font> e <font color='blue'>drop_duplicates</font>: encontra e remove linhas duplicadas, respectivamente\n",
    "- <font color='blue'>map</font>: transforma valores ou adiciona novas colunas com valores processados a partir de outras colunas\n",
    "- <font color='blue'>replace</font> substitui um valor específico\n",
    "- <font color='blue'>rename</font> modifica os rótulos das linhas ou colunas"
   ]
  },
  {
   "cell_type": "code",
   "execution_count": 6,
   "metadata": {},
   "outputs": [],
   "source": [
    "import pandas as pd"
   ]
  },
  {
   "cell_type": "code",
   "execution_count": 5,
   "metadata": {},
   "outputs": [
    {
     "name": "stdout",
     "output_type": "stream",
     "text": [
      "    c0  c1\n",
      "0  one   1\n",
      "1  one   1\n",
      "2  one   2\n",
      "3  two   3\n",
      "4  two   3\n",
      "5  two   4\n",
      "6  two   4\n"
     ]
    }
   ],
   "source": [
    "df = pd.DataFrame({'c0':['one','one','one','two','two','two','two'],\n",
    "                   'c1':[1,1,2,3,3,4,4]})  # gerando um DataFrame a partir \n",
    "                                           # de um dicionário\n",
    "print(df)"
   ]
  },
  {
   "cell_type": "markdown",
   "metadata": {},
   "source": [
    "###  <font color='blue'>duplicated</font> e <font color='blue'>drop_duplicates</font>"
   ]
  },
  {
   "cell_type": "code",
   "execution_count": 6,
   "metadata": {},
   "outputs": [
    {
     "name": "stdout",
     "output_type": "stream",
     "text": [
      "0    False\n",
      "1     True\n",
      "2    False\n",
      "3    False\n",
      "4     True\n",
      "5    False\n",
      "6     True\n",
      "dtype: bool\n",
      "    c0  c1\n",
      "0  one   1\n",
      "2  one   2\n",
      "3  two   3\n",
      "5  two   4\n"
     ]
    }
   ],
   "source": [
    "# detecta linhas duplicadas\n",
    "print(df.duplicated())  # gera uma série booleana onde os valores True correspondem\n",
    "                        # as linhas do DataFrame que estão duplicadas\n",
    "\n",
    "print(df.drop_duplicates())  # remove todas as linhas duplicadas"
   ]
  },
  {
   "cell_type": "markdown",
   "metadata": {},
   "source": [
    "### <font color='blue'>map</font>\n",
    "O método <font color='blue'>map</font> assume como parâmetro uma regra, que pode ser uma função ou um dicionário, a fim de transformar os valores de uma coluna com base na regra ou no dicionário."
   ]
  },
  {
   "cell_type": "code",
   "execution_count": 11,
   "metadata": {},
   "outputs": [
    {
     "name": "stdout",
     "output_type": "stream",
     "text": [
      "     food  ounces   type\n",
      "0   Bread       4  dough\n",
      "1   Apple       3  fruit\n",
      "2  Cheese      12  dairy\n"
     ]
    }
   ],
   "source": [
    "dt = {'food': ['Bread','Apple','Cheese'],  # construindo um DataFrame a partir de um dicionário\n",
    "      'ounces': [4,3,12],\n",
    "      'type':['dough','fruit','dairy']\n",
    "     }\n",
    "\n",
    "df = pd.DataFrame(dt)\n",
    "print(df)"
   ]
  },
  {
   "cell_type": "code",
   "execution_count": 12,
   "metadata": {},
   "outputs": [
    {
     "name": "stdout",
     "output_type": "stream",
     "text": [
      "     food  ounces   type\n",
      "0   Bread       4  DOUGH\n",
      "1   Apple       3  FRUIT\n",
      "2  Cheese      12  DAIRY\n"
     ]
    }
   ],
   "source": [
    "# modificando os valores da coluna 'type' para que fiquem em letras maiusculas\n",
    "df['type'] = df['type'].map(lambda x: x.upper())\n",
    "print(df)"
   ]
  },
  {
   "cell_type": "code",
   "execution_count": 13,
   "metadata": {},
   "outputs": [
    {
     "name": "stdout",
     "output_type": "stream",
     "text": [
      "     food  ounces   type calories\n",
      "0   Bread       4  DOUGH     high\n",
      "1   Apple       3  FRUIT      low\n",
      "2  Cheese      12  DAIRY     high\n"
     ]
    }
   ],
   "source": [
    "# O resultado da transformação pode ser atribuído a uma nova coluna no DataFrame\n",
    "\n",
    "calories_by_type = {'Cheese':'high','Apple':'low','Bread':'high'} # a chave do dicionário\n",
    "                                                        # corresponde ao valor da coluna\n",
    "                                                        # que será mapeado. O valor associado\n",
    "                                                        # à chave é o resultado do mapeamento\n",
    "\n",
    "df['calories'] = df['food'].map(calories_by_type) # uma nova coluna é criada pelo mapeamento\n",
    "print(df)"
   ]
  },
  {
   "cell_type": "markdown",
   "metadata": {},
   "source": [
    "Se um valor não é especificado no mapeamento, o símbolo de dado faltante (NaN) é inserido na entrada correspondente."
   ]
  },
  {
   "cell_type": "code",
   "execution_count": 14,
   "metadata": {},
   "outputs": [
    {
     "name": "stdout",
     "output_type": "stream",
     "text": [
      "     food  ounces   type\n",
      "0   Bread       4  dough\n",
      "1   Apple       3  fruit\n",
      "2  Cheese      12  dairy\n",
      "3    Rice       9  grain\n"
     ]
    }
   ],
   "source": [
    "dt = {'food': ['Bread','Apple','Cheese','Rice'],  # construindo um DataFrame a partir de um dicionário\n",
    "      'ounces': [4,3,12,9],\n",
    "      'type':['dough','fruit','dairy','grain']\n",
    "     }\n",
    "\n",
    "df = pd.DataFrame(dt)\n",
    "print(df)"
   ]
  },
  {
   "cell_type": "code",
   "execution_count": 15,
   "metadata": {},
   "outputs": [
    {
     "name": "stdout",
     "output_type": "stream",
     "text": [
      "     food  ounces   type calories\n",
      "0   Bread       4  dough     high\n",
      "1   Apple       3  fruit      low\n",
      "2  Cheese      12  dairy     high\n",
      "3    Rice       9  grain      NaN\n"
     ]
    }
   ],
   "source": [
    "calories_by_type = {'Cheese':'high','Apple':'low','Bread':'high'}\n",
    "\n",
    "df['calories'] = df['food'].map(calories_by_type) # Se um valor não é especificado no mapeamento, NaN é inserido\n",
    "print(df)"
   ]
  },
  {
   "cell_type": "markdown",
   "metadata": {},
   "source": [
    "### <font color='blue'>replace</font>\n",
    "O método <font color='blue'>replace</font> permite:\n",
    "- substituir valores no DataFrame todo \n",
    "   - para isso o parâmetro passado para o 'replace' deve ser um dicionário ou duas listas \n",
    "- substituir valores em colunas específicas\n",
    "   - neste caso o parâmetro deve ser um dicionário de dicionários"
   ]
  },
  {
   "cell_type": "code",
   "execution_count": 16,
   "metadata": {},
   "outputs": [
    {
     "name": "stdout",
     "output_type": "stream",
     "text": [
      "   c1  c2   c3   c4\n",
      "0   1   2  bla  cla\n",
      "1   2   4  cla  bla\n",
      "2   3   6  dla  fla\n",
      "3   4   8  ela  ela\n",
      "4   5  10  fla  dla\n"
     ]
    }
   ],
   "source": [
    "# criando um DataFrame a partir de um dicionário\n",
    "dfr = pd.DataFrame({'c1':[1,2,3,4,5],'c2':[2,4,6,8,10],'c3':['bla','cla','dla','ela','fla'],\n",
    "                   'c4':['cla','bla','fla','ela','dla']})\n",
    "print(dfr)"
   ]
  },
  {
   "cell_type": "markdown",
   "metadata": {},
   "source": [
    "**Substituindo valores no DataFrame todo utilizando duas listas**\n",
    "\n",
    "- A primeira lista corresponde aos valores que serão modificados,a segunda lista contém os novos valores."
   ]
  },
  {
   "cell_type": "code",
   "execution_count": 17,
   "metadata": {},
   "outputs": [
    {
     "data": {
      "text/html": [
       "<div>\n",
       "<style scoped>\n",
       "    .dataframe tbody tr th:only-of-type {\n",
       "        vertical-align: middle;\n",
       "    }\n",
       "\n",
       "    .dataframe tbody tr th {\n",
       "        vertical-align: top;\n",
       "    }\n",
       "\n",
       "    .dataframe thead th {\n",
       "        text-align: right;\n",
       "    }\n",
       "</style>\n",
       "<table border=\"1\" class=\"dataframe\">\n",
       "  <thead>\n",
       "    <tr style=\"text-align: right;\">\n",
       "      <th></th>\n",
       "      <th>c1</th>\n",
       "      <th>c2</th>\n",
       "      <th>c3</th>\n",
       "      <th>c4</th>\n",
       "    </tr>\n",
       "  </thead>\n",
       "  <tbody>\n",
       "    <tr>\n",
       "      <th>0</th>\n",
       "      <td>1</td>\n",
       "      <td>-2</td>\n",
       "      <td>bla</td>\n",
       "      <td>Clam</td>\n",
       "    </tr>\n",
       "    <tr>\n",
       "      <th>1</th>\n",
       "      <td>-2</td>\n",
       "      <td>4</td>\n",
       "      <td>Clam</td>\n",
       "      <td>bla</td>\n",
       "    </tr>\n",
       "    <tr>\n",
       "      <th>2</th>\n",
       "      <td>3</td>\n",
       "      <td>6</td>\n",
       "      <td>dla</td>\n",
       "      <td>fla</td>\n",
       "    </tr>\n",
       "    <tr>\n",
       "      <th>3</th>\n",
       "      <td>4</td>\n",
       "      <td>8</td>\n",
       "      <td>ela</td>\n",
       "      <td>ela</td>\n",
       "    </tr>\n",
       "    <tr>\n",
       "      <th>4</th>\n",
       "      <td>5</td>\n",
       "      <td>10</td>\n",
       "      <td>fla</td>\n",
       "      <td>dla</td>\n",
       "    </tr>\n",
       "  </tbody>\n",
       "</table>\n",
       "</div>"
      ],
      "text/plain": [
       "   c1  c2    c3    c4\n",
       "0   1  -2   bla  Clam\n",
       "1  -2   4  Clam   bla\n",
       "2   3   6   dla   fla\n",
       "3   4   8   ela   ela\n",
       "4   5  10   fla   dla"
      ]
     },
     "execution_count": 17,
     "metadata": {},
     "output_type": "execute_result"
    }
   ],
   "source": [
    "# substituindo valores no DataFrame todo utilizando duas listas:\n",
    "\n",
    "# no exemplo abaixo, 2 será substituido por -2 e 'cla' por 'Clam'\n",
    "\n",
    "dfr.replace([2,'cla'],[-2,'Clam'])"
   ]
  },
  {
   "cell_type": "markdown",
   "metadata": {},
   "source": [
    "**Substituindo valores no DataFrame todo utilizando um dicionário**\n",
    "\n",
    "- As chaves correspondem aos valores que serão modificados e os valores correspondentes são os novos valores."
   ]
  },
  {
   "cell_type": "code",
   "execution_count": 18,
   "metadata": {},
   "outputs": [
    {
     "name": "stdout",
     "output_type": "stream",
     "text": [
      "   c1  c2    c3    c4\n",
      "0   1   2   bla   cla\n",
      "1   2  -4   cla   bla\n",
      "2   3   6   dla  Palm\n",
      "3  -4   8   ela   ela\n",
      "4   5  10  Palm   dla\n"
     ]
    }
   ],
   "source": [
    "# substituindo valores no DataFrame todo utilizando um dicionário\n",
    "\n",
    "# no exemplo abaixo, 4 será substituido por -4 e 'fla' por 'Palm'\n",
    "\n",
    "print(dfr.replace({4:-4,'fla':'Palm'}))"
   ]
  },
  {
   "cell_type": "markdown",
   "metadata": {},
   "source": [
    "**Substituindo valores em colunas do DataFrame utilizando dicionário de dicionários**\n",
    "\n",
    "- As chaves do dicionário principal correspondem aos rótulos das colunas que serão modificadas.\n",
    "- Os pares (chave, valor) dos dicionários \"secundários\" correspondem aos valores que serão modificados e ao novo valor, respectivamente."
   ]
  },
  {
   "cell_type": "code",
   "execution_count": 20,
   "metadata": {},
   "outputs": [
    {
     "name": "stdout",
     "output_type": "stream",
     "text": [
      "Dicionário Original\n",
      "   c1  c2   c3   c4\n",
      "0   1   2  bla  cla\n",
      "1   2   4  cla  bla\n",
      "2   3   6  dla  fla\n",
      "3   4   8  ela  ela\n",
      "4   5  10  fla  dla\n",
      "\n",
      " Dicionário com colunas c1 e c3 modificadas\n",
      "   c1  c2    c3   c4\n",
      "0   1   2   bla  cla\n",
      "1  -2   4   cla  bla\n",
      "2   3   6   dla  fla\n",
      "3  -4   8  ELAS  ela\n",
      "4   5  10   fla  dla\n"
     ]
    }
   ],
   "source": [
    "# um dicionário de dicionários pode ser utilizado como parâmetro para substituir\n",
    "# valores em colunas específicas;\n",
    "\n",
    "# no exemplo abaixo, na coluna 'c1' o valor 4 será substituido por -4 e 2 por -2\n",
    "# na coluna 'c3' a string 'ela' será substituida por 'eles'\n",
    "\n",
    "print('Dicionário Original')\n",
    "print(dfr)\n",
    "\n",
    "print('\\n Dicionário com colunas c1 e c3 modificadas')\n",
    "print(dfr.replace({'c1':{4:-4,2:-2},'c3':{'ela':'ELAS'}}))"
   ]
  },
  {
   "cell_type": "markdown",
   "metadata": {},
   "source": [
    "### <font color='blue'>rename</font>\n",
    "<font color='blue'>rename</font> pode ser utilizado para renomear os rótulos de linhas ou colunas. Uma função deve ser empregada para mapear os rótulos utilizando os parâmetros 'index' e 'columns'. A sintaxe do método é:\n",
    "```python\n",
    "DataFrame.rename(index=nome_func_renomeia_rotulos_linhas,columns=nome_func_renomeia_rotulos_linhas)\n",
    "```\n",
    "onde `nome_func_renomeia_rotulos_linhas` e `nome_func_renomeia_rotulos_linhas` são funções que recebem um rótulo como parâmetro e retorna o novo rótulo (tipicamente são definidas como funções <font color='blue'>lambda</font>) ou um dicionário onde as chaves e valores correspondem aos rótulos antigos e novos respectivamente. "
   ]
  },
  {
   "cell_type": "code",
   "execution_count": 22,
   "metadata": {},
   "outputs": [
    {
     "name": "stdout",
     "output_type": "stream",
     "text": [
      "DataFrame com rótulos originais\n",
      "   c1  c2   c3   c4\n",
      "0   1   2  bla  cla\n",
      "1   2   4  cla  bla\n",
      "2   3   6  dla  fla\n",
      "3   4   8  ela  ela\n",
      "4   5  10  fla  dla\n",
      "Rótulos das linhas: [0 1 2 3 4]\n",
      "Rótulos das colunas: ['c1' 'c2' 'c3' 'c4']\n",
      "\n",
      "DataFrame com rótulos modificados\n",
      "    C1  C2   C3   C4\n",
      "0a   1   2  bla  cla\n",
      "1a   2   4  cla  bla\n",
      "2a   3   6  dla  fla\n",
      "3a   4   8  ela  ela\n",
      "4a   5  10  fla  dla\n",
      "Rótulos das linhas: ['0a' '1a' '2a' '3a' '4a']\n",
      "Rótulos das colunas: ['C1' 'C2' 'C3' 'C4']\n"
     ]
    }
   ],
   "source": [
    "# criando um DataFrame a partir de um dicionário\n",
    "dfr = pd.DataFrame({'c1':[1,2,3,4,5],'c2':[2,4,6,8,10],'c3':['bla','cla','dla','ela','fla'],\n",
    "                   'c4':['cla','bla','fla','ela','dla']})\n",
    "\n",
    "print('DataFrame com rótulos originais')\n",
    "print(dfr)\n",
    "print('Rótulos das linhas:',dfr.index.values)\n",
    "print('Rótulos das colunas:',dfr.columns.values)\n",
    "\n",
    "print('\\nDataFrame com rótulos modificados')\n",
    "# o comando abaixo adiciona o caracter 'a' aos rótulos das linhas e \n",
    "# torna os caracteres dos rótulos das colunas maiúsculos\n",
    "dfr_modificado = dfr.rename(index=lambda x: str(x)+'a', columns=lambda x: x.upper())\n",
    "print(dfr_modificado)\n",
    "print('Rótulos das linhas:',dfr_modificado.index.values)\n",
    "print('Rótulos das colunas:',dfr_modificado.columns.values)"
   ]
  },
  {
   "cell_type": "markdown",
   "metadata": {},
   "source": [
    "## Combinando e transformando\n",
    "<font color='blue'>Pandas</font> fornece um conjunto de métodos para combinar DataFrames, o que é extremamente útil em cenários envolvendo múltiplas fontes de dados. Em particular, os métodos:\n",
    "- <font color='blue'>merge</font> combina DataFrames com base nos rótulos das linhas ou valores das colunas\n",
    "- <font color='blue'>concat</font> combina DataFrames a partir de um eixo específico"
   ]
  },
  {
   "cell_type": "code",
   "execution_count": 11,
   "metadata": {},
   "outputs": [],
   "source": [
    "import pandas as pd"
   ]
  },
  {
   "cell_type": "markdown",
   "metadata": {},
   "source": [
    "### <font color='blue'>merge</font>  \n",
    "O método <font color='blue'>merge</font> \"funde\" dois DataFrames, duas séries, ou uma série com um DataFrame.\n",
    "\n",
    "A fusão pode ser feita com base nos:\n",
    "- valores de duas colunas específicas, uma em cada DataFrame \n",
    "- valores de uma coluna em um dos DataFrame e rótulos das linhas no outro\n",
    "- valores dos rótulos das linhas em ambos os DataFrames (ou Séries)"
   ]
  },
  {
   "cell_type": "markdown",
   "metadata": {},
   "source": [
    "#### Merge baseado nos valores de duas colunas"
   ]
  },
  {
   "cell_type": "code",
   "execution_count": 37,
   "metadata": {},
   "outputs": [
    {
     "name": "stdout",
     "output_type": "stream",
     "text": [
      "  key  data1\n",
      "0   b      0\n",
      "1   b      1\n",
      "2   a      2\n",
      "3   c      3\n",
      "4   a      4\n",
      "5   a      5\n",
      "6   b      6\n",
      "  key  data2\n",
      "0   a      0\n",
      "1   b      1\n",
      "2   d      2\n",
      "3   b      3\n",
      "4   d      4\n"
     ]
    }
   ],
   "source": [
    "# construindo dois DataFrames que serão fundidos com o método 'merge'\n",
    "df1 = pd.DataFrame({'key': ['b','b','a','c','a','a','b'], \n",
    "                   'data1': range(7)})\n",
    "\n",
    "df2 = pd.DataFrame({'key': ['a','b','d','b','d'], \n",
    "                   'data2': range(5)})\n",
    "\n",
    "print(df1)\n",
    "print(df2)"
   ]
  },
  {
   "cell_type": "markdown",
   "metadata": {},
   "source": [
    "**Fusão via colunas com o mesmo rótulo**\n",
    "\n",
    "- Quando ambos os DataFrames possuem uma coluna com mesmo rótulo, esta coluna pode ser utilizada para realizar a fusão."
   ]
  },
  {
   "cell_type": "code",
   "execution_count": 43,
   "metadata": {},
   "outputs": [
    {
     "data": {
      "text/html": [
       "<div>\n",
       "<style scoped>\n",
       "    .dataframe tbody tr th:only-of-type {\n",
       "        vertical-align: middle;\n",
       "    }\n",
       "\n",
       "    .dataframe tbody tr th {\n",
       "        vertical-align: top;\n",
       "    }\n",
       "\n",
       "    .dataframe thead th {\n",
       "        text-align: right;\n",
       "    }\n",
       "</style>\n",
       "<table border=\"1\" class=\"dataframe\">\n",
       "  <thead>\n",
       "    <tr style=\"text-align: right;\">\n",
       "      <th></th>\n",
       "      <th>key</th>\n",
       "      <th>data1</th>\n",
       "      <th>data2</th>\n",
       "    </tr>\n",
       "  </thead>\n",
       "  <tbody>\n",
       "    <tr>\n",
       "      <th>0</th>\n",
       "      <td>b</td>\n",
       "      <td>0</td>\n",
       "      <td>1</td>\n",
       "    </tr>\n",
       "    <tr>\n",
       "      <th>1</th>\n",
       "      <td>b</td>\n",
       "      <td>0</td>\n",
       "      <td>3</td>\n",
       "    </tr>\n",
       "    <tr>\n",
       "      <th>2</th>\n",
       "      <td>b</td>\n",
       "      <td>1</td>\n",
       "      <td>1</td>\n",
       "    </tr>\n",
       "    <tr>\n",
       "      <th>3</th>\n",
       "      <td>b</td>\n",
       "      <td>1</td>\n",
       "      <td>3</td>\n",
       "    </tr>\n",
       "    <tr>\n",
       "      <th>4</th>\n",
       "      <td>b</td>\n",
       "      <td>6</td>\n",
       "      <td>1</td>\n",
       "    </tr>\n",
       "    <tr>\n",
       "      <th>5</th>\n",
       "      <td>b</td>\n",
       "      <td>6</td>\n",
       "      <td>3</td>\n",
       "    </tr>\n",
       "    <tr>\n",
       "      <th>6</th>\n",
       "      <td>a</td>\n",
       "      <td>2</td>\n",
       "      <td>0</td>\n",
       "    </tr>\n",
       "    <tr>\n",
       "      <th>7</th>\n",
       "      <td>a</td>\n",
       "      <td>4</td>\n",
       "      <td>0</td>\n",
       "    </tr>\n",
       "    <tr>\n",
       "      <th>8</th>\n",
       "      <td>a</td>\n",
       "      <td>5</td>\n",
       "      <td>0</td>\n",
       "    </tr>\n",
       "  </tbody>\n",
       "</table>\n",
       "</div>"
      ],
      "text/plain": [
       "  key  data1  data2\n",
       "0   b      0      1\n",
       "1   b      0      3\n",
       "2   b      1      1\n",
       "3   b      1      3\n",
       "4   b      6      1\n",
       "5   b      6      3\n",
       "6   a      2      0\n",
       "7   a      4      0\n",
       "8   a      5      0"
      ]
     },
     "execution_count": 43,
     "metadata": {},
     "output_type": "execute_result"
    }
   ],
   "source": [
    "# Como ambos os DataFrames possuem uma coluna chamada 'key', pode-se fundir com base nos\n",
    "# valores de tal coluna. Neste caso a sintaxe é:\n",
    "\n",
    "pd.merge(df1,df2,on='key')  # Note que apenas os valores que aparencem em \n",
    "                            # ambos DataFrames são utilizados no 'merge'\n",
    "                            # No exemplo, apenas os valores 'b' e 'a' aparencem\n",
    "                            # na coluna 'key' de ambos DataFrames df1 e df2"
   ]
  },
  {
   "cell_type": "markdown",
   "metadata": {},
   "source": [
    "O parâmetro `how='outer'` pode ser utilizado para forçar que valores presentes\n",
    "em apenas um dos DataFrames apareçam no resutlado do <font color='blue'> merge </font>. Neste caso, um valor\n",
    "'NaN' é utilizado para marcar o dado faltante em um dos DataFrames."
   ]
  },
  {
   "cell_type": "code",
   "execution_count": 42,
   "metadata": {},
   "outputs": [
    {
     "data": {
      "text/html": [
       "<div>\n",
       "<style scoped>\n",
       "    .dataframe tbody tr th:only-of-type {\n",
       "        vertical-align: middle;\n",
       "    }\n",
       "\n",
       "    .dataframe tbody tr th {\n",
       "        vertical-align: top;\n",
       "    }\n",
       "\n",
       "    .dataframe thead th {\n",
       "        text-align: right;\n",
       "    }\n",
       "</style>\n",
       "<table border=\"1\" class=\"dataframe\">\n",
       "  <thead>\n",
       "    <tr style=\"text-align: right;\">\n",
       "      <th></th>\n",
       "      <th>key</th>\n",
       "      <th>data1</th>\n",
       "      <th>data2</th>\n",
       "    </tr>\n",
       "  </thead>\n",
       "  <tbody>\n",
       "    <tr>\n",
       "      <th>0</th>\n",
       "      <td>b</td>\n",
       "      <td>0.0</td>\n",
       "      <td>1.0</td>\n",
       "    </tr>\n",
       "    <tr>\n",
       "      <th>1</th>\n",
       "      <td>b</td>\n",
       "      <td>0.0</td>\n",
       "      <td>3.0</td>\n",
       "    </tr>\n",
       "    <tr>\n",
       "      <th>2</th>\n",
       "      <td>b</td>\n",
       "      <td>1.0</td>\n",
       "      <td>1.0</td>\n",
       "    </tr>\n",
       "    <tr>\n",
       "      <th>3</th>\n",
       "      <td>b</td>\n",
       "      <td>1.0</td>\n",
       "      <td>3.0</td>\n",
       "    </tr>\n",
       "    <tr>\n",
       "      <th>4</th>\n",
       "      <td>b</td>\n",
       "      <td>6.0</td>\n",
       "      <td>1.0</td>\n",
       "    </tr>\n",
       "    <tr>\n",
       "      <th>5</th>\n",
       "      <td>b</td>\n",
       "      <td>6.0</td>\n",
       "      <td>3.0</td>\n",
       "    </tr>\n",
       "    <tr>\n",
       "      <th>6</th>\n",
       "      <td>a</td>\n",
       "      <td>2.0</td>\n",
       "      <td>0.0</td>\n",
       "    </tr>\n",
       "    <tr>\n",
       "      <th>7</th>\n",
       "      <td>a</td>\n",
       "      <td>4.0</td>\n",
       "      <td>0.0</td>\n",
       "    </tr>\n",
       "    <tr>\n",
       "      <th>8</th>\n",
       "      <td>a</td>\n",
       "      <td>5.0</td>\n",
       "      <td>0.0</td>\n",
       "    </tr>\n",
       "    <tr>\n",
       "      <th>9</th>\n",
       "      <td>c</td>\n",
       "      <td>3.0</td>\n",
       "      <td>NaN</td>\n",
       "    </tr>\n",
       "    <tr>\n",
       "      <th>10</th>\n",
       "      <td>d</td>\n",
       "      <td>NaN</td>\n",
       "      <td>2.0</td>\n",
       "    </tr>\n",
       "    <tr>\n",
       "      <th>11</th>\n",
       "      <td>d</td>\n",
       "      <td>NaN</td>\n",
       "      <td>4.0</td>\n",
       "    </tr>\n",
       "  </tbody>\n",
       "</table>\n",
       "</div>"
      ],
      "text/plain": [
       "   key  data1  data2\n",
       "0    b    0.0    1.0\n",
       "1    b    0.0    3.0\n",
       "2    b    1.0    1.0\n",
       "3    b    1.0    3.0\n",
       "4    b    6.0    1.0\n",
       "5    b    6.0    3.0\n",
       "6    a    2.0    0.0\n",
       "7    a    4.0    0.0\n",
       "8    a    5.0    0.0\n",
       "9    c    3.0    NaN\n",
       "10   d    NaN    2.0\n",
       "11   d    NaN    4.0"
      ]
     },
     "execution_count": 42,
     "metadata": {},
     "output_type": "execute_result"
    }
   ],
   "source": [
    "# how = 'outer' --> união entre os dados\n",
    "# how = 'inner' --> intersecção entre os dados (default, utilizado no exemplo anterior)\n",
    "\n",
    "pd.merge(df1,df2,on='key',how='outer')  # o valor 'c' aparece na coluna 'key'\n",
    "                                        # apenas em df1, enquanto o valor 'd'\n",
    "                                        # aparece apenas em df2    "
   ]
  },
  {
   "cell_type": "markdown",
   "metadata": {},
   "source": [
    "**Fusão via colunas com rótulos distintos**\n",
    "\n",
    "- Quando os DataFrames não possuem colunas com o mesmo rótulo, é possível \n",
    "especificar quais colunas serão utilizadas para fazer o <font color='blue'> merge </font> em cada DataFrame por meio\n",
    "dos parâmetros `left_on` e `right_on`."
   ]
  },
  {
   "cell_type": "code",
   "execution_count": 24,
   "metadata": {},
   "outputs": [
    {
     "name": "stdout",
     "output_type": "stream",
     "text": [
      "  key1  data1\n",
      "0    b      0\n",
      "1    b      1\n",
      "2    a      2\n",
      "3    c      3\n",
      "4    a      4\n",
      "5    a      5\n",
      "6    b      6\n",
      "  key2  data2\n",
      "0    a      0\n",
      "1    b      1\n",
      "2    d      2\n",
      "3    b      3\n",
      "4    d      4\n"
     ]
    }
   ],
   "source": [
    "df1 = pd.DataFrame({'key1': ['b','b','a','c','a','a','b'], # os DataFrames df1 e df2 nao \n",
    "                   'data1': range(7)})                     # possuem colunas com mesmo rótulo\n",
    "\n",
    "df2 = pd.DataFrame({'key2': ['a','b','d','b','d'],  \n",
    "                   'data2': range(5)})\n",
    "\n",
    "print(df1)\n",
    "print(df2)"
   ]
  },
  {
   "cell_type": "code",
   "execution_count": 25,
   "metadata": {},
   "outputs": [
    {
     "data": {
      "text/html": [
       "<div>\n",
       "<style scoped>\n",
       "    .dataframe tbody tr th:only-of-type {\n",
       "        vertical-align: middle;\n",
       "    }\n",
       "\n",
       "    .dataframe tbody tr th {\n",
       "        vertical-align: top;\n",
       "    }\n",
       "\n",
       "    .dataframe thead th {\n",
       "        text-align: right;\n",
       "    }\n",
       "</style>\n",
       "<table border=\"1\" class=\"dataframe\">\n",
       "  <thead>\n",
       "    <tr style=\"text-align: right;\">\n",
       "      <th></th>\n",
       "      <th>key1</th>\n",
       "      <th>data1</th>\n",
       "      <th>key2</th>\n",
       "      <th>data2</th>\n",
       "    </tr>\n",
       "  </thead>\n",
       "  <tbody>\n",
       "    <tr>\n",
       "      <th>0</th>\n",
       "      <td>b</td>\n",
       "      <td>0.0</td>\n",
       "      <td>b</td>\n",
       "      <td>1.0</td>\n",
       "    </tr>\n",
       "    <tr>\n",
       "      <th>1</th>\n",
       "      <td>b</td>\n",
       "      <td>0.0</td>\n",
       "      <td>b</td>\n",
       "      <td>3.0</td>\n",
       "    </tr>\n",
       "    <tr>\n",
       "      <th>2</th>\n",
       "      <td>b</td>\n",
       "      <td>1.0</td>\n",
       "      <td>b</td>\n",
       "      <td>1.0</td>\n",
       "    </tr>\n",
       "    <tr>\n",
       "      <th>3</th>\n",
       "      <td>b</td>\n",
       "      <td>1.0</td>\n",
       "      <td>b</td>\n",
       "      <td>3.0</td>\n",
       "    </tr>\n",
       "    <tr>\n",
       "      <th>4</th>\n",
       "      <td>b</td>\n",
       "      <td>6.0</td>\n",
       "      <td>b</td>\n",
       "      <td>1.0</td>\n",
       "    </tr>\n",
       "    <tr>\n",
       "      <th>5</th>\n",
       "      <td>b</td>\n",
       "      <td>6.0</td>\n",
       "      <td>b</td>\n",
       "      <td>3.0</td>\n",
       "    </tr>\n",
       "    <tr>\n",
       "      <th>6</th>\n",
       "      <td>a</td>\n",
       "      <td>2.0</td>\n",
       "      <td>a</td>\n",
       "      <td>0.0</td>\n",
       "    </tr>\n",
       "    <tr>\n",
       "      <th>7</th>\n",
       "      <td>a</td>\n",
       "      <td>4.0</td>\n",
       "      <td>a</td>\n",
       "      <td>0.0</td>\n",
       "    </tr>\n",
       "    <tr>\n",
       "      <th>8</th>\n",
       "      <td>a</td>\n",
       "      <td>5.0</td>\n",
       "      <td>a</td>\n",
       "      <td>0.0</td>\n",
       "    </tr>\n",
       "    <tr>\n",
       "      <th>9</th>\n",
       "      <td>c</td>\n",
       "      <td>3.0</td>\n",
       "      <td>NaN</td>\n",
       "      <td>NaN</td>\n",
       "    </tr>\n",
       "    <tr>\n",
       "      <th>10</th>\n",
       "      <td>NaN</td>\n",
       "      <td>NaN</td>\n",
       "      <td>d</td>\n",
       "      <td>2.0</td>\n",
       "    </tr>\n",
       "    <tr>\n",
       "      <th>11</th>\n",
       "      <td>NaN</td>\n",
       "      <td>NaN</td>\n",
       "      <td>d</td>\n",
       "      <td>4.0</td>\n",
       "    </tr>\n",
       "  </tbody>\n",
       "</table>\n",
       "</div>"
      ],
      "text/plain": [
       "   key1  data1 key2  data2\n",
       "0     b    0.0    b    1.0\n",
       "1     b    0.0    b    3.0\n",
       "2     b    1.0    b    1.0\n",
       "3     b    1.0    b    3.0\n",
       "4     b    6.0    b    1.0\n",
       "5     b    6.0    b    3.0\n",
       "6     a    2.0    a    0.0\n",
       "7     a    4.0    a    0.0\n",
       "8     a    5.0    a    0.0\n",
       "9     c    3.0  NaN    NaN\n",
       "10  NaN    NaN    d    2.0\n",
       "11  NaN    NaN    d    4.0"
      ]
     },
     "execution_count": 25,
     "metadata": {},
     "output_type": "execute_result"
    }
   ],
   "source": [
    "pd.merge(df1, df2,left_on='key1',right_on='key2',how='outer') \n",
    "            # 'left_on' se refere a coluna do DataFrame correspondendo ao primeiro parâmetro \n",
    "            # (primeiro parâmetro da esquerda), neste exemplo, df1\n",
    "            # 'right_on' se refere a coluna do DataFrame correspondendo ao segundo parâmetro \n",
    "            # (segunda parâmetro da direita), neste exemplo, df2\n",
    "            # Note que neste caso ambas as colunas são inseridas no DataFrame resultante"
   ]
  },
  {
   "cell_type": "markdown",
   "metadata": {},
   "source": [
    "#### Merge baseado nos valores de uma coluna em um DataFrame e rótulos das linhas no outro DataFrame\n",
    "Para realizar o merging com base em colunas e rótulos, deve-se especificar os parâmetros\n",
    "'left\\_on', 'right\\_on', 'left\\_index' e 'right\\_index' de forma apropriada.\n",
    "- __left\\_on__ = nome da coluna a ser utilizada no DataFrame da esquerda (primeiro parâmetro)\n",
    "- __left\\_index__ = True indica que os rótulos das linhas no DataFrame da esquerda (primeiro parâmetro) serão utilizados \n",
    "- __right\\_on__ = nome da coluna a ser utilizada no DataFrame da direita (segundo parâmetro)\n",
    "- __right\\_index__ = True indica que os rótulos das linhas no DataFrame da direita (segundo parâmetro) serão utilizados \n",
    "\n",
    "**Obs:** Se o parâmetro __left\\_on__ for utilizando, não se pode empregrar ao mesmo tempo __left\\_index__. O mesmo vale para o uso concomitante de __right\\_on__ e __right\\_index__."
   ]
  },
  {
   "cell_type": "code",
   "execution_count": 26,
   "metadata": {},
   "outputs": [
    {
     "name": "stdout",
     "output_type": "stream",
     "text": [
      "  key  value\n",
      "0   a      0\n",
      "1   b      1\n",
      "2   a      2\n",
      "3   a      3\n",
      "4   b      4\n",
      "5   c      5\n",
      "   group_val\n",
      "a        3.5\n",
      "b        7.0\n",
      "a        3.0\n"
     ]
    },
    {
     "data": {
      "text/html": [
       "<div>\n",
       "<style scoped>\n",
       "    .dataframe tbody tr th:only-of-type {\n",
       "        vertical-align: middle;\n",
       "    }\n",
       "\n",
       "    .dataframe tbody tr th {\n",
       "        vertical-align: top;\n",
       "    }\n",
       "\n",
       "    .dataframe thead th {\n",
       "        text-align: right;\n",
       "    }\n",
       "</style>\n",
       "<table border=\"1\" class=\"dataframe\">\n",
       "  <thead>\n",
       "    <tr style=\"text-align: right;\">\n",
       "      <th></th>\n",
       "      <th>key</th>\n",
       "      <th>value</th>\n",
       "      <th>group_val</th>\n",
       "    </tr>\n",
       "  </thead>\n",
       "  <tbody>\n",
       "    <tr>\n",
       "      <th>0</th>\n",
       "      <td>a</td>\n",
       "      <td>0</td>\n",
       "      <td>3.5</td>\n",
       "    </tr>\n",
       "    <tr>\n",
       "      <th>0</th>\n",
       "      <td>a</td>\n",
       "      <td>0</td>\n",
       "      <td>3.0</td>\n",
       "    </tr>\n",
       "    <tr>\n",
       "      <th>2</th>\n",
       "      <td>a</td>\n",
       "      <td>2</td>\n",
       "      <td>3.5</td>\n",
       "    </tr>\n",
       "    <tr>\n",
       "      <th>2</th>\n",
       "      <td>a</td>\n",
       "      <td>2</td>\n",
       "      <td>3.0</td>\n",
       "    </tr>\n",
       "    <tr>\n",
       "      <th>3</th>\n",
       "      <td>a</td>\n",
       "      <td>3</td>\n",
       "      <td>3.5</td>\n",
       "    </tr>\n",
       "    <tr>\n",
       "      <th>3</th>\n",
       "      <td>a</td>\n",
       "      <td>3</td>\n",
       "      <td>3.0</td>\n",
       "    </tr>\n",
       "    <tr>\n",
       "      <th>1</th>\n",
       "      <td>b</td>\n",
       "      <td>1</td>\n",
       "      <td>7.0</td>\n",
       "    </tr>\n",
       "    <tr>\n",
       "      <th>4</th>\n",
       "      <td>b</td>\n",
       "      <td>4</td>\n",
       "      <td>7.0</td>\n",
       "    </tr>\n",
       "    <tr>\n",
       "      <th>5</th>\n",
       "      <td>c</td>\n",
       "      <td>5</td>\n",
       "      <td>NaN</td>\n",
       "    </tr>\n",
       "  </tbody>\n",
       "</table>\n",
       "</div>"
      ],
      "text/plain": [
       "  key  value  group_val\n",
       "0   a      0        3.5\n",
       "0   a      0        3.0\n",
       "2   a      2        3.5\n",
       "2   a      2        3.0\n",
       "3   a      3        3.5\n",
       "3   a      3        3.0\n",
       "1   b      1        7.0\n",
       "4   b      4        7.0\n",
       "5   c      5        NaN"
      ]
     },
     "execution_count": 26,
     "metadata": {},
     "output_type": "execute_result"
    }
   ],
   "source": [
    "df1 = pd.DataFrame({'key': ['a','b','a','a','b','c'], 'value': range(6)})\n",
    "\n",
    "df2 = pd.DataFrame({'group_val': [3.5, 7, 3.0]}, index=['a', 'b', 'a'])\n",
    "\n",
    "print(df1)\n",
    "print(df2)\n",
    "\n",
    "# Merge utilizando a coluna \"key\" de df1 e os rótulos das linhas em df2\n",
    "pd.merge(df1, df2, left_on='key', right_index=True, how='outer')"
   ]
  },
  {
   "cell_type": "code",
   "execution_count": 27,
   "metadata": {},
   "outputs": [
    {
     "name": "stdout",
     "output_type": "stream",
     "text": [
      "   Ohio  Nevada\n",
      "a     1       2\n",
      "c     3       4\n",
      "e     5       6\n",
      "   Missouri  Alabama\n",
      "b         7        8\n",
      "c         9       10\n",
      "d        11       12\n",
      "e        13       14\n",
      "e         0        5\n"
     ]
    },
    {
     "data": {
      "text/html": [
       "<div>\n",
       "<style scoped>\n",
       "    .dataframe tbody tr th:only-of-type {\n",
       "        vertical-align: middle;\n",
       "    }\n",
       "\n",
       "    .dataframe tbody tr th {\n",
       "        vertical-align: top;\n",
       "    }\n",
       "\n",
       "    .dataframe thead th {\n",
       "        text-align: right;\n",
       "    }\n",
       "</style>\n",
       "<table border=\"1\" class=\"dataframe\">\n",
       "  <thead>\n",
       "    <tr style=\"text-align: right;\">\n",
       "      <th></th>\n",
       "      <th>Ohio</th>\n",
       "      <th>Nevada</th>\n",
       "      <th>Missouri</th>\n",
       "      <th>Alabama</th>\n",
       "    </tr>\n",
       "  </thead>\n",
       "  <tbody>\n",
       "    <tr>\n",
       "      <th>c</th>\n",
       "      <td>3</td>\n",
       "      <td>4</td>\n",
       "      <td>9</td>\n",
       "      <td>10</td>\n",
       "    </tr>\n",
       "    <tr>\n",
       "      <th>e</th>\n",
       "      <td>5</td>\n",
       "      <td>6</td>\n",
       "      <td>13</td>\n",
       "      <td>14</td>\n",
       "    </tr>\n",
       "    <tr>\n",
       "      <th>e</th>\n",
       "      <td>5</td>\n",
       "      <td>6</td>\n",
       "      <td>0</td>\n",
       "      <td>5</td>\n",
       "    </tr>\n",
       "  </tbody>\n",
       "</table>\n",
       "</div>"
      ],
      "text/plain": [
       "   Ohio  Nevada  Missouri  Alabama\n",
       "c     3       4         9       10\n",
       "e     5       6        13       14\n",
       "e     5       6         0        5"
      ]
     },
     "execution_count": 27,
     "metadata": {},
     "output_type": "execute_result"
    }
   ],
   "source": [
    "# criando DataFrames a partir de lista de listas e especificando rótulos de linha e coluna\n",
    "df1 = pd.DataFrame([[1,2],[3,4],[5,6]], \n",
    "        index=['a','c','e'], columns=['Ohio','Nevada'])\n",
    "\n",
    "df2 = pd.DataFrame([[7,8],[9,10],[11,12],[13,14],[0,5]], \n",
    "        index=['b','c','d','e','e'],\n",
    "        columns=['Missouri','Alabama'])\n",
    "\n",
    "print(df1)\n",
    "print(df2)\n",
    "\n",
    "# merge utilizando rótulos dos dois DataFrames, \n",
    "# o parâmetro 'inner' (default, pode ser omitido) faz \n",
    "# com que apenas os rótulos que aparecem em ambos sejam considerados\n",
    "pd.merge(df1, df2, left_index=True, right_index=True, how='inner')"
   ]
  },
  {
   "cell_type": "markdown",
   "metadata": {},
   "source": [
    "### <font color='blue'>concat</font>\n",
    "O método <font color='blue'>concat</font> é utilizado para juntar DataFrames ou Séries com base em um dos eixos.\n",
    "- __axis = 0__ concatena por linhas \n",
    "- __axis = 1__ concatena por colunas. Quando empregado em um conjunto de séries resulta em um DataFrame\n",
    "\n",
    "O método assume como parâmetro uma lista de DataFrames ou Séries."
   ]
  },
  {
   "cell_type": "code",
   "execution_count": 28,
   "metadata": {},
   "outputs": [
    {
     "name": "stdout",
     "output_type": "stream",
     "text": [
      "a    0\n",
      "b    1\n",
      "dtype: int64\n",
      "c    2\n",
      "d    3\n",
      "e    4\n",
      "dtype: int64\n",
      "a    1\n",
      "f    5\n",
      "d    6\n",
      "dtype: int64\n"
     ]
    },
    {
     "data": {
      "text/plain": [
       "a    0\n",
       "b    1\n",
       "c    2\n",
       "d    3\n",
       "e    4\n",
       "a    1\n",
       "f    5\n",
       "d    6\n",
       "dtype: int64"
      ]
     },
     "execution_count": 28,
     "metadata": {},
     "output_type": "execute_result"
    }
   ],
   "source": [
    "# Construindo 3 séries especificando os rótulos das linhas\n",
    "s1 = pd.Series([0, 1], index=['a', 'b'])\n",
    "s2 = pd.Series([2, 3, 4], index=['c', 'd', 'e'])\n",
    "s3 = pd.Series([1,5, 6], index=['a','f', 'd']) \n",
    "print(s1)\n",
    "print(s2)\n",
    "print(s3)\n",
    "\n",
    "# Contatenando as 3 séries na vertical (axis=0, default)\n",
    "# o resultado é uma nova séria (rótulos podem estar repetidos)\n",
    "pd.concat([s1,s2,s3])"
   ]
  },
  {
   "cell_type": "code",
   "execution_count": 29,
   "metadata": {},
   "outputs": [
    {
     "name": "stdout",
     "output_type": "stream",
     "text": [
      "     0    1    2\n",
      "a  0.0  NaN  1.0\n",
      "b  1.0  NaN  NaN\n",
      "c  NaN  2.0  NaN\n",
      "d  NaN  3.0  6.0\n",
      "e  NaN  4.0  NaN\n",
      "f  NaN  NaN  5.0\n"
     ]
    }
   ],
   "source": [
    "# concatenando as 3 séries por colunas especificando o parâmetro 'axis=1'\n",
    "# o resutado é um DataFrame\n",
    "print(pd.concat([s1,s2,s3],axis=1))"
   ]
  },
  {
   "cell_type": "markdown",
   "metadata": {},
   "source": [
    "## Estatísticas\n",
    "O <font color='blue'> pandas</font> possui vários métodos para se calcular estatísticas básicas em um DataFrame (ou série). Uma lista dos métodos estatíticos disponíveis pode ser encontrada [aqui](https://chrisalbon.com/python/data_wrangling/pandas_dataframe_descriptive_stats/) \n",
    "\n",
    "A maioria dos métodos estatísticos são agregações, isto é, produzem um escalar a partir de conjuntos de números. Quando aplicados a um DataFrame, aceitam o argumento `axis` para definir se as estatísticas serão calculadas nas linhas ou colunas (o padrão é `axis = 0`)."
   ]
  },
  {
   "cell_type": "code",
   "execution_count": 32,
   "metadata": {},
   "outputs": [],
   "source": [
    "import numpy as np\n",
    "import pandas as pd"
   ]
  },
  {
   "cell_type": "code",
   "execution_count": 33,
   "metadata": {},
   "outputs": [
    {
     "data": {
      "text/html": [
       "<div>\n",
       "<style scoped>\n",
       "    .dataframe tbody tr th:only-of-type {\n",
       "        vertical-align: middle;\n",
       "    }\n",
       "\n",
       "    .dataframe tbody tr th {\n",
       "        vertical-align: top;\n",
       "    }\n",
       "\n",
       "    .dataframe thead th {\n",
       "        text-align: right;\n",
       "    }\n",
       "</style>\n",
       "<table border=\"1\" class=\"dataframe\">\n",
       "  <thead>\n",
       "    <tr style=\"text-align: right;\">\n",
       "      <th></th>\n",
       "      <th>c0</th>\n",
       "      <th>c1</th>\n",
       "      <th>c2</th>\n",
       "    </tr>\n",
       "  </thead>\n",
       "  <tbody>\n",
       "    <tr>\n",
       "      <th>0</th>\n",
       "      <td>6.940043</td>\n",
       "      <td>5.955492</td>\n",
       "      <td>4.202723</td>\n",
       "    </tr>\n",
       "    <tr>\n",
       "      <th>1</th>\n",
       "      <td>6.320916</td>\n",
       "      <td>3.995760</td>\n",
       "      <td>0.259028</td>\n",
       "    </tr>\n",
       "    <tr>\n",
       "      <th>2</th>\n",
       "      <td>4.538785</td>\n",
       "      <td>8.388828</td>\n",
       "      <td>2.035413</td>\n",
       "    </tr>\n",
       "    <tr>\n",
       "      <th>3</th>\n",
       "      <td>8.995461</td>\n",
       "      <td>6.484481</td>\n",
       "      <td>4.184645</td>\n",
       "    </tr>\n",
       "    <tr>\n",
       "      <th>4</th>\n",
       "      <td>1.111852</td>\n",
       "      <td>5.275486</td>\n",
       "      <td>3.004649</td>\n",
       "    </tr>\n",
       "    <tr>\n",
       "      <th>5</th>\n",
       "      <td>8.487967</td>\n",
       "      <td>7.413223</td>\n",
       "      <td>4.046452</td>\n",
       "    </tr>\n",
       "    <tr>\n",
       "      <th>6</th>\n",
       "      <td>0.078593</td>\n",
       "      <td>9.066598</td>\n",
       "      <td>9.512778</td>\n",
       "    </tr>\n",
       "    <tr>\n",
       "      <th>7</th>\n",
       "      <td>6.665326</td>\n",
       "      <td>9.796582</td>\n",
       "      <td>9.560410</td>\n",
       "    </tr>\n",
       "    <tr>\n",
       "      <th>8</th>\n",
       "      <td>5.325762</td>\n",
       "      <td>8.612696</td>\n",
       "      <td>5.639701</td>\n",
       "    </tr>\n",
       "    <tr>\n",
       "      <th>9</th>\n",
       "      <td>9.377236</td>\n",
       "      <td>0.164128</td>\n",
       "      <td>0.118957</td>\n",
       "    </tr>\n",
       "  </tbody>\n",
       "</table>\n",
       "</div>"
      ],
      "text/plain": [
       "         c0        c1        c2\n",
       "0  6.940043  5.955492  4.202723\n",
       "1  6.320916  3.995760  0.259028\n",
       "2  4.538785  8.388828  2.035413\n",
       "3  8.995461  6.484481  4.184645\n",
       "4  1.111852  5.275486  3.004649\n",
       "5  8.487967  7.413223  4.046452\n",
       "6  0.078593  9.066598  9.512778\n",
       "7  6.665326  9.796582  9.560410\n",
       "8  5.325762  8.612696  5.639701\n",
       "9  9.377236  0.164128  0.118957"
      ]
     },
     "execution_count": 33,
     "metadata": {},
     "output_type": "execute_result"
    }
   ],
   "source": [
    "\n",
    "D = np.random.uniform(low=0.0,high=10,size=(10,3)) # matriz 10x3 com números randômicos entre\n",
    "                                                   # 0 e 10\n",
    "\n",
    "df = pd.DataFrame(data=D,columns=['c0','c1','c2']) # constrói o DataFrame a partir do array\n",
    "                                                   # especificando o rótulo das colunas\n",
    "df"
   ]
  },
  {
   "cell_type": "code",
   "execution_count": 34,
   "metadata": {},
   "outputs": [
    {
     "name": "stdout",
     "output_type": "stream",
     "text": [
      "soma colunas\n",
      "c0    57.841939\n",
      "c1    65.153275\n",
      "c2    42.564755\n",
      "dtype: float64\n",
      "\n",
      "soma linhas\n",
      "0    17.098258\n",
      "1    10.575704\n",
      "2    14.963026\n",
      "3    19.664587\n",
      "4     9.391987\n",
      "5    19.947642\n",
      "6    18.657969\n",
      "7    26.022318\n",
      "8    19.578159\n",
      "9     9.660321\n",
      "dtype: float64\n"
     ]
    }
   ],
   "source": [
    "# Somando os eixos de um DataFrame\n",
    "\n",
    "print('soma colunas')\n",
    "print(df.sum(axis=0)) # resultado é uma série onde os rótulos das linhas são os \n",
    "                      # rótulos das colunas do DataFrame\n",
    "    \n",
    "print('\\nsoma linhas')\n",
    "print(df.sum(axis=1)) # resultado é uma série com os mesmos rótulos das linhas do \n",
    "                      # DataFrame original"
   ]
  },
  {
   "cell_type": "code",
   "execution_count": 35,
   "metadata": {},
   "outputs": [
    {
     "name": "stdout",
     "output_type": "stream",
     "text": [
      "media por colunas\n",
      "c0    5.784194\n",
      "c1    6.515328\n",
      "c2    4.256476\n",
      "dtype: float64\n",
      "\n",
      "media linhas\n",
      "0    5.699419\n",
      "1    3.525235\n",
      "2    4.987675\n",
      "3    6.554862\n",
      "4    3.130662\n",
      "5    6.649214\n",
      "6    6.219323\n",
      "7    8.674106\n",
      "8    6.526053\n",
      "9    3.220107\n",
      "dtype: float64\n"
     ]
    }
   ],
   "source": [
    "# Calculando a média em um eixo determinado\n",
    "\n",
    "print('media por colunas')\n",
    "print(df.mean(axis=0))  # calcula a média dos valores em cada coluna\n",
    "                        # resultado é uma série onde os rótulos das linhas são os \n",
    "                        # rótulos das colunas do DataFrame\n",
    "        \n",
    "print('\\nmedia linhas')\n",
    "print(df.mean(axis=1)) # calcula a média dos valores em cada linha\n",
    "                       # resultado é uma série com os mesmos rótulos das linhas do \n",
    "                       # DataFrame original"
   ]
  },
  {
   "cell_type": "code",
   "execution_count": 36,
   "metadata": {},
   "outputs": [
    {
     "data": {
      "text/html": [
       "<div>\n",
       "<style scoped>\n",
       "    .dataframe tbody tr th:only-of-type {\n",
       "        vertical-align: middle;\n",
       "    }\n",
       "\n",
       "    .dataframe tbody tr th {\n",
       "        vertical-align: top;\n",
       "    }\n",
       "\n",
       "    .dataframe thead th {\n",
       "        text-align: right;\n",
       "    }\n",
       "</style>\n",
       "<table border=\"1\" class=\"dataframe\">\n",
       "  <thead>\n",
       "    <tr style=\"text-align: right;\">\n",
       "      <th></th>\n",
       "      <th>c0</th>\n",
       "      <th>c1</th>\n",
       "      <th>c2</th>\n",
       "    </tr>\n",
       "  </thead>\n",
       "  <tbody>\n",
       "    <tr>\n",
       "      <th>count</th>\n",
       "      <td>10.000000</td>\n",
       "      <td>10.000000</td>\n",
       "      <td>10.000000</td>\n",
       "    </tr>\n",
       "    <tr>\n",
       "      <th>mean</th>\n",
       "      <td>5.784194</td>\n",
       "      <td>6.515328</td>\n",
       "      <td>4.256476</td>\n",
       "    </tr>\n",
       "    <tr>\n",
       "      <th>std</th>\n",
       "      <td>3.146054</td>\n",
       "      <td>2.877659</td>\n",
       "      <td>3.288444</td>\n",
       "    </tr>\n",
       "    <tr>\n",
       "      <th>min</th>\n",
       "      <td>0.078593</td>\n",
       "      <td>0.164128</td>\n",
       "      <td>0.118957</td>\n",
       "    </tr>\n",
       "    <tr>\n",
       "      <th>25%</th>\n",
       "      <td>4.735529</td>\n",
       "      <td>5.445488</td>\n",
       "      <td>2.277722</td>\n",
       "    </tr>\n",
       "    <tr>\n",
       "      <th>50%</th>\n",
       "      <td>6.493121</td>\n",
       "      <td>6.948852</td>\n",
       "      <td>4.115548</td>\n",
       "    </tr>\n",
       "    <tr>\n",
       "      <th>75%</th>\n",
       "      <td>8.100986</td>\n",
       "      <td>8.556729</td>\n",
       "      <td>5.280457</td>\n",
       "    </tr>\n",
       "    <tr>\n",
       "      <th>max</th>\n",
       "      <td>9.377236</td>\n",
       "      <td>9.796582</td>\n",
       "      <td>9.560410</td>\n",
       "    </tr>\n",
       "  </tbody>\n",
       "</table>\n",
       "</div>"
      ],
      "text/plain": [
       "              c0         c1         c2\n",
       "count  10.000000  10.000000  10.000000\n",
       "mean    5.784194   6.515328   4.256476\n",
       "std     3.146054   2.877659   3.288444\n",
       "min     0.078593   0.164128   0.118957\n",
       "25%     4.735529   5.445488   2.277722\n",
       "50%     6.493121   6.948852   4.115548\n",
       "75%     8.100986   8.556729   5.280457\n",
       "max     9.377236   9.796582   9.560410"
      ]
     },
     "execution_count": 36,
     "metadata": {},
     "output_type": "execute_result"
    }
   ],
   "source": [
    "# O método 'describe' fornece um resumo estatístico das colunas do DataFrame\n",
    "\n",
    "df.describe() # o resultado é um DataFrame onde as linhas correspondem\n",
    "              # a medidas estatísticas de cada coluna\n",
    "              # Por exemplo, a linha com rótulo '25%' informa o valor do primeiro quartil\n",
    "              # de cada coluna. A linha com rótulo 'min' o valor mínimo em cada coluna"
   ]
  },
  {
   "cell_type": "markdown",
   "metadata": {},
   "source": [
    "Pode-se também calcular estatísticas específicas para cada coluna utilizando o método <font color='blue'> agg </font> em conjunto com um dicionário. \n",
    "- As chaves do dicionário são os rótulos das colunas\n",
    "- O valor associado a cada chave é uma lista com os nomes das estatísticas que se quer computar"
   ]
  },
  {
   "cell_type": "code",
   "execution_count": 38,
   "metadata": {},
   "outputs": [
    {
     "data": {
      "text/html": [
       "<div>\n",
       "<style scoped>\n",
       "    .dataframe tbody tr th:only-of-type {\n",
       "        vertical-align: middle;\n",
       "    }\n",
       "\n",
       "    .dataframe tbody tr th {\n",
       "        vertical-align: top;\n",
       "    }\n",
       "\n",
       "    .dataframe thead th {\n",
       "        text-align: right;\n",
       "    }\n",
       "</style>\n",
       "<table border=\"1\" class=\"dataframe\">\n",
       "  <thead>\n",
       "    <tr style=\"text-align: right;\">\n",
       "      <th></th>\n",
       "      <th>c0</th>\n",
       "      <th>c1</th>\n",
       "    </tr>\n",
       "  </thead>\n",
       "  <tbody>\n",
       "    <tr>\n",
       "      <th>min</th>\n",
       "      <td>0.078593</td>\n",
       "      <td>0.164128</td>\n",
       "    </tr>\n",
       "    <tr>\n",
       "      <th>max</th>\n",
       "      <td>9.377236</td>\n",
       "      <td>9.796582</td>\n",
       "    </tr>\n",
       "    <tr>\n",
       "      <th>median</th>\n",
       "      <td>6.493121</td>\n",
       "      <td>NaN</td>\n",
       "    </tr>\n",
       "    <tr>\n",
       "      <th>skew</th>\n",
       "      <td>-0.839075</td>\n",
       "      <td>NaN</td>\n",
       "    </tr>\n",
       "    <tr>\n",
       "      <th>mean</th>\n",
       "      <td>NaN</td>\n",
       "      <td>6.515328</td>\n",
       "    </tr>\n",
       "  </tbody>\n",
       "</table>\n",
       "</div>"
      ],
      "text/plain": [
       "              c0        c1\n",
       "min     0.078593  0.164128\n",
       "max     9.377236  9.796582\n",
       "median  6.493121       NaN\n",
       "skew   -0.839075       NaN\n",
       "mean         NaN  6.515328"
      ]
     },
     "execution_count": 38,
     "metadata": {},
     "output_type": "execute_result"
    }
   ],
   "source": [
    "df.agg({\"c0\": [\"min\", \"max\", \"median\", \"skew\"],\"c1\": [\"min\", \"max\", \"mean\"]})"
   ]
  }
 ],
 "metadata": {
  "kernelspec": {
   "display_name": "Python 3",
   "language": "python",
   "name": "python3"
  },
  "language_info": {
   "codemirror_mode": {
    "name": "ipython",
    "version": 3
   },
   "file_extension": ".py",
   "mimetype": "text/x-python",
   "name": "python",
   "nbconvert_exporter": "python",
   "pygments_lexer": "ipython3",
   "version": "3.8.8"
  },
  "toc": {
   "base_numbering": 1,
   "nav_menu": {},
   "number_sections": true,
   "sideBar": true,
   "skip_h1_title": false,
   "title_cell": "Table of Contents",
   "title_sidebar": "Contents",
   "toc_cell": false,
   "toc_position": {},
   "toc_section_display": true,
   "toc_window_display": false
  }
 },
 "nbformat": 4,
 "nbformat_minor": 2
}
