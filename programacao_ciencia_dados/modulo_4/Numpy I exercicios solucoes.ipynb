{
 "cells": [
  {
   "cell_type": "markdown",
   "metadata": {},
   "source": [
    "# <span style=\"color:blue\"> MBA em Ciência de Dados</span>\n",
    "# <span style=\"color:blue\">Programação para Ciência de Dados</span>\n",
    "\n",
    "## <span style=\"color:blue\">Numpy Parte I - Exercícios</span>\n",
    "**Material Produzido por Luis Gustavo Nonato**<br>\n",
    "**Cemeai - ICMC/USP São Carlos**"
   ]
  },
  {
   "cell_type": "markdown",
   "metadata": {},
   "source": [
    "#### <span style=\"color:red\">Recomenda-se fortemente que os exercícios sejam feitos sem consultar as respostas antecipadamente.</span>"
   ]
  },
  {
   "cell_type": "code",
   "execution_count": 3,
   "metadata": {},
   "outputs": [],
   "source": [
    "import numpy as np"
   ]
  },
  {
   "cell_type": "markdown",
   "metadata": {},
   "source": [
    "### Exercício 1)\n",
    "Utilize comprehension para gerar a lista de todos os números interios entre 0 e 19. Converta a lista em um <font color='blue'>numpy</font> array bidimensional (matriz) com 4 linhas e 5 colunas."
   ]
  },
  {
   "cell_type": "code",
   "execution_count": 37,
   "metadata": {},
   "outputs": [
    {
     "name": "stdout",
     "output_type": "stream",
     "text": [
      "[[ 0  1  2  3  4]\n",
      " [ 5  6  7  8  9]\n",
      " [10 11 12 13 14]\n",
      " [15 16 17 18 19]]\n"
     ]
    }
   ],
   "source": [
    "l = [i for i in range(20)]\n",
    "A = np.array(l).reshape(4,5)\n",
    "print(A)"
   ]
  },
  {
   "cell_type": "markdown",
   "metadata": {},
   "source": [
    "### Exercício 2)\n",
    "Construa um array unidimensional com 30 números inteiros escolhidos de forma randômica no intervalo entre 0 e 20. Reformate o array para que se torne uma matriz `A` com 5 linhas e 6 colunas."
   ]
  },
  {
   "cell_type": "code",
   "execution_count": 4,
   "metadata": {},
   "outputs": [
    {
     "name": "stdout",
     "output_type": "stream",
     "text": [
      "[[ 0  4 18 12  5 19]\n",
      " [ 1  0  8  8 17 17]\n",
      " [ 9 16 12 19 12 14]\n",
      " [ 5  6  1 16 11 12]\n",
      " [11 19 17  2 11 12]]\n"
     ]
    }
   ],
   "source": [
    "A = np.random.randint(0,20,30).reshape(5,6)\n",
    "print(A)"
   ]
  },
  {
   "cell_type": "markdown",
   "metadata": {},
   "source": [
    "### Exercício 3)\n",
    "Crie uma __view__ da matriz `A` gerada na célula anterior contendo:\n",
    "- as linhas de `A` com índices 0,1 e 3\n",
    "- as linhas de `A` com índice 1 e 2 e as colunas com índice 0,2 e 4\n",
    "- as linhas de `A` com índice 1 e 3 e as colunas com índice 1 e 3"
   ]
  },
  {
   "cell_type": "code",
   "execution_count": 8,
   "metadata": {},
   "outputs": [
    {
     "name": "stdout",
     "output_type": "stream",
     "text": [
      "Matriz A:\n",
      "[[ 0  4 18 12  5 19]\n",
      " [ 1  0  8  8 17 17]\n",
      " [ 9 16 12 19 12 14]\n",
      " [ 5  6  1 16 11 12]\n",
      " [11 19 17  2 11 12]] \n",
      "\n",
      "linhas de `A` com indices 0,1 e 3\n",
      "[[ 0  4 18 12  5 19]\n",
      " [ 1  0  8  8 17 17]\n",
      " [ 5  6  1 16 11 12]] \n",
      "\n",
      "linhas de `A` com indice 1 e 2 e colunas com indice 0,2 e 4\n",
      "[[ 1  8 17]\n",
      " [ 9 12 12]] \n",
      "\n",
      "linhas de `A` com indice 1 e 3 e colunas com indice 1 e 3\n",
      "[[ 0  8]\n",
      " [ 6 16]]\n",
      "[ 0 16]\n"
     ]
    }
   ],
   "source": [
    "print('Matriz A:')\n",
    "print(A,'\\n')\n",
    "\n",
    "A0 = A[[0,1,3]] # linhas de `A` com índices 0,1 e 3\n",
    "print(\"linhas de `A` com indices 0,1 e 3\")\n",
    "print(A0,'\\n')\n",
    "\n",
    "A1 = A[1:3,[0,2,4]] # linhas de `A` com índice 1 e 2 e as colunas com índice 0,2 e 4\n",
    "print(\"linhas de `A` com indice 1 e 2 e colunas com indice 0,2 e 4\")\n",
    "print(A1,'\\n')\n",
    "\n",
    "A2 = A[[1,3],:][:,[1,3]] #linhas de `A` com índice 1 e 3 e as colunas com índice 1 e 3\n",
    "print(\"linhas de `A` com indice 1 e 3 e colunas com indice 1 e 3\")\n",
    "print(A2)\n",
    "\n",
    "A22 = A[[1,3],[1,3]]\n",
    "print(A22)"
   ]
  },
  {
   "cell_type": "markdown",
   "metadata": {},
   "source": [
    "### Exercício 4)\n",
    "Construa um array `A` bidimensional 5x6 com 30 números inteiros escolhidos de forma randômica no intervalo entre 0 e 20. \n",
    "- faça uma cópia do array `A` criado, chamando a cópia de `Ac`\n",
    "- Substitua todos os elementos do array `A` que sejam maiores que 10 pelo valor -1 \n",
    "- Substitua todos os elementos do array `Ac` que sejam maiores que 7 e menores que 15 pelo valor -1 \n",
    "\n",
    "__Dica:__ Gere máscaras booleanas para realizar as modificações nos arrays."
   ]
  },
  {
   "cell_type": "code",
   "execution_count": 25,
   "metadata": {},
   "outputs": [
    {
     "name": "stdout",
     "output_type": "stream",
     "text": [
      "A original\n",
      "[[13 16  3  6 13 18]\n",
      " [ 6 19  1  1  1  9]\n",
      " [18  4 17 11  7  2]\n",
      " [ 2 19  8  7  8 19]\n",
      " [19  1  3  5 12 17]]\n",
      "\n",
      "A modificada com -1 para elementos maiores que 10\n",
      "[[-1 -1  3  6 -1 -1]\n",
      " [ 6 -1  1  1  1  9]\n",
      " [-1  4 -1 -1  7  2]\n",
      " [ 2 -1  8  7  8 -1]\n",
      " [-1  1  3  5 -1 -1]]\n",
      "\n",
      "Ac modificada com -1 para elementos maiores que 7 e menores que 15\n",
      "[[-1 16  3  6 -1 18]\n",
      " [ 6 19  1  1  1 -1]\n",
      " [18  4 17 -1  7  2]\n",
      " [ 2 19 -1  7 -1 19]\n",
      " [19  1  3  5 -1 17]]\n"
     ]
    }
   ],
   "source": [
    "A = np.random.randint(0,20,30).reshape(5,6)\n",
    "print('A original')\n",
    "print(A)\n",
    "\n",
    "Ac = np.copy(A)  # copia de A\n",
    "\n",
    "maskA = (A > 10)\n",
    "A[maskA]  = -1\n",
    "print('\\nA modificada com -1 para elementos maiores que 10')\n",
    "print(A)\n",
    "\n",
    "maskAc = ((Ac > 7) & (Ac < 15))\n",
    "Ac[maskAc] = -1\n",
    "print('\\nAc modificada com -1 para elementos maiores que 7 e menores que 15')\n",
    "print(Ac)"
   ]
  },
  {
   "cell_type": "markdown",
   "metadata": {},
   "source": [
    "### Exercício 5)\n",
    "Construa um array `A` com 20 linhas e 10 colunas onde os elementos são os números interios de  1 até 200.\n",
    "- Crie uma __view__ de `A` chamada `A_lpares` contendo apenas as linhas de `A` com índice par. \n",
    "- Crie uma __view__ de `A` chamada `A_lpares_cimpares` contendo as linhas `A` com índice par e colunas com índice ímpar. "
   ]
  },
  {
   "cell_type": "code",
   "execution_count": 2,
   "metadata": {},
   "outputs": [
    {
     "name": "stdout",
     "output_type": "stream",
     "text": [
      "[[  1   2   3   4   5   6   7   8   9  10]\n",
      " [ 11  12  13  14  15  16  17  18  19  20]\n",
      " [ 21  22  23  24  25  26  27  28  29  30]\n",
      " [ 31  32  33  34  35  36  37  38  39  40]\n",
      " [ 41  42  43  44  45  46  47  48  49  50]\n",
      " [ 51  52  53  54  55  56  57  58  59  60]\n",
      " [ 61  62  63  64  65  66  67  68  69  70]\n",
      " [ 71  72  73  74  75  76  77  78  79  80]\n",
      " [ 81  82  83  84  85  86  87  88  89  90]\n",
      " [ 91  92  93  94  95  96  97  98  99 100]\n",
      " [101 102 103 104 105 106 107 108 109 110]\n",
      " [111 112 113 114 115 116 117 118 119 120]\n",
      " [121 122 123 124 125 126 127 128 129 130]\n",
      " [131 132 133 134 135 136 137 138 139 140]\n",
      " [141 142 143 144 145 146 147 148 149 150]\n",
      " [151 152 153 154 155 156 157 158 159 160]\n",
      " [161 162 163 164 165 166 167 168 169 170]\n",
      " [171 172 173 174 175 176 177 178 179 180]\n",
      " [181 182 183 184 185 186 187 188 189 190]\n",
      " [191 192 193 194 195 196 197 198 199 200]]\n",
      "A_lpares\n",
      "[[  1   2   3   4   5   6   7   8   9  10]\n",
      " [ 21  22  23  24  25  26  27  28  29  30]\n",
      " [ 41  42  43  44  45  46  47  48  49  50]\n",
      " [ 61  62  63  64  65  66  67  68  69  70]\n",
      " [ 81  82  83  84  85  86  87  88  89  90]\n",
      " [101 102 103 104 105 106 107 108 109 110]\n",
      " [121 122 123 124 125 126 127 128 129 130]\n",
      " [141 142 143 144 145 146 147 148 149 150]\n",
      " [161 162 163 164 165 166 167 168 169 170]\n",
      " [181 182 183 184 185 186 187 188 189 190]]\n",
      "\n",
      "A_lpares_cimpares\n",
      "[[  2   4   6   8  10]\n",
      " [ 22  24  26  28  30]\n",
      " [ 42  44  46  48  50]\n",
      " [ 62  64  66  68  70]\n",
      " [ 82  84  86  88  90]\n",
      " [102 104 106 108 110]\n",
      " [122 124 126 128 130]\n",
      " [142 144 146 148 150]\n",
      " [162 164 166 168 170]\n",
      " [182 184 186 188 190]]\n"
     ]
    }
   ],
   "source": [
    "import numpy as np\n",
    "\n",
    "A = np.arange(1,201).reshape(20,10)\n",
    "print(A)\n",
    "\n",
    "A_lpares = A[np.arange(0,A.shape[0],2)]\n",
    "print('A_lpares')\n",
    "print(A_lpares)\n",
    "\n",
    "print('\\nA_lpares_cimpares')\n",
    "A_lpares_cimpares = A[np.arange(0,A.shape[0],2)][:,np.arange(1,A.shape[1],2)]\n",
    "print(A_lpares_cimpares)"
   ]
  },
  {
   "cell_type": "markdown",
   "metadata": {},
   "source": [
    "### Exercício 6)\n",
    "Substitua os elememtos do array `A` do exercício anterior por -1 quando pelo menos um dos índices do elemento é par. \n",
    "\n",
    "__Dica:__ Construa uma máscara booleana"
   ]
  },
  {
   "cell_type": "code",
   "execution_count": 3,
   "metadata": {},
   "outputs": [
    {
     "name": "stdout",
     "output_type": "stream",
     "text": [
      "[[ -1  -1  -1  -1  -1  -1  -1  -1  -1  -1]\n",
      " [ -1  12  -1  14  -1  16  -1  18  -1  20]\n",
      " [ -1  -1  -1  -1  -1  -1  -1  -1  -1  -1]\n",
      " [ -1  32  -1  34  -1  36  -1  38  -1  40]\n",
      " [ -1  -1  -1  -1  -1  -1  -1  -1  -1  -1]\n",
      " [ -1  52  -1  54  -1  56  -1  58  -1  60]\n",
      " [ -1  -1  -1  -1  -1  -1  -1  -1  -1  -1]\n",
      " [ -1  72  -1  74  -1  76  -1  78  -1  80]\n",
      " [ -1  -1  -1  -1  -1  -1  -1  -1  -1  -1]\n",
      " [ -1  92  -1  94  -1  96  -1  98  -1 100]\n",
      " [ -1  -1  -1  -1  -1  -1  -1  -1  -1  -1]\n",
      " [ -1 112  -1 114  -1 116  -1 118  -1 120]\n",
      " [ -1  -1  -1  -1  -1  -1  -1  -1  -1  -1]\n",
      " [ -1 132  -1 134  -1 136  -1 138  -1 140]\n",
      " [ -1  -1  -1  -1  -1  -1  -1  -1  -1  -1]\n",
      " [ -1 152  -1 154  -1 156  -1 158  -1 160]\n",
      " [ -1  -1  -1  -1  -1  -1  -1  -1  -1  -1]\n",
      " [ -1 172  -1 174  -1 176  -1 178  -1 180]\n",
      " [ -1  -1  -1  -1  -1  -1  -1  -1  -1  -1]\n",
      " [ -1 192  -1 194  -1 196  -1 198  -1 200]]\n"
     ]
    }
   ],
   "source": [
    "mask = [(i%2==0) or (j%2==0) for i in range(A.shape[0]) for j in range(A.shape[1])]\n",
    "mask = np.array(mask).reshape(A.shape[0],A.shape[1])\n",
    "A[mask] = -1\n",
    "\n",
    "print(A)"
   ]
  },
  {
   "cell_type": "markdown",
   "metadata": {},
   "source": [
    "### Exercício 7)\n",
    "Considere o array `X` de números tipo <font color='blue'>float</font> gerado a partir de uma distribuição uniforme no intervalo entre 0 e 1. Escreva um código para encontrar os três menores valores do array.\n",
    "\n",
    "__Dica:__ Converta o array em uma lista e ordene."
   ]
  },
  {
   "cell_type": "code",
   "execution_count": 43,
   "metadata": {},
   "outputs": [
    {
     "name": "stdout",
     "output_type": "stream",
     "text": [
      "[[0.94748436 0.12077873 0.84379874 0.50442844 0.17350562]\n",
      " [0.24090184 0.49661223 0.34987579 0.65687144 0.71152296]\n",
      " [0.25611281 0.88350259 0.34793285 0.86249615 0.29025411]\n",
      " [0.89750685 0.00630518 0.07010046 0.80715441 0.46074591]\n",
      " [0.64143342 0.09910184 0.91231711 0.61800674 0.82763288]\n",
      " [0.95331726 0.61571514 0.90530625 0.36655696 0.52327298]]\n",
      "Os tres menores valores:  [0.006305182092773309, 0.07010045904101359, 0.09910183739383205]\n"
     ]
    }
   ],
   "source": [
    "X = np.random.uniform(0,1,30).reshape(6,5)\n",
    "print(X)\n",
    "\n",
    "X_sorted = sorted(X.ravel())\n",
    "print('Os tres menores valores: ',X_sorted[0:3])"
   ]
  },
  {
   "cell_type": "markdown",
   "metadata": {},
   "source": [
    "### Exercício 8)\n",
    "Escreva uma função chamada `troca_colunas` que recebe um array e o índice de duas colunas como parâmetros e retorna o array com as colunas trocadas. Por exemplo:\n",
    "```python\n",
    "X = np.array([[0, 1, 2, 3, 4, 5], \n",
    "              [0, 1, 2, 3, 4, 5], \n",
    "              [0, 1, 2, 3, 4, 5]])\n",
    "\n",
    "X = troca_colunas(X,1,3)\n",
    "print(X)\n",
    "```\n",
    "deve resultar em\n",
    "```python\n",
    "[[0 3 2 1 4 5]\n",
    " [0 3 2 1 4 5]\n",
    " [0 3 2 1 4 5]]\n",
    "```\n"
   ]
  },
  {
   "cell_type": "code",
   "execution_count": 13,
   "metadata": {},
   "outputs": [
    {
     "name": "stdout",
     "output_type": "stream",
     "text": [
      "[[0 1 2 3 4 5]\n",
      " [0 1 2 3 4 5]\n",
      " [0 1 2 3 4 5]]\n",
      "[[0 3 2 1 4 5]\n",
      " [0 3 2 1 4 5]\n",
      " [0 3 2 1 4 5]]\n"
     ]
    }
   ],
   "source": [
    "def troca_colunas(A,i,j):\n",
    "    aux = np.copy(A[:,i])\n",
    "    A[:,i] = A[:,j]\n",
    "    A[:,j] = aux\n",
    "    return(A)\n",
    "\n",
    "X = np.array([[0, 1, 2, 3, 4, 5], [0, 1, 2, 3, 4, 5], [0, 1, 2, 3, 4, 5]])\n",
    "print(X)\n",
    "\n",
    "X = troca_colunas(X,1,3)\n",
    "print(X)"
   ]
  },
  {
   "cell_type": "markdown",
   "metadata": {},
   "source": [
    "### Exercício 9)\n",
    "Os métodos <font color='blue'>vstack</font> e <font color='blue'>hstack</font> do <font color='blue'>numpy</font> empilha matrizes na vertical e horizontal, respectivamente. Por exemplo:\n",
    "```python\n",
    "A = np.array([[1.0, 1.0, 1.0], [1.0, 1.0, 1.0]])\n",
    "B = np.array([[2.0, 2.0, 2.0], [2.0, 2.0, 2.0]])\n",
    "\n",
    "C = np.vstack((A,B))\n",
    "print(C)\n",
    "```\n",
    "resulta em\n",
    "```python\n",
    "[[1. 1. 1.]\n",
    " [1. 1. 1.]\n",
    " [2. 2. 2.]\n",
    " [2. 2. 2.]]\n",
    "```\n",
    "Escreva um código para gerar duas matrizes `A` e `B` de números inteiros randômicos no intervalo entre 0 e 10, onde:\n",
    "- A matriz `A` é 5x6\n",
    "- A matriz `B` é 5x3\n",
    "\n",
    "Utilize o método <font color='blue'>hstack</font> para empilhar as matrizes\n",
    "\n",
    "O que acontece se tentar utilizar o método <font color='blue'>vstack</font>? Explique o motivo da mensagem gerada."
   ]
  },
  {
   "cell_type": "code",
   "execution_count": 20,
   "metadata": {},
   "outputs": [
    {
     "name": "stdout",
     "output_type": "stream",
     "text": [
      "[[6 1 9 7 8 2]\n",
      " [3 5 8 5 3 1]\n",
      " [0 9 9 2 2 3]\n",
      " [5 8 9 8 6 4]\n",
      " [8 2 0 4 9 6]]\n",
      "[[-5 -9 -4]\n",
      " [-6 -3 -5]\n",
      " [-6 -5 -2]\n",
      " [-7 -1 -4]\n",
      " [-7 -9 -8]]\n",
      "[[ 6  1  9  7  8  2 -5 -9 -4]\n",
      " [ 3  5  8  5  3  1 -6 -3 -5]\n",
      " [ 0  9  9  2  2  3 -6 -5 -2]\n",
      " [ 5  8  9  8  6  4 -7 -1 -4]\n",
      " [ 8  2  0  4  9  6 -7 -9 -8]]\n"
     ]
    }
   ],
   "source": [
    "A = np.random.randint(0,10,30).reshape(5,6)\n",
    "B = -1*np.random.randint(0,10,15).reshape(5,3)\n",
    "print(A)\n",
    "print(B)\n",
    "\n",
    "C = np.hstack((A,B))\n",
    "print(C)\n",
    "\n",
    "# o método vstack nao pode ser utilizado pois o número de colunas \n",
    "# não é o mesmo nas duas matrizes, somente o número de linhas coincide"
   ]
  },
  {
   "cell_type": "markdown",
   "metadata": {},
   "source": [
    "### Exercício 10)\n",
    "Escreva um código para, data uma matriz, zerar todos os elementos abaixo da diagonal principal da matriz. Por exemplo:\n",
    "```python\n",
    "[[2 8 3 4 8]\n",
    " [4 8 7 7 3]\n",
    " [8 2 3 1 4]\n",
    " [8 6 3 8 1]\n",
    " [6 4 4 6 1]]\n",
    "```\n",
    "deve resultar em\n",
    "```python\n",
    "[[2 8 3 4 8]\n",
    " [0 8 7 7 3]\n",
    " [0 0 3 1 4]\n",
    " [0 0 0 8 1]\n",
    " [0 0 0 0 1]]\n",
    "```"
   ]
  },
  {
   "cell_type": "code",
   "execution_count": 29,
   "metadata": {},
   "outputs": [
    {
     "name": "stdout",
     "output_type": "stream",
     "text": [
      "[[False False False False False]\n",
      " [ True False False False False]\n",
      " [ True  True False False False]\n",
      " [ True  True  True False False]\n",
      " [ True  True  True  True False]]\n",
      "[[7 4 4 9 3]\n",
      " [0 8 4 5 4]\n",
      " [0 0 9 4 7]\n",
      " [0 0 0 8 7]\n",
      " [0 0 0 0 2]]\n",
      "[[2 8 3 4 8]\n",
      " [4 8 7 7 3]\n",
      " [8 2 3 1 4]\n",
      " [8 6 3 8 1]\n",
      " [6 4 4 6 1]]\n",
      "[[2 8 3 4 8]\n",
      " [0 8 7 7 3]\n",
      " [0 0 3 1 4]\n",
      " [0 0 0 8 1]\n",
      " [0 0 0 0 1]]\n"
     ]
    }
   ],
   "source": [
    "A = np.random.randint(1,10,25).reshape(5,5)\n",
    "\n",
    "mask = [True if i>j else False for i in range(A.shape[0]) for j in range(A.shape[1])]\n",
    "mask = np.array(mask).reshape(A.shape[0],A.shape[1])\n",
    "print(mask)\n",
    "\n",
    "A[mask] = 0\n",
    "print(A)\n",
    "\n",
    "# uma alternativa é utilizar o método 'triu' do numpy\n",
    "A = np.random.randint(1,10,25).reshape(5,5)\n",
    "print(A)\n",
    "A = np.triu(A)\n",
    "print(A)"
   ]
  }
 ],
 "metadata": {
  "kernelspec": {
   "display_name": "Python 3",
   "language": "python",
   "name": "python3"
  },
  "language_info": {
   "codemirror_mode": {
    "name": "ipython",
    "version": 3
   },
   "file_extension": ".py",
   "mimetype": "text/x-python",
   "name": "python",
   "nbconvert_exporter": "python",
   "pygments_lexer": "ipython3",
   "version": "3.9.7"
  }
 },
 "nbformat": 4,
 "nbformat_minor": 2
}
