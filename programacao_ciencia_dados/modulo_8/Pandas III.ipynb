{
 "cells": [
  {
   "cell_type": "markdown",
   "metadata": {
    "colab_type": "text",
    "id": "fT8v5Hk3bShe"
   },
   "source": [
    "# <font color=\"blue\"> MBA em Ciência de Dados</font>\n",
    "# <font color=\"blue\">Programação para Ciência de Dados</font>\n",
    "\n",
    "## <font color=\"blue\">Pandas Parte III</font>\n",
    "**Material Produzido por Luis Gustavo Nonato e Bruno Coelho**<br>\n",
    "**Cemeai - ICMC/USP São Carlos**\n",
    "---\n"
   ]
  },
  {
   "cell_type": "markdown",
   "metadata": {
    "colab_type": "text",
    "id": "4oFbzLT2bShi"
   },
   "source": [
    "__Conteúdo:__\n",
    "- GroupBy\n",
    "    - Agregação\n",
    "    - Filtragem\n",
    "    - Transformação\n",
    "\n",
    "__Referências__ <br>\n",
    "- [Pandas: powerful Python data analysis toolkit: Wes McKinney & PyData Devel. Team](https://pandas.pydata.org/pandas-docs/stable/pandas.pdf)\n",
    "- [http://pandas.pydata.org/pandas-docs/stable/index.html](http://pandas.pydata.org/pandas-docs/stable/index.html)\n"
   ]
  },
  {
   "cell_type": "markdown",
   "metadata": {
    "colab_type": "text",
    "id": "IAxVpf0NbShl"
   },
   "source": [
    "## Introdução\n",
    "\n",
    "Frequentemente queremos aplicar transformações e filtragens  em um conjunto de dados a fim de extrair informações relevantes e padrões contidos nos dados. Por exemplo, analisar o salário médio de um grupo de profissionais considerando o sexo e a faixa etária dos profissionais.\n",
    "Muitas destas transformações podem ser realizadas por meio de uma operação denominada _MapReduce_.\n",
    "\n",
    "_MapReduce_ é implementada no pacote <font color='blue'>Pandas</font> por meio do método <font color='blue'>groupby</font>.\n",
    "\n",
    "Em geral, o método <font color='blue'>groupby</font> envolve 3 tarefas:\n",
    "- __Split__: Divide os dados em subgrupos. Por exemplo, divide os profissionais em subgrupos de acordo com a faixa etária dos profissionais.\n",
    "- __Apply__: Aplica alguma transformação, agregação ou filtragem para extrair informações de cada subgrupo. Por exemplo, pode-se calcular a média salarial em cada faixa etária dos profissionais.\n",
    "- __Combine__: Combina os resultados das transformações em um DataFrame ou Série.\n"
   ]
  },
  {
   "cell_type": "markdown",
   "metadata": {},
   "source": [
    "$$\n",
    "\\begin{array}{ccccc}\n",
    "DataFrame & & Split & Apply & Combine\\\\\n",
    "\\begin{array}{c|c}\n",
    "C1 & C2 \\\\ \\hline\n",
    "A & 0 \\\\ \\hline\n",
    "B & 5 \\\\ \\hline\n",
    "C & 10 \\\\ \\hline\n",
    "A & 5 \\\\ \\hline\n",
    "B & 5 \\\\ \\hline\n",
    "C & 10 \\\\ \\hline\n",
    "A & 10 \\\\ \\hline\n",
    "B & 5 \\\\ \\hline\n",
    "C & 10 \n",
    "\\end{array} &\n",
    "\\begin{array}{c}\n",
    "\\nearrow \\\\ \\\\\n",
    "\\rightarrow \\\\ \\\\\n",
    "\\searrow\n",
    "\\end{array} &\n",
    "\\begin{array}{c|c}\n",
    "A & 0 \\\\ \\hline\n",
    "A & 5 \\\\ \\hline\n",
    "A & 10 \\\\ \\\\\n",
    "B & 5 \\\\ \\hline\n",
    "B & 5 \\\\ \\hline\n",
    "B & 5 \\\\ \\\\\n",
    "C & 10 \\\\ \\hline\n",
    "C & 10 \\\\ \\hline\n",
    "C & 10 \n",
    "\\end{array} &\n",
    "\\begin{array}{c}\n",
    "\\searrow\\\\ \\\\\n",
    "\\rightarrow \\\\ \\\\\n",
    "\\nearrow\n",
    "\\end{array} & \n",
    "\\begin{array}{c|c}\n",
    "A & 15 \\\\ \\hline\n",
    "B & 15 \\\\ \\hline\n",
    "C & 30 \n",
    "\\end{array}\n",
    "\\end{array}\n",
    "$$"
   ]
  },
  {
   "cell_type": "markdown",
   "metadata": {
    "colab_type": "text",
    "id": "PwNwWN6IbSho"
   },
   "source": [
    "A etapa de \"split\" divide um conjunto de dados de acordo com algum critério, que pode ser valores das colunas do DataFrame, lista de valores externos ou até mesmo o resultado de uma função. \n",
    "\n",
    "Na verdade, o  <font color='blue'>pandas</font> não divide o DataFrame, mas cria uma estrutura que permite operar como se os dados estivessem divididos, evitando o uso excessivo de memória.\n",
    "\n",
    "Portanto, é importante estar atento, pois o resultado de aplicar o método <font color='blue'>groupby</font> não é um novo DataFrame (ou Serie), mas sim um objeto do tipo `groupby`.\n",
    "Para visualizar ou acessar os grupos criados pode-se realizar uma redução (que é o resultado do \"apply\" e \"combine\") ou utilizar algum método do objeto `groupby`, como por exemplo:\n",
    "- <font color='blue'>first()</font>: apresenta a primeira linha de cada grupo formado\n",
    "- <font color='blue'>get_group()</font>: retorna um DataFrame com o conteúdo de um grupo\n",
    "- <font color='blue'>groups()</font>: retorna um dicionário onde as chaves são os rótulos dos grupos e os valores os índices das linhas onde elementos do grupo ocorrem\n",
    "\n"
   ]
  },
  {
   "cell_type": "code",
   "execution_count": 33,
   "metadata": {
    "colab": {
     "base_uri": "https://localhost:8080/",
     "height": 206
    },
    "colab_type": "code",
    "executionInfo": {
     "elapsed": 727,
     "status": "ok",
     "timestamp": 1576346735851,
     "user": {
      "displayName": "Bruno Gomes Coelho",
      "photoUrl": "",
      "userId": "05092110984953098563"
     },
     "user_tz": 180
    },
    "id": "9zQqg2X-bShr",
    "outputId": "dad71025-d8a6-44f5-d78c-7e4a118d7e61"
   },
   "outputs": [
    {
     "data": {
      "text/html": [
       "<div>\n",
       "<style scoped>\n",
       "    .dataframe tbody tr th:only-of-type {\n",
       "        vertical-align: middle;\n",
       "    }\n",
       "\n",
       "    .dataframe tbody tr th {\n",
       "        vertical-align: top;\n",
       "    }\n",
       "\n",
       "    .dataframe thead th {\n",
       "        text-align: right;\n",
       "    }\n",
       "</style>\n",
       "<table border=\"1\" class=\"dataframe\">\n",
       "  <thead>\n",
       "    <tr style=\"text-align: right;\">\n",
       "      <th></th>\n",
       "      <th>total_bill</th>\n",
       "      <th>tip</th>\n",
       "      <th>sex</th>\n",
       "      <th>smoker</th>\n",
       "      <th>day</th>\n",
       "      <th>time</th>\n",
       "      <th>size</th>\n",
       "    </tr>\n",
       "  </thead>\n",
       "  <tbody>\n",
       "    <tr>\n",
       "      <th>0</th>\n",
       "      <td>16.99</td>\n",
       "      <td>1.01</td>\n",
       "      <td>Female</td>\n",
       "      <td>No</td>\n",
       "      <td>Sun</td>\n",
       "      <td>Dinner</td>\n",
       "      <td>2</td>\n",
       "    </tr>\n",
       "    <tr>\n",
       "      <th>1</th>\n",
       "      <td>10.34</td>\n",
       "      <td>1.66</td>\n",
       "      <td>Male</td>\n",
       "      <td>No</td>\n",
       "      <td>Sun</td>\n",
       "      <td>Dinner</td>\n",
       "      <td>3</td>\n",
       "    </tr>\n",
       "    <tr>\n",
       "      <th>2</th>\n",
       "      <td>21.01</td>\n",
       "      <td>3.50</td>\n",
       "      <td>Male</td>\n",
       "      <td>No</td>\n",
       "      <td>Sun</td>\n",
       "      <td>Dinner</td>\n",
       "      <td>3</td>\n",
       "    </tr>\n",
       "    <tr>\n",
       "      <th>3</th>\n",
       "      <td>23.68</td>\n",
       "      <td>3.31</td>\n",
       "      <td>Male</td>\n",
       "      <td>No</td>\n",
       "      <td>Sun</td>\n",
       "      <td>Dinner</td>\n",
       "      <td>2</td>\n",
       "    </tr>\n",
       "    <tr>\n",
       "      <th>4</th>\n",
       "      <td>24.59</td>\n",
       "      <td>3.61</td>\n",
       "      <td>Female</td>\n",
       "      <td>No</td>\n",
       "      <td>Sun</td>\n",
       "      <td>Dinner</td>\n",
       "      <td>4</td>\n",
       "    </tr>\n",
       "  </tbody>\n",
       "</table>\n",
       "</div>"
      ],
      "text/plain": [
       "   total_bill   tip     sex smoker  day    time  size\n",
       "0       16.99  1.01  Female     No  Sun  Dinner     2\n",
       "1       10.34  1.66    Male     No  Sun  Dinner     3\n",
       "2       21.01  3.50    Male     No  Sun  Dinner     3\n",
       "3       23.68  3.31    Male     No  Sun  Dinner     2\n",
       "4       24.59  3.61  Female     No  Sun  Dinner     4"
      ]
     },
     "execution_count": 33,
     "metadata": {},
     "output_type": "execute_result"
    }
   ],
   "source": [
    "# Importando o pacote 'pandas' e 'numpy'\n",
    "import pandas as pd\n",
    "import numpy as np\n",
    "\n",
    "# O comando abaixo carrega o arquivo 'tips.csv' disponível no moodle\n",
    "df = pd.read_csv(\"tips.csv\")\n",
    "df.head()"
   ]
  },
  {
   "cell_type": "code",
   "execution_count": 3,
   "metadata": {
    "colab": {
     "base_uri": "https://localhost:8080/",
     "height": 243
    },
    "colab_type": "code",
    "executionInfo": {
     "elapsed": 1477,
     "status": "ok",
     "timestamp": 1576346993797,
     "user": {
      "displayName": "Bruno Gomes Coelho",
      "photoUrl": "",
      "userId": "05092110984953098563"
     },
     "user_tz": 180
    },
    "id": "px0CqvrBlmmk",
    "outputId": "196acce9-1a13-4924-feca-a9cbc66a6ff1"
   },
   "outputs": [
    {
     "name": "stdout",
     "output_type": "stream",
     "text": [
      "<class 'pandas.core.groupby.generic.DataFrameGroupBy'>\n"
     ]
    }
   ],
   "source": [
    "# Agrupando os dados de acordo com os valores da coluna \"sex\"\n",
    "\n",
    "dfgb_sex = df.groupby(\"sex\")\n",
    "\n",
    "# Perceba que a variável 'df_sex' não é um DataFrame, mas sim \n",
    "# um 'DataFrameGroupBy'\n",
    "print(type(dfgb_sex))"
   ]
  },
  {
   "cell_type": "code",
   "execution_count": 6,
   "metadata": {},
   "outputs": [
    {
     "name": "stdout",
     "output_type": "stream",
     "text": [
      "<class 'pandas.core.frame.DataFrame'>\n",
      "\n",
      " primeira linha cada grupo:\n",
      "         total_bill   tip smoker  day    time  size\n",
      "sex                                               \n",
      "Female       16.99  1.01     No  Sun  Dinner     2\n",
      "Male         10.34  1.66     No  Sun  Dinner     3\n"
     ]
    }
   ],
   "source": [
    "# visualizando a primeira linha de cada grupo\n",
    "print(type(dfgb_sex.first()))  # note que ao invocar o método first() obtemos um DataFrame\n",
    "print('\\n primeira linha cada grupo:\\n',dfgb_sex.first())  # note que os rótulos das linhas são\n",
    "                                                           # os grupos obtidos"
   ]
  },
  {
   "cell_type": "code",
   "execution_count": 8,
   "metadata": {},
   "outputs": [
    {
     "name": "stdout",
     "output_type": "stream",
     "text": [
      "\n",
      " <class 'pandas.core.frame.DataFrame'>\n",
      "\n",
      " primeiras linhas do grupo \"Male\":\n",
      "    total_bill   tip smoker  day    time  size\n",
      "1       10.34  1.66     No  Sun  Dinner     3\n",
      "2       21.01  3.50     No  Sun  Dinner     3\n",
      "3       23.68  3.31     No  Sun  Dinner     2\n",
      "5       25.29  4.71     No  Sun  Dinner     4\n",
      "6        8.77  2.00     No  Sun  Dinner     2\n"
     ]
    }
   ],
   "source": [
    "# visualizando as primeiras linhas do grupo 'Male'\n",
    "print('\\n',type(dfgb_sex.get_group('Male')))  # o resultado do get_group é um DataFrame\n",
    "print('\\n primeiras linhas do grupo \"Male\":\\n',\n",
    "      dfgb_sex.get_group('Male').head())"
   ]
  },
  {
   "cell_type": "code",
   "execution_count": 9,
   "metadata": {},
   "outputs": [
    {
     "name": "stdout",
     "output_type": "stream",
     "text": [
      "\n",
      " <class 'pandas.io.formats.printing.PrettyDict'>\n",
      "\n",
      " rótulos dos grupos:\n",
      " dict_keys(['Female', 'Male'])\n",
      "\n",
      " indices de alguns elementos do grupo \"Female\":\n",
      " Int64Index([0, 4, 11, 14, 16], dtype='int64')\n"
     ]
    }
   ],
   "source": [
    "# o método 'groups' retorna um dicionário onde as chaves \n",
    "# são os rótulos dos grupos formados e os valores são os índices das linhas\n",
    "# onde os elementos do grupo estão\n",
    "print('\\n',type(dfgb_sex.groups))  # o resutlado de groups é um dicionário\n",
    "print('\\n rótulos dos grupos:\\n',dfgb_sex.groups.keys())  # as chaves são os rótulos dos grupos\n",
    "print('\\n indices de alguns elementos do grupo \"Female\":\\n',\n",
    "      dfgb_sex.groups['Female'][0:5])"
   ]
  },
  {
   "cell_type": "markdown",
   "metadata": {},
   "source": [
    "#### Agrupando de acordo com uma lista externa\n",
    "O método <font color='blue'>groupby</font> pode agrupar um DataFrame de acordo com uma lista externa (que não é parte do DataFrame). Para isso, a lista deve possuir um número de elementos igual ao número de linhas do DataFrame."
   ]
  },
  {
   "cell_type": "code",
   "execution_count": 18,
   "metadata": {},
   "outputs": [
    {
     "name": "stdout",
     "output_type": "stream",
     "text": [
      "  key1 key2     data1     data2\n",
      "0    a  one  0.284313  0.387097\n",
      "1    a  two  0.559877  0.473687\n",
      "2    b  one  0.153237  0.714241\n",
      "3    b  two  0.068335  0.187249\n",
      "4    a  one  0.605335  0.736916\n",
      "[1, 0, 1, 1, 0]\n"
     ]
    }
   ],
   "source": [
    "# Construindo DataFrame a partir de um dicionário\n",
    "df = pd.DataFrame({'key1': ['a','a','b','b','a'],\n",
    "                  'key2': ['one','two','one','two','one'], \n",
    "                  'data1': np.random.uniform(low=0,high=1,size=5),\n",
    "                  'data2': np.random.uniform(low=0,high=1,size=5)})\n",
    "print(df)\n",
    "\n",
    "# criando uma lista de 0 e 1 com o mesmo número de linhas do DataFrame\n",
    "ls = [i for i in np.random.randint(0,2,df.shape[0])]\n",
    "\n",
    "#lista criada\n",
    "print(ls) "
   ]
  },
  {
   "cell_type": "code",
   "execution_count": 19,
   "metadata": {},
   "outputs": [
    {
     "name": "stdout",
     "output_type": "stream",
     "text": [
      "  key1 key2     data1     data2\n",
      "1    a  two  0.559877  0.473687\n",
      "4    a  one  0.605335  0.736916\n",
      "  key1 key2     data1     data2\n",
      "0    a  one  0.284313  0.387097\n",
      "2    b  one  0.153237  0.714241\n",
      "3    b  two  0.068335  0.187249\n"
     ]
    }
   ],
   "source": [
    "# Agrupando o DataFrame de acordo com a lista 'ls'\n",
    "gbylist = df.groupby(ls)\n",
    "\n",
    "print(gbylist.get_group(0))  # linhas onde o valor 0 aparece na lista\n",
    "print(gbylist.get_group(1))  # linhas onde o valor 1 aparece na lista"
   ]
  },
  {
   "cell_type": "markdown",
   "metadata": {},
   "source": [
    "#### Agrupando com múltiplos critérios (indexação hierárquica)\n",
    "Quando mais que um conjunto de valores é enviado como parâmetro para o <font color='blue'>groupby</font>, o resultado é um agrupamento com índices organizados de forma hierárquica."
   ]
  },
  {
   "cell_type": "code",
   "execution_count": 89,
   "metadata": {},
   "outputs": [
    {
     "data": {
      "text/html": [
       "<div>\n",
       "<style scoped>\n",
       "    .dataframe tbody tr th:only-of-type {\n",
       "        vertical-align: middle;\n",
       "    }\n",
       "\n",
       "    .dataframe tbody tr th {\n",
       "        vertical-align: top;\n",
       "    }\n",
       "\n",
       "    .dataframe thead th {\n",
       "        text-align: right;\n",
       "    }\n",
       "</style>\n",
       "<table border=\"1\" class=\"dataframe\">\n",
       "  <thead>\n",
       "    <tr style=\"text-align: right;\">\n",
       "      <th></th>\n",
       "      <th>key1</th>\n",
       "      <th>key2</th>\n",
       "      <th>data1</th>\n",
       "      <th>data2</th>\n",
       "    </tr>\n",
       "  </thead>\n",
       "  <tbody>\n",
       "    <tr>\n",
       "      <td>0</td>\n",
       "      <td>a</td>\n",
       "      <td>one</td>\n",
       "      <td>0.439193</td>\n",
       "      <td>0.936900</td>\n",
       "    </tr>\n",
       "    <tr>\n",
       "      <td>1</td>\n",
       "      <td>a</td>\n",
       "      <td>two</td>\n",
       "      <td>0.102908</td>\n",
       "      <td>0.184986</td>\n",
       "    </tr>\n",
       "    <tr>\n",
       "      <td>2</td>\n",
       "      <td>b</td>\n",
       "      <td>one</td>\n",
       "      <td>0.045203</td>\n",
       "      <td>0.347324</td>\n",
       "    </tr>\n",
       "    <tr>\n",
       "      <td>3</td>\n",
       "      <td>b</td>\n",
       "      <td>two</td>\n",
       "      <td>0.750849</td>\n",
       "      <td>0.059108</td>\n",
       "    </tr>\n",
       "    <tr>\n",
       "      <td>4</td>\n",
       "      <td>a</td>\n",
       "      <td>one</td>\n",
       "      <td>0.450183</td>\n",
       "      <td>0.214559</td>\n",
       "    </tr>\n",
       "    <tr>\n",
       "      <td>5</td>\n",
       "      <td>a</td>\n",
       "      <td>two</td>\n",
       "      <td>0.510446</td>\n",
       "      <td>0.216753</td>\n",
       "    </tr>\n",
       "    <tr>\n",
       "      <td>6</td>\n",
       "      <td>b</td>\n",
       "      <td>two</td>\n",
       "      <td>0.876340</td>\n",
       "      <td>0.629353</td>\n",
       "    </tr>\n",
       "    <tr>\n",
       "      <td>7</td>\n",
       "      <td>a</td>\n",
       "      <td>one</td>\n",
       "      <td>0.907657</td>\n",
       "      <td>0.609903</td>\n",
       "    </tr>\n",
       "  </tbody>\n",
       "</table>\n",
       "</div>"
      ],
      "text/plain": [
       "  key1 key2     data1     data2\n",
       "0    a  one  0.439193  0.936900\n",
       "1    a  two  0.102908  0.184986\n",
       "2    b  one  0.045203  0.347324\n",
       "3    b  two  0.750849  0.059108\n",
       "4    a  one  0.450183  0.214559\n",
       "5    a  two  0.510446  0.216753\n",
       "6    b  two  0.876340  0.629353\n",
       "7    a  one  0.907657  0.609903"
      ]
     },
     "execution_count": 89,
     "metadata": {},
     "output_type": "execute_result"
    }
   ],
   "source": [
    "# Construindo DataFrame a partir de um dicionário\n",
    "df = pd.DataFrame({'key1': ['a','a','b','b','a','a','b','a'],\n",
    "                  'key2': ['one','two','one','two','one','two','two','one'], \n",
    "                  'data1': np.random.uniform(low=0,high=1,size=8),\n",
    "                  'data2': np.random.uniform(low=0,high=1,size=8)})\n",
    "\n",
    "df"
   ]
  },
  {
   "cell_type": "code",
   "execution_count": 20,
   "metadata": {},
   "outputs": [
    {
     "name": "stdout",
     "output_type": "stream",
     "text": [
      "Rotulo do Grupo:  ('a', 'one')\n",
      "  key1 key2     data1     data2\n",
      "0    a  one  0.284313  0.387097\n",
      "4    a  one  0.605335  0.736916 \n",
      "\n",
      "Rotulo do Grupo:  ('a', 'two')\n",
      "  key1 key2     data1     data2\n",
      "1    a  two  0.559877  0.473687 \n",
      "\n",
      "Rotulo do Grupo:  ('b', 'one')\n",
      "  key1 key2     data1     data2\n",
      "2    b  one  0.153237  0.714241 \n",
      "\n",
      "Rotulo do Grupo:  ('b', 'two')\n",
      "  key1 key2     data1     data2\n",
      "3    b  two  0.068335  0.187249 \n",
      "\n"
     ]
    }
   ],
   "source": [
    "# agrupando com base nos valores das colunas 'key1' e 'key2'\n",
    "dfh = df.groupby(['key1','key2'])\n",
    "\n",
    "# imprimindo o conteúdo de cada grupo com um laço for\n",
    "# 'groupname' corresponde ao índice do grupo, uma tupla neste caso\n",
    "# 'group' corresponde ao grupo\\ própriamente dito\n",
    "for groupname,group in dfh:\n",
    "    print('Rotulo do Grupo: ',groupname)\n",
    "    print(group,'\\n')"
   ]
  },
  {
   "cell_type": "markdown",
   "metadata": {},
   "source": [
    "#### Agrupando com funções\n",
    "Uma função pode ser enviada como parâmetro de agrupamento para o <font color='blue'>groupby</font>. Neste caso, a função é aplicada aos rótulos das linhas do DataFrame e o resultado é utilizado como rótulo do grupo."
   ]
  },
  {
   "cell_type": "code",
   "execution_count": 21,
   "metadata": {},
   "outputs": [
    {
     "data": {
      "text/html": [
       "<div>\n",
       "<style scoped>\n",
       "    .dataframe tbody tr th:only-of-type {\n",
       "        vertical-align: middle;\n",
       "    }\n",
       "\n",
       "    .dataframe tbody tr th {\n",
       "        vertical-align: top;\n",
       "    }\n",
       "\n",
       "    .dataframe thead th {\n",
       "        text-align: right;\n",
       "    }\n",
       "</style>\n",
       "<table border=\"1\" class=\"dataframe\">\n",
       "  <thead>\n",
       "    <tr style=\"text-align: right;\">\n",
       "      <th></th>\n",
       "      <th>a</th>\n",
       "      <th>b</th>\n",
       "      <th>c</th>\n",
       "      <th>d</th>\n",
       "      <th>e</th>\n",
       "    </tr>\n",
       "  </thead>\n",
       "  <tbody>\n",
       "    <tr>\n",
       "      <th>Joe</th>\n",
       "      <td>9</td>\n",
       "      <td>2</td>\n",
       "      <td>7</td>\n",
       "      <td>7</td>\n",
       "      <td>9</td>\n",
       "    </tr>\n",
       "    <tr>\n",
       "      <th>Michel</th>\n",
       "      <td>3</td>\n",
       "      <td>9</td>\n",
       "      <td>2</td>\n",
       "      <td>0</td>\n",
       "      <td>0</td>\n",
       "    </tr>\n",
       "    <tr>\n",
       "      <th>Steve</th>\n",
       "      <td>5</td>\n",
       "      <td>8</td>\n",
       "      <td>8</td>\n",
       "      <td>4</td>\n",
       "      <td>9</td>\n",
       "    </tr>\n",
       "    <tr>\n",
       "      <th>Wes</th>\n",
       "      <td>0</td>\n",
       "      <td>3</td>\n",
       "      <td>3</td>\n",
       "      <td>9</td>\n",
       "      <td>9</td>\n",
       "    </tr>\n",
       "    <tr>\n",
       "      <th>Jim</th>\n",
       "      <td>7</td>\n",
       "      <td>3</td>\n",
       "      <td>3</td>\n",
       "      <td>0</td>\n",
       "      <td>3</td>\n",
       "    </tr>\n",
       "    <tr>\n",
       "      <th>Travis</th>\n",
       "      <td>3</td>\n",
       "      <td>2</td>\n",
       "      <td>7</td>\n",
       "      <td>5</td>\n",
       "      <td>2</td>\n",
       "    </tr>\n",
       "  </tbody>\n",
       "</table>\n",
       "</div>"
      ],
      "text/plain": [
       "        a  b  c  d  e\n",
       "Joe     9  2  7  7  9\n",
       "Michel  3  9  2  0  0\n",
       "Steve   5  8  8  4  9\n",
       "Wes     0  3  3  9  9\n",
       "Jim     7  3  3  0  3\n",
       "Travis  3  2  7  5  2"
      ]
     },
     "execution_count": 21,
     "metadata": {},
     "output_type": "execute_result"
    }
   ],
   "source": [
    "# constuindo DataFrame com rótulos de linhas e colunas\n",
    "dfp = pd.DataFrame(data=np.random.randint(low=0, high=10, size=(6,5)),\n",
    "               columns=['a','b','c','d','e'], \n",
    "               index=['Joe','Michel','Steve','Wes','Jim','Travis'])\n",
    "dfp"
   ]
  },
  {
   "cell_type": "code",
   "execution_count": 22,
   "metadata": {},
   "outputs": [
    {
     "name": "stdout",
     "output_type": "stream",
     "text": [
      "Grupo:  3\n",
      "     a  b  c  d  e\n",
      "Joe  9  2  7  7  9\n",
      "Wes  0  3  3  9  9\n",
      "Jim  7  3  3  0  3 \n",
      "\n",
      "Grupo:  5\n",
      "       a  b  c  d  e\n",
      "Steve  5  8  8  4  9 \n",
      "\n",
      "Grupo:  6\n",
      "        a  b  c  d  e\n",
      "Michel  3  9  2  0  0\n",
      "Travis  3  2  7  5  2 \n",
      "\n"
     ]
    }
   ],
   "source": [
    "# agrupando de acordo com o número de caracteres nos rótulos das linhas\n",
    "gbf = dfp.groupby(lambda x: len(x))\n",
    "\n",
    "for name, group in gbf:\n",
    "    print('Grupo: ',name)\n",
    "    print(group,'\\n')"
   ]
  },
  {
   "cell_type": "markdown",
   "metadata": {
    "colab_type": "text",
    "id": "V5IJugintCGi"
   },
   "source": [
    "# Transformações e Agregações\n",
    "\n",
    "Em geral, temos 5 tipos de operações que podem ser aplicadas aos grupos gerados pelo <font color='blue'>groupby</font>:\n",
    "\n",
    "\n",
    "- __Métodos de agregação__: Combinam várias linhas em um único valor. Exemplos incluem a média, soma e mediana de cada coluna em cada grupo.\n",
    "\n",
    "- __Métodos de filtragem__: Retornam apenas um subconjunto dos dados originais. \n",
    "\n",
    "- __Métodos de tranformação__: Retornam um DataFrame com o mesmo tamanho e índices dos dados originais, mas com valores transformados com base nos grupos."
   ]
  },
  {
   "cell_type": "markdown",
   "metadata": {
    "colab_type": "text",
    "id": "lHhf8Urnt-Sq"
   },
   "source": [
    "## Métodos de agregação\n",
    "\n",
    "Pandas fornece [diversas funções](https://pandas.pydata.org/pandas-docs/stable/user_guide/groupby.html#aggregation) estatísticas de agregação, como <font color='blue'>sum, mean, std, max, min </font>. Pode-se ainda calcular várias agregações simultaneamente com o método <font color='blue'>agg</font> (de \"aggregate\")"
   ]
  },
  {
   "cell_type": "code",
   "execution_count": 23,
   "metadata": {},
   "outputs": [
    {
     "data": {
      "text/html": [
       "<div>\n",
       "<style scoped>\n",
       "    .dataframe tbody tr th:only-of-type {\n",
       "        vertical-align: middle;\n",
       "    }\n",
       "\n",
       "    .dataframe tbody tr th {\n",
       "        vertical-align: top;\n",
       "    }\n",
       "\n",
       "    .dataframe thead th {\n",
       "        text-align: right;\n",
       "    }\n",
       "</style>\n",
       "<table border=\"1\" class=\"dataframe\">\n",
       "  <thead>\n",
       "    <tr style=\"text-align: right;\">\n",
       "      <th></th>\n",
       "      <th>total_bill</th>\n",
       "      <th>tip</th>\n",
       "      <th>sex</th>\n",
       "      <th>smoker</th>\n",
       "      <th>day</th>\n",
       "      <th>time</th>\n",
       "      <th>size</th>\n",
       "    </tr>\n",
       "  </thead>\n",
       "  <tbody>\n",
       "    <tr>\n",
       "      <th>0</th>\n",
       "      <td>16.99</td>\n",
       "      <td>1.01</td>\n",
       "      <td>Female</td>\n",
       "      <td>No</td>\n",
       "      <td>Sun</td>\n",
       "      <td>Dinner</td>\n",
       "      <td>2</td>\n",
       "    </tr>\n",
       "    <tr>\n",
       "      <th>1</th>\n",
       "      <td>10.34</td>\n",
       "      <td>1.66</td>\n",
       "      <td>Male</td>\n",
       "      <td>No</td>\n",
       "      <td>Sun</td>\n",
       "      <td>Dinner</td>\n",
       "      <td>3</td>\n",
       "    </tr>\n",
       "    <tr>\n",
       "      <th>2</th>\n",
       "      <td>21.01</td>\n",
       "      <td>3.50</td>\n",
       "      <td>Male</td>\n",
       "      <td>No</td>\n",
       "      <td>Sun</td>\n",
       "      <td>Dinner</td>\n",
       "      <td>3</td>\n",
       "    </tr>\n",
       "    <tr>\n",
       "      <th>3</th>\n",
       "      <td>23.68</td>\n",
       "      <td>3.31</td>\n",
       "      <td>Male</td>\n",
       "      <td>No</td>\n",
       "      <td>Sun</td>\n",
       "      <td>Dinner</td>\n",
       "      <td>2</td>\n",
       "    </tr>\n",
       "    <tr>\n",
       "      <th>4</th>\n",
       "      <td>24.59</td>\n",
       "      <td>3.61</td>\n",
       "      <td>Female</td>\n",
       "      <td>No</td>\n",
       "      <td>Sun</td>\n",
       "      <td>Dinner</td>\n",
       "      <td>4</td>\n",
       "    </tr>\n",
       "  </tbody>\n",
       "</table>\n",
       "</div>"
      ],
      "text/plain": [
       "   total_bill   tip     sex smoker  day    time  size\n",
       "0       16.99  1.01  Female     No  Sun  Dinner     2\n",
       "1       10.34  1.66    Male     No  Sun  Dinner     3\n",
       "2       21.01  3.50    Male     No  Sun  Dinner     3\n",
       "3       23.68  3.31    Male     No  Sun  Dinner     2\n",
       "4       24.59  3.61  Female     No  Sun  Dinner     4"
      ]
     },
     "execution_count": 23,
     "metadata": {},
     "output_type": "execute_result"
    }
   ],
   "source": [
    "# Importando o pacote 'pandas'\n",
    "import pandas as pd\n",
    "\n",
    "# Carregando o arquivo 'tips.csv'\n",
    "df = pd.read_csv(\"tips.csv\")\n",
    "df.head()"
   ]
  },
  {
   "cell_type": "code",
   "execution_count": 173,
   "metadata": {
    "colab": {
     "base_uri": "https://localhost:8080/",
     "height": 397
    },
    "colab_type": "code",
    "executionInfo": {
     "elapsed": 839,
     "status": "ok",
     "timestamp": 1576349500243,
     "user": {
      "displayName": "Bruno Gomes Coelho",
      "photoUrl": "",
      "userId": "05092110984953098563"
     },
     "user_tz": 180
    },
    "id": "KUAlkviKt9J8",
    "outputId": "ef489476-7ad0-4e6a-fa87-e6b913826cb5"
   },
   "outputs": [
    {
     "name": "stdout",
     "output_type": "stream",
     "text": [
      "Gorjeta máxima\n",
      "sex\n",
      "Female     6.5\n",
      "Male      10.0\n",
      "Name: tip, dtype: float64\n"
     ]
    }
   ],
   "source": [
    "# Obtendo a maior gorjeta dos grupos 'Male' e 'Female'\n",
    "print(\"Gorjeta máxima\")\n",
    "\n",
    "# Agrupamos por sexo, depois selecionamos a coluna \"tip\" (gorjeta)\n",
    "# e pegamos o máximo dela.\n",
    "print(df.groupby([\"sex\"])[\"tip\"].max())\n"
   ]
  },
  {
   "cell_type": "code",
   "execution_count": 24,
   "metadata": {},
   "outputs": [
    {
     "name": "stdout",
     "output_type": "stream",
     "text": [
      "Média e Desvio Padrão das gorjetas em cada grupo:\n"
     ]
    },
    {
     "data": {
      "text/html": [
       "<div>\n",
       "<style scoped>\n",
       "    .dataframe tbody tr th:only-of-type {\n",
       "        vertical-align: middle;\n",
       "    }\n",
       "\n",
       "    .dataframe tbody tr th {\n",
       "        vertical-align: top;\n",
       "    }\n",
       "\n",
       "    .dataframe thead th {\n",
       "        text-align: right;\n",
       "    }\n",
       "</style>\n",
       "<table border=\"1\" class=\"dataframe\">\n",
       "  <thead>\n",
       "    <tr style=\"text-align: right;\">\n",
       "      <th></th>\n",
       "      <th>mean</th>\n",
       "      <th>std</th>\n",
       "    </tr>\n",
       "    <tr>\n",
       "      <th>sex</th>\n",
       "      <th></th>\n",
       "      <th></th>\n",
       "    </tr>\n",
       "  </thead>\n",
       "  <tbody>\n",
       "    <tr>\n",
       "      <th>Female</th>\n",
       "      <td>2.833448</td>\n",
       "      <td>1.159495</td>\n",
       "    </tr>\n",
       "    <tr>\n",
       "      <th>Male</th>\n",
       "      <td>3.089618</td>\n",
       "      <td>1.489102</td>\n",
       "    </tr>\n",
       "  </tbody>\n",
       "</table>\n",
       "</div>"
      ],
      "text/plain": [
       "            mean       std\n",
       "sex                       \n",
       "Female  2.833448  1.159495\n",
       "Male    3.089618  1.489102"
      ]
     },
     "execution_count": 24,
     "metadata": {},
     "output_type": "execute_result"
    }
   ],
   "source": [
    "# Pode-se calcular várias agregações simultaneamente via método \"agg\"\n",
    "print(\"Média e Desvio Padrão das gorjetas em cada grupo:\")\n",
    "df.groupby([\"sex\"])[\"tip\"].agg([ \"mean\", \"std\"])"
   ]
  },
  {
   "cell_type": "markdown",
   "metadata": {
    "colab_type": "text",
    "id": "guWA-3qYvzZx"
   },
   "source": [
    "**Importante**: O resultado de uma agregação, transformação ou filtragem  é um novo DataFrame onde os rótulos das linhas são os valores utilizados para realizar o agrupamento. \n",
    "Caso queiramos um DataFrame com linhas indexadas com valores $0,1,...$, devemos empregar o método <font color='blue'>reset_index</font>."
   ]
  },
  {
   "cell_type": "code",
   "execution_count": 106,
   "metadata": {
    "colab": {
     "base_uri": "https://localhost:8080/",
     "height": 225
    },
    "colab_type": "code",
    "executionInfo": {
     "elapsed": 871,
     "status": "ok",
     "timestamp": 1576349756711,
     "user": {
      "displayName": "Bruno Gomes Coelho",
      "photoUrl": "",
      "userId": "05092110984953098563"
     },
     "user_tz": 180
    },
    "id": "Bb5nmNwVsiIL",
    "outputId": "9542ba30-ea8c-47bf-c923-145a7f20a910"
   },
   "outputs": [
    {
     "name": "stdout",
     "output_type": "stream",
     "text": [
      "            mean       std\n",
      "sex                       \n",
      "Female  2.833448  1.159495\n",
      "Male    3.089618  1.489102 \n",
      "\n",
      "Rotulos dos grupos:\n",
      " Index(['Female', 'Male'], dtype='object', name='sex')\n",
      "\n",
      "Rotulos das colunas:\n",
      " Index(['mean', 'std'], dtype='object')\n"
     ]
    }
   ],
   "source": [
    "# Usando as colunas de agregação como índices\n",
    "result = df.groupby([\"sex\"])[\"tip\"].agg([\"mean\", \"std\"])\n",
    "print(result,'\\n')\n",
    "print(\"Rotulos dos grupos:\\n\", result.index)\n",
    "print(\"\\nRotulos das colunas:\\n\", result.columns)"
   ]
  },
  {
   "cell_type": "code",
   "execution_count": 25,
   "metadata": {},
   "outputs": [
    {
     "name": "stdout",
     "output_type": "stream",
     "text": [
      "      sex      mean       std\n",
      "0  Female  2.833448  1.159495\n",
      "1    Male  3.089618  1.489102 \n",
      "\n",
      "Rotulos dos grupos:\n",
      " RangeIndex(start=0, stop=2, step=1)\n",
      "\n",
      "Rotulos das colunas:\n",
      " Index(['sex', 'mean', 'std'], dtype='object')\n"
     ]
    }
   ],
   "source": [
    "# Reindexando com reset_index(), os rótulos se tornam uma nova coluna\n",
    "result = df.groupby([\"sex\"])[\"tip\"].agg([\"mean\", \"std\"]).reset_index()\n",
    "print(result,'\\n')\n",
    "print(\"Rotulos dos grupos:\\n\", result.index)\n",
    "print(\"\\nRotulos das colunas:\\n\", result.columns)"
   ]
  },
  {
   "cell_type": "markdown",
   "metadata": {
    "colab_type": "text",
    "id": "s-EBi_8HBhT3"
   },
   "source": [
    "Pode-se aplicar agregações diferentes para cada coluna com o uso de dicionário."
   ]
  },
  {
   "cell_type": "code",
   "execution_count": 27,
   "metadata": {
    "colab": {
     "base_uri": "https://localhost:8080/",
     "height": 206
    },
    "colab_type": "code",
    "executionInfo": {
     "elapsed": 723,
     "status": "ok",
     "timestamp": 1576354393807,
     "user": {
      "displayName": "Bruno Gomes Coelho",
      "photoUrl": "",
      "userId": "05092110984953098563"
     },
     "user_tz": 180
    },
    "id": "fcDG9Nm_CCYh",
    "outputId": "576e0155-ff8e-45f4-d7a5-46a24c29ac9b"
   },
   "outputs": [
    {
     "name": "stdout",
     "output_type": "stream",
     "text": [
      "   total_bill   tip     sex smoker  day    time  size\n",
      "0       16.99  1.01  Female     No  Sun  Dinner     2\n",
      "1       10.34  1.66    Male     No  Sun  Dinner     3\n",
      "2       21.01  3.50    Male     No  Sun  Dinner     3\n",
      "3       23.68  3.31    Male     No  Sun  Dinner     2\n",
      "4       24.59  3.61  Female     No  Sun  Dinner     4\n",
      "\n",
      "              tip  total_bill   day\n",
      "sex                               \n",
      "Female  2.833448       44.30  Thur\n",
      "Male    3.089618       50.81   Sat\n"
     ]
    }
   ],
   "source": [
    "print(df.head())\n",
    "# calculando a média das gorjetas, \n",
    "# o valor máximo das refeições \n",
    "# e o dia da semana mais frequente (moda) de cada grupo 'Male' e 'Female'\n",
    "dfm = df.groupby([\"sex\"]).agg({\"tip\": \"mean\", \n",
    "                         \"total_bill\": \"max\",\n",
    "                         \"day\": lambda x: x.mode()})\n",
    "\n",
    "\n",
    "print('\\n',dfm.head())"
   ]
  },
  {
   "cell_type": "code",
   "execution_count": 114,
   "metadata": {},
   "outputs": [
    {
     "name": "stdout",
     "output_type": "stream",
     "text": [
      "        mean_tip  max_bill most_freq_day\n",
      "sex                                     \n",
      "Female  2.833448     44.30          Thur\n",
      "Male    3.089618     50.81           Sat\n"
     ]
    }
   ],
   "source": [
    "# Pode-se renomear as colunas do DataFrame gerado durante a agregação\n",
    "# renomeando colunas com agg\n",
    "print(df.groupby([\"sex\"]).agg(mean_tip=(\"tip\", \"mean\"),\n",
    "                              max_bill=(\"total_bill\", \"max\"),\n",
    "                              most_freq_day=(\"day\", lambda x: x.mode())))"
   ]
  },
  {
   "cell_type": "markdown",
   "metadata": {
    "colab_type": "text",
    "id": "oYHW27Z4xOQA"
   },
   "source": [
    "## Métodos de filtragem"
   ]
  },
  {
   "cell_type": "markdown",
   "metadata": {
    "colab_type": "text",
    "id": "fCz55GwN54Uz"
   },
   "source": [
    "O método mais comum de filtragem é o <font color='blue'>filter </font>que retorna os elementos do grupo que satisfaz uma condição dada. "
   ]
  },
  {
   "cell_type": "code",
   "execution_count": 28,
   "metadata": {},
   "outputs": [
    {
     "data": {
      "text/html": [
       "<div>\n",
       "<style scoped>\n",
       "    .dataframe tbody tr th:only-of-type {\n",
       "        vertical-align: middle;\n",
       "    }\n",
       "\n",
       "    .dataframe tbody tr th {\n",
       "        vertical-align: top;\n",
       "    }\n",
       "\n",
       "    .dataframe thead th {\n",
       "        text-align: right;\n",
       "    }\n",
       "</style>\n",
       "<table border=\"1\" class=\"dataframe\">\n",
       "  <thead>\n",
       "    <tr style=\"text-align: right;\">\n",
       "      <th></th>\n",
       "      <th>key1</th>\n",
       "      <th>data0</th>\n",
       "      <th>data1</th>\n",
       "      <th>data2</th>\n",
       "    </tr>\n",
       "  </thead>\n",
       "  <tbody>\n",
       "    <tr>\n",
       "      <th>0</th>\n",
       "      <td>a</td>\n",
       "      <td>0.086350</td>\n",
       "      <td>0.011903</td>\n",
       "      <td>0.837342</td>\n",
       "    </tr>\n",
       "    <tr>\n",
       "      <th>1</th>\n",
       "      <td>c</td>\n",
       "      <td>0.196243</td>\n",
       "      <td>0.564855</td>\n",
       "      <td>0.079094</td>\n",
       "    </tr>\n",
       "    <tr>\n",
       "      <th>2</th>\n",
       "      <td>b</td>\n",
       "      <td>0.266242</td>\n",
       "      <td>0.670126</td>\n",
       "      <td>0.641429</td>\n",
       "    </tr>\n",
       "    <tr>\n",
       "      <th>3</th>\n",
       "      <td>c</td>\n",
       "      <td>0.179548</td>\n",
       "      <td>0.501113</td>\n",
       "      <td>0.946667</td>\n",
       "    </tr>\n",
       "    <tr>\n",
       "      <th>4</th>\n",
       "      <td>a</td>\n",
       "      <td>0.838896</td>\n",
       "      <td>0.386267</td>\n",
       "      <td>0.913111</td>\n",
       "    </tr>\n",
       "    <tr>\n",
       "      <th>5</th>\n",
       "      <td>a</td>\n",
       "      <td>0.435815</td>\n",
       "      <td>0.131089</td>\n",
       "      <td>0.583385</td>\n",
       "    </tr>\n",
       "    <tr>\n",
       "      <th>6</th>\n",
       "      <td>b</td>\n",
       "      <td>0.676633</td>\n",
       "      <td>0.659430</td>\n",
       "      <td>0.470401</td>\n",
       "    </tr>\n",
       "    <tr>\n",
       "      <th>7</th>\n",
       "      <td>a</td>\n",
       "      <td>0.108705</td>\n",
       "      <td>0.283600</td>\n",
       "      <td>0.554306</td>\n",
       "    </tr>\n",
       "    <tr>\n",
       "      <th>8</th>\n",
       "      <td>c</td>\n",
       "      <td>0.724383</td>\n",
       "      <td>0.091081</td>\n",
       "      <td>0.518614</td>\n",
       "    </tr>\n",
       "    <tr>\n",
       "      <th>9</th>\n",
       "      <td>b</td>\n",
       "      <td>0.373339</td>\n",
       "      <td>0.057471</td>\n",
       "      <td>0.239777</td>\n",
       "    </tr>\n",
       "  </tbody>\n",
       "</table>\n",
       "</div>"
      ],
      "text/plain": [
       "  key1     data0     data1     data2\n",
       "0    a  0.086350  0.011903  0.837342\n",
       "1    c  0.196243  0.564855  0.079094\n",
       "2    b  0.266242  0.670126  0.641429\n",
       "3    c  0.179548  0.501113  0.946667\n",
       "4    a  0.838896  0.386267  0.913111\n",
       "5    a  0.435815  0.131089  0.583385\n",
       "6    b  0.676633  0.659430  0.470401\n",
       "7    a  0.108705  0.283600  0.554306\n",
       "8    c  0.724383  0.091081  0.518614\n",
       "9    b  0.373339  0.057471  0.239777"
      ]
     },
     "execution_count": 28,
     "metadata": {},
     "output_type": "execute_result"
    }
   ],
   "source": [
    "# Construindo DataFrame a partir de um dicionário\n",
    "df = pd.DataFrame({'key1': ['a','c','b','c','a','a','b','a','c','b'],\n",
    "                  'data0': np.random.uniform(low=0,high=1,size=10),\n",
    "                  'data1': np.random.uniform(low=0,high=1,size=10),\n",
    "                  'data2': np.random.uniform(low=0,high=1,size=10)})\n",
    "\n",
    "df"
   ]
  },
  {
   "cell_type": "code",
   "execution_count": 30,
   "metadata": {
    "colab": {
     "base_uri": "https://localhost:8080/",
     "height": 424
    },
    "colab_type": "code",
    "executionInfo": {
     "elapsed": 860,
     "status": "ok",
     "timestamp": 1576352338482,
     "user": {
      "displayName": "Bruno Gomes Coelho",
      "photoUrl": "",
      "userId": "05092110984953098563"
     },
     "user_tz": 180
    },
    "id": "AH9VKTBYxN3P",
    "outputId": "9f5633e5-46b2-4580-8f17-a20f7fa11669"
   },
   "outputs": [
    {
     "name": "stdout",
     "output_type": "stream",
     "text": [
      "media da coluna \"data1\"\n",
      " 0.33569339750515387\n",
      "\n",
      "media de cada grupo\n",
      "          data0     data1     data2\n",
      "key1                              \n",
      "a     0.367442  0.203215  0.722036\n",
      "b     0.438738  0.462342  0.450536\n",
      "c     0.366725  0.385683  0.514792\n",
      "\n",
      " grupos cuja média da coluna \"data1\" é maior que a média geral de \"data1\"\n",
      "\n",
      "  key1     data0     data1     data2\n",
      "1    c  0.196243  0.564855  0.079094\n",
      "2    b  0.266242  0.670126  0.641429\n",
      "3    c  0.179548  0.501113  0.946667\n",
      "6    b  0.676633  0.659430  0.470401\n",
      "8    c  0.724383  0.091081  0.518614\n",
      "9    b  0.373339  0.057471  0.239777\n"
     ]
    }
   ],
   "source": [
    "# média geral da coluna 'data1'\n",
    "data1_mean = df['data1'].mean()\n",
    "print('media da coluna \"data1\"\\n',data1_mean)\n",
    "\n",
    "# calculando a média de cada coluna em cada grupo dado pela coluna 'key1'\n",
    "print('\\nmedia de cada grupo\\n',df.groupby('key1').mean())\n",
    "\n",
    "# filtrando os grupos cuja média da coluna 'data1' é maior que a média \n",
    "# geral da coluna 'data1'\n",
    "print('\\n grupos cuja média da coluna \"data1\" é maior que a média geral de \"data1\"\\n')\n",
    "print(df.groupby('key1').filter(lambda x : x['data1'].mean() > data1_mean))"
   ]
  },
  {
   "cell_type": "markdown",
   "metadata": {
    "colab_type": "text",
    "id": "Q6tDl55YbSiG"
   },
   "source": [
    "## Métodos de transformação"
   ]
  },
  {
   "cell_type": "markdown",
   "metadata": {
    "colab_type": "text",
    "id": "dH1Xwa6C_VO3"
   },
   "source": [
    "O método <font color='blue'>transform</font> retorna um DataFrame com o **mesmo número de linhas** que o DataFrame original. A transformação é realizada em cada elemento de cada grupo."
   ]
  },
  {
   "cell_type": "code",
   "execution_count": 31,
   "metadata": {},
   "outputs": [
    {
     "data": {
      "text/html": [
       "<div>\n",
       "<style scoped>\n",
       "    .dataframe tbody tr th:only-of-type {\n",
       "        vertical-align: middle;\n",
       "    }\n",
       "\n",
       "    .dataframe tbody tr th {\n",
       "        vertical-align: top;\n",
       "    }\n",
       "\n",
       "    .dataframe thead th {\n",
       "        text-align: right;\n",
       "    }\n",
       "</style>\n",
       "<table border=\"1\" class=\"dataframe\">\n",
       "  <thead>\n",
       "    <tr style=\"text-align: right;\">\n",
       "      <th></th>\n",
       "      <th>key1</th>\n",
       "      <th>data0</th>\n",
       "      <th>data1</th>\n",
       "      <th>data2</th>\n",
       "    </tr>\n",
       "  </thead>\n",
       "  <tbody>\n",
       "    <tr>\n",
       "      <th>0</th>\n",
       "      <td>a</td>\n",
       "      <td>0.463255</td>\n",
       "      <td>0.782207</td>\n",
       "      <td>0.387510</td>\n",
       "    </tr>\n",
       "    <tr>\n",
       "      <th>1</th>\n",
       "      <td>c</td>\n",
       "      <td>0.300289</td>\n",
       "      <td>0.085529</td>\n",
       "      <td>0.974235</td>\n",
       "    </tr>\n",
       "    <tr>\n",
       "      <th>2</th>\n",
       "      <td>b</td>\n",
       "      <td>0.572172</td>\n",
       "      <td>0.711317</td>\n",
       "      <td>0.863490</td>\n",
       "    </tr>\n",
       "    <tr>\n",
       "      <th>3</th>\n",
       "      <td>c</td>\n",
       "      <td>0.749896</td>\n",
       "      <td>0.385016</td>\n",
       "      <td>0.764900</td>\n",
       "    </tr>\n",
       "    <tr>\n",
       "      <th>4</th>\n",
       "      <td>a</td>\n",
       "      <td>0.897933</td>\n",
       "      <td>0.527419</td>\n",
       "      <td>0.193958</td>\n",
       "    </tr>\n",
       "    <tr>\n",
       "      <th>5</th>\n",
       "      <td>a</td>\n",
       "      <td>0.553310</td>\n",
       "      <td>0.046254</td>\n",
       "      <td>0.731124</td>\n",
       "    </tr>\n",
       "    <tr>\n",
       "      <th>6</th>\n",
       "      <td>b</td>\n",
       "      <td>0.694645</td>\n",
       "      <td>0.425786</td>\n",
       "      <td>0.698995</td>\n",
       "    </tr>\n",
       "    <tr>\n",
       "      <th>7</th>\n",
       "      <td>a</td>\n",
       "      <td>0.188428</td>\n",
       "      <td>0.149184</td>\n",
       "      <td>0.499854</td>\n",
       "    </tr>\n",
       "    <tr>\n",
       "      <th>8</th>\n",
       "      <td>c</td>\n",
       "      <td>0.831900</td>\n",
       "      <td>0.451432</td>\n",
       "      <td>0.949801</td>\n",
       "    </tr>\n",
       "    <tr>\n",
       "      <th>9</th>\n",
       "      <td>b</td>\n",
       "      <td>0.708337</td>\n",
       "      <td>0.547912</td>\n",
       "      <td>0.504027</td>\n",
       "    </tr>\n",
       "  </tbody>\n",
       "</table>\n",
       "</div>"
      ],
      "text/plain": [
       "  key1     data0     data1     data2\n",
       "0    a  0.463255  0.782207  0.387510\n",
       "1    c  0.300289  0.085529  0.974235\n",
       "2    b  0.572172  0.711317  0.863490\n",
       "3    c  0.749896  0.385016  0.764900\n",
       "4    a  0.897933  0.527419  0.193958\n",
       "5    a  0.553310  0.046254  0.731124\n",
       "6    b  0.694645  0.425786  0.698995\n",
       "7    a  0.188428  0.149184  0.499854\n",
       "8    c  0.831900  0.451432  0.949801\n",
       "9    b  0.708337  0.547912  0.504027"
      ]
     },
     "execution_count": 31,
     "metadata": {},
     "output_type": "execute_result"
    }
   ],
   "source": [
    "# Construindo DataFrame a partir de um dicionário\n",
    "df = pd.DataFrame({'key1': ['a','c','b','c','a','a','b','a','c','b'],\n",
    "                  'data0': np.random.uniform(low=0,high=1,size=10),\n",
    "                  'data1': np.random.uniform(low=0,high=1,size=10),\n",
    "                  'data2': np.random.uniform(low=0,high=1,size=10)})\n",
    "\n",
    "df"
   ]
  },
  {
   "cell_type": "code",
   "execution_count": 184,
   "metadata": {
    "colab": {
     "base_uri": "https://localhost:8080/",
     "height": 241
    },
    "colab_type": "code",
    "executionInfo": {
     "elapsed": 1229,
     "status": "ok",
     "timestamp": 1576354004420,
     "user": {
      "displayName": "Bruno Gomes Coelho",
      "photoUrl": "",
      "userId": "05092110984953098563"
     },
     "user_tz": 180
    },
    "id": "d5irFvBj_Ch_",
    "outputId": "16bf2268-b771-493b-b289-3c8f5c8a6c3d"
   },
   "outputs": [
    {
     "name": "stdout",
     "output_type": "stream",
     "text": [
      "média de cada grupo\n",
      "          data0     data1     data2\n",
      "key1                              \n",
      "a     0.443067  0.361329  0.461615\n",
      "b     0.222620  0.786781  0.401236\n",
      "c     0.477118  0.539101  0.479748\n",
      "\n",
      "   key1     data0     data1     data2        d1        d2        d3\n",
      "0    a  0.457959  0.453289  0.073779  0.014892  0.091960 -0.387836\n",
      "1    c  0.229437  0.815709  0.760390 -0.247681  0.276607  0.280642\n",
      "2    b  0.299484  0.917252  0.849289  0.076864  0.130472  0.448053\n",
      "3    c  0.415621  0.541973  0.023200 -0.061497  0.002872 -0.456548\n",
      "4    a  0.702530  0.239415  0.666197  0.259463 -0.121914  0.204582\n",
      "5    a  0.556920  0.050453  0.795605  0.113853 -0.310877  0.333990\n",
      "6    b  0.074003  0.933933  0.260926 -0.148617  0.147152 -0.140310\n",
      "7    a  0.054860  0.702161  0.310879 -0.388207  0.340831 -0.150736\n",
      "8    c  0.786296  0.259622  0.655654  0.309178 -0.279479  0.175906\n",
      "9    b  0.294373  0.509156  0.093493  0.071753 -0.277624 -0.307743\n"
     ]
    }
   ],
   "source": [
    "# Calcula a diferença entre a média do grupo e \n",
    "# o elemento do grupo (em cada coluna)\n",
    "print('média de cada grupo\\n',df.groupby(\"key1\").mean())\n",
    "\n",
    "df[['d1','d2','d3']] = df.groupby(\"key1\").transform(lambda x: x-x.mean())\n",
    "print('\\n',df)"
   ]
  },
  {
   "cell_type": "markdown",
   "metadata": {},
   "source": [
    "O método <font color='blue'>apply</font> aplica uma função em cada grupo e retorna um DataFrame com o resultado da função em cada grupo. Os rótulos das linhas do DataFrame gerado são os identificadores dos grupos. O método <font color='blue'>apply</font> é o mais versátil dos métodos de transformação."
   ]
  },
  {
   "cell_type": "code",
   "execution_count": 32,
   "metadata": {},
   "outputs": [
    {
     "data": {
      "text/html": [
       "<div>\n",
       "<style scoped>\n",
       "    .dataframe tbody tr th:only-of-type {\n",
       "        vertical-align: middle;\n",
       "    }\n",
       "\n",
       "    .dataframe tbody tr th {\n",
       "        vertical-align: top;\n",
       "    }\n",
       "\n",
       "    .dataframe thead th {\n",
       "        text-align: right;\n",
       "    }\n",
       "</style>\n",
       "<table border=\"1\" class=\"dataframe\">\n",
       "  <thead>\n",
       "    <tr style=\"text-align: right;\">\n",
       "      <th></th>\n",
       "      <th>key1</th>\n",
       "      <th>data0</th>\n",
       "      <th>data1</th>\n",
       "      <th>data2</th>\n",
       "    </tr>\n",
       "  </thead>\n",
       "  <tbody>\n",
       "    <tr>\n",
       "      <th>0</th>\n",
       "      <td>a</td>\n",
       "      <td>0.728933</td>\n",
       "      <td>0.394707</td>\n",
       "      <td>0.329381</td>\n",
       "    </tr>\n",
       "    <tr>\n",
       "      <th>1</th>\n",
       "      <td>c</td>\n",
       "      <td>0.850069</td>\n",
       "      <td>0.484868</td>\n",
       "      <td>0.765774</td>\n",
       "    </tr>\n",
       "    <tr>\n",
       "      <th>2</th>\n",
       "      <td>b</td>\n",
       "      <td>0.723305</td>\n",
       "      <td>0.466161</td>\n",
       "      <td>0.505828</td>\n",
       "    </tr>\n",
       "    <tr>\n",
       "      <th>3</th>\n",
       "      <td>c</td>\n",
       "      <td>0.356661</td>\n",
       "      <td>0.298262</td>\n",
       "      <td>0.968979</td>\n",
       "    </tr>\n",
       "    <tr>\n",
       "      <th>4</th>\n",
       "      <td>a</td>\n",
       "      <td>0.345557</td>\n",
       "      <td>0.908988</td>\n",
       "      <td>0.264355</td>\n",
       "    </tr>\n",
       "    <tr>\n",
       "      <th>5</th>\n",
       "      <td>a</td>\n",
       "      <td>0.951560</td>\n",
       "      <td>0.338186</td>\n",
       "      <td>0.522698</td>\n",
       "    </tr>\n",
       "    <tr>\n",
       "      <th>6</th>\n",
       "      <td>b</td>\n",
       "      <td>0.230242</td>\n",
       "      <td>0.995944</td>\n",
       "      <td>0.017758</td>\n",
       "    </tr>\n",
       "    <tr>\n",
       "      <th>7</th>\n",
       "      <td>a</td>\n",
       "      <td>0.609910</td>\n",
       "      <td>0.290037</td>\n",
       "      <td>0.903186</td>\n",
       "    </tr>\n",
       "    <tr>\n",
       "      <th>8</th>\n",
       "      <td>c</td>\n",
       "      <td>0.508228</td>\n",
       "      <td>0.864183</td>\n",
       "      <td>0.933517</td>\n",
       "    </tr>\n",
       "    <tr>\n",
       "      <th>9</th>\n",
       "      <td>b</td>\n",
       "      <td>0.223151</td>\n",
       "      <td>0.456313</td>\n",
       "      <td>0.227825</td>\n",
       "    </tr>\n",
       "  </tbody>\n",
       "</table>\n",
       "</div>"
      ],
      "text/plain": [
       "  key1     data0     data1     data2\n",
       "0    a  0.728933  0.394707  0.329381\n",
       "1    c  0.850069  0.484868  0.765774\n",
       "2    b  0.723305  0.466161  0.505828\n",
       "3    c  0.356661  0.298262  0.968979\n",
       "4    a  0.345557  0.908988  0.264355\n",
       "5    a  0.951560  0.338186  0.522698\n",
       "6    b  0.230242  0.995944  0.017758\n",
       "7    a  0.609910  0.290037  0.903186\n",
       "8    c  0.508228  0.864183  0.933517\n",
       "9    b  0.223151  0.456313  0.227825"
      ]
     },
     "execution_count": 32,
     "metadata": {},
     "output_type": "execute_result"
    }
   ],
   "source": [
    "# Construindo DataFrame a partir de um dicionário\n",
    "df = pd.DataFrame({'key1': ['a','c','b','c','a','a','b','a','c','b'],\n",
    "                  'data0': np.random.uniform(low=0,high=1,size=10),\n",
    "                  'data1': np.random.uniform(low=0,high=1,size=10),\n",
    "                  'data2': np.random.uniform(low=0,high=1,size=10)})\n",
    "\n",
    "df"
   ]
  },
  {
   "cell_type": "code",
   "execution_count": 168,
   "metadata": {},
   "outputs": [
    {
     "name": "stdout",
     "output_type": "stream",
     "text": [
      "         data0     data1     data2\n",
      "key1                              \n",
      "a     0.424786  0.824820  0.749945\n",
      "b     0.737260  0.270743  0.320039\n",
      "c     0.843099  0.570657  0.797207\n",
      "key1\n",
      "a    0.424786\n",
      "b    0.270743\n",
      "c    0.570657\n",
      "dtype: float64\n"
     ]
    }
   ],
   "source": [
    "# agrupando pela coluna 'key1' e calculando a \n",
    "# diferença entre o maior e o menor valor de cada coluna em cada grupo\n",
    "# e retornando a menor diferença\n",
    "\n",
    "# diferença entre o maior e menor valor em cada coluna em cada grupo\n",
    "print(df.groupby('key1').apply(lambda x: (x.max()-x.min())))\n",
    "\n",
    "# menor diferença em cada grupo\n",
    "max_min = df.groupby('key1').apply(lambda x: (x.max()-x.min()).sort_values()[0])\n",
    "print(max_min)"
   ]
  },
  {
   "cell_type": "markdown",
   "metadata": {
    "colab_type": "text",
    "id": "ChkhhAl0hNkc"
   },
   "source": [
    "**Comentário: MapReduce**\n",
    "\n",
    "Embora frequentemente chamamos qualquer operação split-apply-combine de _MapReduce_, originalmente esse nome foi dado ao modelo de programação desenvolvido pela Apache.\n",
    "\n",
    "Sua funcionalidade é a mesma do _GroupBy_ do Pandas, porém foi implementado para operar em grandes volumes de dados utilizando algoritmos distribuidos em uma arquitetura de computação paralela (cluster de computadores), garantindo que cada máquina opere sobre um subconjunto específico dos dados, sendo o padrão para tecnologias de Big Data como [Hadoop](https://hadoop.apache.org/)\n"
   ]
  }
 ],
 "metadata": {
  "colab": {
   "collapsed_sections": [],
   "name": "Pandas II.ipynb",
   "provenance": []
  },
  "kernelspec": {
   "display_name": "Python 3",
   "language": "python",
   "name": "python3"
  },
  "language_info": {
   "codemirror_mode": {
    "name": "ipython",
    "version": 3
   },
   "file_extension": ".py",
   "mimetype": "text/x-python",
   "name": "python",
   "nbconvert_exporter": "python",
   "pygments_lexer": "ipython3",
   "version": "3.8.5"
  },
  "toc": {
   "base_numbering": 1,
   "nav_menu": {},
   "number_sections": true,
   "sideBar": true,
   "skip_h1_title": false,
   "title_cell": "Table of Contents",
   "title_sidebar": "Contents",
   "toc_cell": false,
   "toc_position": {},
   "toc_section_display": true,
   "toc_window_display": false
  }
 },
 "nbformat": 4,
 "nbformat_minor": 1
}
