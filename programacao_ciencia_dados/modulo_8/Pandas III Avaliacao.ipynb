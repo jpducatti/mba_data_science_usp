{
 "cells": [
  {
   "cell_type": "markdown",
   "metadata": {},
   "source": [
    "# <span style=\"color:blue\"> MBA em Ciência de Dados</span>\n",
    "# <span style=\"color:blue\">Programação para Ciência de Dados</span>\n",
    "\n",
    "## <span style=\"color:blue\">Pandas Parte III - Avaliação </span>\n",
    "**Material Produzido por Luis Gustavo Nonato**<br>\n",
    "**Cemeai - ICMC/USP São Carlos**"
   ]
  },
  {
   "cell_type": "markdown",
   "metadata": {},
   "source": [
    "Os exercícios a seguir farão uso do arquivo <font style=\"font-family: monaco\">sales1000.csv</font> disponível para download no moodle.\n",
    "\n",
    "O arquivo <font style=\"font-family: monaco\">sales1000.csv</font> possui informações relativas à venda de produtos. As colunas abaixo são de particular importância para solução dos exercícios:\n",
    "- *Country*: país da venda\n",
    "- *Item Type*: tipo do produto vendido no país\n",
    "- *Units Sold*: quantidade vendida\n",
    "- *Unit Price*: preço de venda\n",
    "- *Unit Cost*: preço de custo\n",
    "- *Total Profit*: lucro total"
   ]
  },
  {
   "cell_type": "code",
   "execution_count": 1,
   "metadata": {},
   "outputs": [],
   "source": [
    "import pandas as pd\n",
    "import numpy as np\n",
    "\n",
    "df = pd.read_csv('sales1000.csv')"
   ]
  },
  {
   "cell_type": "markdown",
   "metadata": {},
   "source": [
    "### Exercício 1)\n",
    "Agrupe os elementos da base de dados armazenada no arquivo <font style=\"font-family: monaco\">sales1000.csv</font> de acordo com os países.\n",
    "Quantos produtos diferentes o país \"Portugal\" vende?\n",
    "\n",
    "a) 7<br>\n",
    "b) 6<br>\n",
    "c) 5<br>\n",
    "d) 4"
   ]
  },
  {
   "cell_type": "code",
   "execution_count": 94,
   "metadata": {},
   "outputs": [
    {
     "data": {
      "text/plain": [
       "(1000, 14)"
      ]
     },
     "execution_count": 94,
     "metadata": {},
     "output_type": "execute_result"
    }
   ],
   "source": [
    "df.shape\n"
   ]
  },
  {
   "cell_type": "code",
   "execution_count": 83,
   "metadata": {},
   "outputs": [
    {
     "name": "stdout",
     "output_type": "stream",
     "text": [
      "<class 'pandas.core.groupby.generic.DataFrameGroupBy'>\n",
      "           Item Type  Units Sold  Total Profit\n",
      "60   Office Supplies         949     119811.25\n",
      "130  Office Supplies        8788    1109485.00\n",
      "302  Office Supplies        9532    1203415.00\n",
      "649       Vegetables        5511     347909.43\n",
      "738        Cosmetics        4029     700522.23\n",
      "999           Cereal        3528     312545.52\n",
      "\n",
      " Nr de produtos diferentes de Portugal ==  4\n"
     ]
    }
   ],
   "source": [
    "#Solucao\n",
    "df_country = df.groupby([\"Country\"])\n",
    "portugal = df_country.get_group('Portugal')\n",
    "\n",
    "print(type(df_country))\n",
    "\n",
    "print(portugal[['Item Type','Units Sold','Total Profit']])\n",
    "print('\\n Nr de produtos diferentes de Portugal == ',portugal['Item Type'].nunique())\n"
   ]
  },
  {
   "cell_type": "markdown",
   "metadata": {},
   "source": [
    "### Exercício 2)\n",
    "Considerando todas as vendas de um país, qual o país com o maior lucro total?\n",
    "\n",
    "a) Cameroon<br>\n",
    "b) Japan<br>\n",
    "c) Australia<br>\n",
    "d) Cuba"
   ]
  },
  {
   "cell_type": "code",
   "execution_count": 7,
   "metadata": {},
   "outputs": [
    {
     "name": "stdout",
     "output_type": "stream",
     "text": [
      "<class 'pandas.core.groupby.generic.DataFrameGroupBy'>\n",
      "                                Region Country        Item Type Sales Channel  \\\n",
      "85   Central America and the Caribbean    Cuba        Beverages       Offline   \n",
      "127  Central America and the Caribbean    Cuba          Clothes       Offline   \n",
      "233  Central America and the Caribbean    Cuba  Office Supplies       Offline   \n",
      "364  Central America and the Caribbean    Cuba        Household       Offline   \n",
      "427  Central America and the Caribbean    Cuba             Meat        Online   \n",
      "455  Central America and the Caribbean    Cuba    Personal Care        Online   \n",
      "462  Central America and the Caribbean    Cuba        Cosmetics       Offline   \n",
      "581  Central America and the Caribbean    Cuba           Cereal       Offline   \n",
      "582  Central America and the Caribbean    Cuba        Household       Offline   \n",
      "768  Central America and the Caribbean    Cuba  Office Supplies        Online   \n",
      "918  Central America and the Caribbean    Cuba          Clothes       Offline   \n",
      "\n",
      "    Order Priority  Order Date   Order ID   Ship Date  Units Sold  Unit Price  \\\n",
      "85               C    1/9/2011  890695369   2/23/2011        5408       47.45   \n",
      "127              H   2/16/2011  466970717   3/18/2011        5867      109.28   \n",
      "233              H    7/2/2017  256243503   7/23/2017        7002      651.21   \n",
      "364              L    2/2/2013  576654183    2/3/2013        3642      668.27   \n",
      "427              M  10/17/2015  925504004   12/6/2015        6057      421.89   \n",
      "455              L   8/23/2015  928647124   8/30/2015        6176       81.73   \n",
      "462              C   9/18/2015  925264966  10/18/2015        5320      437.20   \n",
      "581              L   3/30/2015  925405299    5/1/2015        6847      205.70   \n",
      "582              H   7/28/2013  714818418   8/24/2013        9509      668.27   \n",
      "768              C  12/22/2014  511349046    1/2/2015        8401      651.21   \n",
      "918              L    4/2/2014  985665738   5/19/2014        9250      109.28   \n",
      "\n",
      "     Unit Cost  Total Revenue  Total Cost  Total Profit  \n",
      "85       31.79      256609.60   171920.32      84689.28  \n",
      "127      35.84      641145.76   210273.28     430872.48  \n",
      "233     524.96     4559772.42  3675769.92     884002.50  \n",
      "364     502.54     2433839.34  1830250.68     603588.66  \n",
      "427     364.69     2555387.73  2208927.33     346460.40  \n",
      "455      56.67      504764.48   349993.92     154770.56  \n",
      "462     263.33     2325904.00  1400915.60     924988.40  \n",
      "581     117.11     1408427.90   801852.17     606575.73  \n",
      "582     502.54     6354579.43  4778652.86    1575926.57  \n",
      "768     524.96     5470815.21  4410188.96    1060626.25  \n",
      "918      35.84     1010840.00   331520.00     679320.00  \n"
     ]
    }
   ],
   "source": [
    "# Solucao\n",
    "print(type(df_country))\n",
    "country_max_profit = df.groupby(['Country'])['Total Profit'].sum().max()\n",
    "\n",
    "print(df.groupby(['Country']).filter(lambda x: x['Total Profit'].sum() >= country_max_profit))"
   ]
  },
  {
   "cell_type": "code",
   "execution_count": 8,
   "metadata": {},
   "outputs": [
    {
     "name": "stdout",
     "output_type": "stream",
     "text": [
      "Country\n",
      "Cuba    7351820.83\n",
      "dtype: float64\n"
     ]
    }
   ],
   "source": [
    "# Solucao\n",
    "\n",
    "max_profit = df.groupby(['Country']).apply(lambda x: (x['Total Profit'].sum()))\n",
    "\n",
    "mask = (max_profit >= max_profit.max())\n",
    "\n",
    "print(max_profit[mask])"
   ]
  },
  {
   "cell_type": "markdown",
   "metadata": {},
   "source": [
    "### Exercício 3)\n",
    "Quantos países vendem exatamente sete produtos distintos? \n",
    "\n",
    "a) 9<br>\n",
    "b) 8<br>\n",
    "c) 7<br>\n",
    "d) 6"
   ]
  },
  {
   "cell_type": "code",
   "execution_count": 56,
   "metadata": {},
   "outputs": [
    {
     "name": "stdout",
     "output_type": "stream",
     "text": [
      "Numero de paises com 7 produtos diferentes =  9\n",
      "\n",
      " Country\n",
      "Angola            7\n",
      "Belgium           7\n",
      "Czech Republic    7\n",
      "Fiji              7\n",
      "Iran              7\n",
      "Romania           7\n",
      "South Sudan       7\n",
      "Turkey            7\n",
      "Vanuatu           7\n",
      "Name: Item Type, dtype: int64\n"
     ]
    }
   ],
   "source": [
    "#Solucao\n",
    "prod_dif = df.groupby(['Country'])['Item Type'].nunique()\n",
    "\n",
    "mask = (prod_dif == 7)\n",
    "\n",
    "print('Numero de paises com 7 produtos diferentes = ',prod_dif[mask].count())\n",
    "print('\\n',prod_dif[mask])"
   ]
  },
  {
   "cell_type": "markdown",
   "metadata": {},
   "source": [
    "### Exercício 4)\n",
    "Qual o país com a maior diferença entre a maior quantidade e a menor quantidade de produtos vendidos? Por exemplo, 'Tonga' vende os seguintes quantidades de produtos:\n",
    "```python\n",
    "Household  8635\n",
    "Beverages  9367\n",
    "Meat       9633\n",
    "Fruits     7124\n",
    "Meat       3499\n",
    "```\n",
    "Portando, a diferença entre a maior e a menor quantidade de produtos vendidos é $$9633-3499=6134$$ Qual o país com a maior diferença?\n",
    "\n",
    "a) Tonga<br>\n",
    "b) Cape Verde<br>\n",
    "c) Romania<br>\n",
    "d) Cuba"
   ]
  },
  {
   "cell_type": "code",
   "execution_count": 113,
   "metadata": {},
   "outputs": [
    {
     "name": "stdout",
     "output_type": "stream",
     "text": [
      "Maior dif entre prod + e - vendido =  9775 e o seu indice é =  27\n",
      "\n",
      "           Pais  delta\n",
      "27  Cape Verde   9775\n",
      "\n",
      "              Pais Prod mais vendido Prod Menos vendido  Valor mais vendido  \\\n",
      "0     Afghanistan            Cereal          Baby Food                7081   \n",
      "1         Albania         Beverages          Baby Food                8775   \n",
      "2         Algeria     Personal Care          Baby Food                9681   \n",
      "3         Andorra     Personal Care          Beverages                9950   \n",
      "4          Angola         Household          Beverages                9135   \n",
      "..            ...               ...                ...                 ...   \n",
      "180  Vatican City         Beverages         Vegetables                7946   \n",
      "181       Vietnam            Snacks      Personal Care                7665   \n",
      "182         Yemen            Cereal    Office Supplies                7073   \n",
      "183        Zambia         Baby Food             Fruits                7526   \n",
      "184      Zimbabwe            Fruits          Beverages                9907   \n",
      "\n",
      "     Valor Menos vendido  delta  \n",
      "0                     80   7001  \n",
      "1                   1973   6802  \n",
      "2                   3175   6506  \n",
      "3                    600   9350  \n",
      "4                    698   8437  \n",
      "..                   ...    ...  \n",
      "180                 2173   5773  \n",
      "181                  321   7344  \n",
      "182                 2173   4900  \n",
      "183                 3524   4002  \n",
      "184                  851   9056  \n",
      "\n",
      "[185 rows x 6 columns]\n"
     ]
    }
   ],
   "source": [
    "id_mais_vendido = df.groupby('Country')['Units Sold'].transform(lambda x: x.idxmax())\n",
    "id_menos_vendido = df.groupby('Country')['Units Sold'].transform(lambda x: x.idxmin())\n",
    "\n",
    "\n",
    "paises = pd.DataFrame(df.groupby('Country').apply(lambda x:x.name).values,\n",
    "                        columns=['Pais'])\n",
    "\n",
    "aux_max = id_mais_vendido.groupby(df['Country'].values).apply(lambda i: i.iloc[0]).values\n",
    "aux_min = id_menos_vendido.groupby(df['Country'].values).apply(lambda i: i.iloc[0]).values\n",
    "\n",
    "\n",
    "paises['Prod mais vendido'] = df['Item Type'].iloc[aux_max].values\n",
    "paises['Prod Menos vendido'] = df['Item Type'].iloc[aux_min].values\n",
    "paises['Valor mais vendido'] = df['Units Sold'].iloc[aux_max].values\n",
    "paises['Valor Menos vendido'] = df['Units Sold'].iloc[aux_min].values\n",
    "paises['delta'] = df['Units Sold'].iloc[aux_max].values - df['Units Sold'].iloc[aux_min].values\n",
    "\n",
    "print('Maior dif entre prod + e - vendido = ',paises['delta'].max(),'e o seu indice é = ',paises['delta'].idxmax())\n",
    "print('\\n',paises[['Pais','delta']].iloc[[paises['delta'].idxmax()]])\n",
    "\n",
    "print('\\n',paises)\n"
   ]
  },
  {
   "cell_type": "markdown",
   "metadata": {},
   "source": [
    "### Exercício 5)\n",
    "O lucro de um produto é a diferença entre o preço de venda e o de custo. Qual o produto que fornece o maior lucro médio?\n",
    "\n",
    "a) Baby Food<br>\n",
    "b) Fruits<br>\n",
    "c) Household<br>\n",
    "d) Cosmetics"
   ]
  },
  {
   "cell_type": "code",
   "execution_count": null,
   "metadata": {},
   "outputs": [],
   "source": [
    "# Solucao"
   ]
  }
 ],
 "metadata": {
  "kernelspec": {
   "display_name": "Python 3",
   "language": "python",
   "name": "python3"
  },
  "language_info": {
   "codemirror_mode": {
    "name": "ipython",
    "version": 3
   },
   "file_extension": ".py",
   "mimetype": "text/x-python",
   "name": "python",
   "nbconvert_exporter": "python",
   "pygments_lexer": "ipython3",
   "version": "3.9.7"
  }
 },
 "nbformat": 4,
 "nbformat_minor": 2
}
