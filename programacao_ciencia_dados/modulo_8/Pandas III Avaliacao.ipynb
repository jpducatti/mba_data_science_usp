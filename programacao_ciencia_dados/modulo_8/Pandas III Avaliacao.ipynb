{
 "cells": [
  {
   "cell_type": "markdown",
   "metadata": {},
   "source": [
    "# <span style=\"color:blue\"> MBA em Ciência de Dados</span>\n",
    "# <span style=\"color:blue\">Programação para Ciência de Dados</span>\n",
    "\n",
    "## <span style=\"color:blue\">Pandas Parte III - Avaliação </span>\n",
    "**Material Produzido por Luis Gustavo Nonato**<br>\n",
    "**Cemeai - ICMC/USP São Carlos**"
   ]
  },
  {
   "cell_type": "markdown",
   "metadata": {},
   "source": [
    "Os exercícios a seguir farão uso do arquivo <font style=\"font-family: monaco\">sales1000.csv</font> disponível para download no moodle.\n",
    "\n",
    "O arquivo <font style=\"font-family: monaco\">sales1000.csv</font> possui informações relativas à venda de produtos. As colunas abaixo são de particular importância para solução dos exercícios:\n",
    "- *Country*: país da venda\n",
    "- *Item Type*: tipo do produto vendido no país\n",
    "- *Units Sold*: quantidade vendida\n",
    "- *Unit Price*: preço de venda\n",
    "- *Unit Cost*: preço de custo\n",
    "- *Total Profit*: lucro total"
   ]
  },
  {
   "cell_type": "code",
   "execution_count": 1,
   "metadata": {},
   "outputs": [],
   "source": [
    "import pandas as pd\n",
    "import numpy as np\n",
    "\n",
    "df = pd.read_csv('sales1000.csv')"
   ]
  },
  {
   "cell_type": "markdown",
   "metadata": {},
   "source": [
    "### Exercício 1)\n",
    "Agrupe os elementos da base de dados armazenada no arquivo <font style=\"font-family: monaco\">sales1000.csv</font> de acordo com os países.\n",
    "Quantos produtos diferentes o país \"Portugal\" vende?\n",
    "\n",
    "a) 7<br>\n",
    "b) 6<br>\n",
    "c) 5<br>\n",
    "d) 4"
   ]
  },
  {
   "cell_type": "code",
   "execution_count": 93,
   "metadata": {},
   "outputs": [
    {
     "data": {
      "text/plain": [
       "Region             object\n",
       "Country            object\n",
       "Item Type          object\n",
       "Sales Channel      object\n",
       "Order Priority     object\n",
       "Order Date         object\n",
       "Order ID            int64\n",
       "Ship Date          object\n",
       "Units Sold          int64\n",
       "Unit Price        float64\n",
       "Unit Cost         float64\n",
       "Total Revenue     float64\n",
       "Total Cost        float64\n",
       "Total Profit      float64\n",
       "dtype: object"
      ]
     },
     "execution_count": 93,
     "metadata": {},
     "output_type": "execute_result"
    }
   ],
   "source": [
    "df.shape\n",
    "df.dtypes"
   ]
  },
  {
   "cell_type": "code",
   "execution_count": 23,
   "metadata": {},
   "outputs": [
    {
     "name": "stdout",
     "output_type": "stream",
     "text": [
      "<class 'pandas.core.groupby.generic.DataFrameGroupBy'>\n",
      "\n",
      " 6\n",
      "\n",
      " 60      Online\n",
      "130     Online\n",
      "302     Online\n",
      "649     Online\n",
      "738    Offline\n",
      "999    Offline\n",
      "Name: Sales Channel, dtype: object\n"
     ]
    }
   ],
   "source": [
    "#Solucao\n",
    "df_country = df.groupby([\"Country\"])\n",
    "\n",
    "print(type(df_country))\n",
    "print('\\n',df_country.get_group('Portugal')['Sales Channel'].count())\n",
    "print('\\n',df_country.get_group('Portugal')['Sales Channel'])"
   ]
  },
  {
   "cell_type": "markdown",
   "metadata": {},
   "source": [
    "### Exercício 2)\n",
    "Considerando todas as vendas de um país, qual o país com o maior lucro total?\n",
    "\n",
    "a) Cameroon<br>\n",
    "b) Japan<br>\n",
    "c) Australia<br>\n",
    "d) Cuba"
   ]
  },
  {
   "cell_type": "code",
   "execution_count": 110,
   "metadata": {},
   "outputs": [
    {
     "name": "stdout",
     "output_type": "stream",
     "text": [
      "<class 'pandas.core.groupby.generic.DataFrameGroupBy'>\n",
      "                                Region Country        Item Type Sales Channel  \\\n",
      "85   Central America and the Caribbean    Cuba        Beverages       Offline   \n",
      "127  Central America and the Caribbean    Cuba          Clothes       Offline   \n",
      "233  Central America and the Caribbean    Cuba  Office Supplies       Offline   \n",
      "364  Central America and the Caribbean    Cuba        Household       Offline   \n",
      "427  Central America and the Caribbean    Cuba             Meat        Online   \n",
      "455  Central America and the Caribbean    Cuba    Personal Care        Online   \n",
      "462  Central America and the Caribbean    Cuba        Cosmetics       Offline   \n",
      "581  Central America and the Caribbean    Cuba           Cereal       Offline   \n",
      "582  Central America and the Caribbean    Cuba        Household       Offline   \n",
      "768  Central America and the Caribbean    Cuba  Office Supplies        Online   \n",
      "918  Central America and the Caribbean    Cuba          Clothes       Offline   \n",
      "\n",
      "    Order Priority  Order Date   Order ID   Ship Date  Units Sold  Unit Price  \\\n",
      "85               C    1/9/2011  890695369   2/23/2011        5408       47.45   \n",
      "127              H   2/16/2011  466970717   3/18/2011        5867      109.28   \n",
      "233              H    7/2/2017  256243503   7/23/2017        7002      651.21   \n",
      "364              L    2/2/2013  576654183    2/3/2013        3642      668.27   \n",
      "427              M  10/17/2015  925504004   12/6/2015        6057      421.89   \n",
      "455              L   8/23/2015  928647124   8/30/2015        6176       81.73   \n",
      "462              C   9/18/2015  925264966  10/18/2015        5320      437.20   \n",
      "581              L   3/30/2015  925405299    5/1/2015        6847      205.70   \n",
      "582              H   7/28/2013  714818418   8/24/2013        9509      668.27   \n",
      "768              C  12/22/2014  511349046    1/2/2015        8401      651.21   \n",
      "918              L    4/2/2014  985665738   5/19/2014        9250      109.28   \n",
      "\n",
      "     Unit Cost  Total Revenue  Total Cost  Total Profit  \n",
      "85       31.79      256609.60   171920.32      84689.28  \n",
      "127      35.84      641145.76   210273.28     430872.48  \n",
      "233     524.96     4559772.42  3675769.92     884002.50  \n",
      "364     502.54     2433839.34  1830250.68     603588.66  \n",
      "427     364.69     2555387.73  2208927.33     346460.40  \n",
      "455      56.67      504764.48   349993.92     154770.56  \n",
      "462     263.33     2325904.00  1400915.60     924988.40  \n",
      "581     117.11     1408427.90   801852.17     606575.73  \n",
      "582     502.54     6354579.43  4778652.86    1575926.57  \n",
      "768     524.96     5470815.21  4410188.96    1060626.25  \n",
      "918      35.84     1010840.00   331520.00     679320.00  \n"
     ]
    }
   ],
   "source": [
    "# Solucao\n",
    "print(type(df_country))\n",
    "country_max_profit = df.groupby(['Country'])['Total Profit'].sum().max()\n",
    "\n",
    "print(df.groupby(['Country']).filter(lambda x: x['Total Profit'].sum() >= country_max_profit))"
   ]
  },
  {
   "cell_type": "code",
   "execution_count": 124,
   "metadata": {},
   "outputs": [
    {
     "name": "stdout",
     "output_type": "stream",
     "text": [
      "Country\n",
      "Afghanistan     1365407.10\n",
      "Albania         3143068.34\n",
      "Algeria         2235989.24\n",
      "Andorra         2143268.87\n",
      "Angola          4541144.42\n",
      "                   ...    \n",
      "Vatican City     650282.65\n",
      "Vietnam         3466171.60\n",
      "Yemen           3677655.83\n",
      "Zambia           729935.20\n",
      "Zimbabwe        1543572.91\n",
      "Length: 185, dtype: float64\n"
     ]
    }
   ],
   "source": [
    "# Solucao\n",
    "country_max_profit = df.groupby(['Country'])['Total Profit'].sum().max()\n",
    "\n",
    "max_profit = df.groupby(['Country']).apply(lambda x: (x['Total Profit'].sum().max()))\n",
    "\n",
    "print(max_profit)"
   ]
  },
  {
   "cell_type": "markdown",
   "metadata": {},
   "source": [
    "### Exercício 3)\n",
    "Quantos países vendem exatamente sete produtos distintos? \n",
    "\n",
    "a) 9<br>\n",
    "b) 8<br>\n",
    "c) 7<br>\n",
    "d) 6"
   ]
  },
  {
   "cell_type": "code",
   "execution_count": null,
   "metadata": {},
   "outputs": [],
   "source": [
    "#Solucao"
   ]
  },
  {
   "cell_type": "markdown",
   "metadata": {},
   "source": [
    "### Exercício 4)\n",
    "Qual o país com a maior diferença entre a maior quantidade e a menor quantidade de produtos vendidos? Por exemplo, 'Tonga' vende os seguintes quantidades de produtos:\n",
    "```python\n",
    "Household  8635\n",
    "Beverages  9367\n",
    "Meat       9633\n",
    "Fruits     7124\n",
    "Meat       3499\n",
    "```\n",
    "Portando, a diferença entre a maior e a menor quantidade de produtos vendidos é $$9633-3499=6134$$ Qual o país com a maior diferença?\n",
    "\n",
    "a) Tonga<br>\n",
    "b) Cape Verde<br>\n",
    "c) Romania<br>\n",
    "d) Cuba"
   ]
  },
  {
   "cell_type": "code",
   "execution_count": null,
   "metadata": {},
   "outputs": [],
   "source": [
    "# Solucao"
   ]
  },
  {
   "cell_type": "markdown",
   "metadata": {},
   "source": [
    "### Exercício 5)\n",
    "O lucro de um produto é a diferença entre o preço de venda e o de custo. Qual o produto que fornece o maior lucro médio?\n",
    "\n",
    "a) Baby Food<br>\n",
    "b) Fruits<br>\n",
    "c) Household<br>\n",
    "d) Cosmetics"
   ]
  },
  {
   "cell_type": "code",
   "execution_count": null,
   "metadata": {},
   "outputs": [],
   "source": [
    "# Solucao"
   ]
  }
 ],
 "metadata": {
  "kernelspec": {
   "display_name": "Python 3",
   "language": "python",
   "name": "python3"
  },
  "language_info": {
   "codemirror_mode": {
    "name": "ipython",
    "version": 3
   },
   "file_extension": ".py",
   "mimetype": "text/x-python",
   "name": "python",
   "nbconvert_exporter": "python",
   "pygments_lexer": "ipython3",
   "version": "3.9.7"
  }
 },
 "nbformat": 4,
 "nbformat_minor": 2
}
