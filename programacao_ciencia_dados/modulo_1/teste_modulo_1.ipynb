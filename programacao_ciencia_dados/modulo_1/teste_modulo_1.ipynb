{
 "cells": [
  {
   "cell_type": "markdown",
   "metadata": {
    "id": "4VUII-SXX1x5"
   },
   "source": [
    "# <span style=\"color:blue\"> MBA em Ciência de Dados</span>\n",
    "# <span style=\"color:blue\">Programação para Ciência de Dados</span>\n",
    "\n",
    "## <span style=\"color:blue\">Python Parte I: Avaliação</span>\n",
    "**Material Produzido por Luis Gustavo Nonato**<br>\n",
    "**Cemeai - ICMC/USP São Carlos**"
   ]
  },
  {
   "cell_type": "markdown",
   "metadata": {
    "id": "0niPVwVqX1x8"
   },
   "source": [
    "<font color='red'> As respostas devem ser fornecidas no Moodle. O notebook é apenas para a implementação dos códigos que fornecerão as respostas</font>"
   ]
  },
  {
   "cell_type": "markdown",
   "metadata": {
    "id": "bOnAqJNCX1x8"
   },
   "source": [
    "### Exercício 1\n",
    "Considere a lista `lt` abaixo. Escreva um código para calcular quantos elementos da lista são divisíveis simultaneamente por 3 e por 5.\n",
    "\n",
    "a) Número de elementos divisiveis por 3 e por 5 simultaneamente = 2<br>\n",
    "b) Número de elementos divisiveis por 3 e por 5 simultaneamente = 3<br>\n",
    "c) Número de elementos divisiveis por 3 e por 5 simultaneamente = 4<br>\n",
    "d) Número de elementos divisiveis por 3 e por 5 simultaneamente = 5"
   ]
  },
  {
   "cell_type": "code",
   "execution_count": 1,
   "metadata": {
    "id": "Ia6rHLBZX1x9"
   },
   "outputs": [
    {
     "name": "stdout",
     "output_type": "stream",
     "text": [
      "2\n"
     ]
    }
   ],
   "source": [
    "lt = [99, 128, 185, 19, 215, 493, 104, 78, 248, 299, 278, 141, 467, 212, 465, 130, 320, 35, 148, 351, \n",
    "       176, 366, 373, 256, 314, 354, 188, 259, 443, 81, 447, 313, 368, 197, 185, 328, 275, 269, 153, \n",
    "       495, 155, 312, 87, 141, 413, 129, 106, 44, 245, 479]\n",
    "\n",
    "# escreva a solução aqui\n",
    "contagem = 0\n",
    "for elemento in lt:\n",
    "    if elemento % 3 ==0:\n",
    "        if elemento %5 == 0:\n",
    "            contagem +=1\n",
    "\n",
    "print(contagem)"
   ]
  },
  {
   "cell_type": "markdown",
   "metadata": {
    "id": "pxOS-0GcX1x-"
   },
   "source": [
    "### Exercício 2\n",
    "Considere a lista `palavras` abaixo. Escreva um código para contar quantas vezes a letra 'e' e a letra 'i' aparecem na lista.\n",
    "\n",
    "a) 'e': 51 vezes; 'i': 56 vezes<br>\n",
    "b) 'e': 23 vezes; 'i': 13 vezes<br>\n",
    "c) 'e': 34 vezes; 'i': 36 vezes<br>\n",
    "d)'e': 44 vezes; 'i': 26 vezes"
   ]
  },
  {
   "cell_type": "code",
   "execution_count": 2,
   "metadata": {
    "id": "Wm9eJpNLX1x_"
   },
   "outputs": [
    {
     "name": "stdout",
     "output_type": "stream",
     "text": [
      "e =  34\n",
      "i =  36\n"
     ]
    }
   ],
   "source": [
    "palavras = ['adeus','adoravel','amor','caminhos','chuva','coragem','cuidar','equilibrio',\n",
    "            'esperanca','felicidade','gentilezas','liberdade','melancolia','paz','respeito',\n",
    "            'riso','saudade','palimpsesto','perfeito','reciproco','recomeçar',\n",
    "            'resiliente','sentir','silencio','imprescindivel','sublime','tertulias','histerossalpingografico',\n",
    "            'pluridisciplinaridade','multidimensional']\n",
    "\n",
    "            \n",
    "# escreva a solução aqui\n",
    "e = i = x =0\n",
    "for elemento in palavras:\n",
    "    for x in elemento:\n",
    "        if x == \"e\":\n",
    "            e +=1\n",
    "        if x == \"i\":\n",
    "            i +=1\n",
    "        \n",
    "print(\"e = \",e)\n",
    "print(\"i = \",i)\n"
   ]
  },
  {
   "cell_type": "markdown",
   "metadata": {
    "id": "JyiollrAX1yA"
   },
   "source": [
    "---\n",
    "\n",
    "Os exercícios de 3 a 5 abaixo fazem uso da lista de tuplas `dados_deputados` definida abaixo. Cada elemento da lista corresponde a uma tupla com nome de um deputado, estado e partido ao qual o deputado pertence e o valor de reembolso solicitado em um determinado mês do ano, ou seja:\n",
    "\n",
    "```python\n",
    "dados_deputados = [(NOME, ESTADO, PARTIDO, VALOR),\n",
    "                   (NOME, ESTADO, PARTIDO, VALOR),\n",
    "                    ...\n",
    "                   (NOME, ESTADO, PARTIDO, VALOR)]\n",
    "```"
   ]
  },
  {
   "cell_type": "code",
   "execution_count": 3,
   "metadata": {
    "id": "E70lJalRX1yA"
   },
   "outputs": [],
   "source": [
    "dados_deputados = [('JOSE STEDILE', 'RS', 'PSB', 106.03), ('BENITO GAMA', 'BA', 'PTB', 46.82),\n",
    "                   ('LUCIO VIEIRA LIMA', 'BA', 'PMDB', 332.0), ('FABIO REIS', 'SE', 'PMDB', 80.0),\n",
    "                   ('LUIZA ERUNDINA', 'SP', 'PSOL', 5.7), ('MAURO MARIANI', 'SC', 'PMDB', 526.68), \n",
    "                   ('MAJOR OLIMPIO', 'SP', 'SD', 38.1), ('BETINHO GOMES', 'PE', 'PSDB', 12000.0), \n",
    "                   ('PAULO ABI-ACKEL', 'MG', 'PSDB', 972.72), ('EZEQUIEL TEIXEIRA', 'RJ', 'PTN', 50.0), \n",
    "                   ('ADELMO CARNEIRO LEÃO', 'MG', 'PT', 709.72), ('HISSA ABRAHAO', 'AM', 'PDT', 1379.58), \n",
    "                   ('PAES LANDIM', 'PI', 'PTB', 1091.66), ('ANDRES SANCHEZ', 'SP', 'PT', 61.4), \n",
    "                   ('JOZI ARAUJO', 'AP', 'PTN', 141.0), ('ROBERTO FREIRE', 'SP', 'PPS', 161.88), \n",
    "                   ('ELIZIANE GAMA', 'MA', 'PPS', 546.73), ('CACA LEAO', 'BA', 'PP', 77.5), \n",
    "                   ('DIMAS FABIANO', 'MG', 'PP', 185.0), ('SILVIO TORRES', 'SP', 'PSDB', 233.0), \n",
    "                   ('RICARDO TEOBALDO ', 'PE', 'PTN', 50.0), ('ZECA DIRCEU', 'PR', 'PT', 499.29), \n",
    "                   ('ROCHA', 'AC', 'PSDB', 152.9), ('LAUDIVIO CARVALHO', 'MG', 'SD', 15.6), \n",
    "                   ('CRISTIANE BRASIL', 'RJ', 'PTB', 240.45), ('FABIO SOUSA', 'GO', 'PSDB', 81.0), \n",
    "                   ('CARLOS MANATO', 'ES', 'SD', 124.9), ('GONZAGA PATRIOTA', 'PE', 'PSB', 6.0), \n",
    "                   ('LUIZ COUTO', 'PB', 'PT', 868.83), ('EZEQUIEL TEIXEIRA', 'RJ', 'PTN', 710.45), \n",
    "                   ('MAURO LOPES', 'MG', 'PMDB', 92.6), ('MARCIO ALVINO', 'SP', 'PR', 5.2),\n",
    "                   ('ALEX SANTANA','BA','PDT',137.8),('AELTON FREITAS','MG','PR',27.9)]"
   ]
  },
  {
   "cell_type": "markdown",
   "metadata": {
    "id": "4SYopj6OX1yB"
   },
   "source": [
    "### Exercício 3\n",
    "Escreva um código para calcular o valor total dos reembolsos solicitado.\n",
    "\n",
    "a) 19783.71<br>\n",
    "b) 21758.44<br>\n",
    "c) 27136.50<br>\n",
    "d) 42313.13"
   ]
  },
  {
   "cell_type": "code",
   "execution_count": 4,
   "metadata": {
    "id": "qU-ma3xuX1yC"
   },
   "outputs": [
    {
     "name": "stdout",
     "output_type": "stream",
     "text": [
      "21758.440000000006\n"
     ]
    }
   ],
   "source": [
    "# escreva a solução aqui\n",
    "reembolso = 0\n",
    "for elemento in dados_deputados:\n",
    "    reembolso += elemento[3] \n",
    "\n",
    "print(reembolso)"
   ]
  },
  {
   "cell_type": "markdown",
   "metadata": {
    "id": "W4U3PhRkX1yC"
   },
   "source": [
    "### Exercício 4\n",
    "Escreva um código para encontrar qual estado possui o menor valor total de reembolsos, ou seja, somando os reembolsos de todos os deputados de cada estado, qual estado possui o menor valor de reembolso? Qual é o estado e o valor encontrados?\n",
    "\n",
    "__Dica:__ Crie um dicionário onde as chaves são os estados.\n",
    "\n",
    "a) AP, 141.60<br>\n",
    "b) RS, 106.03<br>\n",
    "c) GO, 81.00<br>\n",
    "d) SE, 80.00"
   ]
  },
  {
   "cell_type": "code",
   "execution_count": 5,
   "metadata": {
    "id": "ONLln6I-X1yC"
   },
   "outputs": [
    {
     "name": "stdout",
     "output_type": "stream",
     "text": [
      "--------- SE  =  80.0\n"
     ]
    }
   ],
   "source": [
    "# escreva a solução aqui\n",
    "dic_deputado={}\n",
    "\n",
    "minval = 10000000\n",
    "estado = \"\"\n",
    "\n",
    "for elemento in dados_deputados:\n",
    "    if elemento[1] in dic_deputado:\n",
    "        dic_deputado[elemento[1]] = dic_deputado[elemento[1]] + elemento[3]\n",
    "    else:\n",
    "        dic_deputado[elemento[1]] = elemento[3]\n",
    "\n",
    "for vc in dic_deputado.items():\n",
    "    if vc[1] < minval:\n",
    "        minval = vc[1]\n",
    "        estado = vc[0]\n",
    "    #print(vc[0],\" = \", vc[1])\n",
    "\n",
    "print(3*\"---\", estado, \" = \", minval)"
   ]
  },
  {
   "cell_type": "markdown",
   "metadata": {
    "id": "d1qjBiAeX1yD"
   },
   "source": [
    "### Exercício 5\n",
    "Escreva um código para encontrar qual partido requisitou o menor número de reembolsos (não o valor, mas sim o número de vezes solicitadas).\n",
    "Qual o partido e a quantidade de vezes solicitadas?\n",
    "\n",
    "a) PTB, 3 vezes<br>\n",
    "b) PT, 2 vezes<br>\n",
    "c) PSOL, 1 vez<br>\n",
    "d) PMDB, 5 vezes"
   ]
  },
  {
   "cell_type": "code",
   "execution_count": 6,
   "metadata": {
    "id": "Ll2FlwYhX1yD"
   },
   "outputs": [
    {
     "name": "stdout",
     "output_type": "stream",
     "text": [
      "--------- PSOL  =  1\n"
     ]
    }
   ],
   "source": [
    "# escreva a solução aqui\n",
    "dic_deputado = {}\n",
    "minval = 10000000\n",
    "estado = \"\"\n",
    "\n",
    "for elemento in dados_deputados:\n",
    "    if elemento[2] in dic_deputado:\n",
    "        dic_deputado[elemento[2]] += 1\n",
    "    else:\n",
    "        dic_deputado[elemento[2]] = 1\n",
    "\n",
    "for vc in dic_deputado.items():\n",
    "    if vc[1] < minval:\n",
    "        minval = vc[1]\n",
    "        estado = vc[0]\n",
    "\n",
    "print(3*\"---\", estado, \" = \", minval)"
   ]
  }
 ],
 "metadata": {
  "colab": {
   "collapsed_sections": [],
   "name": "Python I avaliacao.ipynb",
   "provenance": [
    {
     "file_id": "1hKUFPKOzZtRBMnNbMUeOSvgD8XaV_YXK",
     "timestamp": 1642626286746
    }
   ]
  },
  "kernelspec": {
   "display_name": "Python 3 (ipykernel)",
   "language": "python",
   "name": "python3"
  },
  "language_info": {
   "codemirror_mode": {
    "name": "ipython",
    "version": 3
   },
   "file_extension": ".py",
   "mimetype": "text/x-python",
   "name": "python",
   "nbconvert_exporter": "python",
   "pygments_lexer": "ipython3",
   "version": "3.9.7"
  },
  "toc": {
   "base_numbering": 1,
   "nav_menu": {},
   "number_sections": true,
   "sideBar": true,
   "skip_h1_title": false,
   "title_cell": "Table of Contents",
   "title_sidebar": "Contents",
   "toc_cell": false,
   "toc_position": {},
   "toc_section_display": true,
   "toc_window_display": false
  }
 },
 "nbformat": 4,
 "nbformat_minor": 1
}
