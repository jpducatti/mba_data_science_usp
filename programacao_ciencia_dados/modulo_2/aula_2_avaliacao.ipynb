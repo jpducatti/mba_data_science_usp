{
  "cells": [
    {
      "cell_type": "markdown",
      "metadata": {
        "id": "6funjacwNy-q"
      },
      "source": [
        "# <span style=\"color:blue\"> MBA em Ciência de Dados</span>\n",
        "# <span style=\"color:blue\">Programação para Ciência de Dados</span>\n",
        "\n",
        "## <span style=\"color:blue\">Avaliação Python Parte II</span>\n",
        "**Material Produzido por Luis Gustavo Nonato**<br>\n",
        "**Cemeai - ICMC/USP São Carlos**"
      ]
    },
    {
      "cell_type": "markdown",
      "metadata": {
        "id": "cutfp5OANy-y"
      },
      "source": [
        "<font color='red'> As respostas devem ser fornecidas no Moodle. O notebook é apenas para a implementação dos códigos que fornecerão as respostas</font>"
      ]
    },
    {
      "cell_type": "markdown",
      "metadata": {
        "id": "fXbLVfzhNy-3"
      },
      "source": [
        "### Exercício 1) \n",
        "Considere a lista `mat` abaixo, onde cada elemento é também uma lista. Cada lista correspondendo a um elemento de `mat` tem como primeiro elemento o cargo, o segundo elemento o nível de formação e o terceiro o nome de um  funcionário.\n",
        "\n",
        "Utilize comprehension para gerar uma lista chamada `nomes` que contenha o nome dos funcionários que tem cargo de supervisor. \n",
        "Dentre as opções abaixo, qual implementa a solução corretamente?\n",
        "\n",
        "a) nomes = [s for s in mat if s == 'supervisor']<br>\n",
        "b) nomes = [s[1] for s in mat if s[2] == 'supervisor']<br>\n",
        "c) nomes = [s[2] for s in mat if s[0] == 'supervisor' ]<br>\n",
        "c) nomes = [s[0] for s in mat if s != 'supervisor']"
      ]
    },
    {
      "cell_type": "code",
      "execution_count": 58,
      "metadata": {
        "id": "WgBIqbVINy-4"
      },
      "outputs": [
        {
          "name": "stdout",
          "output_type": "stream",
          "text": [
            "['Carlos', 'Alberto', 'Fernanda']\n"
          ]
        }
      ],
      "source": [
        "mat = [\n",
        "    ['supervisor', 'tecnico', 'Carlos'],\n",
        "    ['assistente', 'tecnico', 'Lucas'],\n",
        "    ['iniciante', 'doutor', 'Jessica'],\n",
        "    ['supervisor', 'mestre', 'Alberto'],\n",
        "    ['gerente', 'graduado', 'Ricardo'],\n",
        "    ['engenheiro', 'graduado', 'Fernando'],\n",
        "    ['gerente', 'mestre', 'Jose'],\n",
        "    ['iniciante', 'graduado', 'Joao'],\n",
        "    ['supervisor', 'graduado', 'Fernanda'],\n",
        "]\n",
        "\n",
        "nomes = [s[2] for s in mat if (s[0]=='supervisor')]\n",
        "print(nomes)"
      ]
    },
    {
      "cell_type": "markdown",
      "metadata": {
        "id": "qNf3LdUGNy-7"
      },
      "source": [
        "### Exercício 2)\n",
        "Ainda utilizando a lista `mat` do exercício anterior e comprehension, crie um dicionário chamado `dc` onde cada elemento é da forma `nome:(cargo, formacao)`, ou seja, as chaves são os _nomes_ e os valores uma tupla com o par (_cargo_, _nível de formação_). A forma correta de implentar a solução é:\n",
        "\n",
        "a) dc = {s[2]:(s[0],s[1]) for s in mat}<br>\n",
        "b) dc = [s[2]:(s[0],s[1]) for s in mat]<br>\n",
        "c) dc = {s:(s[0],s[1]) for s in mat}<br>\n",
        "d) dc = {s[2]:[s[0],s[1]] for s in mat}"
      ]
    },
    {
      "cell_type": "code",
      "execution_count": 59,
      "metadata": {
        "id": "kMvAVc18Ny-9"
      },
      "outputs": [
        {
          "name": "stdout",
          "output_type": "stream",
          "text": [
            "{'Carlos': ('supervisor', 'tecnico'), 'Lucas': ('assistente', 'tecnico'), 'Jessica': ('iniciante', 'doutor'), 'Alberto': ('supervisor', 'mestre'), 'Ricardo': ('gerente', 'graduado'), 'Fernando': ('engenheiro', 'graduado'), 'Jose': ('gerente', 'mestre'), 'Joao': ('iniciante', 'graduado'), 'Fernanda': ('supervisor', 'graduado')}\n"
          ]
        }
      ],
      "source": [
        "# Solucao\n",
        "dc = {s[2]:(s[0],s[1]) for s in mat}\n",
        "print(dc)"
      ]
    },
    {
      "cell_type": "markdown",
      "metadata": {
        "id": "xlNmh7NuNy--"
      },
      "source": [
        "### Exercício 3) \n",
        "A função `comprimento` descrita abaixo \n",
        "```python\n",
        "def comprimento(lst):\n",
        "    dc = {______________}\n",
        "    return(dc)\n",
        "```\n",
        "recebe como atributo uma lista onde cada elemento é uma 'string' e gera um dicionário como resposta, onde as chaves do dicionário são as strings da lista e o valor associado a cada chave o número de caracteres da string chave desconsiderando espaços em brando. Por exemplo:\n",
        "```python\n",
        "print(comprimento(['casa minha','tua casa','nossa que bom'])\n",
        "```\n",
        "deve resultar em:\n",
        "```python\n",
        "{'casa minha': 9, 'tua casa': 7, 'nossa que bom': 11}\n",
        "```\n",
        "\n",
        "Qual das alternativas abaixo completa corretamente a função?\n",
        "\n",
        "a) {s[i]:s[i].count(!=' ') for i in range(len(lst))}<br>\n",
        "b) {s:i for s in lst and i == len(s)}<br>\n",
        "c) {s:len(s)-s.count(' ') for s in lst}<br>\n",
        "d) {s[i]:len(s[i])-s[i].count(' ') for s in lst} "
      ]
    },
    {
      "cell_type": "code",
      "execution_count": 60,
      "metadata": {
        "id": "QFfqmQAWNy-_"
      },
      "outputs": [
        {
          "name": "stdout",
          "output_type": "stream",
          "text": [
            "{'casa minha': 9, 'tua casa': 7, 'nossa que bom': 11}\n"
          ]
        }
      ],
      "source": [
        "def comprimento(lst):\n",
        "    dc = {s:len(s)-s.count(' ') for s in lst}#solucao aqui\n",
        "    return(dc)\n",
        "\n",
        "print(comprimento(['casa minha','tua casa','nossa que bom'])) "
      ]
    },
    {
      "cell_type": "markdown",
      "metadata": {
        "id": "2C36zssaNy_B"
      },
      "source": [
        "### Exercício 4) \n",
        "O método <font color='blue'>sorted</font> assume como atributos uma sequência e um parâmetro `key` que pode ser uma função, a qual é aplicada aos elementos da sequência a fim de ordená-los de acordo com os valores resultantes da função (veja lista de exercícios da aula).\n",
        "\n",
        "Utilize uma função <font color='blue'>lambda</font> como parâmetro `key` no método <font color='blue'>sorted</font> para ordenar uma lista cujos elementos são numéricos, de modo que cada elemento seja ordenado como se tivesse o valor $x^2+x$, onde $x$ corresponde a cada elemento da lista.\n",
        "\n",
        "O resultado da ordenação quando aplicada à lista \n",
        "```python\n",
        "[0.11, -0.11, 0.4, 0.11, -0.57, -0.05, 0.85, -0.27, -0.07, -0.78]\n",
        "```\n",
        "será:\n",
        "\n",
        "a) [-0.78, -0.57, -0.27, -0.11, -0.07, -0.05, 0.11, 0.11, 0.4, 0.85]<br>\n",
        "b) [0.11, 0.11, -0.27, -0.78, -0.11, -0.07, -0.05,  -0.57, 0.4, 0.85]<br>\n",
        "c) [-0.57, -0.27, -0.78, -0.11, -0.07, -0.05, 0.11, 0.11, 0.4, 0.85]<br>\n",
        "d) [-0.05, 0.11, -0.07, -0.11, 0.11, -0.27, 0.4, -0.57, -0.78, 0.85]"
      ]
    },
    {
      "cell_type": "code",
      "execution_count": 61,
      "metadata": {
        "id": "7F-kuDkuNy_C"
      },
      "outputs": [
        {
          "name": "stdout",
          "output_type": "stream",
          "text": [
            "[-0.57, -0.27, -0.78, -0.11, -0.07, -0.05, 0.11, 0.11, 0.4, 0.85]\n"
          ]
        }
      ],
      "source": [
        "l = [0.11, -0.11, 0.4, 0.11, -0.57, -0.05, 0.85, -0.27, -0.07, -0.78]\n",
        "print(sorted(l, key=lambda x: x**2+x))\n",
        "\n"
      ]
    },
    {
      "cell_type": "markdown",
      "metadata": {
        "id": "S2H0JLg1Ny_E"
      },
      "source": [
        "### Exercício 5) \n",
        "Construa uma função `concatena_dicionarios` que recebe dois dicionários como atributos e concatena ambos em um único dicionário contendo as chaves e valores dos dois dicionários. Se a chave se repete em ambos, junte os valores em uma lista. Por exemplo, dados os dicionários:\n",
        "```python\n",
        "dc1 = {1: '5479', 5: '1479', 7: '1549', 9: '1547'}\n",
        "dc2 = {5: '2647', 2: '9647', 1: '9247'}\n",
        "```\n",
        "a função deve resultar no dicionário\n",
        "```python\n",
        "{1: ['5479', '9247'], 7: '1549', 5: ['1479', '2647'], 9: '1547', 2: '9647'}\n",
        "```\n",
        "Supondo os dicionários:\n",
        "```python\n",
        "dc1 = {4: '10153', 18: '41118', 2: '101515', 15: '354', 7: '4145', 8: '10316', 3: '121016', \n",
        "       11: '15122', 12: '16158', 10: '4188', 14: '15318', 5: '11711', 16: '181412'}\n",
        "\n",
        "dc2 = {19: '16619', 4: '11310', 18: '171112', 11: '171817', 12: '171911', 6: '4195', \n",
        "       5: '171910', 3: '10310', 16: '191916', 10: '111619', 17: '51016'}\n",
        "```\n",
        "como entrada para a função construída, quantas listas são criadas como valores do dicionário, ou seja, quantas chaves se repetem em ambos os dicionários?\n",
        "\n",
        "**Dica:** Você pode utilizar a função <font color='blue'> isinstance </font> do Python que verifica se uma variável é de um determinado tipo. Por exemplo:\n",
        "```python\n",
        "x = 3.7\n",
        "print(isinstance(x,float))\n",
        "```\n",
        "irá imprimir o valor <font color='green'> True </font>. Com a função <font color='blue'> isinstance </font> você pode verificar se o valor do dicionário é uma lista (<font color='green'> list </font>).\n",
        "\n",
        "Outra possibilidade é simplesmente contar quantas chaves aparecem repetidas em ambos os dicionários.\n",
        "\n",
        "a) Número de listas criadas: 5 <br>\n",
        "b) Número de listas criadas: 6<br>\n",
        "c) Número de listas criadas: 7<br>\n",
        "d) Número de listas criadas: 8"
      ]
    },
    {
      "cell_type": "code",
      "execution_count": 98,
      "metadata": {
        "id": "-isO4J3VNy_F"
      },
      "outputs": [
        {
          "data": {
            "text/plain": [
              "8"
            ]
          },
          "execution_count": 98,
          "metadata": {},
          "output_type": "execute_result"
        }
      ],
      "source": [
        "def concatena_dicionarios(d1,d2):\n",
        "    # solucao\n",
        "    x1 = list(d1.items())\n",
        "    x2 = list(d2.items())\n",
        "\n",
        "    dc = {x[0]:[x[1]]+[y[1]]  for x in x1 for y in x2 if x[0] == y[0]}\n",
        "    dr = len(list(dc.values()))\n",
        "    return(dr)\n",
        "\n",
        "dc1 = {4: '10153', 18: '41118', 2: '101515', 15: '354', 7: '4145', 8: '10316', 3: '121016', \n",
        " 11: '15122', 12: '16158', 10: '4188', 14: '15318', 5: '11711', 16: '181412'}\n",
        "dc2 = {19: '16619', 4: '11310', 18: '171112', 11: '171817', 12: '171911', 6: '4195', \n",
        "       5: '171910', 3: '10310', 16: '191916', 10: '111619', 17: '51016'}\n",
        "\n",
        "concatena_dicionarios(dc1,dc2)\n"
      ]
    }
  ],
  "metadata": {
    "colab": {
      "collapsed_sections": [],
      "name": "Python II avaliacao.ipynb",
      "provenance": []
    },
    "kernelspec": {
      "display_name": "Python 3",
      "language": "python",
      "name": "python3"
    },
    "language_info": {
      "codemirror_mode": {
        "name": "ipython",
        "version": 3
      },
      "file_extension": ".py",
      "mimetype": "text/x-python",
      "name": "python",
      "nbconvert_exporter": "python",
      "pygments_lexer": "ipython3",
      "version": "3.9.7"
    }
  },
  "nbformat": 4,
  "nbformat_minor": 0
}
