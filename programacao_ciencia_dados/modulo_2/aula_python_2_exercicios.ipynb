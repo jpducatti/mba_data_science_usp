{
 "cells": [
  {
   "cell_type": "markdown",
   "metadata": {
    "id": "YRuQfjG7jPDg"
   },
   "source": [
    "# <span style=\"color:blue\"> MBA em Ciência de Dados</span>\n",
    "# <span style=\"color:blue\">Programação para Ciência de Dados</span>\n",
    "\n",
    "## <span style=\"color:blue\">Exercícios Python Parte II</span>\n",
    "**Material Produzido por Luis Gustavo Nonato**<br>\n",
    "**Cemeai - ICMC/USP São Carlos**"
   ]
  },
  {
   "cell_type": "markdown",
   "metadata": {
    "id": "Pdh0qGE0jPDl"
   },
   "source": [
    "#### <span style=\"color:red\">Recomenda-se fortemente que os exercícios sejam feitos sem consultar as respostas antecipadamente.</span>"
   ]
  },
  {
   "cell_type": "markdown",
   "metadata": {
    "id": "6bULgIjJjPDm"
   },
   "source": [
    "### Exercício 1)"
   ]
  },
  {
   "cell_type": "markdown",
   "metadata": {
    "id": "BFbk3dhsjPDm"
   },
   "source": [
    "**1.1** No código abaixo, explique por que o valor da variável `y` não é o mesmo que o valor de `x` após a operação `x = x+1`."
   ]
  },
  {
   "cell_type": "code",
   "execution_count": 11,
   "metadata": {
    "id": "1vKxIn2DjPDm"
   },
   "outputs": [
    {
     "name": "stdout",
     "output_type": "stream",
     "text": [
      "X e Y com mesmo endereço de memória:\n",
      "X =  3 Endereço de memória X =  140307589032304 ||| Y =  3 Endereço de memória y =  140307589032304\n",
      "\n",
      "X com novo endereço de memória e y com o original\n",
      "X =  4 Endereço de memória X =  140307589032336 ||| Y =  3 Endereço de memória y =  140307589032304\n"
     ]
    }
   ],
   "source": [
    "x = 3\n",
    "y = x\n",
    "print('X e Y com mesmo endereço de memória:')\n",
    "print('X = ', x, 'Endereço de memória X = ',id(x),'|||', 'Y = ', y, 'Endereço de memória y = ',id(y))\n",
    "\n",
    "x = x+1\n",
    "print('\\nX com novo endereço de memória e y com o original')\n",
    "print('X = ', x, 'Endereço de memória X = ',id(x),'|||', 'Y = ', y, 'Endereço de memória y = ',id(y))"
   ]
  },
  {
   "cell_type": "markdown",
   "metadata": {
    "id": "9hbR9r2FjPDn"
   },
   "source": [
    "**Resposta:** Não será o mesmo valor, por que o novo x, após a operação x+1, cria um novo endereço de memória para o x e o y está referenciando o endereço de memória do x original. Checar o print dos endereços para confirmar"
   ]
  },
  {
   "cell_type": "code",
   "execution_count": 12,
   "metadata": {
    "id": "vAw_Nry2jPDn"
   },
   "outputs": [
    {
     "name": "stdout",
     "output_type": "stream",
     "text": [
      "140307589032336\n",
      "140307589032304\n"
     ]
    }
   ],
   "source": [
    "print(id(x))\n",
    "print(id(y))"
   ]
  },
  {
   "cell_type": "markdown",
   "metadata": {
    "id": "dr-Sea_zjPDn"
   },
   "source": [
    "**1.2** No código abaixo, explique por que o conteúdo da variável `y` também é afetado quando um novo elemento é adicionado à lista referenciada por `x`."
   ]
  },
  {
   "cell_type": "code",
   "execution_count": 15,
   "metadata": {
    "id": "95ABvrG2jPDn"
   },
   "outputs": [
    {
     "name": "stdout",
     "output_type": "stream",
     "text": [
      "X =  [3] Endereço de memória X =  140307061104128 ||| Y =  [3] Endereço de memória y =  140307061104128\n",
      "X =  [3, 1] Endereço de memória X =  140307061104128 ||| Y =  [3, 1] Endereço de memória y =  140307061104128\n"
     ]
    }
   ],
   "source": [
    "x = [3]\n",
    "y = x\n",
    "print('X = ', x, 'Endereço de memória X = ',id(x),'|||', 'Y = ', y, 'Endereço de memória y = ',id(y))\n",
    "x.append(1)\n",
    "print('X = ', x, 'Endereço de memória X = ',id(x),'|||', 'Y = ', y, 'Endereço de memória y = ',id(y))"
   ]
  },
  {
   "cell_type": "markdown",
   "metadata": {
    "id": "YihrK6m8jPDo"
   },
   "source": [
    "**Resposta:** O conteúdo de Y é afetado por que ao o X, agora como lista, é alterado usando OPERADORES EXCLUSIVOS DE LISTA que não criam outra lista (não modifica o endereço de memória). Como Y referencia a memória de X, se mudo X, muda Y indiretamente"
   ]
  },
  {
   "cell_type": "markdown",
   "metadata": {
    "id": "KxqASTBujPDo"
   },
   "source": [
    "**1.3** No código abaixo, explique por que o conteúdo da variável `y` NÃO afetado após a operação `x = x+[1]`."
   ]
  },
  {
   "cell_type": "code",
   "execution_count": 17,
   "metadata": {
    "id": "etpIR6QzjPDo"
   },
   "outputs": [
    {
     "name": "stdout",
     "output_type": "stream",
     "text": [
      "X =  [3] Endereço de memória X =  140307600244096 ||| Y =  [3] Endereço de memória y =  140307600244096\n",
      "X =  [3, 1] Endereço de memória X =  140307601009216 ||| Y =  [3] Endereço de memória y =  140307600244096\n"
     ]
    }
   ],
   "source": [
    "x = [3]\n",
    "y = x\n",
    "print('X = ', x, 'Endereço de memória X = ',id(x),'|||', 'Y = ', y, 'Endereço de memória y = ',id(y))\n",
    "x = x+[1]\n",
    "print('X = ', x, 'Endereço de memória X = ',id(x),'|||', 'Y = ', y, 'Endereço de memória y = ',id(y))"
   ]
  },
  {
   "cell_type": "markdown",
   "metadata": {
    "id": "4APTG6kujPDo"
   },
   "source": [
    "**Resposta:** O x, após a operação envolvendo (+), altera o seu endereço de memória. O Y continua referenciando o endereço de memória antigo do X e, portanto, não tem o seu valor alterado"
   ]
  },
  {
   "cell_type": "markdown",
   "metadata": {
    "id": "DLXnfiUnjPDo"
   },
   "source": [
    "### Exercício 2)\n",
    "Considere a lista `pessoas` abaixo. Escreva um códico para remover todos os nomes da lista que começam com as letras 'A' e 'M', inserindo estes nomes em uma nova lista chamada `pessoasAM`. "
   ]
  },
  {
   "cell_type": "code",
   "execution_count": 78,
   "metadata": {
    "id": "yA69aRl-jPDp"
   },
   "outputs": [
    {
     "name": "stdout",
     "output_type": "stream",
     "text": [
      "Nova lista =  ['Miguel', 'Alice', 'Arthur', 'Manuela']\n",
      "Lista Original modificada =  ['Sophia', 'Davi', 'Julia', 'Pedro', 'Isabella', 'Gabriel', 'Laura']\n"
     ]
    }
   ],
   "source": [
    "pessoas = ['Miguel','Sophia','Davi','Alice','Arthur','Julia','Pedro','Isabella','Gabriel',\n",
    "           'Manuela','Laura']\n",
    "\n",
    "# Escreva o código aqui\n",
    "pessoasAM = [x for x in pessoas if(x[0] == 'A' or x[0] == 'M')]\n",
    "print('Nova lista = ',pessoasAM)\n",
    "\n",
    "pessoas = [x for x in pessoas if(x[0] != 'A' and x[0] != 'M')]\n",
    "print('Lista Original modificada = ', pessoas)"
   ]
  },
  {
   "cell_type": "markdown",
   "metadata": {
    "id": "XhBHJYm3jPDp"
   },
   "source": [
    "### Exercício 3) \n",
    "Crie um dicionário cujas chaves são as strings da lista `pessoas` definida no exercício anterior, sendo o comprimento da string correspondentes o valor associado a chave. Utilize comprehension para criar o dicionário. Por exemplo:\n",
    "```python\n",
    "{'Miguel': 6, 'Sophia': 6, 'Davi': 4,...}\n",
    "```"
   ]
  },
  {
   "cell_type": "code",
   "execution_count": 79,
   "metadata": {
    "id": "up0uKilYjPDp"
   },
   "outputs": [
    {
     "name": "stdout",
     "output_type": "stream",
     "text": [
      "{'Miguel': 6, 'Sophia': 6, 'Davi': 4, 'Alice': 5, 'Arthur': 6, 'Julia': 5, 'Pedro': 5, 'Isabella': 8, 'Gabriel': 7, 'Manuela': 7, 'Laura': 5}\n"
     ]
    }
   ],
   "source": [
    "pessoas = ['Miguel','Sophia','Davi','Alice','Arthur','Julia','Pedro','Isabella','Gabriel','Manuela','Laura']\n",
    "\n",
    "# Escreva o código aqui\n",
    "dict = {x:len(x) for x in pessoas }\n",
    "print(dict)"
   ]
  },
  {
   "cell_type": "markdown",
   "metadata": {
    "id": "nSeVwbvojPDp"
   },
   "source": [
    "### Exercício 4) \n",
    "Considere a lista `pessoas` abaixo. Modifique os elementos da lista fazendo que com que o último caracter de cada elemento fique maiúsculo caso tal caractere seja uma vogal. Utilize o método <font color='blue'>'.upper'</font> de objetos string para converter um caracter em maiúsculo. Por exemplo, o método <font color='blue'>'.upper'</font> no código abaixo:\n",
    "```python\n",
    "x = 'abc'.upper()\n",
    "print(x)\n",
    "```\n",
    "resulta em `ABC`. Você não deve utilizar um laço <font color='blue'>'for'</font>, apenas comprehension."
   ]
  },
  {
   "cell_type": "code",
   "execution_count": 85,
   "metadata": {
    "id": "aZkQbcMDjPDp"
   },
   "outputs": [
    {
     "name": "stdout",
     "output_type": "stream",
     "text": [
      "['Miguel', 'SophiA', 'DavI', 'AlicE', 'Arthur', 'JuliA', 'PedrO', 'IsabellA', 'Gabriel', 'ManuelA', 'LaurA']\n"
     ]
    }
   ],
   "source": [
    "pessoas = ['Miguel','Sophia','Davi','Alice','Arthur','Julia','Pedro','Isabella','Gabriel','Manuela','Laura']\n",
    "\n",
    "# Escreva o código aqui\n",
    "\n",
    "pessoas_upper= [x[:-1] + x[-1].upper() if (x[-1] in 'aeiou') else x for x in pessoas]\n",
    "print(pessoas_upper)\n"
   ]
  },
  {
   "cell_type": "markdown",
   "metadata": {
    "id": "uStoN3C3jPDp"
   },
   "source": [
    "### Exercício 5)\n",
    "Escreva uma função chamda `div3e5` que recebe como parâmetro um número. Se o número for divisível por 3 a função retorna `div3`, se for divisível por 5 retorna `div5`, se for divisível por 3 e 5 retorna `div3div5`, senão retorna o próprio número. Aplique a função na lista `teste` abaixo e utilize comprehension para gerar uma nova lista com os resultados correspondentes. Por exemplo, dada a lista:\n",
    "```python\n",
    "[30, 21, 21, 49, 39, 49, 19,  5, 17,  4]\n",
    "```\n",
    "o código deve produzir\n",
    "```python\n",
    "['div3div5', 'div3', 'div3', 49, 'div3', 49, 19, 'div5', 17, 4]\n",
    "```"
   ]
  },
  {
   "cell_type": "code",
   "execution_count": 105,
   "metadata": {
    "id": "77I618NZjPDq"
   },
   "outputs": [
    {
     "name": "stdout",
     "output_type": "stream",
     "text": [
      "[4, 7, 33, 20, 30, 34, 15, 3, 17, 39, 21, 26, 32, 10, 34, 42, 41, 18, 7, 36]\n",
      "[4, 7, 'div3', 'div5', 'div3div5', 34, 'div3div5', 'div3', 17, 'div3', 'div3', 26, 32, 'div5', 34, 'div3', 41, 'div3', 7, 'div3']\n"
     ]
    }
   ],
   "source": [
    "teste = [4, 7, 33, 20, 30, 34, 15, 3, 17, 39, 21, 26, 32, 10, 34, 42, 41, 18, 7, 36]\n",
    "\n",
    "def div3e5(x):\n",
    "    # Escreva o código aqui\n",
    "    s = ''\n",
    "    if x%3 == 0:\n",
    "        s = 'div3'\n",
    "    if x%5 == 0:\n",
    "        s = s+'div5'\n",
    "    if s == '':\n",
    "        s = x\n",
    "    return(s)\n",
    "\n",
    "resultado = [div3e5(x) for x in teste]\n",
    "print(teste)\n",
    "print(resultado)\n"
   ]
  },
  {
   "cell_type": "markdown",
   "metadata": {
    "id": "ynf1pLUdjPDq"
   },
   "source": [
    "### Exercício 6) \n",
    "Considere a lista `numeros` abaixo que contém números inteiros entre 0 e 5. Escreva uma função chamda `ocorrencias` que recebe a lista `numeros` como parâmetro e retorna um dicionário onde as chaves são números de 0 a 5 e os valores associados correspondem ao número de vezes que a chave aparece na lista. Por exemplo, o código abaixo:\n",
    "```python\n",
    "numeros = [2, 1, 1, 2, 0, 2, 0, 1, 4, 1]\n",
    "print(ocorrencias(numeros))\n",
    "```\n",
    "deve gerar o seguinte resultado:\n",
    "```python\n",
    "{0: 2, 1: 4, 2: 3, 3: 0, 4: 1, 5: 0}\n",
    "```\n",
    "Tente não utilizar um laço <font color='blue'>'for'</font>, mas sim comprehension para dicionários."
   ]
  },
  {
   "cell_type": "code",
   "execution_count": 108,
   "metadata": {
    "id": "4bIm9xi0jPDq"
   },
   "outputs": [
    {
     "name": "stdout",
     "output_type": "stream",
     "text": [
      "{0: 7, 1: 3, 2: 2, 3: 2, 4: 4, 5: 2}\n"
     ]
    }
   ],
   "source": [
    "numeros = [1, 5, 1, 4, 3, 2, 4, 0, 0, 0, 3, 0, 2, 1, 0, 0, 4, 0, 5, 4]\n",
    "\n",
    "def ocorrencias(l):\n",
    "    # Escreva o código aqui\n",
    "    dict = {x:l.count(x) for x in range(6)}\n",
    "    return(dict)\n",
    "\n",
    "print(ocorrencias(numeros))"
   ]
  },
  {
   "cell_type": "markdown",
   "metadata": {
    "id": "3YhUAQCYjPDq"
   },
   "source": [
    "### Exercício 7) \n",
    "Escreva uma função `retorna_maiuscula` que recebe um caractere como parâmetro e retorna o caracter em maiúsculo caso ele seja uma vogal. Utilize a função `retorna_maiuscula` para converter todas as vogais de uma string em maiúsculas.\n",
    "Por exemplo: \n",
    "```python\n",
    "'string para testar a funcao'\n",
    "```\n",
    "deve ser transformada em:\n",
    "```python\n",
    "'strIng pArA tEstAr A fUncAO'\n",
    "```\n",
    "Não utilize um laço <font color='blue'>'for'</font> em seu código.\n",
    "\n",
    "__Dica:__ Armazene os resultados da função `retorna_maiuscula` em uma lista e utilize a função <font color='blue'>.join</font> para converter a lista em uma string."
   ]
  },
  {
   "cell_type": "code",
   "execution_count": 130,
   "metadata": {
    "id": "kbQ78-FBjPDq"
   },
   "outputs": [
    {
     "name": "stdout",
     "output_type": "stream",
     "text": [
      "String Original =  string para testar a funcao\n",
      "Nova String =  strIng pArA tEstAr A fUncAO\n"
     ]
    }
   ],
   "source": [
    "string = 'string para testar a funcao'\n",
    "\n",
    "def retorna_maiuscula(s):\n",
    "     # Escreva o código aqui\n",
    "    if (s in 'aeiou'):\n",
    "        s = s.upper()\n",
    "        return(s)\n",
    "    else: return(s)\n",
    "\n",
    "lista_upper = [retorna_maiuscula(x) for x in string]\n",
    "string_upper = ''.join(lista_upper)\n",
    "\n",
    "print('String Original = ', string)\n",
    "print('Nova String = ',string_upper)\n",
    "       \n"
   ]
  },
  {
   "cell_type": "markdown",
   "metadata": {
    "id": "-xZENba5jPDr"
   },
   "source": [
    "### Exercício 8)\n",
    "Repita o exercício 7) utilizando a função <font color='blue'>'lambda'</font> ao invés de uma função declarada pelo comando <font color='blue'>'def'</font>."
   ]
  },
  {
   "cell_type": "code",
   "execution_count": 138,
   "metadata": {
    "id": "mJzu7XZ9jPDr"
   },
   "outputs": [
    {
     "name": "stdout",
     "output_type": "stream",
     "text": [
      "String Original =  string para testar a funcao\n",
      "Nova String =  strIng pArA tEstAr A fUncAO\n"
     ]
    }
   ],
   "source": [
    " # Escreva o código aqui\n",
    "string = 'string para testar a funcao'\n",
    "\n",
    "s = lambda s: s.upper() if s in 'aeiou' else s\n",
    "\n",
    "lista_upper = [retorna_maiuscula(x) for x in string]\n",
    "string_upper = ''.join(lista_upper)\n",
    "\n",
    "print('String Original = ', string)\n",
    "print('Nova String = ',string_upper)"
   ]
  },
  {
   "cell_type": "markdown",
   "metadata": {
    "id": "j8usO24FjPDr"
   },
   "source": [
    "### Exercício 9)\n",
    "Escreva uma função `intersecao` que recebe duas listas como parâmetros e retorna uma outra lista contendo apenas os elementos que aparencem em ambas, sem repetição de elementos.\n",
    "Por exemplo, o código abaixo:\n",
    "```python\n",
    "s1 = ['a', 'f', 'o', 'i', 'n', 'f', 'g', 'a', 'o', 'i']\n",
    "s2 = ['l', 'k', 'j', 'f', 'a', 'j', 'i']\n",
    "print(intersecao(s1,s2))\n",
    "```\n",
    "deve resultar em \n",
    "```python\n",
    "['a', 'f', 'i']\n",
    "```\n",
    "__Dica:__ Utilize dicionário para encontrar os elementos únicos em cada lista. Você também pode converter a lista para uma váriavel tipo conjunto utilizando o comando <font color='blue'>set</font> disponível no python. Conjuntos não possuem elementos repetidos."
   ]
  },
  {
   "cell_type": "code",
   "execution_count": 164,
   "metadata": {
    "id": "jM_fTiSNjPDr"
   },
   "outputs": [
    {
     "name": "stdout",
     "output_type": "stream",
     "text": [
      "['a', 'f', 'i']\n"
     ]
    }
   ],
   "source": [
    "s1 = ['a', 'f', 'o', 'i', 'n', 'f', 'g', 'a', 'o', 'i']\n",
    "s2 = ['l', 'k', 'j', 'f', 'a', 'j', 'i']\n",
    "\n",
    "def intersecao(l1,l2):\n",
    "    # Escreva o código aqui\n",
    "    dict = {x:x  for x in l1 for y in l2 if(x == y)}\n",
    "    lista = list(dict.values())\n",
    "    return(lista)\n",
    "\n",
    "print(intersecao(s1,s2))"
   ]
  },
  {
   "cell_type": "markdown",
   "metadata": {
    "id": "qdRPcylZjPDr"
   },
   "source": [
    "### Exercício 10)\n",
    "As funções <font color='blue'>lambda</font>, também chamada de _funções anônimas_, são muito utilizadas quando se invoca um método (ou função) que aceita outra função como parâmetro. Por exemplo, a função <font color='blue'>sorted</font> aceita uma função com parâmetro, a qual é aplicada aos elementos da lista antes que a ordenação seja feita. Por exemplo:\n",
    "```python\n",
    "numeros = [0.11, -0.11, 0.4, 0.11, -0.57, -0.05, 0.85, -0.27, -0.07, -0.78]\n",
    "print(sorted(numeros,key=lambda x:x**2))\n",
    "```\n",
    "resulta nos elementos ordenados, mas como se eles estivessem elevados ao quadrado, ou seja, o resultado é:\n",
    "```python\n",
    "[-0.05, -0.07, 0.11, -0.11, 0.11, -0.27, 0.4, -0.57, -0.78, 0.85]\n",
    "```\n",
    "pois quando elevados ao quadrado e ordenados, os elementos da lista `numeros` resultam em:\n",
    "```python\n",
    "[0.0025, 0.0049, 0.0121, 0.0121, 0.0121, 0.0729, 0.1600, 0.3248, 0.6084, 0.7224]\n",
    "```\n",
    "\n",
    "Utilize a função <font color='blue'>lambda</font> combinada com o método <font color='blue'>sorted</font> para colocar todos os números múltiplos de 3 na parte esquerda de uma lista, ficando os demais números a direita. Por exemplo, a lista:\n",
    "```python\n",
    "[17, 46, 21, 16, 44, 1, 6, 5, 27, 24]\n",
    "```\n",
    "deve ficar organizada como:\n",
    "```python\n",
    "[21, 6, 27, 24, 17, 46, 16, 44, 1, 5]\n",
    "```\n",
    "onde `21, 6, 27, 24` ficam a esquerda, pois são múltipos de 3, equanto \n",
    "`17, 46, 16, 44, 1, 5` ficam a direita pois não são múltiplos de 3.\n",
    "\n",
    "Como teste para seu código, utilize a lista\n",
    "```python\n",
    "[2, 17, 12, 35, 39, 35, 4, 44, 12, 20, 7, 1, 21, 45, 43, 26, 6, 13, 48, 42]\n",
    "```\n",
    "que deve ficar organizada da seguinte forma:\n",
    "```python\n",
    "[12, 39, 12, 21, 45, 6, 48, 42, 2, 17, 35, 35, 4, 44, 20, 7, 1, 43, 26, 13]\n",
    "```"
   ]
  },
  {
   "cell_type": "code",
   "execution_count": 186,
   "metadata": {
    "id": "DyGB9wuQjPDs"
   },
   "outputs": [
    {
     "name": "stdout",
     "output_type": "stream",
     "text": [
      "[12, 39, 12, 21, 45, 6, 48, 42, 2, 17, 35, 35, 4, 44, 20, 7, 1, 43, 26, 13]\n"
     ]
    }
   ],
   "source": [
    "n = [2, 17, 12, 35, 39, 35, 4, 44, 12, 20, 7, 1, 21, 45, 43, 26, 6, 13, 48, 42]\n",
    "\n",
    "# Escreva o código aqui\n",
    "print(sorted(n, key=lambda x:0 if x%3 == 0 else 1))\n",
    "\n"
   ]
  },
  {
   "cell_type": "code",
   "execution_count": 179,
   "metadata": {},
   "outputs": [
    {
     "name": "stdout",
     "output_type": "stream",
     "text": [
      "[-0.05, -0.07, 0.11, -0.11, 0.11, -0.27, 0.4, -0.57, -0.78, 0.85]\n"
     ]
    }
   ],
   "source": [
    "numeros = [0.11, -0.11, 0.4, 0.11, -0.57, -0.05, 0.85, -0.27, -0.07, -0.78]\n",
    "print(sorted(numeros,key=lambda x:x**2))\n"
   ]
  }
 ],
 "metadata": {
  "colab": {
   "collapsed_sections": [],
   "name": "Python II exercicios.ipynb",
   "provenance": []
  },
  "kernelspec": {
   "display_name": "Python 3",
   "language": "python",
   "name": "python3"
  },
  "language_info": {
   "codemirror_mode": {
    "name": "ipython",
    "version": 3
   },
   "file_extension": ".py",
   "mimetype": "text/x-python",
   "name": "python",
   "nbconvert_exporter": "python",
   "pygments_lexer": "ipython3",
   "version": "3.9.7"
  }
 },
 "nbformat": 4,
 "nbformat_minor": 1
}
